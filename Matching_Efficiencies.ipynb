{
 "metadata": {
  "name": ""
 },
 "nbformat": 3,
 "nbformat_minor": 0,
 "worksheets": [
  {
   "cells": [
    {
     "cell_type": "code",
     "collapsed": false,
     "input": [
      "from Generic import *\n",
      "%matplotlib inline"
     ],
     "language": "python",
     "metadata": {},
     "outputs": [],
     "prompt_number": 1
    },
    {
     "cell_type": "code",
     "collapsed": false,
     "input": [
      "Version=\"/home/jruizalv/V1_MC_Matched/\"\n",
      "\n",
      "Signal = [\"TpJetM600_5318_Full_analyzed.root\",\n",
      "         \"TpJetM650_5318_Full_analyzed.root\",\n",
      "         \"TpJetM700_5318_Full_analyzed.root\",\n",
      "         \"TpJetM750_5318_Full_analyzed.root\",\n",
      "         \"TpJetM800_5318_Full_analyzed.root\",\n",
      "         \"TpJetM850_5318_Full_analyzed.root\",\n",
      "         \"TpJetM900_5318_Full_analyzed.root\",\n",
      "         \"TpJetM950_5318_Full_analyzed.root\",\n",
      "         \"TpJetM1000_5318_Full_analyzed.root\"]\n",
      "\n",
      "TreeStructure=\"Correct_Tprime:Correct_Higgs:Correct_W:Correct_Top\"\n",
      "ListTreesNamesA=[\"S600ntupleA\",\"S650ntupleA\",\"S700ntupleA\",\"S750ntupleA\",\"S800ntupleA\",\"S850ntupleA\",\"S900ntupleA\",\"S950ntupleA\",\"S1000ntupleA\"]\n",
      "AllSamples=[]\n",
      "TotalEntries=[]\n",
      "Corrects=[] #Tp,H,W,t\n",
      "\n",
      "for f in Signal:\n",
      "    CutsChain=ROOT.TChain(\"stp\")\n",
      "    CutsChain.Add(Version+f)\n",
      "    entries = CutsChain.GetEntries()\n",
      "    TotalEntries.append(entries)\n",
      "    if files.index(f)>=0 and files.index(f)<=NsignalFiles-1: print \"Filling signal...\"\n",
      "    elif files.index(f)>0: print \"Filling bkgs...\"\n",
      "    print \"Entries for file \", f, \" are: \", entries\n",
      "    TempTree= ROOT.TNtuple(ListTreesNamesA[files.index(f)],ListTreesNamesA[files.index(f)],TreeStructure)\n",
      "    CTp=0; CH=0; CW=0; Ct=0\n",
      "    for i in xrange(entries):\n",
      "        CutsChain.GetEntry(i)\n",
      "        CTp+=CutsChain.Correct_Tprime\n",
      "        CH+=CutsChain.Correct_Higgs\n",
      "        CW+=CutsChain.Correct_W\n",
      "        Ct+=CutsChain.Correct_Top\n",
      "        ListOfVariables = [CutsChain.Correct_Tprime,\n",
      "                           CutsChain.Correct_Higgs,\n",
      "                           CutsChain.Correct_W,\n",
      "                           CutsChain.Correct_Top]\n",
      "        TempTree.Fill(array('f',ListOfVariables))\n",
      "        AllSamples.append(TempTree)\n",
      "    Corrects.append([CTp,CH,CW,Ct])"
     ],
     "language": "python",
     "metadata": {},
     "outputs": [
      {
       "output_type": "stream",
       "stream": "stdout",
       "text": [
        "Filling signal...\n",
        "Entries for file  TpJetM600_5318_Full_analyzed.root  are:  2004\n",
        "Filling signal..."
       ]
      },
      {
       "output_type": "stream",
       "stream": "stdout",
       "text": [
        "\n",
        "Entries for file  TpJetM650_5318_Full_analyzed.root  are:  2680\n",
        "Filling signal..."
       ]
      },
      {
       "output_type": "stream",
       "stream": "stdout",
       "text": [
        "\n",
        "Entries for file  TpJetM700_5318_Full_analyzed.root  are:  3240\n",
        "Filling signal..."
       ]
      },
      {
       "output_type": "stream",
       "stream": "stdout",
       "text": [
        "\n",
        "Entries for file  TpJetM750_5318_Full_analyzed.root  are:  3454\n",
        "Filling signal..."
       ]
      },
      {
       "output_type": "stream",
       "stream": "stdout",
       "text": [
        "\n",
        "Entries for file  TpJetM800_5318_Full_analyzed.root  are:  3510\n",
        "Filling signal..."
       ]
      },
      {
       "output_type": "stream",
       "stream": "stdout",
       "text": [
        "\n",
        "Entries for file  TpJetM850_5318_Full_analyzed.root  are:  3539\n",
        "Filling signal..."
       ]
      },
      {
       "output_type": "stream",
       "stream": "stdout",
       "text": [
        "\n",
        "Entries for file  TpJetM900_5318_Full_analyzed.root  are:  3421\n",
        "Filling signal..."
       ]
      },
      {
       "output_type": "stream",
       "stream": "stdout",
       "text": [
        "\n",
        "Entries for file  TpJetM950_5318_Full_analyzed.root  are:  3029\n",
        "Filling signal..."
       ]
      },
      {
       "output_type": "stream",
       "stream": "stdout",
       "text": [
        "\n",
        "Entries for file  TpJetM1000_5318_Full_analyzed.root  are:  2769\n"
       ]
      }
     ],
     "prompt_number": 2
    },
    {
     "cell_type": "code",
     "collapsed": false,
     "input": [
      "Resonances=[\"Tprime\",\"Higgs\",\"W\",\"top\"]\n",
      "\n",
      "ExclEff=[]\n",
      "\n",
      "print \"Matching exclusive (with only matchable jets) efficiencies right after reconstruction, no HT cut\"\n",
      "print \"--------------------------------------\"\n",
      "for i in xrange(len(TotalEntries)):\n",
      "    print \"For\", ListTreesNamesA[i].split('n')[0]\n",
      "    for j in xrange(len(Corrects[i])):\n",
      "        print Resonances[j]+\":\", \"{0:.2f}\".format(float(Corrects[i][j])/TotalEntries[i])\n",
      "        ExclEff.append(float(Corrects[i][j])/TotalEntries[i])\n",
      "    print \"--------------------------------------\""
     ],
     "language": "python",
     "metadata": {},
     "outputs": [
      {
       "output_type": "stream",
       "stream": "stdout",
       "text": [
        "Matching exclusive (with only matchable jets) efficiencies right after reconstruction, no HT cut\n",
        "--------------------------------------\n",
        "For S600\n",
        "Tprime: 0.70\n",
        "Higgs: 0.81\n",
        "W: 0.67\n",
        "top: 0.77\n",
        "--------------------------------------\n",
        "For S650\n",
        "Tprime: 0.72\n",
        "Higgs: 0.83\n",
        "W: 0.69\n",
        "top: 0.79\n",
        "--------------------------------------\n",
        "For S700\n",
        "Tprime: 0.74\n",
        "Higgs: 0.84\n",
        "W: 0.69\n",
        "top: 0.79\n",
        "--------------------------------------\n",
        "For S750\n",
        "Tprime: 0.72\n",
        "Higgs: 0.82\n",
        "W: 0.69\n",
        "top: 0.78\n",
        "--------------------------------------\n",
        "For S800\n",
        "Tprime: 0.73\n",
        "Higgs: 0.84\n",
        "W: 0.71\n",
        "top: 0.80\n",
        "--------------------------------------\n",
        "For S850\n",
        "Tprime: 0.74\n",
        "Higgs: 0.84\n",
        "W: 0.69\n",
        "top: 0.79\n",
        "--------------------------------------\n",
        "For S900\n",
        "Tprime: 0.73\n",
        "Higgs: 0.84\n",
        "W: 0.69\n",
        "top: 0.79\n",
        "--------------------------------------\n",
        "For S950\n",
        "Tprime: 0.72\n",
        "Higgs: 0.81\n",
        "W: 0.68\n",
        "top: 0.77\n",
        "--------------------------------------\n",
        "For S1000\n",
        "Tprime: 0.71\n",
        "Higgs: 0.82\n",
        "W: 0.67\n",
        "top: 0.77\n",
        "--------------------------------------\n"
       ]
      }
     ],
     "prompt_number": 19
    },
    {
     "cell_type": "code",
     "collapsed": false,
     "input": [
      "Version=\"/home/jruizalv/V1/\"\n",
      "\n",
      "TotalEntriesIncl=[]\n",
      "\n",
      "for f in Signal:\n",
      "    CutsChain=ROOT.TChain(\"stp\")\n",
      "    CutsChain.Add(Version+f)\n",
      "    entries = CutsChain.GetEntries()\n",
      "    TotalEntriesIncl.append(entries)\n",
      "    if files.index(f)>=0 and files.index(f)<=NsignalFiles-1: print \"Filling signal...\"\n",
      "    elif files.index(f)>0: print \"Filling bkgs...\"\n",
      "    print \"Entries for file \", f, \" are: \", entries\n",
      "    del(CutsChain)\n",
      "\n",
      "InclEff=[]\n",
      "    \n",
      "print \"Matching inclusive efficiencies right after reconstruction, no HT cut\"\n",
      "print \"--------------------------------------\"\n",
      "for i in xrange(len(TotalEntriesIncl)):\n",
      "    print \"For\", ListTreesNamesA[i].split('n')[0]\n",
      "    for j in xrange(len(Corrects[i])):\n",
      "        print Resonances[j]+\":\", \"{0:.2f}\".format(float(Corrects[i][j])/TotalEntriesIncl[i])\n",
      "        InclEff.append(float(Corrects[i][j])/TotalEntriesIncl[i])\n",
      "    print \"--------------------------------------\""
     ],
     "language": "python",
     "metadata": {},
     "outputs": [
      {
       "output_type": "stream",
       "stream": "stdout",
       "text": [
        "Filling signal...\n",
        "Entries for file  TpJetM600_5318_Full_analyzed.root  are:  3644\n",
        "Filling signal...\n",
        "Entries for file  TpJetM650_5318_Full_analyzed.root  are:  4598\n",
        "Filling signal...\n",
        "Entries for file  TpJetM700_5318_Full_analyzed.root  are:  5453\n",
        "Filling signal...\n",
        "Entries for file  TpJetM750_5318_Full_analyzed.root  are:  5918\n",
        "Filling signal...\n",
        "Entries for file  TpJetM800_5318_Full_analyzed.root  are:  5924\n",
        "Filling signal...\n",
        "Entries for file  TpJetM850_5318_Full_analyzed.root  are:  6240\n",
        "Filling signal...\n",
        "Entries for file  TpJetM900_5318_Full_analyzed.root  are:  6152\n",
        "Filling signal...\n",
        "Entries for file  TpJetM950_5318_Full_analyzed.root  are:  5679\n",
        "Filling signal...\n",
        "Entries for file  TpJetM1000_5318_Full_analyzed.root  are:  5379\n",
        "Matching inclusive efficiencies right after reconstruction, no HT cut\n",
        "--------------------------------------\n",
        "For S600\n",
        "Tprime: 0.39\n",
        "Higgs: 0.45\n",
        "W: 0.37\n",
        "top: 0.42\n",
        "--------------------------------------\n",
        "For S650\n",
        "Tprime: 0.42\n",
        "Higgs: 0.48\n",
        "W: 0.40\n",
        "top: 0.46\n",
        "--------------------------------------\n",
        "For S700\n",
        "Tprime: 0.44\n",
        "Higgs: 0.50\n",
        "W: 0.41\n",
        "top: 0.47\n",
        "--------------------------------------\n",
        "For S750\n",
        "Tprime: 0.42\n",
        "Higgs: 0.48\n",
        "W: 0.40\n",
        "top: 0.46\n",
        "--------------------------------------\n",
        "For S800\n",
        "Tprime: 0.43\n",
        "Higgs: 0.50\n",
        "W: 0.42\n",
        "top: 0.47\n",
        "--------------------------------------\n",
        "For S850\n",
        "Tprime: 0.42\n",
        "Higgs: 0.47\n",
        "W: 0.39\n",
        "top: 0.45\n",
        "--------------------------------------\n",
        "For S900\n",
        "Tprime: 0.41\n",
        "Higgs: 0.47\n",
        "W: 0.38\n",
        "top: 0.44\n",
        "--------------------------------------\n",
        "For S950\n",
        "Tprime: 0.39\n",
        "Higgs: 0.43\n",
        "W: 0.36\n",
        "top: 0.41\n",
        "--------------------------------------\n",
        "For S1000\n",
        "Tprime: 0.37\n",
        "Higgs: 0.42\n",
        "W: 0.34\n",
        "top: 0.40\n",
        "--------------------------------------\n"
       ]
      }
     ],
     "prompt_number": 20
    },
    {
     "cell_type": "code",
     "collapsed": false,
     "input": [
      "Titles=[\"T'\",\"Higgs\",\"W\",\"top\"] #ListTreesNamesA[i].split('n')[0]\n",
      "Masses=[600,650,700,750,800,850,900,950,1000]\n",
      "#Exclusive efficiency\n",
      "fig, ax = plt.subplots()\n",
      "ax.plot(Masses, ExclEff[0::4], 'k', markersize=10.0, label=Titles[0], linestyle=\"-\")\n",
      "ax.plot(Masses, ExclEff[1::4], 'g', markersize=10.0, label=Titles[1], linestyle=\"--\")\n",
      "ax.plot(Masses, ExclEff[2::4], 'b', markersize=10.0, label=Titles[2], linestyle=\"-.\")\n",
      "ax.plot(Masses, ExclEff[3::4], 'r', markersize=10.0, label=Titles[3], linestyle=\":\")\n",
      "ax.set_xlabel(\"M(T')\")\n",
      "ax.set_ylabel(\"$\\epsilon=N^{Corr}_{Evts}/N^{Match}_{Evts}$\")\n",
      "ax.xaxis.label.set_fontsize(18)\n",
      "ax.yaxis.label.set_fontsize(18)\n",
      "ax.set_xlim(left=Masses[0]*0.95,right=Masses[-1]*1.05)\n",
      "ax.set_ylim(bottom=0.0,top=1.0)\n",
      "plt.legend(loc='lower right')\n",
      "fig.savefig(\"Exclusive_Efficiency.pdf\")\n",
      "\n",
      "#Inclusive efficiency\n",
      "fig, ax = plt.subplots()\n",
      "ax.plot(Masses, InclEff[0::4], 'k', markersize=10.0, label=Titles[0], linestyle=\"-\")\n",
      "ax.plot(Masses, InclEff[1::4], 'g', markersize=10.0, label=Titles[1], linestyle=\"--\")\n",
      "ax.plot(Masses, InclEff[2::4], 'b', markersize=10.0, label=Titles[2], linestyle=\"-.\")\n",
      "ax.plot(Masses, InclEff[3::4], 'r', markersize=10.0, label=Titles[3], linestyle=\":\")\n",
      "ax.set_xlabel(\"M(T')\")\n",
      "ax.set_ylabel(\"$\\epsilon=N^{Corr}_{Evts}/N^{Total}_{Evts}$\")\n",
      "ax.xaxis.label.set_fontsize(18)\n",
      "ax.yaxis.label.set_fontsize(18)\n",
      "ax.set_xlim(left=Masses[0]*0.95,right=Masses[-1]*1.05)\n",
      "ax.set_ylim(bottom=0.0,top=1.0)\n",
      "plt.legend(loc='upper right')\n",
      "fig.savefig(\"Inclusive_Efficiency.pdf\")"
     ],
     "language": "python",
     "metadata": {},
     "outputs": [
      {
       "metadata": {},
       "output_type": "display_data",
       "png": "[encoded data removed]",
       "text": [
        "<matplotlib.figure.Figure at 0x6d48610>"
       ]
      },
      {
       "metadata": {},
       "output_type": "display_data",
       "png": "[encoded data removed]",
       "text": [
        "<matplotlib.figure.Figure at 0x64c1e10>"
       ]
      }
     ],
     "prompt_number": 34
    },
    {
     "cell_type": "code",
     "collapsed": false,
     "input": [
      "ExclEff[3::4]"
     ],
     "language": "python",
     "metadata": {},
     "outputs": [
      {
       "metadata": {},
       "output_type": "pyout",
       "prompt_number": 25,
       "text": [
        "[0.7714570858283433,\n",
        " 0.7858208955223881,\n",
        " 0.7910493827160494,\n",
        " 0.7819918934568616,\n",
        " 0.7954415954415954,\n",
        " 0.7892059903927663,\n",
        " 0.7892429114294066,\n",
        " 0.7735226147243315,\n",
        " 0.7692307692307693]"
       ]
      }
     ],
     "prompt_number": 25
    },
    {
     "cell_type": "code",
     "collapsed": false,
     "input": [],
     "language": "python",
     "metadata": {},
     "outputs": []
    }
   ],
   "metadata": {}
  }
 ]
}