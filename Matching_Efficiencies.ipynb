{
 "metadata": {
  "name": ""
 },
 "nbformat": 3,
 "nbformat_minor": 0,
 "worksheets": [
  {
   "cells": [
    {
     "cell_type": "code",
     "collapsed": false,
     "input": [
      "from Generic import *\n",
      "%matplotlib inline"
     ],
     "language": "python",
     "metadata": {},
     "outputs": [],
     "prompt_number": 1
    },
    {
     "cell_type": "code",
     "collapsed": false,
     "input": [
      "Version=\"/home/jruizalv/V8_MC_Matched/\"\n",
      "\n",
      "Signal = [\"TpJetM600_5318_Full_analyzed.root\",\n",
      "         \"TpJetM650_5318_Full_analyzed.root\",\n",
      "         \"TpJetM700_5318_Full_analyzed.root\",\n",
      "         \"TpJetM750_5318_Full_analyzed.root\",\n",
      "         \"TpJetM800_5318_Full_analyzed.root\",\n",
      "         \"TpJetM850_5318_Full_analyzed.root\",\n",
      "         \"TpJetM900_5318_Full_analyzed.root\",\n",
      "         \"TpJetM950_5318_Full_analyzed.root\",\n",
      "         \"TpJetM1000_5318_Full_analyzed.root\"]\n",
      "\n",
      "TreeStructure=\"Correct_Tprime:Correct_Higgs:Correct_W:Correct_Top\"\n",
      "ListTreesNamesA=[\"S600ntupleA\",\"S650ntupleA\",\"S700ntupleA\",\"S750ntupleA\",\"S800ntupleA\",\"S850ntupleA\",\"S900ntupleA\",\"S950ntupleA\",\"S1000ntupleA\"]\n",
      "AllSamples=[]\n",
      "TotalEntries=[]\n",
      "Corrects=[] #Tp,H,W,t\n",
      "\n",
      "for f in Signal:\n",
      "    CutsChain=ROOT.TChain(\"stp\")\n",
      "    CutsChain.Add(Version+f)\n",
      "    entries = CutsChain.GetEntries()\n",
      "    TotalEntries.append(entries)\n",
      "    if files.index(f)>=0 and files.index(f)<=NsignalFiles-1: print \"Filling signal...\"\n",
      "    elif files.index(f)>0: print \"Filling bkgs...\"\n",
      "    print \"Entries for file \", f, \" are: \", entries\n",
      "    TempTree= ROOT.TNtuple(ListTreesNamesA[files.index(f)],ListTreesNamesA[files.index(f)],TreeStructure)\n",
      "    CTp=0; CH=0; CW=0; Ct=0\n",
      "    for i in xrange(entries):\n",
      "        CutsChain.GetEntry(i)\n",
      "        CTp+=CutsChain.Correct_Tprime\n",
      "        CH+=CutsChain.Correct_Higgs\n",
      "        CW+=CutsChain.Correct_W\n",
      "        Ct+=CutsChain.Correct_Top\n",
      "        ListOfVariables = [CutsChain.Correct_Tprime,\n",
      "                           CutsChain.Correct_Higgs,\n",
      "                           CutsChain.Correct_W,\n",
      "                           CutsChain.Correct_Top]\n",
      "        TempTree.Fill(array('f',ListOfVariables))\n",
      "        AllSamples.append(TempTree)\n",
      "    Corrects.append([CTp,CH,CW,Ct])"
     ],
     "language": "python",
     "metadata": {},
     "outputs": [
      {
       "output_type": "stream",
       "stream": "stdout",
       "text": [
        "Filling signal...\n",
        "Entries for file  TpJetM600_5318_Full_analyzed.root  are:  1700\n",
        "Filling signal..."
       ]
      },
      {
       "output_type": "stream",
       "stream": "stdout",
       "text": [
        "\n",
        "Entries for file  TpJetM650_5318_Full_analyzed.root  are:  2277\n",
        "Filling signal..."
       ]
      },
      {
       "output_type": "stream",
       "stream": "stdout",
       "text": [
        "\n",
        "Entries for file  TpJetM700_5318_Full_analyzed.root  are:  2768\n",
        "Filling signal..."
       ]
      },
      {
       "output_type": "stream",
       "stream": "stdout",
       "text": [
        "\n",
        "Entries for file  TpJetM750_5318_Full_analyzed.root  are:  2926\n",
        "Filling signal..."
       ]
      },
      {
       "output_type": "stream",
       "stream": "stdout",
       "text": [
        "\n",
        "Entries for file  TpJetM800_5318_Full_analyzed.root  are:  2949\n",
        "Filling signal..."
       ]
      },
      {
       "output_type": "stream",
       "stream": "stdout",
       "text": [
        "\n",
        "Entries for file  TpJetM850_5318_Full_analyzed.root  are:  2993\n",
        "Filling signal..."
       ]
      },
      {
       "output_type": "stream",
       "stream": "stdout",
       "text": [
        "\n",
        "Entries for file  TpJetM900_5318_Full_analyzed.root  are:  2865\n",
        "Filling signal..."
       ]
      },
      {
       "output_type": "stream",
       "stream": "stdout",
       "text": [
        "\n",
        "Entries for file  TpJetM950_5318_Full_analyzed.root  are:  2473\n",
        "Filling signal..."
       ]
      },
      {
       "output_type": "stream",
       "stream": "stdout",
       "text": [
        "\n",
        "Entries for file  TpJetM1000_5318_Full_analyzed.root  are:  2261\n"
       ]
      }
     ],
     "prompt_number": 2
    },
    {
     "cell_type": "code",
     "collapsed": false,
     "input": [
      "Resonances=[\"Tprime\",\"Higgs\",\"W\",\"top\"]\n",
      "\n",
      "ExclEff=[]\n",
      "\n",
      "print \"Matching exclusive (with only matchable jets) efficiencies right after reconstruction, no HT cut\"\n",
      "print \"--------------------------------------\"\n",
      "for i in xrange(len(TotalEntries)):\n",
      "    print \"For\", ListTreesNamesA[i].split('n')[0]\n",
      "    for j in xrange(len(Corrects[i])):\n",
      "        print Resonances[j]+\":\", \"{0:.2f}+-{1:.2f}\".format(float(Corrects[i][j])/TotalEntries[i],DivE(float(Corrects[i][j]),TotalEntries[i],np.sqrt(Corrects[i][j]),np.sqrt(TotalEntries[i])))\n",
      "        ExclEff.append(float(Corrects[i][j])/TotalEntries[i])\n",
      "    print \"--------------------------------------\""
     ],
     "language": "python",
     "metadata": {},
     "outputs": [
      {
       "output_type": "stream",
       "stream": "stdout",
       "text": [
        "Matching exclusive (with only matchable jets) efficiencies right after reconstruction, no HT cut\n",
        "--------------------------------------\n",
        "For S600\n",
        "Tprime: "
       ]
      },
      {
       "output_type": "stream",
       "stream": "stdout",
       "text": [
        "0.69+-0.04\n",
        "Higgs: 0.82+-0.04\n",
        "W: 0.65+-0.04\n",
        "top: 0.78+-0.04\n",
        "--------------------------------------\n",
        "For S650\n",
        "Tprime: 0.71+-0.03\n",
        "Higgs: 0.83+-0.04\n",
        "W: 0.66+-0.03\n",
        "top: 0.79+-0.04\n",
        "--------------------------------------\n",
        "For S700\n",
        "Tprime: 0.73+-0.03\n",
        "Higgs: 0.84+-0.03\n",
        "W: 0.67+-0.03\n",
        "top: 0.79+-0.03\n",
        "--------------------------------------\n",
        "For S750\n",
        "Tprime: 0.74+-0.03\n",
        "Higgs: 0.83+-0.03\n",
        "W: 0.69+-0.03\n",
        "top: 0.79+-0.03\n",
        "--------------------------------------\n",
        "For S800\n",
        "Tprime: 0.73+-0.03\n",
        "Higgs: 0.84+-0.03\n",
        "W: 0.69+-0.03\n",
        "top: 0.80+-0.03\n",
        "--------------------------------------\n",
        "For S850\n",
        "Tprime: 0.73+-0.03\n",
        "Higgs: 0.84+-0.03\n",
        "W: 0.68+-0.03\n",
        "top: 0.79+-0.03\n",
        "--------------------------------------\n",
        "For S900\n",
        "Tprime: 0.74+-0.03\n",
        "Higgs: 0.84+-0.03\n",
        "W: 0.68+-0.03\n",
        "top: 0.79+-0.03\n",
        "--------------------------------------\n",
        "For S950\n",
        "Tprime: 0.73+-0.03\n",
        "Higgs: 0.82+-0.03\n",
        "W: 0.67+-0.03\n",
        "top: 0.79+-0.03\n",
        "--------------------------------------\n",
        "For S1000\n",
        "Tprime: 0.70+-0.03\n",
        "Higgs: 0.82+-0.04\n",
        "W: 0.65+-0.03\n",
        "top: 0.78+-0.03\n",
        "--------------------------------------\n"
       ]
      }
     ],
     "prompt_number": 3
    },
    {
     "cell_type": "code",
     "collapsed": false,
     "input": [
      "Version=\"/home/jruizalv/V8/\"\n",
      "\n",
      "TotalEntriesIncl=[]\n",
      "\n",
      "for f in Signal:\n",
      "    CutsChain=ROOT.TChain(\"stp\")\n",
      "    CutsChain.Add(Version+f)\n",
      "    entries = CutsChain.GetEntries()\n",
      "    TotalEntriesIncl.append(entries)\n",
      "    if files.index(f)>=0 and files.index(f)<=NsignalFiles-1: print \"Filling signal...\"\n",
      "    elif files.index(f)>0: print \"Filling bkgs...\"\n",
      "    print \"Entries for file \", f, \" are: \", entries\n",
      "    del(CutsChain)\n",
      "\n",
      "InclEff=[]\n",
      "    \n",
      "print \"Matching inclusive efficiencies right after reconstruction, no HT cut\"\n",
      "print \"--------------------------------------\"\n",
      "for i in xrange(len(TotalEntriesIncl)):\n",
      "    print \"For\", ListTreesNamesA[i].split('n')[0]\n",
      "    for j in xrange(len(Corrects[i])):\n",
      "        print Resonances[j]+\":\", \"{0:.2f}+-{1:.2f}\".format(float(Corrects[i][j])/TotalEntriesIncl[i],DivE(float(Corrects[i][j]),TotalEntriesIncl[i],np.sqrt(Corrects[i][j]),np.sqrt(TotalEntries[i])))\n",
      "        InclEff.append(float(Corrects[i][j])/TotalEntriesIncl[i])\n",
      "    print \"--------------------------------------\""
     ],
     "language": "python",
     "metadata": {},
     "outputs": [
      {
       "output_type": "stream",
       "stream": "stdout",
       "text": [
        "Filling signal...\n",
        "Entries for file  TpJetM600_5318_Full_analyzed.root  are:  3112\n",
        "Filling signal..."
       ]
      },
      {
       "output_type": "stream",
       "stream": "stdout",
       "text": [
        "\n",
        "Entries for file  TpJetM650_5318_Full_analyzed.root  are:  3921\n",
        "Filling signal...\n",
        "Entries for file  TpJetM700_5318_Full_analyzed.root  are:  4696\n",
        "Filling signal..."
       ]
      },
      {
       "output_type": "stream",
       "stream": "stdout",
       "text": [
        "\n",
        "Entries for file  TpJetM750_5318_Full_analyzed.root  are:  5052\n",
        "Filling signal...\n",
        "Entries for file  TpJetM800_5318_Full_analyzed.root  are:  4991\n",
        "Filling signal..."
       ]
      },
      {
       "output_type": "stream",
       "stream": "stdout",
       "text": [
        "\n",
        "Entries for file  TpJetM850_5318_Full_analyzed.root  are:  5308\n",
        "Filling signal...\n",
        "Entries for file  TpJetM900_5318_Full_analyzed.root  are:  5202\n",
        "Filling signal..."
       ]
      },
      {
       "output_type": "stream",
       "stream": "stdout",
       "text": [
        "\n",
        "Entries for file  TpJetM950_5318_Full_analyzed.root  are:  4732\n",
        "Filling signal...\n",
        "Entries for file  TpJetM1000_5318_Full_analyzed.root  are:  4467\n",
        "Matching inclusive efficiencies right after reconstruction, no HT cut\n",
        "--------------------------------------\n",
        "For S600\n",
        "Tprime: 0.38+-0.02\n",
        "Higgs: 0.45+-0.02\n",
        "W: 0.35+-0.02\n",
        "top: 0.42+-0.02\n",
        "--------------------------------------\n",
        "For S650\n",
        "Tprime: 0.41+-0.02\n",
        "Higgs: 0.48+-0.02\n",
        "W: 0.38+-0.01\n",
        "top: 0.46+-0.02\n",
        "--------------------------------------\n",
        "For S700\n",
        "Tprime: 0.43+-0.01\n",
        "Higgs: 0.50+-0.02\n",
        "W: 0.40+-0.01\n",
        "top: 0.47+-0.02\n",
        "--------------------------------------\n",
        "For S750\n",
        "Tprime: 0.43+-0.01\n",
        "Higgs: 0.48+-0.01\n",
        "W: 0.40+-0.01\n",
        "top: 0.46+-0.01\n",
        "--------------------------------------\n",
        "For S800\n",
        "Tprime: 0.43+-0.01\n",
        "Higgs: 0.50+-0.02\n",
        "W: 0.41+-0.01\n",
        "top: 0.47+-0.01\n",
        "--------------------------------------\n",
        "For S850\n",
        "Tprime: 0.41+-0.01\n",
        "Higgs: 0.47+-0.01\n",
        "W: 0.38+-0.01\n",
        "top: 0.45+-0.01\n",
        "--------------------------------------\n",
        "For S900\n",
        "Tprime: 0.41+-0.01\n",
        "Higgs: 0.46+-0.01\n",
        "W: 0.38+-0.01\n",
        "top: 0.44+-0.01\n",
        "--------------------------------------\n",
        "For S950\n",
        "Tprime: 0.38+-0.01\n",
        "Higgs: 0.43+-0.01\n",
        "W: 0.35+-0.01\n",
        "top: 0.41+-0.01\n",
        "--------------------------------------\n",
        "For S1000\n",
        "Tprime: 0.35+-0.01\n",
        "Higgs: 0.42+-0.01\n",
        "W: 0.33+-0.01\n",
        "top: 0.39+-0.01\n",
        "--------------------------------------\n"
       ]
      }
     ],
     "prompt_number": 4
    },
    {
     "cell_type": "code",
     "collapsed": false,
     "input": [
      "Titles=[\"T'\",\"Higgs\",\"W\",\"top\"] #ListTreesNamesA[i].split('n')[0]\n",
      "Masses=[600,650,700,750,800,850,900,950,1000]\n",
      "#Exclusive efficiency\n",
      "fig, ax = plt.subplots()\n",
      "ax.plot(Masses, ExclEff[0::4], 'k', markersize=10.0, label=Titles[0], linestyle=\"-\")\n",
      "ax.plot(Masses, ExclEff[1::4], 'g', markersize=10.0, label=Titles[1], linestyle=\"--\")\n",
      "ax.plot(Masses, ExclEff[2::4], 'b', markersize=10.0, label=Titles[2], linestyle=\"-.\")\n",
      "ax.plot(Masses, ExclEff[3::4], 'r', markersize=10.0, label=Titles[3], linestyle=\":\")\n",
      "ax.set_xlabel(\"M(T')\")\n",
      "ax.set_ylabel(\"$\\epsilon=N^{Corr}_{Evts}/N^{Match}_{Evts}$\")\n",
      "ax.xaxis.label.set_fontsize(18)\n",
      "ax.yaxis.label.set_fontsize(18)\n",
      "ax.xaxis.set_label_coords(0.94, -0.07)\n",
      "ax.yaxis.set_label_coords(-0.07, 0.72)\n",
      "ax.set_xlim(left=Masses[0]*0.95,right=Masses[-1]*1.05)\n",
      "ax.set_ylim(bottom=0.0,top=1.0)\n",
      "plt.legend(loc='lower right')\n",
      "fig.savefig(\"Exclusive_Efficiency_V8.pdf\")\n",
      "fig.savefig(\"Exclusive_Efficiency_V8.png\")\n",
      "\n",
      "#Inclusive efficiency\n",
      "fig, ax = plt.subplots()\n",
      "ax.plot(Masses, InclEff[0::4], 'k', markersize=10.0, label=Titles[0], linestyle=\"-\")\n",
      "ax.plot(Masses, InclEff[1::4], 'g', markersize=10.0, label=Titles[1], linestyle=\"--\")\n",
      "ax.plot(Masses, InclEff[2::4], 'b', markersize=10.0, label=Titles[2], linestyle=\"-.\")\n",
      "ax.plot(Masses, InclEff[3::4], 'r', markersize=10.0, label=Titles[3], linestyle=\":\")\n",
      "ax.set_xlabel(\"M(T')\")\n",
      "ax.set_ylabel(\"$\\epsilon=N^{Corr}_{Evts}/N^{Total}_{Evts}$\")\n",
      "ax.xaxis.label.set_fontsize(18)\n",
      "ax.yaxis.label.set_fontsize(18)\n",
      "ax.xaxis.set_label_coords(0.94, -0.07)\n",
      "ax.yaxis.set_label_coords(-0.07, 0.72)\n",
      "ax.set_xlim(left=Masses[0]*0.95,right=Masses[-1]*1.05)\n",
      "ax.set_ylim(bottom=0.0,top=1.0)\n",
      "plt.legend(loc='upper right')\n",
      "fig.savefig(\"Inclusive_Efficiency_V8.pdf\")\n",
      "fig.savefig(\"Inclusive_Efficiency_V8.png\")"
     ],
     "language": "python",
     "metadata": {},
     "outputs": [
      {
       "metadata": {},
       "output_type": "display_data",
       "png": "[encoded data removed]",
       "text": [
        "<matplotlib.figure.Figure at 0x4567e90>"
       ]
      },
      {
       "metadata": {},
       "output_type": "display_data",
       "png": "[encoded data removed]",
       "text": [
        "<matplotlib.figure.Figure at 0x53103d0>"
       ]
      }
     ],
     "prompt_number": 5
    },
    {
     "cell_type": "code",
     "collapsed": false,
     "input": [
      "ExclEff[3::4]"
     ],
     "language": "python",
     "metadata": {},
     "outputs": [
      {
       "metadata": {},
       "output_type": "pyout",
       "prompt_number": 25,
       "text": [
        "[0.7714570858283433,\n",
        " 0.7858208955223881,\n",
        " 0.7910493827160494,\n",
        " 0.7819918934568616,\n",
        " 0.7954415954415954,\n",
        " 0.7892059903927663,\n",
        " 0.7892429114294066,\n",
        " 0.7735226147243315,\n",
        " 0.7692307692307693]"
       ]
      }
     ],
     "prompt_number": 25
    },
    {
     "cell_type": "code",
     "collapsed": false,
     "input": [],
     "language": "python",
     "metadata": {},
     "outputs": []
    }
   ],
   "metadata": {}
  }
 ]
}