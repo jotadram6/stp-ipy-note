{
 "metadata": {
  "name": ""
 },
 "nbformat": 3,
 "nbformat_minor": 0,
 "worksheets": [
  {
   "cells": [
    {
     "cell_type": "code",
     "collapsed": false,
     "input": [
      "import ROOT\n",
      "import numpy as np\n",
      "from array import array\n",
      "import rootnotes\n",
      "def DPHI(x):\n",
      "    if x>=np.pi: return x-2*np.pi\n",
      "    elif x<-np.pi: return x+2*np.pi\n",
      "    else: return x"
     ],
     "language": "python",
     "metadata": {},
     "outputs": [],
     "prompt_number": 1
    },
    {
     "cell_type": "heading",
     "level": 1,
     "metadata": {},
     "source": [
      "Declaring files and Ntuples"
     ]
    },
    {
     "cell_type": "code",
     "collapsed": false,
     "input": [
      "files = [\"/home/jruizalv/Version121/TpJetM600_5318_Full_analyzed.root\",\n",
      "         \"/home/jruizalv/Version121/TpJetM650_5318_Full_analyzed.root\",\n",
      "         \"/home/jruizalv/Version121/TpJetM700_5318_Full_analyzed.root\",\n",
      "         \"/home/jruizalv/Version121/TpJetM750_5318_Full_analyzed.root\",\n",
      "         \"/home/jruizalv/Version121/TpJetM800_5318_Full_analyzed.root\",\n",
      "         \"/home/jruizalv/Version121/TpJetM850_5318_Full_analyzed.root\",\n",
      "         \"/home/jruizalv/Version121/TpJetM900_5318_Full_analyzed.root\",\n",
      "         \"/home/jruizalv/Version121/TpJetM950_5318_Full_analyzed.root\",\n",
      "         \"/home/jruizalv/Version121/TpJetM1000_5318_Full_analyzed.root\",\n",
      "         \"/home/jruizalv/Version121/TTJetsF_5318_Full_analyzed.root\",\n",
      "         \"/home/jruizalv/Version121/QCD_HT_500_1000_5318_Full_analyzed.root\"]\n",
      "         #\"/home/jruizalv/Version111/QCD_HT_1000_Inf_5318_Full_analyzed.root\"]\n",
      "TreeStructure=\"M5J:DRHJ:Hpt:Tpt:DRWH:RelHT:RelM:Eta6thJ:MT2MH:MW2MH:MW2MT2:M2HP:DRTp6thJ:HM:chi2:TopsPTAsym:MTHAsym:MTmMHdMW:PTTHAsym:M1HP:M1HM:T1PTdT2PT:DETH:DPTH:MT1pMW1dMH:MTWAsym\"\n",
      "Sntuple = ROOT.TNtuple(\"Sntuple\",\"Sntuple\",TreeStructure)\n",
      "Tntuple = ROOT.TNtuple(\"Tntuple\",\"Tntuple\",TreeStructure)\n",
      "Qntuple = ROOT.TNtuple(\"Qntuple\",\"Qntuple\",TreeStructure)\n",
      "S600ntuple = ROOT.TNtuple(\"S600ntuple\",\"S600ntuple\",TreeStructure)\n",
      "S650ntuple = ROOT.TNtuple(\"S650ntuple\",\"S650ntuple\",TreeStructure)\n",
      "S750ntuple = ROOT.TNtuple(\"S750ntuple\",\"S750ntuple\",TreeStructure)\n",
      "S800ntuple = ROOT.TNtuple(\"S800ntuple\",\"S800ntuple\",TreeStructure)\n",
      "S850ntuple = ROOT.TNtuple(\"S850ntuple\",\"S850ntuple\",TreeStructure)\n",
      "S900ntuple = ROOT.TNtuple(\"S900ntuple\",\"S900ntuple\",TreeStructure)\n",
      "S950ntuple = ROOT.TNtuple(\"S950ntuple\",\"S950ntuple\",TreeStructure)\n",
      "S1000ntuple = ROOT.TNtuple(\"S1000ntuple\",\"S1000ntuple\",TreeStructure)\n",
      "NMassPoints=[S600ntuple,S650ntuple,Sntuple,S750ntuple,S800ntuple,S850ntuple,S900ntuple,S950ntuple,S1000ntuple]\n"
     ],
     "language": "python",
     "metadata": {},
     "outputs": [],
     "prompt_number": 2
    },
    {
     "cell_type": "heading",
     "level": 2,
     "metadata": {},
     "source": [
      "Reading files and filling the Ntuple"
     ]
    },
    {
     "cell_type": "code",
     "collapsed": false,
     "input": [
      "Entries=10000\n",
      "NsignalFiles=9\n",
      "for f in files:\n",
      "    CutsChain=ROOT.TChain(\"stp\")\n",
      "    CutsChain.Add(f)\n",
      "    entries = CutsChain.GetEntries()\n",
      "    if files.index(f)>=0 and files.index(f)<=NsignalFiles-1: print \"Filling signal...\"\n",
      "    elif files.index(f)>0: print \"Filling bkgs...\"\n",
      "    print \"Entries for file \", f, \" are: \", entries\n",
      "    Entries=entries\n",
      "    for i in xrange(Entries):\n",
      "        CutsChain.GetEntry(i)\n",
      "        HiggsV=ROOT.TLorentzVector(CutsChain.Reconstructed_Higgs.X(),CutsChain.Reconstructed_Higgs.Y(),CutsChain.Reconstructed_Higgs.Z(),CutsChain.Reconstructed_Higgs.T())\n",
      "        Higgs2ndJV=ROOT.TLorentzVector(CutsChain.Second_Higgs_Jet.X(),CutsChain.Second_Higgs_Jet.Y(),CutsChain.Second_Higgs_Jet.Z(),CutsChain.Second_Higgs_Jet.T())\n",
      "        J6thV=ROOT.TLorentzVector(CutsChain.Jet6th.X(),CutsChain.Jet6th.Y(),CutsChain.Jet6th.Z(),CutsChain.Jet6th.T())\n",
      "        TprimeV=ROOT.TLorentzVector(CutsChain.Reconstructed_Tprime.X(),CutsChain.Reconstructed_Tprime.Y(),CutsChain.Reconstructed_Tprime.Z(),CutsChain.Reconstructed_Tprime.T())\n",
      "        Top2=HiggsV+J6thV\n",
      "        W2=Higgs2ndJV+J6thV\n",
      "        W1stJV=ROOT.TLorentzVector(CutsChain.First_W_Jet.X(),CutsChain.First_W_Jet.Y(),CutsChain.First_W_Jet.Z(),CutsChain.First_W_Jet.T())\n",
      "        TopJV=ROOT.TLorentzVector(CutsChain.Top_Jet.X(),CutsChain.Top_Jet.Y(),CutsChain.Top_Jet.Z(),CutsChain.Top_Jet.T())\n",
      "        M12_1stTop=W1stJV+TopJV\n",
      "        #M2ndT=np.sqrt((CutsChain.Reconstructed_Higgs.E()+CutsChain.Jet6th.E())**2\n",
      "        #              -((CutsChain.Reconstructed_Higgs.Px()+CutsChain.Jet6th.Px())**2\n",
      "        #                +(CutsChain.Reconstructed_Higgs.Py()+CutsChain.Jet6th.Py())**2\n",
      "        #                +(CutsChain.Reconstructed_Higgs.Pz()+CutsChain.Jet6th.Pz())**2))\n",
      "        #M2ndW=np.sqrt((CutsChain.Second_Higgs_Jet.E()+CutsChain.Jet6th.E())**2\n",
      "        #              -((CutsChain.Second_Higgs_Jet.Px()+CutsChain.Jet6th.Px())**2\n",
      "        #                +(CutsChain.Second_Higgs_Jet.Py()+CutsChain.Jet6th.Py())**2\n",
      "        #                +(CutsChain.Second_Higgs_Jet.Pz()+CutsChain.Jet6th.Pz())**2))\n",
      "        #DRTp6thJ=np.sqrt((CutsChain.Reconstructed_Tprime.Eta()-CutsChain.Jet6th.Eta())**2\n",
      "        #                 +DPHI(CutsChain.Reconstructed_Tprime.Phi()-CutsChain.Jet6th.Phi())**2)\n",
      "        ListOfVariables = [CutsChain.Reconstructed_Tprime.M(),\n",
      "                        CutsChain.DeltaR_of_Higgs_Jets,\n",
      "                        CutsChain.Reconstructed_Higgs.Pt(),\n",
      "                        CutsChain.Reconstructed_Top.Pt(),\n",
      "                        CutsChain.DeltaR_of_W_Higgs,\n",
      "                        CutsChain.Relative_THT,\n",
      "                        CutsChain.Relative_Mass,\n",
      "                        CutsChain.Jet6th.Eta(),\n",
      "                        Top2.M()/CutsChain.Reconstructed_Higgs.M(), #M2ndT/CutsChain.Reconstructed_Higgs.M(),\n",
      "                        W2.M()/CutsChain.Reconstructed_Higgs.M(), #M2ndW/CutsChain.Reconstructed_Higgs.M(),\n",
      "                        W2.M()/Top2.M(), #M2ndW/M2ndT,\n",
      "                        (Top2.M()+W2.M())/CutsChain.Reconstructed_Higgs.M(), #(M2ndT+M2ndW)/CutsChain.Reconstructed_Higgs.M(),\n",
      "                        TprimeV.DeltaR(J6thV), #DRTp6thJ,\n",
      "                        CutsChain.Reconstructed_Higgs.M(),\n",
      "                        (CutsChain.HiggsChi2+CutsChain.TopChi2),\n",
      "                        (Top2.Pt()-CutsChain.Reconstructed_Top.Pt())/(CutsChain.Reconstructed_Top.Pt()),\n",
      "                        (CutsChain.Reconstructed_Top.M()-CutsChain.Reconstructed_Higgs.M())/(CutsChain.Reconstructed_Top.M()+CutsChain.Reconstructed_Higgs.M()),\n",
      "                        (CutsChain.Reconstructed_Top.M()-CutsChain.Reconstructed_Higgs.M())/CutsChain.Reconstructed_W.M(),\n",
      "                        (CutsChain.Reconstructed_Top.Pt()-CutsChain.Reconstructed_Higgs.Pt())/(CutsChain.Reconstructed_Top.Pt()+CutsChain.Reconstructed_Higgs.Pt()),\n",
      "                        (CutsChain.Reconstructed_Top.M()+CutsChain.Reconstructed_W.M())/M12_1stTop.M(),\n",
      "                        np.abs(CutsChain.Reconstructed_Top.M()-CutsChain.Reconstructed_W.M())/M12_1stTop.M(),\n",
      "                        CutsChain.Reconstructed_Top.Pt()/Top2.Pt(),\n",
      "                        HiggsV.Eta()-TopJV.Eta(),\n",
      "                        np.abs(DPHI(TopJV.Phi()-HiggsV.Phi())),\n",
      "                        (CutsChain.Reconstructed_Top.M()+CutsChain.Reconstructed_W.M())/CutsChain.Reconstructed_Higgs.M(),\n",
      "                        np.abs(CutsChain.Reconstructed_Top.M()-CutsChain.Reconstructed_W.M())/(CutsChain.Reconstructed_Top.M()+CutsChain.Reconstructed_W.M())]\n",
      "        if files.index(f)>=0 and files.index(f)<=NsignalFiles-1:            \n",
      "            NMassPoints[files.index(f)].Fill(array('f',ListOfVariables)) #Sntuple.Fill(array('f',ListOfVariables))\n",
      "        elif files.index(f)==len(files)-2:            \n",
      "            Tntuple.Fill(array('f',ListOfVariables))\n",
      "        elif files.index(f)==len(files)-1:            \n",
      "            Qntuple.Fill(array('f',ListOfVariables))"
     ],
     "language": "python",
     "metadata": {},
     "outputs": [
      {
       "output_type": "stream",
       "stream": "stdout",
       "text": [
        "Filling signal...\n",
        "Entries for file  /home/jruizalv/Version121/TpJetM600_5318_Full_analyzed.root  are:  2542\n",
        "Filling signal..."
       ]
      },
      {
       "output_type": "stream",
       "stream": "stdout",
       "text": [
        "\n",
        "Entries for file  /home/jruizalv/Version121/TpJetM650_5318_Full_analyzed.root  are:  3452\n",
        "Filling signal..."
       ]
      },
      {
       "output_type": "stream",
       "stream": "stdout",
       "text": [
        "\n",
        "Entries for file  /home/jruizalv/Version121/TpJetM700_5318_Full_analyzed.root  are:  4350\n",
        "Filling signal..."
       ]
      },
      {
       "output_type": "stream",
       "stream": "stdout",
       "text": [
        "\n",
        "Entries for file  /home/jruizalv/Version121/TpJetM750_5318_Full_analyzed.root  are:  4824\n",
        "Filling signal..."
       ]
      },
      {
       "output_type": "stream",
       "stream": "stdout",
       "text": [
        "\n",
        "Entries for file  /home/jruizalv/Version121/TpJetM800_5318_Full_analyzed.root  are:  4799\n",
        "Filling signal..."
       ]
      },
      {
       "output_type": "stream",
       "stream": "stdout",
       "text": [
        "\n",
        "Entries for file  /home/jruizalv/Version121/TpJetM850_5318_Full_analyzed.root  are:  5160\n",
        "Filling signal..."
       ]
      },
      {
       "output_type": "stream",
       "stream": "stdout",
       "text": [
        "\n",
        "Entries for file  /home/jruizalv/Version121/TpJetM900_5318_Full_analyzed.root  are:  5070\n",
        "Filling signal..."
       ]
      },
      {
       "output_type": "stream",
       "stream": "stdout",
       "text": [
        "\n",
        "Entries for file  /home/jruizalv/Version121/TpJetM950_5318_Full_analyzed.root  are:  4617\n",
        "Filling signal..."
       ]
      },
      {
       "output_type": "stream",
       "stream": "stdout",
       "text": [
        "\n",
        "Entries for file  /home/jruizalv/Version121/TpJetM1000_5318_Full_analyzed.root  are:  4366\n",
        "Filling bkgs..."
       ]
      },
      {
       "output_type": "stream",
       "stream": "stdout",
       "text": [
        "\n",
        "Entries for file  /home/jruizalv/Version121/TTJetsF_5318_Full_analyzed.root  are:  117799\n",
        "Filling bkgs..."
       ]
      },
      {
       "output_type": "stream",
       "stream": "stdout",
       "text": [
        "\n",
        "Entries for file  /home/jruizalv/Version121/QCD_HT_500_1000_5318_Full_analyzed.root  are:  4817\n"
       ]
      }
     ],
     "prompt_number": 3
    },
    {
     "cell_type": "code",
     "collapsed": false,
     "input": [
      "#Sntuple.Print()\n",
      "#\"M5J:DRHJ:Hpt:Tpt:DRWH:RelHT:RelM:Eta6thJ:MT2MH:MW2MH:MW2MT2:M2HP:DRTp6thJ:HM:chi2:TopsPTAsym:MTHAsym:MTmMHdMW:PTTHAsym:M1HP:M1HM\"\n",
      "Cut1 = ROOT.TCut(\"chi2<140\")\n",
      "CutRelM = ROOT.TCut(\"RelM>=0.25 && RelM<=0.55\")\n",
      "CutDRbb = ROOT.TCut(\"DRHJ<=1.2\")\n",
      "CutDRWH = ROOT.TCut(\"DRWH>=1.6 && DRWH<=4.0\")\n",
      "CutHM = ROOT.TCut(\"HM>=105 && HM<=145\")\n",
      "CutM2HP = ROOT.TCut(\"M2HP>9\")\n",
      "CutRelHT = ROOT.TCut(\"RelHT>=0.7\")\n",
      "CutDRTp6thJ = ROOT.TCut(\"DRTp6thJ>4.7\")\n",
      "\n",
      "Lumi=19694.471\n",
      "\n",
      "SWeight=Lumi*(0.57/0.94)*0.1437/99984\n",
      "TWeight=Lumi*245.8/61941200\n",
      "QWeight=Lumi*8426.0/29320000\n",
      "NevtsMassPoints=[92190.,99292.,99984.,99984.,96388.,99995.,99984.,96791.,99991.]\n",
      "XSNevtsMassPoints=[0.2154,0.1778,0.1437,0.1186,0.1,0.0843,0.0726,0.0626,0.0539]\n",
      "NWeights=Lumi*(0.57/0.94)*np.array(XSNevtsMassPoints)/np.array(NevtsMassPoints)"
     ],
     "language": "python",
     "metadata": {},
     "outputs": [],
     "prompt_number": 4
    },
    {
     "cell_type": "code",
     "collapsed": false,
     "input": [
      "SignalEntries=[]\n",
      "TTbarEntries=[]\n",
      "\n",
      "#DRHJ<=1.2 && (DRWH>=1.6 && DRWH<=4.0) && M2HP>9 && DRTp6thJ>4.7 && RelHT>=0.7 && (HM>=105 && HM<=145)\n",
      "\n",
      "drhj=[1.2]\n",
      "hpt=[230] #[140,150,160,170,180,190,200,210,220]\n",
      "tpt=[180] #[140,150,160,170,180,190,200,210,220]\n",
      "m2hp=[9]\n",
      "eta6thj=[0.0] #np.linspace(1.0,2.0,11) #[1.2]\n",
      "drtp6thj=[4.7]\n",
      "relht=[0.7]\n",
      "drwh=[0.5] #Mean value 2.8\n",
      "mthasym=np.linspace(0.1,0.04,20) #[0.08,0.06,0.04] #Mean value 0.18\n",
      "mtmmhdmw=[100] #,0.5,0.4,0.3] #Mean value 0.6\n",
      "m1hm=np.linspace(0.3,0.15,20) #[0.3,0.25,0.2,0.15] #Mean value 0.7\n",
      "hm=[20] #Mean value 125\n",
      "m1hp=np.linspace(4,2,20)\n",
      "ptthasym=np.linspace(1,0.2,20)\n",
      "chi2=np.linspace(50,200,16)\n",
      "\n",
      "Eta6thJSet=[\"TMath::Abs(Eta6thJ)>\",np.linspace(1.0,2.0,1)]\n",
      "DRTp6thJSet=[\"DRTp6thJ>\",np.linspace(4.5,6.0,4)]\n",
      "RelHTSet=[\"RelHT>=\",np.linspace(0.5,0.8,7)]\n",
      "M2HPSet=[\"M2HP>\",np.linspace(5.0,11.0,13)]\n",
      "#Eta6thJSet=[\"TMath::Abs(Eta6thJ)>\",np.linspace(1.0,2.0,11)]\n",
      "\n",
      "CounterToWriteToFile=0\n",
      "ListForFile=[]\n",
      "\n",
      "Cut2Set=M2HPSet\n",
      "Cut3Set=DRTp6thJSet\n",
      "Cut4Set=RelHTSet\n",
      "\n",
      "for i in Cut2Set[1]:\n",
      "    Cut2 = ROOT.TCut(Cut2Set[0]+str(i))\n",
      "    for j in Cut3Set[1]:\n",
      "        Cut3 = ROOT.TCut(Cut3Set[0]+str(j))\n",
      "        for k in Cut4Set[1]:\n",
      "            Cut4 = ROOT.TCut(Cut4Set[0]+str(k))\n",
      "            CutF=CutDRbb*CutDRWH*Cut2*Cut3*CutHM*Cut4\n",
      "\n",
      "            Sntuple.Draw(\"M5J >> M5jS(120,400,1600)\",CutF)\n",
      "            M5JHS=ROOT.gDirectory.Get(\"M5jS\")\n",
      "            if M5JHS.GetEntries()*0.017<11: continue\n",
      "            Tntuple.Draw(\"M5J >> M5jT(120,400,1600)\",CutF)\n",
      "            M5JHT=ROOT.gDirectory.Get(\"M5jT\")\n",
      "            Qntuple.Draw(\"M5J >> M5jQ(120,400,1600)\",CutF)\n",
      "            M5JHQ=ROOT.gDirectory.Get(\"M5jQ\")\n",
      "            #SignalEntries.append([CutF,M5JHS.GetEntries()]); TTbarEntries.append([CutF,M5JHT.GetEntries()])\n",
      "            CounterToWriteToFile+=1\n",
      "            print '({0:.2f} {1:.2f} {2:.2f}): {3:.2f}; {4:.2f}; {5:.2f}; {6:.2f}; {7:.2f}'.format(i,j,k,\n",
      "                                                                                                        M5JHS.GetEntries()*SWeight,\n",
      "                                                                                                        M5JHT.GetEntries()*TWeight,\n",
      "                                                                                                        M5JHQ.GetEntries()*QWeight,\n",
      "                                                                                                        M5JHS.GetEntries()*SWeight/(M5JHT.GetEntries()*TWeight+M5JHQ.GetEntries()*QWeight),\n",
      "                                                                                                        M5JHS.GetEntries()*SWeight/np.sqrt(M5JHS.GetEntries()*SWeight+M5JHT.GetEntries()*TWeight+M5JHQ.GetEntries()*QWeight))\n",
      "            ListForFile.append([(i,j,k),M5JHT.GetEntries(),M5JHS.GetEntries()])\n",
      "            FinalCondition=(Cut2Set[1][-1]==i and Cut3Set[1][-1]==j and Cut4Set[1][-1]==k)\n",
      "            #if CounterToWriteToFile%200==0: #or FinalCondition:\n",
      "            #    f = open('Selections_SS_%i_m2hp_eta6thj_relht.txt'%(CounterToWriteToFile), 'w')\n",
      "            #    f.write(str(ListForFile))\n",
      "            #    f.close(); print \"File %i produced\"%(CounterToWriteToFile)\n",
      "            #    ListForFile=[]\n",
      "            #print M5JHS.GetEntries(), M5JHT.GetEntries()\n",
      "\n",
      "#f = open('Selections_SS_eta6thj.txt', 'w')\n",
      "#f.write(str(ListForFile))\n",
      "#f.close()\n",
      "#print ListForFile"
     ],
     "language": "python",
     "metadata": {},
     "outputs": [
      {
       "output_type": "stream",
       "stream": "stdout",
       "text": [
        "(5.00 4.50 0.50): 20.96; 107.77; 311.29; 0.05; 1.00\n",
        "(5.00 4.50 0.55): 20.60; 98.39; 294.31; 0.05; 1.01"
       ]
      },
      {
       "output_type": "stream",
       "stream": "stdout",
       "text": [
        "\n",
        "(5.00 4.50 0.60): 20.10; 85.42; 243.37; 0.06; 1.08"
       ]
      },
      {
       "output_type": "stream",
       "stream": "stdout",
       "text": [
        "\n",
        "(5.00 4.50 0.65): 18.59; 69.56; 203.75; 0.07; 1.09"
       ]
      },
      {
       "output_type": "stream",
       "stream": "stdout",
       "text": [
        "\n",
        "(5.00 4.50 0.70): 15.84; 50.49; 152.81; 0.08; 1.07"
       ]
      },
      {
       "output_type": "stream",
       "stream": "stdout",
       "text": [
        "\n",
        "(5.00 4.50 0.75): 11.72; 30.95; 73.58; 0.11; 1.09"
       ]
      },
      {
       "output_type": "stream",
       "stream": "stdout",
       "text": [
        "\n",
        "(5.00 5.00 0.50): 15.89; 66.66; 215.07; 0.06; 0.92"
       ]
      },
      {
       "output_type": "stream",
       "stream": "stdout",
       "text": [
        "\n",
        "(5.00 5.00 0.55): 15.62; 62.29; 215.07; 0.06; 0.91"
       ]
      },
      {
       "output_type": "stream",
       "stream": "stdout",
       "text": [
        "\n",
        "(5.00 5.00 0.60): 15.38; 55.10; 181.11; 0.07; 0.97"
       ]
      },
      {
       "output_type": "stream",
       "stream": "stdout",
       "text": [
        "\n",
        "(5.00 5.00 0.65): 14.43; 47.20; 158.47; 0.07; 0.97"
       ]
      },
      {
       "output_type": "stream",
       "stream": "stdout",
       "text": [
        "\n",
        "(5.00 5.00 0.70): 12.56; 34.93; 130.18; 0.08; 0.94"
       ]
      },
      {
       "output_type": "stream",
       "stream": "stdout",
       "text": [
        "\n",
        "(5.50 4.50 0.50): 20.36; 101.83; 282.99; 0.05; 1.01"
       ]
      },
      {
       "output_type": "stream",
       "stream": "stdout",
       "text": [
        "\n",
        "(5.50 4.50 0.55): 20.00; 92.61; 266.01; 0.06; 1.03"
       ]
      },
      {
       "output_type": "stream",
       "stream": "stdout",
       "text": [
        "\n",
        "(5.50 4.50 0.60): 19.52; 80.19; 226.39; 0.06; 1.08"
       ]
      },
      {
       "output_type": "stream",
       "stream": "stdout",
       "text": [
        "\n",
        "(5.50 4.50 0.65): 18.00; 64.95; 186.77; 0.07; 1.10"
       ]
      },
      {
       "output_type": "stream",
       "stream": "stdout",
       "text": [
        "\n",
        "(5.50 4.50 0.70): 15.28; 46.42; 135.84; 0.08; 1.09"
       ]
      },
      {
       "output_type": "stream",
       "stream": "stdout",
       "text": [
        "\n",
        "(5.50 4.50 0.75): 11.23; 28.21; 67.92; 0.12; 1.08"
       ]
      },
      {
       "output_type": "stream",
       "stream": "stdout",
       "text": [
        "\n",
        "(5.50 5.00 0.50): 15.65; 63.85; 198.09; 0.06; 0.94"
       ]
      },
      {
       "output_type": "stream",
       "stream": "stdout",
       "text": [
        "\n",
        "(5.50 5.00 0.55): 15.38; 59.55; 198.09; 0.06; 0.93"
       ]
      },
      {
       "output_type": "stream",
       "stream": "stdout",
       "text": [
        "\n",
        "(5.50 5.00 0.60): 15.14; 52.68; 175.45; 0.07; 0.97"
       ]
      },
      {
       "output_type": "stream",
       "stream": "stdout",
       "text": [
        "\n",
        "(5.50 5.00 0.65): 14.19; 45.02; 152.81; 0.07; 0.97"
       ]
      },
      {
       "output_type": "stream",
       "stream": "stdout",
       "text": [
        "\n",
        "(5.50 5.00 0.70): 12.32; 32.90; 124.52; 0.08; 0.95"
       ]
      },
      {
       "output_type": "stream",
       "stream": "stdout",
       "text": [
        "\n",
        "(6.00 4.50 0.50): 19.74; 93.16; 282.99; 0.05; 0.99"
       ]
      },
      {
       "output_type": "stream",
       "stream": "stdout",
       "text": [
        "\n",
        "(6.00 4.50 0.55): 19.38; 84.33; 266.01; 0.06; 1.01"
       ]
      },
      {
       "output_type": "stream",
       "stream": "stdout",
       "text": [
        "\n",
        "(6.00 4.50 0.60): 18.90; 72.21; 226.39; 0.06; 1.06"
       ]
      },
      {
       "output_type": "stream",
       "stream": "stdout",
       "text": [
        "\n",
        "(6.00 4.50 0.65): 17.39; 57.91; 186.77; 0.07; 1.07"
       ]
      },
      {
       "output_type": "stream",
       "stream": "stdout",
       "text": [
        "\n",
        "(6.00 4.50 0.70): 14.68; 41.03; 135.84; 0.08; 1.06"
       ]
      },
      {
       "output_type": "stream",
       "stream": "stdout",
       "text": [
        "\n",
        "(6.00 5.00 0.50): 15.34; 59.47; 198.09; 0.06; 0.93"
       ]
      },
      {
       "output_type": "stream",
       "stream": "stdout",
       "text": [
        "\n",
        "(6.00 5.00 0.55): 15.07; 55.33; 198.09; 0.06; 0.92"
       ]
      },
      {
       "output_type": "stream",
       "stream": "stdout",
       "text": [
        "\n",
        "(6.00 5.00 0.60): 14.83; 48.61; 175.45; 0.07; 0.96"
       ]
      },
      {
       "output_type": "stream",
       "stream": "stdout",
       "text": [
        "\n",
        "(6.00 5.00 0.65): 13.89; 41.42; 152.81; 0.07; 0.96"
       ]
      },
      {
       "output_type": "stream",
       "stream": "stdout",
       "text": [
        "\n",
        "(6.00 5.00 0.70): 12.01; 30.25; 124.52; 0.08; 0.93"
       ]
      },
      {
       "output_type": "stream",
       "stream": "stdout",
       "text": [
        "\n",
        "(6.50 4.50 0.50): 18.98; 85.97; 249.03; 0.06; 1.01"
       ]
      },
      {
       "output_type": "stream",
       "stream": "stdout",
       "text": [
        "\n",
        "(6.50 4.50 0.55): 18.64; 77.29; 232.05; 0.06; 1.03"
       ]
      },
      {
       "output_type": "stream",
       "stream": "stdout",
       "text": [
        "\n",
        "(6.50 4.50 0.60): 18.16; 65.65; 192.43; 0.07; 1.09"
       ]
      },
      {
       "output_type": "stream",
       "stream": "stdout",
       "text": [
        "\n",
        "(6.50 4.50 0.65): 16.68; 52.91; 158.47; 0.08; 1.10"
       ]
      },
      {
       "output_type": "stream",
       "stream": "stdout",
       "text": [
        "\n",
        "(6.50 4.50 0.70): 13.97; 37.04; 113.20; 0.09; 1.09"
       ]
      },
      {
       "output_type": "stream",
       "stream": "stdout",
       "text": [
        "\n",
        "(6.50 5.00 0.50): 14.85; 55.49; 164.13; 0.07; 0.97"
       ]
      },
      {
       "output_type": "stream",
       "stream": "stdout",
       "text": [
        "\n",
        "(6.50 5.00 0.55): 14.57; 51.35; 164.13; 0.07; 0.96"
       ]
      },
      {
       "output_type": "stream",
       "stream": "stdout",
       "text": [
        "\n",
        "(6.50 5.00 0.60): 14.33; 44.78; 141.50; 0.08; 1.01"
       ]
      },
      {
       "output_type": "stream",
       "stream": "stdout",
       "text": [
        "\n",
        "(6.50 5.00 0.65): 13.39; 37.98; 124.52; 0.08; 1.01"
       ]
      },
      {
       "output_type": "stream",
       "stream": "stdout",
       "text": [
        "\n",
        "(6.50 5.00 0.70): 11.52; 27.43; 101.88; 0.09; 0.97"
       ]
      },
      {
       "output_type": "stream",
       "stream": "stdout",
       "text": [
        "\n",
        "(7.00 4.50 0.50): 18.40; 78.93; 226.39; 0.06; 1.02"
       ]
      },
      {
       "output_type": "stream",
       "stream": "stdout",
       "text": [
        "\n",
        "(7.00 4.50 0.55): 18.06; 70.73; 209.41; 0.06; 1.05"
       ]
      },
      {
       "output_type": "stream",
       "stream": "stdout",
       "text": [
        "\n",
        "(7.00 4.50 0.60): 17.58; 59.47; 169.79; 0.08; 1.12"
       ]
      },
      {
       "output_type": "stream",
       "stream": "stdout",
       "text": [
        "\n",
        "(7.00 4.50 0.65): 16.10; 47.44; 135.84; 0.09; 1.14"
       ]
      },
      {
       "output_type": "stream",
       "stream": "stdout",
       "text": [
        "\n",
        "(7.00 4.50 0.70): 13.44; 32.98; 96.22; 0.10; 1.13"
       ]
      },
      {
       "output_type": "stream",
       "stream": "stdout",
       "text": [
        "\n",
        "(7.00 5.00 0.50): 14.43; 51.42; 152.81; 0.07; 0.98"
       ]
      },
      {
       "output_type": "stream",
       "stream": "stdout",
       "text": [
        "\n",
        "(7.00 5.00 0.55): 14.16; 47.44; 152.81; 0.07; 0.97"
       ]
      },
      {
       "output_type": "stream",
       "stream": "stdout",
       "text": [
        "\n",
        "(7.00 5.00 0.60): 13.92; 41.11; 130.18; 0.08; 1.02"
       ]
      },
      {
       "output_type": "stream",
       "stream": "stdout",
       "text": [
        "\n",
        "(7.00 5.00 0.65): 12.98; 34.70; 113.20; 0.09; 1.02"
       ]
      },
      {
       "output_type": "stream",
       "stream": "stdout",
       "text": [
        "\n",
        "(7.00 5.00 0.70): 11.12; 24.85; 90.56; 0.10; 0.99"
       ]
      },
      {
       "output_type": "stream",
       "stream": "stdout",
       "text": [
        "\n",
        "(7.50 4.50 0.50): 17.34; 72.29; 203.75; 0.06; 1.01"
       ]
      },
      {
       "output_type": "stream",
       "stream": "stdout",
       "text": [
        "\n",
        "(7.50 4.50 0.55): 16.99; 64.71; 186.77; 0.07; 1.04"
       ]
      },
      {
       "output_type": "stream",
       "stream": "stdout",
       "text": [
        "\n",
        "(7.50 4.50 0.60): 16.55; 54.47; 152.81; 0.08; 1.11"
       ]
      },
      {
       "output_type": "stream",
       "stream": "stdout",
       "text": [
        "\n",
        "(7.50 4.50 0.65): 15.14; 42.98; 118.86; 0.09; 1.14"
       ]
      },
      {
       "output_type": "stream",
       "stream": "stdout",
       "text": [
        "\n",
        "(7.50 4.50 0.70): 12.58; 29.93; 84.90; 0.11; 1.11"
       ]
      },
      {
       "output_type": "stream",
       "stream": "stdout",
       "text": [
        "\n",
        "(7.50 5.00 0.50): 13.68; 47.91; 135.84; 0.07; 0.97"
       ]
      },
      {
       "output_type": "stream",
       "stream": "stdout",
       "text": [
        "\n",
        "(7.50 5.00 0.55): 13.41; 44.08; 135.84; 0.07; 0.96"
       ]
      },
      {
       "output_type": "stream",
       "stream": "stdout",
       "text": [
        "\n",
        "(7.50 5.00 0.60): 13.16; 38.30; 118.86; 0.08; 1.01"
       ]
      },
      {
       "output_type": "stream",
       "stream": "stdout",
       "text": [
        "\n",
        "(7.50 5.00 0.65): 12.26; 32.04; 101.88; 0.09; 1.01"
       ]
      },
      {
       "output_type": "stream",
       "stream": "stdout",
       "text": [
        "\n",
        "(8.00 4.50 0.50): 16.24; 65.57; 186.77; 0.06; 0.99"
       ]
      },
      {
       "output_type": "stream",
       "stream": "stdout",
       "text": [
        "\n",
        "(8.00 4.50 0.55): 15.91; 58.46; 169.79; 0.07; 1.02"
       ]
      },
      {
       "output_type": "stream",
       "stream": "stdout",
       "text": [
        "\n",
        "(8.00 4.50 0.60): 15.46; 49.00; 141.50; 0.08; 1.08"
       ]
      },
      {
       "output_type": "stream",
       "stream": "stdout",
       "text": [
        "\n",
        "(8.00 4.50 0.65): 14.11; 38.37; 113.20; 0.09; 1.10"
       ]
      },
      {
       "output_type": "stream",
       "stream": "stdout",
       "text": [
        "\n",
        "(8.00 4.50 0.70): 11.65; 26.49; 79.24; 0.11; 1.08"
       ]
      },
      {
       "output_type": "stream",
       "stream": "stdout",
       "text": [
        "\n",
        "(8.00 5.00 0.50): 12.89; 43.84; 124.52; 0.08; 0.96"
       ]
      },
      {
       "output_type": "stream",
       "stream": "stdout",
       "text": [
        "\n",
        "(8.00 5.00 0.55): 12.63; 40.33; 124.52; 0.08; 0.95"
       ]
      },
      {
       "output_type": "stream",
       "stream": "stdout",
       "text": [
        "\n",
        "(8.00 5.00 0.60): 12.39; 34.93; 107.54; 0.09; 1.00"
       ]
      },
      {
       "output_type": "stream",
       "stream": "stdout",
       "text": [
        "\n",
        "(8.00 5.00 0.65): 11.52; 28.92; 96.22; 0.09; 0.99"
       ]
      },
      {
       "output_type": "stream",
       "stream": "stdout",
       "text": [
        "\n",
        "(8.50 4.50 0.50): 15.24; 58.85; 186.77; 0.06; 0.94"
       ]
      },
      {
       "output_type": "stream",
       "stream": "stdout",
       "text": [
        "\n",
        "(8.50 4.50 0.55): 14.93; 52.13; 169.79; 0.07; 0.97"
       ]
      },
      {
       "output_type": "stream",
       "stream": "stdout",
       "text": [
        "\n",
        "(8.50 4.50 0.60): 14.50; 43.30; 141.50; 0.08; 1.03"
       ]
      },
      {
       "output_type": "stream",
       "stream": "stdout",
       "text": [
        "\n",
        "(8.50 4.50 0.65): 13.23; 33.22; 113.20; 0.09; 1.05"
       ]
      },
      {
       "output_type": "stream",
       "stream": "stdout",
       "text": [
        "\n",
        "(8.50 5.00 0.50): 12.17; 38.84; 124.52; 0.07; 0.92"
       ]
      },
      {
       "output_type": "stream",
       "stream": "stdout",
       "text": [
        "\n",
        "(8.50 5.00 0.55): 11.93; 35.72; 124.52; 0.07; 0.91"
       ]
      },
      {
       "output_type": "stream",
       "stream": "stdout",
       "text": [
        "\n",
        "(8.50 5.00 0.60): 11.71; 30.79; 107.54; 0.08; 0.96"
       ]
      },
      {
       "output_type": "stream",
       "stream": "stdout",
       "text": [
        "\n",
        "(9.00 4.50 0.50): 13.99; 51.89; 169.79; 0.06; 0.91"
       ]
      },
      {
       "output_type": "stream",
       "stream": "stdout",
       "text": [
        "\n",
        "(9.00 4.50 0.55): 13.70; 45.41; 152.81; 0.07; 0.94"
       ]
      },
      {
       "output_type": "stream",
       "stream": "stdout",
       "text": [
        "\n",
        "(9.00 4.50 0.60): 13.27; 37.44; 130.18; 0.08; 0.99"
       ]
      },
      {
       "output_type": "stream",
       "stream": "stdout",
       "text": [
        "\n",
        "(9.00 4.50 0.65): 12.10; 28.53; 101.88; 0.09; 1.01"
       ]
      },
      {
       "output_type": "stream",
       "stream": "stdout",
       "text": [
        "\n",
        "(9.00 5.00 0.50): 11.31; 35.01; 113.20; 0.08; 0.90"
       ]
      },
      {
       "output_type": "stream",
       "stream": "stdout",
       "text": [
        "\n",
        "(9.50 4.50 0.50): 13.03; 48.06; 158.47; 0.06; 0.88"
       ]
      },
      {
       "output_type": "stream",
       "stream": "stdout",
       "text": [
        "\n",
        "(9.50 4.50 0.55): 12.74; 41.73; 141.50; 0.07; 0.91"
       ]
      },
      {
       "output_type": "stream",
       "stream": "stdout",
       "text": [
        "\n",
        "(9.50 4.50 0.60): 12.36; 34.47; 124.52; 0.08; 0.94"
       ]
      },
      {
       "output_type": "stream",
       "stream": "stdout",
       "text": [
        "\n",
        "(9.50 4.50 0.65): 11.24; 26.03; 96.22; 0.09; 0.97"
       ]
      },
      {
       "output_type": "stream",
       "stream": "stdout",
       "text": [
        "\n",
        "(10.00 4.50 0.50): 12.15; 43.53; 135.84; 0.07; 0.88"
       ]
      },
      {
       "output_type": "stream",
       "stream": "stdout",
       "text": [
        "\n",
        "(10.00 4.50 0.55): 11.88; 37.59; 118.86; 0.08; 0.92"
       ]
      },
      {
       "output_type": "stream",
       "stream": "stdout",
       "text": [
        "\n",
        "(10.00 4.50 0.60): 11.52; 30.79; 101.88; 0.09; 0.96"
       ]
      },
      {
       "output_type": "stream",
       "stream": "stdout",
       "text": [
        "\n"
       ]
      }
     ],
     "prompt_number": 36
    },
    {
     "cell_type": "code",
     "collapsed": false,
     "input": [
      "S1List=[]; S2List=[]; S3List=[]\n",
      "for i in ListForFile:\n",
      "    S=i[2]*0.017; B=i[1]*0.078; S1=S/B; S2=S/np.sqrt(S+B); S3=S1*S2\n",
      "    S1List.append(S1); S2List.append(S2); S3List.append(S3);\n",
      "    print S, B, S1, S2, S3\n",
      "print \"Max S1:\", ListForFile[S1List.index(max(S1List))][0], S1List.index(max(S1List)), max(S1List)\n",
      "print \"Max S2:\", ListForFile[S2List.index(max(S2List))][0], S2List.index(max(S2List)), max(S2List)\n",
      "print \"Max S3:\", ListForFile[S3List.index(max(S3List))][0], S3List.index(max(S3List)), max(S3List)"
     ],
     "language": "python",
     "metadata": {},
     "outputs": [
      {
       "output_type": "stream",
       "stream": "stdout",
       "text": [
        "20.757 107.562 0.192977073688 1.83239501701 0.353610228223\n",
        "20.4 98.202 0.207735076679 1.87320005172 0.389129356378\n",
        "19.907 85.254 0.233502240364 1.94123656392 0.453283086753\n",
        "18.411 69.42 0.265211754538 1.96450647365 0.521010208677\n",
        "15.691 50.388 0.311403508772 1.93027369089 0.601094000233\n",
        "11.611 30.888 0.375906500907 1.78106705095 0.669514683004\n",
        "15.742 66.534 0.236600835663 1.73549482621 0.41061952617\n",
        "15.47 62.166 0.248849853618 1.75573407535 0.436914167642\n",
        "15.232 54.99 0.276995817421 1.81769215898 0.503493125398\n",
        "14.297 47.112 0.303468330786 1.82443713984 0.553658893452\n",
        "12.444 34.866 0.356909309929 1.80918729149 0.645715787737\n",
        "20.162 101.634 0.198378495385 1.82690976712 0.362419610805\n",
        "19.805 92.43 0.214270258574 1.86943638562 0.400564617734\n",
        "19.329 80.028 0.241527965212 1.93914440332 0.468357601987\n",
        "17.833 64.818 0.275124193897 1.96155438354 0.539671068555\n",
        "15.13 46.332 0.326556159889 1.92990345619 0.630221861612\n",
        "11.118 28.158 0.394843383763 1.77403851394 0.70046736977\n",
        "15.504 63.726 0.243291592129 1.74180258898 0.423765925048\n",
        "15.232 59.436 0.25627565785 1.76274573124 0.451748821896\n",
        "14.994 52.572 0.285208856425 1.8241199875 0.520255175618\n",
        "14.059 44.928 0.31292289886 1.83052757888 0.572813996428\n",
        "12.206 32.838 0.371703514221 1.81867413655 0.676007567779\n",
        "19.55 92.976 0.210269316813 1.84297872217 0.387521876811\n",
        "19.193 84.162 0.228048287826 1.88789187616 0.430530509958\n",
        "18.717 72.072 0.259698634699 1.96435340531 0.510139897425\n",
        "17.221 57.798 0.297951486211 1.98825796708 0.592404416262\n",
        "14.535 40.95 0.354945054945 1.95131436146 0.692609383242\n",
        "15.198 59.358 0.256039623977 1.76013160146 0.450663433388\n",
        "14.926 55.224 0.27028103723 1.78208986209 0.481665096362\n",
        "14.688 48.516 0.302745486025 1.84752524606 0.559329928563\n",
        "13.753 41.34 0.332680212869 1.85288827054 0.616419264265\n",
        "11.9 30.186 0.394222487246 1.83433281752 0.723135245759\n",
        "18.802 85.8 0.219137529138 1.83837478301 0.402856907577\n",
        "18.462 77.142 0.239324881388 1.88816835622 0.451885667892\n",
        "17.986 65.52 0.274511599512 1.96822955319 0.540301842853\n",
        "16.524 52.806 0.312918986479 1.98451591539 0.620992708895\n",
        "13.838 36.972 0.374283241372 1.94132715223 0.7266062191\n",
        "14.705 55.38 0.265529071867 1.7565175365 0.466406471185\n",
        "14.433 51.246 0.28164149397 1.7809156311 0.501579738977\n",
        "14.195 44.694 0.317604152683 1.84977245074 0.587495411873\n",
        "13.26 37.908 0.349794238683 1.85372071462 0.648420826101\n",
        "11.407 27.378 0.416648403828 1.8316375725 0.763148870972\n",
        "18.224 78.78 0.231327748159 1.85032870063 0.42803237167\n",
        "17.884 70.59 0.253350332908 1.90132706305 0.481701844391\n",
        "17.408 59.358 0.293271336635 1.98684698743 0.582685271694\n",
        "15.946 47.346 0.336797195117 2.00436749 0.675065348614\n",
        "13.311 32.916 0.404393000365 1.95777522564 0.791710597535\n",
        "14.297 51.324 0.278563634947 1.76491378419 0.491640799093\n",
        "14.025 47.346 0.296223545812 1.79028127785 0.530323468125\n",
        "13.787 41.028 0.336038802769 1.86217317549 0.62576244444\n",
        "12.852 34.632 0.371101871102 1.86507829819 0.69213404621\n",
        "11.016 24.804 0.44412191582 1.84060728453 0.81745403348\n",
        "17.17 72.15 0.237976437976 1.8167532173 0.432344459336\n",
        "16.83 64.584 0.260590858417 1.86523935251 0.486064324023\n",
        "16.388 54.366 0.301438398999 1.94827589228 0.587285165777\n",
        "14.994 42.9 0.34951048951 1.97061020782 0.688748938368\n",
        "12.461 29.874 0.417118564638 1.91515140738 0.798845206111\n",
        "13.549 47.814 0.283368887773 1.72963295289 0.490124166117\n",
        "13.277 43.992 0.301804873613 1.75444660492 0.52950053586\n",
        "13.039 38.22 0.341156462585 1.8212066215 0.621316408628\n",
        "12.138 31.98 0.379549718574 1.82742358204 0.693598106278\n",
        "16.082 65.442 0.245744323218 1.78113696792 0.437704298739\n",
        "15.759 58.344 0.270104895105 1.83067293258 0.494473720427\n",
        "15.317 48.906 0.313192655298 1.91129805598 0.598604513218\n",
        "13.974 38.298 0.364875450415 1.93279672186 0.705230074451\n",
        "11.543 26.442 0.43654035247 1.87289155025 0.817592737482\n",
        "12.767 43.758 0.291763791764 1.69812076583 0.495450153511\n",
        "12.512 40.248 0.310872589942 1.72255993711 0.535496668979\n",
        "12.274 34.866 0.352033499685 1.7876863738 0.629325490507\n",
        "11.407 28.86 0.395252945253 1.7976155002 0.710512820888\n",
        "15.096 58.734 0.257023189294 1.75689356825 0.451562388162\n",
        "14.79 52.026 0.284280936455 1.80937230138 0.514370052232\n",
        "14.365 43.212 0.332430806258 1.89313294817 0.629335712313\n",
        "13.107 33.15 0.395384615385 1.92714577782 0.761963792152\n",
        "12.053 38.766 0.310916782748 1.69076052314 0.525685822253\n",
        "11.815 35.646 0.33145373955 1.7150045781 0.568444680756\n",
        "11.594 30.732 0.377261486399 1.78209020115 0.672313998183\n",
        "13.855 51.792 0.267512357121 1.71001172446 0.457449267115\n",
        "13.566 45.318 0.299351251158 1.76788153888 0.529217550564\n",
        "13.141 37.362 0.351720999946 1.84914014292 0.650381420109\n",
        "11.985 28.47 0.420969441517 1.88430818939 0.793236166135\n",
        "11.203 34.944 0.320598672161 1.64915926694 0.528718271163\n",
        "12.903 47.97 0.268980612883 1.65378231905 0.444835381753\n",
        "12.614 41.652 0.302842600595 1.71233574005 0.518568208609\n",
        "12.24 34.398 0.355834641549 1.7923031116 0.637763535263\n",
        "11.135 25.974 0.428697928698 1.82789226776 0.783613629074\n",
        "12.036 43.446 0.277033558901 1.61586891016 0.447649914898\n",
        "11.764 37.518 0.31355615971 1.67575627239 0.52544370138\n",
        "11.407 30.732 0.371176623715 1.75723291282 0.652243779662\n",
        "Max S1: (7.0, 5.0, 0.70000000000000007) 51 0.44412191582\n",
        "Max S2: (7.0, 4.5, 0.65000000000000002) 45 2.00436749\n",
        "Max S3: (8.0, 4.5, 0.70000000000000007) 65 0.817592737482\n"
       ]
      }
     ],
     "prompt_number": 37
    },
    {
     "cell_type": "code",
     "collapsed": false,
     "input": [
      "SignalEntries1=[]\n",
      "TTbarEntries1=[]\n",
      "\n",
      "#DRHJ<=1.2 && (DRWH>=1.6 && DRWH<=4.0) && M2HP>9 && DRTp6thJ>4.7 && RelHT>=0.7 && (HM>=105 && HM<=145)\n",
      "\n",
      "Eta6thJSet1=[\"TMath::Abs(Eta6thJ)>\",np.linspace(1.0,2.0,1)]\n",
      "DRTp6thJSet1=[\"DRTp6thJ>\",np.linspace(4.0,5.0,11)]\n",
      "RelHTSet1=[\"RelHT>=\",np.linspace(0.6,0.75,7)]\n",
      "M2HPSet1=[\"M2HP>\",np.linspace(7.0,8.5,7)]\n",
      "#Eta6thJSet=[\"TMath::Abs(Eta6thJ)>\",np.linspace(1.0,2.0,11)]\n",
      "\n",
      "CounterToWriteToFile=0\n",
      "ListForFile1=[]\n",
      "\n",
      "Cut2Set=M2HPSet1\n",
      "Cut3Set=DRTp6thJSet1\n",
      "Cut4Set=RelHTSet1\n",
      "\n",
      "for i in Cut2Set[1]:\n",
      "    Cut2 = ROOT.TCut(Cut2Set[0]+str(i))\n",
      "    for j in Cut3Set[1]:\n",
      "        Cut3 = ROOT.TCut(Cut3Set[0]+str(j))\n",
      "        for k in Cut4Set[1]:\n",
      "            Cut4 = ROOT.TCut(Cut4Set[0]+str(k))\n",
      "            CutF=CutDRbb*CutDRWH*Cut2*Cut3*CutHM*Cut4\n",
      "\n",
      "            Sntuple.Draw(\"M5J >> M5jS(120,400,1600)\",CutF)\n",
      "            M5JHS=ROOT.gDirectory.Get(\"M5jS\")\n",
      "            if M5JHS.GetEntries()*0.017<11: continue\n",
      "            Tntuple.Draw(\"M5J >> M5jT(120,400,1600)\",CutF)\n",
      "            M5JHT=ROOT.gDirectory.Get(\"M5jT\")\n",
      "            Qntuple.Draw(\"M5J >> M5jQ(120,400,1600)\",CutF)\n",
      "            M5JHQ=ROOT.gDirectory.Get(\"M5jQ\")\n",
      "            #SignalEntries.append([CutF,M5JHS.GetEntries()]); TTbarEntries.append([CutF,M5JHT.GetEntries()])\n",
      "            CounterToWriteToFile+=1\n",
      "            we=ROOT.Double(0.)\n",
      "            TTbarStruc1=M5JHT.IntegralAndError(M5JHT.GetXaxis().FindBin(0),M5JHT.GetXaxis().FindBin(700),we)/M5JHT.Integral()\n",
      "            TTbarStruc2=M5JHT.IntegralAndError(M5JHT.GetXaxis().FindBin(700),M5JHT.GetXaxis().FindBin(850),we)/M5JHT.Integral()\n",
      "            TTbarStruc3=M5JHT.IntegralAndError(M5JHT.GetXaxis().FindBin(850),M5JHT.GetXaxis().FindBin(1000),we)/M5JHT.Integral()\n",
      "            TTbarStruc4=M5JHT.IntegralAndError(M5JHT.GetXaxis().FindBin(1000),M5JHT.GetXaxis().FindBin(10000),we)/M5JHT.Integral()\n",
      "            QCDStruc1=M5JHQ.IntegralAndError(M5JHQ.GetXaxis().FindBin(0),M5JHQ.GetXaxis().FindBin(700),we)/M5JHQ.Integral()\n",
      "            QCDStruc2=M5JHQ.IntegralAndError(M5JHQ.GetXaxis().FindBin(700),M5JHQ.GetXaxis().FindBin(850),we)/M5JHQ.Integral()\n",
      "            QCDStruc3=M5JHQ.IntegralAndError(M5JHQ.GetXaxis().FindBin(850),M5JHQ.GetXaxis().FindBin(1000),we)/M5JHQ.Integral()\n",
      "            QCDStruc4=M5JHQ.IntegralAndError(M5JHQ.GetXaxis().FindBin(1000),M5JHQ.GetXaxis().FindBin(10000),we)/M5JHQ.Integral()\n",
      "            print '({0:.2f} {1:.2f} {2:.2f}): {3:.2f}; {4:.2f}; {5:.2f}; {6:.2f}; {7:.2f} | ({8:.2f},{9:.2f},{10:.2f},{11:.2f}) ({12:.2f},{13:.2f},{14:.2f},{15:.2f})'.format(i,j,k,\n",
      "                                                                                                        M5JHS.GetEntries()*SWeight,\n",
      "                                                                                                        M5JHT.GetEntries()*TWeight,\n",
      "                                                                                                        M5JHQ.GetEntries()*QWeight,\n",
      "                                                                                                        M5JHS.GetEntries()*SWeight/(M5JHT.GetEntries()*TWeight+M5JHQ.GetEntries()*QWeight),\n",
      "                                                                                                        M5JHS.GetEntries()*SWeight/np.sqrt(M5JHS.GetEntries()*SWeight+M5JHT.GetEntries()*TWeight+M5JHQ.GetEntries()*QWeight),\n",
      "                                                                                                        TTbarStruc1,TTbarStruc2,TTbarStruc3,TTbarStruc4,\n",
      "                                                                                                        QCDStruc1,QCDStruc2,QCDStruc3,QCDStruc4)\n",
      "            ListForFile1.append([(i,j,k),M5JHT.GetEntries(),M5JHS.GetEntries()])\n",
      "            FinalCondition=(Cut2Set[1][-1]==i and Cut3Set[1][-1]==j and Cut4Set[1][-1]==k)\n",
      "            #if CounterToWriteToFile%200==0: #or FinalCondition:\n",
      "            #    f = open('Selections_SS_%i_m2hp_eta6thj_relht.txt'%(CounterToWriteToFile), 'w')\n",
      "            #    f.write(str(ListForFile))\n",
      "            #    f.close(); print \"File %i produced\"%(CounterToWriteToFile)\n",
      "            #    ListForFile=[]\n",
      "            #print M5JHS.GetEntries(), M5JHT.GetEntries()\n",
      "\n",
      "#f = open('Selections_SS_eta6thj.txt', 'w')\n",
      "#f.write(str(ListForFile))\n",
      "#f.close()\n",
      "#print ListForFile1"
     ],
     "language": "python",
     "metadata": {},
     "outputs": [
      {
       "output_type": "stream",
       "stream": "stdout",
       "text": [
        "(7.00 4.00 0.60): 20.12; 78.31; 226.39; 0.07; 1.12 | (0.45,0.35,0.15,0.09) (0.38,0.40,0.20,0.07)\n",
        "(7.00 4.00 0.62): 19.17; 69.32; 209.41; 0.07; 1.11 | (0.42,0.37,0.16,0.10) (0.38,0.38,0.22,0.08)"
       ]
      },
      {
       "output_type": "stream",
       "stream": "stdout",
       "text": [
        "\n",
        "(7.00 4.00 0.65): 18.21; 59.71; 181.11; 0.08; 1.13 | (0.40,0.38,0.16,0.10) (0.34,0.41,0.22,0.09)"
       ]
      },
      {
       "output_type": "stream",
       "stream": "stdout",
       "text": [
        "\n",
        "(7.00 4.00 0.68): 16.60; 49.00; 141.50; 0.09; 1.15 | (0.36,0.40,0.17,0.11) (0.24,0.48,0.24,0.12)"
       ]
      },
      {
       "output_type": "stream",
       "stream": "stdout",
       "text": [
        "\n",
        "(7.00 4.00 0.70): 14.71; 40.56; 113.20; 0.10; 1.13 | (0.34,0.40,0.17,0.12) (0.20,0.55,0.25,0.10)"
       ]
      },
      {
       "output_type": "stream",
       "stream": "stdout",
       "text": [
        "\n",
        "(7.00 4.00 0.72): 12.60; 31.50; 79.24; 0.11; 1.13 | (0.31,0.40,0.20,0.13) (0.29,0.57,0.07,0.14)"
       ]
      },
      {
       "output_type": "stream",
       "stream": "stdout",
       "text": [
        "\n",
        "(7.00 4.10 0.60): 19.65; 74.71; 226.39; 0.07; 1.10 | (0.45,0.35,0.16,0.09) (0.38,0.40,0.20,0.07)"
       ]
      },
      {
       "output_type": "stream",
       "stream": "stdout",
       "text": [
        "\n",
        "(7.00 4.10 0.62): 18.76; 66.59; 209.41; 0.07; 1.09 | (0.42,0.37,0.16,0.10) (0.38,0.38,0.22,0.08)"
       ]
      },
      {
       "output_type": "stream",
       "stream": "stdout",
       "text": [
        "\n",
        "(7.00 4.10 0.65): 17.87; 57.52; 181.11; 0.07; 1.12 | (0.40,0.38,0.16,0.11) (0.34,0.41,0.22,0.09)"
       ]
      },
      {
       "output_type": "stream",
       "stream": "stdout",
       "text": [
        "\n",
        "(7.00 4.10 0.68): 16.34; 47.28; 141.50; 0.09; 1.14 | (0.36,0.40,0.17,0.11) (0.24,0.48,0.24,0.12)"
       ]
      },
      {
       "output_type": "stream",
       "stream": "stdout",
       "text": [
        "\n",
        "(7.00 4.10 0.70): 14.54; 39.23; 113.20; 0.10; 1.13 | (0.34,0.41,0.17,0.12) (0.20,0.55,0.25,0.10)"
       ]
      },
      {
       "output_type": "stream",
       "stream": "stdout",
       "text": [
        "\n",
        "(7.00 4.10 0.72): 12.46; 30.64; 79.24; 0.11; 1.13 | (0.31,0.40,0.20,0.13) (0.29,0.57,0.07,0.14)"
       ]
      },
      {
       "output_type": "stream",
       "stream": "stdout",
       "text": [
        "\n",
        "(7.00 4.20 0.60): 19.14; 70.73; 209.41; 0.07; 1.11 | (0.45,0.35,0.16,0.09) (0.38,0.43,0.19,0.05)"
       ]
      },
      {
       "output_type": "stream",
       "stream": "stdout",
       "text": [
        "\n",
        "(7.00 4.20 0.62): 18.30; 63.54; 192.43; 0.07; 1.10 | (0.42,0.36,0.17,0.10) (0.38,0.41,0.21,0.06)"
       ]
      },
      {
       "output_type": "stream",
       "stream": "stdout",
       "text": [
        "\n",
        "(7.00 4.20 0.65): 17.44; 55.25; 164.13; 0.08; 1.13 | (0.40,0.38,0.16,0.11) (0.34,0.45,0.21,0.07)"
       ]
      },
      {
       "output_type": "stream",
       "stream": "stdout",
       "text": [
        "\n",
        "(7.00 4.20 0.68): 16.00; 45.49; 130.18; 0.09; 1.16 | (0.36,0.39,0.18,0.11) (0.26,0.52,0.22,0.09)"
       ]
      },
      {
       "output_type": "stream",
       "stream": "stdout",
       "text": [
        "\n",
        "(7.00 4.20 0.70): 14.28; 37.67; 107.54; 0.10; 1.13 | (0.35,0.40,0.18,0.12) (0.21,0.58,0.21,0.11)"
       ]
      },
      {
       "output_type": "stream",
       "stream": "stdout",
       "text": [
        "\n",
        "(7.00 4.20 0.72): 12.31; 29.70; 79.24; 0.11; 1.12 | (0.31,0.40,0.20,0.13) (0.29,0.57,0.07,0.14)"
       ]
      },
      {
       "output_type": "stream",
       "stream": "stdout",
       "text": [
        "\n",
        "(7.00 4.30 0.60): 18.71; 66.90; 198.09; 0.07; 1.11 | (0.44,0.36,0.16,0.10) (0.34,0.46,0.20,0.06)"
       ]
      },
      {
       "output_type": "stream",
       "stream": "stdout",
       "text": [
        "\n",
        "(7.00 4.30 0.62): 17.88; 60.18; 181.11; 0.07; 1.11 | (0.41,0.37,0.17,0.10) (0.34,0.44,0.22,0.06)"
       ]
      },
      {
       "output_type": "stream",
       "stream": "stdout",
       "text": [
        "\n",
        "(7.00 4.30 0.65): 17.04; 52.75; 158.47; 0.08; 1.13 | (0.39,0.39,0.17,0.11) (0.32,0.46,0.21,0.07)"
       ]
      },
      {
       "output_type": "stream",
       "stream": "stdout",
       "text": [
        "\n",
        "(7.00 4.30 0.68): 15.69; 43.53; 130.18; 0.09; 1.14 | (0.35,0.40,0.18,0.12) (0.26,0.52,0.22,0.09)"
       ]
      },
      {
       "output_type": "stream",
       "stream": "stdout",
       "text": [
        "\n",
        "(7.00 4.30 0.70): 14.11; 36.03; 107.54; 0.10; 1.12 | (0.34,0.40,0.18,0.13) (0.21,0.58,0.21,0.11)"
       ]
      },
      {
       "output_type": "stream",
       "stream": "stdout",
       "text": [
        "\n",
        "(7.00 4.30 0.72): 12.17; 28.53; 79.24; 0.11; 1.11 | (0.30,0.40,0.20,0.13) (0.29,0.57,0.07,0.14)"
       ]
      },
      {
       "output_type": "stream",
       "stream": "stdout",
       "text": [
        "\n",
        "(7.00 4.40 0.60): 18.19; 63.30; 181.11; 0.07; 1.12 | (0.43,0.36,0.16,0.10) (0.34,0.44,0.22,0.06)"
       ]
      },
      {
       "output_type": "stream",
       "stream": "stdout",
       "text": [
        "\n",
        "(7.00 4.40 0.62): 17.37; 57.44; 164.13; 0.08; 1.12 | (0.41,0.37,0.16,0.11) (0.34,0.41,0.24,0.07)"
       ]
      },
      {
       "output_type": "stream",
       "stream": "stdout",
       "text": [
        "\n",
        "(7.00 4.40 0.65): 16.63; 50.57; 141.50; 0.09; 1.15 | (0.39,0.39,0.16,0.11) (0.32,0.44,0.24,0.08)"
       ]
      },
      {
       "output_type": "stream",
       "stream": "stdout",
       "text": [
        "\n",
        "(7.00 4.40 0.68): 15.33; 42.05; 124.52; 0.09; 1.14 | (0.35,0.40,0.18,0.12) (0.27,0.50,0.23,0.09)"
       ]
      },
      {
       "output_type": "stream",
       "stream": "stdout",
       "text": [
        "\n",
        "(7.00 4.40 0.70): 13.82; 34.86; 101.88; 0.10; 1.13 | (0.34,0.40,0.18,0.13) (0.22,0.56,0.22,0.11)"
       ]
      },
      {
       "output_type": "stream",
       "stream": "stdout",
       "text": [
        "\n",
        "(7.00 4.40 0.72): 11.95; 27.82; 73.58; 0.12; 1.12 | (0.30,0.41,0.20,0.14) (0.31,0.54,0.08,0.15)"
       ]
      },
      {
       "output_type": "stream",
       "stream": "stdout",
       "text": [
        "\n",
        "(7.00 4.50 0.60): 17.58; 59.47; 169.79; 0.08; 1.12 | (0.43,0.36,0.16,0.10) (0.37,0.43,0.17,0.07)"
       ]
      },
      {
       "output_type": "stream",
       "stream": "stdout",
       "text": [
        "\n",
        "(7.00 4.50 0.62): 16.79; 53.93; 152.81; 0.08; 1.12 | (0.40,0.38,0.16,0.10) (0.37,0.41,0.19,0.07)"
       ]
      },
      {
       "output_type": "stream",
       "stream": "stdout",
       "text": [
        "\n",
        "(7.00 4.50 0.65): 16.10; 47.44; 135.84; 0.09; 1.14 | (0.38,0.39,0.16,0.11) (0.33,0.42,0.21,0.08)"
       ]
      },
      {
       "output_type": "stream",
       "stream": "stdout",
       "text": [
        "\n",
        "(7.00 4.50 0.68): 14.86; 39.62; 118.86; 0.09; 1.13 | (0.35,0.41,0.17,0.11) (0.29,0.48,0.19,0.10)"
       ]
      },
      {
       "output_type": "stream",
       "stream": "stdout",
       "text": [
        "\n",
        "(7.00 4.50 0.70): 13.44; 32.98; 96.22; 0.10; 1.13 | (0.34,0.41,0.17,0.13) (0.24,0.53,0.18,0.12)"
       ]
      },
      {
       "output_type": "stream",
       "stream": "stdout",
       "text": [
        "\n",
        "(7.00 4.50 0.72): 11.65; 26.26; 73.58; 0.12; 1.10 | (0.30,0.41,0.19,0.14) (0.31,0.54,0.08,0.15)"
       ]
      },
      {
       "output_type": "stream",
       "stream": "stdout",
       "text": [
        "\n",
        "(7.00 4.60 0.60): 16.82; 55.33; 164.13; 0.08; 1.09 | (0.41,0.37,0.16,0.10) (0.38,0.41,0.17,0.07)"
       ]
      },
      {
       "output_type": "stream",
       "stream": "stdout",
       "text": [
        "\n",
        "(7.00 4.60 0.62): 16.13; 50.72; 152.81; 0.08; 1.09 | (0.39,0.38,0.17,0.11) (0.37,0.41,0.19,0.07)"
       ]
      },
      {
       "output_type": "stream",
       "stream": "stdout",
       "text": [
        "\n",
        "(7.00 4.60 0.65): 15.46; 44.86; 135.84; 0.09; 1.10 | (0.36,0.40,0.17,0.11) (0.33,0.42,0.21,0.08)"
       ]
      },
      {
       "output_type": "stream",
       "stream": "stdout",
       "text": [
        "\n",
        "(7.00 4.60 0.68): 14.30; 37.75; 118.86; 0.09; 1.09 | (0.33,0.42,0.18,0.12) (0.29,0.48,0.19,0.10)"
       ]
      },
      {
       "output_type": "stream",
       "stream": "stdout",
       "text": [
        "\n",
        "(7.00 4.60 0.70): 12.91; 31.34; 96.22; 0.10; 1.09 | (0.32,0.41,0.18,0.13) (0.24,0.53,0.18,0.12)"
       ]
      },
      {
       "output_type": "stream",
       "stream": "stdout",
       "text": [
        "\n",
        "(7.00 4.60 0.72): 11.24; 25.32; 73.58; 0.11; 1.07 | (0.29,0.41,0.20,0.15) (0.31,0.54,0.08,0.15)"
       ]
      },
      {
       "output_type": "stream",
       "stream": "stdout",
       "text": [
        "\n",
        "(7.00 4.70 0.60): 16.00; 50.88; 147.16; 0.08; 1.09 | (0.40,0.37,0.17,0.10) (0.35,0.46,0.15,0.08)"
       ]
      },
      {
       "output_type": "stream",
       "stream": "stdout",
       "text": [
        "\n",
        "(7.00 4.70 0.62): 15.34; 46.74; 135.84; 0.08; 1.09 | (0.38,0.38,0.18,0.11) (0.33,0.46,0.17,0.08)"
       ]
      },
      {
       "output_type": "stream",
       "stream": "stdout",
       "text": [
        "\n",
        "(7.00 4.70 0.65): 14.74; 41.73; 124.52; 0.09; 1.10 | (0.36,0.40,0.18,0.11) (0.32,0.45,0.18,0.09)"
       ]
      },
      {
       "output_type": "stream",
       "stream": "stdout",
       "text": [
        "\n",
        "(7.00 4.70 0.68): 13.68; 35.40; 113.20; 0.09; 1.07 | (0.33,0.42,0.19,0.12) (0.25,0.50,0.20,0.10)"
       ]
      },
      {
       "output_type": "stream",
       "stream": "stdout",
       "text": [
        "\n",
        "(7.00 4.70 0.70): 12.38; 29.31; 90.56; 0.10; 1.08 | (0.31,0.41,0.18,0.13) (0.19,0.56,0.19,0.12)"
       ]
      },
      {
       "output_type": "stream",
       "stream": "stdout",
       "text": [
        "\n",
        "(7.00 4.80 0.60): 15.26; 47.52; 141.50; 0.08; 1.07 | (0.39,0.38,0.17,0.11) (0.32,0.48,0.16,0.08)"
       ]
      },
      {
       "output_type": "stream",
       "stream": "stdout",
       "text": [
        "\n",
        "(7.00 4.80 0.62): 14.66; 44.00; 130.18; 0.08; 1.07 | (0.37,0.38,0.18,0.11) (0.30,0.48,0.17,0.09)"
       ]
      },
      {
       "output_type": "stream",
       "stream": "stdout",
       "text": [
        "\n",
        "(7.00 4.80 0.65): 14.18; 39.62; 118.86; 0.09; 1.08 | (0.35,0.40,0.18,0.11) (0.29,0.48,0.19,0.10)"
       ]
      },
      {
       "output_type": "stream",
       "stream": "stdout",
       "text": [
        "\n",
        "(7.00 4.80 0.68): 13.27; 33.84; 113.20; 0.09; 1.05 | (0.33,0.42,0.19,0.12) (0.25,0.50,0.20,0.10)"
       ]
      },
      {
       "output_type": "stream",
       "stream": "stdout",
       "text": [
        "\n",
        "(7.00 4.80 0.70): 12.05; 28.06; 90.56; 0.10; 1.05 | (0.32,0.41,0.18,0.13) (0.19,0.56,0.19,0.12)"
       ]
      },
      {
       "output_type": "stream",
       "stream": "stdout",
       "text": [
        "\n",
        "(7.00 4.90 0.60): 14.47; 44.55; 141.50; 0.08; 1.02 | (0.38,0.39,0.18,0.11) (0.32,0.48,0.16,0.08)"
       ]
      },
      {
       "output_type": "stream",
       "stream": "stdout",
       "text": [
        "\n",
        "(7.00 4.90 0.62): 13.94; 41.19; 130.18; 0.08; 1.02 | (0.36,0.40,0.18,0.11) (0.30,0.48,0.17,0.09)"
       ]
      },
      {
       "output_type": "stream",
       "stream": "stdout",
       "text": [
        "\n",
        "(7.00 4.90 0.65): 13.47; 37.36; 118.86; 0.09; 1.03 | (0.34,0.41,0.18,0.12) (0.29,0.48,0.19,0.10)"
       ]
      },
      {
       "output_type": "stream",
       "stream": "stdout",
       "text": [
        "\n",
        "(7.00 4.90 0.68): 12.63; 31.96; 113.20; 0.09; 1.01 | (0.32,0.43,0.19,0.12) (0.25,0.50,0.20,0.10)"
       ]
      },
      {
       "output_type": "stream",
       "stream": "stdout",
       "text": [
        "\n",
        "(7.00 4.90 0.70): 11.55; 26.57; 90.56; 0.10; 1.02 | (0.30,0.42,0.19,0.14) (0.19,0.56,0.19,0.12)"
       ]
      },
      {
       "output_type": "stream",
       "stream": "stdout",
       "text": [
        "\n",
        "(7.00 5.00 0.60): 13.92; 41.11; 130.18; 0.08; 1.02 | (0.38,0.39,0.17,0.11) (0.26,0.52,0.17,0.09)"
       ]
      },
      {
       "output_type": "stream",
       "stream": "stdout",
       "text": [
        "\n",
        "(7.00 5.00 0.62): 13.41; 37.90; 124.52; 0.08; 1.01 | (0.35,0.40,0.18,0.12) (0.27,0.50,0.18,0.09)"
       ]
      },
      {
       "output_type": "stream",
       "stream": "stdout",
       "text": [
        "\n",
        "(7.00 5.00 0.65): 12.98; 34.70; 113.20; 0.09; 1.02 | (0.34,0.41,0.18,0.12) (0.25,0.50,0.20,0.10)"
       ]
      },
      {
       "output_type": "stream",
       "stream": "stdout",
       "text": [
        "\n",
        "(7.00 5.00 0.68): 12.17; 29.70; 107.54; 0.09; 1.00 | (0.32,0.42,0.19,0.13) (0.21,0.53,0.21,0.11)"
       ]
      },
      {
       "output_type": "stream",
       "stream": "stdout",
       "text": [
        "\n",
        "(7.00 5.00 0.70): 11.12; 24.85; 90.56; 0.10; 0.99 | (0.30,0.42,0.18,0.15) (0.19,0.56,0.19,0.12)"
       ]
      },
      {
       "output_type": "stream",
       "stream": "stdout",
       "text": [
        "\n",
        "(7.25 4.00 0.60): 19.52; 74.09; 203.75; 0.07; 1.13 | (0.45,0.35,0.15,0.09) (0.36,0.39,0.19,0.08)"
       ]
      },
      {
       "output_type": "stream",
       "stream": "stdout",
       "text": [
        "\n",
        "(7.25 4.00 0.62): 18.57; 65.34; 186.77; 0.07; 1.13 | (0.42,0.36,0.16,0.10) (0.36,0.36,0.21,0.09)"
       ]
      },
      {
       "output_type": "stream",
       "stream": "stdout",
       "text": [
        "\n",
        "(7.25 4.00 0.65): 17.63; 56.19; 158.47; 0.08; 1.16 | (0.40,0.38,0.16,0.11) (0.32,0.39,0.21,0.11)"
       ]
      },
      {
       "output_type": "stream",
       "stream": "stdout",
       "text": [
        "\n",
        "(7.25 4.00 0.68): 16.01; 46.11; 118.86; 0.10; 1.19 | (0.35,0.40,0.17,0.11) (0.19,0.48,0.24,0.14)"
       ]
      },
      {
       "output_type": "stream",
       "stream": "stdout",
       "text": [
        "\n",
        "(7.25 4.00 0.70): 14.21; 38.30; 96.22; 0.11; 1.17 | (0.33,0.41,0.18,0.12) (0.12,0.59,0.24,0.12)"
       ]
      },
      {
       "output_type": "stream",
       "stream": "stdout",
       "text": [
        "\n",
        "(7.25 4.00 0.72): 12.13; 29.54; 67.92; 0.12; 1.16 | (0.29,0.41,0.20,0.13) (0.17,0.67,0.08,0.17)"
       ]
      },
      {
       "output_type": "stream",
       "stream": "stdout",
       "text": [
        "\n",
        "(7.25 4.10 0.60): 19.07; 70.88; 203.75; 0.07; 1.11 | (0.44,0.35,0.16,0.10) (0.36,0.39,0.19,0.08)"
       ]
      },
      {
       "output_type": "stream",
       "stream": "stdout",
       "text": [
        "\n",
        "(7.25 4.10 0.62): 18.18; 62.99; 186.77; 0.07; 1.11 | (0.42,0.36,0.16,0.10) (0.36,0.36,0.21,0.09)"
       ]
      },
      {
       "output_type": "stream",
       "stream": "stdout",
       "text": [
        "\n",
        "(7.25 4.10 0.65): 17.30; 54.32; 158.47; 0.08; 1.14 | (0.39,0.38,0.16,0.11) (0.32,0.39,0.21,0.11)"
       ]
      },
      {
       "output_type": "stream",
       "stream": "stdout",
       "text": [
        "\n",
        "(7.25 4.10 0.68): 15.77; 44.63; 118.86; 0.10; 1.18 | (0.35,0.40,0.17,0.11) (0.19,0.48,0.24,0.14)"
       ]
      },
      {
       "output_type": "stream",
       "stream": "stdout",
       "text": [
        "\n",
        "(7.25 4.10 0.70): 14.06; 37.20; 96.22; 0.11; 1.16 | (0.33,0.41,0.18,0.12) (0.12,0.59,0.24,0.12)"
       ]
      },
      {
       "output_type": "stream",
       "stream": "stdout",
       "text": [
        "\n",
        "(7.25 4.10 0.72): 12.01; 28.84; 67.92; 0.12; 1.15 | (0.29,0.41,0.20,0.13) (0.17,0.67,0.08,0.17)"
       ]
      },
      {
       "output_type": "stream",
       "stream": "stdout",
       "text": [
        "\n",
        "(7.25 4.20 0.60): 18.57; 67.37; 186.77; 0.07; 1.12 | (0.44,0.35,0.16,0.10) (0.36,0.42,0.18,0.06)"
       ]
      },
      {
       "output_type": "stream",
       "stream": "stdout",
       "text": [
        "\n",
        "(7.25 4.20 0.62): 17.73; 60.33; 169.79; 0.08; 1.13 | (0.42,0.36,0.17,0.10) (0.37,0.40,0.20,0.07)"
       ]
      },
      {
       "output_type": "stream",
       "stream": "stdout",
       "text": [
        "\n",
        "(7.25 4.20 0.65): 16.89; 52.28; 141.50; 0.09; 1.16 | (0.39,0.38,0.17,0.11) (0.32,0.44,0.20,0.08)"
       ]
      },
      {
       "output_type": "stream",
       "stream": "stdout",
       "text": [
        "\n",
        "(7.25 4.20 0.68): 15.45; 43.06; 107.54; 0.10; 1.20 | (0.35,0.39,0.18,0.11) (0.21,0.53,0.21,0.11)"
       ]
      },
      {
       "output_type": "stream",
       "stream": "stdout",
       "text": [
        "\n",
        "(7.25 4.20 0.70): 13.80; 35.87; 90.56; 0.11; 1.17 | (0.33,0.40,0.18,0.12) (0.12,0.62,0.19,0.12)"
       ]
      },
      {
       "output_type": "stream",
       "stream": "stdout",
       "text": [
        "\n",
        "(7.25 4.20 0.72): 11.86; 28.06; 67.92; 0.12; 1.14 | (0.30,0.41,0.20,0.13) (0.17,0.67,0.08,0.17)"
       ]
      },
      {
       "output_type": "stream",
       "stream": "stdout",
       "text": [
        "\n",
        "(7.25 4.30 0.60): 18.16; 63.93; 175.45; 0.08; 1.13 | (0.43,0.35,0.16,0.10) (0.32,0.45,0.19,0.06)"
       ]
      },
      {
       "output_type": "stream",
       "stream": "stdout",
       "text": [
        "\n",
        "(7.25 4.30 0.62): 17.34; 57.36; 158.47; 0.08; 1.14 | (0.41,0.37,0.17,0.11) (0.32,0.43,0.21,0.07)"
       ]
      },
      {
       "output_type": "stream",
       "stream": "stdout",
       "text": [
        "\n",
        "(7.25 4.30 0.65): 16.51; 50.17; 135.84; 0.09; 1.16 | (0.38,0.39,0.17,0.11) (0.29,0.46,0.21,0.08)"
       ]
      },
      {
       "output_type": "stream",
       "stream": "stdout",
       "text": [
        "\n",
        "(7.25 4.30 0.68): 15.16; 41.34; 107.54; 0.10; 1.18 | (0.34,0.40,0.18,0.12) (0.21,0.53,0.21,0.11)"
       ]
      },
      {
       "output_type": "stream",
       "stream": "stdout",
       "text": [
        "\n",
        "(7.25 4.30 0.70): 13.63; 34.47; 90.56; 0.11; 1.16 | (0.32,0.41,0.18,0.13) (0.12,0.62,0.19,0.12)"
       ]
      },
      {
       "output_type": "stream",
       "stream": "stdout",
       "text": [
        "\n",
        "(7.25 4.30 0.72): 11.72; 26.96; 67.92; 0.12; 1.14 | (0.28,0.41,0.21,0.14) (0.17,0.67,0.08,0.17)"
       ]
      },
      {
       "output_type": "stream",
       "stream": "stdout",
       "text": [
        "\n",
        "(7.25 4.40 0.60): 17.68; 60.41; 158.47; 0.08; 1.15 | (0.43,0.36,0.16,0.10) (0.32,0.43,0.21,0.07)"
       ]
      },
      {
       "output_type": "stream",
       "stream": "stdout",
       "text": [
        "\n",
        "(7.25 4.40 0.62): 16.86; 54.63; 141.50; 0.09; 1.15 | (0.40,0.37,0.17,0.11) (0.32,0.40,0.24,0.08)"
       ]
      },
      {
       "output_type": "stream",
       "stream": "stdout",
       "text": [
        "\n",
        "(7.25 4.40 0.65): 16.13; 47.99; 118.86; 0.10; 1.19 | (0.38,0.39,0.17,0.11) (0.29,0.43,0.24,0.10)"
       ]
      },
      {
       "output_type": "stream",
       "stream": "stdout",
       "text": [
        "\n",
        "(7.25 4.40 0.68): 14.83; 39.86; 101.88; 0.10; 1.19 | (0.34,0.40,0.18,0.12) (0.22,0.50,0.22,0.11)"
       ]
      },
      {
       "output_type": "stream",
       "stream": "stdout",
       "text": [
        "\n",
        "(7.25 4.40 0.70): 13.37; 33.29; 84.90; 0.11; 1.17 | (0.32,0.41,0.18,0.13) (0.13,0.60,0.20,0.13)"
       ]
      },
      {
       "output_type": "stream",
       "stream": "stdout",
       "text": [
        "\n",
        "(7.25 4.40 0.72): 11.52; 26.26; 62.26; 0.13; 1.15 | (0.28,0.41,0.21,0.14) (0.18,0.64,0.09,0.18)"
       ]
      },
      {
       "output_type": "stream",
       "stream": "stdout",
       "text": [
        "\n",
        "(7.25 4.50 0.60): 17.10; 56.74; 152.81; 0.08; 1.14 | (0.42,0.36,0.16,0.10) (0.33,0.44,0.19,0.07)"
       ]
      },
      {
       "output_type": "stream",
       "stream": "stdout",
       "text": [
        "\n",
        "(7.25 4.50 0.62): 16.31; 51.27; 135.84; 0.09; 1.14 | (0.40,0.38,0.17,0.11) (0.33,0.42,0.21,0.08)"
       ]
      },
      {
       "output_type": "stream",
       "stream": "stdout",
       "text": [
        "\n",
        "(7.25 4.50 0.65): 15.64; 45.02; 118.86; 0.10; 1.17 | (0.37,0.39,0.16,0.11) (0.29,0.43,0.24,0.10)"
       ]
      },
      {
       "output_type": "stream",
       "stream": "stdout",
       "text": [
        "\n",
        "(7.25 4.50 0.68): 14.40; 37.59; 101.88; 0.10; 1.16 | (0.34,0.41,0.18,0.12) (0.22,0.50,0.22,0.11)"
       ]
      },
      {
       "output_type": "stream",
       "stream": "stdout",
       "text": [
        "\n",
        "(7.25 4.50 0.70): 13.01; 31.57; 84.90; 0.11; 1.14 | (0.32,0.41,0.17,0.13) (0.13,0.60,0.20,0.13)"
       ]
      },
      {
       "output_type": "stream",
       "stream": "stdout",
       "text": [
        "\n",
        "(7.25 4.50 0.72): 11.24; 24.85; 62.26; 0.13; 1.13 | (0.28,0.41,0.20,0.15) (0.18,0.64,0.09,0.18)"
       ]
      },
      {
       "output_type": "stream",
       "stream": "stdout",
       "text": [
        "\n",
        "(7.25 4.60 0.60): 16.36; 52.83; 147.16; 0.08; 1.11 | (0.40,0.37,0.16,0.10) (0.35,0.42,0.19,0.08)"
       ]
      },
      {
       "output_type": "stream",
       "stream": "stdout",
       "text": [
        "\n",
        "(7.25 4.60 0.62): 15.67; 48.30; 135.84; 0.09; 1.11 | (0.38,0.38,0.17,0.11) (0.33,0.42,0.21,0.08)"
       ]
      },
      {
       "output_type": "stream",
       "stream": "stdout",
       "text": [
        "\n",
        "(7.25 4.60 0.65): 15.02; 42.59; 118.86; 0.09; 1.13 | (0.35,0.40,0.17,0.11) (0.29,0.43,0.24,0.10)"
       ]
      },
      {
       "output_type": "stream",
       "stream": "stdout",
       "text": [
        "\n",
        "(7.25 4.60 0.68): 13.85; 35.87; 101.88; 0.10; 1.12 | (0.32,0.42,0.18,0.12) (0.22,0.50,0.22,0.11)"
       ]
      },
      {
       "output_type": "stream",
       "stream": "stdout",
       "text": [
        "\n",
        "(7.25 4.60 0.70): 12.50; 30.01; 84.90; 0.11; 1.11 | (0.31,0.42,0.18,0.13) (0.13,0.60,0.20,0.13)"
       ]
      },
      {
       "output_type": "stream",
       "stream": "stdout",
       "text": [
        "\n",
        "(7.25 4.70 0.60): 15.58; 48.69; 135.84; 0.08; 1.10 | (0.40,0.37,0.17,0.10) (0.33,0.46,0.17,0.08)"
       ]
      },
      {
       "output_type": "stream",
       "stream": "stdout",
       "text": [
        "\n",
        "(7.25 4.70 0.62): 14.93; 44.63; 124.52; 0.09; 1.10 | (0.37,0.38,0.18,0.11) (0.32,0.45,0.18,0.09)"
       ]
      },
      {
       "output_type": "stream",
       "stream": "stdout",
       "text": [
        "\n",
        "(7.25 4.70 0.65): 14.35; 39.78; 113.20; 0.09; 1.11 | (0.35,0.40,0.18,0.11) (0.30,0.45,0.20,0.10)"
       ]
      },
      {
       "output_type": "stream",
       "stream": "stdout",
       "text": [
        "\n",
        "(7.25 4.70 0.68): 13.28; 33.68; 101.88; 0.10; 1.09 | (0.32,0.42,0.19,0.12) (0.22,0.50,0.22,0.11)"
       ]
      },
      {
       "output_type": "stream",
       "stream": "stdout",
       "text": [
        "\n",
        "(7.25 4.70 0.70): 12.01; 28.06; 84.90; 0.11; 1.07 | (0.30,0.42,0.19,0.13) (0.13,0.60,0.20,0.13)"
       ]
      },
      {
       "output_type": "stream",
       "stream": "stdout",
       "text": [
        "\n",
        "(7.25 4.80 0.60): 14.86; 45.41; 130.18; 0.08; 1.08 | (0.39,0.38,0.17,0.11) (0.30,0.48,0.17,0.09)"
       ]
      },
      {
       "output_type": "stream",
       "stream": "stdout",
       "text": [
        "\n",
        "(7.25 4.80 0.62): 14.26; 41.97; 118.86; 0.09; 1.08 | (0.37,0.39,0.18,0.11) (0.29,0.48,0.19,0.10)"
       ]
      },
      {
       "output_type": "stream",
       "stream": "stdout",
       "text": [
        "\n",
        "(7.25 4.80 0.65): 13.80; 37.67; 107.54; 0.10; 1.09 | (0.35,0.40,0.18,0.12) (0.26,0.47,0.21,0.11)"
       ]
      },
      {
       "output_type": "stream",
       "stream": "stdout",
       "text": [
        "\n",
        "(7.25 4.80 0.68): 12.89; 32.12; 101.88; 0.10; 1.06 | (0.32,0.42,0.19,0.12) (0.22,0.50,0.22,0.11)"
       ]
      },
      {
       "output_type": "stream",
       "stream": "stdout",
       "text": [
        "\n",
        "(7.25 4.80 0.70): 11.71; 26.81; 84.90; 0.10; 1.05 | (0.30,0.42,0.19,0.13) (0.13,0.60,0.20,0.13)"
       ]
      },
      {
       "output_type": "stream",
       "stream": "stdout",
       "text": [
        "\n",
        "(7.25 4.90 0.60): 14.09; 42.59; 130.18; 0.08; 1.03 | (0.37,0.39,0.17,0.11) (0.30,0.48,0.17,0.09)"
       ]
      },
      {
       "output_type": "stream",
       "stream": "stdout",
       "text": [
        "\n",
        "(7.25 4.90 0.62): 13.56; 39.31; 118.86; 0.09; 1.03 | (0.35,0.40,0.18,0.11) (0.29,0.48,0.19,0.10)"
       ]
      },
      {
       "output_type": "stream",
       "stream": "stdout",
       "text": [
        "\n",
        "(7.25 4.90 0.65): 13.10; 35.56; 107.54; 0.09; 1.05 | (0.34,0.41,0.18,0.12) (0.26,0.47,0.21,0.11)"
       ]
      },
      {
       "output_type": "stream",
       "stream": "stdout",
       "text": [
        "\n",
        "(7.25 4.90 0.68): 12.26; 30.40; 101.88; 0.09; 1.02 | (0.31,0.43,0.19,0.12) (0.22,0.50,0.22,0.11)"
       ]
      },
      {
       "output_type": "stream",
       "stream": "stdout",
       "text": [
        "\n",
        "(7.25 4.90 0.70): 11.21; 25.48; 84.90; 0.10; 1.02 | (0.29,0.43,0.19,0.14) (0.13,0.60,0.20,0.13)"
       ]
      },
      {
       "output_type": "stream",
       "stream": "stdout",
       "text": [
        "\n",
        "(7.25 5.00 0.60): 13.54; 39.70; 118.86; 0.09; 1.03 | (0.37,0.39,0.17,0.11) (0.24,0.52,0.19,0.10)"
       ]
      },
      {
       "output_type": "stream",
       "stream": "stdout",
       "text": [
        "\n",
        "(7.25 5.00 0.62): 13.03; 36.58; 113.20; 0.09; 1.02 | (0.35,0.40,0.18,0.12) (0.25,0.50,0.20,0.10)"
       ]
      },
      {
       "output_type": "stream",
       "stream": "stdout",
       "text": [
        "\n",
        "(7.25 5.00 0.65): 12.60; 33.37; 101.88; 0.09; 1.04 | (0.33,0.42,0.18,0.12) (0.22,0.50,0.22,0.11)"
       ]
      },
      {
       "output_type": "stream",
       "stream": "stdout",
       "text": [
        "\n",
        "(7.25 5.00 0.68): 11.79; 28.53; 96.22; 0.09; 1.01 | (0.31,0.43,0.18,0.13) (0.18,0.53,0.24,0.12)"
       ]
      },
      {
       "output_type": "stream",
       "stream": "stdout",
       "text": [
        "\n",
        "(7.50 4.00 0.60): 18.86; 70.34; 198.09; 0.07; 1.11 | (0.44,0.35,0.16,0.09) (0.34,0.40,0.20,0.09)"
       ]
      },
      {
       "output_type": "stream",
       "stream": "stdout",
       "text": [
        "\n",
        "(7.50 4.00 0.62): 17.95; 62.13; 181.11; 0.07; 1.11 | (0.41,0.37,0.16,0.10) (0.34,0.38,0.22,0.09)"
       ]
      },
      {
       "output_type": "stream",
       "stream": "stdout",
       "text": [
        "\n",
        "(7.50 4.00 0.65): 17.03; 53.38; 152.81; 0.08; 1.14 | (0.39,0.38,0.16,0.11) (0.30,0.41,0.22,0.11)"
       ]
      },
      {
       "output_type": "stream",
       "stream": "stdout",
       "text": [
        "\n",
        "(7.50 4.00 0.68): 15.43; 43.77; 118.86; 0.09; 1.16 | (0.35,0.40,0.18,0.12) (0.19,0.48,0.24,0.14)"
       ]
      },
      {
       "output_type": "stream",
       "stream": "stdout",
       "text": [
        "\n",
        "(7.50 4.00 0.70): 13.73; 36.11; 96.22; 0.10; 1.14 | (0.32,0.41,0.18,0.13) (0.12,0.59,0.24,0.12)"
       ]
      },
      {
       "output_type": "stream",
       "stream": "stdout",
       "text": [
        "\n",
        "(7.50 4.00 0.72): 11.71; 27.82; 67.92; 0.12; 1.13 | (0.28,0.41,0.21,0.14) (0.17,0.67,0.08,0.17)"
       ]
      },
      {
       "output_type": "stream",
       "stream": "stdout",
       "text": [
        "\n",
        "(7.50 4.10 0.60): 18.45; 67.45; 198.09; 0.07; 1.09 | (0.44,0.35,0.16,0.10) (0.34,0.40,0.20,0.09)"
       ]
      },
      {
       "output_type": "stream",
       "stream": "stdout",
       "text": [
        "\n",
        "(7.50 4.10 0.62): 17.59; 59.94; 181.11; 0.07; 1.09 | (0.41,0.37,0.16,0.10) (0.34,0.38,0.22,0.09)"
       ]
      },
      {
       "output_type": "stream",
       "stream": "stdout",
       "text": [
        "\n",
        "(7.50 4.10 0.65): 16.73; 51.58; 152.81; 0.08; 1.13 | (0.39,0.38,0.16,0.11) (0.30,0.41,0.22,0.11)"
       ]
      },
      {
       "output_type": "stream",
       "stream": "stdout",
       "text": [
        "\n",
        "(7.50 4.10 0.68): 15.22; 42.36; 118.86; 0.09; 1.15 | (0.34,0.40,0.18,0.12) (0.19,0.48,0.24,0.14)"
       ]
      },
      {
       "output_type": "stream",
       "stream": "stdout",
       "text": [
        "\n",
        "(7.50 4.10 0.70): 13.59; 35.09; 96.22; 0.10; 1.13 | (0.32,0.41,0.18,0.13) (0.12,0.59,0.24,0.12)"
       ]
      },
      {
       "output_type": "stream",
       "stream": "stdout",
       "text": [
        "\n",
        "(7.50 4.10 0.72): 11.60; 27.12; 67.92; 0.12; 1.12 | (0.28,0.41,0.21,0.14) (0.17,0.67,0.08,0.17)"
       ]
      },
      {
       "output_type": "stream",
       "stream": "stdout",
       "text": [
        "\n",
        "(7.50 4.20 0.60): 17.99; 64.32; 181.11; 0.07; 1.11 | (0.44,0.35,0.16,0.10) (0.34,0.44,0.19,0.06)"
       ]
      },
      {
       "output_type": "stream",
       "stream": "stdout",
       "text": [
        "\n",
        "(7.50 4.20 0.62): 17.18; 57.52; 164.13; 0.08; 1.11 | (0.42,0.36,0.17,0.10) (0.34,0.41,0.21,0.07)"
       ]
      },
      {
       "output_type": "stream",
       "stream": "stdout",
       "text": [
        "\n",
        "(7.50 4.20 0.65): 16.36; 49.78; 135.84; 0.09; 1.15 | (0.39,0.38,0.17,0.11) (0.29,0.46,0.21,0.08)"
       ]
      },
      {
       "output_type": "stream",
       "stream": "stdout",
       "text": [
        "\n",
        "(7.50 4.20 0.68): 14.93; 40.87; 107.54; 0.10; 1.17 | (0.35,0.39,0.18,0.12) (0.21,0.53,0.21,0.11)"
       ]
      },
      {
       "output_type": "stream",
       "stream": "stdout",
       "text": [
        "\n",
        "(7.50 4.20 0.70): 13.37; 33.76; 90.56; 0.11; 1.14 | (0.33,0.40,0.19,0.13) (0.12,0.62,0.19,0.12)"
       ]
      },
      {
       "output_type": "stream",
       "stream": "stdout",
       "text": [
        "\n",
        "(7.50 4.20 0.72): 11.47; 26.34; 67.92; 0.12; 1.12 | (0.28,0.41,0.21,0.14) (0.17,0.67,0.08,0.17)"
       ]
      },
      {
       "output_type": "stream",
       "stream": "stdout",
       "text": [
        "\n",
        "(7.50 4.30 0.60): 17.58; 61.19; 169.79; 0.08; 1.11 | (0.43,0.36,0.16,0.10) (0.30,0.47,0.20,0.07)"
       ]
      },
      {
       "output_type": "stream",
       "stream": "stdout",
       "text": [
        "\n",
        "(7.50 4.30 0.62): 16.79; 54.86; 152.81; 0.08; 1.12 | (0.40,0.37,0.17,0.11) (0.30,0.44,0.22,0.07)"
       ]
      },
      {
       "output_type": "stream",
       "stream": "stdout",
       "text": [
        "\n",
        "(7.50 4.30 0.65): 15.98; 47.91; 130.18; 0.09; 1.15 | (0.38,0.39,0.17,0.11) (0.26,0.48,0.22,0.09)"
       ]
      },
      {
       "output_type": "stream",
       "stream": "stdout",
       "text": [
        "\n",
        "(7.50 4.30 0.68): 14.64; 39.39; 107.54; 0.10; 1.15 | (0.34,0.40,0.18,0.12) (0.21,0.53,0.21,0.11)"
       ]
      },
      {
       "output_type": "stream",
       "stream": "stdout",
       "text": [
        "\n",
        "(7.50 4.30 0.70): 13.20; 32.59; 90.56; 0.11; 1.13 | (0.32,0.41,0.19,0.13) (0.12,0.62,0.19,0.12)"
       ]
      },
      {
       "output_type": "stream",
       "stream": "stdout",
       "text": [
        "\n",
        "(7.50 4.30 0.72): 11.33; 25.40; 67.92; 0.12; 1.11 | (0.27,0.41,0.22,0.14) (0.17,0.67,0.08,0.17)"
       ]
      },
      {
       "output_type": "stream",
       "stream": "stdout",
       "text": [
        "\n",
        "(7.50 4.40 0.60): 17.11; 57.91; 158.47; 0.08; 1.12 | (0.43,0.36,0.16,0.10) (0.32,0.43,0.21,0.07)"
       ]
      },
      {
       "output_type": "stream",
       "stream": "stdout",
       "text": [
        "\n",
        "(7.50 4.40 0.62): 16.32; 52.28; 141.50; 0.08; 1.13 | (0.40,0.37,0.17,0.11) (0.32,0.40,0.24,0.08)"
       ]
      },
      {
       "output_type": "stream",
       "stream": "stdout",
       "text": [
        "\n",
        "(7.50 4.40 0.65): 15.62; 45.72; 118.86; 0.09; 1.16 | (0.38,0.39,0.17,0.12) (0.29,0.43,0.24,0.10)"
       ]
      },
      {
       "output_type": "stream",
       "stream": "stdout",
       "text": [
        "\n",
        "(7.50 4.40 0.68): 14.31; 37.90; 101.88; 0.10; 1.15 | (0.34,0.40,0.18,0.12) (0.22,0.50,0.22,0.11)"
       ]
      },
      {
       "output_type": "stream",
       "stream": "stdout",
       "text": [
        "\n",
        "(7.50 4.40 0.70): 12.94; 31.42; 84.90; 0.11; 1.14 | (0.32,0.41,0.18,0.14) (0.13,0.60,0.20,0.13)"
       ]
      },
      {
       "output_type": "stream",
       "stream": "stdout",
       "text": [
        "\n",
        "(7.50 4.40 0.72): 11.12; 24.70; 62.26; 0.13; 1.12 | (0.27,0.42,0.22,0.14) (0.18,0.64,0.09,0.18)"
       ]
      },
      {
       "output_type": "stream",
       "stream": "stdout",
       "text": [
        "\n",
        "(7.50 4.50 0.60): 16.55; 54.47; 152.81; 0.08; 1.11 | (0.42,0.36,0.16,0.10) (0.33,0.44,0.19,0.07)"
       ]
      },
      {
       "output_type": "stream",
       "stream": "stdout",
       "text": [
        "\n",
        "(7.50 4.50 0.62): 15.79; 49.16; 135.84; 0.09; 1.11 | (0.39,0.38,0.17,0.11) (0.33,0.42,0.21,0.08)"
       ]
      },
      {
       "output_type": "stream",
       "stream": "stdout",
       "text": [
        "\n",
        "(7.50 4.50 0.65): 15.14; 42.98; 118.86; 0.09; 1.14 | (0.37,0.39,0.17,0.11) (0.29,0.43,0.24,0.10)"
       ]
      },
      {
       "output_type": "stream",
       "stream": "stdout",
       "text": [
        "\n",
        "(7.50 4.50 0.68): 13.90; 35.87; 101.88; 0.10; 1.13 | (0.33,0.41,0.18,0.12) (0.22,0.50,0.22,0.11)"
       ]
      },
      {
       "output_type": "stream",
       "stream": "stdout",
       "text": [
        "\n",
        "(7.50 4.50 0.70): 12.58; 29.93; 84.90; 0.11; 1.11 | (0.31,0.41,0.18,0.14) (0.13,0.60,0.20,0.13)"
       ]
      },
      {
       "output_type": "stream",
       "stream": "stdout",
       "text": [
        "\n",
        "(7.50 4.60 0.60): 15.84; 50.80; 147.16; 0.08; 1.08 | (0.40,0.37,0.16,0.10) (0.35,0.42,0.19,0.08)"
       ]
      },
      {
       "output_type": "stream",
       "stream": "stdout",
       "text": [
        "\n",
        "(7.50 4.60 0.62): 15.19; 46.34; 135.84; 0.08; 1.08 | (0.38,0.38,0.17,0.11) (0.33,0.42,0.21,0.08)"
       ]
      },
      {
       "output_type": "stream",
       "stream": "stdout",
       "text": [
        "\n",
        "(7.50 4.60 0.65): 14.56; 40.72; 118.86; 0.09; 1.10 | (0.35,0.40,0.17,0.11) (0.29,0.43,0.24,0.10)"
       ]
      },
      {
       "output_type": "stream",
       "stream": "stdout",
       "text": [
        "\n",
        "(7.50 4.60 0.68): 13.39; 34.15; 101.88; 0.10; 1.10 | (0.31,0.42,0.19,0.12) (0.22,0.50,0.22,0.11)"
       ]
      },
      {
       "output_type": "stream",
       "stream": "stdout",
       "text": [
        "\n",
        "(7.50 4.60 0.70): 12.10; 28.37; 84.90; 0.11; 1.08 | (0.30,0.42,0.19,0.14) (0.13,0.60,0.20,0.13)"
       ]
      },
      {
       "output_type": "stream",
       "stream": "stdout",
       "text": [
        "\n",
        "(7.50 4.70 0.60): 15.07; 46.97; 135.84; 0.08; 1.07 | (0.40,0.37,0.17,0.10) (0.33,0.46,0.17,0.08)"
       ]
      },
      {
       "output_type": "stream",
       "stream": "stdout",
       "text": [
        "\n",
        "(7.50 4.70 0.62): 14.45; 42.91; 124.52; 0.09; 1.07 | (0.37,0.38,0.18,0.11) (0.32,0.45,0.18,0.09)"
       ]
      },
      {
       "output_type": "stream",
       "stream": "stdout",
       "text": [
        "\n",
        "(7.50 4.70 0.65): 13.89; 38.14; 113.20; 0.09; 1.08 | (0.35,0.40,0.18,0.11) (0.30,0.45,0.20,0.10)"
       ]
      },
      {
       "output_type": "stream",
       "stream": "stdout",
       "text": [
        "\n",
        "(7.50 4.70 0.68): 12.82; 32.20; 101.88; 0.10; 1.06 | (0.31,0.42,0.19,0.12) (0.22,0.50,0.22,0.11)"
       ]
      },
      {
       "output_type": "stream",
       "stream": "stdout",
       "text": [
        "\n",
        "(7.50 4.70 0.70): 11.62; 26.65; 84.90; 0.10; 1.05 | (0.29,0.42,0.19,0.14) (0.13,0.60,0.20,0.13)"
       ]
      },
      {
       "output_type": "stream",
       "stream": "stdout",
       "text": [
        "\n",
        "(7.50 4.80 0.60): 14.37; 43.77; 130.18; 0.08; 1.05 | (0.39,0.37,0.17,0.11) (0.30,0.48,0.17,0.09)"
       ]
      },
      {
       "output_type": "stream",
       "stream": "stdout",
       "text": [
        "\n",
        "(7.50 4.80 0.62): 13.80; 40.33; 118.86; 0.09; 1.05 | (0.37,0.38,0.18,0.11) (0.29,0.48,0.19,0.10)"
       ]
      },
      {
       "output_type": "stream",
       "stream": "stdout",
       "text": [
        "\n",
        "(7.50 4.80 0.65): 13.34; 36.11; 107.54; 0.09; 1.06 | (0.35,0.40,0.18,0.12) (0.26,0.47,0.21,0.11)"
       ]
      },
      {
       "output_type": "stream",
       "stream": "stdout",
       "text": [
        "\n",
        "(7.50 4.80 0.68): 12.43; 30.71; 101.88; 0.09; 1.03 | (0.31,0.42,0.19,0.13) (0.22,0.50,0.22,0.11)"
       ]
      },
      {
       "output_type": "stream",
       "stream": "stdout",
       "text": [
        "\n",
        "(7.50 4.80 0.70): 11.31; 25.48; 84.90; 0.10; 1.03 | (0.30,0.41,0.19,0.14) (0.13,0.60,0.20,0.13)"
       ]
      },
      {
       "output_type": "stream",
       "stream": "stdout",
       "text": [
        "\n",
        "(7.50 4.90 0.60): 13.68; 41.11; 130.18; 0.08; 1.01 | (0.37,0.39,0.18,0.11) (0.30,0.48,0.17,0.09)"
       ]
      },
      {
       "output_type": "stream",
       "stream": "stdout",
       "text": [
        "\n",
        "(7.50 4.90 0.62): 13.18; 37.83; 118.86; 0.08; 1.01 | (0.35,0.40,0.18,0.11) (0.29,0.48,0.19,0.10)"
       ]
      },
      {
       "output_type": "stream",
       "stream": "stdout",
       "text": [
        "\n",
        "(7.50 4.90 0.65): 12.72; 34.15; 107.54; 0.09; 1.02 | (0.34,0.41,0.18,0.12) (0.26,0.47,0.21,0.11)"
       ]
      },
      {
       "output_type": "stream",
       "stream": "stdout",
       "text": [
        "\n",
        "(7.50 4.90 0.68): 11.88; 29.15; 101.88; 0.09; 0.99 | (0.30,0.43,0.19,0.13) (0.22,0.50,0.22,0.11)"
       ]
      },
      {
       "output_type": "stream",
       "stream": "stdout",
       "text": [
        "\n",
        "(7.50 5.00 0.60): 13.16; 38.30; 118.86; 0.08; 1.01 | (0.37,0.39,0.17,0.11) (0.24,0.52,0.19,0.10)"
       ]
      },
      {
       "output_type": "stream",
       "stream": "stdout",
       "text": [
        "\n",
        "(7.50 5.00 0.62): 12.68; 35.17; 113.20; 0.09; 1.00 | (0.35,0.40,0.18,0.12) (0.25,0.50,0.20,0.10)"
       ]
      },
      {
       "output_type": "stream",
       "stream": "stdout",
       "text": [
        "\n",
        "(7.50 5.00 0.65): 12.26; 32.04; 101.88; 0.09; 1.01 | (0.34,0.41,0.18,0.12) (0.22,0.50,0.22,0.11)"
       ]
      },
      {
       "output_type": "stream",
       "stream": "stdout",
       "text": [
        "\n",
        "(7.50 5.00 0.68): 11.45; 27.35; 96.22; 0.09; 0.99 | (0.31,0.43,0.19,0.13) (0.18,0.53,0.24,0.12)"
       ]
      },
      {
       "output_type": "stream",
       "stream": "stdout",
       "text": [
        "\n",
        "(7.75 4.00 0.60): 18.23; 65.65; 181.11; 0.07; 1.12 | (0.44,0.35,0.16,0.10) (0.31,0.44,0.19,0.09)"
       ]
      },
      {
       "output_type": "stream",
       "stream": "stdout",
       "text": [
        "\n",
        "(7.75 4.00 0.62): 17.34; 57.60; 164.13; 0.08; 1.12 | (0.40,0.37,0.17,0.10) (0.31,0.41,0.21,0.10)"
       ]
      },
      {
       "output_type": "stream",
       "stream": "stdout",
       "text": [
        "\n",
        "(7.75 4.00 0.65): 16.43; 49.47; 147.16; 0.08; 1.13 | (0.38,0.39,0.16,0.11) (0.31,0.42,0.19,0.12)"
       ]
      },
      {
       "output_type": "stream",
       "stream": "stdout",
       "text": [
        "\n",
        "(7.75 4.00 0.68): 14.85; 40.48; 113.20; 0.10; 1.14 | (0.33,0.41,0.18,0.12) (0.20,0.50,0.20,0.15)"
       ]
      },
      {
       "output_type": "stream",
       "stream": "stdout",
       "text": [
        "\n",
        "(7.75 4.00 0.70): 13.18; 33.45; 90.56; 0.11; 1.13 | (0.31,0.42,0.19,0.13) (0.12,0.62,0.19,0.12)"
       ]
      },
      {
       "output_type": "stream",
       "stream": "stdout",
       "text": [
        "\n",
        "(7.75 4.00 0.72): 11.24; 25.71; 67.92; 0.12; 1.10 | (0.26,0.42,0.22,0.14) (0.17,0.67,0.08,0.17)"
       ]
      },
      {
       "output_type": "stream",
       "stream": "stdout",
       "text": [
        "\n",
        "(7.75 4.10 0.60): 17.83; 63.15; 181.11; 0.07; 1.10 | (0.43,0.35,0.16,0.10) (0.31,0.44,0.19,0.09)"
       ]
      },
      {
       "output_type": "stream",
       "stream": "stdout",
       "text": [
        "\n",
        "(7.75 4.10 0.62): 16.99; 55.72; 164.13; 0.08; 1.10 | (0.40,0.37,0.17,0.10) (0.31,0.41,0.21,0.10)"
       ]
      },
      {
       "output_type": "stream",
       "stream": "stdout",
       "text": [
        "\n",
        "(7.75 4.10 0.65): 16.15; 47.91; 147.16; 0.08; 1.11 | (0.38,0.39,0.17,0.11) (0.31,0.42,0.19,0.12)"
       ]
      },
      {
       "output_type": "stream",
       "stream": "stdout",
       "text": [
        "\n",
        "(7.75 4.10 0.68): 14.66; 39.23; 113.20; 0.10; 1.13 | (0.33,0.41,0.18,0.12) (0.20,0.50,0.20,0.15)"
       ]
      },
      {
       "output_type": "stream",
       "stream": "stdout",
       "text": [
        "\n",
        "(7.75 4.10 0.70): 13.06; 32.59; 90.56; 0.11; 1.12 | (0.31,0.42,0.19,0.13) (0.12,0.62,0.19,0.12)"
       ]
      },
      {
       "output_type": "stream",
       "stream": "stdout",
       "text": [
        "\n",
        "(7.75 4.10 0.72): 11.16; 25.09; 67.92; 0.12; 1.09 | (0.26,0.42,0.22,0.14) (0.17,0.67,0.08,0.17)"
       ]
      },
      {
       "output_type": "stream",
       "stream": "stdout",
       "text": [
        "\n",
        "(7.75 4.20 0.60): 17.42; 60.10; 169.79; 0.08; 1.11 | (0.43,0.35,0.16,0.10) (0.30,0.47,0.20,0.07)"
       ]
      },
      {
       "output_type": "stream",
       "stream": "stdout",
       "text": [
        "\n",
        "(7.75 4.20 0.62): 16.63; 53.38; 152.81; 0.08; 1.11 | (0.41,0.36,0.17,0.10) (0.30,0.44,0.22,0.07)"
       ]
      },
      {
       "output_type": "stream",
       "stream": "stdout",
       "text": [
        "\n",
        "(7.75 4.20 0.65): 15.83; 46.19; 135.84; 0.09; 1.13 | (0.38,0.39,0.17,0.11) (0.29,0.46,0.21,0.08)"
       ]
      },
      {
       "output_type": "stream",
       "stream": "stdout",
       "text": [
        "\n",
        "(7.75 4.20 0.68): 14.40; 37.83; 107.54; 0.10; 1.14 | (0.34,0.40,0.19,0.12) (0.21,0.53,0.21,0.11)"
       ]
      },
      {
       "output_type": "stream",
       "stream": "stdout",
       "text": [
        "\n",
        "(7.75 4.20 0.70): 12.87; 31.34; 90.56; 0.11; 1.11 | (0.31,0.41,0.19,0.13) (0.12,0.62,0.19,0.12)"
       ]
      },
      {
       "output_type": "stream",
       "stream": "stdout",
       "text": [
        "\n",
        "(7.75 4.30 0.60): 17.04; 57.52; 164.13; 0.08; 1.10 | (0.43,0.35,0.16,0.10) (0.28,0.48,0.21,0.07)"
       ]
      },
      {
       "output_type": "stream",
       "stream": "stdout",
       "text": [
        "\n",
        "(7.75 4.30 0.62): 16.27; 51.27; 147.16; 0.08; 1.11 | (0.40,0.37,0.17,0.11) (0.27,0.46,0.23,0.08)"
       ]
      },
      {
       "output_type": "stream",
       "stream": "stdout",
       "text": [
        "\n",
        "(7.75 4.30 0.65): 15.48; 44.78; 130.18; 0.09; 1.12 | (0.37,0.39,0.17,0.11) (0.26,0.48,0.22,0.09)"
       ]
      },
      {
       "output_type": "stream",
       "stream": "stdout",
       "text": [
        "\n",
        "(7.75 4.30 0.68): 14.14; 36.81; 107.54; 0.10; 1.12 | (0.33,0.41,0.19,0.12) (0.21,0.53,0.21,0.11)"
       ]
      },
      {
       "output_type": "stream",
       "stream": "stdout",
       "text": [
        "\n",
        "(7.75 4.30 0.70): 12.72; 30.48; 90.56; 0.11; 1.10 | (0.31,0.41,0.19,0.13) (0.12,0.62,0.19,0.12)"
       ]
      },
      {
       "output_type": "stream",
       "stream": "stdout",
       "text": [
        "\n",
        "(7.75 4.40 0.60): 16.63; 54.47; 152.81; 0.08; 1.11 | (0.42,0.36,0.16,0.10) (0.30,0.44,0.22,0.07)"
       ]
      },
      {
       "output_type": "stream",
       "stream": "stdout",
       "text": [
        "\n",
        "(7.75 4.40 0.62): 15.86; 48.92; 135.84; 0.09; 1.12 | (0.39,0.37,0.17,0.11) (0.29,0.42,0.25,0.08)"
       ]
      },
      {
       "output_type": "stream",
       "stream": "stdout",
       "text": [
        "\n",
        "(7.75 4.40 0.65): 15.16; 42.83; 118.86; 0.09; 1.14 | (0.37,0.39,0.17,0.12) (0.29,0.43,0.24,0.10)"
       ]
      },
      {
       "output_type": "stream",
       "stream": "stdout",
       "text": [
        "\n",
        "(7.75 4.40 0.68): 13.85; 35.56; 101.88; 0.10; 1.13 | (0.33,0.41,0.19,0.13) (0.22,0.50,0.22,0.11)"
       ]
      },
      {
       "output_type": "stream",
       "stream": "stdout",
       "text": [
        "\n",
        "(7.75 4.40 0.70): 12.50; 29.54; 84.90; 0.11; 1.11 | (0.31,0.41,0.19,0.14) (0.13,0.60,0.20,0.13)"
       ]
      },
      {
       "output_type": "stream",
       "stream": "stdout",
       "text": [
        "\n",
        "(7.75 4.50 0.60): 16.08; 51.19; 147.16; 0.08; 1.10 | (0.41,0.36,0.17,0.10) (0.31,0.46,0.19,0.08)"
       ]
      },
      {
       "output_type": "stream",
       "stream": "stdout",
       "text": [
        "\n",
        "(7.75 4.50 0.62): 15.34; 45.95; 130.18; 0.09; 1.11 | (0.39,0.37,0.17,0.11) (0.30,0.43,0.22,0.09)"
       ]
      },
      {
       "output_type": "stream",
       "stream": "stdout",
       "text": [
        "\n",
        "(7.75 4.50 0.65): 14.69; 40.25; 118.86; 0.09; 1.11 | (0.37,0.39,0.17,0.11) (0.29,0.43,0.24,0.10)"
       ]
      },
      {
       "output_type": "stream",
       "stream": "stdout",
       "text": [
        "\n",
        "(7.75 4.50 0.68): 13.46; 33.61; 101.88; 0.10; 1.10 | (0.32,0.41,0.19,0.12) (0.22,0.50,0.22,0.11)"
       ]
      },
      {
       "output_type": "stream",
       "stream": "stdout",
       "text": [
        "\n",
        "(7.75 4.50 0.70): 12.15; 28.14; 84.90; 0.11; 1.09 | (0.31,0.42,0.19,0.14) (0.13,0.60,0.20,0.13)"
       ]
      },
      {
       "output_type": "stream",
       "stream": "stdout",
       "text": [
        "\n",
        "(7.75 4.60 0.60): 15.41; 47.75; 141.50; 0.08; 1.08 | (0.40,0.37,0.17,0.10) (0.32,0.44,0.20,0.08)"
       ]
      },
      {
       "output_type": "stream",
       "stream": "stdout",
       "text": [
        "\n",
        "(7.75 4.60 0.62): 14.78; 43.38; 130.18; 0.09; 1.08 | (0.37,0.38,0.18,0.11) (0.30,0.43,0.22,0.09)"
       ]
      },
      {
       "output_type": "stream",
       "stream": "stdout",
       "text": [
        "\n",
        "(7.75 4.60 0.65): 14.14; 38.22; 118.86; 0.09; 1.08 | (0.35,0.40,0.18,0.11) (0.29,0.43,0.24,0.10)"
       ]
      },
      {
       "output_type": "stream",
       "stream": "stdout",
       "text": [
        "\n",
        "(7.75 4.60 0.68): 12.98; 32.04; 101.88; 0.10; 1.07 | (0.31,0.42,0.19,0.12) (0.22,0.50,0.22,0.11)"
       ]
      },
      {
       "output_type": "stream",
       "stream": "stdout",
       "text": [
        "\n",
        "(7.75 4.60 0.70): 11.71; 26.73; 84.90; 0.10; 1.05 | (0.29,0.42,0.19,0.14) (0.13,0.60,0.20,0.13)"
       ]
      },
      {
       "output_type": "stream",
       "stream": "stdout",
       "text": [
        "\n",
        "(7.75 4.70 0.60): 14.66; 44.08; 130.18; 0.08; 1.07 | (0.39,0.37,0.18,0.10) (0.30,0.48,0.17,0.09)"
       ]
      },
      {
       "output_type": "stream",
       "stream": "stdout",
       "text": [
        "\n",
        "(7.75 4.70 0.62): 14.06; 40.09; 118.86; 0.09; 1.07 | (0.37,0.38,0.19,0.11) (0.29,0.48,0.19,0.10)"
       ]
      },
      {
       "output_type": "stream",
       "stream": "stdout",
       "text": [
        "\n",
        "(7.75 4.70 0.65): 13.49; 35.72; 113.20; 0.09; 1.06 | (0.34,0.40,0.18,0.11) (0.30,0.45,0.20,0.10)"
       ]
      },
      {
       "output_type": "stream",
       "stream": "stdout",
       "text": [
        "\n",
        "(7.75 4.70 0.68): 12.43; 30.17; 101.88; 0.09; 1.03 | (0.30,0.42,0.20,0.12) (0.22,0.50,0.22,0.11)"
       ]
      },
      {
       "output_type": "stream",
       "stream": "stdout",
       "text": [
        "\n",
        "(7.75 4.70 0.70): 11.24; 25.09; 84.90; 0.10; 1.02 | (0.28,0.42,0.20,0.14) (0.13,0.60,0.20,0.13)"
       ]
      },
      {
       "output_type": "stream",
       "stream": "stdout",
       "text": [
        "\n",
        "(7.75 4.80 0.60): 13.97; 41.26; 124.52; 0.08; 1.04 | (0.39,0.37,0.18,0.11) (0.27,0.50,0.18,0.09)"
       ]
      },
      {
       "output_type": "stream",
       "stream": "stdout",
       "text": [
        "\n",
        "(7.75 4.80 0.62): 13.42; 37.90; 113.20; 0.09; 1.05 | (0.36,0.38,0.19,0.11) (0.25,0.50,0.20,0.10)"
       ]
      },
      {
       "output_type": "stream",
       "stream": "stdout",
       "text": [
        "\n",
        "(7.75 4.80 0.65): 12.96; 34.00; 107.54; 0.09; 1.04 | (0.34,0.40,0.18,0.12) (0.26,0.47,0.21,0.11)"
       ]
      },
      {
       "output_type": "stream",
       "stream": "stdout",
       "text": [
        "\n",
        "(7.75 4.80 0.68): 12.05; 28.92; 101.88; 0.09; 1.01 | (0.31,0.42,0.20,0.13) (0.22,0.50,0.22,0.11)"
       ]
      },
      {
       "output_type": "stream",
       "stream": "stdout",
       "text": [
        "\n",
        "(7.75 4.90 0.60): 13.30; 38.76; 124.52; 0.08; 1.00 | (0.37,0.38,0.18,0.11) (0.27,0.50,0.18,0.09)"
       ]
      },
      {
       "output_type": "stream",
       "stream": "stdout",
       "text": [
        "\n",
        "(7.75 4.90 0.62): 12.82; 35.56; 113.20; 0.09; 1.01 | (0.35,0.40,0.19,0.11) (0.25,0.50,0.20,0.10)"
       ]
      },
      {
       "output_type": "stream",
       "stream": "stdout",
       "text": [
        "\n",
        "(7.75 4.90 0.65): 12.36; 32.12; 107.54; 0.09; 1.00 | (0.33,0.41,0.18,0.12) (0.26,0.47,0.21,0.11)"
       ]
      },
      {
       "output_type": "stream",
       "stream": "stdout",
       "text": [
        "\n",
        "(7.75 4.90 0.68): 11.52; 27.43; 101.88; 0.09; 0.97 | (0.30,0.43,0.20,0.13) (0.22,0.50,0.22,0.11)"
       ]
      },
      {
       "output_type": "stream",
       "stream": "stdout",
       "text": [
        "\n",
        "(7.75 5.00 0.60): 12.79; 36.18; 113.20; 0.09; 1.00 | (0.37,0.38,0.18,0.11) (0.20,0.55,0.20,0.10)"
       ]
      },
      {
       "output_type": "stream",
       "stream": "stdout",
       "text": [
        "\n",
        "(7.75 5.00 0.62): 12.32; 33.14; 107.54; 0.09; 1.00 | (0.35,0.40,0.18,0.12) (0.21,0.53,0.21,0.11)"
       ]
      },
      {
       "output_type": "stream",
       "stream": "stdout",
       "text": [
        "\n",
        "(7.75 5.00 0.65): 11.89; 30.17; 101.88; 0.09; 0.99 | (0.33,0.42,0.18,0.12) (0.22,0.50,0.22,0.11)"
       ]
      },
      {
       "output_type": "stream",
       "stream": "stdout",
       "text": [
        "\n",
        "(8.00 4.00 0.60): 17.49; 62.37; 175.45; 0.07; 1.09 | (0.43,0.36,0.16,0.09) (0.29,0.45,0.19,0.10)"
       ]
      },
      {
       "output_type": "stream",
       "stream": "stdout",
       "text": [
        "\n",
        "(8.00 4.00 0.62): 16.60; 54.55; 158.47; 0.08; 1.10 | (0.40,0.38,0.17,0.10) (0.29,0.43,0.21,0.11)"
       ]
      },
      {
       "output_type": "stream",
       "stream": "stdout",
       "text": [
        "\n",
        "(8.00 4.00 0.65): 15.77; 46.89; 141.50; 0.08; 1.10 | (0.38,0.39,0.17,0.11) (0.28,0.44,0.20,0.12)"
       ]
      },
      {
       "output_type": "stream",
       "stream": "stdout",
       "text": [
        "\n",
        "(8.00 4.00 0.68): 14.25; 38.30; 107.54; 0.10; 1.13 | (0.33,0.41,0.18,0.12) (0.16,0.53,0.21,0.16)"
       ]
      },
      {
       "output_type": "stream",
       "stream": "stdout",
       "text": [
        "\n",
        "(8.00 4.00 0.70): 12.63; 31.50; 84.90; 0.11; 1.11 | (0.30,0.42,0.19,0.13) (0.07,0.67,0.20,0.13)"
       ]
      },
      {
       "output_type": "stream",
       "stream": "stdout",
       "text": [
        "\n",
        "(8.00 4.10 0.60): 17.13; 60.02; 175.45; 0.07; 1.08 | (0.43,0.36,0.16,0.10) (0.29,0.45,0.19,0.10)"
       ]
      },
      {
       "output_type": "stream",
       "stream": "stdout",
       "text": [
        "\n",
        "(8.00 4.10 0.62): 16.29; 52.75; 158.47; 0.08; 1.08 | (0.40,0.38,0.17,0.10) (0.29,0.43,0.21,0.11)"
       ]
      },
      {
       "output_type": "stream",
       "stream": "stdout",
       "text": [
        "\n",
        "(8.00 4.10 0.65): 15.52; 45.41; 141.50; 0.08; 1.09 | (0.38,0.40,0.17,0.11) (0.28,0.44,0.20,0.12)"
       ]
      },
      {
       "output_type": "stream",
       "stream": "stdout",
       "text": [
        "\n",
        "(8.00 4.10 0.68): 14.07; 37.12; 107.54; 0.10; 1.12 | (0.33,0.41,0.18,0.12) (0.16,0.53,0.21,0.16)"
       ]
      },
      {
       "output_type": "stream",
       "stream": "stdout",
       "text": [
        "\n",
        "(8.00 4.10 0.70): 12.53; 30.64; 84.90; 0.11; 1.11 | (0.30,0.42,0.19,0.13) (0.07,0.67,0.20,0.13)"
       ]
      },
      {
       "output_type": "stream",
       "stream": "stdout",
       "text": [
        "\n",
        "(8.00 4.20 0.60): 16.73; 57.44; 164.13; 0.08; 1.08 | (0.43,0.35,0.16,0.10) (0.28,0.48,0.21,0.07)"
       ]
      },
      {
       "output_type": "stream",
       "stream": "stdout",
       "text": [
        "\n",
        "(8.00 4.20 0.62): 15.95; 50.88; 147.16; 0.08; 1.09 | (0.41,0.37,0.17,0.10) (0.27,0.46,0.23,0.08)"
       ]
      },
      {
       "output_type": "stream",
       "stream": "stdout",
       "text": [
        "\n",
        "(8.00 4.20 0.65): 15.19; 44.08; 130.18; 0.09; 1.10 | (0.38,0.39,0.17,0.11) (0.26,0.48,0.22,0.09)"
       ]
      },
      {
       "output_type": "stream",
       "stream": "stdout",
       "text": [
        "\n",
        "(8.00 4.20 0.68): 13.82; 35.95; 101.88; 0.10; 1.12 | (0.33,0.41,0.19,0.12) (0.17,0.56,0.22,0.11)"
       ]
      },
      {
       "output_type": "stream",
       "stream": "stdout",
       "text": [
        "\n",
        "(8.00 4.20 0.70): 12.34; 29.62; 84.90; 0.11; 1.10 | (0.31,0.42,0.19,0.13) (0.07,0.67,0.20,0.13)"
       ]
      },
      {
       "output_type": "stream",
       "stream": "stdout",
       "text": [
        "\n",
        "(8.00 4.30 0.60): 16.39; 55.10; 158.47; 0.08; 1.08 | (0.43,0.36,0.16,0.10) (0.25,0.50,0.21,0.07)"
       ]
      },
      {
       "output_type": "stream",
       "stream": "stdout",
       "text": [
        "\n",
        "(8.00 4.30 0.62): 15.62; 48.92; 141.50; 0.08; 1.09 | (0.40,0.37,0.17,0.11) (0.24,0.48,0.24,0.08)"
       ]
      },
      {
       "output_type": "stream",
       "stream": "stdout",
       "text": [
        "\n",
        "(8.00 4.30 0.65): 14.88; 42.75; 124.52; 0.09; 1.10 | (0.37,0.40,0.17,0.11) (0.23,0.50,0.23,0.09)"
       ]
      },
      {
       "output_type": "stream",
       "stream": "stdout",
       "text": [
        "\n",
        "(8.00 4.30 0.68): 13.59; 35.01; 101.88; 0.10; 1.11 | (0.32,0.41,0.19,0.12) (0.17,0.56,0.22,0.11)"
       ]
      },
      {
       "output_type": "stream",
       "stream": "stdout",
       "text": [
        "\n",
        "(8.00 4.30 0.70): 12.20; 28.84; 84.90; 0.11; 1.09 | (0.30,0.42,0.19,0.13) (0.07,0.67,0.20,0.13)"
       ]
      },
      {
       "output_type": "stream",
       "stream": "stdout",
       "text": [
        "\n",
        "(8.00 4.40 0.60): 16.00; 52.13; 147.16; 0.08; 1.09 | (0.42,0.36,0.16,0.10) (0.27,0.46,0.23,0.08)"
       ]
      },
      {
       "output_type": "stream",
       "stream": "stdout",
       "text": [
        "\n",
        "(8.00 4.40 0.62): 15.22; 46.58; 130.18; 0.09; 1.10 | (0.39,0.38,0.17,0.11) (0.26,0.43,0.26,0.09)"
       ]
      },
      {
       "output_type": "stream",
       "stream": "stdout",
       "text": [
        "\n",
        "(8.00 4.40 0.65): 14.56; 40.80; 113.20; 0.09; 1.12 | (0.37,0.40,0.17,0.12) (0.25,0.45,0.25,0.10)"
       ]
      },
      {
       "output_type": "stream",
       "stream": "stdout",
       "text": [
        "\n",
        "(8.00 4.40 0.68): 13.30; 33.76; 96.22; 0.10; 1.11 | (0.32,0.41,0.19,0.13) (0.18,0.53,0.24,0.12)"
       ]
      },
      {
       "output_type": "stream",
       "stream": "stdout",
       "text": [
        "\n",
        "(8.00 4.40 0.70): 11.98; 27.90; 79.24; 0.11; 1.10 | (0.30,0.42,0.19,0.13) (0.07,0.64,0.21,0.14)"
       ]
      },
      {
       "output_type": "stream",
       "stream": "stdout",
       "text": [
        "\n",
        "(8.00 4.50 0.60): 15.46; 49.00; 141.50; 0.08; 1.08 | (0.42,0.36,0.16,0.10) (0.28,0.48,0.20,0.08)"
       ]
      },
      {
       "output_type": "stream",
       "stream": "stdout",
       "text": [
        "\n",
        "(8.00 4.50 0.62): 14.73; 43.77; 124.52; 0.09; 1.09 | (0.39,0.38,0.17,0.10) (0.27,0.45,0.23,0.09)"
       ]
      },
      {
       "output_type": "stream",
       "stream": "stdout",
       "text": [
        "\n",
        "(8.00 4.50 0.65): 14.11; 38.37; 113.20; 0.09; 1.10 | (0.36,0.40,0.17,0.11) (0.25,0.45,0.25,0.10)"
       ]
      },
      {
       "output_type": "stream",
       "stream": "stdout",
       "text": [
        "\n",
        "(8.00 4.50 0.68): 12.92; 31.89; 96.22; 0.10; 1.09 | (0.32,0.42,0.19,0.12) (0.18,0.53,0.24,0.12)"
       ]
      },
      {
       "output_type": "stream",
       "stream": "stdout",
       "text": [
        "\n",
        "(8.00 4.50 0.70): 11.65; 26.49; 79.24; 0.11; 1.08 | (0.30,0.42,0.19,0.14) (0.07,0.64,0.21,0.14)"
       ]
      },
      {
       "output_type": "stream",
       "stream": "stdout",
       "text": [
        "\n",
        "(8.00 4.60 0.60): 14.81; 45.72; 135.84; 0.08; 1.06 | (0.40,0.37,0.17,0.10) (0.29,0.46,0.21,0.08)"
       ]
      },
      {
       "output_type": "stream",
       "stream": "stdout",
       "text": [
        "\n",
        "(8.00 4.60 0.62): 14.18; 41.34; 124.52; 0.09; 1.06 | (0.37,0.38,0.18,0.11) (0.27,0.45,0.23,0.09)"
       ]
      },
      {
       "output_type": "stream",
       "stream": "stdout",
       "text": [
        "\n",
        "(8.00 4.60 0.65): 13.58; 36.50; 113.20; 0.09; 1.06 | (0.35,0.41,0.18,0.11) (0.25,0.45,0.25,0.10)"
       ]
      },
      {
       "output_type": "stream",
       "stream": "stdout",
       "text": [
        "\n",
        "(8.00 4.60 0.68): 12.46; 30.48; 96.22; 0.10; 1.06 | (0.31,0.42,0.19,0.12) (0.18,0.53,0.24,0.12)"
       ]
      },
      {
       "output_type": "stream",
       "stream": "stdout",
       "text": [
        "\n",
        "(8.00 4.60 0.70): 11.23; 25.24; 79.24; 0.11; 1.04 | (0.29,0.43,0.19,0.14) (0.07,0.64,0.21,0.14)"
       ]
      },
      {
       "output_type": "stream",
       "stream": "stdout",
       "text": [
        "\n",
        "(8.00 4.70 0.60): 14.11; 42.28; 124.52; 0.08; 1.05 | (0.39,0.37,0.17,0.10) (0.27,0.50,0.18,0.09)"
       ]
      },
      {
       "output_type": "stream",
       "stream": "stdout",
       "text": [
        "\n",
        "(8.00 4.70 0.62): 13.51; 38.30; 113.20; 0.09; 1.05 | (0.37,0.38,0.18,0.11) (0.25,0.50,0.20,0.10)"
       ]
      },
      {
       "output_type": "stream",
       "stream": "stdout",
       "text": [
        "\n",
        "(8.00 4.70 0.65): 12.96; 34.00; 107.54; 0.09; 1.04 | (0.34,0.41,0.18,0.11) (0.26,0.47,0.21,0.11)"
       ]
      },
      {
       "output_type": "stream",
       "stream": "stdout",
       "text": [
        "\n",
        "(8.00 4.70 0.68): 11.95; 28.60; 96.22; 0.10; 1.02 | (0.30,0.42,0.20,0.12) (0.18,0.53,0.24,0.12)"
       ]
      },
      {
       "output_type": "stream",
       "stream": "stdout",
       "text": [
        "\n",
        "(8.00 4.80 0.60): 13.46; 39.86; 118.86; 0.08; 1.03 | (0.39,0.38,0.17,0.11) (0.24,0.52,0.19,0.10)"
       ]
      },
      {
       "output_type": "stream",
       "stream": "stdout",
       "text": [
        "\n",
        "(8.00 4.80 0.62): 12.91; 36.50; 107.54; 0.09; 1.03 | (0.36,0.39,0.18,0.11) (0.21,0.53,0.21,0.11)"
       ]
      },
      {
       "output_type": "stream",
       "stream": "stdout",
       "text": [
        "\n",
        "(8.00 4.80 0.65): 12.46; 32.59; 101.88; 0.09; 1.03 | (0.34,0.41,0.18,0.12) (0.22,0.50,0.22,0.11)"
       ]
      },
      {
       "output_type": "stream",
       "stream": "stdout",
       "text": [
        "\n",
        "(8.00 4.80 0.68): 11.60; 27.59; 96.22; 0.09; 1.00 | (0.30,0.42,0.20,0.13) (0.18,0.53,0.24,0.12)"
       ]
      },
      {
       "output_type": "stream",
       "stream": "stdout",
       "text": [
        "\n",
        "(8.00 4.90 0.60): 12.89; 37.51; 118.86; 0.08; 0.99 | (0.37,0.38,0.18,0.11) (0.24,0.52,0.19,0.10)"
       ]
      },
      {
       "output_type": "stream",
       "stream": "stdout",
       "text": [
        "\n",
        "(8.00 4.90 0.62): 12.41; 34.31; 107.54; 0.09; 1.00 | (0.35,0.40,0.19,0.11) (0.21,0.53,0.21,0.11)"
       ]
      },
      {
       "output_type": "stream",
       "stream": "stdout",
       "text": [
        "\n",
        "(8.00 4.90 0.65): 11.96; 30.87; 101.88; 0.09; 0.99 | (0.34,0.42,0.18,0.12) (0.22,0.50,0.22,0.11)"
       ]
      },
      {
       "output_type": "stream",
       "stream": "stdout",
       "text": [
        "\n",
        "(8.00 4.90 0.68): 11.14; 26.26; 96.22; 0.09; 0.96 | (0.30,0.43,0.20,0.13) (0.18,0.53,0.24,0.12)"
       ]
      },
      {
       "output_type": "stream",
       "stream": "stdout",
       "text": [
        "\n",
        "(8.00 5.00 0.60): 12.39; 34.93; 107.54; 0.09; 1.00 | (0.37,0.39,0.17,0.11) (0.16,0.58,0.21,0.11)"
       ]
      },
      {
       "output_type": "stream",
       "stream": "stdout",
       "text": [
        "\n",
        "(8.00 5.00 0.62): 11.93; 31.89; 101.88; 0.09; 0.99 | (0.35,0.40,0.18,0.12) (0.17,0.56,0.22,0.11)"
       ]
      },
      {
       "output_type": "stream",
       "stream": "stdout",
       "text": [
        "\n",
        "(8.00 5.00 0.65): 11.52; 28.92; 96.22; 0.09; 0.99 | (0.33,0.42,0.18,0.12) (0.18,0.53,0.24,0.12)"
       ]
      },
      {
       "output_type": "stream",
       "stream": "stdout",
       "text": [
        "\n",
        "(8.25 4.00 0.60): 16.86; 58.46; 175.45; 0.07; 1.06 | (0.43,0.36,0.16,0.09) (0.29,0.45,0.19,0.10)"
       ]
      },
      {
       "output_type": "stream",
       "stream": "stdout",
       "text": [
        "\n",
        "(8.25 4.00 0.62): 15.98; 51.03; 158.47; 0.08; 1.06 | (0.40,0.38,0.17,0.10) (0.29,0.43,0.21,0.11)"
       ]
      },
      {
       "output_type": "stream",
       "stream": "stdout",
       "text": [
        "\n",
        "(8.25 4.00 0.65): 15.16; 43.53; 141.50; 0.08; 1.07 | (0.38,0.40,0.17,0.10) (0.28,0.44,0.20,0.12)"
       ]
      },
      {
       "output_type": "stream",
       "stream": "stdout",
       "text": [
        "\n",
        "(8.25 4.00 0.68): 13.70; 35.25; 107.54; 0.10; 1.09 | (0.32,0.42,0.18,0.12) (0.16,0.53,0.21,0.16)"
       ]
      },
      {
       "output_type": "stream",
       "stream": "stdout",
       "text": [
        "\n",
        "(8.25 4.00 0.70): 12.12; 28.99; 84.90; 0.11; 1.08 | (0.29,0.43,0.19,0.12) (0.07,0.67,0.20,0.13)"
       ]
      },
      {
       "output_type": "stream",
       "stream": "stdout",
       "text": [
        "\n",
        "(8.25 4.10 0.60): 16.56; 56.19; 175.45; 0.07; 1.05 | (0.43,0.36,0.16,0.09) (0.29,0.45,0.19,0.10)"
       ]
      },
      {
       "output_type": "stream",
       "stream": "stdout",
       "text": [
        "\n",
        "(8.25 4.10 0.62): 15.74; 49.24; 158.47; 0.08; 1.05 | (0.39,0.38,0.17,0.10) (0.29,0.43,0.21,0.11)"
       ]
      },
      {
       "output_type": "stream",
       "stream": "stdout",
       "text": [
        "\n",
        "(8.25 4.10 0.65): 14.97; 42.05; 141.50; 0.08; 1.06 | (0.37,0.40,0.17,0.11) (0.28,0.44,0.20,0.12)"
       ]
      },
      {
       "output_type": "stream",
       "stream": "stdout",
       "text": [
        "\n",
        "(8.25 4.10 0.68): 13.58; 34.07; 107.54; 0.10; 1.09 | (0.32,0.42,0.18,0.12) (0.16,0.53,0.21,0.16)"
       ]
      },
      {
       "output_type": "stream",
       "stream": "stdout",
       "text": [
        "\n",
        "(8.25 4.10 0.70): 12.07; 28.14; 84.90; 0.11; 1.08 | (0.30,0.43,0.19,0.13) (0.07,0.67,0.20,0.13)"
       ]
      },
      {
       "output_type": "stream",
       "stream": "stdout",
       "text": [
        "\n",
        "(8.25 4.20 0.60): 16.17; 53.77; 164.13; 0.07; 1.06 | (0.43,0.36,0.16,0.09) (0.28,0.48,0.21,0.07)"
       ]
      },
      {
       "output_type": "stream",
       "stream": "stdout",
       "text": [
        "\n",
        "(8.25 4.20 0.62): 15.40; 47.52; 147.16; 0.08; 1.06 | (0.40,0.38,0.17,0.10) (0.27,0.46,0.23,0.08)"
       ]
      },
      {
       "output_type": "stream",
       "stream": "stdout",
       "text": [
        "\n",
        "(8.25 4.20 0.65): 14.64; 40.87; 130.18; 0.09; 1.07 | (0.37,0.40,0.17,0.11) (0.26,0.48,0.22,0.09)"
       ]
      },
      {
       "output_type": "stream",
       "stream": "stdout",
       "text": [
        "\n",
        "(8.25 4.20 0.68): 13.32; 33.06; 101.88; 0.10; 1.09 | (0.32,0.42,0.19,0.12) (0.17,0.56,0.22,0.11)"
       ]
      },
      {
       "output_type": "stream",
       "stream": "stdout",
       "text": [
        "\n",
        "(8.25 4.20 0.70): 11.88; 27.28; 84.90; 0.11; 1.07 | (0.30,0.43,0.19,0.13) (0.07,0.67,0.20,0.13)"
       ]
      },
      {
       "output_type": "stream",
       "stream": "stdout",
       "text": [
        "\n",
        "(8.25 4.30 0.60): 15.86; 51.50; 158.47; 0.08; 1.06 | (0.42,0.37,0.16,0.10) (0.25,0.50,0.21,0.07)"
       ]
      },
      {
       "output_type": "stream",
       "stream": "stdout",
       "text": [
        "\n",
        "(8.25 4.30 0.62): 15.10; 45.64; 141.50; 0.08; 1.06 | (0.39,0.38,0.17,0.10) (0.24,0.48,0.24,0.08)"
       ]
      },
      {
       "output_type": "stream",
       "stream": "stdout",
       "text": [
        "\n",
        "(8.25 4.30 0.65): 14.37; 39.62; 124.52; 0.09; 1.08 | (0.36,0.41,0.17,0.11) (0.23,0.50,0.23,0.09)"
       ]
      },
      {
       "output_type": "stream",
       "stream": "stdout",
       "text": [
        "\n",
        "(8.25 4.30 0.68): 13.13; 32.20; 101.88; 0.10; 1.08 | (0.32,0.42,0.18,0.12) (0.17,0.56,0.22,0.11)"
       ]
      },
      {
       "output_type": "stream",
       "stream": "stdout",
       "text": [
        "\n",
        "(8.25 4.30 0.70): 11.76; 26.57; 84.90; 0.11; 1.06 | (0.29,0.43,0.19,0.13) (0.07,0.67,0.20,0.13)"
       ]
      },
      {
       "output_type": "stream",
       "stream": "stdout",
       "text": [
        "\n",
        "(8.25 4.40 0.60): 15.52; 48.61; 147.16; 0.08; 1.07 | (0.42,0.37,0.16,0.10) (0.27,0.46,0.23,0.08)"
       ]
      },
      {
       "output_type": "stream",
       "stream": "stdout",
       "text": [
        "\n",
        "(8.25 4.40 0.62): 14.76; 43.38; 130.18; 0.09; 1.08 | (0.39,0.38,0.17,0.11) (0.26,0.43,0.26,0.09)"
       ]
      },
      {
       "output_type": "stream",
       "stream": "stdout",
       "text": [
        "\n",
        "(8.25 4.40 0.65): 14.09; 37.75; 113.20; 0.09; 1.10 | (0.36,0.41,0.17,0.11) (0.25,0.45,0.25,0.10)"
       ]
      },
      {
       "output_type": "stream",
       "stream": "stdout",
       "text": [
        "\n",
        "(8.25 4.40 0.68): 12.89; 31.03; 96.22; 0.10; 1.09 | (0.32,0.42,0.19,0.12) (0.18,0.53,0.24,0.12)"
       ]
      },
      {
       "output_type": "stream",
       "stream": "stdout",
       "text": [
        "\n",
        "(8.25 4.40 0.70): 11.57; 25.71; 79.24; 0.11; 1.07 | (0.30,0.43,0.19,0.13) (0.07,0.64,0.21,0.14)"
       ]
      },
      {
       "output_type": "stream",
       "stream": "stdout",
       "text": [
        "\n",
        "(8.25 4.50 0.60): 15.02; 45.72; 141.50; 0.08; 1.06 | (0.41,0.37,0.16,0.10) (0.28,0.48,0.20,0.08)"
       ]
      },
      {
       "output_type": "stream",
       "stream": "stdout",
       "text": [
        "\n",
        "(8.25 4.50 0.62): 14.30; 40.80; 124.52; 0.09; 1.07 | (0.38,0.39,0.17,0.10) (0.27,0.45,0.23,0.09)"
       ]
      },
      {
       "output_type": "stream",
       "stream": "stdout",
       "text": [
        "\n",
        "(8.25 4.50 0.65): 13.68; 35.40; 113.20; 0.09; 1.07 | (0.36,0.41,0.17,0.11) (0.25,0.45,0.25,0.10)"
       ]
      },
      {
       "output_type": "stream",
       "stream": "stdout",
       "text": [
        "\n",
        "(8.25 4.50 0.68): 12.53; 29.23; 96.22; 0.10; 1.07 | (0.31,0.43,0.18,0.12) (0.18,0.53,0.24,0.12)"
       ]
      },
      {
       "output_type": "stream",
       "stream": "stdout",
       "text": [
        "\n",
        "(8.25 4.50 0.70): 11.26; 24.38; 79.24; 0.11; 1.05 | (0.29,0.43,0.18,0.14) (0.07,0.64,0.21,0.14)"
       ]
      },
      {
       "output_type": "stream",
       "stream": "stdout",
       "text": [
        "\n",
        "(8.25 4.60 0.60): 14.42; 42.67; 135.84; 0.08; 1.04 | (0.40,0.38,0.17,0.10) (0.29,0.46,0.21,0.08)"
       ]
      },
      {
       "output_type": "stream",
       "stream": "stdout",
       "text": [
        "\n",
        "(8.25 4.60 0.62): 13.80; 38.61; 124.52; 0.08; 1.04 | (0.37,0.39,0.17,0.11) (0.27,0.45,0.23,0.09)"
       ]
      },
      {
       "output_type": "stream",
       "stream": "stdout",
       "text": [
        "\n",
        "(8.25 4.60 0.65): 13.20; 33.76; 113.20; 0.09; 1.04 | (0.34,0.42,0.17,0.11) (0.25,0.45,0.25,0.10)"
       ]
      },
      {
       "output_type": "stream",
       "stream": "stdout",
       "text": [
        "\n",
        "(8.25 4.60 0.68): 12.10; 28.06; 96.22; 0.10; 1.04 | (0.30,0.44,0.19,0.12) (0.18,0.53,0.24,0.12)"
       ]
      },
      {
       "output_type": "stream",
       "stream": "stdout",
       "text": [
        "\n",
        "(8.25 4.70 0.60): 13.75; 39.47; 124.52; 0.08; 1.03 | (0.39,0.38,0.17,0.10) (0.27,0.50,0.18,0.09)"
       ]
      },
      {
       "output_type": "stream",
       "stream": "stdout",
       "text": [
        "\n",
        "(8.25 4.70 0.62): 13.16; 35.79; 113.20; 0.09; 1.03 | (0.36,0.40,0.18,0.11) (0.25,0.50,0.20,0.10)"
       ]
      },
      {
       "output_type": "stream",
       "stream": "stdout",
       "text": [
        "\n",
        "(8.25 4.70 0.65): 12.62; 31.50; 107.54; 0.09; 1.02 | (0.34,0.42,0.18,0.11) (0.26,0.47,0.21,0.11)"
       ]
      },
      {
       "output_type": "stream",
       "stream": "stdout",
       "text": [
        "\n",
        "(8.25 4.70 0.68): 11.62; 26.42; 96.22; 0.09; 1.00 | (0.29,0.44,0.20,0.12) (0.18,0.53,0.24,0.12)"
       ]
      },
      {
       "output_type": "stream",
       "stream": "stdout",
       "text": [
        "\n",
        "(8.25 4.80 0.60): 13.11; 37.20; 118.86; 0.08; 1.01 | (0.38,0.39,0.17,0.11) (0.24,0.52,0.19,0.10)"
       ]
      },
      {
       "output_type": "stream",
       "stream": "stdout",
       "text": [
        "\n",
        "(8.25 4.80 0.62): 12.58; 34.15; 107.54; 0.09; 1.01 | (0.36,0.40,0.18,0.11) (0.21,0.53,0.21,0.11)"
       ]
      },
      {
       "output_type": "stream",
       "stream": "stdout",
       "text": [
        "\n",
        "(8.25 4.80 0.65): 12.13; 30.25; 101.88; 0.09; 1.01 | (0.34,0.42,0.18,0.12) (0.22,0.50,0.22,0.11)"
       ]
      },
      {
       "output_type": "stream",
       "stream": "stdout",
       "text": [
        "\n",
        "(8.25 4.80 0.68): 11.29; 25.48; 96.22; 0.09; 0.98 | (0.30,0.44,0.19,0.13) (0.18,0.53,0.24,0.12)"
       ]
      },
      {
       "output_type": "stream",
       "stream": "stdout",
       "text": [
        "\n",
        "(8.25 4.90 0.60): 12.60; 35.01; 118.86; 0.08; 0.98 | (0.37,0.40,0.17,0.11) (0.24,0.52,0.19,0.10)"
       ]
      },
      {
       "output_type": "stream",
       "stream": "stdout",
       "text": [
        "\n",
        "(8.25 4.90 0.62): 12.13; 32.12; 107.54; 0.09; 0.98 | (0.34,0.41,0.18,0.11) (0.21,0.53,0.21,0.11)"
       ]
      },
      {
       "output_type": "stream",
       "stream": "stdout",
       "text": [
        "\n",
        "(8.25 4.90 0.65): 11.69; 28.68; 101.88; 0.09; 0.98 | (0.33,0.43,0.17,0.11) (0.22,0.50,0.22,0.11)"
       ]
      },
      {
       "output_type": "stream",
       "stream": "stdout",
       "text": [
        "\n",
        "(8.25 5.00 0.60): 12.12; 32.67; 107.54; 0.09; 0.98 | (0.37,0.40,0.17,0.11) (0.16,0.58,0.21,0.11)"
       ]
      },
      {
       "output_type": "stream",
       "stream": "stdout",
       "text": [
        "\n",
        "(8.25 5.00 0.62): 11.67; 29.93; 101.88; 0.09; 0.97 | (0.35,0.41,0.18,0.12) (0.17,0.56,0.22,0.11)"
       ]
      },
      {
       "output_type": "stream",
       "stream": "stdout",
       "text": [
        "\n",
        "(8.25 5.00 0.65): 11.26; 26.96; 96.22; 0.09; 0.97 | (0.33,0.43,0.17,0.12) (0.18,0.53,0.24,0.12)"
       ]
      },
      {
       "output_type": "stream",
       "stream": "stdout",
       "text": [
        "\n",
        "(8.50 4.00 0.60): 16.20; 55.10; 175.45; 0.07; 1.03 | (0.43,0.36,0.17,0.10) (0.29,0.45,0.19,0.10)"
       ]
      },
      {
       "output_type": "stream",
       "stream": "stdout",
       "text": [
        "\n",
        "(8.50 4.00 0.62): 15.34; 47.91; 158.47; 0.07; 1.03 | (0.39,0.38,0.17,0.10) (0.29,0.43,0.21,0.11)"
       ]
      },
      {
       "output_type": "stream",
       "stream": "stdout",
       "text": [
        "\n",
        "(8.50 4.00 0.65): 14.59; 40.64; 141.50; 0.08; 1.04 | (0.37,0.39,0.17,0.11) (0.28,0.44,0.20,0.12)"
       ]
      },
      {
       "output_type": "stream",
       "stream": "stdout",
       "text": [
        "\n",
        "(8.50 4.00 0.68): 13.16; 32.75; 107.54; 0.09; 1.06 | (0.32,0.41,0.19,0.12) (0.16,0.53,0.21,0.16)"
       ]
      },
      {
       "output_type": "stream",
       "stream": "stdout",
       "text": [
        "\n",
        "(8.50 4.00 0.70): 11.64; 26.88; 84.90; 0.10; 1.05 | (0.29,0.42,0.19,0.13) (0.07,0.67,0.20,0.13)"
       ]
      },
      {
       "output_type": "stream",
       "stream": "stdout",
       "text": [
        "\n",
        "(8.50 4.10 0.60): 15.95; 53.30; 175.45; 0.07; 1.02 | (0.42,0.36,0.17,0.10) (0.29,0.45,0.19,0.10)"
       ]
      },
      {
       "output_type": "stream",
       "stream": "stdout",
       "text": [
        "\n",
        "(8.50 4.10 0.62): 15.14; 46.42; 158.47; 0.07; 1.02 | (0.39,0.38,0.17,0.11) (0.29,0.43,0.21,0.11)"
       ]
      },
      {
       "output_type": "stream",
       "stream": "stdout",
       "text": [
        "\n",
        "(8.50 4.10 0.65): 14.43; 39.47; 141.50; 0.08; 1.03 | (0.37,0.40,0.17,0.11) (0.28,0.44,0.20,0.12)"
       ]
      },
      {
       "output_type": "stream",
       "stream": "stdout",
       "text": [
        "\n",
        "(8.50 4.10 0.68): 13.04; 31.89; 107.54; 0.09; 1.06 | (0.31,0.42,0.19,0.13) (0.16,0.53,0.21,0.16)"
       ]
      },
      {
       "output_type": "stream",
       "stream": "stdout",
       "text": [
        "\n",
        "(8.50 4.10 0.70): 11.59; 26.34; 84.90; 0.10; 1.05 | (0.29,0.43,0.19,0.13) (0.07,0.67,0.20,0.13)"
       ]
      },
      {
       "output_type": "stream",
       "stream": "stdout",
       "text": [
        "\n",
        "(8.50 4.20 0.60): 15.57; 51.03; 164.13; 0.07; 1.02 | (0.42,0.36,0.17,0.10) (0.28,0.48,0.21,0.07)"
       ]
      },
      {
       "output_type": "stream",
       "stream": "stdout",
       "text": [
        "\n",
        "(8.50 4.20 0.62): 14.81; 44.86; 147.16; 0.08; 1.03 | (0.39,0.37,0.17,0.11) (0.27,0.46,0.23,0.08)"
       ]
      },
      {
       "output_type": "stream",
       "stream": "stdout",
       "text": [
        "\n",
        "(8.50 4.20 0.65): 14.13; 38.45; 130.18; 0.08; 1.04 | (0.37,0.40,0.17,0.11) (0.26,0.48,0.22,0.09)"
       ]
      },
      {
       "output_type": "stream",
       "stream": "stdout",
       "text": [
        "\n",
        "(8.50 4.20 0.68): 12.80; 31.03; 101.88; 0.10; 1.06 | (0.32,0.41,0.19,0.13) (0.17,0.56,0.22,0.11)"
       ]
      },
      {
       "output_type": "stream",
       "stream": "stdout",
       "text": [
        "\n",
        "(8.50 4.20 0.70): 11.40; 25.56; 84.90; 0.10; 1.03 | (0.29,0.42,0.19,0.13) (0.07,0.67,0.20,0.13)"
       ]
      },
      {
       "output_type": "stream",
       "stream": "stdout",
       "text": [
        "\n",
        "(8.50 4.30 0.60): 15.28; 48.92; 158.47; 0.07; 1.02 | (0.42,0.36,0.17,0.10) (0.25,0.50,0.21,0.07)"
       ]
      },
      {
       "output_type": "stream",
       "stream": "stdout",
       "text": [
        "\n",
        "(8.50 4.30 0.62): 14.54; 43.14; 141.50; 0.08; 1.03 | (0.39,0.38,0.17,0.11) (0.24,0.48,0.24,0.08)"
       ]
      },
      {
       "output_type": "stream",
       "stream": "stdout",
       "text": [
        "\n",
        "(8.50 4.30 0.65): 13.87; 37.28; 124.52; 0.09; 1.05 | (0.36,0.40,0.17,0.12) (0.23,0.50,0.23,0.09)"
       ]
      },
      {
       "output_type": "stream",
       "stream": "stdout",
       "text": [
        "\n",
        "(8.50 4.30 0.68): 12.63; 30.17; 101.88; 0.10; 1.05 | (0.31,0.42,0.19,0.13) (0.17,0.56,0.22,0.11)"
       ]
      },
      {
       "output_type": "stream",
       "stream": "stdout",
       "text": [
        "\n",
        "(8.50 4.30 0.70): 11.29; 24.85; 84.90; 0.10; 1.03 | (0.29,0.43,0.19,0.14) (0.07,0.67,0.20,0.13)"
       ]
      },
      {
       "output_type": "stream",
       "stream": "stdout",
       "text": [
        "\n",
        "(8.50 4.40 0.60): 14.97; 46.11; 147.16; 0.08; 1.04 | (0.41,0.37,0.16,0.10) (0.27,0.46,0.23,0.08)"
       ]
      },
      {
       "output_type": "stream",
       "stream": "stdout",
       "text": [
        "\n",
        "(8.50 4.40 0.62): 14.23; 40.95; 130.18; 0.08; 1.05 | (0.38,0.38,0.17,0.11) (0.26,0.43,0.26,0.09)"
       ]
      },
      {
       "output_type": "stream",
       "stream": "stdout",
       "text": [
        "\n",
        "(8.50 4.40 0.65): 13.63; 35.48; 113.20; 0.09; 1.07 | (0.35,0.40,0.17,0.12) (0.25,0.45,0.25,0.10)"
       ]
      },
      {
       "output_type": "stream",
       "stream": "stdout",
       "text": [
        "\n",
        "(8.50 4.40 0.68): 12.43; 29.07; 96.22; 0.10; 1.06 | (0.31,0.42,0.19,0.13) (0.18,0.53,0.24,0.12)"
       ]
      },
      {
       "output_type": "stream",
       "stream": "stdout",
       "text": [
        "\n",
        "(8.50 4.40 0.70): 11.12; 24.07; 79.24; 0.11; 1.04 | (0.29,0.42,0.19,0.14) (0.07,0.64,0.21,0.14)"
       ]
      },
      {
       "output_type": "stream",
       "stream": "stdout",
       "text": [
        "\n",
        "(8.50 4.50 0.60): 14.50; 43.30; 141.50; 0.08; 1.03 | (0.41,0.37,0.17,0.10) (0.28,0.48,0.20,0.08)"
       ]
      },
      {
       "output_type": "stream",
       "stream": "stdout",
       "text": [
        "\n",
        "(8.50 4.50 0.62): 13.80; 38.45; 124.52; 0.08; 1.04 | (0.37,0.38,0.17,0.11) (0.27,0.45,0.23,0.09)"
       ]
      },
      {
       "output_type": "stream",
       "stream": "stdout",
       "text": [
        "\n",
        "(8.50 4.50 0.65): 13.23; 33.22; 113.20; 0.09; 1.05 | (0.35,0.41,0.17,0.12) (0.25,0.45,0.25,0.10)"
       ]
      },
      {
       "output_type": "stream",
       "stream": "stdout",
       "text": [
        "\n",
        "(8.50 4.50 0.68): 12.08; 27.35; 96.22; 0.10; 1.04 | (0.30,0.43,0.19,0.13) (0.18,0.53,0.24,0.12)"
       ]
      },
      {
       "output_type": "stream",
       "stream": "stdout",
       "text": [
        "\n",
        "(8.50 4.60 0.60): 13.95; 40.41; 135.84; 0.08; 1.01 | (0.39,0.38,0.17,0.10) (0.29,0.46,0.21,0.08)"
       ]
      },
      {
       "output_type": "stream",
       "stream": "stdout",
       "text": [
        "\n",
        "(8.50 4.60 0.62): 13.35; 36.42; 124.52; 0.08; 1.01 | (0.36,0.39,0.18,0.11) (0.27,0.45,0.23,0.09)"
       ]
      },
      {
       "output_type": "stream",
       "stream": "stdout",
       "text": [
        "\n",
        "(8.50 4.60 0.65): 12.80; 31.65; 113.20; 0.09; 1.02 | (0.33,0.42,0.18,0.12) (0.25,0.45,0.25,0.10)"
       ]
      },
      {
       "output_type": "stream",
       "stream": "stdout",
       "text": [
        "\n",
        "(8.50 4.60 0.68): 11.71; 26.26; 96.22; 0.10; 1.01 | (0.29,0.44,0.19,0.13) (0.18,0.53,0.24,0.12)"
       ]
      },
      {
       "output_type": "stream",
       "stream": "stdout",
       "text": [
        "\n",
        "(8.50 4.70 0.60): 13.30; 37.36; 124.52; 0.08; 1.01 | (0.39,0.38,0.17,0.11) (0.27,0.50,0.18,0.09)"
       ]
      },
      {
       "output_type": "stream",
       "stream": "stdout",
       "text": [
        "\n",
        "(8.50 4.70 0.62): 12.74; 33.68; 113.20; 0.09; 1.01 | (0.36,0.39,0.18,0.11) (0.25,0.50,0.20,0.10)"
       ]
      },
      {
       "output_type": "stream",
       "stream": "stdout",
       "text": [
        "\n",
        "(8.50 4.70 0.65): 12.24; 29.46; 107.54; 0.09; 1.00 | (0.33,0.42,0.18,0.12) (0.26,0.47,0.21,0.11)"
       ]
      },
      {
       "output_type": "stream",
       "stream": "stdout",
       "text": [
        "\n",
        "(8.50 4.70 0.68): 11.24; 24.70; 96.22; 0.09; 0.98 | (0.29,0.43,0.20,0.13) (0.18,0.53,0.24,0.12)"
       ]
      },
      {
       "output_type": "stream",
       "stream": "stdout",
       "text": [
        "\n",
        "(8.50 4.80 0.60): 12.68; 35.09; 118.86; 0.08; 0.98 | (0.38,0.38,0.17,0.11) (0.24,0.52,0.19,0.10)"
       ]
      },
      {
       "output_type": "stream",
       "stream": "stdout",
       "text": [
        "\n",
        "(8.50 4.80 0.62): 12.17; 32.04; 107.54; 0.09; 0.99 | (0.35,0.39,0.18,0.12) (0.21,0.53,0.21,0.11)"
       ]
      },
      {
       "output_type": "stream",
       "stream": "stdout",
       "text": [
        "\n",
        "(8.50 4.80 0.65): 11.77; 28.21; 101.88; 0.09; 0.99 | (0.33,0.42,0.18,0.12) (0.22,0.50,0.22,0.11)"
       ]
      },
      {
       "output_type": "stream",
       "stream": "stdout",
       "text": [
        "\n",
        "(8.50 4.90 0.60): 12.19; 33.06; 118.86; 0.08; 0.95 | (0.36,0.39,0.18,0.11) (0.24,0.52,0.19,0.10)"
       ]
      },
      {
       "output_type": "stream",
       "stream": "stdout",
       "text": [
        "\n",
        "(8.50 4.90 0.62): 11.74; 30.17; 107.54; 0.09; 0.96 | (0.34,0.41,0.19,0.12) (0.21,0.53,0.21,0.11)"
       ]
      },
      {
       "output_type": "stream",
       "stream": "stdout",
       "text": [
        "\n",
        "(8.50 4.90 0.65): 11.35; 26.81; 101.88; 0.09; 0.96 | (0.32,0.43,0.18,0.12) (0.22,0.50,0.22,0.11)"
       ]
      },
      {
       "output_type": "stream",
       "stream": "stdout",
       "text": [
        "\n",
        "(8.50 5.00 0.60): 11.71; 30.79; 107.54; 0.08; 0.96 | (0.37,0.39,0.17,0.12) (0.16,0.58,0.21,0.11)"
       ]
      },
      {
       "output_type": "stream",
       "stream": "stdout",
       "text": [
        "\n",
        "(8.50 5.00 0.62): 11.28; 28.06; 101.88; 0.09; 0.95 | (0.34,0.41,0.18,0.12) (0.17,0.56,0.22,0.11)"
       ]
      },
      {
       "output_type": "stream",
       "stream": "stdout",
       "text": [
        "\n"
       ]
      }
     ],
     "prompt_number": 43
    },
    {
     "cell_type": "code",
     "collapsed": false,
     "input": [
      "S1List1=[]; S2List1=[]; S3List1=[]\n",
      "for i in ListForFile1:\n",
      "    S=i[2]*0.017; B=i[1]*0.078; S1=S/B; S2=S/np.sqrt(S+B); S3=S1*S2\n",
      "    S1List1.append(S1); S2List1.append(S2); S3List1.append(S3);\n",
      "    print S, B, S1, S2, S3\n",
      "print \"Max S1:\", ListForFile1[S1List1.index(max(S1List1))][0], S1List1.index(max(S1List1)), max(S1List1)\n",
      "print \"Max S2:\", ListForFile1[S2List1.index(max(S2List1))][0], S2List1.index(max(S2List1)), max(S2List1)\n",
      "print \"Max S3:\", ListForFile1[S3List1.index(max(S3List1))][0], S3List1.index(max(S3List1)), max(S3List1)"
     ],
     "language": "python",
     "metadata": {},
     "outputs": [
      {
       "output_type": "stream",
       "stream": "stdout",
       "text": [
        "19.924 78.156 0.254926045345 2.01180695158 0.512861990165\n",
        "18.989 69.186 0.274463041656 2.02222446555 0.555025877725\n",
        "18.037 59.592 0.302674855685 2.04716246179 0.619624602687\n",
        "16.439 48.906 0.336134625608 2.03361723697 0.683569168579\n",
        "14.569 40.482 0.359888345437 1.96357338617 0.706667177093\n",
        "12.478 31.434 0.396958707132 1.8830132345 0.747478499082\n",
        "19.465 74.568 0.261036905911 2.00730913994 0.523981767099\n",
        "18.581 66.456 0.279598531359 2.01495391728 0.563378156029\n",
        "17.697 57.408 0.308267140468 2.04204461149 0.629495253093\n",
        "16.184 47.19 0.342954015681 2.0329669109 0.697214165841\n",
        "14.399 39.156 0.367734191439 1.96757963973 0.72354630791\n",
        "12.342 30.576 0.403649921507 1.8839345219 0.760450021891\n",
        "18.955 70.59 0.268522453605 2.0031022481 0.537877930482\n",
        "18.122 63.414 0.285772857729 2.00692630377 0.57352506508\n",
        "17.272 55.146 0.313204946868 2.02964164837 0.63569380464\n",
        "15.844 45.396 0.349017534585 2.02463734244 0.706633933685\n",
        "14.144 37.596 0.376210235131 1.96634190885 0.739757951878\n",
        "12.189 29.64 0.411234817814 1.88464404257 0.775031249489\n",
        "18.53 66.768 0.277528157201 2.006346761 0.556817719287\n",
        "17.714 60.06 0.294938394938 2.00862758401 0.592421395658\n",
        "16.881 52.65 0.320626780627 2.02445875019 0.649095691585\n",
        "15.538 43.446 0.357639368411 2.0231496428 0.723557960451\n",
        "13.974 35.958 0.388620056733 1.9775672353 0.768522291177\n",
        "12.053 28.47 0.423357920618 1.89340867145 0.801589558024\n",
        "18.02 63.18 0.285216840772 1.99975491109 0.570363778061\n",
        "17.204 57.33 0.300087214373 1.99274725407 0.597997972422\n",
        "16.473 50.466 0.326417786232 2.01341401974 0.657214147092\n",
        "15.181 41.964 0.361762463064 2.00821987889 0.726498569762\n",
        "13.685 34.788 0.39338277567 1.96559868171 0.773232665264\n",
        "11.832 27.768 0.4261019879 1.88022822599 0.801168984801\n",
        "17.408 59.358 0.293271336635 1.98684698743 0.582685271694\n",
        "16.626 53.82 0.308918617614 1.98088656714 0.61193273997\n",
        "15.946 47.346 0.336797195117 2.00436749 0.675065348614\n",
        "14.722 39.546 0.372275324938 1.9984574467 0.743976395347\n",
        "13.311 32.916 0.404393000365 1.95777522564 0.791710597535\n",
        "11.543 26.208 0.440438034188 1.87868715281 0.827445276438\n",
        "16.66 55.224 0.301680428799 1.96498337044 0.592797025777\n",
        "15.98 50.622 0.315673027537 1.95809220961 0.618116896006\n",
        "15.317 44.772 0.342111140892 1.97595124301 0.675994934092\n",
        "14.161 37.674 0.375882571535 1.96690041222 0.739323584899\n",
        "12.784 31.278 0.40872178528 1.92590410522 0.787158964163\n",
        "11.135 25.272 0.440606204495 1.84543084173 0.813108278835\n",
        "15.844 50.778 0.31202489267 1.94113616381 0.60568280317\n",
        "15.198 46.644 0.325829688706 1.93261202279 0.629702373774\n",
        "14.603 41.652 0.350595409584 1.94698013614 0.682602298282\n",
        "13.549 35.334 0.38345502915 1.93788641038 0.743092289983\n",
        "12.257 29.25 0.419042735043 1.9024949541 0.797226688971\n",
        "15.113 47.424 0.318678306343 1.91109449085 0.609024355606\n",
        "14.518 43.914 0.330600719588 1.8992468567 0.6278923775\n",
        "14.042 39.546 0.355080159814 1.91820577585 0.681116813446\n",
        "13.141 33.774 0.389086279387 1.91854749514 0.74648050671\n",
        "11.934 28.002 0.426183844011 1.88844243856 0.804823657659\n",
        "14.331 44.46 0.322334682861 1.86905065735 0.602459850889\n",
        "13.804 41.106 0.335814722911 1.86285575903 0.625574390542\n",
        "13.345 37.284 0.35792833387 1.87550792399 0.671297426392\n",
        "12.512 31.902 0.392201115917 1.87744313443 0.736335292395\n",
        "11.441 26.52 0.43141025641 1.85692842126 0.801097966349\n",
        "13.787 41.028 0.336038802769 1.86217317549 0.62576244444\n",
        "13.277 37.83 0.350964842717 1.85720464428 0.651813535873\n",
        "12.852 34.632 0.371101871102 1.86507829819 0.69213404621\n",
        "12.053 29.64 0.406646423752 1.86665296171 0.759067751263\n",
        "11.016 24.804 0.44412191582 1.84060728453 0.81745403348\n",
        "19.329 73.944 0.261400519312 2.00138856143 0.523164009302\n",
        "18.394 65.208 0.282081953135 2.01172145913 0.567470318353\n",
        "17.459 56.082 0.311312007418 2.03589136072 0.633797426391\n",
        "15.861 46.02 0.344654498044 2.01628492684 0.694921669373\n",
        "14.076 38.22 0.368288854003 1.94645793316 0.716858761567\n",
        "12.019 29.484 0.407644824311 1.86564320202 0.760519795317\n",
        "18.887 70.746 0.266969157267 1.99493621389 0.532586439822\n",
        "18.003 62.868 0.286361901126 2.00192809647 0.573275935622\n",
        "17.136 54.21 0.316104039845 2.02873180933 0.641290320691\n",
        "15.623 44.538 0.350779109974 2.01422002583 0.706546307952\n",
        "13.923 37.128 0.375 1.94863588651 0.73073845744\n",
        "11.9 28.782 0.413452852477 1.86571719294 0.771386095335\n",
        "18.394 67.236 0.273573680766 1.98775662749 0.54379789705\n",
        "17.561 60.216 0.291633452903 1.99124018938 0.580712251988\n",
        "16.728 52.182 0.320570311602 2.01512919394 0.645990593619\n",
        "15.3 42.978 0.355996091023 2.00419101706 0.713484167737\n",
        "13.668 35.802 0.381766381766 1.94327388756 0.741876640834\n",
        "11.747 28.002 0.419505749589 1.86321883235 0.781631012913\n",
        "17.986 63.804 0.281894552066 1.98876965581 0.560623331285\n",
        "17.17 57.252 0.299902186823 1.99030496628 0.596896811833\n",
        "16.354 50.076 0.326583592939 2.00651248885 0.655294057885\n",
        "15.011 41.262 0.363797198391 2.00105760337 0.727979149924\n",
        "13.498 34.398 0.392406535264 1.95038254354 0.765342856349\n",
        "11.611 26.91 0.431475287997 1.87077194608 0.807191864213\n",
        "17.51 60.294 0.290410322752 1.98511277162 0.576497240705\n",
        "16.694 54.522 0.306188327648 1.97820648251 0.605703734621\n",
        "15.98 47.892 0.333667418358 1.99950050125 0.667168170258\n",
        "14.688 39.78 0.369230769231 1.99017812991 0.734835001812\n",
        "13.243 33.228 0.398549416155 1.94265361241 0.774243463019\n",
        "11.407 26.208 0.435248778999 1.85990562751 0.809521653426\n",
        "16.932 56.628 0.299004026277 1.97418296231 0.590288654338\n",
        "16.15 51.168 0.315626954346 1.96837084751 0.621270895625\n",
        "15.487 44.928 0.344707086895 1.99248430198 0.686823459417\n",
        "14.263 37.518 0.380164187856 1.98210047474 0.753523617229\n",
        "12.886 31.512 0.408923584666 1.93391073248 0.79082170915\n",
        "11.135 24.804 0.448919529108 1.85740763754 0.833826562004\n",
        "16.201 52.728 0.307256106812 1.95137543276 0.5995720184\n",
        "15.521 48.204 0.321985727326 1.94430671838 0.626039012862\n",
        "14.875 42.51 0.349917666431 1.96362151266 0.687105857464\n",
        "13.719 35.802 0.383190883191 1.94952026104 0.747038390626\n",
        "12.376 29.952 0.413194444444 1.90224489132 0.785997021064\n",
        "15.436 48.594 0.317652385068 1.92904793236 0.612766676625\n",
        "14.79 44.538 0.332075980062 1.92016398597 0.63764033752\n",
        "14.212 39.702 0.357966853055 1.93555012023 0.692862785468\n",
        "13.158 33.618 0.391397465643 1.92388160258 0.753002383446\n",
        "11.9 28.002 0.424969645025 1.88386435686 0.80058516701\n",
        "14.722 45.318 0.324859879077 1.89996881001 0.61722363787\n",
        "14.127 41.886 0.337272597049 1.88758070077 0.63662924509\n",
        "13.668 37.596 0.363549313757 1.90896833718 0.694004128966\n",
        "12.767 32.058 0.398246927444 1.90690347101 0.759418448261\n",
        "11.594 26.754 0.433355759886 1.872241798 0.811346767061\n",
        "13.957 42.51 0.328322747589 1.85735415215 0.609811618478\n",
        "13.43 39.234 0.342305143498 1.85062784178 0.633479428943\n",
        "12.971 35.49 0.365483234714 1.8632763581 0.680996270524\n",
        "12.138 30.342 0.40003954914 1.86232245201 0.745002634054\n",
        "11.101 25.428 0.436565990247 1.83672108243 0.801849958158\n",
        "13.413 39.624 0.338506965475 1.84177447286 0.623453487899\n",
        "12.903 36.504 0.353468113083 1.83567779741 0.648853567279\n",
        "12.478 33.306 0.374647210713 1.84411548596 0.690892723048\n",
        "11.679 28.47 0.410221285564 1.84318230359 0.756112614106\n",
        "18.683 70.2 0.26613960114 1.98169704374 0.5274080608\n",
        "17.782 62.01 0.286760199968 1.99067760399 0.570847107792\n",
        "16.864 53.274 0.316552164283 2.01364962088 0.637425145598\n",
        "15.283 43.68 0.349885531136 1.99030130192 0.696377628142\n",
        "13.6 36.036 0.3774003774 1.93036982607 0.728522300881\n",
        "11.594 27.768 0.417530970902 1.84796915297 0.771584354638\n",
        "18.275 67.314 0.271488843331 1.97536979841 0.536290861722\n",
        "17.425 59.826 0.291261324508 1.9825344002 0.577435595286\n",
        "16.575 51.48 0.32196969697 2.00920161195 0.646902034152\n",
        "15.079 42.276 0.356679912953 1.99107169807 0.71017527995\n",
        "13.464 35.022 0.384444063731 1.9335968255 0.743359821213\n",
        "11.492 27.066 0.424591738713 1.85070998386 0.785796169901\n",
        "17.816 64.194 0.277533725893 1.96732811318 0.545999901304\n",
        "17.017 57.408 0.296422101449 1.9725298189 0.584701434091\n",
        "16.201 49.686 0.326067705189 1.99591460119 0.650803293762\n",
        "14.79 40.794 0.362553316664 1.98377894081 0.71922563452\n",
        "13.243 33.696 0.393014007597 1.9329448475 0.759674400979\n",
        "11.356 26.286 0.432017043293 1.8509259261 0.799631545948\n",
        "17.408 61.074 0.285031273537 1.96500584743 0.5600881192\n",
        "16.626 54.756 0.303637957484 1.96785647529 0.597515920779\n",
        "15.827 47.814 0.331011837537 1.98394717694 0.656710000617\n",
        "14.501 39.312 0.36886955637 1.97676184821 0.729167265997\n",
        "13.073 32.526 0.401924614155 1.93596544754 0.778112165521\n",
        "11.22 25.35 0.442603550296 1.85536934492 0.821193059172\n",
        "16.949 57.798 0.293245441019 1.96041129613 0.574881675112\n",
        "16.167 52.182 0.309819477981 1.95552492528 0.605859711529\n",
        "15.47 45.63 0.339031339031 1.97910897639 0.670979966354\n",
        "14.178 37.83 0.374781919112 1.96598362183 0.736815114731\n",
        "12.818 31.356 0.408789386401 1.92857664794 0.788381664541\n",
        "11.016 24.648 0.446932814021 1.84462844632 0.824424982339\n",
        "16.388 54.366 0.301438398999 1.94827589228 0.587285165777\n",
        "15.64 49.062 0.31878031878 1.94436545311 0.619825438967\n",
        "14.994 42.9 0.34951048951 1.97061020782 0.688748938368\n",
        "13.77 35.802 0.384615384615 1.95576072156 0.752215662139\n",
        "12.461 29.874 0.417118564638 1.91515140738 0.798845206111\n",
        "15.691 50.7 0.309487179487 1.92573275453 0.595989598645\n",
        "15.045 46.254 0.32526916591 1.92161109331 0.625040837526\n",
        "14.416 40.638 0.354741867218 1.94289949043 0.689227793051\n",
        "13.26 34.086 0.389016018307 1.92708946487 0.749668670543\n",
        "11.985 28.314 0.42328883238 1.88795180524 0.799148915229\n",
        "14.926 46.878 0.318400955672 1.89860729557 0.604518377357\n",
        "14.314 42.822 0.334267432628 1.89367783741 0.632994828935\n",
        "13.753 38.064 0.361312526272 1.91056276831 0.69031026042\n",
        "12.699 32.136 0.395164301718 1.89653532427 0.749443057098\n",
        "11.509 26.598 0.432701706895 1.86438332549 0.806721847245\n",
        "14.229 43.68 0.325755494505 1.86982665574 0.609106306881\n",
        "13.668 40.248 0.339594514013 1.8614275518 0.632130584824\n",
        "13.209 36.036 0.36655011655 1.88230011724 0.689957327355\n",
        "12.308 30.654 0.401513668689 1.87778230481 0.753955262203\n",
        "11.203 25.428 0.440577316344 1.85101504455 0.81551524084\n",
        "13.549 41.028 0.330237886322 1.83401301363 0.605660581108\n",
        "13.056 37.752 0.3458359822 1.83165675332 0.633452812336\n",
        "12.597 34.086 0.369565217391 1.84368936543 0.681363461136\n",
        "11.764 29.094 0.404344538393 1.84041796443 0.744162952279\n",
        "13.039 38.22 0.341156462585 1.8212066215 0.621316408628\n",
        "12.563 35.1 0.35792022792 1.8197120572 0.651311754263\n",
        "12.138 31.98 0.379549718574 1.82742358204 0.693598106278\n",
        "11.339 27.3 0.415347985348 1.82415532895 0.757659240842\n",
        "18.054 65.52 0.275549450549 1.97486695872 0.544173505383\n",
        "17.17 57.486 0.298681418084 1.98718333587 0.593534736752\n",
        "16.269 49.374 0.329505407704 2.00801359459 0.66165133816\n",
        "14.705 40.404 0.363949113949 1.98085991495 0.720932210903\n",
        "13.056 33.384 0.391085549964 1.91586117216 0.749265620171\n",
        "11.135 25.662 0.43391006157 1.83562521602 0.796496250502\n",
        "17.663 63.024 0.280258314293 1.96635843158 0.551088299329\n",
        "16.83 55.614 0.302621642033 1.97734707149 0.598388017641\n",
        "15.997 47.814 0.334567281549 2.00258412691 0.669999127413\n",
        "14.518 39.156 0.370773316988 1.98164023322 0.734739322351\n",
        "12.937 32.526 0.397743343787 1.91868876679 0.76314568579\n",
        "11.05 25.038 0.441329179647 1.83941985905 0.811789657421\n",
        "17.255 59.982 0.287669634224 1.96337051753 0.564802078624\n",
        "16.473 53.274 0.309212749183 1.97246784598 0.609912205331\n",
        "15.674 46.098 0.340014751182 1.99427025199 0.678081303522\n",
        "14.263 37.752 0.377807798262 1.97763700915 0.747166684189\n",
        "12.75 31.278 0.407634759256 1.92152352507 0.783279779546\n",
        "16.881 57.408 0.294053093645 1.9585556395 0.575919344873\n",
        "16.116 51.168 0.314962476548 1.96472312849 0.618814062282\n",
        "15.334 44.694 0.343088557748 1.97914914009 0.679023424042\n",
        "14.008 36.738 0.381294572377 1.96641521333 0.749783447885\n",
        "12.597 30.42 0.414102564103 1.92064486564 0.795343963592\n",
        "16.473 54.366 0.303001876173 1.95720577039 0.593037020484\n",
        "15.708 48.828 0.321700663554 1.95532913135 0.629030679021\n",
        "15.011 42.744 0.351183791877 1.97521707323 0.693664221556\n",
        "13.719 35.49 0.386559594252 1.95569077093 0.755991030894\n",
        "12.376 29.484 0.41975308642 1.91284900197 0.802924272433\n",
        "15.929 51.09 0.311783127814 1.94576120719 0.606655515157\n",
        "15.198 45.864 0.331371009942 1.94491635213 0.644488895859\n",
        "14.552 40.17 0.362260393328 1.96716915085 0.712627470329\n",
        "13.328 33.54 0.397376267144 1.94682436736 0.773621799886\n",
        "12.036 28.08 0.428632478632 1.90030524808 0.814532548645\n",
        "15.266 47.658 0.320323974988 1.92449637262 0.616462327928\n",
        "14.637 43.29 0.338115038115 1.92314289254 0.650243532411\n",
        "14.008 38.142 0.367259189345 1.93976436481 0.712396288141\n",
        "12.852 31.98 0.401876172608 1.91944936564 0.771380964576\n",
        "11.594 26.676 0.434622881991 1.87414878161 0.814547944743\n",
        "14.518 43.992 0.3300145481 1.89798048633 0.6263611725\n",
        "13.923 40.014 0.347953216374 1.89578651424 0.65964501519\n",
        "13.362 35.646 0.374852718398 1.90870133686 0.715481884732\n",
        "12.308 30.108 0.40879500465 1.88982953652 0.772552874169\n",
        "11.135 25.038 0.44472401949 1.85139018569 0.823357685024\n",
        "13.838 41.184 0.336004273504 1.86554246816 0.626830241706\n",
        "13.294 37.83 0.351414221517 1.85927342276 0.653375122448\n",
        "12.835 33.93 0.378278809313 1.8768752339 0.709982128711\n",
        "11.934 28.86 0.413513513514 1.86847756556 0.772640723056\n",
        "13.175 38.688 0.340544871795 1.8294553163 0.623011626143\n",
        "12.699 35.49 0.357819103973 1.82934478285 0.654574511059\n",
        "12.24 32.058 0.381807973049 1.83903230565 0.70215719699\n",
        "11.407 27.378 0.416648403828 1.8316375725 0.763148870972\n",
        "12.665 36.114 0.350695021321 1.81337969192 0.63594322972\n",
        "12.206 33.072 0.369073536526 1.81396852878 0.669487780064\n",
        "11.781 30.108 0.391291351136 1.82025469381 0.712249918551\n",
        "17.323 62.244 0.278307949361 1.94203303645 0.540483231964\n",
        "16.439 54.444 0.30194328117 1.95255983053 0.58956232191\n",
        "15.623 46.8 0.333824786325 1.97738900242 0.660101461212\n",
        "14.11 38.22 0.369178440607 1.95052556285 0.720091985657\n",
        "12.512 31.434 0.398040338487 1.88741351281 0.751266713505\n",
        "16.966 59.904 0.283219818376 1.93508934725 0.54805565347\n",
        "16.133 52.65 0.306419753086 1.94524620575 0.596061862058\n",
        "15.368 45.318 0.33911470056 1.97275473967 0.668990132823\n",
        "13.94 37.05 0.37624831309 1.95218183689 0.734505122977\n",
        "12.41 30.576 0.405873888017 1.89281541565 0.76824435205\n",
        "16.575 57.33 0.289115646259 1.92804260455 0.557427283628\n",
        "15.793 50.778 0.311020520698 1.93562888771 0.602020304534\n",
        "15.045 43.992 0.341993998909 1.95807828823 0.66965102397\n",
        "13.685 35.88 0.38141025641 1.94382537193 0.741394933525\n",
        "12.223 29.562 0.413469995264 1.89089584922 0.781828697822\n",
        "16.235 54.99 0.295235497363 1.92369432593 0.567942851089\n",
        "15.47 48.828 0.316826411076 1.92926364939 0.611241678056\n",
        "14.739 42.666 0.345450710167 1.94532943506 0.672015434852\n",
        "13.464 34.944 0.385302197802 1.93515400455 0.745619091038\n",
        "12.087 28.782 0.41994996873 1.89069517736 0.793997380611\n",
        "15.844 52.026 0.304540037673 1.92320646012 0.58569336782\n",
        "15.079 46.488 0.324363276544 1.92175732531 0.62334750276\n",
        "14.416 40.716 0.354062285097 1.94152461014 0.687420640039\n",
        "13.175 33.696 0.390995963913 1.92441402879 0.752438118152\n",
        "11.866 27.846 0.426129426129 1.88297027454 0.802389042508\n",
        "15.317 48.906 0.313192655298 1.91129805598 0.598604513218\n",
        "14.586 43.68 0.333928571429 1.91085884515 0.638090364364\n",
        "13.974 38.298 0.364875450415 1.93279672186 0.705230074451\n",
        "12.801 31.824 0.402243589744 1.91626153896 0.770803920321\n",
        "11.543 26.442 0.43654035247 1.87289155025 0.817592737482\n",
        "14.671 45.63 0.321520929213 1.88928492796 0.607444645586\n",
        "14.042 41.262 0.340313121031 1.888211754 0.642583235172\n",
        "13.447 36.426 0.369159391643 1.90411273803 0.70292109999\n",
        "12.342 30.42 0.405719921105 1.88736778315 0.765742708075\n",
        "11.118 25.194 0.441295546559 1.84502215205 0.814200059004\n",
        "13.974 42.198 0.33115313522 1.86449316371 0.617432756759\n",
        "13.379 38.22 0.350052328624 1.86252886151 0.6519825651\n",
        "12.835 33.93 0.378278809313 1.8768752339 0.709982128711\n",
        "11.832 28.548 0.414459857083 1.86197996519 0.771715950266\n",
        "13.328 39.78 0.335042735043 1.8288791583 0.61275267526\n",
        "12.784 36.426 0.350958106847 1.82238477915 0.639580712037\n",
        "12.342 32.526 0.379450285925 1.84254111018 0.699152751087\n",
        "11.492 27.534 0.417374881964 1.83957965248 0.767794340316\n",
        "12.767 37.44 0.340998931624 1.80180058018 0.61441207284\n",
        "12.291 34.242 0.358945155073 1.80180045557 0.646747543935\n",
        "11.849 30.81 0.384582927621 1.81416324619 0.697696212403\n",
        "11.033 26.208 0.420978327228 1.80793557734 0.761101695084\n",
        "12.274 34.866 0.352033499685 1.7876863738 0.629325490507\n",
        "11.815 31.824 0.371260683761 1.78853041898 0.664011026276\n",
        "11.407 28.86 0.395252945253 1.7976155002 0.710512820888\n",
        "16.694 58.344 0.286130536131 1.92716892447 0.551421877572\n",
        "15.827 50.934 0.310735461578 1.93703374103 0.601905073612\n",
        "15.011 43.446 0.345509367951 1.96332123152 0.678345877787\n",
        "13.566 35.178 0.385638751492 1.94308245423 0.749327891695\n",
        "12.002 28.938 0.414748773239 1.8757705077 0.777973516947\n",
        "16.405 56.082 0.292518098499 1.92684229935 0.563636245513\n",
        "15.589 49.14 0.317236467236 1.93762089071 0.614684006213\n",
        "14.824 41.964 0.353255171099 1.9671483797 0.694905337449\n",
        "13.447 34.008 0.395406963068 1.95202068752 0.771842571898\n",
        "11.951 28.08 0.425605413105 1.8888872138 0.803920622938\n",
        "16.014 53.664 0.29841234347 1.91845663126 0.572491139181\n",
        "15.249 47.424 0.321546052632 1.92619886459 0.619361641493\n",
        "14.501 40.794 0.355468941511 1.95009164382 0.693197012478\n",
        "13.192 32.994 0.399830272171 1.9411337786 0.776124047018\n",
        "11.764 27.222 0.432150466534 1.88408580096 0.814208557877\n",
        "15.708 51.402 0.305591222131 1.91746423967 0.585960240394\n",
        "14.96 45.552 0.328415876361 1.92313972968 0.631589619689\n",
        "14.229 39.546 0.359808830223 1.94036829528 0.698161646528\n",
        "13.005 32.136 0.404686333084 1.93564080431 0.783327379266\n",
        "11.645 26.52 0.439102564103 1.88498048999 0.82769976644\n",
        "15.368 48.516 0.316761480749 1.92274327637 0.609051007324\n",
        "14.62 43.29 0.337722337722 1.92119120648 0.648829185466\n",
        "13.957 37.674 0.370467696555 1.9423916846 0.719593373201\n",
        "12.767 30.966 0.412290899696 1.93056408823 0.795954004858\n",
        "11.458 25.662 0.446496765646 1.88063638463 0.839698063094\n",
        "14.875 45.63 0.325991672146 1.91232341094 0.623401506415\n",
        "14.161 40.716 0.347799390903 1.91160757171 0.664855949085\n",
        "13.549 35.334 0.38345502915 1.93788641038 0.743092289983\n",
        "12.41 29.172 0.425407925408 1.92450522467 0.818699775062\n",
        "11.152 24.336 0.458251150559 1.87202652714 0.857858309937\n",
        "14.28 42.588 0.335305719921 1.89362609646 0.634943661536\n",
        "13.668 38.532 0.354718156338 1.89177603107 0.671047305944\n",
        "13.073 33.696 0.387968898386 1.91159646683 0.741639975392\n",
        "11.985 28.002 0.42800514249 1.89530289961 0.811199387607\n",
        "13.617 39.39 0.34569687738 1.87031529198 0.646562156154\n",
        "13.039 35.724 0.36499272198 1.86723542039 0.681527338666\n",
        "12.495 31.434 0.39749952281 1.88521376408 0.749371571617\n",
        "11.509 26.364 0.43654225459 1.87013404368 0.816392531812\n",
        "12.988 37.128 0.349816849817 1.83465360955 0.641792746197\n",
        "12.461 34.086 0.365575309511 1.82644689035 0.667703887247\n",
        "12.019 30.186 0.398164712118 1.8500624259 0.736629573211\n",
        "11.186 25.428 0.439908761995 1.84863523481 0.813230837526\n",
        "12.478 34.944 0.357085622711 1.81198687763 0.64703446254\n",
        "12.019 32.058 0.37491421798 1.81034906223 0.678725602936\n",
        "11.577 28.626 0.404422552924 1.8258571744 0.738417819746\n",
        "12.002 32.604 0.368114341799 1.79703684823 0.661515036573\n",
        "11.56 29.874 0.386958559282 1.79588863969 0.694934480647\n",
        "11.152 26.91 0.41441843181 1.8076192527 0.749110736012\n",
        "16.048 54.99 0.291834879069 1.904037742 0.55566462418\n",
        "15.198 47.814 0.317856694692 1.91458568745 0.608563878318\n",
        "14.45 40.56 0.356262327416 1.94826049598 0.69409181871\n",
        "13.039 32.682 0.398965791567 1.92835249911 0.769346681228\n",
        "11.526 26.832 0.429561717352 1.86101827483 0.799422206159\n",
        "15.793 53.196 0.296883224303 1.90140534512 0.564495349565\n",
        "14.994 46.332 0.323620823621 1.91467553105 0.619628872325\n",
        "14.297 39.39 0.362960142168 1.95123846605 0.708221791042\n",
        "12.92 31.824 0.405982905983 1.93150177016 0.784156701562\n",
        "11.475 26.286 0.436544167998 1.86737246518 0.815190559157\n",
        "15.419 50.934 0.302725095221 1.8928923968 0.573026031064\n",
        "14.671 44.772 0.327682480122 1.90287104328 0.623537502814\n",
        "13.991 38.376 0.364576818845 1.93339196428 0.704869891919\n",
        "12.682 30.966 0.409545953627 1.91957716297 0.786155059769\n",
        "11.288 25.506 0.442562534306 1.86092340782 0.823574979513\n",
        "15.13 48.828 0.30986319325 1.89187087201 0.586221149617\n",
        "14.399 43.056 0.334424934968 1.89962736522 0.635282758079\n",
        "13.736 37.206 0.369187765414 1.92451936928 0.710509005439\n",
        "12.512 30.108 0.415570612462 1.91654937855 0.796461599057\n",
        "11.186 24.804 0.450975649089 1.86459232248 0.840885732915\n",
        "14.824 46.02 0.322120817036 1.90045034783 0.612174618778\n",
        "14.093 40.872 0.34480818164 1.90090466189 0.655447479939\n",
        "13.498 35.412 0.381170224783 1.93005903213 0.735681035121\n",
        "12.308 29.016 0.424179762889 1.91463639964 0.812150014019\n",
        "11.016 24.024 0.458541458541 1.86098074011 0.853336822889\n",
        "14.365 43.212 0.332430806258 1.89313294817 0.629335712313\n",
        "13.668 38.376 0.356160100063 1.89460917457 0.674784193195\n",
        "13.107 33.15 0.395384615385 1.92714577782 0.761963792152\n",
        "11.968 27.3 0.438388278388 1.90986288652 0.837261502777\n",
        "13.821 40.326 0.342731736349 1.87824511135 0.643734208303\n",
        "13.226 36.348 0.36387146473 1.87845820731 0.683517339328\n",
        "12.682 31.59 0.401456157012 1.90600123609 0.765175931499\n",
        "11.594 26.208 0.442384004884 1.885714355 0.834209868431\n",
        "13.175 37.284 0.35336873726 1.8547325945 0.655404514872\n",
        "12.614 33.618 0.375215658278 1.85516048795 0.696085263699\n",
        "12.121 29.406 0.412194790179 1.88093233435 0.775310508899\n",
        "11.135 24.648 0.451760791951 1.86145202275 0.840931039977\n",
        "12.563 35.022 0.358717377648 1.82120285707 0.653297113053\n",
        "12.053 31.98 0.37689180738 1.81637710435 0.684577649741\n",
        "11.662 28.158 0.414162937709 1.84808698789 0.765409136047\n",
        "12.07 32.994 0.365824089228 1.79801123441 0.657755822252\n",
        "11.628 30.108 0.386209645277 1.79990511538 0.695140716144\n",
        "11.237 26.754 0.420011960828 1.82309801522 0.765722972153\n",
        "11.594 30.732 0.377261486399 1.78209020115 0.672313998183\n",
        "11.169 28.002 0.398864366831 1.78456331708 0.711798717537\n",
        "Max S1: (8.5, 4.4000000000000004, 0.69999999999999996) 355 0.458541458541\n",
        "Max S2: (7.0, 4.0, 0.65000000000000002) 2 2.04716246179\n",
        "Max S3: (8.25, 4.5, 0.69999999999999996) 312 0.857858309937\n"
       ]
      }
     ],
     "prompt_number": 44
    },
    {
     "cell_type": "code",
     "collapsed": false,
     "input": [
      "#Sntuple.Print()\n",
      "#\"M5J:DRHJ:Hpt:Tpt:DRWH:RelHT:RelM:Eta6thJ:MT2MH:MW2MH:MW2MT2:M2HP:DRTp6thJ:HM:chi2:TopsPTAsym:MTHAsym:MTmMHdMW:PTTHAsym:M1HP:M1HM:T1PTdT2PT:DETH:DPTH\"\n",
      "CutM2HPO = [ROOT.TCut(\"M2HP>7.25\"),ROOT.TCut(\"M2HP>7.25\")]\n",
      "CutRelHTO = [ROOT.TCut(\"RelHT>=0.65\"),ROOT.TCut(\"RelHT>=0.65\")]\n",
      "CutDRTp6thJO = [ROOT.TCut(\"DRTp6thJ>4.0\"),ROOT.TCut(\"DRTp6thJ>4.2\")]"
     ],
     "language": "python",
     "metadata": {},
     "outputs": [],
     "prompt_number": 6
    },
    {
     "cell_type": "code",
     "collapsed": false,
     "input": [
      "SignalEntries2=[]\n",
      "TTbarEntries2=[]\n",
      "\n",
      "#DRHJ<=1.2 && (DRWH>=1.6 && DRWH<=4.0) && M2HP>8.25 && DRTp6thJ>4.5 && RelHT>=0.7 && (HM>=105 && HM<=145)\n",
      "\n",
      "MTHAsym2=[\"MTHAsym\",np.linspace(0.5,0.1,5),0.18]\n",
      "TopsPTAsym2=[\"TopsPTAsym\",np.linspace(1.0,0.1,10),0.0]\n",
      "PTTHAsym2=[\"PTTHAsym\",np.linspace(1.0,0.1,10),0.0]\n",
      "MTmMHdMW2=[\"MTmMHdMW\",np.linspace(1.6,0.1,16),0.6]\n",
      "T1PTdT2PT2=[\"T1PTdT2PT\",np.linspace(1.0,0.1,10),1.0]\n",
      "MTWAsym2=[\"MTWAsym\",np.linspace(0.4,0.05,8),0.37]\n",
      "M1HM2=[\"M1HM\",np.linspace(1.0,0.1,10),0.7]\n",
      "DPTH2=[\"DPTH\",np.linspace(0.1,np.pi-0.1,20),np.pi]\n",
      "DETH2=[\"DETH\",np.linspace(3,0.1,30)]\n",
      "\n",
      "CounterToWriteToFile=0\n",
      "ListForFile2=[]\n",
      "\n",
      "Cut2Set=MTHAsym2\n",
      "\n",
      "for j in xrange(2):\n",
      "    Path=j\n",
      "    print \"From base:\", j\n",
      "    for i in Cut2Set[1]:\n",
      "        Cut2 = ROOT.TCut(Cut2Set[0]+\">=\"+str(Cut2Set[2]-i)+\" && \"+Cut2Set[0]+\"<=\"+str(Cut2Set[2]+i))\n",
      "        #Cut2 = ROOT.TCut(Cut2Set[0]+\">=\"+str(Cut2Set[2]+i)+\" || \"+Cut2Set[0]+\"<=\"+str(Cut2Set[2]-i))\n",
      "        #Cut2 = ROOT.TCut(Cut2Set[0]+\"<=\"+str(i))\n",
      "        CutF=CutDRbb*CutDRWH*CutM2HPO[Path]*CutDRTp6thJO[Path]*CutHM*CutRelHTO[Path]*Cut2\n",
      "\n",
      "        Sntuple.Draw(\"M5J >> M5jS(120,400,1600)\",CutF)\n",
      "        M5JHS=ROOT.gDirectory.Get(\"M5jS\")\n",
      "        if M5JHS.GetEntries()*SWeight<9.5: continue\n",
      "        print \"---------------------------------------\"\n",
      "        M5JHS.Sumw2(); M5JHS.Scale(SWeight)\n",
      "        #INTEGRATION\n",
      "        f1=ROOT.TF1(\"f1\",\"gaus\",600,800)\n",
      "        M5JHS.Fit(\"f1\",\"LMR\",\"same\")\n",
      "        MassPoint=f1.GetParameter(1); win=f1.GetParameter(2)\n",
      "        Chi2=f1.GetChisquare(); NDF=f1.GetNDF()\n",
      "        window_error=ROOT.Double(0.)\n",
      "        integral=M5JHS.IntegralAndError(M5JHS.GetXaxis().FindBin(MassPoint-win),M5JHS.GetXaxis().FindBin(MassPoint+win),window_error)\n",
      "        print \"M=700 GeV ------> \",integral,\"+-\",window_error,\", and full range integral: \",M5JHS.Integral()\n",
      "        print \"Mean value:\", MassPoint, \" with sigma:\", win\n",
      "        print \"Chi2=\", Chi2, \"ndf=\", NDF, \"Chi2/ndf\", Chi2/NDF \n",
      "        Tntuple.Draw(\"M5J >> M5jT(120,400,1600)\",CutF)                        \n",
      "        M5JHT=ROOT.gDirectory.Get(\"M5jT\")\n",
      "        M5JHT.Sumw2(); M5JHT.Scale(TWeight)\n",
      "        bkg_integral=M5JHT.IntegralAndError(M5JHT.GetXaxis().FindBin(MassPoint-win),M5JHT.GetXaxis().FindBin(MassPoint+win),window_error)\n",
      "        print \"TTbar ------> \",bkg_integral,\"+-\",window_error,\", and full range integral: \",M5JHT.Integral()\n",
      "        SignalEntries2.append(integral); TTbarEntries2.append(bkg_integral)\n",
      "        Qntuple.Draw(\"M5J >> M5jQ(120,400,1600)\",CutF)\n",
      "        M5JHQ=ROOT.gDirectory.Get(\"M5jQ\")\n",
      "        M5JHQ.Sumw2(); M5JHQ.Scale(QWeight)\n",
      "        bkg_integral=M5JHQ.IntegralAndError(M5JHQ.GetXaxis().FindBin(MassPoint-win),M5JHQ.GetXaxis().FindBin(MassPoint+win),window_error)\n",
      "        print \"QCD ------> \",bkg_integral,\"+-\",window_error,\", and full range integral: \",M5JHQ.Integral()\n",
      "        #SignalEntries.append([CutF,M5JHS.GetEntries()]); TTbarEntries.append([CutF,M5JHT.GetEntries()])\n",
      "        CounterToWriteToFile+=1\n",
      "        we=ROOT.Double(0.)\n",
      "        TTbarStruc1=M5JHT.IntegralAndError(M5JHT.GetXaxis().FindBin(0),M5JHT.GetXaxis().FindBin(700),we)/M5JHT.Integral()\n",
      "        TTbarStruc2=M5JHT.IntegralAndError(M5JHT.GetXaxis().FindBin(700),M5JHT.GetXaxis().FindBin(850),we)/M5JHT.Integral()\n",
      "        TTbarStruc3=M5JHT.IntegralAndError(M5JHT.GetXaxis().FindBin(850),M5JHT.GetXaxis().FindBin(1000),we)/M5JHT.Integral()\n",
      "        TTbarStruc4=M5JHT.IntegralAndError(M5JHT.GetXaxis().FindBin(1000),M5JHT.GetXaxis().FindBin(10000),we)/M5JHT.Integral()\n",
      "        QCDStruc1=M5JHQ.IntegralAndError(M5JHQ.GetXaxis().FindBin(0),M5JHQ.GetXaxis().FindBin(700),we)/M5JHQ.Integral()\n",
      "        QCDStruc2=M5JHQ.IntegralAndError(M5JHQ.GetXaxis().FindBin(700),M5JHQ.GetXaxis().FindBin(850),we)/M5JHQ.Integral()\n",
      "        QCDStruc3=M5JHQ.IntegralAndError(M5JHQ.GetXaxis().FindBin(850),M5JHQ.GetXaxis().FindBin(1000),we)/M5JHQ.Integral()\n",
      "        QCDStruc4=M5JHQ.IntegralAndError(M5JHQ.GetXaxis().FindBin(1000),M5JHQ.GetXaxis().FindBin(10000),we)/M5JHQ.Integral()\n",
      "        print '({0:.2f} {1:.2f}): {2:.2f}; {3:.2f}; {4:.2f}; {5:.2f}; {6:.2f} | ({7:.2f},{8:.2f},{9:.2f},{10:.2f}) ({11:.2f},{12:.2f},{13:.2f},{14:.2f})'.format(i,j,\n",
      "                                                                                                        M5JHS.GetEntries()*SWeight,\n",
      "                                                                                                        M5JHT.GetEntries()*TWeight,\n",
      "                                                                                                        M5JHQ.GetEntries()*QWeight,\n",
      "                                                                                                        M5JHS.GetEntries()/(M5JHT.GetEntries()+M5JHQ.GetEntries()),\n",
      "                                                                                                        M5JHS.GetEntries()/np.sqrt(M5JHS.GetEntries()+M5JHT.GetEntries()+M5JHQ.GetEntries()),\n",
      "                                                                                                        TTbarStruc1,TTbarStruc2,TTbarStruc3,TTbarStruc4,\n",
      "                                                                                                        QCDStruc1,QCDStruc2,QCDStruc3,QCDStruc4)\n",
      "            \n",
      "        ListForFile2.append([i,M5JHT.GetEntries(),M5JHS.GetEntries()])\n",
      "        #if CounterToWriteToFile%200==0: #or FinalCondition:\n",
      "        #    f = open('Selections_SS_%i_m2hp_eta6thj_relht.txt'%(CounterToWriteToFile), 'w')\n",
      "        #    f.write(str(ListForFile))\n",
      "        #    f.close(); print \"File %i produced\"%(CounterToWriteToFile)\n",
      "        #    ListForFile=[]\n",
      "        #print M5JHS.GetEntries(), M5JHT.GetEntries()\n",
      "\n",
      "    #f = open('Selections_SS_eta6thj.txt', 'w')\n",
      "    #f.write(str(ListForFile))\n",
      "    #f.close()\n",
      "    #print ListForFile2"
     ],
     "language": "python",
     "metadata": {},
     "outputs": [
      {
       "output_type": "stream",
       "stream": "stdout",
       "text": [
        "From base: 0\n",
        "---------------------------------------"
       ]
      },
      {
       "output_type": "stream",
       "stream": "stdout",
       "text": [
        "\n",
        "M=700 GeV ------> "
       ]
      },
      {
       "output_type": "stream",
       "stream": "stdout",
       "text": [
        " 11.5856753588 +- 0.445932853213 , and full range integral:  17.5758986585\n",
        "Mean value: 701.614217973  with sigma: 45.7618072869\n",
        "Chi2= 10.636930491 ndf= 17 Chi2/ndf 0.625701793588\n",
        "TTbar ------> "
       ]
      },
      {
       "output_type": "stream",
       "stream": "stdout",
       "text": [
        " 17.2718502283 +- 1.16183035921 , and full range integral:  55.5669026673\n",
        "QCD ------>  33.9588575363 +- 13.8636451581 , and full range integral:  152.81485939\n",
        "(0.50 0.00): 17.58; 55.65; 152.81; 1.39; 24.39 | (0.40,0.38,0.16,0.10) (0.33,0.41,0.22,0.07)\n",
        "---------------------------------------\n",
        "M=700 GeV ------>  11.5856753588 +- 0.445932853213 , and full range integral:  17.1124716494\n",
        "Mean value: 701.614217973  with sigma: 45.7618072869\n",
        "Chi2= 10.636930491 ndf= 17 Chi2/ndf 0.625701793588\n",
        "TTbar ------> "
       ]
      },
      {
       "output_type": "stream",
       "stream": "stdout",
       "text": [
        " 17.2718502283 +- 1.16183035921 , and full range integral:  53.6912266165\n",
        "QCD ------>  33.9588575363 +- 13.8636451581 , and full range integral:  135.835430622\n",
        "(0.40 0.00): 17.11; 53.77; 135.84; 1.40; 24.12 | (0.41,0.39,0.15,0.08) (0.37,0.46,0.17,0.04)\n",
        "---------------------------------------\n",
        "M=700 GeV ------>  11.4826915264 +- 0.443946505462 , and full range integral:  16.2714373991\n",
        "Mean value: 700.808172854  with sigma: 44.9794049212\n",
        "Chi2= 11.0409656381 ndf= 17 Chi2/ndf 0.649468566947\n",
        "TTbar ------> "
       ]
      },
      {
       "output_type": "stream",
       "stream": "stdout",
       "text": [
        " 16.6466246843 +- 1.14060792694 , and full range integral:  48.7675770819\n",
        "QCD ------>  28.2990479469 +- 12.6557186373 , and full range integral:  113.196191788\n",
        "(0.30 0.00): 16.27; 48.85; 113.20; 1.47; 23.75 | (0.45,0.38,0.14,0.07) (0.40,0.45,0.10,0.05)\n",
        "---------------------------------------\n",
        "M=700 GeV ------>  10.9849367738 +- 0.434217747267 , and full range integral:  14.9669762943\n",
        "Mean value: 698.729206237  with sigma: 42.9527841095\n",
        "Chi2= 9.43428985313 ndf= 17 Chi2/ndf 0.554958226655\n",
        "TTbar ------> "
       ]
      },
      {
       "output_type": "stream",
       "stream": "stdout",
       "text": [
        " 14.3801828623 +- 1.0601211409 , and full range integral:  41.1085665077\n",
        "QCD ------>  11.3196191788 +- 8.00417926399 , and full range integral:  62.2579054832\n",
        "(0.20 0.00): 14.97; 41.11; 62.26; 1.62; 23.23 | (0.47,0.38,0.11,0.07) (0.64,0.27,0.00,0.09)\n",
        "---------------------------------------\n",
        "M=700 GeV ------>  8.80511325598 +- 0.388755248552 , and full range integral:  11.8946267068\n",
        "Mean value: 696.874000203  with sigma: 38.7948925991\n",
        "Chi2= 12.0568090917 ndf= 17 Chi2/ndf 0.709224064219\n",
        "TTbar ------> "
       ]
      },
      {
       "output_type": "stream",
       "stream": "stdout",
       "text": [
        " 10.3162180781 +- 0.897911532169 , and full range integral:  31.1049609259\n",
        "QCD ------>  11.3196191788 +- 8.00417926399 , and full range integral:  39.6186671257\n",
        "(0.10 0.00): 11.89; 31.10; 39.62; 1.71; 20.91 | (0.47,0.37,0.11,0.07) (0.86,0.14,0.00,0.00)\n",
        "From base: 1\n",
        "---------------------------------------\n",
        "M=700 GeV ------>  11.1737402678 +- 0.437933408321 , and full range integral:  16.8378482219\n",
        "Mean value: 701.551677468  with sigma: 45.3507008259\n",
        "Chi2= 9.31898340353 ndf= 17 Chi2/ndf 0.548175494325\n",
        "TTbar ------> "
       ]
      },
      {
       "output_type": "stream",
       "stream": "stdout",
       "text": [
        " 15.8650929928 +- 1.11351123356 , and full range integral:  51.6592440009\n",
        "QCD ------>  28.2990479469 +- 12.6557186373 , and full range integral:  135.835430622\n",
        "(0.50 1.00): 16.84; 51.74; 135.84; 1.43; 24.03 | (0.39,0.38,0.17,0.10) (0.33,0.46,0.21,0.04)\n",
        "---------------------------------------\n",
        "M=700 GeV ------>  11.1737402678 +- 0.437933408321 , and full range integral:  16.3915851805\n",
        "Mean value: 701.551677468  with sigma: 45.3507008259\n",
        "Chi2= 9.31898340353 ndf= 17 Chi2/ndf 0.548175494325\n",
        "TTbar ------> "
       ]
      },
      {
       "output_type": "stream",
       "stream": "stdout",
       "text": [
        " 15.8650929928 +- 1.11351123356 , and full range integral:  49.7835678905\n",
        "QCD ------>  28.2990479469 +- 12.6557186373 , and full range integral:  124.515811443\n",
        "(0.40 1.00): 16.39; 49.86; 124.52; 1.45; 23.76 | (0.41,0.39,0.16,0.08) (0.36,0.50,0.18,0.00)\n",
        "---------------------------------------\n",
        "M=700 GeV ------>  11.0879203677 +- 0.43624839473 , and full range integral:  15.6192067508\n",
        "Mean value: 700.769276102  with sigma: 44.5302354729\n",
        "Chi2= 9.6799679616 ndf= 17 Chi2/ndf 0.569409880094\n",
        "TTbar ------> "
       ]
      },
      {
       "output_type": "stream",
       "stream": "stdout",
       "text": [
        " 15.2398676872 +- 1.09134958958 , and full range integral:  45.0162247568\n",
        "QCD ------>  22.6392383575 +- 11.3196188708 , and full range integral:  101.876572609\n",
        "(0.30 1.00): 15.62; 45.09; 101.88; 1.53; 23.46 | (0.45,0.39,0.14,0.07) (0.39,0.50,0.11,0.00)\n",
        "---------------------------------------\n",
        "M=700 GeV ------>  10.6244934201 +- 0.427034445357 , and full range integral:  14.4520572759\n",
        "Mean value: 698.821156079  with sigma: 42.6779815692\n",
        "Chi2= 8.84644281765 ndf= 17 Chi2/ndf 0.520378989273\n",
        "TTbar ------> "
       ]
      },
      {
       "output_type": "stream",
       "stream": "stdout",
       "text": [
        " 13.1297320724 +- 1.0129808252 , and full range integral:  37.8261334002\n",
        "QCD ------>  5.65980958939 +- 5.6598094354 , and full range integral:  50.9382863045\n",
        "(0.20 1.00): 14.45; 37.83; 50.94; 1.71; 23.04 | (0.47,0.38,0.12,0.06) (0.67,0.33,0.00,0.00)\n",
        "---------------------------------------\n",
        "M=700 GeV ------>  8.53048986197 +- 0.382644766037 , and full range integral:  11.5170195159\n",
        "Mean value: 696.944966861  with sigma: 38.7590323534\n",
        "Chi2= 11.5794310172 ndf= 17 Chi2/ndf 0.681143001013\n",
        "TTbar ------> "
       ]
      },
      {
       "output_type": "stream",
       "stream": "stdout",
       "text": [
        " 9.45653313398 +- 0.859684841266 , and full range integral:  28.838518925\n",
        "QCD ------>  5.65980958939 +- 5.6598094354 , and full range integral:  33.9588575363\n",
        "(0.10 1.00): 11.52; 28.84; 33.96; 1.79; 20.75 | (0.47,0.37,0.11,0.06) (0.83,0.17,0.00,0.00)\n"
       ]
      }
     ],
     "prompt_number": 7
    },
    {
     "cell_type": "heading",
     "level": 3,
     "metadata": {},
     "source": [
      "FULL SCAN"
     ]
    },
    {
     "cell_type": "code",
     "collapsed": false,
     "input": [
      "print Sntuple.GetEntries(), Tntuple.GetEntries(), Qntuple.GetEntries()"
     ],
     "language": "python",
     "metadata": {},
     "outputs": [
      {
       "output_type": "stream",
       "stream": "stdout",
       "text": [
        "4350 117799 4817\n"
       ]
      }
     ],
     "prompt_number": 6
    },
    {
     "cell_type": "code",
     "collapsed": false,
     "input": [
      "SignalEntries=[]\n",
      "TTbarEntries=[]\n",
      "\n",
      "#DRHJ<=1.2 && (DRWH>=1.6 && DRWH<=4.0) && M2HP>9 && DRTp6thJ>4.7 && RelHT>=0.7 && (HM>=105 && HM<=145)\n",
      "\n",
      "Eta6thJSet=[\"TMath::Abs(Eta6thJ)>\",np.linspace(1.0,2.0,11)]\n",
      "#DRTp6thJSet=[\"DRTp6thJ>\",np.linspace(4.5,6.0,4)]\n",
      "#RelHTSet=[\"RelHT>=\",np.linspace(0.5,0.8,7)]\n",
      "#M2HPSet=[\"M2HP>\",np.linspace(5.0,11.0,13)]\n",
      "DRTp6thJSet=[\"DRTp6thJ>\",np.linspace(4.0,6.0,4)]\n",
      "RelHTSet=[\"RelHT>=\",np.linspace(0.58,0.72,7)]\n",
      "M2HPSet=[\"M2HP>\",np.linspace(6.2,8.2,13)]\n",
      "#Eta6thJSet=[\"TMath::Abs(Eta6thJ)>\",np.linspace(1.0,2.0,11)]\n",
      "#MTHAsym2=[\"MTHAsym\",np.linspace(0.5,0.1,5),0.18]\n",
      "MTHAsym2=[\"MTHAsym\",np.linspace(0.25,0.05,5),0.18]\n",
      "TopsPTAsym2=[\"TopsPTAsym\",np.linspace(1.0,0.1,10),0.0]\n",
      "PTTHAsym2=[\"PTTHAsym\",np.linspace(1.0,0.1,10),0.0]\n",
      "MTmMHdMW2=[\"MTmMHdMW\",np.linspace(1.6,0.1,16),0.6]\n",
      "T1PTdT2PT2=[\"T1PTdT2PT\",np.linspace(1.0,0.1,10),1.0]\n",
      "MTWAsym2=[\"MTWAsym\",np.linspace(0.4,0.05,8),0.37]\n",
      "M1HM2=[\"M1HM\",np.linspace(1.0,0.1,10),0.7]\n",
      "#DPTH2=[\"DPTH\",np.linspace(0.1,np.pi-0.1,20),np.pi]\n",
      "DPTH2=[\"DPTH>\",np.linspace(0.1,np.pi-0.1,10)]\n",
      "DETH2=[\"DETH\",np.linspace(2,0.1,10),0.0]\n",
      "\n",
      "CounterToWriteToFile=0\n",
      "ListForFile=[]\n",
      "\n",
      "Cut2Set=M2HPSet\n",
      "Cut3Set=DRTp6thJSet\n",
      "Cut4Set=RelHTSet\n",
      "Cut5Set=MTHAsym2\n",
      "\n",
      "PDFNameScan=\"Scan_chi2cut_M2HP_DRTp6thJ_RelHT_\"+Cut5Set[0]+\".pdf\"\n",
      "CurCanvScan = rootnotes.canvas(\"MyPlot\", (600, 800))\n",
      "Counterscan=0\n",
      "\n",
      "SoB=[]; QCD_B=[]; CutsValues=[]\n",
      "\n",
      "for i in Cut2Set[1]:\n",
      "    Cut2 = ROOT.TCut(Cut2Set[0]+str(i))\n",
      "    for j in Cut3Set[1]:\n",
      "        Cut3 = ROOT.TCut(Cut3Set[0]+str(j))\n",
      "        for k in Cut4Set[1]:\n",
      "            Cut4 = ROOT.TCut(Cut4Set[0]+str(k))\n",
      "            for l in Cut5Set[1]:\n",
      "                Cut5 = ROOT.TCut(Cut5Set[0]+\">=\"+str(Cut5Set[2]-l)+\" && \"+Cut5Set[0]+\"<=\"+str(Cut5Set[2]+l))\n",
      "                #Cut5 = ROOT.TCut(Cut5Set[0]+\">=\"+str(Cut5Set[2]+i)+\" || \"+Cut5Set[0]+\"<=\"+str(Cut5Set[2]-i))\n",
      "                #Cut5 = ROOT.TCut(Cut5Set[0]+\"<=\"+str(i))\n",
      "                #Cut5 = ROOT.TCut(Cut5Set[0]+str(i))\n",
      "                #CutF=Cut1*CutDRbb*CutDRWH*Cut2*Cut3*CutHM*Cut4*Cut5 #Cutting on chi2<140\n",
      "                CutF=CutDRbb*CutDRWH*Cut2*Cut3*CutHM*Cut4*Cut5\n",
      "\n",
      "                Sntuple.Draw(\"M5J >> M5jS(120,400,1600)\",CutF)\n",
      "                M5JHS=ROOT.gDirectory.Get(\"M5jS\")\n",
      "                if M5JHS.GetEntries()*SWeight<10: continue\n",
      "                M5JHS.Sumw2(); M5JHS.Scale(SWeight) \n",
      "                \n",
      "                Tntuple.Draw(\"M5J >> M5jT(120,400,1600)\",CutF)\n",
      "                M5JHT=ROOT.gDirectory.Get(\"M5jT\")\n",
      "                if M5JHT.GetEntries()*TWeight>=50: continue\n",
      "                M5JHT.Sumw2(); M5JHT.Scale(TWeight)\n",
      "                \n",
      "                Qntuple.Draw(\"M5J >> M5jQ(120,400,1600)\",CutF)\n",
      "                M5JHQ=ROOT.gDirectory.Get(\"M5jQ\")\n",
      "                if M5JHQ.GetEntries()>3: continue                \n",
      "                M5JHQ.Sumw2(); M5JHQ.Scale(QWeight)\n",
      "                \n",
      "                #INTEGRATION\n",
      "                print \"--------------------------------\"\n",
      "                f1=ROOT.TF1(\"f1\",\"gaus\",600,800)\n",
      "                M5JHS.Fit(\"f1\",\"LMR\",\"same\")\n",
      "                MassPoint=f1.GetParameter(1); win=f1.GetParameter(2)\n",
      "                Chi2=f1.GetChisquare(); NDF=f1.GetNDF()\n",
      "                window_error=ROOT.Double(0.)\n",
      "                integral=M5JHS.IntegralAndError(M5JHS.GetXaxis().FindBin(MassPoint-win),M5JHS.GetXaxis().FindBin(MassPoint+win),window_error)\n",
      "                print \"M=700 GeV ------> {0:.2f} +- {1:.2f}, and full range integral: {2:.2f}\".format(integral,window_error,M5JHS.Integral())\n",
      "                print \"Mean value: {0:.2f}, with sigma: {1:.2f}\".format(MassPoint,win)\n",
      "                print \"Chi2={0:.2f}, ndf={1:.2f}, Chi2/ndf={2:.2f}\".format(Chi2, NDF, Chi2/NDF)\n",
      "                \n",
      "                bkg_integralT=M5JHT.IntegralAndError(M5JHT.GetXaxis().FindBin(MassPoint-win),M5JHT.GetXaxis().FindBin(MassPoint+win),window_error)\n",
      "                print \"TTbar ------> {0:.2f} +- {1:.2f}, and full range integral: {2:.2f}\".format(bkg_integralT,window_error,M5JHT.Integral())\n",
      "                #SignalEntries2.append(integral); TTbarEntries2.append(bkg_integral)\n",
      "                \n",
      "                SoB.append(integral/bkg_integralT); QCD_B.append(M5JHQ.Integral()); CutsValues.append((i,j,k,l))\n",
      "                \n",
      "                bkg_integralQ=M5JHQ.IntegralAndError(M5JHQ.GetXaxis().FindBin(MassPoint-win),M5JHQ.GetXaxis().FindBin(MassPoint+win),window_error)\n",
      "                print \"QCD ------> {0:.2f} +- {1:.2f}, and full range integral: {2:.2f}\".format(bkg_integralQ,window_error,M5JHQ.Integral())\n",
      "                #SignalEntries.append([CutF,M5JHS.GetEntries()]); TTbarEntries.append([CutF,M5JHT.GetEntries()])\n",
      "                CounterToWriteToFile+=1\n",
      "                we=ROOT.Double(0.)\n",
      "                TTbarStruc1=M5JHT.IntegralAndError(M5JHT.GetXaxis().FindBin(0),M5JHT.GetXaxis().FindBin(700),we)/M5JHT.Integral()\n",
      "                TTbarStruc2=M5JHT.IntegralAndError(M5JHT.GetXaxis().FindBin(700),M5JHT.GetXaxis().FindBin(850),we)/M5JHT.Integral()\n",
      "                TTbarStruc3=M5JHT.IntegralAndError(M5JHT.GetXaxis().FindBin(850),M5JHT.GetXaxis().FindBin(1000),we)/M5JHT.Integral()\n",
      "                TTbarStruc4=M5JHT.IntegralAndError(M5JHT.GetXaxis().FindBin(1000),M5JHT.GetXaxis().FindBin(10000),we)/M5JHT.Integral()\n",
      "                if M5JHQ.Integral()!=0:\n",
      "                    QCDStruc1=M5JHQ.IntegralAndError(M5JHQ.GetXaxis().FindBin(0),M5JHQ.GetXaxis().FindBin(700),we)/M5JHQ.Integral()\n",
      "                    QCDStruc2=M5JHQ.IntegralAndError(M5JHQ.GetXaxis().FindBin(700),M5JHQ.GetXaxis().FindBin(850),we)/M5JHQ.Integral()\n",
      "                    QCDStruc3=M5JHQ.IntegralAndError(M5JHQ.GetXaxis().FindBin(850),M5JHQ.GetXaxis().FindBin(1000),we)/M5JHQ.Integral()\n",
      "                    QCDStruc4=M5JHQ.IntegralAndError(M5JHQ.GetXaxis().FindBin(1000),M5JHQ.GetXaxis().FindBin(10000),we)/M5JHQ.Integral()\n",
      "                else: QCDStruc1=0.0; QCDStruc2=0.0; QCDStruc3=0.0; QCDStruc4=0.0\n",
      "                print '({0:.2f} {1:.2f} {2:.2f} {3:.2f}): {4:.2f}; {5:.2f}; {6:.2f}; {7:.2f}; {8:.2f} | ({9:.2f},{10:.2f},{11:.2f},{12:.2f}) ({13:.2f},{14:.2f},{15:.2f},{16:.2f})'.format(i,j,k,l,\n",
      "                                                                                                        M5JHS.GetEntries()*SWeight,\n",
      "                                                                                                        M5JHT.GetEntries()*TWeight,\n",
      "                                                                                                        M5JHQ.GetEntries()*QWeight,\n",
      "                                                                                                        M5JHS.GetEntries()/(M5JHT.GetEntries()+M5JHQ.GetEntries()),\n",
      "                                                                                                        M5JHS.GetEntries()/np.sqrt(M5JHS.GetEntries()+M5JHT.GetEntries()+M5JHQ.GetEntries()),\n",
      "                                                                                                        TTbarStruc1,TTbarStruc2,TTbarStruc3,TTbarStruc4,\n",
      "                                                                                                        QCDStruc1,QCDStruc2,QCDStruc3,QCDStruc4)\n",
      "                M5JHQ.SetStats(ROOT.kFALSE)\n",
      "                M5JHQ.SetLineStyle(7); M5JHT.SetLineStyle(9); M5JHS.SetLineStyle(1)\n",
      "                M5JHQ.SetLineWidth(2); M5JHT.SetLineWidth(1); M5JHS.SetLineWidth(3)\n",
      "                M5JHQ.SetLineColor(ROOT.kViolet+1); M5JHT.SetLineColor(ROOT.kRed); M5JHS.SetLineColor(ROOT.kGreen+1)\n",
      "                LEG=ROOT.TLegend(0.6,0.6,0.8,0.8)\n",
      "                LEG.AddEntry(M5JHQ, \"QCD\", \"l\"); LEG.AddEntry(M5JHT, \"TTbar\", \"l\"); LEG.AddEntry(M5JHS, \"Signal\", \"l\")\n",
      "                LEG.SetFillColor(0);\n",
      "                M5JHQ.Draw(\"hist\"); M5JHT.Draw(\"hist same\"); M5JHS.Draw(\"hist same\"); LEG.Draw()\n",
      "    \n",
      "                if Counterscan==0: CurCanvScan.Print(PDFNameScan+\"(\",\"Title:\"+Cut5Set[0]+str(i))\n",
      "                elif Counterscan>0: CurCanvScan.Print(PDFNameScan,\"Title:\"+Cut5Set[0]+str(i))\n",
      "                #else: CurCanvScan.Print(PDFNameScan+\")\",\"Title:\"+Cut5Set[0]+str(i))\n",
      "                \n",
      "                Counterscan+=1\n",
      "                    \n",
      "                ListForFile.append([[(i,j,k,l),bkg_integralQ],bkg_integralT,integral])\n",
      "                FinalCondition=(Cut2Set[1][-1]==i and Cut3Set[1][-1]==j and Cut4Set[1][-1]==k)\n",
      "                #if CounterToWriteToFile%200==0: #or FinalCondition:\n",
      "                #    f = open('Selections_SS_%i_m2hp_eta6thj_relht.txt'%(CounterToWriteToFile), 'w')\n",
      "                #    f.write(str(ListForFile))\n",
      "                #    f.close(); print \"File %i produced\"%(CounterToWriteToFile)\n",
      "                #    ListForFile=[]\n",
      "                #print M5JHS.GetEntries(), M5JHT.GetEntries()\n",
      "\n",
      "#f = open('Selections_SS_eta6thj.txt', 'w')\n",
      "#f.write(str(ListForFile))\n",
      "#f.close()\n",
      "print ListForFile\n",
      "CurCanvScan.Print(PDFNameScan+\")\",\"Title:\"+Cut5Set[0]+str(i))"
     ],
     "language": "python",
     "metadata": {},
     "outputs": [
      {
       "output_type": "stream",
       "stream": "stdout",
       "text": [
        "--------------------------------\n",
        "M=700 GeV ------> 9.42 +- 0.40, and full range integral: 12.98\n",
        "Mean value: 694.84, with sigma: 40.18\n",
        "Chi2=16.54, ndf=17.00, Chi2/ndf=0.97\n",
        "TTbar ------> 11.18 +- 0.93, and full range integral: 32.28\n",
        "QCD ------> 0.00 +- 0.00, and full range integral: 11.32\n",
        "(6.20 4.00 0.67 0.10): 12.98; 32.28; 11.32; 1.82; 22.09 | (0.47,0.39,0.12,0.06) (0.00,1.00,0.00,0.00)\n",
        "--------------------------------"
       ]
      },
      {
       "output_type": "stream",
       "stream": "stdout",
       "text": [
        "\n",
        "M=700 GeV ------> 8.56 +- 0.38, and full range integral: 11.72\n",
        "Mean value: 695.49, with sigma: 40.09\n",
        "Chi2=15.56, ndf=17.00, Chi2/ndf=0.92\n",
        "TTbar ------> 9.46 +- 0.86, and full range integral: 27.35\n",
        "QCD ------> 0.00 +- 0.00, and full range integral: 11.32\n",
        "(6.20 4.00 0.70 0.10): 11.72; 27.35; 11.32; 1.94; 21.23 | (0.45,0.41,0.13,0.06) (0.00,1.00,0.00,0.00)\n",
        "--------------------------------"
       ]
      },
      {
       "output_type": "stream",
       "stream": "stdout",
       "text": [
        "\n",
        "M=700 GeV ------> 7.76 +- 0.36, and full range integral: 10.50\n",
        "Mean value: 696.61, with sigma: 39.73\n",
        "Chi2=14.28, ndf=17.00, Chi2/ndf=0.84\n",
        "TTbar ------> 6.88 +- 0.73, and full range integral: 21.73\n",
        "QCD ------> 0.00 +- 0.00, and full range integral: 11.32\n",
        "(6.20 4.00 0.72 0.10): 10.50; 21.73; 11.32; 2.19; 20.49 | (0.41,0.42,0.15,0.07) (0.00,1.00,0.00,0.00)\n",
        "--------------------------------"
       ]
      },
      {
       "output_type": "stream",
       "stream": "stdout",
       "text": [
        "\n",
        "M=700 GeV ------> 8.15 +- 0.37, and full range integral: 11.36\n",
        "Mean value: 695.76, with sigma: 40.67\n",
        "Chi2=16.46, ndf=17.00, Chi2/ndf=0.97\n",
        "TTbar ------> 7.89 +- 0.79, and full range integral: 24.07\n",
        "QCD ------> 5.66 +- 5.66, and full range integral: 16.98\n",
        "(6.20 4.67 0.65 0.10): 11.36; 24.07; 16.98; 2.13; 21.22 | (0.48,0.39,0.12,0.05) (0.67,0.33,0.00,0.00)\n",
        "--------------------------------"
       ]
      },
      {
       "output_type": "stream",
       "stream": "stdout",
       "text": [
        "\n",
        "M=700 GeV ------> 8.44 +- 0.38, and full range integral: 11.95\n",
        "Mean value: 696.50, with sigma: 41.32\n",
        "Chi2=13.08, ndf=17.00, Chi2/ndf=0.77\n",
        "TTbar ------> 7.82 +- 0.78, and full range integral: 24.07\n",
        "QCD ------> 0.00 +- 0.00, and full range integral: 16.98\n",
        "(6.20 4.67 0.67 0.15): 11.95; 24.07; 16.98; 2.24; 21.93 | (0.44,0.42,0.13,0.06) (0.00,1.00,0.00,0.00)\n",
        "--------------------------------"
       ]
      },
      {
       "output_type": "stream",
       "stream": "stdout",
       "text": [
        "\n",
        "M=700 GeV ------> 7.67 +- 0.36, and full range integral: 10.68\n",
        "Mean value: 695.98, with sigma: 40.75\n",
        "Chi2=17.27, ndf=17.00, Chi2/ndf=1.02\n",
        "TTbar ------> 6.96 +- 0.74, and full range integral: 20.87\n",
        "QCD ------> 0.00 +- 0.00, and full range integral: 5.66\n",
        "(6.20 4.67 0.67 0.10): 10.68; 20.87; 5.66; 2.32; 20.85 | (0.45,0.41,0.13,0.05) (0.00,1.00,0.00,0.00)\n",
        "--------------------------------"
       ]
      },
      {
       "output_type": "stream",
       "stream": "stdout",
       "text": [
        "\n",
        "M=700 GeV ------> 7.79 +- 0.37, and full range integral: 10.97\n",
        "Mean value: 697.45, with sigma: 41.34\n",
        "Chi2=10.44, ndf=17.00, Chi2/ndf=0.61\n",
        "TTbar ------> 6.96 +- 0.74, and full range integral: 20.71\n",
        "QCD ------> 0.00 +- 0.00, and full range integral: 16.98\n",
        "(6.20 4.67 0.70 0.15): 10.97; 20.71; 16.98; 2.38; 21.22 | (0.42,0.42,0.14,0.07) (0.00,1.00,0.00,0.00)\n",
        "--------------------------------"
       ]
      },
      {
       "output_type": "stream",
       "stream": "stdout",
       "text": [
        "\n",
        "M=700 GeV ------> 9.35 +- 0.40, and full range integral: 12.77\n",
        "Mean value: 694.77, with sigma: 39.94\n",
        "Chi2=14.88, ndf=17.00, Chi2/ndf=0.88\n",
        "TTbar ------> 10.86 +- 0.92, and full range integral: 31.26\n",
        "QCD ------> 0.00 +- 0.00, and full range integral: 11.32\n",
        "(6.37 4.00 0.67 0.10): 12.77; 31.26; 11.32; 1.85; 21.98 | (0.47,0.39,0.12,0.06) (0.00,1.00,0.00,0.00)\n",
        "--------------------------------"
       ]
      },
      {
       "output_type": "stream",
       "stream": "stdout",
       "text": [
        "\n",
        "M=700 GeV ------> 8.50 +- 0.38, and full range integral: 11.53\n",
        "Mean value: 695.52, with sigma: 39.89\n",
        "Chi2=14.27, ndf=17.00, Chi2/ndf=0.84\n",
        "TTbar ------> 9.22 +- 0.85, and full range integral: 26.49\n",
        "QCD ------> 0.00 +- 0.00, and full range integral: 11.32\n",
        "(6.37 4.00 0.70 0.10): 11.53; 26.49; 11.32; 1.97; 21.11 | (0.45,0.41,0.13,0.06) (0.00,1.00,0.00,0.00)\n",
        "--------------------------------"
       ]
      },
      {
       "output_type": "stream",
       "stream": "stdout",
       "text": [
        "\n",
        "M=700 GeV ------> 7.69 +- 0.36, and full range integral: 10.33\n",
        "Mean value: 696.56, with sigma: 39.54\n",
        "Chi2=13.38, ndf=17.00, Chi2/ndf=0.79\n",
        "TTbar ------> 6.64 +- 0.72, and full range integral: 21.02\n",
        "QCD ------> 0.00 +- 0.00, and full range integral: 11.32\n",
        "(6.37 4.00 0.72 0.10): 10.33; 21.02; 11.32; 2.22; 20.37 | (0.41,0.42,0.15,0.07) (0.00,1.00,0.00,0.00)\n",
        "--------------------------------"
       ]
      },
      {
       "output_type": "stream",
       "stream": "stdout",
       "text": [
        "\n",
        "M=700 GeV ------> 8.10 +- 0.37, and full range integral: 11.23\n",
        "Mean value: 695.62, with sigma: 40.54\n",
        "Chi2=15.41, ndf=17.00, Chi2/ndf=0.91\n",
        "TTbar ------> 7.66 +- 0.77, and full range integral: 23.60\n",
        "QCD ------> 5.66 +- 5.66, and full range integral: 16.98\n",
        "(6.37 4.67 0.65 0.10): 11.23; 23.60; 16.98; 2.14; 21.12 | (0.49,0.38,0.12,0.05) (0.67,0.33,0.00,0.00)\n",
        "--------------------------------"
       ]
      },
      {
       "output_type": "stream",
       "stream": "stdout",
       "text": [
        "\n",
        "M=700 GeV ------> 8.38 +- 0.38, and full range integral: 11.77\n",
        "Mean value: 696.34, with sigma: 41.15\n",
        "Chi2=11.96, ndf=17.00, Chi2/ndf=0.70\n",
        "TTbar ------> 7.58 +- 0.77, and full range integral: 23.60\n",
        "QCD ------> 0.00 +- 0.00, and full range integral: 16.98\n",
        "(6.37 4.67 0.67 0.15): 11.77; 23.60; 16.98; 2.25; 21.79 | (0.44,0.42,0.13,0.06) (0.00,1.00,0.00,0.00)\n",
        "--------------------------------"
       ]
      },
      {
       "output_type": "stream",
       "stream": "stdout",
       "text": [
        "\n",
        "M=700 GeV ------> 7.62 +- 0.36, and full range integral: 10.54\n",
        "Mean value: 695.83, with sigma: 40.62\n",
        "Chi2=16.02, ndf=17.00, Chi2/ndf=0.94\n",
        "TTbar ------> 6.72 +- 0.72, and full range integral: 20.40\n",
        "QCD ------> 0.00 +- 0.00, and full range integral: 5.66\n",
        "(6.37 4.67 0.67 0.10): 10.54; 20.40; 5.66; 2.34; 20.75 | (0.45,0.41,0.13,0.05) (0.00,1.00,0.00,0.00)\n",
        "--------------------------------"
       ]
      },
      {
       "output_type": "stream",
       "stream": "stdout",
       "text": [
        "\n",
        "M=700 GeV ------> 7.72 +- 0.36, and full range integral: 10.81\n",
        "Mean value: 697.39, with sigma: 41.21\n",
        "Chi2=9.75, ndf=17.00, Chi2/ndf=0.57\n",
        "TTbar ------> 6.80 +- 0.73, and full range integral: 20.40\n",
        "QCD ------> 0.00 +- 0.00, and full range integral: 16.98\n",
        "(6.37 4.67 0.70 0.15): 10.81; 20.40; 16.98; 2.39; 21.07 | (0.43,0.42,0.13,0.07) (0.00,1.00,0.00,0.00)\n",
        "--------------------------------"
       ]
      },
      {
       "output_type": "stream",
       "stream": "stdout",
       "text": [
        "\n",
        "M=700 GeV ------> 9.22 +- 0.40, and full range integral: 12.58\n",
        "Mean value: 694.83, with sigma: 39.89\n",
        "Chi2=14.22, ndf=17.00, Chi2/ndf=0.84\n",
        "TTbar ------> 10.47 +- 0.90, and full range integral: 29.70\n",
        "QCD ------> 0.00 +- 0.00, and full range integral: 11.32\n",
        "(6.53 4.00 0.67 0.10): 12.58; 29.70; 11.32; 1.92; 21.95 | (0.47,0.39,0.12,0.06) (0.00,1.00,0.00,0.00)\n",
        "--------------------------------"
       ]
      },
      {
       "output_type": "stream",
       "stream": "stdout",
       "text": [
        "\n",
        "M=700 GeV ------> 8.36 +- 0.38, and full range integral: 11.35\n",
        "Mean value: 695.59, with sigma: 39.82\n",
        "Chi2=13.33, ndf=17.00, Chi2/ndf=0.78\n",
        "TTbar ------> 8.91 +- 0.83, and full range integral: 25.17\n",
        "QCD ------> 0.00 +- 0.00, and full range integral: 11.32\n",
        "(6.53 4.00 0.70 0.10): 11.35; 25.17; 11.32; 2.04; 21.06 | (0.44,0.40,0.13,0.07) (0.00,1.00,0.00,0.00)\n",
        "--------------------------------"
       ]
      },
      {
       "output_type": "stream",
       "stream": "stdout",
       "text": [
        "\n",
        "M=700 GeV ------> 7.59 +- 0.36, and full range integral: 10.20\n",
        "Mean value: 696.58, with sigma: 39.48\n",
        "Chi2=12.17, ndf=17.00, Chi2/ndf=0.72\n",
        "TTbar ------> 6.33 +- 0.70, and full range integral: 19.77\n",
        "QCD ------> 0.00 +- 0.00, and full range integral: 11.32\n",
        "(6.53 4.00 0.72 0.10): 10.20; 19.77; 11.32; 2.33; 20.39 | (0.41,0.41,0.15,0.07) (0.00,1.00,0.00,0.00)\n",
        "--------------------------------"
       ]
      },
      {
       "output_type": "stream",
       "stream": "stdout",
       "text": [
        "\n",
        "M=700 GeV ------> 8.05 +- 0.37, and full range integral: 11.16\n",
        "Mean value: 695.78, with sigma: 40.54\n",
        "Chi2=15.47, ndf=17.00, Chi2/ndf=0.91\n",
        "TTbar ------> 7.66 +- 0.77, and full range integral: 22.90\n",
        "QCD ------> 5.66 +- 5.66, and full range integral: 16.98\n",
        "(6.53 4.67 0.65 0.10): 11.16; 22.90; 16.98; 2.20; 21.13 | (0.49,0.39,0.11,0.05) (0.67,0.33,0.00,0.00)\n",
        "--------------------------------"
       ]
      },
      {
       "output_type": "stream",
       "stream": "stdout",
       "text": [
        "\n",
        "M=700 GeV ------> 8.32 +- 0.38, and full range integral: 11.71\n",
        "Mean value: 696.50, with sigma: 41.15\n",
        "Chi2=12.28, ndf=17.00, Chi2/ndf=0.72\n",
        "TTbar ------> 7.42 +- 0.76, and full range integral: 22.59\n",
        "QCD ------> 0.00 +- 0.00, and full range integral: 16.98\n",
        "(6.53 4.67 0.67 0.15): 11.71; 22.59; 16.98; 2.34; 21.85 | (0.44,0.42,0.12,0.06) (0.00,1.00,0.00,0.00)\n",
        "--------------------------------"
       ]
      },
      {
       "output_type": "stream",
       "stream": "stdout",
       "text": [
        "\n",
        "M=700 GeV ------> 7.57 +- 0.36, and full range integral: 10.47\n",
        "Mean value: 696.01, with sigma: 40.61\n",
        "Chi2=15.98, ndf=17.00, Chi2/ndf=0.94\n",
        "TTbar ------> 6.72 +- 0.72, and full range integral: 19.69\n",
        "QCD ------> 0.00 +- 0.00, and full range integral: 5.66\n",
        "(6.53 4.67 0.67 0.10): 10.47; 19.69; 5.66; 2.41; 20.76 | (0.45,0.41,0.13,0.06) (0.00,1.00,0.00,0.00)\n",
        "--------------------------------"
       ]
      },
      {
       "output_type": "stream",
       "stream": "stdout",
       "text": [
        "\n",
        "M=700 GeV ------> 7.67 +- 0.36, and full range integral: 10.74\n",
        "Mean value: 697.58, with sigma: 41.21\n",
        "Chi2=10.12, ndf=17.00, Chi2/ndf=0.60\n",
        "TTbar ------> 6.64 +- 0.72, and full range integral: 19.46\n",
        "QCD ------> 0.00 +- 0.00, and full range integral: 16.98\n",
        "(6.53 4.67 0.70 0.15): 10.74; 19.46; 16.98; 2.48; 21.13 | (0.42,0.42,0.13,0.07) (0.00,1.00,0.00,0.00)\n",
        "--------------------------------"
       ]
      },
      {
       "output_type": "stream",
       "stream": "stdout",
       "text": [
        "\n",
        "M=700 GeV ------> 9.08 +- 0.39, and full range integral: 12.38\n",
        "Mean value: 695.15, with sigma: 39.80\n",
        "Chi2=14.44, ndf=17.00, Chi2/ndf=0.85\n",
        "TTbar ------> 10.16 +- 0.89, and full range integral: 28.45\n",
        "QCD ------> 0.00 +- 0.00, and full range integral: 5.66\n",
        "(6.70 4.00 0.67 0.10): 12.38; 28.45; 5.66; 1.98; 21.88 | (0.47,0.40,0.12,0.06) (0.00,1.00,0.00,0.00)\n",
        "--------------------------------"
       ]
      },
      {
       "output_type": "stream",
       "stream": "stdout",
       "text": [
        "\n",
        "M=700 GeV ------> 8.22 +- 0.38, and full range integral: 11.14\n",
        "Mean value: 695.96, with sigma: 39.72\n",
        "Chi2=13.59, ndf=17.00, Chi2/ndf=0.80\n",
        "TTbar ------> 8.60 +- 0.82, and full range integral: 23.91\n",
        "QCD ------> 0.00 +- 0.00, and full range integral: 5.66\n",
        "(6.70 4.00 0.70 0.10): 11.14; 23.91; 5.66; 2.11; 20.99 | (0.44,0.41,0.13,0.07) (0.00,1.00,0.00,0.00)\n",
        "--------------------------------"
       ]
      },
      {
       "output_type": "stream",
       "stream": "stdout",
       "text": [
        "\n",
        "M=700 GeV ------> 7.47 +- 0.36, and full range integral: 10.02\n",
        "Mean value: 697.10, with sigma: 39.36\n",
        "Chi2=12.82, ndf=17.00, Chi2/ndf=0.75\n",
        "TTbar ------> 6.02 +- 0.69, and full range integral: 18.60\n",
        "QCD ------> 0.00 +- 0.00, and full range integral: 5.66\n",
        "(6.70 4.00 0.72 0.10): 10.02; 18.60; 5.66; 2.44; 20.36 | (0.41,0.42,0.15,0.08) (0.00,1.00,0.00,0.00)\n",
        "--------------------------------"
       ]
      },
      {
       "output_type": "stream",
       "stream": "stdout",
       "text": [
        "\n",
        "M=700 GeV ------> 8.27 +- 0.38, and full range integral: 11.53\n",
        "Mean value: 695.86, with sigma: 40.85\n",
        "Chi2=19.56, ndf=17.00, Chi2/ndf=1.15\n",
        "TTbar ------> 8.21 +- 0.80, and full range integral: 24.54\n",
        "QCD ------> 11.32 +- 8.00, and full range integral: 16.98\n",
        "(6.70 4.67 0.63 0.10): 11.53; 24.54; 16.98; 2.12; 21.37 | (0.52,0.37,0.11,0.05) (1.00,0.00,0.00,0.00)\n",
        "--------------------------------"
       ]
      },
      {
       "output_type": "stream",
       "stream": "stdout",
       "text": [
        "\n",
        "M=700 GeV ------> 7.96 +- 0.37, and full range integral: 11.04\n",
        "Mean value: 696.03, with sigma: 40.54\n",
        "Chi2=16.23, ndf=17.00, Chi2/ndf=0.95\n",
        "TTbar ------> 7.50 +- 0.77, and full range integral: 22.35\n",
        "QCD ------> 5.66 +- 5.66, and full range integral: 11.32\n",
        "(6.70 4.67 0.65 0.10): 11.04; 22.35; 11.32; 2.23; 21.07 | (0.49,0.39,0.11,0.05) (1.00,0.00,0.00,0.00)\n",
        "--------------------------------"
       ]
      },
      {
       "output_type": "stream",
       "stream": "stdout",
       "text": [
        "\n",
        "M=700 GeV ------> 8.44 +- 0.38, and full range integral: 12.19\n",
        "Mean value: 696.80, with sigma: 42.82\n",
        "Chi2=6.96, ndf=17.00, Chi2/ndf=0.41\n",
        "TTbar ------> 7.89 +- 0.79, and full range integral: 23.68\n",
        "QCD ------> 5.66 +- 5.66, and full range integral: 16.98\n",
        "(6.70 4.67 0.67 0.20): 12.19; 23.68; 16.98; 2.32; 22.27 | (0.43,0.43,0.12,0.07) (0.33,0.67,0.00,0.00)\n",
        "--------------------------------"
       ]
      },
      {
       "output_type": "stream",
       "stream": "stdout",
       "text": [
        "\n",
        "M=700 GeV ------> 8.20 +- 0.38, and full range integral: 11.55\n",
        "Mean value: 696.73, with sigma: 41.24\n",
        "Chi2=13.40, ndf=17.00, Chi2/ndf=0.79\n",
        "TTbar ------> 7.27 +- 0.75, and full range integral: 22.12\n",
        "QCD ------> 0.00 +- 0.00, and full range integral: 11.32\n",
        "(6.70 4.67 0.67 0.15): 11.55; 22.12; 11.32; 2.36; 21.74 | (0.43,0.43,0.12,0.06) (0.00,1.00,0.00,0.00)\n",
        "--------------------------------"
       ]
      },
      {
       "output_type": "stream",
       "stream": "stdout",
       "text": [
        "\n",
        "M=700 GeV ------> 7.48 +- 0.36, and full range integral: 10.35\n",
        "Mean value: 696.27, with sigma: 40.61\n",
        "Chi2=16.75, ndf=17.00, Chi2/ndf=0.99\n",
        "TTbar ------> 6.56 +- 0.72, and full range integral: 19.23\n",
        "QCD ------> 0.00 +- 0.00, and full range integral: 0.00\n",
        "(6.70 4.67 0.67 0.10): 10.35; 19.23; 0.00; 2.45; 20.69 | (0.44,0.41,0.13,0.06) (0.00,0.00,0.00,0.00)\n",
        "--------------------------------"
       ]
      },
      {
       "output_type": "stream",
       "stream": "stdout",
       "text": [
        "\n",
        "M=700 GeV ------> 8.29 +- 0.38, and full range integral: 11.17\n",
        "Mean value: 698.03, with sigma: 42.98\n",
        "Chi2=4.69, ndf=17.00, Chi2/ndf=0.28\n",
        "TTbar ------> 7.97 +- 0.79, and full range integral: 20.40\n",
        "QCD ------> 11.32 +- 8.00, and full range integral: 16.98\n",
        "(6.70 4.67 0.70 0.20): 11.17; 20.40; 16.98; 2.47; 21.52 | (0.42,0.43,0.13,0.08) (0.33,0.67,0.00,0.00)\n",
        "--------------------------------"
       ]
      },
      {
       "output_type": "stream",
       "stream": "stdout",
       "text": [
        "\n",
        "M=700 GeV ------> 7.55 +- 0.36, and full range integral: 10.59\n",
        "Mean value: 697.84, with sigma: 41.29\n",
        "Chi2=10.81, ndf=17.00, Chi2/ndf=0.64\n",
        "TTbar ------> 6.49 +- 0.71, and full range integral: 18.99\n",
        "QCD ------> 0.00 +- 0.00, and full range integral: 11.32\n",
        "(6.70 4.67 0.70 0.15): 10.59; 18.99; 11.32; 2.52; 21.02 | (0.41,0.43,0.13,0.07) (0.00,1.00,0.00,0.00)\n",
        "--------------------------------"
       ]
      },
      {
       "output_type": "stream",
       "stream": "stdout",
       "text": [
        "\n",
        "M=700 GeV ------> 7.55 +- 0.36, and full range integral: 10.14\n",
        "Mean value: 699.38, with sigma: 42.65\n",
        "Chi2=6.05, ndf=17.00, Chi2/ndf=0.36\n",
        "TTbar ------> 5.94 +- 0.68, and full range integral: 16.65\n",
        "QCD ------> 11.32 +- 8.00, and full range integral: 16.98\n",
        "(6.70 4.67 0.72 0.20): 10.14; 16.65; 16.98; 2.74; 20.80 | (0.38,0.43,0.14,0.09) (0.33,0.67,0.00,0.00)\n",
        "--------------------------------"
       ]
      },
      {
       "output_type": "stream",
       "stream": "stdout",
       "text": [
        "\n",
        "M=700 GeV ------> 8.93 +- 0.39, and full range integral: 12.20\n",
        "Mean value: 695.32, with sigma: 39.95\n",
        "Chi2=13.81, ndf=17.00, Chi2/ndf=0.81\n",
        "TTbar ------> 9.69 +- 0.87, and full range integral: 27.28\n",
        "QCD ------> 0.00 +- 0.00, and full range integral: 5.66\n",
        "(6.87 4.00 0.67 0.10): 12.20; 27.28; 5.66; 2.03; 21.83 | (0.47,0.39,0.12,0.06) (0.00,1.00,0.00,0.00)\n",
        "--------------------------------"
       ]
      },
      {
       "output_type": "stream",
       "stream": "stdout",
       "text": [
        "\n",
        "M=700 GeV ------> 8.07 +- 0.37, and full range integral: 10.97\n",
        "Mean value: 696.17, with sigma: 39.88\n",
        "Chi2=13.11, ndf=17.00, Chi2/ndf=0.77\n",
        "TTbar ------> 8.21 +- 0.80, and full range integral: 22.82\n",
        "QCD ------> 0.00 +- 0.00, and full range integral: 5.66\n",
        "(6.87 4.00 0.70 0.10): 10.97; 22.82; 5.66; 2.18; 20.93 | (0.44,0.40,0.13,0.07) (0.00,1.00,0.00,0.00)\n",
        "--------------------------------"
       ]
      },
      {
       "output_type": "stream",
       "stream": "stdout",
       "text": [
        "\n",
        "M=700 GeV ------> 8.17 +- 0.37, and full range integral: 11.41\n",
        "Mean value: 696.03, with sigma: 40.96\n",
        "Chi2=18.51, ndf=17.00, Chi2/ndf=1.09\n",
        "TTbar ------> 7.82 +- 0.78, and full range integral: 23.45\n",
        "QCD ------> 11.32 +- 8.00, and full range integral: 16.98\n",
        "(6.87 4.67 0.63 0.10): 11.41; 23.45; 16.98; 2.19; 21.37 | (0.52,0.36,0.10,0.05) (1.00,0.00,0.00,0.00)\n",
        "--------------------------------"
       ]
      },
      {
       "output_type": "stream",
       "stream": "stdout",
       "text": [
        "\n",
        "M=700 GeV ------> 7.86 +- 0.37, and full range integral: 10.92\n",
        "Mean value: 696.21, with sigma: 40.65\n",
        "Chi2=15.44, ndf=17.00, Chi2/ndf=0.91\n",
        "TTbar ------> 7.11 +- 0.75, and full range integral: 21.34\n",
        "QCD ------> 5.66 +- 5.66, and full range integral: 11.32\n",
        "(6.87 4.67 0.65 0.10): 10.92; 21.34; 11.32; 2.31; 21.07 | (0.49,0.38,0.11,0.05) (1.00,0.00,0.00,0.00)\n",
        "--------------------------------"
       ]
      },
      {
       "output_type": "stream",
       "stream": "stdout",
       "text": [
        "\n",
        "M=700 GeV ------> 8.32 +- 0.38, and full range integral: 12.05\n",
        "Mean value: 697.01, with sigma: 42.99\n",
        "Chi2=5.73, ndf=17.00, Chi2/ndf=0.34\n",
        "TTbar ------> 7.42 +- 0.76, and full range integral: 22.43\n",
        "QCD ------> 5.66 +- 5.66, and full range integral: 16.98\n",
        "(6.87 4.67 0.67 0.20): 12.05; 22.43; 16.98; 2.42; 22.29 | (0.43,0.43,0.12,0.07) (0.33,0.67,0.00,0.00)\n",
        "--------------------------------"
       ]
      },
      {
       "output_type": "stream",
       "stream": "stdout",
       "text": [
        "\n",
        "M=700 GeV ------> 8.08 +- 0.37, and full range integral: 11.41\n",
        "Mean value: 696.95, with sigma: 41.38\n",
        "Chi2=12.66, ndf=17.00, Chi2/ndf=0.74\n",
        "TTbar ------> 6.80 +- 0.73, and full range integral: 20.95\n",
        "QCD ------> 0.00 +- 0.00, and full range integral: 11.32\n",
        "(6.87 4.67 0.67 0.15): 11.41; 20.95; 11.32; 2.46; 21.75 | (0.43,0.43,0.12,0.06) (0.00,1.00,0.00,0.00)\n",
        "--------------------------------"
       ]
      },
      {
       "output_type": "stream",
       "stream": "stdout",
       "text": [
        "\n",
        "M=700 GeV ------> 7.38 +- 0.36, and full range integral: 10.23\n",
        "Mean value: 696.48, with sigma: 40.73\n",
        "Chi2=16.07, ndf=17.00, Chi2/ndf=0.95\n",
        "TTbar ------> 6.17 +- 0.69, and full range integral: 18.29\n",
        "QCD ------> 0.00 +- 0.00, and full range integral: 0.00\n",
        "(6.87 4.67 0.67 0.10): 10.23; 18.29; 0.00; 2.55; 20.69 | (0.44,0.41,0.12,0.06) (0.00,0.00,0.00,0.00)\n",
        "--------------------------------"
       ]
      },
      {
       "output_type": "stream",
       "stream": "stdout",
       "text": [
        "\n",
        "M=700 GeV ------> 8.17 +- 0.37, and full range integral: 11.04\n",
        "Mean value: 698.28, with sigma: 43.16\n",
        "Chi2=3.69, ndf=17.00, Chi2/ndf=0.22\n",
        "TTbar ------> 7.50 +- 0.77, and full range integral: 19.30\n",
        "QCD ------> 11.32 +- 8.00, and full range integral: 16.98\n",
        "(6.87 4.67 0.70 0.20): 11.04; 19.30; 16.98; 2.57; 21.52 | (0.42,0.42,0.13,0.08) (0.33,0.67,0.00,0.00)\n",
        "--------------------------------"
       ]
      },
      {
       "output_type": "stream",
       "stream": "stdout",
       "text": [
        "\n",
        "M=700 GeV ------> 7.43 +- 0.36, and full range integral: 10.45\n",
        "Mean value: 698.10, with sigma: 41.46\n",
        "Chi2=10.31, ndf=17.00, Chi2/ndf=0.61\n",
        "TTbar ------> 6.10 +- 0.69, and full range integral: 17.98\n",
        "QCD ------> 0.00 +- 0.00, and full range integral: 11.32\n",
        "(6.87 4.67 0.70 0.15): 10.45; 17.98; 11.32; 2.62; 21.00 | (0.41,0.43,0.13,0.07) (0.00,1.00,0.00,0.00)\n",
        "--------------------------------"
       ]
      },
      {
       "output_type": "stream",
       "stream": "stdout",
       "text": [
        "\n",
        "M=700 GeV ------> 7.43 +- 0.36, and full range integral: 10.01\n",
        "Mean value: 699.67, with sigma: 42.82\n",
        "Chi2=4.77, ndf=17.00, Chi2/ndf=0.28\n",
        "TTbar ------> 5.63 +- 0.66, and full range integral: 15.71\n",
        "QCD ------> 11.32 +- 8.00, and full range integral: 16.98\n",
        "(6.87 4.67 0.72 0.20): 10.01; 15.71; 16.98; 2.86; 20.78 | (0.38,0.43,0.13,0.09) (0.33,0.67,0.00,0.00)\n",
        "--------------------------------"
       ]
      },
      {
       "output_type": "stream",
       "stream": "stdout",
       "text": [
        "\n",
        "M=700 GeV ------> 8.81 +- 0.39, and full range integral: 11.98\n",
        "Mean value: 694.87, with sigma: 39.89\n",
        "Chi2=12.31, ndf=17.00, Chi2/ndf=0.72\n",
        "TTbar ------> 9.14 +- 0.85, and full range integral: 26.26\n",
        "QCD ------> 0.00 +- 0.00, and full range integral: 5.66\n",
        "(7.03 4.00 0.67 0.10): 11.98; 26.26; 5.66; 2.07; 21.70 | (0.46,0.39,0.12,0.06) (0.00,1.00,0.00,0.00)\n",
        "--------------------------------"
       ]
      },
      {
       "output_type": "stream",
       "stream": "stdout",
       "text": [
        "\n",
        "M=700 GeV ------> 7.96 +- 0.37, and full range integral: 10.80\n",
        "Mean value: 695.76, with sigma: 39.84\n",
        "Chi2=12.02, ndf=17.00, Chi2/ndf=0.71\n",
        "TTbar ------> 7.74 +- 0.78, and full range integral: 21.88\n",
        "QCD ------> 0.00 +- 0.00, and full range integral: 5.66\n",
        "(7.03 4.00 0.70 0.10): 10.80; 21.88; 5.66; 2.24; 20.85 | (0.44,0.40,0.13,0.07) (0.00,1.00,0.00,0.00)\n",
        "--------------------------------"
       ]
      },
      {
       "output_type": "stream",
       "stream": "stdout",
       "text": [
        "\n",
        "M=700 GeV ------> 8.41 +- 0.38, and full range integral: 11.76\n",
        "Mean value: 694.67, with sigma: 41.24\n",
        "Chi2=11.29, ndf=17.00, Chi2/ndf=0.66\n",
        "TTbar ------> 8.60 +- 0.82, and full range integral: 27.28\n",
        "QCD ------> 11.32 +- 8.00, and full range integral: 16.98\n",
        "(7.03 4.67 0.58 0.10): 11.76; 27.28; 16.98; 1.95; 21.27 | (0.56,0.32,0.10,0.04) (1.00,0.00,0.00,0.00)\n",
        "--------------------------------"
       ]
      },
      {
       "output_type": "stream",
       "stream": "stdout",
       "text": [
        "\n",
        "M=700 GeV ------> 8.27 +- 0.38, and full range integral: 11.60\n",
        "Mean value: 694.88, with sigma: 41.30\n",
        "Chi2=11.49, ndf=17.00, Chi2/ndf=0.68\n",
        "TTbar ------> 8.13 +- 0.80, and full range integral: 24.85\n",
        "QCD ------> 11.32 +- 8.00, and full range integral: 16.98\n",
        "(7.03 4.67 0.60 0.10): 11.60; 24.85; 16.98; 2.11; 21.41 | (0.53,0.35,0.11,0.04) (1.00,0.00,0.00,0.00)\n",
        "--------------------------------"
       ]
      },
      {
       "output_type": "stream",
       "stream": "stdout",
       "text": [
        "\n",
        "M=700 GeV ------> 8.08 +- 0.37, and full range integral: 11.24\n",
        "Mean value: 695.60, with sigma: 40.85\n",
        "Chi2=16.57, ndf=17.00, Chi2/ndf=0.97\n",
        "TTbar ------> 7.50 +- 0.77, and full range integral: 22.90\n",
        "QCD ------> 5.66 +- 5.66, and full range integral: 11.32\n",
        "(7.03 4.67 0.63 0.10): 11.24; 22.90; 11.32; 2.22; 21.25 | (0.52,0.36,0.11,0.05) (1.00,0.00,0.00,0.00)\n",
        "--------------------------------"
       ]
      },
      {
       "output_type": "stream",
       "stream": "stdout",
       "text": [
        "\n",
        "M=700 GeV ------> 7.78 +- 0.37, and full range integral: 10.74\n",
        "Mean value: 695.76, with sigma: 40.53\n",
        "Chi2=13.74, ndf=17.00, Chi2/ndf=0.81\n",
        "TTbar ------> 6.80 +- 0.73, and full range integral: 20.79\n",
        "QCD ------> 5.66 +- 5.66, and full range integral: 11.32\n",
        "(7.03 4.67 0.65 0.10): 10.74; 20.79; 11.32; 2.34; 20.94 | (0.49,0.38,0.11,0.05) (1.00,0.00,0.00,0.00)\n",
        "--------------------------------"
       ]
      },
      {
       "output_type": "stream",
       "stream": "stdout",
       "text": [
        "\n",
        "M=700 GeV ------> 8.20 +- 0.38, and full range integral: 11.83\n",
        "Mean value: 696.63, with sigma: 42.96\n",
        "Chi2=5.36, ndf=17.00, Chi2/ndf=0.32\n",
        "TTbar ------> 7.11 +- 0.75, and full range integral: 21.80\n",
        "QCD ------> 5.66 +- 5.66, and full range integral: 16.98\n",
        "(7.03 4.67 0.67 0.20): 11.83; 21.80; 16.98; 2.44; 22.11 | (0.43,0.42,0.13,0.07) (0.33,0.67,0.00,0.00)\n",
        "--------------------------------"
       ]
      },
      {
       "output_type": "stream",
       "stream": "stdout",
       "text": [
        "\n",
        "M=700 GeV ------> 7.96 +- 0.37, and full range integral: 11.21\n",
        "Mean value: 696.46, with sigma: 41.36\n",
        "Chi2=11.26, ndf=17.00, Chi2/ndf=0.66\n",
        "TTbar ------> 6.49 +- 0.71, and full range integral: 20.32\n",
        "QCD ------> 0.00 +- 0.00, and full range integral: 11.32\n",
        "(7.03 4.67 0.67 0.15): 11.21; 20.32; 11.32; 2.49; 21.59 | (0.42,0.43,0.13,0.07) (0.00,1.00,0.00,0.00)\n",
        "--------------------------------"
       ]
      },
      {
       "output_type": "stream",
       "stream": "stdout",
       "text": [
        "\n",
        "M=700 GeV ------> 7.29 +- 0.35, and full range integral: 10.06\n",
        "Mean value: 695.99, with sigma: 40.61\n",
        "Chi2=14.19, ndf=17.00, Chi2/ndf=0.83\n",
        "TTbar ------> 5.86 +- 0.68, and full range integral: 17.74\n",
        "QCD ------> 0.00 +- 0.00, and full range integral: 0.00\n",
        "(7.03 4.67 0.67 0.10): 10.06; 17.74; 0.00; 2.58; 20.55 | (0.44,0.41,0.13,0.06) (0.00,0.00,0.00,0.00)\n",
        "--------------------------------"
       ]
      },
      {
       "output_type": "stream",
       "stream": "stdout",
       "text": [
        "\n",
        "M=700 GeV ------> 8.05 +- 0.37, and full range integral: 10.83\n",
        "Mean value: 697.99, with sigma: 43.19\n",
        "Chi2=3.51, ndf=17.00, Chi2/ndf=0.21\n",
        "TTbar ------> 7.19 +- 0.75, and full range integral: 18.68\n",
        "QCD ------> 11.32 +- 8.00, and full range integral: 16.98\n",
        "(7.03 4.67 0.70 0.20): 10.83; 18.68; 16.98; 2.61; 21.36 | (0.41,0.42,0.13,0.08) (0.33,0.67,0.00,0.00)\n",
        "--------------------------------"
       ]
      },
      {
       "output_type": "stream",
       "stream": "stdout",
       "text": [
        "\n",
        "M=700 GeV ------> 7.31 +- 0.35, and full range integral: 10.26\n",
        "Mean value: 697.69, with sigma: 41.50\n",
        "Chi2=9.25, ndf=17.00, Chi2/ndf=0.54\n",
        "TTbar ------> 5.78 +- 0.67, and full range integral: 17.35\n",
        "QCD ------> 0.00 +- 0.00, and full range integral: 11.32\n",
        "(7.03 4.67 0.70 0.15): 10.26; 17.35; 11.32; 2.67; 20.86 | (0.41,0.42,0.14,0.08) (0.00,1.00,0.00,0.00)\n",
        "--------------------------------"
       ]
      },
      {
       "output_type": "stream",
       "stream": "stdout",
       "text": [
        "\n",
        "M=700 GeV ------> 9.59 +- 0.41, and full range integral: 13.75\n",
        "Mean value: 696.17, with sigma: 42.86\n",
        "Chi2=4.63, ndf=17.00, Chi2/ndf=0.27\n",
        "TTbar ------> 10.86 +- 0.92, and full range integral: 31.18\n",
        "QCD ------> 0.00 +- 0.00, and full range integral: 16.98\n",
        "(7.20 4.00 0.67 0.20): 13.75; 31.18; 16.98; 1.99; 23.09 | (0.45,0.40,0.13,0.07) (0.00,1.00,0.00,0.00)\n",
        "--------------------------------"
       ]
      },
      {
       "output_type": "stream",
       "stream": "stdout",
       "text": [
        "\n",
        "M=700 GeV ------> 9.29 +- 0.40, and full range integral: 12.94\n",
        "Mean value: 695.70, with sigma: 41.05\n",
        "Chi2=10.55, ndf=17.00, Chi2/ndf=0.62\n",
        "TTbar ------> 10.24 +- 0.89, and full range integral: 29.23\n",
        "QCD ------> 0.00 +- 0.00, and full range integral: 16.98\n",
        "(7.20 4.00 0.67 0.15): 12.94; 29.23; 16.98; 2.00; 22.42 | (0.45,0.41,0.12,0.07) (0.00,1.00,0.00,0.00)\n",
        "--------------------------------"
       ]
      },
      {
       "output_type": "stream",
       "stream": "stdout",
       "text": [
        "\n",
        "M=700 GeV ------> 8.50 +- 0.38, and full range integral: 11.65\n",
        "Mean value: 695.11, with sigma: 40.19\n",
        "Chi2=12.65, ndf=17.00, Chi2/ndf=0.74\n",
        "TTbar ------> 8.99 +- 0.84, and full range integral: 25.40\n",
        "QCD ------> 0.00 +- 0.00, and full range integral: 5.66\n",
        "(7.20 4.00 0.67 0.10): 11.65; 25.40; 5.66; 2.08; 21.42 | (0.46,0.39,0.12,0.06) (0.00,1.00,0.00,0.00)\n",
        "--------------------------------"
       ]
      },
      {
       "output_type": "stream",
       "stream": "stdout",
       "text": [
        "\n",
        "M=700 GeV ------> 9.23 +- 0.40, and full range integral: 12.32\n",
        "Mean value: 697.41, with sigma: 42.87\n",
        "Chi2=3.98, ndf=17.00, Chi2/ndf=0.23\n",
        "TTbar ------> 10.55 +- 0.91, and full range integral: 26.49\n",
        "QCD ------> 5.66 +- 5.66, and full range integral: 16.98\n",
        "(7.20 4.00 0.70 0.20): 12.32; 26.49; 16.98; 2.10; 22.05 | (0.42,0.41,0.13,0.08) (0.00,1.00,0.00,0.00)\n",
        "--------------------------------"
       ]
      },
      {
       "output_type": "stream",
       "stream": "stdout",
       "text": [
        "\n",
        "M=700 GeV ------> 8.36 +- 0.38, and full range integral: 11.60\n",
        "Mean value: 696.74, with sigma: 41.11\n",
        "Chi2=9.72, ndf=17.00, Chi2/ndf=0.57\n",
        "TTbar ------> 8.83 +- 0.83, and full range integral: 24.77\n",
        "QCD ------> 0.00 +- 0.00, and full range integral: 16.98\n",
        "(7.20 4.00 0.70 0.15): 11.60; 24.77; 16.98; 2.11; 21.42 | (0.42,0.42,0.13,0.08) (0.00,1.00,0.00,0.00)\n",
        "--------------------------------"
       ]
      },
      {
       "output_type": "stream",
       "stream": "stdout",
       "text": [
        "\n",
        "M=700 GeV ------> 7.69 +- 0.36, and full range integral: 10.50\n",
        "Mean value: 696.04, with sigma: 40.09\n",
        "Chi2=11.67, ndf=17.00, Chi2/ndf=0.69\n",
        "TTbar ------> 7.58 +- 0.77, and full range integral: 21.18\n",
        "QCD ------> 0.00 +- 0.00, and full range integral: 5.66\n",
        "(7.20 4.00 0.70 0.10): 10.50; 21.18; 5.66; 2.25; 20.58 | (0.44,0.41,0.13,0.07) (0.00,1.00,0.00,0.00)\n",
        "--------------------------------"
       ]
      },
      {
       "output_type": "stream",
       "stream": "stdout",
       "text": [
        "\n",
        "M=700 GeV ------> 8.29 +- 0.38, and full range integral: 10.97\n",
        "Mean value: 698.85, with sigma: 42.41\n",
        "Chi2=5.23, ndf=17.00, Chi2/ndf=0.31\n",
        "TTbar ------> 7.58 +- 0.77, and full range integral: 20.40\n",
        "QCD ------> 5.66 +- 5.66, and full range integral: 16.98\n",
        "(7.20 4.00 0.72 0.20): 10.97; 20.40; 16.98; 2.42; 21.26 | (0.39,0.42,0.15,0.08) (0.00,1.00,0.00,0.00)\n",
        "--------------------------------"
       ]
      },
      {
       "output_type": "stream",
       "stream": "stdout",
       "text": [
        "\n",
        "M=700 GeV ------> 7.48 +- 0.36, and full range integral: 10.30\n",
        "Mean value: 698.01, with sigma: 40.49\n",
        "Chi2=9.84, ndf=17.00, Chi2/ndf=0.58\n",
        "TTbar ------> 6.33 +- 0.70, and full range integral: 19.23\n",
        "QCD ------> 0.00 +- 0.00, and full range integral: 16.98\n",
        "(7.20 4.00 0.72 0.15): 10.30; 19.23; 16.98; 2.41; 20.59 | (0.39,0.43,0.14,0.08) (0.00,1.00,0.00,0.00)\n",
        "--------------------------------"
       ]
      },
      {
       "output_type": "stream",
       "stream": "stdout",
       "text": [
        "\n",
        "M=700 GeV ------> 8.19 +- 0.37, and full range integral: 11.52\n",
        "Mean value: 694.94, with sigma: 41.45\n",
        "Chi2=10.64, ndf=17.00, Chi2/ndf=0.63\n",
        "TTbar ------> 8.52 +- 0.82, and full range integral: 26.42\n",
        "QCD ------> 11.32 +- 8.00, and full range integral: 16.98\n",
        "(7.20 4.67 0.58 0.10): 11.52; 26.42; 16.98; 1.97; 21.09 | (0.57,0.33,0.10,0.04) (1.00,0.00,0.00,0.00)\n",
        "--------------------------------"
       ]
      },
      {
       "output_type": "stream",
       "stream": "stdout",
       "text": [
        "\n",
        "M=700 GeV ------> 8.05 +- 0.37, and full range integral: 11.36\n",
        "Mean value: 695.15, with sigma: 41.52\n",
        "Chi2=10.98, ndf=17.00, Chi2/ndf=0.65\n",
        "TTbar ------> 8.05 +- 0.79, and full range integral: 24.07\n",
        "QCD ------> 11.32 +- 8.00, and full range integral: 16.98\n",
        "(7.20 4.67 0.60 0.10): 11.36; 24.07; 16.98; 2.13; 21.22 | (0.54,0.35,0.11,0.04) (1.00,0.00,0.00,0.00)\n",
        "--------------------------------"
       ]
      },
      {
       "output_type": "stream",
       "stream": "stdout",
       "text": [
        "\n",
        "M=700 GeV ------> 7.86 +- 0.37, and full range integral: 11.00\n",
        "Mean value: 695.89, with sigma: 41.06\n",
        "Chi2=16.10, ndf=17.00, Chi2/ndf=0.95\n",
        "TTbar ------> 7.42 +- 0.76, and full range integral: 22.12\n",
        "QCD ------> 5.66 +- 5.66, and full range integral: 11.32\n",
        "(7.20 4.67 0.63 0.10): 11.00; 22.12; 11.32; 2.25; 21.06 | (0.52,0.36,0.10,0.05) (1.00,0.00,0.00,0.00)\n",
        "--------------------------------"
       ]
      },
      {
       "output_type": "stream",
       "stream": "stdout",
       "text": [
        "\n",
        "M=700 GeV ------> 7.55 +- 0.36, and full range integral: 10.50\n",
        "Mean value: 696.07, with sigma: 40.74\n",
        "Chi2=13.57, ndf=17.00, Chi2/ndf=0.80\n",
        "TTbar ------> 6.80 +- 0.73, and full range integral: 20.16\n",
        "QCD ------> 5.66 +- 5.66, and full range integral: 11.32\n",
        "(7.20 4.67 0.65 0.10): 10.50; 20.16; 11.32; 2.35; 20.72 | (0.50,0.38,0.11,0.05) (1.00,0.00,0.00,0.00)\n",
        "--------------------------------"
       ]
      },
      {
       "output_type": "stream",
       "stream": "stdout",
       "text": [
        "\n",
        "M=700 GeV ------> 8.63 +- 0.38, and full range integral: 11.91\n",
        "Mean value: 697.62, with sigma: 43.87\n",
        "Chi2=5.54, ndf=17.00, Chi2/ndf=0.33\n",
        "TTbar ------> 7.97 +- 0.79, and full range integral: 22.04\n",
        "QCD ------> 5.66 +- 5.66, and full range integral: 16.98\n",
        "(7.20 4.67 0.67 0.25): 11.91; 22.04; 16.98; 2.44; 22.18 | (0.42,0.43,0.13,0.07) (0.00,1.00,0.00,0.00)\n",
        "--------------------------------"
       ]
      },
      {
       "output_type": "stream",
       "stream": "stdout",
       "text": [
        "\n",
        "M=700 GeV ------> 8.51 +- 0.38, and full range integral: 11.57\n",
        "Mean value: 696.95, with sigma: 43.20\n",
        "Chi2=4.82, ndf=17.00, Chi2/ndf=0.28\n",
        "TTbar ------> 7.89 +- 0.79, and full range integral: 21.10\n",
        "QCD ------> 5.66 +- 5.66, and full range integral: 11.32\n",
        "(7.20 4.67 0.67 0.20): 11.57; 21.10; 11.32; 2.48; 21.91 | (0.43,0.43,0.12,0.07) (0.00,1.00,0.00,0.00)\n",
        "--------------------------------"
       ]
      },
      {
       "output_type": "stream",
       "stream": "stdout",
       "text": [
        "\n",
        "M=700 GeV ------> 7.74 +- 0.36, and full range integral: 10.95\n",
        "Mean value: 696.79, with sigma: 41.57\n",
        "Chi2=11.14, ndf=17.00, Chi2/ndf=0.66\n",
        "TTbar ------> 6.49 +- 0.71, and full range integral: 19.69\n",
        "QCD ------> 0.00 +- 0.00, and full range integral: 11.32\n",
        "(7.20 4.67 0.67 0.15): 10.95; 19.69; 11.32; 2.51; 21.36 | (0.43,0.43,0.12,0.06) (0.00,1.00,0.00,0.00)\n",
        "--------------------------------"
       ]
      },
      {
       "output_type": "stream",
       "stream": "stdout",
       "text": [
        "\n",
        "M=700 GeV ------> 7.98 +- 0.37, and full range integral: 10.90\n",
        "Mean value: 699.08, with sigma: 43.92\n",
        "Chi2=3.10, ndf=17.00, Chi2/ndf=0.18\n",
        "TTbar ------> 7.19 +- 0.75, and full range integral: 18.99\n",
        "QCD ------> 5.66 +- 5.66, and full range integral: 16.98\n",
        "(7.20 4.67 0.70 0.25): 10.90; 18.99; 16.98; 2.58; 21.39 | (0.40,0.43,0.13,0.08) (0.00,1.00,0.00,0.00)\n",
        "--------------------------------"
       ]
      },
      {
       "output_type": "stream",
       "stream": "stdout",
       "text": [
        "\n",
        "M=700 GeV ------> 7.86 +- 0.37, and full range integral: 10.61\n",
        "Mean value: 698.35, with sigma: 43.35\n",
        "Chi2=2.78, ndf=17.00, Chi2/ndf=0.16\n",
        "TTbar ------> 7.11 +- 0.75, and full range integral: 18.13\n",
        "QCD ------> 5.66 +- 5.66, and full range integral: 11.32\n",
        "(7.20 4.67 0.70 0.20): 10.61; 18.13; 11.32; 2.64; 21.17 | (0.41,0.43,0.13,0.08) (0.00,1.00,0.00,0.00)\n",
        "--------------------------------"
       ]
      },
      {
       "output_type": "stream",
       "stream": "stdout",
       "text": [
        "\n",
        "M=700 GeV ------> 7.12 +- 0.35, and full range integral: 10.04\n",
        "Mean value: 698.05, with sigma: 41.63\n",
        "Chi2=8.73, ndf=17.00, Chi2/ndf=0.51\n",
        "TTbar ------> 5.78 +- 0.67, and full range integral: 16.88\n",
        "QCD ------> 0.00 +- 0.00, and full range integral: 11.32\n",
        "(7.20 4.67 0.70 0.15): 10.04; 16.88; 11.32; 2.68; 20.64 | (0.41,0.43,0.13,0.07) (0.00,1.00,0.00,0.00)\n",
        "--------------------------------"
       ]
      },
      {
       "output_type": "stream",
       "stream": "stdout",
       "text": [
        "\n",
        "M=700 GeV ------> 9.30 +- 0.40, and full range integral: 13.35\n",
        "Mean value: 696.12, with sigma: 42.81\n",
        "Chi2=4.33, ndf=17.00, Chi2/ndf=0.25\n",
        "TTbar ------> 10.24 +- 0.89, and full range integral: 29.93\n",
        "QCD ------> 0.00 +- 0.00, and full range integral: 16.98\n",
        "(7.37 4.00 0.67 0.20): 13.35; 29.93; 16.98; 2.02; 22.80 | (0.44,0.40,0.13,0.07) (0.00,1.00,0.00,0.00)\n",
        "--------------------------------"
       ]
      },
      {
       "output_type": "stream",
       "stream": "stdout",
       "text": [
        "\n",
        "M=700 GeV ------> 8.99 +- 0.39, and full range integral: 12.55\n",
        "Mean value: 695.63, with sigma: 40.94\n",
        "Chi2=10.29, ndf=17.00, Chi2/ndf=0.61\n",
        "TTbar ------> 9.77 +- 0.87, and full range integral: 28.14\n",
        "QCD ------> 0.00 +- 0.00, and full range integral: 16.98\n",
        "(7.37 4.00 0.67 0.15): 12.55; 28.14; 16.98; 2.01; 22.10 | (0.44,0.41,0.13,0.07) (0.00,1.00,0.00,0.00)\n",
        "--------------------------------"
       ]
      },
      {
       "output_type": "stream",
       "stream": "stdout",
       "text": [
        "\n",
        "M=700 GeV ------> 8.26 +- 0.38, and full range integral: 11.31\n",
        "Mean value: 695.06, with sigma: 39.95\n",
        "Chi2=14.00, ndf=17.00, Chi2/ndf=0.82\n",
        "TTbar ------> 8.52 +- 0.82, and full range integral: 24.38\n",
        "QCD ------> 0.00 +- 0.00, and full range integral: 5.66\n",
        "(7.37 4.00 0.67 0.10): 11.31; 24.38; 5.66; 2.11; 21.14 | (0.46,0.39,0.12,0.06) (0.00,1.00,0.00,0.00)\n",
        "--------------------------------"
       ]
      },
      {
       "output_type": "stream",
       "stream": "stdout",
       "text": [
        "\n",
        "M=700 GeV ------> 9.03 +- 0.39, and full range integral: 12.03\n",
        "Mean value: 697.53, with sigma: 42.72\n",
        "Chi2=2.90, ndf=17.00, Chi2/ndf=0.17\n",
        "TTbar ------> 10.00 +- 0.88, and full range integral: 25.40\n",
        "QCD ------> 5.66 +- 5.66, and full range integral: 16.98\n",
        "(7.37 4.00 0.70 0.20): 12.03; 25.40; 16.98; 2.14; 21.85 | (0.41,0.42,0.14,0.08) (0.00,1.00,0.00,0.00)\n",
        "--------------------------------"
       ]
      },
      {
       "output_type": "stream",
       "stream": "stdout",
       "text": [
        "\n",
        "M=700 GeV ------> 8.15 +- 0.37, and full range integral: 11.31\n",
        "Mean value: 696.85, with sigma: 40.91\n",
        "Chi2=8.64, ndf=17.00, Chi2/ndf=0.51\n",
        "TTbar ------> 8.44 +- 0.81, and full range integral: 23.84\n",
        "QCD ------> 0.00 +- 0.00, and full range integral: 16.98\n",
        "(7.37 4.00 0.70 0.15): 11.31; 23.84; 16.98; 2.14; 21.19 | (0.41,0.42,0.13,0.08) (0.00,1.00,0.00,0.00)\n",
        "--------------------------------"
       ]
      },
      {
       "output_type": "stream",
       "stream": "stdout",
       "text": [
        "\n",
        "M=700 GeV ------> 7.52 +- 0.36, and full range integral: 10.25\n",
        "Mean value: 696.21, with sigma: 39.78\n",
        "Chi2=11.88, ndf=17.00, Chi2/ndf=0.70\n",
        "TTbar ------> 7.19 +- 0.75, and full range integral: 20.32\n",
        "QCD ------> 0.00 +- 0.00, and full range integral: 5.66\n",
        "(7.37 4.00 0.70 0.10): 10.25; 20.32; 5.66; 2.29; 20.38 | (0.43,0.41,0.13,0.07) (0.00,1.00,0.00,0.00)\n",
        "--------------------------------"
       ]
      },
      {
       "output_type": "stream",
       "stream": "stdout",
       "text": [
        "\n",
        "M=700 GeV ------> 8.10 +- 0.37, and full range integral: 10.69\n",
        "Mean value: 699.06, with sigma: 42.18\n",
        "Chi2=3.86, ndf=17.00, Chi2/ndf=0.23\n",
        "TTbar ------> 7.11 +- 0.75, and full range integral: 19.38\n",
        "QCD ------> 5.66 +- 5.66, and full range integral: 16.98\n",
        "(7.37 4.00 0.72 0.20): 10.69; 19.38; 16.98; 2.48; 21.07 | (0.37,0.43,0.15,0.09) (0.00,1.00,0.00,0.00)\n",
        "--------------------------------"
       ]
      },
      {
       "output_type": "stream",
       "stream": "stdout",
       "text": [
        "\n",
        "M=700 GeV ------> 7.29 +- 0.35, and full range integral: 10.02\n",
        "Mean value: 698.22, with sigma: 40.22\n",
        "Chi2=8.56, ndf=17.00, Chi2/ndf=0.50\n",
        "TTbar ------> 6.02 +- 0.69, and full range integral: 18.37\n",
        "QCD ------> 0.00 +- 0.00, and full range integral: 16.98\n",
        "(7.37 4.00 0.72 0.15): 10.02; 18.37; 16.98; 2.45; 20.37 | (0.37,0.44,0.14,0.09) (0.00,1.00,0.00,0.00)\n",
        "--------------------------------"
       ]
      },
      {
       "output_type": "stream",
       "stream": "stdout",
       "text": [
        "\n",
        "M=700 GeV ------> 8.05 +- 0.37, and full range integral: 11.33\n",
        "Mean value: 694.72, with sigma: 41.36\n",
        "Chi2=10.47, ndf=17.00, Chi2/ndf=0.62\n",
        "TTbar ------> 8.13 +- 0.80, and full range integral: 25.48\n",
        "QCD ------> 11.32 +- 8.00, and full range integral: 16.98\n",
        "(7.37 4.67 0.58 0.10): 11.33; 25.48; 16.98; 2.01; 20.99 | (0.56,0.33,0.10,0.04) (1.00,0.00,0.00,0.00)\n",
        "--------------------------------"
       ]
      },
      {
       "output_type": "stream",
       "stream": "stdout",
       "text": [
        "\n",
        "M=700 GeV ------> 7.91 +- 0.37, and full range integral: 11.17\n",
        "Mean value: 694.94, with sigma: 41.42\n",
        "Chi2=10.71, ndf=17.00, Chi2/ndf=0.63\n",
        "TTbar ------> 7.66 +- 0.77, and full range integral: 23.21\n",
        "QCD ------> 11.32 +- 8.00, and full range integral: 16.98\n",
        "(7.37 4.67 0.60 0.10): 11.17; 23.21; 16.98; 2.17; 21.11 | (0.53,0.35,0.11,0.04) (1.00,0.00,0.00,0.00)\n",
        "--------------------------------"
       ]
      },
      {
       "output_type": "stream",
       "stream": "stdout",
       "text": [
        "\n",
        "M=700 GeV ------> 7.72 +- 0.36, and full range integral: 10.81\n",
        "Mean value: 695.69, with sigma: 40.95\n",
        "Chi2=15.74, ndf=17.00, Chi2/ndf=0.93\n",
        "TTbar ------> 7.03 +- 0.74, and full range integral: 21.26\n",
        "QCD ------> 5.66 +- 5.66, and full range integral: 11.32\n",
        "(7.37 4.67 0.63 0.10): 10.81; 21.26; 11.32; 2.30; 20.95 | (0.52,0.36,0.10,0.05) (1.00,0.00,0.00,0.00)\n",
        "--------------------------------"
       ]
      },
      {
       "output_type": "stream",
       "stream": "stdout",
       "text": [
        "\n",
        "M=700 GeV ------> 7.41 +- 0.36, and full range integral: 10.32\n",
        "Mean value: 695.87, with sigma: 40.62\n",
        "Chi2=13.39, ndf=17.00, Chi2/ndf=0.79\n",
        "TTbar ------> 6.41 +- 0.71, and full range integral: 19.30\n",
        "QCD ------> 5.66 +- 5.66, and full range integral: 11.32\n",
        "(7.37 4.67 0.65 0.10): 10.32; 19.30; 11.32; 2.41; 20.61 | (0.49,0.38,0.11,0.05) (1.00,0.00,0.00,0.00)\n",
        "--------------------------------"
       ]
      },
      {
       "output_type": "stream",
       "stream": "stdout",
       "text": [
        "\n",
        "M=700 GeV ------> 8.44 +- 0.38, and full range integral: 11.65\n",
        "Mean value: 697.43, with sigma: 43.94\n",
        "Chi2=5.62, ndf=17.00, Chi2/ndf=0.33\n",
        "TTbar ------> 7.50 +- 0.77, and full range integral: 21.18\n",
        "QCD ------> 5.66 +- 5.66, and full range integral: 16.98\n",
        "(7.37 4.67 0.67 0.25): 11.65; 21.18; 16.98; 2.48; 21.99 | (0.41,0.43,0.13,0.07) (0.00,1.00,0.00,0.00)\n",
        "--------------------------------"
       ]
      },
      {
       "output_type": "stream",
       "stream": "stdout",
       "text": [
        "\n",
        "M=700 GeV ------> 7.79 +- 0.37, and full range integral: 11.33\n",
        "Mean value: 696.73, with sigma: 43.25\n",
        "Chi2=4.62, ndf=17.00, Chi2/ndf=0.27\n",
        "TTbar ------> 6.56 +- 0.72, and full range integral: 20.24\n",
        "QCD ------> 0.00 +- 0.00, and full range integral: 11.32\n",
        "(7.37 4.67 0.67 0.20): 11.33; 20.24; 11.32; 2.53; 21.75 | (0.42,0.43,0.12,0.07) (0.00,1.00,0.00,0.00)\n",
        "--------------------------------"
       ]
      },
      {
       "output_type": "stream",
       "stream": "stdout",
       "text": [
        "\n",
        "M=700 GeV ------> 7.55 +- 0.36, and full range integral: 10.71\n",
        "Mean value: 696.56, with sigma: 41.59\n",
        "Chi2=10.75, ndf=17.00, Chi2/ndf=0.63\n",
        "TTbar ------> 6.10 +- 0.69, and full range integral: 18.91\n",
        "QCD ------> 0.00 +- 0.00, and full range integral: 11.32\n",
        "(7.37 4.67 0.67 0.15): 10.71; 18.91; 11.32; 2.56; 21.18 | (0.42,0.43,0.12,0.07) (0.00,1.00,0.00,0.00)\n",
        "--------------------------------"
       ]
      },
      {
       "output_type": "stream",
       "stream": "stdout",
       "text": [
        "\n",
        "M=700 GeV ------> 7.84 +- 0.37, and full range integral: 10.69\n",
        "Mean value: 698.86, with sigma: 43.87\n",
        "Chi2=3.00, ndf=17.00, Chi2/ndf=0.18\n",
        "TTbar ------> 6.80 +- 0.73, and full range integral: 18.29\n",
        "QCD ------> 5.66 +- 5.66, and full range integral: 16.98\n",
        "(7.37 4.67 0.70 0.25): 10.69; 18.29; 16.98; 2.63; 21.24 | (0.39,0.43,0.13,0.08) (0.00,1.00,0.00,0.00)\n",
        "--------------------------------"
       ]
      },
      {
       "output_type": "stream",
       "stream": "stdout",
       "text": [
        "\n",
        "M=700 GeV ------> 7.72 +- 0.36, and full range integral: 10.42\n",
        "Mean value: 698.11, with sigma: 43.28\n",
        "Chi2=2.47, ndf=17.00, Chi2/ndf=0.15\n",
        "TTbar ------> 6.72 +- 0.72, and full range integral: 17.43\n",
        "QCD ------> 5.66 +- 5.66, and full range integral: 11.32\n",
        "(7.37 4.67 0.70 0.20): 10.42; 17.43; 11.32; 2.70; 21.04 | (0.40,0.43,0.13,0.08) (0.00,1.00,0.00,0.00)\n",
        "--------------------------------"
       ]
      },
      {
       "output_type": "stream",
       "stream": "stdout",
       "text": [
        "\n",
        "M=700 GeV ------> 9.15 +- 0.40, and full range integral: 13.11\n",
        "Mean value: 696.26, with sigma: 42.86\n",
        "Chi2=5.55, ndf=17.00, Chi2/ndf=0.33\n",
        "TTbar ------> 10.08 +- 0.89, and full range integral: 28.92\n",
        "QCD ------> 0.00 +- 0.00, and full range integral: 16.98\n",
        "(7.53 4.00 0.67 0.20): 13.11; 28.92; 16.98; 2.05; 22.66 | (0.44,0.41,0.13,0.07) (0.00,1.00,0.00,0.00)\n",
        "--------------------------------"
       ]
      },
      {
       "output_type": "stream",
       "stream": "stdout",
       "text": [
        "\n",
        "M=700 GeV ------> 8.84 +- 0.39, and full range integral: 12.32\n",
        "Mean value: 695.90, with sigma: 41.13\n",
        "Chi2=10.92, ndf=17.00, Chi2/ndf=0.64\n",
        "TTbar ------> 9.61 +- 0.87, and full range integral: 27.12\n",
        "QCD ------> 0.00 +- 0.00, and full range integral: 16.98\n",
        "(7.53 4.00 0.67 0.15): 12.32; 27.12; 16.98; 2.05; 21.97 | (0.44,0.41,0.12,0.07) (0.00,1.00,0.00,0.00)\n",
        "--------------------------------"
       ]
      },
      {
       "output_type": "stream",
       "stream": "stdout",
       "text": [
        "\n",
        "M=700 GeV ------> 8.10 +- 0.37, and full range integral: 11.11\n",
        "Mean value: 695.33, with sigma: 40.15\n",
        "Chi2=14.92, ndf=17.00, Chi2/ndf=0.88\n",
        "TTbar ------> 8.44 +- 0.81, and full range integral: 23.60\n",
        "QCD ------> 0.00 +- 0.00, and full range integral: 5.66\n",
        "(7.53 4.00 0.67 0.10): 11.11; 23.60; 5.66; 2.14; 20.99 | (0.46,0.40,0.11,0.06) (0.00,1.00,0.00,0.00)\n",
        "--------------------------------"
       ]
      },
      {
       "output_type": "stream",
       "stream": "stdout",
       "text": [
        "\n",
        "M=700 GeV ------> 8.91 +- 0.39, and full range integral: 11.83\n",
        "Mean value: 697.63, with sigma: 42.71\n",
        "Chi2=4.26, ndf=17.00, Chi2/ndf=0.25\n",
        "TTbar ------> 9.77 +- 0.87, and full range integral: 24.46\n",
        "QCD ------> 5.66 +- 5.66, and full range integral: 16.98\n",
        "(7.53 4.00 0.70 0.20): 11.83; 24.46; 16.98; 2.18; 21.73 | (0.41,0.42,0.13,0.08) (0.00,1.00,0.00,0.00)\n",
        "--------------------------------"
       ]
      },
      {
       "output_type": "stream",
       "stream": "stdout",
       "text": [
        "\n",
        "M=700 GeV ------> 8.03 +- 0.37, and full range integral: 11.12\n",
        "Mean value: 697.09, with sigma: 41.06\n",
        "Chi2=9.38, ndf=17.00, Chi2/ndf=0.55\n",
        "TTbar ------> 8.28 +- 0.80, and full range integral: 22.90\n",
        "QCD ------> 0.00 +- 0.00, and full range integral: 16.98\n",
        "(7.53 4.00 0.70 0.15): 11.12; 22.90; 16.98; 2.19; 21.09 | (0.41,0.42,0.13,0.08) (0.00,1.00,0.00,0.00)\n",
        "--------------------------------"
       ]
      },
      {
       "output_type": "stream",
       "stream": "stdout",
       "text": [
        "\n",
        "M=700 GeV ------> 7.40 +- 0.36, and full range integral: 10.08\n",
        "Mean value: 696.46, with sigma: 39.93\n",
        "Chi2=12.90, ndf=17.00, Chi2/ndf=0.76\n",
        "TTbar ------> 7.11 +- 0.75, and full range integral: 19.62\n",
        "QCD ------> 0.00 +- 0.00, and full range integral: 5.66\n",
        "(7.53 4.00 0.70 0.10): 10.08; 19.62; 5.66; 2.33; 20.27 | (0.43,0.41,0.12,0.07) (0.00,1.00,0.00,0.00)\n",
        "--------------------------------"
       ]
      },
      {
       "output_type": "stream",
       "stream": "stdout",
       "text": [
        "\n",
        "M=700 GeV ------> 7.98 +- 0.37, and full range integral: 10.49\n",
        "Mean value: 699.20, with sigma: 42.16\n",
        "Chi2=5.36, ndf=17.00, Chi2/ndf=0.32\n",
        "TTbar ------> 6.88 +- 0.73, and full range integral: 18.68\n",
        "QCD ------> 5.66 +- 5.66, and full range integral: 16.98\n",
        "(7.53 4.00 0.72 0.20): 10.49; 18.68; 16.98; 2.52; 20.92 | (0.37,0.43,0.15,0.09) (0.00,1.00,0.00,0.00)\n",
        "--------------------------------"
       ]
      },
      {
       "output_type": "stream",
       "stream": "stdout",
       "text": [
        "\n",
        "M=700 GeV ------> 7.93 +- 0.37, and full range integral: 11.17\n",
        "Mean value: 694.84, with sigma: 41.56\n",
        "Chi2=11.30, ndf=17.00, Chi2/ndf=0.66\n",
        "TTbar ------> 8.05 +- 0.79, and full range integral: 25.09\n",
        "QCD ------> 11.32 +- 8.00, and full range integral: 16.98\n",
        "(7.53 4.67 0.58 0.10): 11.17; 25.09; 16.98; 2.01; 20.85 | (0.56,0.33,0.09,0.04) (1.00,0.00,0.00,0.00)\n",
        "--------------------------------"
       ]
      },
      {
       "output_type": "stream",
       "stream": "stdout",
       "text": [
        "\n",
        "M=700 GeV ------> 7.79 +- 0.37, and full range integral: 11.02\n",
        "Mean value: 695.06, with sigma: 41.63\n",
        "Chi2=11.28, ndf=17.00, Chi2/ndf=0.66\n",
        "TTbar ------> 7.66 +- 0.77, and full range integral: 22.90\n",
        "QCD ------> 11.32 +- 8.00, and full range integral: 16.98\n",
        "(7.53 4.67 0.60 0.10): 11.02; 22.90; 16.98; 2.17; 20.96 | (0.53,0.35,0.10,0.04) (1.00,0.00,0.00,0.00)\n",
        "--------------------------------"
       ]
      },
      {
       "output_type": "stream",
       "stream": "stdout",
       "text": [
        "\n",
        "M=700 GeV ------> 7.60 +- 0.36, and full range integral: 10.66\n",
        "Mean value: 695.82, with sigma: 41.16\n",
        "Chi2=16.66, ndf=17.00, Chi2/ndf=0.98\n",
        "TTbar ------> 7.03 +- 0.74, and full range integral: 20.95\n",
        "QCD ------> 5.66 +- 5.66, and full range integral: 11.32\n",
        "(7.53 4.67 0.63 0.10): 10.66; 20.95; 11.32; 2.30; 20.80 | (0.52,0.37,0.10,0.05) (1.00,0.00,0.00,0.00)\n",
        "--------------------------------"
       ]
      },
      {
       "output_type": "stream",
       "stream": "stdout",
       "text": [
        "\n",
        "M=700 GeV ------> 7.29 +- 0.35, and full range integral: 10.16\n",
        "Mean value: 696.01, with sigma: 40.83\n",
        "Chi2=14.26, ndf=17.00, Chi2/ndf=0.84\n",
        "TTbar ------> 6.41 +- 0.71, and full range integral: 18.99\n",
        "QCD ------> 5.66 +- 5.66, and full range integral: 11.32\n",
        "(7.53 4.67 0.65 0.10): 10.16; 18.99; 11.32; 2.42; 20.46 | (0.49,0.39,0.10,0.05) (1.00,0.00,0.00,0.00)\n",
        "--------------------------------"
       ]
      },
      {
       "output_type": "stream",
       "stream": "stdout",
       "text": [
        "\n",
        "M=700 GeV ------> 8.31 +- 0.38, and full range integral: 11.43\n",
        "Mean value: 697.52, with sigma: 44.00\n",
        "Chi2=5.23, ndf=17.00, Chi2/ndf=0.31\n",
        "TTbar ------> 7.42 +- 0.76, and full range integral: 20.71\n",
        "QCD ------> 5.66 +- 5.66, and full range integral: 16.98\n",
        "(7.53 4.67 0.67 0.25): 11.43; 20.71; 16.98; 2.49; 21.79 | (0.42,0.43,0.12,0.07) (0.00,1.00,0.00,0.00)\n",
        "--------------------------------"
       ]
      },
      {
       "output_type": "stream",
       "stream": "stdout",
       "text": [
        "\n",
        "M=700 GeV ------> 8.20 +- 0.38, and full range integral: 11.14\n",
        "Mean value: 696.73, with sigma: 43.29\n",
        "Chi2=5.23, ndf=17.00, Chi2/ndf=0.31\n",
        "TTbar ------> 7.35 +- 0.76, and full range integral: 19.77\n",
        "QCD ------> 5.66 +- 5.66, and full range integral: 11.32\n",
        "(7.53 4.67 0.67 0.20): 11.14; 19.77; 11.32; 2.55; 21.59 | (0.42,0.43,0.12,0.07) (0.00,1.00,0.00,0.00)\n",
        "--------------------------------"
       ]
      },
      {
       "output_type": "stream",
       "stream": "stdout",
       "text": [
        "\n",
        "M=700 GeV ------> 7.43 +- 0.36, and full range integral: 10.54\n",
        "Mean value: 696.71, with sigma: 41.80\n",
        "Chi2=11.15, ndf=17.00, Chi2/ndf=0.66\n",
        "TTbar ------> 6.02 +- 0.69, and full range integral: 18.44\n",
        "QCD ------> 0.00 +- 0.00, and full range integral: 11.32\n",
        "(7.53 4.67 0.67 0.15): 10.54; 18.44; 11.32; 2.58; 21.04 | (0.42,0.43,0.12,0.07) (0.00,1.00,0.00,0.00)\n",
        "--------------------------------"
       ]
      },
      {
       "output_type": "stream",
       "stream": "stdout",
       "text": [
        "\n",
        "M=700 GeV ------> 7.71 +- 0.36, and full range integral: 10.47\n",
        "Mean value: 698.98, with sigma: 43.93\n",
        "Chi2=3.03, ndf=17.00, Chi2/ndf=0.18\n",
        "TTbar ------> 6.72 +- 0.72, and full range integral: 17.82\n",
        "QCD ------> 5.66 +- 5.66, and full range integral: 16.98\n",
        "(7.53 4.67 0.70 0.25): 10.47; 17.82; 16.98; 2.64; 21.03 | (0.39,0.43,0.13,0.08) (0.00,1.00,0.00,0.00)\n",
        "--------------------------------"
       ]
      },
      {
       "output_type": "stream",
       "stream": "stdout",
       "text": [
        "\n",
        "M=700 GeV ------> 7.60 +- 0.36, and full range integral: 10.23\n",
        "Mean value: 698.13, with sigma: 43.32\n",
        "Chi2=3.29, ndf=17.00, Chi2/ndf=0.19\n",
        "TTbar ------> 6.64 +- 0.72, and full range integral: 16.96\n",
        "QCD ------> 5.66 +- 5.66, and full range integral: 11.32\n",
        "(7.53 4.67 0.70 0.20): 10.23; 16.96; 11.32; 2.72; 20.88 | (0.41,0.43,0.12,0.08) (0.00,1.00,0.00,0.00)\n",
        "--------------------------------"
       ]
      },
      {
       "output_type": "stream",
       "stream": "stdout",
       "text": [
        "\n",
        "M=700 GeV ------> 8.82 +- 0.39, and full range integral: 12.67\n",
        "Mean value: 696.33, with sigma: 42.85\n",
        "Chi2=4.93, ndf=17.00, Chi2/ndf=0.29\n",
        "TTbar ------> 9.38 +- 0.86, and full range integral: 27.28\n",
        "QCD ------> 0.00 +- 0.00, and full range integral: 16.98\n",
        "(7.70 4.00 0.67 0.20): 12.67; 27.28; 16.98; 2.10; 22.35 | (0.42,0.42,0.13,0.07) (0.00,1.00,0.00,0.00)\n",
        "--------------------------------"
       ]
      },
      {
       "output_type": "stream",
       "stream": "stdout",
       "text": [
        "\n",
        "M=700 GeV ------> 8.53 +- 0.38, and full range integral: 11.91\n",
        "Mean value: 696.16, with sigma: 41.26\n",
        "Chi2=11.42, ndf=17.00, Chi2/ndf=0.67\n",
        "TTbar ------> 8.91 +- 0.83, and full range integral: 25.56\n",
        "QCD ------> 0.00 +- 0.00, and full range integral: 16.98\n",
        "(7.70 4.00 0.67 0.15): 11.91; 25.56; 16.98; 2.10; 21.69 | (0.43,0.43,0.12,0.07) (0.00,1.00,0.00,0.00)\n",
        "--------------------------------"
       ]
      },
      {
       "output_type": "stream",
       "stream": "stdout",
       "text": [
        "\n",
        "M=700 GeV ------> 7.79 +- 0.37, and full range integral: 10.69\n",
        "Mean value: 695.60, with sigma: 40.25\n",
        "Chi2=15.65, ndf=17.00, Chi2/ndf=0.92\n",
        "TTbar ------> 7.82 +- 0.78, and full range integral: 22.12\n",
        "QCD ------> 0.00 +- 0.00, and full range integral: 5.66\n",
        "(7.70 4.00 0.67 0.10): 10.69; 22.12; 5.66; 2.19; 20.69 | (0.45,0.42,0.11,0.06) (0.00,1.00,0.00,0.00)\n",
        "--------------------------------"
       ]
      },
      {
       "output_type": "stream",
       "stream": "stdout",
       "text": [
        "\n",
        "M=700 GeV ------> 8.60 +- 0.38, and full range integral: 11.43\n",
        "Mean value: 697.80, with sigma: 42.73\n",
        "Chi2=3.62, ndf=17.00, Chi2/ndf=0.21\n",
        "TTbar ------> 9.22 +- 0.85, and full range integral: 23.13\n",
        "QCD ------> 5.66 +- 5.66, and full range integral: 16.98\n",
        "(7.70 4.00 0.70 0.20): 11.43; 23.13; 16.98; 2.23; 21.44 | (0.39,0.43,0.14,0.08) (0.00,1.00,0.00,0.00)\n",
        "--------------------------------"
       ]
      },
      {
       "output_type": "stream",
       "stream": "stdout",
       "text": [
        "\n",
        "M=700 GeV ------> 7.76 +- 0.36, and full range integral: 10.76\n",
        "Mean value: 697.46, with sigma: 41.24\n",
        "Chi2=9.45, ndf=17.00, Chi2/ndf=0.56\n",
        "TTbar ------> 7.74 +- 0.78, and full range integral: 21.65\n",
        "QCD ------> 0.00 +- 0.00, and full range integral: 16.98\n",
        "(7.70 4.00 0.70 0.15): 10.76; 21.65; 16.98; 2.24; 20.82 | (0.39,0.44,0.13,0.08) (0.00,1.00,0.00,0.00)\n",
        "--------------------------------"
       ]
      },
      {
       "output_type": "stream",
       "stream": "stdout",
       "text": [
        "\n",
        "M=700 GeV ------> 7.72 +- 0.36, and full range integral: 10.16\n",
        "Mean value: 699.32, with sigma: 42.09\n",
        "Chi2=5.20, ndf=17.00, Chi2/ndf=0.31\n",
        "TTbar ------> 6.56 +- 0.72, and full range integral: 17.66\n",
        "QCD ------> 5.66 +- 5.66, and full range integral: 16.98\n",
        "(7.70 4.00 0.72 0.20): 10.16; 17.66; 16.98; 2.59; 20.66 | (0.35,0.44,0.16,0.09) (0.00,1.00,0.00,0.00)\n",
        "--------------------------------"
       ]
      },
      {
       "output_type": "stream",
       "stream": "stdout",
       "text": [
        "\n",
        "M=700 GeV ------> 7.72 +- 0.36, and full range integral: 10.88\n",
        "Mean value: 695.14, with sigma: 41.61\n",
        "Chi2=12.27, ndf=17.00, Chi2/ndf=0.72\n",
        "TTbar ------> 7.50 +- 0.77, and full range integral: 23.91\n",
        "QCD ------> 11.32 +- 8.00, and full range integral: 16.98\n",
        "(7.70 4.67 0.58 0.10): 10.88; 23.91; 16.98; 2.05; 20.65 | (0.56,0.33,0.09,0.04) (1.00,0.00,0.00,0.00)\n",
        "--------------------------------"
       ]
      },
      {
       "output_type": "stream",
       "stream": "stdout",
       "text": [
        "\n",
        "M=700 GeV ------> 7.59 +- 0.36, and full range integral: 10.73\n",
        "Mean value: 695.37, with sigma: 41.67\n",
        "Chi2=12.07, ndf=17.00, Chi2/ndf=0.71\n",
        "TTbar ------> 7.11 +- 0.75, and full range integral: 21.80\n",
        "QCD ------> 11.32 +- 8.00, and full range integral: 16.98\n",
        "(7.70 4.67 0.60 0.10): 10.73; 21.80; 16.98; 2.22; 20.75 | (0.53,0.35,0.10,0.05) (1.00,0.00,0.00,0.00)\n",
        "--------------------------------"
       ]
      },
      {
       "output_type": "stream",
       "stream": "stdout",
       "text": [
        "\n",
        "M=700 GeV ------> 7.40 +- 0.36, and full range integral: 10.37\n",
        "Mean value: 696.16, with sigma: 41.19\n",
        "Chi2=17.56, ndf=17.00, Chi2/ndf=1.03\n",
        "TTbar ------> 6.49 +- 0.71, and full range integral: 19.85\n",
        "QCD ------> 5.66 +- 5.66, and full range integral: 11.32\n",
        "(7.70 4.67 0.63 0.10): 10.37; 19.85; 11.32; 2.36; 20.60 | (0.51,0.37,0.10,0.05) (1.00,0.00,0.00,0.00)\n",
        "--------------------------------"
       ]
      },
      {
       "output_type": "stream",
       "stream": "stdout",
       "text": [
        "\n",
        "M=700 GeV ------> 8.08 +- 0.37, and full range integral: 11.12\n",
        "Mean value: 697.73, with sigma: 43.84\n",
        "Chi2=5.54, ndf=17.00, Chi2/ndf=0.33\n",
        "TTbar ------> 6.96 +- 0.74, and full range integral: 19.85\n",
        "QCD ------> 5.66 +- 5.66, and full range integral: 16.98\n",
        "(7.70 4.67 0.67 0.25): 11.12; 19.85; 16.98; 2.52; 21.54 | (0.41,0.44,0.13,0.07) (0.00,1.00,0.00,0.00)\n",
        "--------------------------------"
       ]
      },
      {
       "output_type": "stream",
       "stream": "stdout",
       "text": [
        "\n",
        "M=700 GeV ------> 7.98 +- 0.37, and full range integral: 10.83\n",
        "Mean value: 696.93, with sigma: 43.11\n",
        "Chi2=5.32, ndf=17.00, Chi2/ndf=0.31\n",
        "TTbar ------> 6.88 +- 0.73, and full range integral: 18.91\n",
        "QCD ------> 5.66 +- 5.66, and full range integral: 11.32\n",
        "(7.70 4.67 0.67 0.20): 10.83; 18.91; 11.32; 2.59; 21.33 | (0.41,0.44,0.12,0.07) (0.00,1.00,0.00,0.00)\n",
        "--------------------------------"
       ]
      },
      {
       "output_type": "stream",
       "stream": "stdout",
       "text": [
        "\n",
        "M=700 GeV ------> 7.23 +- 0.35, and full range integral: 10.25\n",
        "Mean value: 697.09, with sigma: 41.84\n",
        "Chi2=12.13, ndf=17.00, Chi2/ndf=0.71\n",
        "TTbar ------> 5.55 +- 0.66, and full range integral: 17.58\n",
        "QCD ------> 0.00 +- 0.00, and full range integral: 11.32\n",
        "(7.70 4.67 0.67 0.15): 10.25; 17.58; 11.32; 2.63; 20.80 | (0.41,0.44,0.12,0.07) (0.00,1.00,0.00,0.00)\n",
        "--------------------------------"
       ]
      },
      {
       "output_type": "stream",
       "stream": "stdout",
       "text": [
        "\n",
        "M=700 GeV ------> 7.50 +- 0.36, and full range integral: 10.20\n",
        "Mean value: 699.30, with sigma: 43.85\n",
        "Chi2=3.17, ndf=17.00, Chi2/ndf=0.19\n",
        "TTbar ------> 6.41 +- 0.71, and full range integral: 17.19\n",
        "QCD ------> 5.66 +- 5.66, and full range integral: 16.98\n",
        "(7.70 4.67 0.70 0.25): 10.20; 17.19; 16.98; 2.66; 20.78 | (0.39,0.44,0.13,0.09) (0.00,1.00,0.00,0.00)\n",
        "--------------------------------"
       ]
      },
      {
       "output_type": "stream",
       "stream": "stdout",
       "text": [
        "\n",
        "M=700 GeV ------> 8.41 +- 0.38, and full range integral: 12.20\n",
        "Mean value: 696.28, with sigma: 43.05\n",
        "Chi2=5.19, ndf=17.00, Chi2/ndf=0.31\n",
        "TTbar ------> 8.91 +- 0.83, and full range integral: 26.26\n",
        "QCD ------> 0.00 +- 0.00, and full range integral: 16.98\n",
        "(7.87 4.00 0.67 0.20): 12.20; 26.26; 16.98; 2.10; 21.94 | (0.42,0.43,0.13,0.07) (0.00,1.00,0.00,0.00)\n",
        "--------------------------------"
       ]
      },
      {
       "output_type": "stream",
       "stream": "stdout",
       "text": [
        "\n",
        "M=700 GeV ------> 8.15 +- 0.37, and full range integral: 11.50\n",
        "Mean value: 695.88, with sigma: 41.45\n",
        "Chi2=13.18, ndf=17.00, Chi2/ndf=0.78\n",
        "TTbar ------> 8.44 +- 0.81, and full range integral: 24.54\n",
        "QCD ------> 0.00 +- 0.00, and full range integral: 16.98\n",
        "(7.87 4.00 0.67 0.15): 11.50; 24.54; 16.98; 2.11; 21.33 | (0.42,0.43,0.12,0.07) (0.00,1.00,0.00,0.00)\n",
        "--------------------------------"
       ]
      },
      {
       "output_type": "stream",
       "stream": "stdout",
       "text": [
        "\n",
        "M=700 GeV ------> 7.41 +- 0.36, and full range integral: 10.30\n",
        "Mean value: 695.44, with sigma: 40.67\n",
        "Chi2=16.97, ndf=17.00, Chi2/ndf=1.00\n",
        "TTbar ------> 7.35 +- 0.76, and full range integral: 21.10\n",
        "QCD ------> 0.00 +- 0.00, and full range integral: 5.66\n",
        "(7.87 4.00 0.67 0.10): 10.30; 21.10; 5.66; 2.21; 20.33 | (0.44,0.42,0.11,0.06) (0.00,1.00,0.00,0.00)\n",
        "--------------------------------"
       ]
      },
      {
       "output_type": "stream",
       "stream": "stdout",
       "text": [
        "\n",
        "M=700 GeV ------> 8.19 +- 0.37, and full range integral: 10.97\n",
        "Mean value: 697.82, with sigma: 42.95\n",
        "Chi2=3.59, ndf=17.00, Chi2/ndf=0.21\n",
        "TTbar ------> 8.68 +- 0.82, and full range integral: 22.12\n",
        "QCD ------> 5.66 +- 5.66, and full range integral: 16.98\n",
        "(7.87 4.00 0.70 0.20): 10.97; 22.12; 16.98; 2.23; 21.01 | (0.39,0.43,0.14,0.08) (0.00,1.00,0.00,0.00)\n",
        "--------------------------------"
       ]
      },
      {
       "output_type": "stream",
       "stream": "stdout",
       "text": [
        "\n",
        "M=700 GeV ------> 7.38 +- 0.36, and full range integral: 10.35\n",
        "Mean value: 697.22, with sigma: 41.45\n",
        "Chi2=10.82, ndf=17.00, Chi2/ndf=0.64\n",
        "TTbar ------> 7.27 +- 0.75, and full range integral: 20.63\n",
        "QCD ------> 0.00 +- 0.00, and full range integral: 16.98\n",
        "(7.87 4.00 0.70 0.15): 10.35; 20.63; 16.98; 2.26; 20.44 | (0.39,0.44,0.14,0.08) (0.00,1.00,0.00,0.00)\n",
        "--------------------------------"
       ]
      },
      {
       "output_type": "stream",
       "stream": "stdout",
       "text": [
        "\n",
        "M=700 GeV ------> 7.38 +- 0.36, and full range integral: 10.52\n",
        "Mean value: 695.01, with sigma: 42.11\n",
        "Chi2=13.75, ndf=17.00, Chi2/ndf=0.81\n",
        "TTbar ------> 7.27 +- 0.75, and full range integral: 23.13\n",
        "QCD ------> 11.32 +- 8.00, and full range integral: 16.98\n",
        "(7.87 4.67 0.58 0.10): 10.52; 23.13; 16.98; 2.05; 20.30 | (0.55,0.33,0.10,0.04) (1.00,0.00,0.00,0.00)\n",
        "--------------------------------"
       ]
      },
      {
       "output_type": "stream",
       "stream": "stdout",
       "text": [
        "\n",
        "M=700 GeV ------> 7.24 +- 0.35, and full range integral: 10.37\n",
        "Mean value: 695.25, with sigma: 42.19\n",
        "Chi2=13.62, ndf=17.00, Chi2/ndf=0.80\n",
        "TTbar ------> 6.88 +- 0.73, and full range integral: 21.10\n",
        "QCD ------> 11.32 +- 8.00, and full range integral: 16.98\n",
        "(7.87 4.67 0.60 0.10): 10.37; 21.10; 16.98; 2.21; 20.40 | (0.52,0.36,0.11,0.05) (1.00,0.00,0.00,0.00)\n",
        "--------------------------------"
       ]
      },
      {
       "output_type": "stream",
       "stream": "stdout",
       "text": [
        "\n",
        "M=700 GeV ------> 7.05 +- 0.35, and full range integral: 10.01\n",
        "Mean value: 696.09, with sigma: 41.70\n",
        "Chi2=19.08, ndf=17.00, Chi2/ndf=1.12\n",
        "TTbar ------> 6.25 +- 0.70, and full range integral: 19.23\n",
        "QCD ------> 5.66 +- 5.66, and full range integral: 11.32\n",
        "(7.87 4.67 0.63 0.10): 10.01; 19.23; 11.32; 2.35; 20.22 | (0.50,0.37,0.10,0.05) (1.00,0.00,0.00,0.00)\n",
        "--------------------------------"
       ]
      },
      {
       "output_type": "stream",
       "stream": "stdout",
       "text": [
        "\n",
        "M=700 GeV ------> 7.74 +- 0.36, and full range integral: 10.74\n",
        "Mean value: 697.59, with sigma: 44.25\n",
        "Chi2=5.75, ndf=17.00, Chi2/ndf=0.34\n",
        "TTbar ------> 6.64 +- 0.72, and full range integral: 19.38\n",
        "QCD ------> 5.66 +- 5.66, and full range integral: 16.98\n",
        "(7.87 4.67 0.67 0.25): 10.74; 19.38; 16.98; 2.49; 21.14 | (0.40,0.44,0.13,0.08) (0.00,1.00,0.00,0.00)\n",
        "--------------------------------"
       ]
      },
      {
       "output_type": "stream",
       "stream": "stdout",
       "text": [
        "\n",
        "M=700 GeV ------> 7.64 +- 0.36, and full range integral: 10.47\n",
        "Mean value: 696.92, with sigma: 43.69\n",
        "Chi2=5.16, ndf=17.00, Chi2/ndf=0.30\n",
        "TTbar ------> 6.56 +- 0.72, and full range integral: 18.44\n",
        "QCD ------> 5.66 +- 5.66, and full range integral: 11.32\n",
        "(7.87 4.67 0.67 0.20): 10.47; 18.44; 11.32; 2.56; 20.95 | (0.41,0.44,0.12,0.08) (0.00,1.00,0.00,0.00)\n",
        "--------------------------------"
       ]
      },
      {
       "output_type": "stream",
       "stream": "stdout",
       "text": [
        "\n",
        "M=700 GeV ------> 8.27 +- 0.38, and full range integral: 11.93\n",
        "Mean value: 695.81, with sigma: 42.85\n",
        "Chi2=5.78, ndf=17.00, Chi2/ndf=0.34\n",
        "TTbar ------> 8.44 +- 0.81, and full range integral: 25.01\n",
        "QCD ------> 0.00 +- 0.00, and full range integral: 16.98\n",
        "(8.03 4.00 0.67 0.20): 11.93; 25.01; 16.98; 2.15; 21.78 | (0.41,0.43,0.14,0.08) (0.00,1.00,0.00,0.00)\n",
        "--------------------------------"
       ]
      },
      {
       "output_type": "stream",
       "stream": "stdout",
       "text": [
        "\n",
        "M=700 GeV ------> 8.03 +- 0.37, and full range integral: 11.24\n",
        "Mean value: 695.39, with sigma: 41.16\n",
        "Chi2=12.42, ndf=17.00, Chi2/ndf=0.73\n",
        "TTbar ------> 7.97 +- 0.79, and full range integral: 23.45\n",
        "QCD ------> 0.00 +- 0.00, and full range integral: 16.98\n",
        "(8.03 4.00 0.67 0.15): 11.24; 23.45; 16.98; 2.16; 21.16 | (0.41,0.43,0.13,0.07) (0.00,1.00,0.00,0.00)\n",
        "--------------------------------"
       ]
      },
      {
       "output_type": "stream",
       "stream": "stdout",
       "text": [
        "\n",
        "M=700 GeV ------> 7.31 +- 0.35, and full range integral: 10.09\n",
        "Mean value: 694.87, with sigma: 40.28\n",
        "Chi2=16.75, ndf=17.00, Chi2/ndf=0.99\n",
        "TTbar ------> 7.03 +- 0.74, and full range integral: 20.16\n",
        "QCD ------> 0.00 +- 0.00, and full range integral: 5.66\n",
        "(8.03 4.00 0.67 0.10): 10.09; 20.16; 5.66; 2.27; 20.20 | (0.43,0.42,0.12,0.07) (0.00,1.00,0.00,0.00)\n",
        "--------------------------------"
       ]
      },
      {
       "output_type": "stream",
       "stream": "stdout",
       "text": [
        "\n",
        "M=700 GeV ------> 7.50 +- 0.36, and full range integral: 10.71\n",
        "Mean value: 697.29, with sigma: 42.70\n",
        "Chi2=3.38, ndf=17.00, Chi2/ndf=0.20\n",
        "TTbar ------> 7.35 +- 0.76, and full range integral: 21.18\n",
        "QCD ------> 0.00 +- 0.00, and full range integral: 16.98\n",
        "(8.03 4.00 0.70 0.20): 10.71; 21.18; 16.98; 2.28; 20.82 | (0.38,0.44,0.14,0.09) (0.00,1.00,0.00,0.00)\n",
        "--------------------------------"
       ]
      },
      {
       "output_type": "stream",
       "stream": "stdout",
       "text": [
        "\n",
        "M=700 GeV ------> 7.28 +- 0.35, and full range integral: 10.11\n",
        "Mean value: 696.67, with sigma: 41.11\n",
        "Chi2=9.63, ndf=17.00, Chi2/ndf=0.57\n",
        "TTbar ------> 6.96 +- 0.74, and full range integral: 19.85\n",
        "QCD ------> 0.00 +- 0.00, and full range integral: 16.98\n",
        "(8.03 4.00 0.70 0.15): 10.11; 19.85; 16.98; 2.29; 20.25 | (0.38,0.44,0.14,0.09) (0.00,1.00,0.00,0.00)\n",
        "--------------------------------"
       ]
      },
      {
       "output_type": "stream",
       "stream": "stdout",
       "text": [
        "\n",
        "M=700 GeV ------> 7.29 +- 0.35, and full range integral: 10.32\n",
        "Mean value: 694.38, with sigma: 41.42\n",
        "Chi2=16.70, ndf=17.00, Chi2/ndf=0.98\n",
        "TTbar ------> 7.19 +- 0.75, and full range integral: 22.59\n",
        "QCD ------> 11.32 +- 8.00, and full range integral: 16.98\n",
        "(8.03 4.67 0.58 0.10): 10.32; 22.59; 16.98; 2.06; 20.11 | (0.55,0.34,0.09,0.04) (1.00,0.00,0.00,0.00)\n",
        "--------------------------------"
       ]
      },
      {
       "output_type": "stream",
       "stream": "stdout",
       "text": [
        "\n",
        "M=700 GeV ------> 7.16 +- 0.35, and full range integral: 10.16\n",
        "Mean value: 694.61, with sigma: 41.49\n",
        "Chi2=16.44, ndf=17.00, Chi2/ndf=0.97\n",
        "TTbar ------> 6.80 +- 0.73, and full range integral: 20.55\n",
        "QCD ------> 11.32 +- 8.00, and full range integral: 16.98\n",
        "(8.03 4.67 0.60 0.10): 10.16; 20.55; 16.98; 2.23; 20.21 | (0.52,0.36,0.10,0.05) (1.00,0.00,0.00,0.00)\n",
        "--------------------------------"
       ]
      },
      {
       "output_type": "stream",
       "stream": "stdout",
       "text": [
        "\n",
        "M=700 GeV ------> 7.62 +- 0.36, and full range integral: 10.52\n",
        "Mean value: 697.12, with sigma: 43.91\n",
        "Chi2=6.60, ndf=17.00, Chi2/ndf=0.39\n",
        "TTbar ------> 6.49 +- 0.71, and full range integral: 18.68\n",
        "QCD ------> 5.66 +- 5.66, and full range integral: 16.98\n",
        "(8.03 4.67 0.67 0.25): 10.52; 18.68; 16.98; 2.53; 20.96 | (0.39,0.44,0.13,0.08) (0.00,1.00,0.00,0.00)\n",
        "--------------------------------"
       ]
      },
      {
       "output_type": "stream",
       "stream": "stdout",
       "text": [
        "\n",
        "M=700 GeV ------> 7.04 +- 0.35, and full range integral: 10.25\n",
        "Mean value: 696.42, with sigma: 43.34\n",
        "Chi2=5.57, ndf=17.00, Chi2/ndf=0.33\n",
        "TTbar ------> 5.63 +- 0.66, and full range integral: 17.74\n",
        "QCD ------> 0.00 +- 0.00, and full range integral: 11.32\n",
        "(8.03 4.67 0.67 0.20): 10.25; 17.74; 11.32; 2.61; 20.77 | (0.40,0.44,0.12,0.08) (0.00,1.00,0.00,0.00)\n",
        "--------------------------------"
       ]
      },
      {
       "output_type": "stream",
       "stream": "stdout",
       "text": [
        "\n",
        "M=700 GeV ------> 8.08 +- 0.37, and full range integral: 11.67\n",
        "Mean value: 695.57, with sigma: 42.73\n",
        "Chi2=5.81, ndf=17.00, Chi2/ndf=0.34\n",
        "TTbar ------> 8.36 +- 0.81, and full range integral: 23.76\n",
        "QCD ------> 0.00 +- 0.00, and full range integral: 16.98\n",
        "(8.20 4.00 0.67 0.20): 11.67; 23.76; 16.98; 2.21; 21.64 | (0.41,0.43,0.13,0.07) (0.00,1.00,0.00,0.00)\n",
        "--------------------------------"
       ]
      },
      {
       "output_type": "stream",
       "stream": "stdout",
       "text": [
        "\n",
        "M=700 GeV ------> 7.84 +- 0.37, and full range integral: 10.98\n",
        "Mean value: 695.13, with sigma: 40.99\n",
        "Chi2=11.54, ndf=17.00, Chi2/ndf=0.68\n",
        "TTbar ------> 7.89 +- 0.79, and full range integral: 22.27\n",
        "QCD ------> 0.00 +- 0.00, and full range integral: 16.98\n",
        "(8.20 4.00 0.67 0.15): 10.98; 22.27; 16.98; 2.22; 21.01 | (0.41,0.44,0.12,0.07) (0.00,1.00,0.00,0.00)\n",
        "--------------------------------"
       ]
      },
      {
       "output_type": "stream",
       "stream": "stdout",
       "text": [
        "\n",
        "M=700 GeV ------> 7.33 +- 0.35, and full range integral: 10.47\n",
        "Mean value: 697.15, with sigma: 42.56\n",
        "Chi2=3.52, ndf=17.00, Chi2/ndf=0.21\n",
        "TTbar ------> 7.27 +- 0.75, and full range integral: 20.16\n",
        "QCD ------> 0.00 +- 0.00, and full range integral: 16.98\n",
        "(8.20 4.00 0.70 0.20): 10.47; 20.16; 16.98; 2.34; 20.67 | (0.38,0.45,0.14,0.08) (0.00,1.00,0.00,0.00)\n",
        "--------------------------------"
       ]
      },
      {
       "output_type": "stream",
       "stream": "stdout",
       "text": [
        "\n",
        "M=700 GeV ------> 7.21 +- 0.35, and full range integral: 10.18\n",
        "Mean value: 694.17, with sigma: 41.36\n",
        "Chi2=16.38, ndf=17.00, Chi2/ndf=0.96\n",
        "TTbar ------> 7.19 +- 0.75, and full range integral: 21.26\n",
        "QCD ------> 11.32 +- 8.00, and full range integral: 16.98\n",
        "(8.20 4.67 0.58 0.10): 10.18; 21.26; 16.98; 2.16; 20.13 | (0.55,0.35,0.09,0.04) (1.00,0.00,0.00,0.00)\n",
        "--------------------------------"
       ]
      },
      {
       "output_type": "stream",
       "stream": "stdout",
       "text": [
        "\n",
        "M=700 GeV ------> 7.07 +- 0.35, and full range integral: 10.02\n",
        "Mean value: 694.40, with sigma: 41.43\n",
        "Chi2=16.39, ndf=17.00, Chi2/ndf=0.96\n",
        "TTbar ------> 6.80 +- 0.73, and full range integral: 19.38\n",
        "QCD ------> 11.32 +- 8.00, and full range integral: 16.98\n",
        "(8.20 4.67 0.60 0.10): 10.02; 19.38; 16.98; 2.33; 20.21 | (0.52,0.37,0.10,0.04) (1.00,0.00,0.00,0.00)\n",
        "--------------------------------"
       ]
      },
      {
       "output_type": "stream",
       "stream": "stdout",
       "text": [
        "\n",
        "M=700 GeV ------> 7.52 +- 0.36, and full range integral: 10.35\n",
        "Mean value: 696.87, with sigma: 43.88\n",
        "Chi2=6.37, ndf=17.00, Chi2/ndf=0.37\n",
        "TTbar ------> 6.49 +- 0.71, and full range integral: 17.58\n",
        "QCD ------> 5.66 +- 5.66, and full range integral: 16.98\n",
        "(8.20 4.67 0.67 0.25): 10.35; 17.58; 16.98; 2.64; 20.92 | (0.40,0.46,0.12,0.07) (0.00,1.00,0.00,0.00)\n",
        "--------------------------------"
       ]
      },
      {
       "output_type": "stream",
       "stream": "stdout",
       "text": [
        "\n",
        "M=700 GeV ------> 6.93 +- 0.34, and full range integral: 10.09\n",
        "Mean value: 696.28, with sigma: 43.34\n",
        "Chi2=5.38, ndf=17.00, Chi2/ndf=0.32\n",
        "TTbar ------> 5.63 +- 0.66, and full range integral: 16.72\n",
        "QCD ------> 0.00 +- 0.00, and full range integral: 11.32\n",
        "(8.20 4.67 0.67 0.20): 10.09; 16.72; 11.32; 2.72; 20.74 | (0.41,0.46,0.12,0.07) (0.00,1.00,0.00,0.00)\n",
        "[[[(6.2000000000000002, 4.0, 0.67333333333333334, 0.099999999999999978), 0.0], 11.175902962684631, 9.423016011714935], [[(6.2000000000000002, 4.0, 0.69666666666666666, 0.099999999999999978), 0.0], 9.456533253192902, 8.564817786216736], [[(6.2000000000000002, 4.0, 0.71999999999999997, 0.099999999999999978), 0.0], 6.877478808164597, 7.758111596107483], [[(6.2000000000000002, 4.666666666666667, 0.64999999999999991, 0.099999999999999978), 5.659809589385986], 7.893469929695129, 8.152882695198059], [[(6.2000000000000002, 4.666666666666667, 0.67333333333333334, 0.14999999999999999), 0.0], 7.815316796302795, 8.444670021533966], [[(6.2000000000000002, 4.666666666666667, 0.67333333333333334, 0.099999999999999978), 0.0], 6.955632001161575, 7.672291815280914], [[(6.2000000000000002, 4.666666666666667, 0.69666666666666666, 0.14999999999999999), 0.0], 6.955631852149963, 7.792439341545105], [[(6.3666666666666671, 4.0, 0.67333333333333334, 0.099999999999999978), 0.0], 10.863290309906006, 9.354360103607178], [[(6.3666666666666671, 4.0, 0.69666666666666666, 0.099999999999999978), 0.0], 9.222073674201965, 8.496161818504333], [[(6.3666666666666671, 4.0, 0.71999999999999997, 0.099999999999999978), 0.0], 6.643019288778305, 7.68945574760437], [[(6.3666666666666671, 4.666666666666667, 0.64999999999999991, 0.099999999999999978), 5.659809589385986], 7.659010469913483, 8.101390898227692], [[(6.3666666666666671, 4.666666666666667, 0.67333333333333334, 0.14999999999999999), 0.0], 7.580857276916504, 8.376014173030853], [[(6.3666666666666671, 4.666666666666667, 0.67333333333333334, 0.099999999999999978), 0.0], 6.721172422170639, 7.620799958705902], [[(6.3666666666666671, 4.666666666666667, 0.69666666666666666, 0.14999999999999999), 0.0], 6.799325585365295, 7.7237836718559265], [[(6.5333333333333332, 4.0, 0.67333333333333334, 0.099999999999999978), 0.0], 10.472524464130402, 9.217048466205597], [[(6.5333333333333332, 4.0, 0.69666666666666666, 0.099999999999999978), 0.0], 8.909461081027985, 8.358850181102753], [[(6.5333333333333332, 4.0, 0.71999999999999997, 0.099999999999999978), 0.0], 6.330406606197357, 7.586471915245056], [[(6.5333333333333332, 4.666666666666667, 0.64999999999999991, 0.099999999999999978), 5.659809589385986], 7.659010469913483, 8.049898982048035], [[(6.5333333333333332, 4.666666666666667, 0.67333333333333334, 0.14999999999999999), 0.0], 7.424550950527191, 8.324522256851196], [[(6.5333333333333332, 4.666666666666667, 0.67333333333333334, 0.099999999999999978), 0.0], 6.721172422170639, 7.569308042526245], [[(6.5333333333333332, 4.666666666666667, 0.69666666666666666, 0.14999999999999999), 0.0], 6.643019318580627, 7.6722917556762695], [[(6.7000000000000002, 4.0, 0.67333333333333334, 0.099999999999999978), 0.0], 10.159911811351776, 9.079736769199371], [[(6.7000000000000002, 4.0, 0.69666666666666666, 0.099999999999999978), 0.0], 8.59684842824936, 8.221538424491882], [[(6.7000000000000002, 4.0, 0.71999999999999997, 0.099999999999999978), 0.0], 6.017793923616409, 7.466324150562286], [[(6.7000000000000002, 4.666666666666667, 0.62666666666666659, 0.099999999999999978), 11.319619178771973], 8.206082701683044, 8.273030400276184], [[(6.7000000000000002, 4.666666666666667, 0.64999999999999991, 0.099999999999999978), 5.659809589385986], 7.50270414352417, 7.964079141616821], [[(6.7000000000000002, 4.666666666666667, 0.67333333333333334, 0.20000000000000001), 5.659809589385986], 7.893469989299774, 8.444669902324677], [[(6.7000000000000002, 4.666666666666667, 0.67333333333333334, 0.14999999999999999), 0.0], 7.268244624137878, 8.204374551773071], [[(6.7000000000000002, 4.666666666666667, 0.67333333333333334, 0.099999999999999978), 0.0], 6.564866095781326, 7.483488202095032], [[(6.7000000000000002, 4.666666666666667, 0.69666666666666666, 0.20000000000000001), 11.319619178771973], 7.971623122692108, 8.29019445180893], [[(6.7000000000000002, 4.666666666666667, 0.69666666666666666, 0.14999999999999999), 0.0], 6.486713021993637, 7.5521440505981445], [[(6.7000000000000002, 4.666666666666667, 0.71999999999999997, 0.20000000000000001), 11.319619178771973], 5.939640760421753, 7.552143931388855], [[(6.8666666666666663, 4.0, 0.67333333333333334, 0.099999999999999978), 0.0], 9.690992891788483, 8.92526125907898], [[(6.8666666666666663, 4.0, 0.69666666666666666, 0.099999999999999978), 0.0], 8.2060826420784, 8.067062795162201], [[(6.8666666666666663, 4.666666666666667, 0.62666666666666659, 0.099999999999999978), 11.319619178771973], 7.815316677093506, 8.170046627521515], [[(6.8666666666666663, 4.666666666666667, 0.64999999999999991, 0.099999999999999978), 5.659809589385986], 7.111938238143921, 7.8610952496528625], [[(6.8666666666666663, 4.666666666666667, 0.67333333333333334, 0.20000000000000001), 5.659809589385986], 7.424550950527191, 8.324522197246552], [[(6.8666666666666663, 4.666666666666667, 0.67333333333333334, 0.14999999999999999), 0.0], 6.799325585365295, 8.084226787090302], [[(6.8666666666666663, 4.666666666666667, 0.67333333333333334, 0.099999999999999978), 0.0], 6.174100250005722, 7.3805044293403625], [[(6.8666666666666663, 4.666666666666667, 0.69666666666666666, 0.20000000000000001), 11.319619178771973], 7.502704173326492, 8.170046746730804], [[(6.8666666666666663, 4.666666666666667, 0.69666666666666666, 0.14999999999999999), 0.0], 6.0959471464157104, 7.43199622631073], [[(6.8666666666666663, 4.666666666666667, 0.71999999999999997, 0.20000000000000001), 11.319619178771973], 5.627028062939644, 7.431996166706085], [[(7.0333333333333332, 4.0, 0.67333333333333334, 0.099999999999999978), 0.0], 9.143920719623566, 8.80511337518692], [[(7.0333333333333332, 4.0, 0.69666666666666666, 0.099999999999999978), 0.0], 7.737163662910461, 7.9640790820121765], [[(7.0333333333333332, 4.666666666666667, 0.57999999999999996, 0.099999999999999978), 11.319619178771973], 8.596848487854004, 8.4103422164917], [[(7.0333333333333332, 4.666666666666667, 0.60333333333333328, 0.099999999999999978), 11.319619178771973], 8.127929449081421, 8.273030459880829], [[(7.0333333333333332, 4.666666666666667, 0.62666666666666659, 0.099999999999999978), 5.659809589385986], 7.502704083919525, 8.084226846694946], [[(7.0333333333333332, 4.666666666666667, 0.64999999999999991, 0.099999999999999978), 5.659809589385986], 6.79932564496994, 7.775275468826294], [[(7.0333333333333332, 4.666666666666667, 0.67333333333333334, 0.20000000000000001), 5.659809589385986], 7.111938297748566, 8.204374611377716], [[(7.0333333333333332, 4.666666666666667, 0.67333333333333334, 0.14999999999999999), 0.0], 6.48671293258667, 7.964079141616821], [[(7.0333333333333332, 4.666666666666667, 0.67333333333333334, 0.099999999999999978), 0.0], 5.861487597227097, 7.294684588909149], [[(7.0333333333333332, 4.666666666666667, 0.69666666666666666, 0.20000000000000001), 11.319619178771973], 7.190091460943222, 8.04989892244339], [[(7.0333333333333332, 4.666666666666667, 0.69666666666666666, 0.14999999999999999), 0.0], 5.78333443403244, 7.311848402023315], [[(7.1999999999999993, 4.0, 0.67333333333333334, 0.20000000000000001), 0.0], 10.86329036951065, 9.594655454158783], [[(7.1999999999999993, 4.0, 0.67333333333333334, 0.14999999999999999), 0.0], 10.238065004348755, 9.285704135894775], [[(7.1999999999999993, 4.0, 0.67333333333333334, 0.099999999999999978), 0.0], 8.987614274024963, 8.496161937713623], [[(7.1999999999999993, 4.0, 0.69666666666666666, 0.20000000000000001), 5.659809589385986], 10.550677478313446, 9.234212458133698], [[(7.1999999999999993, 4.0, 0.69666666666666666, 0.14999999999999999), 0.0], 8.831307888031006, 8.358850300312042], [[(7.1999999999999993, 4.0, 0.69666666666666666, 0.099999999999999978), 0.0], 7.580857336521149, 7.689455687999725], [[(7.1999999999999993, 4.0, 0.71999999999999997, 0.20000000000000001), 5.659809589385986], 7.5808572471141815, 8.290194511413574], [[(7.1999999999999993, 4.0, 0.71999999999999997, 0.14999999999999999), 0.0], 6.330406606197357, 7.483488202095032], [[(7.1999999999999993, 4.666666666666667, 0.57999999999999996, 0.099999999999999978), 11.319619178771973], 8.51869523525238, 8.187210500240326], [[(7.1999999999999993, 4.666666666666667, 0.60333333333333328, 0.099999999999999978), 11.319619178771973], 8.049776315689087, 8.04989892244339], [[(7.1999999999999993, 4.666666666666667, 0.62666666666666659, 0.099999999999999978), 5.659809589385986], 7.424550950527191, 7.861095368862152], [[(7.1999999999999993, 4.666666666666667, 0.64999999999999991, 0.099999999999999978), 5.659809589385986], 6.79932564496994, 7.5521439909935], [[(7.1999999999999993, 4.666666666666667, 0.67333333333333334, 0.25), 5.659809589385986], 7.971623122692108, 8.633473575115204], [[(7.1999999999999993, 4.666666666666667, 0.67333333333333334, 0.20000000000000001), 5.659809589385986], 7.893469989299774, 8.513325929641724], [[(7.1999999999999993, 4.666666666666667, 0.67333333333333334, 0.14999999999999999), 0.0], 6.48671293258667, 7.740947484970093], [[(7.1999999999999993, 4.666666666666667, 0.69666666666666666, 0.25), 5.659809589385986], 7.190091460943222, 7.981243073940277], [[(7.1999999999999993, 4.666666666666667, 0.69666666666666666, 0.20000000000000001), 5.659809589385986], 7.111938267946243, 7.861095368862152], [[(7.1999999999999993, 4.666666666666667, 0.69666666666666666, 0.14999999999999999), 0.0], 5.78333443403244, 7.123044848442078], [[(7.3666666666666663, 4.0, 0.67333333333333334, 0.20000000000000001), 0.0], 10.23806494474411, 9.302868366241455], [[(7.3666666666666663, 4.0, 0.67333333333333334, 0.14999999999999999), 0.0], 9.769146025180817, 8.993916869163513], [[(7.3666666666666663, 4.0, 0.67333333333333334, 0.099999999999999978), 0.0], 8.51869535446167, 8.255866467952728], [[(7.3666666666666663, 4.0, 0.69666666666666666, 0.20000000000000001), 5.659809589385986], 10.003605425357819, 9.028244733810425], [[(7.3666666666666663, 4.0, 0.69666666666666666, 0.14999999999999999), 0.0], 8.440542101860046, 8.152882695198059], [[(7.3666666666666663, 4.0, 0.69666666666666666, 0.099999999999999978), 0.0], 7.190091580152512, 7.517816126346588], [[(7.3666666666666663, 4.0, 0.71999999999999997, 0.20000000000000001), 5.659809589385986], 7.111938267946243, 8.101390719413757], [[(7.3666666666666663, 4.0, 0.71999999999999997, 0.14999999999999999), 0.0], 6.017793893814087, 7.294684588909149], [[(7.3666666666666663, 4.666666666666667, 0.57999999999999996, 0.099999999999999978), 11.319619178771973], 8.127929419279099, 8.049898862838745], [[(7.3666666666666663, 4.666666666666667, 0.60333333333333328, 0.099999999999999978), 11.319619178771973], 7.65901044011116, 7.912587225437164], [[(7.3666666666666663, 4.666666666666667, 0.62666666666666659, 0.099999999999999978), 5.659809589385986], 7.03378501534462, 7.7237836718559265], [[(7.3666666666666663, 4.666666666666667, 0.64999999999999991, 0.099999999999999978), 5.659809589385986], 6.4085597693920135, 7.414832234382629], [[(7.3666666666666663, 4.666666666666667, 0.67333333333333334, 0.25), 5.659809589385986], 7.5027041137218475, 8.44467008113861], [[(7.3666666666666663, 4.666666666666667, 0.67333333333333334, 0.20000000000000001), 0.0], 6.564866155385971, 7.7924394607543945], [[(7.3666666666666663, 4.666666666666667, 0.67333333333333334, 0.14999999999999999), 0.0], 6.095947057008743, 7.5521439909935], [[(7.3666666666666663, 4.666666666666667, 0.69666666666666666, 0.25), 5.659809589385986], 6.79932564496994, 7.8439313769340515], [[(7.3666666666666663, 4.666666666666667, 0.69666666666666666, 0.20000000000000001), 5.659809589385986], 6.721172451972961, 7.723783731460571], [[(7.5333333333333332, 4.0, 0.67333333333333334, 0.20000000000000001), 0.0], 10.081758618354797, 9.148392617702484], [[(7.5333333333333332, 4.0, 0.67333333333333334, 0.14999999999999999), 0.0], 9.61283963918686, 8.839441180229187], [[(7.5333333333333332, 4.0, 0.67333333333333334, 0.099999999999999978), 0.0], 8.440542161464691, 8.101390838623047], [[(7.5333333333333332, 4.0, 0.69666666666666666, 0.20000000000000001), 5.659809589385986], 9.769145905971527, 8.908096969127655], [[(7.5333333333333332, 4.0, 0.69666666666666666, 0.14999999999999999), 0.0], 8.284235715866089, 8.03273493051529], [[(7.5333333333333332, 4.0, 0.69666666666666666, 0.099999999999999978), 0.0], 7.111938446760178, 7.397668242454529], [[(7.5333333333333332, 4.0, 0.71999999999999997, 0.20000000000000001), 5.659809589385986], 6.877478778362274, 7.981243133544922], [[(7.5333333333333332, 4.666666666666667, 0.57999999999999996, 0.099999999999999978), 11.319619178771973], 8.049776285886765, 7.929751217365265], [[(7.5333333333333332, 4.666666666666667, 0.60333333333333328, 0.099999999999999978), 11.319619178771973], 7.65901044011116, 7.7924394607543945], [[(7.5333333333333332, 4.666666666666667, 0.62666666666666659, 0.099999999999999978), 5.659809589385986], 7.03378501534462, 7.603635907173157], [[(7.5333333333333332, 4.666666666666667, 0.64999999999999991, 0.099999999999999978), 5.659809589385986], 6.4085597693920135, 7.294684529304504], [[(7.5333333333333332, 4.666666666666667, 0.67333333333333334, 0.25), 5.659809589385986], 7.424550950527191, 8.307358205318451], [[(7.5333333333333332, 4.666666666666667, 0.67333333333333334, 0.20000000000000001), 5.659809589385986], 7.346397817134857, 8.204374492168427], [[(7.5333333333333332, 4.666666666666667, 0.67333333333333334, 0.14999999999999999), 0.0], 6.017793893814087, 7.43199622631073], [[(7.5333333333333332, 4.666666666666667, 0.69666666666666666, 0.25), 5.659809589385986], 6.721172481775284, 7.706619620323181], [[(7.5333333333333332, 4.666666666666667, 0.69666666666666666, 0.20000000000000001), 5.659809589385986], 6.643019288778305, 7.603635907173157], [[(7.6999999999999993, 4.0, 0.67333333333333334, 0.20000000000000001), 0.0], 9.378380179405212, 8.822277188301086], [[(7.6999999999999993, 4.0, 0.67333333333333334, 0.14999999999999999), 0.0], 8.909461200237274, 8.53048986196518], [[(7.6999999999999993, 4.0, 0.67333333333333334, 0.099999999999999978), 0.0], 7.815316796302795, 7.7924394607543945], [[(7.6999999999999993, 4.0, 0.69666666666666666, 0.20000000000000001), 5.659809589385986], 9.2220738530159, 8.599145770072937], [[(7.6999999999999993, 4.0, 0.69666666666666666, 0.14999999999999999), 0.0], 7.737163633108139, 7.758111536502838], [[(7.6999999999999993, 4.0, 0.71999999999999997, 0.20000000000000001), 5.659809589385986], 6.564866155385971, 7.723783612251282], [[(7.6999999999999993, 4.666666666666667, 0.57999999999999996, 0.099999999999999978), 11.319619178771973], 7.502704054117203, 7.723783612251282], [[(7.6999999999999993, 4.666666666666667, 0.60333333333333328, 0.099999999999999978), 11.319619178771973], 7.111938327550888, 7.586471855640411], [[(7.6999999999999993, 4.666666666666667, 0.62666666666666659, 0.099999999999999978), 5.659809589385986], 6.4867129027843475, 7.397668242454529], [[(7.6999999999999993, 4.666666666666667, 0.67333333333333334, 0.25), 5.659809589385986], 6.955631881952286, 8.084226965904236], [[(7.6999999999999993, 4.666666666666667, 0.67333333333333334, 0.20000000000000001), 5.659809589385986], 6.877478748559952, 7.981243133544922], [[(7.6999999999999993, 4.666666666666667, 0.67333333333333334, 0.14999999999999999), 0.0], 5.548874855041504, 7.226028680801392], [[(7.6999999999999993, 4.666666666666667, 0.69666666666666666, 0.25), 5.659809589385986], 6.40855972468853, 7.5006521344184875], [[(7.8666666666666663, 4.0, 0.67333333333333334, 0.20000000000000001), 0.0], 8.909461081027985, 8.410342156887054], [[(7.8666666666666663, 4.0, 0.67333333333333334, 0.14999999999999999), 0.0], 8.440542072057724, 8.152882814407349], [[(7.8666666666666663, 4.0, 0.67333333333333334, 0.099999999999999978), 0.0], 7.346397817134857, 7.414832353591919], [[(7.8666666666666663, 4.0, 0.69666666666666666, 0.20000000000000001), 5.659809589385986], 8.675001710653305, 8.187210500240326], [[(7.8666666666666663, 4.0, 0.69666666666666666, 0.14999999999999999), 0.0], 7.268244653940201, 7.380504310131073], [[(7.8666666666666663, 4.666666666666667, 0.57999999999999996, 0.099999999999999978), 11.319619178771973], 7.268244564533234, 7.380504369735718], [[(7.8666666666666663, 4.666666666666667, 0.60333333333333328, 0.099999999999999978), 11.319619178771973], 6.877478778362274, 7.243192613124847], [[(7.8666666666666663, 4.666666666666667, 0.62666666666666659, 0.099999999999999978), 5.659809589385986], 6.252253353595734, 7.05438905954361], [[(7.8666666666666663, 4.666666666666667, 0.67333333333333334, 0.25), 5.659809589385986], 6.643019288778305, 7.7409475445747375], [[(7.8666666666666663, 4.666666666666667, 0.67333333333333334, 0.20000000000000001), 5.659809589385986], 6.564866155385971, 7.637963712215424], [[(8.0333333333333332, 4.0, 0.67333333333333334, 0.20000000000000001), 0.0], 8.440542131662369, 8.273030459880829], [[(8.0333333333333332, 4.0, 0.67333333333333334, 0.14999999999999999), 0.0], 7.971623122692108, 8.032734990119934], [[(8.0333333333333332, 4.0, 0.67333333333333334, 0.099999999999999978), 0.0], 7.033785134553909, 7.3118486404418945], [[(8.0333333333333332, 4.0, 0.69666666666666666, 0.20000000000000001), 0.0], 7.34639784693718, 7.500652015209198], [[(8.0333333333333332, 4.0, 0.69666666666666666, 0.14999999999999999), 0.0], 6.95563206076622, 7.277520477771759], [[(8.0333333333333332, 4.666666666666667, 0.57999999999999996, 0.099999999999999978), 11.319619178771973], 7.190091371536255, 7.294684410095215], [[(8.0333333333333332, 4.666666666666667, 0.60333333333333328, 0.099999999999999978), 11.319619178771973], 6.799325585365295, 7.157372713088989], [[(8.0333333333333332, 4.666666666666667, 0.67333333333333334, 0.25), 5.659809589385986], 6.486712962388992, 7.62079980969429], [[(8.0333333333333332, 4.666666666666667, 0.67333333333333334, 0.20000000000000001), 0.0], 5.62702813744545, 7.037225008010864], [[(8.1999999999999993, 4.0, 0.67333333333333334, 0.20000000000000001), 0.0], 8.36238893866539, 8.084226727485657], [[(8.1999999999999993, 4.0, 0.67333333333333334, 0.14999999999999999), 0.0], 7.893469989299774, 7.843931257724762], [[(8.1999999999999993, 4.0, 0.69666666666666666, 0.20000000000000001), 0.0], 7.268244713544846, 7.329012453556061], [[(8.1999999999999993, 4.666666666666667, 0.57999999999999996, 0.099999999999999978), 11.319619178771973], 7.190091371536255, 7.208864629268646], [[(8.1999999999999993, 4.666666666666667, 0.60333333333333328, 0.099999999999999978), 11.319619178771973], 6.799325585365295, 7.071552872657776], [[(8.1999999999999993, 4.666666666666667, 0.67333333333333334, 0.25), 5.659809589385986], 6.486712962388992, 7.517816096544266], [[(8.1999999999999993, 4.666666666666667, 0.67333333333333334, 0.20000000000000001), 0.0], 5.62702813744545, 6.93424129486084]]"
       ]
      },
      {
       "output_type": "stream",
       "stream": "stdout",
       "text": [
        "\n"
       ]
      }
     ],
     "prompt_number": 19
    },
    {
     "cell_type": "code",
     "collapsed": false,
     "input": [
      "#Finding best cuts\n",
      "SoB=np.array(SoB); QCD_B=np.array(QCD_B)\n",
      "FullDiscr=SoB-QCD_B\n",
      "print \"Maximum S/B\", max(SoB), SoB.argmax(), CutsValues[SoB.argmax()]\n",
      "print \"Minimum QCD\", min(QCD_B), QCD_B.argmin(), CutsValues[QCD_B.argmax()]\n",
      "print \"Maximum S/B considering QCD\", max(FullDiscr), FullDiscr.argmax(), CutsValues[FullDiscr.argmax()]"
     ],
     "language": "python",
     "metadata": {},
     "outputs": [
      {
       "output_type": "stream",
       "stream": "stdout",
       "text": [
        "Maximum S/B 1.32076756746 41 (6.8666666666666663, 4.666666666666667, 0.71999999999999997, 0.20000000000000001)\n",
        "Minimum QCD 0.0 28 (6.2000000000000002, 4.666666666666667, 0.64999999999999991, 0.099999999999999978)\n",
        "Maximum S/B considering QCD 1.2445107949 50 (7.0333333333333332, 4.666666666666667, 0.67333333333333334, 0.099999999999999978)\n"
       ]
      }
     ],
     "prompt_number": 20
    },
    {
     "cell_type": "code",
     "collapsed": false,
     "input": [
      "#A=ListForFile\n",
      "counter=0\n",
      "for i in A:\n",
      "    if i[2]/i[1]>0.85 and i[0][-1]<6:\n",
      "        #print i, ListForFile.index(i)\n",
      "        counter+=1\n",
      "print counter"
     ],
     "language": "python",
     "metadata": {},
     "outputs": [
      {
       "output_type": "stream",
       "stream": "stdout",
       "text": [
        "232\n"
       ]
      }
     ],
     "prompt_number": 42
    },
    {
     "cell_type": "code",
     "collapsed": false,
     "input": [
      "CutM2HPCLs=ROOT.TCut(\"M2HP>7.0\")\n",
      "CutRelHTCLs=ROOT.TCut(\"RelHT>=0.65\") #\"TMath::Abs(Eta6thJ)>\",\n",
      "CutDRTp6thJCLs=ROOT.TCut(\"DRTp6thJ>4.5\")\n",
      "Eta6thJCLs=ROOT.TCut(\"TMath::Abs(Eta6thJ)>1.0\")\n",
      "CutMTHAsymCLs=ROOT.TCut(\"MTHAsym>=(0.18-0.1) && MTHAsym<=(0.18+0.1)\")\n",
      "CutsFromCLs=[ROOT.TCut(\"\"),Cut1,CutDRbb,CutDRWH,CutM2HPCLs,CutDRTp6thJCLs,CutHM,CutRelHTCLs,CutMTHAsymCLs]\n",
      "#CutsFromCLs=[ROOT.TCut(\"\"),Cut1,CutDRbb,CutDRWH,CutM2HPCLs,Eta6thJCLs,CutHM,CutRelHTCLs,CutMTHAsymCLs]\n",
      "\n",
      "OptVersion=\"_18_opt_with_chi2\"\n",
      "\n",
      "CumulCut=ROOT.TCut(\"\")\n",
      "\n",
      "Nm1 = ROOT.TFile(\"Nminus1\"+OptVersion+\".root\", \"recreate\")\n",
      "\n",
      "SignalEntriesE=[]; TTbarEntriesE=[]; QCDEntriesE=[]\n",
      "\n",
      "PDFName=\"Nminus1\"+OptVersion+\".pdf\"\n",
      "CurCanv = rootnotes.canvas(\"MyPlot\", (600, 800))\n",
      "Titles=[\"Base\",\"chi2\", \"DRbb\", \"DRWH\", \"M2HP\", \"DRTp6thJ\", \"HiggsMass\", \"RelHT\", \"MTHAsym\"]\n",
      "\n",
      "BinsLimits=\"(120,400,1600)\"\n",
      "\n",
      "for i in xrange(len(CutsFromCLs)):\n",
      "    CumulCut=CumulCut*CutsFromCLs[i]\n",
      "    \n",
      "    Sntuple.Draw(\"M5J >> M5jS_Cut\"+str(i)+BinsLimits,CumulCut)\n",
      "    M5JHS=ROOT.gDirectory.Get(\"M5jS_Cut\"+str(i))\n",
      "    M5JHS.Sumw2(); M5JHS.Scale(SWeight); M5JHS.Write()\n",
      "               \n",
      "    Tntuple.Draw(\"M5J >> M5jT_Cut\"+str(i)+BinsLimits,CumulCut)\n",
      "    M5JHT=ROOT.gDirectory.Get(\"M5jT_Cut\"+str(i))\n",
      "    M5JHT.Sumw2(); M5JHT.Scale(TWeight); M5JHT.Write()\n",
      "                \n",
      "    Qntuple.Draw(\"M5J >> M5jQ_Cut\"+str(i)+BinsLimits,CumulCut)\n",
      "    M5JHQ=ROOT.gDirectory.Get(\"M5jQ_Cut\"+str(i))\n",
      "    M5JHQ.Sumw2(); M5JHQ.Scale(QWeight); M5JHQ.Write()\n",
      "        \n",
      "    M5JHQ.SetStats(ROOT.kFALSE)\n",
      "    M5JHQ.SetLineStyle(7); M5JHT.SetLineStyle(9); M5JHS.SetLineStyle(1)\n",
      "    M5JHQ.SetLineWidth(2); M5JHT.SetLineWidth(1); M5JHS.SetLineWidth(3)\n",
      "    M5JHQ.SetLineColor(ROOT.kViolet+1); M5JHT.SetLineColor(ROOT.kRed); M5JHS.SetLineColor(ROOT.kGreen+1)\n",
      "    LEG=ROOT.TLegend(0.6,0.6,0.8,0.8)\n",
      "    LEG.AddEntry(M5JHQ, \"QCD\", \"l\"); LEG.AddEntry(M5JHT, \"TTbar\", \"l\"); LEG.AddEntry(M5JHS, \"Signal\", \"l\")\n",
      "    LEG.SetFillColor(0);\n",
      "    M5JHQ.Draw(\"hist\"); M5JHT.Draw(\"hist same\"); M5JHS.Draw(\"hist same\"); LEG.Draw()\n",
      "    \n",
      "    if i==0: CurCanv.Print(PDFName+\"(\",\"Title:\"+Titles[i])\n",
      "    elif i<=len(CutsFromCLs)-2 and i>0: CurCanv.Print(PDFName,\"Title:\"+Titles[i])\n",
      "    else: CurCanv.Print(PDFName+\")\",\"Title:\"+Titles[i])\n",
      "    \n",
      "    SignalEntriesE.append(M5JHS.GetEntries()); TTbarEntriesE.append(M5JHT.GetEntries()); QCDEntriesE.append(M5JHQ.GetEntries())\n",
      "\n",
      "Nm1.Close()\n",
      "\n",
      "print \"--------------------------------------------------\"\n",
      "print \"------------------Efficiencies--------------------\"\n",
      "print \"--------Signal------TTbar-------QCD---------------\"\n",
      "    \n",
      "for i in xrange(len(TTbarEntriesE)-1):\n",
      "    print \"Cut\"+str(i+1)+\":    {0:.2f}      {1:.2f}      {2:.2f}\".format(100*SignalEntriesE[i+1]/SignalEntriesE[i], \n",
      "                                           100*TTbarEntriesE[i+1]/TTbarEntriesE[i],\n",
      "                                           100*QCDEntriesE[i+1]/QCDEntriesE[i]) "
     ],
     "language": "python",
     "metadata": {},
     "outputs": [
      {
       "output_type": "stream",
       "stream": "stdout",
       "text": [
        "--------------------------------------------------\n",
        "------------------Efficiencies--------------------\n",
        "--------Signal------TTbar-------QCD---------------\n",
        "Cut1:    78.72      82.43      60.45\n",
        "Cut2:    86.65      41.82      41.62\n",
        "Cut3:    96.47      86.50      86.76\n",
        "Cut4:    62.72      33.22      56.65\n",
        "Cut5:    62.29      14.60      15.21\n",
        "Cut6:    84.11      48.84      28.26\n",
        "Cut7:    87.62      54.57      61.54\n",
        "Cut8:    76.89      65.91      18.75\n"
       ]
      }
     ],
     "prompt_number": 67
    },
    {
     "cell_type": "code",
     "collapsed": false,
     "input": [
      "#CutM2HPCLs=ROOT.TCut(\"M2HP>7.0\")\n",
      "#CutRelHTCLs=ROOT.TCut(\"RelHT>=0.65\") #\"TMath::Abs(Eta6thJ)>\",\n",
      "#CutDRTp6thJCLs=ROOT.TCut(\"DRTp6thJ>4.5\")\n",
      "#CutMTHAsymCLs=ROOT.TCut(\"MTHAsym>=(0.18-0.1) && MTHAsym<=(0.18+0.1)\")\n",
      "CutFCLs=Cut1*CutDRbb*CutDRWH*CutM2HPCLs*CutDRTp6thJCLs*CutHM*CutRelHTCLs*CutMTHAsymCLs\n",
      "#CutFCLs=Cut1*CutDRbb*CutDRWH*CutM2HPCLs*Eta6thJCLs*CutHM*CutRelHTCLs*CutMTHAsymCLs\n",
      "\n",
      "Masses=[600,650,700,750,800,850,900,950,1000]\n",
      "FitWindows=[100,100,100,100,100,100,150,150,150]\n",
      "MassPointsFit=[]; MassPointsSigmas=[]\n",
      "MassPointsChi2=[]; MassPointsNDF=[]\n",
      "MassPointsIntSignal=[]; MassPointsTTbar=[]; MassPointsQCD=[]\n",
      "\n",
      "BinsLimits=\"(120,400,1600)\"\n",
      "\n",
      "counter=0\n",
      "for i in xrange(len(Masses)):\n",
      "    print \"---------------------------------------------\"\n",
      "    NMassPoints[i].Draw(\"M5J >> M5jS\"+str(Masses[i])+\"_CutF\"+BinsLimits,CutFCLs)\n",
      "    M5JHS=ROOT.gDirectory.Get(\"M5jS\"+str(Masses[i])+\"_CutF\")\n",
      "    M5JHS.Sumw2(); M5JHS.Scale(NWeights[i])\n",
      "    \n",
      "    f1=ROOT.TF1(\"f1\",\"gaus\",Masses[i]-FitWindows[i],Masses[i]+FitWindows[i])\n",
      "    M5JHS.Fit(\"f1\",\"LMR\",\"same\")\n",
      "    MassPoint=f1.GetParameter(1); win=f1.GetParameter(2)\n",
      "    Chi2=f1.GetChisquare(); NDF=f1.GetNDF()\n",
      "    window_error=ROOT.Double(0.)\n",
      "    integral=M5JHS.IntegralAndError(M5JHS.GetXaxis().FindBin(MassPoint-win),M5JHS.GetXaxis().FindBin(MassPoint+win),window_error)\n",
      "    print \"M=\"+str(Masses[i])+\" GeV ------> {0:.2f}+-{1:.2f}\".format(integral,window_error)\n",
      "    print \"Mean value: {0:.2f}, with sigma: {1:.2f}\".format(MassPoint,win)\n",
      "    print \"Chi2={0:.2f}, ndf={1:.2f}, Chi2/ndf={2:.2f}\".format(Chi2, NDF, Chi2/NDF)\n",
      "    MassPointsIntSignal.append(integral); MassPointsFit.append(MassPoint); MassPointsSigmas.append(win); MassPointsChi2.append(Chi2); MassPointsNDF.append(NDF)\n",
      "\n",
      "Tntuple.Draw(\"M5J >> M5jT_CutFCLs\"+str(i)+BinsLimits,CutFCLs)\n",
      "M5JHT=ROOT.gDirectory.Get(\"M5jT_CutFCLs\"+str(i))\n",
      "M5JHT.Sumw2(); M5JHT.Scale(TWeight)\n",
      "for i in xrange(len(MassPointsFit)):\n",
      "    bkg_integral=M5JHT.IntegralAndError(M5JHT.GetXaxis().FindBin(MassPointsFit[i]-MassPointsSigmas[i]),M5JHT.GetXaxis().FindBin(MassPointsFit[i]+MassPointsSigmas[i]),window_error)\n",
      "    print \"TTbar at \"+str(Masses[i])+\" ------> {0:.2f}+-{1:.2f}\".format(bkg_integral,window_error)\n",
      "    MassPointsTTbar.append(bkg_integral)\n",
      "\n",
      "Qntuple.Draw(\"M5J >> M5jQ_CutFCLs\"+str(i)+BinsLimits,CutFCLs)\n",
      "M5JHQ=ROOT.gDirectory.Get(\"M5jQ_CutFCLs\"+str(i))\n",
      "M5JHQ.Sumw2(); M5JHQ.Scale(QWeight)\n",
      "for i in xrange(len(MassPointsFit)):\n",
      "    bkg_integral=M5JHQ.IntegralAndError(M5JHQ.GetXaxis().FindBin(MassPointsFit[i]-MassPointsSigmas[i]),M5JHQ.GetXaxis().FindBin(MassPointsFit[i]+MassPointsSigmas[i]),window_error)\n",
      "    MassPointsQCD.append(bkg_integral)\n",
      "    print \"QCD at \"+str(Masses[i])+\" ------> {0:.2f}+-{1:.2f}\".format(bkg_integral,window_error)\n",
      "    MassPointsQCD.append(bkg_integral)"
     ],
     "language": "python",
     "metadata": {},
     "outputs": [
      {
       "output_type": "stream",
       "stream": "stdout",
       "text": [
        "---------------------------------------------\n",
        "M=600 GeV ------> 3.66+-0.32\n",
        "Mean value: 611.86, with sigma: 33.78\n",
        "Chi2=3.14, ndf=17.00, Chi2/ndf=0.18\n",
        "---------------------------------------------\n",
        "M=650 GeV ------> 5.92+-0.36\n",
        "Mean value: 648.86, with sigma: 36.89\n",
        "Chi2=27.10, ndf=17.00, Chi2/ndf=1.59\n",
        "---------------------------------------------\n",
        "M=700 GeV ------> 7.19+-0.35\n",
        "Mean value: 697.16, with sigma: 41.43\n",
        "Chi2=6.47, ndf=17.00, Chi2/ndf=0.38\n",
        "---------------------------------------------\n",
        "M=750 GeV ------> 6.83+-0.31\n",
        "Mean value: 740.23, with sigma: 47.15\n",
        "Chi2=15.49, ndf=17.00, Chi2/ndf=0.91\n",
        "---------------------------------------------\n",
        "M=800 GeV ------> 6.69+-0.29\n",
        "Mean value: 789.23, with sigma: 51.29\n",
        "Chi2=31.30, ndf=17.00, Chi2/ndf=1.84\n",
        "---------------------------------------------\n",
        "M=850 GeV ------> 5.89+-0.24\n",
        "Mean value: 836.82, with sigma: 46.19\n",
        "Chi2=12.90, ndf=17.00, Chi2/ndf=0.76\n",
        "---------------------------------------------\n",
        "M=900 GeV ------> 5.05+-0.21\n",
        "Mean value: 884.26, with sigma: 50.79\n",
        "Chi2=28.90, ndf=27.00, Chi2/ndf=1.07\n",
        "---------------------------------------------\n",
        "M=950 GeV ------> 4.07+-0.18\n",
        "Mean value: 931.79, with sigma: 58.62\n",
        "Chi2=13.79, ndf=27.00, Chi2/ndf=0.51\n",
        "---------------------------------------------\n",
        "M=1000 GeV ------> 2.85+-0.14\n",
        "Mean value: 972.56, with sigma: 56.96\n",
        "Chi2=28.71, ndf=27.00, Chi2/ndf=1.06\n",
        "TTbar at 600 ------> 4.22+-0.57"
       ]
      },
      {
       "output_type": "stream",
       "stream": "stdout",
       "text": [
        "\n",
        "TTbar at 650 ------> 4.45+-0.59\n",
        "TTbar at 700 ------> 6.25+-0.70\n",
        "TTbar at 750 ------> 6.64+-0.72\n",
        "TTbar at 800 ------> 6.17+-0.69\n",
        "TTbar at 850 ------> 3.36+-0.51\n",
        "TTbar at 900 ------> 2.42+-0.44\n",
        "TTbar at 950 ------> 1.72+-0.37\n",
        "TTbar at 1000 ------> 1.09+-0.29\n",
        "QCD at 600 ------> 5.66+-5.66\n",
        "QCD at 650 ------> 11.32+-8.00\n",
        "QCD at 700 ------> 5.66+-5.66\n",
        "QCD at 750 ------> 5.66+-5.66\n",
        "QCD at 800 ------> 5.66+-5.66\n",
        "QCD at 850 ------> 0.00+-0.00\n",
        "QCD at 900 ------> 0.00+-0.00\n",
        "QCD at 950 ------> 0.00+-0.00\n",
        "QCD at 1000 ------> 0.00+-0.00\n"
       ]
      }
     ],
     "prompt_number": 56
    },
    {
     "cell_type": "code",
     "collapsed": false,
     "input": [
      "print MassPointsIntSignal, MassPointsTTbar"
     ],
     "language": "python",
     "metadata": {},
     "outputs": [
      {
       "output_type": "stream",
       "stream": "stdout",
       "text": [
        "[4.157569110393524, 6.565188407897949, 8.170046627521515, 7.692107319831848, 6.690554529428482, 6.383073806762695, 5.4544137716293335, 3.9932014644145966, 2.819637566804886] [5.62702801823616, 6.877478718757629, 8.049776285886765, 7.190091460943222, 5.392568618059158, 3.829505279660225, 2.7353609055280685, 2.0319824144244194, 1.4067570641636848]\n"
       ]
      }
     ],
     "prompt_number": 51
    },
    {
     "cell_type": "code",
     "collapsed": false,
     "input": [
      "MTHAsym2=[\"MTHAsym\",0.25,0.18]\n",
      "TopsPTAsym2=[\"TopsPTAsym\",0.15,0.0]\n",
      "PTTHAsym2=[\"PTTHAsym\",0.2,0.0]\n",
      "MTmMHdMW2=[\"MTmMHdMW\",0.7,0.6]\n",
      "T1PTdT2PT2=[\"T1PTdT2PT\",0.4,1.0]\n",
      "DPTH2=[\"DPTH\",0.4,np.pi]\n",
      "DETH2=[\"DETH\",2.0]\n",
      "\n",
      "Cut2Set=MTHAsym2\n",
      "\n",
      "CutFinal = ROOT.TCut(Cut2Set[0]+\">=\"+str(Cut2Set[2]-Cut2Set[1])+\" && \"+Cut2Set[0]+\"<=\"+str(Cut2Set[2]+Cut2Set[1]))\n",
      "SetOfCuts=[ROOT.TCut(\"\"),CutDRbb,CutDRWH,CutM2HPO,CutDRTp6thJO,CutHM,CutRelHTO,]\n",
      "CumulSetOfCuts=[]\n",
      "a=SetOfCuts[0]PDFName=\"New_Variables.pdf\"\n",
      "CurCanv = rootnotes.canvas(\"MyPlot\", (600, 800))\n",
      "for i in SetOfCuts:\n",
      "    a=a*i\n",
      "    CumulSetOfCuts.append(a)\n",
      "\n",
      "CumulSetOfCuts.append(a*CutFinal)\n",
      "    \n",
      "SignalEntriesE=[]; TTbarEntriesE=[]; QCDEntriesE=[]\n",
      "\n",
      "for i in CumulSetOfCuts:\n",
      "    Sntuple.Draw(\"M5J >> M5jS(120,400,1600)\",i)\n",
      "    M5JHS=ROOT.gDirectory.Get(\"M5jS\")\n",
      "    ROOT.gPad.Close()\n",
      "    Tntuple.Draw(\"M5J >> M5jT(120,400,1600)\",i)                        \n",
      "    M5JHT=ROOT.gDirectory.Get(\"M5jT\")\n",
      "    ROOT.gPad.Close()\n",
      "    Qntuple.Draw(\"M5J >> M5jQ(120,400,1600)\",i)                        \n",
      "    M5JHQ=ROOT.gDirectory.Get(\"M5jQ\")\n",
      "    ROOT.gPad.Close()\n",
      "    SignalEntriesE.append(M5JHS.GetEntries()); TTbarEntriesE.append(M5JHT.GetEntries()); QCDEntriesE.append(M5JHQ.GetEntries())\n",
      "    \n",
      "for i in xrange(len(TTbarEntriesE)-1):\n",
      "    print \"Efficiency on signal for cut \"+str(i+1), \"{0:.2f}\".format(100*SignalEntriesE[i+1]/SignalEntriesE[i])\n",
      "    print \"Efficiency on ttbar for cut \"+str(i+1), \"{0:.2f}\".format(100*TTbarEntriesE[i+1]/TTbarEntriesE[i])\n",
      "    print \"Efficiency on qcd for cut \"+str(i+1), \"{0:.2f}\".format(100*QCDEntriesE[i+1]/QCDEntriesE[i])\n",
      "    \n"
     ],
     "language": "python",
     "metadata": {},
     "outputs": [
      {
       "output_type": "stream",
       "stream": "stdout",
       "text": [
        "Efficiency on signal for cut 1 80.39\n",
        "Efficiency on ttbar for cut 1 39.40\n",
        "Efficiency on qcd for cut 1 34.58\n",
        "Efficiency on signal for cut 2 94.83\n",
        "Efficiency on ttbar for cut 2 85.78\n",
        "Efficiency on qcd for cut 2 85.64\n",
        "Efficiency on signal for cut 3 49.79\n",
        "Efficiency on ttbar for cut 3 23.89\n",
        "Efficiency on qcd for cut 3 42.44\n",
        "Efficiency on signal for cut 4 67.96\n",
        "Efficiency on ttbar for cut 4 20.02\n",
        "Efficiency on qcd for cut 4 20.81\n",
        "Efficiency on signal for cut 5 82.06\n",
        "Efficiency on ttbar for cut 5 45.74\n",
        "Efficiency on qcd for cut 5 28.91\n",
        "Efficiency on signal for cut 6 70.31\n",
        "Efficiency on ttbar for cut 6 33.62\n",
        "Efficiency on qcd for cut 6 37.84\n",
        "Efficiency on signal for cut 7 90.24\n",
        "Efficiency on ttbar for cut 7 82.05\n",
        "Efficiency on qcd for cut 7 35.71\n"
       ]
      }
     ],
     "prompt_number": 30
    },
    {
     "cell_type": "code",
     "collapsed": false,
     "input": [
      "f = ROOT.TFile(\"Ntuples_noabs.root\", \"recreate\")\n",
      "Sntuple.Write()\n",
      "Tntuple.Write()\n",
      "Qntuple.Write()\n",
      "f.Close()"
     ],
     "language": "python",
     "metadata": {},
     "outputs": [],
     "prompt_number": 4
    },
    {
     "cell_type": "code",
     "collapsed": false,
     "input": [
      "SignalEntriesE"
     ],
     "language": "python",
     "metadata": {},
     "outputs": [
      {
       "metadata": {},
       "output_type": "pyout",
       "prompt_number": 14,
       "text": [
        "[4407.0, 3543.0, 3360.0, 1459.0, 940.0, 757.0, 539.0]"
       ]
      }
     ],
     "prompt_number": 14
    },
    {
     "cell_type": "code",
     "collapsed": false,
     "input": [
      "def f(x): return x/3\n",
      "TryCut=ROOT.TCut(\"f(chi2)<140\")\n",
      "TryCut.Print()"
     ],
     "language": "python",
     "metadata": {},
     "outputs": [],
     "prompt_number": 16
    },
    {
     "cell_type": "code",
     "collapsed": false,
     "input": [
      "10/0.019\n",
      "(19694.471*(0.57/0.94)*0.1437/92190)*1.08*0.88*1.007\n",
      "(19700*(0.57/0.94)*0.144/90000)*1.08*0.88*1.007"
     ],
     "language": "python",
     "metadata": {},
     "outputs": [
      {
       "metadata": {},
       "output_type": "pyout",
       "prompt_number": 30,
       "text": [
        "0.018292333431829785"
       ]
      }
     ],
     "prompt_number": 30
    },
    {
     "cell_type": "code",
     "collapsed": false,
     "input": [
      "539*0.018"
     ],
     "language": "python",
     "metadata": {},
     "outputs": [
      {
       "metadata": {},
       "output_type": "pyout",
       "prompt_number": 18,
       "text": [
        "9.702"
       ]
      }
     ],
     "prompt_number": 18
    },
    {
     "cell_type": "code",
     "collapsed": false,
     "input": [
      "3360*0.4342*0.6443*0.8053*0.7120\n",
      "10./700"
     ],
     "language": "python",
     "metadata": {},
     "outputs": [
      {
       "metadata": {},
       "output_type": "pyout",
       "prompt_number": 24,
       "text": [
        "0.014285714285714285"
       ]
      }
     ],
     "prompt_number": 24
    },
    {
     "cell_type": "code",
     "collapsed": false,
     "input": [
      "(80+175.)/125"
     ],
     "language": "python",
     "metadata": {},
     "outputs": [
      {
       "metadata": {},
       "output_type": "pyout",
       "prompt_number": 6,
       "text": [
        "2.04"
       ]
      }
     ],
     "prompt_number": 6
    },
    {
     "cell_type": "code",
     "collapsed": false,
     "input": [
      "5.66*4"
     ],
     "language": "python",
     "metadata": {},
     "outputs": [
      {
       "metadata": {},
       "output_type": "pyout",
       "prompt_number": 5,
       "text": [
        "22.64"
       ]
      }
     ],
     "prompt_number": 5
    },
    {
     "cell_type": "code",
     "collapsed": false,
     "input": [],
     "language": "python",
     "metadata": {},
     "outputs": []
    }
   ],
   "metadata": {}
  }
 ]
}