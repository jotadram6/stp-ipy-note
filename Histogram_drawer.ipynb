{
 "metadata": {
  "name": ""
 },
 "nbformat": 3,
 "nbformat_minor": 0,
 "worksheets": [
  {
   "cells": [
    {
     "cell_type": "heading",
     "level": 2,
     "metadata": {},
     "source": [
      "Initial package import"
     ]
    },
    {
     "cell_type": "code",
     "collapsed": false,
     "input": [
      "import ROOT\n",
      "import numpy as np\n",
      "import matplotlib.pyplot as plt\n",
      "from array import array\n",
      "import rootnotes\n",
      "ROOT.gROOT.LoadMacro('tdrStyle.C')\n",
      "def DPHI(x):\n",
      "    if x>=np.pi: return x-2*np.pi\n",
      "    elif x<-np.pi: return x+2*np.pi\n",
      "    else: return x"
     ],
     "language": "python",
     "metadata": {},
     "outputs": [],
     "prompt_number": 2
    },
    {
     "cell_type": "heading",
     "level": 2,
     "metadata": {},
     "source": [
      "Cosmetics functions"
     ]
    },
    {
     "cell_type": "code",
     "collapsed": false,
     "input": [
      "#Style functions\n",
      "def SetAxis(Histo,Axis,TOffset,TSize,LOffset,LSize,Ndiv):\n",
      "    \"\"\"Sets offset and size of an axis in the histogram. Axis must be 'X' or 'Y', and Histo should be a valid root histogram\"\"\"\n",
      "    if Axis=='X':\n",
      "        Histo.GetXaxis().SetTitleSize(TSize)\n",
      "        Histo.GetXaxis().SetTitleOffset(TOffset)\n",
      "        Histo.GetXaxis().SetLabelSize(LSize)\n",
      "        Histo.GetXaxis().SetLabelOffset(LOffset)\n",
      "        Histo.GetXaxis().SetNdivisions(Ndiv)\n",
      "    elif Axis=='Y':\n",
      "        Histo.GetYaxis().SetTitleSize(TSize)\n",
      "        Histo.GetYaxis().SetTitleOffset(TOffset)\n",
      "        Histo.GetYaxis().SetLabelSize(LSize)\n",
      "        Histo.GetYaxis().SetLabelOffset(LOffset)\n",
      "        Histo.GetYaxis().SetNdivisions(Ndiv)\n",
      "    else: print \"Please correct axis selection: Valid values are 'X' or 'Y'\"\n",
      "def SetCos(Hist,FillColor,FillStyle,LineColor,LineWidth,LineStyle,MarkerStyle):\n",
      "    \"\"\"Hist, FillColor, FillStyle, LineColor, LineWidth, LineStyle, MarkerStyle\"\"\"\n",
      "    Hist.SetLineStyle(LineStyle); Hist.SetLineWidth(LineWidth); Hist.SetLineColor(LineColor)\n",
      "    Hist.SetFillStyle(FillStyle); Hist.SetFillColor(FillColor)\n",
      "    Hist.SetMarkerStyle(MarkerStyle)"
     ],
     "language": "python",
     "metadata": {},
     "outputs": [],
     "prompt_number": 3
    },
    {
     "cell_type": "heading",
     "level": 2,
     "metadata": {},
     "source": [
      "Histogram reader function"
     ]
    },
    {
     "cell_type": "code",
     "collapsed": false,
     "input": [
      "def HistoExtractor(Files,tree,Variable,Hname,Binning,PDFFile,weights,Normalized,Units,XaxisT,stats,cosm,LOG,leg,Cut = \"\"):\n",
      "    \"\"\"\n",
      "    Extract from each file declared on Files list\n",
      "    and from the selected tree the hisogram corresponding to\n",
      "    variable with settings given in Binning.\n",
      "    An overlay of the histograms is printed in the PDFFile.\n",
      "    A cut can be applied passing it on the Cut argument.\n",
      "    \n",
      "    cosm: [FillColor, FillStyle, LineColor, LineWidth, LineStyle, MarkerStyle] per file\n",
      "    \n",
      "    \"\"\"\n",
      "    \n",
      "    CMC=ROOT.TCut(Cut)\n",
      "    Histos=[]\n",
      "    Maxima=[]\n",
      "    for i in xrange(len(Files)):\n",
      "        Chain=ROOT.TChain(tree)\n",
      "        Chain.Add(Files[i])\n",
      "        Chain.Draw(Variable+\" >> \"+Hname[i]+Binning,CMC)\n",
      "        Histos.append(ROOT.gDirectory.Get(Hname[i]))\n",
      "        Histos[-1].Sumw2(); Histos[-1].Scale(weights[i])\n",
      "        Maxima.append(Histos[-1].GetMaximum())\n",
      "\n",
      "    ROOT.gPad.Clear()\n",
      "    \n",
      "    CurCanv1 = rootnotes.canvas(\"MyPlot\", (600, 800))\n",
      "    CurCanv1.cd(1)\n",
      "    Pad1=ROOT.TPad(\"pad1\",\"pad1\",0,0,1,1)\n",
      "    Pad1.SetBottomMargin(0.16)\n",
      "    Pad1.SetLeftMargin(0.16)\n",
      "    Pad1.Draw()\n",
      "    Pad1.cd()\n",
      "    \n",
      "    LEG=ROOT.TLegend(0.6,0.6,0.9,0.9)\n",
      "    LEG.SetFillColor(0)\n",
      "    for i in xrange(len(Files)):\n",
      "        if not stats: Histos[i].SetStats(ROOT.kFALSE)\n",
      "        MinX=float(Binning.split(\",\")[1])\n",
      "        MaxX=float(Binning.split(\",\")[-1][0:-1])\n",
      "        Nbins=int(Binning.split(\",\")[0][1:])\n",
      "        #Histos[i].SetTitle(\";\"+XaxisT[i]+\" \"+Units[i]+\";\")\n",
      "        if not Normalized: Histos[i].SetTitle(\";\"+XaxisT+\" \"+Units+\";Events/{0:.2f} \".format((MaxX-MinX)/Nbins)+Units)\n",
      "        else: Histos[i].SetTitle(\";\"+XaxisT+\" \"+Units+\";A.U.\")\n",
      "        SetAxis(Histos[i],'Y',1.45,0.05,0.007,0.05,510)\n",
      "        SetCos(Histos[i], cosm[i][0], cosm[i][1], cosm[i][2], cosm[i][3], cosm[i][4], cosm[i][5])\n",
      "        if LOG or Normalized: Histos[i].SetMinimum(0.001)\n",
      "        else: Histos[i].SetMinimum(0.0)\n",
      "        LEG.AddEntry(Histos[i], leg[i], \"l\")\n",
      "        if not Normalized: \n",
      "            Histos[i].SetMaximum(max(Maxima)*1.05)\n",
      "            if i==0: Histos[i].Draw(\"hist\")\n",
      "            else: Histos[i].Draw(\"hist same\")\n",
      "            if i==len(Files)-1: LEG.Draw()\n",
      "        else:\n",
      "            if i==0: Histos[i].DrawNormalized(\"hist\")\n",
      "            else: Histos[i].DrawNormalized(\"hist same\")\n",
      "            if i==len(Files)-1: LEG.Draw()\n",
      "    \n",
      "    CurCanv1.Print(PDFFile+\")\",\"Title:\"+Variable)\n",
      "        \n",
      "    del(Chain); del(Histos); del(CurCanv1); del(LEG); del(Maxima); del(CMC) #; del(); del(); del(); del(); del(); del();\n",
      "        "
     ],
     "language": "python",
     "metadata": {},
     "outputs": [],
     "prompt_number": 4
    },
    {
     "cell_type": "heading",
     "level": 2,
     "metadata": {},
     "source": [
      "Testing function to extract histogram"
     ]
    },
    {
     "cell_type": "code",
     "collapsed": false,
     "input": [
      "#Files,tree,Variable,Hname,Binning,PDFFile,weights,Normalized,Units,XaxisT,stats,cosm,LOG,leg,Cut = \"\"\n",
      "#Histo,Axis,TOffset,TSize,LOffset,LSize,Ndiv\n",
      "\n",
      "files=[\"/home/jruizalv/Version121/TpJetM700_5318_Full_analyzed.root\",\n",
      "       \"/home/jruizalv/Version121/TTJetsF_5318_Full_analyzed.root\"]\n",
      "Tree=\"stp\"\n",
      "Var=\"Reconstructed_Tprime.M()\"\n",
      "HistoName=[\"M5JS\",\"M5JT\"]\n",
      "bins=\"(40,400,1600)\"\n",
      "PDF=\"TestFuncM5JSignal.pdf\"\n",
      "weights=[1.0,0.017]\n",
      "Nor=True\n",
      "Uni=\"GeV/c^{2}\"\n",
      "XT=\"M(5J)\"\n",
      "ST=False\n",
      "\n",
      "SignalCos=[ROOT.kSpring,3444,ROOT.kBlack,2,1,1]\n",
      "TTbarCos=[ROOT.kRed,3345,ROOT.kBlack,1,1,1]\n",
      "Cosmetics=[SignalCos,TTbarCos]\n",
      "\n",
      "logari=True\n",
      "legend=[\"Signal\",\"TTbar\"]\n",
      "CutToApply=\"\"\n",
      "\n",
      "HistoExtractor(files,Tree,Var,HistoName,bins,PDF,weights,Nor,Uni,XT,ST,Cosmetics,logari,legend,CutToApply)"
     ],
     "language": "python",
     "metadata": {},
     "outputs": [],
     "prompt_number": 6
    },
    {
     "cell_type": "code",
     "collapsed": false,
     "input": [],
     "language": "python",
     "metadata": {},
     "outputs": []
    }
   ],
   "metadata": {}
  }
 ]
}