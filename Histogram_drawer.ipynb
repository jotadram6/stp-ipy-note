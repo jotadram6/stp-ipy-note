{
 "metadata": {
  "name": ""
 },
 "nbformat": 3,
 "nbformat_minor": 0,
 "worksheets": [
  {
   "cells": [
    {
     "cell_type": "heading",
     "level": 2,
     "metadata": {},
     "source": [
      "Initial package import"
     ]
    },
    {
     "cell_type": "code",
     "collapsed": false,
     "input": [
      "from Generic import *"
     ],
     "language": "python",
     "metadata": {},
     "outputs": [],
     "prompt_number": 1
    },
    {
     "cell_type": "heading",
     "level": 2,
     "metadata": {},
     "source": [
      "Histogram reader function"
     ]
    },
    {
     "cell_type": "code",
     "collapsed": false,
     "input": [
      "def HistoExtractor(Files,tree,Variable,Hname,Binning,PDFFile,weights,Normalized,Units,XaxisT,stats,cosm,LOG,leg,YRange,Cut = \"\"):\n",
      "    \"\"\"\n",
      "    Extract from each file declared on Files list\n",
      "    and from the selected tree the hisogram corresponding to\n",
      "    variable with settings given in Binning.\n",
      "    An overlay of the histograms is printed in the PDFFile.\n",
      "    A cut can be applied passing it on the Cut argument.\n",
      "    \n",
      "    cosm: [FillColor, FillStyle, LineColor, LineWidth, LineStyle, MarkerStyle] per file\n",
      "    \n",
      "    \"\"\"\n",
      "    \n",
      "    Rfile = ROOT.TFile(PDFFile.split(\".\")[0]+\".root\", \"recreate\")\n",
      "        \n",
      "    CMC=ROOT.TCut(Cut)\n",
      "    Histos=[]\n",
      "    Maxima=[]\n",
      "    for i in xrange(len(Files)):\n",
      "        Chain=ROOT.TChain(tree)\n",
      "        Chain.Add(Files[i])\n",
      "        Chain.Draw(Variable+\" >> \"+Hname[i]+Binning,CMC)\n",
      "        Histos.append(ROOT.gDirectory.Get(Hname[i]))\n",
      "        Histos[-1].Sumw2(); Histos[-1].Scale(weights[i])\n",
      "        Maxima.append(Histos[-1].GetMaximum())\n",
      "        Histos[-1].Write()\n",
      "\n",
      "    ROOT.gPad.Clear()\n",
      "    \n",
      "    CurCanv1 = rootnotes.canvas(\"MyPlot\", (600, 800))\n",
      "    CurCanv1.cd(1)\n",
      "    Pad1=ROOT.TPad(\"pad1\",\"pad1\",0,0,1,1)\n",
      "    Pad1.SetBottomMargin(0.16)\n",
      "    Pad1.SetLeftMargin(0.16)\n",
      "    Pad1.Draw()\n",
      "    Pad1.cd()\n",
      "    \n",
      "    LEG=ROOT.TLegend(0.6,0.6,0.9,0.9)\n",
      "    LEG.SetFillColor(0)\n",
      "    for i in xrange(len(Files)):\n",
      "        if not stats: Histos[i].SetStats(ROOT.kFALSE)\n",
      "        MinX=float(Binning.split(\",\")[1])\n",
      "        MaxX=float(Binning.split(\",\")[-1][0:-1])\n",
      "        Nbins=int(Binning.split(\",\")[0][1:])\n",
      "        #Histos[i].SetTitle(\";\"+XaxisT[i]+\" \"+Units[i]+\";\")\n",
      "        if not Normalized: Histos[i].SetTitle(\";\"+XaxisT+\" \"+Units+\";Events/{0:.2f} \".format((MaxX-MinX)/Nbins)+Units)\n",
      "        else: Histos[i].SetTitle(\";\"+XaxisT+\" \"+Units+\";A.U.\")\n",
      "        SetAxis(Histos[i],'Y',1.45,0.05,0.007,0.05,510)\n",
      "        SetCos(Histos[i], cosm[i][0], cosm[i][1], cosm[i][2], cosm[i][3], cosm[i][4], cosm[i][5])\n",
      "        #if LOG or Normalized: Histos[i].SetMinimum(0.001)\n",
      "        #else: Histos[i].SetMinimum(0.0)\n",
      "        #Histos[i].SetMinimum(0.0)\n",
      "        #if LOG: Pad1.SetLogy() \n",
      "        if len(YRange)==2: \n",
      "            Histos[i].GetYaxis().SetRangeUser(YRange[0],YRange[1])\n",
      "            #Histos[i].SetMinimum(YRange[0])\n",
      "            #Histos[i].SetMaximum(YRange[1])            \n",
      "        LEG.AddEntry(Histos[i], leg[i], \"l\")\n",
      "        if not Normalized: \n",
      "            if len(YRange)!=2: Histos[i].SetMaximum(max(Maxima)*1.05)\n",
      "            if i==0: Histos[i].Draw(\"hist\")\n",
      "            else: Histos[i].Draw(\"hist same\")\n",
      "            if i==len(Files)-1: LEG.Draw()\n",
      "        else:\n",
      "            if i==0: Histos[i].DrawNormalized(\"hist\")\n",
      "            else: Histos[i].DrawNormalized(\"hist same\")\n",
      "            if i==len(Files)-1: LEG.Draw()\n",
      "        if LOG: Pad1.SetLogy(); Pad1.RedrawAxis()\n",
      "        #if len(YRange)==2: \n",
      "        #    Histos[i].GetYaxis().SetRangeUser(YRange[0],YRange[1])\n",
      "        #    Pad1.RedrawAxis()\n",
      "    \n",
      "    CurCanv1.Print(PDFFile+\")\",\"Title:\"+Variable)\n",
      "    CurCanv1.SaveAs(PDFFile[:-4]+\".C\")\n",
      "        \n",
      "    del(Chain); del(Histos); del(CurCanv1); del(LEG); del(Maxima); del(CMC) #; del(); del(); del(); del(); del(); del();\n",
      "        "
     ],
     "language": "python",
     "metadata": {},
     "outputs": [],
     "prompt_number": 2
    },
    {
     "cell_type": "heading",
     "level": 2,
     "metadata": {},
     "source": [
      "Testing function to extract histogram"
     ]
    },
    {
     "cell_type": "code",
     "collapsed": false,
     "input": [
      "#Files,tree,Variable,Hname,Binning,PDFFile,weights,Normalized,Units,XaxisT,stats,cosm,LOG,leg,Cut = \"\"\n",
      "#Histo,Axis,TOffset,TSize,LOffset,LSize,Ndiv\n",
      "\n",
      "files=[\"/home/jruizalv/Version121/TpJetM700_5318_Full_analyzed.root\",\n",
      "       \"/home/jruizalv/Version121/TTJetsF_5318_Full_analyzed.root\"]\n",
      "Tree=\"stp\"\n",
      "Var=\"Reconstructed_Tprime.M()\"\n",
      "HistoName=[\"M5JS\",\"M5JT\"]\n",
      "bins=\"(40,400,1600)\"\n",
      "PDF=\"TestFuncM5JSignal.pdf\"\n",
      "weights=[1.0,0.017]\n",
      "Nor=True\n",
      "Uni=\"GeV/c^{2}\"\n",
      "XT=\"M(5J)\"\n",
      "ST=False\n",
      "\n",
      "SignalCos=[ROOT.kSpring,3444,ROOT.kBlack,2,1,1]\n",
      "TTbarCos=[ROOT.kRed,3345,ROOT.kBlack,1,1,1]\n",
      "Cosmetics=[SignalCos,TTbarCos]\n",
      "\n",
      "logari=True\n",
      "legend=[\"Signal\",\"TTbar\"]\n",
      "CutToApply=\"\"\n",
      "\n",
      "yrange=[]\n",
      "\n",
      "HistoExtractor(files,Tree,Var,HistoName,bins,PDF,weights,Nor,Uni,XT,ST,Cosmetics,logari,legend,yrange,CutToApply)"
     ],
     "language": "python",
     "metadata": {},
     "outputs": [],
     "prompt_number": 6
    },
    {
     "cell_type": "heading",
     "level": 2,
     "metadata": {},
     "source": [
      "Plotting Chi2"
     ]
    },
    {
     "cell_type": "code",
     "collapsed": false,
     "input": [
      "#Files,tree,Variable,Hname,Binning,PDFFile,weights,Normalized,Units,XaxisT,stats,cosm,LOG,leg,Cut = \"\"\n",
      "#Histo,Axis,TOffset,TSize,LOffset,LSize,Ndiv\n",
      "\n",
      "files=[\"/home/jruizalv/Version121/TpJetM700_5318_Full_analyzed.root\"]\n",
      "Tree=\"stp\"\n",
      "Var=\"ChiSquaredSorting\"\n",
      "HistoName=[\"Chi2S\"]\n",
      "bins=\"(40,0,1000)\"\n",
      "PDF=\"Chi2_SignalSample_Signal.pdf\"\n",
      "weights=[1.0]\n",
      "Nor=True\n",
      "Uni=\"\"\n",
      "XT=\"#chi^{2}\"\n",
      "ST=False\n",
      "\n",
      "SignalCos=[ROOT.kSpring,3444,ROOT.kBlack,2,1,1]\n",
      "Cosmetics=[SignalCos]\n",
      "\n",
      "logari=True\n",
      "legend=[\"Signal\"]\n",
      "CutToApply=\"\"\n",
      "\n",
      "yrange=[1,10000]\n",
      "\n",
      "HistoExtractor(files,Tree,Var,HistoName,bins,PDF,weights,Nor,Uni,XT,ST,Cosmetics,logari,legend,yrange,CutToApply)"
     ],
     "language": "python",
     "metadata": {},
     "outputs": [],
     "prompt_number": 13
    },
    {
     "cell_type": "code",
     "collapsed": false,
     "input": [
      "#Files,tree,Variable,Hname,Binning,PDFFile,weights,Normalized,Units,XaxisT,stats,cosm,LOG,leg,Cut = \"\"\n",
      "#Histo,Axis,TOffset,TSize,LOffset,LSize,Ndiv\n",
      "\n",
      "files=[\"/home/jruizalv/Version121/TpJetM700_5318_Full_analyzed.root\"]\n",
      "Tree=\"stp\"\n",
      "HiggsChi2=\"(((Reconstructed_Higgs.M()-125)*(Reconstructed_Higgs.M()-125))/((12.4)*(12.4)))\"\n",
      "WChi2=\"(((Reconstructed_W.M()-84.06)*(Reconstructed_W.M()-84.06))/((10.12)*(10.12)))\"\n",
      "TopChi2=\"(((Reconstructed_Top.M()-175.16)*(Reconstructed_Top.M()-175.16))/((17.35)*(17.35)))\"\n",
      "Var=HiggsChi2+\" + \"+WChi2+\" + \"+TopChi2\n",
      "HistoName=[\"Chi2S\"]\n",
      "bins=\"(40,0,1000)\"\n",
      "PDF=\"Chi2_SignalSampleCheck_Signal.pdf\"\n",
      "weights=[1.0]\n",
      "Nor=True\n",
      "Uni=\"\"\n",
      "XT=\"#chi^{2}\"\n",
      "ST=False\n",
      "\n",
      "SignalCos=[ROOT.kSpring,3444,ROOT.kBlack,2,1,1]\n",
      "Cosmetics=[SignalCos]\n",
      "\n",
      "logari=True\n",
      "legend=[\"Signal\"]\n",
      "CutToApply=\"\"\n",
      "\n",
      "yrange=[1,10000]\n",
      "\n",
      "HistoExtractor(files,Tree,Var,HistoName,bins,PDF,weights,Nor,Uni,XT,ST,Cosmetics,logari,legend,yrange,CutToApply)"
     ],
     "language": "python",
     "metadata": {},
     "outputs": [],
     "prompt_number": 14
    },
    {
     "cell_type": "code",
     "collapsed": false,
     "input": [
      "/home/jruizalv/Fireworks/cmsShow-5.3/lib/libFWCoreFWLite.so#Files,tree,Variable,Hname,Binning,PDFFile,weights,Normalized,Units,XaxisT,stats,cosm,LOG,leg,Cut = \"\"\n",
      "#Histo,Axis,TOffset,TSize,LOffset,LSize,Ndiv\n",
      "\n",
      "files=[\"/home/jruizalv/Version121/TpJetM700_5318_Full_analyzed.root\"]\n",
      "Tree=\"stp3LNC\"\n",
      "Var=\"HiggsChi2+TopChi2\"\n",
      "HistoName=[\"Chi2S\"]\n",
      "bins=\"(40,0,1000)\"\n",
      "PDF=\"Chi2_ControlSample_Signal.pdf\"\n",
      "weights=[1.0]\n",
      "Nor=True\n",
      "Uni=\"\"\n",
      "XT=\"#chi^{2}\"\n",
      "ST=False\n",
      "\n",
      "SignalCos=[ROOT.kSpring,3444,ROOT.kBlack,2,1,1]\n",
      "Cosmetics=[SignalCos]\n",
      "\n",
      "logari=True\n",
      "legend=[\"Signal\"]\n",
      "CutToApply=\"\"\n",
      "\n",
      "yrange=[1000,100000]\n",
      "\n",
      "HistoExtractor(files,Tree,Var,HistoName,bins,PDF,weights,Nor,Uni,XT,ST,Cosmetics,logari,legend,yrange,CutToApply)"
     ],
     "language": "python",
     "metadata": {},
     "outputs": [],
     "prompt_number": 9
    },
    {
     "cell_type": "code",
     "collapsed": false,
     "input": [
      "#Files,tree,Variable,Hname,Binning,PDFFile,weights,Normalized,Units,XaxisT,stats,cosm,LOG,leg,Cut = \"\"\n",
      "#Histo,Axis,TOffset,TSize,LOffset,LSize,Ndiv\n",
      "\n",
      "files=[\"/home/jruizalv/Version121/TpJetM700_5318_Full_analyzed.root\"]\n",
      "Tree=\"stp3LNC\"\n",
      "HiggsChi2=\"(((Reconstructed_Higgs3L.M()-125)*(Reconstructed_Higgs3L.M()-125))/((12.4)*(12.4)))\"\n",
      "WChi2=\"(((Reconstructed_W3L.M()-84.06)*(Reconstructed_W3L.M()-84.06))/((10.12)*(10.12)))\"\n",
      "TopChi2=\"(((Reconstructed_Top3L.M()-175.16)*(Reconstructed_Top3L.M()-175.16))/((17.35)*(17.35)))\"\n",
      "Var=HiggsChi2+\" + \"+WChi2+\" + \"+TopChi2\n",
      "HistoName=[\"Chi2S\"]\n",
      "bins=\"(40,0,1000)\"\n",
      "PDF=\"Chi2_ControlSampleCheck_Signal.pdf\"\n",
      "weights=[1.0]\n",
      "Nor=True\n",
      "Uni=\"\"\n",
      "XT=\"#chi^{2}\"\n",
      "ST=False\n",
      "\n",
      "SignalCos=[ROOT.kSpring,3444,ROOT.kBlack,2,1,1]\n",
      "Cosmetics=[SignalCos]\n",
      "\n",
      "logari=True\n",
      "legend=[\"Signal\"]\n",
      "CutToApply=\"\"\n",
      "\n",
      "yrange=[1000,100000]\n",
      "\n",
      "HistoExtractor(files,Tree,Var,HistoName,bins,PDF,weights,Nor,Uni,XT,ST,Cosmetics,logari,legend,yrange,CutToApply)"
     ],
     "language": "python",
     "metadata": {},
     "outputs": [],
     "prompt_number": 15
    },
    {
     "cell_type": "code",
     "collapsed": false,
     "input": [
      "a=\"TestFuncM5JSignal.pdf\"\n",
      "print a[:-4]"
     ],
     "language": "python",
     "metadata": {},
     "outputs": [
      {
       "output_type": "stream",
       "stream": "stdout",
       "text": [
        "TestFuncM5JSignal\n"
       ]
      }
     ],
     "prompt_number": 1
    },
    {
     "cell_type": "heading",
     "level": 4,
     "metadata": {},
     "source": [
      "Plotting BR's"
     ]
    },
    {
     "cell_type": "code",
     "collapsed": false,
     "input": [
      "#Files,tree,Variable,Hname,Binning,PDFFile,weights,Normalized,Units,XaxisT,stats,cosm,LOG,leg,Cut = \"\"\n",
      "#Histo,Axis,TOffset,TSize,LOffset,LSize,Ndiv\n",
      "\n",
      "files=[\"/home/jruizalv/V1/TpJetM600_5318_Full_analyzed.root\",\"/home/jruizalv/V1/TpJetM650_5318_Full_analyzed.root\",\"/home/jruizalv/V1/TpJetM700_5318_Full_analyzed.root\",\"/home/jruizalv/V1/TpJetM750_5318_Full_analyzed.root\",\"/home/jruizalv/V1/TpJetM800_5318_Full_analyzed.root\",\"/home/jruizalv/V1/TpJetM850_5318_Full_analyzed.root\",\"/home/jruizalv/V1/TpJetM900_5318_Full_analyzed.root\",\"/home/jruizalv/V1/TpJetM950_5318_Full_analyzed.root\",\"/home/jruizalv/V1/TpJetM1000_5318_Full_analyzed.root\"]\n",
      "Tree=\"cuts\"\n",
      "Var=\"HiggsProductsBT\"\n",
      "HistoName=[\"\"]\n",
      "bins=\"(30,0,30)\"\n",
      "PDF=\"BrachingRatios_\"\n",
      "weights=[1.0]\n",
      "Nor=True\n",
      "Uni=\"\"\n",
      "XT=\"Higgs Channels\"\n",
      "ST=False\n",
      "\n",
      "SignalCos=[ROOT.kSpring,3444,ROOT.kBlack,2,1,1]\n",
      "Cosmetics=[SignalCos]\n",
      "\n",
      "logari=False\n",
      "legend=[\"Signal600\",\"Signal650\",\"Signal700\",\"Signal750\",\"Signal800\",\"Signal850\",\"Signal900\",\"Signal950\",\"Signal1000\"]\n",
      "CutToApply=\"\"\n",
      "\n",
      "yrange=[]\n",
      "for i in xrange(len(files)):\n",
      "    HistoExtractor([files[i]],Tree,Var,HistoName,bins,PDF+legend[i]+\".pdf\",weights,Nor,Uni,XT,ST,Cosmetics,logari,[legend[i]],yrange,CutToApply)"
     ],
     "language": "python",
     "metadata": {},
     "outputs": [],
     "prompt_number": 3
    },
    {
     "cell_type": "heading",
     "level": 2,
     "metadata": {},
     "source": [
      "GEN Width Extractor"
     ]
    },
    {
     "cell_type": "code",
     "collapsed": false,
     "input": [
      "ROOT.gSystem.Load(\"/home/jruizalv/Fireworks/cmsShow-5.3/lib/libFWCoreFWLite.so\")\n",
      "ROOT.AutoLibraryLoader.enable()\n",
      "\n",
      "M600=\"/home/jruizalv/SignalGENWidth/M600_PAT.root\"\n",
      "M650=\"/home/jruizalv/SignalGENWidth/M650_PAT.root\"\n",
      "M700=\"/home/jruizalv/SignalGENWidth/M700_PAT.root\"\n",
      "M750=\"/home/jruizalv/SignalGENWidth/M750_PAT.root\"\n",
      "M800=\"/home/jruizalv/SignalGENWidth/M800_PAT.root\"\n",
      "M850=\"/home/jruizalv/SignalGENWidth/M850_PAT.root\"\n",
      "M900=\"/home/jruizalv/SignalGENWidth/M900_PAT.root\"\n",
      "M950=\"/home/jruizalv/SignalGENWidth/M950_PAT.root\"\n",
      "M1000=\"/home/jruizalv/SignalGENWidth/M1000_PAT.root\"\n",
      "\n",
      "files=[M600,M650,M700,M750,M800,M850,M900,M950,M1000]\n",
      "\n",
      "Tree=\"Events\"\n",
      "Var=\"recoGenParticles_genParticles__SIM.obj.mass()\"\n",
      "HistoName=[\"M5JS\"]\n",
      "bins=\"(800,400,1200)\"\n",
      "PDF=\"GEN__Widths.pdf\"\n",
      "weights=[1.0]\n",
      "Nor=False\n",
      "Uni=\"GeV/c^{2}\"\n",
      "XT=\"M(t')\"\n",
      "ST=False\n",
      "    \n",
      "SignalCos=[ROOT.kSpring,3444,ROOT.kBlack,2,1,1]\n",
      "Cosmetics=[SignalCos]\n",
      "    \n",
      "logari=False\n",
      "legend=[\"M600\",\"M650\",\"M700\",\"M750\",\"M800\",\"M850\",\"M900\",\"M950\",\"M1000\"]\n",
      "CutToApply=\"((recoGenParticles_genParticles__SIM.obj.pdgId()==6000006) || (recoGenParticles_genParticles__SIM.obj.pdgId()==-6000006)) && (recoGenParticles_genParticles__SIM.obj.status()==3)\"\n",
      "    \n",
      "for i in xrange(len(files)):\n",
      "    HistoExtractor([files[i]],Tree,Var,HistoName,bins,PDF.split(\"_\")[0]+legend[i]+PDF.split(\"_\")[1],weights,Nor,Uni,XT,ST,Cosmetics,logari,[legend[i]],CutToApply)"
     ],
     "language": "python",
     "metadata": {},
     "outputs": [
      {
       "ename": "RuntimeError",
       "evalue": "(file \"/home/jruizalv/Fireworks/cmsShow-5.3/lib/libFWCoreFWLite.so\", line -1) Failed to load Dynamic link library /home/jruizalv/Fireworks/cmsShow-5.3/lib/libFWCoreFWLite.so",
       "output_type": "pyerr",
       "traceback": [
        "\u001b[1;31m---------------------------------------------------------------------------\u001b[0m\n\u001b[1;31mRuntimeError\u001b[0m                              Traceback (most recent call last)",
        "\u001b[1;32m<ipython-input-4-7d0857778146>\u001b[0m in \u001b[0;36m<module>\u001b[1;34m()\u001b[0m\n\u001b[1;32m----> 1\u001b[1;33m \u001b[0mROOT\u001b[0m\u001b[1;33m.\u001b[0m\u001b[0mgSystem\u001b[0m\u001b[1;33m.\u001b[0m\u001b[0mLoad\u001b[0m\u001b[1;33m(\u001b[0m\u001b[1;34m\"/home/jruizalv/Fireworks/cmsShow-5.3/lib/libFWCoreFWLite\"\u001b[0m\u001b[1;33m)\u001b[0m\u001b[1;33m\u001b[0m\u001b[0m\n\u001b[0m\u001b[0;32m      2\u001b[0m \u001b[0mROOT\u001b[0m\u001b[1;33m.\u001b[0m\u001b[0mAutoLibraryLoader\u001b[0m\u001b[1;33m.\u001b[0m\u001b[0menable\u001b[0m\u001b[1;33m(\u001b[0m\u001b[1;33m)\u001b[0m\u001b[1;33m\u001b[0m\u001b[0m\n\u001b[0;32m      3\u001b[0m \u001b[1;33m\u001b[0m\u001b[0m\n\u001b[0;32m      4\u001b[0m \u001b[0mM600\u001b[0m\u001b[1;33m=\u001b[0m\u001b[1;34m\"/home/jruizalv/SignalGENWidth/M600_PAT.root\"\u001b[0m\u001b[1;33m\u001b[0m\u001b[0m\n\u001b[0;32m      5\u001b[0m \u001b[0mM650\u001b[0m\u001b[1;33m=\u001b[0m\u001b[1;34m\"/home/jruizalv/SignalGENWidth/M650_PAT.root\"\u001b[0m\u001b[1;33m\u001b[0m\u001b[0m\n",
        "\u001b[1;31mRuntimeError\u001b[0m: (file \"/home/jruizalv/Fireworks/cmsShow-5.3/lib/libFWCoreFWLite.so\", line -1) Failed to load Dynamic link library /home/jruizalv/Fireworks/cmsShow-5.3/lib/libFWCoreFWLite.so"
       ]
      }
     ],
     "prompt_number": 4
    },
    {
     "cell_type": "heading",
     "level": 1,
     "metadata": {},
     "source": [
      "Histo Drawer"
     ]
    },
    {
     "cell_type": "code",
     "collapsed": false,
     "input": [
      "from HstoDrawerFromHistoFile import *"
     ],
     "language": "python",
     "metadata": {},
     "outputs": [],
     "prompt_number": 1
    },
    {
     "cell_type": "heading",
     "level": 3,
     "metadata": {},
     "source": [
      "Drawing eta of objects"
     ]
    },
    {
     "cell_type": "code",
     "collapsed": false,
     "input": [
      "Base=\"/home/jruizalv/OutOfDropbox/CutsOptimization/PyScripts/\"\n",
      "\n",
      "F1=[\"First_Higgs_Jet_Eta_Signal.root\", \"Second_Higgs_Jet_Eta_Signal.root\", \"First_W_Jet_Eta_Signal.root\", \"Second_W_Jet_Eta_Signal.root\", \"Top_Jet_Eta_Signal.root\", \"Reconstructed_Higgs_Eta_Signal.root\", \"Reconstructed_W_Eta_Signal.root\", \"Reconstructed_Top_Eta_Signal.root\", \"Reconstructed_Tprime_Eta_Signal.root\", \"Jet6th_Eta_Signal.root\", \"jet1_eta_Signal.root\", \"jet2_eta_Signal.root\", \"jet3_eta_Signal.root\", \"jet4_eta_Signal.root\", \"jet5_eta_Signal.root\", \"jet6_eta_Signal.root\"]\n",
      "#F1=[\"First_Higgs_Jet_Eta_Signal.root\", \"Second_Higgs_Jet_Eta_Signal.root\", \"First_W_Jet_Eta_Signal.root\", \"Second_W_Jet_Eta_Signal.root\", \"Top_Jet_Eta_Signal.root\", \"Reconstructed_Higgs_Eta_Signal.root\", \"Reconstructed_W_Eta_Signal.root\", \"Reconstructed_Top_Eta_Signal.root\", \"Reconstructed_Tprime_Eta_Signal.root\", \"Jet6th_Eta_Signal.root\"]\n",
      "\n",
      "files=[]\n",
      "for i in F1: files.append(Base+i)\n",
      "\n",
      "Masses=[\"600\",\"650\",\"700\",\"750\",\"800\",\"850\",\"900\",\"950\",\"1000\"]\n",
      "HistoName=[]\n",
      "for i in F1:\n",
      "    A=[]\n",
      "    for j in Masses:\n",
      "        A.append(i.split(\"Signal\")[0]+j)\n",
      "    HistoName.append(A)\n",
      "Rebin=2\n",
      "PDF=\"Eta_Checks_Signal.pdf\"\n",
      "weights=[1.0, 1.0, 1.0, 1.0, 1.0, 1.0, 1.0, 1.0, 1.0]\n",
      "Nor=True\n",
      "Uni=\"\"\n",
      "XT=[\"#eta(b_{1}^{H})\", \"#eta(b_{2}^{H})\", \"#eta(j_{1}^{W})\", \"#eta(j_{2}^{W})\", \"#eta(b^{t})\", \"#eta(H)\", \"#eta(W)\", \"#eta(t)\", \"#eta(Tp)\", \"#eta(j^{6th})\", \"#eta(j_{1})\", \"#eta(j_{2})\", \"#eta(j_{3})\", \"#eta(j_{4})\", \"#eta(j_{5})\", \"#eta(j_{6})\"] #same len of F1\n",
      "ST=False\n",
      "    \n",
      "Cos=[ROOT.kWhite,0,ROOT.kBlack,2,1,1]\n",
      "Cosmetics=[]\n",
      "FullXT=[]\n",
      "for i in F1:\n",
      "    for j in Masses:\n",
      "        Cosmetics.append(Cos)\n",
      "        FullXT.append(XT[F1.index(i)])\n",
      "        \n",
      "logari=False\n",
      "legend=[\"M(T') = 600 GeV/c^2\", \"M(T') = 650 GeV/c^2\", \"M(T') = 700 GeV/c^2\", \"M(T') = 750 GeV/c^2\", \"M(T') = 800 GeV/c^2\", \"M(T') = 850 GeV/c^2\", \"M(T') = 900 GeV/c^2\", \"M(T') = 950 GeV/c^2\", \"M(T') = 1000 GeV/c^2\"]\n",
      "Leg=[]\n",
      "for i in F1:\n",
      "    for j in Masses:\n",
      "        Leg.append(legend[Masses.index(j)])\n",
      "\n",
      "yrange=[]\n",
      "    \n",
      "HistoDrawer(files,HistoName,Rebin,PDF,weights,Nor,Uni,FullXT,ST,Cosmetics,logari,Leg,yrange)"
     ],
     "language": "python",
     "metadata": {},
     "outputs": [
      {
       "output_type": "stream",
       "stream": "stdout",
       "text": [
        "Entries for  First_Higgs_Jet_Eta_600 in  /home/jruizalv/OutOfDropbox/CutsOptimization/PyScripts/First_Higgs_Jet_Eta_Signal.root : 3644.0\n",
        "Entries for  First_Higgs_Jet_Eta_650 in  /home/jruizalv/OutOfDropbox/CutsOptimization/PyScripts/First_Higgs_Jet_Eta_Signal.root : 4598.0\n",
        "Entries for  First_Higgs_Jet_Eta_700 in  /home/jruizalv/OutOfDropbox/CutsOptimization/PyScripts/First_Higgs_Jet_Eta_Signal.root : 5453.0\n",
        "Entries for  First_Higgs_Jet_Eta_750 in  /home/jruizalv/OutOfDropbox/CutsOptimization/PyScripts/First_Higgs_Jet_Eta_Signal.root : 5918.0\n",
        "Entries for  First_Higgs_Jet_Eta_800 in  /home/jruizalv/OutOfDropbox/CutsOptimization/PyScripts/First_Higgs_Jet_Eta_Signal.root : 5924.0\n",
        "Entries for  First_Higgs_Jet_Eta_850 in  /home/jruizalv/OutOfDropbox/CutsOptimization/PyScripts/First_Higgs_Jet_Eta_Signal.root : 6240.0\n",
        "Entries for  First_Higgs_Jet_Eta_900 in  /home/jruizalv/OutOfDropbox/CutsOptimization/PyScripts/First_Higgs_Jet_Eta_Signal.root : 6152.0\n",
        "Entries for  First_Higgs_Jet_Eta_950 in  /home/jruizalv/OutOfDropbox/CutsOptimization/PyScripts/First_Higgs_Jet_Eta_Signal.root : 5679.0\n",
        "Entries for  First_Higgs_Jet_Eta_1000 in  /home/jruizalv/OutOfDropbox/CutsOptimization/PyScripts/First_Higgs_Jet_Eta_Signal.root : 5379.0\n",
        "Entries for  Second_Higgs_Jet_Eta_600 in  /home/jruizalv/OutOfDropbox/CutsOptimization/PyScripts/Second_Higgs_Jet_Eta_Signal.root : 3644.0\n",
        "Entries for  Second_Higgs_Jet_Eta_650 in  /home/jruizalv/OutOfDropbox/CutsOptimization/PyScripts/Second_Higgs_Jet_Eta_Signal.root : 4598.0\n",
        "Entries for  Second_Higgs_Jet_Eta_700 in  /home/jruizalv/OutOfDropbox/CutsOptimization/PyScripts/Second_Higgs_Jet_Eta_Signal.root : 5453.0\n",
        "Entries for  Second_Higgs_Jet_Eta_750 in  /home/jruizalv/OutOfDropbox/CutsOptimization/PyScripts/Second_Higgs_Jet_Eta_Signal.root : 5918.0\n",
        "Entries for  Second_Higgs_Jet_Eta_800 in  /home/jruizalv/OutOfDropbox/CutsOptimization/PyScripts/Second_Higgs_Jet_Eta_Signal.root : 5924.0\n",
        "Entries for  Second_Higgs_Jet_Eta_850 in  /home/jruizalv/OutOfDropbox/CutsOptimization/PyScripts/Second_Higgs_Jet_Eta_Signal.root : 6240.0\n",
        "Entries for  Second_Higgs_Jet_Eta_900 in  /home/jruizalv/OutOfDropbox/CutsOptimization/PyScripts/Second_Higgs_Jet_Eta_Signal.root : 6152.0\n",
        "Entries for  Second_Higgs_Jet_Eta_950 in  /home/jruizalv/OutOfDropbox/CutsOptimization/PyScripts/Second_Higgs_Jet_Eta_Signal.root : 5679.0\n",
        "Entries for  Second_Higgs_Jet_Eta_1000 in  /home/jruizalv/OutOfDropbox/CutsOptimization/PyScripts/Second_Higgs_Jet_Eta_Signal.root : 5379.0\n",
        "Entries for  First_W_Jet_Eta_600 in  /home/jruizalv/OutOfDropbox/CutsOptimization/PyScripts/First_W_Jet_Eta_Signal.root : 3644.0\n",
        "Entries for  First_W_Jet_Eta_650 in  /home/jruizalv/OutOfDropbox/CutsOptimization/PyScripts/First_W_Jet_Eta_Signal.root : 4598.0\n",
        "Entries for  First_W_Jet_Eta_700 in  /home/jruizalv/OutOfDropbox/CutsOptimization/PyScripts/First_W_Jet_Eta_Signal.root : 5453.0\n",
        "Entries for  First_W_Jet_Eta_750 in  /home/jruizalv/OutOfDropbox/CutsOptimization/PyScripts/First_W_Jet_Eta_Signal.root : 5918.0\n",
        "Entries for  First_W_Jet_Eta_800 in  /home/jruizalv/OutOfDropbox/CutsOptimization/PyScripts/First_W_Jet_Eta_Signal.root : 5924.0\n",
        "Entries for  First_W_Jet_Eta_850 in  /home/jruizalv/OutOfDropbox/CutsOptimization/PyScripts/First_W_Jet_Eta_Signal.root : 6240.0\n",
        "Entries for  First_W_Jet_Eta_900 in  /home/jruizalv/OutOfDropbox/CutsOptimization/PyScripts/First_W_Jet_Eta_Signal.root : 6152.0\n",
        "Entries for  First_W_Jet_Eta_950 in  /home/jruizalv/OutOfDropbox/CutsOptimization/PyScripts/First_W_Jet_Eta_Signal.root : 5679.0\n",
        "Entries for  First_W_Jet_Eta_1000 in  /home/jruizalv/OutOfDropbox/CutsOptimization/PyScripts/First_W_Jet_Eta_Signal.root : 5379.0\n",
        "Entries for  Second_W_Jet_Eta_600 in  /home/jruizalv/OutOfDropbox/CutsOptimization/PyScripts/Second_W_Jet_Eta_Signal.root : 3644.0\n",
        "Entries for  Second_W_Jet_Eta_650 in  /home/jruizalv/OutOfDropbox/CutsOptimization/PyScripts/Second_W_Jet_Eta_Signal.root : 4598.0\n",
        "Entries for  Second_W_Jet_Eta_700 in  /home/jruizalv/OutOfDropbox/CutsOptimization/PyScripts/Second_W_Jet_Eta_Signal.root : 5453.0\n",
        "Entries for  Second_W_Jet_Eta_750 in  /home/jruizalv/OutOfDropbox/CutsOptimization/PyScripts/Second_W_Jet_Eta_Signal.root : 5918.0\n",
        "Entries for  Second_W_Jet_Eta_800 in  /home/jruizalv/OutOfDropbox/CutsOptimization/PyScripts/Second_W_Jet_Eta_Signal.root : 5924.0\n",
        "Entries for  Second_W_Jet_Eta_850 in  /home/jruizalv/OutOfDropbox/CutsOptimization/PyScripts/Second_W_Jet_Eta_Signal.root : 6240.0\n",
        "Entries for  Second_W_Jet_Eta_900 in  /home/jruizalv/OutOfDropbox/CutsOptimization/PyScripts/Second_W_Jet_Eta_Signal.root : 6152.0\n",
        "Entries for  Second_W_Jet_Eta_950 in  /home/jruizalv/OutOfDropbox/CutsOptimization/PyScripts/Second_W_Jet_Eta_Signal.root : 5679.0\n",
        "Entries for  Second_W_Jet_Eta_1000 in  /home/jruizalv/OutOfDropbox/CutsOptimization/PyScripts/Second_W_Jet_Eta_Signal.root : 5379.0\n",
        "Entries for  Top_Jet_Eta_600 in  /home/jruizalv/OutOfDropbox/CutsOptimization/PyScripts/Top_Jet_Eta_Signal.root : 3644.0\n",
        "Entries for  Top_Jet_Eta_650 in  /home/jruizalv/OutOfDropbox/CutsOptimization/PyScripts/Top_Jet_Eta_Signal.root : 4598.0\n",
        "Entries for  Top_Jet_Eta_700 in  /home/jruizalv/OutOfDropbox/CutsOptimization/PyScripts/Top_Jet_Eta_Signal.root : 5453.0\n",
        "Entries for  Top_Jet_Eta_750 in  /home/jruizalv/OutOfDropbox/CutsOptimization/PyScripts/Top_Jet_Eta_Signal.root : 5918.0\n",
        "Entries for  Top_Jet_Eta_800 in  /home/jruizalv/OutOfDropbox/CutsOptimization/PyScripts/Top_Jet_Eta_Signal.root : 5924.0\n",
        "Entries for  Top_Jet_Eta_850 in  /home/jruizalv/OutOfDropbox/CutsOptimization/PyScripts/Top_Jet_Eta_Signal.root : 6240.0\n",
        "Entries for  Top_Jet_Eta_900 in  /home/jruizalv/OutOfDropbox/CutsOptimization/PyScripts/Top_Jet_Eta_Signal.root : 6152.0\n",
        "Entries for  Top_Jet_Eta_950 in  /home/jruizalv/OutOfDropbox/CutsOptimization/PyScripts/Top_Jet_Eta_Signal.root : 5679.0\n",
        "Entries for  Top_Jet_Eta_1000 in  /home/jruizalv/OutOfDropbox/CutsOptimization/PyScripts/Top_Jet_Eta_Signal.root : 5379.0\n",
        "Entries for  Reconstructed_Higgs_Eta_600 in  /home/jruizalv/OutOfDropbox/CutsOptimization/PyScripts/Reconstructed_Higgs_Eta_Signal.root : 3644.0\n",
        "Entries for  Reconstructed_Higgs_Eta_650 in  /home/jruizalv/OutOfDropbox/CutsOptimization/PyScripts/Reconstructed_Higgs_Eta_Signal.root : 4598.0\n",
        "Entries for  Reconstructed_Higgs_Eta_700 in  /home/jruizalv/OutOfDropbox/CutsOptimization/PyScripts/Reconstructed_Higgs_Eta_Signal.root : 5453.0\n",
        "Entries for  Reconstructed_Higgs_Eta_750 in  /home/jruizalv/OutOfDropbox/CutsOptimization/PyScripts/Reconstructed_Higgs_Eta_Signal.root : 5918.0\n",
        "Entries for  Reconstructed_Higgs_Eta_800 in  /home/jruizalv/OutOfDropbox/CutsOptimization/PyScripts/Reconstructed_Higgs_Eta_Signal.root : 5924.0\n",
        "Entries for  Reconstructed_Higgs_Eta_850 in  /home/jruizalv/OutOfDropbox/CutsOptimization/PyScripts/Reconstructed_Higgs_Eta_Signal.root : 6240.0\n",
        "Entries for  Reconstructed_Higgs_Eta_900 in  /home/jruizalv/OutOfDropbox/CutsOptimization/PyScripts/Reconstructed_Higgs_Eta_Signal.root : 6152.0\n",
        "Entries for  Reconstructed_Higgs_Eta_950 in  /home/jruizalv/OutOfDropbox/CutsOptimization/PyScripts/Reconstructed_Higgs_Eta_Signal.root : 5679.0\n",
        "Entries for  Reconstructed_Higgs_Eta_1000 in  /home/jruizalv/OutOfDropbox/CutsOptimization/PyScripts/Reconstructed_Higgs_Eta_Signal.root : 5379.0\n",
        "Entries for  Reconstructed_W_Eta_600 in  /home/jruizalv/OutOfDropbox/CutsOptimization/PyScripts/Reconstructed_W_Eta_Signal.root : 3644.0\n",
        "Entries for  Reconstructed_W_Eta_650 in  /home/jruizalv/OutOfDropbox/CutsOptimization/PyScripts/Reconstructed_W_Eta_Signal.root : 4598.0\n",
        "Entries for  Reconstructed_W_Eta_700 in  /home/jruizalv/OutOfDropbox/CutsOptimization/PyScripts/Reconstructed_W_Eta_Signal.root : 5453.0\n",
        "Entries for  Reconstructed_W_Eta_750 in  /home/jruizalv/OutOfDropbox/CutsOptimization/PyScripts/Reconstructed_W_Eta_Signal.root : 5918.0\n",
        "Entries for  Reconstructed_W_Eta_800 in  /home/jruizalv/OutOfDropbox/CutsOptimization/PyScripts/Reconstructed_W_Eta_Signal.root : 5924.0\n",
        "Entries for  Reconstructed_W_Eta_850 in  /home/jruizalv/OutOfDropbox/CutsOptimization/PyScripts/Reconstructed_W_Eta_Signal.root : 6240.0\n",
        "Entries for  Reconstructed_W_Eta_900 in  /home/jruizalv/OutOfDropbox/CutsOptimization/PyScripts/Reconstructed_W_Eta_Signal.root : 6152.0\n",
        "Entries for  Reconstructed_W_Eta_950 in  /home/jruizalv/OutOfDropbox/CutsOptimization/PyScripts/Reconstructed_W_Eta_Signal.root : 5679.0\n",
        "Entries for  Reconstructed_W_Eta_1000 in  /home/jruizalv/OutOfDropbox/CutsOptimization/PyScripts/Reconstructed_W_Eta_Signal.root : 5379.0\n",
        "Entries for  Reconstructed_Top_Eta_600 in  /home/jruizalv/OutOfDropbox/CutsOptimization/PyScripts/Reconstructed_Top_Eta_Signal.root : 3644.0\n",
        "Entries for  Reconstructed_Top_Eta_650 in  /home/jruizalv/OutOfDropbox/CutsOptimization/PyScripts/Reconstructed_Top_Eta_Signal.root : 4598.0\n",
        "Entries for  Reconstructed_Top_Eta_700 in  /home/jruizalv/OutOfDropbox/CutsOptimization/PyScripts/Reconstructed_Top_Eta_Signal.root : 5453.0\n",
        "Entries for  Reconstructed_Top_Eta_750 in  /home/jruizalv/OutOfDropbox/CutsOptimization/PyScripts/Reconstructed_Top_Eta_Signal.root : 5918.0\n",
        "Entries for  Reconstructed_Top_Eta_800 in  /home/jruizalv/OutOfDropbox/CutsOptimization/PyScripts/Reconstructed_Top_Eta_Signal.root : 5924.0\n",
        "Entries for  Reconstructed_Top_Eta_850 in  /home/jruizalv/OutOfDropbox/CutsOptimization/PyScripts/Reconstructed_Top_Eta_Signal.root : 6240.0\n",
        "Entries for  Reconstructed_Top_Eta_900 in  /home/jruizalv/OutOfDropbox/CutsOptimization/PyScripts/Reconstructed_Top_Eta_Signal.root : 6152.0\n",
        "Entries for  Reconstructed_Top_Eta_950 in  /home/jruizalv/OutOfDropbox/CutsOptimization/PyScripts/Reconstructed_Top_Eta_Signal.root : 5679.0\n",
        "Entries for  Reconstructed_Top_Eta_1000 in  /home/jruizalv/OutOfDropbox/CutsOptimization/PyScripts/Reconstructed_Top_Eta_Signal.root : 5379.0\n",
        "Entries for  Reconstructed_Tprime_Eta_600 in  /home/jruizalv/OutOfDropbox/CutsOptimization/PyScripts/Reconstructed_Tprime_Eta_Signal.root : 3644.0\n",
        "Entries for  Reconstructed_Tprime_Eta_650 in  /home/jruizalv/OutOfDropbox/CutsOptimization/PyScripts/Reconstructed_Tprime_Eta_Signal.root : 4598.0\n",
        "Entries for  Reconstructed_Tprime_Eta_700 in  /home/jruizalv/OutOfDropbox/CutsOptimization/PyScripts/Reconstructed_Tprime_Eta_Signal.root : 5453.0\n",
        "Entries for  Reconstructed_Tprime_Eta_750 in  /home/jruizalv/OutOfDropbox/CutsOptimization/PyScripts/Reconstructed_Tprime_Eta_Signal.root : 5918.0\n",
        "Entries for  Reconstructed_Tprime_Eta_800 in  /home/jruizalv/OutOfDropbox/CutsOptimization/PyScripts/Reconstructed_Tprime_Eta_Signal.root : 5924.0\n",
        "Entries for  Reconstructed_Tprime_Eta_850 in  /home/jruizalv/OutOfDropbox/CutsOptimization/PyScripts/Reconstructed_Tprime_Eta_Signal.root : 6240.0\n",
        "Entries for  Reconstructed_Tprime_Eta_900 in  /home/jruizalv/OutOfDropbox/CutsOptimization/PyScripts/Reconstructed_Tprime_Eta_Signal.root : 6152.0\n",
        "Entries for  Reconstructed_Tprime_Eta_950 in  /home/jruizalv/OutOfDropbox/CutsOptimization/PyScripts/Reconstructed_Tprime_Eta_Signal.root : 5679.0\n",
        "Entries for  Reconstructed_Tprime_Eta_1000 in  /home/jruizalv/OutOfDropbox/CutsOptimization/PyScripts/Reconstructed_Tprime_Eta_Signal.root : 5379.0\n",
        "Entries for  Jet6th_Eta_600 in  /home/jruizalv/OutOfDropbox/CutsOptimization/PyScripts/Jet6th_Eta_Signal.root : 3644.0\n",
        "Entries for  Jet6th_Eta_650 in  /home/jruizalv/OutOfDropbox/CutsOptimization/PyScripts/Jet6th_Eta_Signal.root : 4598.0\n",
        "Entries for  Jet6th_Eta_700 in  /home/jruizalv/OutOfDropbox/CutsOptimization/PyScripts/Jet6th_Eta_Signal.root : 5453.0\n",
        "Entries for  Jet6th_Eta_750 in  /home/jruizalv/OutOfDropbox/CutsOptimization/PyScripts/Jet6th_Eta_Signal.root : 5918.0\n",
        "Entries for  Jet6th_Eta_800 in  /home/jruizalv/OutOfDropbox/CutsOptimization/PyScripts/Jet6th_Eta_Signal.root : 5924.0\n",
        "Entries for  Jet6th_Eta_850 in  /home/jruizalv/OutOfDropbox/CutsOptimization/PyScripts/Jet6th_Eta_Signal.root : 6240.0\n",
        "Entries for  Jet6th_Eta_900 in  /home/jruizalv/OutOfDropbox/CutsOptimization/PyScripts/Jet6th_Eta_Signal.root : 6152.0\n",
        "Entries for  Jet6th_Eta_950 in  /home/jruizalv/OutOfDropbox/CutsOptimization/PyScripts/Jet6th_Eta_Signal.root : 5679.0\n",
        "Entries for  Jet6th_Eta_1000 in  /home/jruizalv/OutOfDropbox/CutsOptimization/PyScripts/Jet6th_Eta_Signal.root : 5379.0\n",
        "Entries for  jet1_eta_600 in  /home/jruizalv/OutOfDropbox/CutsOptimization/PyScripts/jet1_eta_Signal.root : 95167.0\n",
        "Entries for  jet1_eta_650 in  /home/jruizalv/OutOfDropbox/CutsOptimization/PyScripts/jet1_eta_Signal.root : 98817.0\n",
        "Entries for  jet1_eta_700 in  /home/jruizalv/OutOfDropbox/CutsOptimization/PyScripts/jet1_eta_Signal.root : 99464.0\n",
        "Entries for  jet1_eta_750 in  /home/jruizalv/OutOfDropbox/CutsOptimization/PyScripts/jet1_eta_Signal.root : 99375.0\n",
        "Entries for  jet1_eta_800 in  /home/jruizalv/OutOfDropbox/CutsOptimization/PyScripts/jet1_eta_Signal.root : 95801.0\n",
        "Entries for  jet1_eta_850 in  /home/jruizalv/OutOfDropbox/CutsOptimization/PyScripts/jet1_eta_Signal.root : 99257.0\n",
        "Entries for  jet1_eta_900 in  /home/jruizalv/OutOfDropbox/CutsOptimization/PyScripts/jet1_eta_Signal.root : 99174.0\n",
        "Entries for  jet1_eta_950 in  /home/jruizalv/OutOfDropbox/CutsOptimization/PyScripts/jet1_eta_Signal.root : 95960.0\n",
        "Entries for  jet1_eta_1000 in  /home/jruizalv/OutOfDropbox/CutsOptimization/PyScripts/jet1_eta_Signal.root : 99078.0\n",
        "Entries for  jet2_eta_600 in  /home/jruizalv/OutOfDropbox/CutsOptimization/PyScripts/jet2_eta_Signal.root : 95167.0\n",
        "Entries for  jet2_eta_650 in  /home/jruizalv/OutOfDropbox/CutsOptimization/PyScripts/jet2_eta_Signal.root : 98817.0\n",
        "Entries for  jet2_eta_700 in  /home/jruizalv/OutOfDropbox/CutsOptimization/PyScripts/jet2_eta_Signal.root : 99464.0\n",
        "Entries for  jet2_eta_750 in  /home/jruizalv/OutOfDropbox/CutsOptimization/PyScripts/jet2_eta_Signal.root : 99375.0\n",
        "Entries for  jet2_eta_800 in  /home/jruizalv/OutOfDropbox/CutsOptimization/PyScripts/jet2_eta_Signal.root : 95801.0\n",
        "Entries for  jet2_eta_850 in  /home/jruizalv/OutOfDropbox/CutsOptimization/PyScripts/jet2_eta_Signal.root : 99257.0\n",
        "Entries for  jet2_eta_900 in  /home/jruizalv/OutOfDropbox/CutsOptimization/PyScripts/jet2_eta_Signal.root : 99174.0\n",
        "Entries for  jet2_eta_950 in  /home/jruizalv/OutOfDropbox/CutsOptimization/PyScripts/jet2_eta_Signal.root : 95960.0\n",
        "Entries for  jet2_eta_1000 in  /home/jruizalv/OutOfDropbox/CutsOptimization/PyScripts/jet2_eta_Signal.root : 99078.0\n",
        "Entries for  jet3_eta_600 in  /home/jruizalv/OutOfDropbox/CutsOptimization/PyScripts/jet3_eta_Signal.root : 95167.0\n",
        "Entries for  jet3_eta_650 in  /home/jruizalv/OutOfDropbox/CutsOptimization/PyScripts/jet3_eta_Signal.root : 98817.0\n",
        "Entries for  jet3_eta_700 in  /home/jruizalv/OutOfDropbox/CutsOptimization/PyScripts/jet3_eta_Signal.root : 99464.0\n",
        "Entries for  jet3_eta_750 in  /home/jruizalv/OutOfDropbox/CutsOptimization/PyScripts/jet3_eta_Signal.root : 99375.0\n",
        "Entries for  jet3_eta_800 in  /home/jruizalv/OutOfDropbox/CutsOptimization/PyScripts/jet3_eta_Signal.root : 95801.0\n",
        "Entries for  jet3_eta_850 in  /home/jruizalv/OutOfDropbox/CutsOptimization/PyScripts/jet3_eta_Signal.root : 99257.0\n",
        "Entries for  jet3_eta_900 in  /home/jruizalv/OutOfDropbox/CutsOptimization/PyScripts/jet3_eta_Signal.root : 99174.0\n",
        "Entries for  jet3_eta_950 in  /home/jruizalv/OutOfDropbox/CutsOptimization/PyScripts/jet3_eta_Signal.root : 95960.0\n",
        "Entries for  jet3_eta_1000 in  /home/jruizalv/OutOfDropbox/CutsOptimization/PyScripts/jet3_eta_Signal.root : 99078.0\n",
        "Entries for  jet4_eta_600 in  /home/jruizalv/OutOfDropbox/CutsOptimization/PyScripts/jet4_eta_Signal.root : 95167.0\n",
        "Entries for  jet4_eta_650 in  /home/jruizalv/OutOfDropbox/CutsOptimization/PyScripts/jet4_eta_Signal.root : 98817.0\n",
        "Entries for  jet4_eta_700 in  /home/jruizalv/OutOfDropbox/CutsOptimization/PyScripts/jet4_eta_Signal.root : 99464.0\n",
        "Entries for  jet4_eta_750 in  /home/jruizalv/OutOfDropbox/CutsOptimization/PyScripts/jet4_eta_Signal.root : 99375.0\n",
        "Entries for  jet4_eta_800 in  /home/jruizalv/OutOfDropbox/CutsOptimization/PyScripts/jet4_eta_Signal.root : 95801.0\n",
        "Entries for  jet4_eta_850 in  /home/jruizalv/OutOfDropbox/CutsOptimization/PyScripts/jet4_eta_Signal.root : 99257.0\n",
        "Entries for  jet4_eta_900 in  /home/jruizalv/OutOfDropbox/CutsOptimization/PyScripts/jet4_eta_Signal.root : 99174.0\n",
        "Entries for  jet4_eta_950 in  /home/jruizalv/OutOfDropbox/CutsOptimization/PyScripts/jet4_eta_Signal.root : 95960.0\n",
        "Entries for  jet4_eta_1000 in  /home/jruizalv/OutOfDropbox/CutsOptimization/PyScripts/jet4_eta_Signal.root : 99078.0\n",
        "Entries for  jet5_eta_600 in  /home/jruizalv/OutOfDropbox/CutsOptimization/PyScripts/jet5_eta_Signal.root : 95167.0\n",
        "Entries for  jet5_eta_650 in  /home/jruizalv/OutOfDropbox/CutsOptimization/PyScripts/jet5_eta_Signal.root : 98817.0\n",
        "Entries for  jet5_eta_700 in  /home/jruizalv/OutOfDropbox/CutsOptimization/PyScripts/jet5_eta_Signal.root : 99464.0\n",
        "Entries for  jet5_eta_750 in  /home/jruizalv/OutOfDropbox/CutsOptimization/PyScripts/jet5_eta_Signal.root : 99375.0\n",
        "Entries for  jet5_eta_800 in  /home/jruizalv/OutOfDropbox/CutsOptimization/PyScripts/jet5_eta_Signal.root : 95801.0\n",
        "Entries for  jet5_eta_850 in  /home/jruizalv/OutOfDropbox/CutsOptimization/PyScripts/jet5_eta_Signal.root : 99257.0\n",
        "Entries for  jet5_eta_900 in  /home/jruizalv/OutOfDropbox/CutsOptimization/PyScripts/jet5_eta_Signal.root : 99174.0\n",
        "Entries for  jet5_eta_950 in  /home/jruizalv/OutOfDropbox/CutsOptimization/PyScripts/jet5_eta_Signal.root : 95960.0\n",
        "Entries for  jet5_eta_1000 in  /home/jruizalv/OutOfDropbox/CutsOptimization/PyScripts/jet5_eta_Signal.root : 99078.0\n",
        "Entries for  jet6_eta_600 in  /home/jruizalv/OutOfDropbox/CutsOptimization/PyScripts/jet6_eta_Signal.root : 95167.0\n",
        "Entries for  jet6_eta_650 in  /home/jruizalv/OutOfDropbox/CutsOptimization/PyScripts/jet6_eta_Signal.root : 98817.0\n",
        "Entries for  jet6_eta_700 in  /home/jruizalv/OutOfDropbox/CutsOptimization/PyScripts/jet6_eta_Signal.root : 99464.0\n",
        "Entries for  jet6_eta_750 in  /home/jruizalv/OutOfDropbox/CutsOptimization/PyScripts/jet6_eta_Signal.root : 99375.0\n",
        "Entries for  jet6_eta_800 in  /home/jruizalv/OutOfDropbox/CutsOptimization/PyScripts/jet6_eta_Signal.root : 95801.0\n",
        "Entries for  jet6_eta_850 in  /home/jruizalv/OutOfDropbox/CutsOptimization/PyScripts/jet6_eta_Signal.root : 99257.0\n",
        "Entries for  jet6_eta_900 in  /home/jruizalv/OutOfDropbox/CutsOptimization/PyScripts/jet6_eta_Signal.root : 99174.0\n",
        "Entries for  jet6_eta_950 in  /home/jruizalv/OutOfDropbox/CutsOptimization/PyScripts/jet6_eta_Signal.root : 95960.0\n",
        "Entries for  jet6_eta_1000 in  /home/jruizalv/OutOfDropbox/CutsOptimization/PyScripts/jet6_eta_Signal.root : 99078.0\n",
        "Plotting Histo:"
       ]
      },
      {
       "output_type": "stream",
       "stream": "stdout",
       "text": [
        " 0\n",
        "Plotting Histo:"
       ]
      },
      {
       "output_type": "stream",
       "stream": "stdout",
       "text": [
        " 1\n",
        "Plotting Histo: 2\n",
        "Plotting Histo: 3\n",
        "Plotting Histo: 4\n",
        "Plotting Histo: 5\n",
        "Plotting Histo: 6\n",
        "Plotting Histo:"
       ]
      },
      {
       "output_type": "stream",
       "stream": "stdout",
       "text": [
        " 7\n",
        "Plotting Histo: 8\n",
        "Plotting Histo: 9\n",
        "Plotting Histo:"
       ]
      },
      {
       "output_type": "stream",
       "stream": "stdout",
       "text": [
        " 10\n",
        "Plotting Histo:"
       ]
      },
      {
       "output_type": "stream",
       "stream": "stdout",
       "text": [
        " 11\n",
        "Plotting Histo:"
       ]
      },
      {
       "output_type": "stream",
       "stream": "stdout",
       "text": [
        " 12\n",
        "Plotting Histo: 13\n",
        "Plotting Histo: 14\n",
        "Plotting Histo:"
       ]
      },
      {
       "output_type": "stream",
       "stream": "stdout",
       "text": [
        " 15\n",
        "Plotting Histo: 16\n",
        "Plotting Histo:"
       ]
      },
      {
       "output_type": "stream",
       "stream": "stdout",
       "text": [
        " 17\n",
        "Plotting Histo: 18\n",
        "Plotting Histo:"
       ]
      },
      {
       "output_type": "stream",
       "stream": "stdout",
       "text": [
        " 19\n",
        "Plotting Histo: 20\n",
        "Plotting Histo:"
       ]
      },
      {
       "output_type": "stream",
       "stream": "stdout",
       "text": [
        " 21\n",
        "Plotting Histo: 22\n",
        "Plotting Histo:"
       ]
      },
      {
       "output_type": "stream",
       "stream": "stdout",
       "text": [
        " 23\n",
        "Plotting Histo: 24\n",
        "Plotting Histo:"
       ]
      },
      {
       "output_type": "stream",
       "stream": "stdout",
       "text": [
        " 25\n",
        "Plotting Histo: 26\n",
        "Plotting Histo:"
       ]
      },
      {
       "output_type": "stream",
       "stream": "stdout",
       "text": [
        " 27\n",
        "Plotting Histo:"
       ]
      },
      {
       "output_type": "stream",
       "stream": "stdout",
       "text": [
        " 28\n",
        "Plotting Histo:"
       ]
      },
      {
       "output_type": "stream",
       "stream": "stdout",
       "text": [
        " 29\n",
        "Plotting Histo:"
       ]
      },
      {
       "output_type": "stream",
       "stream": "stdout",
       "text": [
        " 30\n",
        "Plotting Histo:"
       ]
      },
      {
       "output_type": "stream",
       "stream": "stdout",
       "text": [
        " 31\n",
        "Plotting Histo:"
       ]
      },
      {
       "output_type": "stream",
       "stream": "stdout",
       "text": [
        " 32\n",
        "Plotting Histo:"
       ]
      },
      {
       "output_type": "stream",
       "stream": "stdout",
       "text": [
        " 33\n",
        "Plotting Histo:"
       ]
      },
      {
       "output_type": "stream",
       "stream": "stdout",
       "text": [
        " 34\n",
        "Plotting Histo:"
       ]
      },
      {
       "output_type": "stream",
       "stream": "stdout",
       "text": [
        " 35\n",
        "Plotting Histo:"
       ]
      },
      {
       "output_type": "stream",
       "stream": "stdout",
       "text": [
        " 36\n",
        "Plotting Histo:"
       ]
      },
      {
       "output_type": "stream",
       "stream": "stdout",
       "text": [
        " 37\n",
        "Plotting Histo:"
       ]
      },
      {
       "output_type": "stream",
       "stream": "stdout",
       "text": [
        " 38\n",
        "Plotting Histo:"
       ]
      },
      {
       "output_type": "stream",
       "stream": "stdout",
       "text": [
        " 39\n",
        "Plotting Histo:"
       ]
      },
      {
       "output_type": "stream",
       "stream": "stdout",
       "text": [
        " 40\n",
        "Plotting Histo:"
       ]
      },
      {
       "output_type": "stream",
       "stream": "stdout",
       "text": [
        " 41\n",
        "Plotting Histo:"
       ]
      },
      {
       "output_type": "stream",
       "stream": "stdout",
       "text": [
        " 42\n",
        "Plotting Histo:"
       ]
      },
      {
       "output_type": "stream",
       "stream": "stdout",
       "text": [
        " 43\n",
        "Plotting Histo:"
       ]
      },
      {
       "output_type": "stream",
       "stream": "stdout",
       "text": [
        " 44\n",
        "Plotting Histo:"
       ]
      },
      {
       "output_type": "stream",
       "stream": "stdout",
       "text": [
        " 45\n",
        "Plotting Histo:"
       ]
      },
      {
       "output_type": "stream",
       "stream": "stdout",
       "text": [
        " 46\n",
        "Plotting Histo:"
       ]
      },
      {
       "output_type": "stream",
       "stream": "stdout",
       "text": [
        " 47\n",
        "Plotting Histo:"
       ]
      },
      {
       "output_type": "stream",
       "stream": "stdout",
       "text": [
        " 48\n",
        "Plotting Histo:"
       ]
      },
      {
       "output_type": "stream",
       "stream": "stdout",
       "text": [
        " 49\n",
        "Plotting Histo:"
       ]
      },
      {
       "output_type": "stream",
       "stream": "stdout",
       "text": [
        " 50\n",
        "Plotting Histo:"
       ]
      },
      {
       "output_type": "stream",
       "stream": "stdout",
       "text": [
        " 51\n",
        "Plotting Histo:"
       ]
      },
      {
       "output_type": "stream",
       "stream": "stdout",
       "text": [
        " 52\n",
        "Plotting Histo:"
       ]
      },
      {
       "output_type": "stream",
       "stream": "stdout",
       "text": [
        " 53\n",
        "Plotting Histo:"
       ]
      },
      {
       "output_type": "stream",
       "stream": "stdout",
       "text": [
        " 54\n",
        "Plotting Histo:"
       ]
      },
      {
       "output_type": "stream",
       "stream": "stdout",
       "text": [
        " 55\n",
        "Plotting Histo:"
       ]
      },
      {
       "output_type": "stream",
       "stream": "stdout",
       "text": [
        " 56\n",
        "Plotting Histo:"
       ]
      },
      {
       "output_type": "stream",
       "stream": "stdout",
       "text": [
        " 57\n",
        "Plotting Histo:"
       ]
      },
      {
       "output_type": "stream",
       "stream": "stdout",
       "text": [
        " 58\n",
        "Plotting Histo:"
       ]
      },
      {
       "output_type": "stream",
       "stream": "stdout",
       "text": [
        " 59\n",
        "Plotting Histo:"
       ]
      },
      {
       "output_type": "stream",
       "stream": "stdout",
       "text": [
        " 60\n",
        "Plotting Histo:"
       ]
      },
      {
       "output_type": "stream",
       "stream": "stdout",
       "text": [
        " 61\n",
        "Plotting Histo:"
       ]
      },
      {
       "output_type": "stream",
       "stream": "stdout",
       "text": [
        " 62\n",
        "Plotting Histo: 63\n",
        "Plotting Histo: 64\n",
        "Plotting Histo: 65\n",
        "Plotting Histo: 66\n",
        "Plotting Histo:"
       ]
      },
      {
       "output_type": "stream",
       "stream": "stdout",
       "text": [
        " 67\n",
        "Plotting Histo: 68\n",
        "Plotting Histo: 69\n",
        "Plotting Histo: 70\n",
        "Plotting Histo:"
       ]
      },
      {
       "output_type": "stream",
       "stream": "stdout",
       "text": [
        " 71\n",
        "Plotting Histo: 72\n",
        "Plotting Histo: 73\n",
        "Plotting Histo:"
       ]
      },
      {
       "output_type": "stream",
       "stream": "stdout",
       "text": [
        " 74\n",
        "Plotting Histo: 75\n",
        "Plotting Histo: 76\n",
        "Plotting Histo:"
       ]
      },
      {
       "output_type": "stream",
       "stream": "stdout",
       "text": [
        " 77\n",
        "Plotting Histo: 78\n",
        "Plotting Histo:"
       ]
      },
      {
       "output_type": "stream",
       "stream": "stdout",
       "text": [
        " 79\n",
        "Plotting Histo: 80\n",
        "Plotting Histo:"
       ]
      },
      {
       "output_type": "stream",
       "stream": "stdout",
       "text": [
        " 81\n",
        "Plotting Histo: 82\n",
        "Plotting Histo:"
       ]
      },
      {
       "output_type": "stream",
       "stream": "stdout",
       "text": [
        " 83\n",
        "Plotting Histo: 84\n",
        "Plotting Histo:"
       ]
      },
      {
       "output_type": "stream",
       "stream": "stdout",
       "text": [
        " 85\n",
        "Plotting Histo:"
       ]
      },
      {
       "output_type": "stream",
       "stream": "stdout",
       "text": [
        " 86\n",
        "Plotting Histo: 87\n",
        "Plotting Histo:"
       ]
      },
      {
       "output_type": "stream",
       "stream": "stdout",
       "text": [
        " 88\n",
        "Plotting Histo:"
       ]
      },
      {
       "output_type": "stream",
       "stream": "stdout",
       "text": [
        " 89\n",
        "Plotting Histo:"
       ]
      },
      {
       "output_type": "stream",
       "stream": "stdout",
       "text": [
        " 90\n",
        "Plotting Histo:"
       ]
      },
      {
       "output_type": "stream",
       "stream": "stdout",
       "text": [
        " 91\n",
        "Plotting Histo:"
       ]
      },
      {
       "output_type": "stream",
       "stream": "stdout",
       "text": [
        " 92\n",
        "Plotting Histo:"
       ]
      },
      {
       "output_type": "stream",
       "stream": "stdout",
       "text": [
        " 93\n",
        "Plotting Histo:"
       ]
      },
      {
       "output_type": "stream",
       "stream": "stdout",
       "text": [
        " 94\n",
        "Plotting Histo:"
       ]
      },
      {
       "output_type": "stream",
       "stream": "stdout",
       "text": [
        " 95\n",
        "Plotting Histo:"
       ]
      },
      {
       "output_type": "stream",
       "stream": "stdout",
       "text": [
        " 96\n",
        "Plotting Histo:"
       ]
      },
      {
       "output_type": "stream",
       "stream": "stdout",
       "text": [
        " 97\n",
        "Plotting Histo:"
       ]
      },
      {
       "output_type": "stream",
       "stream": "stdout",
       "text": [
        " 98\n",
        "Plotting Histo:"
       ]
      },
      {
       "output_type": "stream",
       "stream": "stdout",
       "text": [
        " 99\n",
        "Plotting Histo:"
       ]
      },
      {
       "output_type": "stream",
       "stream": "stdout",
       "text": [
        " 100\n",
        "Plotting Histo:"
       ]
      },
      {
       "output_type": "stream",
       "stream": "stdout",
       "text": [
        " 101\n",
        "Plotting Histo:"
       ]
      },
      {
       "output_type": "stream",
       "stream": "stdout",
       "text": [
        " 102\n",
        "Plotting Histo:"
       ]
      },
      {
       "output_type": "stream",
       "stream": "stdout",
       "text": [
        " 103\n",
        "Plotting Histo:"
       ]
      },
      {
       "output_type": "stream",
       "stream": "stdout",
       "text": [
        " 104\n",
        "Plotting Histo:"
       ]
      },
      {
       "output_type": "stream",
       "stream": "stdout",
       "text": [
        " 105\n",
        "Plotting Histo:"
       ]
      },
      {
       "output_type": "stream",
       "stream": "stdout",
       "text": [
        " 106\n",
        "Plotting Histo:"
       ]
      },
      {
       "output_type": "stream",
       "stream": "stdout",
       "text": [
        " 107\n",
        "Plotting Histo:"
       ]
      },
      {
       "output_type": "stream",
       "stream": "stdout",
       "text": [
        " 108\n",
        "Plotting Histo:"
       ]
      },
      {
       "output_type": "stream",
       "stream": "stdout",
       "text": [
        " 109\n",
        "Plotting Histo:"
       ]
      },
      {
       "output_type": "stream",
       "stream": "stdout",
       "text": [
        " 110\n",
        "Plotting Histo:"
       ]
      },
      {
       "output_type": "stream",
       "stream": "stdout",
       "text": [
        " 111\n",
        "Plotting Histo:"
       ]
      },
      {
       "output_type": "stream",
       "stream": "stdout",
       "text": [
        " 112\n",
        "Plotting Histo:"
       ]
      },
      {
       "output_type": "stream",
       "stream": "stdout",
       "text": [
        " 113\n",
        "Plotting Histo:"
       ]
      },
      {
       "output_type": "stream",
       "stream": "stdout",
       "text": [
        " 114\n",
        "Plotting Histo:"
       ]
      },
      {
       "output_type": "stream",
       "stream": "stdout",
       "text": [
        " 115\n",
        "Plotting Histo:"
       ]
      },
      {
       "output_type": "stream",
       "stream": "stdout",
       "text": [
        " 116\n",
        "Plotting Histo:"
       ]
      },
      {
       "output_type": "stream",
       "stream": "stdout",
       "text": [
        " 117\n",
        "Plotting Histo:"
       ]
      },
      {
       "output_type": "stream",
       "stream": "stdout",
       "text": [
        " 118\n",
        "Plotting Histo:"
       ]
      },
      {
       "output_type": "stream",
       "stream": "stdout",
       "text": [
        " 119\n",
        "Plotting Histo:"
       ]
      },
      {
       "output_type": "stream",
       "stream": "stdout",
       "text": [
        " 120\n",
        "Plotting Histo:"
       ]
      },
      {
       "output_type": "stream",
       "stream": "stdout",
       "text": [
        " 121\n",
        "Plotting Histo:"
       ]
      },
      {
       "output_type": "stream",
       "stream": "stdout",
       "text": [
        " 122\n",
        "Plotting Histo:"
       ]
      },
      {
       "output_type": "stream",
       "stream": "stdout",
       "text": [
        " 123\n",
        "Plotting Histo:"
       ]
      },
      {
       "output_type": "stream",
       "stream": "stdout",
       "text": [
        " 124\n",
        "Plotting Histo:"
       ]
      },
      {
       "output_type": "stream",
       "stream": "stdout",
       "text": [
        " 125\n",
        "Plotting Histo:"
       ]
      },
      {
       "output_type": "stream",
       "stream": "stdout",
       "text": [
        " 126\n",
        "Plotting Histo:"
       ]
      },
      {
       "output_type": "stream",
       "stream": "stdout",
       "text": [
        " 127\n",
        "Plotting Histo:"
       ]
      },
      {
       "output_type": "stream",
       "stream": "stdout",
       "text": [
        " 128\n",
        "Plotting Histo:"
       ]
      },
      {
       "output_type": "stream",
       "stream": "stdout",
       "text": [
        " 129\n",
        "Plotting Histo:"
       ]
      },
      {
       "output_type": "stream",
       "stream": "stdout",
       "text": [
        " 130\n",
        "Plotting Histo:"
       ]
      },
      {
       "output_type": "stream",
       "stream": "stdout",
       "text": [
        " 131\n",
        "Plotting Histo:"
       ]
      },
      {
       "output_type": "stream",
       "stream": "stdout",
       "text": [
        " 132\n",
        "Plotting Histo:"
       ]
      },
      {
       "output_type": "stream",
       "stream": "stdout",
       "text": [
        " 133\n",
        "Plotting Histo:"
       ]
      },
      {
       "output_type": "stream",
       "stream": "stdout",
       "text": [
        " 134\n",
        "Plotting Histo:"
       ]
      },
      {
       "output_type": "stream",
       "stream": "stdout",
       "text": [
        " 135\n",
        "Plotting Histo:"
       ]
      },
      {
       "output_type": "stream",
       "stream": "stdout",
       "text": [
        " 136\n",
        "Plotting Histo:"
       ]
      },
      {
       "output_type": "stream",
       "stream": "stdout",
       "text": [
        " 137\n",
        "Plotting Histo:"
       ]
      },
      {
       "output_type": "stream",
       "stream": "stdout",
       "text": [
        " 138\n",
        "Plotting Histo:"
       ]
      },
      {
       "output_type": "stream",
       "stream": "stdout",
       "text": [
        " 139\n",
        "Plotting Histo:"
       ]
      },
      {
       "output_type": "stream",
       "stream": "stdout",
       "text": [
        " 140\n",
        "Plotting Histo:"
       ]
      },
      {
       "output_type": "stream",
       "stream": "stdout",
       "text": [
        " 141\n",
        "Plotting Histo:"
       ]
      },
      {
       "output_type": "stream",
       "stream": "stdout",
       "text": [
        " 142\n",
        "Plotting Histo:"
       ]
      },
      {
       "output_type": "stream",
       "stream": "stdout",
       "text": [
        " 143\n"
       ]
      }
     ],
     "prompt_number": 2
    },
    {
     "cell_type": "heading",
     "level": 3,
     "metadata": {},
     "source": [
      "Drawing pt of objects"
     ]
    },
    {
     "cell_type": "code",
     "collapsed": false,
     "input": [
      "Base=\"/home/jruizalv/OutOfDropbox/CutsOptimization/PyScripts/\"\n",
      "\n",
      "#F1=[\"First_Higgs_Jet_Pt_Signal.root\", \"Second_Higgs_Jet_Pt_Signal.root\", \"First_W_Jet_Pt_Signal.root\", \"Second_W_Jet_Pt_Signal.root\", \"Top_Jet_Pt_Signal.root\", \"Reconstructed_Higgs_Pt_Signal.root\", \"Reconstructed_W_Pt_Signal.root\", \"Reconstructed_Top_Pt_Signal.root\", \"Reconstructed_Tprime_Pt_Signal.root\", \"Jet6th_Pt_Signal.root\", \"jet1_pt_Signal.root\", \"jet2_pt_Signal.root\", \"jet3_pt_Signal.root\", \"jet4_pt_Signal.root\", \"jet5_pt_Signal.root\", \"jet6_pt_Signal.root\"]\n",
      "F1=[\"First_Higgs_Jet_Pt_Signal.root\", \"Second_Higgs_Jet_Pt_Signal.root\", \"First_W_Jet_Pt_Signal.root\", \"Second_W_Jet_Pt_Signal.root\", \"Top_Jet_Pt_Signal.root\", \"Reconstructed_Higgs_Pt_Signal.root\", \"Reconstructed_W_Pt_Signal.root\", \"Reconstructed_Top_Pt_Signal.root\", \"Reconstructed_Tprime_Pt_Signal.root\", \"Jet6th_Pt_Signal.root\", \"jet1_pt_Signal_20GeVBins.root\", \"jet2_pt_Signal_20GeVBins.root\", \"jet3_pt_Signal_20GeVBins.root\", \"jet4_pt_Signal_20GeVBins.root\", \"jet5_pt_Signal_20GeVBins.root\", \"jet6_pt_Signal_20GeVBins.root\"]\n",
      "\n",
      "files=[]\n",
      "for i in F1: files.append(Base+i)\n",
      "\n",
      "Masses=[\"600\",\"650\",\"700\",\"750\",\"800\",\"850\",\"900\",\"950\",\"1000\"]\n",
      "HistoName=[]\n",
      "for i in F1:\n",
      "    A=[]\n",
      "    for j in Masses:\n",
      "        A.append(i.split(\"Signal\")[0]+j)\n",
      "    HistoName.append(A)\n",
      "Rebin=1\n",
      "PDF=\"Pt_Checks_Signal_20GeVBins6LeadJets.pdf\"\n",
      "weights=[1.0, 1.0, 1.0, 1.0, 1.0, 1.0, 1.0, 1.0, 1.0]\n",
      "Nor=True\n",
      "Uni=\"GeV\"\n",
      "XT=[\"p_{T}(b_{1}^{H})\", \"p_{T}(b_{2}^{H})\", \"p_{T}(j_{1}^{W})\", \"p_{T}(j_{2}^{W})\", \"p_{T}(b^{t})\", \"p_{T}(H)\", \"p_{T}(W)\", \"p_{T}(t)\", \"p_{T}(Tp)\", \"p_{T}(j^{6th})\", \"p_{T}(j_{1})\", \"p_{T}(j_{2})\", \"p_{T}(j_{3})\", \"p_{T}(j_{4})\", \"p_{T}(j_{5})\", \"p_{T}(j_{6})\"] #same len of F1\n",
      "ST=False\n",
      "    \n",
      "Cos=[ROOT.kWhite,0,ROOT.kBlack,2,1,1]\n",
      "Cosmetics=[]\n",
      "FullXT=[]\n",
      "for i in F1:\n",
      "    for j in Masses:\n",
      "        Cosmetics.append(Cos)\n",
      "        FullXT.append(XT[F1.index(i)])\n",
      "        \n",
      "logari=False\n",
      "legend=[\"M(T') = 600 GeV/c^{2}\", \"M(T') = 650 GeV/c^{2}\", \"M(T') = 700 GeV/c^{2}\", \"M(T') = 750 GeV/c^{2}\", \"M(T') = 800 GeV/c^{2}\", \"M(T') = 850 GeV/c^{2}\", \"M(T') = 900 GeV/c^{2}\", \"M(T') = 950 GeV/c^{2}\", \"M(T') = 1000 GeV/c^{}2\"]\n",
      "Leg=[]\n",
      "for i in F1:\n",
      "    for j in Masses:\n",
      "        Leg.append(legend[Masses.index(j)])\n",
      "\n",
      "yrange=[]\n",
      "    \n",
      "HistoDrawer(files,HistoName,Rebin,PDF,weights,Nor,Uni,FullXT,ST,Cosmetics,logari,Leg,yrange)"
     ],
     "language": "python",
     "metadata": {},
     "outputs": [
      {
       "output_type": "stream",
       "stream": "stdout",
       "text": [
        "Entries for  First_Higgs_Jet_Pt_600 in  /home/jruizalv/OutOfDropbox/CutsOptimization/PyScripts/First_Higgs_Jet_Pt_Signal.root : 3644.0\n",
        "Entries for  First_Higgs_Jet_Pt_650 in  /home/jruizalv/OutOfDropbox/CutsOptimization/PyScripts/First_Higgs_Jet_Pt_Signal.root : 4598.0\n",
        "Entries for  First_Higgs_Jet_Pt_700 in  /home/jruizalv/OutOfDropbox/CutsOptimization/PyScripts/First_Higgs_Jet_Pt_Signal.root : 5453.0\n",
        "Entries for  First_Higgs_Jet_Pt_750 in  /home/jruizalv/OutOfDropbox/CutsOptimization/PyScripts/First_Higgs_Jet_Pt_Signal.root : 5918.0\n",
        "Entries for  First_Higgs_Jet_Pt_800 in  /home/jruizalv/OutOfDropbox/CutsOptimization/PyScripts/First_Higgs_Jet_Pt_Signal.root : 5924.0\n",
        "Entries for  First_Higgs_Jet_Pt_850 in  /home/jruizalv/OutOfDropbox/CutsOptimization/PyScripts/First_Higgs_Jet_Pt_Signal.root : 6240.0\n",
        "Entries for  First_Higgs_Jet_Pt_900 in  /home/jruizalv/OutOfDropbox/CutsOptimization/PyScripts/First_Higgs_Jet_Pt_Signal.root : 6152.0\n",
        "Entries for  First_Higgs_Jet_Pt_950 in  /home/jruizalv/OutOfDropbox/CutsOptimization/PyScripts/First_Higgs_Jet_Pt_Signal.root : 5679.0\n",
        "Entries for  First_Higgs_Jet_Pt_1000 in  /home/jruizalv/OutOfDropbox/CutsOptimization/PyScripts/First_Higgs_Jet_Pt_Signal.root : 5379.0\n",
        "Entries for  Second_Higgs_Jet_Pt_600 in  /home/jruizalv/OutOfDropbox/CutsOptimization/PyScripts/Second_Higgs_Jet_Pt_Signal.root : 3644.0\n",
        "Entries for  Second_Higgs_Jet_Pt_650 in  /home/jruizalv/OutOfDropbox/CutsOptimization/PyScripts/Second_Higgs_Jet_Pt_Signal.root : 4598.0\n",
        "Entries for  Second_Higgs_Jet_Pt_700 in  /home/jruizalv/OutOfDropbox/CutsOptimization/PyScripts/Second_Higgs_Jet_Pt_Signal.root : 5453.0\n",
        "Entries for  Second_Higgs_Jet_Pt_750 in  /home/jruizalv/OutOfDropbox/CutsOptimization/PyScripts/Second_Higgs_Jet_Pt_Signal.root : 5918.0\n",
        "Entries for  Second_Higgs_Jet_Pt_800 in  /home/jruizalv/OutOfDropbox/CutsOptimization/PyScripts/Second_Higgs_Jet_Pt_Signal.root : 5924.0\n",
        "Entries for  Second_Higgs_Jet_Pt_850 in  /home/jruizalv/OutOfDropbox/CutsOptimization/PyScripts/Second_Higgs_Jet_Pt_Signal.root : 6240.0\n",
        "Entries for  Second_Higgs_Jet_Pt_900 in  /home/jruizalv/OutOfDropbox/CutsOptimization/PyScripts/Second_Higgs_Jet_Pt_Signal.root : 6152.0\n",
        "Entries for  Second_Higgs_Jet_Pt_950 in  /home/jruizalv/OutOfDropbox/CutsOptimization/PyScripts/Second_Higgs_Jet_Pt_Signal.root : 5679.0\n",
        "Entries for  Second_Higgs_Jet_Pt_1000 in  /home/jruizalv/OutOfDropbox/CutsOptimization/PyScripts/Second_Higgs_Jet_Pt_Signal.root : 5379.0\n",
        "Entries for  First_W_Jet_Pt_600 in  /home/jruizalv/OutOfDropbox/CutsOptimization/PyScripts/First_W_Jet_Pt_Signal.root : 3644.0\n",
        "Entries for  First_W_Jet_Pt_650 in  /home/jruizalv/OutOfDropbox/CutsOptimization/PyScripts/First_W_Jet_Pt_Signal.root : 4598.0\n",
        "Entries for  First_W_Jet_Pt_700 in  /home/jruizalv/OutOfDropbox/CutsOptimization/PyScripts/First_W_Jet_Pt_Signal.root : 5453.0\n",
        "Entries for  First_W_Jet_Pt_750 in  /home/jruizalv/OutOfDropbox/CutsOptimization/PyScripts/First_W_Jet_Pt_Signal.root : 5918.0\n",
        "Entries for  First_W_Jet_Pt_800 in  /home/jruizalv/OutOfDropbox/CutsOptimization/PyScripts/First_W_Jet_Pt_Signal.root : 5924.0\n",
        "Entries for  First_W_Jet_Pt_850 in  /home/jruizalv/OutOfDropbox/CutsOptimization/PyScripts/First_W_Jet_Pt_Signal.root : 6240.0\n",
        "Entries for  First_W_Jet_Pt_900 in  /home/jruizalv/OutOfDropbox/CutsOptimization/PyScripts/First_W_Jet_Pt_Signal.root : 6152.0\n",
        "Entries for  First_W_Jet_Pt_950 in  /home/jruizalv/OutOfDropbox/CutsOptimization/PyScripts/First_W_Jet_Pt_Signal.root : 5679.0\n",
        "Entries for  First_W_Jet_Pt_1000 in  /home/jruizalv/OutOfDropbox/CutsOptimization/PyScripts/First_W_Jet_Pt_Signal.root : 5379.0\n",
        "Entries for  Second_W_Jet_Pt_600 in  /home/jruizalv/OutOfDropbox/CutsOptimization/PyScripts/Second_W_Jet_Pt_Signal.root : 3644.0\n",
        "Entries for  Second_W_Jet_Pt_650 in  /home/jruizalv/OutOfDropbox/CutsOptimization/PyScripts/Second_W_Jet_Pt_Signal.root : 4598.0\n",
        "Entries for  Second_W_Jet_Pt_700 in  /home/jruizalv/OutOfDropbox/CutsOptimization/PyScripts/Second_W_Jet_Pt_Signal.root : 5453.0\n",
        "Entries for  Second_W_Jet_Pt_750 in  /home/jruizalv/OutOfDropbox/CutsOptimization/PyScripts/Second_W_Jet_Pt_Signal.root : 5918.0\n",
        "Entries for  Second_W_Jet_Pt_800 in  /home/jruizalv/OutOfDropbox/CutsOptimization/PyScripts/Second_W_Jet_Pt_Signal.root : 5924.0\n",
        "Entries for  Second_W_Jet_Pt_850 in  /home/jruizalv/OutOfDropbox/CutsOptimization/PyScripts/Second_W_Jet_Pt_Signal.root : 6240.0\n",
        "Entries for  Second_W_Jet_Pt_900 in  /home/jruizalv/OutOfDropbox/CutsOptimization/PyScripts/Second_W_Jet_Pt_Signal.root : 6152.0\n",
        "Entries for  Second_W_Jet_Pt_950 in  /home/jruizalv/OutOfDropbox/CutsOptimization/PyScripts/Second_W_Jet_Pt_Signal.root : 5679.0\n",
        "Entries for  Second_W_Jet_Pt_1000 in  /home/jruizalv/OutOfDropbox/CutsOptimization/PyScripts/Second_W_Jet_Pt_Signal.root : 5379.0\n",
        "Entries for  Top_Jet_Pt_600 in  /home/jruizalv/OutOfDropbox/CutsOptimization/PyScripts/Top_Jet_Pt_Signal.root : 3644.0\n",
        "Entries for  Top_Jet_Pt_650 in  /home/jruizalv/OutOfDropbox/CutsOptimization/PyScripts/Top_Jet_Pt_Signal.root : 4598.0\n",
        "Entries for  Top_Jet_Pt_700 in  /home/jruizalv/OutOfDropbox/CutsOptimization/PyScripts/Top_Jet_Pt_Signal.root : 5453.0\n",
        "Entries for  Top_Jet_Pt_750 in  /home/jruizalv/OutOfDropbox/CutsOptimization/PyScripts/Top_Jet_Pt_Signal.root : 5918.0\n",
        "Entries for  Top_Jet_Pt_800 in  /home/jruizalv/OutOfDropbox/CutsOptimization/PyScripts/Top_Jet_Pt_Signal.root : 5924.0\n",
        "Entries for  Top_Jet_Pt_850 in  /home/jruizalv/OutOfDropbox/CutsOptimization/PyScripts/Top_Jet_Pt_Signal.root : 6240.0\n",
        "Entries for  Top_Jet_Pt_900 in  /home/jruizalv/OutOfDropbox/CutsOptimization/PyScripts/Top_Jet_Pt_Signal.root : 6152.0\n",
        "Entries for  Top_Jet_Pt_950 in  /home/jruizalv/OutOfDropbox/CutsOptimization/PyScripts/Top_Jet_Pt_Signal.root : 5679.0\n",
        "Entries for  Top_Jet_Pt_1000 in  /home/jruizalv/OutOfDropbox/CutsOptimization/PyScripts/Top_Jet_Pt_Signal.root : 5379.0\n",
        "Entries for  Reconstructed_Higgs_Pt_600 in  /home/jruizalv/OutOfDropbox/CutsOptimization/PyScripts/Reconstructed_Higgs_Pt_Signal.root : 3644.0\n",
        "Entries for  Reconstructed_Higgs_Pt_650 in  /home/jruizalv/OutOfDropbox/CutsOptimization/PyScripts/Reconstructed_Higgs_Pt_Signal.root : 4598.0\n",
        "Entries for  Reconstructed_Higgs_Pt_700 in  /home/jruizalv/OutOfDropbox/CutsOptimization/PyScripts/Reconstructed_Higgs_Pt_Signal.root : 5453.0\n",
        "Entries for  Reconstructed_Higgs_Pt_750 in  /home/jruizalv/OutOfDropbox/CutsOptimization/PyScripts/Reconstructed_Higgs_Pt_Signal.root : 5918.0\n",
        "Entries for  Reconstructed_Higgs_Pt_800 in  /home/jruizalv/OutOfDropbox/CutsOptimization/PyScripts/Reconstructed_Higgs_Pt_Signal.root : 5924.0\n",
        "Entries for  Reconstructed_Higgs_Pt_850 in  /home/jruizalv/OutOfDropbox/CutsOptimization/PyScripts/Reconstructed_Higgs_Pt_Signal.root : 6240.0\n",
        "Entries for  Reconstructed_Higgs_Pt_900 in  /home/jruizalv/OutOfDropbox/CutsOptimization/PyScripts/Reconstructed_Higgs_Pt_Signal.root : 6152.0\n",
        "Entries for  Reconstructed_Higgs_Pt_950 in  /home/jruizalv/OutOfDropbox/CutsOptimization/PyScripts/Reconstructed_Higgs_Pt_Signal.root : 5679.0\n",
        "Entries for  Reconstructed_Higgs_Pt_1000 in  /home/jruizalv/OutOfDropbox/CutsOptimization/PyScripts/Reconstructed_Higgs_Pt_Signal.root : 5379.0\n",
        "Entries for  Reconstructed_W_Pt_600 in  /home/jruizalv/OutOfDropbox/CutsOptimization/PyScripts/Reconstructed_W_Pt_Signal.root : 3644.0\n",
        "Entries for  Reconstructed_W_Pt_650 in  /home/jruizalv/OutOfDropbox/CutsOptimization/PyScripts/Reconstructed_W_Pt_Signal.root : 4598.0\n",
        "Entries for  Reconstructed_W_Pt_700 in  /home/jruizalv/OutOfDropbox/CutsOptimization/PyScripts/Reconstructed_W_Pt_Signal.root : 5453.0\n",
        "Entries for  Reconstructed_W_Pt_750 in  /home/jruizalv/OutOfDropbox/CutsOptimization/PyScripts/Reconstructed_W_Pt_Signal.root : 5918.0\n",
        "Entries for  Reconstructed_W_Pt_800 in  /home/jruizalv/OutOfDropbox/CutsOptimization/PyScripts/Reconstructed_W_Pt_Signal.root : 5924.0\n",
        "Entries for  Reconstructed_W_Pt_850 in  /home/jruizalv/OutOfDropbox/CutsOptimization/PyScripts/Reconstructed_W_Pt_Signal.root : 6240.0\n",
        "Entries for  Reconstructed_W_Pt_900 in  /home/jruizalv/OutOfDropbox/CutsOptimization/PyScripts/Reconstructed_W_Pt_Signal.root : 6152.0\n",
        "Entries for  Reconstructed_W_Pt_950 in  /home/jruizalv/OutOfDropbox/CutsOptimization/PyScripts/Reconstructed_W_Pt_Signal.root : 5679.0\n",
        "Entries for  Reconstructed_W_Pt_1000 in  /home/jruizalv/OutOfDropbox/CutsOptimization/PyScripts/Reconstructed_W_Pt_Signal.root : 5379.0\n",
        "Entries for  Reconstructed_Top_Pt_600 in  /home/jruizalv/OutOfDropbox/CutsOptimization/PyScripts/Reconstructed_Top_Pt_Signal.root : 3644.0\n",
        "Entries for  Reconstructed_Top_Pt_650 in  /home/jruizalv/OutOfDropbox/CutsOptimization/PyScripts/Reconstructed_Top_Pt_Signal.root : 4598.0\n",
        "Entries for  Reconstructed_Top_Pt_700 in  /home/jruizalv/OutOfDropbox/CutsOptimization/PyScripts/Reconstructed_Top_Pt_Signal.root : 5453.0\n",
        "Entries for  Reconstructed_Top_Pt_750 in  /home/jruizalv/OutOfDropbox/CutsOptimization/PyScripts/Reconstructed_Top_Pt_Signal.root : 5918.0\n",
        "Entries for  Reconstructed_Top_Pt_800 in  /home/jruizalv/OutOfDropbox/CutsOptimization/PyScripts/Reconstructed_Top_Pt_Signal.root : 5924.0\n",
        "Entries for  Reconstructed_Top_Pt_850 in  /home/jruizalv/OutOfDropbox/CutsOptimization/PyScripts/Reconstructed_Top_Pt_Signal.root : 6240.0\n",
        "Entries for  Reconstructed_Top_Pt_900 in  /home/jruizalv/OutOfDropbox/CutsOptimization/PyScripts/Reconstructed_Top_Pt_Signal.root : 6152.0\n",
        "Entries for  Reconstructed_Top_Pt_950 in  /home/jruizalv/OutOfDropbox/CutsOptimization/PyScripts/Reconstructed_Top_Pt_Signal.root : 5679.0\n",
        "Entries for  Reconstructed_Top_Pt_1000 in  /home/jruizalv/OutOfDropbox/CutsOptimization/PyScripts/Reconstructed_Top_Pt_Signal.root : 5379.0\n",
        "Entries for  Reconstructed_Tprime_Pt_600 in  /home/jruizalv/OutOfDropbox/CutsOptimization/PyScripts/Reconstructed_Tprime_Pt_Signal.root : 3644.0\n",
        "Entries for  Reconstructed_Tprime_Pt_650 in  /home/jruizalv/OutOfDropbox/CutsOptimization/PyScripts/Reconstructed_Tprime_Pt_Signal.root : 4598.0\n",
        "Entries for  Reconstructed_Tprime_Pt_700 in  /home/jruizalv/OutOfDropbox/CutsOptimization/PyScripts/Reconstructed_Tprime_Pt_Signal.root : 5453.0\n",
        "Entries for  Reconstructed_Tprime_Pt_750 in  /home/jruizalv/OutOfDropbox/CutsOptimization/PyScripts/Reconstructed_Tprime_Pt_Signal.root : 5918.0\n",
        "Entries for  Reconstructed_Tprime_Pt_800 in  /home/jruizalv/OutOfDropbox/CutsOptimization/PyScripts/Reconstructed_Tprime_Pt_Signal.root : 5924.0\n",
        "Entries for  Reconstructed_Tprime_Pt_850 in  /home/jruizalv/OutOfDropbox/CutsOptimization/PyScripts/Reconstructed_Tprime_Pt_Signal.root : 6240.0\n",
        "Entries for  Reconstructed_Tprime_Pt_900 in  /home/jruizalv/OutOfDropbox/CutsOptimization/PyScripts/Reconstructed_Tprime_Pt_Signal.root : 6152.0\n",
        "Entries for  Reconstructed_Tprime_Pt_950 in  /home/jruizalv/OutOfDropbox/CutsOptimization/PyScripts/Reconstructed_Tprime_Pt_Signal.root : 5679.0\n",
        "Entries for  Reconstructed_Tprime_Pt_1000 in  /home/jruizalv/OutOfDropbox/CutsOptimization/PyScripts/Reconstructed_Tprime_Pt_Signal.root : 5379.0\n",
        "Entries for  Jet6th_Pt_600 in  /home/jruizalv/OutOfDropbox/CutsOptimization/PyScripts/Jet6th_Pt_Signal.root : 3644.0\n",
        "Entries for  Jet6th_Pt_650 in  /home/jruizalv/OutOfDropbox/CutsOptimization/PyScripts/Jet6th_Pt_Signal.root : 4598.0\n",
        "Entries for  Jet6th_Pt_700 in  /home/jruizalv/OutOfDropbox/CutsOptimization/PyScripts/Jet6th_Pt_Signal.root : 5453.0\n",
        "Entries for  Jet6th_Pt_750 in  /home/jruizalv/OutOfDropbox/CutsOptimization/PyScripts/Jet6th_Pt_Signal.root : 5918.0\n",
        "Entries for  Jet6th_Pt_800 in  /home/jruizalv/OutOfDropbox/CutsOptimization/PyScripts/Jet6th_Pt_Signal.root : 5924.0\n",
        "Entries for  Jet6th_Pt_850 in  /home/jruizalv/OutOfDropbox/CutsOptimization/PyScripts/Jet6th_Pt_Signal.root : 6240.0\n",
        "Entries for  Jet6th_Pt_900 in  /home/jruizalv/OutOfDropbox/CutsOptimization/PyScripts/Jet6th_Pt_Signal.root : 6152.0\n",
        "Entries for  Jet6th_Pt_950 in  /home/jruizalv/OutOfDropbox/CutsOptimization/PyScripts/Jet6th_Pt_Signal.root : 5679.0\n",
        "Entries for  Jet6th_Pt_1000 in  /home/jruizalv/OutOfDropbox/CutsOptimization/PyScripts/Jet6th_Pt_Signal.root : 5379.0\n",
        "Entries for  jet1_pt_600 in  /home/jruizalv/OutOfDropbox/CutsOptimization/PyScripts/jet1_pt_Signal_20GeVBins.root : 95167.0\n",
        "Entries for  jet1_pt_650 in  /home/jruizalv/OutOfDropbox/CutsOptimization/PyScripts/jet1_pt_Signal_20GeVBins.root : 98817.0\n",
        "Entries for  jet1_pt_700 in  /home/jruizalv/OutOfDropbox/CutsOptimization/PyScripts/jet1_pt_Signal_20GeVBins.root : 99464.0\n",
        "Entries for  jet1_pt_750 in  /home/jruizalv/OutOfDropbox/CutsOptimization/PyScripts/jet1_pt_Signal_20GeVBins.root : 99375.0\n",
        "Entries for  jet1_pt_800 in  /home/jruizalv/OutOfDropbox/CutsOptimization/PyScripts/jet1_pt_Signal_20GeVBins.root : 95801.0\n",
        "Entries for  jet1_pt_850 in  /home/jruizalv/OutOfDropbox/CutsOptimization/PyScripts/jet1_pt_Signal_20GeVBins.root : 99257.0\n",
        "Entries for  jet1_pt_900 in  /home/jruizalv/OutOfDropbox/CutsOptimization/PyScripts/jet1_pt_Signal_20GeVBins.root : 99174.0\n",
        "Entries for  jet1_pt_950 in  /home/jruizalv/OutOfDropbox/CutsOptimization/PyScripts/jet1_pt_Signal_20GeVBins.root : 95960.0\n",
        "Entries for  jet1_pt_1000 in  /home/jruizalv/OutOfDropbox/CutsOptimization/PyScripts/jet1_pt_Signal_20GeVBins.root : 99078.0\n",
        "Entries for  jet2_pt_600 in  /home/jruizalv/OutOfDropbox/CutsOptimization/PyScripts/jet2_pt_Signal_20GeVBins.root : 95167.0\n",
        "Entries for  jet2_pt_650 in  /home/jruizalv/OutOfDropbox/CutsOptimization/PyScripts/jet2_pt_Signal_20GeVBins.root : 98817.0\n",
        "Entries for  jet2_pt_700 in  /home/jruizalv/OutOfDropbox/CutsOptimization/PyScripts/jet2_pt_Signal_20GeVBins.root : 99464.0\n",
        "Entries for  jet2_pt_750 in  /home/jruizalv/OutOfDropbox/CutsOptimization/PyScripts/jet2_pt_Signal_20GeVBins.root : 99375.0\n",
        "Entries for  jet2_pt_800 in  /home/jruizalv/OutOfDropbox/CutsOptimization/PyScripts/jet2_pt_Signal_20GeVBins.root : 95801.0\n",
        "Entries for  jet2_pt_850 in  /home/jruizalv/OutOfDropbox/CutsOptimization/PyScripts/jet2_pt_Signal_20GeVBins.root : 99257.0\n",
        "Entries for  jet2_pt_900 in  /home/jruizalv/OutOfDropbox/CutsOptimization/PyScripts/jet2_pt_Signal_20GeVBins.root : 99174.0\n",
        "Entries for  jet2_pt_950 in  /home/jruizalv/OutOfDropbox/CutsOptimization/PyScripts/jet2_pt_Signal_20GeVBins.root : 95960.0\n",
        "Entries for  jet2_pt_1000 in  /home/jruizalv/OutOfDropbox/CutsOptimization/PyScripts/jet2_pt_Signal_20GeVBins.root : 99078.0\n",
        "Entries for  jet3_pt_600 in  /home/jruizalv/OutOfDropbox/CutsOptimization/PyScripts/jet3_pt_Signal_20GeVBins.root : 95167.0\n",
        "Entries for  jet3_pt_650 in  /home/jruizalv/OutOfDropbox/CutsOptimization/PyScripts/jet3_pt_Signal_20GeVBins.root : 98817.0\n",
        "Entries for  jet3_pt_700 in  /home/jruizalv/OutOfDropbox/CutsOptimization/PyScripts/jet3_pt_Signal_20GeVBins.root : 99464.0\n",
        "Entries for  jet3_pt_750 in  /home/jruizalv/OutOfDropbox/CutsOptimization/PyScripts/jet3_pt_Signal_20GeVBins.root : 99375.0\n",
        "Entries for  jet3_pt_800 in  /home/jruizalv/OutOfDropbox/CutsOptimization/PyScripts/jet3_pt_Signal_20GeVBins.root : 95801.0\n",
        "Entries for  jet3_pt_850 in  /home/jruizalv/OutOfDropbox/CutsOptimization/PyScripts/jet3_pt_Signal_20GeVBins.root : 99257.0\n",
        "Entries for  jet3_pt_900 in  /home/jruizalv/OutOfDropbox/CutsOptimization/PyScripts/jet3_pt_Signal_20GeVBins.root : 99174.0\n",
        "Entries for  jet3_pt_950 in  /home/jruizalv/OutOfDropbox/CutsOptimization/PyScripts/jet3_pt_Signal_20GeVBins.root : 95960.0\n",
        "Entries for  jet3_pt_1000 in  /home/jruizalv/OutOfDropbox/CutsOptimization/PyScripts/jet3_pt_Signal_20GeVBins.root : 99078.0\n",
        "Entries for  jet4_pt_600 in  /home/jruizalv/OutOfDropbox/CutsOptimization/PyScripts/jet4_pt_Signal_20GeVBins.root : 95167.0\n",
        "Entries for  jet4_pt_650 in  /home/jruizalv/OutOfDropbox/CutsOptimization/PyScripts/jet4_pt_Signal_20GeVBins.root : 98817.0\n",
        "Entries for  jet4_pt_700 in  /home/jruizalv/OutOfDropbox/CutsOptimization/PyScripts/jet4_pt_Signal_20GeVBins.root : 99464.0\n",
        "Entries for  jet4_pt_750 in  /home/jruizalv/OutOfDropbox/CutsOptimization/PyScripts/jet4_pt_Signal_20GeVBins.root : 99375.0\n",
        "Entries for  jet4_pt_800 in  /home/jruizalv/OutOfDropbox/CutsOptimization/PyScripts/jet4_pt_Signal_20GeVBins.root : 95801.0\n",
        "Entries for  jet4_pt_850 in  /home/jruizalv/OutOfDropbox/CutsOptimization/PyScripts/jet4_pt_Signal_20GeVBins.root : 99257.0\n",
        "Entries for  jet4_pt_900 in  /home/jruizalv/OutOfDropbox/CutsOptimization/PyScripts/jet4_pt_Signal_20GeVBins.root : 99174.0\n",
        "Entries for  jet4_pt_950 in  /home/jruizalv/OutOfDropbox/CutsOptimization/PyScripts/jet4_pt_Signal_20GeVBins.root : 95960.0\n",
        "Entries for  jet4_pt_1000 in  /home/jruizalv/OutOfDropbox/CutsOptimization/PyScripts/jet4_pt_Signal_20GeVBins.root : 99078.0\n",
        "Entries for  jet5_pt_600 in  /home/jruizalv/OutOfDropbox/CutsOptimization/PyScripts/jet5_pt_Signal_20GeVBins.root : 95167.0\n",
        "Entries for  jet5_pt_650 in  /home/jruizalv/OutOfDropbox/CutsOptimization/PyScripts/jet5_pt_Signal_20GeVBins.root : 98817.0\n",
        "Entries for  jet5_pt_700 in  /home/jruizalv/OutOfDropbox/CutsOptimization/PyScripts/jet5_pt_Signal_20GeVBins.root : 99464.0\n",
        "Entries for  jet5_pt_750 in  /home/jruizalv/OutOfDropbox/CutsOptimization/PyScripts/jet5_pt_Signal_20GeVBins.root : 99375.0\n",
        "Entries for  jet5_pt_800 in  /home/jruizalv/OutOfDropbox/CutsOptimization/PyScripts/jet5_pt_Signal_20GeVBins.root : 95801.0\n",
        "Entries for  jet5_pt_850 in  /home/jruizalv/OutOfDropbox/CutsOptimization/PyScripts/jet5_pt_Signal_20GeVBins.root : 99257.0\n",
        "Entries for  jet5_pt_900 in  /home/jruizalv/OutOfDropbox/CutsOptimization/PyScripts/jet5_pt_Signal_20GeVBins.root : 99174.0\n",
        "Entries for  jet5_pt_950 in  /home/jruizalv/OutOfDropbox/CutsOptimization/PyScripts/jet5_pt_Signal_20GeVBins.root : 95960.0\n",
        "Entries for  jet5_pt_1000 in  /home/jruizalv/OutOfDropbox/CutsOptimization/PyScripts/jet5_pt_Signal_20GeVBins.root : 99078.0\n",
        "Entries for  jet6_pt_600 in  /home/jruizalv/OutOfDropbox/CutsOptimization/PyScripts/jet6_pt_Signal_20GeVBins.root : 95167.0\n",
        "Entries for  jet6_pt_650 in  /home/jruizalv/OutOfDropbox/CutsOptimization/PyScripts/jet6_pt_Signal_20GeVBins.root : 98817.0\n",
        "Entries for  jet6_pt_700 in  /home/jruizalv/OutOfDropbox/CutsOptimization/PyScripts/jet6_pt_Signal_20GeVBins.root : 99464.0\n",
        "Entries for  jet6_pt_750 in  /home/jruizalv/OutOfDropbox/CutsOptimization/PyScripts/jet6_pt_Signal_20GeVBins.root : 99375.0\n",
        "Entries for  jet6_pt_800 in  /home/jruizalv/OutOfDropbox/CutsOptimization/PyScripts/jet6_pt_Signal_20GeVBins.root : 95801.0\n",
        "Entries for  jet6_pt_850 in  /home/jruizalv/OutOfDropbox/CutsOptimization/PyScripts/jet6_pt_Signal_20GeVBins.root : 99257.0\n",
        "Entries for  jet6_pt_900 in  /home/jruizalv/OutOfDropbox/CutsOptimization/PyScripts/jet6_pt_Signal_20GeVBins.root : 99174.0\n",
        "Entries for  jet6_pt_950 in  /home/jruizalv/OutOfDropbox/CutsOptimization/PyScripts/jet6_pt_Signal_20GeVBins.root : 95960.0\n",
        "Entries for  jet6_pt_1000 in  /home/jruizalv/OutOfDropbox/CutsOptimization/PyScripts/jet6_pt_Signal_20GeVBins.root : 99078.0\n",
        "Plotting Histo:"
       ]
      },
      {
       "output_type": "stream",
       "stream": "stdout",
       "text": [
        " 0\n",
        "Plotting Histo: 1\n",
        "Plotting Histo: 2\n",
        "Plotting Histo:"
       ]
      },
      {
       "output_type": "stream",
       "stream": "stdout",
       "text": [
        " 3\n",
        "Plotting Histo: 4\n",
        "Plotting Histo: 5\n",
        "Plotting Histo: 6\n",
        "Plotting Histo:"
       ]
      },
      {
       "output_type": "stream",
       "stream": "stdout",
       "text": [
        " 7\n",
        "Plotting Histo: 8\n",
        "Plotting Histo: 9\n",
        "Plotting Histo:"
       ]
      },
      {
       "output_type": "stream",
       "stream": "stdout",
       "text": [
        " 10\n",
        "Plotting Histo: 11\n",
        "Plotting Histo: 12\n",
        "Plotting Histo:"
       ]
      },
      {
       "output_type": "stream",
       "stream": "stdout",
       "text": [
        " 13\n",
        "Plotting Histo: 14\n",
        "Plotting Histo:"
       ]
      },
      {
       "output_type": "stream",
       "stream": "stdout",
       "text": [
        " 15\n",
        "Plotting Histo: 16\n",
        "Plotting Histo:"
       ]
      },
      {
       "output_type": "stream",
       "stream": "stdout",
       "text": [
        " 17\n",
        "Plotting Histo: 18\n",
        "Plotting Histo:"
       ]
      },
      {
       "output_type": "stream",
       "stream": "stdout",
       "text": [
        " 19\n",
        "Plotting Histo: 20\n",
        "Plotting Histo:"
       ]
      },
      {
       "output_type": "stream",
       "stream": "stdout",
       "text": [
        " 21\n",
        "Plotting Histo: 22\n",
        "Plotting Histo:"
       ]
      },
      {
       "output_type": "stream",
       "stream": "stdout",
       "text": [
        " 23\n",
        "Plotting Histo:"
       ]
      },
      {
       "output_type": "stream",
       "stream": "stdout",
       "text": [
        " 24\n",
        "Plotting Histo:"
       ]
      },
      {
       "output_type": "stream",
       "stream": "stdout",
       "text": [
        " 25\n",
        "Plotting Histo: 26\n",
        "Plotting Histo: 27\n",
        "Plotting Histo: 28\n",
        "Plotting Histo: 29\n",
        "Plotting Histo: 30\n",
        "Plotting Histo:"
       ]
      },
      {
       "output_type": "stream",
       "stream": "stdout",
       "text": [
        " 31\n",
        "Plotting Histo: 32\n",
        "Plotting Histo: 33\n",
        "Plotting Histo:"
       ]
      },
      {
       "output_type": "stream",
       "stream": "stdout",
       "text": [
        " 34\n",
        "Plotting Histo: 35\n",
        "Plotting Histo: 36\n",
        "Plotting Histo:"
       ]
      },
      {
       "output_type": "stream",
       "stream": "stdout",
       "text": [
        " 37\n",
        "Plotting Histo: 38\n",
        "Plotting Histo:"
       ]
      },
      {
       "output_type": "stream",
       "stream": "stdout",
       "text": [
        " 39\n",
        "Plotting Histo: 40\n",
        "Plotting Histo:"
       ]
      },
      {
       "output_type": "stream",
       "stream": "stdout",
       "text": [
        " 41\n",
        "Plotting Histo: 42\n",
        "Plotting Histo:"
       ]
      },
      {
       "output_type": "stream",
       "stream": "stdout",
       "text": [
        " 43\n",
        "Plotting Histo: 44\n",
        "Plotting Histo:"
       ]
      },
      {
       "output_type": "stream",
       "stream": "stdout",
       "text": [
        " 45\n",
        "Plotting Histo: 46\n",
        "Plotting Histo:"
       ]
      },
      {
       "output_type": "stream",
       "stream": "stdout",
       "text": [
        " 47\n",
        "Plotting Histo: 48\n",
        "Plotting Histo:"
       ]
      },
      {
       "output_type": "stream",
       "stream": "stdout",
       "text": [
        " 49\n",
        "Plotting Histo:"
       ]
      },
      {
       "output_type": "stream",
       "stream": "stdout",
       "text": [
        " 50\n",
        "Plotting Histo:"
       ]
      },
      {
       "output_type": "stream",
       "stream": "stdout",
       "text": [
        " 51\n",
        "Plotting Histo:"
       ]
      },
      {
       "output_type": "stream",
       "stream": "stdout",
       "text": [
        " 52\n",
        "Plotting Histo:"
       ]
      },
      {
       "output_type": "stream",
       "stream": "stdout",
       "text": [
        " 53\n",
        "Plotting Histo:"
       ]
      },
      {
       "output_type": "stream",
       "stream": "stdout",
       "text": [
        " 54\n",
        "Plotting Histo:"
       ]
      },
      {
       "output_type": "stream",
       "stream": "stdout",
       "text": [
        " 55\n",
        "Plotting Histo:"
       ]
      },
      {
       "output_type": "stream",
       "stream": "stdout",
       "text": [
        " 56\n",
        "Plotting Histo:"
       ]
      },
      {
       "output_type": "stream",
       "stream": "stdout",
       "text": [
        " 57\n",
        "Plotting Histo:"
       ]
      },
      {
       "output_type": "stream",
       "stream": "stdout",
       "text": [
        " 58\n",
        "Plotting Histo:"
       ]
      },
      {
       "output_type": "stream",
       "stream": "stdout",
       "text": [
        " 59\n",
        "Plotting Histo:"
       ]
      },
      {
       "output_type": "stream",
       "stream": "stdout",
       "text": [
        " 60\n",
        "Plotting Histo:"
       ]
      },
      {
       "output_type": "stream",
       "stream": "stdout",
       "text": [
        " 61\n",
        "Plotting Histo:"
       ]
      },
      {
       "output_type": "stream",
       "stream": "stdout",
       "text": [
        " 62\n",
        "Plotting Histo:"
       ]
      },
      {
       "output_type": "stream",
       "stream": "stdout",
       "text": [
        " 63\n",
        "Plotting Histo:"
       ]
      },
      {
       "output_type": "stream",
       "stream": "stdout",
       "text": [
        " 64\n",
        "Plotting Histo:"
       ]
      },
      {
       "output_type": "stream",
       "stream": "stdout",
       "text": [
        " 65\n",
        "Plotting Histo:"
       ]
      },
      {
       "output_type": "stream",
       "stream": "stdout",
       "text": [
        " 66\n",
        "Plotting Histo:"
       ]
      },
      {
       "output_type": "stream",
       "stream": "stdout",
       "text": [
        " 67\n",
        "Plotting Histo:"
       ]
      },
      {
       "output_type": "stream",
       "stream": "stdout",
       "text": [
        " 68\n",
        "Plotting Histo:"
       ]
      },
      {
       "output_type": "stream",
       "stream": "stdout",
       "text": [
        " 69\n",
        "Plotting Histo:"
       ]
      },
      {
       "output_type": "stream",
       "stream": "stdout",
       "text": [
        " 70\n",
        "Plotting Histo:"
       ]
      },
      {
       "output_type": "stream",
       "stream": "stdout",
       "text": [
        " 71\n",
        "Plotting Histo:"
       ]
      },
      {
       "output_type": "stream",
       "stream": "stdout",
       "text": [
        " 72\n",
        "Plotting Histo:"
       ]
      },
      {
       "output_type": "stream",
       "stream": "stdout",
       "text": [
        " 73\n",
        "Plotting Histo:"
       ]
      },
      {
       "output_type": "stream",
       "stream": "stdout",
       "text": [
        " 74\n",
        "Plotting Histo:"
       ]
      },
      {
       "output_type": "stream",
       "stream": "stdout",
       "text": [
        " 75\n",
        "Plotting Histo:"
       ]
      },
      {
       "output_type": "stream",
       "stream": "stdout",
       "text": [
        " 76\n",
        "Plotting Histo:"
       ]
      },
      {
       "output_type": "stream",
       "stream": "stdout",
       "text": [
        " 77\n",
        "Plotting Histo:"
       ]
      },
      {
       "output_type": "stream",
       "stream": "stdout",
       "text": [
        " 78\n",
        "Plotting Histo:"
       ]
      },
      {
       "output_type": "stream",
       "stream": "stdout",
       "text": [
        " 79\n",
        "Plotting Histo:"
       ]
      },
      {
       "output_type": "stream",
       "stream": "stdout",
       "text": [
        " 80\n",
        "Plotting Histo:"
       ]
      },
      {
       "output_type": "stream",
       "stream": "stdout",
       "text": [
        " 81\n",
        "Plotting Histo:"
       ]
      },
      {
       "output_type": "stream",
       "stream": "stdout",
       "text": [
        " 82\n",
        "Plotting Histo:"
       ]
      },
      {
       "output_type": "stream",
       "stream": "stdout",
       "text": [
        " 83\n",
        "Plotting Histo:"
       ]
      },
      {
       "output_type": "stream",
       "stream": "stdout",
       "text": [
        " 84\n",
        "Plotting Histo:"
       ]
      },
      {
       "output_type": "stream",
       "stream": "stdout",
       "text": [
        " 85\n",
        "Plotting Histo:"
       ]
      },
      {
       "output_type": "stream",
       "stream": "stdout",
       "text": [
        " 86\n",
        "Plotting Histo:"
       ]
      },
      {
       "output_type": "stream",
       "stream": "stdout",
       "text": [
        " 87\n",
        "Plotting Histo:"
       ]
      },
      {
       "output_type": "stream",
       "stream": "stdout",
       "text": [
        " 88\n",
        "Plotting Histo:"
       ]
      },
      {
       "output_type": "stream",
       "stream": "stdout",
       "text": [
        " 89\n",
        "Plotting Histo:"
       ]
      },
      {
       "output_type": "stream",
       "stream": "stdout",
       "text": [
        " 90\n",
        "Plotting Histo:"
       ]
      },
      {
       "output_type": "stream",
       "stream": "stdout",
       "text": [
        " 91\n",
        "Plotting Histo:"
       ]
      },
      {
       "output_type": "stream",
       "stream": "stdout",
       "text": [
        " 92\n",
        "Plotting Histo:"
       ]
      },
      {
       "output_type": "stream",
       "stream": "stdout",
       "text": [
        " 93\n",
        "Plotting Histo:"
       ]
      },
      {
       "output_type": "stream",
       "stream": "stdout",
       "text": [
        " 94\n",
        "Plotting Histo:"
       ]
      },
      {
       "output_type": "stream",
       "stream": "stdout",
       "text": [
        " 95\n",
        "Plotting Histo:"
       ]
      },
      {
       "output_type": "stream",
       "stream": "stdout",
       "text": [
        " 96\n",
        "Plotting Histo:"
       ]
      },
      {
       "output_type": "stream",
       "stream": "stdout",
       "text": [
        " 97\n",
        "Plotting Histo:"
       ]
      },
      {
       "output_type": "stream",
       "stream": "stdout",
       "text": [
        " 98\n",
        "Plotting Histo:"
       ]
      },
      {
       "output_type": "stream",
       "stream": "stdout",
       "text": [
        " 99\n",
        "Plotting Histo:"
       ]
      },
      {
       "output_type": "stream",
       "stream": "stdout",
       "text": [
        " 100\n",
        "Plotting Histo:"
       ]
      },
      {
       "output_type": "stream",
       "stream": "stdout",
       "text": [
        " 101\n",
        "Plotting Histo:"
       ]
      },
      {
       "output_type": "stream",
       "stream": "stdout",
       "text": [
        " 102\n",
        "Plotting Histo:"
       ]
      },
      {
       "output_type": "stream",
       "stream": "stdout",
       "text": [
        " 103\n",
        "Plotting Histo:"
       ]
      },
      {
       "output_type": "stream",
       "stream": "stdout",
       "text": [
        " 104\n",
        "Plotting Histo:"
       ]
      },
      {
       "output_type": "stream",
       "stream": "stdout",
       "text": [
        " 105\n",
        "Plotting Histo:"
       ]
      },
      {
       "output_type": "stream",
       "stream": "stdout",
       "text": [
        " 106\n",
        "Plotting Histo:"
       ]
      },
      {
       "output_type": "stream",
       "stream": "stdout",
       "text": [
        " 107\n",
        "Plotting Histo:"
       ]
      },
      {
       "output_type": "stream",
       "stream": "stdout",
       "text": [
        " 108\n",
        "Plotting Histo:"
       ]
      },
      {
       "output_type": "stream",
       "stream": "stdout",
       "text": [
        " 109\n",
        "Plotting Histo:"
       ]
      },
      {
       "output_type": "stream",
       "stream": "stdout",
       "text": [
        " 110\n",
        "Plotting Histo:"
       ]
      },
      {
       "output_type": "stream",
       "stream": "stdout",
       "text": [
        " 111\n",
        "Plotting Histo:"
       ]
      },
      {
       "output_type": "stream",
       "stream": "stdout",
       "text": [
        " 112\n",
        "Plotting Histo:"
       ]
      },
      {
       "output_type": "stream",
       "stream": "stdout",
       "text": [
        " 113\n",
        "Plotting Histo:"
       ]
      },
      {
       "output_type": "stream",
       "stream": "stdout",
       "text": [
        " 114\n",
        "Plotting Histo:"
       ]
      },
      {
       "output_type": "stream",
       "stream": "stdout",
       "text": [
        " 115\n",
        "Plotting Histo:"
       ]
      },
      {
       "output_type": "stream",
       "stream": "stdout",
       "text": [
        " 116\n",
        "Plotting Histo:"
       ]
      },
      {
       "output_type": "stream",
       "stream": "stdout",
       "text": [
        " 117\n",
        "Plotting Histo:"
       ]
      },
      {
       "output_type": "stream",
       "stream": "stdout",
       "text": [
        " 118\n",
        "Plotting Histo:"
       ]
      },
      {
       "output_type": "stream",
       "stream": "stdout",
       "text": [
        " 119\n",
        "Plotting Histo:"
       ]
      },
      {
       "output_type": "stream",
       "stream": "stdout",
       "text": [
        " 120\n",
        "Plotting Histo:"
       ]
      },
      {
       "output_type": "stream",
       "stream": "stdout",
       "text": [
        " 121\n",
        "Plotting Histo:"
       ]
      },
      {
       "output_type": "stream",
       "stream": "stdout",
       "text": [
        " 122\n",
        "Plotting Histo:"
       ]
      },
      {
       "output_type": "stream",
       "stream": "stdout",
       "text": [
        " 123\n",
        "Plotting Histo:"
       ]
      },
      {
       "output_type": "stream",
       "stream": "stdout",
       "text": [
        " 124\n",
        "Plotting Histo:"
       ]
      },
      {
       "output_type": "stream",
       "stream": "stdout",
       "text": [
        " 125\n",
        "Plotting Histo:"
       ]
      },
      {
       "output_type": "stream",
       "stream": "stdout",
       "text": [
        " 126\n",
        "Plotting Histo:"
       ]
      },
      {
       "output_type": "stream",
       "stream": "stdout",
       "text": [
        " 127\n",
        "Plotting Histo:"
       ]
      },
      {
       "output_type": "stream",
       "stream": "stdout",
       "text": [
        " 128\n",
        "Plotting Histo:"
       ]
      },
      {
       "output_type": "stream",
       "stream": "stdout",
       "text": [
        " 129\n",
        "Plotting Histo:"
       ]
      },
      {
       "output_type": "stream",
       "stream": "stdout",
       "text": [
        " 130\n",
        "Plotting Histo:"
       ]
      },
      {
       "output_type": "stream",
       "stream": "stdout",
       "text": [
        " 131\n",
        "Plotting Histo:"
       ]
      },
      {
       "output_type": "stream",
       "stream": "stdout",
       "text": [
        " 132\n",
        "Plotting Histo:"
       ]
      },
      {
       "output_type": "stream",
       "stream": "stdout",
       "text": [
        " 133\n",
        "Plotting Histo:"
       ]
      },
      {
       "output_type": "stream",
       "stream": "stdout",
       "text": [
        " 134\n",
        "Plotting Histo:"
       ]
      },
      {
       "output_type": "stream",
       "stream": "stdout",
       "text": [
        " 135\n",
        "Plotting Histo:"
       ]
      },
      {
       "output_type": "stream",
       "stream": "stdout",
       "text": [
        " 136\n",
        "Plotting Histo:"
       ]
      },
      {
       "output_type": "stream",
       "stream": "stdout",
       "text": [
        " 137\n",
        "Plotting Histo:"
       ]
      },
      {
       "output_type": "stream",
       "stream": "stdout",
       "text": [
        " 138\n",
        "Plotting Histo:"
       ]
      },
      {
       "output_type": "stream",
       "stream": "stdout",
       "text": [
        " 139\n",
        "Plotting Histo:"
       ]
      },
      {
       "output_type": "stream",
       "stream": "stdout",
       "text": [
        " 140\n",
        "Plotting Histo:"
       ]
      },
      {
       "output_type": "stream",
       "stream": "stdout",
       "text": [
        " 141\n",
        "Plotting Histo:"
       ]
      },
      {
       "output_type": "stream",
       "stream": "stdout",
       "text": [
        " 142\n",
        "Plotting Histo:"
       ]
      },
      {
       "output_type": "stream",
       "stream": "stdout",
       "text": [
        " 143\n"
       ]
      }
     ],
     "prompt_number": 2
    },
    {
     "cell_type": "heading",
     "level": 3,
     "metadata": {},
     "source": [
      "Drawing masses of resonances, right after reconstruction (No HT cut)"
     ]
    },
    {
     "cell_type": "code",
     "collapsed": false,
     "input": [
      "Base=\"/home/jruizalv/OutOfDropbox/CutsOptimization/PyScripts/\"\n",
      "\n",
      "F1=[\"Reconstructed_Higgs_M_Signal.root\", \"Reconstructed_W_M_Signal.root\", \"Reconstructed_Top_M_Signal.root\", \"Reconstructed_Tprime_M_Signal.root\"]\n",
      "\n",
      "files=[]\n",
      "for i in F1: files.append(Base+i)\n",
      "\n",
      "Masses=[\"600\",\"650\",\"700\",\"750\",\"800\",\"850\",\"900\",\"950\",\"1000\"]\n",
      "HistoName=[]\n",
      "for i in F1:\n",
      "    A=[]\n",
      "    for j in Masses:\n",
      "        A.append(i.split(\"Signal\")[0]+j)\n",
      "    HistoName.append(A)\n",
      "Rebin=1\n",
      "PDF=\"M_Checks_Signal_WithFit.pdf\"\n",
      "weights=[1.0, 1.0, 1.0, 1.0, 1.0, 1.0, 1.0, 1.0, 1.0]\n",
      "Nor=False\n",
      "Uni=\"\"\n",
      "XT=[\"M(H)\", \"M(W)\", \"M(t)\", \"M(Tp)\"] #same len of F1\n",
      "ST=False\n",
      "    \n",
      "Cos=[ROOT.kWhite,0,ROOT.kBlack,2,1,1]\n",
      "Cosmetics=[]\n",
      "FullXT=[]\n",
      "for i in F1:\n",
      "    for j in Masses:\n",
      "        Cosmetics.append(Cos)\n",
      "        FullXT.append(XT[F1.index(i)])\n",
      "        \n",
      "logari=False\n",
      "legend=[\"M(T') = 600 GeV/c^2\", \"M(T') = 650 GeV/c^2\", \"M(T') = 700 GeV/c^2\", \"M(T') = 750 GeV/c^2\", \"M(T') = 800 GeV/c^2\", \"M(T') = 850 GeV/c^2\", \"M(T') = 900 GeV/c^2\", \"M(T') = 950 GeV/c^2\", \"M(T') = 1000 GeV/c^2\"]\n",
      "Leg=[]\n",
      "for i in F1:\n",
      "    for j in Masses:\n",
      "        Leg.append(legend[Masses.index(j)])\n",
      "\n",
      "yrange=[]\n",
      "    \n",
      "HistoDrawer(files,HistoName,Rebin,PDF,weights,Nor,Uni,FullXT,ST,Cosmetics,logari,Leg,yrange)"
     ],
     "language": "python",
     "metadata": {},
     "outputs": [
      {
       "output_type": "stream",
       "stream": "stdout",
       "text": [
        "Entries for  Reconstructed_Higgs_M_600 in  /home/jruizalv/OutOfDropbox/CutsOptimization/PyScripts/Reconstructed_Higgs_M_Signal.root : 3644.0\n",
        "Entries for  Reconstructed_Higgs_M_650 in  /home/jruizalv/OutOfDropbox/CutsOptimization/PyScripts/Reconstructed_Higgs_M_Signal.root : 4598.0\n",
        "Entries for  Reconstructed_Higgs_M_700 in  /home/jruizalv/OutOfDropbox/CutsOptimization/PyScripts/Reconstructed_Higgs_M_Signal.root : 5453.0\n",
        "Entries for  Reconstructed_Higgs_M_750 in  /home/jruizalv/OutOfDropbox/CutsOptimization/PyScripts/Reconstructed_Higgs_M_Signal.root : 5918.0\n",
        "Entries for  Reconstructed_Higgs_M_800 in  /home/jruizalv/OutOfDropbox/CutsOptimization/PyScripts/Reconstructed_Higgs_M_Signal.root : 5924.0\n",
        "Entries for  Reconstructed_Higgs_M_850 in  /home/jruizalv/OutOfDropbox/CutsOptimization/PyScripts/Reconstructed_Higgs_M_Signal.root : 6240.0\n",
        "Entries for  Reconstructed_Higgs_M_900 in  /home/jruizalv/OutOfDropbox/CutsOptimization/PyScripts/Reconstructed_Higgs_M_Signal.root : 6152.0\n",
        "Entries for  Reconstructed_Higgs_M_950 in  /home/jruizalv/OutOfDropbox/CutsOptimization/PyScripts/Reconstructed_Higgs_M_Signal.root : 5679.0\n",
        "Entries for  Reconstructed_Higgs_M_1000 in  /home/jruizalv/OutOfDropbox/CutsOptimization/PyScripts/Reconstructed_Higgs_M_Signal.root : 5379.0\n",
        "Entries for  Reconstructed_W_M_600 in  /home/jruizalv/OutOfDropbox/CutsOptimization/PyScripts/Reconstructed_W_M_Signal.root : 3644.0\n",
        "Entries for  Reconstructed_W_M_650 in  /home/jruizalv/OutOfDropbox/CutsOptimization/PyScripts/Reconstructed_W_M_Signal.root : 4598.0\n",
        "Entries for  Reconstructed_W_M_700 in  /home/jruizalv/OutOfDropbox/CutsOptimization/PyScripts/Reconstructed_W_M_Signal.root : 5453.0\n",
        "Entries for  Reconstructed_W_M_750 in  /home/jruizalv/OutOfDropbox/CutsOptimization/PyScripts/Reconstructed_W_M_Signal.root : 5918.0\n",
        "Entries for  Reconstructed_W_M_800 in  /home/jruizalv/OutOfDropbox/CutsOptimization/PyScripts/Reconstructed_W_M_Signal.root : 5924.0\n",
        "Entries for  Reconstructed_W_M_850 in  /home/jruizalv/OutOfDropbox/CutsOptimization/PyScripts/Reconstructed_W_M_Signal.root : 6240.0\n",
        "Entries for  Reconstructed_W_M_900 in  /home/jruizalv/OutOfDropbox/CutsOptimization/PyScripts/Reconstructed_W_M_Signal.root : 6152.0\n",
        "Entries for  Reconstructed_W_M_950 in  /home/jruizalv/OutOfDropbox/CutsOptimization/PyScripts/Reconstructed_W_M_Signal.root : 5679.0\n",
        "Entries for  Reconstructed_W_M_1000 in  /home/jruizalv/OutOfDropbox/CutsOptimization/PyScripts/Reconstructed_W_M_Signal.root : 5379.0\n",
        "Entries for  Reconstructed_Top_M_600 in  /home/jruizalv/OutOfDropbox/CutsOptimization/PyScripts/Reconstructed_Top_M_Signal.root : 3644.0\n",
        "Entries for  Reconstructed_Top_M_650 in  /home/jruizalv/OutOfDropbox/CutsOptimization/PyScripts/Reconstructed_Top_M_Signal.root : 4598.0\n",
        "Entries for  Reconstructed_Top_M_700 in  /home/jruizalv/OutOfDropbox/CutsOptimization/PyScripts/Reconstructed_Top_M_Signal.root : 5453.0\n",
        "Entries for  Reconstructed_Top_M_750 in  /home/jruizalv/OutOfDropbox/CutsOptimization/PyScripts/Reconstructed_Top_M_Signal.root : 5918.0\n",
        "Entries for  Reconstructed_Top_M_800 in  /home/jruizalv/OutOfDropbox/CutsOptimization/PyScripts/Reconstructed_Top_M_Signal.root : 5924.0\n",
        "Entries for  Reconstructed_Top_M_850 in  /home/jruizalv/OutOfDropbox/CutsOptimization/PyScripts/Reconstructed_Top_M_Signal.root : 6240.0\n",
        "Entries for  Reconstructed_Top_M_900 in  /home/jruizalv/OutOfDropbox/CutsOptimization/PyScripts/Reconstructed_Top_M_Signal.root : 6152.0\n",
        "Entries for  Reconstructed_Top_M_950 in  /home/jruizalv/OutOfDropbox/CutsOptimization/PyScripts/Reconstructed_Top_M_Signal.root : 5679.0\n",
        "Entries for  Reconstructed_Top_M_1000 in  /home/jruizalv/OutOfDropbox/CutsOptimization/PyScripts/Reconstructed_Top_M_Signal.root : 5379.0\n",
        "Entries for  Reconstructed_Tprime_M_600 in  /home/jruizalv/OutOfDropbox/CutsOptimization/PyScripts/Reconstructed_Tprime_M_Signal.root : 3644.0\n",
        "Entries for  Reconstructed_Tprime_M_650 in  /home/jruizalv/OutOfDropbox/CutsOptimization/PyScripts/Reconstructed_Tprime_M_Signal.root : 4598.0\n",
        "Entries for  Reconstructed_Tprime_M_700 in  /home/jruizalv/OutOfDropbox/CutsOptimization/PyScripts/Reconstructed_Tprime_M_Signal.root : 5453.0\n",
        "Entries for  Reconstructed_Tprime_M_750 in  /home/jruizalv/OutOfDropbox/CutsOptimization/PyScripts/Reconstructed_Tprime_M_Signal.root : 5918.0\n",
        "Entries for  Reconstructed_Tprime_M_800 in  /home/jruizalv/OutOfDropbox/CutsOptimization/PyScripts/Reconstructed_Tprime_M_Signal.root : 5924.0\n",
        "Entries for  Reconstructed_Tprime_M_850 in  /home/jruizalv/OutOfDropbox/CutsOptimization/PyScripts/Reconstructed_Tprime_M_Signal.root : 6240.0\n",
        "Entries for  Reconstructed_Tprime_M_900 in  /home/jruizalv/OutOfDropbox/CutsOptimization/PyScripts/Reconstructed_Tprime_M_Signal.root : 6152.0\n",
        "Entries for  Reconstructed_Tprime_M_950 in  /home/jruizalv/OutOfDropbox/CutsOptimization/PyScripts/Reconstructed_Tprime_M_Signal.root : 5679.0\n",
        "Entries for  Reconstructed_Tprime_M_1000 in  /home/jruizalv/OutOfDropbox/CutsOptimization/PyScripts/Reconstructed_Tprime_M_Signal.root : 5379.0\n",
        "Plotting Histo: 0\n",
        "Plotting Histo:"
       ]
      },
      {
       "output_type": "stream",
       "stream": "stdout",
       "text": [
        " 1\n",
        "Plotting Histo: 2\n",
        "Plotting Histo: 3\n",
        "Plotting Histo: 4\n",
        "Plotting Histo:"
       ]
      },
      {
       "output_type": "stream",
       "stream": "stdout",
       "text": [
        " 5\n",
        "Plotting Histo: 6\n",
        "Plotting Histo: 7\n",
        "Plotting Histo: 8\n",
        "Plotting Histo:"
       ]
      },
      {
       "output_type": "stream",
       "stream": "stdout",
       "text": [
        " 9\n",
        "Plotting Histo: 10\n",
        "Plotting Histo: 11\n",
        "Plotting Histo:"
       ]
      },
      {
       "output_type": "stream",
       "stream": "stdout",
       "text": [
        " 12\n",
        "Plotting Histo: 13\n",
        "Plotting Histo: 14\n",
        "Plotting Histo:"
       ]
      },
      {
       "output_type": "stream",
       "stream": "stdout",
       "text": [
        " 15\n",
        "Plotting Histo: 16\n",
        "Plotting Histo:"
       ]
      },
      {
       "output_type": "stream",
       "stream": "stdout",
       "text": [
        " 17\n",
        "Plotting Histo: 18\n",
        "Plotting Histo:"
       ]
      },
      {
       "output_type": "stream",
       "stream": "stdout",
       "text": [
        " 19\n",
        "Plotting Histo: 20\n",
        "Plotting Histo:"
       ]
      },
      {
       "output_type": "stream",
       "stream": "stdout",
       "text": [
        " 21\n",
        "Plotting Histo: 22\n",
        "Plotting Histo:"
       ]
      },
      {
       "output_type": "stream",
       "stream": "stdout",
       "text": [
        " 23\n",
        "Plotting Histo: 24\n",
        "Plotting Histo:"
       ]
      },
      {
       "output_type": "stream",
       "stream": "stdout",
       "text": [
        " 25\n",
        "Plotting Histo: 26\n",
        "Plotting Histo:"
       ]
      },
      {
       "output_type": "stream",
       "stream": "stdout",
       "text": [
        " 27\n",
        "Plotting Histo: 28\n",
        "Plotting Histo:"
       ]
      },
      {
       "output_type": "stream",
       "stream": "stdout",
       "text": [
        " 29\n",
        "Plotting Histo: 30\n",
        "Plotting Histo:"
       ]
      },
      {
       "output_type": "stream",
       "stream": "stdout",
       "text": [
        " 31\n",
        "Plotting Histo: 32\n",
        "Plotting Histo:"
       ]
      },
      {
       "output_type": "stream",
       "stream": "stdout",
       "text": [
        " 33\n",
        "Plotting Histo:"
       ]
      },
      {
       "output_type": "stream",
       "stream": "stdout",
       "text": [
        " 34\n",
        "Plotting Histo:"
       ]
      },
      {
       "output_type": "stream",
       "stream": "stdout",
       "text": [
        " 35\n"
       ]
      }
     ],
     "prompt_number": 2
    },
    {
     "cell_type": "code",
     "collapsed": false,
     "input": [
      "from HistoOverDrawerFromHistoFile import *"
     ],
     "language": "python",
     "metadata": {},
     "outputs": [],
     "prompt_number": 1
    },
    {
     "cell_type": "code",
     "collapsed": false,
     "input": [
      "Base=\"/home/jruizalv/OutOfDropbox/CutsOptimization/PyScripts/\"\n",
      "\n",
      "F1=[[\"/home/jruizalv/OutOfDropbox/CutsOptimization/PyScripts/GEN_Mass_Widths.root\",\"/home/jruizalv/OutOfDropbox/CutsOptimization/PyScripts/Tp_Mass_Widths_Decay_From_Matching.root\",\"/home/jruizalv/OutOfDropbox/CutsOptimization/PyScripts/Reconstructed_Tprime_M_Signal.root\"]]\n",
      "    \n",
      "files=[]\n",
      "#for i in F1: files.append(Base+i)\n",
      "\n",
      "Masses=[\"600\",\"650\",\"700\",\"750\",\"800\",\"850\",\"900\",\"950\",\"1000\"]\n",
      "GEN=[\"M5J_600\",\"M5J_650\",\"M5J_700\",\"M5J_750\",\"M5J_800\",\"M5J_850\",\"M5J_900\",\"M5J_950\",\"M5J_1000\"]\n",
      "Reco=[\"Reconstructed_Tprime_M_600\",\"Reconstructed_Tprime_M_650\",\"Reconstructed_Tprime_M_700\",\"Reconstructed_Tprime_M_750\",\"Reconstructed_Tprime_M_800\",\"Reconstructed_Tprime_M_850\",\"Reconstructed_Tprime_M_900\",\"Reconstructed_Tprime_M_950\",\"Reconstructed_Tprime_M_1000\"]\n",
      "HistoName=[GEN,GEN,Reco]\n",
      "Rebin=1\n",
      "PDF=\"M_Widths_Signal_FullLeg.pdf\"\n",
      "weights=[1.0,1.0,1.0,1.0,1.0,1.0,1.0,1.0,1.0]\n",
      "Nor=True\n",
      "Uni=\"\"\n",
      "XT=[\"M(T')\",\"M(T')\",\"M(T')\",\"M(T')\",\"M(T')\",\"M(T')\",\"M(T')\",\"M(T')\",\"M(T')\"]\n",
      "ST=False\n",
      "    \n",
      "Cos1=[ROOT.kWhite,0,ROOT.kBlack,1,1,1]\n",
      "Cos2=[ROOT.kWhite,0,ROOT.kBlue,2,2,1]\n",
      "Cos3=[ROOT.kWhite,0,ROOT.kRed,3,9,1]\n",
      "Cosmetics=[Cos1,Cos2,Cos3]\n",
      "  \n",
      "logari=False\n",
      "Leg=[[\"M^{GEN}(T') = 600 GeV/c^2\", \"M^{GEN}(T') = 650 GeV/c^2\", \"M^{GEN}(T') = 700 GeV/c^2\", \"M^{GEN}(T') = 750 GeV/c^2\", \"M^{GEN}(T') = 800 GeV/c^2\", \"M^{GEN}(T') = 850 GeV/c^2\", \"M^{GEN}(T') = 900 GeV/c^2\", \"M^{GEN}(T') = 950 GeV/c^2\", \"M^{GEN}(T') = 1000 GeV/c^2\"],\n",
      "     [\"M^{PY}(T') = 600 GeV/c^2\", \"M^{PY}(T') = 650 GeV/c^2\", \"M^{PY}(T') = 700 GeV/c^2\", \"M^{PY}(T') = 750 GeV/c^2\", \"M^{PY}(T') = 800 GeV/c^2\", \"M^{PY}(T') = 850 GeV/c^2\", \"M^{PY}(T') = 900 GeV/c^2\", \"M^{PY}(T') = 950 GeV/c^2\", \"M^{PY}(T') = 1000 GeV/c^2\"],\n",
      "     [\"M^{RECO}(T') = 600 GeV/c^2\", \"M^{RECO}(T') = 650 GeV/c^2\", \"M^{RECO}(T') = 700 GeV/c^2\", \"M^{RECO}(T') = 750 GeV/c^2\", \"M^{RECO}(T') = 800 GeV/c^2\", \"M^{RECO}(T') = 850 GeV/c^2\", \"M^{RECO}(T') = 900 GeV/c^2\", \"M^{RECO}(T') = 950 GeV/c^2\", \"M^{RECO}(T') = 1000 GeV/c^2\"]]\n",
      "\n",
      "yrange=[]\n",
      "Xran=[[500,700],[550,750],[600,800],[650,850],[700,900],[750,950],[750,1050],[800,1100],[850,1150]]\n",
      "   \n",
      "HistoOverDrawer(F1,HistoName,Rebin,PDF,weights,Nor,Uni,XT,ST,Cosmetics,logari,Leg,yrange,Xran)"
     ],
     "language": "python",
     "metadata": {},
     "outputs": [
      {
       "output_type": "stream",
       "stream": "stdout",
       "text": [
        "Entries for  M5J_600 in  /home/jruizalv/OutOfDropbox/CutsOptimization/PyScripts/GEN_Mass_Widths.root : 95167.0\n",
        "Entries for  M5J_650 in  /home/jruizalv/OutOfDropbox/CutsOptimization/PyScripts/GEN_Mass_Widths.root : 98817.0\n",
        "Entries for  M5J_700 in  /home/jruizalv/OutOfDropbox/CutsOptimization/PyScripts/GEN_Mass_Widths.root : 99464.0\n",
        "Entries for  M5J_750 in  /home/jruizalv/OutOfDropbox/CutsOptimization/PyScripts/GEN_Mass_Widths.root : 99375.0\n",
        "Entries for  M5J_800 in  /home/jruizalv/OutOfDropbox/CutsOptimization/PyScripts/GEN_Mass_Widths.root : 95801.0\n",
        "Entries for  M5J_850 in  /home/jruizalv/OutOfDropbox/CutsOptimization/PyScripts/GEN_Mass_Widths.root : 99257.0\n",
        "Entries for  M5J_900 in  /home/jruizalv/OutOfDropbox/CutsOptimization/PyScripts/GEN_Mass_Widths.root : 99174.0\n",
        "Entries for  M5J_950 in  /home/jruizalv/OutOfDropbox/CutsOptimization/PyScripts/GEN_Mass_Widths.root : 95960.0\n",
        "Entries for  M5J_1000 in  /home/jruizalv/OutOfDropbox/CutsOptimization/PyScripts/GEN_Mass_Widths.root : 99078.0\n",
        "Entries for  M5J_600 in  /home/jruizalv/OutOfDropbox/CutsOptimization/PyScripts/Tp_Mass_Widths_Decay_From_Matching.root : 2004.0\n",
        "Entries for  M5J_650 in  /home/jruizalv/OutOfDropbox/CutsOptimization/PyScripts/Tp_Mass_Widths_Decay_From_Matching.root : 2680.0\n",
        "Entries for  M5J_700 in  /home/jruizalv/OutOfDropbox/CutsOptimization/PyScripts/Tp_Mass_Widths_Decay_From_Matching.root : 3240.0\n",
        "Entries for  M5J_750 in  /home/jruizalv/OutOfDropbox/CutsOptimization/PyScripts/Tp_Mass_Widths_Decay_From_Matching.root : 3454.0\n",
        "Entries for  M5J_800 in  /home/jruizalv/OutOfDropbox/CutsOptimization/PyScripts/Tp_Mass_Widths_Decay_From_Matching.root : 3510.0\n",
        "Entries for  M5J_850 in  /home/jruizalv/OutOfDropbox/CutsOptimization/PyScripts/Tp_Mass_Widths_Decay_From_Matching.root : 3539.0\n",
        "Entries for  M5J_900 in  /home/jruizalv/OutOfDropbox/CutsOptimization/PyScripts/Tp_Mass_Widths_Decay_From_Matching.root : 3421.0\n",
        "Entries for  M5J_950 in  /home/jruizalv/OutOfDropbox/CutsOptimization/PyScripts/Tp_Mass_Widths_Decay_From_Matching.root : 3029.0\n",
        "Entries for  M5J_1000 in  /home/jruizalv/OutOfDropbox/CutsOptimization/PyScripts/Tp_Mass_Widths_Decay_From_Matching.root : 2769.0\n",
        "Entries for  Reconstructed_Tprime_M_600 in  /home/jruizalv/OutOfDropbox/CutsOptimization/PyScripts/Reconstructed_Tprime_M_Signal.root : 3644.0\n",
        "Entries for  Reconstructed_Tprime_M_650 in  /home/jruizalv/OutOfDropbox/CutsOptimization/PyScripts/Reconstructed_Tprime_M_Signal.root : 4598.0\n",
        "Entries for  Reconstructed_Tprime_M_700 in  /home/jruizalv/OutOfDropbox/CutsOptimization/PyScripts/Reconstructed_Tprime_M_Signal.root : 5453.0\n",
        "Entries for  Reconstructed_Tprime_M_750 in  /home/jruizalv/OutOfDropbox/CutsOptimization/PyScripts/Reconstructed_Tprime_M_Signal.root : 5918.0\n",
        "Entries for  Reconstructed_Tprime_M_800 in  /home/jruizalv/OutOfDropbox/CutsOptimization/PyScripts/Reconstructed_Tprime_M_Signal.root : 5924.0\n",
        "Entries for  Reconstructed_Tprime_M_850 in  /home/jruizalv/OutOfDropbox/CutsOptimization/PyScripts/Reconstructed_Tprime_M_Signal.root : 6240.0\n",
        "Entries for  Reconstructed_Tprime_M_900 in  /home/jruizalv/OutOfDropbox/CutsOptimization/PyScripts/Reconstructed_Tprime_M_Signal.root : 6152.0\n",
        "Entries for  Reconstructed_Tprime_M_950 in  /home/jruizalv/OutOfDropbox/CutsOptimization/PyScripts/Reconstructed_Tprime_M_Signal.root : 5679.0\n",
        "Entries for  Reconstructed_Tprime_M_1000 in  /home/jruizalv/OutOfDropbox/CutsOptimization/PyScripts/Reconstructed_Tprime_M_Signal.root : 5379.0\n",
        "3\n",
        "9\n",
        "9\n",
        "9\n",
        "Plotting Histo:"
       ]
      },
      {
       "output_type": "stream",
       "stream": "stdout",
       "text": [
        " 0 0\n",
        "Plotting Histo:"
       ]
      },
      {
       "output_type": "stream",
       "stream": "stdout",
       "text": [
        " 1 0\n",
        "Plotting Histo: 2 0\n",
        "Plotting Histo: 0 1\n",
        "Plotting Histo: 1 1\n",
        "Plotting Histo: 2 1\n",
        "Plotting Histo:"
       ]
      },
      {
       "output_type": "stream",
       "stream": "stdout",
       "text": [
        " 0 2\n",
        "Plotting Histo: 1 2\n",
        "Plotting Histo: 2 2\n",
        "Plotting Histo: 0 3\n",
        "Plotting Histo: 1 3\n",
        "Plotting Histo: 2 3\n",
        "Plotting Histo:"
       ]
      },
      {
       "output_type": "stream",
       "stream": "stdout",
       "text": [
        " 0 4\n",
        "Plotting Histo: 1 4\n",
        "Plotting Histo: 2 4\n",
        "Plotting Histo: 0 5\n",
        "Plotting Histo: 1 5\n",
        "Plotting Histo: 2 5\n",
        "Plotting Histo:"
       ]
      },
      {
       "output_type": "stream",
       "stream": "stdout",
       "text": [
        " 0 6\n",
        "Plotting Histo: 1 6\n",
        "Plotting Histo: 2 6\n",
        "Plotting Histo:"
       ]
      },
      {
       "output_type": "stream",
       "stream": "stdout",
       "text": [
        " 0 7\n",
        "Plotting Histo: 1 7\n",
        "Plotting Histo: 2 7\n",
        "Plotting Histo:"
       ]
      },
      {
       "output_type": "stream",
       "stream": "stdout",
       "text": [
        " 0 8\n",
        "Plotting Histo: 1 8\n",
        "Plotting Histo: 2 8\n"
       ]
      }
     ],
     "prompt_number": 2
    },
    {
     "cell_type": "code",
     "collapsed": false,
     "input": [],
     "language": "python",
     "metadata": {},
     "outputs": []
    }
   ],
   "metadata": {}
  }
 ]
}