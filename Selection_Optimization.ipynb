{
 "metadata": {
  "name": ""
 },
 "nbformat": 3,
 "nbformat_minor": 0,
 "worksheets": [
  {
   "cells": [
    {
     "cell_type": "code",
     "collapsed": false,
     "input": [
      "from Generic import *"
     ],
     "language": "python",
     "metadata": {},
     "outputs": [],
     "prompt_number": 1
    },
    {
     "cell_type": "code",
     "collapsed": false,
     "input": [
      "Version=\"V1\"\n",
      "\n",
      "SignalSampleFile=\"SignalSample_\"+Version\n",
      "MCSignalSampleArray=np.load(SignalSampleFile+\".npy\")\n",
      "\n",
      "NMassPointsA=MCSignalSampleArray[0:NsignalFiles]; TntupleA=MCSignalSampleArray[NsignalFiles]; QntuplesA=MCSignalSampleArray[NsignalFiles+1:]\n",
      "print NMassPointsA[2].GetEntries(), TntupleA.GetEntries(), QntuplesA[0].GetEntries()"
     ],
     "language": "python",
     "metadata": {},
     "outputs": [
      {
       "output_type": "stream",
       "stream": "stdout",
       "text": [
        "5453 179509 7294\n"
       ]
      }
     ],
     "prompt_number": 2
    },
    {
     "cell_type": "code",
     "collapsed": false,
     "input": [
      "HTCut = ROOT.TCut(\"THT>630\") #Cut on HT\n",
      "\n",
      "SignalEntries=[]\n",
      "TTbarEntries=[]\n",
      "\n",
      "#DRHJ<=1.2 && (DRWH>=1.6 && DRWH<=4.0) && M2HP>9 && DRTp6thJ>4.7 && RelHT>=0.7 && (HM>=105 && HM<=145)\n",
      "\n",
      "Eta6thJSet=[\"TMath::Abs(Eta6thJ)>\",np.linspace(1.0,2.0,11)]\n",
      "#DRTp6thJSet=[\"DRTp6thJ>\",np.linspace(4.5,6.0,4)]\n",
      "#RelHTSet=[\"RelHT>=\",np.linspace(0.5,0.8,7)]\n",
      "#M2HPSet=[\"M2HP>\",np.linspace(5.0,11.0,13)]\n",
      "DRTp6thJSet=[\"DRTp6thJ>\",np.linspace(4.0,6.0,4)]\n",
      "RelHTSet=[\"RelHT>=\",np.linspace(0.58,0.72,7)]\n",
      "M2HPSet=[\"M2HP>\",np.linspace(6.2,8.2,13)]\n",
      "#Eta6thJSet=[\"TMath::Abs(Eta6thJ)>\",np.linspace(1.0,2.0,11)]\n",
      "#MTHAsym2=[\"MTHAsym\",np.linspace(0.5,0.1,5),0.18]\n",
      "MTHAsym2=[\"MTHAsym\",np.linspace(0.25,0.05,5),0.18]\n",
      "TopsPTAsym2=[\"TopsPTAsym\",np.linspace(1.0,0.1,10),0.0]\n",
      "PTTHAsym2=[\"PTTHAsym\",np.linspace(1.0,0.1,10),0.0]\n",
      "MTmMHdMW2=[\"MTmMHdMW\",np.linspace(1.6,0.1,16),0.6]\n",
      "T1PTdT2PT2=[\"T1PTdT2PT\",np.linspace(1.0,0.1,10),1.0]\n",
      "MTWAsym2=[\"MTWAsym\",np.linspace(0.4,0.05,8),0.37]\n",
      "M1HM2=[\"M1HM\",np.linspace(1.0,0.1,10),0.7]\n",
      "#DPTH2=[\"DPTH\",np.linspace(0.1,np.pi-0.1,20),np.pi]\n",
      "DPTH2=[\"DPTH>\",np.linspace(0.1,np.pi-0.1,10)]\n",
      "DETH2=[\"DETH\",np.linspace(2,0.1,10),0.0]\n",
      "\n",
      "CounterToWriteToFile=0\n",
      "ListForFile=[]\n",
      "\n",
      "Cut2Set=M2HPSet\n",
      "Cut3Set=DRTp6thJSet\n",
      "Cut4Set=RelHTSet\n",
      "Cut5Set=MTHAsym2\n",
      "\n",
      "PDFNameScan=\"Scan_M2HP_DRTp6thJ_RelHT_\"+Cut5Set[0]+\"_HTg630.pdf\"\n",
      "CurCanvScan = rootnotes.canvas(\"MyPlot\", (600, 800))\n",
      "Counterscan=0\n",
      "\n",
      "SoB=[]; QCD_B=[]; CutsValues=[]\n",
      "\n",
      "for i in Cut2Set[1]:\n",
      "    Cut2 = ROOT.TCut(Cut2Set[0]+str(i))\n",
      "    for j in Cut3Set[1]:\n",
      "        Cut3 = ROOT.TCut(Cut3Set[0]+str(j))\n",
      "        for k in Cut4Set[1]:\n",
      "            Cut4 = ROOT.TCut(Cut4Set[0]+str(k))\n",
      "            for l in Cut5Set[1]:\n",
      "                Cut5 = ROOT.TCut(Cut5Set[0]+\">=\"+str(Cut5Set[2]-l)+\" && \"+Cut5Set[0]+\"<=\"+str(Cut5Set[2]+l))\n",
      "                #Cut5 = ROOT.TCut(Cut5Set[0]+\">=\"+str(Cut5Set[2]+i)+\" || \"+Cut5Set[0]+\"<=\"+str(Cut5Set[2]-i))\n",
      "                #Cut5 = ROOT.TCut(Cut5Set[0]+\"<=\"+str(i))\n",
      "                #Cut5 = ROOT.TCut(Cut5Set[0]+str(i))\n",
      "                #CutF=Cut1*CutDRbb*CutDRWH*Cut2*Cut3*CutHM*Cut4*Cut5 #Cutting on chi2<140\n",
      "                CutF=HTCut*CutDRbb*CutDRWH*Cut2*Cut3*CutHM*Cut4*Cut5\n",
      "\n",
      "                NMassPointsA[2].Draw(\"M5J >> M5jS(120,400,1600)\",CutF)\n",
      "                M5JHS=ROOT.gDirectory.Get(\"M5jS\")\n",
      "                if M5JHS.GetEntries()*SWeight<10: continue\n",
      "                M5JHS.Sumw2(); M5JHS.Scale(SWeight) \n",
      "                \n",
      "                TntupleA.Draw(\"M5J >> M5jT(120,400,1600)\",CutF)\n",
      "                M5JHT=ROOT.gDirectory.Get(\"M5jT\")\n",
      "                if M5JHT.GetEntries()*TWeight>=50: continue\n",
      "                M5JHT.Sumw2(); M5JHT.Scale(TWeight)\n",
      "                \n",
      "                QntuplesA[0].Draw(\"M5J >> M5jQ(120,400,1600)\",CutF)\n",
      "                M5JHQ=ROOT.gDirectory.Get(\"M5jQ\")\n",
      "                if M5JHQ.GetEntries()>3: continue                \n",
      "                M5JHQ.Sumw2(); M5JHQ.Scale(Q500Weight)\n",
      "                \n",
      "                #INTEGRATION\n",
      "                print \"--------------------------------\"\n",
      "                f1=ROOT.TF1(\"f1\",\"gaus\",600,800)\n",
      "                M5JHS.Fit(\"f1\",\"LMR\",\"same\")\n",
      "                MassPoint=f1.GetParameter(1); win=f1.GetParameter(2)\n",
      "                Chi2=f1.GetChisquare(); NDF=f1.GetNDF()\n",
      "                window_error=ROOT.Double(0.)\n",
      "                integral=M5JHS.IntegralAndError(M5JHS.GetXaxis().FindBin(MassPoint-win),M5JHS.GetXaxis().FindBin(MassPoint+win),window_error)\n",
      "                print \"M=700 GeV ------> {0:.2f} +- {1:.2f}, and full range integral: {2:.2f}\".format(integral,window_error,M5JHS.Integral())\n",
      "                print \"Mean value: {0:.2f}, with sigma: {1:.2f}\".format(MassPoint,win)\n",
      "                print \"Chi2={0:.2f}, ndf={1:.2f}, Chi2/ndf={2:.2f}\".format(Chi2, NDF, Chi2/NDF)\n",
      "                \n",
      "                bkg_integralT=M5JHT.IntegralAndError(M5JHT.GetXaxis().FindBin(MassPoint-win),M5JHT.GetXaxis().FindBin(MassPoint+win),window_error)\n",
      "                print \"TTbar ------> {0:.2f} +- {1:.2f}, and full range integral: {2:.2f}\".format(bkg_integralT,window_error,M5JHT.Integral())\n",
      "                #SignalEntries2.append(integral); TTbarEntries2.append(bkg_integral)\n",
      "                \n",
      "                SoB.append(integral/bkg_integralT); QCD_B.append(M5JHQ.Integral()); CutsValues.append((i,j,k,l))\n",
      "                \n",
      "                bkg_integralQ=M5JHQ.IntegralAndError(M5JHQ.GetXaxis().FindBin(MassPoint-win),M5JHQ.GetXaxis().FindBin(MassPoint+win),window_error)\n",
      "                print \"QCD ------> {0:.2f} +- {1:.2f}, and full range integral: {2:.2f}\".format(bkg_integralQ,window_error,M5JHQ.Integral())\n",
      "                #SignalEntries.append([CutF,M5JHS.GetEntries()]); TTbarEntries.append([CutF,M5JHT.GetEntries()])\n",
      "                CounterToWriteToFile+=1\n",
      "                we=ROOT.Double(0.)\n",
      "                TTbarStruc1=M5JHT.IntegralAndError(M5JHT.GetXaxis().FindBin(0),M5JHT.GetXaxis().FindBin(700),we)/M5JHT.Integral()\n",
      "                TTbarStruc2=M5JHT.IntegralAndError(M5JHT.GetXaxis().FindBin(700),M5JHT.GetXaxis().FindBin(850),we)/M5JHT.Integral()\n",
      "                TTbarStruc3=M5JHT.IntegralAndError(M5JHT.GetXaxis().FindBin(850),M5JHT.GetXaxis().FindBin(1000),we)/M5JHT.Integral()\n",
      "                TTbarStruc4=M5JHT.IntegralAndError(M5JHT.GetXaxis().FindBin(1000),M5JHT.GetXaxis().FindBin(10000),we)/M5JHT.Integral()\n",
      "                if M5JHQ.Integral()!=0:\n",
      "                    QCDStruc1=M5JHQ.IntegralAndError(M5JHQ.GetXaxis().FindBin(0),M5JHQ.GetXaxis().FindBin(700),we)/M5JHQ.Integral()\n",
      "                    QCDStruc2=M5JHQ.IntegralAndError(M5JHQ.GetXaxis().FindBin(700),M5JHQ.GetXaxis().FindBin(850),we)/M5JHQ.Integral()\n",
      "                    QCDStruc3=M5JHQ.IntegralAndError(M5JHQ.GetXaxis().FindBin(850),M5JHQ.GetXaxis().FindBin(1000),we)/M5JHQ.Integral()\n",
      "                    QCDStruc4=M5JHQ.IntegralAndError(M5JHQ.GetXaxis().FindBin(1000),M5JHQ.GetXaxis().FindBin(10000),we)/M5JHQ.Integral()\n",
      "                else: QCDStruc1=0.0; QCDStruc2=0.0; QCDStruc3=0.0; QCDStruc4=0.0\n",
      "                print '({0:.2f} {1:.2f} {2:.2f} {3:.2f}): {4:.2f}; {5:.2f}; {6:.2f}; {7:.2f}; {8:.2f} | ({9:.2f},{10:.2f},{11:.2f},{12:.2f}) ({13:.2f},{14:.2f},{15:.2f},{16:.2f})'.format(i,j,k,l,\n",
      "                                                                                                        M5JHS.GetEntries()*SWeight,\n",
      "                                                                                                        M5JHT.GetEntries()*TWeight,\n",
      "                                                                                                        M5JHQ.GetEntries()*Q500Weight,\n",
      "                                                                                                        M5JHS.GetEntries()/(M5JHT.GetEntries()+M5JHQ.GetEntries()),\n",
      "                                                                                                        M5JHS.GetEntries()/np.sqrt(M5JHS.GetEntries()+M5JHT.GetEntries()+M5JHQ.GetEntries()),\n",
      "                                                                                                        TTbarStruc1,TTbarStruc2,TTbarStruc3,TTbarStruc4,\n",
      "                                                                                                        QCDStruc1,QCDStruc2,QCDStruc3,QCDStruc4)\n",
      "                M5JHQ.SetStats(ROOT.kFALSE)\n",
      "                M5JHQ.SetLineStyle(7); M5JHT.SetLineStyle(9); M5JHS.SetLineStyle(1)\n",
      "                M5JHQ.SetLineWidth(2); M5JHT.SetLineWidth(1); M5JHS.SetLineWidth(3)\n",
      "                M5JHQ.SetLineColor(ROOT.kViolet+1); M5JHT.SetLineColor(ROOT.kRed); M5JHS.SetLineColor(ROOT.kGreen+1)\n",
      "                LEG=ROOT.TLegend(0.6,0.6,0.8,0.8)\n",
      "                LEG.AddEntry(M5JHQ, \"QCD\", \"l\"); LEG.AddEntry(M5JHT, \"TTbar\", \"l\"); LEG.AddEntry(M5JHS, \"Signal\", \"l\")\n",
      "                LEG.SetFillColor(0);\n",
      "                M5JHQ.Draw(\"hist\"); M5JHT.Draw(\"hist same\"); M5JHS.Draw(\"hist same\"); LEG.Draw()\n",
      "    \n",
      "                if Counterscan==0: CurCanvScan.Print(PDFNameScan+\"(\",\"Title:\"+Cut5Set[0]+str(i))\n",
      "                elif Counterscan>0: CurCanvScan.Print(PDFNameScan,\"Title:\"+Cut5Set[0]+str(i))\n",
      "                #else: CurCanvScan.Print(PDFNameScan+\")\",\"Title:\"+Cut5Set[0]+str(i))\n",
      "                \n",
      "                Counterscan+=1\n",
      "                    \n",
      "                ListForFile.append([[(i,j,k,l),bkg_integralQ],bkg_integralT,integral])\n",
      "                FinalCondition=(Cut2Set[1][-1]==i and Cut3Set[1][-1]==j and Cut4Set[1][-1]==k)\n",
      "                #if CounterToWriteToFile%200==0: #or FinalCondition:\n",
      "                #    f = open('Selections_SS_%i_m2hp_eta6thj_relht.txt'%(CounterToWriteToFile), 'w')\n",
      "                #    f.write(str(ListForFile))\n",
      "                #    f.close(); print \"File %i produced\"%(CounterToWriteToFile)\n",
      "                #    ListForFile=[]\n",
      "                #print M5JHS.GetEntries(), M5JHT.GetEntries()\n",
      "\n",
      "#f = open('Selections_SS_eta6thj.txt', 'w')\n",
      "#f.write(str(ListForFile))\n",
      "#f.close()\n",
      "print ListForFile\n",
      "CurCanvScan.Print(PDFNameScan+\")\",\"Title:\"+Cut5Set[0]+str(i))"
     ],
     "language": "python",
     "metadata": {},
     "outputs": [
      {
       "output_type": "stream",
       "stream": "stdout",
       "text": [
        "--------------------------------\n",
        "M=700 GeV ------> 8.07 +- 0.37, and full range integral: 10.90"
       ]
      },
      {
       "output_type": "stream",
       "stream": "stdout",
       "text": [
        "\n",
        "Mean value: 696.20, with sigma: 38.48\n",
        "Chi2=18.39, ndf=17.00, Chi2/ndf=1.08\n",
        "TTbar ------> 9.37 +- 0.86, and full range integral: 30.25\n",
        "QCD ------> 0.00 +- 0.00, and full range integral: 17.16\n",
        "(6.20 4.00 0.63 0.05): 10.90; 30.25; 17.16; 1.63; 19.80 | (0.52,0.34,0.11,0.06) (0.67,0.33,0.00,0.00)\n",
        "--------------------------------"
       ]
      },
      {
       "output_type": "stream",
       "stream": "stdout",
       "text": [
        "\n",
        "M=700 GeV ------> 7.78 +- 0.37, and full range integral: 10.44\n",
        "Mean value: 696.36, with sigma: 38.19\n",
        "Chi2=15.76, ndf=17.00, Chi2/ndf=0.93\n",
        "TTbar ------> 8.51 +- 0.82, and full range integral: 26.94\n",
        "QCD ------> 0.00 +- 0.00, and full range integral: 17.16\n",
        "(6.20 4.00 0.65 0.05): 10.44; 26.94; 17.16; 1.75; 19.63 | (0.49,0.36,0.12,0.06) (0.67,0.33,0.00,0.00)\n",
        "--------------------------------"
       ]
      },
      {
       "output_type": "stream",
       "stream": "stdout",
       "text": [
        "\n",
        "M=700 GeV ------> 10.39 +- 0.42, and full range integral: 13.96\n",
        "Mean value: 695.09, with sigma: 39.40\n",
        "Chi2=17.75, ndf=17.00, Chi2/ndf=1.04\n",
        "TTbar ------> 10.87 +- 0.93, and full range integral: 31.90\n",
        "QCD ------> 0.00 +- 0.00, and full range integral: 11.44\n",
        "(6.20 4.00 0.70 0.10): 13.96; 31.90; 11.44; 1.99; 23.20 | (0.44,0.41,0.13,0.07) (0.00,1.00,0.00,0.00)\n",
        "--------------------------------"
       ]
      },
      {
       "output_type": "stream",
       "stream": "stdout",
       "text": [
        "\n",
        "M=700 GeV ------> 9.51 +- 0.41, and full range integral: 12.65\n",
        "Mean value: 696.09, with sigma: 39.06\n",
        "Chi2=16.33, ndf=17.00, Chi2/ndf=0.96\n",
        "TTbar ------> 8.19 +- 0.80, and full range integral: 25.99\n",
        "QCD ------> 0.00 +- 0.00, and full range integral: 11.44\n",
        "(6.20 4.00 0.72 0.10): 12.65; 25.99; 11.44; 2.21; 22.46 | (0.41,0.42,0.15,0.07) (0.00,1.00,0.00,0.00)\n",
        "--------------------------------"
       ]
      },
      {
       "output_type": "stream",
       "stream": "stdout",
       "text": [
        "\n",
        "M=700 GeV ------> 9.85 +- 0.41, and full range integral: 13.46\n",
        "Mean value: 695.25, with sigma: 39.90\n",
        "Chi2=18.85, ndf=17.00, Chi2/ndf=1.11\n",
        "TTbar ------> 9.53 +- 0.87, and full range integral: 28.59\n",
        "QCD ------> 5.72 +- 5.72, and full range integral: 17.16\n",
        "(6.20 4.67 0.65 0.10): 13.46; 28.59; 17.16; 2.13; 23.04 | (0.47,0.39,0.12,0.06) (0.67,0.33,0.00,0.00)\n",
        "--------------------------------"
       ]
      },
      {
       "output_type": "stream",
       "stream": "stdout",
       "text": [
        "\n",
        "M=700 GeV ------> 10.61 +- 0.43, and full range integral: 15.03\n",
        "Mean value: 696.05, with sigma: 42.17\n",
        "Chi2=9.63, ndf=17.00, Chi2/ndf=0.57\n",
        "TTbar ------> 10.32 +- 0.90, and full range integral: 31.35\n",
        "QCD ------> 0.00 +- 0.00, and full range integral: 17.16\n",
        "(6.20 4.67 0.67 0.20): 15.03; 31.35; 17.16; 2.17; 24.42 | (0.43,0.42,0.13,0.07) (0.00,1.00,0.00,0.00)\n",
        "--------------------------------"
       ]
      },
      {
       "output_type": "stream",
       "stream": "stdout",
       "text": [
        "\n",
        "M=700 GeV ------> 10.37 +- 0.42, and full range integral: 14.30\n",
        "Mean value: 695.81, with sigma: 40.50\n",
        "Chi2=17.42, ndf=17.00, Chi2/ndf=1.02\n",
        "TTbar ------> 9.61 +- 0.87, and full range integral: 28.75\n",
        "QCD ------> 0.00 +- 0.00, and full range integral: 17.16\n",
        "(6.20 4.67 0.67 0.15): 14.30; 28.75; 17.16; 2.25; 23.96 | (0.43,0.42,0.13,0.06) (0.00,1.00,0.00,0.00)\n",
        "--------------------------------"
       ]
      },
      {
       "output_type": "stream",
       "stream": "stdout",
       "text": [
        "\n",
        "M=700 GeV ------> 9.35 +- 0.40, and full range integral: 12.73\n",
        "Mean value: 695.44, with sigma: 39.96\n",
        "Chi2=19.20, ndf=17.00, Chi2/ndf=1.13\n",
        "TTbar ------> 8.43 +- 0.81, and full range integral: 24.81\n",
        "QCD ------> 0.00 +- 0.00, and full range integral: 5.72\n",
        "(6.20 4.67 0.67 0.10): 12.73; 24.81; 5.72; 2.34; 22.73 | (0.44,0.41,0.13,0.06) (0.00,1.00,0.00,0.00)\n",
        "--------------------------------"
       ]
      },
      {
       "output_type": "stream",
       "stream": "stdout",
       "text": [
        "\n",
        "M=700 GeV ------> 9.92 +- 0.41, and full range integral: 13.96\n",
        "Mean value: 697.09, with sigma: 42.23\n",
        "Chi2=7.39, ndf=17.00, Chi2/ndf=0.43\n",
        "TTbar ------> 9.06 +- 0.84, and full range integral: 27.25\n",
        "QCD ------> 0.00 +- 0.00, and full range integral: 17.16\n",
        "(6.20 4.67 0.70 0.20): 13.96; 27.25; 17.16; 2.32; 23.77 | (0.41,0.42,0.14,0.08) (0.00,1.00,0.00,0.00)\n",
        "--------------------------------"
       ]
      },
      {
       "output_type": "stream",
       "stream": "stdout",
       "text": [
        "\n",
        "M=700 GeV ------> 9.70 +- 0.41, and full range integral: 13.30\n",
        "Mean value: 696.63, with sigma: 40.56\n",
        "Chi2=14.99, ndf=17.00, Chi2/ndf=0.88\n",
        "TTbar ------> 8.43 +- 0.81, and full range integral: 24.89\n",
        "QCD ------> 0.00 +- 0.00, and full range integral: 17.16\n",
        "(6.20 4.67 0.70 0.15): 13.30; 24.89; 17.16; 2.42; 23.35 | (0.41,0.43,0.14,0.07) (0.00,1.00,0.00,0.00)\n",
        "--------------------------------"
       ]
      },
      {
       "output_type": "stream",
       "stream": "stdout",
       "text": [
        "\n",
        "M=700 GeV ------> 8.76 +- 0.39, and full range integral: 11.89\n",
        "Mean value: 696.18, with sigma: 39.99\n",
        "Chi2=16.08, ndf=17.00, Chi2/ndf=0.95\n",
        "TTbar ------> 7.33 +- 0.76, and full range integral: 21.35\n",
        "QCD ------> 0.00 +- 0.00, and full range integral: 5.72\n",
        "(6.20 4.67 0.70 0.10): 11.89; 21.35; 5.72; 2.53; 22.23 | (0.42,0.41,0.14,0.07) (0.00,1.00,0.00,0.00)\n",
        "--------------------------------"
       ]
      },
      {
       "output_type": "stream",
       "stream": "stdout",
       "text": [
        "\n",
        "M=700 GeV ------> 9.70 +- 0.41, and full range integral: 12.80\n",
        "Mean value: 698.35, with sigma: 41.88\n",
        "Chi2=7.89, ndf=17.00, Chi2/ndf=0.46\n",
        "TTbar ------> 8.19 +- 0.80, and full range integral: 22.92\n",
        "QCD ------> 5.72 +- 5.72, and full range integral: 17.16\n",
        "(6.20 4.67 0.72 0.20): 12.80; 22.92; 17.16; 2.52; 23.05 | (0.38,0.43,0.15,0.09) (0.00,1.00,0.00,0.00)\n",
        "--------------------------------"
       ]
      },
      {
       "output_type": "stream",
       "stream": "stdout",
       "text": [
        "\n",
        "M=700 GeV ------> 8.90 +- 0.39, and full range integral: 12.15\n",
        "Mean value: 697.88, with sigma: 40.08\n",
        "Chi2=13.93, ndf=17.00, Chi2/ndf=0.82\n",
        "TTbar ------> 6.70 +- 0.73, and full range integral: 21.19\n",
        "QCD ------> 0.00 +- 0.00, and full range integral: 17.16\n",
        "(6.20 4.67 0.72 0.15): 12.15; 21.19; 17.16; 2.59; 22.53 | (0.39,0.43,0.14,0.08) (0.00,1.00,0.00,0.00)\n",
        "--------------------------------"
       ]
      },
      {
       "output_type": "stream",
       "stream": "stdout",
       "text": [
        "\n",
        "M=700 GeV ------> 8.09 +- 0.37, and full range integral: 10.90\n",
        "Mean value: 697.26, with sigma: 39.54\n",
        "Chi2=14.04, ndf=17.00, Chi2/ndf=0.83\n",
        "TTbar ------> 5.67 +- 0.67, and full range integral: 18.20\n",
        "QCD ------> 0.00 +- 0.00, and full range integral: 5.72\n",
        "(6.20 4.67 0.72 0.10): 10.90; 18.20; 5.72; 2.72; 21.50 | (0.39,0.42,0.16,0.08) (0.00,1.00,0.00,0.00)\n",
        "--------------------------------"
       ]
      },
      {
       "output_type": "stream",
       "stream": "stdout",
       "text": [
        "\n",
        "M=700 GeV ------> 7.56 +- 0.36, and full range integral: 10.73\n",
        "Mean value: 697.13, with sigma: 42.22\n",
        "Chi2=8.31, ndf=17.00, Chi2/ndf=0.49\n",
        "TTbar ------> 6.14 +- 0.70, and full range integral: 19.30\n",
        "QCD ------> 0.00 +- 0.00, and full range integral: 17.16\n",
        "(6.20 5.33 0.67 0.20): 10.73; 19.30; 17.16; 2.51; 21.09 | (0.39,0.44,0.15,0.08) (0.00,1.00,0.00,0.00)\n",
        "--------------------------------"
       ]
      },
      {
       "output_type": "stream",
       "stream": "stdout",
       "text": [
        "\n",
        "M=700 GeV ------> 7.38 +- 0.36, and full range integral: 10.21\n",
        "Mean value: 696.92, with sigma: 40.83\n",
        "Chi2=19.11, ndf=17.00, Chi2/ndf=1.12\n",
        "TTbar ------> 5.59 +- 0.66, and full range integral: 17.25\n",
        "QCD ------> 0.00 +- 0.00, and full range integral: 17.16\n",
        "(6.20 5.33 0.67 0.15): 10.21; 17.25; 17.16; 2.67; 20.75 | (0.40,0.44,0.14,0.08) (0.00,1.00,0.00,0.00)\n",
        "--------------------------------"
       ]
      },
      {
       "output_type": "stream",
       "stream": "stdout",
       "text": [
        "\n",
        "M=700 GeV ------> 7.64 +- 0.36, and full range integral: 10.15\n",
        "Mean value: 697.91, with sigma: 42.16\n",
        "Chi2=9.14, ndf=17.00, Chi2/ndf=0.54\n",
        "TTbar ------> 6.30 +- 0.70, and full range integral: 17.80\n",
        "QCD ------> 5.72 +- 5.72, and full range integral: 17.16\n",
        "(6.20 5.33 0.70 0.20): 10.15; 17.80; 17.16; 2.57; 20.57 | (0.38,0.45,0.15,0.08) (0.00,1.00,0.00,0.00)\n",
        "--------------------------------"
       ]
      },
      {
       "output_type": "stream",
       "stream": "stdout",
       "text": [
        "\n",
        "M=700 GeV ------> 8.01 +- 0.37, and full range integral: 10.73\n",
        "Mean value: 696.41, with sigma: 38.30\n",
        "Chi2=18.06, ndf=17.00, Chi2/ndf=1.06\n",
        "TTbar ------> 9.06 +- 0.84, and full range integral: 29.46\n",
        "QCD ------> 0.00 +- 0.00, and full range integral: 17.16\n",
        "(6.37 4.00 0.63 0.05): 10.73; 29.46; 17.16; 1.65; 19.68 | (0.51,0.34,0.12,0.06) (0.67,0.33,0.00,0.00)\n",
        "--------------------------------"
       ]
      },
      {
       "output_type": "stream",
       "stream": "stdout",
       "text": [
        "\n",
        "M=700 GeV ------> 7.71 +- 0.36, and full range integral: 10.27\n",
        "Mean value: 696.57, with sigma: 38.00\n",
        "Chi2=15.47, ndf=17.00, Chi2/ndf=0.91\n",
        "TTbar ------> 8.19 +- 0.80, and full range integral: 26.31\n",
        "QCD ------> 0.00 +- 0.00, and full range integral: 17.16\n",
        "(6.37 4.00 0.65 0.05): 10.27; 26.31; 17.16; 1.77; 19.49 | (0.49,0.36,0.12,0.06) (0.67,0.33,0.00,0.00)\n",
        "--------------------------------"
       ]
      },
      {
       "output_type": "stream",
       "stream": "stdout",
       "text": [
        "\n",
        "M=700 GeV ------> 10.32 +- 0.42, and full range integral: 13.77\n",
        "Mean value: 695.11, with sigma: 39.22\n",
        "Chi2=16.83, ndf=17.00, Chi2/ndf=0.99\n",
        "TTbar ------> 10.56 +- 0.91, and full range integral: 30.96\n",
        "QCD ------> 0.00 +- 0.00, and full range integral: 11.44\n",
        "(6.37 4.00 0.70 0.10): 13.77; 30.96; 11.44; 2.02; 23.10 | (0.44,0.41,0.13,0.07) (0.00,1.00,0.00,0.00)\n",
        "--------------------------------"
       ]
      },
      {
       "output_type": "stream",
       "stream": "stdout",
       "text": [
        "\n",
        "M=700 GeV ------> 9.44 +- 0.40, and full range integral: 12.47\n",
        "Mean value: 696.05, with sigma: 38.90\n",
        "Chi2=15.53, ndf=17.00, Chi2/ndf=0.91\n",
        "TTbar ------> 7.88 +- 0.79, and full range integral: 25.21\n",
        "QCD ------> 0.00 +- 0.00, and full range integral: 11.44\n",
        "(6.37 4.00 0.72 0.10): 12.47; 25.21; 11.44; 2.25; 22.37 | (0.41,0.42,0.15,0.08) (0.00,1.00,0.00,0.00)\n",
        "--------------------------------"
       ]
      },
      {
       "output_type": "stream",
       "stream": "stdout",
       "text": [
        "\n",
        "M=700 GeV ------> 9.80 +- 0.41, and full range integral: 13.32\n",
        "Mean value: 695.12, with sigma: 39.79\n",
        "Chi2=18.28, ndf=17.00, Chi2/ndf=1.08\n",
        "TTbar ------> 9.22 +- 0.85, and full range integral: 28.04\n",
        "QCD ------> 5.72 +- 5.72, and full range integral: 17.16\n",
        "(6.37 4.67 0.65 0.10): 13.32; 28.04; 17.16; 2.15; 22.96 | (0.47,0.39,0.12,0.06) (0.67,0.33,0.00,0.00)\n",
        "--------------------------------"
       ]
      },
      {
       "output_type": "stream",
       "stream": "stdout",
       "text": [
        "\n",
        "M=700 GeV ------> 10.54 +- 0.43, and full range integral: 14.84\n",
        "Mean value: 695.84, with sigma: 42.00\n",
        "Chi2=9.77, ndf=17.00, Chi2/ndf=0.57\n",
        "TTbar ------> 10.00 +- 0.89, and full range integral: 30.80\n",
        "QCD ------> 0.00 +- 0.00, and full range integral: 17.16\n",
        "(6.37 4.67 0.67 0.20): 14.84; 30.80; 17.16; 2.18; 24.29 | (0.43,0.42,0.13,0.07) (0.00,1.00,0.00,0.00)\n",
        "--------------------------------"
       ]
      },
      {
       "output_type": "stream",
       "stream": "stdout",
       "text": [
        "\n",
        "M=700 GeV ------> 10.30 +- 0.42, and full range integral: 14.13\n",
        "Mean value: 695.66, with sigma: 40.35\n",
        "Chi2=16.81, ndf=17.00, Chi2/ndf=0.99\n",
        "TTbar ------> 9.29 +- 0.86, and full range integral: 28.20\n",
        "QCD ------> 0.00 +- 0.00, and full range integral: 17.16\n",
        "(6.37 4.67 0.67 0.15): 14.13; 28.20; 17.16; 2.27; 23.84 | (0.43,0.42,0.13,0.06) (0.00,1.00,0.00,0.00)\n",
        "--------------------------------"
       ]
      },
      {
       "output_type": "stream",
       "stream": "stdout",
       "text": [
        "\n",
        "M=700 GeV ------> 9.30 +- 0.40, and full range integral: 12.60\n",
        "Mean value: 695.30, with sigma: 39.84\n",
        "Chi2=18.50, ndf=17.00, Chi2/ndf=1.09\n",
        "TTbar ------> 8.11 +- 0.80, and full range integral: 24.26\n",
        "QCD ------> 0.00 +- 0.00, and full range integral: 5.72\n",
        "(6.37 4.67 0.67 0.10): 12.60; 24.26; 5.72; 2.36; 22.65 | (0.44,0.41,0.13,0.06) (0.00,1.00,0.00,0.00)\n",
        "--------------------------------"
       ]
      },
      {
       "output_type": "stream",
       "stream": "stdout",
       "text": [
        "\n",
        "M=700 GeV ------> 9.85 +- 0.41, and full range integral: 13.79\n",
        "Mean value: 696.96, with sigma: 42.09\n",
        "Chi2=8.07, ndf=17.00, Chi2/ndf=0.47\n",
        "TTbar ------> 8.82 +- 0.83, and full range integral: 26.86\n",
        "QCD ------> 0.00 +- 0.00, and full range integral: 17.16\n",
        "(6.37 4.67 0.70 0.20): 13.79; 26.86; 17.16; 2.32; 23.63 | (0.41,0.42,0.13,0.08) (0.00,1.00,0.00,0.00)\n",
        "--------------------------------"
       ]
      },
      {
       "output_type": "stream",
       "stream": "stdout",
       "text": [
        "\n",
        "M=700 GeV ------> 9.63 +- 0.41, and full range integral: 13.15\n",
        "Mean value: 696.57, with sigma: 40.45\n",
        "Chi2=15.08, ndf=17.00, Chi2/ndf=0.89\n",
        "TTbar ------> 8.19 +- 0.80, and full range integral: 24.50\n",
        "QCD ------> 0.00 +- 0.00, and full range integral: 17.16\n",
        "(6.37 4.67 0.70 0.15): 13.15; 24.50; 17.16; 2.43; 23.23 | (0.41,0.43,0.14,0.07) (0.00,1.00,0.00,0.00)\n",
        "--------------------------------"
       ]
      },
      {
       "output_type": "stream",
       "stream": "stdout",
       "text": [
        "\n",
        "M=700 GeV ------> 8.71 +- 0.39, and full range integral: 11.77\n",
        "Mean value: 696.14, with sigma: 39.92\n",
        "Chi2=15.84, ndf=17.00, Chi2/ndf=0.93\n",
        "TTbar ------> 7.09 +- 0.75, and full range integral: 20.95\n",
        "QCD ------> 0.00 +- 0.00, and full range integral: 5.72\n",
        "(6.37 4.67 0.70 0.10): 11.77; 20.95; 5.72; 2.55; 22.14 | (0.42,0.41,0.14,0.07) (0.00,1.00,0.00,0.00)\n",
        "--------------------------------"
       ]
      },
      {
       "output_type": "stream",
       "stream": "stdout",
       "text": [
        "\n",
        "M=700 GeV ------> 9.06 +- 0.40, and full range integral: 12.65\n",
        "Mean value: 698.14, with sigma: 41.77\n",
        "Chi2=8.43, ndf=17.00, Chi2/ndf=0.50\n",
        "TTbar ------> 6.85 +- 0.73, and full range integral: 22.53\n",
        "QCD ------> 0.00 +- 0.00, and full range integral: 17.16\n",
        "(6.37 4.67 0.72 0.20): 12.65; 22.53; 17.16; 2.54; 22.93 | (0.38,0.43,0.15,0.09) (0.00,1.00,0.00,0.00)\n",
        "--------------------------------"
       ]
      },
      {
       "output_type": "stream",
       "stream": "stdout",
       "text": [
        "\n",
        "M=700 GeV ------> 8.83 +- 0.39, and full range integral: 12.01\n",
        "Mean value: 697.74, with sigma: 39.99\n",
        "Chi2=13.77, ndf=17.00, Chi2/ndf=0.81\n",
        "TTbar ------> 6.46 +- 0.71, and full range integral: 20.80\n",
        "QCD ------> 0.00 +- 0.00, and full range integral: 17.16\n",
        "(6.37 4.67 0.72 0.15): 12.01; 20.80; 17.16; 2.61; 22.43 | (0.39,0.44,0.14,0.08) (0.00,1.00,0.00,0.00)\n",
        "--------------------------------"
       ]
      },
      {
       "output_type": "stream",
       "stream": "stdout",
       "text": [
        "\n",
        "M=700 GeV ------> 8.04 +- 0.37, and full range integral: 10.80\n",
        "Mean value: 697.13, with sigma: 39.51\n",
        "Chi2=13.62, ndf=17.00, Chi2/ndf=0.80\n",
        "TTbar ------> 5.44 +- 0.65, and full range integral: 17.80\n",
        "QCD ------> 0.00 +- 0.00, and full range integral: 5.72\n",
        "(6.37 4.67 0.72 0.10): 10.80; 17.80; 5.72; 2.76; 21.43 | (0.39,0.42,0.15,0.08) (0.00,1.00,0.00,0.00)\n",
        "--------------------------------"
       ]
      },
      {
       "output_type": "stream",
       "stream": "stdout",
       "text": [
        "\n",
        "M=700 GeV ------> 7.56 +- 0.36, and full range integral: 10.66\n",
        "Mean value: 696.93, with sigma: 42.05\n",
        "Chi2=8.51, ndf=17.00, Chi2/ndf=0.50\n",
        "TTbar ------> 6.07 +- 0.69, and full range integral: 19.06\n",
        "QCD ------> 0.00 +- 0.00, and full range integral: 17.16\n",
        "(6.37 5.33 0.67 0.20): 10.66; 19.06; 17.16; 2.52; 21.04 | (0.39,0.44,0.14,0.08) (0.00,1.00,0.00,0.00)\n",
        "--------------------------------"
       ]
      },
      {
       "output_type": "stream",
       "stream": "stdout",
       "text": [
        "\n",
        "M=700 GeV ------> 7.38 +- 0.36, and full range integral: 10.16\n",
        "Mean value: 696.82, with sigma: 40.71\n",
        "Chi2=18.58, ndf=17.00, Chi2/ndf=1.09\n",
        "TTbar ------> 5.51 +- 0.66, and full range integral: 17.01\n",
        "QCD ------> 0.00 +- 0.00, and full range integral: 17.16\n",
        "(6.37 5.33 0.67 0.15): 10.16; 17.01; 17.16; 2.69; 20.72 | (0.40,0.44,0.14,0.08) (0.00,1.00,0.00,0.00)\n",
        "--------------------------------"
       ]
      },
      {
       "output_type": "stream",
       "stream": "stdout",
       "text": [
        "\n",
        "M=700 GeV ------> 7.16 +- 0.35, and full range integral: 10.09\n",
        "Mean value: 697.81, with sigma: 42.04\n",
        "Chi2=9.18, ndf=17.00, Chi2/ndf=0.54\n",
        "TTbar ------> 5.44 +- 0.65, and full range integral: 17.57\n",
        "QCD ------> 0.00 +- 0.00, and full range integral: 17.16\n",
        "(6.37 5.33 0.70 0.20): 10.09; 17.57; 17.16; 2.59; 20.54 | (0.38,0.45,0.15,0.09) (0.00,1.00,0.00,0.00)\n",
        "--------------------------------"
       ]
      },
      {
       "output_type": "stream",
       "stream": "stdout",
       "text": [
        "\n",
        "M=700 GeV ------> 7.92 +- 0.37, and full range integral: 10.63\n",
        "Mean value: 696.50, with sigma: 38.39\n",
        "Chi2=17.95, ndf=17.00, Chi2/ndf=1.06\n",
        "TTbar ------> 8.59 +- 0.82, and full range integral: 28.04\n",
        "QCD ------> 0.00 +- 0.00, and full range integral: 17.16\n",
        "(6.53 4.00 0.63 0.05): 10.63; 28.04; 17.16; 1.72; 19.73 | (0.50,0.34,0.12,0.06) (0.67,0.33,0.00,0.00)\n",
        "--------------------------------"
       ]
      },
      {
       "output_type": "stream",
       "stream": "stdout",
       "text": [
        "\n",
        "M=700 GeV ------> 7.63 +- 0.36, and full range integral: 10.16\n",
        "Mean value: 696.67, with sigma: 38.09\n",
        "Chi2=15.35, ndf=17.00, Chi2/ndf=0.90\n",
        "TTbar ------> 7.72 +- 0.78, and full range integral: 24.89\n",
        "QCD ------> 0.00 +- 0.00, and full range integral: 17.16\n",
        "(6.53 4.00 0.65 0.05): 10.16; 24.89; 17.16; 1.85; 19.55 | (0.47,0.37,0.12,0.07) (0.67,0.33,0.00,0.00)\n",
        "--------------------------------"
       ]
      },
      {
       "output_type": "stream",
       "stream": "stdout",
       "text": [
        "\n",
        "M=700 GeV ------> 10.13 +- 0.42, and full range integral: 13.53\n",
        "Mean value: 695.20, with sigma: 39.25\n",
        "Chi2=16.98, ndf=17.00, Chi2/ndf=1.00\n",
        "TTbar ------> 10.16 +- 0.89, and full range integral: 29.46\n",
        "QCD ------> 0.00 +- 0.00, and full range integral: 11.44\n",
        "(6.53 4.00 0.70 0.10): 13.53; 29.46; 11.44; 2.09; 23.02 | (0.44,0.40,0.13,0.07) (0.00,1.00,0.00,0.00)\n",
        "--------------------------------"
       ]
      },
      {
       "output_type": "stream",
       "stream": "stdout",
       "text": [
        "\n",
        "M=700 GeV ------> 9.28 +- 0.40, and full range integral: 12.28\n",
        "Mean value: 696.11, with sigma: 38.93\n",
        "Chi2=15.97, ndf=17.00, Chi2/ndf=0.94\n",
        "TTbar ------> 7.56 +- 0.77, and full range integral: 23.95\n",
        "QCD ------> 0.00 +- 0.00, and full range integral: 11.44\n",
        "(6.53 4.00 0.72 0.10): 12.28; 23.95; 11.44; 2.33; 22.32 | (0.41,0.41,0.15,0.08) (0.00,1.00,0.00,0.00)\n",
        "--------------------------------"
       ]
      },
      {
       "output_type": "stream",
       "stream": "stdout",
       "text": [
        "\n",
        "M=700 GeV ------> 9.70 +- 0.41, and full range integral: 13.20\n",
        "Mean value: 695.30, with sigma: 39.88\n",
        "Chi2=18.80, ndf=17.00, Chi2/ndf=1.11\n",
        "TTbar ------> 9.22 +- 0.85, and full range integral: 27.25\n",
        "QCD ------> 5.72 +- 5.72, and full range integral: 17.16\n",
        "(6.53 4.67 0.65 0.10): 13.20; 27.25; 17.16; 2.19; 22.92 | (0.48,0.39,0.12,0.06) (0.67,0.33,0.00,0.00)\n",
        "--------------------------------"
       ]
      },
      {
       "output_type": "stream",
       "stream": "stdout",
       "text": [
        "\n",
        "M=700 GeV ------> 10.44 +- 0.42, and full range integral: 14.72\n",
        "Mean value: 696.01, with sigma: 42.10\n",
        "Chi2=10.07, ndf=17.00, Chi2/ndf=0.59\n",
        "TTbar ------> 9.85 +- 0.88, and full range integral: 29.46\n",
        "QCD ------> 0.00 +- 0.00, and full range integral: 17.16\n",
        "(6.53 4.67 0.67 0.20): 14.72; 29.46; 17.16; 2.26; 24.32 | (0.43,0.42,0.13,0.07) (0.00,1.00,0.00,0.00)\n",
        "--------------------------------"
       ]
      },
      {
       "output_type": "stream",
       "stream": "stdout",
       "text": [
        "\n",
        "M=700 GeV ------> 10.20 +- 0.42, and full range integral: 14.01\n",
        "Mean value: 695.84, with sigma: 40.44\n",
        "Chi2=17.49, ndf=17.00, Chi2/ndf=1.03\n",
        "TTbar ------> 9.14 +- 0.85, and full range integral: 27.10\n",
        "QCD ------> 0.00 +- 0.00, and full range integral: 17.16\n",
        "(6.53 4.67 0.67 0.15): 14.01; 27.10; 17.16; 2.34; 23.85 | (0.42,0.43,0.13,0.07) (0.00,1.00,0.00,0.00)\n",
        "--------------------------------"
       ]
      },
      {
       "output_type": "stream",
       "stream": "stdout",
       "text": [
        "\n",
        "M=700 GeV ------> 9.20 +- 0.40, and full range integral: 12.47\n",
        "Mean value: 695.49, with sigma: 39.94\n",
        "Chi2=18.86, ndf=17.00, Chi2/ndf=1.11\n",
        "TTbar ------> 8.11 +- 0.80, and full range integral: 23.47\n",
        "QCD ------> 0.00 +- 0.00, and full range integral: 5.72\n",
        "(6.53 4.67 0.67 0.10): 12.47; 23.47; 5.72; 2.42; 22.62 | (0.44,0.41,0.13,0.06) (0.00,1.00,0.00,0.00)\n",
        "--------------------------------"
       ]
      },
      {
       "output_type": "stream",
       "stream": "stdout",
       "text": [
        "\n",
        "M=700 GeV ------> 9.75 +- 0.41, and full range integral: 13.66\n",
        "Mean value: 697.15, with sigma: 42.20\n",
        "Chi2=8.70, ndf=17.00, Chi2/ndf=0.51\n",
        "TTbar ------> 8.66 +- 0.83, and full range integral: 25.68\n",
        "QCD ------> 0.00 +- 0.00, and full range integral: 17.16\n",
        "(6.53 4.67 0.70 0.20): 13.66; 25.68; 17.16; 2.41; 23.65 | (0.41,0.42,0.13,0.08) (0.00,1.00,0.00,0.00)\n",
        "--------------------------------"
       ]
      },
      {
       "output_type": "stream",
       "stream": "stdout",
       "text": [
        "\n",
        "M=700 GeV ------> 9.52 +- 0.41, and full range integral: 13.03\n",
        "Mean value: 696.77, with sigma: 40.55\n",
        "Chi2=16.01, ndf=17.00, Chi2/ndf=0.94\n",
        "TTbar ------> 8.03 +- 0.80, and full range integral: 23.47\n",
        "QCD ------> 0.00 +- 0.00, and full range integral: 17.16\n",
        "(6.53 4.67 0.70 0.15): 13.03; 23.47; 17.16; 2.51; 23.23 | (0.41,0.43,0.13,0.08) (0.00,1.00,0.00,0.00)\n",
        "--------------------------------"
       ]
      },
      {
       "output_type": "stream",
       "stream": "stdout",
       "text": [
        "\n",
        "M=700 GeV ------> 8.61 +- 0.39, and full range integral: 11.65\n",
        "Mean value: 696.35, with sigma: 40.01\n",
        "Chi2=16.62, ndf=17.00, Chi2/ndf=0.98\n",
        "TTbar ------> 7.09 +- 0.75, and full range integral: 20.24\n",
        "QCD ------> 0.00 +- 0.00, and full range integral: 5.72\n",
        "(6.53 4.67 0.70 0.10): 11.65; 20.24; 5.72; 2.62; 22.10 | (0.42,0.41,0.14,0.07) (0.00,1.00,0.00,0.00)\n",
        "--------------------------------"
       ]
      },
      {
       "output_type": "stream",
       "stream": "stdout",
       "text": [
        "\n",
        "M=700 GeV ------> 9.49 +- 0.40, and full range integral: 12.54\n",
        "Mean value: 698.26, with sigma: 41.95\n",
        "Chi2=9.36, ndf=17.00, Chi2/ndf=0.55\n",
        "TTbar ------> 7.56 +- 0.77, and full range integral: 21.58\n",
        "QCD ------> 5.72 +- 5.72, and full range integral: 17.16\n",
        "(6.53 4.67 0.72 0.20): 12.54; 21.58; 17.16; 2.62; 22.94 | (0.38,0.43,0.15,0.09) (0.00,1.00,0.00,0.00)\n",
        "--------------------------------"
       ]
      },
      {
       "output_type": "stream",
       "stream": "stdout",
       "text": [
        "\n",
        "M=700 GeV ------> 8.73 +- 0.39, and full range integral: 11.91\n",
        "Mean value: 697.86, with sigma: 40.16\n",
        "Chi2=15.07, ndf=17.00, Chi2/ndf=0.89\n",
        "TTbar ------> 6.30 +- 0.70, and full range integral: 20.01\n",
        "QCD ------> 0.00 +- 0.00, and full range integral: 17.16\n",
        "(6.53 4.67 0.72 0.15): 11.91; 20.01; 17.16; 2.68; 22.42 | (0.38,0.44,0.14,0.09) (0.00,1.00,0.00,0.00)\n",
        "--------------------------------"
       ]
      },
      {
       "output_type": "stream",
       "stream": "stdout",
       "text": [
        "\n",
        "M=700 GeV ------> 7.94 +- 0.37, and full range integral: 10.70\n",
        "Mean value: 697.25, with sigma: 39.68\n",
        "Chi2=15.10, ndf=17.00, Chi2/ndf=0.89\n",
        "TTbar ------> 5.44 +- 0.65, and full range integral: 17.25\n",
        "QCD ------> 0.00 +- 0.00, and full range integral: 5.72\n",
        "(6.53 4.67 0.72 0.10): 10.70; 17.25; 5.72; 2.82; 21.39 | (0.39,0.42,0.15,0.08) (0.00,1.00,0.00,0.00)\n",
        "--------------------------------"
       ]
      },
      {
       "output_type": "stream",
       "stream": "stdout",
       "text": [
        "\n",
        "M=700 GeV ------> 7.51 +- 0.36, and full range integral: 10.61\n",
        "Mean value: 697.00, with sigma: 42.13\n",
        "Chi2=8.83, ndf=17.00, Chi2/ndf=0.52\n",
        "TTbar ------> 5.99 +- 0.69, and full range integral: 18.43\n",
        "QCD ------> 0.00 +- 0.00, and full range integral: 17.16\n",
        "(6.53 5.33 0.67 0.20): 10.61; 18.43; 17.16; 2.59; 21.07 | (0.40,0.44,0.14,0.08) (0.00,1.00,0.00,0.00)\n",
        "--------------------------------"
       ]
      },
      {
       "output_type": "stream",
       "stream": "stdout",
       "text": [
        "\n",
        "M=700 GeV ------> 7.33 +- 0.36, and full range integral: 10.11\n",
        "Mean value: 696.89, with sigma: 40.78\n",
        "Chi2=19.02, ndf=17.00, Chi2/ndf=1.12\n",
        "TTbar ------> 5.44 +- 0.65, and full range integral: 16.62\n",
        "QCD ------> 0.00 +- 0.00, and full range integral: 17.16\n",
        "(6.53 5.33 0.67 0.15): 10.11; 16.62; 17.16; 2.74; 20.72 | (0.40,0.44,0.14,0.08) (0.00,1.00,0.00,0.00)\n",
        "--------------------------------"
       ]
      },
      {
       "output_type": "stream",
       "stream": "stdout",
       "text": [
        "\n",
        "M=700 GeV ------> 7.57 +- 0.36, and full range integral: 10.04\n",
        "Mean value: 697.89, with sigma: 42.12\n",
        "Chi2=9.56, ndf=17.00, Chi2/ndf=0.56\n",
        "TTbar ------> 6.07 +- 0.69, and full range integral: 17.01\n",
        "QCD ------> 5.72 +- 5.72, and full range integral: 17.16\n",
        "(6.53 5.33 0.70 0.20): 10.04; 17.01; 17.16; 2.66; 20.56 | (0.38,0.45,0.15,0.08) (0.00,1.00,0.00,0.00)\n",
        "--------------------------------"
       ]
      },
      {
       "output_type": "stream",
       "stream": "stdout",
       "text": [
        "\n",
        "M=700 GeV ------> 7.80 +- 0.37, and full range integral: 10.51\n",
        "Mean value: 696.62, with sigma: 38.61\n",
        "Chi2=19.62, ndf=17.00, Chi2/ndf=1.15\n",
        "TTbar ------> 8.43 +- 0.81, and full range integral: 26.94\n",
        "QCD ------> 0.00 +- 0.00, and full range integral: 17.16\n",
        "(6.70 4.00 0.63 0.05): 10.51; 26.94; 17.16; 1.77; 19.72 | (0.50,0.35,0.11,0.06) (0.67,0.33,0.00,0.00)\n",
        "--------------------------------"
       ]
      },
      {
       "output_type": "stream",
       "stream": "stdout",
       "text": [
        "\n",
        "M=700 GeV ------> 7.52 +- 0.36, and full range integral: 10.06\n",
        "Mean value: 696.81, with sigma: 38.27\n",
        "Chi2=17.22, ndf=17.00, Chi2/ndf=1.01\n",
        "TTbar ------> 7.64 +- 0.78, and full range integral: 23.95\n",
        "QCD ------> 0.00 +- 0.00, and full range integral: 17.16\n",
        "(6.70 4.00 0.65 0.05): 10.06; 23.95; 17.16; 1.90; 19.54 | (0.47,0.37,0.12,0.07) (0.67,0.33,0.00,0.00)\n",
        "--------------------------------"
       ]
      },
      {
       "output_type": "stream",
       "stream": "stdout",
       "text": [
        "\n",
        "M=700 GeV ------> 10.85 +- 0.43, and full range integral: 14.56\n",
        "Mean value: 694.74, with sigma: 39.24\n",
        "Chi2=18.50, ndf=17.00, Chi2/ndf=1.09\n",
        "TTbar ------> 11.66 +- 0.96, and full range integral: 33.24\n",
        "QCD ------> 0.00 +- 0.00, and full range integral: 17.16\n",
        "(6.70 4.00 0.67 0.10): 14.56; 33.24; 17.16; 1.99; 23.69 | (0.47,0.39,0.12,0.07) (0.33,0.67,0.00,0.00)\n",
        "--------------------------------"
       ]
      },
      {
       "output_type": "stream",
       "stream": "stdout",
       "text": [
        "\n",
        "M=700 GeV ------> 9.96 +- 0.41, and full range integral: 13.29\n",
        "Mean value: 695.53, with sigma: 39.22\n",
        "Chi2=18.29, ndf=17.00, Chi2/ndf=1.08\n",
        "TTbar ------> 9.85 +- 0.88, and full range integral: 28.12\n",
        "QCD ------> 0.00 +- 0.00, and full range integral: 5.72\n",
        "(6.70 4.00 0.70 0.10): 13.29; 28.12; 5.72; 2.15; 22.93 | (0.44,0.41,0.13,0.08) (0.00,1.00,0.00,0.00)\n",
        "--------------------------------"
       ]
      },
      {
       "output_type": "stream",
       "stream": "stdout",
       "text": [
        "\n",
        "M=700 GeV ------> 9.13 +- 0.40, and full range integral: 12.08\n",
        "Mean value: 696.57, with sigma: 38.90\n",
        "Chi2=17.45, ndf=17.00, Chi2/ndf=1.03\n",
        "TTbar ------> 7.25 +- 0.76, and full range integral: 22.69\n",
        "QCD ------> 0.00 +- 0.00, and full range integral: 5.72\n",
        "(6.70 4.00 0.72 0.10): 12.08; 22.69; 5.72; 2.42; 22.26 | (0.41,0.41,0.14,0.08) (0.00,1.00,0.00,0.00)\n",
        "--------------------------------"
       ]
      },
      {
       "output_type": "stream",
       "stream": "stdout",
       "text": [
        "\n",
        "M=700 GeV ------> 9.90 +- 0.41, and full range integral: 13.56\n",
        "Mean value: 695.34, with sigma: 40.23\n",
        "Chi2=24.13, ndf=17.00, Chi2/ndf=1.42\n",
        "TTbar ------> 9.77 +- 0.88, and full range integral: 29.07\n",
        "QCD ------> 11.44 +- 8.09, and full range integral: 17.16\n",
        "(6.70 4.67 0.63 0.10): 13.56; 29.07; 17.16; 2.11; 23.10 | (0.51,0.37,0.11,0.05) (1.00,0.00,0.00,0.00)\n",
        "--------------------------------"
       ]
      },
      {
       "output_type": "stream",
       "stream": "stdout",
       "text": [
        "\n",
        "M=700 GeV ------> 9.58 +- 0.41, and full range integral: 13.04\n",
        "Mean value: 695.53, with sigma: 39.94\n",
        "Chi2=20.49, ndf=17.00, Chi2/ndf=1.21\n",
        "TTbar ------> 9.06 +- 0.84, and full range integral: 26.62\n",
        "QCD ------> 5.72 +- 5.72, and full range integral: 11.44\n",
        "(6.70 4.67 0.65 0.10): 13.04; 26.62; 11.44; 2.22; 22.84 | (0.48,0.39,0.12,0.06) (1.00,0.00,0.00,0.00)\n",
        "--------------------------------"
       ]
      },
      {
       "output_type": "stream",
       "stream": "stdout",
       "text": [
        "\n",
        "M=700 GeV ------> 10.46 +- 0.42, and full range integral: 14.92\n",
        "Mean value: 696.59, with sigma: 42.55\n",
        "Chi2=10.98, ndf=17.00, Chi2/ndf=0.65\n",
        "TTbar ------> 10.16 +- 0.89, and full range integral: 30.56\n",
        "QCD ------> 0.00 +- 0.00, and full range integral: 17.16\n",
        "(6.70 4.67 0.67 0.25): 14.92; 30.56; 17.16; 2.21; 24.41 | (0.42,0.42,0.14,0.07) (0.00,1.00,0.00,0.00)\n",
        "--------------------------------"
       ]
      },
      {
       "output_type": "stream",
       "stream": "stdout",
       "text": [
        "\n",
        "M=700 GeV ------> 10.28 +- 0.42, and full range integral: 14.51\n",
        "Mean value: 696.09, with sigma: 42.06\n",
        "Chi2=10.96, ndf=17.00, Chi2/ndf=0.64\n",
        "TTbar ------> 9.69 +- 0.87, and full range integral: 28.91\n",
        "QCD ------> 0.00 +- 0.00, and full range integral: 11.44\n",
        "(6.70 4.67 0.67 0.20): 14.51; 28.91; 11.44; 2.28; 24.18 | (0.42,0.43,0.13,0.07) (0.00,1.00,0.00,0.00)\n",
        "--------------------------------"
       ]
      },
      {
       "output_type": "stream",
       "stream": "stdout",
       "text": [
        "\n",
        "M=700 GeV ------> 10.04 +- 0.42, and full range integral: 13.82\n",
        "Mean value: 696.05, with sigma: 40.57\n",
        "Chi2=19.28, ndf=17.00, Chi2/ndf=1.13\n",
        "TTbar ------> 8.98 +- 0.84, and full range integral: 26.55\n",
        "QCD ------> 0.00 +- 0.00, and full range integral: 11.44\n",
        "(6.70 4.67 0.67 0.15): 13.82; 26.55; 11.44; 2.36; 23.72 | (0.42,0.43,0.13,0.07) (0.00,1.00,0.00,0.00)\n",
        "--------------------------------"
       ]
      },
      {
       "output_type": "stream",
       "stream": "stdout",
       "text": [
        "\n",
        "M=700 GeV ------> 9.08 +- 0.40, and full range integral: 12.32\n",
        "Mean value: 695.73, with sigma: 40.00\n",
        "Chi2=20.57, ndf=17.00, Chi2/ndf=1.21\n",
        "TTbar ------> 7.96 +- 0.79, and full range integral: 22.92\n",
        "QCD ------> 0.00 +- 0.00, and full range integral: 0.00\n",
        "(6.70 4.67 0.67 0.10): 12.32; 22.92; 0.00; 2.45; 22.52 | (0.44,0.41,0.13,0.07) (0.00,0.00,0.00,0.00)\n",
        "--------------------------------"
       ]
      },
      {
       "output_type": "stream",
       "stream": "stdout",
       "text": [
        "\n",
        "M=700 GeV ------> 10.32 +- 0.42, and full range integral: 13.82\n",
        "Mean value: 697.79, with sigma: 42.56\n",
        "Chi2=9.15, ndf=17.00, Chi2/ndf=0.54\n",
        "TTbar ------> 10.00 +- 0.89, and full range integral: 26.62\n",
        "QCD ------> 5.72 +- 5.72, and full range integral: 17.16\n",
        "(6.70 4.67 0.70 0.25): 13.82; 26.62; 17.16; 2.35; 23.70 | (0.40,0.43,0.14,0.08) (0.00,1.00,0.00,0.00)\n",
        "--------------------------------"
       ]
      },
      {
       "output_type": "stream",
       "stream": "stdout",
       "text": [
        "\n",
        "M=700 GeV ------> 9.59 +- 0.41, and full range integral: 13.46\n",
        "Mean value: 697.26, with sigma: 42.15\n",
        "Chi2=9.18, ndf=17.00, Chi2/ndf=0.54\n",
        "TTbar ------> 8.51 +- 0.82, and full range integral: 25.13\n",
        "QCD ------> 0.00 +- 0.00, and full range integral: 11.44\n",
        "(6.70 4.67 0.70 0.20): 13.46; 25.13; 11.44; 2.43; 23.51 | (0.41,0.43,0.13,0.08) (0.00,1.00,0.00,0.00)\n",
        "--------------------------------"
       ]
      },
      {
       "output_type": "stream",
       "stream": "stdout",
       "text": [
        "\n",
        "M=700 GeV ------> 9.37 +- 0.40, and full range integral: 12.84\n",
        "Mean value: 697.01, with sigma: 40.68\n",
        "Chi2=17.32, ndf=17.00, Chi2/ndf=1.02\n",
        "TTbar ------> 7.88 +- 0.79, and full range integral: 22.92\n",
        "QCD ------> 0.00 +- 0.00, and full range integral: 11.44\n",
        "(6.70 4.67 0.70 0.15): 12.84; 22.92; 11.44; 2.54; 23.10 | (0.40,0.43,0.13,0.08) (0.00,1.00,0.00,0.00)\n",
        "--------------------------------"
       ]
      },
      {
       "output_type": "stream",
       "stream": "stdout",
       "text": [
        "\n",
        "M=700 GeV ------> 8.49 +- 0.38, and full range integral: 11.49\n",
        "Mean value: 696.62, with sigma: 40.08\n",
        "Chi2=17.96, ndf=17.00, Chi2/ndf=1.06\n",
        "TTbar ------> 6.93 +- 0.74, and full range integral: 19.69\n",
        "QCD ------> 0.00 +- 0.00, and full range integral: 0.00\n",
        "(6.70 4.67 0.70 0.10): 11.49; 19.69; 0.00; 2.66; 22.01 | (0.42,0.42,0.14,0.08) (0.00,0.00,0.00,0.00)\n",
        "--------------------------------"
       ]
      },
      {
       "output_type": "stream",
       "stream": "stdout",
       "text": [
        "\n",
        "M=700 GeV ------> 9.49 +- 0.40, and full range integral: 12.66\n",
        "Mean value: 698.98, with sigma: 42.33\n",
        "Chi2=9.77, ndf=17.00, Chi2/ndf=0.57\n",
        "TTbar ------> 7.72 +- 0.78, and full range integral: 22.21\n",
        "QCD ------> 5.72 +- 5.72, and full range integral: 17.16\n",
        "(6.70 4.67 0.72 0.25): 12.66; 22.21; 17.16; 2.58; 22.99 | (0.37,0.44,0.16,0.09) (0.00,1.00,0.00,0.00)\n",
        "--------------------------------"
       ]
      },
      {
       "output_type": "stream",
       "stream": "stdout",
       "text": [
        "\n",
        "M=700 GeV ------> 9.35 +- 0.40, and full range integral: 12.35\n",
        "Mean value: 698.39, with sigma: 41.85\n",
        "Chi2=9.70, ndf=17.00, Chi2/ndf=0.57\n",
        "TTbar ------> 7.40 +- 0.76, and full range integral: 21.03\n",
        "QCD ------> 5.72 +- 5.72, and full range integral: 11.44\n",
        "(6.70 4.67 0.72 0.20): 12.35; 21.03; 11.44; 2.66; 22.81 | (0.37,0.44,0.15,0.09) (0.00,1.00,0.00,0.00)\n",
        "--------------------------------"
       ]
      },
      {
       "output_type": "stream",
       "stream": "stdout",
       "text": [
        "\n",
        "M=700 GeV ------> 8.59 +- 0.39, and full range integral: 11.73\n",
        "Mean value: 698.14, with sigma: 40.25\n",
        "Chi2=16.18, ndf=17.00, Chi2/ndf=0.95\n",
        "TTbar ------> 6.14 +- 0.70, and full range integral: 19.46\n",
        "QCD ------> 0.00 +- 0.00, and full range integral: 11.44\n",
        "(6.70 4.67 0.72 0.15): 11.73; 19.46; 11.44; 2.73; 22.31 | (0.38,0.44,0.14,0.09) (0.00,1.00,0.00,0.00)\n",
        "--------------------------------"
       ]
      },
      {
       "output_type": "stream",
       "stream": "stdout",
       "text": [
        "\n",
        "M=700 GeV ------> 7.82 +- 0.37, and full range integral: 10.54\n",
        "Mean value: 697.57, with sigma: 39.73\n",
        "Chi2=16.63, ndf=17.00, Chi2/ndf=0.98\n",
        "TTbar ------> 5.28 +- 0.64, and full range integral: 16.70\n",
        "QCD ------> 0.00 +- 0.00, and full range integral: 0.00\n",
        "(6.70 4.67 0.72 0.10): 10.54; 16.70; 0.00; 2.88; 21.30 | (0.39,0.42,0.15,0.08) (0.00,0.00,0.00,0.00)\n",
        "--------------------------------"
       ]
      },
      {
       "output_type": "stream",
       "stream": "stdout",
       "text": [
        "\n",
        "M=700 GeV ------> 8.06 +- 0.37, and full range integral: 10.80\n",
        "Mean value: 697.57, with sigma: 42.76\n",
        "Chi2=8.59, ndf=17.00, Chi2/ndf=0.51\n",
        "TTbar ------> 6.93 +- 0.74, and full range integral: 19.54\n",
        "QCD ------> 5.72 +- 5.72, and full range integral: 17.16\n",
        "(6.70 5.33 0.67 0.25): 10.80; 19.54; 17.16; 2.49; 21.14 | (0.40,0.44,0.15,0.08) (0.00,1.00,0.00,0.00)\n",
        "--------------------------------"
       ]
      },
      {
       "output_type": "stream",
       "stream": "stdout",
       "text": [
        "\n",
        "M=700 GeV ------> 7.38 +- 0.36, and full range integral: 10.47\n",
        "Mean value: 697.18, with sigma: 42.36\n",
        "Chi2=9.50, ndf=17.00, Chi2/ndf=0.56\n",
        "TTbar ------> 5.83 +- 0.68, and full range integral: 18.20\n",
        "QCD ------> 0.00 +- 0.00, and full range integral: 11.44\n",
        "(6.70 5.33 0.67 0.20): 10.47; 18.20; 11.44; 2.61; 20.94 | (0.40,0.44,0.14,0.08) (0.00,1.00,0.00,0.00)\n",
        "--------------------------------"
       ]
      },
      {
       "output_type": "stream",
       "stream": "stdout",
       "text": [
        "\n",
        "M=700 GeV ------> 7.63 +- 0.36, and full range integral: 10.21\n",
        "Mean value: 698.62, with sigma: 42.69\n",
        "Chi2=9.29, ndf=17.00, Chi2/ndf=0.55\n",
        "TTbar ------> 6.30 +- 0.70, and full range integral: 18.04\n",
        "QCD ------> 5.72 +- 5.72, and full range integral: 17.16\n",
        "(6.70 5.33 0.70 0.25): 10.21; 18.04; 17.16; 2.55; 20.62 | (0.38,0.45,0.16,0.08) (0.00,1.00,0.00,0.00)\n",
        "--------------------------------"
       ]
      },
      {
       "output_type": "stream",
       "stream": "stdout",
       "text": [
        "\n",
        "M=700 GeV ------> 7.68 +- 0.36, and full range integral: 10.35\n",
        "Mean value: 696.91, with sigma: 38.62\n",
        "Chi2=18.60, ndf=17.00, Chi2/ndf=1.09\n",
        "TTbar ------> 8.11 +- 0.80, and full range integral: 25.84\n",
        "QCD ------> 0.00 +- 0.00, and full range integral: 17.16\n",
        "(6.87 4.00 0.63 0.05): 10.35; 25.84; 17.16; 1.81; 19.66 | (0.50,0.34,0.12,0.06) (0.67,0.33,0.00,0.00)\n",
        "--------------------------------"
       ]
      },
      {
       "output_type": "stream",
       "stream": "stdout",
       "text": [
        "\n",
        "M=700 GeV ------> 10.68 +- 0.43, and full range integral: 14.37\n",
        "Mean value: 694.87, with sigma: 39.40\n",
        "Chi2=18.27, ndf=17.00, Chi2/ndf=1.07\n",
        "TTbar ------> 11.19 +- 0.94, and full range integral: 32.06\n",
        "QCD ------> 0.00 +- 0.00, and full range integral: 17.16\n",
        "(6.87 4.00 0.67 0.10): 14.37; 32.06; 17.16; 2.03; 23.63 | (0.47,0.39,0.12,0.07) (0.33,0.67,0.00,0.00)\n",
        "--------------------------------"
       ]
      },
      {
       "output_type": "stream",
       "stream": "stdout",
       "text": [
        "\n",
        "M=700 GeV ------> 9.78 +- 0.41, and full range integral: 13.10\n",
        "Mean value: 695.69, with sigma: 39.38\n",
        "Chi2=17.93, ndf=17.00, Chi2/ndf=1.05\n",
        "TTbar ------> 9.45 +- 0.86, and full range integral: 27.02\n",
        "QCD ------> 0.00 +- 0.00, and full range integral: 5.72\n",
        "(6.87 4.00 0.70 0.10): 13.10; 27.02; 5.72; 2.21; 22.85 | (0.44,0.40,0.13,0.08) (0.00,1.00,0.00,0.00)\n",
        "--------------------------------"
       ]
      },
      {
       "output_type": "stream",
       "stream": "stdout",
       "text": [
        "\n",
        "M=700 GeV ------> 8.95 +- 0.39, and full range integral: 11.89\n",
        "Mean value: 696.77, with sigma: 39.07\n",
        "Chi2=16.70, ndf=17.00, Chi2/ndf=0.98\n",
        "TTbar ------> 7.01 +- 0.74, and full range integral: 21.74\n",
        "QCD ------> 0.00 +- 0.00, and full range integral: 5.72\n",
        "(6.87 4.00 0.72 0.10): 11.89; 21.74; 5.72; 2.49; 22.17 | (0.41,0.41,0.14,0.08) (0.00,1.00,0.00,0.00)\n",
        "--------------------------------"
       ]
      },
      {
       "output_type": "stream",
       "stream": "stdout",
       "text": [
        "\n",
        "M=700 GeV ------> 9.80 +- 0.41, and full range integral: 13.44\n",
        "Mean value: 695.49, with sigma: 40.32\n",
        "Chi2=22.99, ndf=17.00, Chi2/ndf=1.35\n",
        "TTbar ------> 9.37 +- 0.86, and full range integral: 27.96\n",
        "QCD ------> 11.44 +- 8.09, and full range integral: 17.16\n",
        "(6.87 4.67 0.63 0.10): 13.44; 27.96; 17.16; 2.18; 23.10 | (0.51,0.36,0.11,0.05) (1.00,0.00,0.00,0.00)\n",
        "--------------------------------"
       ]
      },
      {
       "output_type": "stream",
       "stream": "stdout",
       "text": [
        "\n",
        "M=700 GeV ------> 9.47 +- 0.40, and full range integral: 12.92\n",
        "Mean value: 695.68, with sigma: 40.03\n",
        "Chi2=19.56, ndf=17.00, Chi2/ndf=1.15\n",
        "TTbar ------> 8.66 +- 0.83, and full range integral: 25.60\n",
        "QCD ------> 5.72 +- 5.72, and full range integral: 11.44\n",
        "(6.87 4.67 0.65 0.10): 12.92; 25.60; 11.44; 2.29; 22.83 | (0.48,0.38,0.11,0.06) (1.00,0.00,0.00,0.00)\n",
        "--------------------------------"
       ]
      },
      {
       "output_type": "stream",
       "stream": "stdout",
       "text": [
        "\n",
        "M=700 GeV ------> 10.32 +- 0.42, and full range integral: 14.77\n",
        "Mean value: 696.74, with sigma: 42.72\n",
        "Chi2=9.53, ndf=17.00, Chi2/ndf=0.56\n",
        "TTbar ------> 9.69 +- 0.87, and full range integral: 29.22\n",
        "QCD ------> 0.00 +- 0.00, and full range integral: 17.16\n",
        "(6.87 4.67 0.67 0.25): 14.77; 29.22; 17.16; 2.29; 24.41 | (0.42,0.42,0.14,0.07) (0.00,1.00,0.00,0.00)\n",
        "--------------------------------"
       ]
      },
      {
       "output_type": "stream",
       "stream": "stdout",
       "text": [
        "\n",
        "M=700 GeV ------> 10.16 +- 0.42, and full range integral: 14.37\n",
        "Mean value: 696.26, with sigma: 42.19\n",
        "Chi2=9.70, ndf=17.00, Chi2/ndf=0.57\n",
        "TTbar ------> 9.22 +- 0.85, and full range integral: 27.57\n",
        "QCD ------> 0.00 +- 0.00, and full range integral: 11.44\n",
        "(6.87 4.67 0.67 0.20): 14.37; 27.57; 11.44; 2.37; 24.20 | (0.42,0.42,0.13,0.07) (0.00,1.00,0.00,0.00)\n",
        "--------------------------------"
       ]
      },
      {
       "output_type": "stream",
       "stream": "stdout",
       "text": [
        "\n",
        "M=700 GeV ------> 9.92 +- 0.41, and full range integral: 13.68\n",
        "Mean value: 696.22, with sigma: 40.69\n",
        "Chi2=18.64, ndf=17.00, Chi2/ndf=1.10\n",
        "TTbar ------> 8.51 +- 0.82, and full range integral: 25.29\n",
        "QCD ------> 0.00 +- 0.00, and full range integral: 11.44\n",
        "(6.87 4.67 0.67 0.15): 13.68; 25.29; 11.44; 2.46; 23.74 | (0.42,0.43,0.13,0.07) (0.00,1.00,0.00,0.00)\n",
        "--------------------------------"
       ]
      },
      {
       "output_type": "stream",
       "stream": "stdout",
       "text": [
        "\n",
        "M=700 GeV ------> 8.97 +- 0.39, and full range integral: 12.20\n",
        "Mean value: 695.90, with sigma: 40.09\n",
        "Chi2=19.78, ndf=17.00, Chi2/ndf=1.16\n",
        "TTbar ------> 7.56 +- 0.77, and full range integral: 21.98\n",
        "QCD ------> 0.00 +- 0.00, and full range integral: 0.00\n",
        "(6.87 4.67 0.67 0.10): 12.20; 21.98; 0.00; 2.53; 22.52 | (0.44,0.41,0.13,0.06) (0.00,0.00,0.00,0.00)\n",
        "--------------------------------"
       ]
      },
      {
       "output_type": "stream",
       "stream": "stdout",
       "text": [
        "\n",
        "M=700 GeV ------> 10.18 +- 0.42, and full range integral: 13.66\n",
        "Mean value: 697.97, with sigma: 42.73\n",
        "Chi2=7.89, ndf=17.00, Chi2/ndf=0.46\n",
        "TTbar ------> 9.53 +- 0.87, and full range integral: 25.44\n",
        "QCD ------> 5.72 +- 5.72, and full range integral: 17.16\n",
        "(6.87 4.67 0.70 0.25): 13.66; 25.44; 17.16; 2.43; 23.69 | (0.40,0.42,0.14,0.08) (0.00,1.00,0.00,0.00)\n",
        "--------------------------------"
       ]
      },
      {
       "output_type": "stream",
       "stream": "stdout",
       "text": [
        "\n",
        "M=700 GeV ------> 9.47 +- 0.40, and full range integral: 13.32\n",
        "Mean value: 697.45, with sigma: 42.29\n",
        "Chi2=8.10, ndf=17.00, Chi2/ndf=0.48\n",
        "TTbar ------> 8.11 +- 0.80, and full range integral: 23.95\n",
        "QCD ------> 0.00 +- 0.00, and full range integral: 11.44\n",
        "(6.87 4.67 0.70 0.20): 13.32; 23.95; 11.44; 2.52; 23.51 | (0.41,0.42,0.13,0.08) (0.00,1.00,0.00,0.00)\n",
        "--------------------------------"
       ]
      },
      {
       "output_type": "stream",
       "stream": "stdout",
       "text": [
        "\n",
        "M=700 GeV ------> 9.25 +- 0.40, and full range integral: 12.70\n",
        "Mean value: 697.21, with sigma: 40.81\n",
        "Chi2=16.76, ndf=17.00, Chi2/ndf=0.99\n",
        "TTbar ------> 7.48 +- 0.77, and full range integral: 21.82\n",
        "QCD ------> 0.00 +- 0.00, and full range integral: 11.44\n",
        "(6.87 4.67 0.70 0.15): 12.70; 21.82; 11.44; 2.64; 23.10 | (0.40,0.43,0.13,0.08) (0.00,1.00,0.00,0.00)\n",
        "--------------------------------"
       ]
      },
      {
       "output_type": "stream",
       "stream": "stdout",
       "text": [
        "\n",
        "M=700 GeV ------> 8.39 +- 0.38, and full range integral: 11.37\n",
        "Mean value: 696.81, with sigma: 40.17\n",
        "Chi2=17.31, ndf=17.00, Chi2/ndf=1.02\n",
        "TTbar ------> 6.62 +- 0.72, and full range integral: 18.83\n",
        "QCD ------> 0.00 +- 0.00, and full range integral: 0.00\n",
        "(6.87 4.67 0.70 0.10): 11.37; 18.83; 0.00; 2.76; 21.99 | (0.42,0.41,0.14,0.08) (0.00,0.00,0.00,0.00)\n",
        "--------------------------------"
       ]
      },
      {
       "output_type": "stream",
       "stream": "stdout",
       "text": [
        "\n",
        "M=700 GeV ------> 9.35 +- 0.40, and full range integral: 12.51\n",
        "Mean value: 699.21, with sigma: 42.51\n",
        "Chi2=8.11, ndf=17.00, Chi2/ndf=0.48\n",
        "TTbar ------> 7.40 +- 0.76, and full range integral: 21.19\n",
        "QCD ------> 5.72 +- 5.72, and full range integral: 17.16\n",
        "(6.87 4.67 0.72 0.25): 12.51; 21.19; 17.16; 2.67; 22.96 | (0.36,0.43,0.16,0.09) (0.00,1.00,0.00,0.00)\n",
        "--------------------------------"
       ]
      },
      {
       "output_type": "stream",
       "stream": "stdout",
       "text": [
        "\n",
        "M=700 GeV ------> 9.23 +- 0.40, and full range integral: 12.22\n",
        "Mean value: 698.61, with sigma: 41.98\n",
        "Chi2=8.29, ndf=17.00, Chi2/ndf=0.49\n",
        "TTbar ------> 7.09 +- 0.75, and full range integral: 20.01\n",
        "QCD ------> 5.72 +- 5.72, and full range integral: 11.44\n",
        "(6.87 4.67 0.72 0.20): 12.22; 20.01; 11.44; 2.77; 22.80 | (0.37,0.44,0.15,0.09) (0.00,1.00,0.00,0.00)\n",
        "--------------------------------"
       ]
      },
      {
       "output_type": "stream",
       "stream": "stdout",
       "text": [
        "\n",
        "M=700 GeV ------> 8.47 +- 0.38, and full range integral: 11.59\n",
        "Mean value: 698.37, with sigma: 40.37\n",
        "Chi2=15.33, ndf=17.00, Chi2/ndf=0.90\n",
        "TTbar ------> 5.91 +- 0.68, and full range integral: 18.51\n",
        "QCD ------> 0.00 +- 0.00, and full range integral: 11.44\n",
        "(6.87 4.67 0.72 0.15): 11.59; 18.51; 11.44; 2.84; 22.29 | (0.37,0.44,0.14,0.09) (0.00,1.00,0.00,0.00)\n",
        "--------------------------------"
       ]
      },
      {
       "output_type": "stream",
       "stream": "stdout",
       "text": [
        "\n",
        "M=700 GeV ------> 7.71 +- 0.36, and full range integral: 10.42\n",
        "Mean value: 697.79, with sigma: 39.82\n",
        "Chi2=15.34, ndf=17.00, Chi2/ndf=0.90\n",
        "TTbar ------> 5.12 +- 0.64, and full range integral: 15.99\n",
        "QCD ------> 0.00 +- 0.00, and full range integral: 0.00\n",
        "(6.87 4.67 0.72 0.10): 10.42; 15.99; 0.00; 2.98; 21.26 | (0.39,0.42,0.15,0.08) (0.00,0.00,0.00,0.00)\n",
        "--------------------------------"
       ]
      },
      {
       "output_type": "stream",
       "stream": "stdout",
       "text": [
        "\n",
        "M=700 GeV ------> 7.95 +- 0.37, and full range integral: 10.68\n",
        "Mean value: 697.84, with sigma: 42.89\n",
        "Chi2=7.86, ndf=17.00, Chi2/ndf=0.46\n",
        "TTbar ------> 6.62 +- 0.72, and full range integral: 18.75\n",
        "QCD ------> 5.72 +- 5.72, and full range integral: 17.16\n",
        "(6.87 5.33 0.67 0.25): 10.68; 18.75; 17.16; 2.57; 21.11 | (0.39,0.43,0.15,0.08) (0.00,1.00,0.00,0.00)\n",
        "--------------------------------"
       ]
      },
      {
       "output_type": "stream",
       "stream": "stdout",
       "text": [
        "\n",
        "M=700 GeV ------> 7.30 +- 0.35, and full range integral: 10.37\n",
        "Mean value: 697.45, with sigma: 42.44\n",
        "Chi2=8.85, ndf=17.00, Chi2/ndf=0.52\n",
        "TTbar ------> 5.59 +- 0.66, and full range integral: 17.41\n",
        "QCD ------> 0.00 +- 0.00, and full range integral: 11.44\n",
        "(6.87 5.33 0.67 0.20): 10.37; 17.41; 11.44; 2.70; 20.94 | (0.40,0.43,0.14,0.08) (0.00,1.00,0.00,0.00)\n",
        "--------------------------------"
       ]
      },
      {
       "output_type": "stream",
       "stream": "stdout",
       "text": [
        "\n",
        "M=700 GeV ------> 7.52 +- 0.36, and full range integral: 10.09\n",
        "Mean value: 698.91, with sigma: 42.81\n",
        "Chi2=8.37, ndf=17.00, Chi2/ndf=0.49\n",
        "TTbar ------> 6.07 +- 0.69, and full range integral: 17.33\n",
        "QCD ------> 5.72 +- 5.72, and full range integral: 17.16\n",
        "(6.87 5.33 0.70 0.25): 10.09; 17.33; 17.16; 2.62; 20.58 | (0.38,0.44,0.16,0.08) (0.00,1.00,0.00,0.00)\n",
        "--------------------------------"
       ]
      },
      {
       "output_type": "stream",
       "stream": "stdout",
       "text": [
        "\n",
        "M=700 GeV ------> 7.54 +- 0.36, and full range integral: 10.13\n",
        "Mean value: 696.55, with sigma: 38.73\n",
        "Chi2=17.63, ndf=17.00, Chi2/ndf=1.04\n",
        "TTbar ------> 7.72 +- 0.78, and full range integral: 24.97\n",
        "QCD ------> 0.00 +- 0.00, and full range integral: 17.16\n",
        "(7.03 4.00 0.63 0.05): 10.13; 24.97; 17.16; 1.83; 19.49 | (0.50,0.34,0.12,0.07) (0.67,0.33,0.00,0.00)\n",
        "--------------------------------"
       ]
      },
      {
       "output_type": "stream",
       "stream": "stdout",
       "text": [
        "\n",
        "M=700 GeV ------> 10.56 +- 0.43, and full range integral: 14.15\n",
        "Mean value: 694.49, with sigma: 39.33\n",
        "Chi2=16.65, ndf=17.00, Chi2/ndf=0.98\n",
        "TTbar ------> 10.63 +- 0.92, and full range integral: 31.04\n",
        "QCD ------> 0.00 +- 0.00, and full range integral: 17.16\n",
        "(7.03 4.00 0.67 0.10): 14.15; 31.04; 17.16; 2.07; 23.51 | (0.46,0.39,0.12,0.07) (0.33,0.67,0.00,0.00)\n",
        "--------------------------------"
       ]
      },
      {
       "output_type": "stream",
       "stream": "stdout",
       "text": [
        "\n",
        "M=700 GeV ------> 9.68 +- 0.41, and full range integral: 12.92\n",
        "Mean value: 695.36, with sigma: 39.34\n",
        "Chi2=16.54, ndf=17.00, Chi2/ndf=0.97\n",
        "TTbar ------> 8.98 +- 0.84, and full range integral: 26.07\n",
        "QCD ------> 0.00 +- 0.00, and full range integral: 5.72\n",
        "(7.03 4.00 0.70 0.10): 12.92; 26.07; 5.72; 2.26; 22.78 | (0.44,0.40,0.13,0.08) (0.00,1.00,0.00,0.00)\n",
        "--------------------------------"
       ]
      },
      {
       "output_type": "stream",
       "stream": "stdout",
       "text": [
        "\n",
        "M=700 GeV ------> 8.85 +- 0.39, and full range integral: 11.72\n",
        "Mean value: 696.41, with sigma: 39.02\n",
        "Chi2=15.97, ndf=17.00, Chi2/ndf=0.94\n",
        "TTbar ------> 6.54 +- 0.72, and full range integral: 20.95\n",
        "QCD ------> 0.00 +- 0.00, and full range integral: 5.72\n",
        "(7.03 4.00 0.72 0.10): 11.72; 20.95; 5.72; 2.54; 22.08 | (0.40,0.41,0.15,0.09) (0.00,1.00,0.00,0.00)\n",
        "--------------------------------"
       ]
      },
      {
       "output_type": "stream",
       "stream": "stdout",
       "text": [
        "\n",
        "M=700 GeV ------> 10.04 +- 0.42, and full range integral: 13.79\n",
        "Mean value: 694.42, with sigma: 40.52\n",
        "Chi2=15.01, ndf=17.00, Chi2/ndf=0.88\n",
        "TTbar ------> 10.08 +- 0.89, and full range integral: 31.98\n",
        "QCD ------> 11.44 +- 8.09, and full range integral: 17.16\n",
        "(7.03 4.67 0.58 0.10): 13.79; 31.98; 17.16; 1.95; 22.99 | (0.55,0.33,0.11,0.05) (1.00,0.00,0.00,0.00)\n",
        "--------------------------------"
       ]
      },
      {
       "output_type": "stream",
       "stream": "stdout",
       "text": [
        "\n",
        "M=700 GeV ------> 9.92 +- 0.41, and full range integral: 13.65\n",
        "Mean value: 694.53, with sigma: 40.56\n",
        "Chi2=15.66, ndf=17.00, Chi2/ndf=0.92\n",
        "TTbar ------> 9.61 +- 0.87, and full range integral: 29.38\n",
        "QCD ------> 11.44 +- 8.09, and full range integral: 17.16\n",
        "(7.03 4.67 0.60 0.10): 13.65; 29.38; 17.16; 2.10; 23.15 | (0.52,0.35,0.11,0.05) (1.00,0.00,0.00,0.00)\n",
        "--------------------------------"
       ]
      },
      {
       "output_type": "stream",
       "stream": "stdout",
       "text": [
        "\n",
        "M=700 GeV ------> 9.71 +- 0.41, and full range integral: 13.27\n",
        "Mean value: 695.11, with sigma: 40.22\n",
        "Chi2=20.88, ndf=17.00, Chi2/ndf=1.23\n",
        "TTbar ------> 9.06 +- 0.84, and full range integral: 27.41\n",
        "QCD ------> 5.72 +- 5.72, and full range integral: 11.44\n",
        "(7.03 4.67 0.63 0.10): 13.27; 27.41; 11.44; 2.20; 22.99 | (0.51,0.36,0.11,0.05) (1.00,0.00,0.00,0.00)\n",
        "--------------------------------"
       ]
      },
      {
       "output_type": "stream",
       "stream": "stdout",
       "text": [
        "\n",
        "M=700 GeV ------> 9.39 +- 0.40, and full range integral: 12.75\n",
        "Mean value: 695.29, with sigma: 39.92\n",
        "Chi2=17.68, ndf=17.00, Chi2/ndf=1.04\n",
        "TTbar ------> 8.35 +- 0.81, and full range integral: 25.05\n",
        "QCD ------> 5.72 +- 5.72, and full range integral: 11.44\n",
        "(7.03 4.67 0.65 0.10): 12.75; 25.05; 11.44; 2.31; 22.71 | (0.48,0.38,0.12,0.06) (1.00,0.00,0.00,0.00)\n",
        "--------------------------------"
       ]
      },
      {
       "output_type": "stream",
       "stream": "stdout",
       "text": [
        "\n",
        "M=700 GeV ------> 10.20 +- 0.42, and full range integral: 14.54\n",
        "Mean value: 696.43, with sigma: 42.69\n",
        "Chi2=8.88, ndf=17.00, Chi2/ndf=0.52\n",
        "TTbar ------> 9.37 +- 0.86, and full range integral: 28.59\n",
        "QCD ------> 0.00 +- 0.00, and full range integral: 17.16\n",
        "(7.03 4.67 0.67 0.25): 14.54; 28.59; 17.16; 2.30; 24.24 | (0.42,0.42,0.14,0.07) (0.00,1.00,0.00,0.00)\n",
        "--------------------------------"
       ]
      },
      {
       "output_type": "stream",
       "stream": "stdout",
       "text": [
        "\n",
        "M=700 GeV ------> 10.04 +- 0.42, and full range integral: 14.15\n",
        "Mean value: 695.93, with sigma: 42.15\n",
        "Chi2=9.06, ndf=17.00, Chi2/ndf=0.53\n",
        "TTbar ------> 8.90 +- 0.84, and full range integral: 26.94\n",
        "QCD ------> 0.00 +- 0.00, and full range integral: 11.44\n",
        "(7.03 4.67 0.67 0.20): 14.15; 26.94; 11.44; 2.38; 24.03 | (0.42,0.42,0.13,0.07) (0.00,1.00,0.00,0.00)\n",
        "--------------------------------"
       ]
      },
      {
       "output_type": "stream",
       "stream": "stdout",
       "text": [
        "\n",
        "M=700 GeV ------> 9.80 +- 0.41, and full range integral: 13.48\n",
        "Mean value: 695.80, with sigma: 40.65\n",
        "Chi2=17.05, ndf=17.00, Chi2/ndf=1.00\n",
        "TTbar ------> 8.19 +- 0.80, and full range integral: 24.66\n",
        "QCD ------> 0.00 +- 0.00, and full range integral: 11.44\n",
        "(7.03 4.67 0.67 0.15): 13.48; 24.66; 11.44; 2.48; 23.59 | (0.42,0.43,0.13,0.07) (0.00,1.00,0.00,0.00)\n",
        "--------------------------------"
       ]
      },
      {
       "output_type": "stream",
       "stream": "stdout",
       "text": [
        "\n",
        "M=700 GeV ------> 8.89 +- 0.39, and full range integral: 12.03\n",
        "Mean value: 695.49, with sigma: 39.98\n",
        "Chi2=17.75, ndf=17.00, Chi2/ndf=1.04\n",
        "TTbar ------> 7.25 +- 0.76, and full range integral: 21.43\n",
        "QCD ------> 0.00 +- 0.00, and full range integral: 0.00\n",
        "(7.03 4.67 0.67 0.10): 12.03; 21.43; 0.00; 2.56; 22.39 | (0.44,0.40,0.13,0.07) (0.00,0.00,0.00,0.00)\n",
        "--------------------------------"
       ]
      },
      {
       "output_type": "stream",
       "stream": "stdout",
       "text": [
        "\n",
        "M=700 GeV ------> 10.06 +- 0.42, and full range integral: 13.46\n",
        "Mean value: 697.73, with sigma: 42.75\n",
        "Chi2=7.38, ndf=17.00, Chi2/ndf=0.43\n",
        "TTbar ------> 9.22 +- 0.85, and full range integral: 24.81\n",
        "QCD ------> 5.72 +- 5.72, and full range integral: 17.16\n",
        "(7.03 4.67 0.70 0.25): 13.46; 24.81; 17.16; 2.45; 23.54 | (0.40,0.42,0.15,0.08) (0.00,1.00,0.00,0.00)\n",
        "--------------------------------"
       ]
      },
      {
       "output_type": "stream",
       "stream": "stdout",
       "text": [
        "\n",
        "M=700 GeV ------> 9.35 +- 0.40, and full range integral: 13.11\n",
        "Mean value: 697.20, with sigma: 42.30\n",
        "Chi2=7.57, ndf=17.00, Chi2/ndf=0.45\n",
        "TTbar ------> 7.80 +- 0.78, and full range integral: 23.32\n",
        "QCD ------> 0.00 +- 0.00, and full range integral: 11.44\n",
        "(7.03 4.67 0.70 0.20): 13.11; 23.32; 11.44; 2.55; 23.37 | (0.41,0.42,0.14,0.08) (0.00,1.00,0.00,0.00)\n",
        "--------------------------------"
       ]
      },
      {
       "output_type": "stream",
       "stream": "stdout",
       "text": [
        "\n",
        "M=700 GeV ------> 9.13 +- 0.40, and full range integral: 12.51\n",
        "Mean value: 696.86, with sigma: 40.83\n",
        "Chi2=15.44, ndf=17.00, Chi2/ndf=0.91\n",
        "TTbar ------> 7.17 +- 0.75, and full range integral: 21.19\n",
        "QCD ------> 0.00 +- 0.00, and full range integral: 11.44\n",
        "(7.03 4.67 0.70 0.15): 12.51; 21.19; 11.44; 2.68; 22.97 | (0.40,0.43,0.14,0.08) (0.00,1.00,0.00,0.00)\n",
        "--------------------------------"
       ]
      },
      {
       "output_type": "stream",
       "stream": "stdout",
       "text": [
        "\n",
        "M=700 GeV ------> 8.30 +- 0.38, and full range integral: 11.21\n",
        "Mean value: 696.48, with sigma: 40.12\n",
        "Chi2=15.84, ndf=17.00, Chi2/ndf=0.93\n",
        "TTbar ------> 6.30 +- 0.70, and full range integral: 18.27\n",
        "QCD ------> 0.00 +- 0.00, and full range integral: 0.00\n",
        "(7.03 4.67 0.70 0.10): 11.21; 18.27; 0.00; 2.80; 21.89 | (0.42,0.41,0.14,0.08) (0.00,0.00,0.00,0.00)\n",
        "--------------------------------"
       ]
      },
      {
       "output_type": "stream",
       "stream": "stdout",
       "text": [
        "\n",
        "M=700 GeV ------> 9.23 +- 0.40, and full range integral: 12.30\n",
        "Mean value: 698.96, with sigma: 42.54\n",
        "Chi2=7.98, ndf=17.00, Chi2/ndf=0.47\n",
        "TTbar ------> 7.09 +- 0.75, and full range integral: 20.64\n",
        "QCD ------> 5.72 +- 5.72, and full range integral: 17.16\n",
        "(7.03 4.67 0.72 0.25): 12.30; 20.64; 17.16; 2.69; 22.80 | (0.36,0.44,0.16,0.10) (0.00,1.00,0.00,0.00)\n",
        "--------------------------------"
       ]
      },
      {
       "output_type": "stream",
       "stream": "stdout",
       "text": [
        "\n",
        "M=700 GeV ------> 9.11 +- 0.40, and full range integral: 12.01\n",
        "Mean value: 698.36, with sigma: 42.00\n",
        "Chi2=8.19, ndf=17.00, Chi2/ndf=0.48\n",
        "TTbar ------> 6.77 +- 0.73, and full range integral: 19.46\n",
        "QCD ------> 5.72 +- 5.72, and full range integral: 11.44\n",
        "(7.03 4.67 0.72 0.20): 12.01; 19.46; 11.44; 2.80; 22.64 | (0.36,0.44,0.15,0.09) (0.00,1.00,0.00,0.00)\n",
        "--------------------------------"
       ]
      },
      {
       "output_type": "stream",
       "stream": "stdout",
       "text": [
        "\n",
        "M=700 GeV ------> 8.35 +- 0.38, and full range integral: 11.40\n",
        "Mean value: 698.01, with sigma: 40.40\n",
        "Chi2=14.74, ndf=17.00, Chi2/ndf=0.87\n",
        "TTbar ------> 5.59 +- 0.66, and full range integral: 17.96\n",
        "QCD ------> 0.00 +- 0.00, and full range integral: 11.44\n",
        "(7.03 4.67 0.72 0.15): 11.40; 17.96; 11.44; 2.87; 22.14 | (0.37,0.44,0.14,0.09) (0.00,1.00,0.00,0.00)\n",
        "--------------------------------"
       ]
      },
      {
       "output_type": "stream",
       "stream": "stdout",
       "text": [
        "\n",
        "M=700 GeV ------> 7.63 +- 0.36, and full range integral: 10.27\n",
        "Mean value: 697.43, with sigma: 39.77\n",
        "Chi2=14.52, ndf=17.00, Chi2/ndf=0.85\n",
        "TTbar ------> 4.80 +- 0.62, and full range integral: 15.52\n",
        "QCD ------> 0.00 +- 0.00, and full range integral: 0.00\n",
        "(7.03 4.67 0.72 0.10): 10.27; 15.52; 0.00; 3.02; 21.14 | (0.39,0.42,0.15,0.09) (0.00,0.00,0.00,0.00)\n",
        "--------------------------------"
       ]
      },
      {
       "output_type": "stream",
       "stream": "stdout",
       "text": [
        "\n",
        "M=700 GeV ------> 7.88 +- 0.37, and full range integral: 10.58\n",
        "Mean value: 697.66, with sigma: 42.84\n",
        "Chi2=6.90, ndf=17.00, Chi2/ndf=0.41\n",
        "TTbar ------> 6.62 +- 0.72, and full range integral: 18.67\n",
        "QCD ------> 5.72 +- 5.72, and full range integral: 17.16\n",
        "(7.03 5.33 0.67 0.25): 10.58; 18.67; 17.16; 2.55; 20.99 | (0.40,0.43,0.15,0.08) (0.00,1.00,0.00,0.00)\n",
        "--------------------------------"
       ]
      },
      {
       "output_type": "stream",
       "stream": "stdout",
       "text": [
        "\n",
        "M=700 GeV ------> 7.23 +- 0.35, and full range integral: 10.27\n",
        "Mean value: 697.27, with sigma: 42.38\n",
        "Chi2=7.79, ndf=17.00, Chi2/ndf=0.46\n",
        "TTbar ------> 5.59 +- 0.66, and full range integral: 17.33\n",
        "QCD ------> 0.00 +- 0.00, and full range integral: 11.44\n",
        "(7.03 5.33 0.67 0.20): 10.27; 17.33; 11.44; 2.68; 20.82 | (0.40,0.43,0.15,0.08) (0.00,1.00,0.00,0.00)\n",
        "--------------------------------"
       ]
      },
      {
       "output_type": "stream",
       "stream": "stdout",
       "text": [
        "\n",
        "M=700 GeV ------> 10.23 +- 0.42, and full range integral: 13.80\n",
        "Mean value: 694.66, with sigma: 39.61\n",
        "Chi2=17.05, ndf=17.00, Chi2/ndf=1.00\n",
        "TTbar ------> 10.48 +- 0.91, and full range integral: 30.01\n",
        "QCD ------> 0.00 +- 0.00, and full range integral: 17.16\n",
        "(7.20 4.00 0.67 0.10): 13.80; 30.01; 17.16; 2.08; 23.25 | (0.46,0.39,0.12,0.07) (0.33,0.67,0.00,0.00)\n",
        "--------------------------------"
       ]
      },
      {
       "output_type": "stream",
       "stream": "stdout",
       "text": [
        "\n",
        "M=700 GeV ------> 10.63 +- 0.43, and full range integral: 14.84\n",
        "Mean value: 696.61, with sigma: 42.04\n",
        "Chi2=8.25, ndf=17.00, Chi2/ndf=0.49\n",
        "TTbar ------> 10.95 +- 0.93, and full range integral: 32.06\n",
        "QCD ------> 0.00 +- 0.00, and full range integral: 17.16\n",
        "(7.20 4.00 0.70 0.20): 14.84; 32.06; 17.16; 2.10; 24.13 | (0.42,0.41,0.13,0.08) (0.00,1.00,0.00,0.00)\n",
        "--------------------------------"
       ]
      },
      {
       "output_type": "stream",
       "stream": "stdout",
       "text": [
        "\n",
        "M=700 GeV ------> 10.32 +- 0.42, and full range integral: 14.04\n",
        "Mean value: 696.07, with sigma: 40.49\n",
        "Chi2=15.68, ndf=17.00, Chi2/ndf=0.92\n",
        "TTbar ------> 10.32 +- 0.90, and full range integral: 29.54\n",
        "QCD ------> 0.00 +- 0.00, and full range integral: 17.16\n",
        "(7.20 4.00 0.70 0.15): 14.04; 29.54; 17.16; 2.15; 23.58 | (0.42,0.42,0.13,0.08) (0.00,1.00,0.00,0.00)\n",
        "--------------------------------"
       ]
      },
      {
       "output_type": "stream",
       "stream": "stdout",
       "text": [
        "\n",
        "M=700 GeV ------> 9.39 +- 0.40, and full range integral: 12.61\n",
        "Mean value: 695.56, with sigma: 39.57\n",
        "Chi2=16.46, ndf=17.00, Chi2/ndf=0.97\n",
        "TTbar ------> 8.82 +- 0.83, and full range integral: 25.21\n",
        "QCD ------> 0.00 +- 0.00, and full range integral: 5.72\n",
        "(7.20 4.00 0.70 0.10): 12.61; 25.21; 5.72; 2.28; 22.54 | (0.43,0.41,0.12,0.08) (0.00,1.00,0.00,0.00)\n",
        "--------------------------------"
       ]
      },
      {
       "output_type": "stream",
       "stream": "stdout",
       "text": [
        "\n",
        "M=700 GeV ------> 9.66 +- 0.41, and full range integral: 13.39\n",
        "Mean value: 697.71, with sigma: 41.60\n",
        "Chi2=8.88, ndf=17.00, Chi2/ndf=0.52\n",
        "TTbar ------> 8.27 +- 0.81, and full range integral: 25.60\n",
        "QCD ------> 0.00 +- 0.00, and full range integral: 17.16\n",
        "(7.20 4.00 0.72 0.20): 13.39; 25.60; 17.16; 2.37; 23.35 | (0.39,0.42,0.14,0.09) (0.00,1.00,0.00,0.00)\n",
        "--------------------------------"
       ]
      },
      {
       "output_type": "stream",
       "stream": "stdout",
       "text": [
        "\n",
        "M=700 GeV ------> 9.37 +- 0.40, and full range integral: 12.63\n",
        "Mean value: 697.10, with sigma: 39.94\n",
        "Chi2=15.77, ndf=17.00, Chi2/ndf=0.93\n",
        "TTbar ------> 7.80 +- 0.78, and full range integral: 23.79\n",
        "QCD ------> 0.00 +- 0.00, and full range integral: 17.16\n",
        "(7.20 4.00 0.72 0.15): 12.63; 23.79; 17.16; 2.40; 22.73 | (0.39,0.43,0.14,0.09) (0.00,1.00,0.00,0.00)\n",
        "--------------------------------"
       ]
      },
      {
       "output_type": "stream",
       "stream": "stdout",
       "text": [
        "\n",
        "M=700 GeV ------> 8.56 +- 0.38, and full range integral: 11.40\n",
        "Mean value: 696.66, with sigma: 39.26\n",
        "Chi2=15.22, ndf=17.00, Chi2/ndf=0.90\n",
        "TTbar ------> 6.46 +- 0.71, and full range integral: 20.24\n",
        "QCD ------> 0.00 +- 0.00, and full range integral: 5.72\n",
        "(7.20 4.00 0.72 0.10): 11.40; 20.24; 5.72; 2.56; 21.80 | (0.40,0.42,0.14,0.09) (0.00,1.00,0.00,0.00)\n",
        "--------------------------------"
       ]
      },
      {
       "output_type": "stream",
       "stream": "stdout",
       "text": [
        "\n",
        "M=700 GeV ------> 9.80 +- 0.41, and full range integral: 13.53\n",
        "Mean value: 694.62, with sigma: 40.72\n",
        "Chi2=14.14, ndf=17.00, Chi2/ndf=0.83\n",
        "TTbar ------> 10.00 +- 0.89, and full range integral: 31.04\n",
        "QCD ------> 11.44 +- 8.09, and full range integral: 17.16\n",
        "(7.20 4.67 0.58 0.10): 13.53; 31.04; 17.16; 1.97; 22.81 | (0.55,0.33,0.10,0.05) (1.00,0.00,0.00,0.00)\n",
        "--------------------------------"
       ]
      },
      {
       "output_type": "stream",
       "stream": "stdout",
       "text": [
        "\n",
        "M=700 GeV ------> 9.68 +- 0.41, and full range integral: 13.39\n",
        "Mean value: 694.73, with sigma: 40.76\n",
        "Chi2=14.87, ndf=17.00, Chi2/ndf=0.87\n",
        "TTbar ------> 9.53 +- 0.87, and full range integral: 28.51\n",
        "QCD ------> 11.44 +- 8.09, and full range integral: 17.16\n",
        "(7.20 4.67 0.60 0.10): 13.39; 28.51; 17.16; 2.13; 22.97 | (0.52,0.35,0.11,0.05) (1.00,0.00,0.00,0.00)\n",
        "--------------------------------"
       ]
      },
      {
       "output_type": "stream",
       "stream": "stdout",
       "text": [
        "\n",
        "M=700 GeV ------> 9.47 +- 0.40, and full range integral: 13.01\n",
        "Mean value: 695.34, with sigma: 40.41\n",
        "Chi2=20.20, ndf=17.00, Chi2/ndf=1.19\n",
        "TTbar ------> 8.98 +- 0.84, and full range integral: 26.55\n",
        "QCD ------> 5.72 +- 5.72, and full range integral: 11.44\n",
        "(7.20 4.67 0.63 0.10): 13.01; 26.55; 11.44; 2.22; 22.81 | (0.51,0.36,0.10,0.05) (1.00,0.00,0.00,0.00)\n",
        "--------------------------------"
       ]
      },
      {
       "output_type": "stream",
       "stream": "stdout",
       "text": [
        "\n",
        "M=700 GeV ------> 9.14 +- 0.40, and full range integral: 12.49\n",
        "Mean value: 695.53, with sigma: 40.12\n",
        "Chi2=17.31, ndf=17.00, Chi2/ndf=1.02\n",
        "TTbar ------> 8.35 +- 0.81, and full range integral: 24.34\n",
        "QCD ------> 5.72 +- 5.72, and full range integral: 11.44\n",
        "(7.20 4.67 0.65 0.10): 12.49; 24.34; 11.44; 2.33; 22.50 | (0.49,0.38,0.11,0.06) (1.00,0.00,0.00,0.00)\n",
        "--------------------------------"
       ]
      },
      {
       "output_type": "stream",
       "stream": "stdout",
       "text": [
        "\n",
        "M=700 GeV ------> 9.96 +- 0.41, and full range integral: 14.27\n",
        "Mean value: 696.67, with sigma: 42.92\n",
        "Chi2=8.08, ndf=17.00, Chi2/ndf=0.48\n",
        "TTbar ------> 9.29 +- 0.86, and full range integral: 27.81\n",
        "QCD ------> 0.00 +- 0.00, and full range integral: 17.16\n",
        "(7.20 4.67 0.67 0.25): 14.27; 27.81; 17.16; 2.32; 24.04 | (0.42,0.42,0.14,0.07) (0.00,1.00,0.00,0.00)\n",
        "--------------------------------"
       ]
      },
      {
       "output_type": "stream",
       "stream": "stdout",
       "text": [
        "\n",
        "M=700 GeV ------> 9.80 +- 0.41, and full range integral: 13.87\n",
        "Mean value: 696.16, with sigma: 42.38\n",
        "Chi2=8.34, ndf=17.00, Chi2/ndf=0.49\n",
        "TTbar ------> 8.82 +- 0.83, and full range integral: 26.15\n",
        "QCD ------> 0.00 +- 0.00, and full range integral: 11.44\n",
        "(7.20 4.67 0.67 0.20): 13.87; 26.15; 11.44; 2.41; 23.83 | (0.42,0.42,0.13,0.07) (0.00,1.00,0.00,0.00)\n",
        "--------------------------------"
       ]
      },
      {
       "output_type": "stream",
       "stream": "stdout",
       "text": [
        "\n",
        "M=700 GeV ------> 9.56 +- 0.41, and full range integral: 13.20\n",
        "Mean value: 696.04, with sigma: 40.85\n",
        "Chi2=16.83, ndf=17.00, Chi2/ndf=0.99\n",
        "TTbar ------> 8.19 +- 0.80, and full range integral: 23.95\n",
        "QCD ------> 0.00 +- 0.00, and full range integral: 11.44\n",
        "(7.20 4.67 0.67 0.15): 13.20; 23.95; 11.44; 2.50; 23.38 | (0.42,0.43,0.13,0.07) (0.00,1.00,0.00,0.00)\n",
        "--------------------------------"
       ]
      },
      {
       "output_type": "stream",
       "stream": "stdout",
       "text": [
        "\n",
        "M=700 GeV ------> 8.64 +- 0.39, and full range integral: 11.77\n",
        "Mean value: 695.75, with sigma: 40.18\n",
        "Chi2=17.51, ndf=17.00, Chi2/ndf=1.03\n",
        "TTbar ------> 7.25 +- 0.76, and full range integral: 20.72\n",
        "QCD ------> 0.00 +- 0.00, and full range integral: 0.00\n",
        "(7.20 4.67 0.67 0.10): 11.77; 20.72; 0.00; 2.59; 22.19 | (0.44,0.41,0.13,0.06) (0.00,0.00,0.00,0.00)\n",
        "--------------------------------"
       ]
      },
      {
       "output_type": "stream",
       "stream": "stdout",
       "text": [
        "\n",
        "M=700 GeV ------> 9.85 +- 0.41, and full range integral: 13.22\n",
        "Mean value: 698.00, with sigma: 42.92\n",
        "Chi2=6.42, ndf=17.00, Chi2/ndf=0.38\n",
        "TTbar ------> 9.14 +- 0.85, and full range integral: 24.18\n",
        "QCD ------> 5.72 +- 5.72, and full range integral: 17.16\n",
        "(7.20 4.67 0.70 0.25): 13.22; 24.18; 17.16; 2.47; 23.35 | (0.40,0.43,0.14,0.08) (0.00,1.00,0.00,0.00)\n",
        "--------------------------------"
       ]
      },
      {
       "output_type": "stream",
       "stream": "stdout",
       "text": [
        "\n",
        "M=700 GeV ------> 9.14 +- 0.40, and full range integral: 12.87\n",
        "Mean value: 697.47, with sigma: 42.46\n",
        "Chi2=6.73, ndf=17.00, Chi2/ndf=0.40\n",
        "TTbar ------> 7.72 +- 0.78, and full range integral: 22.69\n",
        "QCD ------> 0.00 +- 0.00, and full range integral: 11.44\n",
        "(7.20 4.67 0.70 0.20): 12.87; 22.69; 11.44; 2.57; 23.18 | (0.41,0.43,0.13,0.08) (0.00,1.00,0.00,0.00)\n",
        "--------------------------------"
       ]
      },
      {
       "output_type": "stream",
       "stream": "stdout",
       "text": [
        "\n",
        "M=700 GeV ------> 8.92 +- 0.39, and full range integral: 12.27\n",
        "Mean value: 697.12, with sigma: 40.96\n",
        "Chi2=14.79, ndf=17.00, Chi2/ndf=0.87\n",
        "TTbar ------> 7.17 +- 0.75, and full range integral: 20.64\n",
        "QCD ------> 0.00 +- 0.00, and full range integral: 11.44\n",
        "(7.20 4.67 0.70 0.15): 12.27; 20.64; 11.44; 2.69; 22.77 | (0.40,0.44,0.13,0.08) (0.00,1.00,0.00,0.00)\n",
        "--------------------------------"
       ]
      },
      {
       "output_type": "stream",
       "stream": "stdout",
       "text": [
        "\n",
        "M=700 GeV ------> 8.09 +- 0.37, and full range integral: 10.99\n",
        "Mean value: 696.76, with sigma: 40.25\n",
        "Chi2=15.33, ndf=17.00, Chi2/ndf=0.90\n",
        "TTbar ------> 6.30 +- 0.70, and full range integral: 17.72\n",
        "QCD ------> 0.00 +- 0.00, and full range integral: 0.00\n",
        "(7.20 4.67 0.70 0.10): 10.99; 17.72; 0.00; 2.83; 21.70 | (0.42,0.41,0.13,0.08) (0.00,0.00,0.00,0.00)\n",
        "--------------------------------"
       ]
      },
      {
       "output_type": "stream",
       "stream": "stdout",
       "text": [
        "\n",
        "M=700 GeV ------> 9.02 +- 0.39, and full range integral: 12.06\n",
        "Mean value: 699.29, with sigma: 42.69\n",
        "Chi2=6.50, ndf=17.00, Chi2/ndf=0.38\n",
        "TTbar ------> 7.09 +- 0.75, and full range integral: 20.09\n",
        "QCD ------> 5.72 +- 5.72, and full range integral: 17.16\n",
        "(7.20 4.67 0.72 0.25): 12.06; 20.09; 17.16; 2.71; 22.60 | (0.36,0.44,0.15,0.09) (0.00,1.00,0.00,0.00)\n",
        "--------------------------------"
       ]
      },
      {
       "output_type": "stream",
       "stream": "stdout",
       "text": [
        "\n",
        "M=700 GeV ------> 8.90 +- 0.39, and full range integral: 11.77\n",
        "Mean value: 698.67, with sigma: 42.15\n",
        "Chi2=6.73, ndf=17.00, Chi2/ndf=0.40\n",
        "TTbar ------> 6.77 +- 0.73, and full range integral: 18.90\n",
        "QCD ------> 5.72 +- 5.72, and full range integral: 11.44\n",
        "(7.20 4.67 0.72 0.20): 11.77; 18.90; 11.44; 2.82; 22.44 | (0.37,0.45,0.14,0.09) (0.00,1.00,0.00,0.00)\n",
        "--------------------------------"
       ]
      },
      {
       "output_type": "stream",
       "stream": "stdout",
       "text": [
        "\n",
        "M=700 GeV ------> 8.14 +- 0.37, and full range integral: 11.16\n",
        "Mean value: 698.32, with sigma: 40.52\n",
        "Chi2=13.51, ndf=17.00, Chi2/ndf=0.79\n",
        "TTbar ------> 5.59 +- 0.66, and full range integral: 17.41\n",
        "QCD ------> 0.00 +- 0.00, and full range integral: 11.44\n",
        "(7.20 4.67 0.72 0.15): 11.16; 17.41; 11.44; 2.90; 21.94 | (0.37,0.45,0.14,0.09) (0.00,1.00,0.00,0.00)\n",
        "--------------------------------"
       ]
      },
      {
       "output_type": "stream",
       "stream": "stdout",
       "text": [
        "\n",
        "M=700 GeV ------> 7.42 +- 0.36, and full range integral: 10.04\n",
        "Mean value: 697.77, with sigma: 39.90\n",
        "Chi2=13.30, ndf=17.00, Chi2/ndf=0.78\n",
        "TTbar ------> 4.80 +- 0.62, and full range integral: 14.97\n",
        "QCD ------> 0.00 +- 0.00, and full range integral: 0.00\n",
        "(7.20 4.67 0.72 0.10): 10.04; 14.97; 0.00; 3.06; 20.95 | (0.39,0.43,0.14,0.08) (0.00,0.00,0.00,0.00)\n",
        "--------------------------------"
       ]
      },
      {
       "output_type": "stream",
       "stream": "stdout",
       "text": [
        "\n",
        "M=700 GeV ------> 7.71 +- 0.36, and full range integral: 10.39\n",
        "Mean value: 697.91, with sigma: 43.07\n",
        "Chi2=6.57, ndf=17.00, Chi2/ndf=0.39\n",
        "TTbar ------> 6.62 +- 0.72, and full range integral: 18.27\n",
        "QCD ------> 5.72 +- 5.72, and full range integral: 17.16\n",
        "(7.20 5.33 0.67 0.25): 10.39; 18.27; 17.16; 2.56; 20.81 | (0.41,0.43,0.14,0.07) (0.00,1.00,0.00,0.00)\n",
        "--------------------------------"
       ]
      },
      {
       "output_type": "stream",
       "stream": "stdout",
       "text": [
        "\n",
        "M=700 GeV ------> 7.56 +- 0.36, and full range integral: 10.08\n",
        "Mean value: 697.52, with sigma: 42.60\n",
        "Chi2=7.52, ndf=17.00, Chi2/ndf=0.44\n",
        "TTbar ------> 6.22 +- 0.70, and full range integral: 16.94\n",
        "QCD ------> 5.72 +- 5.72, and full range integral: 11.44\n",
        "(7.20 5.33 0.67 0.20): 10.08; 16.94; 11.44; 2.69; 20.63 | (0.41,0.43,0.13,0.07) (0.00,1.00,0.00,0.00)\n",
        "--------------------------------"
       ]
      },
      {
       "output_type": "stream",
       "stream": "stdout",
       "text": [
        "\n",
        "M=700 GeV ------> 9.99 +- 0.42, and full range integral: 13.46\n",
        "Mean value: 694.61, with sigma: 39.40\n",
        "Chi2=17.66, ndf=17.00, Chi2/ndf=1.04\n",
        "TTbar ------> 9.85 +- 0.88, and full range integral: 28.67\n",
        "QCD ------> 0.00 +- 0.00, and full range integral: 17.16\n",
        "(7.37 4.00 0.67 0.10): 13.46; 28.67; 17.16; 2.13; 23.03 | (0.46,0.39,0.12,0.07) (0.33,0.67,0.00,0.00)\n",
        "--------------------------------"
       ]
      },
      {
       "output_type": "stream",
       "stream": "stdout",
       "text": [
        "\n",
        "M=700 GeV ------> 10.42 +- 0.42, and full range integral: 14.54\n",
        "Mean value: 696.69, with sigma: 41.90\n",
        "Chi2=6.96, ndf=17.00, Chi2/ndf=0.41\n",
        "TTbar ------> 10.24 +- 0.90, and full range integral: 30.72\n",
        "QCD ------> 0.00 +- 0.00, and full range integral: 17.16\n",
        "(7.37 4.00 0.70 0.20): 14.54; 30.72; 17.16; 2.15; 23.98 | (0.41,0.42,0.14,0.08) (0.00,1.00,0.00,0.00)\n",
        "--------------------------------"
       ]
      },
      {
       "output_type": "stream",
       "stream": "stdout",
       "text": [
        "\n",
        "M=700 GeV ------> 10.11 +- 0.42, and full range integral: 13.75\n",
        "Mean value: 696.14, with sigma: 40.31\n",
        "Chi2=14.38, ndf=17.00, Chi2/ndf=0.85\n",
        "TTbar ------> 9.77 +- 0.88, and full range integral: 28.36\n",
        "QCD ------> 0.00 +- 0.00, and full range integral: 17.16\n",
        "(7.37 4.00 0.70 0.15): 13.75; 28.36; 17.16; 2.20; 23.40 | (0.41,0.42,0.13,0.09) (0.00,1.00,0.00,0.00)\n",
        "--------------------------------"
       ]
      },
      {
       "output_type": "stream",
       "stream": "stdout",
       "text": [
        "\n",
        "M=700 GeV ------> 9.21 +- 0.40, and full range integral: 12.35\n",
        "Mean value: 695.69, with sigma: 39.30\n",
        "Chi2=15.88, ndf=17.00, Chi2/ndf=0.93\n",
        "TTbar ------> 8.27 +- 0.81, and full range integral: 24.10\n",
        "QCD ------> 0.00 +- 0.00, and full range integral: 5.72\n",
        "(7.37 4.00 0.70 0.10): 12.35; 24.10; 5.72; 2.33; 22.39 | (0.42,0.41,0.12,0.08) (0.00,1.00,0.00,0.00)\n",
        "--------------------------------"
       ]
      },
      {
       "output_type": "stream",
       "stream": "stdout",
       "text": [
        "\n",
        "M=700 GeV ------> 9.47 +- 0.40, and full range integral: 13.11\n",
        "Mean value: 697.87, with sigma: 41.41\n",
        "Chi2=7.37, ndf=17.00, Chi2/ndf=0.43\n",
        "TTbar ------> 7.64 +- 0.78, and full range integral: 24.34\n",
        "QCD ------> 0.00 +- 0.00, and full range integral: 17.16\n",
        "(7.37 4.00 0.72 0.20): 13.11; 24.34; 17.16; 2.44; 23.21 | (0.37,0.43,0.15,0.09) (0.00,1.00,0.00,0.00)\n",
        "--------------------------------"
       ]
      },
      {
       "output_type": "stream",
       "stream": "stdout",
       "text": [
        "\n",
        "M=700 GeV ------> 9.18 +- 0.40, and full range integral: 12.35\n",
        "Mean value: 697.24, with sigma: 39.71\n",
        "Chi2=14.27, ndf=17.00, Chi2/ndf=0.84\n",
        "TTbar ------> 7.33 +- 0.76, and full range integral: 22.69\n",
        "QCD ------> 0.00 +- 0.00, and full range integral: 17.16\n",
        "(7.37 4.00 0.72 0.15): 12.35; 22.69; 17.16; 2.46; 22.56 | (0.38,0.44,0.14,0.09) (0.00,1.00,0.00,0.00)\n",
        "--------------------------------"
       ]
      },
      {
       "output_type": "stream",
       "stream": "stdout",
       "text": [
        "\n",
        "M=700 GeV ------> 8.39 +- 0.38, and full range integral: 11.15\n",
        "Mean value: 696.83, with sigma: 38.96\n",
        "Chi2=14.13, ndf=17.00, Chi2/ndf=0.83\n",
        "TTbar ------> 5.99 +- 0.69, and full range integral: 19.22\n",
        "QCD ------> 0.00 +- 0.00, and full range integral: 5.72\n",
        "(7.37 4.00 0.72 0.10): 11.15; 19.22; 5.72; 2.64; 21.64 | (0.39,0.42,0.14,0.09) (0.00,1.00,0.00,0.00)\n",
        "--------------------------------"
       ]
      },
      {
       "output_type": "stream",
       "stream": "stdout",
       "text": [
        "\n",
        "M=700 GeV ------> 9.66 +- 0.41, and full range integral: 13.34\n",
        "Mean value: 694.44, with sigma: 40.62\n",
        "Chi2=13.56, ndf=17.00, Chi2/ndf=0.80\n",
        "TTbar ------> 9.45 +- 0.86, and full range integral: 29.85\n",
        "QCD ------> 11.44 +- 8.09, and full range integral: 17.16\n",
        "(7.37 4.67 0.58 0.10): 13.34; 29.85; 17.16; 2.02; 22.75 | (0.55,0.33,0.10,0.05) (1.00,0.00,0.00,0.00)\n",
        "--------------------------------"
       ]
      },
      {
       "output_type": "stream",
       "stream": "stdout",
       "text": [
        "\n",
        "M=700 GeV ------> 9.54 +- 0.41, and full range integral: 13.20\n",
        "Mean value: 694.55, with sigma: 40.67\n",
        "Chi2=14.24, ndf=17.00, Chi2/ndf=0.84\n",
        "TTbar ------> 8.98 +- 0.84, and full range integral: 27.41\n",
        "QCD ------> 11.44 +- 8.09, and full range integral: 17.16\n",
        "(7.37 4.67 0.60 0.10): 13.20; 27.41; 17.16; 2.18; 22.90 | (0.52,0.35,0.11,0.05) (1.00,0.00,0.00,0.00)\n",
        "--------------------------------"
       ]
      },
      {
       "output_type": "stream",
       "stream": "stdout",
       "text": [
        "\n",
        "M=700 GeV ------> 9.33 +- 0.40, and full range integral: 12.82\n",
        "Mean value: 695.16, with sigma: 40.31\n",
        "Chi2=19.42, ndf=17.00, Chi2/ndf=1.14\n",
        "TTbar ------> 8.43 +- 0.81, and full range integral: 25.44\n",
        "QCD ------> 5.72 +- 5.72, and full range integral: 11.44\n",
        "(7.37 4.67 0.63 0.10): 12.82; 25.44; 11.44; 2.29; 22.74 | (0.51,0.36,0.11,0.06) (1.00,0.00,0.00,0.00)\n",
        "--------------------------------"
       ]
      },
      {
       "output_type": "stream",
       "stream": "stdout",
       "text": [
        "\n",
        "M=700 GeV ------> 9.01 +- 0.39, and full range integral: 12.30\n",
        "Mean value: 695.35, with sigma: 40.01\n",
        "Chi2=16.68, ndf=17.00, Chi2/ndf=0.98\n",
        "TTbar ------> 7.80 +- 0.78, and full range integral: 23.24\n",
        "QCD ------> 5.72 +- 5.72, and full range integral: 11.44\n",
        "(7.37 4.67 0.65 0.10): 12.30; 23.24; 11.44; 2.40; 22.44 | (0.48,0.38,0.11,0.06) (1.00,0.00,0.00,0.00)\n",
        "--------------------------------"
       ]
      },
      {
       "output_type": "stream",
       "stream": "stdout",
       "text": [
        "\n",
        "M=700 GeV ------> 9.77 +- 0.41, and full range integral: 14.01\n",
        "Mean value: 696.49, with sigma: 42.96\n",
        "Chi2=7.68, ndf=17.00, Chi2/ndf=0.45\n",
        "TTbar ------> 8.66 +- 0.83, and full range integral: 26.70\n",
        "QCD ------> 0.00 +- 0.00, and full range integral: 17.16\n",
        "(7.37 4.67 0.67 0.25): 14.01; 26.70; 17.16; 2.37; 23.90 | (0.41,0.42,0.14,0.07) (0.00,1.00,0.00,0.00)\n",
        "--------------------------------"
       ]
      },
      {
       "output_type": "stream",
       "stream": "stdout",
       "text": [
        "\n",
        "M=700 GeV ------> 9.61 +- 0.41, and full range integral: 13.63\n",
        "Mean value: 695.97, with sigma: 42.40\n",
        "Chi2=7.59, ndf=17.00, Chi2/ndf=0.45\n",
        "TTbar ------> 8.19 +- 0.80, and full range integral: 25.05\n",
        "QCD ------> 0.00 +- 0.00, and full range integral: 11.44\n",
        "(7.37 4.67 0.67 0.20): 13.63; 25.05; 11.44; 2.47; 23.71 | (0.41,0.43,0.13,0.07) (0.00,1.00,0.00,0.00)\n",
        "--------------------------------"
       ]
      },
      {
       "output_type": "stream",
       "stream": "stdout",
       "text": [
        "\n",
        "M=700 GeV ------> 9.37 +- 0.40, and full range integral: 12.96\n",
        "Mean value: 695.85, with sigma: 40.85\n",
        "Chi2=16.08, ndf=17.00, Chi2/ndf=0.95\n",
        "TTbar ------> 7.64 +- 0.78, and full range integral: 22.92\n",
        "QCD ------> 0.00 +- 0.00, and full range integral: 11.44\n",
        "(7.37 4.67 0.67 0.15): 12.96; 22.92; 11.44; 2.56; 23.24 | (0.41,0.43,0.13,0.07) (0.00,1.00,0.00,0.00)\n",
        "--------------------------------"
       ]
      },
      {
       "output_type": "stream",
       "stream": "stdout",
       "text": [
        "\n",
        "M=700 GeV ------> 8.51 +- 0.38, and full range integral: 11.58\n",
        "Mean value: 695.56, with sigma: 40.08\n",
        "Chi2=17.16, ndf=17.00, Chi2/ndf=1.01\n",
        "TTbar ------> 6.70 +- 0.73, and full range integral: 19.69\n",
        "QCD ------> 0.00 +- 0.00, and full range integral: 0.00\n",
        "(7.37 4.67 0.67 0.10): 11.58; 19.69; 0.00; 2.68; 22.11 | (0.44,0.41,0.13,0.07) (0.00,0.00,0.00,0.00)\n",
        "--------------------------------"
       ]
      },
      {
       "output_type": "stream",
       "stream": "stdout",
       "text": [
        "\n",
        "M=700 GeV ------> 9.71 +- 0.41, and full range integral: 13.01\n",
        "Mean value: 697.81, with sigma: 42.86\n",
        "Chi2=5.89, ndf=17.00, Chi2/ndf=0.35\n",
        "TTbar ------> 8.59 +- 0.82, and full range integral: 23.24\n",
        "QCD ------> 5.72 +- 5.72, and full range integral: 17.16\n",
        "(7.37 4.67 0.70 0.25): 13.01; 23.24; 17.16; 2.53; 23.25 | (0.39,0.43,0.14,0.08) (0.00,1.00,0.00,0.00)\n",
        "--------------------------------"
       ]
      },
      {
       "output_type": "stream",
       "stream": "stdout",
       "text": [
        "\n",
        "M=700 GeV ------> 9.01 +- 0.39, and full range integral: 12.68\n",
        "Mean value: 697.26, with sigma: 42.39\n",
        "Chi2=5.93, ndf=17.00, Chi2/ndf=0.35\n",
        "TTbar ------> 7.17 +- 0.75, and full range integral: 21.74\n",
        "QCD ------> 0.00 +- 0.00, and full range integral: 11.44\n",
        "(7.37 4.67 0.70 0.20): 12.68; 21.74; 11.44; 2.64; 23.09 | (0.39,0.43,0.13,0.08) (0.00,1.00,0.00,0.00)\n",
        "--------------------------------"
       ]
      },
      {
       "output_type": "stream",
       "stream": "stdout",
       "text": [
        "\n",
        "M=700 GeV ------> 8.78 +- 0.39, and full range integral: 12.08\n",
        "Mean value: 696.91, with sigma: 40.86\n",
        "Chi2=13.69, ndf=17.00, Chi2/ndf=0.81\n",
        "TTbar ------> 6.70 +- 0.73, and full range integral: 19.77\n",
        "QCD ------> 0.00 +- 0.00, and full range integral: 11.44\n",
        "(7.37 4.67 0.70 0.15): 12.08; 19.77; 11.44; 2.77; 22.68 | (0.39,0.44,0.13,0.08) (0.00,1.00,0.00,0.00)\n",
        "--------------------------------"
       ]
      },
      {
       "output_type": "stream",
       "stream": "stdout",
       "text": [
        "\n",
        "M=700 GeV ------> 7.99 +- 0.37, and full range integral: 10.84\n",
        "Mean value: 696.58, with sigma: 40.07\n",
        "Chi2=14.65, ndf=17.00, Chi2/ndf=0.86\n",
        "TTbar ------> 5.83 +- 0.68, and full range integral: 16.86\n",
        "QCD ------> 0.00 +- 0.00, and full range integral: 0.00\n",
        "(7.37 4.67 0.70 0.10): 10.84; 16.86; 0.00; 2.93; 21.64 | (0.41,0.42,0.14,0.08) (0.00,0.00,0.00,0.00)\n",
        "--------------------------------"
       ]
      },
      {
       "output_type": "stream",
       "stream": "stdout",
       "text": [
        "\n",
        "M=700 GeV ------> 8.90 +- 0.39, and full range integral: 11.87\n",
        "Mean value: 699.14, with sigma: 42.60\n",
        "Chi2=6.28, ndf=17.00, Chi2/ndf=0.37\n",
        "TTbar ------> 6.54 +- 0.72, and full range integral: 19.14\n",
        "QCD ------> 5.72 +- 5.72, and full range integral: 17.16\n",
        "(7.37 4.67 0.72 0.25): 11.87; 19.14; 17.16; 2.80; 22.51 | (0.35,0.45,0.16,0.10) (0.00,1.00,0.00,0.00)\n",
        "--------------------------------"
       ]
      },
      {
       "output_type": "stream",
       "stream": "stdout",
       "text": [
        "\n",
        "M=700 GeV ------> 8.78 +- 0.39, and full range integral: 11.59\n",
        "Mean value: 698.51, with sigma: 42.04\n",
        "Chi2=6.25, ndf=17.00, Chi2/ndf=0.37\n",
        "TTbar ------> 6.22 +- 0.70, and full range integral: 17.96\n",
        "QCD ------> 5.72 +- 5.72, and full range integral: 11.44\n",
        "(7.37 4.67 0.72 0.20): 11.59; 17.96; 11.44; 2.92; 22.38 | (0.35,0.45,0.14,0.10) (0.00,1.00,0.00,0.00)\n",
        "--------------------------------"
       ]
      },
      {
       "output_type": "stream",
       "stream": "stdout",
       "text": [
        "\n",
        "M=700 GeV ------> 8.02 +- 0.37, and full range integral: 10.99\n",
        "Mean value: 698.16, with sigma: 40.39\n",
        "Chi2=12.97, ndf=17.00, Chi2/ndf=0.76\n",
        "TTbar ------> 5.12 +- 0.64, and full range integral: 16.54\n",
        "QCD ------> 0.00 +- 0.00, and full range integral: 11.44\n",
        "(7.37 4.67 0.72 0.15): 10.99; 16.54; 11.44; 3.00; 21.86 | (0.36,0.46,0.14,0.10) (0.00,1.00,0.00,0.00)\n",
        "--------------------------------"
       ]
      },
      {
       "output_type": "stream",
       "stream": "stdout",
       "text": [
        "\n",
        "M=700 GeV ------> 7.59 +- 0.36, and full range integral: 10.21\n",
        "Mean value: 697.45, with sigma: 43.07\n",
        "Chi2=5.73, ndf=17.00, Chi2/ndf=0.34\n",
        "TTbar ------> 6.30 +- 0.70, and full range integral: 17.72\n",
        "QCD ------> 5.72 +- 5.72, and full range integral: 17.16\n",
        "(7.37 5.33 0.67 0.25): 10.21; 17.72; 17.16; 2.60; 20.67 | (0.40,0.43,0.15,0.08) (0.00,1.00,0.00,0.00)\n",
        "--------------------------------"
       ]
      },
      {
       "output_type": "stream",
       "stream": "stdout",
       "text": [
        "\n",
        "M=700 GeV ------> 9.83 +- 0.41, and full range integral: 13.25\n",
        "Mean value: 694.83, with sigma: 39.56\n",
        "Chi2=18.54, ndf=17.00, Chi2/ndf=1.09\n",
        "TTbar ------> 9.61 +- 0.87, and full range integral: 27.57\n",
        "QCD ------> 0.00 +- 0.00, and full range integral: 17.16\n",
        "(7.53 4.00 0.67 0.10): 13.25; 27.57; 17.16; 2.18; 22.94 | (0.45,0.40,0.11,0.07) (0.33,0.67,0.00,0.00)\n",
        "--------------------------------"
       ]
      },
      {
       "output_type": "stream",
       "stream": "stdout",
       "text": [
        "\n",
        "M=700 GeV ------> 10.30 +- 0.42, and full range integral: 14.34\n",
        "Mean value: 696.76, with sigma: 41.88\n",
        "Chi2=8.74, ndf=17.00, Chi2/ndf=0.51\n",
        "TTbar ------> 9.93 +- 0.88, and full range integral: 29.30\n",
        "QCD ------> 0.00 +- 0.00, and full range integral: 17.16\n",
        "(7.53 4.00 0.70 0.20): 14.34; 29.30; 17.16; 2.22; 23.93 | (0.41,0.42,0.13,0.09) (0.00,1.00,0.00,0.00)\n",
        "--------------------------------"
       ]
      },
      {
       "output_type": "stream",
       "stream": "stdout",
       "text": [
        "\n",
        "M=700 GeV ------> 9.99 +- 0.42, and full range integral: 13.56\n",
        "Mean value: 696.33, with sigma: 40.43\n",
        "Chi2=15.34, ndf=17.00, Chi2/ndf=0.90\n",
        "TTbar ------> 9.45 +- 0.86, and full range integral: 27.10\n",
        "QCD ------> 0.00 +- 0.00, and full range integral: 17.16\n",
        "(7.53 4.00 0.70 0.15): 13.56; 27.10; 17.16; 2.27; 23.35 | (0.40,0.43,0.13,0.09) (0.00,1.00,0.00,0.00)\n",
        "--------------------------------"
       ]
      },
      {
       "output_type": "stream",
       "stream": "stdout",
       "text": [
        "\n",
        "M=700 GeV ------> 9.09 +- 0.40, and full range integral: 12.18\n",
        "Mean value: 695.88, with sigma: 39.42\n",
        "Chi2=16.74, ndf=17.00, Chi2/ndf=0.98\n",
        "TTbar ------> 8.03 +- 0.80, and full range integral: 23.08\n",
        "QCD ------> 0.00 +- 0.00, and full range integral: 5.72\n",
        "(7.53 4.00 0.70 0.10): 12.18; 23.08; 5.72; 2.40; 22.33 | (0.42,0.42,0.12,0.08) (0.00,1.00,0.00,0.00)\n",
        "--------------------------------"
       ]
      },
      {
       "output_type": "stream",
       "stream": "stdout",
       "text": [
        "\n",
        "M=700 GeV ------> 9.35 +- 0.40, and full range integral: 12.91\n",
        "Mean value: 697.96, with sigma: 41.39\n",
        "Chi2=9.19, ndf=17.00, Chi2/ndf=0.54\n",
        "TTbar ------> 7.33 +- 0.76, and full range integral: 23.16\n",
        "QCD ------> 0.00 +- 0.00, and full range integral: 17.16\n",
        "(7.53 4.00 0.72 0.20): 12.91; 23.16; 17.16; 2.52; 23.14 | (0.36,0.44,0.15,0.10) (0.00,1.00,0.00,0.00)\n",
        "--------------------------------"
       ]
      },
      {
       "output_type": "stream",
       "stream": "stdout",
       "text": [
        "\n",
        "M=700 GeV ------> 9.06 +- 0.40, and full range integral: 12.16\n",
        "Mean value: 697.46, with sigma: 39.82\n",
        "Chi2=15.64, ndf=17.00, Chi2/ndf=0.92\n",
        "TTbar ------> 7.01 +- 0.74, and full range integral: 21.66\n",
        "QCD ------> 0.00 +- 0.00, and full range integral: 17.16\n",
        "(7.53 4.00 0.72 0.15): 12.16; 21.66; 17.16; 2.54; 22.49 | (0.37,0.44,0.15,0.09) (0.00,1.00,0.00,0.00)\n",
        "--------------------------------"
       ]
      },
      {
       "output_type": "stream",
       "stream": "stdout",
       "text": [
        "\n",
        "M=700 GeV ------> 8.26 +- 0.38, and full range integral: 10.97\n",
        "Mean value: 697.06, with sigma: 39.08\n",
        "Chi2=15.33, ndf=17.00, Chi2/ndf=0.90\n",
        "TTbar ------> 5.75 +- 0.67, and full range integral: 18.43\n",
        "QCD ------> 0.00 +- 0.00, and full range integral: 5.72\n",
        "(7.53 4.00 0.72 0.10): 10.97; 18.43; 5.72; 2.71; 21.55 | (0.38,0.43,0.15,0.09) (0.00,1.00,0.00,0.00)\n",
        "--------------------------------"
       ]
      },
      {
       "output_type": "stream",
       "stream": "stdout",
       "text": [
        "\n",
        "M=700 GeV ------> 9.54 +- 0.41, and full range integral: 13.18\n",
        "Mean value: 694.53, with sigma: 40.79\n",
        "Chi2=14.07, ndf=17.00, Chi2/ndf=0.83\n",
        "TTbar ------> 9.29 +- 0.86, and full range integral: 29.22\n",
        "QCD ------> 11.44 +- 8.09, and full range integral: 17.16\n",
        "(7.53 4.67 0.58 0.10): 13.18; 29.22; 17.16; 2.04; 22.65 | (0.55,0.33,0.10,0.05) (1.00,0.00,0.00,0.00)\n",
        "--------------------------------"
       ]
      },
      {
       "output_type": "stream",
       "stream": "stdout",
       "text": [
        "\n",
        "M=700 GeV ------> 9.42 +- 0.40, and full range integral: 13.04\n",
        "Mean value: 694.65, with sigma: 40.84\n",
        "Chi2=14.56, ndf=17.00, Chi2/ndf=0.86\n",
        "TTbar ------> 8.90 +- 0.84, and full range integral: 26.86\n",
        "QCD ------> 11.44 +- 8.09, and full range integral: 17.16\n",
        "(7.53 4.67 0.60 0.10): 13.04; 26.86; 17.16; 2.20; 22.79 | (0.52,0.35,0.11,0.05) (1.00,0.00,0.00,0.00)\n",
        "--------------------------------"
       ]
      },
      {
       "output_type": "stream",
       "stream": "stdout",
       "text": [
        "\n",
        "M=700 GeV ------> 9.21 +- 0.40, and full range integral: 12.66\n",
        "Mean value: 695.26, with sigma: 40.48\n",
        "Chi2=20.03, ndf=17.00, Chi2/ndf=1.18\n",
        "TTbar ------> 8.35 +- 0.81, and full range integral: 24.89\n",
        "QCD ------> 5.72 +- 5.72, and full range integral: 11.44\n",
        "(7.53 4.67 0.63 0.10): 12.66; 24.89; 11.44; 2.31; 22.63 | (0.51,0.37,0.10,0.06) (1.00,0.00,0.00,0.00)\n",
        "--------------------------------"
       ]
      },
      {
       "output_type": "stream",
       "stream": "stdout",
       "text": [
        "\n",
        "M=700 GeV ------> 8.89 +- 0.39, and full range integral: 12.15\n",
        "Mean value: 695.46, with sigma: 40.18\n",
        "Chi2=17.20, ndf=17.00, Chi2/ndf=1.01\n",
        "TTbar ------> 7.72 +- 0.78, and full range integral: 22.69\n",
        "QCD ------> 5.72 +- 5.72, and full range integral: 11.44\n",
        "(7.53 4.67 0.65 0.10): 12.15; 22.69; 11.44; 2.43; 22.33 | (0.48,0.39,0.11,0.06) (1.00,0.00,0.00,0.00)\n",
        "--------------------------------"
       ]
      },
      {
       "output_type": "stream",
       "stream": "stdout",
       "text": [
        "\n",
        "M=700 GeV ------> 9.63 +- 0.41, and full range integral: 13.79\n",
        "Mean value: 696.55, with sigma: 43.00\n",
        "Chi2=7.68, ndf=17.00, Chi2/ndf=0.45\n",
        "TTbar ------> 8.51 +- 0.82, and full range integral: 25.84\n",
        "QCD ------> 0.00 +- 0.00, and full range integral: 17.16\n",
        "(7.53 4.67 0.67 0.25): 13.79; 25.84; 17.16; 2.41; 23.77 | (0.41,0.43,0.13,0.08) (0.00,1.00,0.00,0.00)\n",
        "--------------------------------"
       ]
      },
      {
       "output_type": "stream",
       "stream": "stdout",
       "text": [
        "\n",
        "M=700 GeV ------> 9.49 +- 0.40, and full range integral: 13.44\n",
        "Mean value: 695.96, with sigma: 42.43\n",
        "Chi2=8.53, ndf=17.00, Chi2/ndf=0.50\n",
        "TTbar ------> 8.03 +- 0.80, and full range integral: 24.18\n",
        "QCD ------> 0.00 +- 0.00, and full range integral: 11.44\n",
        "(7.53 4.67 0.67 0.20): 13.44; 24.18; 11.44; 2.52; 23.62 | (0.41,0.43,0.12,0.07) (0.00,1.00,0.00,0.00)\n",
        "--------------------------------"
       ]
      },
      {
       "output_type": "stream",
       "stream": "stdout",
       "text": [
        "\n",
        "M=700 GeV ------> 9.25 +- 0.40, and full range integral: 12.79\n",
        "Mean value: 695.96, with sigma: 41.01\n",
        "Chi2=16.52, ndf=17.00, Chi2/ndf=0.97\n",
        "TTbar ------> 7.48 +- 0.77, and full range integral: 22.21\n",
        "QCD ------> 0.00 +- 0.00, and full range integral: 11.44\n",
        "(7.53 4.67 0.67 0.15): 12.79; 22.21; 11.44; 2.61; 23.14 | (0.41,0.44,0.12,0.07) (0.00,1.00,0.00,0.00)\n",
        "--------------------------------"
       ]
      },
      {
       "output_type": "stream",
       "stream": "stdout",
       "text": [
        "\n",
        "M=700 GeV ------> 8.39 +- 0.38, and full range integral: 11.42\n",
        "Mean value: 695.68, with sigma: 40.25\n",
        "Chi2=17.46, ndf=17.00, Chi2/ndf=1.03\n",
        "TTbar ------> 6.62 +- 0.72, and full range integral: 19.22\n",
        "QCD ------> 0.00 +- 0.00, and full range integral: 0.00\n",
        "(7.53 4.67 0.67 0.10): 11.42; 19.22; 0.00; 2.71; 21.99 | (0.43,0.41,0.12,0.07) (0.00,0.00,0.00,0.00)\n",
        "--------------------------------"
       ]
      },
      {
       "output_type": "stream",
       "stream": "stdout",
       "text": [
        "\n",
        "M=700 GeV ------> 9.58 +- 0.41, and full range integral: 12.79\n",
        "Mean value: 697.89, with sigma: 42.89\n",
        "Chi2=6.18, ndf=17.00, Chi2/ndf=0.36\n",
        "TTbar ------> 8.43 +- 0.81, and full range integral: 22.37\n",
        "QCD ------> 5.72 +- 5.72, and full range integral: 17.16\n",
        "(7.53 4.67 0.70 0.25): 12.79; 22.37; 17.16; 2.58; 23.11 | (0.39,0.44,0.13,0.09) (0.00,1.00,0.00,0.00)\n",
        "--------------------------------"
       ]
      },
      {
       "output_type": "stream",
       "stream": "stdout",
       "text": [
        "\n",
        "M=700 GeV ------> 8.89 +- 0.39, and full range integral: 12.49\n",
        "Mean value: 697.27, with sigma: 42.41\n",
        "Chi2=6.99, ndf=17.00, Chi2/ndf=0.41\n",
        "TTbar ------> 7.01 +- 0.74, and full range integral: 20.87\n",
        "QCD ------> 0.00 +- 0.00, and full range integral: 11.44\n",
        "(7.53 4.67 0.70 0.20): 12.49; 20.87; 11.44; 2.71; 23.00 | (0.40,0.44,0.12,0.09) (0.00,1.00,0.00,0.00)\n",
        "--------------------------------"
       ]
      },
      {
       "output_type": "stream",
       "stream": "stdout",
       "text": [
        "\n",
        "M=700 GeV ------> 8.66 +- 0.39, and full range integral: 11.91\n",
        "Mean value: 697.05, with sigma: 41.04\n",
        "Chi2=14.22, ndf=17.00, Chi2/ndf=0.84\n",
        "TTbar ------> 6.54 +- 0.72, and full range integral: 19.06\n",
        "QCD ------> 0.00 +- 0.00, and full range integral: 11.44\n",
        "(7.53 4.67 0.70 0.15): 11.91; 19.06; 11.44; 2.83; 22.58 | (0.39,0.44,0.13,0.09) (0.00,1.00,0.00,0.00)\n",
        "--------------------------------"
       ]
      },
      {
       "output_type": "stream",
       "stream": "stdout",
       "text": [
        "\n",
        "M=700 GeV ------> 7.87 +- 0.37, and full range integral: 10.68\n",
        "Mean value: 696.73, with sigma: 40.25\n",
        "Chi2=15.15, ndf=17.00, Chi2/ndf=0.89\n",
        "TTbar ------> 5.75 +- 0.67, and full range integral: 16.38\n",
        "QCD ------> 0.00 +- 0.00, and full range integral: 0.00\n",
        "(7.53 4.67 0.70 0.10): 10.68; 16.38; 0.00; 2.98; 21.52 | (0.41,0.42,0.13,0.08) (0.00,0.00,0.00,0.00)\n",
        "--------------------------------"
       ]
      },
      {
       "output_type": "stream",
       "stream": "stdout",
       "text": [
        "\n",
        "M=700 GeV ------> 8.78 +- 0.39, and full range integral: 11.66\n",
        "Mean value: 699.26, with sigma: 42.59\n",
        "Chi2=6.72, ndf=17.00, Chi2/ndf=0.40\n",
        "TTbar ------> 6.38 +- 0.71, and full range integral: 18.43\n",
        "QCD ------> 5.72 +- 5.72, and full range integral: 17.16\n",
        "(7.53 4.67 0.72 0.25): 11.66; 18.43; 17.16; 2.85; 22.37 | (0.34,0.45,0.15,0.10) (0.00,1.00,0.00,0.00)\n",
        "--------------------------------"
       ]
      },
      {
       "output_type": "stream",
       "stream": "stdout",
       "text": [
        "\n",
        "M=700 GeV ------> 8.66 +- 0.39, and full range integral: 11.40\n",
        "Mean value: 698.53, with sigma: 42.06\n",
        "Chi2=7.49, ndf=17.00, Chi2/ndf=0.44\n",
        "TTbar ------> 6.07 +- 0.69, and full range integral: 17.25\n",
        "QCD ------> 5.72 +- 5.72, and full range integral: 11.44\n",
        "(7.53 4.67 0.72 0.20): 11.40; 17.25; 11.44; 2.99; 22.26 | (0.35,0.46,0.14,0.10) (0.00,1.00,0.00,0.00)\n",
        "--------------------------------"
       ]
      },
      {
       "output_type": "stream",
       "stream": "stdout",
       "text": [
        "\n",
        "M=700 GeV ------> 7.90 +- 0.37, and full range integral: 10.82\n",
        "Mean value: 698.33, with sigma: 40.57\n",
        "Chi2=13.94, ndf=17.00, Chi2/ndf=0.82\n",
        "TTbar ------> 4.96 +- 0.63, and full range integral: 15.99\n",
        "QCD ------> 0.00 +- 0.00, and full range integral: 11.44\n",
        "(7.53 4.67 0.72 0.15): 10.82; 15.99; 11.44; 3.06; 21.74 | (0.35,0.46,0.14,0.10) (0.00,1.00,0.00,0.00)\n",
        "--------------------------------"
       ]
      },
      {
       "output_type": "stream",
       "stream": "stdout",
       "text": [
        "\n",
        "M=700 GeV ------> 7.54 +- 0.36, and full range integral: 10.11\n",
        "Mean value: 697.59, with sigma: 43.19\n",
        "Chi2=5.65, ndf=17.00, Chi2/ndf=0.33\n",
        "TTbar ------> 6.30 +- 0.70, and full range integral: 17.09\n",
        "QCD ------> 5.72 +- 5.72, and full range integral: 17.16\n",
        "(7.53 5.33 0.67 0.25): 10.11; 17.09; 17.16; 2.66; 20.64 | (0.40,0.43,0.14,0.08) (0.00,1.00,0.00,0.00)\n",
        "--------------------------------"
       ]
      },
      {
       "output_type": "stream",
       "stream": "stdout",
       "text": [
        "\n",
        "M=700 GeV ------> 9.49 +- 0.40, and full range integral: 12.79\n",
        "Mean value: 695.13, with sigma: 39.52\n",
        "Chi2=17.80, ndf=17.00, Chi2/ndf=1.05\n",
        "TTbar ------> 8.98 +- 0.84, and full range integral: 26.07\n",
        "QCD ------> 0.00 +- 0.00, and full range integral: 17.16\n",
        "(7.70 4.00 0.67 0.10): 12.79; 26.07; 17.16; 2.22; 22.60 | (0.44,0.41,0.11,0.07) (0.33,0.67,0.00,0.00)\n",
        "--------------------------------"
       ]
      },
      {
       "output_type": "stream",
       "stream": "stdout",
       "text": [
        "\n",
        "M=700 GeV ------> 9.97 +- 0.41, and full range integral: 13.89\n",
        "Mean value: 696.97, with sigma: 41.77\n",
        "Chi2=7.14, ndf=17.00, Chi2/ndf=0.42\n",
        "TTbar ------> 9.37 +- 0.86, and full range integral: 27.96\n",
        "QCD ------> 0.00 +- 0.00, and full range integral: 17.16\n",
        "(7.70 4.00 0.70 0.20): 13.89; 27.96; 17.16; 2.25; 23.61 | (0.39,0.43,0.14,0.09) (0.00,1.00,0.00,0.00)\n",
        "--------------------------------"
       ]
      },
      {
       "output_type": "stream",
       "stream": "stdout",
       "text": [
        "\n",
        "M=700 GeV ------> 9.68 +- 0.41, and full range integral: 13.15\n",
        "Mean value: 696.71, with sigma: 40.46\n",
        "Chi2=14.20, ndf=17.00, Chi2/ndf=0.84\n",
        "TTbar ------> 8.90 +- 0.84, and full range integral: 25.84\n",
        "QCD ------> 0.00 +- 0.00, and full range integral: 17.16\n",
        "(7.70 4.00 0.70 0.15): 13.15; 25.84; 17.16; 2.30; 23.05 | (0.38,0.44,0.13,0.09) (0.00,1.00,0.00,0.00)\n",
        "--------------------------------"
       ]
      },
      {
       "output_type": "stream",
       "stream": "stdout",
       "text": [
        "\n",
        "M=700 GeV ------> 8.78 +- 0.39, and full range integral: 11.77\n",
        "Mean value: 696.29, with sigma: 39.42\n",
        "Chi2=15.17, ndf=17.00, Chi2/ndf=0.89\n",
        "TTbar ------> 7.56 +- 0.77, and full range integral: 21.90\n",
        "QCD ------> 0.00 +- 0.00, and full range integral: 5.72\n",
        "(7.70 4.00 0.70 0.10): 11.77; 21.90; 5.72; 2.44; 22.00 | (0.40,0.43,0.13,0.09) (0.00,1.00,0.00,0.00)\n",
        "--------------------------------"
       ]
      },
      {
       "output_type": "stream",
       "stream": "stdout",
       "text": [
        "\n",
        "M=700 GeV ------> 9.08 +- 0.40, and full range integral: 12.53\n",
        "Mean value: 698.14, with sigma: 41.20\n",
        "Chi2=8.31, ndf=17.00, Chi2/ndf=0.49\n",
        "TTbar ------> 7.01 +- 0.74, and full range integral: 22.13\n",
        "QCD ------> 0.00 +- 0.00, and full range integral: 17.16\n",
        "(7.70 4.00 0.72 0.20): 12.53; 22.13; 17.16; 2.56; 22.84 | (0.35,0.44,0.15,0.10) (0.00,1.00,0.00,0.00)\n",
        "--------------------------------"
       ]
      },
      {
       "output_type": "stream",
       "stream": "stdout",
       "text": [
        "\n",
        "M=700 GeV ------> 8.78 +- 0.39, and full range integral: 11.80\n",
        "Mean value: 697.78, with sigma: 39.80\n",
        "Chi2=14.65, ndf=17.00, Chi2/ndf=0.86\n",
        "TTbar ------> 6.70 +- 0.73, and full range integral: 20.72\n",
        "QCD ------> 0.00 +- 0.00, and full range integral: 17.16\n",
        "(7.70 4.00 0.72 0.15): 11.80; 20.72; 17.16; 2.57; 22.19 | (0.35,0.45,0.15,0.10) (0.00,1.00,0.00,0.00)\n",
        "--------------------------------"
       ]
      },
      {
       "output_type": "stream",
       "stream": "stdout",
       "text": [
        "\n",
        "M=700 GeV ------> 7.99 +- 0.37, and full range integral: 10.61\n",
        "Mean value: 697.40, with sigma: 39.03\n",
        "Chi2=13.72, ndf=17.00, Chi2/ndf=0.81\n",
        "TTbar ------> 5.44 +- 0.65, and full range integral: 17.49\n",
        "QCD ------> 0.00 +- 0.00, and full range integral: 5.72\n",
        "(7.70 4.00 0.72 0.10): 10.61; 17.49; 5.72; 2.76; 21.24 | (0.36,0.44,0.15,0.09) (0.00,1.00,0.00,0.00)\n",
        "--------------------------------"
       ]
      },
      {
       "output_type": "stream",
       "stream": "stdout",
       "text": [
        "\n",
        "M=700 GeV ------> 9.30 +- 0.40, and full range integral: 12.84\n",
        "Mean value: 694.87, with sigma: 40.71\n",
        "Chi2=13.87, ndf=17.00, Chi2/ndf=0.82\n",
        "TTbar ------> 8.74 +- 0.83, and full range integral: 27.96\n",
        "QCD ------> 11.44 +- 8.09, and full range integral: 17.16\n",
        "(7.70 4.67 0.58 0.10): 12.84; 27.96; 17.16; 2.08; 22.41 | (0.54,0.34,0.10,0.05) (1.00,0.00,0.00,0.00)\n",
        "--------------------------------"
       ]
      },
      {
       "output_type": "stream",
       "stream": "stdout",
       "text": [
        "\n",
        "M=700 GeV ------> 9.18 +- 0.40, and full range integral: 12.70\n",
        "Mean value: 695.00, with sigma: 40.76\n",
        "Chi2=14.20, ndf=17.00, Chi2/ndf=0.84\n",
        "TTbar ------> 8.35 +- 0.81, and full range integral: 25.68\n",
        "QCD ------> 11.44 +- 8.09, and full range integral: 17.16\n",
        "(7.70 4.67 0.60 0.10): 12.70; 25.68; 17.16; 2.24; 22.55 | (0.51,0.36,0.11,0.06) (1.00,0.00,0.00,0.00)\n",
        "--------------------------------"
       ]
      },
      {
       "output_type": "stream",
       "stream": "stdout",
       "text": [
        "\n",
        "M=700 GeV ------> 8.97 +- 0.39, and full range integral: 12.32\n",
        "Mean value: 695.64, with sigma: 40.38\n",
        "Chi2=19.55, ndf=17.00, Chi2/ndf=1.15\n",
        "TTbar ------> 7.80 +- 0.78, and full range integral: 23.71\n",
        "QCD ------> 5.72 +- 5.72, and full range integral: 11.44\n",
        "(7.70 4.67 0.63 0.10): 12.32; 23.71; 11.44; 2.36; 22.39 | (0.50,0.37,0.10,0.06) (1.00,0.00,0.00,0.00)\n",
        "--------------------------------"
       ]
      },
      {
       "output_type": "stream",
       "stream": "stdout",
       "text": [
        "\n",
        "M=700 GeV ------> 8.64 +- 0.39, and full range integral: 11.80\n",
        "Mean value: 695.86, with sigma: 40.06\n",
        "Chi2=16.81, ndf=17.00, Chi2/ndf=0.99\n",
        "TTbar ------> 7.17 +- 0.75, and full range integral: 21.74\n",
        "QCD ------> 5.72 +- 5.72, and full range integral: 11.44\n",
        "(7.70 4.67 0.65 0.10): 11.80; 21.74; 11.44; 2.46; 22.05 | (0.47,0.39,0.11,0.07) (1.00,0.00,0.00,0.00)\n",
        "--------------------------------"
       ]
      },
      {
       "output_type": "stream",
       "stream": "stdout",
       "text": [
        "\n",
        "M=700 GeV ------> 9.39 +- 0.40, and full range integral: 13.42\n",
        "Mean value: 696.81, with sigma: 42.75\n",
        "Chi2=7.50, ndf=17.00, Chi2/ndf=0.44\n",
        "TTbar ------> 8.03 +- 0.80, and full range integral: 24.89\n",
        "QCD ------> 0.00 +- 0.00, and full range integral: 17.16\n",
        "(7.70 4.67 0.67 0.25): 13.42; 24.89; 17.16; 2.44; 23.49 | (0.41,0.44,0.13,0.08) (0.00,1.00,0.00,0.00)\n",
        "--------------------------------"
       ]
      },
      {
       "output_type": "stream",
       "stream": "stdout",
       "text": [
        "\n",
        "M=700 GeV ------> 9.25 +- 0.40, and full range integral: 13.08\n",
        "Mean value: 696.21, with sigma: 42.16\n",
        "Chi2=8.05, ndf=17.00, Chi2/ndf=0.47\n",
        "TTbar ------> 7.56 +- 0.77, and full range integral: 23.32\n",
        "QCD ------> 0.00 +- 0.00, and full range integral: 11.44\n",
        "(7.70 4.67 0.67 0.20): 13.08; 23.32; 11.44; 2.54; 23.33 | (0.41,0.44,0.12,0.08) (0.00,1.00,0.00,0.00)\n",
        "--------------------------------"
       ]
      },
      {
       "output_type": "stream",
       "stream": "stdout",
       "text": [
        "\n",
        "M=700 GeV ------> 9.01 +- 0.39, and full range integral: 12.44\n",
        "Mean value: 696.36, with sigma: 40.92\n",
        "Chi2=16.50, ndf=17.00, Chi2/ndf=0.97\n",
        "TTbar ------> 7.01 +- 0.74, and full range integral: 21.35\n",
        "QCD ------> 0.00 +- 0.00, and full range integral: 11.44\n",
        "(7.70 4.67 0.67 0.15): 12.44; 21.35; 11.44; 2.64; 22.87 | (0.40,0.44,0.13,0.08) (0.00,1.00,0.00,0.00)\n",
        "--------------------------------"
       ]
      },
      {
       "output_type": "stream",
       "stream": "stdout",
       "text": [
        "\n",
        "M=700 GeV ------> 8.14 +- 0.37, and full range integral: 11.08\n",
        "Mean value: 696.11, with sigma: 40.13\n",
        "Chi2=17.30, ndf=17.00, Chi2/ndf=1.02\n",
        "TTbar ------> 6.14 +- 0.70, and full range integral: 18.35\n",
        "QCD ------> 0.00 +- 0.00, and full range integral: 0.00\n",
        "(7.70 4.67 0.67 0.10): 11.08; 18.35; 0.00; 2.76; 21.70 | (0.42,0.42,0.12,0.07) (0.00,0.00,0.00,0.00)\n",
        "--------------------------------"
       ]
      },
      {
       "output_type": "stream",
       "stream": "stdout",
       "text": [
        "\n",
        "M=700 GeV ------> 9.33 +- 0.40, and full range integral: 12.46\n",
        "Mean value: 698.24, with sigma: 42.70\n",
        "Chi2=5.84, ndf=17.00, Chi2/ndf=0.34\n",
        "TTbar ------> 8.11 +- 0.80, and full range integral: 21.66\n",
        "QCD ------> 5.72 +- 5.72, and full range integral: 17.16\n",
        "(7.70 4.67 0.70 0.25): 12.46; 21.66; 17.16; 2.60; 22.83 | (0.39,0.44,0.13,0.09) (0.00,1.00,0.00,0.00)\n",
        "--------------------------------"
       ]
      },
      {
       "output_type": "stream",
       "stream": "stdout",
       "text": [
        "\n",
        "M=700 GeV ------> 8.66 +- 0.39, and full range integral: 12.16\n",
        "Mean value: 697.60, with sigma: 42.21\n",
        "Chi2=6.50, ndf=17.00, Chi2/ndf=0.38\n",
        "TTbar ------> 6.70 +- 0.73, and full range integral: 20.24\n",
        "QCD ------> 0.00 +- 0.00, and full range integral: 11.44\n",
        "(7.70 4.67 0.70 0.20): 12.16; 20.24; 11.44; 2.72; 22.71 | (0.39,0.44,0.13,0.09) (0.00,1.00,0.00,0.00)\n",
        "--------------------------------"
       ]
      },
      {
       "output_type": "stream",
       "stream": "stdout",
       "text": [
        "\n",
        "M=700 GeV ------> 8.44 +- 0.38, and full range integral: 11.59\n",
        "Mean value: 697.54, with sigma: 41.02\n",
        "Chi2=14.06, ndf=17.00, Chi2/ndf=0.83\n",
        "TTbar ------> 6.22 +- 0.70, and full range integral: 18.43\n",
        "QCD ------> 0.00 +- 0.00, and full range integral: 11.44\n",
        "(7.70 4.67 0.70 0.15): 11.59; 18.43; 11.44; 2.85; 22.30 | (0.38,0.44,0.13,0.09) (0.00,1.00,0.00,0.00)\n",
        "--------------------------------"
       ]
      },
      {
       "output_type": "stream",
       "stream": "stdout",
       "text": [
        "\n",
        "M=700 GeV ------> 7.64 +- 0.36, and full range integral: 10.37\n",
        "Mean value: 697.26, with sigma: 40.21\n",
        "Chi2=14.82, ndf=17.00, Chi2/ndf=0.87\n",
        "TTbar ------> 5.44 +- 0.65, and full range integral: 15.75\n",
        "QCD ------> 0.00 +- 0.00, and full range integral: 0.00\n",
        "(7.70 4.67 0.70 0.10): 10.37; 15.75; 0.00; 3.00; 21.24 | (0.40,0.42,0.13,0.09) (0.00,0.00,0.00,0.00)\n",
        "--------------------------------"
       ]
      },
      {
       "output_type": "stream",
       "stream": "stdout",
       "text": [
        "\n",
        "M=700 GeV ------> 8.58 +- 0.38, and full range integral: 11.39\n",
        "Mean value: 699.51, with sigma: 42.33\n",
        "Chi2=6.25, ndf=17.00, Chi2/ndf=0.37\n",
        "TTbar ------> 6.14 +- 0.70, and full range integral: 17.80\n",
        "QCD ------> 5.72 +- 5.72, and full range integral: 17.16\n",
        "(7.70 4.67 0.72 0.25): 11.39; 17.80; 17.16; 2.88; 22.14 | (0.34,0.46,0.15,0.10) (0.00,1.00,0.00,0.00)\n",
        "--------------------------------"
       ]
      },
      {
       "output_type": "stream",
       "stream": "stdout",
       "text": [
        "\n",
        "M=700 GeV ------> 8.45 +- 0.38, and full range integral: 11.13\n",
        "Mean value: 698.78, with sigma: 41.80\n",
        "Chi2=6.86, ndf=17.00, Chi2/ndf=0.40\n",
        "TTbar ------> 5.83 +- 0.68, and full range integral: 16.70\n",
        "QCD ------> 5.72 +- 5.72, and full range integral: 11.44\n",
        "(7.70 4.67 0.72 0.20): 11.13; 16.70; 11.44; 3.01; 22.01 | (0.34,0.46,0.15,0.10) (0.00,1.00,0.00,0.00)\n",
        "--------------------------------"
       ]
      },
      {
       "output_type": "stream",
       "stream": "stdout",
       "text": [
        "\n",
        "M=700 GeV ------> 7.71 +- 0.36, and full range integral: 10.56\n",
        "Mean value: 698.74, with sigma: 40.50\n",
        "Chi2=13.76, ndf=17.00, Chi2/ndf=0.81\n",
        "TTbar ------> 4.73 +- 0.61, and full range integral: 15.44\n",
        "QCD ------> 0.00 +- 0.00, and full range integral: 11.44\n",
        "(7.70 4.67 0.72 0.15): 10.56; 15.44; 11.44; 3.09; 21.50 | (0.34,0.46,0.15,0.10) (0.00,1.00,0.00,0.00)\n",
        "--------------------------------"
       ]
      },
      {
       "output_type": "stream",
       "stream": "stdout",
       "text": [
        "\n",
        "M=700 GeV ------> 9.09 +- 0.40, and full range integral: 12.37\n",
        "Mean value: 695.05, with sigma: 39.83\n",
        "Chi2=18.69, ndf=17.00, Chi2/ndf=1.10\n",
        "TTbar ------> 8.51 +- 0.82, and full range integral: 24.89\n",
        "QCD ------> 0.00 +- 0.00, and full range integral: 17.16\n",
        "(7.87 4.00 0.67 0.10): 12.37; 24.89; 17.16; 2.25; 22.28 | (0.44,0.42,0.11,0.07) (0.33,0.67,0.00,0.00)\n",
        "--------------------------------"
       ]
      },
      {
       "output_type": "stream",
       "stream": "stdout",
       "text": [
        "\n",
        "M=700 GeV ------> 9.54 +- 0.41, and full range integral: 13.41\n",
        "Mean value: 697.02, with sigma: 41.91\n",
        "Chi2=7.27, ndf=17.00, Chi2/ndf=0.43\n",
        "TTbar ------> 8.90 +- 0.84, and full range integral: 26.78\n",
        "QCD ------> 0.00 +- 0.00, and full range integral: 17.16\n",
        "(7.87 4.00 0.70 0.20): 13.41; 26.78; 17.16; 2.27; 23.22 | (0.39,0.44,0.14,0.09) (0.00,1.00,0.00,0.00)\n",
        "--------------------------------"
       ]
      },
      {
       "output_type": "stream",
       "stream": "stdout",
       "text": [
        "\n",
        "M=700 GeV ------> 9.28 +- 0.40, and full range integral: 12.72\n",
        "Mean value: 696.55, with sigma: 40.59\n",
        "Chi2=15.51, ndf=17.00, Chi2/ndf=0.91\n",
        "TTbar ------> 8.43 +- 0.81, and full range integral: 24.66\n",
        "QCD ------> 0.00 +- 0.00, and full range integral: 17.16\n",
        "(7.87 4.00 0.70 0.15): 12.72; 24.66; 17.16; 2.33; 22.71 | (0.38,0.44,0.13,0.09) (0.00,1.00,0.00,0.00)\n",
        "--------------------------------"
       ]
      },
      {
       "output_type": "stream",
       "stream": "stdout",
       "text": [
        "\n",
        "M=700 GeV ------> 8.39 +- 0.38, and full range integral: 11.35\n",
        "Mean value: 696.25, with sigma: 39.75\n",
        "Chi2=16.33, ndf=17.00, Chi2/ndf=0.96\n",
        "TTbar ------> 7.09 +- 0.75, and full range integral: 20.72\n",
        "QCD ------> 0.00 +- 0.00, and full range integral: 5.72\n",
        "(7.87 4.00 0.70 0.10): 11.35; 20.72; 5.72; 2.49; 21.67 | (0.40,0.43,0.13,0.09) (0.00,1.00,0.00,0.00)\n",
        "--------------------------------"
       ]
      },
      {
       "output_type": "stream",
       "stream": "stdout",
       "text": [
        "\n",
        "M=700 GeV ------> 8.70 +- 0.39, and full range integral: 12.13\n",
        "Mean value: 698.29, with sigma: 41.51\n",
        "Chi2=8.02, ndf=17.00, Chi2/ndf=0.47\n",
        "TTbar ------> 6.62 +- 0.72, and full range integral: 21.19\n",
        "QCD ------> 0.00 +- 0.00, and full range integral: 17.16\n",
        "(7.87 4.00 0.72 0.20): 12.13; 21.19; 17.16; 2.58; 22.51 | (0.35,0.45,0.15,0.10) (0.00,1.00,0.00,0.00)\n",
        "--------------------------------"
       ]
      },
      {
       "output_type": "stream",
       "stream": "stdout",
       "text": [
        "\n",
        "M=700 GeV ------> 8.44 +- 0.38, and full range integral: 11.44\n",
        "Mean value: 697.81, with sigma: 40.06\n",
        "Chi2=14.30, ndf=17.00, Chi2/ndf=0.84\n",
        "TTbar ------> 6.30 +- 0.70, and full range integral: 19.77\n",
        "QCD ------> 0.00 +- 0.00, and full range integral: 17.16\n",
        "(7.87 4.00 0.72 0.15): 11.44; 19.77; 17.16; 2.61; 21.89 | (0.35,0.45,0.15,0.10) (0.00,1.00,0.00,0.00)\n",
        "--------------------------------"
       ]
      },
      {
       "output_type": "stream",
       "stream": "stdout",
       "text": [
        "\n",
        "M=700 GeV ------> 7.64 +- 0.36, and full range integral: 10.25\n",
        "Mean value: 697.42, with sigma: 39.28\n",
        "Chi2=14.34, ndf=17.00, Chi2/ndf=0.84\n",
        "TTbar ------> 5.04 +- 0.63, and full range integral: 16.54\n",
        "QCD ------> 0.00 +- 0.00, and full range integral: 5.72\n",
        "(7.87 4.00 0.72 0.10): 10.25; 16.54; 5.72; 2.82; 20.94 | (0.36,0.44,0.15,0.10) (0.00,1.00,0.00,0.00)\n",
        "--------------------------------"
       ]
      },
      {
       "output_type": "stream",
       "stream": "stdout",
       "text": [
        "\n",
        "M=700 GeV ------> 8.94 +- 0.39, and full range integral: 12.46\n",
        "Mean value: 694.83, with sigma: 41.09\n",
        "Chi2=15.26, ndf=17.00, Chi2/ndf=0.90\n",
        "TTbar ------> 8.51 +- 0.82, and full range integral: 27.10\n",
        "QCD ------> 11.44 +- 8.09, and full range integral: 17.16\n",
        "(7.87 4.67 0.58 0.10): 12.46; 27.10; 17.16; 2.08; 22.08 | (0.54,0.34,0.10,0.05) (1.00,0.00,0.00,0.00)\n",
        "--------------------------------"
       ]
      },
      {
       "output_type": "stream",
       "stream": "stdout",
       "text": [
        "\n",
        "M=700 GeV ------> 8.82 +- 0.39, and full range integral: 12.32\n",
        "Mean value: 694.95, with sigma: 41.15\n",
        "Chi2=15.77, ndf=17.00, Chi2/ndf=0.93\n",
        "TTbar ------> 8.11 +- 0.80, and full range integral: 24.89\n",
        "QCD ------> 11.44 +- 8.09, and full range integral: 17.16\n",
        "(7.87 4.67 0.60 0.10): 12.32; 24.89; 17.16; 2.24; 22.22 | (0.51,0.36,0.11,0.06) (1.00,0.00,0.00,0.00)\n",
        "--------------------------------"
       ]
      },
      {
       "output_type": "stream",
       "stream": "stdout",
       "text": [
        "\n",
        "M=700 GeV ------> 8.61 +- 0.39, and full range integral: 11.94\n",
        "Mean value: 695.62, with sigma: 40.76\n",
        "Chi2=20.98, ndf=17.00, Chi2/ndf=1.23\n",
        "TTbar ------> 7.56 +- 0.77, and full range integral: 23.00\n",
        "QCD ------> 5.72 +- 5.72, and full range integral: 11.44\n",
        "(7.87 4.67 0.63 0.10): 11.94; 23.00; 11.44; 2.35; 22.04 | (0.49,0.38,0.10,0.06) (1.00,0.00,0.00,0.00)\n",
        "--------------------------------"
       ]
      },
      {
       "output_type": "stream",
       "stream": "stdout",
       "text": [
        "\n",
        "M=700 GeV ------> 8.28 +- 0.38, and full range integral: 11.42\n",
        "Mean value: 695.85, with sigma: 40.45\n",
        "Chi2=18.46, ndf=17.00, Chi2/ndf=1.09\n",
        "TTbar ------> 6.93 +- 0.74, and full range integral: 21.03\n",
        "QCD ------> 5.72 +- 5.72, and full range integral: 11.44\n",
        "(7.87 4.67 0.65 0.10): 11.42; 21.03; 11.44; 2.46; 21.70 | (0.46,0.40,0.11,0.07) (1.00,0.00,0.00,0.00)\n",
        "--------------------------------"
       ]
      },
      {
       "output_type": "stream",
       "stream": "stdout",
       "text": [
        "\n",
        "M=700 GeV ------> 9.02 +- 0.39, and full range integral: 13.03\n",
        "Mean value: 696.73, with sigma: 43.03\n",
        "Chi2=8.08, ndf=17.00, Chi2/ndf=0.48\n",
        "TTbar ------> 7.80 +- 0.78, and full range integral: 24.34\n",
        "QCD ------> 0.00 +- 0.00, and full range integral: 17.16\n",
        "(7.87 4.67 0.67 0.25): 13.03; 24.34; 17.16; 2.42; 23.11 | (0.40,0.44,0.13,0.08) (0.00,1.00,0.00,0.00)\n",
        "--------------------------------"
       ]
      },
      {
       "output_type": "stream",
       "stream": "stdout",
       "text": [
        "\n",
        "M=700 GeV ------> 8.89 +- 0.39, and full range integral: 12.70\n",
        "Mean value: 696.24, with sigma: 42.59\n",
        "Chi2=8.18, ndf=17.00, Chi2/ndf=0.48\n",
        "TTbar ------> 7.33 +- 0.76, and full range integral: 22.76\n",
        "QCD ------> 0.00 +- 0.00, and full range integral: 11.44\n",
        "(7.87 4.67 0.67 0.20): 12.70; 22.76; 11.44; 2.53; 22.97 | (0.40,0.44,0.12,0.08) (0.00,1.00,0.00,0.00)\n",
        "--------------------------------"
       ]
      },
      {
       "output_type": "stream",
       "stream": "stdout",
       "text": [
        "\n",
        "M=700 GeV ------> 8.68 +- 0.39, and full range integral: 12.09\n",
        "Mean value: 696.30, with sigma: 41.29\n",
        "Chi2=17.18, ndf=17.00, Chi2/ndf=1.01\n",
        "TTbar ------> 6.77 +- 0.73, and full range integral: 20.80\n",
        "QCD ------> 0.00 +- 0.00, and full range integral: 11.44\n",
        "(7.87 4.67 0.67 0.15): 12.09; 20.80; 11.44; 2.64; 22.54 | (0.40,0.45,0.13,0.08) (0.00,1.00,0.00,0.00)\n",
        "--------------------------------"
       ]
      },
      {
       "output_type": "stream",
       "stream": "stdout",
       "text": [
        "\n",
        "M=700 GeV ------> 7.82 +- 0.37, and full range integral: 10.73\n",
        "Mean value: 696.03, with sigma: 40.51\n",
        "Chi2=18.39, ndf=17.00, Chi2/ndf=1.08\n",
        "TTbar ------> 5.91 +- 0.68, and full range integral: 17.80\n",
        "QCD ------> 0.00 +- 0.00, and full range integral: 0.00\n",
        "(7.87 4.67 0.67 0.10): 10.73; 17.80; 0.00; 2.75; 21.36 | (0.42,0.42,0.12,0.08) (0.00,0.00,0.00,0.00)\n",
        "--------------------------------"
       ]
      },
      {
       "output_type": "stream",
       "stream": "stdout",
       "text": [
        "\n",
        "M=700 GeV ------> 8.97 +- 0.39, and full range integral: 12.06\n",
        "Mean value: 698.22, with sigma: 43.00\n",
        "Chi2=5.94, ndf=17.00, Chi2/ndf=0.35\n",
        "TTbar ------> 7.80 +- 0.78, and full range integral: 21.11\n",
        "QCD ------> 5.72 +- 5.72, and full range integral: 17.16\n",
        "(7.87 4.67 0.70 0.25): 12.06; 21.11; 17.16; 2.58; 22.44 | (0.38,0.44,0.13,0.09) (0.00,1.00,0.00,0.00)\n",
        "--------------------------------"
       ]
      },
      {
       "output_type": "stream",
       "stream": "stdout",
       "text": [
        "\n",
        "M=700 GeV ------> 8.83 +- 0.39, and full range integral: 11.78\n",
        "Mean value: 697.70, with sigma: 42.67\n",
        "Chi2=6.24, ndf=17.00, Chi2/ndf=0.37\n",
        "TTbar ------> 7.33 +- 0.76, and full range integral: 19.69\n",
        "QCD ------> 5.72 +- 5.72, and full range integral: 11.44\n",
        "(7.87 4.67 0.70 0.20): 11.78; 19.69; 11.44; 2.71; 22.34 | (0.38,0.44,0.13,0.09) (0.00,1.00,0.00,0.00)\n",
        "--------------------------------"
       ]
      },
      {
       "output_type": "stream",
       "stream": "stdout",
       "text": [
        "\n",
        "M=700 GeV ------> 8.11 +- 0.37, and full range integral: 11.25\n",
        "Mean value: 697.52, with sigma: 41.42\n",
        "Chi2=14.36, ndf=17.00, Chi2/ndf=0.84\n",
        "TTbar ------> 5.99 +- 0.69, and full range integral: 17.88\n",
        "QCD ------> 0.00 +- 0.00, and full range integral: 11.44\n",
        "(7.87 4.67 0.70 0.15): 11.25; 17.88; 11.44; 2.85; 21.97 | (0.37,0.45,0.13,0.09) (0.00,1.00,0.00,0.00)\n",
        "--------------------------------"
       ]
      },
      {
       "output_type": "stream",
       "stream": "stdout",
       "text": [
        "\n",
        "M=700 GeV ------> 7.32 +- 0.36, and full range integral: 10.02\n",
        "Mean value: 697.23, with sigma: 40.62\n",
        "Chi2=15.59, ndf=17.00, Chi2/ndf=0.92\n",
        "TTbar ------> 5.20 +- 0.64, and full range integral: 15.20\n",
        "QCD ------> 0.00 +- 0.00, and full range integral: 0.00\n",
        "(7.87 4.67 0.70 0.10): 10.02; 15.20; 0.00; 3.01; 20.88 | (0.39,0.43,0.13,0.09) (0.00,0.00,0.00,0.00)\n",
        "--------------------------------"
       ]
      },
      {
       "output_type": "stream",
       "stream": "stdout",
       "text": [
        "\n",
        "M=700 GeV ------> 8.25 +- 0.38, and full range integral: 11.03\n",
        "Mean value: 699.49, with sigma: 42.56\n",
        "Chi2=6.14, ndf=17.00, Chi2/ndf=0.36\n",
        "TTbar ------> 5.91 +- 0.68, and full range integral: 17.41\n",
        "QCD ------> 5.72 +- 5.72, and full range integral: 17.16\n",
        "(7.87 4.67 0.72 0.25): 11.03; 17.41; 17.16; 2.85; 21.75 | (0.33,0.46,0.15,0.10) (0.00,1.00,0.00,0.00)\n",
        "--------------------------------"
       ]
      },
      {
       "output_type": "stream",
       "stream": "stdout",
       "text": [
        "\n",
        "M=700 GeV ------> 8.13 +- 0.37, and full range integral: 10.78\n",
        "Mean value: 698.88, with sigma: 42.20\n",
        "Chi2=6.39, ndf=17.00, Chi2/ndf=0.38\n",
        "TTbar ------> 5.59 +- 0.66, and full range integral: 16.31\n",
        "QCD ------> 5.72 +- 5.72, and full range integral: 11.44\n",
        "(7.87 4.67 0.72 0.20): 10.78; 16.31; 11.44; 2.99; 21.64 | (0.34,0.46,0.14,0.11) (0.00,1.00,0.00,0.00)\n",
        "--------------------------------"
       ]
      },
      {
       "output_type": "stream",
       "stream": "stdout",
       "text": [
        "\n",
        "M=700 GeV ------> 7.42 +- 0.36, and full range integral: 10.25\n",
        "Mean value: 698.71, with sigma: 40.83\n",
        "Chi2=13.56, ndf=17.00, Chi2/ndf=0.80\n",
        "TTbar ------> 4.57 +- 0.60, and full range integral: 15.05\n",
        "QCD ------> 0.00 +- 0.00, and full range integral: 11.44\n",
        "(7.87 4.67 0.72 0.15): 10.25; 15.05; 11.44; 3.08; 21.17 | (0.34,0.46,0.15,0.10) (0.00,1.00,0.00,0.00)\n",
        "--------------------------------"
       ]
      },
      {
       "output_type": "stream",
       "stream": "stdout",
       "text": [
        "\n",
        "M=700 GeV ------> 8.95 +- 0.39, and full range integral: 12.13\n",
        "Mean value: 694.61, with sigma: 39.56\n",
        "Chi2=18.47, ndf=17.00, Chi2/ndf=1.09\n",
        "TTbar ------> 8.19 +- 0.80, and full range integral: 23.95\n",
        "QCD ------> 0.00 +- 0.00, and full range integral: 17.16\n",
        "(8.03 4.00 0.67 0.10): 12.13; 23.95; 17.16; 2.29; 22.12 | (0.43,0.42,0.12,0.08) (0.33,0.67,0.00,0.00)\n",
        "--------------------------------"
       ]
      },
      {
       "output_type": "stream",
       "stream": "stdout",
       "text": [
        "\n",
        "M=700 GeV ------> 9.39 +- 0.40, and full range integral: 13.11\n",
        "Mean value: 696.63, with sigma: 41.76\n",
        "Chi2=7.21, ndf=17.00, Chi2/ndf=0.42\n",
        "TTbar ------> 8.59 +- 0.82, and full range integral: 25.84\n",
        "QCD ------> 0.00 +- 0.00, and full range integral: 17.16\n",
        "(8.03 4.00 0.70 0.20): 13.11; 25.84; 17.16; 2.30; 23.01 | (0.38,0.44,0.14,0.09) (0.00,1.00,0.00,0.00)\n",
        "--------------------------------"
       ]
      },
      {
       "output_type": "stream",
       "stream": "stdout",
       "text": [
        "\n",
        "M=700 GeV ------> 9.14 +- 0.40, and full range integral: 12.44\n",
        "Mean value: 696.14, with sigma: 40.36\n",
        "Chi2=14.34, ndf=17.00, Chi2/ndf=0.84\n",
        "TTbar ------> 8.11 +- 0.80, and full range integral: 23.87\n",
        "QCD ------> 0.00 +- 0.00, and full range integral: 17.16\n",
        "(8.03 4.00 0.70 0.15): 12.44; 23.87; 17.16; 2.36; 22.50 | (0.37,0.45,0.13,0.10) (0.00,1.00,0.00,0.00)\n",
        "--------------------------------"
       ]
      },
      {
       "output_type": "stream",
       "stream": "stdout",
       "text": [
        "\n",
        "M=700 GeV ------> 8.25 +- 0.38, and full range integral: 11.11\n",
        "Mean value: 695.79, with sigma: 39.47\n",
        "Chi2=15.54, ndf=17.00, Chi2/ndf=0.91\n",
        "TTbar ------> 6.93 +- 0.74, and full range integral: 20.09\n",
        "QCD ------> 0.00 +- 0.00, and full range integral: 5.72\n",
        "(8.03 4.00 0.70 0.10): 11.11; 20.09; 5.72; 2.52; 21.47 | (0.39,0.44,0.13,0.09) (0.00,1.00,0.00,0.00)\n",
        "--------------------------------"
       ]
      },
      {
       "output_type": "stream",
       "stream": "stdout",
       "text": [
        "\n",
        "M=700 GeV ------> 8.54 +- 0.38, and full range integral: 11.85\n",
        "Mean value: 697.88, with sigma: 41.35\n",
        "Chi2=7.70, ndf=17.00, Chi2/ndf=0.45\n",
        "TTbar ------> 6.38 +- 0.71, and full range integral: 20.48\n",
        "QCD ------> 0.00 +- 0.00, and full range integral: 17.16\n",
        "(8.03 4.00 0.72 0.20): 11.85; 20.48; 17.16; 2.61; 22.29 | (0.33,0.45,0.15,0.10) (0.00,1.00,0.00,0.00)\n",
        "--------------------------------"
       ]
      },
      {
       "output_type": "stream",
       "stream": "stdout",
       "text": [
        "\n",
        "M=700 GeV ------> 8.30 +- 0.38, and full range integral: 11.18\n",
        "Mean value: 697.37, with sigma: 39.80\n",
        "Chi2=12.90, ndf=17.00, Chi2/ndf=0.76\n",
        "TTbar ------> 6.07 +- 0.69, and full range integral: 19.06\n",
        "QCD ------> 0.00 +- 0.00, and full range integral: 17.16\n",
        "(8.03 4.00 0.72 0.15): 11.18; 19.06; 17.16; 2.64; 21.68 | (0.34,0.46,0.15,0.10) (0.00,1.00,0.00,0.00)\n",
        "--------------------------------"
       ]
      },
      {
       "output_type": "stream",
       "stream": "stdout",
       "text": [
        "\n",
        "M=700 GeV ------> 7.51 +- 0.36, and full range integral: 10.01\n",
        "Mean value: 696.93, with sigma: 38.98\n",
        "Chi2=13.05, ndf=17.00, Chi2/ndf=0.77\n",
        "TTbar ------> 4.88 +- 0.62, and full range integral: 15.91\n",
        "QCD ------> 0.00 +- 0.00, and full range integral: 5.72\n",
        "(8.03 4.00 0.72 0.10): 10.01; 15.91; 5.72; 2.86; 20.73 | (0.35,0.45,0.15,0.10) (0.00,1.00,0.00,0.00)\n",
        "--------------------------------"
       ]
      },
      {
       "output_type": "stream",
       "stream": "stdout",
       "text": [
        "\n",
        "M=700 GeV ------> 8.82 +- 0.39, and full range integral: 12.22\n",
        "Mean value: 694.32, with sigma: 40.57\n",
        "Chi2=18.65, ndf=17.00, Chi2/ndf=1.10\n",
        "TTbar ------> 8.43 +- 0.81, and full range integral: 26.47\n",
        "QCD ------> 11.44 +- 8.09, and full range integral: 17.16\n",
        "(8.03 4.67 0.58 0.10): 12.22; 26.47; 17.16; 2.09; 21.88 | (0.54,0.35,0.10,0.05) (1.00,0.00,0.00,0.00)\n",
        "--------------------------------"
       ]
      },
      {
       "output_type": "stream",
       "stream": "stdout",
       "text": [
        "\n",
        "M=700 GeV ------> 8.70 +- 0.39, and full range integral: 12.08\n",
        "Mean value: 694.45, with sigma: 40.62\n",
        "Chi2=18.99, ndf=17.00, Chi2/ndf=1.12\n",
        "TTbar ------> 8.03 +- 0.80, and full range integral: 24.34\n",
        "QCD ------> 11.44 +- 8.09, and full range integral: 17.16\n",
        "(8.03 4.67 0.60 0.10): 12.08; 24.34; 17.16; 2.24; 22.00 | (0.51,0.37,0.10,0.06) (1.00,0.00,0.00,0.00)\n",
        "--------------------------------"
       ]
      },
      {
       "output_type": "stream",
       "stream": "stdout",
       "text": [
        "\n",
        "M=700 GeV ------> 8.49 +- 0.38, and full range integral: 11.72\n",
        "Mean value: 695.26, with sigma: 40.47\n",
        "Chi2=20.09, ndf=17.00, Chi2/ndf=1.18\n",
        "TTbar ------> 7.48 +- 0.77, and full range integral: 22.53\n",
        "QCD ------> 5.72 +- 5.72, and full range integral: 11.44\n",
        "(8.03 4.67 0.63 0.10): 11.72; 22.53; 11.44; 2.36; 21.84 | (0.49,0.38,0.10,0.06) (1.00,0.00,0.00,0.00)\n",
        "--------------------------------"
       ]
      },
      {
       "output_type": "stream",
       "stream": "stdout",
       "text": [
        "\n",
        "M=700 GeV ------> 8.18 +- 0.38, and full range integral: 11.21\n",
        "Mean value: 695.44, with sigma: 40.11\n",
        "Chi2=17.68, ndf=17.00, Chi2/ndf=1.04\n",
        "TTbar ------> 6.85 +- 0.73, and full range integral: 20.56\n",
        "QCD ------> 5.72 +- 5.72, and full range integral: 11.44\n",
        "(8.03 4.67 0.65 0.10): 11.21; 20.56; 11.44; 2.47; 21.51 | (0.46,0.41,0.11,0.07) (1.00,0.00,0.00,0.00)\n",
        "--------------------------------"
       ]
      },
      {
       "output_type": "stream",
       "stream": "stdout",
       "text": [
        "\n",
        "M=700 GeV ------> 8.90 +- 0.39, and full range integral: 12.77\n",
        "Mean value: 696.37, with sigma: 42.81\n",
        "Chi2=9.21, ndf=17.00, Chi2/ndf=0.54\n",
        "TTbar ------> 7.56 +- 0.77, and full range integral: 23.55\n",
        "QCD ------> 0.00 +- 0.00, and full range integral: 17.16\n",
        "(8.03 4.67 0.67 0.25): 12.77; 23.55; 17.16; 2.45; 22.92 | (0.39,0.44,0.13,0.08) (0.00,1.00,0.00,0.00)\n",
        "--------------------------------"
       ]
      },
      {
       "output_type": "stream",
       "stream": "stdout",
       "text": [
        "\n",
        "M=700 GeV ------> 8.76 +- 0.39, and full range integral: 12.44\n",
        "Mean value: 695.87, with sigma: 42.36\n",
        "Chi2=8.98, ndf=17.00, Chi2/ndf=0.53\n",
        "TTbar ------> 7.17 +- 0.75, and full range integral: 22.06\n",
        "QCD ------> 0.00 +- 0.00, and full range integral: 11.44\n",
        "(8.03 4.67 0.67 0.20): 12.44; 22.06; 11.44; 2.56; 22.77 | (0.40,0.45,0.13,0.08) (0.00,1.00,0.00,0.00)\n",
        "--------------------------------"
       ]
      },
      {
       "output_type": "stream",
       "stream": "stdout",
       "text": [
        "\n",
        "M=700 GeV ------> 8.58 +- 0.38, and full range integral: 11.85\n",
        "Mean value: 695.91, with sigma: 40.98\n",
        "Chi2=16.42, ndf=17.00, Chi2/ndf=0.97\n",
        "TTbar ------> 6.62 +- 0.72, and full range integral: 20.24\n",
        "QCD ------> 0.00 +- 0.00, and full range integral: 11.44\n",
        "(8.03 4.67 0.67 0.15): 11.85; 20.24; 11.44; 2.65; 22.34 | (0.39,0.45,0.12,0.08) (0.00,1.00,0.00,0.00)\n",
        "--------------------------------"
       ]
      },
      {
       "output_type": "stream",
       "stream": "stdout",
       "text": [
        "\n",
        "M=700 GeV ------> 7.71 +- 0.36, and full range integral: 10.52\n",
        "Mean value: 695.60, with sigma: 40.15\n",
        "Chi2=18.44, ndf=17.00, Chi2/ndf=1.08\n",
        "TTbar ------> 5.83 +- 0.68, and full range integral: 17.33\n",
        "QCD ------> 0.00 +- 0.00, and full range integral: 0.00\n",
        "(8.03 4.67 0.67 0.10): 10.52; 17.33; 0.00; 2.77; 21.17 | (0.41,0.43,0.12,0.08) (0.00,0.00,0.00,0.00)\n",
        "--------------------------------"
       ]
      },
      {
       "output_type": "stream",
       "stream": "stdout",
       "text": [
        "\n",
        "M=700 GeV ------> 8.82 +- 0.39, and full range integral: 11.80\n",
        "Mean value: 697.85, with sigma: 42.78\n",
        "Chi2=6.51, ndf=17.00, Chi2/ndf=0.38\n",
        "TTbar ------> 7.56 +- 0.77, and full range integral: 20.40\n",
        "QCD ------> 5.72 +- 5.72, and full range integral: 17.16\n",
        "(8.03 4.67 0.70 0.25): 11.80; 20.40; 17.16; 2.61; 22.24 | (0.37,0.45,0.14,0.09) (0.00,1.00,0.00,0.00)\n",
        "--------------------------------"
       ]
      },
      {
       "output_type": "stream",
       "stream": "stdout",
       "text": [
        "\n",
        "M=700 GeV ------> 8.18 +- 0.38, and full range integral: 11.53\n",
        "Mean value: 697.32, with sigma: 42.43\n",
        "Chi2=6.49, ndf=17.00, Chi2/ndf=0.38\n",
        "TTbar ------> 6.30 +- 0.70, and full range integral: 19.06\n",
        "QCD ------> 0.00 +- 0.00, and full range integral: 11.44\n",
        "(8.03 4.67 0.70 0.20): 11.53; 19.06; 11.44; 2.74; 22.12 | (0.38,0.45,0.13,0.10) (0.00,1.00,0.00,0.00)\n",
        "--------------------------------"
       ]
      },
      {
       "output_type": "stream",
       "stream": "stdout",
       "text": [
        "\n",
        "M=700 GeV ------> 8.01 +- 0.37, and full range integral: 11.01\n",
        "Mean value: 697.13, with sigma: 41.11\n",
        "Chi2=13.34, ndf=17.00, Chi2/ndf=0.78\n",
        "TTbar ------> 5.83 +- 0.68, and full range integral: 17.41\n",
        "QCD ------> 0.00 +- 0.00, and full range integral: 11.44\n",
        "(8.03 4.67 0.70 0.15): 11.01; 17.41; 11.44; 2.86; 21.74 | (0.37,0.45,0.13,0.10) (0.00,1.00,0.00,0.00)\n",
        "--------------------------------"
       ]
      },
      {
       "output_type": "stream",
       "stream": "stdout",
       "text": [
        "\n",
        "M=700 GeV ------> 8.09 +- 0.37, and full range integral: 10.78\n",
        "Mean value: 699.11, with sigma: 42.32\n",
        "Chi2=6.11, ndf=17.00, Chi2/ndf=0.36\n",
        "TTbar ------> 5.75 +- 0.67, and full range integral: 16.94\n",
        "QCD ------> 5.72 +- 5.72, and full range integral: 17.16\n",
        "(8.03 4.67 0.72 0.25): 10.78; 16.94; 17.16; 2.87; 21.53 | (0.33,0.47,0.15,0.11) (0.00,1.00,0.00,0.00)\n",
        "--------------------------------"
       ]
      },
      {
       "output_type": "stream",
       "stream": "stdout",
       "text": [
        "\n",
        "M=700 GeV ------> 7.97 +- 0.37, and full range integral: 10.54\n",
        "Mean value: 698.49, with sigma: 41.95\n",
        "Chi2=6.08, ndf=17.00, Chi2/ndf=0.36\n",
        "TTbar ------> 5.51 +- 0.66, and full range integral: 15.91\n",
        "QCD ------> 5.72 +- 5.72, and full range integral: 11.44\n",
        "(8.03 4.67 0.72 0.20): 10.54; 15.91; 11.44; 3.00; 21.40 | (0.33,0.47,0.14,0.11) (0.00,1.00,0.00,0.00)\n",
        "--------------------------------"
       ]
      },
      {
       "output_type": "stream",
       "stream": "stdout",
       "text": [
        "\n",
        "M=700 GeV ------> 7.32 +- 0.36, and full range integral: 10.02\n",
        "Mean value: 698.31, with sigma: 40.49\n",
        "Chi2=12.01, ndf=17.00, Chi2/ndf=0.71\n",
        "TTbar ------> 4.49 +- 0.59, and full range integral: 14.65\n",
        "QCD ------> 0.00 +- 0.00, and full range integral: 11.44\n",
        "(8.03 4.67 0.72 0.15): 10.02; 14.65; 11.44; 3.09; 20.95 | (0.33,0.47,0.15,0.11) (0.00,1.00,0.00,0.00)\n",
        "--------------------------------"
       ]
      },
      {
       "output_type": "stream",
       "stream": "stdout",
       "text": [
        "\n",
        "M=700 GeV ------> 8.80 +- 0.39, and full range integral: 11.91\n",
        "Mean value: 694.40, with sigma: 39.34\n",
        "Chi2=18.52, ndf=17.00, Chi2/ndf=1.09\n",
        "TTbar ------> 8.11 +- 0.80, and full range integral: 22.76\n",
        "QCD ------> 0.00 +- 0.00, and full range integral: 17.16\n",
        "(8.20 4.00 0.67 0.10): 11.91; 22.76; 17.16; 2.36; 22.02 | (0.43,0.43,0.11,0.07) (0.33,0.67,0.00,0.00)\n",
        "--------------------------------"
       ]
      },
      {
       "output_type": "stream",
       "stream": "stdout",
       "text": [
        "\n",
        "M=700 GeV ------> 9.21 +- 0.40, and full range integral: 12.87\n",
        "Mean value: 696.49, with sigma: 41.62\n",
        "Chi2=6.98, ndf=17.00, Chi2/ndf=0.41\n",
        "TTbar ------> 8.51 +- 0.82, and full range integral: 24.66\n",
        "QCD ------> 0.00 +- 0.00, and full range integral: 17.16\n",
        "(8.20 4.00 0.70 0.20): 12.87; 24.66; 17.16; 2.36; 22.89 | (0.38,0.45,0.13,0.09) (0.00,1.00,0.00,0.00)\n",
        "--------------------------------"
       ]
      },
      {
       "output_type": "stream",
       "stream": "stdout",
       "text": [
        "\n",
        "M=700 GeV ------> 8.97 +- 0.39, and full range integral: 12.20\n",
        "Mean value: 695.99, with sigma: 40.19\n",
        "Chi2=13.74, ndf=17.00, Chi2/ndf=0.81\n",
        "TTbar ------> 8.03 +- 0.80, and full range integral: 22.76\n",
        "QCD ------> 0.00 +- 0.00, and full range integral: 17.16\n",
        "(8.20 4.00 0.70 0.15): 12.20; 22.76; 17.16; 2.42; 22.37 | (0.37,0.45,0.13,0.09) (0.00,1.00,0.00,0.00)\n",
        "--------------------------------"
       ]
      },
      {
       "output_type": "stream",
       "stream": "stdout",
       "text": [
        "\n",
        "M=700 GeV ------> 8.11 +- 0.37, and full range integral: 10.90\n",
        "Mean value: 695.65, with sigma: 39.25\n",
        "Chi2=16.30, ndf=17.00, Chi2/ndf=0.96\n",
        "TTbar ------> 6.85 +- 0.73, and full range integral: 19.14\n",
        "QCD ------> 0.00 +- 0.00, and full range integral: 5.72\n",
        "(8.20 4.00 0.70 0.10): 10.90; 19.14; 5.72; 2.59; 21.35 | (0.39,0.45,0.12,0.09) (0.00,1.00,0.00,0.00)\n",
        "--------------------------------"
       ]
      },
      {
       "output_type": "stream",
       "stream": "stdout",
       "text": [
        "\n",
        "M=700 GeV ------> 8.37 +- 0.38, and full range integral: 11.61\n",
        "Mean value: 697.75, with sigma: 41.20\n",
        "Chi2=6.55, ndf=17.00, Chi2/ndf=0.39\n",
        "TTbar ------> 6.38 +- 0.71, and full range integral: 19.54\n",
        "QCD ------> 0.00 +- 0.00, and full range integral: 17.16\n",
        "(8.20 4.00 0.72 0.20): 11.61; 19.54; 17.16; 2.68; 22.14 | (0.34,0.46,0.15,0.10) (0.00,1.00,0.00,0.00)\n",
        "--------------------------------"
       ]
      },
      {
       "output_type": "stream",
       "stream": "stdout",
       "text": [
        "\n",
        "M=700 GeV ------> 8.13 +- 0.37, and full range integral: 10.94\n",
        "Mean value: 697.23, with sigma: 39.62\n",
        "Chi2=11.27, ndf=17.00, Chi2/ndf=0.66\n",
        "TTbar ------> 6.07 +- 0.69, and full range integral: 18.20\n",
        "QCD ------> 0.00 +- 0.00, and full range integral: 17.16\n",
        "(8.20 4.00 0.72 0.15): 10.94; 18.20; 17.16; 2.71; 21.52 | (0.34,0.47,0.14,0.10) (0.00,1.00,0.00,0.00)\n",
        "--------------------------------"
       ]
      },
      {
       "output_type": "stream",
       "stream": "stdout",
       "text": [
        "\n",
        "M=700 GeV ------> 8.73 +- 0.39, and full range integral: 12.08\n",
        "Mean value: 694.15, with sigma: 40.51\n",
        "Chi2=18.39, ndf=17.00, Chi2/ndf=1.08\n",
        "TTbar ------> 8.43 +- 0.81, and full range integral: 25.13\n",
        "QCD ------> 11.44 +- 8.09, and full range integral: 17.16\n",
        "(8.20 4.67 0.58 0.10): 12.08; 25.13; 17.16; 2.17; 21.90 | (0.53,0.36,0.09,0.05) (1.00,0.00,0.00,0.00)\n",
        "--------------------------------"
       ]
      },
      {
       "output_type": "stream",
       "stream": "stdout",
       "text": [
        "\n",
        "M=700 GeV ------> 8.61 +- 0.39, and full range integral: 11.94\n",
        "Mean value: 694.27, with sigma: 40.56\n",
        "Chi2=18.95, ndf=17.00, Chi2/ndf=1.11\n",
        "TTbar ------> 8.03 +- 0.80, and full range integral: 23.16\n",
        "QCD ------> 11.44 +- 8.09, and full range integral: 17.16\n",
        "(8.20 4.67 0.60 0.10): 11.94; 23.16; 17.16; 2.33; 22.00 | (0.51,0.38,0.10,0.05) (1.00,0.00,0.00,0.00)\n",
        "--------------------------------"
       ]
      },
      {
       "output_type": "stream",
       "stream": "stdout",
       "text": [
        "\n",
        "M=700 GeV ------> 8.40 +- 0.38, and full range integral: 11.58\n",
        "Mean value: 695.09, with sigma: 40.40\n",
        "Chi2=19.80, ndf=17.00, Chi2/ndf=1.16\n",
        "TTbar ------> 7.48 +- 0.77, and full range integral: 21.50\n",
        "QCD ------> 5.72 +- 5.72, and full range integral: 11.44\n",
        "(8.20 4.67 0.63 0.10): 11.58; 21.50; 11.44; 2.44; 21.82 | (0.49,0.39,0.10,0.06) (1.00,0.00,0.00,0.00)\n",
        "--------------------------------"
       ]
      },
      {
       "output_type": "stream",
       "stream": "stdout",
       "text": [
        "\n",
        "M=700 GeV ------> 8.09 +- 0.37, and full range integral: 11.08\n",
        "Mean value: 695.26, with sigma: 40.03\n",
        "Chi2=17.31, ndf=17.00, Chi2/ndf=1.02\n",
        "TTbar ------> 6.85 +- 0.73, and full range integral: 19.54\n",
        "QCD ------> 5.72 +- 5.72, and full range integral: 11.44\n",
        "(8.20 4.67 0.65 0.10): 11.08; 19.54; 11.44; 2.57; 21.50 | (0.46,0.42,0.10,0.06) (1.00,0.00,0.00,0.00)\n",
        "--------------------------------"
       ]
      },
      {
       "output_type": "stream",
       "stream": "stdout",
       "text": [
        "\n",
        "M=700 GeV ------> 8.80 +- 0.39, and full range integral: 12.60\n",
        "Mean value: 696.16, with sigma: 42.76\n",
        "Chi2=8.93, ndf=17.00, Chi2/ndf=0.53\n",
        "TTbar ------> 7.56 +- 0.77, and full range integral: 22.37\n",
        "QCD ------> 0.00 +- 0.00, and full range integral: 17.16\n",
        "(8.20 4.67 0.67 0.25): 12.60; 22.37; 17.16; 2.54; 22.89 | (0.40,0.46,0.12,0.07) (0.00,1.00,0.00,0.00)\n",
        "--------------------------------"
       ]
      },
      {
       "output_type": "stream",
       "stream": "stdout",
       "text": [
        "\n",
        "M=700 GeV ------> 8.66 +- 0.39, and full range integral: 12.28\n",
        "Mean value: 695.74, with sigma: 42.35\n",
        "Chi2=8.83, ndf=17.00, Chi2/ndf=0.52\n",
        "TTbar ------> 7.17 +- 0.75, and full range integral: 20.95\n",
        "QCD ------> 0.00 +- 0.00, and full range integral: 11.44\n",
        "(8.20 4.67 0.67 0.20): 12.28; 20.95; 11.44; 2.66; 22.74 | (0.40,0.46,0.12,0.08) (0.00,1.00,0.00,0.00)\n",
        "--------------------------------"
       ]
      },
      {
       "output_type": "stream",
       "stream": "stdout",
       "text": [
        "\n",
        "M=700 GeV ------> 8.47 +- 0.38, and full range integral: 11.70\n",
        "Mean value: 695.78, with sigma: 40.95\n",
        "Chi2=16.28, ndf=17.00, Chi2/ndf=0.96\n",
        "TTbar ------> 6.62 +- 0.72, and full range integral: 19.22\n",
        "QCD ------> 0.00 +- 0.00, and full range integral: 11.44\n",
        "(8.20 4.67 0.67 0.15): 11.70; 19.22; 11.44; 2.76; 22.30 | (0.39,0.46,0.12,0.08) (0.00,1.00,0.00,0.00)\n",
        "--------------------------------"
       ]
      },
      {
       "output_type": "stream",
       "stream": "stdout",
       "text": [
        "\n",
        "M=700 GeV ------> 7.63 +- 0.36, and full range integral: 10.39\n",
        "Mean value: 695.42, with sigma: 40.07\n",
        "Chi2=18.74, ndf=17.00, Chi2/ndf=1.10\n",
        "TTbar ------> 5.83 +- 0.68, and full range integral: 16.46\n",
        "QCD ------> 0.00 +- 0.00, and full range integral: 0.00\n",
        "(8.20 4.67 0.67 0.10): 10.39; 16.46; 0.00; 2.88; 21.14 | (0.42,0.44,0.11,0.07) (0.00,0.00,0.00,0.00)\n",
        "--------------------------------"
       ]
      },
      {
       "output_type": "stream",
       "stream": "stdout",
       "text": [
        "\n",
        "M=700 GeV ------> 8.71 +- 0.39, and full range integral: 11.65\n",
        "Mean value: 697.75, with sigma: 42.78\n",
        "Chi2=6.87, ndf=17.00, Chi2/ndf=0.40\n",
        "TTbar ------> 7.56 +- 0.77, and full range integral: 19.46\n",
        "QCD ------> 5.72 +- 5.72, and full range integral: 17.16\n",
        "(8.20 4.67 0.70 0.25): 11.65; 19.46; 17.16; 2.70; 22.19 | (0.38,0.47,0.13,0.09) (0.00,1.00,0.00,0.00)\n",
        "--------------------------------"
       ]
      },
      {
       "output_type": "stream",
       "stream": "stdout",
       "text": [
        "\n",
        "M=700 GeV ------> 8.07 +- 0.37, and full range integral: 11.37\n",
        "Mean value: 697.20, with sigma: 42.43\n",
        "Chi2=6.67, ndf=17.00, Chi2/ndf=0.39\n",
        "TTbar ------> 6.30 +- 0.70, and full range integral: 18.20\n",
        "QCD ------> 0.00 +- 0.00, and full range integral: 11.44\n",
        "(8.20 4.67 0.70 0.20): 11.37; 18.20; 11.44; 2.83; 22.06 | (0.38,0.46,0.12,0.09) (0.00,1.00,0.00,0.00)\n",
        "--------------------------------"
       ]
      },
      {
       "output_type": "stream",
       "stream": "stdout",
       "text": [
        "\n",
        "M=700 GeV ------> 7.90 +- 0.37, and full range integral: 10.85\n",
        "Mean value: 697.01, with sigma: 41.09\n",
        "Chi2=13.61, ndf=17.00, Chi2/ndf=0.80\n",
        "TTbar ------> 5.83 +- 0.68, and full range integral: 16.62\n",
        "QCD ------> 0.00 +- 0.00, and full range integral: 11.44\n",
        "(8.20 4.67 0.70 0.15): 10.85; 16.62; 11.44; 2.95; 21.68 | (0.37,0.47,0.12,0.09) (0.00,1.00,0.00,0.00)\n",
        "--------------------------------"
       ]
      },
      {
       "output_type": "stream",
       "stream": "stdout",
       "text": [
        "\n",
        "M=700 GeV ------> 7.99 +- 0.37, and full range integral: 10.63\n",
        "Mean value: 699.02, with sigma: 42.32\n",
        "Chi2=5.56, ndf=17.00, Chi2/ndf=0.33\n",
        "TTbar ------> 5.75 +- 0.67, and full range integral: 16.15\n",
        "QCD ------> 5.72 +- 5.72, and full range integral: 17.16\n",
        "(8.20 4.67 0.72 0.25): 10.63; 16.15; 17.16; 2.96; 21.46 | (0.33,0.48,0.14,0.10) (0.00,1.00,0.00,0.00)\n",
        "--------------------------------"
       ]
      },
      {
       "output_type": "stream",
       "stream": "stdout",
       "text": [
        "\n",
        "M=700 GeV ------> 7.87 +- 0.37, and full range integral: 10.39\n",
        "Mean value: 698.38, with sigma: 41.94\n",
        "Chi2=5.38, ndf=17.00, Chi2/ndf=0.32\n",
        "TTbar ------> 5.51 +- 0.66, and full range integral: 15.20\n",
        "QCD ------> 5.72 +- 5.72, and full range integral: 11.44\n",
        "(8.20 4.67 0.72 0.20): 10.39; 15.20; 11.44; 3.09; 21.32 | (0.34,0.48,0.13,0.10) (0.00,1.00,0.00,0.00)\n",
        "[[[(6.2000000000000002, 4.0, 0.62666666666666659, 0.050000000000000003), 0.0], 9.37364998459816, 8.074747383594513], [[(6.2000000000000002, 4.0, 0.64999999999999991, 0.050000000000000003), 0.0], 8.507178097963333, 7.781434029340744], [[(6.2000000000000002, 4.0, 0.69666666666666666, 0.099999999999999978), 0.0], 10.8702831864357, 10.386747896671295], [[(6.2000000000000002, 4.0, 0.71999999999999997, 0.099999999999999978), 0.0], 8.192097425460815, 9.506807446479797], [[(6.2000000000000002, 4.666666666666667, 0.64999999999999991, 0.099999999999999978), 5.718425273895264], 9.53119033575058, 9.85188215970993], [[(6.2000000000000002, 4.666666666666667, 0.67333333333333334, 0.20000000000000001), 0.0], 10.318891942501068, 10.611046254634857], [[(6.2000000000000002, 4.666666666666667, 0.67333333333333334, 0.14999999999999999), 0.0], 9.609960317611694, 10.369493901729584], [[(6.2000000000000002, 4.666666666666667, 0.67333333333333334, 0.099999999999999978), 0.0], 8.428407907485962, 9.351523697376251], [[(6.2000000000000002, 4.666666666666667, 0.69666666666666666, 0.20000000000000001), 0.0], 9.058569192886353, 9.920897006988525], [[(6.2000000000000002, 4.666666666666667, 0.69666666666666666, 0.14999999999999999), 0.0], 8.428407847881317, 9.696598470211029], [[(6.2000000000000002, 4.666666666666667, 0.69666666666666666, 0.099999999999999978), 0.0], 7.325625568628311, 8.764896810054779], [[(6.2000000000000002, 4.666666666666667, 0.71999999999999997, 0.20000000000000001), 5.718425273895264], 8.192097455263138, 9.696598529815674], [[(6.2000000000000002, 4.666666666666667, 0.71999999999999997, 0.14999999999999999), 0.0], 6.695464253425598, 8.902926504611969], [[(6.2000000000000002, 4.666666666666667, 0.71999999999999997, 0.099999999999999978), 0.0], 5.671452060341835, 8.09200131893158], [[(6.2000000000000002, 5.333333333333333, 0.67333333333333334, 0.20000000000000001), 0.0], 6.144073083996773, 7.557135462760925], [[(6.2000000000000002, 5.333333333333333, 0.67333333333333334, 0.14999999999999999), 0.0], 5.592681929469109, 7.384598195552826], [[(6.2000000000000002, 5.333333333333333, 0.69666666666666666, 0.20000000000000001), 5.718425273895264], 6.301613315939903, 7.64340415596962], [[(6.3666666666666671, 4.0, 0.62666666666666659, 0.050000000000000003), 0.0], 9.058569341897964, 8.005732536315918], [[(6.3666666666666671, 4.0, 0.64999999999999991, 0.050000000000000003), 0.0], 8.192097395658493, 7.712419003248215], [[(6.3666666666666671, 4.0, 0.69666666666666666, 0.099999999999999978), 0.0], 10.555202543735504, 10.31773293018341], [[(6.3666666666666671, 4.0, 0.71999999999999997, 0.099999999999999978), 0.0], 7.87701678276062, 9.437792479991913], [[(6.3666666666666671, 4.666666666666667, 0.64999999999999991, 0.099999999999999978), 5.718425273895264], 9.21610963344574, 9.800120890140533], [[(6.3666666666666671, 4.666666666666667, 0.67333333333333334, 0.20000000000000001), 0.0], 10.003811240196228, 10.542031347751617], [[(6.3666666666666671, 4.666666666666667, 0.67333333333333334, 0.14999999999999999), 0.0], 9.294879615306854, 10.300478875637054], [[(6.3666666666666671, 4.666666666666667, 0.67333333333333334, 0.099999999999999978), 0.0], 8.113327205181122, 9.299762547016144], [[(6.3666666666666671, 4.666666666666667, 0.69666666666666666, 0.20000000000000001), 0.0], 8.822258710861206, 9.85188204050064], [[(6.3666666666666671, 4.666666666666667, 0.69666666666666666, 0.14999999999999999), 0.0], 8.19209736585617, 9.627583503723145], [[(6.3666666666666671, 4.666666666666667, 0.69666666666666666, 0.099999999999999978), 0.0], 7.089315086603165, 8.713135719299316], [[(6.3666666666666671, 4.666666666666667, 0.71999999999999997, 0.20000000000000001), 0.0], 6.853004544973373, 9.05821031332016], [[(6.3666666666666671, 4.666666666666667, 0.71999999999999997, 0.14999999999999999), 0.0], 6.459153711795807, 8.83391159772873], [[(6.3666666666666671, 4.666666666666667, 0.71999999999999997, 0.099999999999999978), 0.0], 5.4351415783166885, 8.040240168571472], [[(6.3666666666666671, 5.333333333333333, 0.67333333333333334, 0.20000000000000001), 0.0], 6.065302923321724, 7.557135462760925], [[(6.3666666666666671, 5.333333333333333, 0.67333333333333334, 0.14999999999999999), 0.0], 5.51391176879406, 7.384598195552826], [[(6.3666666666666671, 5.333333333333333, 0.69666666666666666, 0.20000000000000001), 0.0], 5.435141488909721, 7.160299599170685], [[(6.5333333333333332, 4.0, 0.62666666666666659, 0.050000000000000003), 0.0], 8.585948318243027, 7.919463932514191], [[(6.5333333333333332, 4.0, 0.64999999999999991, 0.050000000000000003), 0.0], 7.7194763123989105, 7.626150459051132], [[(6.5333333333333332, 4.0, 0.69666666666666666, 0.099999999999999978), 0.0], 10.161351561546326, 10.127941966056824], [[(6.5333333333333332, 4.0, 0.71999999999999997, 0.099999999999999978), 0.0], 7.561936140060425, 9.282508790493011], [[(6.5333333333333332, 4.666666666666667, 0.64999999999999991, 0.099999999999999978), 5.718425273895264], 9.21610963344574, 9.696598470211029], [[(6.5333333333333332, 4.666666666666667, 0.67333333333333334, 0.20000000000000001), 0.0], 9.84627091884613, 10.438508987426758], [[(6.5333333333333332, 4.666666666666667, 0.67333333333333334, 0.14999999999999999), 0.0], 9.137339293956757, 10.196956634521484], [[(6.5333333333333332, 4.666666666666667, 0.67333333333333334, 0.099999999999999978), 0.0], 8.113327205181122, 9.196240186691284], [[(6.5333333333333332, 4.666666666666667, 0.69666666666666666, 0.20000000000000001), 0.0], 8.664718389511108, 9.748359620571136], [[(6.5333333333333332, 4.666666666666667, 0.69666666666666666, 0.14999999999999999), 0.0], 8.034557044506073, 9.52406096458435], [[(6.5333333333333332, 4.666666666666667, 0.69666666666666666, 0.099999999999999978), 0.0], 7.089315086603165, 8.609613299369812], [[(6.5333333333333332, 4.666666666666667, 0.71999999999999997, 0.20000000000000001), 5.718425273895264], 7.561936050653458, 9.489553689956665], [[(6.5333333333333332, 4.666666666666667, 0.71999999999999997, 0.14999999999999999), 0.0], 6.301613390445709, 8.73038923740387], [[(6.5333333333333332, 4.666666666666667, 0.71999999999999997, 0.099999999999999978), 0.0], 5.4351415783166885, 7.936717689037323], [[(6.5333333333333332, 5.333333333333333, 0.67333333333333334, 0.20000000000000001), 0.0], 5.986532762646675, 7.505374193191528], [[(6.5333333333333332, 5.333333333333333, 0.67333333333333334, 0.14999999999999999), 0.0], 5.435141608119011, 7.332836925983429], [[(6.5333333333333332, 5.333333333333333, 0.69666666666666666, 0.20000000000000001), 5.718425273895264], 6.065302833914757, 7.574389189481735], [[(6.7000000000000002, 4.0, 0.62666666666666659, 0.050000000000000003), 0.0], 8.428407996892929, 7.798687756061554], [[(6.7000000000000002, 4.0, 0.64999999999999991, 0.050000000000000003), 0.0], 7.640706151723862, 7.522628009319305], [[(6.7000000000000002, 4.0, 0.67333333333333334, 0.099999999999999978), 0.0], 11.657984852790833, 10.85259860754013], [[(6.7000000000000002, 4.0, 0.69666666666666666, 0.099999999999999978), 0.0], 9.846270859241486, 9.9554044008255], [[(6.7000000000000002, 4.0, 0.71999999999999997, 0.099999999999999978), 0.0], 7.2468554973602295, 9.127225160598755], [[(6.7000000000000002, 4.666666666666667, 0.62666666666666659, 0.099999999999999978), 11.436850547790527], 9.767500817775726, 9.903643310070038], [[(6.7000000000000002, 4.666666666666667, 0.64999999999999991, 0.099999999999999978), 5.718425273895264], 9.058569312095642, 9.575822472572327], [[(6.7000000000000002, 4.666666666666667, 0.67333333333333334, 0.25), 0.0], 10.161351561546326, 10.45576286315918], [[(6.7000000000000002, 4.666666666666667, 0.67333333333333334, 0.20000000000000001), 0.0], 9.688730537891388, 10.283225417137146], [[(6.7000000000000002, 4.666666666666667, 0.67333333333333334, 0.14999999999999999), 0.0], 8.979798972606659, 10.041673064231873], [[(6.7000000000000002, 4.666666666666667, 0.67333333333333334, 0.099999999999999978), 0.0], 7.955786883831024, 9.075463891029358], [[(6.7000000000000002, 4.666666666666667, 0.69666666666666666, 0.25), 5.718425273895264], 10.003811299800873, 10.317732870578766], [[(6.7000000000000002, 4.666666666666667, 0.69666666666666666, 0.20000000000000001), 0.0], 8.507178008556366, 9.59307610988617], [[(6.7000000000000002, 4.666666666666667, 0.69666666666666666, 0.14999999999999999), 0.0], 7.877016723155975, 9.368777692317963], [[(6.7000000000000002, 4.666666666666667, 0.69666666666666666, 0.099999999999999978), 0.0], 6.931774765253067, 8.48883718252182], [[(6.7000000000000002, 4.666666666666667, 0.71999999999999997, 0.25), 5.718425273895264], 7.719476372003555, 9.489553689956665], [[(6.7000000000000002, 4.666666666666667, 0.71999999999999997, 0.20000000000000001), 5.718425273895264], 7.40439572930336, 9.351523697376251], [[(6.7000000000000002, 4.666666666666667, 0.71999999999999997, 0.14999999999999999), 0.0], 6.144073069095612, 8.59235954284668], [[(6.7000000000000002, 4.666666666666667, 0.71999999999999997, 0.099999999999999978), 0.0], 5.2776012271642685, 7.815941572189331], [[(6.7000000000000002, 5.333333333333333, 0.67333333333333334, 0.25), 5.718425273895264], 6.931774780154228, 8.057493805885315], [[(6.7000000000000002, 5.333333333333333, 0.67333333333333334, 0.20000000000000001), 0.0], 5.8289924412965775, 7.384598076343536], [[(6.7000000000000002, 5.333333333333333, 0.69666666666666666, 0.25), 5.718425273895264], 6.30161340534687, 7.626150459051132], [[(6.8666666666666663, 4.0, 0.62666666666666659, 0.050000000000000003), 0.0], 8.113327294588089, 7.677911639213562], [[(6.8666666666666663, 4.0, 0.67333333333333334, 0.099999999999999978), 0.0], 11.18536376953125, 10.680061399936676], [[(6.8666666666666663, 4.0, 0.69666666666666666, 0.099999999999999978), 0.0], 9.452420055866241, 9.782867193222046], [[(6.8666666666666663, 4.0, 0.71999999999999997, 0.099999999999999978), 0.0], 7.010544955730438, 8.95468807220459], [[(6.8666666666666663, 4.666666666666667, 0.62666666666666659, 0.099999999999999978), 11.436850547790527], 9.373650014400482, 9.800120770931244], [[(6.8666666666666663, 4.666666666666667, 0.64999999999999991, 0.099999999999999978), 5.718425273895264], 8.664718449115753, 9.472300052642822], [[(6.8666666666666663, 4.666666666666667, 0.67333333333333334, 0.25), 0.0], 9.688730537891388, 10.3177330493927], [[(6.8666666666666663, 4.666666666666667, 0.67333333333333334, 0.20000000000000001), 0.0], 9.216109573841095, 10.16244924068451], [[(6.8666666666666663, 4.666666666666667, 0.67333333333333334, 0.14999999999999999), 0.0], 8.507178008556366, 9.920897006988525], [[(6.8666666666666663, 4.666666666666667, 0.67333333333333334, 0.099999999999999978), 0.0], 7.56193608045578, 8.971941590309143], [[(6.8666666666666663, 4.666666666666667, 0.69666666666666666, 0.25), 5.718425273895264], 9.53119021654129, 10.179702818393707], [[(6.8666666666666663, 4.666666666666667, 0.69666666666666666, 0.20000000000000001), 0.0], 8.113327205181122, 9.472299933433533], [[(6.8666666666666663, 4.666666666666667, 0.69666666666666666, 0.14999999999999999), 0.0], 7.483165919780731, 9.248001396656036], [[(6.8666666666666663, 4.666666666666667, 0.69666666666666666, 0.099999999999999978), 0.0], 6.616694092750549, 8.385314643383026], [[(6.8666666666666663, 4.666666666666667, 0.71999999999999997, 0.25), 5.718425273895264], 7.40439572930336, 9.351523876190186], [[(6.8666666666666663, 4.666666666666667, 0.71999999999999997, 0.20000000000000001), 5.718425273895264], 7.089315086603165, 9.230747640132904], [[(6.8666666666666663, 4.666666666666667, 0.71999999999999997, 0.14999999999999999), 0.0], 5.907762557268143, 8.471583247184753], [[(6.8666666666666663, 4.666666666666667, 0.71999999999999997, 0.099999999999999978), 0.0], 5.1200608760118484, 7.712419092655182], [[(6.8666666666666663, 5.333333333333333, 0.67333333333333334, 0.25), 5.718425273895264], 6.616694137454033, 7.953971326351166], [[(6.8666666666666663, 5.333333333333333, 0.67333333333333334, 0.20000000000000001), 0.0], 5.592681959271431, 7.298329472541809], [[(6.8666666666666663, 5.333333333333333, 0.69666666666666666, 0.25), 5.718425273895264], 6.065302923321724, 7.522627979516983], [[(7.0333333333333332, 4.0, 0.62666666666666659, 0.050000000000000003), 0.0], 7.719476491212845, 7.539881646633148], [[(7.0333333333333332, 4.0, 0.67333333333333334, 0.099999999999999978), 0.0], 10.633972644805908, 10.559285163879395], [[(7.0333333333333332, 4.0, 0.69666666666666666, 0.099999999999999978), 0.0], 8.979799091815948, 9.679344654083252], [[(7.0333333333333332, 4.0, 0.71999999999999997, 0.099999999999999978), 0.0], 6.5379239320755005, 8.85116571187973], [[(7.0333333333333332, 4.666666666666667, 0.57999999999999996, 0.099999999999999978), 11.436850547790527], 10.082581460475922, 10.041673302650452], [[(7.0333333333333332, 4.666666666666667, 0.60333333333333328, 0.099999999999999978), 11.436850547790527], 9.609960496425629, 9.92089706659317], [[(7.0333333333333332, 4.666666666666667, 0.62666666666666659, 0.099999999999999978), 5.718425273895264], 9.058569371700287, 9.713851988315582], [[(7.0333333333333332, 4.666666666666667, 0.64999999999999991, 0.099999999999999978), 5.718425273895264], 8.349637806415558, 9.38603127002716], [[(7.0333333333333332, 4.666666666666667, 0.67333333333333334, 0.25), 0.0], 9.373649895191193, 10.196956753730774], [[(7.0333333333333332, 4.666666666666667, 0.67333333333333334, 0.20000000000000001), 0.0], 8.9010289311409, 10.041673064231873], [[(7.0333333333333332, 4.666666666666667, 0.67333333333333334, 0.14999999999999999), 0.0], 8.19209736585617, 9.800120830535889], [[(7.0333333333333332, 4.666666666666667, 0.67333333333333334, 0.099999999999999978), 0.0], 7.246855437755585, 8.88567304611206], [[(7.0333333333333332, 4.666666666666667, 0.69666666666666666, 0.25), 5.718425273895264], 9.216109573841095, 10.058926939964294], [[(7.0333333333333332, 4.666666666666667, 0.69666666666666666, 0.20000000000000001), 0.0], 7.7982465624809265, 9.35152381658554], [[(7.0333333333333332, 4.666666666666667, 0.69666666666666666, 0.14999999999999999), 0.0], 7.168085277080536, 9.127225160598755], [[(7.0333333333333332, 4.666666666666667, 0.69666666666666666, 0.099999999999999978), 0.0], 6.301613390445709, 8.299045860767365], [[(7.0333333333333332, 4.666666666666667, 0.71999999999999997, 0.25), 5.718425273895264], 7.089315086603165, 9.230747640132904], [[(7.0333333333333332, 4.666666666666667, 0.71999999999999997, 0.20000000000000001), 5.718425273895264], 6.774234443902969, 9.109971523284912], [[(7.0333333333333332, 4.666666666666667, 0.71999999999999997, 0.14999999999999999), 0.0], 5.592681914567947, 8.350807130336761], [[(7.0333333333333332, 4.666666666666667, 0.71999999999999997, 0.099999999999999978), 0.0], 4.804980173707008, 7.626150369644165], [[(7.0333333333333332, 5.333333333333333, 0.67333333333333334, 0.25), 5.718425273895264], 6.616694137454033, 7.884956419467926], [[(7.0333333333333332, 5.333333333333333, 0.67333333333333334, 0.20000000000000001), 0.0], 5.592681959271431, 7.229314565658569], [[(7.1999999999999993, 4.0, 0.67333333333333334, 0.099999999999999978), 0.0], 10.47643232345581, 10.231464147567749], [[(7.1999999999999993, 4.0, 0.69666666666666666, 0.20000000000000001), 0.0], 10.949053347110748, 10.628300130367279], [[(7.1999999999999993, 4.0, 0.69666666666666666, 0.14999999999999999), 0.0], 10.318891942501068, 10.317732870578766], [[(7.1999999999999993, 4.0, 0.69666666666666666, 0.099999999999999978), 0.0], 8.82225877046585, 9.386031210422516], [[(7.1999999999999993, 4.0, 0.71999999999999997, 0.20000000000000001), 0.0], 8.270867645740509, 9.662090837955475], [[(7.1999999999999993, 4.0, 0.71999999999999997, 0.14999999999999999), 0.0], 7.798246681690216, 9.368777453899384], [[(7.1999999999999993, 4.0, 0.71999999999999997, 0.099999999999999978), 0.0], 6.459153741598129, 8.557852029800415], [[(7.1999999999999993, 4.666666666666667, 0.57999999999999996, 0.099999999999999978), 11.436850547790527], 10.003811299800873, 9.800120949745178], [[(7.1999999999999993, 4.666666666666667, 0.60333333333333328, 0.099999999999999978), 11.436850547790527], 9.53119033575058, 9.679344713687897], [[(7.1999999999999993, 4.666666666666667, 0.62666666666666659, 0.099999999999999978), 5.718425273895264], 8.979799211025238, 9.472299873828888], [[(7.1999999999999993, 4.666666666666667, 0.64999999999999991, 0.099999999999999978), 5.718425273895264], 8.349637806415558, 9.144478797912598], [[(7.1999999999999993, 4.666666666666667, 0.67333333333333334, 0.25), 0.0], 9.294879734516144, 9.955404341220856], [[(7.1999999999999993, 4.666666666666667, 0.67333333333333334, 0.20000000000000001), 0.0], 8.82225877046585, 9.8001207113266], [[(7.1999999999999993, 4.666666666666667, 0.67333333333333334, 0.14999999999999999), 0.0], 8.19209736585617, 9.558568596839905], [[(7.1999999999999993, 4.666666666666667, 0.67333333333333334, 0.099999999999999978), 0.0], 7.246855437755585, 8.644120573997498], [[(7.1999999999999993, 4.666666666666667, 0.69666666666666666, 0.25), 5.718425273895264], 9.137339353561401, 9.851882100105286], [[(7.1999999999999993, 4.666666666666667, 0.69666666666666666, 0.20000000000000001), 0.0], 7.719476401805878, 9.144478917121887], [[(7.1999999999999993, 4.666666666666667, 0.69666666666666666, 0.14999999999999999), 0.0], 7.168085277080536, 8.92018038034439], [[(7.1999999999999993, 4.666666666666667, 0.69666666666666666, 0.099999999999999978), 0.0], 6.301613390445709, 8.09200119972229], [[(7.1999999999999993, 4.666666666666667, 0.71999999999999997, 0.25), 5.718425273895264], 7.089315086603165, 9.023702800273895], [[(7.1999999999999993, 4.666666666666667, 0.71999999999999997, 0.20000000000000001), 5.718425273895264], 6.774234443902969, 8.902926623821259], [[(7.1999999999999993, 4.666666666666667, 0.71999999999999997, 0.14999999999999999), 0.0], 5.592681914567947, 8.143762469291687], [[(7.1999999999999993, 4.666666666666667, 0.71999999999999997, 0.099999999999999978), 0.0], 4.804980173707008, 7.419105499982834], [[(7.1999999999999993, 5.333333333333333, 0.67333333333333334, 0.25), 5.718425273895264], 6.616694137454033, 7.712419152259827], [[(7.1999999999999993, 5.333333333333333, 0.67333333333333334, 0.20000000000000001), 5.718425273895264], 6.222843304276466, 7.557135581970215], [[(7.3666666666666663, 4.0, 0.67333333333333334, 0.099999999999999978), 0.0], 9.846270859241486, 9.9899120926857], [[(7.3666666666666663, 4.0, 0.69666666666666666, 0.20000000000000001), 0.0], 10.24012178182602, 10.42125529050827], [[(7.3666666666666663, 4.0, 0.69666666666666666, 0.14999999999999999), 0.0], 9.767500698566437, 10.110688090324402], [[(7.3666666666666663, 4.0, 0.69666666666666666, 0.099999999999999978), 0.0], 8.270867645740509, 9.213493943214417], [[(7.3666666666666663, 4.0, 0.71999999999999997, 0.20000000000000001), 0.0], 7.640706330537796, 9.472299993038177], [[(7.3666666666666663, 4.0, 0.71999999999999997, 0.14999999999999999), 0.0], 7.325625658035278, 9.178986549377441], [[(7.3666666666666663, 4.0, 0.71999999999999997, 0.099999999999999978), 0.0], 5.986532747745514, 8.385314702987671], [[(7.3666666666666663, 4.666666666666667, 0.57999999999999996, 0.099999999999999978), 11.436850547790527], 9.452420145273209, 9.66209089756012], [[(7.3666666666666663, 4.666666666666667, 0.60333333333333328, 0.099999999999999978), 11.436850547790527], 8.97979912161827, 9.541314721107483], [[(7.3666666666666663, 4.666666666666667, 0.62666666666666659, 0.099999999999999978), 5.718425273895264], 8.428407937288284, 9.334270119667053], [[(7.3666666666666663, 4.666666666666667, 0.64999999999999991, 0.099999999999999978), 5.718425273895264], 7.798246592283249, 9.006449162960052], [[(7.3666666666666663, 4.666666666666667, 0.67333333333333334, 0.25), 0.0], 8.664718389511108, 9.765613377094269], [[(7.3666666666666663, 4.666666666666667, 0.67333333333333334, 0.20000000000000001), 0.0], 8.192097425460815, 9.610329747200012], [[(7.3666666666666663, 4.666666666666667, 0.67333333333333334, 0.14999999999999999), 0.0], 7.640706241130829, 9.368777513504028], [[(7.3666666666666663, 4.666666666666667, 0.67333333333333334, 0.099999999999999978), 0.0], 6.695464253425598, 8.506090819835663], [[(7.3666666666666663, 4.666666666666667, 0.69666666666666666, 0.25), 5.718425273895264], 8.585948199033737, 9.713852167129517], [[(7.3666666666666663, 4.666666666666667, 0.69666666666666666, 0.20000000000000001), 0.0], 7.1680852472782135, 9.006449103355408], [[(7.3666666666666663, 4.666666666666667, 0.69666666666666666, 0.14999999999999999), 0.0], 6.695464253425598, 8.782150447368622], [[(7.3666666666666663, 4.666666666666667, 0.69666666666666666, 0.099999999999999978), 0.0], 5.828992381691933, 7.98847883939743], [[(7.3666666666666663, 4.666666666666667, 0.71999999999999997, 0.25), 5.718425273895264], 6.537923917174339, 8.902926743030548], [[(7.3666666666666663, 4.666666666666667, 0.71999999999999997, 0.20000000000000001), 5.718425273895264], 6.222843244671822, 8.782150506973267], [[(7.3666666666666663, 4.666666666666667, 0.71999999999999997, 0.14999999999999999), 0.0], 5.120060905814171, 8.02298617362976], [[(7.3666666666666663, 5.333333333333333, 0.67333333333333334, 0.25), 5.718425273895264], 6.301613494753838, 7.591642916202545], [[(7.5333333333333332, 4.0, 0.67333333333333334, 0.099999999999999978), 0.0], 9.609960377216339, 9.834628283977509], [[(7.5333333333333332, 4.0, 0.69666666666666666, 0.20000000000000001), 0.0], 9.925041139125824, 10.300478994846344], [[(7.5333333333333332, 4.0, 0.69666666666666666, 0.14999999999999999), 0.0], 9.452420055866241, 9.989911913871765], [[(7.5333333333333332, 4.0, 0.69666666666666666, 0.099999999999999978), 0.0], 8.034557163715363, 9.09271788597107], [[(7.5333333333333332, 4.0, 0.71999999999999997, 0.20000000000000001), 0.0], 7.325625628232956, 9.35152381658554], [[(7.5333333333333332, 4.0, 0.71999999999999997, 0.14999999999999999), 0.0], 7.010544955730438, 9.058210372924805], [[(7.5333333333333332, 4.0, 0.71999999999999997, 0.099999999999999978), 0.0], 5.750222206115723, 8.264538526535034], [[(7.5333333333333332, 4.666666666666667, 0.57999999999999996, 0.099999999999999978), 11.436850547790527], 9.294879823923111, 9.541314840316772], [[(7.5333333333333332, 4.666666666666667, 0.60333333333333328, 0.099999999999999978), 11.436850547790527], 8.901028960943222, 9.420538663864136], [[(7.5333333333333332, 4.666666666666667, 0.62666666666666659, 0.099999999999999978), 5.718425273895264], 8.349637776613235, 9.213493824005127], [[(7.5333333333333332, 4.666666666666667, 0.64999999999999991, 0.099999999999999978), 5.718425273895264], 7.7194764316082, 8.885672986507416], [[(7.5333333333333332, 4.666666666666667, 0.67333333333333334, 0.25), 0.0], 8.507178038358688, 9.62758332490921], [[(7.5333333333333332, 4.666666666666667, 0.67333333333333334, 0.20000000000000001), 0.0], 8.034557074308395, 9.489553570747375], [[(7.5333333333333332, 4.666666666666667, 0.67333333333333334, 0.14999999999999999), 0.0], 7.483165889978409, 9.248001456260681], [[(7.5333333333333332, 4.666666666666667, 0.67333333333333334, 0.099999999999999978), 0.0], 6.616694092750549, 8.38531482219696], [[(7.5333333333333332, 4.666666666666667, 0.69666666666666666, 0.25), 5.718425273895264], 8.42840787768364, 9.575822234153748], [[(7.5333333333333332, 4.666666666666667, 0.69666666666666666, 0.20000000000000001), 0.0], 7.010544925928116, 8.885672926902771], [[(7.5333333333333332, 4.666666666666667, 0.69666666666666666, 0.14999999999999999), 0.0], 6.5379239320755005, 8.661374270915985], [[(7.5333333333333332, 4.666666666666667, 0.69666666666666666, 0.099999999999999978), 0.0], 5.750222221016884, 7.867702662944794], [[(7.5333333333333332, 4.666666666666667, 0.71999999999999997, 0.25), 5.718425273895264], 6.380383588373661, 8.782150506973267], [[(7.5333333333333332, 4.666666666666667, 0.71999999999999997, 0.20000000000000001), 5.718425273895264], 6.065302915871143, 8.661374390125275], [[(7.5333333333333332, 4.666666666666667, 0.71999999999999997, 0.14999999999999999), 0.0], 4.962520577013493, 7.902209937572479], [[(7.5333333333333332, 5.333333333333333, 0.67333333333333334, 0.25), 5.718425273895264], 6.301613494753838, 7.539881706237793], [[(7.6999999999999993, 4.0, 0.67333333333333334, 0.099999999999999978), 0.0], 8.979799091815948, 9.48955363035202], [[(7.6999999999999993, 4.0, 0.69666666666666666, 0.20000000000000001), 0.0], 9.373649954795837, 9.972658276557922], [[(7.6999999999999993, 4.0, 0.69666666666666666, 0.14999999999999999), 0.0], 8.901028901338577, 9.679344654083252], [[(7.6999999999999993, 4.0, 0.69666666666666666, 0.099999999999999978), 0.0], 7.561936169862747, 8.782150626182556], [[(7.6999999999999993, 4.0, 0.71999999999999997, 0.20000000000000001), 0.0], 7.010544955730438, 9.075464010238647], [[(7.6999999999999993, 4.0, 0.71999999999999997, 0.14999999999999999), 0.0], 6.695464268326759, 8.782150447368622], [[(7.6999999999999993, 4.0, 0.71999999999999997, 0.099999999999999978), 0.0], 5.435141548514366, 7.988478779792786], [[(7.6999999999999993, 4.666666666666667, 0.57999999999999996, 0.099999999999999978), 11.436850547790527], 8.74348857998848, 9.299762487411499], [[(7.6999999999999993, 4.666666666666667, 0.60333333333333328, 0.099999999999999978), 11.436850547790527], 8.349637776613235, 9.178986310958862], [[(7.6999999999999993, 4.666666666666667, 0.62666666666666659, 0.099999999999999978), 5.718425273895264], 7.798246592283249, 8.971941828727722], [[(7.6999999999999993, 4.666666666666667, 0.64999999999999991, 0.099999999999999978), 5.718425273895264], 7.168085217475891, 8.644120693206787], [[(7.6999999999999993, 4.666666666666667, 0.67333333333333334, 0.25), 0.0], 8.034557074308395, 9.386031210422516], [[(7.6999999999999993, 4.666666666666667, 0.67333333333333334, 0.20000000000000001), 0.0], 7.561936110258102, 9.248001515865326], [[(7.6999999999999993, 4.666666666666667, 0.67333333333333334, 0.14999999999999999), 0.0], 7.0105448961257935, 9.006449162960052], [[(7.6999999999999993, 4.666666666666667, 0.67333333333333334, 0.099999999999999978), 0.0], 6.144073039293289, 8.143762409687042], [[(7.6999999999999993, 4.666666666666667, 0.69666666666666666, 0.25), 5.718425273895264], 8.113327220082283, 9.334269940853119], [[(7.6999999999999993, 4.666666666666667, 0.69666666666666666, 0.20000000000000001), 0.0], 6.695464268326759, 8.66137444972992], [[(7.6999999999999993, 4.666666666666667, 0.69666666666666666, 0.14999999999999999), 0.0], 6.222843274474144, 8.437075793743134], [[(7.6999999999999993, 4.666666666666667, 0.69666666666666666, 0.099999999999999978), 0.0], 5.4351415783166885, 7.643404066562653], [[(7.6999999999999993, 4.666666666666667, 0.71999999999999997, 0.25), 5.718425273895264], 6.144073106348515, 8.575105726718903], [[(7.6999999999999993, 4.666666666666667, 0.71999999999999997, 0.20000000000000001), 5.718425273895264], 5.8289924040436745, 8.45432960987091], [[(7.6999999999999993, 4.666666666666667, 0.71999999999999997, 0.14999999999999999), 0.0], 4.726210080087185, 7.712419092655182], [[(7.8666666666666663, 4.0, 0.67333333333333334, 0.099999999999999978), 0.0], 8.507178127765656, 9.092717707157135], [[(7.8666666666666663, 4.0, 0.69666666666666666, 0.20000000000000001), 0.0], 8.9010289311409, 9.541314721107483], [[(7.8666666666666663, 4.0, 0.69666666666666666, 0.14999999999999999), 0.0], 8.42840787768364, 9.282508909702301], [[(7.8666666666666663, 4.0, 0.69666666666666666, 0.099999999999999978), 0.0], 7.089315116405487, 8.385314583778381], [[(7.8666666666666663, 4.0, 0.71999999999999997, 0.20000000000000001), 0.0], 6.616694062948227, 8.695881962776184], [[(7.8666666666666663, 4.0, 0.71999999999999997, 0.14999999999999999), 0.0], 6.30161340534687, 8.437075853347778], [[(7.8666666666666663, 4.0, 0.71999999999999997, 0.099999999999999978), 0.0], 5.041290685534477, 7.643404185771942], [[(7.8666666666666663, 4.666666666666667, 0.57999999999999996, 0.099999999999999978), 11.436850547790527], 8.507178097963333, 8.937434136867523], [[(7.8666666666666663, 4.666666666666667, 0.60333333333333328, 0.099999999999999978), 11.436850547790527], 8.113327294588089, 8.816658020019531], [[(7.8666666666666663, 4.666666666666667, 0.62666666666666659, 0.099999999999999978), 5.718425273895264], 7.561936050653458, 8.609613180160522], [[(7.8666666666666663, 4.666666666666667, 0.64999999999999991, 0.099999999999999978), 5.718425273895264], 6.931774735450745, 8.281792342662811], [[(7.8666666666666663, 4.666666666666667, 0.67333333333333334, 0.25), 0.0], 7.798246592283249, 9.02370285987854], [[(7.8666666666666663, 4.666666666666667, 0.67333333333333334, 0.20000000000000001), 0.0], 7.325625628232956, 8.88567304611206], [[(7.8666666666666663, 4.666666666666667, 0.67333333333333334, 0.14999999999999999), 0.0], 6.774234384298325, 8.678628206253052], [[(7.8666666666666663, 4.666666666666667, 0.67333333333333334, 0.099999999999999978), 0.0], 5.90776252746582, 7.815941512584686], [[(7.8666666666666663, 4.666666666666667, 0.69666666666666666, 0.25), 5.718425273895264], 7.798246577382088, 8.971941649913788], [[(7.8666666666666663, 4.666666666666667, 0.69666666666666666, 0.20000000000000001), 5.718425273895264], 7.325625613331795, 8.833911716938019], [[(7.8666666666666663, 4.666666666666667, 0.69666666666666666, 0.14999999999999999), 0.0], 5.986532762646675, 8.109254896640778], [[(7.8666666666666663, 4.666666666666667, 0.69666666666666666, 0.099999999999999978), 0.0], 5.19883106648922, 7.315583169460297], [[(7.8666666666666663, 4.666666666666667, 0.71999999999999997, 0.25), 5.718425273895264], 5.907762564718723, 8.247284889221191], [[(7.8666666666666663, 4.666666666666667, 0.71999999999999997, 0.20000000000000001), 5.718425273895264], 5.592681892216206, 8.126508712768555], [[(7.8666666666666663, 4.666666666666667, 0.71999999999999997, 0.14999999999999999), 0.0], 4.568669728934765, 7.419105589389801], [[(8.0333333333333332, 4.0, 0.67333333333333334, 0.099999999999999978), 0.0], 8.192097455263138, 8.954687774181366], [[(8.0333333333333332, 4.0, 0.69666666666666666, 0.20000000000000001), 0.0], 8.585948288440704, 9.386031329631805], [[(8.0333333333333332, 4.0, 0.69666666666666666, 0.14999999999999999), 0.0], 8.113327234983444, 9.144478976726532], [[(8.0333333333333332, 4.0, 0.69666666666666666, 0.099999999999999978), 0.0], 6.931774795055389, 8.247284829616547], [[(8.0333333333333332, 4.0, 0.71999999999999997, 0.20000000000000001), 0.0], 6.3803835809230804, 8.540598332881927], [[(8.0333333333333332, 4.0, 0.71999999999999997, 0.14999999999999999), 0.0], 6.065302923321724, 8.299046039581299], [[(8.0333333333333332, 4.0, 0.71999999999999997, 0.099999999999999978), 0.0], 4.88375036418438, 7.505374252796173], [[(8.0333333333333332, 4.666666666666667, 0.57999999999999996, 0.099999999999999978), 11.436850547790527], 8.428407937288284, 8.816658020019531], [[(8.0333333333333332, 4.666666666666667, 0.60333333333333328, 0.099999999999999978), 11.436850547790527], 8.034557074308395, 8.695881962776184], [[(8.0333333333333332, 4.666666666666667, 0.62666666666666659, 0.099999999999999978), 5.718425273895264], 7.483165889978409, 8.488837242126465], [[(8.0333333333333332, 4.666666666666667, 0.64999999999999991, 0.099999999999999978), 5.718425273895264], 6.853004574775696, 8.178269863128662], [[(8.0333333333333332, 4.666666666666667, 0.67333333333333334, 0.25), 0.0], 7.561936110258102, 8.902926802635193], [[(8.0333333333333332, 4.666666666666667, 0.67333333333333334, 0.20000000000000001), 0.0], 7.168085306882858, 8.764896869659424], [[(8.0333333333333332, 4.666666666666667, 0.67333333333333334, 0.14999999999999999), 0.0], 6.616694062948227, 8.575105726718903], [[(8.0333333333333332, 4.666666666666667, 0.67333333333333334, 0.099999999999999978), 0.0], 5.8289923667907715, 7.712419092655182], [[(8.0333333333333332, 4.666666666666667, 0.69666666666666666, 0.25), 5.718425273895264], 7.561936095356941, 8.816658020019531], [[(8.0333333333333332, 4.666666666666667, 0.69666666666666666, 0.20000000000000001), 0.0], 6.301613464951515, 8.178269684314728], [[(8.0333333333333332, 4.666666666666667, 0.69666666666666666, 0.14999999999999999), 0.0], 5.8289924412965775, 8.005732536315918], [[(8.0333333333333332, 4.666666666666667, 0.71999999999999997, 0.25), 5.718425273895264], 5.750222243368626, 8.092001169919968], [[(8.0333333333333332, 4.666666666666667, 0.71999999999999997, 0.20000000000000001), 5.718425273895264], 5.513911731541157, 7.971224993467331], [[(8.0333333333333332, 4.666666666666667, 0.71999999999999997, 0.14999999999999999), 0.0], 4.489899568259716, 7.315583229064941], [[(8.1999999999999993, 4.0, 0.67333333333333334, 0.099999999999999978), 0.0], 8.113327294588089, 8.799404203891754], [[(8.1999999999999993, 4.0, 0.69666666666666666, 0.20000000000000001), 0.0], 8.507178127765656, 9.213493883609772], [[(8.1999999999999993, 4.0, 0.69666666666666666, 0.14999999999999999), 0.0], 8.034557074308395, 8.971941649913788], [[(8.1999999999999993, 4.0, 0.69666666666666666, 0.099999999999999978), 0.0], 6.853004604578018, 8.109255015850067], [[(8.1999999999999993, 4.0, 0.71999999999999997, 0.20000000000000001), 0.0], 6.3803835809230804, 8.368061065673828], [[(8.1999999999999993, 4.0, 0.71999999999999997, 0.14999999999999999), 0.0], 6.065302923321724, 8.126508712768555], [[(8.1999999999999993, 4.666666666666667, 0.57999999999999996, 0.099999999999999978), 11.436850547790527], 8.428407937288284, 8.730389416217804], [[(8.1999999999999993, 4.666666666666667, 0.60333333333333328, 0.099999999999999978), 11.436850547790527], 8.034557074308395, 8.609613299369812], [[(8.1999999999999993, 4.666666666666667, 0.62666666666666659, 0.099999999999999978), 5.718425273895264], 7.483165889978409, 8.402568459510803], [[(8.1999999999999993, 4.666666666666667, 0.64999999999999991, 0.099999999999999978), 5.718425273895264], 6.853004574775696, 8.092001080513], [[(8.1999999999999993, 4.666666666666667, 0.67333333333333334, 0.25), 0.0], 7.561936110258102, 8.799404263496399], [[(8.1999999999999993, 4.666666666666667, 0.67333333333333334, 0.20000000000000001), 0.0], 7.168085306882858, 8.66137433052063], [[(8.1999999999999993, 4.666666666666667, 0.67333333333333334, 0.14999999999999999), 0.0], 6.616694062948227, 8.471583425998688], [[(8.1999999999999993, 4.666666666666667, 0.67333333333333334, 0.099999999999999978), 0.0], 5.8289923667907715, 7.626150369644165], [[(8.1999999999999993, 4.666666666666667, 0.69666666666666666, 0.25), 5.718425273895264], 7.561936095356941, 8.713135719299316], [[(8.1999999999999993, 4.666666666666667, 0.69666666666666666, 0.20000000000000001), 0.0], 6.301613464951515, 8.074747383594513], [[(8.1999999999999993, 4.666666666666667, 0.69666666666666666, 0.14999999999999999), 0.0], 5.8289924412965775, 7.902210116386414], [[(8.1999999999999993, 4.666666666666667, 0.71999999999999997, 0.25), 5.718425273895264], 5.750222243368626, 7.988478809595108], [[(8.1999999999999993, 4.666666666666667, 0.71999999999999997, 0.20000000000000001), 5.718425273895264], 5.513911731541157, 7.867702692747116]]"
       ]
      },
      {
       "output_type": "stream",
       "stream": "stdout",
       "text": [
        "\n"
       ]
      }
     ],
     "prompt_number": 3
    },
    {
     "cell_type": "code",
     "collapsed": false,
     "input": [
      "#Finding best cuts\n",
      "SoB=np.array(SoB); QCD_B=np.array(QCD_B)\n",
      "FullDiscr=SoB-QCD_B\n",
      "print \"Maximum S/B\", max(SoB), SoB.argmax(), CutsValues[SoB.argmax()]\n",
      "print \"Minimum QCD\", min(QCD_B), QCD_B.argmin(), CutsValues[QCD_B.argmax()]\n",
      "print \"Maximum S/B considering QCD\", max(FullDiscr), FullDiscr.argmax(), CutsValues[FullDiscr.argmax()]"
     ],
     "language": "python",
     "metadata": {},
     "outputs": [
      {
       "output_type": "stream",
       "stream": "stdout",
       "text": [
        "Maximum S/B 1.63184009216 208 (7.6999999999999993, 4.666666666666667, 0.71999999999999997, 0.14999999999999999)\n",
        "Minimum QCD 0.0 61 (6.2000000000000002, 4.0, 0.62666666666666659, 0.050000000000000003)\n",
        "Maximum S/B considering QCD 1.58713461741 113 (7.0333333333333332, 4.666666666666667, 0.71999999999999997, 0.099999999999999978)\n"
       ]
      }
     ],
     "prompt_number": 4
    },
    {
     "cell_type": "code",
     "collapsed": false,
     "input": [
      "CutM2HPCLs=ROOT.TCut(\"M2HP>7.0\")\n",
      "CutRelHTCLs=ROOT.TCut(\"RelHT>=0.72\") #\"TMath::Abs(Eta6thJ)>\",\n",
      "CutDRTp6thJCLs=ROOT.TCut(\"DRTp6thJ>4.7\")\n",
      "Eta6thJCLs=ROOT.TCut(\"TMath::Abs(Eta6thJ)>1.0\")\n",
      "CutMTHAsymCLs=ROOT.TCut(\"MTHAsym>=(0.18-0.1) && MTHAsym<=(0.18+0.1)\")\n",
      "CutsFromCLs=[ROOT.TCut(\"\"),HTCut,CutDRbb,CutDRWH,CutM2HPCLs,CutDRTp6thJCLs,CutHM,CutRelHTCLs,CutMTHAsymCLs]\n",
      "#CutsFromCLs=[ROOT.TCut(\"\"),Cut1,CutDRbb,CutDRWH,CutM2HPCLs,Eta6thJCLs,CutHM,CutRelHTCLs,CutMTHAsymCLs]\n",
      "\n",
      "OptVersion=\"_whitout_chi2_\"\n",
      "\n",
      "CumulCut=ROOT.TCut(\"\")\n",
      "\n",
      "Nm1 = ROOT.TFile(\"Nminus1_HTg630_\"+OptVersion+\".root\", \"recreate\")\n",
      "\n",
      "SignalEntriesE=[]; TTbarEntriesE=[]; QCDEntriesE=[]\n",
      "S=[]; B=[]\n",
      "\n",
      "PDFName=\"Nminus1_HTg630_\"+OptVersion+\".pdf\"\n",
      "CurCanv = rootnotes.canvas(\"MyPlot\", (600, 800))\n",
      "Titles=[\"Base\",\"HT\", \"DRbb\", \"DRWH\", \"M2HP\", \"DRTp6thJ\", \"HiggsMass\", \"RelHT\", \"MTHAsym\"]\n",
      "\n",
      "BinsLimits=\"(120,400,1600)\"\n",
      "\n",
      "for i in xrange(len(CutsFromCLs)):\n",
      "    CumulCut=CumulCut*CutsFromCLs[i]\n",
      "    \n",
      "    NMassPointsA[2].Draw(\"M5J >> M5jS_Cut\"+str(i)+BinsLimits,CumulCut)\n",
      "    M5JHS=ROOT.gDirectory.Get(\"M5jS_Cut\"+str(i))\n",
      "    M5JHS.Sumw2(); M5JHS.Scale(SWeight); M5JHS.Write()\n",
      "               \n",
      "    f1=ROOT.TF1(\"f1\",\"gaus\",600,800)\n",
      "    M5JHS.Fit(\"f1\",\"LMR\",\"same\")\n",
      "    MassPoint=f1.GetParameter(1); win=f1.GetParameter(2)\n",
      "    Chi2=f1.GetChisquare(); NDF=f1.GetNDF()\n",
      "    window_error=ROOT.Double(0.)\n",
      "    integral=M5JHS.IntegralAndError(M5JHS.GetXaxis().FindBin(MassPoint-win),M5JHS.GetXaxis().FindBin(MassPoint+win),window_error)\n",
      "    S.append(integral)\n",
      "        \n",
      "    TntupleA.Draw(\"M5J >> M5jT_Cut\"+str(i)+BinsLimits,CumulCut)\n",
      "    M5JHT=ROOT.gDirectory.Get(\"M5jT_Cut\"+str(i))\n",
      "    M5JHT.Sumw2(); M5JHT.Scale(TWeight); M5JHT.Write()\n",
      "                \n",
      "    bkg_integralT=M5JHT.IntegralAndError(M5JHT.GetXaxis().FindBin(MassPoint-win),M5JHT.GetXaxis().FindBin(MassPoint+win),window_error)\n",
      "        \n",
      "    QntuplesA[0].Draw(\"M5J >> M5jQ_Cut\"+str(i)+BinsLimits,CumulCut)\n",
      "    M5JHQ=ROOT.gDirectory.Get(\"M5jQ_Cut\"+str(i))\n",
      "    M5JHQ.Sumw2(); M5JHQ.Scale(Q500Weight); M5JHQ.Write()\n",
      "    \n",
      "    bkg_integralQ=M5JHQ.IntegralAndError(M5JHQ.GetXaxis().FindBin(MassPoint-win),M5JHQ.GetXaxis().FindBin(MassPoint+win),window_error)\n",
      "    B.append(bkg_integralT+bkg_integralQ)\n",
      "        \n",
      "    M5JHQ.SetStats(ROOT.kFALSE)\n",
      "    M5JHQ.SetLineStyle(7); M5JHT.SetLineStyle(9); M5JHS.SetLineStyle(1)\n",
      "    M5JHQ.SetLineWidth(2); M5JHT.SetLineWidth(1); M5JHS.SetLineWidth(3)\n",
      "    M5JHQ.SetLineColor(ROOT.kViolet+1); M5JHT.SetLineColor(ROOT.kRed); M5JHS.SetLineColor(ROOT.kGreen+1)\n",
      "    LEG=ROOT.TLegend(0.6,0.6,0.8,0.8)\n",
      "    LEG.AddEntry(M5JHQ, \"QCD\", \"l\"); LEG.AddEntry(M5JHT, \"TTbar\", \"l\"); LEG.AddEntry(M5JHS, \"Signal\", \"l\")\n",
      "    LEG.SetFillColor(0);\n",
      "    M5JHQ.Draw(\"hist\"); M5JHT.Draw(\"hist same\"); M5JHS.Draw(\"hist same\"); LEG.Draw()\n",
      "    \n",
      "    if i==0: CurCanv.Print(PDFName+\"(\",\"Title:\"+Titles[i])\n",
      "    elif i<=len(CutsFromCLs)-2 and i>0: CurCanv.Print(PDFName,\"Title:\"+Titles[i])\n",
      "    else: CurCanv.Print(PDFName+\")\",\"Title:\"+Titles[i])\n",
      "    \n",
      "    SignalEntriesE.append(M5JHS.GetEntries()); TTbarEntriesE.append(M5JHT.GetEntries()); QCDEntriesE.append(M5JHQ.GetEntries())\n",
      "\n",
      "Nm1.Close()\n",
      "\n",
      "print \"--------------------------------------------------\"\n",
      "print \"------------------Efficiencies--------------------\"\n",
      "print \"--------Signal------TTbar-------QCD---------------\"\n",
      "    \n",
      "for i in xrange(len(TTbarEntriesE)-1):\n",
      "    print \"Cut\"+str(i+1)+\":    {0:.2f}      {1:.2f}      {2:.2f}\".format(100*SignalEntriesE[i+1]/SignalEntriesE[i], \n",
      "                                           100*TTbarEntriesE[i+1]/TTbarEntriesE[i],\n",
      "                                           100*QCDEntriesE[i+1]/QCDEntriesE[i]) \n",
      "\n",
      "print \"--------------------------------------------------\"\n",
      "print \"-------------------Estimators---------------------\"\n",
      "print \"-----------S/B----------S/sqrt(S/B)---------------\"\n",
      "\n",
      "for i in xrange(len(TTbarEntriesE)):\n",
      "    print \"Cut\"+str(i+1)+\":     {0:.3f}           {1:.3f}\".format(S[i]/B[i],\n",
      "                                           S[i]/np.array(S[i]+B[i]))\n",
      "\n",
      "print \"--------------------------------------------------\"\n",
      "print \"---------------------Yields-----------------------\"\n",
      "print \"--------Signal------TTbar-------QCD---------------\"\n",
      "\n",
      "for i in xrange(len(TTbarEntriesE)):\n",
      "    print \"Cut\"+str(i+1)+\":    {0:.2f}      {1:.2f}      {2:.2f}\".format(SignalEntriesE[i]*SWeight, \n",
      "                                           TTbarEntriesE[i]*TWeight,\n",
      "                                           QCDEntriesE[i]*Q500Weight) "
     ],
     "language": "python",
     "metadata": {},
     "outputs": [
      {
       "output_type": "stream",
       "stream": "stdout",
       "text": [
        "--------------------------------------------------\n",
        "------------------Efficiencies--------------------\n",
        "--------Signal------TTbar-------QCD---------------\n",
        "Cut1:    92.28      84.87      86.65\n",
        "Cut2:    79.97      35.07      31.95\n",
        "Cut3:    94.26      84.40      80.04\n",
        "Cut4:    63.06      35.70      57.92\n",
        "Cut5:    54.47      10.87      9.72\n",
        "Cut6:    81.81      46.91      28.57\n",
        "Cut7:    69.42      35.93      23.08\n",
        "Cut8:    80.00      66.10      0.00\n",
        "--------------------------------------------------\n",
        "-------------------Estimators---------------------\n",
        "-----------S/B----------S/sqrt(S/B)---------------\n",
        "Cut1:     0.005           0.005\n",
        "Cut2:     0.006           0.006\n",
        "Cut3:     0.013           0.013\n",
        "Cut4:     0.014           0.014\n",
        "Cut5:     0.021           0.021\n",
        "Cut6:     0.102           0.092\n",
        "Cut7:     0.221           0.181\n",
        "Cut8:     0.380           0.275\n",
        "Cut9:     1.580           0.612\n",
        "--------------------------------------------------\n",
        "---------------------Yields-----------------------\n",
        "--------Signal------TTbar-------QCD---------------\n",
        "Cut1:    94.08      14139.95      41710.20\n",
        "Cut2:    86.82      12000.24      36140.45\n",
        "Cut3:    69.43      4208.45      11545.50\n",
        "Cut4:    65.44      3551.75      9240.98\n",
        "Cut5:    41.27      1268.04      5352.45\n",
        "Cut6:    22.48      137.85      520.38\n",
        "Cut7:    18.39      64.67      148.68\n",
        "Cut8:    12.77      23.24      34.31\n",
        "Cut9:    10.21      15.36      0.00\n"
       ]
      }
     ],
     "prompt_number": 4
    },
    {
     "cell_type": "heading",
     "level": 2,
     "metadata": {},
     "source": [
      "HT Cut Study"
     ]
    },
    {
     "cell_type": "code",
     "collapsed": false,
     "input": [
      "#HT CUT at the end of selection\n",
      "HTCut = ROOT.TCut(\"THT>630\") #Cut on HT\n",
      "\n",
      "CutsFromCLs=[ROOT.TCut(\"\"),CutDRbb,CutDRWH,CutM2HPCLs,CutDRTp6thJCLs,CutHM,CutRelHTCLs,CutMTHAsymCLs,HTCut]\n",
      "\n",
      "OptVersion=\"_whitout_chi2_\"\n",
      "\n",
      "CumulCut=ROOT.TCut(\"\")\n",
      "\n",
      "SignalEntriesE=[]; TTbarEntriesE=[]; QCDEntriesE=[]\n",
      "S=[]; B=[]\n",
      "\n",
      "PDFName=\"Nminus1_HTg630_AtTheEnd_\"+OptVersion+\".pdf\"\n",
      "CurCanv = rootnotes.canvas(\"MyPlot\", (600, 800))\n",
      "Titles=[\"Base\", \"DRbb\", \"DRWH\", \"M2HP\", \"DRTp6thJ\", \"HiggsMass\", \"RelHT\", \"MTHAsym\",\"HT\"]\n",
      "\n",
      "BinsLimits=\"(120,400,1600)\"\n",
      "\n",
      "for i in xrange(len(CutsFromCLs)):\n",
      "    CumulCut=CumulCut*CutsFromCLs[i]\n",
      "    \n",
      "    NMassPointsA[2].Draw(\"M5J >> M5jS_Cut\"+str(i)+BinsLimits,CumulCut)\n",
      "    M5JHS=ROOT.gDirectory.Get(\"M5jS_Cut\"+str(i))\n",
      "    M5JHS.Sumw2(); M5JHS.Scale(SWeight)\n",
      "               \n",
      "    f1=ROOT.TF1(\"f1\",\"gaus\",600,800)\n",
      "    M5JHS.Fit(\"f1\",\"LMR\",\"same\")\n",
      "    MassPoint=f1.GetParameter(1); win=f1.GetParameter(2)\n",
      "    Chi2=f1.GetChisquare(); NDF=f1.GetNDF()\n",
      "    window_error=ROOT.Double(0.)\n",
      "    integral=M5JHS.IntegralAndError(M5JHS.GetXaxis().FindBin(MassPoint-win),M5JHS.GetXaxis().FindBin(MassPoint+win),window_error)\n",
      "    S.append(integral)\n",
      "        \n",
      "    TntupleA.Draw(\"M5J >> M5jT_Cut\"+str(i)+BinsLimits,CumulCut)\n",
      "    M5JHT=ROOT.gDirectory.Get(\"M5jT_Cut\"+str(i))\n",
      "    M5JHT.Sumw2(); M5JHT.Scale(TWeight)\n",
      "                \n",
      "    bkg_integralT=M5JHT.IntegralAndError(M5JHT.GetXaxis().FindBin(MassPoint-win),M5JHT.GetXaxis().FindBin(MassPoint+win),window_error)\n",
      "        \n",
      "    QntuplesA[0].Draw(\"M5J >> M5jQ_Cut\"+str(i)+BinsLimits,CumulCut)\n",
      "    M5JHQ=ROOT.gDirectory.Get(\"M5jQ_Cut\"+str(i))\n",
      "    M5JHQ.Sumw2(); M5JHQ.Scale(Q500Weight)\n",
      "    \n",
      "    bkg_integralQ=M5JHQ.IntegralAndError(M5JHQ.GetXaxis().FindBin(MassPoint-win),M5JHQ.GetXaxis().FindBin(MassPoint+win),window_error)\n",
      "    B.append(bkg_integralT+bkg_integralQ)\n",
      "        \n",
      "    M5JHQ.SetStats(ROOT.kFALSE)\n",
      "    M5JHQ.SetLineStyle(7); M5JHT.SetLineStyle(9); M5JHS.SetLineStyle(1)\n",
      "    M5JHQ.SetLineWidth(2); M5JHT.SetLineWidth(1); M5JHS.SetLineWidth(3)\n",
      "    M5JHQ.SetLineColor(ROOT.kViolet+1); M5JHT.SetLineColor(ROOT.kRed); M5JHS.SetLineColor(ROOT.kGreen+1)\n",
      "    LEG=ROOT.TLegend(0.6,0.6,0.8,0.8)\n",
      "    LEG.AddEntry(M5JHQ, \"QCD\", \"l\"); LEG.AddEntry(M5JHT, \"TTbar\", \"l\"); LEG.AddEntry(M5JHS, \"Signal\", \"l\")\n",
      "    LEG.SetFillColor(0);\n",
      "    M5JHQ.Draw(\"hist\"); M5JHT.Draw(\"hist same\"); M5JHS.Draw(\"hist same\"); LEG.Draw()\n",
      "    \n",
      "    if i==0: CurCanv.Print(PDFName+\"(\",\"Title:\"+Titles[i])\n",
      "    elif i<=len(CutsFromCLs)-2 and i>0: CurCanv.Print(PDFName,\"Title:\"+Titles[i])\n",
      "    else: CurCanv.Print(PDFName+\")\",\"Title:\"+Titles[i])\n",
      "    \n",
      "    SignalEntriesE.append(M5JHS.GetEntries()); TTbarEntriesE.append(M5JHT.GetEntries()); QCDEntriesE.append(M5JHQ.GetEntries())\n",
      "    del(M5JHS); del(M5JHT); del(M5JHQ); del(LEG)\n",
      "del(CurCanv)\n",
      "    \n",
      "print \"--------------------------------------------------\"\n",
      "print \"------------------Efficiencies--------------------\"\n",
      "print \"--------Signal------TTbar-------QCD---------------\"\n",
      "    \n",
      "for i in xrange(len(TTbarEntriesE)-1):\n",
      "    print \"Cut\"+str(i+1)+\":    {0:.2f}      {1:.2f}      {2:.2f}\".format(100*SignalEntriesE[i+1]/SignalEntriesE[i], \n",
      "                                           100*TTbarEntriesE[i+1]/TTbarEntriesE[i],\n",
      "                                           100*QCDEntriesE[i+1]/QCDEntriesE[i]) \n",
      "\n",
      "print \"--------------------------------------------------\"\n",
      "print \"-------------------Estimators---------------------\"\n",
      "print \"-----------S/B----------S/sqrt(S/B)---------------\"\n",
      "\n",
      "for i in xrange(len(TTbarEntriesE)):\n",
      "    print \"Cut\"+str(i+1)+\":     {0:.3f}           {1:.3f}\".format(S[i]/B[i],\n",
      "                                           S[i]/np.array(S[i]+B[i]))\n",
      "\n",
      "print \"--------------------------------------------------\"\n",
      "print \"---------------------Yields-----------------------\"\n",
      "print \"--------Signal------TTbar-------QCD---------------\"\n",
      "\n",
      "for i in xrange(len(TTbarEntriesE)):\n",
      "    print \"Cut\"+str(i+1)+\":    {0:.2f}      {1:.2f}      {2:.2f}\".format(SignalEntriesE[i]*SWeight, \n",
      "                                           TTbarEntriesE[i]*TWeight,\n",
      "                                           QCDEntriesE[i]*Q500Weight) \n",
      "#Plotting HT cut per cut\n",
      "CumulCut=ROOT.TCut(\"\")\n",
      "\n",
      "PDFName=\"Nminus1_HT_HTg630_AtTheEnd_\"+OptVersion+\".pdf\"\n",
      "CurCanv = rootnotes.canvas(\"MyPlot\", (600, 800))\n",
      "\n",
      "BinsLimits=\"(120,400,1600)\"\n",
      "\n",
      "for i in xrange(len(CutsFromCLs)):\n",
      "    CumulCut=CumulCut*CutsFromCLs[i]\n",
      "    \n",
      "    NMassPointsA[2].Draw(\"THT >> THTS_Cut\"+str(i)+BinsLimits,CumulCut)\n",
      "    M5JHS=ROOT.gDirectory.Get(\"THTS_Cut\"+str(i))\n",
      "    M5JHS.Sumw2(); M5JHS.Scale(SWeight)\n",
      "        \n",
      "    TntupleA.Draw(\"THT >> THTT_Cut\"+str(i)+BinsLimits,CumulCut)\n",
      "    M5JHT=ROOT.gDirectory.Get(\"THTT_Cut\"+str(i))\n",
      "    M5JHT.Sumw2(); M5JHT.Scale(TWeight)\n",
      "    \n",
      "    QntuplesA[0].Draw(\"THT >> THTQ_Cut\"+str(i)+BinsLimits,CumulCut)\n",
      "    M5JHQ=ROOT.gDirectory.Get(\"THTQ_Cut\"+str(i))\n",
      "    M5JHQ.Sumw2(); M5JHQ.Scale(Q500Weight)\n",
      "            \n",
      "    M5JHQ.SetStats(ROOT.kFALSE)\n",
      "    M5JHQ.SetLineStyle(7); M5JHT.SetLineStyle(9); M5JHS.SetLineStyle(1)\n",
      "    M5JHQ.SetLineWidth(2); M5JHT.SetLineWidth(1); M5JHS.SetLineWidth(3)\n",
      "    M5JHQ.SetLineColor(ROOT.kViolet+1); M5JHT.SetLineColor(ROOT.kRed); M5JHS.SetLineColor(ROOT.kGreen+1)\n",
      "    LEG=ROOT.TLegend(0.6,0.6,0.8,0.8)\n",
      "    LEG.AddEntry(M5JHQ, \"QCD\", \"l\"); LEG.AddEntry(M5JHT, \"TTbar\", \"l\"); LEG.AddEntry(M5JHS, \"Signal\", \"l\")\n",
      "    LEG.SetFillColor(0);\n",
      "    M5JHQ.Draw(\"hist\"); M5JHT.Draw(\"hist same\"); M5JHS.Draw(\"hist same\"); \n",
      "    #ROOT.gPad.SetLogy(); ROOT.gPad.RedrawAxis()\n",
      "    LEG.Draw()\n",
      "    \n",
      "    if i==0: CurCanv.Print(PDFName+\"(\",\"Title:\"+Titles[i])\n",
      "    elif i<=len(CutsFromCLs)-2 and i>0: CurCanv.Print(PDFName,\"Title:\"+Titles[i])\n",
      "    else: CurCanv.Print(PDFName+\")\",\"Title:\"+Titles[i])\n",
      "    del(M5JHS); del(M5JHT); del(M5JHQ); del(LEG)\n",
      "del(CurCanv)\n"
     ],
     "language": "python",
     "metadata": {},
     "outputs": [
      {
       "output_type": "stream",
       "stream": "stdout",
       "text": [
        "--------------------------------------------------\n",
        "------------------Efficiencies--------------------\n",
        "--------Signal------TTbar-------QCD---------------\n",
        "Cut1:    79.52      33.64      31.41\n",
        "Cut2:    94.35      85.13      80.36\n",
        "Cut3:    62.63      33.70      56.60\n",
        "Cut4:    55.58      11.94      10.36\n",
        "Cut5:    80.41      46.21      32.41\n",
        "Cut6:    70.31      38.60      28.57\n",
        "Cut7:    79.63      65.58      20.00\n",
        "Cut8:    92.36      80.58      0.00\n",
        "--------------------------------------------------\n",
        "-------------------Estimators---------------------\n",
        "-----------S/B----------S/sqrt(S/B)---------------\n",
        "Cut1:     0.005           0.005\n",
        "Cut2:     0.013           0.012\n",
        "Cut3:     0.014           0.013\n",
        "Cut4:     0.022           0.021\n",
        "Cut5:     0.093           0.085\n",
        "Cut6:     0.168           0.144\n",
        "Cut7:     0.265           0.210\n",
        "Cut8:     1.458           0.593\n",
        "Cut9:     1.580           0.612\n",
        "--------------------------------------------------\n",
        "---------------------Yields-----------------------\n",
        "--------Signal------TTbar-------QCD---------------\n",
        "Cut1:    94.08      14139.95      41710.20\n",
        "Cut2:    74.81      4756.06      13100.91\n",
        "Cut3:    70.59      4049.02      10527.62\n",
        "Cut4:    44.20      1364.46      5958.60\n",
        "Cut5:    24.57      162.98      617.59\n",
        "Cut6:    19.76      75.30      200.14\n",
        "Cut7:    13.89      29.07      57.18\n",
        "Cut8:    11.06      19.06      11.44\n",
        "Cut9:    10.21      15.36      0.00\n"
       ]
      }
     ],
     "prompt_number": 10
    },
    {
     "cell_type": "code",
     "collapsed": false,
     "input": [
      "#All mass points\n",
      "CurCanv = rootnotes.canvas(\"MyPlot\", (600, 800))\n",
      "    \n",
      "PDFName=\"Nminus1_AllMasses_HTg630_AtTheEnd_\"+OptVersion+\".pdf\"\n",
      "\n",
      "Masses=[600,650,700,750,800,850,900,950,1000]\n",
      "FitWindows=[100,100,100,100,150,150,150,150,150]\n",
      "\n",
      "BinsLimits=\"(40,400,1600)\"\n",
      "\n",
      "for i in xrange(len(Masses)):\n",
      "    CumulCut=ROOT.TCut(\"\")\n",
      "    MassPointsIntSignal=[]; MassPointsFullIntSignal=[]\n",
      "    for j in xrange(len(CutsFromCLs)):\n",
      "        CumulCut=CumulCut*CutsFromCLs[j]\n",
      "        print \"---------------------------------------------\"\n",
      "        NMassPointsA[i].Draw(\"M5J >> M5jS\"+str(Masses[i])+\"_CutF\"+BinsLimits,CumulCut)\n",
      "        M5JHS=ROOT.gDirectory.Get(\"M5jS\"+str(Masses[i])+\"_CutF\")\n",
      "        M5JHS.Sumw2(); M5JHS.Scale(NWeights[i])\n",
      "    \n",
      "        f1=ROOT.TF1(\"f1\",\"gaus\",Masses[i]-FitWindows[i],Masses[i]+FitWindows[i])\n",
      "        M5JHS.Fit(\"f1\",\"LMR\",\"same\")\n",
      "        MassPoint=f1.GetParameter(1); win=f1.GetParameter(2)\n",
      "        MassPointE=f1.GetParError(1); winE=f1.GetParError(2)\n",
      "        Chi2=f1.GetChisquare(); NDF=f1.GetNDF()\n",
      "        window_error=ROOT.Double(0.)\n",
      "        integral=M5JHS.IntegralAndError(M5JHS.GetXaxis().FindBin(MassPoint-win),M5JHS.GetXaxis().FindBin(MassPoint+win),window_error)\n",
      "        print \"M=\"+str(Masses[i])+\" GeV ------> {0:.2f}+-{1:.2f}\".format(integral,window_error)\n",
      "        print \"Mean value: {0:.2f}+-{1:.2f}, with sigma: {2:.2f}+-{3:.2f}\".format(MassPoint,MassPointE,win,winE)\n",
      "        print \"Chi2={0:.2f}, ndf={1:.2f}, Chi2/ndf={2:.2f}\".format(Chi2, NDF, Chi2/NDF)\n",
      "        MassPointsIntSignal.append(integral)\n",
      "        MassPointsFullIntSignal.append(M5JHS.Integral())\n",
      "        \n",
      "        M5JHS.SetStats(ROOT.kFALSE)\n",
      "        M5JHS.SetLineStyle(1)\n",
      "        M5JHS.SetLineWidth(3)\n",
      "        M5JHS.SetLineColor(ROOT.kGreen+1)\n",
      "        LEG=ROOT.TLegend(0.6,0.75,0.85,0.8)\n",
      "        LEG.AddEntry(M5JHS, \"Signal \"+str(Masses[i]), \"l\")\n",
      "        LEG.SetFillColor(0);\n",
      "        M5JHS.Draw(\"hist\"); f1.Draw(\"same\")\n",
      "        LEG.Draw()\n",
      "        \n",
      "        if i==0 and j==0: CurCanv.Print(PDFName+\"(\",\"Title:\"+Titles[j])\n",
      "        elif i<=len(Masses)-2 and not (i==0 and j==0): CurCanv.Print(PDFName,\"Title:\"+Titles[j])\n",
      "        elif i==len(Masses)-1 and j==len(CutsFromCLs)-1: CurCanv.Print(PDFName+\")\",\"Title:\"+Titles[j])\n",
      "        del(M5JHS); del(LEG)\n",
      "        \n",
      "    print \"--------------------------------------------------\"\n",
      "    print \"------------------Efficiencies--------------------\"\n",
      "    print \"----------EffWin----------------EffInt------------\"\n",
      "    \n",
      "    for k in xrange(len(MassPointsIntSignal)-1):\n",
      "        print \"Cut\"+str(k+1)+\":    {0:.2f}                 {1:.2f}\".format(100*MassPointsIntSignal[k+1]/MassPointsIntSignal[k], \n",
      "                                           100*MassPointsFullIntSignal[k+1]/MassPointsFullIntSignal[k]) "
     ],
     "language": "python",
     "metadata": {},
     "outputs": [
      {
       "output_type": "stream",
       "stream": "stdout",
       "text": [
        "---------------------------------------------\n",
        "M=600 GeV ------> 62.12+-1.30\n",
        "Mean value: 590.40+-7.40, with sigma: 54.11+-7.44\n",
        "Chi2=26.48, ndf=4.00, Chi2/ndf=6.62\n",
        "---------------------------------------------\n",
        "M=600 GeV ------> 46.19+-1.12\n",
        "Mean value: 590.85+-8.00, with sigma: 51.41+-7.69\n",
        "Chi2=28.09, ndf=4.00, Chi2/ndf=7.02\n",
        "---------------------------------------------\n",
        "M=600 GeV ------> 44.55+-1.10\n",
        "Mean value: 591.58+-8.03, with sigma: 50.88+-7.65\n",
        "Chi2=24.03, ndf=4.00, Chi2/ndf=6.01\n",
        "---------------------------------------------\n",
        "M=600 GeV ------> 28.08+-0.87\n",
        "Mean value: 591.09+-9.93, with sigma: 50.02+-9.32\n",
        "Chi2=15.19, ndf=4.00, Chi2/ndf=3.80\n",
        "---------------------------------------------\n",
        "M=600 GeV ------> 15.33+-0.64\n",
        "Mean value: 596.56+-12.26, with sigma: 46.70+-10.88\n",
        "Chi2=7.95, ndf=4.00, Chi2/ndf=1.99\n",
        "---------------------------------------------\n",
        "M=600 GeV ------> 11.41+-0.56\n",
        "Mean value: 601.06+-11.89, with sigma: 41.81+-9.73\n",
        "Chi2=11.77, ndf=4.00, Chi2/ndf=2.94\n",
        "---------------------------------------------\n",
        "M=600 GeV ------> 6.27+-0.41\n",
        "Mean value: 607.30+-15.24, with sigma: 39.51+-12.09\n",
        "Chi2=20.28, ndf=4.00, Chi2/ndf=5.07\n",
        "---------------------------------------------\n",
        "M=600 GeV ------> 5.43+-0.38\n",
        "Mean value: 609.47+-13.99, with sigma: 33.75+-10.44\n",
        "Chi2=15.36, ndf=4.00, Chi2/ndf=3.84\n",
        "---------------------------------------------"
       ]
      },
      {
       "output_type": "stream",
       "stream": "stdout",
       "text": [
        "\n",
        "M=600 GeV ------> 3.32+-0.30\n",
        "Mean value: 618.79+-15.53, with sigma: 29.84+-11.44\n",
        "Chi2=9.34, ndf=4.00, Chi2/ndf=2.34\n",
        "--------------------------------------------------\n",
        "------------------Efficiencies--------------------\n",
        "----------EffWin----------------EffInt------------\n",
        "Cut1:    74.37                 67.51\n",
        "Cut2:    96.43                 93.90\n",
        "Cut3:    63.05                 60.55\n",
        "Cut4:    54.57                 52.12\n",
        "Cut5:    74.43                 79.29\n",
        "Cut6:    54.98                 52.43\n",
        "Cut7:    86.64                 78.35\n",
        "Cut8:    61.19                 64.04\n",
        "---------------------------------------------\n",
        "M=650 GeV ------> 54.82+-1.09\n",
        "Mean value: 637.05+-8.13, with sigma: 54.62+-7.86\n",
        "Chi2=21.85, ndf=4.00, Chi2/ndf=5.46\n",
        "---------------------------------------------\n",
        "M=650 GeV ------> 46.35+-1.00\n",
        "Mean value: 638.71+-8.19, with sigma: 52.30+-7.74\n",
        "Chi2=18.12, ndf=4.00, Chi2/ndf=4.53\n",
        "---------------------------------------------\n",
        "M=650 GeV ------> 45.45+-0.99\n",
        "Mean value: 638.85+-8.14, with sigma: 51.70+-7.64\n",
        "Chi2=18.51, ndf=4.00, Chi2/ndf=4.63\n",
        "---------------------------------------------\n",
        "M=650 GeV ------> 29.14+-0.79\n",
        "Mean value: 638.28+-9.99, with sigma: 50.90+-9.25\n",
        "Chi2=19.80, ndf=4.00, Chi2/ndf=4.95\n",
        "---------------------------------------------\n",
        "M=650 GeV ------> 17.36+-0.61\n",
        "Mean value: 639.88+-12.20, with sigma: 49.08+-11.06\n",
        "Chi2=15.47, ndf=4.00, Chi2/ndf=3.87\n",
        "---------------------------------------------\n",
        "M=650 GeV ------> 15.08+-0.57\n",
        "Mean value: 645.32+-10.70, with sigma: 42.24+-8.82\n",
        "Chi2=14.66, ndf=4.00, Chi2/ndf=3.67\n",
        "---------------------------------------------\n",
        "M=650 GeV ------> 10.03+-0.46"
       ]
      },
      {
       "output_type": "stream",
       "stream": "stdout",
       "text": [
        "\n",
        "Mean value: 646.52+-12.32, with sigma: 39.86+-9.80\n",
        "Chi2=7.36, ndf=4.00, Chi2/ndf=1.84\n",
        "---------------------------------------------\n",
        "M=650 GeV ------> 8.53+-0.43\n",
        "Mean value: 646.72+-12.68, with sigma: 37.99+-9.83\n",
        "Chi2=5.06, ndf=4.00, Chi2/ndf=1.27\n",
        "---------------------------------------------\n",
        "M=650 GeV ------> 6.27+-0.37\n",
        "Mean value: 652.40+-13.07, with sigma: 35.62+-9.80\n",
        "Chi2=3.41, ndf=4.00, Chi2/ndf=0.85\n",
        "--------------------------------------------------\n",
        "------------------Efficiencies--------------------\n",
        "----------EffWin----------------EffInt------------\n",
        "Cut1:    84.56                 76.69\n",
        "Cut2:    98.05                 93.66\n",
        "Cut3:    64.11                 61.47\n",
        "Cut4:    59.59                 55.35\n",
        "Cut5:    86.88                 80.29\n",
        "Cut6:    66.52                 62.73\n",
        "Cut7:    85.01                 81.72\n",
        "Cut8:    73.55                 79.87\n",
        "---------------------------------------------\n",
        "M=700 GeV ------> 57.30+-0.99\n",
        "Mean value: 687.14+-9.67, with sigma: 55.41+-10.97\n",
        "Chi2=11.32, ndf=3.00, Chi2/ndf=3.77\n",
        "---------------------------------------------\n",
        "M=700 GeV ------> 50.45+-0.93\n",
        "Mean value: 687.59+-9.62, with sigma: 53.30+-10.58\n",
        "Chi2=9.24, ndf=3.00, Chi2/ndf=3.08\n",
        "---------------------------------------------\n",
        "M=700 GeV ------> 49.41+-0.92\n",
        "Mean value: 687.72+-9.51, with sigma: 52.66+-10.37\n",
        "Chi2=7.99, ndf=3.00, Chi2/ndf=2.66\n",
        "---------------------------------------------\n",
        "M=700 GeV ------> 31.99+-0.74\n",
        "Mean value: 688.64+-10.85, with sigma: 50.26+-11.43\n",
        "Chi2=6.80, ndf=3.00, Chi2/ndf=2.27\n",
        "---------------------------------------------\n",
        "M=700 GeV ------> 19.67+-0.58\n",
        "Mean value: 690.03+-13.69, with sigma: 50.24+-14.53\n",
        "Chi2=2.62, ndf=3.00, Chi2/ndf=0.87\n",
        "---------------------------------------------"
       ]
      },
      {
       "output_type": "stream",
       "stream": "stdout",
       "text": [
        "\n",
        "M=700 GeV ------> 14.91+-0.51\n",
        "Mean value: 694.45+-12.48, with sigma: 45.46+-12.32\n",
        "Chi2=1.75, ndf=3.00, Chi2/ndf=0.58\n",
        "---------------------------------------------\n",
        "M=700 GeV ------> 10.99+-0.44\n",
        "Mean value: 698.41+-13.85, with sigma: 44.06+-13.35\n",
        "Chi2=0.56, ndf=3.00, Chi2/ndf=0.19\n",
        "---------------------------------------------\n",
        "M=700 GeV ------> 9.44+-0.40\n",
        "Mean value: 697.11+-13.90, with sigma: 41.51+-12.70\n",
        "Chi2=2.78, ndf=3.00, Chi2/ndf=0.93\n",
        "---------------------------------------------\n",
        "M=700 GeV ------> 8.89+-0.39\n",
        "Mean value: 698.43+-14.17, with sigma: 41.12+-12.86\n",
        "Chi2=1.35, ndf=3.00, Chi2/ndf=0.45\n",
        "--------------------------------------------------\n",
        "------------------Efficiencies--------------------\n",
        "----------EffWin----------------EffInt------------\n",
        "Cut1:    88.05                 80.79\n",
        "Cut2:    97.95                 94.79\n",
        "Cut3:    64.73                 62.60\n",
        "Cut4:    61.49                 55.78\n",
        "Cut5:    75.79                 80.39\n",
        "Cut6:    73.73                 70.37\n",
        "Cut7:    85.87                 79.63\n",
        "Cut8:    94.15                 92.36\n",
        "---------------------------------------------\n",
        "M=750 GeV ------> 54.06+-0.88\n",
        "Mean value: 730.11+-10.48, with sigma: 60.55+-11.19\n",
        "Chi2=5.33, ndf=4.00, Chi2/ndf=1.33\n",
        "---------------------------------------------\n",
        "M=750 GeV ------> 38.37+-0.74\n",
        "Mean value: 730.67+-10.36, with sigma: 58.27+-10.75\n",
        "Chi2=2.34, ndf=4.00, Chi2/ndf=0.58\n",
        "---------------------------------------------\n",
        "M=750 GeV ------> 37.71+-0.73\n",
        "Mean value: 731.07+-10.28, with sigma: 57.77+-10.61\n",
        "Chi2=3.21, ndf=4.00, Chi2/ndf=0.80\n",
        "---------------------------------------------"
       ]
      },
      {
       "output_type": "stream",
       "stream": "stdout",
       "text": [
        "\n",
        "M=750 GeV ------> 25.47+-0.60\n",
        "Mean value: 731.79+-11.86, with sigma: 55.88+-11.95\n",
        "Chi2=4.15, ndf=4.00, Chi2/ndf=1.04\n",
        "---------------------------------------------\n",
        "M=750 GeV ------> 15.45+-0.47\n",
        "Mean value: 735.66+-13.73, with sigma: 52.65+-13.34\n",
        "Chi2=2.70, ndf=4.00, Chi2/ndf=0.68\n",
        "---------------------------------------------\n",
        "M=750 GeV ------> 13.47+-0.44\n",
        "Mean value: 738.64+-13.29, with sigma: 49.14+-12.25\n",
        "Chi2=2.70, ndf=4.00, Chi2/ndf=0.67\n",
        "---------------------------------------------\n",
        "M=750 GeV ------> 10.85+-0.39\n",
        "Mean value: 741.45+-14.20, with sigma: 47.67+-12.79\n",
        "Chi2=3.43, ndf=4.00, Chi2/ndf=0.86\n",
        "---------------------------------------------\n",
        "M=750 GeV ------> 9.12+-0.36\n",
        "Mean value: 740.13+-14.45, with sigma: 44.80+-12.40\n",
        "Chi2=7.13, ndf=4.00, Chi2/ndf=1.78\n",
        "---------------------------------------------\n",
        "M=750 GeV ------> 8.91+-0.36\n",
        "Mean value: 740.52+-14.60, with sigma: 44.77+-12.52\n",
        "Chi2=7.05, ndf=4.00, Chi2/ndf=1.76\n",
        "--------------------------------------------------"
       ]
      },
      {
       "output_type": "stream",
       "stream": "stdout",
       "text": [
        "\n",
        "------------------Efficiencies--------------------\n",
        "----------EffWin----------------EffInt------------\n",
        "Cut1:    70.97                 82.91\n",
        "Cut2:    98.29                 94.44\n",
        "Cut3:    67.54                 65.04\n",
        "Cut4:    60.66                 53.96\n",
        "Cut5:    87.18                 83.10\n",
        "Cut6:    80.53                 77.01\n",
        "Cut7:    84.10                 78.23\n",
        "Cut8:    97.66                 97.23\n",
        "---------------------------------------------\n",
        "M=800 GeV ------> 45.28+-0.75\n",
        "Mean value: 777.53+-11.09, with sigma: 73.05+-10.50\n",
        "Chi2=62.74, ndf=7.00, Chi2/ndf=8.96\n",
        "---------------------------------------------\n",
        "M=800 GeV ------> 38.03+-0.69\n",
        "Mean value: 778.80+-10.81, with sigma: 69.35+-9.83\n",
        "Chi2=65.52, ndf=7.00, Chi2/ndf=9.36\n",
        "---------------------------------------------\n",
        "M=800 GeV ------> 37.32+-0.68\n",
        "Mean value: 778.73+-10.72, with sigma: 68.31+-9.64\n",
        "Chi2=65.80, ndf=7.00, Chi2/ndf=9.40\n",
        "---------------------------------------------\n",
        "M=800 GeV ------> 25.41+-0.56\n",
        "Mean value: 778.15+-12.66, with sigma: 66.53+-11.15\n",
        "Chi2=55.64, ndf=7.00, Chi2/ndf=7.95\n",
        "---------------------------------------------\n",
        "M=800 GeV ------> 15.69+-0.44\n",
        "Mean value: 782.31+-14.52, with sigma: 60.88+-12.04\n",
        "Chi2=32.84, ndf=7.00, Chi2/ndf=4.69\n",
        "---------------------------------------------\n",
        "M=800 GeV ------> 12.18+-0.39\n",
        "Mean value: 787.16+-13.94, with sigma: 54.61+-10.84\n",
        "Chi2=22.45, ndf=7.00, Chi2/ndf=3.21\n",
        "---------------------------------------------\n",
        "M=800 GeV ------> 10.08+-0.35\n",
        "Mean value: 791.17+-14.75, with sigma: 52.20+-11.22\n",
        "Chi2=22.46, ndf=7.00, Chi2/ndf=3.21\n",
        "---------------------------------------------\n",
        "M=800 GeV ------> 8.56+-0.33"
       ]
      },
      {
       "output_type": "stream",
       "stream": "stdout",
       "text": [
        "\n",
        "Mean value: 789.96+-14.80, with sigma: 47.80+-10.89\n",
        "Chi2=19.79, ndf=7.00, Chi2/ndf=2.83\n",
        "---------------------------------------------\n",
        "M=800 GeV ------> 8.29+-0.32\n",
        "Mean value: 790.67+-14.90, with sigma: 47.28+-10.92\n",
        "Chi2=16.85, ndf=7.00, Chi2/ndf=2.41\n",
        "--------------------------------------------------\n",
        "------------------Efficiencies--------------------\n",
        "----------EffWin----------------EffInt------------\n",
        "Cut1:    84.00                 84.87\n",
        "Cut2:    98.13                 94.27\n",
        "Cut3:    68.07                 66.07\n",
        "Cut4:    61.78                 54.78\n",
        "Cut5:    77.60                 81.48\n",
        "Cut6:    82.80                 78.87\n",
        "Cut7:    84.92                 79.43\n",
        "Cut8:    96.80                 96.50\n",
        "---------------------------------------------\n",
        "M=850 GeV ------> 37.66+-0.62\n",
        "Mean value: 827.32+-12.37, with sigma: 71.66+-11.33\n",
        "Chi2=59.63, ndf=7.00, Chi2/ndf=8.52\n",
        "---------------------------------------------\n",
        "M=850 GeV ------> 34.62+-0.59\n",
        "Mean value: 827.98+-12.12, with sigma: 68.58+-10.79\n",
        "Chi2=54.46, ndf=7.00, Chi2/ndf=7.78\n",
        "---------------------------------------------\n",
        "M=850 GeV ------> 30.43+-0.56\n",
        "Mean value: 827.64+-12.03, with sigma: 67.49+-10.60\n",
        "Chi2=56.17, ndf=7.00, Chi2/ndf=8.02\n",
        "---------------------------------------------\n",
        "M=850 GeV ------> 21.25+-0.46\n",
        "Mean value: 827.75+-13.80, with sigma: 65.20+-11.89\n",
        "Chi2=36.80, ndf=7.00, Chi2/ndf=5.26\n",
        "---------------------------------------------\n",
        "M=850 GeV ------> 13.41+-0.37\n",
        "Mean value: 834.71+-15.30, with sigma: 59.07+-12.46\n",
        "Chi2=25.51, ndf=7.00, Chi2/ndf=3.64\n",
        "---------------------------------------------\n",
        "M=850 GeV ------> 11.77+-0.35"
       ]
      },
      {
       "output_type": "stream",
       "stream": "stdout",
       "text": [
        "\n",
        "Mean value: 837.66+-15.00, with sigma: 54.44+-11.68\n",
        "Chi2=30.07, ndf=7.00, Chi2/ndf=4.30\n",
        "---------------------------------------------\n",
        "M=850 GeV ------> 9.21+-0.31\n",
        "Mean value: 841.52+-15.21, with sigma: 51.35+-11.51\n",
        "Chi2=24.03, ndf=7.00, Chi2/ndf=3.43\n",
        "---------------------------------------------\n",
        "M=850 GeV ------> 7.66+-0.28\n",
        "Mean value: 837.57+-15.22, with sigma: 46.19+-11.15\n",
        "Chi2=30.57, ndf=7.00, Chi2/ndf=4.37\n",
        "---------------------------------------------\n",
        "M=850 GeV ------> 7.54+-0.28\n",
        "Mean value: 837.70+-15.26, with sigma: 45.91+-11.15\n",
        "Chi2=27.93, ndf=7.00, Chi2/ndf=3.99\n",
        "--------------------------------------------------\n",
        "------------------Efficiencies--------------------\n",
        "----------EffWin----------------EffInt------------\n",
        "Cut1:    91.92                 85.52\n",
        "Cut2:    87.90                 94.01\n",
        "Cut3:    69.83                 67.73\n",
        "Cut4:    63.10                 53.44\n",
        "Cut5:    87.75                 82.68\n",
        "Cut6:    78.28                 82.79\n",
        "Cut7:    83.15                 77.16\n",
        "Cut8:    98.41                 97.98\n",
        "---------------------------------------------\n",
        "M=900 GeV ------> 30.36+-0.52\n",
        "Mean value: 879.49+-14.12, with sigma: 70.82+-12.59\n",
        "Chi2=59.80, ndf=7.00, Chi2/ndf=8.54\n",
        "---------------------------------------------\n",
        "M=900 GeV ------> 28.31+-0.50\n",
        "Mean value: 879.20+-13.89, with sigma: 68.25+-12.14\n",
        "Chi2=48.52, ndf=7.00, Chi2/ndf=6.93\n",
        "---------------------------------------------\n",
        "M=900 GeV ------> 27.59+-0.49\n",
        "Mean value: 879.05+-13.82, with sigma: 67.35+-11.98\n",
        "Chi2=47.50, ndf=7.00, Chi2/ndf=6.79\n",
        "---------------------------------------------\n",
        "M=900 GeV ------> 19.96+-0.42"
       ]
      },
      {
       "output_type": "stream",
       "stream": "stdout",
       "text": [
        "\n",
        "Mean value: 879.76+-15.05, with sigma: 63.74+-12.71\n",
        "Chi2=32.12, ndf=7.00, Chi2/ndf=4.59\n",
        "---------------------------------------------\n",
        "M=900 GeV ------> 11.06+-0.31\n",
        "Mean value: 883.33+-17.26, with sigma: 58.96+-14.06\n",
        "Chi2=18.25, ndf=7.00, Chi2/ndf=2.61\n",
        "---------------------------------------------\n",
        "M=900 GeV ------> 9.80+-0.29\n",
        "Mean value: 884.99+-17.06, with sigma: 55.37+-13.51\n",
        "Chi2=19.69, ndf=7.00, Chi2/ndf=2.81\n",
        "---------------------------------------------\n",
        "M=900 GeV ------> 8.70+-0.28\n",
        "Mean value: 885.81+-17.84, with sigma: 54.63+-14.03\n",
        "Chi2=17.82, ndf=7.00, Chi2/ndf=2.55\n",
        "---------------------------------------------\n",
        "M=900 GeV ------> 6.46+-0.24\n",
        "Mean value: 882.67+-17.19, with sigma: 47.97+-12.96\n",
        "Chi2=21.62, ndf=7.00, Chi2/ndf=3.09\n",
        "---------------------------------------------"
       ]
      },
      {
       "output_type": "stream",
       "stream": "stdout",
       "text": [
        "\n",
        "M=900 GeV ------> 6.38+-0.24\n",
        "Mean value: 883.30+-17.20, with sigma: 47.66+-12.93\n",
        "Chi2=20.39, ndf=7.00, Chi2/ndf=2.91\n",
        "--------------------------------------------------\n",
        "------------------Efficiencies--------------------\n",
        "----------EffWin----------------EffInt------------\n",
        "Cut1:    93.23                 86.36\n",
        "Cut2:    97.47                 93.47\n",
        "Cut3:    72.34                 69.99\n",
        "Cut4:    55.41                 51.52\n",
        "Cut5:    88.62                 83.68\n",
        "Cut6:    88.76                 85.73\n",
        "Cut7:    74.27                 76.31\n",
        "Cut8:    98.78                 98.13\n",
        "---------------------------------------------\n",
        "M=950 GeV ------> 25.46+-0.45\n",
        "Mean value: 925.77+-17.65, with sigma: 79.86+-17.92\n",
        "Chi2=32.82, ndf=7.00, Chi2/ndf=4.69\n",
        "---------------------------------------------\n",
        "M=950 GeV ------> 23.80+-0.43\n",
        "Mean value: 926.22+-17.46, with sigma: 77.48+-17.30\n",
        "Chi2=32.68, ndf=7.00, Chi2/ndf=4.67\n",
        "---------------------------------------------\n",
        "M=950 GeV ------> 23.22+-0.43\n",
        "Mean value: 925.61+-17.13, with sigma: 75.63+-16.62\n",
        "Chi2=32.01, ndf=7.00, Chi2/ndf=4.57\n",
        "---------------------------------------------\n",
        "M=950 GeV ------> 15.03+-0.34\n",
        "Mean value: 925.97+-19.71, with sigma: 74.06+-18.80\n",
        "Chi2=27.22, ndf=7.00, Chi2/ndf=3.89\n",
        "---------------------------------------------\n",
        "M=950 GeV ------> 9.64+-0.27\n",
        "Mean value: 932.22+-22.48, with sigma: 69.40+-20.48\n",
        "Chi2=12.74, ndf=7.00, Chi2/ndf=1.82\n",
        "---------------------------------------------\n",
        "M=950 GeV ------> 7.70+-0.25\n",
        "Mean value: 933.83+-21.90, with sigma: 64.31+-18.84\n",
        "Chi2=14.55, ndf=7.00, Chi2/ndf=2.08\n",
        "---------------------------------------------"
       ]
      },
      {
       "output_type": "stream",
       "stream": "stdout",
       "text": [
        "\n",
        "M=950 GeV ------> 6.84+-0.23\n",
        "Mean value: 937.19+-22.13, with sigma: 61.59+-18.47\n",
        "Chi2=11.75, ndf=7.00, Chi2/ndf=1.68\n",
        "---------------------------------------------\n",
        "M=950 GeV ------> 5.61+-0.21\n",
        "Mean value: 932.03+-21.25, with sigma: 53.58+-16.36\n",
        "Chi2=16.56, ndf=7.00, Chi2/ndf=2.37\n",
        "---------------------------------------------\n",
        "M=950 GeV ------> 5.57+-0.21\n",
        "Mean value: 932.55+-21.23, with sigma: 53.35+-16.31\n",
        "Chi2=16.22, ndf=7.00, Chi2/ndf=2.32\n",
        "--------------------------------------------------\n",
        "------------------Efficiencies--------------------\n",
        "----------EffWin----------------EffInt------------\n",
        "Cut1:    93.48                 87.16\n",
        "Cut2:    97.55                 92.89\n",
        "Cut3:    64.73                 70.46\n",
        "Cut4:    64.13                 52.34\n",
        "Cut5:    79.95                 83.23\n",
        "Cut6:    88.78                 85.58\n",
        "Cut7:    82.00                 74.26\n",
        "Cut8:    99.31                 99.09\n",
        "---------------------------------------------\n",
        "M=1000 GeV ------> 17.16+-0.33\n",
        "Mean value: 973.44+-22.93, with sigma: 82.35+-22.85\n",
        "Chi2=14.70, ndf=7.00, Chi2/ndf=2.10\n",
        "---------------------------------------------\n",
        "M=1000 GeV ------> 16.13+-0.32\n",
        "Mean value: 975.12+-22.31, with sigma: 79.77+-21.88\n",
        "Chi2=12.88, ndf=7.00, Chi2/ndf=1.84\n",
        "---------------------------------------------\n",
        "M=1000 GeV ------> 15.44+-0.32\n",
        "Mean value: 974.22+-22.26, with sigma: 78.15+-21.44\n",
        "Chi2=9.42, ndf=7.00, Chi2/ndf=1.35\n",
        "---------------------------------------------\n",
        "M=1000 GeV ------> 11.17+-0.27\n",
        "Mean value: 976.45+-25.03, with sigma: 76.63+-23.94\n",
        "Chi2=6.56, ndf=7.00, Chi2/ndf=0.94\n",
        "---------------------------------------------\n",
        "M=1000 GeV ------> 6.85+-0.21"
       ]
      },
      {
       "output_type": "stream",
       "stream": "stdout",
       "text": [
        "\n",
        "Mean value: 978.84+-27.96, with sigma: 69.93+-25.21\n",
        "Chi2=5.61, ndf=7.00, Chi2/ndf=0.80\n",
        "---------------------------------------------\n",
        "M=1000 GeV ------> 5.52+-0.19\n",
        "Mean value: 978.62+-26.49, with sigma: 63.72+-22.50\n",
        "Chi2=7.95, ndf=7.00, Chi2/ndf=1.14\n",
        "---------------------------------------------\n",
        "M=1000 GeV ------> 5.05+-0.18\n",
        "Mean value: 981.00+-26.19, with sigma: 61.02+-21.70\n",
        "Chi2=7.50, ndf=7.00, Chi2/ndf=1.07\n",
        "---------------------------------------------\n",
        "M=1000 GeV ------> 4.00+-0.16\n",
        "Mean value: 975.77+-26.22, with sigma: 54.42+-20.56\n",
        "Chi2=15.84, ndf=7.00, Chi2/ndf=2.26\n",
        "---------------------------------------------\n",
        "M=1000 GeV ------> 3.92+-0.16\n",
        "Mean value: 976.36+-26.49, with sigma: 54.50+-20.78\n",
        "Chi2=17.14, ndf=7.00, Chi2/ndf=2.45\n",
        "--------------------------------------------------\n",
        "------------------Efficiencies--------------------\n",
        "----------EffWin----------------EffInt------------\n",
        "Cut1:    94.02                 87.29\n",
        "Cut2:    95.73                 91.21\n",
        "Cut3:    72.32                 72.51\n",
        "Cut4:    61.31                 48.26\n",
        "Cut5:    80.55                 82.33\n",
        "Cut6:    91.64                 86.99\n",
        "Cut7:    79.05                 72.67\n",
        "Cut8:    98.05                 97.90\n"
       ]
      }
     ],
     "prompt_number": 16
    },
    {
     "cell_type": "code",
     "collapsed": false,
     "input": [],
     "language": "python",
     "metadata": {},
     "outputs": []
    }
   ],
   "metadata": {}
  }
 ]
}