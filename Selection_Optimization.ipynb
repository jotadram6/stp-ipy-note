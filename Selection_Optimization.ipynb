{
 "metadata": {
  "name": ""
 },
 "nbformat": 3,
 "nbformat_minor": 0,
 "worksheets": [
  {
   "cells": [
    {
     "cell_type": "code",
     "collapsed": false,
     "input": [
      "from Generic import *"
     ],
     "language": "python",
     "metadata": {},
     "outputs": [],
     "prompt_number": 1
    },
    {
     "cell_type": "code",
     "collapsed": false,
     "input": [
      "Version=\"V1\"\n",
      "\n",
      "SignalSampleFile=\"PyScripts/SignalSample_\"+Version\n",
      "MCSignalSampleArray=np.load(SignalSampleFile+\".npy\")\n",
      "\n",
      "NMassPointsA=MCSignalSampleArray[0:NsignalFiles]; TntupleA=MCSignalSampleArray[NsignalFiles]; QntuplesA=MCSignalSampleArray[NsignalFiles+1:]\n",
      "print NMassPointsA[2].GetEntries(), TntupleA.GetEntries(), QntuplesA[0].GetEntries()"
     ],
     "language": "python",
     "metadata": {},
     "outputs": [
      {
       "output_type": "stream",
       "stream": "stdout",
       "text": [
        "5453 179509 7294\n"
       ]
      }
     ],
     "prompt_number": 2
    },
    {
     "cell_type": "code",
     "collapsed": false,
     "input": [
      "HTCut = ROOT.TCut(\"THT>600\") #Cut on HT\n",
      "\n",
      "SignalEntries=[]\n",
      "TTbarEntries=[]\n",
      "\n",
      "#DRHJ<=1.2 && (DRWH>=1.6 && DRWH<=4.0) && M2HP>9 && DRTp6thJ>4.7 && RelHT>=0.7 && (HM>=105 && HM<=145)\n",
      "\n",
      "Eta6thJSet=[\"TMath::Abs(Eta6thJ)>\",np.linspace(1.0,2.0,11)]\n",
      "#DRTp6thJSet=[\"DRTp6thJ>\",np.linspace(4.5,6.0,4)]\n",
      "#RelHTSet=[\"RelHT>=\",np.linspace(0.5,0.8,7)]\n",
      "#M2HPSet=[\"M2HP>\",np.linspace(5.0,11.0,13)]\n",
      "DRTp6thJSet=[\"DRTp6thJ>\",np.linspace(4.0,6.0,4)]\n",
      "RelHTSet=[\"RelHT>=\",np.linspace(0.58,0.72,7)]\n",
      "M2HPSet=[\"M2HP>\",np.linspace(6.2,8.2,13)]\n",
      "#Eta6thJSet=[\"TMath::Abs(Eta6thJ)>\",np.linspace(1.0,2.0,11)]\n",
      "#MTHAsym2=[\"MTHAsym\",np.linspace(0.5,0.1,5),0.18]\n",
      "MTHAsym2=[\"MTHAsym\",np.linspace(0.25,0.05,5),0.18]\n",
      "TopsPTAsym2=[\"TopsPTAsym\",np.linspace(1.0,0.1,10),0.0]\n",
      "PTTHAsym2=[\"PTTHAsym\",np.linspace(1.0,0.1,10),0.0]\n",
      "MTmMHdMW2=[\"MTmMHdMW\",np.linspace(1.6,0.1,16),0.6]\n",
      "T1PTdT2PT2=[\"T1PTdT2PT\",np.linspace(1.0,0.1,10),1.0]\n",
      "MTWAsym2=[\"MTWAsym\",np.linspace(0.4,0.05,8),0.37]\n",
      "M1HM2=[\"M1HM\",np.linspace(1.0,0.1,10),0.7]\n",
      "#DPTH2=[\"DPTH\",np.linspace(0.1,np.pi-0.1,20),np.pi]\n",
      "DPTH2=[\"DPTH>\",np.linspace(0.1,np.pi-0.1,10)]\n",
      "DETH2=[\"DETH\",np.linspace(2,0.1,10),0.0]\n",
      "\n",
      "CounterToWriteToFile=0\n",
      "ListForFile=[]\n",
      "\n",
      "Cut2Set=M2HPSet\n",
      "Cut3Set=DRTp6thJSet\n",
      "Cut4Set=RelHTSet\n",
      "Cut5Set=MTHAsym2\n",
      "\n",
      "PDFNameScan=\"Scan_M2HP_DRTp6thJ_RelHT_\"+Cut5Set[0]+\"_HTg600.pdf\"\n",
      "CurCanvScan = rootnotes.canvas(\"MyPlot\", (600, 800))\n",
      "Counterscan=0\n",
      "\n",
      "SoB=[]; QCD_B=[]; CutsValues=[]\n",
      "\n",
      "for i in Cut2Set[1]:\n",
      "    Cut2 = ROOT.TCut(Cut2Set[0]+str(i))\n",
      "    for j in Cut3Set[1]:\n",
      "        Cut3 = ROOT.TCut(Cut3Set[0]+str(j))\n",
      "        for k in Cut4Set[1]:\n",
      "            Cut4 = ROOT.TCut(Cut4Set[0]+str(k))\n",
      "            for l in Cut5Set[1]:\n",
      "                Cut5 = ROOT.TCut(Cut5Set[0]+\">=\"+str(Cut5Set[2]-l)+\" && \"+Cut5Set[0]+\"<=\"+str(Cut5Set[2]+l))\n",
      "                #Cut5 = ROOT.TCut(Cut5Set[0]+\">=\"+str(Cut5Set[2]+i)+\" || \"+Cut5Set[0]+\"<=\"+str(Cut5Set[2]-i))\n",
      "                #Cut5 = ROOT.TCut(Cut5Set[0]+\"<=\"+str(i))\n",
      "                #Cut5 = ROOT.TCut(Cut5Set[0]+str(i))\n",
      "                #CutF=Cut1*CutDRbb*CutDRWH*Cut2*Cut3*CutHM*Cut4*Cut5 #Cutting on chi2<140\n",
      "                CutF=HTCut*CutDRbb*CutDRWH*Cut2*Cut3*CutHM*Cut4*Cut5\n",
      "\n",
      "                NMassPointsA[2].Draw(\"M5J >> M5jS(120,400,1600)\",CutF)\n",
      "                M5JHS=ROOT.gDirectory.Get(\"M5jS\")\n",
      "                if M5JHS.GetEntries()*SWeight<10: continue\n",
      "                M5JHS.Sumw2(); M5JHS.Scale(SWeight) \n",
      "                \n",
      "                TntupleA.Draw(\"M5J >> M5jT(120,400,1600)\",CutF)\n",
      "                M5JHT=ROOT.gDirectory.Get(\"M5jT\")\n",
      "                if M5JHT.GetEntries()*TWeight>=50: continue\n",
      "                M5JHT.Sumw2(); M5JHT.Scale(TWeight)\n",
      "                \n",
      "                QntuplesA[0].Draw(\"M5J >> M5jQ(120,400,1600)\",CutF)\n",
      "                M5JHQ=ROOT.gDirectory.Get(\"M5jQ\")\n",
      "                if M5JHQ.GetEntries()>3: continue                \n",
      "                M5JHQ.Sumw2(); M5JHQ.Scale(Q500Weight)\n",
      "                \n",
      "                #INTEGRATION\n",
      "                print \"--------------------------------\"\n",
      "                f1=ROOT.TF1(\"f1\",\"gaus\",600,800)\n",
      "                M5JHS.Fit(\"f1\",\"LMR\",\"same\")\n",
      "                MassPoint=f1.GetParameter(1); win=f1.GetParameter(2)\n",
      "                Chi2=f1.GetChisquare(); NDF=f1.GetNDF()\n",
      "                window_error=ROOT.Double(0.)\n",
      "                integral=M5JHS.IntegralAndError(M5JHS.GetXaxis().FindBin(MassPoint-win),M5JHS.GetXaxis().FindBin(MassPoint+win),window_error)\n",
      "                print \"M=700 GeV ------> {0:.2f} +- {1:.2f}, and full range integral: {2:.2f}\".format(integral,window_error,M5JHS.Integral())\n",
      "                print \"Mean value: {0:.2f}, with sigma: {1:.2f}\".format(MassPoint,win)\n",
      "                print \"Chi2={0:.2f}, ndf={1:.2f}, Chi2/ndf={2:.2f}\".format(Chi2, NDF, Chi2/NDF)\n",
      "                \n",
      "                bkg_integralT=M5JHT.IntegralAndError(M5JHT.GetXaxis().FindBin(MassPoint-win),M5JHT.GetXaxis().FindBin(MassPoint+win),window_error)\n",
      "                print \"TTbar ------> {0:.2f} +- {1:.2f}, and full range integral: {2:.2f}\".format(bkg_integralT,window_error,M5JHT.Integral())\n",
      "                #SignalEntries2.append(integral); TTbarEntries2.append(bkg_integral)\n",
      "                \n",
      "                SoB.append(integral/bkg_integralT); QCD_B.append(M5JHQ.Integral()); CutsValues.append((i,j,k,l))\n",
      "                \n",
      "                bkg_integralQ=M5JHQ.IntegralAndError(M5JHQ.GetXaxis().FindBin(MassPoint-win),M5JHQ.GetXaxis().FindBin(MassPoint+win),window_error)\n",
      "                print \"QCD ------> {0:.2f} +- {1:.2f}, and full range integral: {2:.2f}\".format(bkg_integralQ,window_error,M5JHQ.Integral())\n",
      "                #SignalEntries.append([CutF,M5JHS.GetEntries()]); TTbarEntries.append([CutF,M5JHT.GetEntries()])\n",
      "                CounterToWriteToFile+=1\n",
      "                we=ROOT.Double(0.)\n",
      "                TTbarStruc1=M5JHT.IntegralAndError(M5JHT.GetXaxis().FindBin(0),M5JHT.GetXaxis().FindBin(700),we)/M5JHT.Integral()\n",
      "                TTbarStruc2=M5JHT.IntegralAndError(M5JHT.GetXaxis().FindBin(700),M5JHT.GetXaxis().FindBin(850),we)/M5JHT.Integral()\n",
      "                TTbarStruc3=M5JHT.IntegralAndError(M5JHT.GetXaxis().FindBin(850),M5JHT.GetXaxis().FindBin(1000),we)/M5JHT.Integral()\n",
      "                TTbarStruc4=M5JHT.IntegralAndError(M5JHT.GetXaxis().FindBin(1000),M5JHT.GetXaxis().FindBin(10000),we)/M5JHT.Integral()\n",
      "                if M5JHQ.Integral()!=0:\n",
      "                    QCDStruc1=M5JHQ.IntegralAndError(M5JHQ.GetXaxis().FindBin(0),M5JHQ.GetXaxis().FindBin(700),we)/M5JHQ.Integral()\n",
      "                    QCDStruc2=M5JHQ.IntegralAndError(M5JHQ.GetXaxis().FindBin(700),M5JHQ.GetXaxis().FindBin(850),we)/M5JHQ.Integral()\n",
      "                    QCDStruc3=M5JHQ.IntegralAndError(M5JHQ.GetXaxis().FindBin(850),M5JHQ.GetXaxis().FindBin(1000),we)/M5JHQ.Integral()\n",
      "                    QCDStruc4=M5JHQ.IntegralAndError(M5JHQ.GetXaxis().FindBin(1000),M5JHQ.GetXaxis().FindBin(10000),we)/M5JHQ.Integral()\n",
      "                else: QCDStruc1=0.0; QCDStruc2=0.0; QCDStruc3=0.0; QCDStruc4=0.0\n",
      "                print '({0:.2f} {1:.2f} {2:.2f} {3:.2f}): {4:.2f}; {5:.2f}; {6:.2f}; {7:.2f}; {8:.2f} | ({9:.2f},{10:.2f},{11:.2f},{12:.2f}) ({13:.2f},{14:.2f},{15:.2f},{16:.2f})'.format(i,j,k,l,\n",
      "                                                                                                        M5JHS.GetEntries()*SWeight,\n",
      "                                                                                                        M5JHT.GetEntries()*TWeight,\n",
      "                                                                                                        M5JHQ.GetEntries()*Q500Weight,\n",
      "                                                                                                        M5JHS.GetEntries()/(M5JHT.GetEntries()+M5JHQ.GetEntries()),\n",
      "                                                                                                        M5JHS.GetEntries()/np.sqrt(M5JHS.GetEntries()+M5JHT.GetEntries()+M5JHQ.GetEntries()),\n",
      "                                                                                                        TTbarStruc1,TTbarStruc2,TTbarStruc3,TTbarStruc4,\n",
      "                                                                                                        QCDStruc1,QCDStruc2,QCDStruc3,QCDStruc4)\n",
      "                M5JHQ.SetStats(ROOT.kFALSE)\n",
      "                M5JHQ.SetLineStyle(7); M5JHT.SetLineStyle(9); M5JHS.SetLineStyle(1)\n",
      "                M5JHQ.SetLineWidth(2); M5JHT.SetLineWidth(1); M5JHS.SetLineWidth(3)\n",
      "                M5JHQ.SetLineColor(ROOT.kViolet+1); M5JHT.SetLineColor(ROOT.kRed); M5JHS.SetLineColor(ROOT.kGreen+1)\n",
      "                LEG=ROOT.TLegend(0.6,0.6,0.8,0.8)\n",
      "                LEG.AddEntry(M5JHQ, \"QCD\", \"l\"); LEG.AddEntry(M5JHT, \"TTbar\", \"l\"); LEG.AddEntry(M5JHS, \"Signal\", \"l\")\n",
      "                LEG.SetFillColor(0);\n",
      "                M5JHQ.Draw(\"hist\"); M5JHT.Draw(\"hist same\"); M5JHS.Draw(\"hist same\"); LEG.Draw()\n",
      "    \n",
      "                if Counterscan==0: CurCanvScan.Print(PDFNameScan+\"(\",\"Title:\"+Cut5Set[0]+str(i))\n",
      "                elif Counterscan>0: CurCanvScan.Print(PDFNameScan,\"Title:\"+Cut5Set[0]+str(i))\n",
      "                #else: CurCanvScan.Print(PDFNameScan+\")\",\"Title:\"+Cut5Set[0]+str(i))\n",
      "                \n",
      "                Counterscan+=1\n",
      "                    \n",
      "                ListForFile.append([[(i,j,k,l),bkg_integralQ],bkg_integralT,integral])\n",
      "                FinalCondition=(Cut2Set[1][-1]==i and Cut3Set[1][-1]==j and Cut4Set[1][-1]==k)\n",
      "                #if CounterToWriteToFile%200==0: #or FinalCondition:\n",
      "                #    f = open('Selections_SS_%i_m2hp_eta6thj_relht.txt'%(CounterToWriteToFile), 'w')\n",
      "                #    f.write(str(ListForFile))\n",
      "                #    f.close(); print \"File %i produced\"%(CounterToWriteToFile)\n",
      "                #    ListForFile=[]\n",
      "                #print M5JHS.GetEntries(), M5JHT.GetEntries()\n",
      "\n",
      "#f = open('Selections_SS_eta6thj.txt', 'w')\n",
      "#f.write(str(ListForFile))\n",
      "#f.close()\n",
      "print ListForFile\n",
      "CurCanvScan.Print(PDFNameScan+\")\",\"Title:\"+Cut5Set[0]+str(i))"
     ],
     "language": "python",
     "metadata": {},
     "outputs": [
      {
       "output_type": "stream",
       "stream": "stdout",
       "text": [
        "--------------------------------\n",
        "M=700 GeV ------> 7.60 +- 0.36, and full range integral: 10.27"
       ]
      },
      {
       "output_type": "stream",
       "stream": "stdout",
       "text": [
        "\n",
        "Mean value: 695.87, with sigma: 38.70\n",
        "Chi2=12.58, ndf=17.00, Chi2/ndf=0.74\n",
        "TTbar ------> 7.80 +- 0.78, and full range integral: 24.50\n",
        "QCD ------> 0.00 +- 0.00, and full range integral: 11.44\n",
        "(6.20 4.00 0.67 0.05): 10.27; 24.50; 11.44; 1.88; 19.59 | (0.48,0.38,0.12,0.06) (0.50,0.50,0.00,0.00)\n",
        "--------------------------------"
       ]
      },
      {
       "output_type": "stream",
       "stream": "stdout",
       "text": [
        "\n",
        "M=700 GeV ------> 10.83 +- 0.43, and full range integral: 14.72\n",
        "Mean value: 694.39, with sigma: 39.66\n",
        "Chi2=18.51, ndf=17.00, Chi2/ndf=1.09\n",
        "TTbar ------> 11.58 +- 0.96, and full range integral: 34.66\n",
        "QCD ------> 0.00 +- 0.00, and full range integral: 17.16\n",
        "(6.20 4.00 0.70 0.10): 14.72; 34.66; 17.16; 1.90; 23.51 | (0.48,0.38,0.12,0.06) (0.33,0.67,0.00,0.00)\n",
        "--------------------------------"
       ]
      },
      {
       "output_type": "stream",
       "stream": "stdout",
       "text": [
        "\n",
        "M=700 GeV ------> 9.94 +- 0.42, and full range integral: 13.40\n",
        "Mean value: 695.29, with sigma: 39.38\n",
        "Chi2=16.00, ndf=17.00, Chi2/ndf=0.94\n",
        "TTbar ------> 8.82 +- 0.83, and full range integral: 28.36\n",
        "QCD ------> 0.00 +- 0.00, and full range integral: 17.16\n",
        "(6.20 4.00 0.72 0.10): 13.40; 28.36; 17.16; 2.11; 22.82 | (0.46,0.39,0.13,0.07) (0.33,0.67,0.00,0.00)\n",
        "--------------------------------"
       ]
      },
      {
       "output_type": "stream",
       "stream": "stdout",
       "text": [
        "\n",
        "M=700 GeV ------> 9.76 +- 0.41, and full range integral: 13.45\n",
        "Mean value: 694.79, with sigma: 40.17\n",
        "Chi2=18.23, ndf=17.00, Chi2/ndf=1.07\n",
        "TTbar ------> 9.06 +- 0.84, and full range integral: 27.33\n",
        "QCD ------> 0.00 +- 0.00, and full range integral: 11.44\n",
        "(6.20 4.67 0.67 0.10): 13.45; 27.33; 11.44; 2.21; 23.02 | (0.48,0.38,0.12,0.05) (0.50,0.50,0.00,0.00)\n",
        "--------------------------------"
       ]
      },
      {
       "output_type": "stream",
       "stream": "stdout",
       "text": [
        "\n",
        "M=700 GeV ------> 9.17 +- 0.40, and full range integral: 12.59\n",
        "Mean value: 695.46, with sigma: 40.22\n",
        "Chi2=16.52, ndf=17.00, Chi2/ndf=0.97\n",
        "TTbar ------> 7.96 +- 0.79, and full range integral: 23.63\n",
        "QCD ------> 0.00 +- 0.00, and full range integral: 11.44\n",
        "(6.20 4.67 0.70 0.10): 12.59; 23.63; 11.44; 2.39; 22.54 | (0.47,0.38,0.13,0.06) (0.50,0.50,0.00,0.00)\n",
        "--------------------------------"
       ]
      },
      {
       "output_type": "stream",
       "stream": "stdout",
       "text": [
        "\n",
        "M=700 GeV ------> 8.49 +- 0.39, and full range integral: 11.60\n",
        "Mean value: 696.45, with sigma: 39.83\n",
        "Chi2=12.99, ndf=17.00, Chi2/ndf=0.76\n",
        "TTbar ------> 6.22 +- 0.70, and full range integral: 20.17\n",
        "QCD ------> 0.00 +- 0.00, and full range integral: 11.44\n",
        "(6.20 4.67 0.72 0.10): 11.60; 20.17; 11.44; 2.57; 21.87 | (0.45,0.39,0.14,0.07) (0.50,0.50,0.00,0.00)\n",
        "--------------------------------"
       ]
      },
      {
       "output_type": "stream",
       "stream": "stdout",
       "text": [
        "\n",
        "M=700 GeV ------> 7.55 +- 0.36, and full range integral: 10.11\n",
        "Mean value: 696.07, with sigma: 38.48\n",
        "Chi2=12.04, ndf=17.00, Chi2/ndf=0.71\n",
        "TTbar ------> 7.48 +- 0.77, and full range integral: 23.71\n",
        "QCD ------> 0.00 +- 0.00, and full range integral: 11.44\n",
        "(6.37 4.00 0.67 0.05): 10.11; 23.71; 11.44; 1.91; 19.50 | (0.47,0.38,0.12,0.06) (0.50,0.50,0.00,0.00)\n",
        "--------------------------------"
       ]
      },
      {
       "output_type": "stream",
       "stream": "stdout",
       "text": [
        "\n",
        "M=700 GeV ------> 10.76 +- 0.43, and full range integral: 14.53\n",
        "Mean value: 694.40, with sigma: 39.49\n",
        "Chi2=17.32, ndf=17.00, Chi2/ndf=1.02\n",
        "TTbar ------> 11.26 +- 0.94, and full range integral: 33.56\n",
        "QCD ------> 0.00 +- 0.00, and full range integral: 17.16\n",
        "(6.37 4.00 0.70 0.10): 14.53; 33.56; 17.16; 1.94; 23.43 | (0.48,0.38,0.12,0.06) (0.33,0.67,0.00,0.00)\n",
        "--------------------------------"
       ]
      },
      {
       "output_type": "stream",
       "stream": "stdout",
       "text": [
        "\n",
        "M=700 GeV ------> 9.87 +- 0.42, and full range integral: 13.22\n",
        "Mean value: 695.24, with sigma: 39.22\n",
        "Chi2=14.90, ndf=17.00, Chi2/ndf=0.88\n",
        "TTbar ------> 8.51 +- 0.82, and full range integral: 27.41\n",
        "QCD ------> 0.00 +- 0.00, and full range integral: 17.16\n",
        "(6.37 4.00 0.72 0.10): 13.22; 27.41; 17.16; 2.16; 22.74 | (0.46,0.39,0.14,0.07) (0.33,0.67,0.00,0.00)\n",
        "--------------------------------"
       ]
      },
      {
       "output_type": "stream",
       "stream": "stdout",
       "text": [
        "\n",
        "M=700 GeV ------> 9.71 +- 0.41, and full range integral: 13.31\n",
        "Mean value: 694.66, with sigma: 40.06\n",
        "Chi2=17.25, ndf=17.00, Chi2/ndf=1.01\n",
        "TTbar ------> 8.74 +- 0.83, and full range integral: 26.70\n",
        "QCD ------> 0.00 +- 0.00, and full range integral: 11.44\n",
        "(6.37 4.67 0.67 0.10): 13.31; 26.70; 11.44; 2.23; 22.94 | (0.48,0.38,0.12,0.06) (0.50,0.50,0.00,0.00)\n",
        "--------------------------------"
       ]
      },
      {
       "output_type": "stream",
       "stream": "stdout",
       "text": [
        "\n",
        "M=700 GeV ------> 9.12 +- 0.40, and full range integral: 12.47\n",
        "Mean value: 695.41, with sigma: 40.16\n",
        "Chi2=15.94, ndf=17.00, Chi2/ndf=0.94\n",
        "TTbar ------> 7.72 +- 0.78, and full range integral: 23.16\n",
        "QCD ------> 0.00 +- 0.00, and full range integral: 11.44\n",
        "(6.37 4.67 0.70 0.10): 12.47; 23.16; 11.44; 2.41; 22.47 | (0.47,0.38,0.13,0.06) (0.50,0.50,0.00,0.00)\n",
        "--------------------------------"
       ]
      },
      {
       "output_type": "stream",
       "stream": "stdout",
       "text": [
        "\n",
        "M=700 GeV ------> 8.44 +- 0.38, and full range integral: 11.49\n",
        "Mean value: 696.31, with sigma: 39.80\n",
        "Chi2=12.25, ndf=17.00, Chi2/ndf=0.72\n",
        "TTbar ------> 5.99 +- 0.69, and full range integral: 19.69\n",
        "QCD ------> 0.00 +- 0.00, and full range integral: 11.44\n",
        "(6.37 4.67 0.72 0.10): 11.49; 19.69; 11.44; 2.61; 21.81 | (0.44,0.39,0.14,0.07) (0.50,0.50,0.00,0.00)\n",
        "--------------------------------"
       ]
      },
      {
       "output_type": "stream",
       "stream": "stdout",
       "text": [
        "\n",
        "M=700 GeV ------> 7.46 +- 0.36, and full range integral: 10.01\n",
        "Mean value: 696.16, with sigma: 38.57\n",
        "Chi2=11.76, ndf=17.00, Chi2/ndf=0.69\n",
        "TTbar ------> 7.09 +- 0.75, and full range integral: 22.37\n",
        "QCD ------> 0.00 +- 0.00, and full range integral: 11.44\n",
        "(6.53 4.00 0.67 0.05): 10.01; 22.37; 11.44; 2.00; 19.55 | (0.45,0.39,0.13,0.07) (0.50,0.50,0.00,0.00)\n",
        "--------------------------------"
       ]
      },
      {
       "output_type": "stream",
       "stream": "stdout",
       "text": [
        "\n",
        "M=700 GeV ------> 10.57 +- 0.43, and full range integral: 14.29\n",
        "Mean value: 694.48, with sigma: 39.53\n",
        "Chi2=17.40, ndf=17.00, Chi2/ndf=1.02\n",
        "TTbar ------> 10.79 +- 0.92, and full range integral: 31.90\n",
        "QCD ------> 0.00 +- 0.00, and full range integral: 17.16\n",
        "(6.53 4.00 0.70 0.10): 14.29; 31.90; 17.16; 2.00; 23.36 | (0.48,0.38,0.12,0.07) (0.33,0.67,0.00,0.00)\n",
        "--------------------------------"
       ]
      },
      {
       "output_type": "stream",
       "stream": "stdout",
       "text": [
        "\n",
        "M=700 GeV ------> 9.71 +- 0.41, and full range integral: 13.03\n",
        "Mean value: 695.29, with sigma: 39.26\n",
        "Chi2=15.57, ndf=17.00, Chi2/ndf=0.92\n",
        "TTbar ------> 8.11 +- 0.80, and full range integral: 25.99\n",
        "QCD ------> 0.00 +- 0.00, and full range integral: 17.16\n",
        "(6.53 4.00 0.72 0.10): 13.03; 25.99; 17.16; 2.24; 22.71 | (0.45,0.39,0.14,0.07) (0.33,0.67,0.00,0.00)\n",
        "--------------------------------"
       ]
      },
      {
       "output_type": "stream",
       "stream": "stdout",
       "text": [
        "\n",
        "M=700 GeV ------> 9.61 +- 0.41, and full range integral: 13.19\n",
        "Mean value: 694.83, with sigma: 40.16\n",
        "Chi2=17.57, ndf=17.00, Chi2/ndf=1.03\n",
        "TTbar ------> 8.66 +- 0.83, and full range integral: 25.76\n",
        "QCD ------> 0.00 +- 0.00, and full range integral: 11.44\n",
        "(6.53 4.67 0.67 0.10): 13.19; 25.76; 11.44; 2.29; 22.93 | (0.48,0.39,0.12,0.06) (0.50,0.50,0.00,0.00)\n",
        "--------------------------------"
       ]
      },
      {
       "output_type": "stream",
       "stream": "stdout",
       "text": [
        "\n",
        "M=700 GeV ------> 9.01 +- 0.40, and full range integral: 12.35\n",
        "Mean value: 695.61, with sigma: 40.26\n",
        "Chi2=16.66, ndf=17.00, Chi2/ndf=0.98\n",
        "TTbar ------> 7.64 +- 0.78, and full range integral: 22.29\n",
        "QCD ------> 0.00 +- 0.00, and full range integral: 11.44\n",
        "(6.53 4.67 0.70 0.10): 12.35; 22.29; 11.44; 2.48; 22.45 | (0.47,0.39,0.13,0.07) (0.50,0.50,0.00,0.00)\n",
        "--------------------------------"
       ]
      },
      {
       "output_type": "stream",
       "stream": "stdout",
       "text": [
        "\n",
        "M=700 GeV ------> 8.33 +- 0.38, and full range integral: 11.39\n",
        "Mean value: 696.42, with sigma: 39.97\n",
        "Chi2=13.81, ndf=17.00, Chi2/ndf=0.81\n",
        "TTbar ------> 5.91 +- 0.68, and full range integral: 18.98\n",
        "QCD ------> 0.00 +- 0.00, and full range integral: 11.44\n",
        "(6.53 4.67 0.72 0.10): 11.39; 18.98; 11.44; 2.68; 21.79 | (0.44,0.39,0.14,0.07) (0.50,0.50,0.00,0.00)\n",
        "--------------------------------"
       ]
      },
      {
       "output_type": "stream",
       "stream": "stdout",
       "text": [
        "\n",
        "M=700 GeV ------> 10.39 +- 0.43, and full range integral: 14.04\n",
        "Mean value: 694.78, with sigma: 39.50\n",
        "Chi2=18.42, ndf=17.00, Chi2/ndf=1.08\n",
        "TTbar ------> 10.48 +- 0.91, and full range integral: 30.48\n",
        "QCD ------> 0.00 +- 0.00, and full range integral: 11.44\n",
        "(6.70 4.00 0.70 0.10): 14.04; 30.48; 11.44; 2.07; 23.28 | (0.48,0.38,0.12,0.07) (0.50,0.50,0.00,0.00)\n",
        "--------------------------------"
       ]
      },
      {
       "output_type": "stream",
       "stream": "stdout",
       "text": [
        "\n",
        "M=700 GeV ------> 9.55 +- 0.41, and full range integral: 12.82\n",
        "Mean value: 695.71, with sigma: 39.24\n",
        "Chi2=16.69, ndf=17.00, Chi2/ndf=0.98\n",
        "TTbar ------> 7.80 +- 0.78, and full range integral: 24.66\n",
        "QCD ------> 0.00 +- 0.00, and full range integral: 11.44\n",
        "(6.70 4.00 0.72 0.10): 12.82; 24.66; 11.44; 2.33; 22.66 | (0.45,0.39,0.13,0.08) (0.50,0.50,0.00,0.00)\n",
        "--------------------------------"
       ]
      },
      {
       "output_type": "stream",
       "stream": "stdout",
       "text": [
        "\n",
        "M=700 GeV ------> 9.99 +- 0.42, and full range integral: 13.78\n",
        "Mean value: 694.89, with sigma: 40.15\n",
        "Chi2=18.40, ndf=17.00, Chi2/ndf=1.08\n",
        "TTbar ------> 9.61 +- 0.87, and full range integral: 29.07\n",
        "QCD ------> 5.72 +- 5.72, and full range integral: 17.16\n",
        "(6.70 4.67 0.65 0.10): 13.78; 29.07; 17.16; 2.12; 23.16 | (0.51,0.37,0.11,0.05) (1.00,0.00,0.00,0.00)\n",
        "--------------------------------"
       ]
      },
      {
       "output_type": "stream",
       "stream": "stdout",
       "text": [
        "\n",
        "M=700 GeV ------> 10.76 +- 0.43, and full range integral: 15.44\n",
        "Mean value: 695.05, with sigma: 42.86\n",
        "Chi2=8.80, ndf=17.00, Chi2/ndf=0.52\n",
        "TTbar ------> 10.40 +- 0.91, and full range integral: 31.74\n",
        "QCD ------> 0.00 +- 0.00, and full range integral: 17.16\n",
        "(6.70 4.67 0.67 0.20): 15.44; 31.74; 17.16; 2.18; 24.61 | (0.47,0.40,0.12,0.06) (0.33,0.67,0.00,0.00)\n",
        "--------------------------------"
       ]
      },
      {
       "output_type": "stream",
       "stream": "stdout",
       "text": [
        "\n",
        "M=700 GeV ------> 10.51 +- 0.43, and full range integral: 14.74\n",
        "Mean value: 694.99, with sigma: 41.44\n",
        "Chi2=19.18, ndf=17.00, Chi2/ndf=1.13\n",
        "TTbar ------> 9.69 +- 0.87, and full range integral: 29.22\n",
        "QCD ------> 0.00 +- 0.00, and full range integral: 17.16\n",
        "(6.70 4.67 0.67 0.15): 14.74; 29.22; 17.16; 2.26; 24.18 | (0.47,0.41,0.12,0.06) (0.33,0.67,0.00,0.00)\n",
        "--------------------------------"
       ]
      },
      {
       "output_type": "stream",
       "stream": "stdout",
       "text": [
        "\n",
        "M=700 GeV ------> 9.48 +- 0.41, and full range integral: 13.03\n",
        "Mean value: 695.06, with sigma: 40.22\n",
        "Chi2=18.77, ndf=17.00, Chi2/ndf=1.10\n",
        "TTbar ------> 8.51 +- 0.82, and full range integral: 25.21\n",
        "QCD ------> 0.00 +- 0.00, and full range integral: 5.72\n",
        "(6.70 4.67 0.67 0.10): 13.03; 25.21; 5.72; 2.32; 22.84 | (0.48,0.39,0.12,0.06) (1.00,0.00,0.00,0.00)\n",
        "--------------------------------"
       ]
      },
      {
       "output_type": "stream",
       "stream": "stdout",
       "text": [
        "\n",
        "M=700 GeV ------> 10.06 +- 0.42, and full range integral: 14.36\n",
        "Mean value: 696.25, with sigma: 42.86\n",
        "Chi2=8.07, ndf=17.00, Chi2/ndf=0.47\n",
        "TTbar ------> 9.22 +- 0.85, and full range integral: 27.73\n",
        "QCD ------> 0.00 +- 0.00, and full range integral: 17.16\n",
        "(6.70 4.67 0.70 0.20): 14.36; 27.73; 17.16; 2.32; 23.96 | (0.46,0.40,0.12,0.07) (0.33,0.67,0.00,0.00)\n",
        "--------------------------------"
       ]
      },
      {
       "output_type": "stream",
       "stream": "stdout",
       "text": [
        "\n",
        "M=700 GeV ------> 9.83 +- 0.41, and full range integral: 13.73\n",
        "Mean value: 695.99, with sigma: 41.46\n",
        "Chi2=17.86, ndf=17.00, Chi2/ndf=1.05\n",
        "TTbar ------> 8.59 +- 0.82, and full range integral: 25.36\n",
        "QCD ------> 0.00 +- 0.00, and full range integral: 17.16\n",
        "(6.70 4.67 0.70 0.15): 13.73; 25.36; 17.16; 2.42; 23.58 | (0.45,0.41,0.12,0.07) (0.33,0.67,0.00,0.00)\n",
        "--------------------------------"
       ]
      },
      {
       "output_type": "stream",
       "stream": "stdout",
       "text": [
        "\n",
        "M=700 GeV ------> 8.89 +- 0.39, and full range integral: 12.19\n",
        "Mean value: 695.86, with sigma: 40.32\n",
        "Chi2=17.52, ndf=17.00, Chi2/ndf=1.03\n",
        "TTbar ------> 7.48 +- 0.77, and full range integral: 21.74\n",
        "QCD ------> 0.00 +- 0.00, and full range integral: 5.72\n",
        "(6.70 4.67 0.70 0.10): 12.19; 21.74; 5.72; 2.52; 22.35 | (0.47,0.39,0.13,0.07) (1.00,0.00,0.00,0.00)\n",
        "--------------------------------"
       ]
      },
      {
       "output_type": "stream",
       "stream": "stdout",
       "text": [
        "\n",
        "M=700 GeV ------> 9.27 +- 0.40, and full range integral: 13.22\n",
        "Mean value: 697.37, with sigma: 42.54\n",
        "Chi2=7.14, ndf=17.00, Chi2/ndf=0.42\n",
        "TTbar ------> 7.17 +- 0.75, and full range integral: 23.32\n",
        "QCD ------> 0.00 +- 0.00, and full range integral: 17.16\n",
        "(6.70 4.67 0.72 0.20): 13.22; 23.32; 17.16; 2.53; 23.30 | (0.43,0.41,0.13,0.08) (0.33,0.67,0.00,0.00)\n",
        "--------------------------------"
       ]
      },
      {
       "output_type": "stream",
       "stream": "stdout",
       "text": [
        "\n",
        "M=700 GeV ------> 9.05 +- 0.40, and full range integral: 12.59\n",
        "Mean value: 697.11, with sigma: 41.03\n",
        "Chi2=15.31, ndf=17.00, Chi2/ndf=0.90\n",
        "TTbar ------> 6.77 +- 0.73, and full range integral: 21.58\n",
        "QCD ------> 0.00 +- 0.00, and full range integral: 17.16\n",
        "(6.70 4.67 0.72 0.15): 12.59; 21.58; 17.16; 2.60; 22.82 | (0.43,0.42,0.13,0.08) (0.33,0.67,0.00,0.00)\n",
        "--------------------------------"
       ]
      },
      {
       "output_type": "stream",
       "stream": "stdout",
       "text": [
        "\n",
        "M=700 GeV ------> 8.21 +- 0.38, and full range integral: 11.23\n",
        "Mean value: 696.71, with sigma: 40.03\n",
        "Chi2=14.78, ndf=17.00, Chi2/ndf=0.87\n",
        "TTbar ------> 5.75 +- 0.67, and full range integral: 18.43\n",
        "QCD ------> 0.00 +- 0.00, and full range integral: 5.72\n",
        "(6.70 4.67 0.72 0.10): 11.23; 18.43; 5.72; 2.74; 21.70 | (0.44,0.40,0.14,0.08) (1.00,0.00,0.00,0.00)\n",
        "--------------------------------"
       ]
      },
      {
       "output_type": "stream",
       "stream": "stdout",
       "text": [
        "\n",
        "M=700 GeV ------> 7.75 +- 0.37, and full range integral: 11.18\n",
        "Mean value: 696.24, with sigma: 43.21\n",
        "Chi2=10.52, ndf=17.00, Chi2/ndf=0.62\n",
        "TTbar ------> 6.22 +- 0.70, and full range integral: 20.17\n",
        "QCD ------> 0.00 +- 0.00, and full range integral: 17.16\n",
        "(6.70 5.33 0.67 0.20): 11.18; 20.17; 17.16; 2.47; 21.35 | (0.45,0.41,0.13,0.07) (0.33,0.67,0.00,0.00)\n",
        "--------------------------------"
       ]
      },
      {
       "output_type": "stream",
       "stream": "stdout",
       "text": [
        "\n",
        "M=700 GeV ------> 7.58 +- 0.36, and full range integral: 10.67\n",
        "Mean value: 696.13, with sigma: 41.92\n",
        "Chi2=23.73, ndf=17.00, Chi2/ndf=1.40\n",
        "TTbar ------> 5.67 +- 0.67, and full range integral: 18.27\n",
        "QCD ------> 0.00 +- 0.00, and full range integral: 17.16\n",
        "(6.70 5.33 0.67 0.15): 10.67; 18.27; 17.16; 2.60; 21.01 | (0.45,0.41,0.13,0.07) (0.33,0.67,0.00,0.00)\n",
        "--------------------------------"
       ]
      },
      {
       "output_type": "stream",
       "stream": "stdout",
       "text": [
        "\n",
        "M=700 GeV ------> 7.84 +- 0.37, and full range integral: 10.58\n",
        "Mean value: 697.26, with sigma: 43.03\n",
        "Chi2=11.73, ndf=17.00, Chi2/ndf=0.69\n",
        "TTbar ------> 6.38 +- 0.71, and full range integral: 18.67\n",
        "QCD ------> 5.72 +- 5.72, and full range integral: 17.16\n",
        "(6.70 5.33 0.70 0.20): 10.58; 18.67; 17.16; 2.52; 20.83 | (0.44,0.42,0.14,0.08) (0.33,0.67,0.00,0.00)\n",
        "--------------------------------"
       ]
      },
      {
       "output_type": "stream",
       "stream": "stdout",
       "text": [
        "\n",
        "M=700 GeV ------> 7.20 +- 0.35, and full range integral: 10.11\n",
        "Mean value: 696.98, with sigma: 41.75\n",
        "Chi2=23.51, ndf=17.00, Chi2/ndf=1.38\n",
        "TTbar ------> 5.12 +- 0.64, and full range integral: 16.86\n",
        "QCD ------> 0.00 +- 0.00, and full range integral: 17.16\n",
        "(6.70 5.33 0.70 0.15): 10.11; 16.86; 17.16; 2.67; 20.52 | (0.44,0.42,0.13,0.08) (0.33,0.67,0.00,0.00)\n",
        "--------------------------------"
       ]
      },
      {
       "output_type": "stream",
       "stream": "stdout",
       "text": [
        "\n",
        "M=700 GeV ------> 10.20 +- 0.42, and full range integral: 13.83\n",
        "Mean value: 694.90, with sigma: 39.70\n",
        "Chi2=18.15, ndf=17.00, Chi2/ndf=1.07\n",
        "TTbar ------> 10.08 +- 0.89, and full range integral: 29.30\n",
        "QCD ------> 0.00 +- 0.00, and full range integral: 11.44\n",
        "(6.87 4.00 0.70 0.10): 13.83; 29.30; 11.44; 2.12; 23.19 | (0.48,0.38,0.12,0.07) (0.50,0.50,0.00,0.00)\n",
        "--------------------------------"
       ]
      },
      {
       "output_type": "stream",
       "stream": "stdout",
       "text": [
        "\n",
        "M=700 GeV ------> 9.36 +- 0.40, and full range integral: 12.61\n",
        "Mean value: 695.86, with sigma: 39.45\n",
        "Chi2=16.13, ndf=17.00, Chi2/ndf=0.95\n",
        "TTbar ------> 7.56 +- 0.77, and full range integral: 23.71\n",
        "QCD ------> 0.00 +- 0.00, and full range integral: 11.44\n",
        "(6.87 4.00 0.72 0.10): 12.61; 23.71; 11.44; 2.38; 22.55 | (0.46,0.39,0.13,0.08) (0.50,0.50,0.00,0.00)\n",
        "--------------------------------"
       ]
      },
      {
       "output_type": "stream",
       "stream": "stdout",
       "text": [
        "\n",
        "M=700 GeV ------> 9.87 +- 0.42, and full range integral: 13.64\n",
        "Mean value: 695.00, with sigma: 40.27\n",
        "Chi2=17.87, ndf=17.00, Chi2/ndf=1.05\n",
        "TTbar ------> 9.22 +- 0.85, and full range integral: 27.96\n",
        "QCD ------> 5.72 +- 5.72, and full range integral: 17.16\n",
        "(6.87 4.67 0.65 0.10): 13.64; 27.96; 17.16; 2.18; 23.14 | (0.52,0.36,0.10,0.05) (1.00,0.00,0.00,0.00)\n",
        "--------------------------------"
       ]
      },
      {
       "output_type": "stream",
       "stream": "stdout",
       "text": [
        "\n",
        "M=700 GeV ------> 10.62 +- 0.43, and full range integral: 15.28\n",
        "Mean value: 695.17, with sigma: 43.04\n",
        "Chi2=7.97, ndf=17.00, Chi2/ndf=0.47\n",
        "TTbar ------> 9.93 +- 0.88, and full range integral: 30.25\n",
        "QCD ------> 0.00 +- 0.00, and full range integral: 17.16\n",
        "(6.87 4.67 0.67 0.20): 15.28; 30.25; 17.16; 2.26; 24.63 | (0.46,0.40,0.12,0.06) (0.33,0.67,0.00,0.00)\n",
        "--------------------------------"
       ]
      },
      {
       "output_type": "stream",
       "stream": "stdout",
       "text": [
        "\n",
        "M=700 GeV ------> 10.37 +- 0.43, and full range integral: 14.58\n",
        "Mean value: 695.11, with sigma: 41.59\n",
        "Chi2=18.95, ndf=17.00, Chi2/ndf=1.11\n",
        "TTbar ------> 9.22 +- 0.85, and full range integral: 27.88\n",
        "QCD ------> 0.00 +- 0.00, and full range integral: 17.16\n",
        "(6.87 4.67 0.67 0.15): 14.58; 27.88; 17.16; 2.34; 24.19 | (0.46,0.41,0.12,0.06) (0.33,0.67,0.00,0.00)\n",
        "--------------------------------"
       ]
      },
      {
       "output_type": "stream",
       "stream": "stdout",
       "text": [
        "\n",
        "M=700 GeV ------> 9.36 +- 0.40, and full range integral: 12.89\n",
        "Mean value: 695.18, with sigma: 40.34\n",
        "Chi2=18.43, ndf=17.00, Chi2/ndf=1.08\n",
        "TTbar ------> 8.11 +- 0.80, and full range integral: 24.18\n",
        "QCD ------> 0.00 +- 0.00, and full range integral: 5.72\n",
        "(6.87 4.67 0.67 0.10): 12.89; 24.18; 5.72; 2.40; 22.82 | (0.48,0.38,0.12,0.06) (1.00,0.00,0.00,0.00)\n",
        "--------------------------------"
       ]
      },
      {
       "output_type": "stream",
       "stream": "stdout",
       "text": [
        "\n",
        "M=700 GeV ------> 9.92 +- 0.42, and full range integral: 14.20\n",
        "Mean value: 696.39, with sigma: 43.04\n",
        "Chi2=7.41, ndf=17.00, Chi2/ndf=0.44\n",
        "TTbar ------> 8.82 +- 0.83, and full range integral: 26.39\n",
        "QCD ------> 0.00 +- 0.00, and full range integral: 17.16\n",
        "(6.87 4.67 0.70 0.20): 14.20; 26.39; 17.16; 2.41; 23.96 | (0.46,0.40,0.12,0.07) (0.33,0.67,0.00,0.00)\n",
        "--------------------------------"
       ]
      },
      {
       "output_type": "stream",
       "stream": "stdout",
       "text": [
        "\n",
        "M=700 GeV ------> 9.69 +- 0.41, and full range integral: 13.57\n",
        "Mean value: 696.13, with sigma: 41.62\n",
        "Chi2=17.70, ndf=17.00, Chi2/ndf=1.04\n",
        "TTbar ------> 8.19 +- 0.80, and full range integral: 24.18\n",
        "QCD ------> 0.00 +- 0.00, and full range integral: 17.16\n",
        "(6.87 4.67 0.70 0.15): 13.57; 24.18; 17.16; 2.51; 23.57 | (0.45,0.40,0.12,0.07) (0.33,0.67,0.00,0.00)\n",
        "--------------------------------"
       ]
      },
      {
       "output_type": "stream",
       "stream": "stdout",
       "text": [
        "\n",
        "M=700 GeV ------> 8.77 +- 0.39, and full range integral: 12.05\n",
        "Mean value: 696.00, with sigma: 40.46\n",
        "Chi2=17.34, ndf=17.00, Chi2/ndf=1.02\n",
        "TTbar ------> 7.17 +- 0.75, and full range integral: 20.80\n",
        "QCD ------> 0.00 +- 0.00, and full range integral: 5.72\n",
        "(6.87 4.67 0.70 0.10): 12.05; 20.80; 5.72; 2.60; 22.33 | (0.47,0.38,0.12,0.07) (1.00,0.00,0.00,0.00)\n",
        "--------------------------------"
       ]
      },
      {
       "output_type": "stream",
       "stream": "stdout",
       "text": [
        "\n",
        "M=700 GeV ------> 9.69 +- 0.41, and full range integral: 13.06\n",
        "Mean value: 697.54, with sigma: 42.73\n",
        "Chi2=6.39, ndf=17.00, Chi2/ndf=0.38\n",
        "TTbar ------> 7.80 +- 0.78, and full range integral: 22.21\n",
        "QCD ------> 5.72 +- 5.72, and full range integral: 17.16\n",
        "(6.87 4.67 0.72 0.20): 13.06; 22.21; 17.16; 2.62; 23.27 | (0.43,0.41,0.13,0.08) (0.33,0.67,0.00,0.00)\n",
        "--------------------------------"
       ]
      },
      {
       "output_type": "stream",
       "stream": "stdout",
       "text": [
        "\n",
        "M=700 GeV ------> 8.91 +- 0.39, and full range integral: 12.44\n",
        "Mean value: 697.28, with sigma: 41.19\n",
        "Chi2=15.16, ndf=17.00, Chi2/ndf=0.89\n",
        "TTbar ------> 6.54 +- 0.72, and full range integral: 20.64\n",
        "QCD ------> 0.00 +- 0.00, and full range integral: 17.16\n",
        "(6.87 4.67 0.72 0.15): 12.44; 20.64; 17.16; 2.69; 22.78 | (0.43,0.42,0.13,0.08) (0.33,0.67,0.00,0.00)\n",
        "--------------------------------"
       ]
      },
      {
       "output_type": "stream",
       "stream": "stdout",
       "text": [
        "\n",
        "M=700 GeV ------> 8.09 +- 0.38, and full range integral: 11.09\n",
        "Mean value: 696.87, with sigma: 40.16\n",
        "Chi2=14.07, ndf=17.00, Chi2/ndf=0.83\n",
        "TTbar ------> 5.59 +- 0.66, and full range integral: 17.72\n",
        "QCD ------> 0.00 +- 0.00, and full range integral: 5.72\n",
        "(6.87 4.67 0.72 0.10): 11.09; 17.72; 5.72; 2.81; 21.64 | (0.44,0.40,0.13,0.08) (1.00,0.00,0.00,0.00)\n",
        "--------------------------------"
       ]
      },
      {
       "output_type": "stream",
       "stream": "stdout",
       "text": [
        "\n",
        "M=700 GeV ------> 7.65 +- 0.37, and full range integral: 11.06\n",
        "Mean value: 696.47, with sigma: 43.34\n",
        "Chi2=10.07, ndf=17.00, Chi2/ndf=0.59\n",
        "TTbar ------> 5.99 +- 0.69, and full range integral: 19.22\n",
        "QCD ------> 0.00 +- 0.00, and full range integral: 17.16\n",
        "(6.87 5.33 0.67 0.20): 11.06; 19.22; 17.16; 2.56; 21.34 | (0.45,0.41,0.13,0.07) (0.33,0.67,0.00,0.00)\n",
        "--------------------------------"
       ]
      },
      {
       "output_type": "stream",
       "stream": "stdout",
       "text": [
        "\n",
        "M=700 GeV ------> 7.48 +- 0.36, and full range integral: 10.55\n",
        "Mean value: 696.35, with sigma: 42.04\n",
        "Chi2=24.06, ndf=17.00, Chi2/ndf=1.42\n",
        "TTbar ------> 5.44 +- 0.65, and full range integral: 17.49\n",
        "QCD ------> 0.00 +- 0.00, and full range integral: 17.16\n",
        "(6.87 5.33 0.67 0.15): 10.55; 17.49; 17.16; 2.68; 20.98 | (0.45,0.41,0.13,0.07) (0.33,0.67,0.00,0.00)\n",
        "--------------------------------"
       ]
      },
      {
       "output_type": "stream",
       "stream": "stdout",
       "text": [
        "\n",
        "M=700 GeV ------> 7.74 +- 0.37, and full range integral: 10.46\n",
        "Mean value: 697.51, with sigma: 43.16\n",
        "Chi2=11.07, ndf=17.00, Chi2/ndf=0.65\n",
        "TTbar ------> 6.14 +- 0.70, and full range integral: 17.80\n",
        "QCD ------> 5.72 +- 5.72, and full range integral: 17.16\n",
        "(6.87 5.33 0.70 0.20): 10.46; 17.80; 17.16; 2.62; 20.82 | (0.44,0.41,0.14,0.08) (0.33,0.67,0.00,0.00)\n",
        "--------------------------------"
       ]
      },
      {
       "output_type": "stream",
       "stream": "stdout",
       "text": [
        "\n",
        "M=700 GeV ------> 10.10 +- 0.42, and full range integral: 13.66\n",
        "Mean value: 694.56, with sigma: 39.65\n",
        "Chi2=16.74, ndf=17.00, Chi2/ndf=0.98\n",
        "TTbar ------> 9.53 +- 0.87, and full range integral: 28.12\n",
        "QCD ------> 0.00 +- 0.00, and full range integral: 11.44\n",
        "(7.03 4.00 0.70 0.10): 13.66; 28.12; 11.44; 2.18; 23.15 | (0.47,0.38,0.12,0.07) (0.50,0.50,0.00,0.00)\n",
        "--------------------------------"
       ]
      },
      {
       "output_type": "stream",
       "stream": "stdout",
       "text": [
        "\n",
        "M=700 GeV ------> 9.26 +- 0.40, and full range integral: 12.44\n",
        "Mean value: 695.50, with sigma: 39.40\n",
        "Chi2=15.37, ndf=17.00, Chi2/ndf=0.90\n",
        "TTbar ------> 7.01 +- 0.74, and full range integral: 22.69\n",
        "QCD ------> 0.00 +- 0.00, and full range integral: 11.44\n",
        "(7.03 4.00 0.72 0.10): 12.44; 22.69; 11.44; 2.46; 22.49 | (0.44,0.39,0.14,0.08) (0.50,0.50,0.00,0.00)\n",
        "--------------------------------"
       ]
      },
      {
       "output_type": "stream",
       "stream": "stdout",
       "text": [
        "\n",
        "M=700 GeV ------> 10.11 +- 0.42, and full range integral: 14.01\n",
        "Mean value: 694.38, with sigma: 40.49\n",
        "Chi2=18.80, ndf=17.00, Chi2/ndf=1.11\n",
        "TTbar ------> 9.61 +- 0.87, and full range integral: 29.62\n",
        "QCD ------> 5.72 +- 5.72, and full range integral: 17.16\n",
        "(7.03 4.67 0.63 0.10): 14.01; 29.62; 17.16; 2.12; 23.34 | (0.54,0.34,0.10,0.05) (1.00,0.00,0.00,0.00)\n",
        "--------------------------------"
       ]
      },
      {
       "output_type": "stream",
       "stream": "stdout",
       "text": [
        "\n",
        "M=700 GeV ------> 9.78 +- 0.41, and full range integral: 13.47\n",
        "Mean value: 694.62, with sigma: 40.16\n",
        "Chi2=15.99, ndf=17.00, Chi2/ndf=0.94\n",
        "TTbar ------> 8.90 +- 0.84, and full range integral: 27.25\n",
        "QCD ------> 5.72 +- 5.72, and full range integral: 17.16\n",
        "(7.03 4.67 0.65 0.10): 13.47; 27.25; 17.16; 2.21; 23.04 | (0.51,0.36,0.11,0.05) (1.00,0.00,0.00,0.00)\n",
        "--------------------------------"
       ]
      },
      {
       "output_type": "stream",
       "stream": "stdout",
       "text": [
        "\n",
        "M=700 GeV ------> 10.50 +- 0.43, and full range integral: 15.06\n",
        "Mean value: 694.84, with sigma: 43.00\n",
        "Chi2=7.20, ndf=17.00, Chi2/ndf=0.42\n",
        "TTbar ------> 9.61 +- 0.87, and full range integral: 29.46\n",
        "QCD ------> 0.00 +- 0.00, and full range integral: 17.16\n",
        "(7.03 4.67 0.67 0.20): 15.06; 29.46; 17.16; 2.29; 24.49 | (0.46,0.40,0.12,0.06) (0.33,0.67,0.00,0.00)\n",
        "--------------------------------"
       ]
      },
      {
       "output_type": "stream",
       "stream": "stdout",
       "text": [
        "\n",
        "M=700 GeV ------> 10.25 +- 0.42, and full range integral: 14.37\n",
        "Mean value: 694.70, with sigma: 41.56\n",
        "Chi2=17.12, ndf=17.00, Chi2/ndf=1.01\n",
        "TTbar ------> 8.90 +- 0.84, and full range integral: 27.10\n",
        "QCD ------> 0.00 +- 0.00, and full range integral: 17.16\n",
        "(7.03 4.67 0.67 0.15): 14.37; 27.10; 17.16; 2.37; 24.06 | (0.46,0.41,0.12,0.06) (0.33,0.67,0.00,0.00)\n",
        "--------------------------------"
       ]
      },
      {
       "output_type": "stream",
       "stream": "stdout",
       "text": [
        "\n",
        "M=700 GeV ------> 9.27 +- 0.40, and full range integral: 12.71\n",
        "Mean value: 694.77, with sigma: 40.23\n",
        "Chi2=16.39, ndf=17.00, Chi2/ndf=0.96\n",
        "TTbar ------> 7.80 +- 0.78, and full range integral: 23.47\n",
        "QCD ------> 0.00 +- 0.00, and full range integral: 5.72\n",
        "(7.03 4.67 0.67 0.10): 12.71; 23.47; 5.72; 2.43; 22.72 | (0.48,0.38,0.12,0.06) (1.00,0.00,0.00,0.00)\n",
        "--------------------------------"
       ]
      },
      {
       "output_type": "stream",
       "stream": "stdout",
       "text": [
        "\n",
        "M=700 GeV ------> 9.80 +- 0.41, and full range integral: 13.99\n",
        "Mean value: 696.14, with sigma: 43.06\n",
        "Chi2=6.71, ndf=17.00, Chi2/ndf=0.39\n",
        "TTbar ------> 8.51 +- 0.82, and full range integral: 25.60\n",
        "QCD ------> 0.00 +- 0.00, and full range integral: 17.16\n",
        "(7.03 4.67 0.70 0.20): 13.99; 25.60; 17.16; 2.44; 23.84 | (0.45,0.40,0.13,0.07) (0.33,0.67,0.00,0.00)\n",
        "--------------------------------"
       ]
      },
      {
       "output_type": "stream",
       "stream": "stdout",
       "text": [
        "\n",
        "M=700 GeV ------> 9.57 +- 0.41, and full range integral: 13.38\n",
        "Mean value: 695.79, with sigma: 41.64\n",
        "Chi2=16.16, ndf=17.00, Chi2/ndf=0.95\n",
        "TTbar ------> 7.88 +- 0.79, and full range integral: 23.39\n",
        "QCD ------> 0.00 +- 0.00, and full range integral: 17.16\n",
        "(7.03 4.67 0.70 0.15): 13.38; 23.39; 17.16; 2.55; 23.46 | (0.45,0.40,0.12,0.07) (0.33,0.67,0.00,0.00)\n",
        "--------------------------------"
       ]
      },
      {
       "output_type": "stream",
       "stream": "stdout",
       "text": [
        "\n",
        "M=700 GeV ------> 8.68 +- 0.39, and full range integral: 11.89\n",
        "Mean value: 695.67, with sigma: 40.40\n",
        "Chi2=15.80, ndf=17.00, Chi2/ndf=0.93\n",
        "TTbar ------> 6.85 +- 0.73, and full range integral: 20.09\n",
        "QCD ------> 0.00 +- 0.00, and full range integral: 5.72\n",
        "(7.03 4.67 0.70 0.10): 11.89; 20.09; 5.72; 2.66; 22.25 | (0.47,0.38,0.13,0.07) (1.00,0.00,0.00,0.00)\n",
        "--------------------------------"
       ]
      },
      {
       "output_type": "stream",
       "stream": "stdout",
       "text": [
        "\n",
        "M=700 GeV ------> 9.57 +- 0.41, and full range integral: 12.85\n",
        "Mean value: 697.28, with sigma: 42.75\n",
        "Chi2=6.12, ndf=17.00, Chi2/ndf=0.36\n",
        "TTbar ------> 7.48 +- 0.77, and full range integral: 21.50\n",
        "QCD ------> 5.72 +- 5.72, and full range integral: 17.16\n",
        "(7.03 4.67 0.72 0.20): 12.85; 21.50; 17.16; 2.67; 23.14 | (0.42,0.41,0.14,0.08) (0.33,0.67,0.00,0.00)\n",
        "--------------------------------"
       ]
      },
      {
       "output_type": "stream",
       "stream": "stdout",
       "text": [
        "\n",
        "M=700 GeV ------> 8.79 +- 0.39, and full range integral: 12.24\n",
        "Mean value: 696.92, with sigma: 41.22\n",
        "Chi2=14.34, ndf=17.00, Chi2/ndf=0.84\n",
        "TTbar ------> 6.22 +- 0.70, and full range integral: 19.93\n",
        "QCD ------> 0.00 +- 0.00, and full range integral: 17.16\n",
        "(7.03 4.67 0.72 0.15): 12.24; 19.93; 17.16; 2.74; 22.66 | (0.42,0.42,0.13,0.08) (0.33,0.67,0.00,0.00)\n",
        "--------------------------------"
       ]
      },
      {
       "output_type": "stream",
       "stream": "stdout",
       "text": [
        "\n",
        "M=700 GeV ------> 8.00 +- 0.37, and full range integral: 10.93\n",
        "Mean value: 696.53, with sigma: 40.11\n",
        "Chi2=13.17, ndf=17.00, Chi2/ndf=0.77\n",
        "TTbar ------> 5.28 +- 0.64, and full range integral: 17.09\n",
        "QCD ------> 0.00 +- 0.00, and full range integral: 5.72\n",
        "(7.03 4.67 0.72 0.10): 10.93; 17.09; 5.72; 2.87; 21.55 | (0.44,0.40,0.14,0.08) (1.00,0.00,0.00,0.00)\n",
        "--------------------------------"
       ]
      },
      {
       "output_type": "stream",
       "stream": "stdout",
       "text": [
        "\n",
        "M=700 GeV ------> 7.42 +- 0.36, and full range integral: 10.25\n",
        "Mean value: 695.61, with sigma: 39.93\n",
        "Chi2=12.51, ndf=17.00, Chi2/ndf=0.74\n",
        "TTbar ------> 5.83 +- 0.68, and full range integral: 18.83\n",
        "QCD ------> 5.72 +- 5.72, and full range integral: 17.16\n",
        "(7.03 5.33 0.58 0.10): 10.25; 18.83; 17.16; 2.43; 20.39 | (0.51,0.34,0.14,0.06) (1.00,0.00,0.00,0.00)\n",
        "--------------------------------"
       ]
      },
      {
       "output_type": "stream",
       "stream": "stdout",
       "text": [
        "\n",
        "M=700 GeV ------> 7.35 +- 0.36, and full range integral: 10.16\n",
        "Mean value: 695.80, with sigma: 39.94\n",
        "Chi2=12.22, ndf=17.00, Chi2/ndf=0.72\n",
        "TTbar ------> 5.59 +- 0.66, and full range integral: 18.04\n",
        "QCD ------> 5.72 +- 5.72, and full range integral: 17.16\n",
        "(7.03 5.33 0.60 0.10): 10.16; 18.04; 17.16; 2.51; 20.40 | (0.49,0.36,0.14,0.06) (1.00,0.00,0.00,0.00)\n",
        "--------------------------------"
       ]
      },
      {
       "output_type": "stream",
       "stream": "stdout",
       "text": [
        "\n",
        "M=700 GeV ------> 7.58 +- 0.36, and full range integral: 10.95\n",
        "Mean value: 696.28, with sigma: 43.29\n",
        "Chi2=8.90, ndf=17.00, Chi2/ndf=0.52\n",
        "TTbar ------> 5.99 +- 0.69, and full range integral: 19.06\n",
        "QCD ------> 0.00 +- 0.00, and full range integral: 17.16\n",
        "(7.03 5.33 0.67 0.20): 10.95; 19.06; 17.16; 2.56; 21.23 | (0.45,0.41,0.13,0.07) (0.33,0.67,0.00,0.00)\n",
        "--------------------------------"
       ]
      },
      {
       "output_type": "stream",
       "stream": "stdout",
       "text": [
        "\n",
        "M=700 GeV ------> 7.41 +- 0.36, and full range integral: 10.46\n",
        "Mean value: 696.06, with sigma: 42.01\n",
        "Chi2=22.20, ndf=17.00, Chi2/ndf=1.31\n",
        "TTbar ------> 5.44 +- 0.65, and full range integral: 17.33\n",
        "QCD ------> 0.00 +- 0.00, and full range integral: 17.16\n",
        "(7.03 5.33 0.67 0.15): 10.46; 17.33; 17.16; 2.69; 20.89 | (0.45,0.41,0.13,0.07) (0.33,0.67,0.00,0.00)\n",
        "--------------------------------"
       ]
      },
      {
       "output_type": "stream",
       "stream": "stdout",
       "text": [
        "\n",
        "M=700 GeV ------> 7.67 +- 0.37, and full range integral: 10.36\n",
        "Mean value: 697.33, with sigma: 43.11\n",
        "Chi2=9.81, ndf=17.00, Chi2/ndf=0.58\n",
        "TTbar ------> 6.14 +- 0.70, and full range integral: 17.64\n",
        "QCD ------> 5.72 +- 5.72, and full range integral: 17.16\n",
        "(7.03 5.33 0.70 0.20): 10.36; 17.64; 17.16; 2.61; 20.71 | (0.44,0.41,0.14,0.08) (0.33,0.67,0.00,0.00)\n",
        "--------------------------------"
       ]
      },
      {
       "output_type": "stream",
       "stream": "stdout",
       "text": [
        "\n",
        "M=700 GeV ------> 9.80 +- 0.41, and full range integral: 13.34\n",
        "Mean value: 694.74, with sigma: 39.89\n",
        "Chi2=17.26, ndf=17.00, Chi2/ndf=1.02\n",
        "TTbar ------> 9.37 +- 0.86, and full range integral: 27.10\n",
        "QCD ------> 0.00 +- 0.00, and full range integral: 11.44\n",
        "(7.20 4.00 0.70 0.10): 13.34; 27.10; 11.44; 2.21; 22.93 | (0.47,0.39,0.11,0.07) (0.50,0.50,0.00,0.00)\n",
        "--------------------------------"
       ]
      },
      {
       "output_type": "stream",
       "stream": "stdout",
       "text": [
        "\n",
        "M=700 GeV ------> 8.96 +- 0.40, and full range integral: 12.12\n",
        "Mean value: 695.72, with sigma: 39.65\n",
        "Chi2=15.25, ndf=17.00, Chi2/ndf=0.90\n",
        "TTbar ------> 6.93 +- 0.74, and full range integral: 21.82\n",
        "QCD ------> 0.00 +- 0.00, and full range integral: 11.44\n",
        "(7.20 4.00 0.72 0.10): 12.12; 21.82; 11.44; 2.49; 22.25 | (0.44,0.40,0.13,0.08) (0.50,0.50,0.00,0.00)\n",
        "--------------------------------"
       ]
      },
      {
       "output_type": "stream",
       "stream": "stdout",
       "text": [
        "\n",
        "M=700 GeV ------> 9.87 +- 0.42, and full range integral: 13.75\n",
        "Mean value: 694.58, with sigma: 40.69\n",
        "Chi2=18.97, ndf=17.00, Chi2/ndf=1.12\n",
        "TTbar ------> 9.53 +- 0.87, and full range integral: 28.59\n",
        "QCD ------> 5.72 +- 5.72, and full range integral: 17.16\n",
        "(7.20 4.67 0.63 0.10): 13.75; 28.59; 17.16; 2.15; 23.18 | (0.54,0.35,0.10,0.05) (1.00,0.00,0.00,0.00)\n",
        "--------------------------------"
       ]
      },
      {
       "output_type": "stream",
       "stream": "stdout",
       "text": [
        "\n",
        "M=700 GeV ------> 9.54 +- 0.41, and full range integral: 13.20\n",
        "Mean value: 694.83, with sigma: 40.36\n",
        "Chi2=16.44, ndf=17.00, Chi2/ndf=0.97\n",
        "TTbar ------> 8.90 +- 0.84, and full range integral: 26.39\n",
        "QCD ------> 5.72 +- 5.72, and full range integral: 17.16\n",
        "(7.20 4.67 0.65 0.10): 13.20; 26.39; 17.16; 2.24; 22.86 | (0.52,0.36,0.10,0.05) (1.00,0.00,0.00,0.00)\n",
        "--------------------------------"
       ]
      },
      {
       "output_type": "stream",
       "stream": "stdout",
       "text": [
        "\n",
        "M=700 GeV ------> 10.25 +- 0.42, and full range integral: 14.78\n",
        "Mean value: 695.04, with sigma: 43.24\n",
        "Chi2=7.20, ndf=17.00, Chi2/ndf=0.42\n",
        "TTbar ------> 9.53 +- 0.87, and full range integral: 28.51\n",
        "QCD ------> 0.00 +- 0.00, and full range integral: 17.16\n",
        "(7.20 4.67 0.67 0.20): 14.78; 28.51; 17.16; 2.32; 24.31 | (0.46,0.41,0.12,0.06) (0.33,0.67,0.00,0.00)\n",
        "--------------------------------"
       ]
      },
      {
       "output_type": "stream",
       "stream": "stdout",
       "text": [
        "\n",
        "M=700 GeV ------> 10.01 +- 0.42, and full range integral: 14.09\n",
        "Mean value: 694.91, with sigma: 41.78\n",
        "Chi2=17.64, ndf=17.00, Chi2/ndf=1.04\n",
        "TTbar ------> 8.90 +- 0.84, and full range integral: 26.23\n",
        "QCD ------> 0.00 +- 0.00, and full range integral: 17.16\n",
        "(7.20 4.67 0.67 0.15): 14.09; 26.23; 17.16; 2.40; 23.87 | (0.46,0.41,0.11,0.06) (0.33,0.67,0.00,0.00)\n",
        "--------------------------------"
       ]
      },
      {
       "output_type": "stream",
       "stream": "stdout",
       "text": [
        "\n",
        "M=700 GeV ------> 9.03 +- 0.40, and full range integral: 12.45\n",
        "Mean value: 695.00, with sigma: 40.44\n",
        "Chi2=17.03, ndf=17.00, Chi2/ndf=1.00\n",
        "TTbar ------> 7.80 +- 0.78, and full range integral: 22.61\n",
        "QCD ------> 0.00 +- 0.00, and full range integral: 5.72\n",
        "(7.20 4.67 0.67 0.10): 12.45; 22.61; 5.72; 2.48; 22.54 | (0.48,0.39,0.11,0.06) (1.00,0.00,0.00,0.00)\n",
        "--------------------------------"
       ]
      },
      {
       "output_type": "stream",
       "stream": "stdout",
       "text": [
        "\n",
        "M=700 GeV ------> 9.59 +- 0.41, and full range integral: 13.75\n",
        "Mean value: 696.37, with sigma: 43.23\n",
        "Chi2=6.72, ndf=17.00, Chi2/ndf=0.40\n",
        "TTbar ------> 8.43 +- 0.81, and full range integral: 24.81\n",
        "QCD ------> 0.00 +- 0.00, and full range integral: 17.16\n",
        "(7.20 4.67 0.70 0.20): 13.75; 24.81; 17.16; 2.47; 23.68 | (0.45,0.41,0.12,0.07) (0.33,0.67,0.00,0.00)\n",
        "--------------------------------"
       ]
      },
      {
       "output_type": "stream",
       "stream": "stdout",
       "text": [
        "\n",
        "M=700 GeV ------> 9.36 +- 0.40, and full range integral: 13.13\n",
        "Mean value: 696.02, with sigma: 41.80\n",
        "Chi2=16.40, ndf=17.00, Chi2/ndf=0.96\n",
        "TTbar ------> 7.88 +- 0.79, and full range integral: 22.69\n",
        "QCD ------> 0.00 +- 0.00, and full range integral: 17.16\n",
        "(7.20 4.67 0.70 0.15): 13.13; 22.69; 17.16; 2.58; 23.28 | (0.45,0.41,0.12,0.07) (0.33,0.67,0.00,0.00)\n",
        "--------------------------------"
       ]
      },
      {
       "output_type": "stream",
       "stream": "stdout",
       "text": [
        "\n",
        "M=700 GeV ------> 8.47 +- 0.38, and full range integral: 11.67\n",
        "Mean value: 695.92, with sigma: 40.55\n",
        "Chi2=16.40, ndf=17.00, Chi2/ndf=0.96\n",
        "TTbar ------> 6.85 +- 0.73, and full range integral: 19.38\n",
        "QCD ------> 0.00 +- 0.00, and full range integral: 5.72\n",
        "(7.20 4.67 0.70 0.10): 11.67; 19.38; 5.72; 2.70; 22.08 | (0.47,0.39,0.12,0.07) (1.00,0.00,0.00,0.00)\n",
        "--------------------------------"
       ]
      },
      {
       "output_type": "stream",
       "stream": "stdout",
       "text": [
        "\n",
        "M=700 GeV ------> 9.36 +- 0.40, and full range integral: 12.61\n",
        "Mean value: 697.56, with sigma: 42.93\n",
        "Chi2=5.68, ndf=17.00, Chi2/ndf=0.33\n",
        "TTbar ------> 7.48 +- 0.77, and full range integral: 20.80\n",
        "QCD ------> 5.72 +- 5.72, and full range integral: 17.16\n",
        "(7.20 4.67 0.72 0.20): 12.61; 20.80; 17.16; 2.70; 22.96 | (0.42,0.42,0.13,0.08) (0.33,0.67,0.00,0.00)\n",
        "--------------------------------"
       ]
      },
      {
       "output_type": "stream",
       "stream": "stdout",
       "text": [
        "\n",
        "M=700 GeV ------> 8.58 +- 0.39, and full range integral: 12.00\n",
        "Mean value: 697.21, with sigma: 41.37\n",
        "Chi2=14.21, ndf=17.00, Chi2/ndf=0.84\n",
        "TTbar ------> 6.22 +- 0.70, and full range integral: 19.22\n",
        "QCD ------> 0.00 +- 0.00, and full range integral: 17.16\n",
        "(7.20 4.67 0.72 0.15): 12.00; 19.22; 17.16; 2.78; 22.48 | (0.42,0.43,0.12,0.08) (0.33,0.67,0.00,0.00)\n",
        "--------------------------------"
       ]
      },
      {
       "output_type": "stream",
       "stream": "stdout",
       "text": [
        "\n",
        "M=700 GeV ------> 7.79 +- 0.37, and full range integral: 10.71\n",
        "Mean value: 696.82, with sigma: 40.25\n",
        "Chi2=13.15, ndf=17.00, Chi2/ndf=0.77\n",
        "TTbar ------> 5.28 +- 0.64, and full range integral: 16.38\n",
        "QCD ------> 0.00 +- 0.00, and full range integral: 5.72\n",
        "(7.20 4.67 0.72 0.10): 10.71; 16.38; 5.72; 2.93; 21.38 | (0.44,0.41,0.13,0.08) (1.00,0.00,0.00,0.00)\n",
        "--------------------------------"
       ]
      },
      {
       "output_type": "stream",
       "stream": "stdout",
       "text": [
        "\n",
        "M=700 GeV ------> 7.25 +- 0.36, and full range integral: 10.06\n",
        "Mean value: 695.82, with sigma: 40.10\n",
        "Chi2=12.81, ndf=17.00, Chi2/ndf=0.75\n",
        "TTbar ------> 5.83 +- 0.68, and full range integral: 18.35\n",
        "QCD ------> 5.72 +- 5.72, and full range integral: 17.16\n",
        "(7.20 5.33 0.58 0.10): 10.06; 18.35; 17.16; 2.44; 20.21 | (0.52,0.35,0.13,0.06) (1.00,0.00,0.00,0.00)\n",
        "--------------------------------"
       ]
      },
      {
       "output_type": "stream",
       "stream": "stdout",
       "text": [
        "\n",
        "M=700 GeV ------> 7.93 +- 0.37, and full range integral: 10.76\n",
        "Mean value: 696.50, with sigma: 43.53\n",
        "Chi2=9.10, ndf=17.00, Chi2/ndf=0.54\n",
        "TTbar ------> 6.70 +- 0.73, and full range integral: 18.59\n",
        "QCD ------> 5.72 +- 5.72, and full range integral: 17.16\n",
        "(7.20 5.33 0.67 0.20): 10.76; 18.59; 17.16; 2.58; 21.07 | (0.45,0.42,0.12,0.07) (0.33,0.67,0.00,0.00)\n",
        "--------------------------------"
       ]
      },
      {
       "output_type": "stream",
       "stream": "stdout",
       "text": [
        "\n",
        "M=700 GeV ------> 7.23 +- 0.36, and full range integral: 10.27\n",
        "Mean value: 696.28, with sigma: 42.23\n",
        "Chi2=23.16, ndf=17.00, Chi2/ndf=1.36\n",
        "TTbar ------> 5.44 +- 0.65, and full range integral: 16.86\n",
        "QCD ------> 0.00 +- 0.00, and full range integral: 17.16\n",
        "(7.20 5.33 0.67 0.15): 10.27; 16.86; 17.16; 2.71; 20.72 | (0.46,0.42,0.12,0.07) (0.33,0.67,0.00,0.00)\n",
        "--------------------------------"
       ]
      },
      {
       "output_type": "stream",
       "stream": "stdout",
       "text": [
        "\n",
        "M=700 GeV ------> 7.51 +- 0.36, and full range integral: 10.18\n",
        "Mean value: 697.58, with sigma: 43.30\n",
        "Chi2=10.11, ndf=17.00, Chi2/ndf=0.59\n",
        "TTbar ------> 6.14 +- 0.70, and full range integral: 17.17\n",
        "QCD ------> 5.72 +- 5.72, and full range integral: 17.16\n",
        "(7.20 5.33 0.70 0.20): 10.18; 17.17; 17.16; 2.64; 20.56 | (0.44,0.42,0.13,0.07) (0.33,0.67,0.00,0.00)\n",
        "--------------------------------"
       ]
      },
      {
       "output_type": "stream",
       "stream": "stdout",
       "text": [
        "\n",
        "M=700 GeV ------> 9.61 +- 0.41, and full range integral: 13.05\n",
        "Mean value: 694.94, with sigma: 39.62\n",
        "Chi2=16.24, ndf=17.00, Chi2/ndf=0.96\n",
        "TTbar ------> 8.66 +- 0.83, and full range integral: 25.60\n",
        "QCD ------> 0.00 +- 0.00, and full range integral: 11.44\n",
        "(7.37 4.00 0.70 0.10): 13.05; 25.60; 11.44; 2.28; 22.79 | (0.46,0.39,0.12,0.08) (0.50,0.50,0.00,0.00)\n",
        "--------------------------------"
       ]
      },
      {
       "output_type": "stream",
       "stream": "stdout",
       "text": [
        "\n",
        "M=700 GeV ------> 8.77 +- 0.39, and full range integral: 11.82\n",
        "Mean value: 695.97, with sigma: 39.34\n",
        "Chi2=13.79, ndf=17.00, Chi2/ndf=0.81\n",
        "TTbar ------> 6.30 +- 0.70, and full range integral: 20.40\n",
        "QCD ------> 0.00 +- 0.00, and full range integral: 11.44\n",
        "(7.37 4.00 0.72 0.10): 11.82; 20.40; 11.44; 2.59; 22.10 | (0.42,0.41,0.13,0.08) (0.50,0.50,0.00,0.00)\n",
        "--------------------------------"
       ]
      },
      {
       "output_type": "stream",
       "stream": "stdout",
       "text": [
        "\n",
        "M=700 GeV ------> 9.71 +- 0.41, and full range integral: 13.52\n",
        "Mean value: 694.48, with sigma: 40.58\n",
        "Chi2=18.14, ndf=17.00, Chi2/ndf=1.07\n",
        "TTbar ------> 8.82 +- 0.83, and full range integral: 27.10\n",
        "QCD ------> 5.72 +- 5.72, and full range integral: 17.16\n",
        "(7.37 4.67 0.63 0.10): 13.52; 27.10; 17.16; 2.23; 23.12 | (0.53,0.35,0.10,0.05) (1.00,0.00,0.00,0.00)\n",
        "--------------------------------"
       ]
      },
      {
       "output_type": "stream",
       "stream": "stdout",
       "text": [
        "\n",
        "M=700 GeV ------> 9.38 +- 0.40, and full range integral: 12.98\n",
        "Mean value: 694.74, with sigma: 40.24\n",
        "Chi2=15.79, ndf=17.00, Chi2/ndf=0.93\n",
        "TTbar ------> 8.19 +- 0.80, and full range integral: 24.89\n",
        "QCD ------> 5.72 +- 5.72, and full range integral: 17.16\n",
        "(7.37 4.67 0.65 0.10): 12.98; 24.89; 17.16; 2.33; 22.80 | (0.51,0.37,0.10,0.06) (1.00,0.00,0.00,0.00)\n",
        "--------------------------------"
       ]
      },
      {
       "output_type": "stream",
       "stream": "stdout",
       "text": [
        "\n",
        "M=700 GeV ------> 10.04 +- 0.42, and full range integral: 14.50\n",
        "Mean value: 694.93, with sigma: 43.26\n",
        "Chi2=6.36, ndf=17.00, Chi2/ndf=0.37\n",
        "TTbar ------> 8.74 +- 0.83, and full range integral: 26.94\n",
        "QCD ------> 0.00 +- 0.00, and full range integral: 17.16\n",
        "(7.37 4.67 0.67 0.20): 14.50; 26.94; 17.16; 2.41; 24.21 | (0.45,0.41,0.12,0.07) (0.33,0.67,0.00,0.00)\n",
        "--------------------------------"
       ]
      },
      {
       "output_type": "stream",
       "stream": "stdout",
       "text": [
        "\n",
        "M=700 GeV ------> 9.80 +- 0.41, and full range integral: 13.82\n",
        "Mean value: 694.79, with sigma: 41.77\n",
        "Chi2=16.78, ndf=17.00, Chi2/ndf=0.99\n",
        "TTbar ------> 8.19 +- 0.80, and full range integral: 24.81\n",
        "QCD ------> 0.00 +- 0.00, and full range integral: 17.16\n",
        "(7.37 4.67 0.67 0.15): 13.82; 24.81; 17.16; 2.49; 23.75 | (0.45,0.42,0.12,0.07) (0.33,0.67,0.00,0.00)\n",
        "--------------------------------"
       ]
      },
      {
       "output_type": "stream",
       "stream": "stdout",
       "text": [
        "\n",
        "M=700 GeV ------> 8.87 +- 0.39, and full range integral: 12.23\n",
        "Mean value: 694.91, with sigma: 40.31\n",
        "Chi2=16.48, ndf=17.00, Chi2/ndf=0.97\n",
        "TTbar ------> 7.09 +- 0.75, and full range integral: 21.19\n",
        "QCD ------> 0.00 +- 0.00, and full range integral: 5.72\n",
        "(7.37 4.67 0.67 0.10): 12.23; 21.19; 5.72; 2.59; 22.48 | (0.47,0.39,0.12,0.06) (1.00,0.00,0.00,0.00)\n",
        "--------------------------------"
       ]
      },
      {
       "output_type": "stream",
       "stream": "stdout",
       "text": [
        "\n",
        "M=700 GeV ------> 9.43 +- 0.41, and full range integral: 13.52\n",
        "Mean value: 696.26, with sigma: 43.15\n",
        "Chi2=5.83, ndf=17.00, Chi2/ndf=0.34\n",
        "TTbar ------> 7.72 +- 0.78, and full range integral: 23.39\n",
        "QCD ------> 0.00 +- 0.00, and full range integral: 17.16\n",
        "(7.37 4.67 0.70 0.20): 13.52; 23.39; 17.16; 2.58; 23.62 | (0.43,0.41,0.12,0.08) (0.33,0.67,0.00,0.00)\n",
        "--------------------------------"
       ]
      },
      {
       "output_type": "stream",
       "stream": "stdout",
       "text": [
        "\n",
        "M=700 GeV ------> 9.20 +- 0.40, and full range integral: 12.91\n",
        "Mean value: 695.90, with sigma: 41.69\n",
        "Chi2=15.16, ndf=17.00, Chi2/ndf=0.89\n",
        "TTbar ------> 7.25 +- 0.76, and full range integral: 21.43\n",
        "QCD ------> 0.00 +- 0.00, and full range integral: 17.16\n",
        "(7.37 4.67 0.70 0.15): 12.91; 21.43; 17.16; 2.69; 23.21 | (0.43,0.42,0.12,0.08) (0.33,0.67,0.00,0.00)\n",
        "--------------------------------"
       ]
      },
      {
       "output_type": "stream",
       "stream": "stdout",
       "text": [
        "\n",
        "M=700 GeV ------> 8.35 +- 0.38, and full range integral: 11.47\n",
        "Mean value: 695.86, with sigma: 40.34\n",
        "Chi2=15.61, ndf=17.00, Chi2/ndf=0.92\n",
        "TTbar ------> 6.22 +- 0.70, and full range integral: 18.12\n",
        "QCD ------> 0.00 +- 0.00, and full range integral: 5.72\n",
        "(7.37 4.67 0.70 0.10): 11.47; 18.12; 5.72; 2.84; 22.05 | (0.45,0.40,0.13,0.07) (1.00,0.00,0.00,0.00)\n",
        "--------------------------------"
       ]
      },
      {
       "output_type": "stream",
       "stream": "stdout",
       "text": [
        "\n",
        "M=700 GeV ------> 9.22 +- 0.40, and full range integral: 12.40\n",
        "Mean value: 697.50, with sigma: 42.81\n",
        "Chi2=5.24, ndf=17.00, Chi2/ndf=0.31\n",
        "TTbar ------> 6.77 +- 0.73, and full range integral: 19.38\n",
        "QCD ------> 5.72 +- 5.72, and full range integral: 17.16\n",
        "(7.37 4.67 0.72 0.20): 12.40; 19.38; 17.16; 2.85; 22.93 | (0.39,0.43,0.13,0.09) (0.33,0.67,0.00,0.00)\n",
        "--------------------------------"
       ]
      },
      {
       "output_type": "stream",
       "stream": "stdout",
       "text": [
        "\n",
        "M=700 GeV ------> 8.44 +- 0.38, and full range integral: 11.79\n",
        "Mean value: 697.14, with sigma: 41.23\n",
        "Chi2=13.72, ndf=17.00, Chi2/ndf=0.81\n",
        "TTbar ------> 5.59 +- 0.66, and full range integral: 17.96\n",
        "QCD ------> 0.00 +- 0.00, and full range integral: 17.16\n",
        "(7.37 4.67 0.72 0.15): 11.79; 17.96; 17.16; 2.92; 22.43 | (0.40,0.44,0.13,0.09) (0.33,0.67,0.00,0.00)\n",
        "--------------------------------"
       ]
      },
      {
       "output_type": "stream",
       "stream": "stdout",
       "text": [
        "\n",
        "M=700 GeV ------> 7.67 +- 0.37, and full range integral: 10.51\n",
        "Mean value: 696.76, with sigma: 40.02\n",
        "Chi2=12.53, ndf=17.00, Chi2/ndf=0.74\n",
        "TTbar ------> 4.65 +- 0.61, and full range integral: 15.12\n",
        "QCD ------> 0.00 +- 0.00, and full range integral: 5.72\n",
        "(7.37 4.67 0.72 0.10): 10.51; 15.12; 5.72; 3.12; 21.35 | (0.42,0.42,0.14,0.08) (1.00,0.00,0.00,0.00)\n",
        "--------------------------------"
       ]
      },
      {
       "output_type": "stream",
       "stream": "stdout",
       "text": [
        "\n",
        "M=700 GeV ------> 7.27 +- 0.36, and full range integral: 10.57\n",
        "Mean value: 696.15, with sigma: 43.51\n",
        "Chi2=7.81, ndf=17.00, Chi2/ndf=0.46\n",
        "TTbar ------> 5.59 +- 0.66, and full range integral: 17.80\n",
        "QCD ------> 0.00 +- 0.00, and full range integral: 17.16\n",
        "(7.37 5.33 0.67 0.20): 10.57; 17.80; 17.16; 2.64; 20.95 | (0.44,0.42,0.13,0.07) (0.33,0.67,0.00,0.00)\n",
        "--------------------------------"
       ]
      },
      {
       "output_type": "stream",
       "stream": "stdout",
       "text": [
        "\n",
        "M=700 GeV ------> 7.09 +- 0.35, and full range integral: 10.08\n",
        "Mean value: 695.91, with sigma: 42.17\n",
        "Chi2=20.58, ndf=17.00, Chi2/ndf=1.21\n",
        "TTbar ------> 5.12 +- 0.64, and full range integral: 16.15\n",
        "QCD ------> 0.00 +- 0.00, and full range integral: 17.16\n",
        "(7.37 5.33 0.67 0.15): 10.08; 16.15; 17.16; 2.77; 20.59 | (0.44,0.42,0.12,0.07) (0.33,0.67,0.00,0.00)\n",
        "--------------------------------"
       ]
      },
      {
       "output_type": "stream",
       "stream": "stdout",
       "text": [
        "\n",
        "M=700 GeV ------> 7.39 +- 0.36, and full range integral: 10.01\n",
        "Mean value: 697.27, with sigma: 43.23\n",
        "Chi2=8.83, ndf=17.00, Chi2/ndf=0.52\n",
        "TTbar ------> 5.83 +- 0.68, and full range integral: 16.46\n",
        "QCD ------> 5.72 +- 5.72, and full range integral: 17.16\n",
        "(7.37 5.33 0.70 0.20): 10.01; 16.46; 17.16; 2.70; 20.45 | (0.43,0.42,0.13,0.08) (0.33,0.67,0.00,0.00)\n",
        "--------------------------------"
       ]
      },
      {
       "output_type": "stream",
       "stream": "stdout",
       "text": [
        "\n",
        "M=700 GeV ------> 9.48 +- 0.41, and full range integral: 12.85\n",
        "Mean value: 695.22, with sigma: 39.68\n",
        "Chi2=16.77, ndf=17.00, Chi2/ndf=0.99\n",
        "TTbar ------> 8.35 +- 0.81, and full range integral: 24.50\n",
        "QCD ------> 0.00 +- 0.00, and full range integral: 11.44\n",
        "(7.53 4.00 0.70 0.10): 12.85; 24.50; 11.44; 2.35; 22.72 | (0.45,0.40,0.12,0.08) (0.50,0.50,0.00,0.00)\n",
        "--------------------------------"
       ]
      },
      {
       "output_type": "stream",
       "stream": "stdout",
       "text": [
        "\n",
        "M=700 GeV ------> 8.65 +- 0.39, and full range integral: 11.63\n",
        "Mean value: 696.29, with sigma: 39.40\n",
        "Chi2=14.76, ndf=17.00, Chi2/ndf=0.87\n",
        "TTbar ------> 5.99 +- 0.69, and full range integral: 19.54\n",
        "QCD ------> 0.00 +- 0.00, and full range integral: 11.44\n",
        "(7.53 4.00 0.72 0.10): 11.63; 19.54; 11.44; 2.66; 22.01 | (0.42,0.41,0.14,0.08) (0.50,0.50,0.00,0.00)\n",
        "--------------------------------"
       ]
      },
      {
       "output_type": "stream",
       "stream": "stdout",
       "text": [
        "\n",
        "M=700 GeV ------> 9.59 +- 0.41, and full range integral: 13.34\n",
        "Mean value: 694.67, with sigma: 40.68\n",
        "Chi2=18.43, ndf=17.00, Chi2/ndf=1.08\n",
        "TTbar ------> 8.66 +- 0.83, and full range integral: 26.47\n",
        "QCD ------> 5.72 +- 5.72, and full range integral: 17.16\n",
        "(7.53 4.67 0.63 0.10): 13.34; 26.47; 17.16; 2.25; 23.00 | (0.53,0.35,0.10,0.05) (1.00,0.00,0.00,0.00)\n",
        "--------------------------------"
       ]
      },
      {
       "output_type": "stream",
       "stream": "stdout",
       "text": [
        "\n",
        "M=700 GeV ------> 9.26 +- 0.40, and full range integral: 12.80\n",
        "Mean value: 694.94, with sigma: 40.34\n",
        "Chi2=16.04, ndf=17.00, Chi2/ndf=0.94\n",
        "TTbar ------> 8.03 +- 0.80, and full range integral: 24.26\n",
        "QCD ------> 5.72 +- 5.72, and full range integral: 17.16\n",
        "(7.53 4.67 0.65 0.10): 12.80; 24.26; 17.16; 2.36; 22.69 | (0.51,0.37,0.10,0.06) (1.00,0.00,0.00,0.00)\n",
        "--------------------------------"
       ]
      },
      {
       "output_type": "stream",
       "stream": "stdout",
       "text": [
        "\n",
        "M=700 GeV ------> 9.92 +- 0.42, and full range integral: 14.29\n",
        "Mean value: 695.00, with sigma: 43.24\n",
        "Chi2=7.59, ndf=17.00, Chi2/ndf=0.45\n",
        "TTbar ------> 8.51 +- 0.82, and full range integral: 25.99\n",
        "QCD ------> 0.00 +- 0.00, and full range integral: 17.16\n",
        "(7.53 4.67 0.67 0.20): 14.29; 25.99; 17.16; 2.46; 24.11 | (0.45,0.42,0.12,0.07) (0.33,0.67,0.00,0.00)\n",
        "--------------------------------"
       ]
      },
      {
       "output_type": "stream",
       "stream": "stdout",
       "text": [
        "\n",
        "M=700 GeV ------> 9.68 +- 0.41, and full range integral: 13.62\n",
        "Mean value: 694.98, with sigma: 41.89\n",
        "Chi2=17.26, ndf=17.00, Chi2/ndf=1.02\n",
        "TTbar ------> 7.96 +- 0.79, and full range integral: 24.02\n",
        "QCD ------> 0.00 +- 0.00, and full range integral: 17.16\n",
        "(7.53 4.67 0.67 0.15): 13.62; 24.02; 17.16; 2.53; 23.65 | (0.45,0.42,0.11,0.07) (0.33,0.67,0.00,0.00)\n",
        "--------------------------------"
       ]
      },
      {
       "output_type": "stream",
       "stream": "stdout",
       "text": [
        "\n",
        "M=700 GeV ------> 8.75 +- 0.39, and full range integral: 12.05\n",
        "Mean value: 695.12, with sigma: 40.43\n",
        "Chi2=16.43, ndf=17.00, Chi2/ndf=0.97\n",
        "TTbar ------> 6.93 +- 0.74, and full range integral: 20.64\n",
        "QCD ------> 0.00 +- 0.00, and full range integral: 5.72\n",
        "(7.53 4.67 0.67 0.10): 12.05; 20.64; 5.72; 2.62; 22.35 | (0.47,0.39,0.11,0.06) (1.00,0.00,0.00,0.00)\n",
        "--------------------------------"
       ]
      },
      {
       "output_type": "stream",
       "stream": "stdout",
       "text": [
        "\n",
        "M=700 GeV ------> 9.31 +- 0.40, and full range integral: 13.31\n",
        "Mean value: 696.35, with sigma: 43.12\n",
        "Chi2=7.21, ndf=17.00, Chi2/ndf=0.42\n",
        "TTbar ------> 7.48 +- 0.77, and full range integral: 22.45\n",
        "QCD ------> 0.00 +- 0.00, and full range integral: 17.16\n",
        "(7.53 4.67 0.70 0.20): 13.31; 22.45; 17.16; 2.65; 23.52 | (0.44,0.42,0.12,0.08) (0.33,0.67,0.00,0.00)\n",
        "--------------------------------"
       ]
      },
      {
       "output_type": "stream",
       "stream": "stdout",
       "text": [
        "\n",
        "M=700 GeV ------> 9.08 +- 0.40, and full range integral: 12.71\n",
        "Mean value: 696.12, with sigma: 41.81\n",
        "Chi2=15.76, ndf=17.00, Chi2/ndf=0.93\n",
        "TTbar ------> 7.01 +- 0.74, and full range integral: 20.64\n",
        "QCD ------> 0.00 +- 0.00, and full range integral: 17.16\n",
        "(7.53 4.67 0.70 0.15): 12.71; 20.64; 17.16; 2.75; 23.10 | (0.43,0.42,0.12,0.08) (0.33,0.67,0.00,0.00)\n",
        "--------------------------------"
       ]
      },
      {
       "output_type": "stream",
       "stream": "stdout",
       "text": [
        "\n",
        "M=700 GeV ------> 8.23 +- 0.38, and full range integral: 11.30\n",
        "Mean value: 696.10, with sigma: 40.45\n",
        "Chi2=15.80, ndf=17.00, Chi2/ndf=0.93\n",
        "TTbar ------> 6.07 +- 0.69, and full range integral: 17.57\n",
        "QCD ------> 0.00 +- 0.00, and full range integral: 5.72\n",
        "(7.53 4.67 0.70 0.10): 11.30; 17.57; 5.72; 2.89; 21.92 | (0.45,0.40,0.12,0.08) (1.00,0.00,0.00,0.00)\n",
        "--------------------------------"
       ]
      },
      {
       "output_type": "stream",
       "stream": "stdout",
       "text": [
        "\n",
        "M=700 GeV ------> 9.10 +- 0.40, and full range integral: 12.19\n",
        "Mean value: 697.62, with sigma: 42.77\n",
        "Chi2=6.84, ndf=17.00, Chi2/ndf=0.40\n",
        "TTbar ------> 6.54 +- 0.72, and full range integral: 18.59\n",
        "QCD ------> 5.72 +- 5.72, and full range integral: 17.16\n",
        "(7.53 4.67 0.72 0.20): 12.19; 18.59; 17.16; 2.92; 22.80 | (0.39,0.44,0.13,0.09) (0.33,0.67,0.00,0.00)\n",
        "--------------------------------"
       ]
      },
      {
       "output_type": "stream",
       "stream": "stdout",
       "text": [
        "\n",
        "M=700 GeV ------> 8.31 +- 0.38, and full range integral: 11.60\n",
        "Mean value: 697.40, with sigma: 41.34\n",
        "Chi2=14.80, ndf=17.00, Chi2/ndf=0.87\n",
        "TTbar ------> 5.36 +- 0.65, and full range integral: 17.33\n",
        "QCD ------> 0.00 +- 0.00, and full range integral: 17.16\n",
        "(7.53 4.67 0.72 0.15): 11.60; 17.33; 17.16; 2.98; 22.29 | (0.40,0.44,0.13,0.09) (0.33,0.67,0.00,0.00)\n",
        "--------------------------------"
       ]
      },
      {
       "output_type": "stream",
       "stream": "stdout",
       "text": [
        "\n",
        "M=700 GeV ------> 7.55 +- 0.36, and full range integral: 10.34\n",
        "Mean value: 697.04, with sigma: 40.13\n",
        "Chi2=13.14, ndf=17.00, Chi2/ndf=0.77\n",
        "TTbar ------> 4.49 +- 0.59, and full range integral: 14.73\n",
        "QCD ------> 0.00 +- 0.00, and full range integral: 5.72\n",
        "(7.53 4.67 0.72 0.10): 10.34; 14.73; 5.72; 3.15; 21.20 | (0.41,0.42,0.14,0.09) (1.00,0.00,0.00,0.00)\n",
        "--------------------------------"
       ]
      },
      {
       "output_type": "stream",
       "stream": "stdout",
       "text": [
        "\n",
        "M=700 GeV ------> 7.23 +- 0.36, and full range integral: 10.50\n",
        "Mean value: 696.19, with sigma: 43.61\n",
        "Chi2=7.98, ndf=17.00, Chi2/ndf=0.47\n",
        "TTbar ------> 5.51 +- 0.66, and full range integral: 17.09\n",
        "QCD ------> 0.00 +- 0.00, and full range integral: 17.16\n",
        "(7.53 5.33 0.67 0.20): 10.50; 17.09; 17.16; 2.73; 20.98 | (0.44,0.42,0.12,0.07) (0.33,0.67,0.00,0.00)\n",
        "--------------------------------"
       ]
      },
      {
       "output_type": "stream",
       "stream": "stdout",
       "text": [
        "\n",
        "M=700 GeV ------> 7.06 +- 0.35, and full range integral: 10.01\n",
        "Mean value: 695.96, with sigma: 42.28\n",
        "Chi2=21.25, ndf=17.00, Chi2/ndf=1.25\n",
        "TTbar ------> 5.04 +- 0.63, and full range integral: 15.60\n",
        "QCD ------> 0.00 +- 0.00, and full range integral: 17.16\n",
        "(7.53 5.33 0.67 0.15): 10.01; 15.60; 17.16; 2.85; 20.60 | (0.44,0.41,0.12,0.08) (0.33,0.67,0.00,0.00)\n",
        "--------------------------------"
       ]
      },
      {
       "output_type": "stream",
       "stream": "stdout",
       "text": [
        "\n",
        "M=700 GeV ------> 9.17 +- 0.40, and full range integral: 12.44\n",
        "Mean value: 695.58, with sigma: 39.70\n",
        "Chi2=15.44, ndf=17.00, Chi2/ndf=0.91\n",
        "TTbar ------> 7.88 +- 0.79, and full range integral: 23.32\n",
        "QCD ------> 0.00 +- 0.00, and full range integral: 11.44\n",
        "(7.70 4.00 0.70 0.10): 12.44; 23.32; 11.44; 2.39; 22.40 | (0.44,0.41,0.12,0.08) (0.50,0.50,0.00,0.00)\n",
        "--------------------------------"
       ]
      },
      {
       "output_type": "stream",
       "stream": "stdout",
       "text": [
        "\n",
        "M=700 GeV ------> 8.37 +- 0.38, and full range integral: 11.27\n",
        "Mean value: 696.58, with sigma: 39.37\n",
        "Chi2=13.37, ndf=17.00, Chi2/ndf=0.79\n",
        "TTbar ------> 5.67 +- 0.67, and full range integral: 18.59\n",
        "QCD ------> 0.00 +- 0.00, and full range integral: 11.44\n",
        "(7.70 4.00 0.72 0.10): 11.27; 18.59; 11.44; 2.71; 21.71 | (0.40,0.42,0.14,0.09) (0.50,0.50,0.00,0.00)\n",
        "--------------------------------"
       ]
      },
      {
       "output_type": "stream",
       "stream": "stdout",
       "text": [
        "\n",
        "M=700 GeV ------> 9.34 +- 0.40, and full range integral: 12.99\n",
        "Mean value: 695.02, with sigma: 40.60\n",
        "Chi2=18.45, ndf=17.00, Chi2/ndf=1.09\n",
        "TTbar ------> 8.11 +- 0.80, and full range integral: 25.29\n",
        "QCD ------> 5.72 +- 5.72, and full range integral: 17.16\n",
        "(7.70 4.67 0.63 0.10): 12.99; 25.29; 17.16; 2.30; 22.77 | (0.53,0.36,0.10,0.06) (1.00,0.00,0.00,0.00)\n",
        "--------------------------------"
       ]
      },
      {
       "output_type": "stream",
       "stream": "stdout",
       "text": [
        "\n",
        "M=700 GeV ------> 9.01 +- 0.40, and full range integral: 12.45\n",
        "Mean value: 695.31, with sigma: 40.24\n",
        "Chi2=16.13, ndf=17.00, Chi2/ndf=0.95\n",
        "TTbar ------> 7.48 +- 0.77, and full range integral: 23.32\n",
        "QCD ------> 5.72 +- 5.72, and full range integral: 17.16\n",
        "(7.70 4.67 0.65 0.10): 12.45; 23.32; 17.16; 2.38; 22.41 | (0.50,0.38,0.10,0.06) (1.00,0.00,0.00,0.00)\n",
        "--------------------------------"
       ]
      },
      {
       "output_type": "stream",
       "stream": "stdout",
       "text": [
        "\n",
        "M=700 GeV ------> 9.68 +- 0.41, and full range integral: 13.92\n",
        "Mean value: 695.21, with sigma: 43.01\n",
        "Chi2=7.78, ndf=17.00, Chi2/ndf=0.46\n",
        "TTbar ------> 7.96 +- 0.79, and full range integral: 25.05\n",
        "QCD ------> 0.00 +- 0.00, and full range integral: 17.16\n",
        "(7.70 4.67 0.67 0.20): 13.92; 25.05; 17.16; 2.48; 23.84 | (0.44,0.42,0.12,0.07) (0.33,0.67,0.00,0.00)\n",
        "--------------------------------"
       ]
      },
      {
       "output_type": "stream",
       "stream": "stdout",
       "text": [
        "\n",
        "M=700 GeV ------> 9.43 +- 0.41, and full range integral: 13.27\n",
        "Mean value: 695.34, with sigma: 41.83\n",
        "Chi2=17.63, ndf=17.00, Chi2/ndf=1.04\n",
        "TTbar ------> 7.40 +- 0.76, and full range integral: 23.08\n",
        "QCD ------> 0.00 +- 0.00, and full range integral: 17.16\n",
        "(7.70 4.67 0.67 0.15): 13.27; 23.08; 17.16; 2.57; 23.39 | (0.44,0.42,0.12,0.07) (0.33,0.67,0.00,0.00)\n",
        "--------------------------------"
       ]
      },
      {
       "output_type": "stream",
       "stream": "stdout",
       "text": [
        "\n",
        "M=700 GeV ------> 8.51 +- 0.39, and full range integral: 11.70\n",
        "Mean value: 695.52, with sigma: 40.31\n",
        "Chi2=16.84, ndf=17.00, Chi2/ndf=0.99\n",
        "TTbar ------> 6.46 +- 0.71, and full range integral: 19.77\n",
        "QCD ------> 0.00 +- 0.00, and full range integral: 5.72\n",
        "(7.70 4.67 0.67 0.10): 11.70; 19.77; 5.72; 2.66; 22.07 | (0.46,0.40,0.12,0.07) (1.00,0.00,0.00,0.00)\n",
        "--------------------------------"
       ]
      },
      {
       "output_type": "stream",
       "stream": "stdout",
       "text": [
        "\n",
        "M=700 GeV ------> 9.08 +- 0.40, and full range integral: 12.98\n",
        "Mean value: 696.65, with sigma: 42.95\n",
        "Chi2=7.23, ndf=17.00, Chi2/ndf=0.43\n",
        "TTbar ------> 7.09 +- 0.75, and full range integral: 21.74\n",
        "QCD ------> 0.00 +- 0.00, and full range integral: 17.16\n",
        "(7.70 4.67 0.70 0.20): 12.98; 21.74; 17.16; 2.66; 23.24 | (0.43,0.42,0.12,0.08) (0.33,0.67,0.00,0.00)\n",
        "--------------------------------"
       ]
      },
      {
       "output_type": "stream",
       "stream": "stdout",
       "text": [
        "\n",
        "M=700 GeV ------> 8.86 +- 0.39, and full range integral: 12.40\n",
        "Mean value: 696.57, with sigma: 41.82\n",
        "Chi2=15.94, ndf=17.00, Chi2/ndf=0.94\n",
        "TTbar ------> 6.62 +- 0.72, and full range integral: 19.93\n",
        "QCD ------> 0.00 +- 0.00, and full range integral: 17.16\n",
        "(7.70 4.67 0.70 0.15): 12.40; 19.93; 17.16; 2.77; 22.84 | (0.42,0.42,0.12,0.08) (0.33,0.67,0.00,0.00)\n",
        "--------------------------------"
       ]
      },
      {
       "output_type": "stream",
       "stream": "stdout",
       "text": [
        "\n",
        "M=700 GeV ------> 8.00 +- 0.37, and full range integral: 10.99\n",
        "Mean value: 696.59, with sigma: 40.43\n",
        "Chi2=15.85, ndf=17.00, Chi2/ndf=0.93\n",
        "TTbar ------> 5.75 +- 0.67, and full range integral: 16.94\n",
        "QCD ------> 0.00 +- 0.00, and full range integral: 5.72\n",
        "(7.70 4.67 0.70 0.10): 10.99; 16.94; 5.72; 2.91; 21.64 | (0.44,0.40,0.13,0.08) (1.00,0.00,0.00,0.00)\n",
        "--------------------------------"
       ]
      },
      {
       "output_type": "stream",
       "stream": "stdout",
       "text": [
        "\n",
        "M=700 GeV ------> 8.89 +- 0.39, and full range integral: 11.91\n",
        "Mean value: 697.83, with sigma: 42.53\n",
        "Chi2=6.73, ndf=17.00, Chi2/ndf=0.40\n",
        "TTbar ------> 6.22 +- 0.70, and full range integral: 17.96\n",
        "QCD ------> 5.72 +- 5.72, and full range integral: 17.16\n",
        "(7.70 4.67 0.72 0.20): 11.91; 17.96; 17.16; 2.95; 22.57 | (0.38,0.43,0.14,0.10) (0.33,0.67,0.00,0.00)\n",
        "--------------------------------"
       ]
      },
      {
       "output_type": "stream",
       "stream": "stdout",
       "text": [
        "\n",
        "M=700 GeV ------> 8.12 +- 0.38, and full range integral: 11.34\n",
        "Mean value: 697.77, with sigma: 41.30\n",
        "Chi2=15.02, ndf=17.00, Chi2/ndf=0.88\n",
        "TTbar ------> 5.04 +- 0.63, and full range integral: 16.70\n",
        "QCD ------> 0.00 +- 0.00, and full range integral: 17.16\n",
        "(7.70 4.67 0.72 0.15): 11.34; 16.70; 17.16; 3.02; 22.08 | (0.39,0.43,0.14,0.09) (0.33,0.67,0.00,0.00)\n",
        "--------------------------------"
       ]
      },
      {
       "output_type": "stream",
       "stream": "stdout",
       "text": [
        "\n",
        "M=700 GeV ------> 7.35 +- 0.36, and full range integral: 10.08\n",
        "Mean value: 697.44, with sigma: 40.06\n",
        "Chi2=12.67, ndf=17.00, Chi2/ndf=0.75\n",
        "TTbar ------> 4.25 +- 0.58, and full range integral: 14.18\n",
        "QCD ------> 0.00 +- 0.00, and full range integral: 5.72\n",
        "(7.70 4.67 0.72 0.10): 10.08; 14.18; 5.72; 3.19; 20.96 | (0.40,0.42,0.14,0.09) (1.00,0.00,0.00,0.00)\n",
        "--------------------------------"
       ]
      },
      {
       "output_type": "stream",
       "stream": "stdout",
       "text": [
        "\n",
        "M=700 GeV ------> 7.18 +- 0.35, and full range integral: 10.37\n",
        "Mean value: 696.07, with sigma: 43.21\n",
        "Chi2=10.03, ndf=17.00, Chi2/ndf=0.59\n",
        "TTbar ------> 5.12 +- 0.64, and full range integral: 16.46\n",
        "QCD ------> 0.00 +- 0.00, and full range integral: 17.16\n",
        "(7.70 5.33 0.67 0.20): 10.37; 16.46; 17.16; 2.80; 20.92 | (0.43,0.43,0.12,0.08) (0.33,0.67,0.00,0.00)\n",
        "--------------------------------"
       ]
      },
      {
       "output_type": "stream",
       "stream": "stdout",
       "text": [
        "\n",
        "M=700 GeV ------> 8.77 +- 0.39, and full range integral: 12.02\n",
        "Mean value: 695.52, with sigma: 40.03\n",
        "Chi2=17.30, ndf=17.00, Chi2/ndf=1.02\n",
        "TTbar ------> 7.40 +- 0.76, and full range integral: 22.13\n",
        "QCD ------> 0.00 +- 0.00, and full range integral: 11.44\n",
        "(7.87 4.00 0.70 0.10): 12.02; 22.13; 11.44; 2.43; 22.08 | (0.44,0.41,0.12,0.08) (0.50,0.50,0.00,0.00)\n",
        "--------------------------------"
       ]
      },
      {
       "output_type": "stream",
       "stream": "stdout",
       "text": [
        "\n",
        "M=700 GeV ------> 8.02 +- 0.37, and full range integral: 10.90\n",
        "Mean value: 696.57, with sigma: 39.62\n",
        "Chi2=14.86, ndf=17.00, Chi2/ndf=0.87\n",
        "TTbar ------> 5.28 +- 0.64, and full range integral: 17.64\n",
        "QCD ------> 0.00 +- 0.00, and full range integral: 11.44\n",
        "(7.87 4.00 0.72 0.10): 10.90; 17.64; 11.44; 2.76; 21.40 | (0.40,0.42,0.14,0.09) (0.50,0.50,0.00,0.00)\n",
        "--------------------------------"
       ]
      },
      {
       "output_type": "stream",
       "stream": "stdout",
       "text": [
        "\n",
        "M=700 GeV ------> 8.98 +- 0.40, and full range integral: 12.61\n",
        "Mean value: 694.98, with sigma: 40.98\n",
        "Chi2=20.14, ndf=17.00, Chi2/ndf=1.18\n",
        "TTbar ------> 7.88 +- 0.79, and full range integral: 24.58\n",
        "QCD ------> 5.72 +- 5.72, and full range integral: 17.16\n",
        "(7.87 4.67 0.63 0.10): 12.61; 24.58; 17.16; 2.29; 22.42 | (0.52,0.36,0.10,0.06) (1.00,0.00,0.00,0.00)\n",
        "--------------------------------"
       ]
      },
      {
       "output_type": "stream",
       "stream": "stdout",
       "text": [
        "\n",
        "M=700 GeV ------> 8.65 +- 0.39, and full range integral: 12.07\n",
        "Mean value: 695.27, with sigma: 40.62\n",
        "Chi2=17.97, ndf=17.00, Chi2/ndf=1.06\n",
        "TTbar ------> 7.25 +- 0.76, and full range integral: 22.61\n",
        "QCD ------> 5.72 +- 5.72, and full range integral: 17.16\n",
        "(7.87 4.67 0.65 0.10): 12.07; 22.61; 17.16; 2.38; 22.06 | (0.49,0.38,0.10,0.06) (1.00,0.00,0.00,0.00)\n",
        "--------------------------------"
       ]
      },
      {
       "output_type": "stream",
       "stream": "stdout",
       "text": [
        "\n",
        "M=700 GeV ------> 9.31 +- 0.40, and full range integral: 13.54\n",
        "Mean value: 695.21, with sigma: 43.45\n",
        "Chi2=8.14, ndf=17.00, Chi2/ndf=0.48\n",
        "TTbar ------> 7.72 +- 0.78, and full range integral: 24.50\n",
        "QCD ------> 0.00 +- 0.00, and full range integral: 17.16\n",
        "(7.87 4.67 0.67 0.20): 13.54; 24.50; 17.16; 2.47; 23.48 | (0.44,0.42,0.12,0.07) (0.33,0.67,0.00,0.00)\n",
        "--------------------------------"
       ]
      },
      {
       "output_type": "stream",
       "stream": "stdout",
       "text": [
        "\n",
        "M=700 GeV ------> 9.10 +- 0.40, and full range integral: 12.92\n",
        "Mean value: 695.24, with sigma: 42.22\n",
        "Chi2=18.35, ndf=17.00, Chi2/ndf=1.08\n",
        "TTbar ------> 7.17 +- 0.75, and full range integral: 22.53\n",
        "QCD ------> 0.00 +- 0.00, and full range integral: 17.16\n",
        "(7.87 4.67 0.67 0.15): 12.92; 22.53; 17.16; 2.56; 23.07 | (0.44,0.42,0.12,0.07) (0.33,0.67,0.00,0.00)\n",
        "--------------------------------"
       ]
      },
      {
       "output_type": "stream",
       "stream": "stdout",
       "text": [
        "\n",
        "M=700 GeV ------> 8.17 +- 0.38, and full range integral: 11.35\n",
        "Mean value: 695.42, with sigma: 40.69\n",
        "Chi2=18.22, ndf=17.00, Chi2/ndf=1.07\n",
        "TTbar ------> 6.22 +- 0.70, and full range integral: 19.22\n",
        "QCD ------> 0.00 +- 0.00, and full range integral: 5.72\n",
        "(7.87 4.67 0.67 0.10): 11.35; 19.22; 5.72; 2.65; 21.73 | (0.46,0.40,0.11,0.07) (1.00,0.00,0.00,0.00)\n",
        "--------------------------------"
       ]
      },
      {
       "output_type": "stream",
       "stream": "stdout",
       "text": [
        "\n",
        "M=700 GeV ------> 9.27 +- 0.40, and full range integral: 12.59\n",
        "Mean value: 696.70, with sigma: 43.42\n",
        "Chi2=7.32, ndf=17.00, Chi2/ndf=0.43\n",
        "TTbar ------> 7.80 +- 0.78, and full range integral: 21.19\n",
        "QCD ------> 5.72 +- 5.72, and full range integral: 17.16\n",
        "(7.87 4.67 0.70 0.20): 12.59; 21.19; 17.16; 2.65; 22.88 | (0.42,0.42,0.12,0.09) (0.33,0.67,0.00,0.00)\n",
        "--------------------------------"
       ]
      },
      {
       "output_type": "stream",
       "stream": "stdout",
       "text": [
        "\n",
        "M=700 GeV ------> 8.52 +- 0.39, and full range integral: 12.05\n",
        "Mean value: 696.52, with sigma: 42.24\n",
        "Chi2=16.39, ndf=17.00, Chi2/ndf=0.96\n",
        "TTbar ------> 6.38 +- 0.71, and full range integral: 19.38\n",
        "QCD ------> 0.00 +- 0.00, and full range integral: 17.16\n",
        "(7.87 4.67 0.70 0.15): 12.05; 19.38; 17.16; 2.77; 22.52 | (0.42,0.42,0.12,0.09) (0.33,0.67,0.00,0.00)\n",
        "--------------------------------"
       ]
      },
      {
       "output_type": "stream",
       "stream": "stdout",
       "text": [
        "\n",
        "M=700 GeV ------> 7.67 +- 0.37, and full range integral: 10.64\n",
        "Mean value: 696.54, with sigma: 40.83\n",
        "Chi2=17.00, ndf=17.00, Chi2/ndf=1.00\n",
        "TTbar ------> 5.51 +- 0.66, and full range integral: 16.38\n",
        "QCD ------> 0.00 +- 0.00, and full range integral: 5.72\n",
        "(7.87 4.67 0.70 0.10): 10.64; 16.38; 5.72; 2.91; 21.29 | (0.44,0.40,0.12,0.08) (1.00,0.00,0.00,0.00)\n",
        "--------------------------------"
       ]
      },
      {
       "output_type": "stream",
       "stream": "stdout",
       "text": [
        "\n",
        "M=700 GeV ------> 8.56 +- 0.39, and full range integral: 11.56\n",
        "Mean value: 697.89, with sigma: 42.94\n",
        "Chi2=6.68, ndf=17.00, Chi2/ndf=0.39\n",
        "TTbar ------> 5.99 +- 0.69, and full range integral: 17.57\n",
        "QCD ------> 5.72 +- 5.72, and full range integral: 17.16\n",
        "(7.87 4.67 0.72 0.20): 11.56; 17.57; 17.16; 2.93; 22.22 | (0.38,0.43,0.13,0.10) (0.33,0.67,0.00,0.00)\n",
        "--------------------------------"
       ]
      },
      {
       "output_type": "stream",
       "stream": "stdout",
       "text": [
        "\n",
        "M=700 GeV ------> 7.82 +- 0.37, and full range integral: 11.02\n",
        "Mean value: 697.72, with sigma: 41.65\n",
        "Chi2=15.05, ndf=17.00, Chi2/ndf=0.89\n",
        "TTbar ------> 4.88 +- 0.62, and full range integral: 16.31\n",
        "QCD ------> 0.00 +- 0.00, and full range integral: 17.16\n",
        "(7.87 4.67 0.72 0.15): 11.02; 16.31; 17.16; 3.00; 21.76 | (0.39,0.43,0.14,0.10) (0.33,0.67,0.00,0.00)\n",
        "--------------------------------"
       ]
      },
      {
       "output_type": "stream",
       "stream": "stdout",
       "text": [
        "\n",
        "M=700 GeV ------> 6.95 +- 0.35, and full range integral: 10.13\n",
        "Mean value: 695.85, with sigma: 43.55\n",
        "Chi2=10.56, ndf=17.00, Chi2/ndf=0.62\n",
        "TTbar ------> 5.04 +- 0.63, and full range integral: 16.23\n",
        "QCD ------> 0.00 +- 0.00, and full range integral: 17.16\n",
        "(7.87 5.33 0.67 0.20): 10.13; 16.23; 17.16; 2.78; 20.65 | (0.43,0.43,0.12,0.08) (0.33,0.67,0.00,0.00)\n",
        "--------------------------------"
       ]
      },
      {
       "output_type": "stream",
       "stream": "stdout",
       "text": [
        "\n",
        "M=700 GeV ------> 8.63 +- 0.39, and full range integral: 11.77\n",
        "Mean value: 695.06, with sigma: 39.75\n",
        "Chi2=16.04, ndf=17.00, Chi2/ndf=0.94\n",
        "TTbar ------> 7.25 +- 0.76, and full range integral: 21.43\n",
        "QCD ------> 0.00 +- 0.00, and full range integral: 11.44\n",
        "(8.03 4.00 0.70 0.10): 11.77; 21.43; 11.44; 2.46; 21.89 | (0.43,0.42,0.12,0.08) (0.50,0.50,0.00,0.00)\n",
        "--------------------------------"
       ]
      },
      {
       "output_type": "stream",
       "stream": "stdout",
       "text": [
        "\n",
        "M=700 GeV ------> 7.88 +- 0.37, and full range integral: 10.65\n",
        "Mean value: 696.09, with sigma: 39.33\n",
        "Chi2=13.12, ndf=17.00, Chi2/ndf=0.77\n",
        "TTbar ------> 5.12 +- 0.64, and full range integral: 17.01\n",
        "QCD ------> 0.00 +- 0.00, and full range integral: 11.44\n",
        "(8.03 4.00 0.72 0.10): 10.65; 17.01; 11.44; 2.80; 21.20 | (0.39,0.43,0.14,0.09) (0.50,0.50,0.00,0.00)\n",
        "--------------------------------"
       ]
      },
      {
       "output_type": "stream",
       "stream": "stdout",
       "text": [
        "\n",
        "M=700 GeV ------> 8.86 +- 0.39, and full range integral: 12.37\n",
        "Mean value: 694.62, with sigma: 40.69\n",
        "Chi2=19.00, ndf=17.00, Chi2/ndf=1.12\n",
        "TTbar ------> 7.80 +- 0.78, and full range integral: 24.10\n",
        "QCD ------> 5.72 +- 5.72, and full range integral: 17.16\n",
        "(8.03 4.67 0.63 0.10): 12.37; 24.10; 17.16; 2.29; 22.20 | (0.52,0.36,0.09,0.06) (1.00,0.00,0.00,0.00)\n",
        "--------------------------------"
       ]
      },
      {
       "output_type": "stream",
       "stream": "stdout",
       "text": [
        "\n",
        "M=700 GeV ------> 8.54 +- 0.39, and full range integral: 11.84\n",
        "Mean value: 694.88, with sigma: 40.29\n",
        "Chi2=16.87, ndf=17.00, Chi2/ndf=0.99\n",
        "TTbar ------> 7.17 +- 0.75, and full range integral: 22.13\n",
        "QCD ------> 5.72 +- 5.72, and full range integral: 17.16\n",
        "(8.03 4.67 0.65 0.10): 11.84; 22.13; 17.16; 2.39; 21.86 | (0.49,0.38,0.10,0.06) (1.00,0.00,0.00,0.00)\n",
        "--------------------------------"
       ]
      },
      {
       "output_type": "stream",
       "stream": "stdout",
       "text": [
        "\n",
        "M=700 GeV ------> 9.19 +- 0.40, and full range integral: 13.27\n",
        "Mean value: 694.83, with sigma: 43.23\n",
        "Chi2=8.04, ndf=17.00, Chi2/ndf=0.47\n",
        "TTbar ------> 7.56 +- 0.77, and full range integral: 23.79\n",
        "QCD ------> 0.00 +- 0.00, and full range integral: 17.16\n",
        "(8.03 4.67 0.67 0.20): 13.27; 23.79; 17.16; 2.49; 23.29 | (0.43,0.42,0.12,0.08) (0.33,0.67,0.00,0.00)\n",
        "--------------------------------"
       ]
      },
      {
       "output_type": "stream",
       "stream": "stdout",
       "text": [
        "\n",
        "M=700 GeV ------> 8.99 +- 0.40, and full range integral: 12.68\n",
        "Mean value: 694.86, with sigma: 41.92\n",
        "Chi2=16.85, ndf=17.00, Chi2/ndf=0.99\n",
        "TTbar ------> 7.01 +- 0.74, and full range integral: 21.98\n",
        "QCD ------> 0.00 +- 0.00, and full range integral: 17.16\n",
        "(8.03 4.67 0.67 0.15): 12.68; 21.98; 17.16; 2.57; 22.87 | (0.43,0.43,0.11,0.08) (0.33,0.67,0.00,0.00)\n",
        "--------------------------------"
       ]
      },
      {
       "output_type": "stream",
       "stream": "stdout",
       "text": [
        "\n",
        "M=700 GeV ------> 8.07 +- 0.38, and full range integral: 11.14\n",
        "Mean value: 695.00, with sigma: 40.34\n",
        "Chi2=17.76, ndf=17.00, Chi2/ndf=1.04\n",
        "TTbar ------> 6.14 +- 0.70, and full range integral: 18.75\n",
        "QCD ------> 0.00 +- 0.00, and full range integral: 5.72\n",
        "(8.03 4.67 0.67 0.10): 11.14; 18.75; 5.72; 2.67; 21.54 | (0.45,0.41,0.11,0.07) (1.00,0.00,0.00,0.00)\n",
        "--------------------------------"
       ]
      },
      {
       "output_type": "stream",
       "stream": "stdout",
       "text": [
        "\n",
        "M=700 GeV ------> 8.59 +- 0.39, and full range integral: 12.33\n",
        "Mean value: 696.32, with sigma: 43.20\n",
        "Chi2=7.07, ndf=17.00, Chi2/ndf=0.42\n",
        "TTbar ------> 6.70 +- 0.73, and full range integral: 20.56\n",
        "QCD ------> 0.00 +- 0.00, and full range integral: 17.16\n",
        "(8.03 4.67 0.70 0.20): 12.33; 20.56; 17.16; 2.67; 22.67 | (0.42,0.42,0.12,0.09) (0.33,0.67,0.00,0.00)\n",
        "--------------------------------"
       ]
      },
      {
       "output_type": "stream",
       "stream": "stdout",
       "text": [
        "\n",
        "M=700 GeV ------> 8.42 +- 0.38, and full range integral: 11.81\n",
        "Mean value: 696.12, with sigma: 41.93\n",
        "Chi2=14.92, ndf=17.00, Chi2/ndf=0.88\n",
        "TTbar ------> 6.22 +- 0.70, and full range integral: 18.90\n",
        "QCD ------> 0.00 +- 0.00, and full range integral: 17.16\n",
        "(8.03 4.67 0.70 0.15): 11.81; 18.90; 17.16; 2.78; 22.30 | (0.42,0.42,0.12,0.09) (0.33,0.67,0.00,0.00)\n",
        "--------------------------------"
       ]
      },
      {
       "output_type": "stream",
       "stream": "stdout",
       "text": [
        "\n",
        "M=700 GeV ------> 7.56 +- 0.36, and full range integral: 10.43\n",
        "Mean value: 696.10, with sigma: 40.48\n",
        "Chi2=16.30, ndf=17.00, Chi2/ndf=0.96\n",
        "TTbar ------> 5.44 +- 0.65, and full range integral: 15.99\n",
        "QCD ------> 0.00 +- 0.00, and full range integral: 5.72\n",
        "(8.03 4.67 0.70 0.10): 10.43; 15.99; 5.72; 2.93; 21.09 | (0.43,0.41,0.12,0.08) (1.00,0.00,0.00,0.00)\n",
        "--------------------------------"
       ]
      },
      {
       "output_type": "stream",
       "stream": "stdout",
       "text": [
        "\n",
        "M=700 GeV ------> 8.40 +- 0.38, and full range integral: 11.32\n",
        "Mean value: 697.50, with sigma: 42.70\n",
        "Chi2=5.83, ndf=17.00, Chi2/ndf=0.34\n",
        "TTbar ------> 5.91 +- 0.68, and full range integral: 17.17\n",
        "QCD ------> 5.72 +- 5.72, and full range integral: 17.16\n",
        "(8.03 4.67 0.72 0.20): 11.32; 17.17; 17.16; 2.93; 21.98 | (0.38,0.44,0.13,0.10) (0.33,0.67,0.00,0.00)\n",
        "--------------------------------"
       ]
      },
      {
       "output_type": "stream",
       "stream": "stdout",
       "text": [
        "\n",
        "M=700 GeV ------> 7.72 +- 0.37, and full range integral: 10.79\n",
        "Mean value: 697.31, with sigma: 41.32\n",
        "Chi2=13.03, ndf=17.00, Chi2/ndf=0.77\n",
        "TTbar ------> 4.80 +- 0.62, and full range integral: 15.91\n",
        "QCD ------> 0.00 +- 0.00, and full range integral: 17.16\n",
        "(8.03 4.67 0.72 0.15): 10.79; 15.91; 17.16; 3.01; 21.54 | (0.38,0.44,0.13,0.10) (0.33,0.67,0.00,0.00)\n",
        "--------------------------------"
       ]
      },
      {
       "output_type": "stream",
       "stream": "stdout",
       "text": [
        "\n",
        "M=700 GeV ------> 8.49 +- 0.39, and full range integral: 11.56\n",
        "Mean value: 694.92, with sigma: 39.54\n",
        "Chi2=16.96, ndf=17.00, Chi2/ndf=1.00\n",
        "TTbar ------> 7.17 +- 0.75, and full range integral: 20.48\n",
        "QCD ------> 0.00 +- 0.00, and full range integral: 11.44\n",
        "(8.20 4.00 0.70 0.10): 11.56; 20.48; 11.44; 2.53; 21.78 | (0.43,0.42,0.11,0.08) (0.50,0.50,0.00,0.00)\n",
        "--------------------------------"
       ]
      },
      {
       "output_type": "stream",
       "stream": "stdout",
       "text": [
        "\n",
        "M=700 GeV ------> 7.74 +- 0.37, and full range integral: 10.44\n",
        "Mean value: 695.94, with sigma: 39.08\n",
        "Chi2=12.96, ndf=17.00, Chi2/ndf=0.76\n",
        "TTbar ------> 5.12 +- 0.64, and full range integral: 16.23\n",
        "QCD ------> 0.00 +- 0.00, and full range integral: 11.44\n",
        "(8.20 4.00 0.72 0.10): 10.44; 16.23; 11.44; 2.88; 21.06 | (0.40,0.44,0.13,0.09) (0.50,0.50,0.00,0.00)\n",
        "--------------------------------"
       ]
      },
      {
       "output_type": "stream",
       "stream": "stdout",
       "text": [
        "\n",
        "M=700 GeV ------> 8.77 +- 0.39, and full range integral: 12.23\n",
        "Mean value: 694.45, with sigma: 40.63\n",
        "Chi2=19.08, ndf=17.00, Chi2/ndf=1.12\n",
        "TTbar ------> 7.80 +- 0.78, and full range integral: 23.08\n",
        "QCD ------> 5.72 +- 5.72, and full range integral: 17.16\n",
        "(8.20 4.67 0.63 0.10): 12.23; 23.08; 17.16; 2.36; 22.18 | (0.52,0.37,0.09,0.05) (1.00,0.00,0.00,0.00)\n",
        "--------------------------------"
       ]
      },
      {
       "output_type": "stream",
       "stream": "stdout",
       "text": [
        "\n",
        "M=700 GeV ------> 8.45 +- 0.38, and full range integral: 11.70\n",
        "Mean value: 694.70, with sigma: 40.22\n",
        "Chi2=16.88, ndf=17.00, Chi2/ndf=0.99\n",
        "TTbar ------> 7.17 +- 0.75, and full range integral: 21.11\n",
        "QCD ------> 5.72 +- 5.72, and full range integral: 17.16\n",
        "(8.20 4.67 0.65 0.10): 11.70; 21.11; 17.16; 2.47; 21.84 | (0.49,0.40,0.09,0.06) (1.00,0.00,0.00,0.00)\n",
        "--------------------------------"
       ]
      },
      {
       "output_type": "stream",
       "stream": "stdout",
       "text": [
        "\n",
        "M=700 GeV ------> 9.08 +- 0.40, and full range integral: 13.10\n",
        "Mean value: 694.70, with sigma: 43.23\n",
        "Chi2=8.24, ndf=17.00, Chi2/ndf=0.48\n",
        "TTbar ------> 7.56 +- 0.77, and full range integral: 22.69\n",
        "QCD ------> 0.00 +- 0.00, and full range integral: 17.16\n",
        "(8.20 4.67 0.67 0.20): 13.10; 22.69; 17.16; 2.58; 23.25 | (0.44,0.43,0.11,0.07) (0.33,0.67,0.00,0.00)\n",
        "--------------------------------"
       ]
      },
      {
       "output_type": "stream",
       "stream": "stdout",
       "text": [
        "\n",
        "M=700 GeV ------> 8.89 +- 0.39, and full range integral: 12.51\n",
        "Mean value: 694.72, with sigma: 41.91\n",
        "Chi2=16.99, ndf=17.00, Chi2/ndf=1.00\n",
        "TTbar ------> 7.01 +- 0.74, and full range integral: 20.95\n",
        "QCD ------> 0.00 +- 0.00, and full range integral: 17.16\n",
        "(8.20 4.67 0.67 0.15): 12.51; 20.95; 17.16; 2.66; 22.81 | (0.44,0.44,0.11,0.07) (0.33,0.67,0.00,0.00)\n",
        "--------------------------------"
       ]
      },
      {
       "output_type": "stream",
       "stream": "stdout",
       "text": [
        "\n",
        "M=700 GeV ------> 7.98 +- 0.37, and full range integral: 11.00\n",
        "Mean value: 694.81, with sigma: 40.27\n",
        "Chi2=18.49, ndf=17.00, Chi2/ndf=1.09\n",
        "TTbar ------> 6.14 +- 0.70, and full range integral: 17.88\n",
        "QCD ------> 0.00 +- 0.00, and full range integral: 5.72\n",
        "(8.20 4.67 0.67 0.10): 11.00; 17.88; 5.72; 2.76; 21.51 | (0.46,0.42,0.11,0.07) (1.00,0.00,0.00,0.00)\n",
        "--------------------------------"
       ]
      },
      {
       "output_type": "stream",
       "stream": "stdout",
       "text": [
        "\n",
        "M=700 GeV ------> 8.49 +- 0.39, and full range integral: 12.16\n",
        "Mean value: 696.20, with sigma: 43.20\n",
        "Chi2=7.59, ndf=17.00, Chi2/ndf=0.45\n",
        "TTbar ------> 6.70 +- 0.73, and full range integral: 19.69\n",
        "QCD ------> 0.00 +- 0.00, and full range integral: 17.16\n",
        "(8.20 4.67 0.70 0.20): 12.16; 19.69; 17.16; 2.75; 22.59 | (0.42,0.44,0.11,0.08) (0.33,0.67,0.00,0.00)\n",
        "--------------------------------"
       ]
      },
      {
       "output_type": "stream",
       "stream": "stdout",
       "text": [
        "\n",
        "M=700 GeV ------> 8.31 +- 0.38, and full range integral: 11.63\n",
        "Mean value: 696.00, with sigma: 41.92\n",
        "Chi2=15.46, ndf=17.00, Chi2/ndf=0.91\n",
        "TTbar ------> 6.22 +- 0.70, and full range integral: 18.12\n",
        "QCD ------> 0.00 +- 0.00, and full range integral: 17.16\n",
        "(8.20 4.67 0.70 0.15): 11.63; 18.12; 17.16; 2.86; 22.21 | (0.42,0.44,0.11,0.08) (0.33,0.67,0.00,0.00)\n",
        "--------------------------------"
       ]
      },
      {
       "output_type": "stream",
       "stream": "stdout",
       "text": [
        "\n",
        "M=700 GeV ------> 7.48 +- 0.36, and full range integral: 10.29\n",
        "Mean value: 695.92, with sigma: 40.40\n",
        "Chi2=17.43, ndf=17.00, Chi2/ndf=1.03\n",
        "TTbar ------> 5.44 +- 0.65, and full range integral: 15.36\n",
        "QCD ------> 0.00 +- 0.00, and full range integral: 5.72\n",
        "(8.20 4.67 0.70 0.10): 10.29; 15.36; 5.72; 3.01; 21.02 | (0.44,0.43,0.11,0.08) (1.00,0.00,0.00,0.00)\n",
        "--------------------------------"
       ]
      },
      {
       "output_type": "stream",
       "stream": "stdout",
       "text": [
        "\n",
        "M=700 GeV ------> 8.30 +- 0.38, and full range integral: 11.14\n",
        "Mean value: 697.38, with sigma: 42.70\n",
        "Chi2=5.54, ndf=17.00, Chi2/ndf=0.33\n",
        "TTbar ------> 5.91 +- 0.68, and full range integral: 16.46\n",
        "QCD ------> 5.72 +- 5.72, and full range integral: 17.16\n",
        "(8.20 4.67 0.72 0.20): 11.14; 16.46; 17.16; 3.01; 21.88 | (0.38,0.45,0.12,0.09) (0.33,0.67,0.00,0.00)\n",
        "--------------------------------"
       ]
      },
      {
       "output_type": "stream",
       "stream": "stdout",
       "text": [
        "\n",
        "M=700 GeV ------> 7.62 +- 0.36, and full range integral: 10.62\n",
        "Mean value: 697.18, with sigma: 41.31\n",
        "Chi2=12.67, ndf=17.00, Chi2/ndf=0.75\n",
        "TTbar ------> 4.80 +- 0.62, and full range integral: 15.28\n",
        "QCD ------> 0.00 +- 0.00, and full range integral: 17.16\n",
        "(8.20 4.67 0.72 0.15): 10.62; 15.28; 17.16; 3.09; 21.43 | (0.39,0.45,0.12,0.09) (0.33,0.67,0.00,0.00)\n",
        "[[[(6.2000000000000002, 4.0, 0.67333333333333334, 0.050000000000000003), 0.0], 7.798246622085571, 7.597545504570007], [[(6.2000000000000002, 4.0, 0.69666666666666666, 0.099999999999999978), 0.0], 11.579214692115784, 10.828685343265533], [[(6.2000000000000002, 4.0, 0.71999999999999997, 0.099999999999999978), 0.0], 8.822258710861206, 9.937938749790192], [[(6.2000000000000002, 4.666666666666667, 0.67333333333333334, 0.099999999999999978), 0.0], 9.058569252490997, 9.763282716274261], [[(6.2000000000000002, 4.666666666666667, 0.69666666666666666, 0.099999999999999978), 0.0], 7.955786943435669, 9.169451534748077], [[(6.2000000000000002, 4.666666666666667, 0.71999999999999997, 0.099999999999999978), 0.0], 6.222843259572983, 8.488292217254639], [[(6.3666666666666671, 4.0, 0.67333333333333334, 0.050000000000000003), 0.0], 7.483165919780731, 7.54514867067337], [[(6.3666666666666671, 4.0, 0.69666666666666666, 0.099999999999999978), 0.0], 11.264134049415588, 10.758822858333588], [[(6.3666666666666671, 4.0, 0.71999999999999997, 0.099999999999999978), 0.0], 8.50717806816101, 9.868076384067535], [[(6.3666666666666671, 4.666666666666667, 0.67333333333333334, 0.099999999999999978), 0.0], 8.743488550186157, 9.710885882377625], [[(6.3666666666666671, 4.666666666666667, 0.69666666666666666, 0.099999999999999978), 0.0], 7.7194764614105225, 9.117054760456085], [[(6.3666666666666671, 4.666666666666667, 0.71999999999999997, 0.099999999999999978), 0.0], 5.986532777547836, 8.435895264148712], [[(6.5333333333333332, 4.0, 0.67333333333333334, 0.050000000000000003), 0.0], 7.08931502699852, 7.4578205943107605], [[(6.5333333333333332, 4.0, 0.69666666666666666, 0.099999999999999978), 0.0], 10.79151302576065, 10.566701173782349], [[(6.5333333333333332, 4.0, 0.71999999999999997, 0.099999999999999978), 0.0], 8.113327264785767, 9.710885882377625], [[(6.5333333333333332, 4.666666666666667, 0.67333333333333334, 0.099999999999999978), 0.0], 8.664718389511108, 9.606092035770416], [[(6.5333333333333332, 4.666666666666667, 0.69666666666666666, 0.099999999999999978), 0.0], 7.640706270933151, 9.012261033058167], [[(6.5333333333333332, 4.666666666666667, 0.71999999999999997, 0.099999999999999978), 0.0], 5.907762601971626, 8.331101596355438], [[(6.7000000000000002, 4.0, 0.69666666666666666, 0.099999999999999978), 0.0], 10.476432383060455, 10.392044842243195], [[(6.7000000000000002, 4.0, 0.71999999999999997, 0.099999999999999978), 0.0], 7.798246622085571, 9.553695142269135], [[(6.7000000000000002, 4.666666666666667, 0.64999999999999991, 0.099999999999999978), 5.718425273895264], 9.609960496425629, 9.990335583686829], [[(6.7000000000000002, 4.666666666666667, 0.67333333333333334, 0.20000000000000001), 0.0], 10.397662103176117, 10.758822977542877], [[(6.7000000000000002, 4.666666666666667, 0.67333333333333334, 0.14999999999999999), 0.0], 9.688730537891388, 10.514304339885712], [[(6.7000000000000002, 4.666666666666667, 0.67333333333333334, 0.099999999999999978), 0.0], 8.507178008556366, 9.483832657337189], [[(6.7000000000000002, 4.666666666666667, 0.69666666666666666, 0.20000000000000001), 0.0], 9.21610963344574, 10.060198247432709], [[(6.7000000000000002, 4.666666666666667, 0.69666666666666666, 0.14999999999999999), 0.0], 8.58594822883606, 9.833145141601562], [[(6.7000000000000002, 4.666666666666667, 0.69666666666666666, 0.099999999999999978), 0.0], 7.483165889978409, 8.89000153541565], [[(6.7000000000000002, 4.666666666666667, 0.71999999999999997, 0.20000000000000001), 0.0], 7.168085187673569, 9.274245202541351], [[(6.7000000000000002, 4.666666666666667, 0.71999999999999997, 0.14999999999999999), 0.0], 6.774234384298325, 9.047192215919495], [[(6.7000000000000002, 4.666666666666667, 0.71999999999999997, 0.099999999999999978), 0.0], 5.750222280621529, 8.208842277526855], [[(6.7000000000000002, 5.333333333333333, 0.67333333333333334, 0.20000000000000001), 0.0], 6.222843244671822, 7.754736125469208], [[(6.7000000000000002, 5.333333333333333, 0.67333333333333334, 0.14999999999999999), 0.0], 5.671452090144157, 7.580079913139343], [[(6.7000000000000002, 5.333333333333333, 0.69666666666666666, 0.20000000000000001), 5.718425273895264], 6.380383476614952, 7.842064321041107], [[(6.7000000000000002, 5.333333333333333, 0.69666666666666666, 0.14999999999999999), 0.0], 5.120060816407204, 7.195836275815964], [[(6.8666666666666663, 4.0, 0.69666666666666666, 0.099999999999999978), 0.0], 10.082581460475922, 10.1999232172966], [[(6.8666666666666663, 4.0, 0.71999999999999997, 0.099999999999999978), 0.0], 7.561936110258102, 9.361573338508606], [[(6.8666666666666663, 4.666666666666667, 0.64999999999999991, 0.099999999999999978), 5.718425273895264], 9.216109573841095, 9.86807632446289], [[(6.8666666666666663, 4.666666666666667, 0.67333333333333334, 0.20000000000000001), 0.0], 9.925041139125824, 10.619098007678986], [[(6.8666666666666663, 4.666666666666667, 0.67333333333333334, 0.14999999999999999), 0.0], 9.216109454631805, 10.37457948923111], [[(6.8666666666666663, 4.666666666666667, 0.67333333333333334, 0.099999999999999978), 0.0], 8.113327205181122, 9.361573278903961], [[(6.8666666666666663, 4.666666666666667, 0.69666666666666666, 0.20000000000000001), 0.0], 8.82225877046585, 9.920473396778107], [[(6.8666666666666663, 4.666666666666667, 0.69666666666666666, 0.14999999999999999), 0.0], 8.19209736585617, 9.69342029094696], [[(6.8666666666666663, 4.666666666666667, 0.69666666666666666, 0.099999999999999978), 0.0], 7.1680852472782135, 8.767742216587067], [[(6.8666666666666663, 4.666666666666667, 0.71999999999999997, 0.20000000000000001), 5.718425273895264], 7.798246532678604, 9.693420112133026], [[(6.8666666666666663, 4.666666666666667, 0.71999999999999997, 0.14999999999999999), 0.0], 6.537923902273178, 8.907467186450958], [[(6.8666666666666663, 4.666666666666667, 0.71999999999999997, 0.099999999999999978), 0.0], 5.592681959271431, 8.086582839488983], [[(6.8666666666666663, 5.333333333333333, 0.67333333333333334, 0.20000000000000001), 0.0], 5.986532762646675, 7.649942398071289], [[(6.8666666666666663, 5.333333333333333, 0.67333333333333334, 0.14999999999999999), 0.0], 5.435141608119011, 7.475286245346069], [[(6.8666666666666663, 5.333333333333333, 0.69666666666666666, 0.20000000000000001), 5.718425273895264], 6.144072994589806, 7.7372705936431885], [[(7.0333333333333332, 4.0, 0.69666666666666666, 0.099999999999999978), 0.0], 9.531190276145935, 10.095129489898682], [[(7.0333333333333332, 4.0, 0.71999999999999997, 0.099999999999999978), 0.0], 7.010544925928116, 9.256779611110687], [[(7.0333333333333332, 4.666666666666667, 0.62666666666666659, 0.099999999999999978), 5.718425273895264], 9.609960556030273, 10.112595081329346], [[(7.0333333333333332, 4.666666666666667, 0.64999999999999991, 0.099999999999999978), 5.718425273895264], 8.9010289311409, 9.780748188495636], [[(7.0333333333333332, 4.666666666666667, 0.67333333333333334, 0.20000000000000001), 0.0], 9.609960496425629, 10.496838748455048], [[(7.0333333333333332, 4.666666666666667, 0.67333333333333334, 0.14999999999999999), 0.0], 8.90102881193161, 10.252320230007172], [[(7.0333333333333332, 4.666666666666667, 0.67333333333333334, 0.099999999999999978), 0.0], 7.7982465624809265, 9.274245142936707], [[(7.0333333333333332, 4.666666666666667, 0.69666666666666666, 0.20000000000000001), 0.0], 8.507178127765656, 9.798213839530945], [[(7.0333333333333332, 4.666666666666667, 0.69666666666666666, 0.14999999999999999), 0.0], 7.877016723155975, 9.571160852909088], [[(7.0333333333333332, 4.666666666666667, 0.69666666666666666, 0.099999999999999978), 0.0], 6.853004544973373, 8.680414080619812], [[(7.0333333333333332, 4.666666666666667, 0.71999999999999997, 0.20000000000000001), 5.718425273895264], 7.483165889978409, 9.571160852909088], [[(7.0333333333333332, 4.666666666666667, 0.71999999999999997, 0.14999999999999999), 0.0], 6.222843259572983, 8.785207748413086], [[(7.0333333333333332, 4.666666666666667, 0.71999999999999997, 0.099999999999999978), 0.0], 5.277601316571236, 7.999254822731018], [[(7.0333333333333332, 5.333333333333333, 0.57999999999999996, 0.099999999999999978), 5.718425273895264], 5.828992426395416, 7.422889232635498], [[(7.0333333333333332, 5.333333333333333, 0.60333333333333328, 0.099999999999999978), 5.718425273895264], 5.592681914567947, 7.353026747703552], [[(7.0333333333333332, 5.333333333333333, 0.67333333333333334, 0.20000000000000001), 0.0], 5.986532762646675, 7.580079913139343], [[(7.0333333333333332, 5.333333333333333, 0.67333333333333334, 0.14999999999999999), 0.0], 5.435141608119011, 7.405423700809479], [[(7.0333333333333332, 5.333333333333333, 0.69666666666666666, 0.20000000000000001), 5.718425273895264], 6.144072994589806, 7.667408108711243], [[(7.1999999999999993, 4.0, 0.69666666666666666, 0.099999999999999978), 0.0], 9.373649954795837, 9.79821389913559], [[(7.1999999999999993, 4.0, 0.71999999999999997, 0.099999999999999978), 0.0], 6.931774765253067, 8.959864139556885], [[(7.1999999999999993, 4.666666666666667, 0.62666666666666659, 0.099999999999999978), 5.718425273895264], 9.531190395355225, 9.86807632446289], [[(7.1999999999999993, 4.666666666666667, 0.64999999999999991, 0.099999999999999978), 5.718425273895264], 8.9010289311409, 9.536229610443115], [[(7.1999999999999993, 4.666666666666667, 0.67333333333333334, 0.20000000000000001), 0.0], 9.53119033575058, 10.252320110797882], [[(7.1999999999999993, 4.666666666666667, 0.67333333333333334, 0.14999999999999999), 0.0], 8.90102881193161, 10.007801353931427], [[(7.1999999999999993, 4.666666666666667, 0.67333333333333334, 0.099999999999999978), 0.0], 7.7982465624809265, 9.029726564884186], [[(7.1999999999999993, 4.666666666666667, 0.69666666666666666, 0.20000000000000001), 0.0], 8.428407907485962, 9.588626384735107], [[(7.1999999999999993, 4.666666666666667, 0.69666666666666666, 0.14999999999999999), 0.0], 7.877016723155975, 9.36157351732254], [[(7.1999999999999993, 4.666666666666667, 0.69666666666666666, 0.099999999999999978), 0.0], 6.853004544973373, 8.47082656621933], [[(7.1999999999999993, 4.666666666666667, 0.71999999999999997, 0.20000000000000001), 5.718425273895264], 7.483165889978409, 9.36157339811325], [[(7.1999999999999993, 4.666666666666667, 0.71999999999999997, 0.14999999999999999), 0.0], 6.222843259572983, 8.575620353221893], [[(7.1999999999999993, 4.666666666666667, 0.71999999999999997, 0.099999999999999978), 0.0], 5.277601316571236, 7.789667338132858], [[(7.1999999999999993, 5.333333333333333, 0.57999999999999996, 0.099999999999999978), 5.718425273895264], 5.828992426395416, 7.248233139514923], [[(7.1999999999999993, 5.333333333333333, 0.67333333333333334, 0.20000000000000001), 5.718425273895264], 6.695464268326759, 7.929392337799072], [[(7.1999999999999993, 5.333333333333333, 0.67333333333333334, 0.14999999999999999), 0.0], 5.435141608119011, 7.2307674288749695], [[(7.1999999999999993, 5.333333333333333, 0.69666666666666666, 0.20000000000000001), 5.718425273895264], 6.144072994589806, 7.510217517614365], [[(7.3666666666666663, 4.0, 0.69666666666666666, 0.099999999999999978), 0.0], 8.664718449115753, 9.606091976165771], [[(7.3666666666666663, 4.0, 0.71999999999999997, 0.099999999999999978), 0.0], 6.301613450050354, 8.767742216587067], [[(7.3666666666666663, 4.666666666666667, 0.62666666666666659, 0.099999999999999978), 5.718425273895264], 8.822258830070496, 9.710885643959045], [[(7.3666666666666663, 4.666666666666667, 0.64999999999999991, 0.099999999999999978), 5.718425273895264], 8.192097425460815, 9.37903892993927], [[(7.3666666666666663, 4.666666666666667, 0.67333333333333334, 0.20000000000000001), 0.0], 8.743488609790802, 10.042732536792755], [[(7.3666666666666663, 4.666666666666667, 0.67333333333333334, 0.14999999999999999), 0.0], 8.19209736585617, 9.7982137799263], [[(7.3666666666666663, 4.666666666666667, 0.67333333333333334, 0.099999999999999978), 0.0], 7.089315086603165, 8.87253588438034], [[(7.3666666666666663, 4.666666666666667, 0.69666666666666666, 0.20000000000000001), 0.0], 7.7194764316082, 9.431436002254486], [[(7.3666666666666663, 4.666666666666667, 0.69666666666666666, 0.14999999999999999), 0.0], 7.24685537815094, 9.20438265800476], [[(7.3666666666666663, 4.666666666666667, 0.69666666666666666, 0.099999999999999978), 0.0], 6.222843214869499, 8.348567366600037], [[(7.3666666666666663, 4.666666666666667, 0.71999999999999997, 0.20000000000000001), 5.718425273895264], 6.774234399199486, 9.22184842824936], [[(7.3666666666666663, 4.666666666666667, 0.71999999999999997, 0.14999999999999999), 0.0], 5.592681929469109, 8.435895383358002], [[(7.3666666666666663, 4.666666666666667, 0.71999999999999997, 0.099999999999999978), 0.0], 4.647439926862717, 7.6674080193042755], [[(7.3666666666666663, 5.333333333333333, 0.67333333333333334, 0.20000000000000001), 0.0], 5.592681899666786, 7.265698730945587], [[(7.3666666666666663, 5.333333333333333, 0.67333333333333334, 0.14999999999999999), 0.0], 5.120060905814171, 7.091042459011078], [[(7.3666666666666663, 5.333333333333333, 0.69666666666666666, 0.20000000000000001), 5.718425273895264], 5.828992314636707, 7.387958079576492], [[(7.5333333333333332, 4.0, 0.69666666666666666, 0.099999999999999978), 0.0], 8.349637806415558, 9.483832716941833], [[(7.5333333333333332, 4.0, 0.71999999999999997, 0.099999999999999978), 0.0], 5.9865327179431915, 8.645482897758484], [[(7.5333333333333332, 4.666666666666667, 0.62666666666666659, 0.099999999999999978), 5.718425273895264], 8.664718508720398, 9.588626384735107], [[(7.5333333333333332, 4.666666666666667, 0.64999999999999991, 0.099999999999999978), 5.718425273895264], 8.034557104110718, 9.256779551506042], [[(7.5333333333333332, 4.666666666666667, 0.67333333333333334, 0.20000000000000001), 0.0], 8.507178097963333, 9.920473396778107], [[(7.5333333333333332, 4.666666666666667, 0.67333333333333334, 0.14999999999999999), 0.0], 7.955786854028702, 9.675954520702362], [[(7.5333333333333332, 4.666666666666667, 0.67333333333333334, 0.099999999999999978), 0.0], 6.931774765253067, 8.750276625156403], [[(7.5333333333333332, 4.666666666666667, 0.69666666666666666, 0.20000000000000001), 0.0], 7.483165949583054, 9.309176504611969], [[(7.5333333333333332, 4.666666666666667, 0.69666666666666666, 0.14999999999999999), 0.0], 7.0105448961257935, 9.082123398780823], [[(7.5333333333333332, 4.666666666666667, 0.69666666666666666, 0.099999999999999978), 0.0], 6.065302863717079, 8.226308047771454], [[(7.5333333333333332, 4.666666666666667, 0.71999999999999997, 0.20000000000000001), 5.718425273895264], 6.537923909723759, 9.099588990211487], [[(7.5333333333333332, 4.666666666666667, 0.71999999999999997, 0.14999999999999999), 0.0], 5.3563714399933815, 8.313636064529419], [[(7.5333333333333332, 4.666666666666667, 0.71999999999999997, 0.099999999999999978), 0.0], 4.489899545907974, 7.545148700475693], [[(7.5333333333333332, 5.333333333333333, 0.67333333333333334, 0.20000000000000001), 0.0], 5.513911738991737, 7.230767488479614], [[(7.5333333333333332, 5.333333333333333, 0.67333333333333334, 0.14999999999999999), 0.0], 5.041290745139122, 7.05611115694046], [[(7.6999999999999993, 4.0, 0.69666666666666666, 0.099999999999999978), 0.0], 7.8770168125629425, 9.169451534748077], [[(7.6999999999999993, 4.0, 0.71999999999999997, 0.099999999999999978), 0.0], 5.671452030539513, 8.366032779216766], [[(7.6999999999999993, 4.666666666666667, 0.62666666666666659, 0.099999999999999978), 5.718425273895264], 8.113327264785767, 9.344107687473297], [[(7.6999999999999993, 4.666666666666667, 0.64999999999999991, 0.099999999999999978), 5.718425273895264], 7.483165889978409, 9.012260913848877], [[(7.6999999999999993, 4.666666666666667, 0.67333333333333334, 0.20000000000000001), 0.0], 7.955786973237991, 9.675954639911652], [[(7.6999999999999993, 4.666666666666667, 0.67333333333333334, 0.14999999999999999), 0.0], 7.404395699501038, 9.431435883045197], [[(7.6999999999999993, 4.666666666666667, 0.67333333333333334, 0.099999999999999978), 0.0], 6.459153711795807, 8.505757868289948], [[(7.6999999999999993, 4.666666666666667, 0.69666666666666666, 0.20000000000000001), 0.0], 7.089315131306648, 9.082123339176178], [[(7.6999999999999993, 4.666666666666667, 0.69666666666666666, 0.14999999999999999), 0.0], 6.616694077849388, 8.855070412158966], [[(7.6999999999999993, 4.666666666666667, 0.69666666666666666, 0.099999999999999978), 0.0], 5.750222221016884, 7.999254941940308], [[(7.6999999999999993, 4.666666666666667, 0.71999999999999997, 0.20000000000000001), 5.718425273895264], 6.222843267023563, 8.89000153541565], [[(7.6999999999999993, 4.666666666666667, 0.71999999999999997, 0.14999999999999999), 0.0], 5.041290782392025, 8.1215141415596], [[(7.6999999999999993, 4.666666666666667, 0.71999999999999997, 0.099999999999999978), 0.0], 4.253589019179344, 7.353026777505875], [[(7.6999999999999993, 5.333333333333333, 0.67333333333333334, 0.20000000000000001), 0.0], 5.120060846209526, 7.178370654582977], [[(7.8666666666666663, 4.0, 0.69666666666666666, 0.099999999999999978), 0.0], 7.404395788908005, 8.767742276191711], [[(7.8666666666666663, 4.0, 0.71999999999999997, 0.099999999999999978), 0.0], 5.2776012271642685, 8.016720354557037], [[(7.8666666666666663, 4.666666666666667, 0.62666666666666659, 0.099999999999999978), 5.718425273895264], 7.877016723155975, 8.977329671382904], [[(7.8666666666666663, 4.666666666666667, 0.64999999999999991, 0.099999999999999978), 5.718425273895264], 7.246855407953262, 8.645482897758484], [[(7.8666666666666663, 4.666666666666667, 0.67333333333333334, 0.20000000000000001), 0.0], 7.7194764316082, 9.309176504611969], [[(7.8666666666666663, 4.666666666666667, 0.67333333333333334, 0.14999999999999999), 0.0], 7.168085217475891, 9.099589049816132], [[(7.8666666666666663, 4.666666666666667, 0.67333333333333334, 0.099999999999999978), 0.0], 6.22284322977066, 8.173911154270172], [[(7.8666666666666663, 4.666666666666667, 0.69666666666666666, 0.20000000000000001), 5.718425273895264], 7.798246577382088, 9.274245202541351], [[(7.8666666666666663, 4.666666666666667, 0.69666666666666666, 0.14999999999999999), 0.0], 6.380383595824242, 8.523223519325256], [[(7.8666666666666663, 4.666666666666667, 0.69666666666666666, 0.099999999999999978), 0.0], 5.513911738991737, 7.667407989501953], [[(7.8666666666666663, 4.666666666666667, 0.71999999999999997, 0.20000000000000001), 5.718425273895264], 5.9865327551960945, 8.55815476179123], [[(7.8666666666666663, 4.666666666666667, 0.71999999999999997, 0.14999999999999999), 0.0], 4.883750401437283, 7.824598670005798], [[(7.8666666666666663, 5.333333333333333, 0.67333333333333334, 0.20000000000000001), 0.0], 5.041290685534477, 6.951317578554153], [[(8.0333333333333332, 4.0, 0.69666666666666666, 0.099999999999999978), 0.0], 7.246855467557907, 8.62801718711853], [[(8.0333333333333332, 4.0, 0.71999999999999997, 0.099999999999999978), 0.0], 5.120060905814171, 7.8769954442977905], [[(8.0333333333333332, 4.666666666666667, 0.62666666666666659, 0.099999999999999978), 5.718425273895264], 7.7982465624809265, 8.855070292949677], [[(8.0333333333333332, 4.666666666666667, 0.64999999999999991, 0.099999999999999978), 5.718425273895264], 7.1680852472782135, 8.540689170360565], [[(8.0333333333333332, 4.666666666666667, 0.67333333333333334, 0.20000000000000001), 0.0], 7.561936110258102, 9.186917126178741], [[(8.0333333333333332, 4.666666666666667, 0.67333333333333334, 0.14999999999999999), 0.0], 7.0105448961257935, 8.994795262813568], [[(8.0333333333333332, 4.666666666666667, 0.67333333333333334, 0.099999999999999978), 0.0], 6.144073069095612, 8.069117426872253], [[(8.0333333333333332, 4.666666666666667, 0.69666666666666666, 0.20000000000000001), 0.0], 6.695464268326759, 8.593086004257202], [[(8.0333333333333332, 4.666666666666667, 0.69666666666666666, 0.14999999999999999), 0.0], 6.222843274474144, 8.418429672718048], [[(8.0333333333333332, 4.666666666666667, 0.69666666666666666, 0.099999999999999978), 0.0], 5.4351415783166885, 7.56261420249939], [[(8.0333333333333332, 4.666666666666667, 0.71999999999999997, 0.20000000000000001), 5.718425273895264], 5.907762594521046, 8.400964200496674], [[(8.0333333333333332, 4.666666666666667, 0.71999999999999997, 0.14999999999999999), 0.0], 4.804980240762234, 7.719804883003235], [[(8.1999999999999993, 4.0, 0.69666666666666666, 0.099999999999999978), 0.0], 7.168085306882858, 8.488292217254639], [[(8.1999999999999993, 4.0, 0.71999999999999997, 0.099999999999999978), 0.0], 5.120060905814171, 7.737270534038544], [[(8.1999999999999993, 4.666666666666667, 0.62666666666666659, 0.099999999999999978), 5.718425273895264], 7.7982465624809265, 8.767742097377777], [[(8.1999999999999993, 4.666666666666667, 0.64999999999999991, 0.099999999999999978), 5.718425273895264], 7.1680852472782135, 8.453361093997955], [[(8.1999999999999993, 4.666666666666667, 0.67333333333333334, 0.20000000000000001), 0.0], 7.561936110258102, 9.082123398780823], [[(8.1999999999999993, 4.666666666666667, 0.67333333333333334, 0.14999999999999999), 0.0], 7.0105448961257935, 8.890001654624939], [[(8.1999999999999993, 4.666666666666667, 0.67333333333333334, 0.099999999999999978), 0.0], 6.144073069095612, 7.981789410114288], [[(8.1999999999999993, 4.666666666666667, 0.69666666666666666, 0.20000000000000001), 0.0], 6.695464268326759, 8.488292217254639], [[(8.1999999999999993, 4.666666666666667, 0.69666666666666666, 0.14999999999999999), 0.0], 6.222843274474144, 8.31363594532013], [[(8.1999999999999993, 4.666666666666667, 0.69666666666666666, 0.099999999999999978), 0.0], 5.4351415783166885, 7.475286096334457], [[(8.1999999999999993, 4.666666666666667, 0.71999999999999997, 0.20000000000000001), 5.718425273895264], 5.907762594521046, 8.296170473098755], [[(8.1999999999999993, 4.666666666666667, 0.71999999999999997, 0.14999999999999999), 0.0], 4.804980240762234, 7.615011215209961]]"
       ]
      },
      {
       "output_type": "stream",
       "stream": "stdout",
       "text": [
        "\n"
       ]
      }
     ],
     "prompt_number": 3
    },
    {
     "cell_type": "code",
     "collapsed": false,
     "input": [
      "#Finding best cuts\n",
      "SoB=np.array(SoB); QCD_B=np.array(QCD_B)\n",
      "FullDiscr=SoB-QCD_B\n",
      "print \"Maximum S/B: {0:.2f}, Arg: {1:.0f}, Cut:{2:.1f}, {3:.1f}, {4:.2f}, {5:.2f}\".format(max(SoB), SoB.argmax(), CutsValues[SoB.argmax()][0], CutsValues[SoB.argmax()][1], CutsValues[SoB.argmax()][2], CutsValues[SoB.argmax()][3])\n",
      "print \"Minimum QCD: {0:.2f}, Arg: {1:.0f}, Cut:{2:.1f}, {3:.1f}, {4:.2f}, {5:.2f}\".format(min(QCD_B), QCD_B.argmin(), CutsValues[QCD_B.argmax()][0], CutsValues[QCD_B.argmax()][1], CutsValues[QCD_B.argmax()][2], CutsValues[QCD_B.argmax()][3])\n",
      "print \"Maximum S/B considering QCD: {0:.2f}, Arg: {1:.0f}, Cut:{2:.1f}, {3:.1f}, {4:.2f}, {5:.2f}\".format(max(FullDiscr), FullDiscr.argmax(), CutsValues[FullDiscr.argmax()][0], CutsValues[FullDiscr.argmax()][1], CutsValues[FullDiscr.argmax()][2], CutsValues[FullDiscr.argmax()][3])"
     ],
     "language": "python",
     "metadata": {},
     "outputs": [
      {
       "output_type": "stream",
       "stream": "stdout",
       "text": [
        "Maximum S/B: 1.73, Arg: 127, Cut:7.7, 4.7, 0.72, 0.10\n",
        "Minimum QCD: 5.72, Arg: 23, Cut:6.2, 4.0, 0.70, 0.10\n",
        "Maximum S/B considering QCD: -3.99, Arg: 127, Cut:7.7, 4.7, 0.72, 0.10\n"
       ]
      }
     ],
     "prompt_number": 4
    },
    {
     "cell_type": "code",
     "collapsed": false,
     "input": [
      "CutM2HPCLs=ROOT.TCut(\"M2HP>7.0\")\n",
      "CutRelHTCLs=ROOT.TCut(\"RelHT>=0.72\") #\"TMath::Abs(Eta6thJ)>\",\n",
      "CutDRTp6thJCLs=ROOT.TCut(\"DRTp6thJ>4.7\")\n",
      "Eta6thJCLs=ROOT.TCut(\"TMath::Abs(Eta6thJ)>1.0\")\n",
      "CutMTHAsymCLs=ROOT.TCut(\"MTHAsym>=(0.18-0.1) && MTHAsym<=(0.18+0.1)\")\n",
      "CutsFromCLs=[ROOT.TCut(\"\"),HTCut,CutDRbb,CutDRWH,CutM2HPCLs,CutDRTp6thJCLs,CutHM,CutRelHTCLs,CutMTHAsymCLs]\n",
      "#CutsFromCLs=[ROOT.TCut(\"\"),Cut1,CutDRbb,CutDRWH,CutM2HPCLs,Eta6thJCLs,CutHM,CutRelHTCLs,CutMTHAsymCLs]\n",
      "\n",
      "OptVersion=\"_whitout_chi2_\"\n",
      "\n",
      "CumulCut=ROOT.TCut(\"\")\n",
      "\n",
      "Nm1 = ROOT.TFile(\"Nminus1_HTg600_\"+OptVersion+\".root\", \"recreate\")\n",
      "\n",
      "SignalEntriesE=[]; TTbarEntriesE=[]; QCDEntriesE=[]\n",
      "S=[]; B=[]\n",
      "\n",
      "PDFName=\"Nminus1_HTg600_\"+OptVersion+\".pdf\"\n",
      "CurCanv = rootnotes.canvas(\"MyPlot\", (600, 800))\n",
      "Titles=[\"Base\",\"HT\", \"DRbb\", \"DRWH\", \"M2HP\", \"DRTp6thJ\", \"HiggsMass\", \"RelHT\", \"MTHAsym\"]\n",
      "\n",
      "BinsLimits=\"(120,400,1600)\"\n",
      "\n",
      "for i in xrange(len(CutsFromCLs)):\n",
      "    CumulCut=CumulCut*CutsFromCLs[i]\n",
      "    \n",
      "    NMassPointsA[2].Draw(\"M5J >> M5jS_Cut\"+str(i)+BinsLimits,CumulCut)\n",
      "    M5JHS=ROOT.gDirectory.Get(\"M5jS_Cut\"+str(i))\n",
      "    M5JHS.Sumw2(); M5JHS.Scale(SWeight); M5JHS.Write()\n",
      "               \n",
      "    f1=ROOT.TF1(\"f1\",\"gaus\",600,800)\n",
      "    M5JHS.Fit(\"f1\",\"LMR\",\"same\")\n",
      "    MassPoint=f1.GetParameter(1); win=f1.GetParameter(2)\n",
      "    Chi2=f1.GetChisquare(); NDF=f1.GetNDF()\n",
      "    window_error=ROOT.Double(0.)\n",
      "    integral=M5JHS.IntegralAndError(M5JHS.GetXaxis().FindBin(MassPoint-win),M5JHS.GetXaxis().FindBin(MassPoint+win),window_error)\n",
      "    S.append(integral)\n",
      "        \n",
      "    TntupleA.Draw(\"M5J >> M5jT_Cut\"+str(i)+BinsLimits,CumulCut)\n",
      "    M5JHT=ROOT.gDirectory.Get(\"M5jT_Cut\"+str(i))\n",
      "    M5JHT.Sumw2(); M5JHT.Scale(TWeight); M5JHT.Write()\n",
      "                \n",
      "    bkg_integralT=M5JHT.IntegralAndError(M5JHT.GetXaxis().FindBin(MassPoint-win),M5JHT.GetXaxis().FindBin(MassPoint+win),window_error)\n",
      "        \n",
      "    QntuplesA[0].Draw(\"M5J >> M5jQ_Cut\"+str(i)+BinsLimits,CumulCut)\n",
      "    M5JHQ=ROOT.gDirectory.Get(\"M5jQ_Cut\"+str(i))\n",
      "    M5JHQ.Sumw2(); M5JHQ.Scale(Q500Weight); M5JHQ.Write()\n",
      "    \n",
      "    bkg_integralQ=M5JHQ.IntegralAndError(M5JHQ.GetXaxis().FindBin(MassPoint-win),M5JHQ.GetXaxis().FindBin(MassPoint+win),window_error)\n",
      "    B.append(bkg_integralT+bkg_integralQ)\n",
      "        \n",
      "    M5JHQ.SetStats(ROOT.kFALSE)\n",
      "    M5JHQ.SetLineStyle(7); M5JHT.SetLineStyle(9); M5JHS.SetLineStyle(1)\n",
      "    M5JHQ.SetLineWidth(2); M5JHT.SetLineWidth(1); M5JHS.SetLineWidth(3)\n",
      "    M5JHQ.SetLineColor(ROOT.kViolet+1); M5JHT.SetLineColor(ROOT.kRed); M5JHS.SetLineColor(ROOT.kGreen+1)\n",
      "    LEG=ROOT.TLegend(0.6,0.6,0.8,0.8)\n",
      "    LEG.AddEntry(M5JHQ, \"QCD\", \"l\"); LEG.AddEntry(M5JHT, \"TTbar\", \"l\"); LEG.AddEntry(M5JHS, \"Signal\", \"l\")\n",
      "    LEG.SetFillColor(0);\n",
      "    M5JHQ.Draw(\"hist\"); M5JHT.Draw(\"hist same\"); M5JHS.Draw(\"hist same\"); LEG.Draw()\n",
      "    \n",
      "    if i==0: CurCanv.Print(PDFName+\"(\",\"Title:\"+Titles[i])\n",
      "    elif i<=len(CutsFromCLs)-2 and i>0: CurCanv.Print(PDFName,\"Title:\"+Titles[i])\n",
      "    else: CurCanv.Print(PDFName+\")\",\"Title:\"+Titles[i])\n",
      "    \n",
      "    SignalEntriesE.append(M5JHS.GetEntries()); TTbarEntriesE.append(M5JHT.GetEntries()); QCDEntriesE.append(M5JHQ.GetEntries())\n",
      "\n",
      "Nm1.Close()\n",
      "\n",
      "print \"--------------------------------------------------\"\n",
      "print \"------------------Efficiencies--------------------\"\n",
      "print \"--------Signal------TTbar-------QCD---------------\"\n",
      "    \n",
      "for i in xrange(len(TTbarEntriesE)-1):\n",
      "    print \"Cut\"+str(i+1)+\":    {0:.2f}      {1:.2f}      {2:.2f}\".format(100*SignalEntriesE[i+1]/SignalEntriesE[i], \n",
      "                                           100*TTbarEntriesE[i+1]/TTbarEntriesE[i],\n",
      "                                           100*QCDEntriesE[i+1]/QCDEntriesE[i]) \n",
      "\n",
      "print \"--------------------------------------------------\"\n",
      "print \"-------------------Estimators---------------------\"\n",
      "print \"-----------S/B----------S/sqrt(S/B)---------------\"\n",
      "\n",
      "for i in xrange(len(TTbarEntriesE)):\n",
      "    print \"Cut\"+str(i+1)+\":     {0:.3f}           {1:.3f}\".format(S[i]/B[i],\n",
      "                                           S[i]/np.array(S[i]+B[i]))\n",
      "\n",
      "print \"--------------------------------------------------\"\n",
      "print \"---------------------Yields-----------------------\"\n",
      "print \"--------Signal------TTbar-------QCD---------------\"\n",
      "\n",
      "for i in xrange(len(TTbarEntriesE)):\n",
      "    print \"Cut\"+str(i+1)+\":    {0:.2f}      {1:.2f}      {2:.2f}\".format(SignalEntriesE[i]*SWeight, \n",
      "                                           TTbarEntriesE[i]*TWeight,\n",
      "                                           QCDEntriesE[i]*Q500Weight) "
     ],
     "language": "python",
     "metadata": {},
     "outputs": [
      {
       "output_type": "stream",
       "stream": "stdout",
       "text": [
        "--------------------------------------------------\n",
        "------------------Efficiencies--------------------\n",
        "--------Signal------TTbar-------QCD---------------\n",
        "Cut1:    96.75      91.45      93.28\n",
        "Cut2:    79.81      34.46      31.76\n",
        "Cut3:    94.25      84.72      80.10\n",
        "Cut4:    62.79      34.82      57.31\n",
        "Cut5:    55.18      11.25      10.08\n",
        "Cut6:    81.24      46.83      32.00\n",
        "Cut7:    70.10      37.09      28.12\n",
        "Cut8:    79.57      66.26      11.11\n",
        "--------------------------------------------------\n",
        "-------------------Estimators---------------------\n",
        "-----------S/B----------S/sqrt(S/B)---------------\n",
        "Cut1:     0.005           0.005\n",
        "Cut2:     0.006           0.006\n",
        "Cut3:     0.013           0.013\n",
        "Cut4:     0.014           0.014\n",
        "Cut5:     0.021           0.021\n",
        "Cut6:     0.102           0.092\n",
        "Cut7:     0.196           0.164\n",
        "Cut8:     0.315           0.240\n",
        "Cut9:     1.509           0.601\n",
        "--------------------------------------------------\n",
        "---------------------Yields-----------------------\n",
        "--------Signal------TTbar-------QCD---------------\n",
        "Cut1:    95.24      14139.95      41710.20\n",
        "Cut2:    92.15      12931.07      38908.17\n",
        "Cut3:    73.55      4456.66      12357.52\n",
        "Cut4:    69.32      3775.85      9898.59\n",
        "Cut5:    43.52      1314.60      5672.68\n",
        "Cut6:    24.02      147.85      571.84\n",
        "Cut7:    19.51      69.24      182.99\n",
        "Cut8:    13.68      25.68      51.47\n",
        "Cut9:    10.88      17.01      5.72\n"
       ]
      }
     ],
     "prompt_number": 5
    },
    {
     "cell_type": "heading",
     "level": 2,
     "metadata": {},
     "source": [
      "HT Cut Study"
     ]
    },
    {
     "cell_type": "code",
     "collapsed": false,
     "input": [
      "#HT CUT at the end of selection\n",
      "HTCut = ROOT.TCut(\"THT>600\") #Cut on HT\n",
      "\n",
      "CutsFromCLs=[ROOT.TCut(\"\"),CutDRbb,CutDRWH,CutM2HPCLs,CutDRTp6thJCLs,CutHM,CutRelHTCLs,CutMTHAsymCLs,HTCut]\n",
      "\n",
      "OptVersion=\"_whitout_chi2_\"\n",
      "\n",
      "CumulCut=ROOT.TCut(\"\")\n",
      "\n",
      "SignalEntriesE=[]; TTbarEntriesE=[]; QCDEntriesE=[]\n",
      "S=[]; B=[]\n",
      "\n",
      "PDFName=\"Nminus1_HTg600_AtTheEnd_\"+OptVersion+\".pdf\"\n",
      "CurCanv = rootnotes.canvas(\"MyPlot\", (600, 800))\n",
      "Titles=[\"Base\", \"DRbb\", \"DRWH\", \"M2HP\", \"DRTp6thJ\", \"HiggsMass\", \"RelHT\", \"MTHAsym\",\"HT\"]\n",
      "\n",
      "BinsLimits=\"(120,400,1600)\"\n",
      "\n",
      "for i in xrange(len(CutsFromCLs)):\n",
      "    CumulCut=CumulCut*CutsFromCLs[i]\n",
      "    \n",
      "    NMassPointsA[2].Draw(\"M5J >> M5jS_Cut\"+str(i)+BinsLimits,CumulCut)\n",
      "    M5JHS=ROOT.gDirectory.Get(\"M5jS_Cut\"+str(i))\n",
      "    M5JHS.Sumw2(); M5JHS.Scale(SWeight)\n",
      "               \n",
      "    f1=ROOT.TF1(\"f1\",\"gaus\",600,800)\n",
      "    M5JHS.Fit(\"f1\",\"LMR\",\"same\")\n",
      "    MassPoint=f1.GetParameter(1); win=f1.GetParameter(2)\n",
      "    Chi2=f1.GetChisquare(); NDF=f1.GetNDF()\n",
      "    window_error=ROOT.Double(0.)\n",
      "    integral=M5JHS.IntegralAndError(M5JHS.GetXaxis().FindBin(MassPoint-win),M5JHS.GetXaxis().FindBin(MassPoint+win),window_error)\n",
      "    S.append(integral)\n",
      "        \n",
      "    TntupleA.Draw(\"M5J >> M5jT_Cut\"+str(i)+BinsLimits,CumulCut)\n",
      "    M5JHT=ROOT.gDirectory.Get(\"M5jT_Cut\"+str(i))\n",
      "    M5JHT.Sumw2(); M5JHT.Scale(TWeight)\n",
      "                \n",
      "    bkg_integralT=M5JHT.IntegralAndError(M5JHT.GetXaxis().FindBin(MassPoint-win),M5JHT.GetXaxis().FindBin(MassPoint+win),window_error)\n",
      "        \n",
      "    QntuplesA[0].Draw(\"M5J >> M5jQ_Cut\"+str(i)+BinsLimits,CumulCut)\n",
      "    M5JHQ=ROOT.gDirectory.Get(\"M5jQ_Cut\"+str(i))\n",
      "    M5JHQ.Sumw2(); M5JHQ.Scale(Q500Weight)\n",
      "    \n",
      "    bkg_integralQ=M5JHQ.IntegralAndError(M5JHQ.GetXaxis().FindBin(MassPoint-win),M5JHQ.GetXaxis().FindBin(MassPoint+win),window_error)\n",
      "    B.append(bkg_integralT+bkg_integralQ)\n",
      "        \n",
      "    M5JHQ.SetStats(ROOT.kFALSE)\n",
      "    M5JHQ.SetLineStyle(7); M5JHT.SetLineStyle(9); M5JHS.SetLineStyle(1)\n",
      "    M5JHQ.SetLineWidth(2); M5JHT.SetLineWidth(1); M5JHS.SetLineWidth(3)\n",
      "    M5JHQ.SetLineColor(ROOT.kViolet+1); M5JHT.SetLineColor(ROOT.kRed); M5JHS.SetLineColor(ROOT.kGreen+1)\n",
      "    LEG=ROOT.TLegend(0.6,0.6,0.8,0.8)\n",
      "    LEG.AddEntry(M5JHQ, \"QCD\", \"l\"); LEG.AddEntry(M5JHT, \"TTbar\", \"l\"); LEG.AddEntry(M5JHS, \"Signal\", \"l\")\n",
      "    LEG.SetFillColor(0);\n",
      "    M5JHQ.Draw(\"hist\"); M5JHT.Draw(\"hist same\"); M5JHS.Draw(\"hist same\"); LEG.Draw()\n",
      "    \n",
      "    if i==0: CurCanv.Print(PDFName+\"(\",\"Title:\"+Titles[i])\n",
      "    elif i<=len(CutsFromCLs)-2 and i>0: CurCanv.Print(PDFName,\"Title:\"+Titles[i])\n",
      "    else: CurCanv.Print(PDFName+\")\",\"Title:\"+Titles[i])\n",
      "    \n",
      "    SignalEntriesE.append(M5JHS.GetEntries()); TTbarEntriesE.append(M5JHT.GetEntries()); QCDEntriesE.append(M5JHQ.GetEntries())\n",
      "    del(M5JHS); del(M5JHT); del(M5JHQ); del(LEG)\n",
      "del(CurCanv)\n",
      "    \n",
      "print \"--------------------------------------------------\"\n",
      "print \"------------------Efficiencies--------------------\"\n",
      "print \"--------Signal------TTbar-------QCD---------------\"\n",
      "    \n",
      "for i in xrange(len(TTbarEntriesE)-1):\n",
      "    print \"Cut\"+str(i+1)+\":    {0:.2f}      {1:.2f}      {2:.2f}\".format(100*SignalEntriesE[i+1]/SignalEntriesE[i], \n",
      "                                           100*TTbarEntriesE[i+1]/TTbarEntriesE[i],\n",
      "                                           100*QCDEntriesE[i+1]/QCDEntriesE[i]) \n",
      "\n",
      "print \"--------------------------------------------------\"\n",
      "print \"-------------------Estimators---------------------\"\n",
      "print \"-----------S/B----------S/sqrt(S/B)---------------\"\n",
      "\n",
      "for i in xrange(len(TTbarEntriesE)):\n",
      "    print \"Cut\"+str(i+1)+\":     {0:.3f}           {1:.3f}\".format(S[i]/B[i],\n",
      "                                           S[i]/np.array(S[i]+B[i]))\n",
      "\n",
      "print \"--------------------------------------------------\"\n",
      "print \"---------------------Yields-----------------------\"\n",
      "print \"--------Signal------TTbar-------QCD---------------\"\n",
      "\n",
      "for i in xrange(len(TTbarEntriesE)):\n",
      "    print \"Cut\"+str(i+1)+\":    {0:.2f}      {1:.2f}      {2:.2f}\".format(SignalEntriesE[i]*SWeight, \n",
      "                                           TTbarEntriesE[i]*TWeight,\n",
      "                                           QCDEntriesE[i]*Q500Weight) \n",
      "#Plotting HT cut per cut\n",
      "CumulCut=ROOT.TCut(\"\")\n",
      "\n",
      "PDFName=\"Nminus1_HT_HTg630_AtTheEnd_\"+OptVersion+\".pdf\"\n",
      "CurCanv = rootnotes.canvas(\"MyPlot\", (600, 800))\n",
      "\n",
      "BinsLimits=\"(120,400,1600)\"\n",
      "\n",
      "for i in xrange(len(CutsFromCLs)):\n",
      "    CumulCut=CumulCut*CutsFromCLs[i]\n",
      "    \n",
      "    NMassPointsA[2].Draw(\"THT >> THTS_Cut\"+str(i)+BinsLimits,CumulCut)\n",
      "    M5JHS=ROOT.gDirectory.Get(\"THTS_Cut\"+str(i))\n",
      "    M5JHS.Sumw2(); M5JHS.Scale(SWeight)\n",
      "        \n",
      "    TntupleA.Draw(\"THT >> THTT_Cut\"+str(i)+BinsLimits,CumulCut)\n",
      "    M5JHT=ROOT.gDirectory.Get(\"THTT_Cut\"+str(i))\n",
      "    M5JHT.Sumw2(); M5JHT.Scale(TWeight)\n",
      "    \n",
      "    QntuplesA[0].Draw(\"THT >> THTQ_Cut\"+str(i)+BinsLimits,CumulCut)\n",
      "    M5JHQ=ROOT.gDirectory.Get(\"THTQ_Cut\"+str(i))\n",
      "    M5JHQ.Sumw2(); M5JHQ.Scale(Q500Weight)\n",
      "            \n",
      "    M5JHQ.SetStats(ROOT.kFALSE)\n",
      "    M5JHQ.SetLineStyle(7); M5JHT.SetLineStyle(9); M5JHS.SetLineStyle(1)\n",
      "    M5JHQ.SetLineWidth(2); M5JHT.SetLineWidth(1); M5JHS.SetLineWidth(3)\n",
      "    M5JHQ.SetLineColor(ROOT.kViolet+1); M5JHT.SetLineColor(ROOT.kRed); M5JHS.SetLineColor(ROOT.kGreen+1)\n",
      "    LEG=ROOT.TLegend(0.6,0.6,0.8,0.8)\n",
      "    LEG.AddEntry(M5JHQ, \"QCD\", \"l\"); LEG.AddEntry(M5JHT, \"TTbar\", \"l\"); LEG.AddEntry(M5JHS, \"Signal\", \"l\")\n",
      "    LEG.SetFillColor(0);\n",
      "    M5JHQ.Draw(\"hist\"); M5JHT.Draw(\"hist same\"); M5JHS.Draw(\"hist same\"); \n",
      "    #ROOT.gPad.SetLogy(); ROOT.gPad.RedrawAxis()\n",
      "    LEG.Draw()\n",
      "    \n",
      "    if i==0: CurCanv.Print(PDFName+\"(\",\"Title:\"+Titles[i])\n",
      "    elif i<=len(CutsFromCLs)-2 and i>0: CurCanv.Print(PDFName,\"Title:\"+Titles[i])\n",
      "    else: CurCanv.Print(PDFName+\")\",\"Title:\"+Titles[i])\n",
      "    del(M5JHS); del(M5JHT); del(M5JHQ); del(LEG)\n",
      "del(CurCanv)\n"
     ],
     "language": "python",
     "metadata": {},
     "outputs": [
      {
       "output_type": "stream",
       "stream": "stdout",
       "text": [
        "--------------------------------------------------\n",
        "------------------Efficiencies--------------------\n",
        "--------Signal------TTbar-------QCD---------------\n",
        "Cut1:    79.52      33.64      31.41\n",
        "Cut2:    94.35      85.13      80.36\n",
        "Cut3:    62.63      33.70      56.60\n",
        "Cut4:    55.58      11.94      10.36\n",
        "Cut5:    80.41      46.21      32.41\n",
        "Cut6:    70.31      38.60      28.57\n",
        "Cut7:    79.63      65.58      20.00\n",
        "Cut8:    97.19      89.26      50.00\n",
        "--------------------------------------------------\n",
        "-------------------Estimators---------------------\n",
        "-----------S/B----------S/sqrt(S/B)---------------\n",
        "Cut1:     0.005           0.005\n",
        "Cut2:     0.013           0.013\n",
        "Cut3:     0.014           0.014\n",
        "Cut4:     0.022           0.021\n",
        "Cut5:     0.094           0.086\n",
        "Cut6:     0.170           0.146\n",
        "Cut7:     0.269           0.212\n",
        "Cut8:     1.476           0.596\n",
        "Cut9:     1.509           0.601\n",
        "--------------------------------------------------\n",
        "---------------------Yields-----------------------\n",
        "--------Signal------TTbar-------QCD---------------\n",
        "Cut1:    95.24      14139.95      41710.20\n",
        "Cut2:    75.73      4756.06      13100.91\n",
        "Cut3:    71.45      4049.02      10527.62\n",
        "Cut4:    44.75      1364.46      5958.60\n",
        "Cut5:    24.87      162.98      617.59\n",
        "Cut6:    20.00      75.30      200.14\n",
        "Cut7:    14.06      29.07      57.18\n",
        "Cut8:    11.20      19.06      11.44\n",
        "Cut9:    10.88      17.01      5.72\n"
       ]
      }
     ],
     "prompt_number": 6
    },
    {
     "cell_type": "code",
     "collapsed": false,
     "input": [
      "#All mass points\n",
      "CurCanv = rootnotes.canvas(\"MyPlot\", (600, 800))\n",
      "    \n",
      "PDFName=\"Nminus1_AllMasses_HTg600_AtTheEnd_\"+OptVersion+\".pdf\"\n",
      "\n",
      "Masses=[600,650,700,750,800,850,900,950,1000]\n",
      "FitWindows=[100,100,100,100,150,150,150,150,150]\n",
      "\n",
      "BinsLimits=\"(40,400,1600)\"\n",
      "\n",
      "for i in xrange(len(Masses)):\n",
      "    CumulCut=ROOT.TCut(\"\")\n",
      "    MassPointsIntSignal=[]; MassPointsFullIntSignal=[]\n",
      "    for j in xrange(len(CutsFromCLs)):\n",
      "        CumulCut=CumulCut*CutsFromCLs[j]\n",
      "        print \"---------------------------------------------\"\n",
      "        NMassPointsA[i].Draw(\"M5J >> M5jS\"+str(Masses[i])+\"_CutF\"+BinsLimits,CumulCut)\n",
      "        M5JHS=ROOT.gDirectory.Get(\"M5jS\"+str(Masses[i])+\"_CutF\")\n",
      "        M5JHS.Sumw2(); M5JHS.Scale(NWeights[i])\n",
      "    \n",
      "        f1=ROOT.TF1(\"f1\",\"gaus\",Masses[i]-FitWindows[i],Masses[i]+FitWindows[i])\n",
      "        M5JHS.Fit(\"f1\",\"LMR\",\"same\")\n",
      "        MassPoint=f1.GetParameter(1); win=f1.GetParameter(2)\n",
      "        MassPointE=f1.GetParError(1); winE=f1.GetParError(2)\n",
      "        Chi2=f1.GetChisquare(); NDF=f1.GetNDF()\n",
      "        window_error=ROOT.Double(0.)\n",
      "        integral=M5JHS.IntegralAndError(M5JHS.GetXaxis().FindBin(MassPoint-win),M5JHS.GetXaxis().FindBin(MassPoint+win),window_error)\n",
      "        print \"M=\"+str(Masses[i])+\" GeV ------> {0:.2f}+-{1:.2f}\".format(integral,window_error)\n",
      "        print \"Mean value: {0:.2f}+-{1:.2f}, with sigma: {2:.2f}+-{3:.2f}\".format(MassPoint,MassPointE,win,winE)\n",
      "        print \"Chi2={0:.2f}, ndf={1:.2f}, Chi2/ndf={2:.2f}\".format(Chi2, NDF, Chi2/NDF)\n",
      "        MassPointsIntSignal.append(integral)\n",
      "        MassPointsFullIntSignal.append(M5JHS.Integral())\n",
      "        \n",
      "        M5JHS.SetStats(ROOT.kFALSE)\n",
      "        M5JHS.SetLineStyle(1)\n",
      "        M5JHS.SetLineWidth(3)\n",
      "        M5JHS.SetLineColor(ROOT.kGreen+1)\n",
      "        LEG=ROOT.TLegend(0.6,0.75,0.85,0.8)\n",
      "        LEG.AddEntry(M5JHS, \"Signal \"+str(Masses[i]), \"l\")\n",
      "        LEG.SetFillColor(0);\n",
      "        M5JHS.Draw(\"hist\"); f1.Draw(\"same\")\n",
      "        LEG.Draw()\n",
      "        \n",
      "        if i==0 and j==0: CurCanv.Print(PDFName+\"(\",\"Title:\"+Titles[j])\n",
      "        elif i<=len(Masses)-2 and not (i==0 and j==0): CurCanv.Print(PDFName,\"Title:\"+Titles[j])\n",
      "        elif i==len(Masses)-1 and j==len(CutsFromCLs)-1: CurCanv.Print(PDFName+\")\",\"Title:\"+Titles[j])\n",
      "        del(M5JHS); del(LEG)\n",
      "        \n",
      "    print \"--------------------------------------------------\"\n",
      "    print \"------------------Efficiencies--------------------\"\n",
      "    print \"----------EffWin----------------EffInt------------\"\n",
      "    \n",
      "    for k in xrange(len(MassPointsIntSignal)-1):\n",
      "        print \"Cut\"+str(k+1)+\":    {0:.2f}                 {1:.2f}\".format(100*MassPointsIntSignal[k+1]/MassPointsIntSignal[k], \n",
      "                                           100*MassPointsFullIntSignal[k+1]/MassPointsFullIntSignal[k]) "
     ],
     "language": "python",
     "metadata": {},
     "outputs": [
      {
       "output_type": "stream",
       "stream": "stdout",
       "text": [
        "---------------------------------------------\n",
        "M=600 GeV ------> 62.88+-1.31\n",
        "Mean value: 590.40+-7.36, with sigma: 54.11+-7.40\n",
        "Chi2=26.48, ndf=4.00, Chi2/ndf=6.62\n",
        "---------------------------------------------\n",
        "M=600 GeV ------> 46.76+-1.13\n",
        "Mean value: 590.85+-7.95, with sigma: 51.41+-7.64\n",
        "Chi2=28.09, ndf=4.00, Chi2/ndf=7.02\n",
        "---------------------------------------------\n",
        "M=600 GeV ------> 45.09+-1.11\n",
        "Mean value: 591.58+-7.98, with sigma: 50.88+-7.60\n",
        "Chi2=24.03, ndf=4.00, Chi2/ndf=6.01\n",
        "---------------------------------------------\n",
        "M=600 GeV ------> 28.43+-0.88\n",
        "Mean value: 591.09+-9.87, with sigma: 50.02+-9.26\n",
        "Chi2=15.19, ndf=4.00, Chi2/ndf=3.80\n",
        "---------------------------------------------\n",
        "M=600 GeV ------> 15.51+-0.65\n",
        "Mean value: 596.56+-12.19, with sigma: 46.70+-10.81\n",
        "Chi2=7.95, ndf=4.00, Chi2/ndf=1.99\n",
        "---------------------------------------------\n",
        "M=600 GeV ------> 11.55+-0.56\n",
        "Mean value: 601.06+-11.82, with sigma: 41.81+-9.67\n",
        "Chi2=11.77, ndf=4.00, Chi2/ndf=2.94\n",
        "---------------------------------------------\n",
        "M=600 GeV ------> 6.35+-0.42\n",
        "Mean value: 607.31+-15.15, with sigma: 39.52+-12.02\n",
        "Chi2=20.27, ndf=4.00, Chi2/ndf=5.07\n",
        "---------------------------------------------\n",
        "M=600 GeV ------> 5.50+-0.39\n",
        "Mean value: 609.47+-13.91, with sigma: 33.75+-10.37\n",
        "Chi2=15.36, ndf=4.00, Chi2/ndf=3.84\n",
        "---------------------------------------------"
       ]
      },
      {
       "output_type": "stream",
       "stream": "stdout",
       "text": [
        "\n",
        "M=600 GeV ------> 4.38+-0.35\n",
        "Mean value: 614.86+-13.64, with sigma: 30.45+-10.01\n",
        "Chi2=11.57, ndf=4.00, Chi2/ndf=2.89\n",
        "--------------------------------------------------\n",
        "------------------Efficiencies--------------------\n",
        "----------EffWin----------------EffInt------------\n",
        "Cut1:    74.37                 67.51\n",
        "Cut2:    96.43                 93.90\n",
        "Cut3:    63.05                 60.55\n",
        "Cut4:    54.57                 52.12\n",
        "Cut5:    74.43                 79.29\n",
        "Cut6:    54.98                 52.43\n",
        "Cut7:    86.64                 78.35\n",
        "Cut8:    79.60                 84.21\n",
        "---------------------------------------------\n",
        "M=650 GeV ------> 55.49+-1.10\n",
        "Mean value: 637.05+-8.08, with sigma: 54.62+-7.82\n",
        "Chi2=21.85, ndf=4.00, Chi2/ndf=5.46\n",
        "---------------------------------------------\n",
        "M=650 GeV ------> 46.92+-1.01\n",
        "Mean value: 638.71+-8.14, with sigma: 52.30+-7.69\n",
        "Chi2=18.12, ndf=4.00, Chi2/ndf=4.53\n",
        "---------------------------------------------\n",
        "M=650 GeV ------> 46.00+-1.00\n",
        "Mean value: 638.85+-8.09, with sigma: 51.70+-7.59\n",
        "Chi2=18.51, ndf=4.00, Chi2/ndf=4.63\n",
        "---------------------------------------------\n",
        "M=650 GeV ------> 29.50+-0.80\n",
        "Mean value: 638.28+-9.93, with sigma: 50.90+-9.19\n",
        "Chi2=19.80, ndf=4.00, Chi2/ndf=4.95\n",
        "---------------------------------------------\n",
        "M=650 GeV ------> 17.58+-0.62\n",
        "Mean value: 639.88+-12.13, with sigma: 49.08+-10.99\n",
        "Chi2=15.47, ndf=4.00, Chi2/ndf=3.87\n",
        "---------------------------------------------\n",
        "M=650 GeV ------> 15.27+-0.58\n",
        "Mean value: 645.32+-10.63, with sigma: 42.25+-8.77\n",
        "Chi2=14.66, ndf=4.00, Chi2/ndf=3.67\n",
        "---------------------------------------------\n",
        "M=650 GeV ------> 10.16+-0.47"
       ]
      },
      {
       "output_type": "stream",
       "stream": "stdout",
       "text": [
        "\n",
        "Mean value: 646.52+-12.25, with sigma: 39.86+-9.75\n",
        "Chi2=7.36, ndf=4.00, Chi2/ndf=1.84\n",
        "---------------------------------------------\n",
        "M=650 GeV ------> 8.64+-0.43\n",
        "Mean value: 646.72+-12.61, with sigma: 37.99+-9.77\n",
        "Chi2=5.06, ndf=4.00, Chi2/ndf=1.27\n",
        "---------------------------------------------\n",
        "M=650 GeV ------> 6.96+-0.39\n",
        "Mean value: 649.97+-12.62, with sigma: 36.34+-9.56\n",
        "Chi2=4.36, ndf=4.00, Chi2/ndf=1.09\n",
        "--------------------------------------------------\n",
        "------------------Efficiencies--------------------\n",
        "----------EffWin----------------EffInt------------\n",
        "Cut1:    84.56                 76.69\n",
        "Cut2:    98.05                 93.66\n",
        "Cut3:    64.11                 61.47\n",
        "Cut4:    59.59                 55.35\n",
        "Cut5:    86.88                 80.29\n",
        "Cut6:    66.52                 62.73\n",
        "Cut7:    85.01                 81.72\n",
        "Cut8:    80.60                 88.81\n",
        "---------------------------------------------\n",
        "M=700 GeV ------> 58.00+-1.01\n",
        "Mean value: 687.14+-9.61, with sigma: 55.41+-10.90\n",
        "Chi2=11.32, ndf=3.00, Chi2/ndf=3.77\n",
        "---------------------------------------------\n",
        "M=700 GeV ------> 51.07+-0.94\n",
        "Mean value: 687.59+-9.56, with sigma: 53.30+-10.52\n",
        "Chi2=9.24, ndf=3.00, Chi2/ndf=3.08\n",
        "---------------------------------------------\n",
        "M=700 GeV ------> 50.02+-0.93\n",
        "Mean value: 687.72+-9.45, with sigma: 52.66+-10.31\n",
        "Chi2=7.99, ndf=3.00, Chi2/ndf=2.66\n",
        "---------------------------------------------\n",
        "M=700 GeV ------> 32.38+-0.75\n",
        "Mean value: 688.64+-10.78, with sigma: 50.26+-11.36\n",
        "Chi2=6.80, ndf=3.00, Chi2/ndf=2.27\n",
        "---------------------------------------------\n",
        "M=700 GeV ------> 19.91+-0.59\n",
        "Mean value: 690.03+-13.61, with sigma: 50.23+-14.44\n",
        "Chi2=2.62, ndf=3.00, Chi2/ndf=0.87\n",
        "---------------------------------------------"
       ]
      },
      {
       "output_type": "stream",
       "stream": "stdout",
       "text": [
        "\n",
        "M=700 GeV ------> 15.09+-0.51\n",
        "Mean value: 694.45+-12.40, with sigma: 45.46+-12.24\n",
        "Chi2=1.75, ndf=3.00, Chi2/ndf=0.58\n",
        "---------------------------------------------\n",
        "M=700 GeV ------> 11.13+-0.44\n",
        "Mean value: 698.42+-13.77, with sigma: 44.06+-13.27\n",
        "Chi2=0.56, ndf=3.00, Chi2/ndf=0.19\n",
        "---------------------------------------------\n",
        "M=700 GeV ------> 9.55+-0.41\n",
        "Mean value: 697.11+-13.81, with sigma: 41.51+-12.63\n",
        "Chi2=2.78, ndf=3.00, Chi2/ndf=0.93\n",
        "---------------------------------------------\n",
        "M=700 GeV ------> 9.34+-0.40\n",
        "Mean value: 697.43+-13.92, with sigma: 41.40+-12.70\n",
        "Chi2=2.08, ndf=3.00, Chi2/ndf=0.69\n",
        "--------------------------------------------------\n",
        "------------------Efficiencies--------------------\n",
        "----------EffWin----------------EffInt------------\n",
        "Cut1:    88.05                 80.79\n",
        "Cut2:    97.95                 94.79\n",
        "Cut3:    64.73                 62.60\n",
        "Cut4:    61.49                 55.78\n",
        "Cut5:    75.79                 80.39\n",
        "Cut6:    73.73                 70.37\n",
        "Cut7:    85.87                 79.63\n",
        "Cut8:    97.81                 97.19\n",
        "---------------------------------------------\n",
        "M=750 GeV ------> 54.72+-0.89\n",
        "Mean value: 730.11+-10.42, with sigma: 60.55+-11.13\n",
        "Chi2=5.33, ndf=4.00, Chi2/ndf=1.33\n",
        "---------------------------------------------\n",
        "M=750 GeV ------> 38.84+-0.75\n",
        "Mean value: 730.67+-10.29, with sigma: 58.27+-10.68\n",
        "Chi2=2.34, ndf=4.00, Chi2/ndf=0.58\n",
        "---------------------------------------------\n",
        "M=750 GeV ------> 38.18+-0.74\n",
        "Mean value: 731.07+-10.22, with sigma: 57.77+-10.55\n",
        "Chi2=3.21, ndf=4.00, Chi2/ndf=0.80\n",
        "---------------------------------------------"
       ]
      },
      {
       "output_type": "stream",
       "stream": "stdout",
       "text": [
        "\n",
        "M=750 GeV ------> 25.78+-0.61\n",
        "Mean value: 731.79+-11.78, with sigma: 55.88+-11.88\n",
        "Chi2=4.15, ndf=4.00, Chi2/ndf=1.04\n",
        "---------------------------------------------\n",
        "M=750 GeV ------> 15.64+-0.48\n",
        "Mean value: 735.67+-13.64, with sigma: 52.65+-13.25\n",
        "Chi2=2.70, ndf=4.00, Chi2/ndf=0.68\n",
        "---------------------------------------------\n",
        "M=750 GeV ------> 13.63+-0.44\n",
        "Mean value: 738.63+-13.21, with sigma: 49.14+-12.18\n",
        "Chi2=2.70, ndf=4.00, Chi2/ndf=0.67\n",
        "---------------------------------------------\n",
        "M=750 GeV ------> 10.98+-0.40\n",
        "Mean value: 741.45+-14.11, with sigma: 47.67+-12.71\n",
        "Chi2=3.43, ndf=4.00, Chi2/ndf=0.86\n",
        "---------------------------------------------\n",
        "M=750 GeV ------> 9.23+-0.36\n",
        "Mean value: 740.13+-14.36, with sigma: 44.80+-12.32\n",
        "Chi2=7.13, ndf=4.00, Chi2/ndf=1.78\n",
        "---------------------------------------------\n",
        "M=750 GeV ------> 9.09+-0.36"
       ]
      },
      {
       "output_type": "stream",
       "stream": "stdout",
       "text": [
        "\n",
        "Mean value: 740.42+-14.47, with sigma: 44.83+-12.42\n",
        "Chi2=6.94, ndf=4.00, Chi2/ndf=1.74\n",
        "--------------------------------------------------\n",
        "------------------Efficiencies--------------------\n",
        "----------EffWin----------------EffInt------------\n",
        "Cut1:    70.97                 82.91\n",
        "Cut2:    98.29                 94.44\n",
        "Cut3:    67.54                 65.04\n",
        "Cut4:    60.66                 53.96\n",
        "Cut5:    87.18                 83.10\n",
        "Cut6:    80.53                 77.01\n",
        "Cut7:    84.10                 78.23\n",
        "Cut8:    98.44                 98.36\n",
        "---------------------------------------------\n",
        "M=800 GeV ------> 45.83+-0.76\n",
        "Mean value: 777.53+-11.02, with sigma: 73.05+-10.43\n",
        "Chi2=62.75, ndf=7.00, Chi2/ndf=8.96\n",
        "---------------------------------------------\n",
        "M=800 GeV ------> 38.50+-0.70\n",
        "Mean value: 778.81+-10.74, with sigma: 69.35+-9.77\n",
        "Chi2=65.53, ndf=7.00, Chi2/ndf=9.36\n",
        "---------------------------------------------\n",
        "M=800 GeV ------> 37.78+-0.69\n",
        "Mean value: 778.73+-10.66, with sigma: 68.31+-9.58\n",
        "Chi2=65.80, ndf=7.00, Chi2/ndf=9.40\n",
        "---------------------------------------------\n",
        "M=800 GeV ------> 25.72+-0.57\n",
        "Mean value: 778.15+-12.58, with sigma: 66.53+-11.09\n",
        "Chi2=55.64, ndf=7.00, Chi2/ndf=7.95\n",
        "---------------------------------------------\n",
        "M=800 GeV ------> 15.89+-0.45\n",
        "Mean value: 782.30+-14.43, with sigma: 60.87+-11.96\n",
        "Chi2=32.84, ndf=7.00, Chi2/ndf=4.69\n",
        "---------------------------------------------\n",
        "M=800 GeV ------> 12.33+-0.39\n",
        "Mean value: 787.16+-13.86, with sigma: 54.61+-10.77\n",
        "Chi2=22.45, ndf=7.00, Chi2/ndf=3.21\n",
        "---------------------------------------------\n",
        "M=800 GeV ------> 10.21+-0.36\n",
        "Mean value: 791.17+-14.66, with sigma: 52.20+-11.15\n",
        "Chi2=22.46, ndf=7.00, Chi2/ndf=3.21\n",
        "---------------------------------------------"
       ]
      },
      {
       "output_type": "stream",
       "stream": "stdout",
       "text": [
        "\n",
        "M=800 GeV ------> 8.67+-0.33\n",
        "Mean value: 789.96+-14.71, with sigma: 47.80+-10.82\n",
        "Chi2=19.79, ndf=7.00, Chi2/ndf=2.83\n",
        "---------------------------------------------\n",
        "M=800 GeV ------> 8.49+-0.33\n",
        "Mean value: 790.26+-14.87, with sigma: 47.80+-10.94\n",
        "Chi2=20.65, ndf=7.00, Chi2/ndf=2.95\n",
        "--------------------------------------------------\n",
        "------------------Efficiencies--------------------\n",
        "----------EffWin----------------EffInt------------\n",
        "Cut1:    84.00                 84.87\n",
        "Cut2:    98.13                 94.27\n",
        "Cut3:    68.07                 66.07\n",
        "Cut4:    61.78                 54.78\n",
        "Cut5:    77.60                 81.48\n",
        "Cut6:    82.80                 78.87\n",
        "Cut7:    84.92                 79.43\n",
        "Cut8:    97.96                 97.90\n",
        "---------------------------------------------\n",
        "M=850 GeV ------> 38.12+-0.63\n",
        "Mean value: 827.32+-12.29, with sigma: 71.66+-11.26\n",
        "Chi2=59.63, ndf=7.00, Chi2/ndf=8.52\n",
        "---------------------------------------------\n",
        "M=850 GeV ------> 35.04+-0.60\n",
        "Mean value: 827.98+-12.04, with sigma: 68.58+-10.73\n",
        "Chi2=54.46, ndf=7.00, Chi2/ndf=7.78\n",
        "---------------------------------------------\n",
        "M=850 GeV ------> 30.80+-0.56\n",
        "Mean value: 827.64+-11.96, with sigma: 67.49+-10.53\n",
        "Chi2=56.17, ndf=7.00, Chi2/ndf=8.02\n",
        "---------------------------------------------\n",
        "M=850 GeV ------> 21.51+-0.47\n",
        "Mean value: 827.75+-13.71, with sigma: 65.20+-11.82\n",
        "Chi2=36.80, ndf=7.00, Chi2/ndf=5.26\n",
        "---------------------------------------------\n",
        "M=850 GeV ------> 13.57+-0.37\n",
        "Mean value: 834.71+-15.21, with sigma: 59.08+-12.39\n",
        "Chi2=25.51, ndf=7.00, Chi2/ndf=3.64\n",
        "---------------------------------------------\n",
        "M=850 GeV ------> 11.91+-0.35"
       ]
      },
      {
       "output_type": "stream",
       "stream": "stdout",
       "text": [
        "\n",
        "Mean value: 837.66+-14.91, with sigma: 54.44+-11.61\n",
        "Chi2=30.07, ndf=7.00, Chi2/ndf=4.30\n",
        "---------------------------------------------\n",
        "M=850 GeV ------> 9.32+-0.31\n",
        "Mean value: 841.52+-15.12, with sigma: 51.35+-11.44\n",
        "Chi2=24.03, ndf=7.00, Chi2/ndf=3.43\n",
        "---------------------------------------------\n",
        "M=850 GeV ------> 7.75+-0.28\n",
        "Mean value: 837.57+-15.13, with sigma: 46.19+-11.08\n",
        "Chi2=30.57, ndf=7.00, Chi2/ndf=4.37\n",
        "---------------------------------------------\n",
        "M=850 GeV ------> 7.69+-0.28\n",
        "Mean value: 837.74+-15.14, with sigma: 46.02+-11.07\n",
        "Chi2=28.15, ndf=7.00, Chi2/ndf=4.02\n",
        "--------------------------------------------------\n",
        "------------------Efficiencies--------------------\n",
        "----------EffWin----------------EffInt------------\n",
        "Cut1:    91.92                 85.52\n",
        "Cut2:    87.90                 94.01\n",
        "Cut3:    69.83                 67.73\n",
        "Cut4:    63.10                 53.44\n",
        "Cut5:    87.75                 82.68\n",
        "Cut6:    78.28                 82.79\n",
        "Cut7:    83.15                 77.16\n",
        "Cut8:    99.21                 99.04\n",
        "---------------------------------------------\n",
        "M=900 GeV ------> 30.74+-0.52\n",
        "Mean value: 879.49+-14.03, with sigma: 70.82+-12.52\n",
        "Chi2=59.80, ndf=7.00, Chi2/ndf=8.54\n",
        "---------------------------------------------\n",
        "M=900 GeV ------> 28.66+-0.50\n",
        "Mean value: 879.20+-13.81, with sigma: 68.25+-12.06\n",
        "Chi2=48.52, ndf=7.00, Chi2/ndf=6.93\n",
        "---------------------------------------------\n",
        "M=900 GeV ------> 27.93+-0.50\n",
        "Mean value: 879.05+-13.73, with sigma: 67.35+-11.91\n",
        "Chi2=47.50, ndf=7.00, Chi2/ndf=6.79\n",
        "---------------------------------------------\n",
        "M=900 GeV ------> 20.20+-0.42"
       ]
      },
      {
       "output_type": "stream",
       "stream": "stdout",
       "text": [
        "\n",
        "Mean value: 879.76+-14.96, with sigma: 63.75+-12.63\n",
        "Chi2=32.12, ndf=7.00, Chi2/ndf=4.59\n",
        "---------------------------------------------\n",
        "M=900 GeV ------> 11.19+-0.31\n",
        "Mean value: 883.34+-17.15, with sigma: 58.96+-13.98\n",
        "Chi2=18.26, ndf=7.00, Chi2/ndf=2.61\n",
        "---------------------------------------------\n",
        "M=900 GeV ------> 9.92+-0.30\n",
        "Mean value: 884.99+-16.96, with sigma: 55.37+-13.43\n",
        "Chi2=19.69, ndf=7.00, Chi2/ndf=2.81\n",
        "---------------------------------------------\n",
        "M=900 GeV ------> 8.81+-0.28\n",
        "Mean value: 885.80+-17.74, with sigma: 54.63+-13.95\n",
        "Chi2=17.82, ndf=7.00, Chi2/ndf=2.55\n",
        "---------------------------------------------\n",
        "M=900 GeV ------> 6.54+-0.24\n",
        "Mean value: 882.67+-17.09, with sigma: 47.97+-12.88\n",
        "Chi2=21.62, ndf=7.00, Chi2/ndf=3.09\n",
        "---------------------------------------------\n",
        "M=900 GeV ------> 6.52+-0.24\n",
        "Mean value: 883.05+-16.99, with sigma: 47.60+-12.77\n",
        "Chi2=19.42, ndf=7.00, Chi2/ndf=2.77\n",
        "--------------------------------------------------\n",
        "------------------Efficiencies--------------------\n",
        "----------EffWin----------------EffInt------------\n",
        "Cut1:    93.23                 86.36\n",
        "Cut2:    97.47                 93.47\n",
        "Cut3:    72.34                 69.99\n",
        "Cut4:    55.41                 51.52\n",
        "Cut5:    88.62                 83.68\n",
        "Cut6:    88.76                 85.73\n",
        "Cut7:    74.27                 76.31\n",
        "Cut8:    99.73                 99.27\n",
        "---------------------------------------------\n",
        "M=950 GeV ------> 25.77+-0.45"
       ]
      },
      {
       "output_type": "stream",
       "stream": "stdout",
       "text": [
        "\n",
        "Mean value: 925.77+-17.55, with sigma: 79.86+-17.81\n",
        "Chi2=32.83, ndf=7.00, Chi2/ndf=4.69\n",
        "---------------------------------------------\n",
        "M=950 GeV ------> 24.09+-0.44\n",
        "Mean value: 926.23+-17.35, with sigma: 77.47+-17.19\n",
        "Chi2=32.68, ndf=7.00, Chi2/ndf=4.67\n",
        "---------------------------------------------\n",
        "M=950 GeV ------> 23.50+-0.43\n",
        "Mean value: 925.59+-17.04, with sigma: 75.64+-16.52\n",
        "Chi2=32.01, ndf=7.00, Chi2/ndf=4.57\n",
        "---------------------------------------------\n",
        "M=950 GeV ------> 15.21+-0.35\n",
        "Mean value: 925.96+-19.60, with sigma: 74.06+-18.69\n",
        "Chi2=27.21, ndf=7.00, Chi2/ndf=3.89\n",
        "---------------------------------------------\n",
        "M=950 GeV ------> 9.76+-0.28\n",
        "Mean value: 932.22+-22.34, with sigma: 69.40+-20.35\n",
        "Chi2=12.74, ndf=7.00, Chi2/ndf=1.82\n",
        "---------------------------------------------\n",
        "M=950 GeV ------> 7.80+-0.25\n",
        "Mean value: 933.83+-21.76, with sigma: 64.31+-18.72\n",
        "Chi2=14.55, ndf=7.00, Chi2/ndf=2.08\n",
        "---------------------------------------------\n",
        "M=950 GeV ------> 6.92+-0.23\n",
        "Mean value: 937.19+-22.00, with sigma: 61.59+-18.36\n",
        "Chi2=11.75, ndf=7.00, Chi2/ndf=1.68\n",
        "---------------------------------------------\n",
        "M=950 GeV ------> 5.68+-0.21\n",
        "Mean value: 932.03+-21.12, with sigma: 53.58+-16.27\n",
        "Chi2=16.56, ndf=7.00, Chi2/ndf=2.37\n",
        "---------------------------------------------"
       ]
      },
      {
       "output_type": "stream",
       "stream": "stdout",
       "text": [
        "\n",
        "M=950 GeV ------> 5.65+-0.21\n",
        "Mean value: 932.33+-21.15, with sigma: 53.53+-16.28\n",
        "Chi2=16.82, ndf=7.00, Chi2/ndf=2.40\n",
        "--------------------------------------------------\n",
        "------------------Efficiencies--------------------\n",
        "----------EffWin----------------EffInt------------\n",
        "Cut1:    93.48                 87.16\n",
        "Cut2:    97.55                 92.89\n",
        "Cut3:    64.73                 70.46\n",
        "Cut4:    64.13                 52.34\n",
        "Cut5:    79.95                 83.23\n",
        "Cut6:    88.78                 85.58\n",
        "Cut7:    82.00                 74.26\n",
        "Cut8:    99.44                 99.32\n",
        "---------------------------------------------\n",
        "M=1000 GeV ------> 17.37+-0.34\n",
        "Mean value: 973.44+-22.79, with sigma: 82.35+-22.70\n",
        "Chi2=14.70, ndf=7.00, Chi2/ndf=2.10\n",
        "---------------------------------------------\n",
        "M=1000 GeV ------> 16.33+-0.33\n",
        "Mean value: 975.11+-22.19, with sigma: 79.78+-21.76\n",
        "Chi2=12.89, ndf=7.00, Chi2/ndf=1.84\n",
        "---------------------------------------------\n",
        "M=1000 GeV ------> 15.63+-0.32\n",
        "Mean value: 974.22+-22.12, with sigma: 78.15+-21.31\n",
        "Chi2=9.42, ndf=7.00, Chi2/ndf=1.35\n",
        "---------------------------------------------\n",
        "M=1000 GeV ------> 11.31+-0.27\n",
        "Mean value: 976.45+-24.88, with sigma: 76.63+-23.80\n",
        "Chi2=6.56, ndf=7.00, Chi2/ndf=0.94\n",
        "---------------------------------------------\n",
        "M=1000 GeV ------> 6.93+-0.21\n",
        "Mean value: 978.84+-27.78, with sigma: 69.92+-25.05\n",
        "Chi2=5.61, ndf=7.00, Chi2/ndf=0.80\n",
        "---------------------------------------------\n",
        "M=1000 GeV ------> 5.58+-0.19\n",
        "Mean value: 978.62+-26.33, with sigma: 63.72+-22.36\n",
        "Chi2=7.96, ndf=7.00, Chi2/ndf=1.14\n",
        "---------------------------------------------\n",
        "M=1000 GeV ------> 5.12+-0.18\n",
        "Mean value: 981.02+-26.03, with sigma: 61.02+-21.57\n",
        "Chi2=7.50, ndf=7.00, Chi2/ndf=1.07\n",
        "---------------------------------------------\n",
        "M=1000 GeV ------> 4.04+-0.16\n",
        "Mean value: 975.77+-26.06, with sigma: 54.42+-20.44\n",
        "Chi2=15.84, ndf=7.00, Chi2/ndf=2.26\n",
        "---------------------------------------------\n",
        "M=1000 GeV ------> 4.00+-0.16\n",
        "Mean value: 975.85+-26.26, with sigma: 54.56+-20.62\n",
        "Chi2=16.31, ndf=7.00, Chi2/ndf=2.33\n",
        "--------------------------------------------------\n",
        "------------------Efficiencies--------------------\n",
        "----------EffWin----------------EffInt------------\n",
        "Cut1:    94.02                 87.29\n",
        "Cut2:    95.73                 91.21\n",
        "Cut3:    72.32                 72.51\n",
        "Cut4:    61.31                 48.26\n",
        "Cut5:    80.55                 82.33\n",
        "Cut6:    91.64                 86.99\n",
        "Cut7:    79.05                 72.67\n",
        "Cut8:    98.86                 98.82\n"
       ]
      }
     ],
     "prompt_number": 7
    },
    {
     "cell_type": "code",
     "collapsed": false,
     "input": [],
     "language": "python",
     "metadata": {},
     "outputs": []
    }
   ],
   "metadata": {}
  }
 ]
}