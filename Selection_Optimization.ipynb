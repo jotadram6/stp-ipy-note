{
 "metadata": {
  "name": ""
 },
 "nbformat": 3,
 "nbformat_minor": 0,
 "worksheets": [
  {
   "cells": [
    {
     "cell_type": "code",
     "collapsed": false,
     "input": [
      "from Generic import *"
     ],
     "language": "python",
     "metadata": {},
     "outputs": [],
     "prompt_number": 1
    },
    {
     "cell_type": "code",
     "collapsed": false,
     "input": [
      "Version=\"V8\"\n",
      "\n",
      "SignalSampleFile=\"Arrays_V8V9V10/Version8/SignalSample_\"+Version\n",
      "MCSignalSampleArray=np.load(SignalSampleFile+\".npy\")\n",
      "\n",
      "NMassPointsA=MCSignalSampleArray[0:NsignalFiles]; TntupleA=MCSignalSampleArray[NsignalFiles]; QntuplesA=MCSignalSampleArray[NsignalFiles+1:]\n",
      "print NMassPointsA[2].GetEntries(), TntupleA.GetEntries(), QntuplesA[0].GetEntries()"
     ],
     "language": "python",
     "metadata": {},
     "outputs": [
      {
       "output_type": "stream",
       "stream": "stdout",
       "text": [
        "4696 146500 5576\n"
       ]
      }
     ],
     "prompt_number": 2
    },
    {
     "cell_type": "code",
     "collapsed": false,
     "input": [
      "HTCut = ROOT.TCut(\"THT>550\") #Cut on HT\n",
      "chi2Cut = ROOT.TCut(\"chi2<20\")\n",
      "\n",
      "SignalEntries=[]\n",
      "TTbarEntries=[]\n",
      "\n",
      "#DRHJ<=1.2 && (DRWH>=1.6 && DRWH<=4.0) && M2HP>9 && DRTp6thJ>4.7 && RelHT>=0.7 && (HM>=105 && HM<=145)\n",
      "\n",
      "Eta6thJSet=[\"TMath::Abs(Eta6thJ)>\",np.linspace(1.0,2.0,11)]\n",
      "#DRTp6thJSet=[\"DRTp6thJ>\",np.linspace(4.5,6.0,4)]\n",
      "#RelHTSet=[\"RelHT>=\",np.linspace(0.5,0.8,7)]\n",
      "#M2HPSet=[\"M2HP>\",np.linspace(5.0,11.0,13)]\n",
      "Chi2Set=[\"chi2<\",np.linspace(8,30,1)]\n",
      "DRTp6thJSet=[\"DRTp6thJ>\",np.linspace(4.0,6.0,9)]\n",
      "RelHTSet=[\"RelHT>=\",np.linspace(0.57,0.73,9)]\n",
      "M2HPSet=[\"M2HP>\",np.linspace(6.2,8.2,11)]\n",
      "#Eta6thJSet=[\"TMath::Abs(Eta6thJ)>\",np.linspace(1.0,2.0,11)]\n",
      "#MTHAsym2=[\"MTHAsym\",np.linspace(0.5,0.1,5),0.18]\n",
      "MTHAsym2=[\"MTHAsym\",np.linspace(0.25,0.05,5),0.17]\n",
      "TopsPTAsym2=[\"TopsPTAsym\",np.linspace(1.0,0.1,10),0.0]\n",
      "PTTHAsym2=[\"PTTHAsym\",np.linspace(1.0,0.1,10),0.0]\n",
      "MTmMHdMW2=[\"MTmMHdMW\",np.linspace(1.6,0.1,16),0.6]\n",
      "T1PTdT2PT2=[\"T1PTdT2PT\",np.linspace(1.0,0.1,10),1.0]\n",
      "MTWAsym2=[\"MTWAsym\",np.linspace(0.4,0.05,8),0.37]\n",
      "M1HM2=[\"M1HM\",np.linspace(1.0,0.1,10),0.7]\n",
      "#DPTH2=[\"DPTH\",np.linspace(0.1,np.pi-0.1,20),np.pi]\n",
      "DPTH2=[\"DPTH>\",np.linspace(0.1,np.pi-0.1,10)]\n",
      "DETH2=[\"DETH\",np.linspace(2,0.1,10),0.0]\n",
      "\n",
      "CounterToWriteToFile=0\n",
      "ListForFile=[]\n",
      "\n",
      "#Former Setting\n",
      "#Cut2Set=M2HPSet\n",
      "#Cut3Set=DRTp6thJSet\n",
      "#Cut4Set=RelHTSet\n",
      "#Cut5Set=MTHAsym2\n",
      "\n",
      "#Chi2 Setting\n",
      "Cut2Set=Chi2Set\n",
      "Cut3Set=M2HPSet\n",
      "Cut4Set=RelHTSet\n",
      "Cut5Set=DRTp6thJSet\n",
      "\n",
      "PDFNameScan=\"Scan_chi2_M2HP_DRTp6thJ_\"+Cut5Set[0]+\"_HTg550.pdf\"\n",
      "CurCanvScan = rootnotes.canvas(\"MyPlot\", (600, 800))\n",
      "Counterscan=0\n",
      "\n",
      "BinsLimits=\"(40,400,1600)\"\n",
      "\n",
      "SoB=[]; QCD_B=[]; CutsValues=[]\n",
      "\n",
      "for i in Cut2Set[1]:\n",
      "    Cut2 = ROOT.TCut(Cut2Set[0]+str(i))\n",
      "    for j in Cut3Set[1]:\n",
      "        Cut3 = ROOT.TCut(Cut3Set[0]+str(j))\n",
      "        for k in Cut4Set[1]:\n",
      "            Cut4 = ROOT.TCut(Cut4Set[0]+str(k))\n",
      "            for l in Cut5Set[1]:\n",
      "                #Cut5 = ROOT.TCut(Cut5Set[0]+\">=\"+str(Cut5Set[2]-l)+\" && \"+Cut5Set[0]+\"<=\"+str(Cut5Set[2]+l)) #MTHAsym\n",
      "                #Cut5 = ROOT.TCut(Cut5Set[0]+\">=\"+str(Cut5Set[2]+i)+\" || \"+Cut5Set[0]+\"<=\"+str(Cut5Set[2]-i))\n",
      "                #Cut5 = ROOT.TCut(Cut5Set[0]+\"<=\"+str(i))\n",
      "                Cut5 = ROOT.TCut(Cut5Set[0]+str(l))\n",
      "                #CutF=Cut1*CutDRbb*CutDRWH*Cut2*Cut3*CutHM*Cut4*Cut5 #Cutting on chi2<140\n",
      "                CutF=HTCut*Cut2*CutDRbb*CutDRWH*CutHM*Cut3*Cut4*Cut5\n",
      "\n",
      "                NMassPointsA[2].Draw(\"M5J >> M5jS\"+BinsLimits,CutF)\n",
      "                M5JHS=ROOT.gDirectory.Get(\"M5jS\")\n",
      "                if M5JHS.GetEntries()*SWeight<10: continue\n",
      "                M5JHS.Sumw2(); M5JHS.Scale(SWeight) \n",
      "                \n",
      "                TntupleA.Draw(\"M5J >> M5jT\"+BinsLimits,CutF)\n",
      "                M5JHT=ROOT.gDirectory.Get(\"M5jT\")\n",
      "                if M5JHT.GetEntries()*TWeight>=40: continue\n",
      "                M5JHT.Sumw2(); M5JHT.Scale(TWeight)\n",
      "                \n",
      "                QntuplesA[0].Draw(\"M5J >> M5jQ\"+BinsLimits,CutF)\n",
      "                M5JHQ=ROOT.gDirectory.Get(\"M5jQ\")\n",
      "                if M5JHQ.GetEntries()>1: continue                \n",
      "                M5JHQ.Sumw2(); M5JHQ.Scale(Q500Weight)\n",
      "                \n",
      "                #INTEGRATION\n",
      "                print \"--------------------------------\"\n",
      "                f1=ROOT.TF1(\"f1\",\"gaus\",600,800)\n",
      "                M5JHS.Fit(\"f1\",\"LMR\",\"same\")\n",
      "                MassPoint=f1.GetParameter(1); win=f1.GetParameter(2)\n",
      "                Chi2=f1.GetChisquare(); NDF=f1.GetNDF()\n",
      "                window_error=ROOT.Double(0.)\n",
      "                integral=M5JHS.IntegralAndError(M5JHS.GetXaxis().FindBin(MassPoint-win),M5JHS.GetXaxis().FindBin(MassPoint+win),window_error)\n",
      "                print \"M=700 GeV ------> Signal fit window yield (1-sigma): {0:.2f} +- {1:.2f}, and full range integral: {2:.2f}\".format(integral,window_error,M5JHS.Integral())\n",
      "                print \"Mean value: {0:.2f}, with sigma: {1:.2f}\".format(MassPoint,win)\n",
      "                print \"Chi2={0:.2f}, ndf={1:.2f}, Chi2/ndf={2:.2f}\".format(Chi2, NDF, Chi2/NDF)\n",
      "                \n",
      "                bkg_integralT=M5JHT.IntegralAndError(M5JHT.GetXaxis().FindBin(MassPoint-win),M5JHT.GetXaxis().FindBin(MassPoint+win),window_error)\n",
      "                print \"TTbar ------> Signal fit window yield (1-sigma): {0:.2f} +- {1:.2f}, and full range integral: {2:.2f}\".format(bkg_integralT,window_error,M5JHT.Integral())\n",
      "                #SignalEntries2.append(integral); TTbarEntries2.append(bkg_integral)\n",
      "                \n",
      "                SoB.append(integral/bkg_integralT); QCD_B.append(M5JHQ.Integral()); CutsValues.append((i,j,k,l))\n",
      "                \n",
      "                bkg_integralQ=M5JHQ.IntegralAndError(M5JHQ.GetXaxis().FindBin(MassPoint-win),M5JHQ.GetXaxis().FindBin(MassPoint+win),window_error)\n",
      "                print \"QCD ------> Signal fit window yield (1-sigma): {0:.2f} +- {1:.2f}, and full range integral: {2:.2f}\".format(bkg_integralQ,window_error,M5JHQ.Integral())\n",
      "                #SignalEntries.append([CutF,M5JHS.GetEntries()]); TTbarEntries.append([CutF,M5JHT.GetEntries()])\n",
      "                CounterToWriteToFile+=1\n",
      "                we=ROOT.Double(0.)\n",
      "                TTbarStruc1=M5JHT.IntegralAndError(M5JHT.GetXaxis().FindBin(0),M5JHT.GetXaxis().FindBin(700),we)/M5JHT.Integral()\n",
      "                TTbarStruc2=M5JHT.IntegralAndError(M5JHT.GetXaxis().FindBin(700),M5JHT.GetXaxis().FindBin(850),we)/M5JHT.Integral()\n",
      "                TTbarStruc3=M5JHT.IntegralAndError(M5JHT.GetXaxis().FindBin(850),M5JHT.GetXaxis().FindBin(1000),we)/M5JHT.Integral()\n",
      "                TTbarStruc4=M5JHT.IntegralAndError(M5JHT.GetXaxis().FindBin(1000),M5JHT.GetXaxis().FindBin(10000),we)/M5JHT.Integral()\n",
      "                if M5JHQ.Integral()!=0:\n",
      "                    QCDStruc1=M5JHQ.IntegralAndError(M5JHQ.GetXaxis().FindBin(0),M5JHQ.GetXaxis().FindBin(700),we)/M5JHQ.Integral()\n",
      "                    QCDStruc2=M5JHQ.IntegralAndError(M5JHQ.GetXaxis().FindBin(700),M5JHQ.GetXaxis().FindBin(850),we)/M5JHQ.Integral()\n",
      "                    QCDStruc3=M5JHQ.IntegralAndError(M5JHQ.GetXaxis().FindBin(850),M5JHQ.GetXaxis().FindBin(1000),we)/M5JHQ.Integral()\n",
      "                    QCDStruc4=M5JHQ.IntegralAndError(M5JHQ.GetXaxis().FindBin(1000),M5JHQ.GetXaxis().FindBin(10000),we)/M5JHQ.Integral()\n",
      "                else: QCDStruc1=0.0; QCDStruc2=0.0; QCDStruc3=0.0; QCDStruc4=0.0\n",
      "                #print '({0:.2f} {1:.2f} {2:.2f} {3:.2f}): {4:.2f}; {5:.2f}; {6:.2f}; {7:.2f}; {8:.2f} | ({9:.2f},{10:.2f},{11:.2f},{12:.2f}) ({13:.2f},{14:.2f},{15:.2f},{16:.2f})'.format(i,j,k,l,\n",
      "                #                                                                                        M5JHS.GetEntries()*SWeight,\n",
      "                #                                                                                        M5JHT.GetEntries()*TWeight,\n",
      "                #                                                                                        M5JHQ.GetEntries()*Q500Weight,\n",
      "                #                                                                                        M5JHS.GetEntries()/(M5JHT.GetEntries()+M5JHQ.GetEntries()),\n",
      "                #                                                                                        M5JHS.GetEntries()/np.sqrt(M5JHS.GetEntries()+M5JHT.GetEntries()+M5JHQ.GetEntries()),\n",
      "                #                                                                                        TTbarStruc1,TTbarStruc2,TTbarStruc3,TTbarStruc4,\n",
      "                #                                                                                        QCDStruc1,QCDStruc2,QCDStruc3,QCDStruc4)\n",
      "                print '(M2HP>{0:.2f}; DRTp6thJ>{1:.2f}; RelHT>={2:.2f}; |MTHAsym-0.18|<{3:.2f})'.format(i,j,k,l)\n",
      "                \n",
      "                M5JHQ.SetStats(ROOT.kFALSE)\n",
      "                M5JHQ.SetLineStyle(7); M5JHT.SetLineStyle(9); M5JHS.SetLineStyle(1)\n",
      "                M5JHQ.SetLineWidth(2); M5JHT.SetLineWidth(1); M5JHS.SetLineWidth(3)\n",
      "                M5JHQ.SetLineColor(ROOT.kViolet+1); M5JHT.SetLineColor(ROOT.kRed); M5JHS.SetLineColor(ROOT.kGreen+1)\n",
      "                LEG=ROOT.TLegend(0.6,0.6,0.9,0.9)\n",
      "                LEG.AddEntry(M5JHQ, \"QCD\", \"l\"); LEG.AddEntry(ROOT.TObject(), GetMR(M5JHQ), \"\"); LEG.AddEntry(ROOT.TObject(), GetEWI(M5JHQ), \"\")\n",
      "                LEG.AddEntry(M5JHT, \"TTbar\", \"l\"); LEG.AddEntry(ROOT.TObject(), GetMR(M5JHT), \"\"); LEG.AddEntry(ROOT.TObject(), GetEWI(M5JHT), \"\")\n",
      "                LEG.AddEntry(M5JHS, \"Signal\", \"l\"); LEG.AddEntry(ROOT.TObject(), GetMR(M5JHS), \"\"); LEG.AddEntry(ROOT.TObject(), GetEWI(M5JHS), \"\")\n",
      "                LEG.SetFillColor(0);\n",
      "                Maxima=[M5JHQ.GetMaximum(), M5JHT.GetMaximum(), M5JHS.GetMaximum()]\n",
      "                M5JHQ.SetMaximum(1.05*max(Maxima))\n",
      "                M5JHQ.Draw(\"hist\"); M5JHT.Draw(\"hist same\"); M5JHS.Draw(\"hist same\"); LEG.Draw()\n",
      "    \n",
      "                if Counterscan==0: CurCanvScan.Print(PDFNameScan+\"(\",\"Title:\"+Cut5Set[0]+str(i))\n",
      "                elif Counterscan>0: CurCanvScan.Print(PDFNameScan,\"Title:\"+Cut5Set[0]+str(i))\n",
      "                #else: CurCanvScan.Print(PDFNameScan+\")\",\"Title:\"+Cut5Set[0]+str(i))\n",
      "                \n",
      "                Counterscan+=1\n",
      "                    \n",
      "                ListForFile.append([[(i,j,k,l),bkg_integralQ],bkg_integralT,integral])\n",
      "                FinalCondition=(Cut2Set[1][-1]==i and Cut3Set[1][-1]==j and Cut4Set[1][-1]==k)\n",
      "                #if CounterToWriteToFile%200==0: #or FinalCondition:\n",
      "                #    f = open('Selections_SS_%i_m2hp_eta6thj_relht.txt'%(CounterToWriteToFile), 'w')\n",
      "                #    f.write(str(ListForFile))\n",
      "                #    f.close(); print \"File %i produced\"%(CounterToWriteToFile)\n",
      "                #    ListForFile=[]\n",
      "                #print M5JHS.GetEntries(), M5JHT.GetEntries()\n",
      "\n",
      "#f = open('Selections_SS_eta6thj.txt', 'w')\n",
      "#f.write(str(ListForFile))\n",
      "#f.close()\n",
      "print ListForFile\n",
      "CurCanvScan.Print(PDFNameScan+\")\",\"Title:\"+Cut5Set[0]+str(i))"
     ],
     "language": "python",
     "metadata": {},
     "outputs": [
      {
       "output_type": "stream",
       "stream": "stdout",
       "text": [
        "--------------------------------\n",
        "M=700 GeV ------> Signal fit window yield (1-sigma): 8.65 +- 0.39, and full range integral: 10.15\n",
        "Mean value: 693.89, with sigma: 41.35\n",
        "Chi2=4.61, ndf=3.00, Chi2/ndf=1.54\n",
        "TTbar ------> Signal fit window yield (1-sigma): 8.74 +- 0.83, and full range integral: 24.18\n",
        "QCD ------> Signal fit window yield (1-sigma): 5.72 +- 5.72, and full range integral: 5.72\n",
        "(M2HP>8.00; DRTp6thJ>6.20; RelHT>=0.61; |MTHAsym-0.18|<5.00)\n",
        "--------------------------------"
       ]
      },
      {
       "output_type": "stream",
       "stream": "stdout",
       "text": [
        "\n",
        "M=700 GeV ------> Signal fit window yield (1-sigma): 10.71 +- 0.43, and full range integral: 12.70\n",
        "Mean value: 693.09, with sigma: 40.95\n",
        "Chi2=6.27, ndf=3.00, Chi2/ndf=2.09\n",
        "TTbar ------> Signal fit window yield (1-sigma): 12.60 +- 1.00, and full range integral: 33.79\n",
        "QCD ------> Signal fit window yield (1-sigma): 5.72 +- 5.72, and full range integral: 5.72\n",
        "(M2HP>8.00; DRTp6thJ>6.20; RelHT>=0.63; |MTHAsym-0.18|<4.50)\n",
        "--------------------------------"
       ]
      },
      {
       "output_type": "stream",
       "stream": "stdout",
       "text": [
        "\n",
        "M=700 GeV ------> Signal fit window yield (1-sigma): 9.55 +- 0.41, and full range integral: 11.30\n",
        "Mean value: 693.28, with sigma: 40.94\n",
        "Chi2=3.39, ndf=3.00, Chi2/ndf=1.13\n",
        "TTbar ------> Signal fit window yield (1-sigma): 10.24 +- 0.90, and full range integral: 27.81\n",
        "QCD ------> Signal fit window yield (1-sigma): 5.72 +- 5.72, and full range integral: 5.72\n",
        "(M2HP>8.00; DRTp6thJ>6.20; RelHT>=0.63; |MTHAsym-0.18|<4.75)\n",
        "--------------------------------"
       ]
      },
      {
       "output_type": "stream",
       "stream": "stdout",
       "text": [
        "\n",
        "M=700 GeV ------> Signal fit window yield (1-sigma): 10.48 +- 0.43, and full range integral: 12.33\n",
        "Mean value: 693.15, with sigma: 40.43\n",
        "Chi2=5.75, ndf=3.00, Chi2/ndf=1.92\n",
        "TTbar ------> Signal fit window yield (1-sigma): 11.82 +- 0.96, and full range integral: 31.43\n",
        "QCD ------> Signal fit window yield (1-sigma): 5.72 +- 5.72, and full range integral: 5.72\n",
        "(M2HP>8.00; DRTp6thJ>6.20; RelHT>=0.65; |MTHAsym-0.18|<4.50)\n",
        "--------------------------------"
       ]
      },
      {
       "output_type": "stream",
       "stream": "stdout",
       "text": [
        "\n",
        "M=700 GeV ------> Signal fit window yield (1-sigma): 9.34 +- 0.40, and full range integral: 11.00\n",
        "Mean value: 693.27, with sigma: 40.88\n",
        "Chi2=3.14, ndf=3.00, Chi2/ndf=1.05\n",
        "TTbar ------> Signal fit window yield (1-sigma): 9.69 +- 0.87, and full range integral: 26.07\n",
        "QCD ------> Signal fit window yield (1-sigma): 5.72 +- 5.72, and full range integral: 5.72\n",
        "(M2HP>8.00; DRTp6thJ>6.20; RelHT>=0.65; |MTHAsym-0.18|<4.75)\n",
        "--------------------------------"
       ]
      },
      {
       "output_type": "stream",
       "stream": "stdout",
       "text": [
        "\n",
        "M=700 GeV ------> Signal fit window yield (1-sigma): 11.32 +- 0.44, and full range integral: 13.24\n",
        "Mean value: 693.00, with sigma: 40.55\n",
        "Chi2=5.83, ndf=3.00, Chi2/ndf=1.94\n",
        "TTbar ------> Signal fit window yield (1-sigma): 13.94 +- 1.05, and full range integral: 36.79\n",
        "QCD ------> Signal fit window yield (1-sigma): 0.00 +- 0.00, and full range integral: 5.72\n",
        "(M2HP>8.00; DRTp6thJ>6.20; RelHT>=0.67; |MTHAsym-0.18|<4.00)\n",
        "--------------------------------"
       ]
      },
      {
       "output_type": "stream",
       "stream": "stdout",
       "text": [
        "\n",
        "M=700 GeV ------> Signal fit window yield (1-sigma): 10.79 +- 0.43, and full range integral: 12.68\n",
        "Mean value: 692.88, with sigma: 40.83\n",
        "Chi2=6.86, ndf=3.00, Chi2/ndf=2.29\n",
        "TTbar ------> Signal fit window yield (1-sigma): 12.60 +- 1.00, and full range integral: 33.40\n",
        "QCD ------> Signal fit window yield (1-sigma): 0.00 +- 0.00, and full range integral: 5.72\n",
        "(M2HP>8.00; DRTp6thJ>6.20; RelHT>=0.67; |MTHAsym-0.18|<4.25)\n",
        "--------------------------------"
       ]
      },
      {
       "output_type": "stream",
       "stream": "stdout",
       "text": [
        "\n",
        "M=700 GeV ------> Signal fit window yield (1-sigma): 10.08 +- 0.42, and full range integral: 11.86\n",
        "Mean value: 693.32, with sigma: 40.93\n",
        "Chi2=6.08, ndf=3.00, Chi2/ndf=2.03\n",
        "TTbar ------> Signal fit window yield (1-sigma): 10.79 +- 0.92, and full range integral: 28.59\n",
        "QCD ------> Signal fit window yield (1-sigma): 0.00 +- 0.00, and full range integral: 0.00\n",
        "(M2HP>8.00; DRTp6thJ>6.20; RelHT>=0.67; |MTHAsym-0.18|<4.50)\n",
        "--------------------------------"
       ]
      },
      {
       "output_type": "stream",
       "stream": "stdout",
       "text": [
        "\n",
        "M=700 GeV ------> Signal fit window yield (1-sigma): 9.01 +- 0.40, and full range integral: 10.60\n",
        "Mean value: 693.34, with sigma: 41.38\n",
        "Chi2=3.10, ndf=3.00, Chi2/ndf=1.03\n",
        "TTbar ------> Signal fit window yield (1-sigma): 8.82 +- 0.83, and full range integral: 23.79\n",
        "QCD ------> Signal fit window yield (1-sigma): 0.00 +- 0.00, and full range integral: 0.00\n",
        "(M2HP>8.00; DRTp6thJ>6.20; RelHT>=0.67; |MTHAsym-0.18|<4.75)\n",
        "--------------------------------"
       ]
      },
      {
       "output_type": "stream",
       "stream": "stdout",
       "text": [
        "\n",
        "M=700 GeV ------> Signal fit window yield (1-sigma): 10.65 +- 0.43, and full range integral: 12.35\n",
        "Mean value: 693.20, with sigma: 39.86\n",
        "Chi2=8.17, ndf=3.00, Chi2/ndf=2.72\n",
        "TTbar ------> Signal fit window yield (1-sigma): 13.08 +- 1.01, and full range integral: 33.08\n",
        "QCD ------> Signal fit window yield (1-sigma): 0.00 +- 0.00, and full range integral: 0.00\n",
        "(M2HP>8.00; DRTp6thJ>6.20; RelHT>=0.69; |MTHAsym-0.18|<4.00)\n",
        "--------------------------------"
       ]
      },
      {
       "output_type": "stream",
       "stream": "stdout",
       "text": [
        "\n",
        "M=700 GeV ------> Signal fit window yield (1-sigma): 10.18 +- 0.42, and full range integral: 11.88\n",
        "Mean value: 693.05, with sigma: 40.26\n",
        "Chi2=8.03, ndf=3.00, Chi2/ndf=2.68\n",
        "TTbar ------> Signal fit window yield (1-sigma): 11.74 +- 0.96, and full range integral: 30.01\n",
        "QCD ------> Signal fit window yield (1-sigma): 0.00 +- 0.00, and full range integral: 0.00\n",
        "(M2HP>8.00; DRTp6thJ>6.20; RelHT>=0.69; |MTHAsym-0.18|<4.25)\n",
        "--------------------------------"
       ]
      },
      {
       "output_type": "stream",
       "stream": "stdout",
       "text": [
        "\n",
        "M=700 GeV ------> Signal fit window yield (1-sigma): 9.57 +- 0.41, and full range integral: 11.18\n",
        "Mean value: 693.22, with sigma: 40.51\n",
        "Chi2=6.95, ndf=3.00, Chi2/ndf=2.32\n",
        "TTbar ------> Signal fit window yield (1-sigma): 10.08 +- 0.89, and full range integral: 25.60\n",
        "QCD ------> Signal fit window yield (1-sigma): 0.00 +- 0.00, and full range integral: 0.00\n",
        "(M2HP>8.00; DRTp6thJ>6.20; RelHT>=0.69; |MTHAsym-0.18|<4.50)\n",
        "--------------------------------"
       ]
      },
      {
       "output_type": "stream",
       "stream": "stdout",
       "text": [
        "\n",
        "M=700 GeV ------> Signal fit window yield (1-sigma): 8.63 +- 0.39, and full range integral: 10.06\n",
        "Mean value: 693.27, with sigma: 40.83\n",
        "Chi2=4.14, ndf=3.00, Chi2/ndf=1.38\n",
        "TTbar ------> Signal fit window yield (1-sigma): 8.19 +- 0.80, and full range integral: 21.35\n",
        "QCD ------> Signal fit window yield (1-sigma): 0.00 +- 0.00, and full range integral: 0.00\n",
        "(M2HP>8.00; DRTp6thJ>6.20; RelHT>=0.69; |MTHAsym-0.18|<4.75)\n",
        "--------------------------------"
       ]
      },
      {
       "output_type": "stream",
       "stream": "stdout",
       "text": [
        "\n",
        "M=700 GeV ------> Signal fit window yield (1-sigma): 9.78 +- 0.41, and full range integral: 11.30\n",
        "Mean value: 694.00, with sigma: 39.73\n",
        "Chi2=5.97, ndf=3.00, Chi2/ndf=1.99\n",
        "TTbar ------> Signal fit window yield (1-sigma): 11.11 +- 0.94, and full range integral: 28.99\n",
        "QCD ------> Signal fit window yield (1-sigma): 0.00 +- 0.00, and full range integral: 0.00\n",
        "(M2HP>8.00; DRTp6thJ>6.20; RelHT>=0.71; |MTHAsym-0.18|<4.00)\n",
        "--------------------------------"
       ]
      },
      {
       "output_type": "stream",
       "stream": "stdout",
       "text": [
        "\n",
        "M=700 GeV ------> Signal fit window yield (1-sigma): 9.38 +- 0.40, and full range integral: 10.90\n",
        "Mean value: 693.81, with sigma: 40.18\n",
        "Chi2=5.86, ndf=3.00, Chi2/ndf=1.95\n",
        "TTbar ------> Signal fit window yield (1-sigma): 10.00 +- 0.89, and full range integral: 26.70\n",
        "QCD ------> Signal fit window yield (1-sigma): 0.00 +- 0.00, and full range integral: 0.00\n",
        "(M2HP>8.00; DRTp6thJ>6.20; RelHT>=0.71; |MTHAsym-0.18|<4.25)\n",
        "--------------------------------"
       ]
      },
      {
       "output_type": "stream",
       "stream": "stdout",
       "text": [
        "\n",
        "M=700 GeV ------> Signal fit window yield (1-sigma): 8.91 +- 0.39, and full range integral: 10.36\n",
        "Mean value: 694.02, with sigma: 40.34\n",
        "Chi2=4.83, ndf=3.00, Chi2/ndf=1.61\n",
        "TTbar ------> Signal fit window yield (1-sigma): 8.51 +- 0.82, and full range integral: 22.84\n",
        "QCD ------> Signal fit window yield (1-sigma): 0.00 +- 0.00, and full range integral: 0.00\n",
        "(M2HP>8.00; DRTp6thJ>6.20; RelHT>=0.71; |MTHAsym-0.18|<4.50)\n",
        "--------------------------------"
       ]
      },
      {
       "output_type": "stream",
       "stream": "stdout",
       "text": [
        "\n",
        "M=700 GeV ------> Signal fit window yield (1-sigma): 8.89 +- 0.39, and full range integral: 10.23\n",
        "Mean value: 694.79, with sigma: 39.80\n",
        "Chi2=4.07, ndf=3.00, Chi2/ndf=1.36\n",
        "TTbar ------> Signal fit window yield (1-sigma): 8.74 +- 0.83, and full range integral: 23.63\n",
        "QCD ------> Signal fit window yield (1-sigma): 0.00 +- 0.00, and full range integral: 0.00\n",
        "(M2HP>8.00; DRTp6thJ>6.20; RelHT>=0.73; |MTHAsym-0.18|<4.00)\n",
        "--------------------------------"
       ]
      },
      {
       "output_type": "stream",
       "stream": "stdout",
       "text": [
        "\n",
        "M=700 GeV ------> Signal fit window yield (1-sigma): 8.52 +- 0.39, and full range integral: 10.01\n",
        "Mean value: 693.77, with sigma: 41.05\n",
        "Chi2=3.97, ndf=3.00, Chi2/ndf=1.32\n",
        "TTbar ------> Signal fit window yield (1-sigma): 8.27 +- 0.81, and full range integral: 23.24\n",
        "QCD ------> Signal fit window yield (1-sigma): 5.72 +- 5.72, and full range integral: 5.72\n",
        "(M2HP>8.00; DRTp6thJ>6.40; RelHT>=0.61; |MTHAsym-0.18|<5.00)\n",
        "--------------------------------"
       ]
      },
      {
       "output_type": "stream",
       "stream": "stdout",
       "text": [
        "\n",
        "M=700 GeV ------> Signal fit window yield (1-sigma): 10.55 +- 0.43, and full range integral: 12.49\n",
        "Mean value: 693.10, with sigma: 40.66\n",
        "Chi2=5.39, ndf=3.00, Chi2/ndf=1.80\n",
        "TTbar ------> Signal fit window yield (1-sigma): 12.05 +- 0.97, and full range integral: 32.30\n",
        "QCD ------> Signal fit window yield (1-sigma): 5.72 +- 5.72, and full range integral: 5.72\n",
        "(M2HP>8.00; DRTp6thJ>6.40; RelHT>=0.63; |MTHAsym-0.18|<4.50)\n",
        "--------------------------------"
       ]
      },
      {
       "output_type": "stream",
       "stream": "stdout",
       "text": [
        "\n",
        "M=700 GeV ------> Signal fit window yield (1-sigma): 9.40 +- 0.41, and full range integral: 11.13\n",
        "Mean value: 693.14, with sigma: 40.76\n",
        "Chi2=3.00, ndf=3.00, Chi2/ndf=1.00\n",
        "TTbar ------> Signal fit window yield (1-sigma): 9.77 +- 0.88, and full range integral: 26.55\n",
        "QCD ------> Signal fit window yield (1-sigma): 5.72 +- 5.72, and full range integral: 5.72\n",
        "(M2HP>8.00; DRTp6thJ>6.40; RelHT>=0.63; |MTHAsym-0.18|<4.75)\n",
        "--------------------------------"
       ]
      },
      {
       "output_type": "stream",
       "stream": "stdout",
       "text": [
        "\n",
        "M=700 GeV ------> Signal fit window yield (1-sigma): 10.32 +- 0.42, and full range integral: 12.12\n",
        "Mean value: 693.16, with sigma: 40.13\n",
        "Chi2=4.73, ndf=3.00, Chi2/ndf=1.58\n",
        "TTbar ------> Signal fit window yield (1-sigma): 11.34 +- 0.95, and full range integral: 30.25\n",
        "QCD ------> Signal fit window yield (1-sigma): 5.72 +- 5.72, and full range integral: 5.72\n",
        "(M2HP>8.00; DRTp6thJ>6.40; RelHT>=0.65; |MTHAsym-0.18|<4.50)\n",
        "--------------------------------"
       ]
      },
      {
       "output_type": "stream",
       "stream": "stdout",
       "text": [
        "\n",
        "M=700 GeV ------> Signal fit window yield (1-sigma): 9.19 +- 0.40, and full range integral: 10.83\n",
        "Mean value: 693.12, with sigma: 40.69\n",
        "Chi2=2.63, ndf=3.00, Chi2/ndf=0.88\n",
        "TTbar ------> Signal fit window yield (1-sigma): 9.22 +- 0.85, and full range integral: 25.05\n",
        "QCD ------> Signal fit window yield (1-sigma): 5.72 +- 5.72, and full range integral: 5.72\n",
        "(M2HP>8.00; DRTp6thJ>6.40; RelHT>=0.65; |MTHAsym-0.18|<4.75)\n",
        "--------------------------------"
       ]
      },
      {
       "output_type": "stream",
       "stream": "stdout",
       "text": [
        "\n",
        "M=700 GeV ------> Signal fit window yield (1-sigma): 11.09 +- 0.44, and full range integral: 12.94\n",
        "Mean value: 692.98, with sigma: 40.23\n",
        "Chi2=4.13, ndf=3.00, Chi2/ndf=1.38\n",
        "TTbar ------> Signal fit window yield (1-sigma): 13.23 +- 1.02, and full range integral: 34.97\n",
        "QCD ------> Signal fit window yield (1-sigma): 0.00 +- 0.00, and full range integral: 5.72\n",
        "(M2HP>8.00; DRTp6thJ>6.40; RelHT>=0.67; |MTHAsym-0.18|<4.00)\n",
        "--------------------------------"
       ]
      },
      {
       "output_type": "stream",
       "stream": "stdout",
       "text": [
        "\n",
        "M=700 GeV ------> Signal fit window yield (1-sigma): 10.58 +- 0.43, and full range integral: 12.40\n",
        "Mean value: 692.85, with sigma: 40.44\n",
        "Chi2=4.92, ndf=3.00, Chi2/ndf=1.64\n",
        "TTbar ------> Signal fit window yield (1-sigma): 12.13 +- 0.98, and full range integral: 32.06\n",
        "QCD ------> Signal fit window yield (1-sigma): 0.00 +- 0.00, and full range integral: 5.72\n",
        "(M2HP>8.00; DRTp6thJ>6.40; RelHT>=0.67; |MTHAsym-0.18|<4.25)\n",
        "--------------------------------"
       ]
      },
      {
       "output_type": "stream",
       "stream": "stdout",
       "text": [
        "\n",
        "M=700 GeV ------> Signal fit window yield (1-sigma): 9.92 +- 0.42, and full range integral: 11.65\n",
        "Mean value: 693.33, with sigma: 40.62\n",
        "Chi2=4.97, ndf=3.00, Chi2/ndf=1.66\n",
        "TTbar ------> Signal fit window yield (1-sigma): 10.32 +- 0.90, and full range integral: 27.49\n",
        "QCD ------> Signal fit window yield (1-sigma): 0.00 +- 0.00, and full range integral: 0.00\n",
        "(M2HP>8.00; DRTp6thJ>6.40; RelHT>=0.67; |MTHAsym-0.18|<4.50)\n",
        "--------------------------------"
       ]
      },
      {
       "output_type": "stream",
       "stream": "stdout",
       "text": [
        "\n",
        "M=700 GeV ------> Signal fit window yield (1-sigma): 8.86 +- 0.39, and full range integral: 10.43\n",
        "Mean value: 693.19, with sigma: 41.19\n",
        "Chi2=2.50, ndf=3.00, Chi2/ndf=0.83\n",
        "TTbar ------> Signal fit window yield (1-sigma): 8.35 +- 0.81, and full range integral: 22.84\n",
        "QCD ------> Signal fit window yield (1-sigma): 0.00 +- 0.00, and full range integral: 0.00\n",
        "(M2HP>8.00; DRTp6thJ>6.40; RelHT>=0.67; |MTHAsym-0.18|<4.75)\n",
        "--------------------------------"
       ]
      },
      {
       "output_type": "stream",
       "stream": "stdout",
       "text": [
        "\n",
        "M=700 GeV ------> Signal fit window yield (1-sigma): 10.44 +- 0.43, and full range integral: 12.07\n",
        "Mean value: 693.27, with sigma: 39.54\n",
        "Chi2=6.24, ndf=3.00, Chi2/ndf=2.08\n",
        "TTbar ------> Signal fit window yield (1-sigma): 12.37 +- 0.99, and full range integral: 31.27\n",
        "QCD ------> Signal fit window yield (1-sigma): 0.00 +- 0.00, and full range integral: 0.00\n",
        "(M2HP>8.00; DRTp6thJ>6.40; RelHT>=0.69; |MTHAsym-0.18|<4.00)\n",
        "--------------------------------"
       ]
      },
      {
       "output_type": "stream",
       "stream": "stdout",
       "text": [
        "\n",
        "M=700 GeV ------> Signal fit window yield (1-sigma): 9.99 +- 0.42, and full range integral: 11.61\n",
        "Mean value: 693.11, with sigma: 39.89\n",
        "Chi2=6.04, ndf=3.00, Chi2/ndf=2.01\n",
        "TTbar ------> Signal fit window yield (1-sigma): 11.26 +- 0.94, and full range integral: 28.67\n",
        "QCD ------> Signal fit window yield (1-sigma): 0.00 +- 0.00, and full range integral: 0.00\n",
        "(M2HP>8.00; DRTp6thJ>6.40; RelHT>=0.69; |MTHAsym-0.18|<4.25)\n",
        "--------------------------------"
       ]
      },
      {
       "output_type": "stream",
       "stream": "stdout",
       "text": [
        "\n",
        "M=700 GeV ------> Signal fit window yield (1-sigma): 9.43 +- 0.41, and full range integral: 10.99\n",
        "Mean value: 693.30, with sigma: 40.22\n",
        "Chi2=5.80, ndf=3.00, Chi2/ndf=1.93\n",
        "TTbar ------> Signal fit window yield (1-sigma): 9.61 +- 0.87, and full range integral: 24.50\n",
        "QCD ------> Signal fit window yield (1-sigma): 0.00 +- 0.00, and full range integral: 0.00\n",
        "(M2HP>8.00; DRTp6thJ>6.40; RelHT>=0.69; |MTHAsym-0.18|<4.50)\n",
        "--------------------------------"
       ]
      },
      {
       "output_type": "stream",
       "stream": "stdout",
       "text": [
        "\n",
        "M=700 GeV ------> Signal fit window yield (1-sigma): 9.57 +- 0.41, and full range integral: 11.02\n",
        "Mean value: 694.09, with sigma: 39.38\n",
        "Chi2=4.28, ndf=3.00, Chi2/ndf=1.43\n",
        "TTbar ------> Signal fit window yield (1-sigma): 10.63 +- 0.92, and full range integral: 27.49\n",
        "QCD ------> Signal fit window yield (1-sigma): 0.00 +- 0.00, and full range integral: 0.00\n",
        "(M2HP>8.00; DRTp6thJ>6.40; RelHT>=0.71; |MTHAsym-0.18|<4.00)\n",
        "--------------------------------"
       ]
      },
      {
       "output_type": "stream",
       "stream": "stdout",
       "text": [
        "\n",
        "M=700 GeV ------> Signal fit window yield (1-sigma): 9.19 +- 0.40, and full range integral: 10.64\n",
        "Mean value: 693.89, with sigma: 39.78\n",
        "Chi2=4.16, ndf=3.00, Chi2/ndf=1.39\n",
        "TTbar ------> Signal fit window yield (1-sigma): 9.69 +- 0.87, and full range integral: 25.52\n",
        "QCD ------> Signal fit window yield (1-sigma): 0.00 +- 0.00, and full range integral: 0.00\n",
        "(M2HP>8.00; DRTp6thJ>6.40; RelHT>=0.71; |MTHAsym-0.18|<4.25)\n",
        "--------------------------------"
       ]
      },
      {
       "output_type": "stream",
       "stream": "stdout",
       "text": [
        "\n",
        "M=700 GeV ------> Signal fit window yield (1-sigma): 8.77 +- 0.39, and full range integral: 10.16\n",
        "Mean value: 694.13, with sigma: 40.02\n",
        "Chi2=3.82, ndf=3.00, Chi2/ndf=1.27\n",
        "TTbar ------> Signal fit window yield (1-sigma): 8.19 +- 0.80, and full range integral: 21.90\n",
        "QCD ------> Signal fit window yield (1-sigma): 0.00 +- 0.00, and full range integral: 0.00\n",
        "(M2HP>8.00; DRTp6thJ>6.40; RelHT>=0.71; |MTHAsym-0.18|<4.50)\n",
        "--------------------------------"
       ]
      },
      {
       "output_type": "stream",
       "stream": "stdout",
       "text": [
        "\n",
        "M=700 GeV ------> Signal fit window yield (1-sigma): 10.36 +- 0.43, and full range integral: 12.28\n",
        "Mean value: 693.18, with sigma: 40.68\n",
        "Chi2=5.37, ndf=3.00, Chi2/ndf=1.79\n",
        "TTbar ------> Signal fit window yield (1-sigma): 11.50 +- 0.95, and full range integral: 30.96\n",
        "QCD ------> Signal fit window yield (1-sigma): 5.72 +- 5.72, and full range integral: 5.72\n",
        "(M2HP>8.00; DRTp6thJ>6.60; RelHT>=0.63; |MTHAsym-0.18|<4.50)\n",
        "--------------------------------"
       ]
      },
      {
       "output_type": "stream",
       "stream": "stdout",
       "text": [
        "\n",
        "M=700 GeV ------> Signal fit window yield (1-sigma): 9.26 +- 0.40, and full range integral: 10.97\n",
        "Mean value: 693.41, with sigma: 40.81\n",
        "Chi2=3.10, ndf=3.00, Chi2/ndf=1.03\n",
        "TTbar ------> Signal fit window yield (1-sigma): 9.37 +- 0.86, and full range integral: 25.52\n",
        "QCD ------> Signal fit window yield (1-sigma): 5.72 +- 5.72, and full range integral: 5.72\n",
        "(M2HP>8.00; DRTp6thJ>6.60; RelHT>=0.63; |MTHAsym-0.18|<4.75)\n",
        "--------------------------------"
       ]
      },
      {
       "output_type": "stream",
       "stream": "stdout",
       "text": [
        "\n",
        "M=700 GeV ------> Signal fit window yield (1-sigma): 10.13 +- 0.42, and full range integral: 11.91\n",
        "Mean value: 693.23, with sigma: 40.14\n",
        "Chi2=4.62, ndf=3.00, Chi2/ndf=1.54\n",
        "TTbar ------> Signal fit window yield (1-sigma): 10.79 +- 0.92, and full range integral: 28.91\n",
        "QCD ------> Signal fit window yield (1-sigma): 5.72 +- 5.72, and full range integral: 5.72\n",
        "(M2HP>8.00; DRTp6thJ>6.60; RelHT>=0.65; |MTHAsym-0.18|<4.50)\n",
        "--------------------------------"
       ]
      },
      {
       "output_type": "stream",
       "stream": "stdout",
       "text": [
        "\n",
        "M=700 GeV ------> Signal fit window yield (1-sigma): 9.05 +- 0.40, and full range integral: 10.67\n",
        "Mean value: 693.40, with sigma: 40.74\n",
        "Chi2=2.71, ndf=3.00, Chi2/ndf=0.90\n",
        "TTbar ------> Signal fit window yield (1-sigma): 8.82 +- 0.83, and full range integral: 24.02\n",
        "QCD ------> Signal fit window yield (1-sigma): 5.72 +- 5.72, and full range integral: 5.72\n",
        "(M2HP>8.00; DRTp6thJ>6.60; RelHT>=0.65; |MTHAsym-0.18|<4.75)\n",
        "--------------------------------"
       ]
      },
      {
       "output_type": "stream",
       "stream": "stdout",
       "text": [
        "\n",
        "M=700 GeV ------> Signal fit window yield (1-sigma): 10.76 +- 0.43, and full range integral: 12.59\n",
        "Mean value: 693.17, with sigma: 40.34\n",
        "Chi2=4.21, ndf=3.00, Chi2/ndf=1.40\n",
        "TTbar ------> Signal fit window yield (1-sigma): 12.45 +- 0.99, and full range integral: 33.16\n",
        "QCD ------> Signal fit window yield (1-sigma): 0.00 +- 0.00, and full range integral: 5.72\n",
        "(M2HP>8.00; DRTp6thJ>6.60; RelHT>=0.67; |MTHAsym-0.18|<4.00)\n",
        "--------------------------------"
       ]
      },
      {
       "output_type": "stream",
       "stream": "stdout",
       "text": [
        "\n",
        "M=700 GeV ------> Signal fit window yield (1-sigma): 10.34 +- 0.42, and full range integral: 12.14\n",
        "Mean value: 692.81, with sigma: 40.50\n",
        "Chi2=4.50, ndf=3.00, Chi2/ndf=1.50\n",
        "TTbar ------> Signal fit window yield (1-sigma): 11.42 +- 0.95, and full range integral: 30.41\n",
        "QCD ------> Signal fit window yield (1-sigma): 0.00 +- 0.00, and full range integral: 5.72\n",
        "(M2HP>8.00; DRTp6thJ>6.60; RelHT>=0.67; |MTHAsym-0.18|<4.25)\n",
        "--------------------------------"
       ]
      },
      {
       "output_type": "stream",
       "stream": "stdout",
       "text": [
        "\n",
        "M=700 GeV ------> Signal fit window yield (1-sigma): 9.73 +- 0.41, and full range integral: 11.44\n",
        "Mean value: 693.43, with sigma: 40.64\n",
        "Chi2=4.86, ndf=3.00, Chi2/ndf=1.62\n",
        "TTbar ------> Signal fit window yield (1-sigma): 9.77 +- 0.88, and full range integral: 26.15\n",
        "QCD ------> Signal fit window yield (1-sigma): 0.00 +- 0.00, and full range integral: 0.00\n",
        "(M2HP>8.00; DRTp6thJ>6.60; RelHT>=0.67; |MTHAsym-0.18|<4.50)\n",
        "--------------------------------"
       ]
      },
      {
       "output_type": "stream",
       "stream": "stdout",
       "text": [
        "\n",
        "M=700 GeV ------> Signal fit window yield (1-sigma): 8.72 +- 0.39, and full range integral: 10.27\n",
        "Mean value: 693.48, with sigma: 41.25\n",
        "Chi2=2.58, ndf=3.00, Chi2/ndf=0.86\n",
        "TTbar ------> Signal fit window yield (1-sigma): 7.96 +- 0.79, and full range integral: 21.82\n",
        "QCD ------> Signal fit window yield (1-sigma): 0.00 +- 0.00, and full range integral: 0.00\n",
        "(M2HP>8.00; DRTp6thJ>6.60; RelHT>=0.67; |MTHAsym-0.18|<4.75)\n",
        "--------------------------------"
       ]
      },
      {
       "output_type": "stream",
       "stream": "stdout",
       "text": [
        "\n",
        "M=700 GeV ------> Signal fit window yield (1-sigma): 10.13 +- 0.42, and full range integral: 11.74\n",
        "Mean value: 693.40, with sigma: 39.64\n",
        "Chi2=6.11, ndf=3.00, Chi2/ndf=2.04\n",
        "TTbar ------> Signal fit window yield (1-sigma): 11.58 +- 0.96, and full range integral: 29.46\n",
        "QCD ------> Signal fit window yield (1-sigma): 0.00 +- 0.00, and full range integral: 0.00\n",
        "(M2HP>8.00; DRTp6thJ>6.60; RelHT>=0.69; |MTHAsym-0.18|<4.00)\n",
        "--------------------------------"
       ]
      },
      {
       "output_type": "stream",
       "stream": "stdout",
       "text": [
        "\n",
        "M=700 GeV ------> Signal fit window yield (1-sigma): 9.75 +- 0.41, and full range integral: 11.35\n",
        "Mean value: 693.08, with sigma: 39.94\n",
        "Chi2=5.50, ndf=3.00, Chi2/ndf=1.83\n",
        "TTbar ------> Signal fit window yield (1-sigma): 10.56 +- 0.91, and full range integral: 27.02\n",
        "QCD ------> Signal fit window yield (1-sigma): 0.00 +- 0.00, and full range integral: 0.00\n",
        "(M2HP>8.00; DRTp6thJ>6.60; RelHT>=0.69; |MTHAsym-0.18|<4.25)\n",
        "--------------------------------"
       ]
      },
      {
       "output_type": "stream",
       "stream": "stdout",
       "text": [
        "\n",
        "M=700 GeV ------> Signal fit window yield (1-sigma): 9.24 +- 0.40, and full range integral: 10.78\n",
        "Mean value: 693.40, with sigma: 40.23\n",
        "Chi2=5.56, ndf=3.00, Chi2/ndf=1.85\n",
        "TTbar ------> Signal fit window yield (1-sigma): 9.06 +- 0.84, and full range integral: 23.16\n",
        "QCD ------> Signal fit window yield (1-sigma): 0.00 +- 0.00, and full range integral: 0.00\n",
        "(M2HP>8.00; DRTp6thJ>6.60; RelHT>=0.69; |MTHAsym-0.18|<4.50)\n",
        "--------------------------------"
       ]
      },
      {
       "output_type": "stream",
       "stream": "stdout",
       "text": [
        "\n",
        "M=700 GeV ------> Signal fit window yield (1-sigma): 9.27 +- 0.40, and full range integral: 10.71\n",
        "Mean value: 694.26, with sigma: 39.44\n",
        "Chi2=4.13, ndf=3.00, Chi2/ndf=1.38\n",
        "TTbar ------> Signal fit window yield (1-sigma): 9.85 +- 0.88, and full range integral: 25.76\n",
        "QCD ------> Signal fit window yield (1-sigma): 0.00 +- 0.00, and full range integral: 0.00\n",
        "(M2HP>8.00; DRTp6thJ>6.60; RelHT>=0.71; |MTHAsym-0.18|<4.00)\n",
        "--------------------------------"
       ]
      },
      {
       "output_type": "stream",
       "stream": "stdout",
       "text": [
        "\n",
        "M=700 GeV ------> Signal fit window yield (1-sigma): 8.94 +- 0.40, and full range integral: 10.37\n",
        "Mean value: 693.89, with sigma: 39.82\n",
        "Chi2=3.70, ndf=3.00, Chi2/ndf=1.23\n",
        "TTbar ------> Signal fit window yield (1-sigma): 8.98 +- 0.84, and full range integral: 23.95\n",
        "QCD ------> Signal fit window yield (1-sigma): 0.00 +- 0.00, and full range integral: 0.00\n",
        "(M2HP>8.00; DRTp6thJ>6.60; RelHT>=0.71; |MTHAsym-0.18|<4.25)\n",
        "--------------------------------"
       ]
      },
      {
       "output_type": "stream",
       "stream": "stdout",
       "text": [
        "\n",
        "M=700 GeV ------> Signal fit window yield (1-sigma): 10.23 +- 0.42, and full range integral: 12.12\n",
        "Mean value: 693.49, with sigma: 40.67\n",
        "Chi2=4.82, ndf=3.00, Chi2/ndf=1.61\n",
        "TTbar ------> Signal fit window yield (1-sigma): 10.71 +- 0.92, and full range integral: 29.70\n",
        "QCD ------> Signal fit window yield (1-sigma): 5.72 +- 5.72, and full range integral: 5.72\n",
        "(M2HP>8.00; DRTp6thJ>6.80; RelHT>=0.63; |MTHAsym-0.18|<4.50)\n",
        "--------------------------------"
       ]
      },
      {
       "output_type": "stream",
       "stream": "stdout",
       "text": [
        "\n",
        "M=700 GeV ------> Signal fit window yield (1-sigma): 9.15 +- 0.40, and full range integral: 10.83\n",
        "Mean value: 693.81, with sigma: 40.75\n",
        "Chi2=2.75, ndf=3.00, Chi2/ndf=0.92\n",
        "TTbar ------> Signal fit window yield (1-sigma): 8.74 +- 0.83, and full range integral: 24.42\n",
        "QCD ------> Signal fit window yield (1-sigma): 5.72 +- 5.72, and full range integral: 5.72\n",
        "(M2HP>8.00; DRTp6thJ>6.80; RelHT>=0.63; |MTHAsym-0.18|<4.75)\n",
        "--------------------------------"
       ]
      },
      {
       "output_type": "stream",
       "stream": "stdout",
       "text": [
        "\n",
        "M=700 GeV ------> Signal fit window yield (1-sigma): 10.01 +- 0.42, and full range integral: 11.75\n",
        "Mean value: 693.55, with sigma: 40.12\n",
        "Chi2=4.17, ndf=3.00, Chi2/ndf=1.39\n",
        "TTbar ------> Signal fit window yield (1-sigma): 10.00 +- 0.89, and full range integral: 27.65\n",
        "QCD ------> Signal fit window yield (1-sigma): 5.72 +- 5.72, and full range integral: 5.72\n",
        "(M2HP>8.00; DRTp6thJ>6.80; RelHT>=0.65; |MTHAsym-0.18|<4.50)\n",
        "--------------------------------"
       ]
      },
      {
       "output_type": "stream",
       "stream": "stdout",
       "text": [
        "\n",
        "M=700 GeV ------> Signal fit window yield (1-sigma): 8.94 +- 0.40, and full range integral: 10.53\n",
        "Mean value: 693.81, with sigma: 40.68\n",
        "Chi2=2.43, ndf=3.00, Chi2/ndf=0.81\n",
        "TTbar ------> Signal fit window yield (1-sigma): 8.19 +- 0.80, and full range integral: 22.92\n",
        "QCD ------> Signal fit window yield (1-sigma): 5.72 +- 5.72, and full range integral: 5.72\n",
        "(M2HP>8.00; DRTp6thJ>6.80; RelHT>=0.65; |MTHAsym-0.18|<4.75)\n",
        "--------------------------------"
       ]
      },
      {
       "output_type": "stream",
       "stream": "stdout",
       "text": [
        "\n",
        "M=700 GeV ------> Signal fit window yield (1-sigma): 10.60 +- 0.43, and full range integral: 12.40\n",
        "Mean value: 693.35, with sigma: 40.32\n",
        "Chi2=3.77, ndf=3.00, Chi2/ndf=1.26\n",
        "TTbar ------> Signal fit window yield (1-sigma): 11.66 +- 0.96, and full range integral: 31.35\n",
        "QCD ------> Signal fit window yield (1-sigma): 0.00 +- 0.00, and full range integral: 5.72\n",
        "(M2HP>8.00; DRTp6thJ>6.80; RelHT>=0.67; |MTHAsym-0.18|<4.00)\n",
        "--------------------------------"
       ]
      },
      {
       "output_type": "stream",
       "stream": "stdout",
       "text": [
        "\n",
        "M=700 GeV ------> Signal fit window yield (1-sigma): 10.20 +- 0.42, and full range integral: 11.96\n",
        "Mean value: 693.03, with sigma: 40.46\n",
        "Chi2=4.05, ndf=3.00, Chi2/ndf=1.35\n",
        "TTbar ------> Signal fit window yield (1-sigma): 10.71 +- 0.92, and full range integral: 28.83\n",
        "QCD ------> Signal fit window yield (1-sigma): 0.00 +- 0.00, and full range integral: 5.72\n",
        "(M2HP>8.00; DRTp6thJ>6.80; RelHT>=0.67; |MTHAsym-0.18|<4.25)\n",
        "--------------------------------"
       ]
      },
      {
       "output_type": "stream",
       "stream": "stdout",
       "text": [
        "\n",
        "M=700 GeV ------> Signal fit window yield (1-sigma): 9.61 +- 0.41, and full range integral: 11.28\n",
        "Mean value: 693.76, with sigma: 40.62\n",
        "Chi2=4.41, ndf=3.00, Chi2/ndf=1.47\n",
        "TTbar ------> Signal fit window yield (1-sigma): 9.06 +- 0.84, and full range integral: 24.97\n",
        "QCD ------> Signal fit window yield (1-sigma): 0.00 +- 0.00, and full range integral: 0.00\n",
        "(M2HP>8.00; DRTp6thJ>6.80; RelHT>=0.67; |MTHAsym-0.18|<4.50)\n",
        "--------------------------------"
       ]
      },
      {
       "output_type": "stream",
       "stream": "stdout",
       "text": [
        "\n",
        "M=700 GeV ------> Signal fit window yield (1-sigma): 8.61 +- 0.39, and full range integral: 10.13\n",
        "Mean value: 693.91, with sigma: 41.19\n",
        "Chi2=2.36, ndf=3.00, Chi2/ndf=0.79\n",
        "TTbar ------> Signal fit window yield (1-sigma): 7.40 +- 0.76, and full range integral: 20.80\n",
        "QCD ------> Signal fit window yield (1-sigma): 0.00 +- 0.00, and full range integral: 0.00\n",
        "(M2HP>8.00; DRTp6thJ>6.80; RelHT>=0.67; |MTHAsym-0.18|<4.75)\n",
        "--------------------------------"
       ]
      },
      {
       "output_type": "stream",
       "stream": "stdout",
       "text": [
        "\n",
        "M=700 GeV ------> Signal fit window yield (1-sigma): 9.97 +- 0.42, and full range integral: 11.54\n",
        "Mean value: 693.59, with sigma: 39.61\n",
        "Chi2=5.56, ndf=3.00, Chi2/ndf=1.85\n",
        "TTbar ------> Signal fit window yield (1-sigma): 10.79 +- 0.92, and full range integral: 27.73\n",
        "QCD ------> Signal fit window yield (1-sigma): 0.00 +- 0.00, and full range integral: 0.00\n",
        "(M2HP>8.00; DRTp6thJ>6.80; RelHT>=0.69; |MTHAsym-0.18|<4.00)\n",
        "--------------------------------"
       ]
      },
      {
       "output_type": "stream",
       "stream": "stdout",
       "text": [
        "\n",
        "M=700 GeV ------> Signal fit window yield (1-sigma): 9.61 +- 0.41, and full range integral: 11.18\n",
        "Mean value: 693.31, with sigma: 39.88\n",
        "Chi2=4.96, ndf=3.00, Chi2/ndf=1.65\n",
        "TTbar ------> Signal fit window yield (1-sigma): 9.85 +- 0.88, and full range integral: 25.52\n",
        "QCD ------> Signal fit window yield (1-sigma): 0.00 +- 0.00, and full range integral: 0.00\n",
        "(M2HP>8.00; DRTp6thJ>6.80; RelHT>=0.69; |MTHAsym-0.18|<4.25)\n",
        "--------------------------------"
       ]
      },
      {
       "output_type": "stream",
       "stream": "stdout",
       "text": [
        "\n",
        "M=700 GeV ------> Signal fit window yield (1-sigma): 9.12 +- 0.40, and full range integral: 10.62\n",
        "Mean value: 693.75, with sigma: 40.21\n",
        "Chi2=5.19, ndf=3.00, Chi2/ndf=1.73\n",
        "TTbar ------> Signal fit window yield (1-sigma): 8.35 +- 0.81, and full range integral: 22.06\n",
        "QCD ------> Signal fit window yield (1-sigma): 0.00 +- 0.00, and full range integral: 0.00\n",
        "(M2HP>8.00; DRTp6thJ>6.80; RelHT>=0.69; |MTHAsym-0.18|<4.50)\n",
        "--------------------------------"
       ]
      },
      {
       "output_type": "stream",
       "stream": "stdout",
       "text": [
        "\n",
        "M=700 GeV ------> Signal fit window yield (1-sigma): 9.13 +- 0.40, and full range integral: 10.53\n",
        "Mean value: 694.57, with sigma: 39.44\n",
        "Chi2=3.81, ndf=3.00, Chi2/ndf=1.27\n",
        "TTbar ------> Signal fit window yield (1-sigma): 9.22 +- 0.85, and full range integral: 24.18\n",
        "QCD ------> Signal fit window yield (1-sigma): 0.00 +- 0.00, and full range integral: 0.00\n",
        "(M2HP>8.00; DRTp6thJ>6.80; RelHT>=0.71; |MTHAsym-0.18|<4.00)\n",
        "--------------------------------"
       ]
      },
      {
       "output_type": "stream",
       "stream": "stdout",
       "text": [
        "\n",
        "M=700 GeV ------> Signal fit window yield (1-sigma): 8.82 +- 0.39, and full range integral: 10.22\n",
        "Mean value: 694.24, with sigma: 39.79\n",
        "Chi2=3.41, ndf=3.00, Chi2/ndf=1.14\n",
        "TTbar ------> Signal fit window yield (1-sigma): 8.43 +- 0.81, and full range integral: 22.61\n",
        "QCD ------> Signal fit window yield (1-sigma): 0.00 +- 0.00, and full range integral: 0.00\n",
        "(M2HP>8.00; DRTp6thJ>6.80; RelHT>=0.71; |MTHAsym-0.18|<4.25)\n",
        "--------------------------------"
       ]
      },
      {
       "output_type": "stream",
       "stream": "stdout",
       "text": [
        "\n",
        "M=700 GeV ------> Signal fit window yield (1-sigma): 9.97 +- 0.42, and full range integral: 11.82\n",
        "Mean value: 693.14, with sigma: 40.92\n",
        "Chi2=5.01, ndf=3.00, Chi2/ndf=1.67\n",
        "TTbar ------> Signal fit window yield (1-sigma): 10.40 +- 0.91, and full range integral: 28.59\n",
        "QCD ------> Signal fit window yield (1-sigma): 5.72 +- 5.72, and full range integral: 5.72\n",
        "(M2HP>8.00; DRTp6thJ>7.00; RelHT>=0.63; |MTHAsym-0.18|<4.50)\n",
        "--------------------------------"
       ]
      },
      {
       "output_type": "stream",
       "stream": "stdout",
       "text": [
        "\n",
        "M=700 GeV ------> Signal fit window yield (1-sigma): 8.92 +- 0.39, and full range integral: 10.58\n",
        "Mean value: 693.56, with sigma: 41.04\n",
        "Chi2=3.14, ndf=3.00, Chi2/ndf=1.05\n",
        "TTbar ------> Signal fit window yield (1-sigma): 8.51 +- 0.82, and full range integral: 23.71\n",
        "QCD ------> Signal fit window yield (1-sigma): 5.72 +- 5.72, and full range integral: 5.72\n",
        "(M2HP>8.00; DRTp6thJ>7.00; RelHT>=0.63; |MTHAsym-0.18|<4.75)\n",
        "--------------------------------"
       ]
      },
      {
       "output_type": "stream",
       "stream": "stdout",
       "text": [
        "\n",
        "M=700 GeV ------> Signal fit window yield (1-sigma): 9.75 +- 0.41, and full range integral: 11.46\n",
        "Mean value: 693.20, with sigma: 40.37\n",
        "Chi2=4.51, ndf=3.00, Chi2/ndf=1.50\n",
        "TTbar ------> Signal fit window yield (1-sigma): 9.69 +- 0.87, and full range integral: 26.62\n",
        "QCD ------> Signal fit window yield (1-sigma): 5.72 +- 5.72, and full range integral: 5.72\n",
        "(M2HP>8.00; DRTp6thJ>7.00; RelHT>=0.65; |MTHAsym-0.18|<4.50)\n",
        "--------------------------------"
       ]
      },
      {
       "output_type": "stream",
       "stream": "stdout",
       "text": [
        "\n",
        "M=700 GeV ------> Signal fit window yield (1-sigma): 8.72 +- 0.39, and full range integral: 10.29\n",
        "Mean value: 693.55, with sigma: 40.98\n",
        "Chi2=2.95, ndf=3.00, Chi2/ndf=0.98\n",
        "TTbar ------> Signal fit window yield (1-sigma): 7.96 +- 0.79, and full range integral: 22.21\n",
        "QCD ------> Signal fit window yield (1-sigma): 5.72 +- 5.72, and full range integral: 5.72\n",
        "(M2HP>8.00; DRTp6thJ>7.00; RelHT>=0.65; |MTHAsym-0.18|<4.75)\n",
        "--------------------------------"
       ]
      },
      {
       "output_type": "stream",
       "stream": "stdout",
       "text": [
        "\n",
        "M=700 GeV ------> Signal fit window yield (1-sigma): 10.32 +- 0.42, and full range integral: 12.09\n",
        "Mean value: 692.95, with sigma: 40.59\n",
        "Chi2=4.26, ndf=3.00, Chi2/ndf=1.42\n",
        "TTbar ------> Signal fit window yield (1-sigma): 11.11 +- 0.94, and full range integral: 29.85\n",
        "QCD ------> Signal fit window yield (1-sigma): 0.00 +- 0.00, and full range integral: 5.72\n",
        "(M2HP>8.00; DRTp6thJ>7.00; RelHT>=0.67; |MTHAsym-0.18|<4.00)\n",
        "--------------------------------"
       ]
      },
      {
       "output_type": "stream",
       "stream": "stdout",
       "text": [
        "\n",
        "M=700 GeV ------> Signal fit window yield (1-sigma): 9.94 +- 0.42, and full range integral: 11.67\n",
        "Mean value: 692.66, with sigma: 40.70\n",
        "Chi2=4.56, ndf=3.00, Chi2/ndf=1.52\n",
        "TTbar ------> Signal fit window yield (1-sigma): 10.24 +- 0.90, and full range integral: 27.41\n",
        "QCD ------> Signal fit window yield (1-sigma): 0.00 +- 0.00, and full range integral: 5.72\n",
        "(M2HP>8.00; DRTp6thJ>7.00; RelHT>=0.67; |MTHAsym-0.18|<4.25)\n",
        "--------------------------------"
       ]
      },
      {
       "output_type": "stream",
       "stream": "stdout",
       "text": [
        "\n",
        "M=700 GeV ------> Signal fit window yield (1-sigma): 9.34 +- 0.40, and full range integral: 10.99\n",
        "Mean value: 693.38, with sigma: 40.90\n",
        "Chi2=4.78, ndf=3.00, Chi2/ndf=1.59\n",
        "TTbar ------> Signal fit window yield (1-sigma): 8.74 +- 0.83, and full range integral: 23.95\n",
        "QCD ------> Signal fit window yield (1-sigma): 0.00 +- 0.00, and full range integral: 0.00\n",
        "(M2HP>8.00; DRTp6thJ>7.00; RelHT>=0.67; |MTHAsym-0.18|<4.50)\n",
        "--------------------------------"
       ]
      },
      {
       "output_type": "stream",
       "stream": "stdout",
       "text": [
        "\n",
        "M=700 GeV ------> Signal fit window yield (1-sigma): 9.71 +- 0.41, and full range integral: 11.25\n",
        "Mean value: 693.23, with sigma: 39.84\n",
        "Chi2=6.43, ndf=3.00, Chi2/ndf=2.14\n",
        "TTbar ------> Signal fit window yield (1-sigma): 10.24 +- 0.90, and full range integral: 26.31\n",
        "QCD ------> Signal fit window yield (1-sigma): 0.00 +- 0.00, and full range integral: 0.00\n",
        "(M2HP>8.00; DRTp6thJ>7.00; RelHT>=0.69; |MTHAsym-0.18|<4.00)\n",
        "--------------------------------"
       ]
      },
      {
       "output_type": "stream",
       "stream": "stdout",
       "text": [
        "\n",
        "M=700 GeV ------> Signal fit window yield (1-sigma): 9.36 +- 0.40, and full range integral: 10.90\n",
        "Mean value: 692.98, with sigma: 40.08\n",
        "Chi2=5.74, ndf=3.00, Chi2/ndf=1.91\n",
        "TTbar ------> Signal fit window yield (1-sigma): 9.37 +- 0.86, and full range integral: 24.18\n",
        "QCD ------> Signal fit window yield (1-sigma): 0.00 +- 0.00, and full range integral: 0.00\n",
        "(M2HP>8.00; DRTp6thJ>7.00; RelHT>=0.69; |MTHAsym-0.18|<4.25)\n",
        "--------------------------------"
       ]
      },
      {
       "output_type": "stream",
       "stream": "stdout",
       "text": [
        "\n",
        "M=700 GeV ------> Signal fit window yield (1-sigma): 8.87 +- 0.39, and full range integral: 10.34\n",
        "Mean value: 693.42, with sigma: 40.44\n",
        "Chi2=5.90, ndf=3.00, Chi2/ndf=1.97\n",
        "TTbar ------> Signal fit window yield (1-sigma): 8.03 +- 0.80, and full range integral: 21.11\n",
        "QCD ------> Signal fit window yield (1-sigma): 0.00 +- 0.00, and full range integral: 0.00\n",
        "(M2HP>8.00; DRTp6thJ>7.00; RelHT>=0.69; |MTHAsym-0.18|<4.50)\n",
        "--------------------------------"
       ]
      },
      {
       "output_type": "stream",
       "stream": "stdout",
       "text": [
        "\n",
        "M=700 GeV ------> Signal fit window yield (1-sigma): 8.91 +- 0.39, and full range integral: 10.27\n",
        "Mean value: 694.35, with sigma: 39.70\n",
        "Chi2=4.77, ndf=3.00, Chi2/ndf=1.59\n",
        "TTbar ------> Signal fit window yield (1-sigma): 8.66 +- 0.83, and full range integral: 22.84\n",
        "QCD ------> Signal fit window yield (1-sigma): 0.00 +- 0.00, and full range integral: 0.00\n",
        "(M2HP>8.00; DRTp6thJ>7.00; RelHT>=0.71; |MTHAsym-0.18|<4.00)\n",
        "--------------------------------"
       ]
      },
      {
       "output_type": "stream",
       "stream": "stdout",
       "text": [
        "\n",
        "M=700 GeV ------> Signal fit window yield (1-sigma): 9.73 +- 0.41, and full range integral: 11.56\n",
        "Mean value: 692.97, with sigma: 41.12\n",
        "Chi2=4.31, ndf=3.00, Chi2/ndf=1.44\n",
        "TTbar ------> Signal fit window yield (1-sigma): 10.08 +- 0.89, and full range integral: 27.33\n",
        "QCD ------> Signal fit window yield (1-sigma): 5.72 +- 5.72, and full range integral: 5.72\n",
        "(M2HP>8.00; DRTp6thJ>7.20; RelHT>=0.63; |MTHAsym-0.18|<4.50)\n",
        "--------------------------------"
       ]
      },
      {
       "output_type": "stream",
       "stream": "stdout",
       "text": [
        "\n",
        "M=700 GeV ------> Signal fit window yield (1-sigma): 8.73 +- 0.39, and full range integral: 10.37\n",
        "Mean value: 693.48, with sigma: 41.12\n",
        "Chi2=2.63, ndf=3.00, Chi2/ndf=0.88\n",
        "TTbar ------> Signal fit window yield (1-sigma): 8.19 +- 0.80, and full range integral: 22.53\n",
        "QCD ------> Signal fit window yield (1-sigma): 5.72 +- 5.72, and full range integral: 5.72\n",
        "(M2HP>8.00; DRTp6thJ>7.20; RelHT>=0.63; |MTHAsym-0.18|<4.75)\n",
        "--------------------------------"
       ]
      },
      {
       "output_type": "stream",
       "stream": "stdout",
       "text": [
        "\n",
        "M=700 GeV ------> Signal fit window yield (1-sigma): 9.50 +- 0.41, and full range integral: 11.20\n",
        "Mean value: 693.04, with sigma: 40.55\n",
        "Chi2=3.81, ndf=3.00, Chi2/ndf=1.27\n",
        "TTbar ------> Signal fit window yield (1-sigma): 9.45 +- 0.86, and full range integral: 25.60\n",
        "QCD ------> Signal fit window yield (1-sigma): 5.72 +- 5.72, and full range integral: 5.72\n",
        "(M2HP>8.00; DRTp6thJ>7.20; RelHT>=0.65; |MTHAsym-0.18|<4.50)\n",
        "--------------------------------"
       ]
      },
      {
       "output_type": "stream",
       "stream": "stdout",
       "text": [
        "\n",
        "M=700 GeV ------> Signal fit window yield (1-sigma): 8.52 +- 0.39, and full range integral: 10.08\n",
        "Mean value: 693.47, with sigma: 41.05\n",
        "Chi2=2.41, ndf=3.00, Chi2/ndf=0.80\n",
        "TTbar ------> Signal fit window yield (1-sigma): 7.72 +- 0.78, and full range integral: 21.27\n",
        "QCD ------> Signal fit window yield (1-sigma): 5.72 +- 5.72, and full range integral: 5.72\n",
        "(M2HP>8.00; DRTp6thJ>7.20; RelHT>=0.65; |MTHAsym-0.18|<4.75)\n",
        "--------------------------------"
       ]
      },
      {
       "output_type": "stream",
       "stream": "stdout",
       "text": [
        "\n",
        "M=700 GeV ------> Signal fit window yield (1-sigma): 10.03 +- 0.42, and full range integral: 11.77\n",
        "Mean value: 692.78, with sigma: 40.84\n",
        "Chi2=3.43, ndf=3.00, Chi2/ndf=1.14\n",
        "TTbar ------> Signal fit window yield (1-sigma): 10.71 +- 0.92, and full range integral: 28.44\n",
        "QCD ------> Signal fit window yield (1-sigma): 0.00 +- 0.00, and full range integral: 5.72\n",
        "(M2HP>8.00; DRTp6thJ>7.20; RelHT>=0.67; |MTHAsym-0.18|<4.00)\n",
        "--------------------------------"
       ]
      },
      {
       "output_type": "stream",
       "stream": "stdout",
       "text": [
        "\n",
        "M=700 GeV ------> Signal fit window yield (1-sigma): 9.66 +- 0.41, and full range integral: 11.37\n",
        "Mean value: 692.51, with sigma: 40.92\n",
        "Chi2=3.84, ndf=3.00, Chi2/ndf=1.28\n",
        "TTbar ------> Signal fit window yield (1-sigma): 9.93 +- 0.88, and full range integral: 26.15\n",
        "QCD ------> Signal fit window yield (1-sigma): 0.00 +- 0.00, and full range integral: 5.72\n",
        "(M2HP>8.00; DRTp6thJ>7.20; RelHT>=0.67; |MTHAsym-0.18|<4.25)\n",
        "--------------------------------"
       ]
      },
      {
       "output_type": "stream",
       "stream": "stdout",
       "text": [
        "\n",
        "M=700 GeV ------> Signal fit window yield (1-sigma): 9.10 +- 0.40, and full range integral: 10.72\n",
        "Mean value: 693.22, with sigma: 41.10\n",
        "Chi2=4.08, ndf=3.00, Chi2/ndf=1.36\n",
        "TTbar ------> Signal fit window yield (1-sigma): 8.51 +- 0.82, and full range integral: 22.92\n",
        "QCD ------> Signal fit window yield (1-sigma): 0.00 +- 0.00, and full range integral: 0.00\n",
        "(M2HP>8.00; DRTp6thJ>7.20; RelHT>=0.67; |MTHAsym-0.18|<4.50)\n",
        "--------------------------------"
       ]
      },
      {
       "output_type": "stream",
       "stream": "stdout",
       "text": [
        "\n",
        "M=700 GeV ------> Signal fit window yield (1-sigma): 9.43 +- 0.41, and full range integral: 10.95\n",
        "Mean value: 693.05, with sigma: 40.03\n",
        "Chi2=5.38, ndf=3.00, Chi2/ndf=1.79\n",
        "TTbar ------> Signal fit window yield (1-sigma): 9.85 +- 0.88, and full range integral: 24.89\n",
        "QCD ------> Signal fit window yield (1-sigma): 0.00 +- 0.00, and full range integral: 0.00\n",
        "(M2HP>8.00; DRTp6thJ>7.20; RelHT>=0.69; |MTHAsym-0.18|<4.00)\n",
        "--------------------------------"
       ]
      },
      {
       "output_type": "stream",
       "stream": "stdout",
       "text": [
        "\n",
        "M=700 GeV ------> Signal fit window yield (1-sigma): 9.10 +- 0.40, and full range integral: 10.62\n",
        "Mean value: 692.82, with sigma: 40.24\n",
        "Chi2=4.90, ndf=3.00, Chi2/ndf=1.63\n",
        "TTbar ------> Signal fit window yield (1-sigma): 9.06 +- 0.84, and full range integral: 22.92\n",
        "QCD ------> Signal fit window yield (1-sigma): 0.00 +- 0.00, and full range integral: 0.00\n",
        "(M2HP>8.00; DRTp6thJ>7.20; RelHT>=0.69; |MTHAsym-0.18|<4.25)\n",
        "--------------------------------"
       ]
      },
      {
       "output_type": "stream",
       "stream": "stdout",
       "text": [
        "\n",
        "M=700 GeV ------> Signal fit window yield (1-sigma): 8.65 +- 0.39, and full range integral: 10.10\n",
        "Mean value: 693.24, with sigma: 40.59\n",
        "Chi2=5.04, ndf=3.00, Chi2/ndf=1.68\n",
        "TTbar ------> Signal fit window yield (1-sigma): 7.80 +- 0.78, and full range integral: 20.09\n",
        "QCD ------> Signal fit window yield (1-sigma): 0.00 +- 0.00, and full range integral: 0.00\n",
        "(M2HP>8.00; DRTp6thJ>7.20; RelHT>=0.69; |MTHAsym-0.18|<4.50)\n",
        "--------------------------------"
       ]
      },
      {
       "output_type": "stream",
       "stream": "stdout",
       "text": [
        "\n",
        "M=700 GeV ------> Signal fit window yield (1-sigma): 9.50 +- 0.41, and full range integral: 11.27\n",
        "Mean value: 692.99, with sigma: 41.21\n",
        "Chi2=4.78, ndf=3.00, Chi2/ndf=1.59\n",
        "TTbar ------> Signal fit window yield (1-sigma): 9.29 +- 0.86, and full range integral: 25.60\n",
        "QCD ------> Signal fit window yield (1-sigma): 5.72 +- 5.72, and full range integral: 5.72\n",
        "(M2HP>8.00; DRTp6thJ>7.40; RelHT>=0.63; |MTHAsym-0.18|<4.50)\n",
        "--------------------------------"
       ]
      },
      {
       "output_type": "stream",
       "stream": "stdout",
       "text": [
        "\n",
        "M=700 GeV ------> Signal fit window yield (1-sigma): 8.54 +- 0.39, and full range integral: 10.13\n",
        "Mean value: 693.41, with sigma: 41.17\n",
        "Chi2=2.89, ndf=3.00, Chi2/ndf=0.96\n",
        "TTbar ------> Signal fit window yield (1-sigma): 7.48 +- 0.77, and full range integral: 21.03\n",
        "QCD ------> Signal fit window yield (1-sigma): 5.72 +- 5.72, and full range integral: 5.72\n",
        "(M2HP>8.00; DRTp6thJ>7.40; RelHT>=0.63; |MTHAsym-0.18|<4.75)\n",
        "--------------------------------"
       ]
      },
      {
       "output_type": "stream",
       "stream": "stdout",
       "text": [
        "\n",
        "M=700 GeV ------> Signal fit window yield (1-sigma): 9.27 +- 0.40, and full range integral: 10.90\n",
        "Mean value: 693.06, with sigma: 40.63\n",
        "Chi2=4.44, ndf=3.00, Chi2/ndf=1.48\n",
        "TTbar ------> Signal fit window yield (1-sigma): 8.66 +- 0.83, and full range integral: 23.87\n",
        "QCD ------> Signal fit window yield (1-sigma): 5.72 +- 5.72, and full range integral: 5.72\n",
        "(M2HP>8.00; DRTp6thJ>7.40; RelHT>=0.65; |MTHAsym-0.18|<4.50)\n",
        "--------------------------------"
       ]
      },
      {
       "output_type": "stream",
       "stream": "stdout",
       "text": [
        "\n",
        "M=700 GeV ------> Signal fit window yield (1-sigma): 9.76 +- 0.41, and full range integral: 11.42\n",
        "Mean value: 692.63, with sigma: 40.82\n",
        "Chi2=5.03, ndf=3.00, Chi2/ndf=1.68\n",
        "TTbar ------> Signal fit window yield (1-sigma): 9.85 +- 0.88, and full range integral: 26.55\n",
        "QCD ------> Signal fit window yield (1-sigma): 0.00 +- 0.00, and full range integral: 5.72\n",
        "(M2HP>8.00; DRTp6thJ>7.40; RelHT>=0.67; |MTHAsym-0.18|<4.00)\n",
        "--------------------------------"
       ]
      },
      {
       "output_type": "stream",
       "stream": "stdout",
       "text": [
        "\n",
        "M=700 GeV ------> Signal fit window yield (1-sigma): 9.41 +- 0.41, and full range integral: 11.06\n",
        "Mean value: 692.47, with sigma: 41.05\n",
        "Chi2=4.55, ndf=3.00, Chi2/ndf=1.52\n",
        "TTbar ------> Signal fit window yield (1-sigma): 9.14 +- 0.85, and full range integral: 24.34\n",
        "QCD ------> Signal fit window yield (1-sigma): 0.00 +- 0.00, and full range integral: 5.72\n",
        "(M2HP>8.00; DRTp6thJ>7.40; RelHT>=0.67; |MTHAsym-0.18|<4.25)\n",
        "--------------------------------"
       ]
      },
      {
       "output_type": "stream",
       "stream": "stdout",
       "text": [
        "\n",
        "M=700 GeV ------> Signal fit window yield (1-sigma): 8.87 +- 0.39, and full range integral: 10.43\n",
        "Mean value: 693.25, with sigma: 41.20\n",
        "Chi2=4.75, ndf=3.00, Chi2/ndf=1.58\n",
        "TTbar ------> Signal fit window yield (1-sigma): 7.72 +- 0.78, and full range integral: 21.35\n",
        "QCD ------> Signal fit window yield (1-sigma): 0.00 +- 0.00, and full range integral: 0.00\n",
        "(M2HP>8.00; DRTp6thJ>7.40; RelHT>=0.67; |MTHAsym-0.18|<4.50)\n",
        "--------------------------------"
       ]
      },
      {
       "output_type": "stream",
       "stream": "stdout",
       "text": [
        "\n",
        "M=700 GeV ------> Signal fit window yield (1-sigma): 9.22 +- 0.40, and full range integral: 10.67\n",
        "Mean value: 693.12, with sigma: 40.05\n",
        "Chi2=6.64, ndf=3.00, Chi2/ndf=2.21\n",
        "TTbar ------> Signal fit window yield (1-sigma): 8.98 +- 0.84, and full range integral: 23.24\n",
        "QCD ------> Signal fit window yield (1-sigma): 0.00 +- 0.00, and full range integral: 0.00\n",
        "(M2HP>8.00; DRTp6thJ>7.40; RelHT>=0.69; |MTHAsym-0.18|<4.00)\n",
        "--------------------------------"
       ]
      },
      {
       "output_type": "stream",
       "stream": "stdout",
       "text": [
        "\n",
        "M=700 GeV ------> Signal fit window yield (1-sigma): 8.91 +- 0.39, and full range integral: 10.36\n",
        "Mean value: 692.88, with sigma: 40.22\n",
        "Chi2=5.86, ndf=3.00, Chi2/ndf=1.95\n",
        "TTbar ------> Signal fit window yield (1-sigma): 8.27 +- 0.81, and full range integral: 21.35\n",
        "QCD ------> Signal fit window yield (1-sigma): 0.00 +- 0.00, and full range integral: 0.00\n",
        "(M2HP>8.00; DRTp6thJ>7.40; RelHT>=0.69; |MTHAsym-0.18|<4.25)\n",
        "--------------------------------"
       ]
      },
      {
       "output_type": "stream",
       "stream": "stdout",
       "text": [
        "\n",
        "M=700 GeV ------> Signal fit window yield (1-sigma): 9.27 +- 0.40, and full range integral: 11.00\n",
        "Mean value: 693.31, with sigma: 41.28\n",
        "Chi2=4.50, ndf=3.00, Chi2/ndf=1.50\n",
        "TTbar ------> Signal fit window yield (1-sigma): 8.98 +- 0.84, and full range integral: 24.66\n",
        "QCD ------> Signal fit window yield (1-sigma): 5.72 +- 5.72, and full range integral: 5.72\n",
        "(M2HP>8.00; DRTp6thJ>7.60; RelHT>=0.63; |MTHAsym-0.18|<4.50)\n",
        "--------------------------------"
       ]
      },
      {
       "output_type": "stream",
       "stream": "stdout",
       "text": [
        "\n",
        "M=700 GeV ------> Signal fit window yield (1-sigma): 9.05 +- 0.40, and full range integral: 10.64\n",
        "Mean value: 693.39, with sigma: 40.69\n",
        "Chi2=4.18, ndf=3.00, Chi2/ndf=1.39\n",
        "TTbar ------> Signal fit window yield (1-sigma): 8.35 +- 0.81, and full range integral: 22.92\n",
        "QCD ------> Signal fit window yield (1-sigma): 5.72 +- 5.72, and full range integral: 5.72\n",
        "(M2HP>8.00; DRTp6thJ>7.60; RelHT>=0.65; |MTHAsym-0.18|<4.50)\n",
        "--------------------------------"
       ]
      },
      {
       "output_type": "stream",
       "stream": "stdout",
       "text": [
        "\n",
        "M=700 GeV ------> Signal fit window yield (1-sigma): 9.43 +- 0.41, and full range integral: 11.06\n",
        "Mean value: 693.21, with sigma: 40.94\n",
        "Chi2=5.22, ndf=3.00, Chi2/ndf=1.74\n",
        "TTbar ------> Signal fit window yield (1-sigma): 9.37 +- 0.86, and full range integral: 25.29\n",
        "QCD ------> Signal fit window yield (1-sigma): 0.00 +- 0.00, and full range integral: 0.00\n",
        "(M2HP>8.00; DRTp6thJ>7.60; RelHT>=0.67; |MTHAsym-0.18|<4.00)\n",
        "--------------------------------"
       ]
      },
      {
       "output_type": "stream",
       "stream": "stdout",
       "text": [
        "\n",
        "M=700 GeV ------> Signal fit window yield (1-sigma): 9.12 +- 0.40, and full range integral: 10.72\n",
        "Mean value: 693.03, with sigma: 41.15\n",
        "Chi2=4.81, ndf=3.00, Chi2/ndf=1.60\n",
        "TTbar ------> Signal fit window yield (1-sigma): 8.74 +- 0.83, and full range integral: 23.39\n",
        "QCD ------> Signal fit window yield (1-sigma): 0.00 +- 0.00, and full range integral: 0.00\n",
        "(M2HP>8.00; DRTp6thJ>7.60; RelHT>=0.67; |MTHAsym-0.18|<4.25)\n",
        "--------------------------------"
       ]
      },
      {
       "output_type": "stream",
       "stream": "stdout",
       "text": [
        "\n",
        "M=700 GeV ------> Signal fit window yield (1-sigma): 8.65 +- 0.39, and full range integral: 10.16\n",
        "Mean value: 693.60, with sigma: 41.28\n",
        "Chi2=4.51, ndf=3.00, Chi2/ndf=1.50\n",
        "TTbar ------> Signal fit window yield (1-sigma): 7.48 +- 0.77, and full range integral: 20.56\n",
        "QCD ------> Signal fit window yield (1-sigma): 0.00 +- 0.00, and full range integral: 0.00\n",
        "(M2HP>8.00; DRTp6thJ>7.60; RelHT>=0.67; |MTHAsym-0.18|<4.50)\n",
        "--------------------------------"
       ]
      },
      {
       "output_type": "stream",
       "stream": "stdout",
       "text": [
        "\n",
        "M=700 GeV ------> Signal fit window yield (1-sigma): 8.91 +- 0.39, and full range integral: 10.32\n",
        "Mean value: 693.73, with sigma: 40.09\n",
        "Chi2=6.75, ndf=3.00, Chi2/ndf=2.25\n",
        "TTbar ------> Signal fit window yield (1-sigma): 8.51 +- 0.82, and full range integral: 22.13\n",
        "QCD ------> Signal fit window yield (1-sigma): 0.00 +- 0.00, and full range integral: 0.00\n",
        "(M2HP>8.00; DRTp6thJ>7.60; RelHT>=0.69; |MTHAsym-0.18|<4.00)\n",
        "--------------------------------"
       ]
      },
      {
       "output_type": "stream",
       "stream": "stdout",
       "text": [
        "\n",
        "M=700 GeV ------> Signal fit window yield (1-sigma): 8.63 +- 0.39, and full range integral: 10.04\n",
        "Mean value: 693.47, with sigma: 40.24\n",
        "Chi2=6.04, ndf=3.00, Chi2/ndf=2.01\n",
        "TTbar ------> Signal fit window yield (1-sigma): 7.88 +- 0.79, and full range integral: 20.48\n",
        "QCD ------> Signal fit window yield (1-sigma): 0.00 +- 0.00, and full range integral: 0.00\n",
        "(M2HP>8.00; DRTp6thJ>7.60; RelHT>=0.69; |MTHAsym-0.18|<4.25)\n",
        "--------------------------------"
       ]
      },
      {
       "output_type": "stream",
       "stream": "stdout",
       "text": [
        "\n",
        "M=700 GeV ------> Signal fit window yield (1-sigma): 8.99 +- 0.40, and full range integral: 10.67\n",
        "Mean value: 693.01, with sigma: 41.23\n",
        "Chi2=5.41, ndf=3.00, Chi2/ndf=1.80\n",
        "TTbar ------> Signal fit window yield (1-sigma): 8.35 +- 0.81, and full range integral: 23.63\n",
        "QCD ------> Signal fit window yield (1-sigma): 5.72 +- 5.72, and full range integral: 5.72\n",
        "(M2HP>8.00; DRTp6thJ>7.80; RelHT>=0.63; |MTHAsym-0.18|<4.50)\n",
        "--------------------------------"
       ]
      },
      {
       "output_type": "stream",
       "stream": "stdout",
       "text": [
        "\n",
        "M=700 GeV ------> Signal fit window yield (1-sigma): 8.77 +- 0.39, and full range integral: 10.30\n",
        "Mean value: 693.08, with sigma: 40.61\n",
        "Chi2=5.35, ndf=3.00, Chi2/ndf=1.78\n",
        "TTbar ------> Signal fit window yield (1-sigma): 7.72 +- 0.78, and full range integral: 21.90\n",
        "QCD ------> Signal fit window yield (1-sigma): 5.72 +- 5.72, and full range integral: 5.72\n",
        "(M2HP>8.00; DRTp6thJ>7.80; RelHT>=0.65; |MTHAsym-0.18|<4.50)\n",
        "--------------------------------"
       ]
      },
      {
       "output_type": "stream",
       "stream": "stdout",
       "text": [
        "\n",
        "M=700 GeV ------> Signal fit window yield (1-sigma): 9.13 +- 0.40, and full range integral: 10.71\n",
        "Mean value: 692.86, with sigma: 40.92\n",
        "Chi2=6.72, ndf=3.00, Chi2/ndf=2.24\n",
        "TTbar ------> Signal fit window yield (1-sigma): 8.74 +- 0.83, and full range integral: 23.79\n",
        "QCD ------> Signal fit window yield (1-sigma): 0.00 +- 0.00, and full range integral: 0.00\n",
        "(M2HP>8.00; DRTp6thJ>7.80; RelHT>=0.67; |MTHAsym-0.18|<4.00)\n",
        "--------------------------------"
       ]
      },
      {
       "output_type": "stream",
       "stream": "stdout",
       "text": [
        "\n",
        "M=700 GeV ------> Signal fit window yield (1-sigma): 8.84 +- 0.39, and full range integral: 10.39\n",
        "Mean value: 692.65, with sigma: 41.08\n",
        "Chi2=5.97, ndf=3.00, Chi2/ndf=1.99\n",
        "TTbar ------> Signal fit window yield (1-sigma): 8.19 +- 0.80, and full range integral: 22.21\n",
        "QCD ------> Signal fit window yield (1-sigma): 0.00 +- 0.00, and full range integral: 0.00\n",
        "(M2HP>8.00; DRTp6thJ>7.80; RelHT>=0.67; |MTHAsym-0.18|<4.25)\n",
        "--------------------------------"
       ]
      },
      {
       "output_type": "stream",
       "stream": "stdout",
       "text": [
        "\n",
        "M=700 GeV ------> Signal fit window yield (1-sigma): 8.63 +- 0.39, and full range integral: 10.01\n",
        "Mean value: 693.51, with sigma: 40.19\n",
        "Chi2=7.39, ndf=3.00, Chi2/ndf=2.46\n",
        "TTbar ------> Signal fit window yield (1-sigma): 7.96 +- 0.79, and full range integral: 20.72\n",
        "QCD ------> Signal fit window yield (1-sigma): 0.00 +- 0.00, and full range integral: 0.00\n",
        "(M2HP>8.00; DRTp6thJ>7.80; RelHT>=0.69; |MTHAsym-0.18|<4.00)\n",
        "--------------------------------"
       ]
      },
      {
       "output_type": "stream",
       "stream": "stdout",
       "text": [
        "\n",
        "M=700 GeV ------> Signal fit window yield (1-sigma): 8.73 +- 0.39, and full range integral: 10.36\n",
        "Mean value: 692.87, with sigma: 41.27\n",
        "Chi2=4.80, ndf=3.00, Chi2/ndf=1.60\n",
        "TTbar ------> Signal fit window yield (1-sigma): 8.19 +- 0.80, and full range integral: 23.08\n",
        "QCD ------> Signal fit window yield (1-sigma): 5.72 +- 5.72, and full range integral: 5.72\n",
        "(M2HP>8.00; DRTp6thJ>8.00; RelHT>=0.63; |MTHAsym-0.18|<4.50)\n",
        "--------------------------------"
       ]
      },
      {
       "output_type": "stream",
       "stream": "stdout",
       "text": [
        "\n",
        "M=700 GeV ------> Signal fit window yield (1-sigma): 8.84 +- 0.39, and full range integral: 10.37\n",
        "Mean value: 692.61, with sigma: 41.04\n",
        "Chi2=5.54, ndf=3.00, Chi2/ndf=1.85\n",
        "TTbar ------> Signal fit window yield (1-sigma): 8.51 +- 0.82, and full range integral: 23.08\n",
        "QCD ------> Signal fit window yield (1-sigma): 0.00 +- 0.00, and full range integral: 0.00\n",
        "(M2HP>8.00; DRTp6thJ>8.00; RelHT>=0.67; |MTHAsym-0.18|<4.00)\n",
        "--------------------------------"
       ]
      },
      {
       "output_type": "stream",
       "stream": "stdout",
       "text": [
        "\n",
        "M=700 GeV ------> Signal fit window yield (1-sigma): 8.56 +- 0.39, and full range integral: 10.08\n",
        "Mean value: 692.45, with sigma: 41.16\n",
        "Chi2=4.99, ndf=3.00, Chi2/ndf=1.66\n",
        "TTbar ------> Signal fit window yield (1-sigma): 7.96 +- 0.79, and full range integral: 21.66\n",
        "QCD ------> Signal fit window yield (1-sigma): 0.00 +- 0.00, and full range integral: 0.00\n",
        "(M2HP>8.00; DRTp6thJ>8.00; RelHT>=0.67; |MTHAsym-0.18|<4.25)\n",
        "--------------------------------"
       ]
      },
      {
       "output_type": "stream",
       "stream": "stdout",
       "text": [
        "\n",
        "M=700 GeV ------> Signal fit window yield (1-sigma): 8.52 +- 0.39, and full range integral: 10.10\n",
        "Mean value: 692.35, with sigma: 41.25\n",
        "Chi2=4.89, ndf=3.00, Chi2/ndf=1.63\n",
        "TTbar ------> Signal fit window yield (1-sigma): 8.11 +- 0.80, and full range integral: 21.82\n",
        "QCD ------> Signal fit window yield (1-sigma): 5.72 +- 5.72, and full range integral: 5.72\n",
        "(M2HP>8.00; DRTp6thJ>8.20; RelHT>=0.63; |MTHAsym-0.18|<4.50)\n",
        "--------------------------------"
       ]
      },
      {
       "output_type": "stream",
       "stream": "stdout",
       "text": [
        "\n",
        "M=700 GeV ------> Signal fit window yield (1-sigma): 8.58 +- 0.39, and full range integral: 10.06\n",
        "Mean value: 691.83, with sigma: 40.96\n",
        "Chi2=4.91, ndf=3.00, Chi2/ndf=1.64\n",
        "TTbar ------> Signal fit window yield (1-sigma): 8.35 +- 0.81, and full range integral: 21.90\n",
        "QCD ------> Signal fit window yield (1-sigma): 0.00 +- 0.00, and full range integral: 0.00\n",
        "(M2HP>8.00; DRTp6thJ>8.20; RelHT>=0.67; |MTHAsym-0.18|<4.00)\n",
        "[[[(8.0, 6.2000000000000002, 0.60999999999999999, 5.0), 5.718425273895264], 8.743488669395447, 8.645482897758484], [[(8.0, 6.2000000000000002, 0.63, 4.5), 5.718425273895264], 12.603226661682129, 10.70642614364624], [[(8.0, 6.2000000000000002, 0.63, 4.75), 5.718425273895264], 10.240121841430664, 9.55369520187378], [[(8.0, 6.2000000000000002, 0.64999999999999991, 4.5), 5.718425273895264], 11.81552505493164, 10.479373097419739], [[(8.0, 6.2000000000000002, 0.64999999999999991, 4.75), 5.718425273895264], 9.688730716705322, 9.344107627868652], [[(8.0, 6.2000000000000002, 0.66999999999999993, 4.0), 0.0], 13.942319631576538, 11.317722916603088], [[(8.0, 6.2000000000000002, 0.66999999999999993, 4.25), 0.0], 12.603226661682129, 10.79375410079956], [[(8.0, 6.2000000000000002, 0.66999999999999993, 4.5), 0.0], 10.791512966156006, 10.077663898468018], [[(8.0, 6.2000000000000002, 0.66999999999999993, 4.75), 0.0], 8.822258830070496, 9.012260794639587], [[(8.0, 6.2000000000000002, 0.68999999999999995, 4.0), 0.0], 13.075847625732422, 10.654029369354248], [[(8.0, 6.2000000000000002, 0.68999999999999995, 4.25), 0.0], 11.736754894256592, 10.182457566261292], [[(8.0, 6.2000000000000002, 0.68999999999999995, 4.5), 0.0], 10.082581520080566, 9.571160793304443], [[(8.0, 6.2000000000000002, 0.68999999999999995, 4.75), 0.0], 8.192097425460815, 8.62801706790924], [[(8.0, 6.2000000000000002, 0.70999999999999996, 4.0), 0.0], 11.106593608856201, 9.780748128890991], [[(8.0, 6.2000000000000002, 0.70999999999999996, 4.25), 0.0], 10.003811359405518, 9.37903881072998], [[(8.0, 6.2000000000000002, 0.70999999999999996, 4.5), 0.0], 8.50717830657959, 8.907467126846313], [[(8.0, 6.2000000000000002, 0.72999999999999998, 4.0), 0.0], 8.743488550186157, 8.89000153541565], [[(8.0, 6.4000000000000004, 0.60999999999999999, 5.0), 5.718425273895264], 8.270867705345154, 8.523223519325256], [[(8.0, 6.4000000000000004, 0.63, 4.5), 5.718425273895264], 12.051835536956787, 10.549235701560974], [[(8.0, 6.4000000000000004, 0.63, 4.75), 5.718425273895264], 9.767500877380371, 9.396504521369934], [[(8.0, 6.4000000000000004, 0.64999999999999991, 4.5), 5.718425273895264], 11.342904090881348, 10.322182416915894], [[(8.0, 6.4000000000000004, 0.64999999999999991, 4.75), 5.718425273895264], 9.21610975265503, 9.186917066574097], [[(8.0, 6.4000000000000004, 0.66999999999999993, 4.0), 0.0], 13.23338794708252, 11.090669870376587], [[(8.0, 6.4000000000000004, 0.66999999999999993, 4.25), 0.0], 12.130605697631836, 10.584166884422302], [[(8.0, 6.4000000000000004, 0.66999999999999993, 4.5), 0.0], 10.318892002105713, 9.920473217964172], [[(8.0, 6.4000000000000004, 0.66999999999999993, 4.75), 0.0], 8.349637866020203, 8.855070352554321], [[(8.0, 6.4000000000000004, 0.68999999999999995, 4.0), 0.0], 12.366916179656982, 10.44444215297699], [[(8.0, 6.4000000000000004, 0.68999999999999995, 4.25), 0.0], 11.264133930206299, 9.990335702896118], [[(8.0, 6.4000000000000004, 0.68999999999999995, 4.5), 0.0], 9.609960556030273, 9.431435823440552], [[(8.0, 6.4000000000000004, 0.70999999999999996, 4.0), 0.0], 10.633972644805908, 9.571160912513733], [[(8.0, 6.4000000000000004, 0.70999999999999996, 4.25), 0.0], 9.688730716705322, 9.186916947364807], [[(8.0, 6.4000000000000004, 0.70999999999999996, 4.5), 0.0], 8.192097544670105, 8.767742276191711], [[(8.0, 6.5999999999999996, 0.63, 4.5), 5.718425273895264], 11.500444412231445, 10.3571138381958], [[(8.0, 6.5999999999999996, 0.63, 4.75), 5.718425273895264], 9.373650074005127, 9.256779432296753], [[(8.0, 6.5999999999999996, 0.64999999999999991, 4.5), 5.718425273895264], 10.791512966156006, 10.13006067276001], [[(8.0, 6.5999999999999996, 0.64999999999999991, 4.75), 5.718425273895264], 8.822258949279785, 9.047192096710205], [[(8.0, 6.5999999999999996, 0.66999999999999993, 4.0), 0.0], 12.445686340332031, 10.758823037147522], [[(8.0, 6.5999999999999996, 0.66999999999999993, 4.25), 0.0], 11.421674251556396, 10.339648008346558], [[(8.0, 6.5999999999999996, 0.66999999999999993, 4.5), 0.0], 9.767500877380371, 9.72835123538971], [[(8.0, 6.5999999999999996, 0.66999999999999993, 4.75), 0.0], 7.9557870626449585, 8.71534550189972], [[(8.0, 6.5999999999999996, 0.68999999999999995, 4.0), 0.0], 11.579214572906494, 10.13006067276001], [[(8.0, 6.5999999999999996, 0.68999999999999995, 4.25), 0.0], 10.55520248413086, 9.745816946029663], [[(8.0, 6.5999999999999996, 0.68999999999999995, 4.5), 0.0], 9.058569431304932, 9.239313960075378], [[(8.0, 6.5999999999999996, 0.70999999999999996, 4.0), 0.0], 9.84627103805542, 9.274245142936707], [[(8.0, 6.5999999999999996, 0.70999999999999996, 4.25), 0.0], 8.979799270629883, 8.94239854812622], [[(8.0, 6.7999999999999998, 0.63, 4.5), 5.718425273895264], 10.712742805480957, 10.234854340553284], [[(8.0, 6.7999999999999998, 0.63, 4.75), 5.718425273895264], 8.743488669395447, 9.151985883712769], [[(8.0, 6.7999999999999998, 0.64999999999999991, 4.5), 5.718425273895264], 10.003811240196228, 10.007801294326782], [[(8.0, 6.7999999999999998, 0.64999999999999991, 4.75), 5.718425273895264], 8.192097425460815, 8.942398190498352], [[(8.0, 6.7999999999999998, 0.66999999999999993, 4.0), 0.0], 11.657984733581543, 10.601632475852966], [[(8.0, 6.7999999999999998, 0.66999999999999993, 4.25), 0.0], 10.712742805480957, 10.199923038482666], [[(8.0, 6.7999999999999998, 0.66999999999999993, 4.5), 0.0], 9.058569312095642, 9.606092095375061], [[(8.0, 6.7999999999999998, 0.66999999999999993, 4.75), 0.0], 7.404395699501038, 8.610551476478577], [[(8.0, 6.7999999999999998, 0.68999999999999995, 4.0), 0.0], 10.791512966156006, 9.972870111465454], [[(8.0, 6.7999999999999998, 0.68999999999999995, 4.25), 0.0], 9.84627103805542, 9.606092095375061], [[(8.0, 6.7999999999999998, 0.68999999999999995, 4.5), 0.0], 8.349637866020203, 9.11705470085144], [[(8.0, 6.7999999999999998, 0.70999999999999996, 4.0), 0.0], 9.21610963344574, 9.134520292282104], [[(8.0, 6.7999999999999998, 0.70999999999999996, 4.25), 0.0], 8.428407788276672, 8.820139169692993], [[(8.0, 7.0, 0.63, 4.5), 5.718425273895264], 10.397662162780762, 9.972870111465454], [[(8.0, 7.0, 0.63, 4.75), 5.718425273895264], 8.50717806816101, 8.924932599067688], [[(8.0, 7.0, 0.64999999999999991, 4.5), 5.718425273895264], 9.688730597496033, 9.745816946029663], [[(8.0, 7.0, 0.64999999999999991, 4.75), 5.718425273895264], 7.955786943435669, 8.71534526348114], [[(8.0, 7.0, 0.66999999999999993, 4.0), 0.0], 11.106593608856201, 10.322182536125183], [[(8.0, 7.0, 0.66999999999999993, 4.25), 0.0], 10.240121841430664, 9.937938570976257], [[(8.0, 7.0, 0.66999999999999993, 4.5), 0.0], 8.743488550186157, 9.344107627868652], [[(8.0, 7.0, 0.68999999999999995, 4.0), 0.0], 10.240121841430664, 9.710885643959045], [[(8.0, 7.0, 0.68999999999999995, 4.25), 0.0], 9.373650074005127, 9.361573219299316], [[(8.0, 7.0, 0.68999999999999995, 4.5), 0.0], 8.034557104110718, 8.872535943984985], [[(8.0, 7.0, 0.70999999999999996, 4.0), 0.0], 8.664718508720398, 8.907467126846313], [[(8.0, 7.1999999999999993, 0.63, 4.5), 5.718425273895264], 10.082581520080566, 9.72835123538971], [[(8.0, 7.1999999999999993, 0.63, 4.75), 5.718425273895264], 8.192097425460815, 8.732811093330383], [[(8.0, 7.1999999999999993, 0.64999999999999991, 4.5), 5.718425273895264], 9.452420115470886, 9.501298189163208], [[(8.0, 7.1999999999999993, 0.64999999999999991, 4.75), 5.718425273895264], 7.7194764614105225, 8.523223400115967], [[(8.0, 7.1999999999999993, 0.66999999999999993, 4.0), 0.0], 10.712742805480957, 10.025266885757446], [[(8.0, 7.1999999999999993, 0.66999999999999993, 4.25), 0.0], 9.925041198730469, 9.658488869667053], [[(8.0, 7.1999999999999993, 0.66999999999999993, 4.5), 0.0], 8.50717806816101, 9.099588990211487], [[(8.0, 7.1999999999999993, 0.68999999999999995, 4.0), 0.0], 9.84627103805542, 9.431435823440552], [[(8.0, 7.1999999999999993, 0.68999999999999995, 4.25), 0.0], 9.058569312095642, 9.099588990211487], [[(8.0, 7.1999999999999993, 0.68999999999999995, 4.5), 0.0], 7.798246622085571, 8.645482897758484], [[(8.0, 7.3999999999999995, 0.63, 4.5), 5.718425273895264], 9.294879913330078, 9.501298546791077], [[(8.0, 7.3999999999999995, 0.63, 4.75), 5.718425273895264], 7.483165740966797, 8.54068899154663], [[(8.0, 7.3999999999999995, 0.64999999999999991, 4.5), 5.718425273895264], 8.664718508720398, 9.274245262145996], [[(8.0, 7.3999999999999995, 0.66999999999999993, 4.0), 0.0], 9.84627091884613, 9.763282537460327], [[(8.0, 7.3999999999999995, 0.66999999999999993, 4.25), 0.0], 9.137339472770691, 9.413970232009888], [[(8.0, 7.3999999999999995, 0.66999999999999993, 4.5), 0.0], 7.719476342201233, 8.872535943984985], [[(8.0, 7.3999999999999995, 0.68999999999999995, 4.0), 0.0], 8.979799151420593, 9.221848368644714], [[(8.0, 7.3999999999999995, 0.68999999999999995, 4.25), 0.0], 8.270867705345154, 8.907467246055603], [[(8.0, 7.5999999999999996, 0.63, 4.5), 5.718425273895264], 8.979799270629883, 9.274245142936707], [[(8.0, 7.5999999999999996, 0.64999999999999991, 4.5), 5.718425273895264], 8.349637746810913, 9.047191977500916], [[(8.0, 7.5999999999999996, 0.66999999999999993, 4.0), 0.0], 9.373649954795837, 9.431435823440552], [[(8.0, 7.5999999999999996, 0.66999999999999993, 4.25), 0.0], 8.743488669395447, 9.117054462432861], [[(8.0, 7.5999999999999996, 0.66999999999999993, 4.5), 0.0], 7.483165860176086, 8.645482778549194], [[(8.0, 7.5999999999999996, 0.68999999999999995, 4.0), 0.0], 8.5071781873703, 8.907467126846313], [[(8.0, 7.5999999999999996, 0.68999999999999995, 4.25), 0.0], 7.87701690196991, 8.628016948699951], [[(8.0, 7.7999999999999989, 0.63, 4.5), 5.718425273895264], 8.349637746810913, 8.994795203208923], [[(8.0, 7.7999999999999989, 0.64999999999999991, 4.5), 5.718425273895264], 7.719476342201233, 8.767742037773132], [[(8.0, 7.7999999999999989, 0.66999999999999993, 4.0), 0.0], 8.743488669395447, 9.134520173072815], [[(8.0, 7.7999999999999989, 0.66999999999999993, 4.25), 0.0], 8.192097544670105, 8.837604641914368], [[(8.0, 7.7999999999999989, 0.68999999999999995, 4.0), 0.0], 7.9557870626449585, 8.62801718711853], [[(8.0, 7.9999999999999991, 0.63, 4.5), 5.718425273895264], 8.192097425460815, 8.732811093330383], [[(8.0, 7.9999999999999991, 0.66999999999999993, 4.0), 0.0], 8.5071781873703, 8.837604761123657], [[(8.0, 7.9999999999999991, 0.66999999999999993, 4.25), 0.0], 7.9557870626449585, 8.558154702186584], [[(8.0, 8.1999999999999993, 0.63, 4.5), 5.718425273895264], 8.113327264785767, 8.523223280906677], [[(8.0, 8.1999999999999993, 0.66999999999999993, 4.0), 0.0], 8.349637866020203, 8.575620412826538]]"
       ]
      },
      {
       "output_type": "stream",
       "stream": "stdout",
       "text": [
        "\n"
       ]
      }
     ],
     "prompt_number": 23
    },
    {
     "cell_type": "code",
     "collapsed": false,
     "input": [
      "#Finding best cuts\n",
      "SoB=np.array(SoB); QCD_B=np.array(QCD_B)\n",
      "FullDiscr=SoB-QCD_B\n",
      "print \"Maximum S/B: {0:.2f}, Arg: {1:.0f}, Cut:{2:.1f}, {3:.1f}, {4:.2f}, {5:.2f}\".format(max(SoB), SoB.argmax(), CutsValues[SoB.argmax()][0], CutsValues[SoB.argmax()][1], CutsValues[SoB.argmax()][2], CutsValues[SoB.argmax()][3])\n",
      "print \"Minimum QCD: {0:.2f}, Arg: {1:.0f}, Cut:{2:.1f}, {3:.1f}, {4:.2f}, {5:.2f}\".format(min(QCD_B), QCD_B.argmin(), CutsValues[QCD_B.argmax()][0], CutsValues[QCD_B.argmax()][1], CutsValues[QCD_B.argmax()][2], CutsValues[QCD_B.argmax()][3])\n",
      "print \"Maximum S/B considering QCD: {0:.2f}, Arg: {1:.0f}, Cut:{2:.1f}, {3:.2f}, {4:.2f}, {5:.2f}\".format(max(FullDiscr), FullDiscr.argmax(), CutsValues[FullDiscr.argmax()][0], CutsValues[FullDiscr.argmax()][1], CutsValues[FullDiscr.argmax()][2], CutsValues[FullDiscr.argmax()][3])"
     ],
     "language": "python",
     "metadata": {},
     "outputs": [
      {
       "output_type": "stream",
       "stream": "stdout",
       "text": [
        "Maximum S/B: 1.16, Arg: 52, Cut:8.0, 6.8, 0.67, 4.75\n",
        "Minimum QCD: 0.00, Arg: 7, Cut:8.0, 6.2, 0.61, 5.00\n",
        "Maximum S/B considering QCD: 1.16, Arg: 52, Cut:8.0, 6.80, 0.67, 4.75\n"
       ]
      }
     ],
     "prompt_number": 24
    },
    {
     "cell_type": "code",
     "collapsed": false,
     "input": [
      "HTCut = ROOT.TCut(\"THT>550\") #Cut on HT\n",
      "chi2Cut = ROOT.TCut(\"chi2<8\")\n",
      "\n",
      "CutM2HPCLs=ROOT.TCut(\"M2HP>6.8\")\n",
      "CutRelHTCLs=ROOT.TCut(\"RelHT>=0.67\") #\"TMath::Abs(Eta6thJ)>\",\n",
      "CutDRTp6thJCLs=ROOT.TCut(\"DRTp6thJ>4.8\")\n",
      "#Eta6thJCLs=ROOT.TCut(\"TMath::Abs(Eta6thJ)>1.0\")\n",
      "MTHAsymWin=\"0.50\"; MTHAsymMean=\"0.17\"\n",
      "CutMTHAsymCLs=ROOT.TCut(\"MTHAsym>=(\"+MTHAsymMean+\"-\"+MTHAsymWin+\") && MTHAsym<=(\"+MTHAsymMean+\"+\"+MTHAsymWin+\")\")\n",
      "CutsFromCLs=[ROOT.TCut(\"\")*HTCut,chi2Cut,CutDRbb,CutDRWH,CutHM,CutM2HPCLs,CutDRTp6thJCLs,CutRelHTCLs,CutMTHAsymCLs]\n",
      "#CutsFromCLs=[ROOT.TCut(\"\"),Cut1,CutDRbb,CutDRWH,CutM2HPCLs,Eta6thJCLs,CutHM,CutRelHTCLs,CutMTHAsymCLs]\n",
      "\n",
      "OptVersion=\"_chi2l8_CorrBin_Nm1_NewCutFlowReOpt\""
     ],
     "language": "python",
     "metadata": {},
     "outputs": [],
     "prompt_number": 3
    },
    {
     "cell_type": "code",
     "collapsed": false,
     "input": [
      "#OptVersion=\"_whitout_chi2_CorrBin_Nm1\"\n",
      "\n",
      "CumulCut=ROOT.TCut(\"\")\n",
      "\n",
      "Nm1 = ROOT.TFile(\"Nminus1_Final_HTg550_\"+OptVersion+\".root\", \"recreate\")\n",
      "\n",
      "SignalEntriesE=[]; TTbarEntriesE=[]; QCDEntriesE=[]\n",
      "S=[]; B=[]; ES=[]; EB=[]\n",
      "\n",
      "PDFName=\"Nminus1_HTg550_\"+OptVersion+\".pdf\"\n",
      "#CurCanv = rootnotes.canvas(\"MyPlot\", (600, 800))\n",
      "Titles=[\"Base\",\"HT\", \"DRbb\", \"DRWH\", \"M2HP\", \"DRTp6thJ\", \"HiggsMass\", \"RelHT\", \"MTHAsym\"]\n",
      "Variables=[\"THT\",\"DRHJ\",\"DRWH\",\"M2HP\",\"DRTp6thJ\",\"HM\",\"RelHT\",\"MTHAsym\"]\n",
      "BinsLimitsVariables=[\"(40,400,1600)\",\"(38,0.5,10)\",\"(38,0.5,10)\",\"(20,0.0,10.0)\",\"(19,0.5,10)\",\"(20,40,300)\",\"(20,0.0,1.0)\",\"(40,-0.5,1.5)\"]\n",
      "VarUnits=[\"GeV/c\",\"\",\"\",\"\",\"\",\"GeV/c^{2}\",\"\",\"\"]\n",
      "VarXaxis=[\"H_{T}\",\"#Delta R(bb)\",\"#Delta R(WH)\",\"(M(top^{2nd})+M(W^{2nd})/M(H)\",\"#Delta R(T j^{6th})\",\"M(H)\",\"(p_{T}(H)+p_{T}(top))/H_{T}\",\"(M(top)-M(H))/(M(top)+M(H))\"]\n",
      "\n",
      "BinsLimits=\"(40,400,1600)\"\n",
      "\n",
      "for i in xrange(len(CutsFromCLs)):\n",
      "    CumulCut=CumulCut*CutsFromCLs[i]\n",
      "    \n",
      "    NMassPointsA[2].Draw(\"M5J >> M5jS_Cut\"+str(i)+BinsLimits,CumulCut)\n",
      "    M5JHS=ROOT.gDirectory.Get(\"M5jS_Cut\"+str(i))\n",
      "    M5JHS.Sumw2(); M5JHS.Scale(SWeight); M5JHS.Write()\n",
      "    \n",
      "    f1=ROOT.TF1(\"f1\",\"gaus\",600,800)\n",
      "    M5JHS.Fit(\"f1\",\"LMR\",\"same\")\n",
      "    MassPoint=f1.GetParameter(1); win=f1.GetParameter(2)\n",
      "    Chi2=f1.GetChisquare(); NDF=f1.GetNDF()\n",
      "    window_error=ROOT.Double(0.)\n",
      "    integral=M5JHS.IntegralAndError(M5JHS.GetXaxis().FindBin(MassPoint-win),M5JHS.GetXaxis().FindBin(MassPoint+win),window_error)\n",
      "    S.append(integral); ES.append(window_error)\n",
      "        \n",
      "    TntupleA.Draw(\"M5J >> M5jT_Cut\"+str(i)+BinsLimits,CumulCut)\n",
      "    M5JHT=ROOT.gDirectory.Get(\"M5jT_Cut\"+str(i))\n",
      "    M5JHT.Sumw2(); M5JHT.Scale(TWeight); M5JHT.Write()\n",
      "    Twindow_error=ROOT.Double(0.)\n",
      "    bkg_integralT=M5JHT.IntegralAndError(M5JHT.GetXaxis().FindBin(MassPoint-win),M5JHT.GetXaxis().FindBin(MassPoint+win),Twindow_error)\n",
      "        \n",
      "    QntuplesA[0].Draw(\"M5J >> M5jQ_Cut\"+str(i)+BinsLimits,CumulCut)\n",
      "    M5JHQ=ROOT.gDirectory.Get(\"M5jQ_Cut\"+str(i))\n",
      "    M5JHQ.Sumw2(); M5JHQ.Scale(Q500Weight); M5JHQ.Write()\n",
      "    Qwindow_error=ROOT.Double(0.)\n",
      "    bkg_integralQ=M5JHQ.IntegralAndError(M5JHQ.GetXaxis().FindBin(MassPoint-win),M5JHQ.GetXaxis().FindBin(MassPoint+win),Qwindow_error)\n",
      "    B.append(bkg_integralT+bkg_integralQ); EB.append(Twindow_error+Qwindow_error)\n",
      "        \n",
      "    M5JHQ.SetStats(ROOT.kFALSE)\n",
      "    M5JHQ.SetLineStyle(7); M5JHT.SetLineStyle(9); M5JHS.SetLineStyle(1)\n",
      "    M5JHQ.SetLineWidth(2); M5JHT.SetLineWidth(1); M5JHS.SetLineWidth(3)\n",
      "    M5JHQ.SetLineColor(ROOT.kViolet+1); M5JHT.SetLineColor(ROOT.kRed); M5JHS.SetLineColor(ROOT.kGreen+1)\n",
      "    LEG=ROOT.TLegend(0.6,0.6,0.9,0.9); LEG.SetEntrySeparation(0.001); LEG.SetTextSize(0.0125)\n",
      "    LEG.AddEntry(M5JHQ, \"QCD W={0:.2f}\".format(Q500Weight), \"l\"); LEG.AddEntry(ROOT.TObject(), GetMR(M5JHQ), \"\"); LEG.AddEntry(ROOT.TObject(), GetEWI(M5JHQ), \"\")\n",
      "    LEG.AddEntry(M5JHT, \"TTbar W={0:.2f}\".format(TWeight), \"l\"); LEG.AddEntry(ROOT.TObject(), GetMR(M5JHT), \"\"); LEG.AddEntry(ROOT.TObject(), GetEWI(M5JHT), \"\")\n",
      "    LEG.AddEntry(M5JHS, \"Signal W={0:.2f}\".format(SWeight), \"l\"); LEG.AddEntry(ROOT.TObject(), GetMR(M5JHS), \"\"); LEG.AddEntry(ROOT.TObject(), GetEWI(M5JHS), \"\")\n",
      "    LEG.SetFillColor(0)\n",
      "    MinX=float(BinsLimits.split(\",\")[1])\n",
      "    MaxX=float(BinsLimits.split(\",\")[-1][0:-1])\n",
      "    Nbins=int(BinsLimits.split(\",\")[0][1:])\n",
      "    M5JHQ.SetTitle(\";M_{{5j}};Events/{0:.1f} GeV/c^{{2}}\".format((MaxX-MinX)/Nbins))\n",
      "    M5JHQ.GetYaxis().SetTitleOffset(1.65)\n",
      "    CurCanv = rootnotes.canvas(\"MyPlot\", (600, 800)); CurCanv.cd(1)\n",
      "    Pad1=ROOT.TPad(\"pad1\",\"pad1\",0,0,1,1); Pad1.SetBottomMargin(0.1); Pad1.SetLeftMargin(0.16); Pad1.Draw(); Pad1.cd()\n",
      "    if i<=3: M5JHQ.GetYaxis().SetNoExponent(ROOT.kTRUE); M5JHQ.SetMinimum(0.01); Pad1.SetLogy()\n",
      "    else: Pad1.SetLogy(0); M5JHQ.SetMinimum(0.0)\n",
      "    MaxQ=M5JHQ.GetMaximum(); MaxT=M5JHT.GetMaximum(); MaxS=M5JHS.GetMaximum(); M5JHQ.SetMaximum(1.05*max([MaxQ,MaxT,MaxS]))\n",
      "    M5JHQ.Draw(\"hist\"); M5JHT.Draw(\"hist same\"); M5JHS.Draw(\"hist same\"); LEG.Draw()\n",
      "    \n",
      "    if i==0: CurCanv.Print(PDFName+\"(\",\"Title:\"+Titles[i])\n",
      "    elif i<=len(CutsFromCLs)-2 and i>0: CurCanv.Print(PDFName,\"Title:\"+Titles[i])\n",
      "    #else: CurCanv.Print(PDFName+\")\",\"Title:\"+Titles[i])\n",
      "\n",
      "    #SignalHistos=[]; TTbarHistos=[]; QCDHistos=[]\n",
      "    for j in xrange(len(Variables)):\n",
      "        del(CurCanv); CurCanv = rootnotes.canvas(\"MyPlot\", (600, 800)); CurCanv.cd(1)\n",
      "        Pad1=ROOT.TPad(\"pad1\",\"pad1\",0,0,1,1); Pad1.SetBottomMargin(0.1); Pad1.SetLeftMargin(0.16); Pad1.Draw(); Pad1.cd()\n",
      "        NMassPointsA[2].Draw(Variables[j]+\" >> \"+Variables[j]+\"S_Cut\"+str(i)+BinsLimitsVariables[j],CumulCut)\n",
      "        SignalHistos=ROOT.gDirectory.Get(Variables[j]+\"S_Cut\"+str(i))\n",
      "        SignalHistos.Sumw2(); SignalHistos.Scale(SWeight); SignalHistos.Write()\n",
      "        TntupleA.Draw(Variables[j]+\" >> \"+Variables[j]+\"T_Cut\"+str(i)+BinsLimitsVariables[j],CumulCut)\n",
      "        TTbarHistos=ROOT.gDirectory.Get(Variables[j]+\"T_Cut\"+str(i))\n",
      "        TTbarHistos.Sumw2(); TTbarHistos.Scale(TWeight); TTbarHistos.Write()\n",
      "        QntuplesA[0].Draw(Variables[j]+\" >> \"+Variables[j]+\"Q_Cut\"+str(i)+BinsLimitsVariables[j],CumulCut)\n",
      "        QCDHistos=ROOT.gDirectory.Get(Variables[j]+\"Q_Cut\"+str(i))\n",
      "        QCDHistos.Sumw2(); QCDHistos.Scale(Q500Weight); QCDHistos.Write()\n",
      "        \n",
      "        QCDHistos.SetStats(ROOT.kFALSE)\n",
      "        QCDHistos.SetLineStyle(7); TTbarHistos.SetLineStyle(9); SignalHistos.SetLineStyle(1)\n",
      "        QCDHistos.SetLineWidth(2); TTbarHistos.SetLineWidth(1); SignalHistos.SetLineWidth(3)\n",
      "        QCDHistos.SetLineColor(ROOT.kViolet+1); TTbarHistos.SetLineColor(ROOT.kRed); SignalHistos.SetLineColor(ROOT.kGreen+1)\n",
      "        LEG=ROOT.TLegend(0.6,0.6,0.9,0.9); LEG.SetEntrySeparation(0.001); LEG.SetTextSize(0.0125)\n",
      "        LEG.AddEntry(QCDHistos, \"QCD W={0:.2f}\".format(Q500Weight), \"l\"); LEG.AddEntry(ROOT.TObject(), GetMR(QCDHistos), \"\"); LEG.AddEntry(ROOT.TObject(), GetEWI(QCDHistos), \"\")\n",
      "        LEG.AddEntry(TTbarHistos, \"TTbar W={0:.2f}\".format(TWeight), \"l\"); LEG.AddEntry(ROOT.TObject(), GetMR(TTbarHistos), \"\"); LEG.AddEntry(ROOT.TObject(), GetEWI(TTbarHistos), \"\")\n",
      "        LEG.AddEntry(SignalHistos, \"Signal W={0:.2f}\".format(SWeight), \"l\"); LEG.AddEntry(ROOT.TObject(), GetMR(SignalHistos), \"\"); LEG.AddEntry(ROOT.TObject(), GetEWI(SignalHistos), \"\")\n",
      "        LEG.SetFillColor(0)\n",
      "        MinX=float(BinsLimitsVariables[j].split(\",\")[1])\n",
      "        MaxX=float(BinsLimitsVariables[j].split(\",\")[-1][0:-1])\n",
      "        Nbins=int(BinsLimitsVariables[j].split(\",\")[0][1:])\n",
      "        QCDHistos.SetTitle(\";\"+VarXaxis[j]+\";Events/{0:.1f} \".format((MaxX-MinX)/Nbins)+VarUnits[j])\n",
      "        QCDHistos.GetYaxis().SetTitleOffset(1.65)\n",
      "        if i<=3: QCDHistos.GetYaxis().SetNoExponent(ROOT.kTRUE); QCDHistos.SetMinimum(0.01); Pad1.SetLogy()\n",
      "        else: Pad1.SetLogy(0); QCDHistos.SetMinimum(0.0)\n",
      "        MaxQ=QCDHistos.GetMaximum(); MaxT=TTbarHistos.GetMaximum(); MaxS=SignalHistos.GetMaximum(); QCDHistos.SetMaximum(1.05*max([MaxQ,MaxT,MaxS]))\n",
      "        QCDHistos.Draw(\"hist\"); TTbarHistos.Draw(\"hist same\"); SignalHistos.Draw(\"hist same\"); LEG.Draw()\n",
      "        if i==len(CutsFromCLs)-1 and j==len(Variables)-1: CurCanv.Print(PDFName+\")\",\"Title:\"+Titles[i]+Variables[j])\n",
      "        else: CurCanv.Print(PDFName,\"Title:\"+Titles[i]+Variables[j])\n",
      "        del(SignalHistos); del(TTbarHistos); del(QCDHistos)\n",
      "        \n",
      "    del(CurCanv)\n",
      "    SignalEntriesE.append(M5JHS.GetEntries()); TTbarEntriesE.append(M5JHT.GetEntries()); QCDEntriesE.append(M5JHQ.GetEntries())\n",
      "\n",
      "Nm1.Close()\n",
      "ROOT.gDirectory.Clear()\n",
      "\n",
      "print \"------------------------------------------------------\"\n",
      "print \"----------------------Efficiencies--------------------\"\n",
      "print \"------------Signal------TTbar-------QCD---------------\"\n",
      "    \n",
      "for i in xrange(len(TTbarEntriesE)-1):\n",
      "    print \"Cut\"+str(i+1)+\":    {0:.2f}+-{1:.2f}  {2:.2f}+-{3:.2f}  {4:.2f}+-{5:.2f}\".format(\n",
      "                                           100*EffV(SignalEntriesE[i+1],SignalEntriesE[i]),\n",
      "                                           100*DivE(SignalEntriesE[i+1],SignalEntriesE[i],np.sqrt(SignalEntriesE[i+1]),np.sqrt(SignalEntriesE[i])),\n",
      "                                           100*EffV(TTbarEntriesE[i+1],TTbarEntriesE[i]),\n",
      "                                           100*DivE(TTbarEntriesE[i+1],TTbarEntriesE[i],np.sqrt(TTbarEntriesE[i+1]),np.sqrt(TTbarEntriesE[i])),\n",
      "                                           100*EffV(QCDEntriesE[i+1],QCDEntriesE[i]),\n",
      "                                           100*DivE(QCDEntriesE[i+1],QCDEntriesE[i],np.sqrt(QCDEntriesE[i+1]),np.sqrt(QCDEntriesE[i]))) \n",
      "\n",
      "print \"------------------------------------------------------\"\n",
      "print \"-----------------------Estimators---------------------\"\n",
      "print \"---------------S/B----------S/sqrt(S/B)---------------\"\n",
      "\n",
      "for i in xrange(len(TTbarEntriesE)):\n",
      "    print \"Cut\"+str(i+1)+\":     {0:.2e}+-{1:.2e}      {2:.2e}+-{3:.2e}\".format(S[i]/B[i],\n",
      "                                           DivE(S[i],B[i],ES[i],EB[i]),\n",
      "                                           S[i]/np.sqrt(S[i]+B[i]),\n",
      "                                           DivE(S[i],np.sqrt(S[i]+B[i]),ES[i],SqrtE(S[i]+B[i],ES[i]+EB[i])))\n",
      "\n",
      "print \"------------------------------------------------------\"\n",
      "print \"-------------------------Yields-----------------------\"\n",
      "print \"------------Signal------TTbar-------QCD---------------\"\n",
      "\n",
      "for i in xrange(len(TTbarEntriesE)):\n",
      "    print \"Cut\"+str(i+1)+\":    {0:.2f}+-{1:.2f}  {2:.2f}+-{3:.2f}  {4:.2f}+-{5:.2f}\".format(SignalEntriesE[i]*SWeight,\n",
      "                                           np.sqrt(SignalEntriesE[i])*SWeight,\n",
      "                                           TTbarEntriesE[i]*TWeight,\n",
      "                                           np.sqrt(TTbarEntriesE[i])*TWeight,\n",
      "                                           QCDEntriesE[i]*Q500Weight,\n",
      "                                           np.sqrt(QCDEntriesE[i])*Q500Weight)"
     ],
     "language": "python",
     "metadata": {},
     "outputs": [
      {
       "output_type": "stream",
       "stream": "stdout",
       "text": [
        "------------------------------------------------------\n",
        "----------------------Efficiencies--------------------\n",
        "------------Signal------TTbar-------QCD---------------\n",
        "Cut1:    48.36+-1.72  33.23+-0.24  9.53+-0.54\n",
        "Cut2:    91.15+-3.92  40.45+-0.48  37.07+-4.27\n",
        "Cut3:    98.35+-4.35  89.48+-1.32  81.54+-12.31\n",
        "Cut4:    88.85+-4.07  72.84+-1.20  71.70+-12.40\n",
        "Cut5:    63.19+-3.36  27.62+-0.71  55.26+-12.14\n",
        "Cut6:    56.33+-3.89  12.46+-0.81  7.94+-4.55\n",
        "Cut7:    89.24+-7.26  59.91+-6.59  0.00+-0.00\n",
        "Cut8:    100.00+-8.36  100.00+-12.40  0.00+-0.00\n",
        "------------------------------------------------------\n",
        "-----------------------Estimators---------------------\n",
        "---------------S/B----------S/sqrt(S/B)---------------\n",
        "Cut1:     4.59e-03+-1.84e-04      4.74e-01+-1.40e-02\n",
        "Cut2:     3.40e-02+-2.85e-03      9.63e-01+-5.18e-02\n",
        "Cut3:     4.76e-02+-4.52e-03      1.10e+00+-6.52e-02\n",
        "Cut4:     4.82e-02+-4.59e-03      1.10e+00+-6.56e-02\n",
        "Cut5:     6.38e-02+-6.81e-03      1.21e+00+-7.90e-02\n",
        "Cut6:     1.51e-01+-3.24e-02      1.45e+00+-1.65e-01\n",
        "Cut7:     4.21e-01+-1.89e-01      1.66e+00+-3.20e-01\n",
        "Cut8:     1.16e+00+-1.73e-01      2.13e+00+-1.74e-01\n",
        "Cut9:     1.16e+00+-1.73e-01      2.13e+00+-1.74e-01\n",
        "------------------------------------------------------\n",
        "-------------------------Yields-----------------------\n",
        "------------Signal------TTbar-------QCD---------------\n",
        "Cut1:    81.65+-1.19  11341.64+-29.89  31577.15+-424.94\n",
        "Cut2:    39.49+-0.83  3768.36+-17.23  3007.89+-131.15\n",
        "Cut3:    36.00+-0.79  1524.20+-10.96  1115.09+-79.85\n",
        "Cut4:    35.40+-0.79  1363.91+-10.37  909.23+-72.11\n",
        "Cut5:    31.46+-0.74  993.45+-8.85  651.90+-61.06\n",
        "Cut6:    19.88+-0.59  274.44+-4.65  360.26+-45.39\n",
        "Cut7:    11.20+-0.44  34.19+-1.64  28.59+-12.79\n",
        "Cut8:    9.99+-0.42  20.48+-1.27  0.00+-0.00\n",
        "Cut9:    9.99+-0.42  20.48+-1.27  0.00+-0.00\n"
       ]
      }
     ],
     "prompt_number": 4
    },
    {
     "cell_type": "heading",
     "level": 2,
     "metadata": {},
     "source": [
      "HT Cut Study"
     ]
    },
    {
     "cell_type": "code",
     "collapsed": false,
     "input": [
      "#HT CUT at the end of selection\n",
      "#HTCut = ROOT.TCut(\"THT>550\") #Cut on HT\n",
      "\n",
      "CutsFromCLs=[ROOT.TCut(\"\"),CutDRbb,CutDRWH,CutM2HPCLs,CutDRTp6thJCLs,CutHM,CutRelHTCLs,CutMTHAsymCLs,HTCut]\n",
      "\n",
      "#OptVersion=\"_whitout_chi2_CorrBin_Nm1\"\n",
      "\n",
      "CumulCut=ROOT.TCut(\"\")\n",
      "\n",
      "SignalEntriesE=[]; TTbarEntriesE=[]; QCDEntriesE=[]\n",
      "S=[]; B=[]; ES=[]; EB=[]\n",
      "\n",
      "PDFName=\"Nminus1_HTg550_AtTheEnd_\"+OptVersion+\".pdf\"\n",
      "#CurCanv = rootnotes.canvas(\"MyPlot\", (600, 800))\n",
      "Titles=[\"Base\", \"DRbb\", \"DRWH\", \"M2HP\", \"DRTp6thJ\", \"HiggsMass\", \"RelHT\", \"MTHAsym\",\"HT\"]\n",
      "\n",
      "BinsLimits=\"(40,400,1600)\"\n",
      "\n",
      "for i in xrange(len(CutsFromCLs)):\n",
      "    CumulCut=CumulCut*CutsFromCLs[i]\n",
      "    \n",
      "    NMassPointsA[2].Draw(\"M5J >> M5jS_Cut\"+str(i)+BinsLimits,CumulCut)\n",
      "    M5JHS=ROOT.gDirectory.Get(\"M5jS_Cut\"+str(i))\n",
      "    M5JHS.Sumw2(); M5JHS.Scale(SWeight)\n",
      "               \n",
      "    f1=ROOT.TF1(\"f1\",\"gaus\",600,800)\n",
      "    M5JHS.Fit(\"f1\",\"LMR\",\"same\")\n",
      "    MassPoint=f1.GetParameter(1); win=f1.GetParameter(2)\n",
      "    Chi2=f1.GetChisquare(); NDF=f1.GetNDF()\n",
      "    window_error=ROOT.Double(0.)\n",
      "    integral=M5JHS.IntegralAndError(M5JHS.GetXaxis().FindBin(MassPoint-win),M5JHS.GetXaxis().FindBin(MassPoint+win),window_error)\n",
      "    S.append(integral); ES.append(window_error)\n",
      "        \n",
      "    TntupleA.Draw(\"M5J >> M5jT_Cut\"+str(i)+BinsLimits,CumulCut)\n",
      "    M5JHT=ROOT.gDirectory.Get(\"M5jT_Cut\"+str(i))\n",
      "    M5JHT.Sumw2(); M5JHT.Scale(TWeight)\n",
      "                \n",
      "    Twindow_error=ROOT.Double(0.)\n",
      "    bkg_integralT=M5JHT.IntegralAndError(M5JHT.GetXaxis().FindBin(MassPoint-win),M5JHT.GetXaxis().FindBin(MassPoint+win),Twindow_error)\n",
      "        \n",
      "    QntuplesA[0].Draw(\"M5J >> M5jQ_Cut\"+str(i)+BinsLimits,CumulCut)\n",
      "    M5JHQ=ROOT.gDirectory.Get(\"M5jQ_Cut\"+str(i))\n",
      "    M5JHQ.Sumw2(); M5JHQ.Scale(Q500Weight)\n",
      "    \n",
      "    Qwindow_error=ROOT.Double(0.)\n",
      "    bkg_integralQ=M5JHQ.IntegralAndError(M5JHQ.GetXaxis().FindBin(MassPoint-win),M5JHQ.GetXaxis().FindBin(MassPoint+win),Qwindow_error)\n",
      "    B.append(bkg_integralT+bkg_integralQ); EB.append(Twindow_error+Qwindow_error)\n",
      "        \n",
      "    M5JHQ.SetStats(ROOT.kFALSE)\n",
      "    M5JHQ.SetLineStyle(7); M5JHT.SetLineStyle(9); M5JHS.SetLineStyle(1)\n",
      "    M5JHQ.SetLineWidth(2); M5JHT.SetLineWidth(1); M5JHS.SetLineWidth(3)\n",
      "    M5JHQ.SetLineColor(ROOT.kViolet+1); M5JHT.SetLineColor(ROOT.kRed); M5JHS.SetLineColor(ROOT.kGreen+1)\n",
      "    LEG=ROOT.TLegend(0.6,0.6,0.9,0.9); LEG.SetEntrySeparation(0.001); LEG.SetTextSize(0.0125)\n",
      "    LEG.AddEntry(M5JHQ, \"QCD W={0:.2f}\".format(Q500Weight), \"l\"); LEG.AddEntry(ROOT.TObject(), GetMR(M5JHQ), \"\"); LEG.AddEntry(ROOT.TObject(), GetEWI(M5JHQ), \"\")\n",
      "    LEG.AddEntry(M5JHT, \"TTbar W={0:.2f}\".format(TWeight), \"l\"); LEG.AddEntry(ROOT.TObject(), GetMR(M5JHT), \"\"); LEG.AddEntry(ROOT.TObject(), GetEWI(M5JHT), \"\")\n",
      "    LEG.AddEntry(M5JHS, \"Signal W={0:.2f}\".format(SWeight), \"l\"); LEG.AddEntry(ROOT.TObject(), GetMR(M5JHS), \"\"); LEG.AddEntry(ROOT.TObject(), GetEWI(M5JHS), \"\")\n",
      "    LEG.SetFillColor(0)\n",
      "    MinX=float(BinsLimits.split(\",\")[1])\n",
      "    MaxX=float(BinsLimits.split(\",\")[-1][0:-1])\n",
      "    Nbins=int(BinsLimits.split(\",\")[0][1:])\n",
      "    M5JHQ.SetTitle(\";M_{{5j}};Events/{0:.1f} GeV/c^{{2}}\".format((MaxX-MinX)/Nbins))\n",
      "    M5JHQ.GetYaxis().SetTitleOffset(1.65)\n",
      "    CurCanv = rootnotes.canvas(\"MyPlot\", (600, 800)); CurCanv.cd(1)\n",
      "    Pad1=ROOT.TPad(\"pad1\",\"pad1\",0,0,1,1); Pad1.SetBottomMargin(0.1); Pad1.SetLeftMargin(0.16); Pad1.Draw(); Pad1.cd()\n",
      "    if i<=3: M5JHQ.GetYaxis().SetNoExponent(ROOT.kTRUE); M5JHQ.SetMinimum(0.01); Pad1.SetLogy()\n",
      "    else: Pad1.SetLogy(0); M5JHQ.SetMinimum(0.0)\n",
      "    MaxQ=M5JHQ.GetMaximum(); MaxT=M5JHT.GetMaximum(); MaxS=M5JHS.GetMaximum(); M5JHQ.SetMaximum(1.05*max([MaxQ,MaxT,MaxS]))\n",
      "    M5JHQ.Draw(\"hist\"); M5JHT.Draw(\"hist same\"); M5JHS.Draw(\"hist same\"); LEG.Draw()\n",
      "    \n",
      "    if i==0: CurCanv.Print(PDFName+\"(\",\"Title:\"+Titles[i])\n",
      "    elif i<=len(CutsFromCLs)-2 and i>0: CurCanv.Print(PDFName,\"Title:\"+Titles[i])\n",
      "    else: CurCanv.Print(PDFName+\")\",\"Title:\"+Titles[i])\n",
      "    \n",
      "    SignalEntriesE.append(M5JHS.GetEntries()); TTbarEntriesE.append(M5JHT.GetEntries()); QCDEntriesE.append(M5JHQ.GetEntries())\n",
      "    del(M5JHS); del(M5JHT); del(M5JHQ); del(LEG)\n",
      "    ROOT.gDirectory.Clear()\n",
      "del(CurCanv)\n",
      "    \n",
      "print \"--------------------------------------------------\"\n",
      "print \"------------------Efficiencies--------------------\"\n",
      "print \"--------Signal------TTbar-------QCD---------------\"\n",
      "    \n",
      "for i in xrange(len(TTbarEntriesE)-1):\n",
      "    print \"Cut\"+str(i+1)+\":    {0:.2f}+-{1:.2f}  {2:.2f}+-{3:.2f}  {4:.2f}+-{5:.2f}\".format(\n",
      "                                           100*SignalEntriesE[i+1]/SignalEntriesE[i],\n",
      "                                           100*DivE(SignalEntriesE[i+1],SignalEntriesE[i],np.sqrt(SignalEntriesE[i+1]),np.sqrt(SignalEntriesE[i])),\n",
      "                                           100*TTbarEntriesE[i+1]/TTbarEntriesE[i],\n",
      "                                           100*DivE(TTbarEntriesE[i+1],TTbarEntriesE[i],np.sqrt(TTbarEntriesE[i+1]),np.sqrt(TTbarEntriesE[i])),\n",
      "                                           100*QCDEntriesE[i+1]/QCDEntriesE[i],\n",
      "                                           100*DivE(QCDEntriesE[i+1],QCDEntriesE[i],np.sqrt(QCDEntriesE[i+1]),np.sqrt(QCDEntriesE[i])))\n",
      "\n",
      "print \"--------------------------------------------------\"\n",
      "print \"-------------------Estimators---------------------\"\n",
      "print \"-----------S/B----------S/sqrt(S/B)---------------\"\n",
      "\n",
      "for i in xrange(len(TTbarEntriesE)):\n",
      "    print \"Cut\"+str(i+1)+\":     {0:.3f}+-{1:.3f}      {2:.2f}+-{3:.2f}\".format(S[i]/B[i],\n",
      "                                           DivE(S[i],B[i],ES[i],EB[i]),\n",
      "                                           S[i]/np.sqrt(S[i]+B[i]),\n",
      "                                           DivE(S[i],np.sqrt(S[i]+B[i]),ES[i],SqrtE(S[i]+B[i],ES[i]+EB[i])))\n",
      "\n",
      "print \"--------------------------------------------------\"\n",
      "print \"---------------------Yields-----------------------\"\n",
      "print \"--------Signal------TTbar-------QCD---------------\"\n",
      "\n",
      "for i in xrange(len(TTbarEntriesE)):\n",
      "    print \"Cut\"+str(i+1)+\":    {0:.2f}+-{1:.2f}  {2:.2f}+-{3:.2f}  {4:.2f}+-{5:.2f}\".format(SignalEntriesE[i]*SWeight,\n",
      "                                           np.sqrt(SignalEntriesE[i])*SWeight,\n",
      "                                           TTbarEntriesE[i]*TWeight,\n",
      "                                           np.sqrt(TTbarEntriesE[i])*TWeight,\n",
      "                                           QCDEntriesE[i]*Q500Weight,\n",
      "                                           np.sqrt(QCDEntriesE[i])*Q500Weight)"
     ],
     "language": "python",
     "metadata": {},
     "outputs": [
      {
       "output_type": "stream",
       "stream": "stdout",
       "text": [
        "--------------------------------------------------\n",
        "------------------Efficiencies--------------------\n",
        "--------Signal------TTbar-------QCD---------------\n",
        "Cut1:    79.52+-2.28  33.64+-0.22  31.41+-1.02\n",
        "Cut2:    94.35+-2.91  85.13+-0.72  80.36+-3.55\n",
        "Cut3:    51.99+-1.94  24.87+-0.33  45.14+-2.62\n",
        "Cut4:    60.84+-3.01  14.09+-0.46  11.31+-1.56\n",
        "Cut5:    79.37+-4.68  45.17+-2.65  30.85+-8.91\n",
        "Cut6:    78.09+-5.19  44.72+-3.91  37.93+-18.48\n",
        "Cut7:    77.43+-5.84  62.09+-7.38  18.18+-18.34\n",
        "Cut8:    99.84+-8.02  98.67+-13.17  100.00+-141.42\n",
        "--------------------------------------------------\n",
        "-------------------Estimators---------------------\n",
        "-----------S/B----------S/sqrt(S/B)---------------\n",
        "Cut1:     0.005+-0.000      0.54+-0.01\n",
        "Cut2:     0.011+-0.001      0.75+-0.03\n",
        "Cut3:     0.012+-0.001      0.77+-0.03\n",
        "Cut4:     0.021+-0.002      0.75+-0.04\n",
        "Cut5:     0.090+-0.017      1.22+-0.13\n",
        "Cut6:     0.211+-0.065      1.54+-0.23\n",
        "Cut7:     0.335+-0.139      1.66+-0.31\n",
        "Cut8:     0.752+-0.428      1.99+-0.40\n",
        "Cut9:     0.757+-0.433      1.99+-0.41\n",
        "--------------------------------------------------\n",
        "---------------------Yields-----------------------\n",
        "--------Signal------TTbar-------QCD---------------\n",
        "Cut1:    95.24+-1.29  14139.95+-33.37  41710.20+-488.38\n",
        "Cut2:    75.73+-1.15  4756.06+-19.36  13100.91+-273.71\n",
        "Cut3:    71.45+-1.12  4049.02+-17.86  10527.62+-245.36\n",
        "Cut4:    37.15+-0.81  1007.16+-8.91  4752.01+-164.85\n",
        "Cut5:    22.60+-0.63  141.94+-3.34  537.53+-55.44\n",
        "Cut6:    17.94+-0.56  64.12+-2.25  165.83+-30.79\n",
        "Cut7:    14.01+-0.49  28.67+-1.50  62.90+-18.97\n",
        "Cut8:    10.85+-0.44  17.80+-1.18  11.44+-8.09\n",
        "Cut9:    10.83+-0.43  17.57+-1.18  11.44+-8.09\n"
       ]
      }
     ],
     "prompt_number": 4
    },
    {
     "cell_type": "code",
     "collapsed": false,
     "input": [
      "#Plotting HT cut per cut\n",
      "CumulCut=ROOT.TCut(\"\")\n",
      "\n",
      "CutsFromCLs=[ROOT.TCut(\"\"),CutDRbb,CutDRWH,CutM2HPCLs,CutDRTp6thJCLs,CutHM,CutRelHTCLs,CutMTHAsymCLs,HTCut]\n",
      "\n",
      "PDFName=\"Nminus1_HT_HTg550_AtTheEnd_CorrBin_Nm1_\"+OptVersion+\".pdf\"\n",
      "#CurCanv = rootnotes.canvas(\"MyPlot\", (600, 800))\n",
      "Titles=[\"Base\", \"DRbb\", \"DRWH\", \"M2HP\", \"DRTp6thJ\", \"HiggsMass\", \"RelHT\", \"MTHAsym\",\"HT\"]\n",
      "\n",
      "BinsLimits=\"(40,400,1600)\"\n",
      "\n",
      "for i in xrange(len(CutsFromCLs)):\n",
      "    CumulCut=CumulCut*CutsFromCLs[i]\n",
      "    \n",
      "    NMassPointsA[2].Draw(\"THT >> THTS_Cut\"+str(i)+BinsLimits,CumulCut)\n",
      "    M5JHS=ROOT.gDirectory.Get(\"THTS_Cut\"+str(i))\n",
      "    M5JHS.Sumw2(); M5JHS.Scale(SWeight)\n",
      "        \n",
      "    TntupleA.Draw(\"THT >> THTT_Cut\"+str(i)+BinsLimits,CumulCut)\n",
      "    M5JHT=ROOT.gDirectory.Get(\"THTT_Cut\"+str(i))\n",
      "    M5JHT.Sumw2(); M5JHT.Scale(TWeight)\n",
      "    \n",
      "    QntuplesA[0].Draw(\"THT >> THTQ_Cut\"+str(i)+BinsLimits,CumulCut)\n",
      "    M5JHQ=ROOT.gDirectory.Get(\"THTQ_Cut\"+str(i))\n",
      "    M5JHQ.Sumw2(); M5JHQ.Scale(Q500Weight)\n",
      "            \n",
      "    M5JHQ.SetStats(ROOT.kFALSE)\n",
      "    M5JHQ.SetLineStyle(7); M5JHT.SetLineStyle(9); M5JHS.SetLineStyle(1)\n",
      "    M5JHQ.SetLineWidth(2); M5JHT.SetLineWidth(1); M5JHS.SetLineWidth(3)\n",
      "    M5JHQ.SetLineColor(ROOT.kViolet+1); M5JHT.SetLineColor(ROOT.kRed); M5JHS.SetLineColor(ROOT.kGreen+1)\n",
      "    LEG=ROOT.TLegend(0.6,0.6,0.9,0.9); LEG.SetEntrySeparation(0.001); LEG.SetTextSize(0.0125)\n",
      "    LEG.AddEntry(M5JHQ, \"QCD W={0:.2f}\".format(Q500Weight), \"l\"); LEG.AddEntry(ROOT.TObject(), GetMR(M5JHQ), \"\"); LEG.AddEntry(ROOT.TObject(), GetEWI(M5JHQ), \"\")\n",
      "    LEG.AddEntry(M5JHT, \"TTbar W={0:.2f}\".format(TWeight), \"l\"); LEG.AddEntry(ROOT.TObject(), GetMR(M5JHT), \"\"); LEG.AddEntry(ROOT.TObject(), GetEWI(M5JHT), \"\")\n",
      "    LEG.AddEntry(M5JHS, \"Signal W={0:.2f}\".format(SWeight), \"l\"); LEG.AddEntry(ROOT.TObject(), GetMR(M5JHS), \"\"); LEG.AddEntry(ROOT.TObject(), GetEWI(M5JHS), \"\")\n",
      "    LEG.SetFillColor(0)\n",
      "    MinX=float(BinsLimits.split(\",\")[1])\n",
      "    MaxX=float(BinsLimits.split(\",\")[-1][0:-1])\n",
      "    Nbins=int(BinsLimits.split(\",\")[0][1:])\n",
      "    M5JHQ.SetTitle(\";H_{{T}};Events/{0:.1f} GeV/c\".format((MaxX-MinX)/Nbins))\n",
      "    M5JHQ.GetYaxis().SetTitleOffset(1.65)\n",
      "    CurCanv = rootnotes.canvas(\"MyPlot\", (600, 800)); CurCanv.cd(1)\n",
      "    Pad1=ROOT.TPad(\"pad1\",\"pad1\",0,0,1,1); Pad1.SetBottomMargin(0.1); Pad1.SetLeftMargin(0.16); Pad1.Draw(); Pad1.cd()\n",
      "    if i<=3: M5JHQ.GetYaxis().SetNoExponent(ROOT.kTRUE); M5JHQ.SetMinimum(0.01); Pad1.SetLogy()\n",
      "    else: Pad1.SetLogy(0); M5JHQ.SetMinimum(0.0)\n",
      "    MaxQ=M5JHQ.GetMaximum(); MaxT=M5JHT.GetMaximum(); MaxS=M5JHS.GetMaximum(); M5JHQ.SetMaximum(1.05*max([MaxQ,MaxT,MaxS]))\n",
      "    M5JHQ.Draw(\"hist\"); M5JHT.Draw(\"hist same\"); M5JHS.Draw(\"hist same\"); \n",
      "    #ROOT.gPad.SetLogy(); ROOT.gPad.RedrawAxis()\n",
      "    LEG.Draw()\n",
      "    \n",
      "    if i==0: CurCanv.Print(PDFName+\"(\",\"Title:\"+Titles[i])\n",
      "    elif i<=len(CutsFromCLs)-2 and i>0: CurCanv.Print(PDFName,\"Title:\"+Titles[i])\n",
      "    else: CurCanv.Print(PDFName+\")\",\"Title:\"+Titles[i])\n",
      "    del(M5JHS); del(M5JHT); del(M5JHQ); del(LEG)\n",
      "    ROOT.gDirectory.Clear()\n",
      "del(CurCanv)"
     ],
     "language": "python",
     "metadata": {},
     "outputs": [],
     "prompt_number": 5
    },
    {
     "cell_type": "code",
     "collapsed": false,
     "input": [
      "#All mass points\n",
      "CurCanv = rootnotes.canvas(\"MyPlot\", (600, 800))\n",
      "\n",
      "CutsFromCLs=[ROOT.TCut(\"\"),CutDRbb,CutDRWH,CutM2HPCLs,CutDRTp6thJCLs,CutHM,CutRelHTCLs,CutMTHAsymCLs,HTCut]\n",
      "Titles=[\"Base\", \"DRbb\", \"DRWH\", \"M2HP\", \"DRTp6thJ\", \"HiggsMass\", \"RelHT\", \"MTHAsym\",\"HT\"]\n",
      "\n",
      "PDFName=\"Nminus1_AllMasses_HTg550_AtTheEnd_\"+OptVersion+\".pdf\"\n",
      "\n",
      "Masses=[600,650,700,750,800,850,900,950,1000]\n",
      "FitWindows=[100,100,100,100,150,150,150,150,150]\n",
      "\n",
      "BinsLimits=\"(40,400,1600)\"\n",
      "\n",
      "for i in xrange(len(Masses)):\n",
      "    CumulCut=ROOT.TCut(\"\")\n",
      "    MassPointsIntSignal=[]; MassPointsFullIntSignal=[]; MPISE=[]\n",
      "    for j in xrange(len(CutsFromCLs)):\n",
      "        CumulCut=CumulCut*CutsFromCLs[j]\n",
      "        print \"---------------------------------------------\"\n",
      "        NMassPointsA[i].Draw(\"M5J >> M5jS\"+str(Masses[i])+\"_CutF\"+BinsLimits,CumulCut)\n",
      "        M5JHS=ROOT.gDirectory.Get(\"M5jS\"+str(Masses[i])+\"_CutF\")\n",
      "        M5JHS.Sumw2(); M5JHS.Scale(NWeights[i])\n",
      "    \n",
      "        f1=ROOT.TF1(\"f1\",\"gaus\",Masses[i]-FitWindows[i],Masses[i]+FitWindows[i])\n",
      "        M5JHS.Fit(\"f1\",\"LMR\",\"same\")\n",
      "        MassPoint=f1.GetParameter(1); win=f1.GetParameter(2)\n",
      "        MassPointE=f1.GetParError(1); winE=f1.GetParError(2)\n",
      "        Chi2=f1.GetChisquare(); NDF=f1.GetNDF()\n",
      "        window_error=ROOT.Double(0.)\n",
      "        integral=M5JHS.IntegralAndError(M5JHS.GetXaxis().FindBin(MassPoint-win),M5JHS.GetXaxis().FindBin(MassPoint+win),window_error)\n",
      "        FRes1=\"M=\"+str(Masses[i])+\" GeV ------> Signal fit window yield (1-sigma): {0:.2f}+-{1:.2f}\".format(integral,window_error)\n",
      "        FLegRes1=\"Signal yield (1 #sigma): {0:.2f}#pm{1:.2f}\".format(integral,window_error)\n",
      "        FRes2=\"Mean value: {0:.2f}+-{1:.2f}, with sigma: {2:.2f}+-{3:.2f}\".format(MassPoint,MassPointE,win,winE)\n",
      "        FLegRes2=\"Mean value={0:.2f}#pm{1:.2f}\".format(MassPoint,MassPointE)\n",
      "        FLegRes3=\"#sigma={0:.2f}#pm{1:.2f}\".format(win,winE)\n",
      "        FRes3=\"#chi2={0:.2f}, ndf={1:.2f}, #chi2/ndf={2:.2f}\".format(Chi2, NDF, Chi2/NDF)\n",
      "        print FRes1\n",
      "        print FRes2\n",
      "        print FRes3\n",
      "        MassPointsIntSignal.append(integral); MPISE.append(window_error)\n",
      "        MassPointsFullIntSignal.append(M5JHS.GetEntries())\n",
      "        \n",
      "        M5JHS.SetStats(ROOT.kFALSE)\n",
      "        M5JHS.SetLineStyle(1)\n",
      "        M5JHS.SetLineWidth(3)\n",
      "        M5JHS.SetLineColor(ROOT.kGreen+1)\n",
      "        LEG=ROOT.TLegend(0.53,0.62,0.9,0.9); LEG.SetEntrySeparation(0.001); LEG.SetTextSize(0.016)\n",
      "        LEG.AddEntry(M5JHS, \"Signal(M={0:.0f} GeV/c^{{2}}) W={1:.2f}\".format(Masses[i],NWeights[i]), \"l\")\n",
      "        LEG.AddEntry(ROOT.TObject(), GetMR(M5JHS), \"\"); LEG.AddEntry(ROOT.TObject(), GetEWI(M5JHS), \"\")\n",
      "        LEG.AddEntry(f1, \"Gaussian fit\", \"l\")\n",
      "        LEG.AddEntry(ROOT.TObject(), FLegRes1, \"\"); LEG.AddEntry(ROOT.TObject(), FLegRes2, \"\");\n",
      "        LEG.AddEntry(ROOT.TObject(), FLegRes3, \"\"); LEG.AddEntry(ROOT.TObject(), FRes3, \"\")\n",
      "        LEG.SetFillColor(0)\n",
      "        MinX=float(BinsLimits.split(\",\")[1])\n",
      "        MaxX=float(BinsLimits.split(\",\")[-1][0:-1])\n",
      "        Nbins=int(BinsLimits.split(\",\")[0][1:])\n",
      "        M5JHS.SetTitle(\";M_{{5j}};Events/{0:.1f} GeV/c^{{2}}\".format((MaxX-MinX)/Nbins))\n",
      "        M5JHS.GetYaxis().SetTitleOffset(1.45)\n",
      "        MaxS=M5JHS.GetMaximum(); MaxF=f1.GetMaximum(); M5JHS.SetMaximum(1.05*max([MaxS,MaxF]))\n",
      "        M5JHS.Draw(\"hist\"); f1.Draw(\"same\")\n",
      "        LEG.Draw()\n",
      "        \n",
      "        if i==0 and j==0: CurCanv.Print(PDFName+\"(\",\"Title:\"+str(Masses[i])+\"_\"+Titles[j])\n",
      "        elif i==len(Masses)-1 and j==len(CutsFromCLs)-1: CurCanv.Print(PDFName+\")\",\"Title:\"+str(Masses[i])+\"_\"+Titles[j])\n",
      "        else: CurCanv.Print(PDFName,\"Title:\"+str(Masses[i])+\"_\"+Titles[j])\n",
      "        #elif i<=len(Masses)-2 and not (i==0 and j==0): CurCanv.Print(PDFName,\"Title:\"+Titles[j])\n",
      "        del(M5JHS); del(LEG)\n",
      "        \n",
      "    print \"--------------------------------------------------\"\n",
      "    print \"------------------Efficiencies--------------------\"\n",
      "    print \"--In 1-sigma fit window------In Full range--------\"\n",
      "    \n",
      "    for k in xrange(len(MassPointsIntSignal)-1):\n",
      "        print \"Cut\"+str(k+1)+\":    {0:.2f}+-{1:.2f}        {2:.2f}+-{3:.2f}\".format(100*MassPointsIntSignal[k+1]/MassPointsIntSignal[k],\n",
      "                                           100*DivE(MassPointsIntSignal[k+1],MassPointsIntSignal[k],MPISE[k+1],MPISE[k]),\n",
      "                                           100*MassPointsFullIntSignal[k+1]/MassPointsFullIntSignal[k],\n",
      "                                           100*DivE(MassPointsFullIntSignal[k+1],MassPointsFullIntSignal[k],np.sqrt(MassPointsFullIntSignal[k+1]),np.sqrt(MassPointsFullIntSignal[k])))"
     ],
     "language": "python",
     "metadata": {},
     "outputs": [
      {
       "output_type": "stream",
       "stream": "stdout",
       "text": [
        "---------------------------------------------\n",
        "M=600 GeV ------> Signal fit window yield (1-sigma): 62.88+-1.31\n",
        "Mean value: 590.40+-7.36, with sigma: 54.11+-7.40\n",
        "#chi2=26.48, ndf=4.00, #chi2/ndf=6.62\n",
        "---------------------------------------------\n",
        "M=600 GeV ------> Signal fit window yield (1-sigma): 46.76+-1.13\n",
        "Mean value: 590.85+-7.95, with sigma: 51.41+-7.64\n",
        "#chi2=28.09, ndf=4.00, #chi2/ndf=7.02\n",
        "---------------------------------------------\n",
        "M=600 GeV ------> Signal fit window yield (1-sigma): 45.09+-1.11"
       ]
      },
      {
       "output_type": "stream",
       "stream": "stdout",
       "text": [
        "\n",
        "Mean value: 591.58+-7.98, with sigma: 50.88+-7.60\n",
        "#chi2=24.03, ndf=4.00, #chi2/ndf=6.01\n",
        "---------------------------------------------\n",
        "M=600 GeV ------> Signal fit window yield (1-sigma): 23.97+-0.81\n",
        "Mean value: 590.16+-10.71, with sigma: 49.89+-10.02\n",
        "#chi2=17.73, ndf=4.00, #chi2/ndf=4.43\n",
        "---------------------------------------------\n",
        "M=600 GeV ------> Signal fit window yield (1-sigma): 14.01+-0.62\n",
        "Mean value: 595.00+-12.93, with sigma: 47.01+-11.53\n",
        "#chi2=6.73, ndf=4.00, #chi2/ndf=1.68\n",
        "---------------------------------------------"
       ]
      },
      {
       "output_type": "stream",
       "stream": "stdout",
       "text": [
        "\n",
        "M=600 GeV ------> Signal fit window yield (1-sigma): 10.26+-0.53\n",
        "Mean value: 600.11+-12.50, with sigma: 41.83+-10.23\n",
        "#chi2=10.76, ndf=4.00, #chi2/ndf=2.69\n",
        "---------------------------------------------\n",
        "M=600 GeV ------> Signal fit window yield (1-sigma): 6.73+-0.43\n",
        "Mean value: 606.52+-14.64, with sigma: 39.34+-11.59\n",
        "#chi2=12.07, ndf=4.00, #chi2/ndf=3.02\n",
        "---------------------------------------------\n",
        "M=600 GeV ------> Signal fit window yield (1-sigma): 5.61+-0.39"
       ]
      },
      {
       "output_type": "stream",
       "stream": "stdout",
       "text": [
        "\n",
        "Mean value: 607.85+-13.76, with sigma: 33.76+-10.23\n",
        "#chi2=12.10, ndf=4.00, #chi2/ndf=3.02\n",
        "---------------------------------------------\n",
        "M=600 GeV ------> Signal fit window yield (1-sigma): 5.58+-0.39\n",
        "Mean value: 608.54+-13.61, with sigma: 33.21+-10.09\n",
        "#chi2=10.30, ndf=4.00, #chi2/ndf=2.57\n",
        "--------------------------------------------------\n",
        "------------------Efficiencies--------------------\n",
        "--In 1-sigma fit window------In Full range--------\n",
        "Cut1:    74.37+-3.35        65.45+-2.42\n",
        "Cut2:    96.43+-4.71        93.46+-3.89\n",
        "Cut3:    53.16+-3.11        50.83+-2.59\n",
        "Cut4:    58.45+-4.56        56.05+-3.89\n",
        "Cut5:    73.24+-7.02        78.11+-6.61\n",
        "Cut6:    65.60+-7.57        61.29+-6.27\n",
        "Cut7:    83.33+-11.13        75.99+-9.36\n",
        "Cut8:    99.51+-13.92        98.70+-13.03\n",
        "---------------------------------------------\n",
        "M=650 GeV ------> Signal fit window yield (1-sigma): 55.49+-1.10\n",
        "Mean value: 637.05+-8.08, with sigma: 54.62+-7.82\n",
        "#chi2=21.85, ndf=4.00, #chi2/ndf=5.46\n",
        "---------------------------------------------"
       ]
      },
      {
       "output_type": "stream",
       "stream": "stdout",
       "text": [
        "\n",
        "M=650 GeV ------> Signal fit window yield (1-sigma): 46.92+-1.01\n",
        "Mean value: 638.71+-8.14, with sigma: 52.30+-7.69\n",
        "#chi2=18.12, ndf=4.00, #chi2/ndf=4.53\n",
        "---------------------------------------------\n",
        "M=650 GeV ------> Signal fit window yield (1-sigma): 46.00+-1.00\n",
        "Mean value: 638.85+-8.09, with sigma: 51.70+-7.59\n",
        "#chi2=18.51, ndf=4.00, #chi2/ndf=4.63\n",
        "---------------------------------------------\n",
        "M=650 GeV ------> Signal fit window yield (1-sigma): 24.82+-0.73\n",
        "Mean value: 637.39+-11.12, with sigma: 51.68+-10.36\n",
        "#chi2=21.39, ndf=4.00, #chi2/ndf=5.35\n",
        "---------------------------------------------"
       ]
      },
      {
       "output_type": "stream",
       "stream": "stdout",
       "text": [
        "\n",
        "M=650 GeV ------> Signal fit window yield (1-sigma): 15.97+-0.59\n",
        "Mean value: 638.92+-12.90, with sigma: 49.46+-11.72\n",
        "#chi2=15.55, ndf=4.00, #chi2/ndf=3.89\n",
        "---------------------------------------------\n",
        "M=650 GeV ------> Signal fit window yield (1-sigma): 13.79+-0.55\n",
        "Mean value: 645.09+-11.23, with sigma: 42.47+-9.29\n",
        "#chi2=15.50, ndf=4.00, #chi2/ndf=3.88\n",
        "---------------------------------------------\n",
        "M=650 GeV ------> Signal fit window yield (1-sigma): 10.44+-0.48\n",
        "Mean value: 646.61+-12.16, with sigma: 40.36+-9.75\n",
        "#chi2=5.96, ndf=4.00, #chi2/ndf=1.49\n",
        "---------------------------------------------"
       ]
      },
      {
       "output_type": "stream",
       "stream": "stdout",
       "text": [
        "\n",
        "M=650 GeV ------> Signal fit window yield (1-sigma): 8.68+-0.43\n",
        "Mean value: 646.57+-12.78, with sigma: 38.77+-10.01\n",
        "#chi2=2.18, ndf=4.00, #chi2/ndf=0.54\n",
        "---------------------------------------------\n",
        "M=650 GeV ------> Signal fit window yield (1-sigma): 8.61+-0.43\n",
        "Mean value: 647.22+-12.65, with sigma: 38.30+-9.85\n",
        "#chi2=2.02, ndf=4.00, #chi2/ndf=0.50\n",
        "--------------------------------------------------\n",
        "------------------Efficiencies--------------------\n",
        "--In 1-sigma fit window------In Full range--------\n",
        "Cut1:    84.56+-3.49        74.71+-2.38\n",
        "Cut2:    98.05+-4.24        93.19+-3.24\n",
        "Cut3:    53.95+-2.77        51.70+-2.18\n",
        "Cut4:    64.33+-4.28        60.30+-3.39\n",
        "Cut5:    86.38+-6.62        79.86+-5.36\n",
        "Cut6:    75.71+-6.46        72.15+-5.56\n",
        "Cut7:    83.13+-7.96        80.00+-7.07\n",
        "Cut8:    99.25+-9.96        98.91+-9.25\n",
        "---------------------------------------------\n",
        "M=700 GeV ------> Signal fit window yield (1-sigma): 58.00+-1.01\n",
        "Mean value: 687.14+-9.61, with sigma: 55.41+-10.90\n",
        "#chi2=11.32, ndf=3.00, #chi2/ndf=3.77\n",
        "---------------------------------------------"
       ]
      },
      {
       "output_type": "stream",
       "stream": "stdout",
       "text": [
        "\n",
        "M=700 GeV ------> Signal fit window yield (1-sigma): 51.07+-0.94\n",
        "Mean value: 687.59+-9.56, with sigma: 53.30+-10.52\n",
        "#chi2=9.24, ndf=3.00, #chi2/ndf=3.08\n",
        "---------------------------------------------\n",
        "M=700 GeV ------> Signal fit window yield (1-sigma): 50.02+-0.93\n",
        "Mean value: 687.72+-9.45, with sigma: 52.66+-10.31\n",
        "#chi2=7.99, ndf=3.00, #chi2/ndf=2.66\n",
        "---------------------------------------------\n",
        "M=700 GeV ------> Signal fit window yield (1-sigma): 27.39+-0.69\n",
        "Mean value: 689.43+-11.78, with sigma: 50.60+-12.54\n",
        "#chi2=3.82, ndf=3.00, #chi2/ndf=1.27\n",
        "---------------------------------------------"
       ]
      },
      {
       "output_type": "stream",
       "stream": "stdout",
       "text": [
        "\n",
        "M=700 GeV ------> Signal fit window yield (1-sigma): 18.04+-0.56\n",
        "Mean value: 689.67+-14.46, with sigma: 50.47+-15.37\n",
        "#chi2=2.74, ndf=3.00, #chi2/ndf=0.91\n",
        "---------------------------------------------\n",
        "M=700 GeV ------> Signal fit window yield (1-sigma): 13.54+-0.49\n",
        "Mean value: 694.33+-13.26, with sigma: 45.83+-13.17\n",
        "#chi2=1.56, ndf=3.00, #chi2/ndf=0.52\n",
        "---------------------------------------------\n",
        "M=700 GeV ------> Signal fit window yield (1-sigma): 11.00+-0.44\n",
        "Mean value: 696.94+-13.98, with sigma: 44.34+-13.54\n",
        "#chi2=1.23, ndf=3.00, #chi2/ndf=0.41\n",
        "---------------------------------------------"
       ]
      },
      {
       "output_type": "stream",
       "stream": "stdout",
       "text": [
        "\n",
        "M=700 GeV ------> Signal fit window yield (1-sigma): 9.22+-0.40\n",
        "Mean value: 697.15+-14.49, with sigma: 42.49+-13.51\n",
        "#chi2=3.79, ndf=3.00, #chi2/ndf=1.26\n",
        "---------------------------------------------\n",
        "M=700 GeV ------> Signal fit window yield (1-sigma): 9.22+-0.40\n",
        "Mean value: 697.15+-14.49, with sigma: 42.49+-13.51\n",
        "#chi2=3.79, ndf=3.00, #chi2/ndf=1.26\n",
        "--------------------------------------------------\n",
        "------------------Efficiencies--------------------\n",
        "--In 1-sigma fit window------In Full range--------\n",
        "Cut1:    88.05+-3.16        79.52+-2.28\n",
        "Cut2:    97.95+-3.64        94.35+-2.91\n",
        "Cut3:    54.75+-2.41        51.99+-1.94\n",
        "Cut4:    65.88+-3.71        60.84+-3.01\n",
        "Cut5:    75.02+-5.03        79.37+-4.68\n",
        "Cut6:    81.29+-6.16        78.09+-5.19\n",
        "Cut7:    83.81+-6.99        77.43+-5.84\n",
        "Cut8:    100.00+-8.70        99.84+-8.02\n",
        "---------------------------------------------\n",
        "M=750 GeV ------> Signal fit window yield (1-sigma): 54.72+-0.89\n",
        "Mean value: 730.11+-10.42, with sigma: 60.55+-11.13\n",
        "#chi2=5.33, ndf=4.00, #chi2/ndf=1.33\n",
        "---------------------------------------------"
       ]
      },
      {
       "output_type": "stream",
       "stream": "stdout",
       "text": [
        "\n",
        "M=750 GeV ------> Signal fit window yield (1-sigma): 38.84+-0.75\n",
        "Mean value: 730.67+-10.29, with sigma: 58.27+-10.68\n",
        "#chi2=2.34, ndf=4.00, #chi2/ndf=0.58\n",
        "---------------------------------------------\n",
        "M=750 GeV ------> Signal fit window yield (1-sigma): 38.18+-0.74\n",
        "Mean value: 731.07+-10.22, with sigma: 57.77+-10.55\n",
        "#chi2=3.21, ndf=4.00, #chi2/ndf=0.80\n",
        "---------------------------------------------\n",
        "M=750 GeV ------> Signal fit window yield (1-sigma): 22.10+-0.56\n",
        "Mean value: 731.55+-12.44, with sigma: 54.95+-12.35\n",
        "#chi2=3.41, ndf=4.00, #chi2/ndf=0.85\n",
        "---------------------------------------------"
       ]
      },
      {
       "output_type": "stream",
       "stream": "stdout",
       "text": [
        "\n",
        "M=750 GeV ------> Signal fit window yield (1-sigma): 14.17+-0.45\n",
        "Mean value: 735.18+-14.31, with sigma: 52.50+-13.85\n",
        "#chi2=3.57, ndf=4.00, #chi2/ndf=0.89\n",
        "---------------------------------------------\n",
        "M=750 GeV ------> Signal fit window yield (1-sigma): 12.23+-0.42\n",
        "Mean value: 738.46+-13.92, with sigma: 49.02+-12.80\n",
        "#chi2=2.71, ndf=4.00, #chi2/ndf=0.68\n",
        "---------------------------------------------\n",
        "M=750 GeV ------> Signal fit window yield (1-sigma): 10.55+-0.39\n",
        "Mean value: 740.38+-14.47, with sigma: 47.75+-13.04\n",
        "#chi2=1.69, ndf=4.00, #chi2/ndf=0.42\n",
        "---------------------------------------------"
       ]
      },
      {
       "output_type": "stream",
       "stream": "stdout",
       "text": [
        "\n",
        "M=750 GeV ------> Signal fit window yield (1-sigma): 8.84+-0.36\n",
        "Mean value: 739.67+-14.76, with sigma: 44.99+-12.71\n",
        "#chi2=4.81, ndf=4.00, #chi2/ndf=1.20\n",
        "---------------------------------------------\n",
        "M=750 GeV ------> Signal fit window yield (1-sigma): 8.84+-0.36\n",
        "Mean value: 739.67+-14.76, with sigma: 44.99+-12.71\n",
        "#chi2=4.81, ndf=4.00, #chi2/ndf=1.20\n",
        "--------------------------------------------------"
       ]
      },
      {
       "output_type": "stream",
       "stream": "stdout",
       "text": [
        "\n",
        "------------------Efficiencies--------------------\n",
        "--In 1-sigma fit window------In Full range--------\n",
        "Cut1:    70.97+-2.52        81.45+-2.23\n",
        "Cut2:    98.29+-3.81        93.92+-2.75\n",
        "Cut3:    57.90+-2.60        54.34+-1.90\n",
        "Cut4:    64.10+-3.68        58.54+-2.72\n",
        "Cut5:    86.35+-5.72        82.29+-4.56\n",
        "Cut6:    86.20+-6.15        82.62+-5.04\n",
        "Cut7:    83.86+-6.49        78.04+-5.32\n",
        "Cut8:    100.00+-8.08        100.00+-7.24\n",
        "---------------------------------------------\n",
        "M=800 GeV ------> Signal fit window yield (1-sigma): 45.83+-0.76\n",
        "Mean value: 777.53+-11.02, with sigma: 73.05+-10.43\n",
        "#chi2=62.75, ndf=7.00, #chi2/ndf=8.96\n",
        "---------------------------------------------\n",
        "M=800 GeV ------> Signal fit window yield (1-sigma): 38.50+-0.70\n",
        "Mean value: 778.81+-10.74, with sigma: 69.35+-9.77\n",
        "#chi2=65.53, ndf=7.00, #chi2/ndf=9.36\n",
        "---------------------------------------------"
       ]
      },
      {
       "output_type": "stream",
       "stream": "stdout",
       "text": [
        "\n",
        "M=800 GeV ------> Signal fit window yield (1-sigma): 37.78+-0.69\n",
        "Mean value: 778.73+-10.66, with sigma: 68.31+-9.58\n",
        "#chi2=65.80, ndf=7.00, #chi2/ndf=9.40\n",
        "---------------------------------------------\n",
        "M=800 GeV ------> Signal fit window yield (1-sigma): 21.86+-0.53\n",
        "Mean value: 778.89+-13.62, with sigma: 66.65+-12.02\n",
        "#chi2=51.95, ndf=7.00, #chi2/ndf=7.42\n",
        "---------------------------------------------\n",
        "M=800 GeV ------> Signal fit window yield (1-sigma): 14.40+-0.43\n",
        "Mean value: 782.09+-15.45, with sigma: 61.94+-12.95\n",
        "#chi2=30.72, ndf=7.00, #chi2/ndf=4.39\n",
        "---------------------------------------------"
       ]
      },
      {
       "output_type": "stream",
       "stream": "stdout",
       "text": [
        "\n",
        "M=800 GeV ------> Signal fit window yield (1-sigma): 11.14+-0.37\n",
        "Mean value: 787.31+-14.80, with sigma: 55.47+-11.60\n",
        "#chi2=21.20, ndf=7.00, #chi2/ndf=3.03\n",
        "---------------------------------------------\n",
        "M=800 GeV ------> Signal fit window yield (1-sigma): 9.87+-0.35\n",
        "Mean value: 790.09+-15.25, with sigma: 53.62+-11.74\n",
        "#chi2=22.32, ndf=7.00, #chi2/ndf=3.19\n",
        "---------------------------------------------\n",
        "M=800 GeV ------> Signal fit window yield (1-sigma): 8.16+-0.32"
       ]
      },
      {
       "output_type": "stream",
       "stream": "stdout",
       "text": [
        "\n",
        "Mean value: 789.46+-15.29, with sigma: 48.32+-11.28\n",
        "#chi2=18.84, ndf=7.00, #chi2/ndf=2.69\n",
        "---------------------------------------------\n",
        "M=800 GeV ------> Signal fit window yield (1-sigma): 8.16+-0.32\n",
        "Mean value: 789.46+-15.29, with sigma: 48.32+-11.28\n",
        "#chi2=18.84, ndf=7.00, #chi2/ndf=2.69\n",
        "--------------------------------------------------\n",
        "------------------Efficiencies--------------------\n",
        "--In 1-sigma fit window------In Full range--------\n",
        "Cut1:    84.00+-2.91        83.73+-2.28\n",
        "Cut2:    98.13+-3.57        93.81+-2.71\n",
        "Cut3:    57.85+-2.45        55.60+-1.91\n",
        "Cut4:    65.88+-3.53        59.45+-2.68\n",
        "Cut5:    77.39+-4.90        81.01+-4.36\n",
        "Cut6:    88.56+-6.15        85.23+-5.03\n",
        "Cut7:    82.74+-6.21        76.84+-5.05\n",
        "Cut8:    100.00+-7.86        100.00+-7.00\n",
        "---------------------------------------------\n",
        "M=850 GeV ------> Signal fit window yield (1-sigma): 38.12+-0.63\n",
        "Mean value: 827.32+-12.29, with sigma: 71.66+-11.26\n",
        "#chi2=59.63, ndf=7.00, #chi2/ndf=8.52\n",
        "---------------------------------------------"
       ]
      },
      {
       "output_type": "stream",
       "stream": "stdout",
       "text": [
        "\n",
        "M=850 GeV ------> Signal fit window yield (1-sigma): 35.04+-0.60\n",
        "Mean value: 827.98+-12.04, with sigma: 68.58+-10.73\n",
        "#chi2=54.46, ndf=7.00, #chi2/ndf=7.78\n",
        "---------------------------------------------\n",
        "M=850 GeV ------> Signal fit window yield (1-sigma): 30.80+-0.56\n",
        "Mean value: 827.64+-11.96, with sigma: 67.49+-10.53\n",
        "#chi2=56.17, ndf=7.00, #chi2/ndf=8.02\n",
        "---------------------------------------------"
       ]
      },
      {
       "output_type": "stream",
       "stream": "stdout",
       "text": [
        "\n",
        "M=850 GeV ------> Signal fit window yield (1-sigma): 18.89+-0.44\n",
        "Mean value: 827.30+-14.57, with sigma: 64.88+-12.52\n",
        "#chi2=31.93, ndf=7.00, #chi2/ndf=4.56\n",
        "---------------------------------------------\n",
        "M=850 GeV ------> Signal fit window yield (1-sigma): 12.57+-0.36\n",
        "Mean value: 833.91+-15.85, with sigma: 59.13+-12.91\n",
        "#chi2=25.02, ndf=7.00, #chi2/ndf=3.57\n",
        "---------------------------------------------"
       ]
      },
      {
       "output_type": "stream",
       "stream": "stdout",
       "text": [
        "\n",
        "M=850 GeV ------> Signal fit window yield (1-sigma): 11.01+-0.34\n",
        "Mean value: 837.43+-15.49, with sigma: 54.39+-12.06\n",
        "#chi2=25.50, ndf=7.00, #chi2/ndf=3.64\n",
        "---------------------------------------------\n",
        "M=850 GeV ------> Signal fit window yield (1-sigma): 10.05+-0.32\n",
        "Mean value: 840.32+-15.50, with sigma: 51.93+-11.79\n",
        "#chi2=21.03, ndf=7.00, #chi2/ndf=3.00\n",
        "---------------------------------------------\n",
        "M=850 GeV ------> Signal fit window yield (1-sigma): 8.11+-0.29"
       ]
      },
      {
       "output_type": "stream",
       "stream": "stdout",
       "text": [
        "\n",
        "Mean value: 837.78+-15.99, with sigma: 47.85+-11.82\n",
        "#chi2=26.24, ndf=7.00, #chi2/ndf=3.75\n",
        "---------------------------------------------\n",
        "M=850 GeV ------> Signal fit window yield (1-sigma): 7.34+-0.27\n",
        "Mean value: 837.90+-15.95, with sigma: 47.69+-11.78\n",
        "#chi2=24.81, ndf=7.00, #chi2/ndf=3.54\n",
        "--------------------------------------------------\n",
        "------------------Efficiencies--------------------\n",
        "--In 1-sigma fit window------In Full range--------\n",
        "Cut1:    91.92+-3.08        84.38+-2.23\n",
        "Cut2:    87.90+-3.11        93.54+-2.62\n",
        "Cut3:    61.33+-2.55        58.23+-1.92\n",
        "Cut4:    66.52+-3.45        57.53+-2.49\n",
        "Cut5:    87.58+-5.18        82.61+-4.27\n",
        "Cut6:    91.32+-5.71        87.38+-4.90\n",
        "Cut7:    80.69+-5.45        76.32+-4.74\n",
        "Cut8:    90.51+-6.60        99.78+-6.62\n",
        "---------------------------------------------\n",
        "M=900 GeV ------> Signal fit window yield (1-sigma): 30.74+-0.52\n",
        "Mean value: 879.49+-14.03, with sigma: 70.82+-12.52\n",
        "#chi2=59.80, ndf=7.00, #chi2/ndf=8.54\n",
        "---------------------------------------------"
       ]
      },
      {
       "output_type": "stream",
       "stream": "stdout",
       "text": [
        "\n",
        "M=900 GeV ------> Signal fit window yield (1-sigma): 28.66+-0.50\n",
        "Mean value: 879.20+-13.81, with sigma: 68.25+-12.06\n",
        "#chi2=48.52, ndf=7.00, #chi2/ndf=6.93\n",
        "---------------------------------------------\n",
        "M=900 GeV ------> Signal fit window yield (1-sigma): 27.93+-0.50\n",
        "Mean value: 879.05+-13.73, with sigma: 67.35+-11.91\n",
        "#chi2=47.50, ndf=7.00, #chi2/ndf=6.79\n",
        "---------------------------------------------\n",
        "M=900 GeV ------> Signal fit window yield (1-sigma): 17.87+-0.40\n",
        "Mean value: 880.59+-15.64, with sigma: 63.06+-13.15\n",
        "#chi2=18.94, ndf=7.00, #chi2/ndf=2.71\n",
        "---------------------------------------------"
       ]
      },
      {
       "output_type": "stream",
       "stream": "stdout",
       "text": [
        "\n",
        "M=900 GeV ------> Signal fit window yield (1-sigma): 10.41+-0.30\n",
        "Mean value: 882.95+-17.66, with sigma: 58.57+-14.34\n",
        "#chi2=15.27, ndf=7.00, #chi2/ndf=2.18\n",
        "---------------------------------------------\n",
        "M=900 GeV ------> Signal fit window yield (1-sigma): 9.22+-0.29\n",
        "Mean value: 884.82+-17.52, with sigma: 55.18+-13.85\n",
        "#chi2=17.05, ndf=7.00, #chi2/ndf=2.44\n",
        "---------------------------------------------\n",
        "M=900 GeV ------> Signal fit window yield (1-sigma): 8.60+-0.28\n",
        "Mean value: 885.58+-18.02, with sigma: 54.82+-14.20\n",
        "#chi2=16.64, ndf=7.00, #chi2/ndf=2.38\n",
        "---------------------------------------------"
       ]
      },
      {
       "output_type": "stream",
       "stream": "stdout",
       "text": [
        "\n",
        "M=900 GeV ------> Signal fit window yield (1-sigma): 6.25+-0.24\n",
        "Mean value: 882.47+-17.81, with sigma: 49.10+-13.52\n",
        "#chi2=23.06, ndf=7.00, #chi2/ndf=3.29\n",
        "---------------------------------------------\n",
        "M=900 GeV ------> Signal fit window yield (1-sigma): 6.25+-0.24\n",
        "Mean value: 882.57+-17.79, with sigma: 49.05+-13.50\n",
        "#chi2=22.95, ndf=7.00, #chi2/ndf=3.28\n",
        "--------------------------------------------------"
       ]
      },
      {
       "output_type": "stream",
       "stream": "stdout",
       "text": [
        "\n",
        "------------------Efficiencies--------------------\n",
        "--In 1-sigma fit window------In Full range--------\n",
        "Cut1:    93.23+-3.22        85.37+-2.27\n",
        "Cut2:    97.47+-3.45        93.01+-2.61\n",
        "Cut3:    63.97+-2.56        60.55+-1.98\n",
        "Cut4:    58.25+-2.99        55.38+-2.39\n",
        "Cut5:    88.61+-5.33        83.76+-4.33\n",
        "Cut6:    93.28+-5.88        90.38+-5.01\n",
        "Cut7:    72.63+-5.06        75.81+-4.63\n",
        "Cut8:    100.00+-7.53        99.89+-6.52\n",
        "---------------------------------------------\n",
        "M=950 GeV ------> Signal fit window yield (1-sigma): 25.77+-0.45\n",
        "Mean value: 925.77+-17.55, with sigma: 79.86+-17.81\n",
        "#chi2=32.83, ndf=7.00, #chi2/ndf=4.69\n",
        "---------------------------------------------\n",
        "M=950 GeV ------> Signal fit window yield (1-sigma): 24.09+-0.44\n",
        "Mean value: 926.23+-17.35, with sigma: 77.47+-17.19\n",
        "#chi2=32.68, ndf=7.00, #chi2/ndf=4.67\n",
        "---------------------------------------------\n",
        "M=950 GeV ------> Signal fit window yield (1-sigma): 23.50+-0.43\n",
        "Mean value: 925.59+-17.04, with sigma: 75.64+-16.52\n",
        "#chi2=32.01, ndf=7.00, #chi2/ndf=4.57\n",
        "---------------------------------------------"
       ]
      },
      {
       "output_type": "stream",
       "stream": "stdout",
       "text": [
        "\n",
        "M=950 GeV ------> Signal fit window yield (1-sigma): 12.25+-0.31\n",
        "Mean value: 925.53+-20.47, with sigma: 73.20+-19.33\n",
        "#chi2=23.09, ndf=7.00, #chi2/ndf=3.30\n",
        "---------------------------------------------\n",
        "M=950 GeV ------> Signal fit window yield (1-sigma): 9.10+-0.27\n",
        "Mean value: 931.16+-23.07, with sigma: 69.13+-20.94\n",
        "#chi2=13.13, ndf=7.00, #chi2/ndf=1.88\n",
        "---------------------------------------------\n",
        "M=950 GeV ------> Signal fit window yield (1-sigma): 7.24+-0.24\n",
        "Mean value: 932.54+-22.56, with sigma: 64.17+-19.37\n",
        "#chi2=15.01, ndf=7.00, #chi2/ndf=2.14\n",
        "---------------------------------------------"
       ]
      },
      {
       "output_type": "stream",
       "stream": "stdout",
       "text": [
        "\n",
        "M=950 GeV ------> Signal fit window yield (1-sigma): 6.76+-0.23\n",
        "Mean value: 934.02+-22.55, with sigma: 62.22+-18.95\n",
        "#chi2=11.66, ndf=7.00, #chi2/ndf=1.67\n",
        "---------------------------------------------\n",
        "M=950 GeV ------> Signal fit window yield (1-sigma): 5.43+-0.21\n",
        "Mean value: 930.75+-21.92, with sigma: 54.41+-17.02\n",
        "#chi2=24.14, ndf=7.00, #chi2/ndf=3.45\n",
        "---------------------------------------------\n",
        "M=950 GeV ------> Signal fit window yield (1-sigma): 5.43+-0.21"
       ]
      },
      {
       "output_type": "stream",
       "stream": "stdout",
       "text": [
        "\n",
        "Mean value: 930.75+-21.92, with sigma: 54.41+-17.02\n",
        "#chi2=24.14, ndf=7.00, #chi2/ndf=3.45\n",
        "--------------------------------------------------\n",
        "------------------Efficiencies--------------------\n",
        "--In 1-sigma fit window------In Full range--------\n",
        "Cut1:    93.48+-3.33        85.97+-2.37\n",
        "Cut2:    97.55+-3.55        92.28+-2.70\n",
        "Cut3:    52.11+-2.28        61.22+-2.08\n",
        "Cut4:    74.31+-4.07        55.91+-2.49\n",
        "Cut5:    79.55+-4.97        83.07+-4.44\n",
        "Cut6:    93.36+-6.27        90.71+-5.20\n",
        "Cut7:    80.40+-5.81        72.98+-4.65\n",
        "Cut8:    100.00+-7.62        100.00+-6.87\n",
        "---------------------------------------------\n",
        "M=1000 GeV ------> Signal fit window yield (1-sigma): 17.37+-0.34\n",
        "Mean value: 973.44+-22.79, with sigma: 82.35+-22.70\n",
        "#chi2=14.70, ndf=7.00, #chi2/ndf=2.10\n",
        "---------------------------------------------\n",
        "M=1000 GeV ------> Signal fit window yield (1-sigma): 16.33+-0.33\n",
        "Mean value: 975.11+-22.19, with sigma: 79.78+-21.76\n",
        "#chi2=12.89, ndf=7.00, #chi2/ndf=1.84\n",
        "---------------------------------------------"
       ]
      },
      {
       "output_type": "stream",
       "stream": "stdout",
       "text": [
        "\n",
        "M=1000 GeV ------> Signal fit window yield (1-sigma): 15.63+-0.32\n",
        "Mean value: 974.22+-22.12, with sigma: 78.15+-21.31\n",
        "#chi2=9.42, ndf=7.00, #chi2/ndf=1.35\n",
        "---------------------------------------------\n",
        "M=1000 GeV ------> Signal fit window yield (1-sigma): 10.13+-0.26\n",
        "Mean value: 976.13+-26.22, with sigma: 76.33+-24.98\n",
        "#chi2=7.45, ndf=7.00, #chi2/ndf=1.06\n",
        "---------------------------------------------\n",
        "M=1000 GeV ------> Signal fit window yield (1-sigma): 6.47+-0.21\n",
        "Mean value: 978.27+-28.86, with sigma: 69.97+-26.00\n",
        "#chi2=7.22, ndf=7.00, #chi2/ndf=1.03\n",
        "---------------------------------------------"
       ]
      },
      {
       "output_type": "stream",
       "stream": "stdout",
       "text": [
        "\n",
        "M=1000 GeV ------> Signal fit window yield (1-sigma): 5.21+-0.19\n",
        "Mean value: 978.39+-27.46, with sigma: 64.02+-23.38\n",
        "#chi2=9.41, ndf=7.00, #chi2/ndf=1.34\n",
        "---------------------------------------------\n",
        "M=1000 GeV ------> Signal fit window yield (1-sigma): 4.91+-0.18\n",
        "Mean value: 979.99+-27.47, with sigma: 62.62+-23.10\n",
        "#chi2=11.09, ndf=7.00, #chi2/ndf=1.58\n",
        "---------------------------------------------"
       ]
      },
      {
       "output_type": "stream",
       "stream": "stdout",
       "text": [
        "\n",
        "M=1000 GeV ------> Signal fit window yield (1-sigma): 3.89+-0.16\n",
        "Mean value: 974.85+-27.68, with sigma: 56.41+-22.05\n",
        "#chi2=11.49, ndf=7.00, #chi2/ndf=1.64\n",
        "---------------------------------------------\n",
        "M=1000 GeV ------> Signal fit window yield (1-sigma): 3.88+-0.16\n",
        "Mean value: 974.92+-27.70, with sigma: 56.41+-22.07\n",
        "#chi2=11.44, ndf=7.00, #chi2/ndf=1.63\n",
        "--------------------------------------------------"
       ]
      },
      {
       "output_type": "stream",
       "stream": "stdout",
       "text": [
        "\n",
        "------------------Efficiencies--------------------\n",
        "--In 1-sigma fit window------In Full range--------\n",
        "Cut1:    94.02+-3.72        86.21+-2.44\n",
        "Cut2:    95.73+-3.88        90.60+-2.73\n",
        "Cut3:    64.79+-2.98        63.29+-2.20\n",
        "Cut4:    63.90+-3.67        51.45+-2.39\n",
        "Cut5:    80.49+-5.43        82.31+-4.68\n",
        "Cut6:    94.32+-6.80        90.94+-5.55\n",
        "Cut7:    79.12+-6.15        73.24+-4.96\n",
        "Cut8:    99.83+-8.22        99.87+-7.30\n"
       ]
      }
     ],
     "prompt_number": 7
    },
    {
     "cell_type": "heading",
     "level": 1,
     "metadata": {},
     "source": [
      "S/B Study"
     ]
    },
    {
     "cell_type": "code",
     "collapsed": false,
     "input": [
      "Variables=[\"chi2\",\"DRHJ\",\"DRWH\",\"HM\",\"M2HP\",\"DRTp6thJ\",\"RelHT\"]\n",
      "BinsLimitsVariables=[\"(50,1,100)\",\"(38,0.5,10)\",\"(40,0,4)\",\"(20,0,50)\",\"(80,0.0,40.0)\",\"(40,0.5,10)\",\"(20,0.0,1.0)\"]\n",
      "VarUnits=[\"\",\"\",\"\",\"GeV/c^{2}\",\"\",\"\",\"\",\"\"]\n",
      "VarXaxis=[\"#chi^{2}\",\"#Delta R(bb)\",\"|#Delta R(WH)-2.8|\",\"|M(H)-125| GeV/c^{2}\",\"(M(top^{2nd})+M(W^{2nd})/M(H)\",\"#Delta R(T j^{6th})\",\"(p_{T}(H)+p_{T}(top))/H_{T}\"]\n",
      "\n",
      "#chi2Cut = ROOT.TCut(\"chi2<8\")\n",
      "CutsFromCLs=[ROOT.TCut(\"\"),chi2Cut,CutDRbb,CutDRWH,CutHM,CutM2HPCLs,CutDRTp6thJCLs]\n",
      "CumulCut=HTCut\n",
      "\n",
      "VerEff=\"chi2_Upto_RelHT\"\n",
      "\n",
      "EffFile= ROOT.TFile(\"Efficiencies_HTg550_\"+VerEff+\".root\", \"recreate\")\n",
      "PDFName=\"Efficiencies_Final_HTg550_\"+VerEff+\".pdf\"\n",
      "CurCanvScan = rootnotes.canvas(\"MyPlot\", (600, 800))\n",
      "\n",
      "SignalEffHistos=[]; TTJetsEffHistos=[]; QCDEffHistos=[]\n",
      "SoverTTJets=[]; SoverQCD=[]\n",
      "\n",
      "for i in xrange(len(CutsFromCLs)):\n",
      "    CumulCut=CumulCut*CutsFromCLs[i]\n",
      "\n",
      "    if i<2:\n",
      "        CutTy=\"l\"; MeanV=\"\"\n",
      "    elif i==3:\n",
      "        CutTy=\"w\"; MeanV=\"125\"\n",
      "    elif i==2:\n",
      "        CutTy=\"w\"; MeanV=\"2.8\"\n",
      "    else: \n",
      "        CutTy=\"g\"; MeanV=\"\"\n",
      "    SignalEffHistos.append(GetEffHisto(CutTy,MeanV,NMassPointsA[2],\"Signal\",Variables[i],BinsLimitsVariables[i],CumulCut))\n",
      "    TTJetsEffHistos.append(GetEffHisto(CutTy,MeanV,TntupleA,\"TTJets\",Variables[i],BinsLimitsVariables[i],CumulCut))\n",
      "    QCDEffHistos.append(GetEffHisto(CutTy,MeanV,QntuplesA[0],\"QCDHT500\",Variables[i],BinsLimitsVariables[i],CumulCut))\n",
      "    SoverTTJets.append(SignalEffHistos[-1].Clone(\"SoverTTJets\"+str(i)))\n",
      "    SoverTTJets[-1].Sumw2(); SoverTTJets[-1].Divide(TTJetsEffHistos[-1])\n",
      "    SoverQCD.append(SignalEffHistos[-1].Clone(\"SoverQCD\"+str(i)))\n",
      "    SoverQCD[-1].Sumw2(); SoverQCD[-1].Divide(QCDEffHistos[-1])\n",
      "    \n",
      "    QCDEffHistos[-1].SetStats(ROOT.kFALSE)\n",
      "    QCDEffHistos[-1].SetLineStyle(7); TTJetsEffHistos[-1].SetLineStyle(9); SignalEffHistos[-1].SetLineStyle(1)\n",
      "    QCDEffHistos[-1].SetLineWidth(2); TTJetsEffHistos[-1].SetLineWidth(1); SignalEffHistos[-1].SetLineWidth(3)\n",
      "    QCDEffHistos[-1].SetLineColor(ROOT.kViolet+1); TTJetsEffHistos[-1].SetLineColor(ROOT.kRed); SignalEffHistos[-1].SetLineColor(ROOT.kGreen+1)\n",
      "    \n",
      "    SoverTTJets[-1].SetLineStyle(8); SoverTTJets[-1].SetLineWidth(2); SoverTTJets[-1].SetLineColor(ROOT.kBlack)\n",
      "    SoverQCD[-1].SetLineStyle(5); SoverQCD[-1].SetLineWidth(2); SoverQCD[-1].SetLineColor(ROOT.kBlue)\n",
      "    \n",
      "    if i<=3: LEG=ROOT.TLegend(0.6,0.6,0.9,0.9)\n",
      "    elif i==5: LEG=ROOT.TLegend(0.15,0.2,0.45,0.5)\n",
      "    else: LEG=ROOT.TLegend(0.1,0.6,0.4,0.9)\n",
      "    LEG.AddEntry(QCDEffHistos[-1], \"QCD\", \"l\")#; LEG.AddEntry(ROOT.TObject(), GetMR(QCDEffHistos[-1]), \"\"); LEG.AddEntry(ROOT.TObject(), GetEWI(QCDEffHistos[-1]), \"\")\n",
      "    LEG.AddEntry(TTJetsEffHistos[-1], \"TTbar\", \"l\")#; LEG.AddEntry(ROOT.TObject(), GetMR(TTJetsEffHistos[-1]), \"\"); LEG.AddEntry(ROOT.TObject(), GetEWI(TTJetsEffHistos[-1]), \"\")\n",
      "    LEG.AddEntry(SignalEffHistos[-1], \"Signal\", \"l\")#; LEG.AddEntry(ROOT.TObject(), GetMR(SignalEffHistos[-1]), \"\"); LEG.AddEntry(ROOT.TObject(), GetEWI(SignalEffHistos[-1]), \"\")\n",
      "    \n",
      "    LEG.AddEntry(SoverTTJets[-1], \"#varepsilon(S)/#varepsilon(TTJets)\", \"l\")#; LEG.AddEntry(ROOT.TObject(), GetMR(SoverTTJets[-1]), \"\"); LEG.AddEntry(ROOT.TObject(), GetEWI(SoverTTJets[-1]), \"\")\n",
      "    LEG.AddEntry(SoverQCD[-1], \"#varepsilon(S)/#varepsilon(QCD)\", \"l\")#; LEG.AddEntry(ROOT.TObject(), GetMR(SoverQCD[-1]), \"\"); LEG.AddEntry(ROOT.TObject(), GetEWI(SoverQCD[-1]), \"\")\n",
      "    \n",
      "    LEG.SetFillColor(0);\n",
      "    Maxima=[QCDEffHistos[-1].GetMaximum(), TTJetsEffHistos[-1].GetMaximum(), SignalEffHistos[-1].GetMaximum(),\n",
      "            SoverTTJets[-1].GetMaximum(), SoverQCD[-1].GetMaximum()]\n",
      "    QCDEffHistos[-1].SetMaximum(1.05*max(Maxima))\n",
      "    \n",
      "    MinX=float(BinsLimitsVariables[i].split(\",\")[1])\n",
      "    MaxX=float(BinsLimitsVariables[i].split(\",\")[-1][0:-1])\n",
      "    Nbins=int(BinsLimitsVariables[i].split(\",\")[0][1:])\n",
      "    QCDEffHistos[-1].SetTitle(\";\"+VarXaxis[i]+\";Events/{0:.1f} \".format((MaxX-MinX)/Nbins)+VarUnits[i])\n",
      "    QCDEffHistos[-1].GetYaxis().SetTitleOffset(1.4)\n",
      "    \n",
      "    if i==4: \n",
      "        QCDEffHistos[-1].GetXaxis().SetRangeUser(0,10)\n",
      "        QCDEffHistos[-1].GetYaxis().SetRangeUser(0.1,10)\n",
      "        ROOT.gPad.SetLogy()\n",
      "    elif i==5: \n",
      "        QCDEffHistos[-1].GetXaxis().SetRangeUser(1.5,6)\n",
      "        QCDEffHistos[-1].GetYaxis().SetRangeUser(0.01,10)\n",
      "        ROOT.gPad.SetLogy()\n",
      "    elif i==1: \n",
      "        QCDEffHistos[-1].GetXaxis().SetRangeUser(0.5,5)\n",
      "        ROOT.gPad.SetLogy(0)\n",
      "    else: ROOT.gPad.SetLogy(0)\n",
      "    \n",
      "    QCDEffHistos[-1].Draw(\"hist e\"); TTJetsEffHistos[-1].Draw(\"hist e same\"); SignalEffHistos[-1].Draw(\"hist e same\")\n",
      "    SoverTTJets[-1].Draw(\"E0 same\"); SoverQCD[-1].Draw(\"E0 same\");\n",
      "    LEG.Draw()\n",
      "    \n",
      "    if i==0: CurCanvScan.Print(PDFName+\"(\",\"Title:\"+Variables[i])\n",
      "    elif i==(len(CutsFromCLs)-1): CurCanvScan.Print(PDFName+\")\",\"Title:\"+Variables[i])\n",
      "    else: CurCanvScan.Print(PDFName,\"Title:\"+Variables[i])\n",
      "    \n",
      "    SignalEffHistos[-1].Write(); TTJetsEffHistos[-1].Write(); QCDEffHistos[-1].Write()\n",
      "    SoverTTJets[-1].Write(); SoverQCD[-1].Write();\n",
      "    \n",
      "EffFile.Close()"
     ],
     "language": "python",
     "metadata": {},
     "outputs": [
      {
       "output_type": "stream",
       "stream": "stderr",
       "text": [
        "TH1F::Sumw2:0: RuntimeWarning: Sum of squares of weights structure already created\n",
        "TH1F::Sumw2:0: RuntimeWarning: Sum of squares of weights structure already created\n",
        "TH1F::Sumw2:0: RuntimeWarning: Sum of squares of weights structure already created\n",
        "TH1F::Sumw2:0: RuntimeWarning: Sum of squares of weights structure already created\n",
        "TH1F::Sumw2:0: RuntimeWarning: Sum of squares of weights structure already created\n"
       ]
      },
      {
       "output_type": "stream",
       "stream": "stderr",
       "text": [
        "TH1F::Sumw2:0: RuntimeWarning: Sum of squares of weights structure already created\n",
        "TH1F::Sumw2:0: RuntimeWarning: Sum of squares of weights structure already created\n"
       ]
      },
      {
       "output_type": "stream",
       "stream": "stderr",
       "text": [
        "TH1F::Sumw2:0: RuntimeWarning: Sum of squares of weights structure already created\n",
        "TH1F::Sumw2:0: RuntimeWarning: Sum of squares of weights structure already created\n"
       ]
      },
      {
       "output_type": "stream",
       "stream": "stderr",
       "text": [
        "TH1F::Sumw2:0: RuntimeWarning: Sum of squares of weights structure already created\n",
        "TH1F::Sumw2:0: RuntimeWarning: Sum of squares of weights structure already created\n"
       ]
      },
      {
       "output_type": "stream",
       "stream": "stderr",
       "text": [
        "TH1F::Sumw2:0: RuntimeWarning: Sum of squares of weights structure already created\n",
        "TH1F::Sumw2:0: RuntimeWarning: Sum of squares of weights structure already created\n"
       ]
      },
      {
       "output_type": "stream",
       "stream": "stderr",
       "text": [
        "TH1F::Sumw2:0: RuntimeWarning: Sum of squares of weights structure already created\n"
       ]
      }
     ],
     "prompt_number": 9
    },
    {
     "cell_type": "heading",
     "level": 2,
     "metadata": {},
     "source": [
      "Efficiencies for mass points"
     ]
    },
    {
     "cell_type": "code",
     "collapsed": false,
     "input": [
      "CutsFromCLs=[chi2Cut,CutDRbb,CutDRWH,CutHM,CutM2HPCLs,CutDRTp6thJCLs,CutRelHTCLs]\n",
      "CumulCut=HTCut\n",
      "\n",
      "#Preselection entries\n",
      "Total=np.array([95167., 98817., 99464., 99375., 95801., 99257., 99174., 95960., 99078.])\n",
      "Pre=np.array([26432., 29754., 32081., 33226., 32374., 34097., 34442., 32762., 32797.])\n",
      "PCut0=np.array([12635., 14965., 16899., 17906., 17781., 18661., 19183., 17876., 17540.])\n",
      "PCut1=np.array([10319., 13050., 15379., 16762., 16940., 17925., 18470., 17372., 17047.])\n",
      "PCut2=np.array([10187., 12918., 15288., 16713., 16903., 17883., 18441., 17342., 17026.])\n",
      "PCut3=np.array([3080., 3893., 4675., 5042., 4978., 5298., 5198., 4726., 4461.])\n",
      "\n",
      "SignalEntries=[Total, Pre, PCut0, PCut1, PCut2, PCut3]\n",
      "\n",
      "BinsLimits=\"(40,400,1600)\"\n",
      "\n",
      "for j in xrange(len(CutsFromCLs)):\n",
      "    CumulCut=CumulCut*CutsFromCLs[j]\n",
      "    Entries=[]\n",
      "    for i in xrange(9):\n",
      "        NMassPointsA[i].Draw(\"M5J >> M5jS\"+str(i)+\"_CutF\"+BinsLimits,CumulCut)\n",
      "        M5JHS=ROOT.gDirectory.Get(\"M5jS\"+str(i)+\"_CutF\")\n",
      "        Entries.append(M5JHS.GetEntries())\n",
      "    SignalEntries.append(np.array(Entries))\n",
      "\n",
      "print \"N-1 Efficiencies\"\n",
      "for k in xrange(len(SignalEntries)-1):\n",
      "    print \"Cut\"+str(k+1)+\": \"\n",
      "    for l in xrange(len(SignalEntries[k+1])):\n",
      "        print \" {0:.2f}+-{1:.2f}\".format(100*SignalEntries[k+1][l]/SignalEntries[k][l],\n",
      "                                         100*EffE(SignalEntries[k+1][l]/SignalEntries[k][l],SignalEntries[k][l]))\n",
      "        \n",
      "TotalEff=[]; TotalEffE=[]\n",
      "print \"Efficiencies with respect to total entries after preselection\"\n",
      "for k in xrange(len(SignalEntries)-2):\n",
      "    print \"Cut\"+str(k+2)+\": \"\n",
      "    for l in xrange(len(SignalEntries[k+2])):\n",
      "        if k==len(SignalEntries)-3: \n",
      "            TotalEff.append(100*SignalEntries[k+2][l]/SignalEntries[1][l])\n",
      "            TotalEffE.append(100*EffE(SignalEntries[k+2][l]/SignalEntries[1][l],SignalEntries[1][l]))\n",
      "        print \" {0:.2f}+-{1:.2f}\".format(100*SignalEntries[k+2][l]/SignalEntries[1][l],\n",
      "                                         100*EffE(SignalEntries[k+2][l]/SignalEntries[1][l],SignalEntries[1][l]))\n",
      "\n",
      "Masses=[600,650,700,750,800,850,900,950,1000]\n",
      "fig, ax = plt.subplots()\n",
      "ax.errorbar(Masses, TotalEff, yerr=TotalEffE, ecolor='k', marker='o', ms=5, color='black', ls='none')\n",
      "ax.set_xlabel(\"M(T) GeV/$c^{2}$\")\n",
      "ax.set_ylabel(\"Selection Efficiency [%]\")\n",
      "ax.xaxis.label.set_fontsize(18)\n",
      "ax.yaxis.label.set_fontsize(18)\n",
      "ax.xaxis.set_label_coords(0.89, -0.05)\n",
      "ax.yaxis.set_label_coords(-0.09, 0.69)\n",
      "ax.set_xlim(left=Masses[0]*0.95,right=Masses[-1]*1.05)\n",
      "ax.set_ylim(bottom=min(TotalEff)*0.85,top=max(TotalEff)*1.15)\n",
      "#plt.legend(loc='lower right')\n",
      "fig.savefig(\"Selection_Efficiency_V8.pdf\")\n",
      "fig.savefig(\"Selection_Efficiency_V8.png\")"
     ],
     "language": "python",
     "metadata": {},
     "outputs": [
      {
       "output_type": "stream",
       "stream": "stdout",
       "text": [
        "N-1 Efficiencies\n",
        "Cut1: \n",
        " 27.77+-0.15\n",
        " 30.11+-0.15\n",
        " 32.25+-0.15\n",
        " 33.43+-0.15\n",
        " 33.79+-0.15\n",
        " 34.35+-0.15\n",
        " 34.73+-0.15\n",
        " 34.14+-0.15\n",
        " 33.10+-0.15\n",
        "Cut2: \n",
        " 47.80+-0.31\n",
        " 50.30+-0.29\n",
        " 52.68+-0.28\n",
        " 53.89+-0.27\n",
        " 54.92+-0.28\n",
        " 54.73+-0.27\n",
        " 55.70+-0.27\n",
        " 54.56+-0.28\n",
        " 53.48+-0.28\n",
        "Cut3: \n",
        " 81.67+-0.34\n",
        " 87.20+-0.27\n",
        " 91.01+-0.22\n",
        " 93.61+-0.18\n",
        " 95.27+-0.16\n",
        " 96.06+-0.14\n",
        " 96.28+-0.14\n",
        " 97.18+-0.12\n",
        " 97.19+-0.12\n",
        "Cut4: \n",
        " 98.72+-0.11\n",
        " 98.99+-0.09\n",
        " 99.41+-0.06\n",
        " 99.71+-0.04\n",
        " 99.78+-0.04\n",
        " 99.77+-0.04\n",
        " 99.84+-0.03\n",
        " 99.83+-0.03\n",
        " 99.88+-0.03\n",
        "Cut5: \n",
        " 30.23+-0.46\n",
        " 30.14+-0.40\n",
        " 30.58+-0.37\n",
        " 30.17+-0.36\n",
        " 29.45+-0.35\n",
        " 29.63+-0.34\n",
        " 28.19+-0.33\n",
        " 27.25+-0.34\n",
        " 26.20+-0.34\n",
        "Cut6: \n",
        " 43.70+-0.89\n",
        " 47.29+-0.80\n",
        " 48.36+-0.73\n",
        " 47.32+-0.70\n",
        " 48.29+-0.71\n",
        " 45.73+-0.68\n",
        " 44.57+-0.69\n",
        " 42.81+-0.72\n",
        " 39.36+-0.73\n",
        "Cut7: \n",
        " 78.45+-1.12\n",
        " 87.62+-0.77\n",
        " 91.15+-0.60\n",
        " 93.04+-0.52\n",
        " 94.34+-0.47\n",
        " 94.76+-0.45\n",
        " 95.60+-0.43\n",
        " 95.95+-0.44\n",
        " 96.07+-0.46\n",
        "Cut8: \n",
        " 96.40+-0.57\n",
        " 97.40+-0.40\n",
        " 98.35+-0.28\n",
        " 98.06+-0.29\n",
        " 97.93+-0.30\n",
        " 97.87+-0.30\n",
        " 98.06+-0.29\n",
        " 97.32+-0.37\n",
        " 96.44+-0.45\n",
        "Cut9: \n",
        " 88.02+-1.02\n",
        " 88.16+-0.82\n",
        " 88.85+-0.70\n",
        " 88.15+-0.69\n",
        " 89.33+-0.66\n",
        " 90.30+-0.62\n",
        " 89.41+-0.66\n",
        " 88.35+-0.74\n",
        " 89.43+-0.76\n",
        "Cut10: \n",
        " 62.05+-1.62\n",
        " 61.73+-1.31\n",
        " 63.19+-1.14\n",
        " 66.91+-1.07\n",
        " 65.98+-1.06\n",
        " 68.85+-1.03\n",
        " 70.29+-1.04\n",
        " 70.16+-1.12\n",
        " 70.31+-1.20\n",
        "Cut11: \n",
        " 50.72+-2.12\n",
        " 59.42+-1.68\n",
        " 56.33+-1.47\n",
        " 57.24+-1.38\n",
        " 55.31+-1.37\n",
        " 57.12+-1.32\n",
        " 56.19+-1.34\n",
        " 56.11+-1.45\n",
        " 53.08+-1.56\n",
        "Cut12: \n",
        " 76.60+-2.52\n",
        " 83.46+-1.65\n",
        " 89.24+-1.22\n",
        " 90.61+-1.08\n",
        " 92.96+-0.95\n",
        " 95.24+-0.75\n",
        " 96.35+-0.68\n",
        " 96.04+-0.76\n",
        " 97.05+-0.73\n",
        "Efficiencies with respect to total entries after preselection\n",
        "Cut2: \n",
        " 47.80+-0.31\n",
        " 50.30+-0.29\n",
        " 52.68+-0.28\n",
        " 53.89+-0.27\n",
        " 54.92+-0.28\n",
        " 54.73+-0.27\n",
        " 55.70+-0.27\n",
        " 54.56+-0.28\n",
        " 53.48+-0.28\n",
        "Cut3: \n",
        " 39.04+-0.30\n",
        " 43.86+-0.29\n",
        " 47.94+-0.28\n",
        " 50.45+-0.27\n",
        " 52.33+-0.28\n",
        " 52.57+-0.27\n",
        " 53.63+-0.27\n",
        " 53.02+-0.28\n",
        " 51.98+-0.28\n",
        "Cut4: \n",
        " 38.54+-0.30\n",
        " 43.42+-0.29\n",
        " 47.65+-0.28\n",
        " 50.30+-0.27\n",
        " 52.21+-0.28\n",
        " 52.45+-0.27\n",
        " 53.54+-0.27\n",
        " 52.93+-0.28\n",
        " 51.91+-0.28\n",
        "Cut5: \n",
        " 11.65+-0.20\n",
        " 13.08+-0.20\n",
        " 14.57+-0.20\n",
        " 15.17+-0.20\n",
        " 15.38+-0.20\n",
        " 15.54+-0.20\n",
        " 15.09+-0.19\n",
        " 14.43+-0.19\n",
        " 13.60+-0.19\n",
        "Cut6: \n",
        " 5.09+-0.14\n",
        " 6.19+-0.14\n",
        " 7.05+-0.14\n",
        " 7.18+-0.14\n",
        " 7.43+-0.15\n",
        " 7.11+-0.14\n",
        " 6.73+-0.13\n",
        " 6.17+-0.13\n",
        " 5.35+-0.12\n",
        "Cut7: \n",
        " 4.00+-0.12\n",
        " 5.42+-0.13\n",
        " 6.42+-0.14\n",
        " 6.68+-0.14\n",
        " 7.01+-0.14\n",
        " 6.73+-0.14\n",
        " 6.43+-0.13\n",
        " 5.92+-0.13\n",
        " 5.14+-0.12\n",
        "Cut8: \n",
        " 3.85+-0.12\n",
        " 5.28+-0.13\n",
        " 6.32+-0.14\n",
        " 6.55+-0.14\n",
        " 6.86+-0.14\n",
        " 6.59+-0.13\n",
        " 6.31+-0.13\n",
        " 5.77+-0.13\n",
        " 4.96+-0.12\n",
        "Cut9: \n",
        " 3.39+-0.11\n",
        " 4.65+-0.12\n",
        " 5.61+-0.13\n",
        " 5.78+-0.13\n",
        " 6.13+-0.13\n",
        " 5.95+-0.13\n",
        " 5.64+-0.12\n",
        " 5.09+-0.12\n",
        " 4.44+-0.11\n",
        "Cut10: \n",
        " 2.10+-0.09\n",
        " 2.87+-0.10\n",
        " 3.55+-0.10\n",
        " 3.86+-0.11\n",
        " 4.04+-0.11\n",
        " 4.10+-0.11\n",
        " 3.96+-0.11\n",
        " 3.57+-0.10\n",
        " 3.12+-0.10\n",
        "Cut11: \n",
        " 1.07+-0.06\n",
        " 1.71+-0.08\n",
        " 2.00+-0.08\n",
        " 2.21+-0.08\n",
        " 2.24+-0.08\n",
        " 2.34+-0.08\n",
        " 2.23+-0.08\n",
        " 2.01+-0.08\n",
        " 1.66+-0.07\n",
        "Cut12: \n",
        " 0.82+-0.06\n",
        " 1.43+-0.07\n",
        " 1.78+-0.07\n",
        " 2.00+-0.08\n",
        " 2.08+-0.08\n",
        " 2.23+-0.08\n",
        " 2.15+-0.08\n",
        " 1.93+-0.08\n",
        " 1.61+-0.07\n"
       ]
      }
     ],
     "prompt_number": 4
    },
    {
     "cell_type": "code",
     "collapsed": false,
     "input": [],
     "language": "python",
     "metadata": {},
     "outputs": []
    }
   ],
   "metadata": {}
  }
 ]
}