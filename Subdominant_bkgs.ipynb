{
 "metadata": {
  "name": ""
 },
 "nbformat": 3,
 "nbformat_minor": 0,
 "worksheets": [
  {
   "cells": [
    {
     "cell_type": "code",
     "collapsed": false,
     "input": [
      "import ROOT\n",
      "import numpy as np\n",
      "import matplotlib.pyplot as plt\n",
      "from array import array\n",
      "import rootnotes\n",
      "def DPHI(x):\n",
      "    if x>=np.pi: return x-2*np.pi\n",
      "    elif x<-np.pi: return x+2*np.pi\n",
      "    else: return x\n",
      "VersionProc=\"V121\"\n",
      "Base=\"/home/jruizalv/\"\n",
      "InclusiveVersions=[\"Version121/\",\"Version122/\",\"Version123/\"]"
     ],
     "language": "python",
     "metadata": {},
     "outputs": [],
     "prompt_number": 1
    },
    {
     "cell_type": "code",
     "collapsed": false,
     "input": [
      "#Corrections\n",
      "PU_weight=[0.283904, 0.223747, 0.155297, 0.26765, 0.298877, 0.723858, 0.544046, 0.536757, 0.733619, 1.0669, 1.48245, 1.80291, 1.80134, 1.58708, 1.34094, 1.15851, 1.0611, 1.02807, 1.04437, 1.08871, 1.12881, 1.15127, 1.15997, 1.15499, 1.12965, 1.07905, 1.00491, 0.914114, 0.813124, 0.707008, 0.599841, 0.495265, 0.39636, 0.306662, 0.22925, 0.166144, 0.118378, 0.0850749, 0.063948, 0.0523125, 0.0476093, 0.0478425, 0.0516782, 0.0583517, 0.0676538, 0.0795915, 0.0944514, 0.112777, 0.135238, 0.162647, 0.196085, 0.236688, 0.286083, 0.34616, 0.418813, 0.506749, 0.612955, 0.741067, 0.894819, 2.26873]\n",
      "def PUR_function(TI):\n",
      "  if (TI>=60): return 1\n",
      "  else: return PU_weight[TI]"
     ],
     "language": "python",
     "metadata": {},
     "outputs": [],
     "prompt_number": 2
    },
    {
     "cell_type": "heading",
     "level": 1,
     "metadata": {},
     "source": [
      "Declaring MC files and Ntuples"
     ]
    },
    {
     "cell_type": "code",
     "collapsed": false,
     "input": [
      "files = [\"T-s_5318_Full_analyzed.root\",\n",
      "         \"T-t_5318_Full_analyzed.root\",\n",
      "         \"T-tw_5318_Full_analyzed.root\",\n",
      "         \"Tbar-s_5318_Full_analyzed.root\",\n",
      "         \"Tbar-t_5318_Full_analyzed.root\",\n",
      "         \"Tbar-tw_5318_Full_analyzed.root\",\n",
      "         \"WW_5318_Full_analyzed.root\",\n",
      "         \"WZ_5318_Full_analyzed.root\",\n",
      "         \"ZZ_5318_Full_analyzed.root\",\n",
      "         \"DYToBB_5318_Full_analyzed.root\",\n",
      "         \"DYToCC_5318_Full_analyzed.root\",\n",
      "         \"QCD_PT_120_170-v3_Full_analyzed.root\",\n",
      "         \"QCD_PT_170_300_5318_Full_analyzed.root\",\n",
      "         \"QCD_PT_300_470_5318_Full_analyzed.root\",\n",
      "         \"QCD_PT_470_600_5318_Full_analyzed.root\",\n",
      "         \"QCD_PT_600_800_5318_Full_analyzed.root\",\n",
      "         \"QCD_PT_800_1000_5318_Full_analyzed.root\"]\n",
      "\n",
      "TreeStructureA=\"M5J:DRHJ:DRWH:RelHT:M2HP:DRTp6thJ:HM:chi2:MTHAsym:NTI:weight\"\n",
      "TreeStructure=\"M5J:DRHJ:DRWH:RelHT:M2HP:DRTp6thJ:HM:chi2:MTHAsym\"\n",
      "\n",
      "#Signal Sample\n",
      "TsA=ROOT.TNtuple(\"TsA\",\"TsA\",TreeStructureA)\n",
      "TtA=ROOT.TNtuple(\"TtA\",\"TtA\",TreeStructureA)\n",
      "TtwA=ROOT.TNtuple(\"TtwA\",\"TtwA\",TreeStructureA)\n",
      "TbarsA=ROOT.TNtuple(\"TbarsA\",\"TbarsA\",TreeStructureA)\n",
      "TbartA=ROOT.TNtuple(\"TbartA\",\"TbartA\",TreeStructureA)\n",
      "TbartwA=ROOT.TNtuple(\"TbartwA\",\"TbartwA\",TreeStructureA)\n",
      "TsinglentuplesA=[TsA,TtA,TtwA,TbarsA,TbartA,TbartwA]\n",
      "\n",
      "WWA=ROOT.TNtuple(\"WWA\",\"WWA\",TreeStructureA)\n",
      "WZA=ROOT.TNtuple(\"WZA\",\"WZA\",TreeStructureA)\n",
      "ZZA=ROOT.TNtuple(\"ZZA\",\"ZZA\",TreeStructureA)\n",
      "DibosonntupleA=[WWA,WZA,ZZA]\n",
      "\n",
      "DYBBA=ROOT.TNtuple(\"DYBBA\",\"DYBBA\",TreeStructureA)\n",
      "DYCCA=ROOT.TNtuple(\"DYCCA\",\"DYCCA\",TreeStructureA)\n",
      "DYntupleA=[DYBBA,DYCCA]\n",
      "\n",
      "QCD120A=ROOT.TNtuple(\"QCD120A\",\"QCD120A\",TreeStructureA)\n",
      "QCD170A=ROOT.TNtuple(\"QCD170A\",\"QCD170A\",TreeStructureA)\n",
      "QCD300A=ROOT.TNtuple(\"QCD300A\",\"QCD300A\",TreeStructureA)\n",
      "QCD470A=ROOT.TNtuple(\"QCD470A\",\"QCD470A\",TreeStructureA)\n",
      "QCD600A=ROOT.TNtuple(\"QCD600A\",\"QCD600A\",TreeStructureA)\n",
      "QCD800A=ROOT.TNtuple(\"QCD800A\",\"QCD800A\",TreeStructureA)\n",
      "QCDPTntupleA=[QCD120A,QCD170A,QCD300A,QCD470A,QCD600A,QCD800A]\n",
      "\n",
      "#Control Sample CSVL=[0.244,0.679)\n",
      "TsE=ROOT.TNtuple(\"TsE\",\"TsE\",TreeStructure)\n",
      "TtE=ROOT.TNtuple(\"TtE\",\"TtE\",TreeStructure)\n",
      "TtwE=ROOT.TNtuple(\"TtwE\",\"TtwE\",TreeStructure)\n",
      "TbarsE=ROOT.TNtuple(\"TbarsE\",\"TbarsE\",TreeStructure)\n",
      "TbartE=ROOT.TNtuple(\"TbartE\",\"TbartE\",TreeStructure)\n",
      "TbartwE=ROOT.TNtuple(\"TbartwE\",\"TbartwE\",TreeStructure)\n",
      "TsinglentuplesE=[TsE,TtE,TtwE,TbarsE,TbartE,TbartwE]\n",
      "\n",
      "WWE=ROOT.TNtuple(\"WWE\",\"WWE\",TreeStructure)\n",
      "WZE=ROOT.TNtuple(\"WZE\",\"WZE\",TreeStructure)\n",
      "ZZE=ROOT.TNtuple(\"ZZE\",\"ZZE\",TreeStructure)\n",
      "DibosonntupleE=[WWE,WZE,ZZE]\n",
      "\n",
      "DYBBE=ROOT.TNtuple(\"DYBBE\",\"DYBBE\",TreeStructure)\n",
      "DYCCE=ROOT.TNtuple(\"DYCCE\",\"DYCCE\",TreeStructure)\n",
      "DYntupleE=[DYBBE,DYCCE]\n",
      "\n",
      "QCD120E=ROOT.TNtuple(\"QCD120E\",\"QCD120E\",TreeStructure)\n",
      "QCD170E=ROOT.TNtuple(\"QCD170E\",\"QCD170E\",TreeStructure)\n",
      "QCD300E=ROOT.TNtuple(\"QCD300E\",\"QCD300E\",TreeStructure)\n",
      "QCD470E=ROOT.TNtuple(\"QCD470E\",\"QCD470E\",TreeStructure)\n",
      "QCD600E=ROOT.TNtuple(\"QCD600E\",\"QCD600E\",TreeStructure)\n",
      "QCD800E=ROOT.TNtuple(\"QCD800E\",\"QCD800E\",TreeStructure)\n",
      "QCDPTntupleE=[QCD120E,QCD170E,QCD300E,QCD470E,QCD600E,QCD800E]\n",
      "\n",
      "#Control Sample CSVL=[0.389,0.679)\n",
      "TsE1=ROOT.TNtuple(\"TsE1\",\"TsE1\",TreeStructure)\n",
      "TtE1=ROOT.TNtuple(\"TtE1\",\"TtE1\",TreeStructure)\n",
      "TtwE1=ROOT.TNtuple(\"TtwE1\",\"TtwE1\",TreeStructure)\n",
      "TbarsE1=ROOT.TNtuple(\"TbarsE1\",\"TbarsE1\",TreeStructure)\n",
      "TbartE1=ROOT.TNtuple(\"TbartE1\",\"TbartE1\",TreeStructure)\n",
      "TbartwE1=ROOT.TNtuple(\"TbartwE1\",\"TbartwE1\",TreeStructure)\n",
      "TsinglentuplesE1=[TsE1,TtE1,TtwE1,TbarsE1,TbartE1,TbartwE1]\n",
      "\n",
      "WWE1=ROOT.TNtuple(\"WWE1\",\"WWE1\",TreeStructure)\n",
      "WZE1=ROOT.TNtuple(\"WZE1\",\"WZE1\",TreeStructure)\n",
      "ZZE1=ROOT.TNtuple(\"ZZE1\",\"ZZE1\",TreeStructure)\n",
      "DibosonntupleE1=[WWE1,WZE1,ZZE1]\n",
      "\n",
      "DYBBE1=ROOT.TNtuple(\"DYBBE1\",\"DYBBE1\",TreeStructure)\n",
      "DYCCE1=ROOT.TNtuple(\"DYCCE1\",\"DYCCE1\",TreeStructure)\n",
      "DYntupleE1=[DYBBE1,DYCCE1]\n",
      "\n",
      "QCD120E1=ROOT.TNtuple(\"QCD120E1\",\"QCD120E1\",TreeStructure)\n",
      "QCD170E1=ROOT.TNtuple(\"QCD170E1\",\"QCD170E1\",TreeStructure)\n",
      "QCD300E1=ROOT.TNtuple(\"QCD300E1\",\"QCD300E1\",TreeStructure)\n",
      "QCD470E1=ROOT.TNtuple(\"QCD470E1\",\"QCD470E1\",TreeStructure)\n",
      "QCD600E1=ROOT.TNtuple(\"QCD600E1\",\"QCD600E1\",TreeStructure)\n",
      "QCD800E1=ROOT.TNtuple(\"QCD800E1\",\"QCD800E1\",TreeStructure)\n",
      "QCDPTntupleE1=[QCD120E1,QCD170E1,QCD300E1,QCD470E1,QCD600E1,QCD800E1]\n",
      "\n",
      "#Control Sample CSVL=[0.534,0.679)\n",
      "TsE2=ROOT.TNtuple(\"TsE2\",\"TsE2\",TreeStructure)\n",
      "TtE2=ROOT.TNtuple(\"TtE2\",\"TtE2\",TreeStructure)\n",
      "TtwE2=ROOT.TNtuple(\"TtwE2\",\"TtwE2\",TreeStructure)\n",
      "TbarsE2=ROOT.TNtuple(\"TbarsE2\",\"TbarsE2\",TreeStructure)\n",
      "TbartE2=ROOT.TNtuple(\"TbartE2\",\"TbartE2\",TreeStructure)\n",
      "TbartwE2=ROOT.TNtuple(\"TbartwE2\",\"TbartwE2\",TreeStructure)\n",
      "TsinglentuplesE2=[TsE2,TtE2,TtwE2,TbarsE2,TbartE2,TbartwE2]\n",
      "\n",
      "WWE2=ROOT.TNtuple(\"WWE2\",\"WWE2\",TreeStructure)\n",
      "WZE2=ROOT.TNtuple(\"WZE2\",\"WZE2\",TreeStructure)\n",
      "ZZE2=ROOT.TNtuple(\"ZZE2\",\"ZZE2\",TreeStructure)\n",
      "DibosonntupleE2=[WWE2,WZE2,ZZE2]\n",
      "\n",
      "DYBBE2=ROOT.TNtuple(\"DYBBE2\",\"DYBBE2\",TreeStructure)\n",
      "DYCCE2=ROOT.TNtuple(\"DYCCE2\",\"DYCCE2\",TreeStructure)\n",
      "DYntupleE2=[DYBBE2,DYCCE2]\n",
      "\n",
      "QCD120E2=ROOT.TNtuple(\"QCD120E2\",\"QCD120E2\",TreeStructure)\n",
      "QCD170E2=ROOT.TNtuple(\"QCD170E2\",\"QCD170E2\",TreeStructure)\n",
      "QCD300E2=ROOT.TNtuple(\"QCD300E2\",\"QCD300E2\",TreeStructure)\n",
      "QCD470E2=ROOT.TNtuple(\"QCD470E2\",\"QCD470E2\",TreeStructure)\n",
      "QCD600E2=ROOT.TNtuple(\"QCD600E2\",\"QCD600E2\",TreeStructure)\n",
      "QCD800E2=ROOT.TNtuple(\"QCD800E2\",\"QCD800E2\",TreeStructure)\n",
      "QCDPTntupleE2=[QCD120E2,QCD170E2,QCD300E2,QCD470E2,QCD600E2,QCD800E2]"
     ],
     "language": "python",
     "metadata": {},
     "outputs": [],
     "prompt_number": 3
    },
    {
     "cell_type": "heading",
     "level": 2,
     "metadata": {},
     "source": [
      "Reading files and filling the MC Ntuple"
     ]
    },
    {
     "cell_type": "code",
     "collapsed": false,
     "input": [
      "for f in files:\n",
      "    ff=Base+InclusiveVersions[0]+f\n",
      "    CutsChain=ROOT.TChain(\"stp\")\n",
      "    CutsChain.Add(ff)\n",
      "    entries = CutsChain.GetEntries()\n",
      "    print \"Entries for file \", f, \" are: \", entries\n",
      "    Entries=entries\n",
      "    for i in xrange(Entries):\n",
      "        CutsChain.GetEntry(i)\n",
      "        Corr=PUR_function(CutsChain.Number_True_Interactions)*CutsChain.weight\n",
      "        HiggsV=ROOT.TLorentzVector(CutsChain.Reconstructed_Higgs.X(),CutsChain.Reconstructed_Higgs.Y(),CutsChain.Reconstructed_Higgs.Z(),CutsChain.Reconstructed_Higgs.T())\n",
      "        Higgs2ndJV=ROOT.TLorentzVector(CutsChain.Second_Higgs_Jet.X(),CutsChain.Second_Higgs_Jet.Y(),CutsChain.Second_Higgs_Jet.Z(),CutsChain.Second_Higgs_Jet.T())\n",
      "        J6thV=ROOT.TLorentzVector(CutsChain.Jet6th.X(),CutsChain.Jet6th.Y(),CutsChain.Jet6th.Z(),CutsChain.Jet6th.T())\n",
      "        TprimeV=ROOT.TLorentzVector(CutsChain.Reconstructed_Tprime.X(),CutsChain.Reconstructed_Tprime.Y(),CutsChain.Reconstructed_Tprime.Z(),CutsChain.Reconstructed_Tprime.T())\n",
      "        Top2=HiggsV+J6thV\n",
      "        W2=Higgs2ndJV+J6thV\n",
      "        TopJV=ROOT.TLorentzVector(CutsChain.Top_Jet.X(),CutsChain.Top_Jet.Y(),CutsChain.Top_Jet.Z(),CutsChain.Top_Jet.T())\n",
      "        #M5J:DRHJ:DRWH:RelHT:M2HP:DRTp6thJ:HM:chi2:MTHAsym\n",
      "        ListOfVariables = [CutsChain.Reconstructed_Tprime.M()*Corr,\n",
      "                        CutsChain.DeltaR_of_Higgs_Jets*Corr,\n",
      "                        CutsChain.DeltaR_of_W_Higgs*Corr,\n",
      "                        CutsChain.Relative_THT*Corr,\n",
      "                        ((Top2.M()+W2.M())/CutsChain.Reconstructed_Higgs.M())*Corr,\n",
      "                        TprimeV.DeltaR(J6thV)*Corr,\n",
      "                        CutsChain.Reconstructed_Higgs.M()*Corr,\n",
      "                        (CutsChain.HiggsChi2+CutsChain.TopChi2)*Corr,\n",
      "                        ((CutsChain.Reconstructed_Top.M()-CutsChain.Reconstructed_Higgs.M())/(CutsChain.Reconstructed_Top.M()+CutsChain.Reconstructed_Higgs.M()))*Corr,\n",
      "                        CutsChain.Number_True_Interactions,\n",
      "                        CutsChain.weight]\n",
      "        if files.index(f)>=0 and files.index(f)<=5:            \n",
      "            TsinglentuplesA[files.index(f)].Fill(array('f',ListOfVariables))\n",
      "        elif files.index(f)>=6 and files.index(f)<=8:\n",
      "            DibosonntupleA[files.index(f)-6].Fill(array('f',ListOfVariables))\n",
      "        elif files.index(f)>=9 and files.index(f)<=10:\n",
      "            DYntupleA[files.index(f)-9].Fill(array('f',ListOfVariables))\n",
      "        elif files.index(f)>=11 and files.index(f)<=(len(files)-1):\n",
      "            QCDPTntupleA[files.index(f)-11].Fill(array('f',ListOfVariables))"
     ],
     "language": "python",
     "metadata": {},
     "outputs": [
      {
       "output_type": "stream",
       "stream": "stdout",
       "text": [
        "Entries for file  T-s_5318_Full_analyzed.root  are:  57\n",
        "Entries for file "
       ]
      },
      {
       "output_type": "stream",
       "stream": "stdout",
       "text": [
        " T-t_5318_Full_analyzed.root  are:  357\n",
        "Entries for file "
       ]
      },
      {
       "output_type": "stream",
       "stream": "stdout",
       "text": [
        " T-tw_5318_Full_analyzed.root  are:  358\n",
        "Entries for file "
       ]
      },
      {
       "output_type": "stream",
       "stream": "stdout",
       "text": [
        " Tbar-s_5318_Full_analyzed.root  are:  23\n",
        "Entries for file "
       ]
      },
      {
       "output_type": "stream",
       "stream": "stdout",
       "text": [
        " Tbar-t_5318_Full_analyzed.root  are:  170\n",
        "Entries for file "
       ]
      },
      {
       "output_type": "stream",
       "stream": "stdout",
       "text": [
        " Tbar-tw_5318_Full_analyzed.root  are:  372\n",
        "Entries for file "
       ]
      },
      {
       "output_type": "stream",
       "stream": "stdout",
       "text": [
        " WW_5318_Full_analyzed.root  are:  32\n",
        "Entries for file "
       ]
      },
      {
       "output_type": "stream",
       "stream": "stdout",
       "text": [
        " WZ_5318_Full_analyzed.root  are:  80\n",
        "Entries for file "
       ]
      },
      {
       "output_type": "stream",
       "stream": "stdout",
       "text": [
        " ZZ_5318_Full_analyzed.root  are:  208\n",
        "Entries for file "
       ]
      },
      {
       "output_type": "stream",
       "stream": "stdout",
       "text": [
        " DYToBB_5318_Full_analyzed.root  are:  7\n",
        "Entries for file "
       ]
      },
      {
       "output_type": "stream",
       "stream": "stdout",
       "text": [
        " DYToCC_5318_Full_analyzed.root  are:  0\n",
        "Entries for file  QCD_PT_120_170-v3_Full_analyzed.root  are:  8\n",
        "Entries for file "
       ]
      },
      {
       "output_type": "stream",
       "stream": "stdout",
       "text": [
        " QCD_PT_170_300_5318_Full_analyzed.root  are:  272\n",
        "Entries for file "
       ]
      },
      {
       "output_type": "stream",
       "stream": "stdout",
       "text": [
        " QCD_PT_300_470_5318_Full_analyzed.root  are:  1315\n",
        "Entries for file "
       ]
      },
      {
       "output_type": "stream",
       "stream": "stdout",
       "text": [
        " QCD_PT_470_600_5318_Full_analyzed.root  are:  1193\n",
        "Entries for file "
       ]
      },
      {
       "output_type": "stream",
       "stream": "stdout",
       "text": [
        " QCD_PT_600_800_5318_Full_analyzed.root  are:  1312\n",
        "Entries for file "
       ]
      },
      {
       "output_type": "stream",
       "stream": "stdout",
       "text": [
        " QCD_PT_800_1000_5318_Full_analyzed.root  are:  1282\n"
       ]
      }
     ],
     "prompt_number": 4
    },
    {
     "cell_type": "code",
     "collapsed": false,
     "input": [
      "Entries=10000\n",
      "NsignalFiles=9\n",
      "for V in InclusiveVersions:\n",
      "    for f in files:\n",
      "        ff=Base+V+f\n",
      "        CutsChain=ROOT.TChain(\"stp3LNC\")\n",
      "        CutsChain.Add(ff)\n",
      "        entries = CutsChain.GetEntries()\n",
      "        if files.index(f)>=0 and files.index(f)<=NsignalFiles-1: print \"Filling signal...\"\n",
      "        elif files.index(f)>0: print \"Filling bkgs...\"\n",
      "        print \"Entries for file \", f, \" are: \", entries\n",
      "        Entries=entries\n",
      "        for i in xrange(Entries):\n",
      "            CutsChain.GetEntry(i)\n",
      "            HiggsV=ROOT.TLorentzVector(CutsChain.Reconstructed_Higgs3L.X(),CutsChain.Reconstructed_Higgs3L.Y(),CutsChain.Reconstructed_Higgs3L.Z(),CutsChain.Reconstructed_Higgs3L.T())\n",
      "            Higgs1stJV=ROOT.TLorentzVector(CutsChain.First_Higgs_Jet3L.X(),CutsChain.First_Higgs_Jet3L.Y(),CutsChain.First_Higgs_Jet3L.Z(),CutsChain.First_Higgs_Jet3L.T())\n",
      "            Higgs2ndJV=ROOT.TLorentzVector(CutsChain.Second_Higgs_Jet3L.X(),CutsChain.Second_Higgs_Jet3L.Y(),CutsChain.Second_Higgs_Jet3L.Z(),CutsChain.Second_Higgs_Jet3L.T())\n",
      "            J6thV=ROOT.TLorentzVector(CutsChain.Jet6th.X(),CutsChain.Jet6th.Y(),CutsChain.Jet6th.Z(),CutsChain.Jet6th.T())\n",
      "            TprimeV=ROOT.TLorentzVector(CutsChain.Reconstructed_Tprime3L.X(),CutsChain.Reconstructed_Tprime3L.Y(),CutsChain.Reconstructed_Tprime3L.Z(),CutsChain.Reconstructed_Tprime3L.T())\n",
      "            W1V=ROOT.TLorentzVector(CutsChain.Reconstructed_W3L.X(),CutsChain.Reconstructed_W3L.Y(),CutsChain.Reconstructed_W3L.Z(),CutsChain.Reconstructed_W3L.T())\n",
      "            Top2=HiggsV+J6thV\n",
      "            W2=Higgs2ndJV+J6thV\n",
      "            TopJV=ROOT.TLorentzVector(CutsChain.Top_Jet3L.X(),CutsChain.Top_Jet3L.Y(),CutsChain.Top_Jet3L.Z(),CutsChain.Top_Jet3L.T())\n",
      "            #M5J:DRHJ:DRWH:RelHT:M2HP:DRTp6thJ:HM:chi2:MTHAsym\n",
      "            ListOfVariables = [CutsChain.Reconstructed_Tprime3L.M(),\n",
      "                        Higgs1stJV.DeltaR(Higgs2ndJV),\n",
      "                        HiggsV.DeltaR(W1V),\n",
      "                        (CutsChain.Reconstructed_Higgs3L.Pt()+CutsChain.Reconstructed_Top3L.Pt())/CutsChain.THT,\n",
      "                        (Top2.M()+W2.M())/CutsChain.Reconstructed_Higgs3L.M(),\n",
      "                        TprimeV.DeltaR(J6thV),\n",
      "                        CutsChain.Reconstructed_Higgs3L.M(),\n",
      "                        (CutsChain.HiggsChi2+CutsChain.TopChi2),\n",
      "                        (CutsChain.Reconstructed_Top3L.M()-CutsChain.Reconstructed_Higgs3L.M())/(CutsChain.Reconstructed_Top3L.M()+CutsChain.Reconstructed_Higgs3L.M())]\n",
      "            if files.index(f)>=0 and files.index(f)<=5:            \n",
      "                if InclusiveVersions.index(V)==0: TsinglentuplesE[files.index(f)].Fill(array('f',ListOfVariables))\n",
      "                elif InclusiveVersions.index(V)==1: TsinglentuplesE1[files.index(f)].Fill(array('f',ListOfVariables))\n",
      "                elif InclusiveVersions.index(V)==2: TsinglentuplesE2[files.index(f)].Fill(array('f',ListOfVariables))\n",
      "            elif files.index(f)>=6 and files.index(f)<=8:\n",
      "                if InclusiveVersions.index(V)==0: DibosonntupleE[files.index(f)-6].Fill(array('f',ListOfVariables))\n",
      "                elif InclusiveVersions.index(V)==1: DibosonntupleE1[files.index(f)-6].Fill(array('f',ListOfVariables))\n",
      "                elif InclusiveVersions.index(V)==2: DibosonntupleE2[files.index(f)-6].Fill(array('f',ListOfVariables))\n",
      "            elif files.index(f)>=9 and files.index(f)<=10:\n",
      "                if InclusiveVersions.index(V)==0: DYntupleE[files.index(f)-9].Fill(array('f',ListOfVariables))\n",
      "                if InclusiveVersions.index(V)==1: DYntupleE1[files.index(f)-9].Fill(array('f',ListOfVariables))\n",
      "                if InclusiveVersions.index(V)==2: DYntupleE2[files.index(f)-9].Fill(array('f',ListOfVariables))\n",
      "            elif files.index(f)>=11 and files.index(f)<=(len(files)-1):\n",
      "                if InclusiveVersions.index(V)==0: QCDPTntupleE[files.index(f)-11].Fill(array('f',ListOfVariables))\n",
      "                if InclusiveVersions.index(V)==1: QCDPTntupleE1[files.index(f)-11].Fill(array('f',ListOfVariables))\n",
      "                if InclusiveVersions.index(V)==2: QCDPTntupleE2[files.index(f)-11].Fill(array('f',ListOfVariables))"
     ],
     "language": "python",
     "metadata": {},
     "outputs": [
      {
       "output_type": "stream",
       "stream": "stdout",
       "text": [
        "Filling signal...\n",
        "Entries for file  T-s_5318_Full_analyzed.root  are:  7488\n",
        "Filling signal..."
       ]
      },
      {
       "output_type": "stream",
       "stream": "stdout",
       "text": [
        "\n",
        "Entries for file  T-t_5318_Full_analyzed.root  are:  57762\n",
        "Filling signal..."
       ]
      },
      {
       "output_type": "stream",
       "stream": "stdout",
       "text": [
        "\n",
        "Entries for file  T-tw_5318_Full_analyzed.root  are:  71973\n",
        "Filling signal..."
       ]
      },
      {
       "output_type": "stream",
       "stream": "stdout",
       "text": [
        "\n",
        "Entries for file  Tbar-s_5318_Full_analyzed.root  are:  2817\n",
        "Filling signal..."
       ]
      },
      {
       "output_type": "stream",
       "stream": "stdout",
       "text": [
        "\n",
        "Entries for file  Tbar-t_5318_Full_analyzed.root  are:  23700\n",
        "Filling signal..."
       ]
      },
      {
       "output_type": "stream",
       "stream": "stdout",
       "text": [
        "\n",
        "Entries for file  Tbar-tw_5318_Full_analyzed.root  are:  66150\n",
        "Filling signal..."
       ]
      },
      {
       "output_type": "stream",
       "stream": "stdout",
       "text": [
        "\n",
        "Entries for file  WW_5318_Full_analyzed.root  are:  14649\n",
        "Filling signal..."
       ]
      },
      {
       "output_type": "stream",
       "stream": "stdout",
       "text": [
        "\n",
        "Entries for file  WZ_5318_Full_analyzed.root  are:  22332\n",
        "Filling signal..."
       ]
      },
      {
       "output_type": "stream",
       "stream": "stdout",
       "text": [
        "\n",
        "Entries for file  ZZ_5318_Full_analyzed.root  are:  25086\n",
        "Filling bkgs..."
       ]
      },
      {
       "output_type": "stream",
       "stream": "stdout",
       "text": [
        "\n",
        "Entries for file  DYToBB_5318_Full_analyzed.root  are:  303\n",
        "Filling bkgs..."
       ]
      },
      {
       "output_type": "stream",
       "stream": "stdout",
       "text": [
        "\n",
        "Entries for file  DYToCC_5318_Full_analyzed.root  are:  501\n",
        "Filling bkgs..."
       ]
      },
      {
       "output_type": "stream",
       "stream": "stdout",
       "text": [
        "\n",
        "Entries for file  QCD_PT_120_170-v3_Full_analyzed.root  are:  7995\n",
        "Filling bkgs..."
       ]
      },
      {
       "output_type": "stream",
       "stream": "stdout",
       "text": [
        "\n",
        "Entries for file  QCD_PT_170_300_5318_Full_analyzed.root  are:  114789\n",
        "Filling bkgs..."
       ]
      },
      {
       "output_type": "stream",
       "stream": "stdout",
       "text": [
        "\n",
        "Entries for file  QCD_PT_300_470_5318_Full_analyzed.root  are:  528369\n",
        "Filling bkgs..."
       ]
      },
      {
       "output_type": "stream",
       "stream": "stdout",
       "text": [
        "\n",
        "Entries for file  QCD_PT_470_600_5318_Full_analyzed.root  are:  549144\n",
        "Filling bkgs..."
       ]
      },
      {
       "output_type": "stream",
       "stream": "stdout",
       "text": [
        "\n",
        "Entries for file  QCD_PT_600_800_5318_Full_analyzed.root  are:  616857\n",
        "Filling bkgs..."
       ]
      },
      {
       "output_type": "stream",
       "stream": "stdout",
       "text": [
        "\n",
        "Entries for file  QCD_PT_800_1000_5318_Full_analyzed.root  are:  627201\n",
        "Filling signal..."
       ]
      },
      {
       "output_type": "stream",
       "stream": "stdout",
       "text": [
        "\n",
        "Entries for file  T-s_5318_Full_analyzed.root  are:  2913\n",
        "Filling signal..."
       ]
      },
      {
       "output_type": "stream",
       "stream": "stdout",
       "text": [
        "\n",
        "Entries for file  T-t_5318_Full_analyzed.root  are:  17826\n",
        "Filling signal..."
       ]
      },
      {
       "output_type": "stream",
       "stream": "stdout",
       "text": [
        "\n",
        "Entries for file  T-tw_5318_Full_analyzed.root  are:  23259\n",
        "Filling signal..."
       ]
      },
      {
       "output_type": "stream",
       "stream": "stdout",
       "text": [
        "\n",
        "Entries for file  Tbar-s_5318_Full_analyzed.root  are:  987\n",
        "Filling signal..."
       ]
      },
      {
       "output_type": "stream",
       "stream": "stdout",
       "text": [
        "\n",
        "Entries for file  Tbar-t_5318_Full_analyzed.root  are:  7641\n",
        "Filling signal..."
       ]
      },
      {
       "output_type": "stream",
       "stream": "stdout",
       "text": [
        "\n",
        "Entries for file  Tbar-tw_5318_Full_analyzed.root  are:  22548\n",
        "Filling signal..."
       ]
      },
      {
       "output_type": "stream",
       "stream": "stdout",
       "text": [
        "\n",
        "Entries for file  WW_5318_Full_analyzed.root  are:  2979\n",
        "Filling signal..."
       ]
      },
      {
       "output_type": "stream",
       "stream": "stdout",
       "text": [
        "\n",
        "Entries for file  WZ_5318_Full_analyzed.root  are:  5535\n",
        "Filling signal..."
       ]
      },
      {
       "output_type": "stream",
       "stream": "stdout",
       "text": [
        "\n",
        "Entries for file  ZZ_5318_Full_analyzed.root  are:  7728\n",
        "Filling bkgs..."
       ]
      },
      {
       "output_type": "stream",
       "stream": "stdout",
       "text": [
        "\n",
        "Entries for file  DYToBB_5318_Full_analyzed.root  are:  36\n",
        "Filling bkgs...\n",
        "Entries for file  DYToCC_5318_Full_analyzed.root  are:  30\n",
        "Filling bkgs..."
       ]
      },
      {
       "output_type": "stream",
       "stream": "stdout",
       "text": [
        "\n",
        "Entries for file  QCD_PT_120_170-v3_Full_analyzed.root  are:  1305\n",
        "Filling bkgs..."
       ]
      },
      {
       "output_type": "stream",
       "stream": "stdout",
       "text": [
        "\n",
        "Entries for file  QCD_PT_170_300_5318_Full_analyzed.root  are:  23730\n",
        "Filling bkgs..."
       ]
      },
      {
       "output_type": "stream",
       "stream": "stdout",
       "text": [
        "\n",
        "Entries for file  QCD_PT_300_470_5318_Full_analyzed.root  are:  112857\n",
        "Filling bkgs..."
       ]
      },
      {
       "output_type": "stream",
       "stream": "stdout",
       "text": [
        "\n",
        "Entries for file  QCD_PT_470_600_5318_Full_analyzed.root  are:  127191\n",
        "Filling bkgs..."
       ]
      },
      {
       "output_type": "stream",
       "stream": "stdout",
       "text": [
        "\n",
        "Entries for file  QCD_PT_600_800_5318_Full_analyzed.root  are:  144165\n",
        "Filling bkgs..."
       ]
      },
      {
       "output_type": "stream",
       "stream": "stdout",
       "text": [
        "\n",
        "Entries for file  QCD_PT_800_1000_5318_Full_analyzed.root  are:  148809\n",
        "Filling signal..."
       ]
      },
      {
       "output_type": "stream",
       "stream": "stdout",
       "text": [
        "\n",
        "Entries for file  T-s_5318_Full_analyzed.root  are:  765\n",
        "Filling signal..."
       ]
      },
      {
       "output_type": "stream",
       "stream": "stdout",
       "text": [
        "\n",
        "Entries for file  T-t_5318_Full_analyzed.root  are:  5931\n",
        "Filling signal..."
       ]
      },
      {
       "output_type": "stream",
       "stream": "stdout",
       "text": [
        "\n",
        "Entries for file  T-tw_5318_Full_analyzed.root  are:  7461\n",
        "Filling signal..."
       ]
      },
      {
       "output_type": "stream",
       "stream": "stdout",
       "text": [
        "\n",
        "Entries for file  Tbar-s_5318_Full_analyzed.root  are:  504\n",
        "Filling signal..."
       ]
      },
      {
       "output_type": "stream",
       "stream": "stdout",
       "text": [
        "\n",
        "Entries for file  Tbar-t_5318_Full_analyzed.root  are:  2178\n",
        "Filling signal..."
       ]
      },
      {
       "output_type": "stream",
       "stream": "stdout",
       "text": [
        "\n",
        "Entries for file  Tbar-tw_5318_Full_analyzed.root  are:  6687\n",
        "Filling signal..."
       ]
      },
      {
       "output_type": "stream",
       "stream": "stdout",
       "text": [
        "\n",
        "Entries for file  WW_5318_Full_analyzed.root  are:  618\n",
        "Filling signal..."
       ]
      },
      {
       "output_type": "stream",
       "stream": "stdout",
       "text": [
        "\n",
        "Entries for file  WZ_5318_Full_analyzed.root  are:  1731\n",
        "Filling signal..."
       ]
      },
      {
       "output_type": "stream",
       "stream": "stdout",
       "text": [
        "\n",
        "Entries for file  ZZ_5318_Full_analyzed.root  are:  2649\n",
        "Filling bkgs..."
       ]
      },
      {
       "output_type": "stream",
       "stream": "stdout",
       "text": [
        "\n",
        "Entries for file  DYToBB_5318_Full_analyzed.root  are:  0\n",
        "Filling bkgs...\n",
        "Entries for file  DYToCC_5318_Full_analyzed.root  are:  0\n",
        "Filling bkgs..."
       ]
      },
      {
       "output_type": "stream",
       "stream": "stdout",
       "text": [
        "\n",
        "Entries for file  QCD_PT_120_170-v3_Full_analyzed.root  are:  192\n",
        "Filling bkgs..."
       ]
      },
      {
       "output_type": "stream",
       "stream": "stdout",
       "text": [
        "\n",
        "Entries for file  QCD_PT_170_300_5318_Full_analyzed.root  are:  5502\n",
        "Filling bkgs..."
       ]
      },
      {
       "output_type": "stream",
       "stream": "stdout",
       "text": [
        "\n",
        "Entries for file  QCD_PT_300_470_5318_Full_analyzed.root  are:  29343\n",
        "Filling bkgs..."
       ]
      },
      {
       "output_type": "stream",
       "stream": "stdout",
       "text": [
        "\n",
        "Entries for file  QCD_PT_470_600_5318_Full_analyzed.root  are:  32268\n",
        "Filling bkgs..."
       ]
      },
      {
       "output_type": "stream",
       "stream": "stdout",
       "text": [
        "\n",
        "Entries for file  QCD_PT_600_800_5318_Full_analyzed.root  are:  39984\n",
        "Filling bkgs..."
       ]
      },
      {
       "output_type": "stream",
       "stream": "stdout",
       "text": [
        "\n",
        "Entries for file  QCD_PT_800_1000_5318_Full_analyzed.root  are:  41100\n"
       ]
      }
     ],
     "prompt_number": 5
    },
    {
     "cell_type": "heading",
     "level": 3,
     "metadata": {},
     "source": [
      "Saving Ntuples in a numpy array"
     ]
    },
    {
     "cell_type": "code",
     "collapsed": false,
     "input": [
      "SubBKGMCArray=np.array([[TsinglentuplesA,DibosonntupleA,DYntupleA,QCDPTntupleA],\n",
      "                      [TsinglentuplesE,DibosonntupleE,DYntupleE,QCDPTntupleE],\n",
      "                      [TsinglentuplesE1,DibosonntupleE1,DYntupleE1,QCDPTntupleE1],\n",
      "                      [TsinglentuplesE2,DibosonntupleE2,DYntupleE2,QCDPTntupleE2]])\n",
      "SubBKGMCSampleFile=\"SubBKGMC_inclusive_\"+InclusiveVersions[0][:-1]+\"_\"+InclusiveVersions[1][:-1]+\"_\"+InclusiveVersions[2][:-1]\n",
      "\n",
      "np.save(SubBKGMCSampleFile,SubBKGMCArray)"
     ],
     "language": "python",
     "metadata": {},
     "outputs": [],
     "prompt_number": 6
    },
    {
     "cell_type": "heading",
     "level": 2,
     "metadata": {},
     "source": [
      "For Preselection (don't need to run the code above, except initialization)"
     ]
    },
    {
     "cell_type": "code",
     "collapsed": false,
     "input": [
      "files = [\"T-s_5318_Full_analyzed.root\",\n",
      "         \"T-t_5318_Full_analyzed.root\",\n",
      "         \"T-tw_5318_Full_analyzed.root\",\n",
      "         \"Tbar-s_5318_Full_analyzed.root\",\n",
      "         \"Tbar-t_5318_Full_analyzed.root\",\n",
      "         \"Tbar-tw_5318_Full_analyzed.root\",\n",
      "         \"WW_5318_Full_analyzed.root\",\n",
      "         \"WZ_5318_Full_analyzed.root\",\n",
      "         \"ZZ_5318_Full_analyzed.root\",\n",
      "         \"DYToBB_5318_Full_analyzed.root\",\n",
      "         \"DYToCC_5318_Full_analyzed.root\",\n",
      "         \"QCD_PT_120_170-v3_Full_analyzed.root\",\n",
      "         \"QCD_PT_170_300_5318_Full_analyzed.root\",\n",
      "         \"QCD_PT_300_470_5318_Full_analyzed.root\",\n",
      "         \"QCD_PT_470_600_5318_Full_analyzed.root\",\n",
      "         \"QCD_PT_600_800_5318_Full_analyzed.root\",\n",
      "         \"QCD_PT_800_1000_5318_Full_analyzed.root\"]\n",
      "\n",
      "TreeStructureA=\"Nvtcs:NTI:weight:j1pt:j2pt:j3pt:j4pt:j5pt:j6pt:j1eta:j2eta:j3eta:j4eta:j5eta:j6eta:HT:NCSVM\"\n",
      "\n",
      "#Signal Sample\n",
      "TsA=ROOT.TNtuple(\"TsA\",\"TsA\",TreeStructureA)\n",
      "TtA=ROOT.TNtuple(\"TtA\",\"TtA\",TreeStructureA)\n",
      "TtwA=ROOT.TNtuple(\"TtwA\",\"TtwA\",TreeStructureA)\n",
      "TbarsA=ROOT.TNtuple(\"TbarsA\",\"TbarsA\",TreeStructureA)\n",
      "TbartA=ROOT.TNtuple(\"TbartA\",\"TbartA\",TreeStructureA)\n",
      "TbartwA=ROOT.TNtuple(\"TbartwA\",\"TbartwA\",TreeStructureA)\n",
      "TsinglentuplesA=[TsA,TtA,TtwA,TbarsA,TbartA,TbartwA]\n",
      "\n",
      "WWA=ROOT.TNtuple(\"WWA\",\"WWA\",TreeStructureA)\n",
      "WZA=ROOT.TNtuple(\"WZA\",\"WZA\",TreeStructureA)\n",
      "ZZA=ROOT.TNtuple(\"ZZA\",\"ZZA\",TreeStructureA)\n",
      "DibosonntupleA=[WWA,WZA,ZZA]\n",
      "\n",
      "DYBBA=ROOT.TNtuple(\"DYBBA\",\"DYBBA\",TreeStructureA)\n",
      "DYCCA=ROOT.TNtuple(\"DYCCA\",\"DYCCA\",TreeStructureA)\n",
      "DYntupleA=[DYBBA,DYCCA]\n",
      "\n",
      "QCD120A=ROOT.TNtuple(\"QCD120A\",\"QCD120A\",TreeStructureA)\n",
      "QCD170A=ROOT.TNtuple(\"QCD170A\",\"QCD170A\",TreeStructureA)\n",
      "QCD300A=ROOT.TNtuple(\"QCD300A\",\"QCD300A\",TreeStructureA)\n",
      "QCD470A=ROOT.TNtuple(\"QCD470A\",\"QCD470A\",TreeStructureA)\n",
      "QCD600A=ROOT.TNtuple(\"QCD600A\",\"QCD600A\",TreeStructureA)\n",
      "QCD800A=ROOT.TNtuple(\"QCD800A\",\"QCD800A\",TreeStructureA)\n",
      "QCDPTntupleA=[QCD120A,QCD170A,QCD300A,QCD470A,QCD600A,QCD800A]"
     ],
     "language": "python",
     "metadata": {},
     "outputs": [],
     "prompt_number": 2
    },
    {
     "cell_type": "code",
     "collapsed": false,
     "input": [
      "for f in files:\n",
      "    ff=Base+InclusiveVersions[0]+f\n",
      "    CutsChain=ROOT.TChain(\"cuts\")\n",
      "    CutsChain.Add(ff)\n",
      "    entries = CutsChain.GetEntries()\n",
      "    print \"Entries for file \", f, \" are: \", entries\n",
      "    Entries=entries\n",
      "    for i in xrange(Entries):\n",
      "        CutsChain.GetEntry(i)\n",
      "        #M5J:DRHJ:DRWH:RelHT:M2HP:DRTp6thJ:HM:chi2:MTHAsym\n",
      "        ListOfVariables = [CutsChain.Vertices,\n",
      "                        CutsChain.Number_True_Interactions,\n",
      "                        CutsChain.weight,\n",
      "                        CutsChain.jet1_pt,\n",
      "                        CutsChain.jet2_pt,\n",
      "                        CutsChain.jet3_pt,\n",
      "                        CutsChain.jet4_pt,\n",
      "                        CutsChain.jet5_pt,\n",
      "                        CutsChain.jet6_pt,\n",
      "                        CutsChain.jet1_eta,\n",
      "                        CutsChain.jet2_eta,\n",
      "                        CutsChain.jet3_eta,\n",
      "                        CutsChain.jet4_eta,\n",
      "                        CutsChain.jet5_eta,\n",
      "                        CutsChain.jet6_eta,\n",
      "                        CutsChain.THT,\n",
      "                        CutsChain.Number_CSVMbtagged_jets]\n",
      "        if files.index(f)>=0 and files.index(f)<=5:\n",
      "            TsinglentuplesA[files.index(f)].Fill(array('f',ListOfVariables))\n",
      "        elif files.index(f)>=6 and files.index(f)<=8:\n",
      "            DibosonntupleA[files.index(f)-6].Fill(array('f',ListOfVariables))\n",
      "        elif files.index(f)>=9 and files.index(f)<=10:\n",
      "            DYntupleA[files.index(f)-9].Fill(array('f',ListOfVariables))\n",
      "        elif files.index(f)>=11 and files.index(f)<=(len(files)-1):\n",
      "            QCDPTntupleA[files.index(f)-11].Fill(array('f',ListOfVariables))"
     ],
     "language": "python",
     "metadata": {},
     "outputs": [
      {
       "output_type": "stream",
       "stream": "stdout",
       "text": [
        "Entries for file  T-s_5318_Full_analyzed.root  are:  259575\n",
        "Entries for file "
       ]
      },
      {
       "output_type": "stream",
       "stream": "stdout",
       "text": [
        " T-t_5318_Full_analyzed.root  are:  3752921\n",
        "Entries for file "
       ]
      },
      {
       "output_type": "stream",
       "stream": "stdout",
       "text": [
        " T-tw_5318_Full_analyzed.root  are:  496681\n",
        "Entries for file "
       ]
      },
      {
       "output_type": "stream",
       "stream": "stdout",
       "text": [
        " Tbar-s_5318_Full_analyzed.root  are:  139803\n",
        "Entries for file "
       ]
      },
      {
       "output_type": "stream",
       "stream": "stdout",
       "text": [
        " Tbar-t_5318_Full_analyzed.root  are:  1932775\n",
        "Entries for file "
       ]
      },
      {
       "output_type": "stream",
       "stream": "stdout",
       "text": [
        " Tbar-tw_5318_Full_analyzed.root  are:  492545\n",
        "Entries for file "
       ]
      },
      {
       "output_type": "stream",
       "stream": "stdout",
       "text": [
        " WW_5318_Full_analyzed.root  are:  9989803\n",
        "Entries for file "
       ]
      },
      {
       "output_type": "stream",
       "stream": "stdout",
       "text": [
        " WZ_5318_Full_analyzed.root  are:  9989440\n",
        "Entries for file "
       ]
      },
      {
       "output_type": "stream",
       "stream": "stdout",
       "text": [
        " ZZ_5318_Full_analyzed.root  are:  9789108\n",
        "Entries for file "
       ]
      },
      {
       "output_type": "stream",
       "stream": "stdout",
       "text": [
        " DYToBB_5318_Full_analyzed.root  are:  2001966\n",
        "Entries for file "
       ]
      },
      {
       "output_type": "stream",
       "stream": "stdout",
       "text": [
        " DYToCC_5318_Full_analyzed.root  are:  1997817\n",
        "Entries for file "
       ]
      },
      {
       "output_type": "stream",
       "stream": "stdout",
       "text": [
        " QCD_PT_120_170-v3_Full_analyzed.root  are:  100000\n",
        "Entries for file "
       ]
      },
      {
       "output_type": "stream",
       "stream": "stdout",
       "text": [
        " QCD_PT_170_300_5318_Full_analyzed.root  are:  5790196\n",
        "Entries for file "
       ]
      },
      {
       "output_type": "stream",
       "stream": "stdout",
       "text": [
        " QCD_PT_300_470_5318_Full_analyzed.root  are:  5926583\n",
        "Entries for file "
       ]
      },
      {
       "output_type": "stream",
       "stream": "stdout",
       "text": [
        " QCD_PT_470_600_5318_Full_analyzed.root  are:  3941534\n",
        "Entries for file "
       ]
      },
      {
       "output_type": "stream",
       "stream": "stdout",
       "text": [
        " QCD_PT_600_800_5318_Full_analyzed.root  are:  3934191\n",
        "Entries for file "
       ]
      },
      {
       "output_type": "stream",
       "stream": "stdout",
       "text": [
        " QCD_PT_800_1000_5318_Full_analyzed.root  are:  3927299\n"
       ]
      }
     ],
     "prompt_number": 3
    },
    {
     "cell_type": "code",
     "collapsed": false,
     "input": [
      "#f = ROOT.TFile(\"Ntuples_preselection_Subdombkgs.root\", \"recreate\")\n",
      "#for i in TsinglentuplesA: i.Write()\n",
      "#for i in DibosonntupleA: i.Write()\n",
      "#for i in DYntupleA: i.Write()\n",
      "#for i in QCDPTntupleA: i.Write()\n",
      "#f.Close()\n",
      "SubBKGMCArray=np.array([[TsinglentuplesA,DibosonntupleA,DYntupleA,QCDPTntupleA]])\n",
      "SubBKGMCSampleFile=\"SubBKGMC_preselection_\"+InclusiveVersions[0][:-1]\n",
      "\n",
      "np.save(SubBKGMCSampleFile,SubBKGMCArray)"
     ],
     "language": "python",
     "metadata": {},
     "outputs": [],
     "prompt_number": 7
    },
    {
     "cell_type": "code",
     "collapsed": false,
     "input": [],
     "language": "python",
     "metadata": {},
     "outputs": []
    }
   ],
   "metadata": {}
  }
 ]
}