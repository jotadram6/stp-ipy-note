{
 "metadata": {
  "name": ""
 },
 "nbformat": 3,
 "nbformat_minor": 0,
 "worksheets": [
  {
   "cells": [
    {
     "cell_type": "code",
     "collapsed": false,
     "input": [
      "import ROOT\n",
      "import numpy as np\n",
      "import matplotlib.pyplot as plt\n",
      "from array import array\n",
      "import rootnotes\n",
      "ROOT.gROOT.LoadMacro('tdrStyle.C')\n",
      "ROOT.gROOT.LoadMacro('PUR.C')\n",
      "def DPHI(x):\n",
      "    if x>=np.pi: return x-2*np.pi\n",
      "    elif x<-np.pi: return x+2*np.pi\n",
      "    else: return x\n",
      "Base=\"/home/jruizalv/\"\n",
      "BaseVersion=\"Version121/\""
     ],
     "language": "python",
     "metadata": {},
     "outputs": [],
     "prompt_number": 1
    },
    {
     "cell_type": "code",
     "collapsed": false,
     "input": [
      "#Style functions\n",
      "def SetAxis(Histo,Axis,TOffset,TSize,LOffset,LSize,Ndiv):\n",
      "    \"\"\"Sets offset and size of an axis in the histogram. Axis must be 'X' or 'Y', and Histo should be a valid root histogram\"\"\"\n",
      "    if Axis=='X':\n",
      "        Histo.GetXaxis().SetTitleSize(TSize)\n",
      "        Histo.GetXaxis().SetTitleOffset(TOffset)\n",
      "        Histo.GetXaxis().SetLabelSize(LSize)\n",
      "        Histo.GetXaxis().SetLabelOffset(LOffset)\n",
      "        Histo.GetXaxis().SetNdivisions(Ndiv)\n",
      "    elif Axis=='Y':\n",
      "        Histo.GetYaxis().SetTitleSize(TSize)\n",
      "        Histo.GetYaxis().SetTitleOffset(TOffset)\n",
      "        Histo.GetYaxis().SetLabelSize(LSize)\n",
      "        Histo.GetYaxis().SetLabelOffset(LOffset)\n",
      "        Histo.GetYaxis().SetNdivisions(Ndiv)\n",
      "    else: print \"Please correct axis selection: Valid values are 'X' or 'Y'\"\n",
      "def SetCos(Hist,FillColor,FillStyle,LineColor,LineWidth,LineStyle,MarkerStyle):\n",
      "    \"\"\"Hist, FillColor, FillStyle, LineColor, LineWidth, LineStyle, MarkerStyle\"\"\"\n",
      "    Hist.SetLineStyle(LineStyle); Hist.SetLineWidth(LineWidth); Hist.SetLineColor(LineColor)\n",
      "    Hist.SetFillStyle(FillStyle); Hist.SetFillColor(FillColor)\n",
      "    Hist.SetMarkerStyle(MarkerStyle)"
     ],
     "language": "python",
     "metadata": {},
     "outputs": [],
     "prompt_number": 2
    },
    {
     "cell_type": "code",
     "collapsed": false,
     "input": [
      "#Corrections\n",
      "PU_weight=[0.283904, 0.223747, 0.155297, 0.26765, 0.298877, 0.723858, 0.544046, 0.536757, 0.733619, 1.0669, 1.48245, 1.80291, 1.80134, 1.58708, 1.34094, 1.15851, 1.0611, 1.02807, 1.04437, 1.08871, 1.12881, 1.15127, 1.15997, 1.15499, 1.12965, 1.07905, 1.00491, 0.914114, 0.813124, 0.707008, 0.599841, 0.495265, 0.39636, 0.306662, 0.22925, 0.166144, 0.118378, 0.0850749, 0.063948, 0.0523125, 0.0476093, 0.0478425, 0.0516782, 0.0583517, 0.0676538, 0.0795915, 0.0944514, 0.112777, 0.135238, 0.162647, 0.196085, 0.236688, 0.286083, 0.34616, 0.418813, 0.506749, 0.612955, 0.741067, 0.894819, 2.26873]\n",
      "def PUR_function(TI):\n",
      "  if (TI>=60): return 1\n",
      "  else: return PU_weight[TI]"
     ],
     "language": "python",
     "metadata": {},
     "outputs": [],
     "prompt_number": 3
    },
    {
     "cell_type": "heading",
     "level": 1,
     "metadata": {},
     "source": [
      "Declaring MC files and Ntuples"
     ]
    },
    {
     "cell_type": "code",
     "collapsed": false,
     "input": [
      "files = [\"TpJetM600_5318_Full_analyzed.root\",\n",
      "         \"TpJetM650_5318_Full_analyzed.root\",\n",
      "         \"TpJetM700_5318_Full_analyzed.root\",\n",
      "         \"TpJetM750_5318_Full_analyzed.root\",\n",
      "         \"TpJetM800_5318_Full_analyzed.root\",\n",
      "         \"TpJetM850_5318_Full_analyzed.root\",\n",
      "         \"TpJetM900_5318_Full_analyzed.root\",\n",
      "         \"TpJetM950_5318_Full_analyzed.root\",\n",
      "         \"TpJetM1000_5318_Full_analyzed.root\",\n",
      "         \"TTJetsF_5318_Full_analyzed.root\",\n",
      "         \"QCD_HT_500_1000_5318_Full_analyzed.root\",\n",
      "         \"QCD_HT_1000_Inf_5318_Full_analyzed.root\"]\n",
      "\n",
      "TreeStructureA=\"Nvtcs:NTI:weight:j1pt:j2pt:j3pt:j4pt:j5pt:j6pt:j1eta:j2eta:j3eta:j4eta:j5eta:j6eta:HT:NCSVM\"\n",
      "\n",
      "#Signal Sample\n",
      "TntupleA = ROOT.TNtuple(\"TntupleA\",\"TntupleA\",TreeStructureA)\n",
      "Q500ntupleA = ROOT.TNtuple(\"Q500ntupleA\",\"Q500ntupleA\",TreeStructureA)\n",
      "Q1000ntupleA = ROOT.TNtuple(\"Q1000ntupleA\",\"Q1000ntupleA\",TreeStructureA)\n",
      "QntuplesA=[Q500ntupleA,Q1000ntupleA]\n",
      "S600ntupleA = ROOT.TNtuple(\"S600ntupleA\",\"S600ntupleA\",TreeStructureA)\n",
      "S650ntupleA = ROOT.TNtuple(\"S650ntupleA\",\"S650ntupleA\",TreeStructureA)\n",
      "S700ntupleA = ROOT.TNtuple(\"S700ntupleA\",\"S700ntupleA\",TreeStructureA)\n",
      "S750ntupleA = ROOT.TNtuple(\"S750ntupleA\",\"S750ntupleA\",TreeStructureA)\n",
      "S800ntupleA = ROOT.TNtuple(\"S800ntupleA\",\"S800ntupleA\",TreeStructureA)\n",
      "S850ntupleA = ROOT.TNtuple(\"S850ntupleA\",\"S850ntupleA\",TreeStructureA)\n",
      "S900ntupleA = ROOT.TNtuple(\"S900ntupleA\",\"S900ntupleA\",TreeStructureA)\n",
      "S950ntupleA = ROOT.TNtuple(\"S950ntupleA\",\"S950ntupleA\",TreeStructureA)\n",
      "S1000ntupleA = ROOT.TNtuple(\"S1000ntupleA\",\"S1000ntupleA\",TreeStructureA)\n",
      "NMassPointsA=[S600ntupleA,S650ntupleA,S700ntupleA,S750ntupleA,S800ntupleA,S850ntupleA,S900ntupleA,S950ntupleA,S1000ntupleA]"
     ],
     "language": "python",
     "metadata": {},
     "outputs": [],
     "prompt_number": 4
    },
    {
     "cell_type": "heading",
     "level": 2,
     "metadata": {},
     "source": [
      "Reading files and filling the MC Ntuple"
     ]
    },
    {
     "cell_type": "code",
     "collapsed": false,
     "input": [
      "Entries=10000\n",
      "NsignalFiles=9\n",
      "for f in files:\n",
      "    ff=Base+BaseVersion+f\n",
      "    CutsChain=ROOT.TChain(\"cuts\")\n",
      "    CutsChain.Add(ff)\n",
      "    entries = CutsChain.GetEntries()\n",
      "    if files.index(f)>=0 and files.index(f)<=NsignalFiles-1: print \"Filling signal...\"\n",
      "    elif files.index(f)>0: print \"Filling bkgs...\"\n",
      "    print \"Entries for file \", f, \" are: \", entries\n",
      "    Entries=entries\n",
      "    for i in xrange(Entries):\n",
      "        CutsChain.GetEntry(i)\n",
      "        #Nvtcs:NTI:weight:j1pt:j2pt:j3pt:j4pt:j5pt:j6pt:j1eta:j2eta:j3eta:j4eta:j5eta:j6eta:HT:NCSVM\n",
      "        ListOfVariables = [CutsChain.Vertices,\n",
      "                        CutsChain.Number_True_Interactions,\n",
      "                        CutsChain.weight,\n",
      "                        CutsChain.jet1_pt,\n",
      "                        CutsChain.jet2_pt,\n",
      "                        CutsChain.jet3_pt,\n",
      "                        CutsChain.jet4_pt,\n",
      "                        CutsChain.jet5_pt,\n",
      "                        CutsChain.jet6_pt,\n",
      "                        CutsChain.jet1_eta,\n",
      "                        CutsChain.jet2_eta,\n",
      "                        CutsChain.jet3_eta,\n",
      "                        CutsChain.jet4_eta,\n",
      "                        CutsChain.jet5_eta,\n",
      "                        CutsChain.jet6_eta,\n",
      "                        CutsChain.THT,\n",
      "                        CutsChain.Number_CSVMbtagged_jets]\n",
      "        if files.index(f)>=0 and files.index(f)<=NsignalFiles-1:            \n",
      "            NMassPointsA[files.index(f)].Fill(array('f',ListOfVariables)) #Sntuple.Fill(array('f',ListOfVariables))\n",
      "        elif files.index(f)==len(files)-3:            \n",
      "            TntupleA.Fill(array('f',ListOfVariables))\n",
      "        elif files.index(f)>=len(files)-2:\n",
      "            QntuplesA[files.index(f)-len(files)+1].Fill(array('f',ListOfVariables))"
     ],
     "language": "python",
     "metadata": {},
     "outputs": [
      {
       "output_type": "stream",
       "stream": "stdout",
       "text": [
        "Filling signal...\n",
        "Entries for file  TpJetM600_5318_Full_analyzed.root  are:  95167\n",
        "Filling signal..."
       ]
      },
      {
       "output_type": "stream",
       "stream": "stdout",
       "text": [
        "\n",
        "Entries for file  TpJetM650_5318_Full_analyzed.root  are:  98817\n",
        "Filling signal..."
       ]
      },
      {
       "output_type": "stream",
       "stream": "stdout",
       "text": [
        "\n",
        "Entries for file  TpJetM700_5318_Full_analyzed.root  are:  99464\n",
        "Filling signal..."
       ]
      },
      {
       "output_type": "stream",
       "stream": "stdout",
       "text": [
        "\n",
        "Entries for file  TpJetM750_5318_Full_analyzed.root  are:  99375\n",
        "Filling signal..."
       ]
      },
      {
       "output_type": "stream",
       "stream": "stdout",
       "text": [
        "\n",
        "Entries for file  TpJetM800_5318_Full_analyzed.root  are:  95801\n",
        "Filling signal..."
       ]
      },
      {
       "output_type": "stream",
       "stream": "stdout",
       "text": [
        "\n",
        "Entries for file  TpJetM850_5318_Full_analyzed.root  are:  99257\n",
        "Filling signal..."
       ]
      },
      {
       "output_type": "stream",
       "stream": "stdout",
       "text": [
        "\n",
        "Entries for file  TpJetM900_5318_Full_analyzed.root  are:  99174\n",
        "Filling signal..."
       ]
      },
      {
       "output_type": "stream",
       "stream": "stdout",
       "text": [
        "\n",
        "Entries for file  TpJetM950_5318_Full_analyzed.root  are:  95960\n",
        "Filling signal..."
       ]
      },
      {
       "output_type": "stream",
       "stream": "stdout",
       "text": [
        "\n",
        "Entries for file  TpJetM1000_5318_Full_analyzed.root  are:  99078\n",
        "Filling bkgs..."
       ]
      },
      {
       "output_type": "stream",
       "stream": "stdout",
       "text": [
        "\n",
        "Entries for file  TTJetsF_5318_Full_analyzed.root  are:  58281200\n",
        "Filling bkgs..."
       ]
      },
      {
       "output_type": "stream",
       "stream": "stdout",
       "text": [
        "\n",
        "Entries for file  QCD_HT_500_1000_5318_Full_analyzed.root  are:  29019521\n",
        "Filling bkgs..."
       ]
      },
      {
       "output_type": "stream",
       "stream": "stdout",
       "text": [
        "\n",
        "Entries for file  QCD_HT_1000_Inf_5318_Full_analyzed.root  are:  13438527\n"
       ]
      }
     ],
     "prompt_number": 5
    },
    {
     "cell_type": "heading",
     "level": 2,
     "metadata": {},
     "source": [
      "Declaring files and ntuples for data"
     ]
    },
    {
     "cell_type": "code",
     "collapsed": false,
     "input": [
      "datafiles = [\"Full_Data.root\"]\n",
      "\n",
      "TreeStructure=\"Nvtcs:j1pt:j2pt:j3pt:j4pt:j5pt:j6pt:j1eta:j2eta:j3eta:j4eta:j5eta:j6eta:HT:NCSVM\"\n",
      "\n",
      "#Signal Sample\n",
      "DataA = ROOT.TNtuple(\"DatantupleA\",\"DatantupleA\",TreeStructure)"
     ],
     "language": "python",
     "metadata": {},
     "outputs": [],
     "prompt_number": "*"
    },
    {
     "cell_type": "heading",
     "level": 2,
     "metadata": {},
     "source": [
      "Reading files and filling the Data Ntuples"
     ]
    },
    {
     "cell_type": "code",
     "collapsed": false,
     "input": [
      "CutsChain=ROOT.TChain(\"cuts\")\n",
      "CutsChain.Add(Base+BaseVersion+datafiles[0])\n",
      "entries = CutsChain.GetEntries()\n",
      "print \"Entries for file \", datafiles[0], \" are: \", entries\n",
      "Entries=entries\n",
      "for i in xrange(Entries):\n",
      "    CutsChain.GetEntry(i)\n",
      "    #Nvtcs:j1pt:j2pt:j3pt:j4pt:j5pt:j6pt:j1eta:j2eta:j3eta:j4eta:j5eta:j6eta:HT:NCSVM\n",
      "    ListOfVariables = [CutsChain.Vertices,\n",
      "                        CutsChain.jet1_pt,\n",
      "                        CutsChain.jet2_pt,\n",
      "                        CutsChain.jet3_pt,\n",
      "                        CutsChain.jet4_pt,\n",
      "                        CutsChain.jet5_pt,\n",
      "                        CutsChain.jet6_pt,\n",
      "                        CutsChain.jet1_eta,\n",
      "                        CutsChain.jet2_eta,\n",
      "                        CutsChain.jet3_eta,\n",
      "                        CutsChain.jet4_eta,\n",
      "                        CutsChain.jet5_eta,\n",
      "                        CutsChain.jet6_eta,\n",
      "                        CutsChain.THT,\n",
      "                        CutsChain.Number_CSVMbtagged_jets]\n",
      "    DataA.Fill(array('f',ListOfVariables)) "
     ],
     "language": "python",
     "metadata": {},
     "outputs": [],
     "prompt_number": "*"
    },
    {
     "cell_type": "heading",
     "level": 3,
     "metadata": {},
     "source": [
      "Saving Ntuples in a numpy array"
     ]
    },
    {
     "cell_type": "code",
     "collapsed": false,
     "input": [
      "SignalSampleArray=np.array([NMassPointsA,TntupleA,QntuplesA]); SignalSampleFile=\"SignalSample_preselection\"+BaseVersion[:-1]\n",
      "\n",
      "np.save(SignalSampleFile,SignalSampleArray)"
     ],
     "language": "python",
     "metadata": {},
     "outputs": [],
     "prompt_number": "*"
    },
    {
     "cell_type": "code",
     "collapsed": false,
     "input": [
      "DataArray=np.array([DataA]); DataSampleFile=\"Data_preselection\"+BaseVersion[:-1]\n",
      "np.save(DataSampleFile,DataArray)"
     ],
     "language": "python",
     "metadata": {},
     "outputs": [],
     "prompt_number": "*"
    },
    {
     "cell_type": "heading",
     "level": 3,
     "metadata": {},
     "source": [
      "Loading Ntuples in a numpy array (OPTIONAL)"
     ]
    },
    {
     "cell_type": "code",
     "collapsed": false,
     "input": [
      "SignalSampleFile=\"SignalSample_preselection\"+BaseVersion[:-1] DataSampleFile=\"Data_preselection\"+BaseVersion[:-1]\n",
      "SubBKGMCSampleFiles=\"SubBKGMC_preselection_Version111_Version114_Version115.npy\"\n",
      "\n",
      "DataArray=np.load(DataSampleFile+\".npy\")\n",
      "MCSignalSampleArray=np.load(SignalSampleFile+\".npy\")\n",
      "SubBKGArray=np.load(SubBKGMCSampleFiles)\n",
      "\n",
      "DataA=DataArray[0]\n",
      "NMassPointsA=MCSignalSampleArray[0]; TntupleA=MCSignalSampleArray[1]; QntuplesA=MCSignalSampleArray[2]\n",
      "print DataA.GetEntries()\n",
      "#print len(NMassPointsA), len(NMassPointsE)\n",
      "print NMassPointsA[2].GetEntries(), TntupleA.GetEntries(), QntuplesA[0].GetEntries()"
     ],
     "language": "python",
     "metadata": {},
     "outputs": [
      {
       "output_type": "stream",
       "stream": "stdout",
       "text": [
        "41733 1736503\n",
        "4407 125518 9199\n",
        "16274 1949523 391632\n"
       ]
      }
     ],
     "prompt_number": 2
    },
    {
     "cell_type": "heading",
     "level": 3,
     "metadata": {},
     "source": [
      "Declaring Cuts and Weights"
     ]
    },
    {
     "cell_type": "code",
     "collapsed": false,
     "input": [
      "#Sntuple.Print()\n",
      "#Nvtcs:j1pt:j2pt:j3pt:j4pt:j5pt:j6pt:j1eta:j2eta:j3eta:j4eta:j5eta:j6eta:HT:NCSVM\n",
      "Cut1 = ROOT.TCut(\"j1pt>=150\")\n",
      "Cut2 = ROOT.TCut(\"HT>=630\")\n",
      "Cut3 = ROOT.TCut(\"NCSVM>=3\")\n",
      "Preselection=Cut1*Cut2*Cut3\n",
      "\n",
      "Lumi=19694.471\n",
      "\n",
      "SWeight=Lumi*(0.57/0.94)*0.1437/99984\n",
      "\n",
      "TWeight=Lumi*245.8/61941200\n",
      "\n",
      "########################################################\n",
      "###################Set QCD FLAG#########################\n",
      "########################################################\n",
      "\n",
      "QCDPTFLAG=True #To include QCD PT hat samples\n",
      "\n",
      "NevtsQCDHT=[29320000.,13720000.]\n",
      "XSQCDHT=[8426.0,204.0]\n",
      "Q500Weight=Lumi*8426.0/29320000\n",
      "Q1000Weight=Lumi*204.0/13720000\n",
      "if QCDPTFLAG: \n",
      "    QWeights=Lumi*np.array(XSQCDHT)*0.5/np.array(NevtsQCDHT)\n",
      "else: \n",
      "    QWeights=Lumi*np.array(XSQCDHT)/np.array(NevtsQCDHT)\n",
      "\n",
      "NevtsQCDPT=[5985732.,5814398.,5978500.,3994848.,3996864.,3998563.]\n",
      "XSQCDPT=[156293.3, 34138.15, 1759.549, 113.8791, 26.9921, 3.550036]\n",
      "if QCDPTFLAG: \n",
      "    QCDPTWeights=Lumi*np.array(XSQCDPT)*0.5/np.array(NevtsQCDPT)\n",
      "else: \n",
      "    QCDPTWeights=Lumi*np.array(XSQCDPT)/np.array(NevtsQCDPT)\n",
      "\n",
      "#########################################################\n",
      "\n",
      "NevtsMassPoints=[92190.,99292.,99984.,99984.,96388.,99995.,99984.,96791.,99991.]\n",
      "XSNevtsMassPoints=[0.2154,0.1778,0.1437,0.1186,0.1,0.0843,0.0726,0.0626,0.0539]\n",
      "NWeights=Lumi*(0.57/0.94)*np.array(XSNevtsMassPoints)/np.array(NevtsMassPoints)\n",
      "\n",
      "NevtsDiboson=[9799908.,10000283.,10000431.]\n",
      "XSDiboson=[8.258, 33.72, 54.838]\n",
      "DibosonWeights=Lumi*np.array(XSDiboson)/np.array(NevtsDiboson)\n",
      "\n",
      "NevtsSingleT=[259961.,3758227.,497658.,139974.,1935072.,493460.]\n",
      "XSSingleT=[2.82, 47, 10.7, 1.57, 25., 10.7]\n",
      "SingleTWeights=Lumi*np.array(XSSingleT)/np.array(NevtsSingleT)\n",
      "\n",
      "NevtsDY=[2002752.,1998713.]\n",
      "XSDY=[3840.86, 3060.099]\n",
      "DYWeights=Lumi*np.array(XSDY)/np.array(NevtsDY)"
     ],
     "language": "python",
     "metadata": {},
     "outputs": [],
     "prompt_number": 7
    },
    {
     "cell_type": "heading",
     "level": 3,
     "metadata": {},
     "source": [
      "Nminus1 plots, Preselection"
     ]
    },
    {
     "cell_type": "code",
     "collapsed": false,
     "input": [
      "OptVersion=\"_preselection_\"+BaseVersion[:-1]\n",
      "CumulCut=ROOT.TCut(\"\")\n",
      "\n",
      "SF=ROOT.TCut(\"weight\")\n",
      "PU=ROOT.TCut(\"PUR_function(NTI)\")\n",
      "CMC=SF*PU\n",
      "CutsNm1=[ROOT.TCut(\"\")*PU,Preselection*CMC]\n",
      "\n",
      "#Nvtcs:j1pt:j2pt:j3pt:j4pt:j5pt:j6pt:j1eta:j2eta:j3eta:j4eta:j5eta:j6eta:HT:NCSVM\n",
      "\n",
      "PDFName=\"Nminus1_PreSel_\"+BaseVersion[:-1]+\".pdf\"\n",
      "CurCanv = rootnotes.canvas(\"MyPlot\", (600, 800))\n",
      "Titles=[\"Nvtcs\",\"j1pt\",\"j2pt\",\"j3pt\",\"j4pt\",\"j5pt\",\"j6pt\",\"j1eta\",\"j2eta\",\"j3eta\",\"j4eta\",\"j5eta\",\"j6eta\",\"HT\",\"NCSVM\"]\n",
      "XaxisT=[\"n_{vtcs}\",\n",
      "        \"p_{T}(j_{1})\",\"p_{T}(j_{2})\",\"p_{T}(j_{3})\",\"p_{T}(j_{4})\",\"p_{T}(j_{5})\",\"p_{T}(j_{6})\",\n",
      "        \"#eta(j_{1})\",\"#eta(j_{2})\",\"#eta(j_{3})\",\"#eta(j_{4})\",\"#eta(j_{5})\",\"#eta(j_{6})\",\n",
      "        \"H_{T}\",\"n_{b}^{CSVM}\"]\n",
      "\n",
      "BinsLimits=[\"(40,1,40)\",\n",
      "            \"(49,20,1000)\",\"(49,20,1000)\",\"(32,20,700)\",\"(17,20,400)\",\"(14,20,300)\",\"(9,20,200)\",\n",
      "            \"(20,-5,5)\",\"(20,-5,5)\",\"(20,-5,5)\",\"(20,-5,5)\",\"(20,-5,5)\",\"(20,-5,5)\",\n",
      "            \"(60,300,1600)\",\"(10,0,10)\"]\n",
      "Units=[\"\",\n",
      "       \"GeV/c\",\"GeV/c\",\"GeV/c\",\"GeV/c\",\"GeV/c\",\"GeV/c\",\n",
      "       \"\",\"\",\"\",\"\",\"\",\"\",\n",
      "       \"GeV/c\",\"\"]\n",
      "\n",
      "ValString=[\"Data\",\"TTbar\",\"QCD\",\"MC-Sum\"]\n",
      "\n",
      "for i in xrange(len(CutsNm1)):\n",
      "    TTbarNm1Histos=[]; DataNm1Histos=[]; QCDNm1Histos=[]\n",
      "    SingleTNm1Histos=[]; DibosonNm1Histos=[]; DYNm1Histos=[]\n",
      "    SignalNm1Histos=[]\n",
      "    \n",
      "    CumulCut=CumulCut*CutsNm1[i]\n",
      "    MCArray[0][0][2].Draw(Titles[i]+\" >> \"+Titles[i]+\"S_Cut\"+str(i)+BinsLimits[i],CumulCut)\n",
      "    SignalNm1Histos.append(ROOT.gDirectory.Get(Titles[i]+\"S_Cut\"+str(i)))\n",
      "    SignalNm1Histos[-1].Sumw2(); SignalNm1Histos[-1].Scale(SWeight)\n",
      "    \n",
      "    MCArray[0][1].Draw(Titles[i]+\" >> \"+Titles[i]+\"T_Cut\"+str(i)+BinsLimits[i],CumulCut)\n",
      "    TTbarNm1Histos.append(ROOT.gDirectory.Get(Titles[i]+\"T_Cut\"+str(i)))\n",
      "    TTbarNm1Histos[-1].Sumw2(); TTbarNm1Histos[-1].Scale(TWeight) #; TTbarHistos[-1].Write()\n",
      "                \n",
      "    QCDHT=[]\n",
      "    MCArray[0][2][0].Draw(Titles[i]+\" >> \"+Titles[i]+\"Q500_Cut\"+str(i)+BinsLimits[i],CumulCut)\n",
      "    QCDHT.append(ROOT.gDirectory.Get(Titles[i]+\"Q500_Cut\"+str(i)))\n",
      "    QCDHT[-1].Sumw2(); QCDHT[-1].Scale(QWeights[0]) #; QCD500Histos[-1].Write()\n",
      "        \n",
      "    MCArray[0][2][1].Draw(Titles[i]+\" >> \"+Titles[i]+\"Q1000_Cut\"+str(i)+BinsLimits[i],CumulCut)\n",
      "    QCDHT.append(ROOT.gDirectory.Get(Titles[i]+\"Q1000_Cut\"+str(i)))\n",
      "    QCDHT[-1].Sumw2(); QCDHT[-1].Scale(QWeights[1]) #; QCD1000Histos[-1].Write()\n",
      "    \n",
      "    STHT=[]\n",
      "    for k in xrange(len(SubBKGArray[0][0])): #Single Top\n",
      "        if SubBKGArray[0][0][k].GetEntries()>0:\n",
      "            SubBKGArray[0][0][k].Draw(Titles[i]+\" >> \"+Titles[i]+\"ST_Cut\"+str(i)+\"_\"+str(k)+BinsLimits[i],CumulCut)\n",
      "            STHT.append(ROOT.gDirectory.Get(Titles[i]+\"ST_Cut\"+str(i)+\"_\"+str(k)))\n",
      "            STHT[-1].Sumw2(); STHT[-1].Scale(SingleTWeights[k])\n",
      "    SingleTNm1Histos.append(STHT)\n",
      "            \n",
      "    DiHT=[]\n",
      "    for k in xrange(len(SubBKGArray[0][1])): #Diboson\n",
      "        if SubBKGArray[0][1][k].GetEntries()>0:\n",
      "            SubBKGArray[0][1][k].Draw(Titles[i]+\" >> \"+Titles[i]+\"Di_Cut\"+str(i)+\"_\"+str(k)+BinsLimits[i],CumulCut)\n",
      "            DiHT.append(ROOT.gDirectory.Get(Titles[i]+\"Di_Cut\"+str(i)+\"_\"+str(k)))\n",
      "            DiHT[-1].Sumw2(); DiHT[-1].Scale(DibosonWeights[k])\n",
      "    DibosonNm1Histos.append(DiHT)\n",
      "        \n",
      "    DYHT=[]\n",
      "    for k in xrange(len(SubBKGArray[0][2])): #DY\n",
      "        if SubBKGArray[0][2][k].GetEntries()>0:\n",
      "            SubBKGArray[0][2][k].Draw(Titles[i]+\" >> \"+Titles[i]+\"DY_Cut\"+str(i)+\"_\"+str(k)+BinsLimits[i],CumulCut)\n",
      "            DYHT.append(ROOT.gDirectory.Get(Titles[i]+\"DY_Cut\"+str(i)+\"_\"+str(k)))\n",
      "            DYHT[-1].Sumw2(); DYHT[-1].Scale(DYWeights[k])\n",
      "    DYNm1Histos.append(DYHT)\n",
      "        \n",
      "    if QCDPTFLAG: \n",
      "        for k in xrange(len(SubBKGArray[0][3])): #QCD PT hat\n",
      "            if SubBKGArray[0][3][k].GetEntries()>0:\n",
      "                SubBKGArray[0][3][k].Draw(Titles[i]+\" >> \"+Titles[i]+\"QCDPT_Cut\"+str(i)+\"_\"+str(j)+\"_\"+str(k)+BinsLimits[i],CumulCut*CMC)\n",
      "                QCDHT.append(ROOT.gDirectory.Get(Titles[i]+\"QCDPT_Cut\"+str(i)+\"_\"+str(j)+\"_\"+str(k)))\n",
      "                QCDHT[-1].Sumw2(); QCDHT[-1].Scale(QCDPTWeights[k])\n",
      "    QCDNm1Histos.append(QCDHT)\n",
      "\n",
      "    QCDFull=QCDNm1Histos[-1][0].Clone(Titles[i]+\"Q_Cut\"+str(i))\n",
      "    for k in QCDNm1Histos[-1][1:]:\n",
      "        QCDFull.Add(k)\n",
      "        \n",
      "    SingleTFull=SingleTNm1Histos[-1][0].Clone(Titles[i]+\"ST_Cut\"+str(i))\n",
      "    for k in SingleTNm1Histos[-1][1:]:\n",
      "        SingleTFull.Add(k)\n",
      "    \n",
      "    DibosonFull=DibosonNm1Histos[-1][0].Clone(Titles[i]+\"Di_Cut\"+str(i))\n",
      "    for k in DibosonNm1Histos[-1][1:]:\n",
      "        DibosonFull.Add(k)\n",
      "        \n",
      "    DYFull=DYNm1Histos[-1][0].Clone(Titles[i]+\"DY_Cut\"+str(i))\n",
      "    for k in DYNm1Histos[-1][1:]:\n",
      "        DYFull.Add(k)\n",
      "    \n",
      "    MCFull=QCDFull.Clone(Titles[i]+\"MC_Cut\"+str(i))\n",
      "    MCFull.Add(TTbarNm1Histos[-1])\n",
      "    MCFull.Add(SingleTFull)\n",
      "    MCFull.Add(DibosonFull)\n",
      "    MCFull.Add(DYFull)\n",
      "\n",
      "    DataArray[0].Draw(Titles[i]+\" >> \"+Titles[i]+\"D_Cut\"+str(i)+BinsLimits[i],CumulCut)\n",
      "    DataNm1Histos.append(ROOT.gDirectory.Get(Titles[i]+\"D_Cut\"+str(i)))\n",
      "\n",
      "    ROOT.gPad.Clear()\n",
      "\n",
      "    CurrentStyle=ROOT.TStyle(\"CStyle\",\"Style for Plotting\")\n",
      "    \n",
      "    CurrentStyle.SetTitleSize(0.06, \"Y\")\n",
      "    CurrentStyle.SetTitleYOffset(1.25)\n",
      "                \n",
      "    CurCanv1 = rootnotes.canvas(\"MyPlot\", (600, 800))\n",
      "    CurCanv1.cd(1)\n",
      "    Pad1=ROOT.TPad(\"pad1\",\"pad1\",0,0.3,1,1)\n",
      "    Pad1.SetBottomMargin(0)\n",
      "    Pad1.SetLeftMargin(0.16)\n",
      "    Pad1.Draw()\n",
      "    Pad1.cd()\n",
      "        \n",
      "    MCFull.SetStats(ROOT.kFALSE)\n",
      "    MinX=float(BinsLimits[i].split(\",\")[1])\n",
      "    MaxX=float(BinsLimits[i].split(\",\")[-1][0:-1])\n",
      "    Nbins=int(BinsLimits[i].split(\",\")[0][1:])\n",
      "    MCFull.SetTitle(\";;Events/{0:.1f} \".format((MaxX-MinX)/Nbins)+Units[i])\n",
      "    SetAxis(MCFull,'Y',1.25,0.05,0.007,0.05,510)\n",
      "    SetAxis(DataNm1Histos[-1],'Y',1.25,0.05,0.007,0.05,510)\n",
      "    SetAxis(SignalNm1Histos[-1],'Y',1.25,0.05,0.007,0.05,510)\n",
      "    SetAxis(TTbarNm1Histos[-1],'Y',1.25,0.05,0.007,0.05,510)\n",
      "    SetAxis(QCDFull,'Y',1.25,0.05,0.007,0.05,510)\n",
      "    SetAxis(SingleTFull,'Y',1.25,0.05,0.007,0.05,510)\n",
      "    SetAxis(DibosonFull,'Y',1.25,0.05,0.007,0.05,510)\n",
      "    SetAxis(DYFull,'Y',1.25,0.05,0.007,0.05,510)\n",
      "    \n",
      "    SetCos(DataNm1Histos[-1],0,0,ROOT.kBlack,2,1,20)\n",
      "    SetCos(SignalNm1Histos[-1],ROOT.kSpring,3444,ROOT.kBlack,2,1,1)\n",
      "    SetCos(TTbarNm1Histos[-1],ROOT.kRed,3345,ROOT.kBlack,1,1,1)\n",
      "    SetCos(QCDFull,ROOT.kViolet,1001,ROOT.kBlack,1,1,1)\n",
      "    SetCos(SingleTFull,ROOT.kBlack,3305,ROOT.kBlack,1,1,1)\n",
      "    SetCos(DibosonFull,ROOT.kWhite,1001,ROOT.kBlack,1,1,1)\n",
      "    SetCos(DYFull,ROOT.kBlue,1001,ROOT.kBlack,1,1,1)\n",
      "    SetCos(MCFull,ROOT.kGray+2,1001,ROOT.kGray+2,1,1,1)\n",
      "            \n",
      "    CloneD=DataNm1Histos[-1].Clone(\"CopyD\"); CloneMC=MCFull.Clone(\"CopyMC\")\n",
      "    AllBKGStack=ROOT.THStack(\"AllBKGStack\", \";;Events/{0:.1f} \".format((MaxX-MinX)/Nbins)+Units[i])\n",
      "    AllBKGStack.Add(DibosonFull); AllBKGStack.Add(SingleTFull)\n",
      "    AllBKGStack.Add(TTbarNm1Histos[-1]); AllBKGStack.Add(DYFull); AllBKGStack.Add(QCDFull)\n",
      "    AllBKGStack.SetMinimum(0.3)\n",
      "    \n",
      "    LEG=ROOT.TLegend(0.5,0.5,0.9,0.9)\n",
      "    LEG.AddEntry(DataNm1Histos[-1], \"Data\", \"p\")\n",
      "    LEG.AddEntry(QCDFull, \"QCD\", \"f\")\n",
      "    LEG.AddEntry(DYFull, \"Zjets\", \"f\")\n",
      "    LEG.AddEntry(TTbarNm1Histos[-1], \"TTbar\", \"f\")\n",
      "    LEG.AddEntry(SingleTFull, \"Single Top\", \"f\")\n",
      "    LEG.AddEntry(DibosonFull, \"Diboson\", \"f\")\n",
      "    LEG.AddEntry(SignalNm1Histos[-1], \"Signal M(T')=700 GeV/c^{2}\", \"f\")\n",
      "    LEG.SetFillColor(0)\n",
      "    AllBKGStack.Draw(\"hist\"); MCFull.Draw(\"e2 same\")\n",
      "    SignalNm1Histos[-1].Draw(\"hist same\"); DataNm1Histos[-1].Draw(\"E0X0 same\")\n",
      "    if i!=len(CutsNm1)-1: Pad1.SetLogy(); Pad1.RedrawAxis()\n",
      "    \n",
      "    LEG.Draw()\n",
      "    CurrentStyle.SetPadTickX(1)\n",
      "    CurCanv1.cd()\n",
      "        \n",
      "    Pad2=ROOT.TPad(\"pad2\",\"pad2\",0,0,1,0.3)\n",
      "    Pad2.SetTopMargin(0)\n",
      "    Pad2.SetLeftMargin(0.16)\n",
      "    Pad2.SetBottomMargin(0.25)\n",
      "    Pad2.Draw()\n",
      "    Pad2.cd()\n",
      "        \n",
      "    CloneMC.SetMinimum(0.1); CloneMC.SetMaximum(1.9)\n",
      "    CloneMC.Sumw2()\n",
      "    CloneMC.SetStats(0)\n",
      "    CloneMC.SetTitle(\";\"+XaxisT[i]+\" \"+Units[i]+\";Data/MC\")\n",
      "    CloneMC.Divide(MCFull)\n",
      "    CloneMC.SetFillStyle(1001)\n",
      "    SetAxis(CloneMC,'X',0.9,0.09,0.007,0.09,510)\n",
      "    SetAxis(CloneMC,'Y',0.75,0.09,0.007,0.09,404)\n",
      "    CloneMC.Draw(\"E2\")\n",
      "        \n",
      "    CloneD.Sumw2()\n",
      "    #CloneD.Scale(HistosToplot[0].Integral()/CloneE.Integral()); CloneE.SetStats(0)\n",
      "    CloneD.SetTitle(\";\"+XaxisT[i]+\" \"+Units[i]+\";Data/MC\")\n",
      "    CloneD.Divide(MCFull)\n",
      "    CloneD.Draw(\"E0X0 same\")\n",
      "        \n",
      "    if i==0: CurCanv1.Print(PDFName+\"(\",\"Title:\"+Titles[i])\n",
      "    elif i==(len(CutsNm1)-1): CurCanv1.Print(PDFName+\")\",\"Title:\"+Titles[i])\n",
      "    else: CurCanv1.Print(PDFName,\"Title:\"+Titles[i])\n",
      "        \n",
      "    CurCanv1.Clear(); CurrentStyle.SetPadTickX(0)\n",
      "    CurCanv1.cd(1)\n",
      "                    \n",
      "    #del(HistosToplot); del(CurCanv1); del(Pad1); del(Pad2)\n",
      "    #del(CloneA); del(CloneE); del(CloneE1); del(CloneE2)"
     ],
     "language": "python",
     "metadata": {},
     "outputs": [
      {
       "output_type": "stream",
       "stream": "stderr",
       "text": [
        "TH1F::Sumw2:0: RuntimeWarning: Sum of squares of weights structure already created\n",
        "TH1F::Sumw2:0: RuntimeWarning: Sum of squares of weights structure already created\n"
       ]
      },
      {
       "output_type": "stream",
       "stream": "stderr",
       "text": [
        "TH1F::Sumw2:0: RuntimeWarning: Sum of squares of weights structure already created\n",
        "TH1F::Sumw2:0: RuntimeWarning: Sum of squares of weights structure already created\n"
       ]
      },
      {
       "output_type": "stream",
       "stream": "stderr",
       "text": [
        "TH1F::Sumw2:0: RuntimeWarning: Sum of squares of weights structure already created\n",
        "TH1F::Sumw2:0: RuntimeWarning: Sum of squares of weights structure already created\n"
       ]
      },
      {
       "output_type": "stream",
       "stream": "stderr",
       "text": [
        "TH1F::Sumw2:0: RuntimeWarning: Sum of squares of weights structure already created\n"
       ]
      }
     ],
     "prompt_number": 24
    },
    {
     "cell_type": "code",
     "collapsed": false,
     "input": [],
     "language": "python",
     "metadata": {},
     "outputs": []
    }
   ],
   "metadata": {}
  }
 ]
}