{
 "metadata": {
  "name": ""
 },
 "nbformat": 3,
 "nbformat_minor": 0,
 "worksheets": [
  {
   "cells": [
    {
     "cell_type": "code",
     "collapsed": false,
     "input": [
      "from Generic import *"
     ],
     "language": "python",
     "metadata": {},
     "outputs": [],
     "prompt_number": 1
    },
    {
     "cell_type": "heading",
     "level": 3,
     "metadata": {},
     "source": [
      "Loading Ntuples from numpy arrays"
     ]
    },
    {
     "cell_type": "code",
     "collapsed": false,
     "input": [
      "NominalV=\"V8\"\n",
      "InclusiveV1=\"V9\"\n",
      "InclusiveV2=\"V10\""
     ],
     "language": "python",
     "metadata": {},
     "outputs": [],
     "prompt_number": 2
    },
    {
     "cell_type": "heading",
     "level": 2,
     "metadata": {},
     "source": [
      "To read basic signal and control sample separately from inclusive control samples"
     ]
    },
    {
     "cell_type": "code",
     "collapsed": false,
     "input": [
      "#########################################\n",
      "#Basic Signal and Control samples Arrays#\n",
      "#########################################\n",
      "#Reading DATA minitrees for signal sample\n",
      "\n",
      "DataASampleFile=\"Arrays_V8V9V10/Version8/DataA_2ndTopMass_NCSVM_\"+NominalV\n",
      "DataA=np.load(DataASampleFile+\".npy\")\n",
      "######QCD ESTIM######\n",
      "#DataASampleFile=\"DataA_2ndTopMass_NCSVM_V_QCDEstim\"\n",
      "#DataA=np.load(DataASampleFile+\".npy\")\n",
      "#####################\n",
      "\n",
      "#Reading DATA minitrees for control sample\n",
      "\n",
      "#ControlSampleFileD_1=\"Arrays_V8V9V10/Version8/DataE1_\"+NominalV; CSD_1=np.load(ControlSampleFileD_1+\".npy\")\n",
      "#ControlSampleFileD_2=\"Arrays_V8V9V10/Version8/DataE2_\"+NominalV; CSD_2=np.load(ControlSampleFileD_2+\".npy\")\n",
      "#LisD=ROOT.TList()\n",
      "#LisD.Add(CSD_1[0]); LisD.Add(CSD_2[0])\n",
      "#DataE = ROOT.TTree.MergeTrees(LisD)\n",
      "#DataE.SetName(\"D\"); DataE=np.array([DataE]); del(LisD); del(CSD_1); del(CSD_2)\n",
      "\n",
      "#print DataA[0].GetEntries(), DataE[0].GetEntries()\n",
      "\n",
      "################################\n",
      "#Control Sample one combination#\n",
      "################################\n",
      "DataESampleFile=\"Arrays_V8V9V10/V2/DataE_V8_VectorControlSample\"\n",
      "#DataESampleFile=\"Arrays_V8V9V10/V8_VectorControlSample/DataE_V8_VectorControlSample\"\n",
      "DataE=np.load(DataESampleFile+\".npy\")\n",
      "\n",
      "print DataA[0].GetEntries(), DataE[0].GetEntries()\n",
      "\n",
      "#Reading MC minitrees for signal sample\n",
      "\n",
      "######QCD ESTIM######\n",
      "#SignalSampleFile=\"SignalSample_2ndTopMass_NCSVM_V_QCDEstim\"\n",
      "#####################\n",
      "SignalSampleFile=\"Arrays_V8V9V10/Version8/SignalSample_2ndTopMass_NCSVM_\"+NominalV\n",
      "MCSignalSampleArray=np.load(SignalSampleFile+\".npy\")\n",
      "NMassPointsA=MCSignalSampleArray[0:NsignalFiles]\n",
      "TntupleA=MCSignalSampleArray[NsignalFiles]\n",
      "QntuplesA=MCSignalSampleArray[NsignalFiles+1:NsignalFiles+3]\n",
      "SubBKGArrayA=MCSignalSampleArray[NsignalFiles+3:]\n",
      "del(MCSignalSampleArray)\n",
      "\n",
      "#Reading MC minitrees for control sample\n",
      "\n",
      "#ControlSampleFileS=\"Arrays_V8V9V10/Version8/ControlSample_SignalMassPoints_\"+NominalV\n",
      "#NMassPointsE=np.load(ControlSampleFileS+\".npy\")\n",
      "#\n",
      "#ControlSampleFileQCDHT=\"Arrays_V8V9V10/Version8/ControlSample_QCDHT_\"+NominalV\n",
      "#QntuplesE=np.load(ControlSampleFileQCDHT+\".npy\")\n",
      "#            \n",
      "#ControlSampleFileSubB=\"Arrays_V8V9V10/Version8/ControlSample_SubBKGMC_\"+NominalV\n",
      "#SubBKGArrayE=np.load(ControlSampleFileSubB+\".npy\")\n",
      "#\n",
      "#ControlSampleFileTT=\"Arrays_V8V9V10/Version8/ControlSample_TTJets_DRleq1p2_\"+NominalV\n",
      "#TntupleE=np.load(ControlSampleFileTT+\".npy\"); TntupleE=TntupleE[0]\n",
      "\n",
      "#ControlSampleFileTT_1=\"Arrays_V8V9V10/Version8/ControlSample_TTJets1_\"+NominalV; CSTT_1=np.load(ControlSampleFileTT_1+\".npy\")\n",
      "#ControlSampleFileTT_2=\"Arrays_V8V9V10/Version8/ControlSample_TTJets2_\"+NominalV; CSTT_2=np.load(ControlSampleFileTT_2+\".npy\")\n",
      "#LisTT=ROOT.TList()\n",
      "#LisTT.Add(CSTT_1[0]); LisTT.Add(CSTT_2[0])\n",
      "#TntupleE = ROOT.TTree.MergeTrees(LisTT)\n",
      "#TntupleE.SetName(\"TT\")#; TntupleE=np.array([TntupleE]); del(LisTT); del(CSTT_1); del(CSTT_2)\n",
      "\n",
      "################################\n",
      "#Control Sample one combination#\n",
      "################################\n",
      "ControlSampleFileS=\"Arrays_V8V9V10/V2/ControlSample_SignalMassPoints_V8_VectorControlSample\"\n",
      "#ControlSampleFileS=\"Arrays_V8V9V10/V8_VectorControlSample/ControlSample_SignalMassPoints_V8_VectorControlSample\"\n",
      "NMassPointsE=np.load(ControlSampleFileS+\".npy\")\n",
      "\n",
      "ControlSampleFileQCDHT=\"Arrays_V8V9V10/V2/ControlSample_QCDHT_V8_VectorControlSample\"\n",
      "#ControlSampleFileQCDHT=\"Arrays_V8V9V10/V8_VectorControlSample/ControlSample_QCDHT_V8_VectorControlSample\"\n",
      "QntuplesE=np.load(ControlSampleFileQCDHT+\".npy\")\n",
      "            \n",
      "ControlSampleFileSubB=\"Arrays_V8V9V10/V2/ControlSample_SubBKGMC_V8_VectorControlSample\"\n",
      "#ControlSampleFileSubB=\"Arrays_V8V9V10/V8_VectorControlSample/ControlSample_SubBKGMC_V8_VectorControlSample\"\n",
      "SubBKGArrayE=np.load(ControlSampleFileSubB+\".npy\")\n",
      "\n",
      "ControlSampleFileTT=\"Arrays_V8V9V10/V2/ControlSample_TTJets_V8_VectorControlSample\"\n",
      "#ControlSampleFileTT=\"Arrays_V8V9V10/V8_VectorControlSample/ControlSample_TTJets_V8_VectorControlSample\"\n",
      "TntupleE=np.load(ControlSampleFileTT+\".npy\"); TntupleE=TntupleE[0]\n",
      "\n",
      "print NMassPointsA[2].GetEntries(), TntupleA.GetEntries(), QntuplesA[0].GetEntries()\n",
      "print NMassPointsE[2].GetEntries(), TntupleE.GetEntries(), QntuplesE[0].GetEntries()"
     ],
     "language": "python",
     "metadata": {},
     "outputs": [
      {
       "output_type": "stream",
       "stream": "stdout",
       "text": [
        "75567 879135\n",
        "4675"
       ]
      },
      {
       "output_type": "stream",
       "stream": "stdout",
       "text": [
        " 143984 5522\n",
        "5214 516163 64369\n"
       ]
      }
     ],
     "prompt_number": 3
    },
    {
     "cell_type": "code",
     "collapsed": false,
     "input": [
      "##################################\n",
      "#Inclusive Control samples Arrays#\n",
      "##################################\n",
      "#Reading DATA minitrees for control sample\n",
      "\n",
      "#ControlSampleFileD1_1=\"Arrays_V8V9V10/Version9/DataE1_\"+InclusiveV1; CSD1_1=np.load(ControlSampleFileD1_1+\".npy\")\n",
      "#ControlSampleFileD1_2=\"Arrays_V8V9V10/Version9/DataE2_\"+InclusiveV1; CSD1_2=np.load(ControlSampleFileD1_2+\".npy\")\n",
      "#LisD1=ROOT.TList()\n",
      "#LisD1.Add(CSD1_1[0]); LisD1.Add(CSD1_2[0])\n",
      "#DataE1 = ROOT.TTree.MergeTrees(LisD1)\n",
      "#DataE1.SetName(\"D1\"); DataE1=np.array([DataE1]); del(LisD1); del(CSD1_1); del(CSD1_2)\n",
      "#ControlSampleFileD2_1=\"Arrays_V8V9V10/Version10/DataE1_\"+InclusiveV2; CSD2_1=np.load(ControlSampleFileD2_1+\".npy\")\n",
      "#ControlSampleFileD2_2=\"Arrays_V8V9V10/Version10/DataE2_\"+InclusiveV2; CSD2_2=np.load(ControlSampleFileD2_2+\".npy\")\n",
      "#LisD2=ROOT.TList()\n",
      "#LisD2.Add(CSD2_1[0]); LisD2.Add(CSD2_2[0])\n",
      "#DataE2 = ROOT.TTree.MergeTrees(LisD2)\n",
      "#DataE2.SetName(\"D2\"); DataE2=np.array([DataE2]); del(LisD2); del(CSD2_1); del(CSD2_2)\n",
      "\n",
      "#ControlSampleFileD1=\"Arrays_V8V9V10/Version9/DataE_\"+InclusiveV1+\"_VectorControlSample\"\n",
      "ControlSampleFileD1=\"Arrays_V8V9V10/V2/DataE_\"+InclusiveV1+\"_VectorControlSample\"\n",
      "DataE1=np.load(ControlSampleFileD1+\".npy\")\n",
      "#ControlSampleFileD2=\"Arrays_V8V9V10/Version10/DataE_\"+InclusiveV2+\"_VectorControlSample\"\n",
      "ControlSampleFileD2=\"Arrays_V8V9V10/V2/DataE_\"+InclusiveV2+\"_VectorControlSample\"\n",
      "DataE2=np.load(ControlSampleFileD2+\".npy\")\n",
      "\n",
      "print DataE1[0].GetEntries(), DataE2[0].GetEntries()\n",
      "\n",
      "#Reading MC minitrees for control sample\n",
      "\n",
      "#ControlSampleFileS1=\"Arrays_V8V9V10/Version9/ControlSample_SignalMassPoints_\"+InclusiveV1+\"_VectorControlSample\"\n",
      "#ControlSampleFileS2=\"Arrays_V8V9V10/Version10/ControlSample_SignalMassPoints_\"+InclusiveV2+\"_VectorControlSample\"\n",
      "ControlSampleFileS1=\"Arrays_V8V9V10/V2/ControlSample_SignalMassPoints_\"+InclusiveV1+\"_VectorControlSample\"\n",
      "ControlSampleFileS2=\"Arrays_V8V9V10/V2/ControlSample_SignalMassPoints_\"+InclusiveV2+\"_VectorControlSample\"\n",
      "\n",
      "NMassPointsE1=np.load(ControlSampleFileS1+\".npy\")\n",
      "NMassPointsE2=np.load(ControlSampleFileS2+\".npy\")\n",
      "\n",
      "#ControlSampleFileQCDHT1=\"Arrays_V8V9V10/Version9/ControlSample_QCDHT_\"+InclusiveV1+\"_VectorControlSample\"\n",
      "#ControlSampleFileQCDHT2=\"Arrays_V8V9V10/Version10/ControlSample_QCDHT_\"+InclusiveV2+\"_VectorControlSample\"\n",
      "ControlSampleFileQCDHT1=\"Arrays_V8V9V10/V2/ControlSample_QCDHT_\"+InclusiveV1+\"_VectorControlSample\"\n",
      "ControlSampleFileQCDHT2=\"Arrays_V8V9V10/V2/ControlSample_QCDHT_\"+InclusiveV2+\"_VectorControlSample\"\n",
      "\n",
      "QntuplesE1=np.load(ControlSampleFileQCDHT1+\".npy\")\n",
      "QntuplesE2=np.load(ControlSampleFileQCDHT2+\".npy\")\n",
      "\n",
      "#ControlSampleFileSubB1=\"Arrays_V8V9V10/Version9/ControlSample_SubBKGMC_\"+InclusiveV1+\"_VectorControlSample\"\n",
      "#ControlSampleFileSubB2=\"Arrays_V8V9V10/Version10/ControlSample_SubBKGMC_\"+InclusiveV2+\"_VectorControlSample\"\n",
      "ControlSampleFileSubB1=\"Arrays_V8V9V10/V2/ControlSample_SubBKGMC_\"+InclusiveV1+\"_VectorControlSample\"\n",
      "ControlSampleFileSubB2=\"Arrays_V8V9V10/V2/ControlSample_SubBKGMC_\"+InclusiveV2+\"_VectorControlSample\"\n",
      "\n",
      "SubBKGArrayE1=np.load(ControlSampleFileSubB1+\".npy\")\n",
      "SubBKGArrayE2=np.load(ControlSampleFileSubB2+\".npy\")\n",
      "\n",
      "#ControlSampleFileTT1=\"Arrays_V8V9V10/Version9/ControlSample_TTJets_\"+InclusiveV1+\"_VectorControlSample\"\n",
      "ControlSampleFileTT1=\"Arrays_V8V9V10/V2/ControlSample_TTJets_\"+InclusiveV1+\"_VectorControlSample\"\n",
      "TntupleE1=np.load(ControlSampleFileTT1+\".npy\"); TntupleE1=TntupleE1[0]\n",
      "\n",
      "#ControlSampleFileTT2=\"Arrays_V8V9V10/Version10/ControlSample_TTJets_\"+InclusiveV2+\"_VectorControlSample\"\n",
      "ControlSampleFileTT2=\"Arrays_V8V9V10/V2/ControlSample_TTJets_\"+InclusiveV2+\"_VectorControlSample\"\n",
      "TntupleE2=np.load(ControlSampleFileTT2+\".npy\"); TntupleE2=TntupleE2[0]\n",
      "\n",
      "#ControlSampleFileTT1_1=\"Arrays_V8V9V10/Version9/ControlSample_TTJets1_\"+InclusiveV1; CSTT1_1=np.load(ControlSampleFileTT1_1+\".npy\")\n",
      "#ControlSampleFileTT1_2=\"Arrays_V8V9V10/Version9/ControlSample_TTJets2_\"+InclusiveV1; CSTT1_2=np.load(ControlSampleFileTT1_2+\".npy\")\n",
      "#LisTT1=ROOT.TList()\n",
      "#LisTT1.Add(CSTT1_1[0]); LisTT1.Add(CSTT1_2[0])\n",
      "#TntupleE1 = ROOT.TTree.MergeTrees(LisTT1)\n",
      "#TntupleE1.SetName(\"TT1\"); TntupleE1=np.array([TntupleE1]); del(LisTT1); del(CSTT1_1); del(CSTT1_2)\n",
      "#ControlSampleFileTT2_1=\"Arrays_V8V9V10/Version10/ControlSample_TTJets1_\"+InclusiveV2; CSTT2_1=np.load(ControlSampleFileTT2_1+\".npy\")\n",
      "#ControlSampleFileTT2_2=\"Arrays_V8V9V10/Version10/ControlSample_TTJets2_\"+InclusiveV2; CSTT2_2=np.load(ControlSampleFileTT2_2+\".npy\")\n",
      "#LisTT2=ROOT.TList()\n",
      "#LisTT2.Add(CSTT2_1[0]); LisTT2.Add(CSTT2_2[0])\n",
      "#TntupleE2 = ROOT.TTree.MergeTrees(LisTT2)\n",
      "#TntupleE2.SetName(\"TT2\"); TntupleE2=np.array([TntupleE2]); del(LisTT2); del(CSTT2_1); del(CSTT2_2)\n",
      "\n",
      "print NMassPointsE1[2].GetEntries(), TntupleE1.GetEntries(), QntuplesE1[0].GetEntries()\n",
      "print NMassPointsE2[2].GetEntries(), TntupleE2.GetEntries(), QntuplesE2[0].GetEntries()"
     ],
     "language": "python",
     "metadata": {},
     "outputs": [
      {
       "output_type": "stream",
       "stream": "stdout",
       "text": [
        "216760 60310\n",
        "2691"
       ]
      },
      {
       "output_type": "stream",
       "stream": "stdout",
       "text": [
        " 212717 14905\n",
        "1176 76661 4155\n"
       ]
      }
     ],
     "prompt_number": 4
    },
    {
     "cell_type": "heading",
     "level": 2,
     "metadata": {},
     "source": [
      "To Read DATA and MC separately"
     ]
    },
    {
     "cell_type": "code",
     "collapsed": false,
     "input": [
      "###########\n",
      "#DATA ONLY#\n",
      "###########\n",
      "#Reading DATA minitrees for signal sample\n",
      "\n",
      "DataASampleFile=\"Arrays_V8V9V10/Version8/DataA_\"+NominalV\n",
      "DataA=np.load(DataASampleFile+\".npy\")\n",
      "\n",
      "#Reading DATA minitrees for control sample\n",
      "\n",
      "ControlSampleFileD_1=\"Arrays_V8V9V10/Version8/DataE1_\"+NominalV; CSD_1=np.load(ControlSampleFileD_1+\".npy\")\n",
      "ControlSampleFileD_2=\"Arrays_V8V9V10/Version8/DataE2_\"+NominalV; CSD_2=np.load(ControlSampleFileD_2+\".npy\")\n",
      "LisD=ROOT.TList()\n",
      "LisD.Add(CSD_1[0]); LisD.Add(CSD_2[0])\n",
      "DataE = ROOT.TTree.MergeTrees(LisD)\n",
      "DataE.SetName(\"D\"); DataE=np.array([DataE]); del(LisD); del(CSD_1); del(CSD_2)\n",
      "ControlSampleFileD1_1=\"Arrays_V8V9V10/Version9/DataE1_\"+InclusiveV1; CSD1_1=np.load(ControlSampleFileD1_1+\".npy\")\n",
      "ControlSampleFileD1_2=\"Arrays_V8V9V10/Version9/DataE2_\"+InclusiveV1; CSD1_2=np.load(ControlSampleFileD1_2+\".npy\")\n",
      "LisD1=ROOT.TList()\n",
      "LisD1.Add(CSD1_1[0]); LisD1.Add(CSD1_2[0])\n",
      "DataE1 = ROOT.TTree.MergeTrees(LisD1)\n",
      "DataE1.SetName(\"D1\"); DataE1=np.array([DataE1]); del(LisD1); del(CSD1_1); del(CSD1_2)\n",
      "ControlSampleFileD2_1=\"Arrays_V8V9V10/Version10/DataE1_\"+InclusiveV2; CSD2_1=np.load(ControlSampleFileD2_1+\".npy\")\n",
      "ControlSampleFileD2_2=\"Arrays_V8V9V10/Version10/DataE2_\"+InclusiveV2; CSD2_2=np.load(ControlSampleFileD2_2+\".npy\")\n",
      "LisD2=ROOT.TList()\n",
      "LisD2.Add(CSD2_1[0]); LisD2.Add(CSD2_2[0])\n",
      "DataE2 = ROOT.TTree.MergeTrees(LisD2)\n",
      "DataE2.SetName(\"D2\"); DataE2=np.array([DataE2]); del(LisD2); del(CSD2_1); del(CSD2_2)\n",
      "\n",
      "print DataA[0].GetEntries(), DataE[0].GetEntries(), DataE1[0].GetEntries(), DataE2[0].GetEntries()"
     ],
     "language": "python",
     "metadata": {},
     "outputs": [
      {
       "output_type": "stream",
       "stream": "stdout",
       "text": [
        "75567 52060686 9423576 2197455\n"
       ]
      }
     ],
     "prompt_number": 3
    },
    {
     "cell_type": "code",
     "collapsed": false,
     "input": [
      "#########\n",
      "#MC ONLY#\n",
      "#########\n",
      "#Reading MC minitrees for signal sample\n",
      "\n",
      "SignalSampleFile=\"Arrays_V8V9V10/Version8/SignalSample_\"+NominalV\n",
      "MCSignalSampleArray=np.load(SignalSampleFile+\".npy\")\n",
      "NMassPointsA=MCSignalSampleArray[0:NsignalFiles]\n",
      "TntupleA=MCSignalSampleArray[NsignalFiles]\n",
      "QntuplesA=MCSignalSampleArray[NsignalFiles+1:NsignalFiles+3]\n",
      "SubBKGArrayA=MCSignalSampleArray[NsignalFiles+3:]\n",
      "del(MCSignalSampleArray)\n",
      "\n",
      "#Reading MC minitrees for control sample\n",
      "\n",
      "ControlSampleFileS=\"Arrays_V8V9V10/Version8/ControlSample_SignalMassPoints_\"+NominalV\n",
      "ControlSampleFileS1=\"Arrays_V8V9V10/Version9/ControlSample_SignalMassPoints_\"+InclusiveV1\n",
      "ControlSampleFileS2=\"Arrays_V8V9V10/Version10/ControlSample_SignalMassPoints_\"+InclusiveV2\n",
      "\n",
      "NMassPointsE=np.load(ControlSampleFileS+\".npy\")\n",
      "NMassPointsE1=np.load(ControlSampleFileS1+\".npy\")\n",
      "NMassPointsE2=np.load(ControlSampleFileS2+\".npy\")\n",
      "\n",
      "ControlSampleFileQCDHT=\"Arrays_V8V9V10/Version8/ControlSample_QCDHT_\"+NominalV\n",
      "ControlSampleFileQCDHT1=\"Arrays_V8V9V10/Version9/ControlSample_QCDHT_\"+InclusiveV1\n",
      "ControlSampleFileQCDHT2=\"Arrays_V8V9V10/Version10/ControlSample_QCDHT_\"+InclusiveV2\n",
      "\n",
      "QntuplesE=np.load(ControlSampleFileQCDHT+\".npy\")\n",
      "QntuplesE1=np.load(ControlSampleFileQCDHT1+\".npy\")\n",
      "QntuplesE2=np.load(ControlSampleFileQCDHT2+\".npy\")\n",
      "\n",
      "ControlSampleFileSubB=\"Arrays_V8V9V10/Version8/ControlSample_SubBKGMC_\"+NominalV\n",
      "ControlSampleFileSubB1=\"Arrays_V8V9V10/Version9/ControlSample_SubBKGMC_\"+InclusiveV1\n",
      "ControlSampleFileSubB2=\"Arrays_V8V9V10/Version10/ControlSample_SubBKGMC_\"+InclusiveV2\n",
      "\n",
      "SubBKGArrayE=np.load(ControlSampleFileSubB+\".npy\")\n",
      "SubBKGArrayE1=np.load(ControlSampleFileSubB1+\".npy\")\n",
      "SubBKGArrayE2=np.load(ControlSampleFileSubB2+\".npy\")\n",
      "\n",
      "ControlSampleFileTT_1=\"Arrays_V8V9V10/Version8/ControlSample_TTJets1_\"+NominalV; CSTT_1=np.load(ControlSampleFileTT_1+\".npy\")\n",
      "ControlSampleFileTT_2=\"Arrays_V8V9V10/Version8/ControlSample_TTJets2_\"+NominalV; CSTT_2=np.load(ControlSampleFileTT_2+\".npy\")\n",
      "LisTT=ROOT.TList()\n",
      "LisTT.Add(CSTT_1[0]); LisTT.Add(CSTT_2[0])\n",
      "TntupleE = ROOT.TTree.MergeTrees(LisTT)\n",
      "TntupleE.SetName(\"TT\"); TntupleE=np.array([TntupleE]); del(LisTT); del(CSTT_1); del(CSTT_2)\n",
      "ControlSampleFileTT1_1=\"Arrays_V8V9V10/Version9/ControlSample_TTJets1_\"+InclusiveV1; CSTT1_1=np.load(ControlSampleFileTT1_1+\".npy\")\n",
      "ControlSampleFileTT1_2=\"Arrays_V8V9V10/Version9/ControlSample_TTJets2_\"+InclusiveV1; CSTT1_2=np.load(ControlSampleFileTT1_2+\".npy\")\n",
      "LisTT1=ROOT.TList()\n",
      "LisTT1.Add(CSTT1_1[0]); LisTT1.Add(CSTT1_2[0])\n",
      "TntupleE1 = ROOT.TTree.MergeTrees(LisTT1)\n",
      "TntupleE1.SetName(\"TT1\"); TntupleE1=np.array([TntupleE1]); del(LisTT1); del(CSTT1_1); del(CSTT1_2)\n",
      "ControlSampleFileTT2_1=\"Arrays_V8V9V10/Version10/ControlSample_TTJets1_\"+InclusiveV2; CSTT2_1=np.load(ControlSampleFileTT2_1+\".npy\")\n",
      "ControlSampleFileTT2_2=\"Arrays_V8V9V10/Version10/ControlSample_TTJets2_\"+InclusiveV2; CSTT2_2=np.load(ControlSampleFileTT2_2+\".npy\")\n",
      "LisTT2=ROOT.TList()\n",
      "LisTT2.Add(CSTT2_1[0]); LisTT2.Add(CSTT2_2[0])\n",
      "TntupleE2 = ROOT.TTree.MergeTrees(LisTT2)\n",
      "TntupleE2.SetName(\"TT2\"); TntupleE2=np.array([TntupleE2]); del(LisTT2); del(CSTT2_1); del(CSTT2_2)\n",
      "\n",
      "print NMassPointsA[2].GetEntries(), TntupleA.GetEntries(), QntuplesA[0].GetEntries()\n",
      "print NMassPointsE[2].GetEntries(), TntupleE.GetEntries(), QntuplesE[0].GetEntries()\n",
      "print NMassPointsE1[2].GetEntries(), TntupleE1.GetEntries(), QntuplesE1[0].GetEntries()\n",
      "print NMassPointsE2[2].GetEntries(), TntupleE2.GetEntries(), QntuplesE2[0].GetEntries()\n"
     ],
     "language": "python",
     "metadata": {},
     "outputs": [],
     "prompt_number": "*"
    },
    {
     "cell_type": "heading",
     "level": 6,
     "metadata": {},
     "source": [
      "##########\n",
      "#Old Code#\n",
      "##########\n",
      "SignalSampleFile=\"SignalSample\"+VersionProc\n",
      "#ControlSampleFile=\"ControlSample\"+VersionProc \n",
      "MCSignalSampleArray=np.load(SignalSampleFile+\".npy\")\n",
      "#MCControlSampleArray=np.load(ControlSampleFile+\".npy\")\n",
      "\n",
      "ControlSampleFile=\"ControlSample_E_\"+InclusiveVersions[0][:-1]\n",
      "MCControlSampleArray=np.load(ControlSampleFile+\".npy\")\n",
      "ControlSampleFileE1=\"ControlSample_E1_\"+InclusiveVersions[1][:-1]\n",
      "MCControlSampleArrayE1=np.load(ControlSampleFileE1+\".npy\")\n",
      "ControlSampleFileE2=\"ControlSample_E2_\"+InclusiveVersions[2][:-1]\n",
      "MCControlSampleArrayE2=np.load(ControlSampleFileE2+\".npy\")\n",
      "\n",
      "DataASampleFile=\"DataA\"+VersionProc\n",
      "DataAArray=np.load(DataASampleFile+\".npy\")\n",
      "\n",
      "DataE_1SampleFile=\"DataE_1\"+InclusiveVersions[0][:-1]\n",
      "DataE_1Array=np.load(DataE_1SampleFile+\".npy\")\n",
      "DataE_2SampleFile=\"DataE_2\"+InclusiveVersions[0][:-1]\n",
      "DataE_2Array=np.load(DataE_2SampleFile+\".npy\")\n",
      "DataE1SampleFile=\"DataE1\"+InclusiveVersions[1][:-1]\n",
      "DataE1Array=np.load(DataE1SampleFile+\".npy\")\n",
      "DataE2SampleFile=\"DataE2\"+InclusiveVersions[2][:-1]\n",
      "DataE2Array=np.load(DataE2SampleFile+\".npy\")\n",
      "\n",
      "DataA=DataAArray[0]\n",
      "DataE_1=DataE_1Array[0]\n",
      "DataE_2=DataE_2Array[0]\n",
      "LisT=ROOT.TList()\n",
      "LisT.Add(DataE_1)\n",
      "LisT.Add(DataE_2)\n",
      "DataE = ROOT.TTree.MergeTrees(LisT);\n",
      "DataE.SetName(\"FullE\");\n",
      "DataE1=DataE1Array[0]\n",
      "DataE2=DataE2Array[0]\n",
      "\n",
      "NMassPointsA=MCSignalSampleArray[0:NsignalFiles]; TntupleA=MCSignalSampleArray[NsignalFiles]; QntuplesA=MCSignalSampleArray[NsignalFiles+1:]\n",
      "NMassPointsE=MCControlSampleArray[0:NsignalFiles]; TntupleE=MCControlSampleArray[NsignalFiles]; QntuplesE=MCControlSampleArray[NsignalFiles+1:]\n",
      "NMassPointsE1=MCControlSampleArrayE1[0:NsignalFiles]; TntupleE1=MCControlSampleArrayE1[NsignalFiles]; QntuplesE1=MCControlSampleArrayE1[NsignalFiles+1:]\n",
      "NMassPointsE2=MCControlSampleArrayE2[0:NsignalFiles]; TntupleE2=MCControlSampleArrayE2[NsignalFiles]; QntuplesE2=MCControlSampleArrayE2[NsignalFiles+1:]\n",
      "print DataA.GetEntries(), DataE_1.GetEntries(), DataE_2.GetEntries(), DataE1.GetEntries(), DataE2.GetEntries(), DataE.GetEntries()\n",
      "del(DataE_1); del(DataE_2); del(DataE_1Array); del(DataE_2Array)\n",
      "#print len(NMassPointsA), len(NMassPointsE)\n",
      "print NMassPointsA[2].GetEntries(), TntupleA.GetEntries(), QntuplesA[0].GetEntries()\n",
      "print NMassPointsE[2].GetEntries(), TntupleE.GetEntries(), QntuplesE[0].GetEntries()\n",
      "print NMassPointsE1[2].GetEntries(), TntupleE1.GetEntries(), QntuplesE1[0].GetEntries()\n",
      "print NMassPointsE2[2].GetEntries(), TntupleE2.GetEntries(), QntuplesE2[0].GetEntries()"
     ]
    },
    {
     "cell_type": "heading",
     "level": 3,
     "metadata": {},
     "source": [
      "Chi2 optimization on data"
     ]
    },
    {
     "cell_type": "code",
     "collapsed": false,
     "input": [
      "CutsFromCLs=[ROOT.TCut(\"\"),CutDRbb,CutDRWH,CutHM,CutM2HP,CutDRTp6thJ,CutRelHT,CutMTHAsym]\n",
      "\n",
      "#Chi2Cut=[\"chi2<\",np.linspace(2,800,80)]\n",
      "Chi2Cut=[\"chi2<\",np.logspace(np.log10(2),np.log10(800),80)]\n",
      "Chi2ResultsPerCut=[]\n",
      "PvalueResultsPerCut=[]\n",
      "\n",
      "OptVersion=\"_bkg_estimation_OneComb_\"+NominalV\n",
      "\n",
      "CumulCut=ROOT.TCut(\"\")*CutHT\n",
      "\n",
      "SignalEntriesE=[]; TTbarEntriesE=[]; QCDEntriesE=[]\n",
      "\n",
      "PDFName=\"Nminus1\"+OptVersion+\"_LogScan2To800Step80.pdf\"\n",
      "CurCanv = rootnotes.canvas(\"MyPlot\", (600, 800))\n",
      "Titles=[\"Base\", \"DRbb\", \"DRWH\", \"HiggsMass\", \"M2HP\", \"DRTp6thJ\", \"RelHT\", \"MTHAsym\"]\n",
      "\n",
      "BinsLimits=\"(30,550,1100)\"\n",
      "\n",
      "for i in xrange(len(CutsFromCLs)):\n",
      "    CumulCut=CumulCut*CutsFromCLs[i]\n",
      "    Chi2Test=[]\n",
      "    PvalueTest=[]\n",
      "    for j in Chi2Cut[1]:\n",
      "        StepChi2Cut=ROOT.TCut(Chi2Cut[0]+str(j))\n",
      "        EstimOptCut=CumulCut*StepChi2Cut\n",
      "        \n",
      "        DataA[0].Draw(\"M5J >> M5JA_Cut\"+str(i)+\"_\"+str(j)+BinsLimits,EstimOptCut)\n",
      "        M5JDA=ROOT.gDirectory.Get(\"M5JA_Cut\"+str(i)+\"_\"+str(j))\n",
      "        \n",
      "        DataE[0].Draw(\"M5J >> M5JE_Cut\"+str(i)+\"_\"+str(j)+BinsLimits,EstimOptCut)\n",
      "        M5JDE=ROOT.gDirectory.Get(\"M5JE_Cut\"+str(i)+\"_\"+str(j))\n",
      "        \n",
      "        print \"Cut:\", Titles[i]+\"_\"+Chi2Cut[0]+str(j)\n",
      "        print \"Entries in Signal Sample=\", M5JDA.GetEntries()\n",
      "        print \"Entries in Control Sample=\", M5JDE.GetEntries()\n",
      "        print \"--------------------------------\"\n",
      "        \n",
      "        res=ROOT.Double(0.0)\n",
      "        Chi2Test.append(M5JDE.Chi2Test(M5JDA,\"UU CHI2/NDF\"))\n",
      "        PvalueTest.append(M5JDE.Chi2Test(M5JDA,\"UU P\"))\n",
      "        \n",
      "        M5JDE.SetStats(ROOT.kFALSE)\n",
      "        M5JDE.SetLineStyle(7); M5JDA.SetLineStyle(1)\n",
      "        M5JDE.SetLineWidth(2); M5JDA.SetLineWidth(1)\n",
      "        M5JDE.SetLineColor(ROOT.kBlue); M5JDA.SetLineColor(ROOT.kBlack)\n",
      "        M5JDE.Sumw2(); M5JDE.Scale(M5JDA.Integral()/M5JDE.Integral())\n",
      "        M5JDE.SetMaximum(max(M5JDA.GetMaximum(),M5JDE.GetMaximum())*1.05)\n",
      "        M5JDE.SetMinimum(min(M5JDA.GetMinimum(),M5JDE.GetMinimum())*0.95)\n",
      "        LEG=ROOT.TLegend(0.65,0.65,0.9,0.9); LEG.SetTextSize(0.015)\n",
      "        LEG.AddEntry(M5JDA, \"Signal Sample\", \"l\"); LEG.AddEntry(M5JDE, \"Control Sample\", \"l\")\n",
      "        LEG.SetFillColor(0)\n",
      "        MinX=float(BinsLimits.split(\",\")[1])\n",
      "        MaxX=float(BinsLimits.split(\",\")[-1][0:-1])\n",
      "        Nbins=int(BinsLimits.split(\",\")[0][1:])\n",
      "        M5JDE.SetTitle(\";M(5j) GeV/c^{2}\"+\";Events/{0:.1f} \".format((MaxX-MinX)/Nbins)+\"GeV/c^{2}\")\n",
      "        M5JDA.SetTitle(\";M(5j) GeV/c^{2}\"+\";Events/{0:.1f} \".format((MaxX-MinX)/Nbins)+\"GeV/c^{2}\")\n",
      "        M5JDE.GetYaxis().SetTitleOffset(1.65)\n",
      "        M5JDA.GetYaxis().SetTitleOffset(1.65)\n",
      "        M5JDE.Draw(\"E hist\"); M5JDA.Draw(\"E hist same\"); LEG.Draw()\n",
      "\n",
      "        if i==0 and j==Chi2Cut[1][0]: CurCanv.Print(PDFName+\"(\",\"Title:\"+Titles[i]+\"_\"+Chi2Cut[0]+str(j))\n",
      "        #elif i==0 and j!=Chi2Cut[1][0]: CurCanv.Print(PDFName,\"Title:\"+Titles[i]+\"_\"+Chi2Cut[0]+str(j))\n",
      "        #elif i!=0 and j!=Chi2Cut[1][-1]: CurCanv.Print(PDFName,\"Title:\"+Titles[i]+\"_\"+Chi2Cut[0]+str(j))\n",
      "        elif i==(len(CutsFromCLs)-1) and j==Chi2Cut[1][-1]: CurCanv.Print(PDFName+\")\",\"Title:\"+Titles[i]+\"_\"+Chi2Cut[0]+str(j))\n",
      "        else: CurCanv.Print(PDFName,\"Title:\"+Titles[i]+\"_\"+Chi2Cut[0]+str(j))\n",
      "        #if j!=Chi2Cut[1][-1]: CurCanv.Print(PDFName,\"Title:\"+Titles[i]+Chi2Cut[0]+str(j))\n",
      "        #elif (i<=len(CutsFromCLs)-2 and i>0) or (j!=Chi2Cut[1][0] and j!=Chi2Cut[1][-1]): CurCanv.Print(PDFName,\"Title:\"+Titles[i]+Chi2Cut[0]+str(j))\n",
      "        #else: CurCanv.Print(PDFName+\")\",\"Title:\"+Titles[i]+Chi2Cut[0]+str(j))\n",
      "    Chi2ResultsPerCut.append(Chi2Test)\n",
      "    PvalueResultsPerCut.append(PvalueTest)\n",
      "np.save(PDFName.split('.')[0]+\".npy\",np.array(Chi2ResultsPerCut))"
     ],
     "language": "python",
     "metadata": {},
     "outputs": [
      {
       "output_type": "stream",
       "stream": "stdout",
       "text": [
        " Cut: Base_chi2<2.0\n",
        "Entries in Signal Sample= 2497.0\n",
        "Entries in Control Sample= 57116.0\n",
        "--------------------------------\n",
        "Cut:"
       ]
      },
      {
       "output_type": "stream",
       "stream": "stdout",
       "text": [
        " Base_chi2<2.15758276321\n",
        "Entries in Signal Sample= 2732.0\n",
        "Entries in Control Sample= 62057.0\n",
        "--------------------------------\n",
        "Cut:"
       ]
      },
      {
       "output_type": "stream",
       "stream": "stdout",
       "text": [
        " Base_chi2<2.32758169006\n",
        "Entries in Signal Sample= 3011.0\n",
        "Entries in Control Sample= 67413.0\n",
        "--------------------------------\n",
        "Cut:"
       ]
      },
      {
       "output_type": "stream",
       "stream": "stdout",
       "text": [
        " Base_chi2<2.51097506722\n",
        "Entries in Signal Sample= 3283.0\n",
        "Entries in Control Sample= 73108.0\n",
        "--------------------------------\n",
        "Cut:"
       ]
      },
      {
       "output_type": "stream",
       "stream": "stdout",
       "text": [
        " Base_chi2<2.70881826195\n",
        "Entries in Signal Sample= 3564.0\n",
        "Entries in Control Sample= 79126.0\n",
        "--------------------------------\n",
        "Cut:"
       ]
      },
      {
       "output_type": "stream",
       "stream": "stdout",
       "text": [
        " Base_chi2<2.92224979532\n",
        "Entries in Signal Sample= 3853.0\n",
        "Entries in Control Sample= 85520.0\n",
        "--------------------------------\n",
        "Cut:"
       ]
      },
      {
       "output_type": "stream",
       "stream": "stdout",
       "text": [
        " Base_chi2<3.1524978941\n",
        "Entries in Signal Sample= 4185.0\n",
        "Entries in Control Sample= 92354.0\n",
        "--------------------------------\n",
        "Cut:"
       ]
      },
      {
       "output_type": "stream",
       "stream": "stdout",
       "text": [
        " Base_chi2<3.40088755869\n",
        "Entries in Signal Sample= 4554.0\n",
        "Entries in Control Sample= 99650.0\n",
        "--------------------------------\n",
        "Cut:"
       ]
      },
      {
       "output_type": "stream",
       "stream": "stdout",
       "text": [
        " Base_chi2<3.66884818812\n",
        "Entries in Signal Sample= 4964.0\n",
        "Entries in Control Sample= 107395.0\n",
        "--------------------------------\n",
        "Cut:"
       ]
      },
      {
       "output_type": "stream",
       "stream": "stdout",
       "text": [
        " Base_chi2<3.95792180577\n",
        "Entries in Signal Sample= 5357.0\n",
        "Entries in Control Sample= 115637.0\n",
        "--------------------------------\n",
        "Cut:"
       ]
      },
      {
       "output_type": "stream",
       "stream": "stdout",
       "text": [
        " Base_chi2<4.26977193314\n",
        "Entries in Signal Sample= 5817.0\n",
        "Entries in Control Sample= 124197.0\n",
        "--------------------------------\n",
        "Cut:"
       ]
      },
      {
       "output_type": "stream",
       "stream": "stdout",
       "text": [
        " Base_chi2<4.6061931629\n",
        "Entries in Signal Sample= 6259.0\n",
        "Entries in Control Sample= 133368.0\n",
        "--------------------------------\n",
        "Cut:"
       ]
      },
      {
       "output_type": "stream",
       "stream": "stdout",
       "text": [
        " Base_chi2<4.96912148615\n",
        "Entries in Signal Sample= 6764.0\n",
        "Entries in Control Sample= 142928.0\n",
        "--------------------------------\n",
        "Cut:"
       ]
      },
      {
       "output_type": "stream",
       "stream": "stdout",
       "text": [
        " Base_chi2<5.36064543341\n",
        "Entries in Signal Sample= 7266.0\n",
        "Entries in Control Sample= 153003.0\n",
        "--------------------------------\n",
        "Cut:"
       ]
      },
      {
       "output_type": "stream",
       "stream": "stdout",
       "text": [
        " Base_chi2<5.78301809341\n",
        "Entries in Signal Sample= 7823.0\n",
        "Entries in Control Sample= 163373.0\n",
        "--------------------------------\n",
        "Cut:"
       ]
      },
      {
       "output_type": "stream",
       "stream": "stdout",
       "text": [
        " Base_chi2<6.23867007885\n",
        "Entries in Signal Sample= 8380.0\n",
        "Entries in Control Sample= 174192.0\n",
        "--------------------------------\n",
        "Cut:"
       ]
      },
      {
       "output_type": "stream",
       "stream": "stdout",
       "text": [
        " Base_chi2<6.73022351375\n",
        "Entries in Signal Sample= 9009.0\n",
        "Entries in Control Sample= 185488.0\n",
        "--------------------------------\n",
        "Cut:"
       ]
      },
      {
       "output_type": "stream",
       "stream": "stdout",
       "text": [
        " Base_chi2<7.26050712292\n",
        "Entries in Signal Sample= 9683.0\n",
        "Entries in Control Sample= 197221.0\n",
        "--------------------------------\n",
        "Cut:"
       ]
      },
      {
       "output_type": "stream",
       "stream": "stdout",
       "text": [
        " Base_chi2<7.8325725103\n",
        "Entries in Signal Sample= 10378.0\n",
        "Entries in Control Sample= 209226.0\n",
        "--------------------------------\n",
        "Cut:"
       ]
      },
      {
       "output_type": "stream",
       "stream": "stdout",
       "text": [
        " Base_chi2<8.44971171992\n",
        "Entries in Signal Sample= 11098.0\n",
        "Entries in Control Sample= 221809.0\n",
        "--------------------------------\n",
        "Cut:"
       ]
      },
      {
       "output_type": "stream",
       "stream": "stdout",
       "text": [
        " Base_chi2<9.11547618051\n",
        "Entries in Signal Sample= 11812.0\n",
        "Entries in Control Sample= 234882.0\n",
        "--------------------------------\n",
        "Cut:"
       ]
      },
      {
       "output_type": "stream",
       "stream": "stdout",
       "text": [
        " Base_chi2<9.83369714277\n",
        "Entries in Signal Sample= 12585.0\n",
        "Entries in Control Sample= 248264.0\n",
        "--------------------------------\n",
        "Cut:"
       ]
      },
      {
       "output_type": "stream",
       "stream": "stdout",
       "text": [
        " Base_chi2<10.608507727\n",
        "Entries in Signal Sample= 13418.0\n",
        "Entries in Control Sample= 261810.0\n",
        "--------------------------------\n",
        "Cut:"
       ]
      },
      {
       "output_type": "stream",
       "stream": "stdout",
       "text": [
        " Base_chi2<11.4443667075\n",
        "Entries in Signal Sample= 14283.0\n",
        "Entries in Control Sample= 275737.0\n",
        "--------------------------------\n",
        "Cut:"
       ]
      },
      {
       "output_type": "stream",
       "stream": "stdout",
       "text": [
        " Base_chi2<12.346084172\n",
        "Entries in Signal Sample= 15123.0\n",
        "Entries in Control Sample= 289949.0\n",
        "--------------------------------\n",
        "Cut:"
       ]
      },
      {
       "output_type": "stream",
       "stream": "stdout",
       "text": [
        " Base_chi2<13.3188492014\n",
        "Entries in Signal Sample= 16019.0\n",
        "Entries in Control Sample= 304461.0\n",
        "--------------------------------\n",
        "Cut:"
       ]
      },
      {
       "output_type": "stream",
       "stream": "stdout",
       "text": [
        " Base_chi2<14.3682597314\n",
        "Entries in Signal Sample= 16990.0\n",
        "Entries in Control Sample= 319138.0\n",
        "--------------------------------\n",
        "Cut:"
       ]
      },
      {
       "output_type": "stream",
       "stream": "stdout",
       "text": [
        " Base_chi2<15.5003547669\n",
        "Entries in Signal Sample= 17953.0\n",
        "Entries in Control Sample= 334200.0\n",
        "--------------------------------\n",
        "Cut:"
       ]
      },
      {
       "output_type": "stream",
       "stream": "stdout",
       "text": [
        " Base_chi2<16.7216491344\n",
        "Entries in Signal Sample= 19003.0\n",
        "Entries in Control Sample= 349070.0\n",
        "--------------------------------\n",
        "Cut:"
       ]
      },
      {
       "output_type": "stream",
       "stream": "stdout",
       "text": [
        " Base_chi2<18.0391709724\n",
        "Entries in Signal Sample= 20040.0\n",
        "Entries in Control Sample= 364244.0\n",
        "--------------------------------\n",
        "Cut:"
       ]
      },
      {
       "output_type": "stream",
       "stream": "stdout",
       "text": [
        " Base_chi2<19.4605021764\n",
        "Entries in Signal Sample= 21073.0\n",
        "Entries in Control Sample= 379261.0\n",
        "--------------------------------\n",
        "Cut:"
       ]
      },
      {
       "output_type": "stream",
       "stream": "stdout",
       "text": [
        " Base_chi2<20.9938220296\n",
        "Entries in Signal Sample= 22108.0\n",
        "Entries in Control Sample= 394466.0\n",
        "--------------------------------\n",
        "Cut:"
       ]
      },
      {
       "output_type": "stream",
       "stream": "stdout",
       "text": [
        " Base_chi2<22.6479542725\n",
        "Entries in Signal Sample= 23178.0\n",
        "Entries in Control Sample= 409824.0\n",
        "--------------------------------\n",
        "Cut:"
       ]
      },
      {
       "output_type": "stream",
       "stream": "stdout",
       "text": [
        " Base_chi2<24.4324178802\n",
        "Entries in Signal Sample= 24293.0\n",
        "Entries in Control Sample= 425109.0\n",
        "--------------------------------\n",
        "Cut:"
       ]
      },
      {
       "output_type": "stream",
       "stream": "stdout",
       "text": [
        " Base_chi2<26.357481841\n",
        "Entries in Signal Sample= 25417.0\n",
        "Entries in Control Sample= 440264.0\n",
        "--------------------------------\n",
        "Cut:"
       ]
      },
      {
       "output_type": "stream",
       "stream": "stdout",
       "text": [
        " Base_chi2<28.4342242509\n",
        "Entries in Signal Sample= 26548.0\n",
        "Entries in Control Sample= 455285.0\n",
        "--------------------------------\n",
        "Cut:"
       ]
      },
      {
       "output_type": "stream",
       "stream": "stdout",
       "text": [
        " Base_chi2<30.6745960645\n",
        "Entries in Signal Sample= 27694.0\n",
        "Entries in Control Sample= 470179.0\n",
        "--------------------------------\n",
        "Cut:"
       ]
      },
      {
       "output_type": "stream",
       "stream": "stdout",
       "text": [
        " Base_chi2<33.0914898687\n",
        "Entries in Signal Sample= 28885.0\n",
        "Entries in Control Sample= 484839.0\n",
        "--------------------------------\n",
        "Cut:"
       ]
      },
      {
       "output_type": "stream",
       "stream": "stdout",
       "text": [
        " Base_chi2<35.6988140749\n",
        "Entries in Signal Sample= 30095.0\n",
        "Entries in Control Sample= 499294.0\n",
        "--------------------------------\n",
        "Cut:"
       ]
      },
      {
       "output_type": "stream",
       "stream": "stdout",
       "text": [
        " Base_chi2<38.5115729575\n",
        "Entries in Signal Sample= 31286.0\n",
        "Entries in Control Sample= 513508.0\n",
        "--------------------------------\n",
        "Cut:"
       ]
      },
      {
       "output_type": "stream",
       "stream": "stdout",
       "text": [
        " Base_chi2<41.5459529987\n",
        "Entries in Signal Sample= 32452.0\n",
        "Entries in Control Sample= 527147.0\n",
        "--------------------------------\n",
        "Cut:"
       ]
      },
      {
       "output_type": "stream",
       "stream": "stdout",
       "text": [
        " Base_chi2<44.8194160356\n",
        "Entries in Signal Sample= 33648.0\n",
        "Entries in Control Sample= 540818.0\n",
        "--------------------------------\n",
        "Cut:"
       ]
      },
      {
       "output_type": "stream",
       "stream": "stdout",
       "text": [
        " Base_chi2<48.3507997479\n",
        "Entries in Signal Sample= 34788.0\n",
        "Entries in Control Sample= 554119.0\n",
        "--------------------------------\n",
        "Cut:"
       ]
      },
      {
       "output_type": "stream",
       "stream": "stdout",
       "text": [
        " Base_chi2<52.1604260618\n",
        "Entries in Signal Sample= 36012.0\n",
        "Entries in Control Sample= 567022.0\n",
        "--------------------------------\n",
        "Cut:"
       ]
      },
      {
       "output_type": "stream",
       "stream": "stdout",
       "text": [
        " Base_chi2<56.2702180964\n",
        "Entries in Signal Sample= 37104.0\n",
        "Entries in Control Sample= 579684.0\n",
        "--------------------------------\n",
        "Cut:"
       ]
      },
      {
       "output_type": "stream",
       "stream": "stdout",
       "text": [
        " Base_chi2<60.7038263235\n",
        "Entries in Signal Sample= 38271.0\n",
        "Entries in Control Sample= 591841.0\n",
        "--------------------------------\n",
        "Cut:"
       ]
      },
      {
       "output_type": "stream",
       "stream": "stdout",
       "text": [
        " Base_chi2<65.4867646684\n",
        "Entries in Signal Sample= 39433.0\n",
        "Entries in Control Sample= 603824.0\n",
        "--------------------------------\n",
        "Cut:"
       ]
      },
      {
       "output_type": "stream",
       "stream": "stdout",
       "text": [
        " Base_chi2<70.6465573335\n",
        "Entries in Signal Sample= 40615.0\n",
        "Entries in Control Sample= 615599.0\n",
        "--------------------------------\n",
        "Cut:"
       ]
      },
      {
       "output_type": "stream",
       "stream": "stdout",
       "text": [
        " Base_chi2<76.2128971916\n",
        "Entries in Signal Sample= 41808.0\n",
        "Entries in Control Sample= 626954.0\n",
        "--------------------------------\n",
        "Cut:"
       ]
      },
      {
       "output_type": "stream",
       "stream": "stdout",
       "text": [
        " Base_chi2<82.2178166576\n",
        "Entries in Signal Sample= 43006.0\n",
        "Entries in Control Sample= 638205.0\n",
        "--------------------------------\n",
        "Cut:"
       ]
      },
      {
       "output_type": "stream",
       "stream": "stdout",
       "text": [
        " Base_chi2<88.6958720247\n",
        "Entries in Signal Sample= 44226.0\n",
        "Entries in Control Sample= 649218.0\n",
        "--------------------------------\n",
        "Cut:"
       ]
      },
      {
       "output_type": "stream",
       "stream": "stdout",
       "text": [
        " Base_chi2<95.6843423243\n",
        "Entries in Signal Sample= 45378.0\n",
        "Entries in Control Sample= 660006.0\n",
        "--------------------------------\n",
        "Cut:"
       ]
      },
      {
       "output_type": "stream",
       "stream": "stdout",
       "text": [
        " Base_chi2<103.223443854\n",
        "Entries in Signal Sample= 46528.0\n",
        "Entries in Control Sample= 670788.0\n",
        "--------------------------------\n",
        "Cut:"
       ]
      },
      {
       "output_type": "stream",
       "stream": "stdout",
       "text": [
        " Base_chi2<111.35656161\n",
        "Entries in Signal Sample= 47682.0\n",
        "Entries in Control Sample= 681463.0\n",
        "--------------------------------\n",
        "Cut:"
       ]
      },
      {
       "output_type": "stream",
       "stream": "stdout",
       "text": [
        " Base_chi2<120.13049895\n",
        "Entries in Signal Sample= 48823.0\n",
        "Entries in Control Sample= 691676.0\n",
        "--------------------------------\n",
        "Cut:"
       ]
      },
      {
       "output_type": "stream",
       "stream": "stdout",
       "text": [
        " Base_chi2<129.595746935\n",
        "Entries in Signal Sample= 50088.0\n",
        "Entries in Control Sample= 701793.0\n",
        "--------------------------------\n",
        "Cut:"
       ]
      },
      {
       "output_type": "stream",
       "stream": "stdout",
       "text": [
        " Base_chi2<139.806774886\n",
        "Entries in Signal Sample= 51303.0\n",
        "Entries in Control Sample= 711709.0\n",
        "--------------------------------\n",
        "Cut:"
       ]
      },
      {
       "output_type": "stream",
       "stream": "stdout",
       "text": [
        " Base_chi2<150.822343838\n",
        "Entries in Signal Sample= 52484.0\n",
        "Entries in Control Sample= 721641.0\n",
        "--------------------------------\n",
        "Cut:"
       ]
      },
      {
       "output_type": "stream",
       "stream": "stdout",
       "text": [
        " Base_chi2<162.705844686\n",
        "Entries in Signal Sample= 53727.0\n",
        "Entries in Control Sample= 731248.0\n",
        "--------------------------------\n",
        "Cut:"
       ]
      },
      {
       "output_type": "stream",
       "stream": "stdout",
       "text": [
        " Base_chi2<175.525662984\n",
        "Entries in Signal Sample= 54882.0\n",
        "Entries in Control Sample= 740575.0\n",
        "--------------------------------\n",
        "Cut:"
       ]
      },
      {
       "output_type": "stream",
       "stream": "stdout",
       "text": [
        " Base_chi2<189.355572478\n",
        "Entries in Signal Sample= 55998.0\n",
        "Entries in Control Sample= 749449.0\n",
        "--------------------------------\n",
        "Cut:"
       ]
      },
      {
       "output_type": "stream",
       "stream": "stdout",
       "text": [
        " Base_chi2<204.275159649\n",
        "Entries in Signal Sample= 57172.0\n",
        "Entries in Control Sample= 758194.0\n",
        "--------------------------------\n",
        "Cut:"
       ]
      },
      {
       "output_type": "stream",
       "stream": "stdout",
       "text": [
        " Base_chi2<220.370281705\n",
        "Entries in Signal Sample= 58306.0\n",
        "Entries in Control Sample= 766709.0\n",
        "--------------------------------\n",
        "Cut:"
       ]
      },
      {
       "output_type": "stream",
       "stream": "stdout",
       "text": [
        " Base_chi2<237.733560666\n",
        "Entries in Signal Sample= 59341.0\n",
        "Entries in Control Sample= 774825.0\n",
        "--------------------------------\n",
        "Cut:"
       ]
      },
      {
       "output_type": "stream",
       "stream": "stdout",
       "text": [
        " Base_chi2<256.464916365\n",
        "Entries in Signal Sample= 60394.0\n",
        "Entries in Control Sample= 782739.0\n",
        "--------------------------------\n",
        "Cut:"
       ]
      },
      {
       "output_type": "stream",
       "stream": "stdout",
       "text": [
        " Base_chi2<276.672141459\n",
        "Entries in Signal Sample= 61435.0\n",
        "Entries in Control Sample= 790246.0\n",
        "--------------------------------\n",
        "Cut:"
       ]
      },
      {
       "output_type": "stream",
       "stream": "stdout",
       "text": [
        " Base_chi2<298.471521736\n",
        "Entries in Signal Sample= 62376.0\n",
        "Entries in Control Sample= 797464.0\n",
        "--------------------------------\n",
        "Cut:"
       ]
      },
      {
       "output_type": "stream",
       "stream": "stdout",
       "text": [
        " Base_chi2<321.988505304\n",
        "Entries in Signal Sample= 63277.0\n",
        "Entries in Control Sample= 804345.0\n",
        "--------------------------------\n",
        "Cut:"
       ]
      },
      {
       "output_type": "stream",
       "stream": "stdout",
       "text": [
        " Base_chi2<347.358424499\n",
        "Entries in Signal Sample= 64192.0\n",
        "Entries in Control Sample= 810897.0\n",
        "--------------------------------\n",
        "Cut:"
       ]
      },
      {
       "output_type": "stream",
       "stream": "stdout",
       "text": [
        " Base_chi2<374.727274678\n",
        "Entries in Signal Sample= 65005.0\n",
        "Entries in Control Sample= 817035.0\n",
        "--------------------------------\n",
        "Cut:"
       ]
      },
      {
       "output_type": "stream",
       "stream": "stdout",
       "text": [
        " Base_chi2<404.252554375\n",
        "Entries in Signal Sample= 65792.0\n",
        "Entries in Control Sample= 822897.0\n",
        "--------------------------------\n",
        "Cut:"
       ]
      },
      {
       "output_type": "stream",
       "stream": "stdout",
       "text": [
        " Base_chi2<436.104171652\n",
        "Entries in Signal Sample= 66537.0\n",
        "Entries in Control Sample= 828310.0\n",
        "--------------------------------\n",
        "Cut:"
       ]
      },
      {
       "output_type": "stream",
       "stream": "stdout",
       "text": [
        " Base_chi2<470.465421861\n",
        "Entries in Signal Sample= 67249.0\n",
        "Entries in Control Sample= 833481.0\n",
        "--------------------------------\n",
        "Cut:"
       ]
      },
      {
       "output_type": "stream",
       "stream": "stdout",
       "text": [
        " Base_chi2<507.534042448\n",
        "Entries in Signal Sample= 67854.0\n",
        "Entries in Control Sample= 838185.0\n",
        "--------------------------------\n",
        "Cut:"
       ]
      },
      {
       "output_type": "stream",
       "stream": "stdout",
       "text": [
        " Base_chi2<547.523350865\n",
        "Entries in Signal Sample= 68495.0\n",
        "Entries in Control Sample= 842556.0\n",
        "--------------------------------\n",
        "Cut:"
       ]
      },
      {
       "output_type": "stream",
       "stream": "stdout",
       "text": [
        " Base_chi2<590.663472141\n",
        "Entries in Signal Sample= 69091.0\n",
        "Entries in Control Sample= 846630.0\n",
        "--------------------------------\n",
        "Cut:"
       ]
      },
      {
       "output_type": "stream",
       "stream": "stdout",
       "text": [
        " Base_chi2<637.202663176\n",
        "Entries in Signal Sample= 69636.0\n",
        "Entries in Control Sample= 850340.0\n",
        "--------------------------------\n",
        "Cut:"
       ]
      },
      {
       "output_type": "stream",
       "stream": "stdout",
       "text": [
        " Base_chi2<687.408741371\n",
        "Entries in Signal Sample= 70140.0\n",
        "Entries in Control Sample= 853743.0\n",
        "--------------------------------\n",
        "Cut:"
       ]
      },
      {
       "output_type": "stream",
       "stream": "stdout",
       "text": [
        " Base_chi2<741.570625832\n",
        "Entries in Signal Sample= 70596.0\n",
        "Entries in Control Sample= 856928.0\n",
        "--------------------------------\n",
        "Cut:"
       ]
      },
      {
       "output_type": "stream",
       "stream": "stdout",
       "text": [
        " Base_chi2<800.0\n",
        "Entries in Signal Sample= 71040.0\n",
        "Entries in Control Sample= 859742.0\n",
        "--------------------------------\n",
        "Cut:"
       ]
      },
      {
       "output_type": "stream",
       "stream": "stdout",
       "text": [
        " DRbb_chi2<2.0\n",
        "Entries in Signal Sample= 860.0\n",
        "Entries in Control Sample= 11385.0\n",
        "--------------------------------\n",
        "Cut:"
       ]
      },
      {
       "output_type": "stream",
       "stream": "stdout",
       "text": [
        " DRbb_chi2<2.15758276321\n",
        "Entries in Signal Sample= 947.0\n",
        "Entries in Control Sample= 12407.0\n",
        "--------------------------------\n",
        "Cut:"
       ]
      },
      {
       "output_type": "stream",
       "stream": "stdout",
       "text": [
        " DRbb_chi2<2.32758169006\n",
        "Entries in Signal Sample= 1025.0\n",
        "Entries in Control Sample= 13559.0\n",
        "--------------------------------\n",
        "Cut:"
       ]
      },
      {
       "output_type": "stream",
       "stream": "stdout",
       "text": [
        " DRbb_chi2<2.51097506722\n",
        "Entries in Signal Sample= 1138.0\n",
        "Entries in Control Sample= 14817.0\n",
        "--------------------------------\n",
        "Cut:"
       ]
      },
      {
       "output_type": "stream",
       "stream": "stdout",
       "text": [
        " DRbb_chi2<2.70881826195\n",
        "Entries in Signal Sample= 1239.0\n",
        "Entries in Control Sample= 16145.0\n",
        "--------------------------------\n",
        "Cut:"
       ]
      },
      {
       "output_type": "stream",
       "stream": "stdout",
       "text": [
        " DRbb_chi2<2.92224979532\n",
        "Entries in Signal Sample= 1337.0\n",
        "Entries in Control Sample= 17552.0\n",
        "--------------------------------\n",
        "Cut:"
       ]
      },
      {
       "output_type": "stream",
       "stream": "stdout",
       "text": [
        " DRbb_chi2<3.1524978941\n",
        "Entries in Signal Sample= 1462.0\n",
        "Entries in Control Sample= 19070.0\n",
        "--------------------------------\n",
        "Cut:"
       ]
      },
      {
       "output_type": "stream",
       "stream": "stdout",
       "text": [
        " DRbb_chi2<3.40088755869\n",
        "Entries in Signal Sample= 1595.0\n",
        "Entries in Control Sample= 20702.0\n",
        "--------------------------------\n",
        "Cut:"
       ]
      },
      {
       "output_type": "stream",
       "stream": "stdout",
       "text": [
        " DRbb_chi2<3.66884818812\n",
        "Entries in Signal Sample= 1748.0\n",
        "Entries in Control Sample= 22505.0\n",
        "--------------------------------\n",
        "Cut:"
       ]
      },
      {
       "output_type": "stream",
       "stream": "stdout",
       "text": [
        " DRbb_chi2<3.95792180577\n",
        "Entries in Signal Sample= 1888.0\n",
        "Entries in Control Sample= 24426.0\n",
        "--------------------------------\n",
        "Cut:"
       ]
      },
      {
       "output_type": "stream",
       "stream": "stdout",
       "text": [
        " DRbb_chi2<4.26977193314\n",
        "Entries in Signal Sample= 2052.0\n",
        "Entries in Control Sample= 26423.0\n",
        "--------------------------------\n",
        "Cut:"
       ]
      },
      {
       "output_type": "stream",
       "stream": "stdout",
       "text": [
        " DRbb_chi2<4.6061931629\n",
        "Entries in Signal Sample= 2232.0\n",
        "Entries in Control Sample= 28561.0\n",
        "--------------------------------\n",
        "Cut:"
       ]
      },
      {
       "output_type": "stream",
       "stream": "stdout",
       "text": [
        " DRbb_chi2<4.96912148615\n",
        "Entries in Signal Sample= 2424.0\n",
        "Entries in Control Sample= 30894.0\n",
        "--------------------------------\n",
        "Cut:"
       ]
      },
      {
       "output_type": "stream",
       "stream": "stdout",
       "text": [
        " DRbb_chi2<5.36064543341\n",
        "Entries in Signal Sample= 2599.0\n",
        "Entries in Control Sample= 33345.0\n",
        "--------------------------------\n",
        "Cut:"
       ]
      },
      {
       "output_type": "stream",
       "stream": "stdout",
       "text": [
        " DRbb_chi2<5.78301809341\n",
        "Entries in Signal Sample= 2805.0\n",
        "Entries in Control Sample= 35992.0\n",
        "--------------------------------\n",
        "Cut:"
       ]
      },
      {
       "output_type": "stream",
       "stream": "stdout",
       "text": [
        " DRbb_chi2<6.23867007885\n",
        "Entries in Signal Sample= 3008.0\n",
        "Entries in Control Sample= 38659.0\n",
        "--------------------------------\n",
        "Cut:"
       ]
      },
      {
       "output_type": "stream",
       "stream": "stdout",
       "text": [
        " DRbb_chi2<6.73022351375\n",
        "Entries in Signal Sample= 3262.0\n",
        "Entries in Control Sample= 41517.0\n",
        "--------------------------------\n",
        "Cut:"
       ]
      },
      {
       "output_type": "stream",
       "stream": "stdout",
       "text": [
        " DRbb_chi2<7.26050712292\n",
        "Entries in Signal Sample= 3534.0\n",
        "Entries in Control Sample= 44505.0\n",
        "--------------------------------\n",
        "Cut:"
       ]
      },
      {
       "output_type": "stream",
       "stream": "stdout",
       "text": [
        " DRbb_chi2<7.8325725103\n",
        "Entries in Signal Sample= 3798.0\n",
        "Entries in Control Sample= 47613.0\n",
        "--------------------------------\n",
        "Cut:"
       ]
      },
      {
       "output_type": "stream",
       "stream": "stdout",
       "text": [
        " DRbb_chi2<8.44971171992\n",
        "Entries in Signal Sample= 4063.0\n",
        "Entries in Control Sample= 50880.0\n",
        "--------------------------------\n",
        "Cut:"
       ]
      },
      {
       "output_type": "stream",
       "stream": "stdout",
       "text": [
        " DRbb_chi2<9.11547618051\n",
        "Entries in Signal Sample= 4349.0\n",
        "Entries in Control Sample= 54502.0\n",
        "--------------------------------\n",
        "Cut:"
       ]
      },
      {
       "output_type": "stream",
       "stream": "stdout",
       "text": [
        " DRbb_chi2<9.83369714277\n",
        "Entries in Signal Sample= 4670.0\n",
        "Entries in Control Sample= 58282.0\n",
        "--------------------------------\n",
        "Cut:"
       ]
      },
      {
       "output_type": "stream",
       "stream": "stdout",
       "text": [
        " DRbb_chi2<10.608507727\n",
        "Entries in Signal Sample= 5005.0\n",
        "Entries in Control Sample= 62053.0\n",
        "--------------------------------\n",
        "Cut:"
       ]
      },
      {
       "output_type": "stream",
       "stream": "stdout",
       "text": [
        " DRbb_chi2<11.4443667075\n",
        "Entries in Signal Sample= 5386.0\n",
        "Entries in Control Sample= 66150.0\n",
        "--------------------------------\n",
        "Cut:"
       ]
      },
      {
       "output_type": "stream",
       "stream": "stdout",
       "text": [
        " DRbb_chi2<12.346084172\n",
        "Entries in Signal Sample= 5717.0\n",
        "Entries in Control Sample= 70283.0\n",
        "--------------------------------\n",
        "Cut:"
       ]
      },
      {
       "output_type": "stream",
       "stream": "stdout",
       "text": [
        " DRbb_chi2<13.3188492014\n",
        "Entries in Signal Sample= 6098.0\n",
        "Entries in Control Sample= 74586.0\n",
        "--------------------------------\n",
        "Cut:"
       ]
      },
      {
       "output_type": "stream",
       "stream": "stdout",
       "text": [
        " DRbb_chi2<14.3682597314\n",
        "Entries in Signal Sample= 6506.0\n",
        "Entries in Control Sample= 79050.0\n",
        "--------------------------------\n",
        "Cut:"
       ]
      },
      {
       "output_type": "stream",
       "stream": "stdout",
       "text": [
        " DRbb_chi2<15.5003547669\n",
        "Entries in Signal Sample= 6918.0\n",
        "Entries in Control Sample= 83591.0\n",
        "--------------------------------\n",
        "Cut:"
       ]
      },
      {
       "output_type": "stream",
       "stream": "stdout",
       "text": [
        " DRbb_chi2<16.7216491344\n",
        "Entries in Signal Sample= 7380.0\n",
        "Entries in Control Sample= 88243.0\n",
        "--------------------------------\n",
        "Cut:"
       ]
      },
      {
       "output_type": "stream",
       "stream": "stdout",
       "text": [
        " DRbb_chi2<18.0391709724\n",
        "Entries in Signal Sample= 7839.0\n",
        "Entries in Control Sample= 93110.0\n",
        "--------------------------------\n",
        "Cut:"
       ]
      },
      {
       "output_type": "stream",
       "stream": "stdout",
       "text": [
        " DRbb_chi2<19.4605021764\n",
        "Entries in Signal Sample= 8313.0\n",
        "Entries in Control Sample= 97926.0\n",
        "--------------------------------\n",
        "Cut:"
       ]
      },
      {
       "output_type": "stream",
       "stream": "stdout",
       "text": [
        " DRbb_chi2<20.9938220296\n",
        "Entries in Signal Sample= 8764.0\n",
        "Entries in Control Sample= 102939.0\n",
        "--------------------------------\n",
        "Cut:"
       ]
      },
      {
       "output_type": "stream",
       "stream": "stdout",
       "text": [
        " DRbb_chi2<22.6479542725\n",
        "Entries in Signal Sample= 9227.0\n",
        "Entries in Control Sample= 108059.0\n",
        "--------------------------------\n",
        "Cut:"
       ]
      },
      {
       "output_type": "stream",
       "stream": "stdout",
       "text": [
        " DRbb_chi2<24.4324178802\n",
        "Entries in Signal Sample= 9717.0\n",
        "Entries in Control Sample= 113242.0\n",
        "--------------------------------\n",
        "Cut:"
       ]
      },
      {
       "output_type": "stream",
       "stream": "stdout",
       "text": [
        " DRbb_chi2<26.357481841\n",
        "Entries in Signal Sample= 10200.0\n",
        "Entries in Control Sample= 118394.0\n",
        "--------------------------------\n",
        "Cut:"
       ]
      },
      {
       "output_type": "stream",
       "stream": "stdout",
       "text": [
        " DRbb_chi2<28.4342242509\n",
        "Entries in Signal Sample= 10733.0\n",
        "Entries in Control Sample= 123509.0\n",
        "--------------------------------\n",
        "Cut:"
       ]
      },
      {
       "output_type": "stream",
       "stream": "stdout",
       "text": [
        " DRbb_chi2<30.6745960645\n",
        "Entries in Signal Sample= 11213.0\n",
        "Entries in Control Sample= 128556.0\n",
        "--------------------------------\n",
        "Cut:"
       ]
      },
      {
       "output_type": "stream",
       "stream": "stdout",
       "text": [
        " DRbb_chi2<33.0914898687\n",
        "Entries in Signal Sample= 11690.0\n",
        "Entries in Control Sample= 133602.0\n",
        "--------------------------------\n",
        "Cut:"
       ]
      },
      {
       "output_type": "stream",
       "stream": "stdout",
       "text": [
        " DRbb_chi2<35.6988140749\n",
        "Entries in Signal Sample= 12224.0\n",
        "Entries in Control Sample= 138667.0\n",
        "--------------------------------\n",
        "Cut:"
       ]
      },
      {
       "output_type": "stream",
       "stream": "stdout",
       "text": [
        " DRbb_chi2<38.5115729575\n",
        "Entries in Signal Sample= 12718.0\n",
        "Entries in Control Sample= 143630.0\n",
        "--------------------------------\n",
        "Cut:"
       ]
      },
      {
       "output_type": "stream",
       "stream": "stdout",
       "text": [
        " DRbb_chi2<41.5459529987\n",
        "Entries in Signal Sample= 13231.0\n",
        "Entries in Control Sample= 148165.0\n",
        "--------------------------------\n",
        "Cut:"
       ]
      },
      {
       "output_type": "stream",
       "stream": "stdout",
       "text": [
        " DRbb_chi2<44.8194160356\n",
        "Entries in Signal Sample= 13716.0\n",
        "Entries in Control Sample= 152786.0\n",
        "--------------------------------\n",
        "Cut:"
       ]
      },
      {
       "output_type": "stream",
       "stream": "stdout",
       "text": [
        " DRbb_chi2<48.3507997479\n",
        "Entries in Signal Sample= 14181.0\n",
        "Entries in Control Sample= 157216.0\n",
        "--------------------------------\n",
        "Cut:"
       ]
      },
      {
       "output_type": "stream",
       "stream": "stdout",
       "text": [
        " DRbb_chi2<52.1604260618\n",
        "Entries in Signal Sample= 14669.0\n",
        "Entries in Control Sample= 161438.0\n",
        "--------------------------------\n",
        "Cut:"
       ]
      },
      {
       "output_type": "stream",
       "stream": "stdout",
       "text": [
        " DRbb_chi2<56.2702180964\n",
        "Entries in Signal Sample= 15087.0\n",
        "Entries in Control Sample= 165234.0\n",
        "--------------------------------\n",
        "Cut:"
       ]
      },
      {
       "output_type": "stream",
       "stream": "stdout",
       "text": [
        " DRbb_chi2<60.7038263235\n",
        "Entries in Signal Sample= 15513.0\n",
        "Entries in Control Sample= 168804.0\n",
        "--------------------------------\n",
        "Cut:"
       ]
      },
      {
       "output_type": "stream",
       "stream": "stdout",
       "text": [
        " DRbb_chi2<65.4867646684\n",
        "Entries in Signal Sample= 15924.0\n",
        "Entries in Control Sample= 172217.0\n",
        "--------------------------------\n",
        "Cut:"
       ]
      },
      {
       "output_type": "stream",
       "stream": "stdout",
       "text": [
        " DRbb_chi2<70.6465573335\n",
        "Entries in Signal Sample= 16311.0\n",
        "Entries in Control Sample= 175473.0\n",
        "--------------------------------\n",
        "Cut:"
       ]
      },
      {
       "output_type": "stream",
       "stream": "stdout",
       "text": [
        " DRbb_chi2<76.2128971916\n",
        "Entries in Signal Sample= 16726.0\n",
        "Entries in Control Sample= 178513.0\n",
        "--------------------------------\n",
        "Cut:"
       ]
      },
      {
       "output_type": "stream",
       "stream": "stdout",
       "text": [
        " DRbb_chi2<82.2178166576\n",
        "Entries in Signal Sample= 17152.0\n",
        "Entries in Control Sample= 181372.0\n",
        "--------------------------------\n",
        "Cut:"
       ]
      },
      {
       "output_type": "stream",
       "stream": "stdout",
       "text": [
        " DRbb_chi2<88.6958720247\n",
        "Entries in Signal Sample= 17576.0\n",
        "Entries in Control Sample= 184050.0\n",
        "--------------------------------\n",
        "Cut:"
       ]
      },
      {
       "output_type": "stream",
       "stream": "stdout",
       "text": [
        " DRbb_chi2<95.6843423243\n",
        "Entries in Signal Sample= 17945.0\n",
        "Entries in Control Sample= 186632.0\n",
        "--------------------------------\n",
        "Cut:"
       ]
      },
      {
       "output_type": "stream",
       "stream": "stdout",
       "text": [
        " DRbb_chi2<103.223443854\n",
        "Entries in Signal Sample= 18332.0\n",
        "Entries in Control Sample= 189193.0\n",
        "--------------------------------\n",
        "Cut:"
       ]
      },
      {
       "output_type": "stream",
       "stream": "stdout",
       "text": [
        " DRbb_chi2<111.35656161\n",
        "Entries in Signal Sample= 18660.0\n",
        "Entries in Control Sample= 191648.0\n",
        "--------------------------------\n",
        "Cut:"
       ]
      },
      {
       "output_type": "stream",
       "stream": "stdout",
       "text": [
        " DRbb_chi2<120.13049895\n",
        "Entries in Signal Sample= 18993.0\n",
        "Entries in Control Sample= 194046.0\n",
        "--------------------------------\n",
        "Cut:"
       ]
      },
      {
       "output_type": "stream",
       "stream": "stdout",
       "text": [
        " DRbb_chi2<129.595746935\n",
        "Entries in Signal Sample= 19391.0\n",
        "Entries in Control Sample= 196302.0\n",
        "--------------------------------\n",
        "Cut:"
       ]
      },
      {
       "output_type": "stream",
       "stream": "stdout",
       "text": [
        " DRbb_chi2<139.806774886\n",
        "Entries in Signal Sample= 19756.0\n",
        "Entries in Control Sample= 198433.0\n",
        "--------------------------------\n",
        "Cut:"
       ]
      },
      {
       "output_type": "stream",
       "stream": "stdout",
       "text": [
        " DRbb_chi2<150.822343838\n",
        "Entries in Signal Sample= 20119.0\n",
        "Entries in Control Sample= 200546.0\n",
        "--------------------------------\n",
        "Cut:"
       ]
      },
      {
       "output_type": "stream",
       "stream": "stdout",
       "text": [
        " DRbb_chi2<162.705844686\n",
        "Entries in Signal Sample= 20459.0\n",
        "Entries in Control Sample= 202584.0\n",
        "--------------------------------\n",
        "Cut:"
       ]
      },
      {
       "output_type": "stream",
       "stream": "stdout",
       "text": [
        " DRbb_chi2<175.525662984\n",
        "Entries in Signal Sample= 20803.0\n",
        "Entries in Control Sample= 204510.0\n",
        "--------------------------------\n",
        "Cut:"
       ]
      },
      {
       "output_type": "stream",
       "stream": "stdout",
       "text": [
        " DRbb_chi2<189.355572478\n",
        "Entries in Signal Sample= 21119.0\n",
        "Entries in Control Sample= 206347.0\n",
        "--------------------------------\n",
        "Cut:"
       ]
      },
      {
       "output_type": "stream",
       "stream": "stdout",
       "text": [
        " DRbb_chi2<204.275159649\n",
        "Entries in Signal Sample= 21439.0\n",
        "Entries in Control Sample= 208108.0\n",
        "--------------------------------\n",
        "Cut:"
       ]
      },
      {
       "output_type": "stream",
       "stream": "stdout",
       "text": [
        " DRbb_chi2<220.370281705\n",
        "Entries in Signal Sample= 21738.0\n",
        "Entries in Control Sample= 209787.0\n",
        "--------------------------------\n",
        "Cut:"
       ]
      },
      {
       "output_type": "stream",
       "stream": "stdout",
       "text": [
        " DRbb_chi2<237.733560666\n",
        "Entries in Signal Sample= 21995.0\n",
        "Entries in Control Sample= 211395.0\n",
        "--------------------------------\n",
        "Cut:"
       ]
      },
      {
       "output_type": "stream",
       "stream": "stdout",
       "text": [
        " DRbb_chi2<256.464916365\n",
        "Entries in Signal Sample= 22270.0\n",
        "Entries in Control Sample= 212918.0\n",
        "--------------------------------\n",
        "Cut:"
       ]
      },
      {
       "output_type": "stream",
       "stream": "stdout",
       "text": [
        " DRbb_chi2<276.672141459\n",
        "Entries in Signal Sample= 22534.0\n",
        "Entries in Control Sample= 214354.0\n",
        "--------------------------------\n",
        "Cut:"
       ]
      },
      {
       "output_type": "stream",
       "stream": "stdout",
       "text": [
        " DRbb_chi2<298.471521736\n",
        "Entries in Signal Sample= 22767.0\n",
        "Entries in Control Sample= 215698.0\n",
        "--------------------------------\n",
        "Cut:"
       ]
      },
      {
       "output_type": "stream",
       "stream": "stdout",
       "text": [
        " DRbb_chi2<321.988505304\n",
        "Entries in Signal Sample= 22979.0\n",
        "Entries in Control Sample= 216971.0\n",
        "--------------------------------\n",
        "Cut:"
       ]
      },
      {
       "output_type": "stream",
       "stream": "stdout",
       "text": [
        " DRbb_chi2<347.358424499\n",
        "Entries in Signal Sample= 23216.0\n",
        "Entries in Control Sample= 218150.0\n",
        "--------------------------------\n",
        "Cut:"
       ]
      },
      {
       "output_type": "stream",
       "stream": "stdout",
       "text": [
        " DRbb_chi2<374.727274678\n",
        "Entries in Signal Sample= 23418.0\n",
        "Entries in Control Sample= 219252.0\n",
        "--------------------------------\n",
        "Cut:"
       ]
      },
      {
       "output_type": "stream",
       "stream": "stdout",
       "text": [
        " DRbb_chi2<404.252554375\n",
        "Entries in Signal Sample= 23600.0\n",
        "Entries in Control Sample= 220321.0\n",
        "--------------------------------\n",
        "Cut:"
       ]
      },
      {
       "output_type": "stream",
       "stream": "stdout",
       "text": [
        " DRbb_chi2<436.104171652\n",
        "Entries in Signal Sample= 23767.0\n",
        "Entries in Control Sample= 221283.0\n",
        "--------------------------------\n",
        "Cut:"
       ]
      },
      {
       "output_type": "stream",
       "stream": "stdout",
       "text": [
        " DRbb_chi2<470.465421861\n",
        "Entries in Signal Sample= 23946.0\n",
        "Entries in Control Sample= 222187.0\n",
        "--------------------------------\n",
        "Cut:"
       ]
      },
      {
       "output_type": "stream",
       "stream": "stdout",
       "text": [
        " DRbb_chi2<507.534042448\n",
        "Entries in Signal Sample= 24084.0\n",
        "Entries in Control Sample= 223060.0\n",
        "--------------------------------\n",
        "Cut:"
       ]
      },
      {
       "output_type": "stream",
       "stream": "stdout",
       "text": [
        " DRbb_chi2<547.523350865\n",
        "Entries in Signal Sample= 24257.0\n",
        "Entries in Control Sample= 223782.0\n",
        "--------------------------------\n",
        "Cut:"
       ]
      },
      {
       "output_type": "stream",
       "stream": "stdout",
       "text": [
        " DRbb_chi2<590.663472141\n",
        "Entries in Signal Sample= 24408.0\n",
        "Entries in Control Sample= 224510.0\n",
        "--------------------------------\n",
        "Cut:"
       ]
      },
      {
       "output_type": "stream",
       "stream": "stdout",
       "text": [
        " DRbb_chi2<637.202663176\n",
        "Entries in Signal Sample= 24547.0\n",
        "Entries in Control Sample= 225163.0\n",
        "--------------------------------\n",
        "Cut:"
       ]
      },
      {
       "output_type": "stream",
       "stream": "stdout",
       "text": [
        " DRbb_chi2<687.408741371\n",
        "Entries in Signal Sample= 24683.0\n",
        "Entries in Control Sample= 225761.0\n",
        "--------------------------------\n",
        "Cut:"
       ]
      },
      {
       "output_type": "stream",
       "stream": "stdout",
       "text": [
        " DRbb_chi2<741.570625832\n",
        "Entries in Signal Sample= 24794.0\n",
        "Entries in Control Sample= 226314.0\n",
        "--------------------------------\n",
        "Cut:"
       ]
      },
      {
       "output_type": "stream",
       "stream": "stdout",
       "text": [
        " DRbb_chi2<800.0\n",
        "Entries in Signal Sample= 24893.0\n",
        "Entries in Control Sample= 226796.0\n",
        "--------------------------------\n",
        "Cut:"
       ]
      },
      {
       "output_type": "stream",
       "stream": "stdout",
       "text": [
        " DRWH_chi2<2.0\n",
        "Entries in Signal Sample= 767.0\n",
        "Entries in Control Sample= 9082.0\n",
        "--------------------------------\n",
        "Cut:"
       ]
      },
      {
       "output_type": "stream",
       "stream": "stdout",
       "text": [
        " DRWH_chi2<2.15758276321\n",
        "Entries in Signal Sample= 846.0\n",
        "Entries in Control Sample= 9881.0\n",
        "--------------------------------\n",
        "Cut:"
       ]
      },
      {
       "output_type": "stream",
       "stream": "stdout",
       "text": [
        " DRWH_chi2<2.32758169006\n",
        "Entries in Signal Sample= 917.0\n",
        "Entries in Control Sample= 10814.0\n",
        "--------------------------------\n",
        "Cut:"
       ]
      },
      {
       "output_type": "stream",
       "stream": "stdout",
       "text": [
        " DRWH_chi2<2.51097506722\n",
        "Entries in Signal Sample= 1016.0\n",
        "Entries in Control Sample= 11813.0\n",
        "--------------------------------\n",
        "Cut:"
       ]
      },
      {
       "output_type": "stream",
       "stream": "stdout",
       "text": [
        " DRWH_chi2<2.70881826195\n",
        "Entries in Signal Sample= 1100.0\n",
        "Entries in Control Sample= 12878.0\n",
        "--------------------------------\n",
        "Cut:"
       ]
      },
      {
       "output_type": "stream",
       "stream": "stdout",
       "text": [
        " DRWH_chi2<2.92224979532\n",
        "Entries in Signal Sample= 1188.0\n",
        "Entries in Control Sample= 14006.0\n",
        "--------------------------------\n",
        "Cut:"
       ]
      },
      {
       "output_type": "stream",
       "stream": "stdout",
       "text": [
        " DRWH_chi2<3.1524978941\n",
        "Entries in Signal Sample= 1293.0\n",
        "Entries in Control Sample= 15205.0\n",
        "--------------------------------\n",
        "Cut:"
       ]
      },
      {
       "output_type": "stream",
       "stream": "stdout",
       "text": [
        " DRWH_chi2<3.40088755869\n",
        "Entries in Signal Sample= 1411.0\n",
        "Entries in Control Sample= 16514.0\n",
        "--------------------------------\n",
        "Cut:"
       ]
      },
      {
       "output_type": "stream",
       "stream": "stdout",
       "text": [
        " DRWH_chi2<3.66884818812\n",
        "Entries in Signal Sample= 1540.0\n",
        "Entries in Control Sample= 17922.0\n",
        "--------------------------------\n",
        "Cut:"
       ]
      },
      {
       "output_type": "stream",
       "stream": "stdout",
       "text": [
        " DRWH_chi2<3.95792180577\n",
        "Entries in Signal Sample= 1658.0\n",
        "Entries in Control Sample= 19468.0\n",
        "--------------------------------\n",
        "Cut:"
       ]
      },
      {
       "output_type": "stream",
       "stream": "stdout",
       "text": [
        " DRWH_chi2<4.26977193314\n",
        "Entries in Signal Sample= 1800.0\n",
        "Entries in Control Sample= 21072.0\n",
        "--------------------------------\n",
        "Cut:"
       ]
      },
      {
       "output_type": "stream",
       "stream": "stdout",
       "text": [
        " DRWH_chi2<4.6061931629\n",
        "Entries in Signal Sample= 1961.0\n",
        "Entries in Control Sample= 22792.0\n",
        "--------------------------------\n",
        "Cut:"
       ]
      },
      {
       "output_type": "stream",
       "stream": "stdout",
       "text": [
        " DRWH_chi2<4.96912148615\n",
        "Entries in Signal Sample= 2126.0\n",
        "Entries in Control Sample= 24665.0\n",
        "--------------------------------\n",
        "Cut:"
       ]
      },
      {
       "output_type": "stream",
       "stream": "stdout",
       "text": [
        " DRWH_chi2<5.36064543341\n",
        "Entries in Signal Sample= 2276.0\n",
        "Entries in Control Sample= 26612.0\n",
        "--------------------------------\n",
        "Cut:"
       ]
      },
      {
       "output_type": "stream",
       "stream": "stdout",
       "text": [
        " DRWH_chi2<5.78301809341\n",
        "Entries in Signal Sample= 2456.0\n",
        "Entries in Control Sample= 28741.0\n",
        "--------------------------------\n",
        "Cut:"
       ]
      },
      {
       "output_type": "stream",
       "stream": "stdout",
       "text": [
        " DRWH_chi2<6.23867007885\n",
        "Entries in Signal Sample= 2638.0\n",
        "Entries in Control Sample= 30892.0\n",
        "--------------------------------\n",
        "Cut:"
       ]
      },
      {
       "output_type": "stream",
       "stream": "stdout",
       "text": [
        " DRWH_chi2<6.73022351375\n",
        "Entries in Signal Sample= 2854.0\n",
        "Entries in Control Sample= 33156.0\n",
        "--------------------------------\n",
        "Cut:"
       ]
      },
      {
       "output_type": "stream",
       "stream": "stdout",
       "text": [
        " DRWH_chi2<7.26050712292\n",
        "Entries in Signal Sample= 3097.0\n",
        "Entries in Control Sample= 35530.0\n",
        "--------------------------------\n",
        "Cut:"
       ]
      },
      {
       "output_type": "stream",
       "stream": "stdout",
       "text": [
        " DRWH_chi2<7.8325725103\n",
        "Entries in Signal Sample= 3322.0\n",
        "Entries in Control Sample= 38004.0\n",
        "--------------------------------\n",
        "Cut:"
       ]
      },
      {
       "output_type": "stream",
       "stream": "stdout",
       "text": [
        " DRWH_chi2<8.44971171992\n",
        "Entries in Signal Sample= 3549.0\n",
        "Entries in Control Sample= 40618.0\n",
        "--------------------------------\n",
        "Cut:"
       ]
      },
      {
       "output_type": "stream",
       "stream": "stdout",
       "text": [
        " DRWH_chi2<9.11547618051\n",
        "Entries in Signal Sample= 3801.0\n",
        "Entries in Control Sample= 43490.0\n",
        "--------------------------------\n",
        "Cut:"
       ]
      },
      {
       "output_type": "stream",
       "stream": "stdout",
       "text": [
        " DRWH_chi2<9.83369714277\n",
        "Entries in Signal Sample= 4079.0\n",
        "Entries in Control Sample= 46486.0\n",
        "--------------------------------\n",
        "Cut:"
       ]
      },
      {
       "output_type": "stream",
       "stream": "stdout",
       "text": [
        " DRWH_chi2<10.608507727\n",
        "Entries in Signal Sample= 4376.0\n",
        "Entries in Control Sample= 49509.0\n",
        "--------------------------------\n",
        "Cut:"
       ]
      },
      {
       "output_type": "stream",
       "stream": "stdout",
       "text": [
        " DRWH_chi2<11.4443667075\n",
        "Entries in Signal Sample= 4709.0\n",
        "Entries in Control Sample= 52758.0\n",
        "--------------------------------\n",
        "Cut:"
       ]
      },
      {
       "output_type": "stream",
       "stream": "stdout",
       "text": [
        " DRWH_chi2<12.346084172\n",
        "Entries in Signal Sample= 4991.0\n",
        "Entries in Control Sample= 56065.0\n",
        "--------------------------------\n",
        "Cut:"
       ]
      },
      {
       "output_type": "stream",
       "stream": "stdout",
       "text": [
        " DRWH_chi2<13.3188492014\n",
        "Entries in Signal Sample= 5313.0\n",
        "Entries in Control Sample= 59488.0\n",
        "--------------------------------\n",
        "Cut:"
       ]
      },
      {
       "output_type": "stream",
       "stream": "stdout",
       "text": [
        " DRWH_chi2<14.3682597314\n",
        "Entries in Signal Sample= 5660.0\n",
        "Entries in Control Sample= 63012.0\n",
        "--------------------------------\n",
        "Cut:"
       ]
      },
      {
       "output_type": "stream",
       "stream": "stdout",
       "text": [
        " DRWH_chi2<15.5003547669\n",
        "Entries in Signal Sample= 6014.0\n",
        "Entries in Control Sample= 66633.0\n",
        "--------------------------------\n",
        "Cut:"
       ]
      },
      {
       "output_type": "stream",
       "stream": "stdout",
       "text": [
        " DRWH_chi2<16.7216491344\n",
        "Entries in Signal Sample= 6410.0\n",
        "Entries in Control Sample= 70311.0\n",
        "--------------------------------\n",
        "Cut:"
       ]
      },
      {
       "output_type": "stream",
       "stream": "stdout",
       "text": [
        " DRWH_chi2<18.0391709724\n",
        "Entries in Signal Sample= 6810.0\n",
        "Entries in Control Sample= 74180.0\n",
        "--------------------------------\n",
        "Cut:"
       ]
      },
      {
       "output_type": "stream",
       "stream": "stdout",
       "text": [
        " DRWH_chi2<19.4605021764\n",
        "Entries in Signal Sample= 7219.0\n",
        "Entries in Control Sample= 78010.0\n",
        "--------------------------------\n",
        "Cut:"
       ]
      },
      {
       "output_type": "stream",
       "stream": "stdout",
       "text": [
        " DRWH_chi2<20.9938220296\n",
        "Entries in Signal Sample= 7621.0\n",
        "Entries in Control Sample= 82061.0\n",
        "--------------------------------\n",
        "Cut:"
       ]
      },
      {
       "output_type": "stream",
       "stream": "stdout",
       "text": [
        " DRWH_chi2<22.6479542725\n",
        "Entries in Signal Sample= 8013.0\n",
        "Entries in Control Sample= 86157.0\n",
        "--------------------------------\n",
        "Cut:"
       ]
      },
      {
       "output_type": "stream",
       "stream": "stdout",
       "text": [
        " DRWH_chi2<24.4324178802\n",
        "Entries in Signal Sample= 8419.0\n",
        "Entries in Control Sample= 90286.0\n",
        "--------------------------------\n",
        "Cut:"
       ]
      },
      {
       "output_type": "stream",
       "stream": "stdout",
       "text": [
        " DRWH_chi2<26.357481841\n",
        "Entries in Signal Sample= 8833.0\n",
        "Entries in Control Sample= 94335.0\n",
        "--------------------------------\n",
        "Cut:"
       ]
      },
      {
       "output_type": "stream",
       "stream": "stdout",
       "text": [
        " DRWH_chi2<28.4342242509\n",
        "Entries in Signal Sample= 9291.0\n",
        "Entries in Control Sample= 98404.0\n",
        "--------------------------------\n",
        "Cut:"
       ]
      },
      {
       "output_type": "stream",
       "stream": "stdout",
       "text": [
        " DRWH_chi2<30.6745960645\n",
        "Entries in Signal Sample= 9717.0\n",
        "Entries in Control Sample= 102360.0\n",
        "--------------------------------\n",
        "Cut:"
       ]
      },
      {
       "output_type": "stream",
       "stream": "stdout",
       "text": [
        " DRWH_chi2<33.0914898687\n",
        "Entries in Signal Sample= 10135.0\n",
        "Entries in Control Sample= 106375.0\n",
        "--------------------------------\n",
        "Cut:"
       ]
      },
      {
       "output_type": "stream",
       "stream": "stdout",
       "text": [
        " DRWH_chi2<35.6988140749\n",
        "Entries in Signal Sample= 10588.0\n",
        "Entries in Control Sample= 110286.0\n",
        "--------------------------------\n",
        "Cut:"
       ]
      },
      {
       "output_type": "stream",
       "stream": "stdout",
       "text": [
        " DRWH_chi2<38.5115729575\n",
        "Entries in Signal Sample= 11010.0\n",
        "Entries in Control Sample= 114158.0\n",
        "--------------------------------\n",
        "Cut:"
       ]
      },
      {
       "output_type": "stream",
       "stream": "stdout",
       "text": [
        " DRWH_chi2<41.5459529987\n",
        "Entries in Signal Sample= 11449.0\n",
        "Entries in Control Sample= 117698.0\n",
        "--------------------------------\n",
        "Cut:"
       ]
      },
      {
       "output_type": "stream",
       "stream": "stdout",
       "text": [
        " DRWH_chi2<44.8194160356\n",
        "Entries in Signal Sample= 11857.0\n",
        "Entries in Control Sample= 121288.0\n",
        "--------------------------------\n",
        "Cut:"
       ]
      },
      {
       "output_type": "stream",
       "stream": "stdout",
       "text": [
        " DRWH_chi2<48.3507997479\n",
        "Entries in Signal Sample= 12242.0\n",
        "Entries in Control Sample= 124699.0\n",
        "--------------------------------\n",
        "Cut:"
       ]
      },
      {
       "output_type": "stream",
       "stream": "stdout",
       "text": [
        " DRWH_chi2<52.1604260618\n",
        "Entries in Signal Sample= 12658.0\n",
        "Entries in Control Sample= 127955.0\n",
        "--------------------------------\n",
        "Cut:"
       ]
      },
      {
       "output_type": "stream",
       "stream": "stdout",
       "text": [
        " DRWH_chi2<56.2702180964\n",
        "Entries in Signal Sample= 13017.0\n",
        "Entries in Control Sample= 130889.0\n",
        "--------------------------------\n",
        "Cut:"
       ]
      },
      {
       "output_type": "stream",
       "stream": "stdout",
       "text": [
        " DRWH_chi2<60.7038263235\n",
        "Entries in Signal Sample= 13372.0\n",
        "Entries in Control Sample= 133630.0\n",
        "--------------------------------\n",
        "Cut:"
       ]
      },
      {
       "output_type": "stream",
       "stream": "stdout",
       "text": [
        " DRWH_chi2<65.4867646684\n",
        "Entries in Signal Sample= 13718.0\n",
        "Entries in Control Sample= 136243.0\n",
        "--------------------------------\n",
        "Cut:"
       ]
      },
      {
       "output_type": "stream",
       "stream": "stdout",
       "text": [
        " DRWH_chi2<70.6465573335\n",
        "Entries in Signal Sample= 14045.0\n",
        "Entries in Control Sample= 138797.0\n",
        "--------------------------------\n",
        "Cut:"
       ]
      },
      {
       "output_type": "stream",
       "stream": "stdout",
       "text": [
        " DRWH_chi2<76.2128971916\n",
        "Entries in Signal Sample= 14399.0\n",
        "Entries in Control Sample= 141158.0\n",
        "--------------------------------\n",
        "Cut:"
       ]
      },
      {
       "output_type": "stream",
       "stream": "stdout",
       "text": [
        " DRWH_chi2<82.2178166576\n",
        "Entries in Signal Sample= 14759.0\n",
        "Entries in Control Sample= 143399.0\n",
        "--------------------------------\n",
        "Cut:"
       ]
      },
      {
       "output_type": "stream",
       "stream": "stdout",
       "text": [
        " DRWH_chi2<88.6958720247\n",
        "Entries in Signal Sample= 15109.0\n",
        "Entries in Control Sample= 145514.0\n",
        "--------------------------------\n",
        "Cut:"
       ]
      },
      {
       "output_type": "stream",
       "stream": "stdout",
       "text": [
        " DRWH_chi2<95.6843423243\n",
        "Entries in Signal Sample= 15419.0\n",
        "Entries in Control Sample= 147496.0\n",
        "--------------------------------\n",
        "Cut:"
       ]
      },
      {
       "output_type": "stream",
       "stream": "stdout",
       "text": [
        " DRWH_chi2<103.223443854\n",
        "Entries in Signal Sample= 15737.0\n",
        "Entries in Control Sample= 149427.0\n",
        "--------------------------------\n",
        "Cut:"
       ]
      },
      {
       "output_type": "stream",
       "stream": "stdout",
       "text": [
        " DRWH_chi2<111.35656161\n",
        "Entries in Signal Sample= 16006.0\n",
        "Entries in Control Sample= 151359.0\n",
        "--------------------------------\n",
        "Cut:"
       ]
      },
      {
       "output_type": "stream",
       "stream": "stdout",
       "text": [
        " DRWH_chi2<120.13049895\n",
        "Entries in Signal Sample= 16283.0\n",
        "Entries in Control Sample= 153199.0\n",
        "--------------------------------\n",
        "Cut:"
       ]
      },
      {
       "output_type": "stream",
       "stream": "stdout",
       "text": [
        " DRWH_chi2<129.595746935\n",
        "Entries in Signal Sample= 16626.0\n",
        "Entries in Control Sample= 154931.0\n",
        "--------------------------------\n",
        "Cut:"
       ]
      },
      {
       "output_type": "stream",
       "stream": "stdout",
       "text": [
        " DRWH_chi2<139.806774886\n",
        "Entries in Signal Sample= 16931.0\n",
        "Entries in Control Sample= 156572.0\n",
        "--------------------------------\n",
        "Cut:"
       ]
      },
      {
       "output_type": "stream",
       "stream": "stdout",
       "text": [
        " DRWH_chi2<150.822343838\n",
        "Entries in Signal Sample= 17223.0\n",
        "Entries in Control Sample= 158214.0\n",
        "--------------------------------\n",
        "Cut:"
       ]
      },
      {
       "output_type": "stream",
       "stream": "stdout",
       "text": [
        " DRWH_chi2<162.705844686\n",
        "Entries in Signal Sample= 17492.0\n",
        "Entries in Control Sample= 159774.0\n",
        "--------------------------------\n",
        "Cut:"
       ]
      },
      {
       "output_type": "stream",
       "stream": "stdout",
       "text": [
        " DRWH_chi2<175.525662984\n",
        "Entries in Signal Sample= 17763.0\n",
        "Entries in Control Sample= 161237.0\n",
        "--------------------------------\n",
        "Cut:"
       ]
      },
      {
       "output_type": "stream",
       "stream": "stdout",
       "text": [
        " DRWH_chi2<189.355572478\n",
        "Entries in Signal Sample= 18023.0\n",
        "Entries in Control Sample= 162677.0\n",
        "--------------------------------\n",
        "Cut:"
       ]
      },
      {
       "output_type": "stream",
       "stream": "stdout",
       "text": [
        " DRWH_chi2<204.275159649\n",
        "Entries in Signal Sample= 18287.0\n",
        "Entries in Control Sample= 164045.0\n",
        "--------------------------------\n",
        "Cut:"
       ]
      },
      {
       "output_type": "stream",
       "stream": "stdout",
       "text": [
        " DRWH_chi2<220.370281705\n",
        "Entries in Signal Sample= 18533.0\n",
        "Entries in Control Sample= 165334.0\n",
        "--------------------------------\n",
        "Cut:"
       ]
      },
      {
       "output_type": "stream",
       "stream": "stdout",
       "text": [
        " DRWH_chi2<237.733560666\n",
        "Entries in Signal Sample= 18744.0\n",
        "Entries in Control Sample= 166565.0\n",
        "--------------------------------\n",
        "Cut:"
       ]
      },
      {
       "output_type": "stream",
       "stream": "stdout",
       "text": [
        " DRWH_chi2<256.464916365\n",
        "Entries in Signal Sample= 18962.0\n",
        "Entries in Control Sample= 167754.0\n",
        "--------------------------------\n",
        "Cut:"
       ]
      },
      {
       "output_type": "stream",
       "stream": "stdout",
       "text": [
        " DRWH_chi2<276.672141459\n",
        "Entries in Signal Sample= 19175.0\n",
        "Entries in Control Sample= 168838.0\n",
        "--------------------------------\n",
        "Cut:"
       ]
      },
      {
       "output_type": "stream",
       "stream": "stdout",
       "text": [
        " DRWH_chi2<298.471521736\n",
        "Entries in Signal Sample= 19370.0\n",
        "Entries in Control Sample= 169852.0\n",
        "--------------------------------\n",
        "Cut:"
       ]
      },
      {
       "output_type": "stream",
       "stream": "stdout",
       "text": [
        " DRWH_chi2<321.988505304\n",
        "Entries in Signal Sample= 19537.0\n",
        "Entries in Control Sample= 170812.0\n",
        "--------------------------------\n",
        "Cut:"
       ]
      },
      {
       "output_type": "stream",
       "stream": "stdout",
       "text": [
        " DRWH_chi2<347.358424499\n",
        "Entries in Signal Sample= 19718.0\n",
        "Entries in Control Sample= 171735.0\n",
        "--------------------------------\n",
        "Cut:"
       ]
      },
      {
       "output_type": "stream",
       "stream": "stdout",
       "text": [
        " DRWH_chi2<374.727274678\n",
        "Entries in Signal Sample= 19867.0\n",
        "Entries in Control Sample= 172554.0\n",
        "--------------------------------\n",
        "Cut:"
       ]
      },
      {
       "output_type": "stream",
       "stream": "stdout",
       "text": [
        " DRWH_chi2<404.252554375\n",
        "Entries in Signal Sample= 20013.0\n",
        "Entries in Control Sample= 173371.0\n",
        "--------------------------------\n",
        "Cut:"
       ]
      },
      {
       "output_type": "stream",
       "stream": "stdout",
       "text": [
        " DRWH_chi2<436.104171652\n",
        "Entries in Signal Sample= 20141.0\n",
        "Entries in Control Sample= 174082.0\n",
        "--------------------------------\n",
        "Cut:"
       ]
      },
      {
       "output_type": "stream",
       "stream": "stdout",
       "text": [
        " DRWH_chi2<470.465421861\n",
        "Entries in Signal Sample= 20282.0\n",
        "Entries in Control Sample= 174767.0\n",
        "--------------------------------\n",
        "Cut:"
       ]
      },
      {
       "output_type": "stream",
       "stream": "stdout",
       "text": [
        " DRWH_chi2<507.534042448\n",
        "Entries in Signal Sample= 20386.0\n",
        "Entries in Control Sample= 175430.0\n",
        "--------------------------------\n",
        "Cut:"
       ]
      },
      {
       "output_type": "stream",
       "stream": "stdout",
       "text": [
        " DRWH_chi2<547.523350865\n",
        "Entries in Signal Sample= 20524.0\n",
        "Entries in Control Sample= 175981.0\n",
        "--------------------------------\n",
        "Cut:"
       ]
      },
      {
       "output_type": "stream",
       "stream": "stdout",
       "text": [
        " DRWH_chi2<590.663472141\n",
        "Entries in Signal Sample= 20647.0\n",
        "Entries in Control Sample= 176525.0\n",
        "--------------------------------\n",
        "Cut:"
       ]
      },
      {
       "output_type": "stream",
       "stream": "stdout",
       "text": [
        " DRWH_chi2<637.202663176\n",
        "Entries in Signal Sample= 20754.0\n",
        "Entries in Control Sample= 177015.0\n",
        "--------------------------------\n",
        "Cut:"
       ]
      },
      {
       "output_type": "stream",
       "stream": "stdout",
       "text": [
        " DRWH_chi2<687.408741371\n",
        "Entries in Signal Sample= 20852.0\n",
        "Entries in Control Sample= 177462.0\n",
        "--------------------------------\n",
        "Cut:"
       ]
      },
      {
       "output_type": "stream",
       "stream": "stdout",
       "text": [
        " DRWH_chi2<741.570625832\n",
        "Entries in Signal Sample= 20938.0\n",
        "Entries in Control Sample= 177858.0\n",
        "--------------------------------\n",
        "Cut:"
       ]
      },
      {
       "output_type": "stream",
       "stream": "stdout",
       "text": [
        " DRWH_chi2<800.0\n",
        "Entries in Signal Sample= 21017.0\n",
        "Entries in Control Sample= 178213.0\n",
        "--------------------------------\n",
        "Cut:"
       ]
      },
      {
       "output_type": "stream",
       "stream": "stdout",
       "text": [
        " HiggsMass_chi2<2.0\n",
        "Entries in Signal Sample= 767.0\n",
        "Entries in Control Sample= 9082.0\n",
        "--------------------------------\n",
        "Cut:"
       ]
      },
      {
       "output_type": "stream",
       "stream": "stdout",
       "text": [
        " HiggsMass_chi2<2.15758276321\n",
        "Entries in Signal Sample= 846.0\n",
        "Entries in Control Sample= 9881.0\n",
        "--------------------------------\n",
        "Cut:"
       ]
      },
      {
       "output_type": "stream",
       "stream": "stdout",
       "text": [
        " HiggsMass_chi2<2.32758169006\n",
        "Entries in Signal Sample= 917.0\n",
        "Entries in Control Sample= 10814.0\n",
        "--------------------------------\n",
        "Cut:"
       ]
      },
      {
       "output_type": "stream",
       "stream": "stdout",
       "text": [
        " HiggsMass_chi2<2.51097506722\n",
        "Entries in Signal Sample= 1016.0\n",
        "Entries in Control Sample= 11813.0\n",
        "--------------------------------\n",
        "Cut:"
       ]
      },
      {
       "output_type": "stream",
       "stream": "stdout",
       "text": [
        " HiggsMass_chi2<2.70881826195\n",
        "Entries in Signal Sample= 1098.0\n",
        "Entries in Control Sample= 12868.0\n",
        "--------------------------------\n",
        "Cut:"
       ]
      },
      {
       "output_type": "stream",
       "stream": "stdout",
       "text": [
        " HiggsMass_chi2<2.92224979532\n",
        "Entries in Signal Sample= 1179.0\n",
        "Entries in Control Sample= 13922.0\n",
        "--------------------------------\n",
        "Cut:"
       ]
      },
      {
       "output_type": "stream",
       "stream": "stdout",
       "text": [
        " HiggsMass_chi2<3.1524978941\n",
        "Entries in Signal Sample= 1263.0\n",
        "Entries in Control Sample= 14977.0\n",
        "--------------------------------\n",
        "Cut:"
       ]
      },
      {
       "output_type": "stream",
       "stream": "stdout",
       "text": [
        " HiggsMass_chi2<3.40088755869\n",
        "Entries in Signal Sample= 1359.0\n",
        "Entries in Control Sample= 16063.0\n",
        "--------------------------------\n",
        "Cut:"
       ]
      },
      {
       "output_type": "stream",
       "stream": "stdout",
       "text": [
        " HiggsMass_chi2<3.66884818812\n",
        "Entries in Signal Sample= 1461.0\n",
        "Entries in Control Sample= 17163.0\n",
        "--------------------------------\n",
        "Cut:"
       ]
      },
      {
       "output_type": "stream",
       "stream": "stdout",
       "text": [
        " HiggsMass_chi2<3.95792180577\n",
        "Entries in Signal Sample= 1549.0\n",
        "Entries in Control Sample= 18269.0\n",
        "--------------------------------\n",
        "Cut:"
       ]
      },
      {
       "output_type": "stream",
       "stream": "stdout",
       "text": [
        " HiggsMass_chi2<4.26977193314\n",
        "Entries in Signal Sample= 1636.0\n",
        "Entries in Control Sample= 19330.0\n",
        "--------------------------------\n",
        "Cut:"
       ]
      },
      {
       "output_type": "stream",
       "stream": "stdout",
       "text": [
        " HiggsMass_chi2<4.6061931629\n",
        "Entries in Signal Sample= 1739.0\n",
        "Entries in Control Sample= 20398.0\n",
        "--------------------------------\n",
        "Cut:"
       ]
      },
      {
       "output_type": "stream",
       "stream": "stdout",
       "text": [
        " HiggsMass_chi2<4.96912148615\n",
        "Entries in Signal Sample= 1843.0\n",
        "Entries in Control Sample= 21538.0\n",
        "--------------------------------\n",
        "Cut:"
       ]
      },
      {
       "output_type": "stream",
       "stream": "stdout",
       "text": [
        " HiggsMass_chi2<5.36064543341\n",
        "Entries in Signal Sample= 1933.0\n",
        "Entries in Control Sample= 22675.0\n",
        "--------------------------------\n",
        "Cut:"
       ]
      },
      {
       "output_type": "stream",
       "stream": "stdout",
       "text": [
        " HiggsMass_chi2<5.78301809341\n",
        "Entries in Signal Sample= 2023.0\n",
        "Entries in Control Sample= 23811.0\n",
        "--------------------------------\n",
        "Cut:"
       ]
      },
      {
       "output_type": "stream",
       "stream": "stdout",
       "text": [
        " HiggsMass_chi2<6.23867007885\n",
        "Entries in Signal Sample= 2118.0\n",
        "Entries in Control Sample= 24871.0\n",
        "--------------------------------\n",
        "Cut:"
       ]
      },
      {
       "output_type": "stream",
       "stream": "stdout",
       "text": [
        " HiggsMass_chi2<6.73022351375\n",
        "Entries in Signal Sample= 2224.0\n",
        "Entries in Control Sample= 25874.0\n",
        "--------------------------------\n",
        "Cut:"
       ]
      },
      {
       "output_type": "stream",
       "stream": "stdout",
       "text": [
        " HiggsMass_chi2<7.26050712292\n",
        "Entries in Signal Sample= 2328.0\n",
        "Entries in Control Sample= 26872.0\n",
        "--------------------------------\n",
        "Cut:"
       ]
      },
      {
       "output_type": "stream",
       "stream": "stdout",
       "text": [
        " HiggsMass_chi2<7.8325725103\n",
        "Entries in Signal Sample= 2427.0\n",
        "Entries in Control Sample= 27872.0\n",
        "--------------------------------\n",
        "Cut:"
       ]
      },
      {
       "output_type": "stream",
       "stream": "stdout",
       "text": [
        " HiggsMass_chi2<8.44971171992\n",
        "Entries in Signal Sample= 2521.0\n",
        "Entries in Control Sample= 28846.0\n",
        "--------------------------------\n",
        "Cut:"
       ]
      },
      {
       "output_type": "stream",
       "stream": "stdout",
       "text": [
        " HiggsMass_chi2<9.11547618051\n",
        "Entries in Signal Sample= 2627.0\n",
        "Entries in Control Sample= 29825.0\n",
        "--------------------------------\n",
        "Cut:"
       ]
      },
      {
       "output_type": "stream",
       "stream": "stdout",
       "text": [
        " HiggsMass_chi2<9.83369714277\n",
        "Entries in Signal Sample= 2732.0\n",
        "Entries in Control Sample= 30784.0\n",
        "--------------------------------\n",
        "Cut:"
       ]
      },
      {
       "output_type": "stream",
       "stream": "stdout",
       "text": [
        " HiggsMass_chi2<10.608507727\n",
        "Entries in Signal Sample= 2850.0\n",
        "Entries in Control Sample= 31750.0\n",
        "--------------------------------\n",
        "Cut:"
       ]
      },
      {
       "output_type": "stream",
       "stream": "stdout",
       "text": [
        " HiggsMass_chi2<11.4443667075\n",
        "Entries in Signal Sample= 2961.0\n",
        "Entries in Control Sample= 32665.0\n",
        "--------------------------------\n",
        "Cut:"
       ]
      },
      {
       "output_type": "stream",
       "stream": "stdout",
       "text": [
        " HiggsMass_chi2<12.346084172\n",
        "Entries in Signal Sample= 3054.0\n",
        "Entries in Control Sample= 33528.0\n",
        "--------------------------------\n",
        "Cut:"
       ]
      },
      {
       "output_type": "stream",
       "stream": "stdout",
       "text": [
        " HiggsMass_chi2<13.3188492014\n",
        "Entries in Signal Sample= 3145.0\n",
        "Entries in Control Sample= 34355.0\n",
        "--------------------------------\n",
        "Cut:"
       ]
      },
      {
       "output_type": "stream",
       "stream": "stdout",
       "text": [
        " HiggsMass_chi2<14.3682597314\n",
        "Entries in Signal Sample= 3229.0\n",
        "Entries in Control Sample= 35248.0\n",
        "--------------------------------\n",
        "Cut:"
       ]
      },
      {
       "output_type": "stream",
       "stream": "stdout",
       "text": [
        " HiggsMass_chi2<15.5003547669\n",
        "Entries in Signal Sample= 3337.0\n",
        "Entries in Control Sample= 35987.0\n",
        "--------------------------------\n",
        "Cut:"
       ]
      },
      {
       "output_type": "stream",
       "stream": "stdout",
       "text": [
        " HiggsMass_chi2<16.7216491344\n",
        "Entries in Signal Sample= 3427.0\n",
        "Entries in Control Sample= 36744.0\n",
        "--------------------------------\n",
        "Cut:"
       ]
      },
      {
       "output_type": "stream",
       "stream": "stdout",
       "text": [
        " HiggsMass_chi2<18.0391709724\n",
        "Entries in Signal Sample= 3533.0\n",
        "Entries in Control Sample= 37494.0\n",
        "--------------------------------\n",
        "Cut:"
       ]
      },
      {
       "output_type": "stream",
       "stream": "stdout",
       "text": [
        " HiggsMass_chi2<19.4605021764\n",
        "Entries in Signal Sample= 3653.0\n",
        "Entries in Control Sample= 38163.0\n",
        "--------------------------------\n",
        "Cut:"
       ]
      },
      {
       "output_type": "stream",
       "stream": "stdout",
       "text": [
        " HiggsMass_chi2<20.9938220296\n",
        "Entries in Signal Sample= 3747.0\n",
        "Entries in Control Sample= 38868.0\n",
        "--------------------------------\n",
        "Cut:"
       ]
      },
      {
       "output_type": "stream",
       "stream": "stdout",
       "text": [
        " HiggsMass_chi2<22.6479542725\n",
        "Entries in Signal Sample= 3848.0\n",
        "Entries in Control Sample= 39544.0\n",
        "--------------------------------\n",
        "Cut:"
       ]
      },
      {
       "output_type": "stream",
       "stream": "stdout",
       "text": [
        " HiggsMass_chi2<24.4324178802\n",
        "Entries in Signal Sample= 3949.0\n",
        "Entries in Control Sample= 40178.0\n",
        "--------------------------------\n",
        "Cut:"
       ]
      },
      {
       "output_type": "stream",
       "stream": "stdout",
       "text": [
        " HiggsMass_chi2<26.357481841\n",
        "Entries in Signal Sample= 4035.0\n",
        "Entries in Control Sample= 40832.0\n",
        "--------------------------------\n",
        "Cut:"
       ]
      },
      {
       "output_type": "stream",
       "stream": "stdout",
       "text": [
        " HiggsMass_chi2<28.4342242509\n",
        "Entries in Signal Sample= 4137.0\n",
        "Entries in Control Sample= 41486.0\n",
        "--------------------------------\n",
        "Cut:"
       ]
      },
      {
       "output_type": "stream",
       "stream": "stdout",
       "text": [
        " HiggsMass_chi2<30.6745960645\n",
        "Entries in Signal Sample= 4239.0\n",
        "Entries in Control Sample= 42114.0\n",
        "--------------------------------\n",
        "Cut:"
       ]
      },
      {
       "output_type": "stream",
       "stream": "stdout",
       "text": [
        " HiggsMass_chi2<33.0914898687\n",
        "Entries in Signal Sample= 4322.0\n",
        "Entries in Control Sample= 42696.0\n",
        "--------------------------------\n",
        "Cut:"
       ]
      },
      {
       "output_type": "stream",
       "stream": "stdout",
       "text": [
        " HiggsMass_chi2<35.6988140749\n",
        "Entries in Signal Sample= 4428.0\n",
        "Entries in Control Sample= 43280.0\n",
        "--------------------------------\n",
        "Cut:"
       ]
      },
      {
       "output_type": "stream",
       "stream": "stdout",
       "text": [
        " HiggsMass_chi2<38.5115729575\n",
        "Entries in Signal Sample= 4522.0\n",
        "Entries in Control Sample= 43843.0\n",
        "--------------------------------\n",
        "Cut:"
       ]
      },
      {
       "output_type": "stream",
       "stream": "stdout",
       "text": [
        " HiggsMass_chi2<41.5459529987\n",
        "Entries in Signal Sample= 4628.0\n",
        "Entries in Control Sample= 44371.0\n",
        "--------------------------------\n",
        "Cut:"
       ]
      },
      {
       "output_type": "stream",
       "stream": "stdout",
       "text": [
        " HiggsMass_chi2<44.8194160356\n",
        "Entries in Signal Sample= 4717.0\n",
        "Entries in Control Sample= 44922.0\n",
        "--------------------------------\n",
        "Cut:"
       ]
      },
      {
       "output_type": "stream",
       "stream": "stdout",
       "text": [
        " HiggsMass_chi2<48.3507997479\n",
        "Entries in Signal Sample= 4798.0\n",
        "Entries in Control Sample= 45418.0\n",
        "--------------------------------\n",
        "Cut:"
       ]
      },
      {
       "output_type": "stream",
       "stream": "stdout",
       "text": [
        " HiggsMass_chi2<52.1604260618\n",
        "Entries in Signal Sample= 4900.0\n",
        "Entries in Control Sample= 45884.0\n",
        "--------------------------------\n",
        "Cut:"
       ]
      },
      {
       "output_type": "stream",
       "stream": "stdout",
       "text": [
        " HiggsMass_chi2<56.2702180964\n",
        "Entries in Signal Sample= 5010.0\n",
        "Entries in Control Sample= 46319.0\n",
        "--------------------------------\n",
        "Cut:"
       ]
      },
      {
       "output_type": "stream",
       "stream": "stdout",
       "text": [
        " HiggsMass_chi2<60.7038263235\n",
        "Entries in Signal Sample= 5106.0\n",
        "Entries in Control Sample= 46781.0\n",
        "--------------------------------\n",
        "Cut:"
       ]
      },
      {
       "output_type": "stream",
       "stream": "stdout",
       "text": [
        " HiggsMass_chi2<65.4867646684\n",
        "Entries in Signal Sample= 5186.0\n",
        "Entries in Control Sample= 47228.0\n",
        "--------------------------------\n",
        "Cut:"
       ]
      },
      {
       "output_type": "stream",
       "stream": "stdout",
       "text": [
        " HiggsMass_chi2<70.6465573335\n",
        "Entries in Signal Sample= 5269.0\n",
        "Entries in Control Sample= 47652.0\n",
        "--------------------------------\n",
        "Cut:"
       ]
      },
      {
       "output_type": "stream",
       "stream": "stdout",
       "text": [
        " HiggsMass_chi2<76.2128971916\n",
        "Entries in Signal Sample= 5371.0\n",
        "Entries in Control Sample= 48048.0\n",
        "--------------------------------\n",
        "Cut:"
       ]
      },
      {
       "output_type": "stream",
       "stream": "stdout",
       "text": [
        " HiggsMass_chi2<82.2178166576\n",
        "Entries in Signal Sample= 5469.0\n",
        "Entries in Control Sample= 48490.0\n",
        "--------------------------------\n",
        "Cut:"
       ]
      },
      {
       "output_type": "stream",
       "stream": "stdout",
       "text": [
        " HiggsMass_chi2<88.6958720247\n",
        "Entries in Signal Sample= 5564.0\n",
        "Entries in Control Sample= 48883.0\n",
        "--------------------------------\n",
        "Cut:"
       ]
      },
      {
       "output_type": "stream",
       "stream": "stdout",
       "text": [
        " HiggsMass_chi2<95.6843423243\n",
        "Entries in Signal Sample= 5642.0\n",
        "Entries in Control Sample= 49263.0\n",
        "--------------------------------\n",
        "Cut:"
       ]
      },
      {
       "output_type": "stream",
       "stream": "stdout",
       "text": [
        " HiggsMass_chi2<103.223443854\n",
        "Entries in Signal Sample= 5729.0\n",
        "Entries in Control Sample= 49653.0\n",
        "--------------------------------\n",
        "Cut:"
       ]
      },
      {
       "output_type": "stream",
       "stream": "stdout",
       "text": [
        " HiggsMass_chi2<111.35656161\n",
        "Entries in Signal Sample= 5802.0\n",
        "Entries in Control Sample= 50037.0\n",
        "--------------------------------\n",
        "Cut:"
       ]
      },
      {
       "output_type": "stream",
       "stream": "stdout",
       "text": [
        " HiggsMass_chi2<120.13049895\n",
        "Entries in Signal Sample= 5873.0\n",
        "Entries in Control Sample= 50433.0\n",
        "--------------------------------\n",
        "Cut:"
       ]
      },
      {
       "output_type": "stream",
       "stream": "stdout",
       "text": [
        " HiggsMass_chi2<129.595746935\n",
        "Entries in Signal Sample= 5955.0\n",
        "Entries in Control Sample= 50791.0\n",
        "--------------------------------\n",
        "Cut:"
       ]
      },
      {
       "output_type": "stream",
       "stream": "stdout",
       "text": [
        " HiggsMass_chi2<139.806774886\n",
        "Entries in Signal Sample= 6040.0\n",
        "Entries in Control Sample= 51143.0\n",
        "--------------------------------\n",
        "Cut:"
       ]
      },
      {
       "output_type": "stream",
       "stream": "stdout",
       "text": [
        " HiggsMass_chi2<150.822343838\n",
        "Entries in Signal Sample= 6112.0\n",
        "Entries in Control Sample= 51487.0\n",
        "--------------------------------\n",
        "Cut:"
       ]
      },
      {
       "output_type": "stream",
       "stream": "stdout",
       "text": [
        " HiggsMass_chi2<162.705844686\n",
        "Entries in Signal Sample= 6184.0\n",
        "Entries in Control Sample= 51838.0\n",
        "--------------------------------\n",
        "Cut:"
       ]
      },
      {
       "output_type": "stream",
       "stream": "stdout",
       "text": [
        " HiggsMass_chi2<175.525662984\n",
        "Entries in Signal Sample= 6261.0\n",
        "Entries in Control Sample= 52118.0\n",
        "--------------------------------\n",
        "Cut:"
       ]
      },
      {
       "output_type": "stream",
       "stream": "stdout",
       "text": [
        " HiggsMass_chi2<189.355572478\n",
        "Entries in Signal Sample= 6325.0\n",
        "Entries in Control Sample= 52430.0\n",
        "--------------------------------\n",
        "Cut:"
       ]
      },
      {
       "output_type": "stream",
       "stream": "stdout",
       "text": [
        " HiggsMass_chi2<204.275159649\n",
        "Entries in Signal Sample= 6389.0\n",
        "Entries in Control Sample= 52715.0\n",
        "--------------------------------\n",
        "Cut:"
       ]
      },
      {
       "output_type": "stream",
       "stream": "stdout",
       "text": [
        " HiggsMass_chi2<220.370281705\n",
        "Entries in Signal Sample= 6450.0\n",
        "Entries in Control Sample= 52992.0\n",
        "--------------------------------\n",
        "Cut:"
       ]
      },
      {
       "output_type": "stream",
       "stream": "stdout",
       "text": [
        " HiggsMass_chi2<237.733560666\n",
        "Entries in Signal Sample= 6508.0\n",
        "Entries in Control Sample= 53260.0\n",
        "--------------------------------\n",
        "Cut:"
       ]
      },
      {
       "output_type": "stream",
       "stream": "stdout",
       "text": [
        " HiggsMass_chi2<256.464916365\n",
        "Entries in Signal Sample= 6572.0\n",
        "Entries in Control Sample= 53510.0\n",
        "--------------------------------\n",
        "Cut:"
       ]
      },
      {
       "output_type": "stream",
       "stream": "stdout",
       "text": [
        " HiggsMass_chi2<276.672141459\n",
        "Entries in Signal Sample= 6636.0\n",
        "Entries in Control Sample= 53741.0\n",
        "--------------------------------\n",
        "Cut:"
       ]
      },
      {
       "output_type": "stream",
       "stream": "stdout",
       "text": [
        " HiggsMass_chi2<298.471521736\n",
        "Entries in Signal Sample= 6686.0\n",
        "Entries in Control Sample= 53966.0\n",
        "--------------------------------\n",
        "Cut:"
       ]
      },
      {
       "output_type": "stream",
       "stream": "stdout",
       "text": [
        " HiggsMass_chi2<321.988505304\n",
        "Entries in Signal Sample= 6733.0\n",
        "Entries in Control Sample= 54172.0\n",
        "--------------------------------\n",
        "Cut:"
       ]
      },
      {
       "output_type": "stream",
       "stream": "stdout",
       "text": [
        " HiggsMass_chi2<347.358424499\n",
        "Entries in Signal Sample= 6783.0\n",
        "Entries in Control Sample= 54374.0\n",
        "--------------------------------\n",
        "Cut:"
       ]
      },
      {
       "output_type": "stream",
       "stream": "stdout",
       "text": [
        " HiggsMass_chi2<374.727274678\n",
        "Entries in Signal Sample= 6820.0\n",
        "Entries in Control Sample= 54563.0\n",
        "--------------------------------\n",
        "Cut:"
       ]
      },
      {
       "output_type": "stream",
       "stream": "stdout",
       "text": [
        " HiggsMass_chi2<404.252554375\n",
        "Entries in Signal Sample= 6852.0\n",
        "Entries in Control Sample= 54760.0\n",
        "--------------------------------\n",
        "Cut:"
       ]
      },
      {
       "output_type": "stream",
       "stream": "stdout",
       "text": [
        " HiggsMass_chi2<436.104171652\n",
        "Entries in Signal Sample= 6884.0\n",
        "Entries in Control Sample= 54905.0\n",
        "--------------------------------\n",
        "Cut:"
       ]
      },
      {
       "output_type": "stream",
       "stream": "stdout",
       "text": [
        " HiggsMass_chi2<470.465421861\n",
        "Entries in Signal Sample= 6913.0\n",
        "Entries in Control Sample= 55067.0\n",
        "--------------------------------\n",
        "Cut:"
       ]
      },
      {
       "output_type": "stream",
       "stream": "stdout",
       "text": [
        " HiggsMass_chi2<507.534042448\n",
        "Entries in Signal Sample= 6946.0\n",
        "Entries in Control Sample= 55207.0\n",
        "--------------------------------\n",
        "Cut:"
       ]
      },
      {
       "output_type": "stream",
       "stream": "stdout",
       "text": [
        " HiggsMass_chi2<547.523350865\n",
        "Entries in Signal Sample= 6987.0\n",
        "Entries in Control Sample= 55342.0\n",
        "--------------------------------\n",
        "Cut:"
       ]
      },
      {
       "output_type": "stream",
       "stream": "stdout",
       "text": [
        " HiggsMass_chi2<590.663472141\n",
        "Entries in Signal Sample= 7021.0\n",
        "Entries in Control Sample= 55460.0\n",
        "--------------------------------\n",
        "Cut:"
       ]
      },
      {
       "output_type": "stream",
       "stream": "stdout",
       "text": [
        " HiggsMass_chi2<637.202663176\n",
        "Entries in Signal Sample= 7049.0\n",
        "Entries in Control Sample= 55567.0\n",
        "--------------------------------\n",
        "Cut:"
       ]
      },
      {
       "output_type": "stream",
       "stream": "stdout",
       "text": [
        " HiggsMass_chi2<687.408741371\n",
        "Entries in Signal Sample= 7078.0\n",
        "Entries in Control Sample= 55672.0\n",
        "--------------------------------\n",
        "Cut:"
       ]
      },
      {
       "output_type": "stream",
       "stream": "stdout",
       "text": [
        " HiggsMass_chi2<741.570625832\n",
        "Entries in Signal Sample= 7101.0\n",
        "Entries in Control Sample= 55756.0\n",
        "--------------------------------\n",
        "Cut:"
       ]
      },
      {
       "output_type": "stream",
       "stream": "stdout",
       "text": [
        " HiggsMass_chi2<800.0\n",
        "Entries in Signal Sample= 7121.0\n",
        "Entries in Control Sample= 55838.0\n",
        "--------------------------------\n",
        "Cut:"
       ]
      },
      {
       "output_type": "stream",
       "stream": "stdout",
       "text": [
        " M2HP_chi2<2.0\n",
        "Entries in Signal Sample= 283.0\n",
        "Entries in Control Sample= 4402.0\n",
        "--------------------------------\n",
        "Cut:"
       ]
      },
      {
       "output_type": "stream",
       "stream": "stdout",
       "text": [
        " M2HP_chi2<2.15758276321\n",
        "Entries in Signal Sample= 317.0\n",
        "Entries in Control Sample= 4839.0\n",
        "--------------------------------\n",
        "Cut:"
       ]
      },
      {
       "output_type": "stream",
       "stream": "stdout",
       "text": [
        " M2HP_chi2<2.32758169006\n",
        "Entries in Signal Sample= 345.0\n",
        "Entries in Control Sample= 5316.0\n",
        "--------------------------------\n",
        "Cut:"
       ]
      },
      {
       "output_type": "stream",
       "stream": "stdout",
       "text": [
        " M2HP_chi2<2.51097506722\n",
        "Entries in Signal Sample= 387.0\n",
        "Entries in Control Sample= 5826.0\n",
        "--------------------------------\n",
        "Cut:"
       ]
      },
      {
       "output_type": "stream",
       "stream": "stdout",
       "text": [
        " M2HP_chi2<2.70881826195\n",
        "Entries in Signal Sample= 421.0\n",
        "Entries in Control Sample= 6381.0\n",
        "--------------------------------\n",
        "Cut:"
       ]
      },
      {
       "output_type": "stream",
       "stream": "stdout",
       "text": [
        " M2HP_chi2<2.92224979532\n",
        "Entries in Signal Sample= 455.0\n",
        "Entries in Control Sample= 6928.0\n",
        "--------------------------------\n",
        "Cut:"
       ]
      },
      {
       "output_type": "stream",
       "stream": "stdout",
       "text": [
        " M2HP_chi2<3.1524978941\n",
        "Entries in Signal Sample= 490.0\n",
        "Entries in Control Sample= 7468.0\n",
        "--------------------------------\n",
        "Cut:"
       ]
      },
      {
       "output_type": "stream",
       "stream": "stdout",
       "text": [
        " M2HP_chi2<3.40088755869\n",
        "Entries in Signal Sample= 534.0\n",
        "Entries in Control Sample= 8009.0\n",
        "--------------------------------\n",
        "Cut:"
       ]
      },
      {
       "output_type": "stream",
       "stream": "stdout",
       "text": [
        " M2HP_chi2<3.66884818812\n",
        "Entries in Signal Sample= 571.0\n",
        "Entries in Control Sample= 8590.0\n",
        "--------------------------------\n",
        "Cut:"
       ]
      },
      {
       "output_type": "stream",
       "stream": "stdout",
       "text": [
        " M2HP_chi2<3.95792180577\n",
        "Entries in Signal Sample= 611.0\n",
        "Entries in Control Sample= 9159.0\n",
        "--------------------------------\n",
        "Cut:"
       ]
      },
      {
       "output_type": "stream",
       "stream": "stdout",
       "text": [
        " M2HP_chi2<4.26977193314\n",
        "Entries in Signal Sample= 649.0\n",
        "Entries in Control Sample= 9729.0\n",
        "--------------------------------\n",
        "Cut:"
       ]
      },
      {
       "output_type": "stream",
       "stream": "stdout",
       "text": [
        " M2HP_chi2<4.6061931629\n",
        "Entries in Signal Sample= 696.0\n",
        "Entries in Control Sample= 10317.0\n",
        "--------------------------------\n",
        "Cut:"
       ]
      },
      {
       "output_type": "stream",
       "stream": "stdout",
       "text": [
        " M2HP_chi2<4.96912148615\n",
        "Entries in Signal Sample= 742.0\n",
        "Entries in Control Sample= 10942.0\n",
        "--------------------------------\n",
        "Cut:"
       ]
      },
      {
       "output_type": "stream",
       "stream": "stdout",
       "text": [
        " M2HP_chi2<5.36064543341\n",
        "Entries in Signal Sample= 782.0\n",
        "Entries in Control Sample= 11546.0\n",
        "--------------------------------\n",
        "Cut:"
       ]
      },
      {
       "output_type": "stream",
       "stream": "stdout",
       "text": [
        " M2HP_chi2<5.78301809341\n",
        "Entries in Signal Sample= 826.0\n",
        "Entries in Control Sample= 12151.0\n",
        "--------------------------------\n",
        "Cut:"
       ]
      },
      {
       "output_type": "stream",
       "stream": "stdout",
       "text": [
        " M2HP_chi2<6.23867007885\n",
        "Entries in Signal Sample= 866.0\n",
        "Entries in Control Sample= 12737.0\n",
        "--------------------------------\n",
        "Cut:"
       ]
      },
      {
       "output_type": "stream",
       "stream": "stdout",
       "text": [
        " M2HP_chi2<6.73022351375\n",
        "Entries in Signal Sample= 913.0\n",
        "Entries in Control Sample= 13281.0\n",
        "--------------------------------\n",
        "Cut:"
       ]
      },
      {
       "output_type": "stream",
       "stream": "stdout",
       "text": [
        " M2HP_chi2<7.26050712292\n",
        "Entries in Signal Sample= 951.0\n",
        "Entries in Control Sample= 13824.0\n",
        "--------------------------------\n",
        "Cut:"
       ]
      },
      {
       "output_type": "stream",
       "stream": "stdout",
       "text": [
        " M2HP_chi2<7.8325725103\n",
        "Entries in Signal Sample= 993.0\n",
        "Entries in Control Sample= 14356.0\n",
        "--------------------------------\n",
        "Cut:"
       ]
      },
      {
       "output_type": "stream",
       "stream": "stdout",
       "text": [
        " M2HP_chi2<8.44971171992\n",
        "Entries in Signal Sample= 1040.0\n",
        "Entries in Control Sample= 14858.0\n",
        "--------------------------------\n",
        "Cut:"
       ]
      },
      {
       "output_type": "stream",
       "stream": "stdout",
       "text": [
        " M2HP_chi2<9.11547618051\n",
        "Entries in Signal Sample= 1092.0\n",
        "Entries in Control Sample= 15403.0\n",
        "--------------------------------\n",
        "Cut:"
       ]
      },
      {
       "output_type": "stream",
       "stream": "stdout",
       "text": [
        " M2HP_chi2<9.83369714277\n",
        "Entries in Signal Sample= 1137.0\n",
        "Entries in Control Sample= 15922.0\n",
        "--------------------------------\n",
        "Cut:"
       ]
      },
      {
       "output_type": "stream",
       "stream": "stdout",
       "text": [
        " M2HP_chi2<10.608507727\n",
        "Entries in Signal Sample= 1198.0\n",
        "Entries in Control Sample= 16471.0\n",
        "--------------------------------\n",
        "Cut:"
       ]
      },
      {
       "output_type": "stream",
       "stream": "stdout",
       "text": [
        " M2HP_chi2<11.4443667075\n",
        "Entries in Signal Sample= 1242.0\n",
        "Entries in Control Sample= 16980.0\n",
        "--------------------------------\n",
        "Cut:"
       ]
      },
      {
       "output_type": "stream",
       "stream": "stdout",
       "text": [
        " M2HP_chi2<12.346084172\n",
        "Entries in Signal Sample= 1280.0\n",
        "Entries in Control Sample= 17444.0\n",
        "--------------------------------\n",
        "Cut:"
       ]
      },
      {
       "output_type": "stream",
       "stream": "stdout",
       "text": [
        " M2HP_chi2<13.3188492014\n",
        "Entries in Signal Sample= 1322.0\n",
        "Entries in Control Sample= 17880.0\n",
        "--------------------------------\n",
        "Cut:"
       ]
      },
      {
       "output_type": "stream",
       "stream": "stdout",
       "text": [
        " M2HP_chi2<14.3682597314\n",
        "Entries in Signal Sample= 1365.0\n",
        "Entries in Control Sample= 18355.0\n",
        "--------------------------------\n",
        "Cut:"
       ]
      },
      {
       "output_type": "stream",
       "stream": "stdout",
       "text": [
        " M2HP_chi2<15.5003547669\n",
        "Entries in Signal Sample= 1418.0\n",
        "Entries in Control Sample= 18753.0\n",
        "--------------------------------\n",
        "Cut:"
       ]
      },
      {
       "output_type": "stream",
       "stream": "stdout",
       "text": [
        " M2HP_chi2<16.7216491344\n",
        "Entries in Signal Sample= 1459.0\n",
        "Entries in Control Sample= 19156.0\n",
        "--------------------------------\n",
        "Cut:"
       ]
      },
      {
       "output_type": "stream",
       "stream": "stdout",
       "text": [
        " M2HP_chi2<18.0391709724\n",
        "Entries in Signal Sample= 1501.0\n",
        "Entries in Control Sample= 19552.0\n",
        "--------------------------------\n",
        "Cut:"
       ]
      },
      {
       "output_type": "stream",
       "stream": "stdout",
       "text": [
        " M2HP_chi2<19.4605021764\n",
        "Entries in Signal Sample= 1549.0\n",
        "Entries in Control Sample= 19920.0\n",
        "--------------------------------\n",
        "Cut:"
       ]
      },
      {
       "output_type": "stream",
       "stream": "stdout",
       "text": [
        " M2HP_chi2<20.9938220296\n",
        "Entries in Signal Sample= 1600.0\n",
        "Entries in Control Sample= 20301.0\n",
        "--------------------------------\n",
        "Cut:"
       ]
      },
      {
       "output_type": "stream",
       "stream": "stdout",
       "text": [
        " M2HP_chi2<22.6479542725\n",
        "Entries in Signal Sample= 1641.0\n",
        "Entries in Control Sample= 20672.0\n",
        "--------------------------------\n",
        "Cut:"
       ]
      },
      {
       "output_type": "stream",
       "stream": "stdout",
       "text": [
        " M2HP_chi2<24.4324178802\n",
        "Entries in Signal Sample= 1688.0\n",
        "Entries in Control Sample= 21006.0\n",
        "--------------------------------\n",
        "Cut:"
       ]
      },
      {
       "output_type": "stream",
       "stream": "stdout",
       "text": [
        " M2HP_chi2<26.357481841\n",
        "Entries in Signal Sample= 1733.0\n",
        "Entries in Control Sample= 21351.0\n",
        "--------------------------------\n",
        "Cut:"
       ]
      },
      {
       "output_type": "stream",
       "stream": "stdout",
       "text": [
        " M2HP_chi2<28.4342242509\n",
        "Entries in Signal Sample= 1788.0\n",
        "Entries in Control Sample= 21687.0\n",
        "--------------------------------\n",
        "Cut:"
       ]
      },
      {
       "output_type": "stream",
       "stream": "stdout",
       "text": [
        " M2HP_chi2<30.6745960645\n",
        "Entries in Signal Sample= 1845.0\n",
        "Entries in Control Sample= 22023.0\n",
        "--------------------------------\n",
        "Cut:"
       ]
      },
      {
       "output_type": "stream",
       "stream": "stdout",
       "text": [
        " M2HP_chi2<33.0914898687\n",
        "Entries in Signal Sample= 1886.0\n",
        "Entries in Control Sample= 22334.0\n",
        "--------------------------------\n",
        "Cut:"
       ]
      },
      {
       "output_type": "stream",
       "stream": "stdout",
       "text": [
        " M2HP_chi2<35.6988140749\n",
        "Entries in Signal Sample= 1930.0\n",
        "Entries in Control Sample= 22637.0\n",
        "--------------------------------\n",
        "Cut:"
       ]
      },
      {
       "output_type": "stream",
       "stream": "stdout",
       "text": [
        " M2HP_chi2<38.5115729575\n",
        "Entries in Signal Sample= 1965.0\n",
        "Entries in Control Sample= 22926.0\n",
        "--------------------------------\n",
        "Cut:"
       ]
      },
      {
       "output_type": "stream",
       "stream": "stdout",
       "text": [
        " M2HP_chi2<41.5459529987\n",
        "Entries in Signal Sample= 2013.0\n",
        "Entries in Control Sample= 23180.0\n",
        "--------------------------------\n",
        "Cut:"
       ]
      },
      {
       "output_type": "stream",
       "stream": "stdout",
       "text": [
        " M2HP_chi2<44.8194160356\n",
        "Entries in Signal Sample= 2049.0\n",
        "Entries in Control Sample= 23459.0\n",
        "--------------------------------\n",
        "Cut:"
       ]
      },
      {
       "output_type": "stream",
       "stream": "stdout",
       "text": [
        " M2HP_chi2<48.3507997479\n",
        "Entries in Signal Sample= 2097.0\n",
        "Entries in Control Sample= 23709.0\n",
        "--------------------------------\n",
        "Cut:"
       ]
      },
      {
       "output_type": "stream",
       "stream": "stdout",
       "text": [
        " M2HP_chi2<52.1604260618\n",
        "Entries in Signal Sample= 2141.0\n",
        "Entries in Control Sample= 23937.0\n",
        "--------------------------------\n",
        "Cut:"
       ]
      },
      {
       "output_type": "stream",
       "stream": "stdout",
       "text": [
        " M2HP_chi2<56.2702180964\n",
        "Entries in Signal Sample= 2203.0\n",
        "Entries in Control Sample= 24154.0\n",
        "--------------------------------\n",
        "Cut:"
       ]
      },
      {
       "output_type": "stream",
       "stream": "stdout",
       "text": [
        " M2HP_chi2<60.7038263235\n",
        "Entries in Signal Sample= 2245.0\n",
        "Entries in Control Sample= 24382.0\n",
        "--------------------------------\n",
        "Cut:"
       ]
      },
      {
       "output_type": "stream",
       "stream": "stdout",
       "text": [
        " M2HP_chi2<65.4867646684\n",
        "Entries in Signal Sample= 2273.0\n",
        "Entries in Control Sample= 24617.0\n",
        "--------------------------------\n",
        "Cut:"
       ]
      },
      {
       "output_type": "stream",
       "stream": "stdout",
       "text": [
        " M2HP_chi2<70.6465573335\n",
        "Entries in Signal Sample= 2316.0\n",
        "Entries in Control Sample= 24832.0\n",
        "--------------------------------\n",
        "Cut:"
       ]
      },
      {
       "output_type": "stream",
       "stream": "stdout",
       "text": [
        " M2HP_chi2<76.2128971916\n",
        "Entries in Signal Sample= 2370.0\n",
        "Entries in Control Sample= 25046.0\n",
        "--------------------------------\n",
        "Cut:"
       ]
      },
      {
       "output_type": "stream",
       "stream": "stdout",
       "text": [
        " M2HP_chi2<82.2178166576\n",
        "Entries in Signal Sample= 2421.0\n",
        "Entries in Control Sample= 25277.0\n",
        "--------------------------------\n",
        "Cut:"
       ]
      },
      {
       "output_type": "stream",
       "stream": "stdout",
       "text": [
        " M2HP_chi2<88.6958720247\n",
        "Entries in Signal Sample= 2464.0\n",
        "Entries in Control Sample= 25470.0\n",
        "--------------------------------\n",
        "Cut:"
       ]
      },
      {
       "output_type": "stream",
       "stream": "stdout",
       "text": [
        " M2HP_chi2<95.6843423243\n",
        "Entries in Signal Sample= 2500.0\n",
        "Entries in Control Sample= 25670.0\n",
        "--------------------------------\n",
        "Cut:"
       ]
      },
      {
       "output_type": "stream",
       "stream": "stdout",
       "text": [
        " M2HP_chi2<103.223443854\n",
        "Entries in Signal Sample= 2542.0\n",
        "Entries in Control Sample= 25883.0\n",
        "--------------------------------\n",
        "Cut:"
       ]
      },
      {
       "output_type": "stream",
       "stream": "stdout",
       "text": [
        " M2HP_chi2<111.35656161\n",
        "Entries in Signal Sample= 2578.0\n",
        "Entries in Control Sample= 26081.0\n",
        "--------------------------------\n",
        "Cut:"
       ]
      },
      {
       "output_type": "stream",
       "stream": "stdout",
       "text": [
        " M2HP_chi2<120.13049895\n",
        "Entries in Signal Sample= 2612.0\n",
        "Entries in Control Sample= 26285.0\n",
        "--------------------------------\n",
        "Cut:"
       ]
      },
      {
       "output_type": "stream",
       "stream": "stdout",
       "text": [
        " M2HP_chi2<129.595746935\n",
        "Entries in Signal Sample= 2646.0\n",
        "Entries in Control Sample= 26461.0\n",
        "--------------------------------\n",
        "Cut:"
       ]
      },
      {
       "output_type": "stream",
       "stream": "stdout",
       "text": [
        " M2HP_chi2<139.806774886\n",
        "Entries in Signal Sample= 2688.0\n",
        "Entries in Control Sample= 26633.0\n",
        "--------------------------------\n",
        "Cut:"
       ]
      },
      {
       "output_type": "stream",
       "stream": "stdout",
       "text": [
        " M2HP_chi2<150.822343838\n",
        "Entries in Signal Sample= 2728.0\n",
        "Entries in Control Sample= 26831.0\n",
        "--------------------------------\n",
        "Cut:"
       ]
      },
      {
       "output_type": "stream",
       "stream": "stdout",
       "text": [
        " M2HP_chi2<162.705844686\n",
        "Entries in Signal Sample= 2761.0\n",
        "Entries in Control Sample= 26993.0\n",
        "--------------------------------\n",
        "Cut:"
       ]
      },
      {
       "output_type": "stream",
       "stream": "stdout",
       "text": [
        " M2HP_chi2<175.525662984\n",
        "Entries in Signal Sample= 2796.0\n",
        "Entries in Control Sample= 27140.0\n",
        "--------------------------------\n",
        "Cut:"
       ]
      },
      {
       "output_type": "stream",
       "stream": "stdout",
       "text": [
        " M2HP_chi2<189.355572478\n",
        "Entries in Signal Sample= 2821.0\n",
        "Entries in Control Sample= 27297.0\n",
        "--------------------------------\n",
        "Cut:"
       ]
      },
      {
       "output_type": "stream",
       "stream": "stdout",
       "text": [
        " M2HP_chi2<204.275159649\n",
        "Entries in Signal Sample= 2851.0\n",
        "Entries in Control Sample= 27442.0\n",
        "--------------------------------\n",
        "Cut:"
       ]
      },
      {
       "output_type": "stream",
       "stream": "stdout",
       "text": [
        " M2HP_chi2<220.370281705\n",
        "Entries in Signal Sample= 2873.0\n",
        "Entries in Control Sample= 27596.0\n",
        "--------------------------------\n",
        "Cut:"
       ]
      },
      {
       "output_type": "stream",
       "stream": "stdout",
       "text": [
        " M2HP_chi2<237.733560666\n",
        "Entries in Signal Sample= 2898.0\n",
        "Entries in Control Sample= 27742.0\n",
        "--------------------------------\n",
        "Cut:"
       ]
      },
      {
       "output_type": "stream",
       "stream": "stdout",
       "text": [
        " M2HP_chi2<256.464916365\n",
        "Entries in Signal Sample= 2927.0\n",
        "Entries in Control Sample= 27877.0\n",
        "--------------------------------\n",
        "Cut:"
       ]
      },
      {
       "output_type": "stream",
       "stream": "stdout",
       "text": [
        " M2HP_chi2<276.672141459\n",
        "Entries in Signal Sample= 2953.0\n",
        "Entries in Control Sample= 27998.0\n",
        "--------------------------------\n",
        "Cut:"
       ]
      },
      {
       "output_type": "stream",
       "stream": "stdout",
       "text": [
        " M2HP_chi2<298.471521736\n",
        "Entries in Signal Sample= 2977.0\n",
        "Entries in Control Sample= 28116.0\n",
        "--------------------------------\n",
        "Cut:"
       ]
      },
      {
       "output_type": "stream",
       "stream": "stdout",
       "text": [
        " M2HP_chi2<321.988505304\n",
        "Entries in Signal Sample= 3003.0\n",
        "Entries in Control Sample= 28236.0\n",
        "--------------------------------\n",
        "Cut:"
       ]
      },
      {
       "output_type": "stream",
       "stream": "stdout",
       "text": [
        " M2HP_chi2<347.358424499\n",
        "Entries in Signal Sample= 3031.0\n",
        "Entries in Control Sample= 28359.0\n",
        "--------------------------------\n",
        "Cut:"
       ]
      },
      {
       "output_type": "stream",
       "stream": "stdout",
       "text": [
        " M2HP_chi2<374.727274678\n",
        "Entries in Signal Sample= 3044.0\n",
        "Entries in Control Sample= 28460.0\n",
        "--------------------------------\n",
        "Cut:"
       ]
      },
      {
       "output_type": "stream",
       "stream": "stdout",
       "text": [
        " M2HP_chi2<404.252554375\n",
        "Entries in Signal Sample= 3063.0\n",
        "Entries in Control Sample= 28559.0\n",
        "--------------------------------\n",
        "Cut:"
       ]
      },
      {
       "output_type": "stream",
       "stream": "stdout",
       "text": [
        " M2HP_chi2<436.104171652\n",
        "Entries in Signal Sample= 3079.0\n",
        "Entries in Control Sample= 28640.0\n",
        "--------------------------------\n",
        "Cut:"
       ]
      },
      {
       "output_type": "stream",
       "stream": "stdout",
       "text": [
        " M2HP_chi2<470.465421861\n",
        "Entries in Signal Sample= 3095.0\n",
        "Entries in Control Sample= 28717.0\n",
        "--------------------------------\n",
        "Cut:"
       ]
      },
      {
       "output_type": "stream",
       "stream": "stdout",
       "text": [
        " M2HP_chi2<507.534042448\n",
        "Entries in Signal Sample= 3111.0\n",
        "Entries in Control Sample= 28787.0\n",
        "--------------------------------\n",
        "Cut:"
       ]
      },
      {
       "output_type": "stream",
       "stream": "stdout",
       "text": [
        " M2HP_chi2<547.523350865\n",
        "Entries in Signal Sample= 3128.0\n",
        "Entries in Control Sample= 28857.0\n",
        "--------------------------------\n",
        "Cut:"
       ]
      },
      {
       "output_type": "stream",
       "stream": "stdout",
       "text": [
        " M2HP_chi2<590.663472141\n",
        "Entries in Signal Sample= 3150.0\n",
        "Entries in Control Sample= 28917.0\n",
        "--------------------------------\n",
        "Cut:"
       ]
      },
      {
       "output_type": "stream",
       "stream": "stdout",
       "text": [
        " M2HP_chi2<637.202663176\n",
        "Entries in Signal Sample= 3165.0\n",
        "Entries in Control Sample= 28972.0\n",
        "--------------------------------\n",
        "Cut:"
       ]
      },
      {
       "output_type": "stream",
       "stream": "stdout",
       "text": [
        " M2HP_chi2<687.408741371\n",
        "Entries in Signal Sample= 3184.0\n",
        "Entries in Control Sample= 29027.0\n",
        "--------------------------------\n",
        "Cut:"
       ]
      },
      {
       "output_type": "stream",
       "stream": "stdout",
       "text": [
        " M2HP_chi2<741.570625832\n",
        "Entries in Signal Sample= 3196.0\n",
        "Entries in Control Sample= 29071.0\n",
        "--------------------------------\n",
        "Cut:"
       ]
      },
      {
       "output_type": "stream",
       "stream": "stdout",
       "text": [
        " M2HP_chi2<800.0\n",
        "Entries in Signal Sample= 3205.0\n",
        "Entries in Control Sample= 29107.0\n",
        "--------------------------------\n",
        "Cut:"
       ]
      },
      {
       "output_type": "stream",
       "stream": "stdout",
       "text": [
        " DRTp6thJ_chi2<2.0\n",
        "Entries in Signal Sample= 30.0\n",
        "Entries in Control Sample= 386.0\n",
        "--------------------------------\n",
        "Cut:"
       ]
      },
      {
       "output_type": "stream",
       "stream": "stdout",
       "text": [
        " DRTp6thJ_chi2<2.15758276321\n",
        "Entries in Signal Sample= 33.0\n",
        "Entries in Control Sample= 421.0\n",
        "--------------------------------\n",
        "Cut:"
       ]
      },
      {
       "output_type": "stream",
       "stream": "stdout",
       "text": [
        " DRTp6thJ_chi2<2.32758169006\n",
        "Entries in Signal Sample= 36.0\n",
        "Entries in Control Sample= 465.0\n",
        "--------------------------------\n",
        "Cut:"
       ]
      },
      {
       "output_type": "stream",
       "stream": "stdout",
       "text": [
        " DRTp6thJ_chi2<2.51097506722\n",
        "Entries in Signal Sample= 41.0\n",
        "Entries in Control Sample= 510.0\n",
        "--------------------------------\n",
        "Cut:"
       ]
      },
      {
       "output_type": "stream",
       "stream": "stdout",
       "text": [
        " DRTp6thJ_chi2<2.70881826195\n",
        "Entries in Signal Sample= 45.0\n",
        "Entries in Control Sample= 561.0\n",
        "--------------------------------\n",
        "Cut:"
       ]
      },
      {
       "output_type": "stream",
       "stream": "stdout",
       "text": [
        " DRTp6thJ_chi2<2.92224979532\n",
        "Entries in Signal Sample= 49.0\n",
        "Entries in Control Sample= 612.0\n",
        "--------------------------------\n",
        "Cut:"
       ]
      },
      {
       "output_type": "stream",
       "stream": "stdout",
       "text": [
        " DRTp6thJ_chi2<3.1524978941\n",
        "Entries in Signal Sample= 53.0\n",
        "Entries in Control Sample= 660.0\n",
        "--------------------------------\n",
        "Cut:"
       ]
      },
      {
       "output_type": "stream",
       "stream": "stdout",
       "text": [
        " DRTp6thJ_chi2<3.40088755869\n",
        "Entries in Signal Sample= 56.0\n",
        "Entries in Control Sample= 713.0\n",
        "--------------------------------\n",
        "Cut:"
       ]
      },
      {
       "output_type": "stream",
       "stream": "stdout",
       "text": [
        " DRTp6thJ_chi2<3.66884818812\n",
        "Entries in Signal Sample= 59.0\n",
        "Entries in Control Sample= 769.0\n",
        "--------------------------------\n",
        "Cut:"
       ]
      },
      {
       "output_type": "stream",
       "stream": "stdout",
       "text": [
        " DRTp6thJ_chi2<3.95792180577\n",
        "Entries in Signal Sample= 64.0\n",
        "Entries in Control Sample= 828.0\n",
        "--------------------------------\n",
        "Cut:"
       ]
      },
      {
       "output_type": "stream",
       "stream": "stdout",
       "text": [
        " DRTp6thJ_chi2<4.26977193314\n",
        "Entries in Signal Sample= 66.0\n",
        "Entries in Control Sample= 880.0\n",
        "--------------------------------\n",
        "Cut:"
       ]
      },
      {
       "output_type": "stream",
       "stream": "stdout",
       "text": [
        " DRTp6thJ_chi2<4.6061931629\n",
        "Entries in Signal Sample= 72.0\n",
        "Entries in Control Sample= 936.0\n",
        "--------------------------------\n",
        "Cut:"
       ]
      },
      {
       "output_type": "stream",
       "stream": "stdout",
       "text": [
        " DRTp6thJ_chi2<4.96912148615\n",
        "Entries in Signal Sample= 75.0\n",
        "Entries in Control Sample= 989.0\n",
        "--------------------------------\n",
        "Cut:"
       ]
      },
      {
       "output_type": "stream",
       "stream": "stdout",
       "text": [
        " DRTp6thJ_chi2<5.36064543341\n",
        "Entries in Signal Sample= 79.0\n",
        "Entries in Control Sample= 1050.0\n",
        "--------------------------------\n",
        "Cut:"
       ]
      },
      {
       "output_type": "stream",
       "stream": "stdout",
       "text": [
        " DRTp6thJ_chi2<5.78301809341\n",
        "Entries in Signal Sample= 84.0\n",
        "Entries in Control Sample= 1123.0\n",
        "--------------------------------\n",
        "Cut:"
       ]
      },
      {
       "output_type": "stream",
       "stream": "stdout",
       "text": [
        " DRTp6thJ_chi2<6.23867007885\n",
        "Entries in Signal Sample= 88.0\n",
        "Entries in Control Sample= 1192.0\n",
        "--------------------------------\n",
        "Cut:"
       ]
      },
      {
       "output_type": "stream",
       "stream": "stdout",
       "text": [
        " DRTp6thJ_chi2<6.73022351375\n",
        "Entries in Signal Sample= 92.0\n",
        "Entries in Control Sample= 1240.0\n",
        "--------------------------------\n",
        "Cut:"
       ]
      },
      {
       "output_type": "stream",
       "stream": "stdout",
       "text": [
        " DRTp6thJ_chi2<7.26050712292\n",
        "Entries in Signal Sample= 96.0\n",
        "Entries in Control Sample= 1301.0\n",
        "--------------------------------\n",
        "Cut:"
       ]
      },
      {
       "output_type": "stream",
       "stream": "stdout",
       "text": [
        " DRTp6thJ_chi2<7.8325725103\n",
        "Entries in Signal Sample= 103.0\n",
        "Entries in Control Sample= 1342.0\n",
        "--------------------------------\n",
        "Cut:"
       ]
      },
      {
       "output_type": "stream",
       "stream": "stdout",
       "text": [
        " DRTp6thJ_chi2<8.44971171992\n",
        "Entries in Signal Sample= 108.0\n",
        "Entries in Control Sample= 1398.0\n",
        "--------------------------------\n",
        "Cut:"
       ]
      },
      {
       "output_type": "stream",
       "stream": "stdout",
       "text": [
        " DRTp6thJ_chi2<9.11547618051\n",
        "Entries in Signal Sample= 112.0\n",
        "Entries in Control Sample= 1460.0\n",
        "--------------------------------\n",
        "Cut:"
       ]
      },
      {
       "output_type": "stream",
       "stream": "stdout",
       "text": [
        " DRTp6thJ_chi2<9.83369714277\n",
        "Entries in Signal Sample= 120.0\n",
        "Entries in Control Sample= 1515.0\n",
        "--------------------------------\n",
        "Cut:"
       ]
      },
      {
       "output_type": "stream",
       "stream": "stdout",
       "text": [
        " DRTp6thJ_chi2<10.608507727\n",
        "Entries in Signal Sample= 129.0\n",
        "Entries in Control Sample= 1578.0\n",
        "--------------------------------\n",
        "Cut:"
       ]
      },
      {
       "output_type": "stream",
       "stream": "stdout",
       "text": [
        " DRTp6thJ_chi2<11.4443667075\n",
        "Entries in Signal Sample= 134.0\n",
        "Entries in Control Sample= 1637.0\n",
        "--------------------------------\n",
        "Cut:"
       ]
      },
      {
       "output_type": "stream",
       "stream": "stdout",
       "text": [
        " DRTp6thJ_chi2<12.346084172\n",
        "Entries in Signal Sample= 137.0\n",
        "Entries in Control Sample= 1681.0\n",
        "--------------------------------\n",
        "Cut:"
       ]
      },
      {
       "output_type": "stream",
       "stream": "stdout",
       "text": [
        " DRTp6thJ_chi2<13.3188492014\n",
        "Entries in Signal Sample= 140.0\n",
        "Entries in Control Sample= 1737.0\n",
        "--------------------------------\n",
        "Cut:"
       ]
      },
      {
       "output_type": "stream",
       "stream": "stdout",
       "text": [
        " DRTp6thJ_chi2<14.3682597314\n",
        "Entries in Signal Sample= 144.0\n",
        "Entries in Control Sample= 1811.0\n",
        "--------------------------------\n",
        "Cut:"
       ]
      },
      {
       "output_type": "stream",
       "stream": "stdout",
       "text": [
        " DRTp6thJ_chi2<15.5003547669\n",
        "Entries in Signal Sample= 155.0\n",
        "Entries in Control Sample= 1860.0\n",
        "--------------------------------\n",
        "Cut:"
       ]
      },
      {
       "output_type": "stream",
       "stream": "stdout",
       "text": [
        " DRTp6thJ_chi2<16.7216491344\n",
        "Entries in Signal Sample= 159.0\n",
        "Entries in Control Sample= 1904.0\n",
        "--------------------------------\n",
        "Cut:"
       ]
      },
      {
       "output_type": "stream",
       "stream": "stdout",
       "text": [
        " DRTp6thJ_chi2<18.0391709724\n",
        "Entries in Signal Sample= 161.0\n",
        "Entries in Control Sample= 1948.0\n",
        "--------------------------------\n",
        "Cut:"
       ]
      },
      {
       "output_type": "stream",
       "stream": "stdout",
       "text": [
        " DRTp6thJ_chi2<19.4605021764\n",
        "Entries in Signal Sample= 164.0\n",
        "Entries in Control Sample= 1994.0\n",
        "--------------------------------\n",
        "Cut:"
       ]
      },
      {
       "output_type": "stream",
       "stream": "stdout",
       "text": [
        " DRTp6thJ_chi2<20.9938220296\n",
        "Entries in Signal Sample= 171.0\n",
        "Entries in Control Sample= 2030.0\n",
        "--------------------------------\n",
        "Cut:"
       ]
      },
      {
       "output_type": "stream",
       "stream": "stdout",
       "text": [
        " DRTp6thJ_chi2<22.6479542725\n",
        "Entries in Signal Sample= 179.0\n",
        "Entries in Control Sample= 2083.0\n",
        "--------------------------------\n",
        "Cut:"
       ]
      },
      {
       "output_type": "stream",
       "stream": "stdout",
       "text": [
        " DRTp6thJ_chi2<24.4324178802\n",
        "Entries in Signal Sample= 187.0\n",
        "Entries in Control Sample= 2123.0\n",
        "--------------------------------\n",
        "Cut:"
       ]
      },
      {
       "output_type": "stream",
       "stream": "stdout",
       "text": [
        " DRTp6thJ_chi2<26.357481841\n",
        "Entries in Signal Sample= 192.0\n",
        "Entries in Control Sample= 2161.0\n",
        "--------------------------------\n",
        "Cut:"
       ]
      },
      {
       "output_type": "stream",
       "stream": "stdout",
       "text": [
        " DRTp6thJ_chi2<28.4342242509\n",
        "Entries in Signal Sample= 200.0\n",
        "Entries in Control Sample= 2214.0\n",
        "--------------------------------\n",
        "Cut:"
       ]
      },
      {
       "output_type": "stream",
       "stream": "stdout",
       "text": [
        " DRTp6thJ_chi2<30.6745960645\n",
        "Entries in Signal Sample= 205.0\n",
        "Entries in Control Sample= 2256.0\n",
        "--------------------------------\n",
        "Cut:"
       ]
      },
      {
       "output_type": "stream",
       "stream": "stdout",
       "text": [
        " DRTp6thJ_chi2<33.0914898687\n",
        "Entries in Signal Sample= 211.0\n",
        "Entries in Control Sample= 2290.0\n",
        "--------------------------------\n",
        "Cut:"
       ]
      },
      {
       "output_type": "stream",
       "stream": "stdout",
       "text": [
        " DRTp6thJ_chi2<35.6988140749\n",
        "Entries in Signal Sample= 215.0\n",
        "Entries in Control Sample= 2343.0\n",
        "--------------------------------\n",
        "Cut:"
       ]
      },
      {
       "output_type": "stream",
       "stream": "stdout",
       "text": [
        " DRTp6thJ_chi2<38.5115729575\n",
        "Entries in Signal Sample= 220.0\n",
        "Entries in Control Sample= 2393.0\n",
        "--------------------------------\n",
        "Cut:"
       ]
      },
      {
       "output_type": "stream",
       "stream": "stdout",
       "text": [
        " DRTp6thJ_chi2<41.5459529987\n",
        "Entries in Signal Sample= 223.0\n",
        "Entries in Control Sample= 2433.0\n",
        "--------------------------------\n",
        "Cut:"
       ]
      },
      {
       "output_type": "stream",
       "stream": "stdout",
       "text": [
        " DRTp6thJ_chi2<44.8194160356\n",
        "Entries in Signal Sample= 225.0\n",
        "Entries in Control Sample= 2473.0\n",
        "--------------------------------\n",
        "Cut:"
       ]
      },
      {
       "output_type": "stream",
       "stream": "stdout",
       "text": [
        " DRTp6thJ_chi2<48.3507997479\n",
        "Entries in Signal Sample= 236.0\n",
        "Entries in Control Sample= 2509.0\n",
        "--------------------------------\n",
        "Cut:"
       ]
      },
      {
       "output_type": "stream",
       "stream": "stdout",
       "text": [
        " DRTp6thJ_chi2<52.1604260618\n",
        "Entries in Signal Sample= 240.0\n",
        "Entries in Control Sample= 2563.0\n",
        "--------------------------------\n",
        "Cut:"
       ]
      },
      {
       "output_type": "stream",
       "stream": "stdout",
       "text": [
        " DRTp6thJ_chi2<56.2702180964\n",
        "Entries in Signal Sample= 247.0\n",
        "Entries in Control Sample= 2600.0\n",
        "--------------------------------\n",
        "Cut:"
       ]
      },
      {
       "output_type": "stream",
       "stream": "stdout",
       "text": [
        " DRTp6thJ_chi2<60.7038263235\n",
        "Entries in Signal Sample= 256.0\n",
        "Entries in Control Sample= 2640.0\n",
        "--------------------------------\n",
        "Cut:"
       ]
      },
      {
       "output_type": "stream",
       "stream": "stdout",
       "text": [
        " DRTp6thJ_chi2<65.4867646684\n",
        "Entries in Signal Sample= 261.0\n",
        "Entries in Control Sample= 2675.0\n",
        "--------------------------------\n",
        "Cut:"
       ]
      },
      {
       "output_type": "stream",
       "stream": "stdout",
       "text": [
        " DRTp6thJ_chi2<70.6465573335\n",
        "Entries in Signal Sample= 264.0\n",
        "Entries in Control Sample= 2709.0\n",
        "--------------------------------\n",
        "Cut:"
       ]
      },
      {
       "output_type": "stream",
       "stream": "stdout",
       "text": [
        " DRTp6thJ_chi2<76.2128971916\n",
        "Entries in Signal Sample= 268.0\n",
        "Entries in Control Sample= 2749.0\n",
        "--------------------------------\n",
        "Cut:"
       ]
      },
      {
       "output_type": "stream",
       "stream": "stdout",
       "text": [
        " DRTp6thJ_chi2<82.2178166576\n",
        "Entries in Signal Sample= 273.0\n",
        "Entries in Control Sample= 2791.0\n",
        "--------------------------------\n",
        "Cut:"
       ]
      },
      {
       "output_type": "stream",
       "stream": "stdout",
       "text": [
        " DRTp6thJ_chi2<88.6958720247\n",
        "Entries in Signal Sample= 276.0\n",
        "Entries in Control Sample= 2831.0\n",
        "--------------------------------\n",
        "Cut:"
       ]
      },
      {
       "output_type": "stream",
       "stream": "stdout",
       "text": [
        " DRTp6thJ_chi2<95.6843423243\n",
        "Entries in Signal Sample= 282.0\n",
        "Entries in Control Sample= 2874.0\n",
        "--------------------------------\n",
        "Cut:"
       ]
      },
      {
       "output_type": "stream",
       "stream": "stdout",
       "text": [
        " DRTp6thJ_chi2<103.223443854\n",
        "Entries in Signal Sample= 288.0\n",
        "Entries in Control Sample= 2929.0\n",
        "--------------------------------\n",
        "Cut:"
       ]
      },
      {
       "output_type": "stream",
       "stream": "stdout",
       "text": [
        " DRTp6thJ_chi2<111.35656161\n",
        "Entries in Signal Sample= 294.0\n",
        "Entries in Control Sample= 2968.0\n",
        "--------------------------------\n",
        "Cut:"
       ]
      },
      {
       "output_type": "stream",
       "stream": "stdout",
       "text": [
        " DRTp6thJ_chi2<120.13049895\n",
        "Entries in Signal Sample= 304.0\n",
        "Entries in Control Sample= 3007.0\n",
        "--------------------------------\n",
        "Cut:"
       ]
      },
      {
       "output_type": "stream",
       "stream": "stdout",
       "text": [
        " DRTp6thJ_chi2<129.595746935\n",
        "Entries in Signal Sample= 308.0\n",
        "Entries in Control Sample= 3047.0\n",
        "--------------------------------\n",
        "Cut:"
       ]
      },
      {
       "output_type": "stream",
       "stream": "stdout",
       "text": [
        " DRTp6thJ_chi2<139.806774886\n",
        "Entries in Signal Sample= 319.0\n",
        "Entries in Control Sample= 3092.0\n",
        "--------------------------------\n",
        "Cut:"
       ]
      },
      {
       "output_type": "stream",
       "stream": "stdout",
       "text": [
        " DRTp6thJ_chi2<150.822343838\n",
        "Entries in Signal Sample= 335.0\n",
        "Entries in Control Sample= 3139.0\n",
        "--------------------------------\n",
        "Cut:"
       ]
      },
      {
       "output_type": "stream",
       "stream": "stdout",
       "text": [
        " DRTp6thJ_chi2<162.705844686\n",
        "Entries in Signal Sample= 341.0\n",
        "Entries in Control Sample= 3180.0\n",
        "--------------------------------\n",
        "Cut:"
       ]
      },
      {
       "output_type": "stream",
       "stream": "stdout",
       "text": [
        " DRTp6thJ_chi2<175.525662984\n",
        "Entries in Signal Sample= 348.0\n",
        "Entries in Control Sample= 3215.0\n",
        "--------------------------------\n",
        "Cut:"
       ]
      },
      {
       "output_type": "stream",
       "stream": "stdout",
       "text": [
        " DRTp6thJ_chi2<189.355572478\n",
        "Entries in Signal Sample= 352.0\n",
        "Entries in Control Sample= 3255.0\n",
        "--------------------------------\n",
        "Cut:"
       ]
      },
      {
       "output_type": "stream",
       "stream": "stdout",
       "text": [
        " DRTp6thJ_chi2<204.275159649\n",
        "Entries in Signal Sample= 356.0\n",
        "Entries in Control Sample= 3292.0\n",
        "--------------------------------\n",
        "Cut:"
       ]
      },
      {
       "output_type": "stream",
       "stream": "stdout",
       "text": [
        " DRTp6thJ_chi2<220.370281705\n",
        "Entries in Signal Sample= 358.0\n",
        "Entries in Control Sample= 3328.0\n",
        "--------------------------------\n",
        "Cut:"
       ]
      },
      {
       "output_type": "stream",
       "stream": "stdout",
       "text": [
        " DRTp6thJ_chi2<237.733560666\n",
        "Entries in Signal Sample= 363.0\n",
        "Entries in Control Sample= 3360.0\n",
        "--------------------------------\n",
        "Cut:"
       ]
      },
      {
       "output_type": "stream",
       "stream": "stdout",
       "text": [
        " DRTp6thJ_chi2<256.464916365\n",
        "Entries in Signal Sample= 374.0\n",
        "Entries in Control Sample= 3387.0\n",
        "--------------------------------\n",
        "Cut:"
       ]
      },
      {
       "output_type": "stream",
       "stream": "stdout",
       "text": [
        " DRTp6thJ_chi2<276.672141459\n",
        "Entries in Signal Sample= 379.0\n",
        "Entries in Control Sample= 3415.0\n",
        "--------------------------------\n",
        "Cut:"
       ]
      },
      {
       "output_type": "stream",
       "stream": "stdout",
       "text": [
        " DRTp6thJ_chi2<298.471521736\n",
        "Entries in Signal Sample= 385.0\n",
        "Entries in Control Sample= 3440.0\n",
        "--------------------------------\n",
        "Cut:"
       ]
      },
      {
       "output_type": "stream",
       "stream": "stdout",
       "text": [
        " DRTp6thJ_chi2<321.988505304\n",
        "Entries in Signal Sample= 395.0\n",
        "Entries in Control Sample= 3475.0\n",
        "--------------------------------\n",
        "Cut:"
       ]
      },
      {
       "output_type": "stream",
       "stream": "stdout",
       "text": [
        " DRTp6thJ_chi2<347.358424499\n",
        "Entries in Signal Sample= 401.0\n",
        "Entries in Control Sample= 3513.0\n",
        "--------------------------------\n",
        "Cut:"
       ]
      },
      {
       "output_type": "stream",
       "stream": "stdout",
       "text": [
        " DRTp6thJ_chi2<374.727274678\n",
        "Entries in Signal Sample= 403.0\n",
        "Entries in Control Sample= 3552.0\n",
        "--------------------------------\n",
        "Cut:"
       ]
      },
      {
       "output_type": "stream",
       "stream": "stdout",
       "text": [
        " DRTp6thJ_chi2<404.252554375\n",
        "Entries in Signal Sample= 407.0\n",
        "Entries in Control Sample= 3584.0\n",
        "--------------------------------\n",
        "Cut:"
       ]
      },
      {
       "output_type": "stream",
       "stream": "stdout",
       "text": [
        " DRTp6thJ_chi2<436.104171652\n",
        "Entries in Signal Sample= 410.0\n",
        "Entries in Control Sample= 3611.0\n",
        "--------------------------------\n",
        "Cut:"
       ]
      },
      {
       "output_type": "stream",
       "stream": "stdout",
       "text": [
        " DRTp6thJ_chi2<470.465421861\n",
        "Entries in Signal Sample= 415.0\n",
        "Entries in Control Sample= 3627.0\n",
        "--------------------------------\n",
        "Cut:"
       ]
      },
      {
       "output_type": "stream",
       "stream": "stdout",
       "text": [
        " DRTp6thJ_chi2<507.534042448\n",
        "Entries in Signal Sample= 422.0\n",
        "Entries in Control Sample= 3651.0\n",
        "--------------------------------\n",
        "Cut:"
       ]
      },
      {
       "output_type": "stream",
       "stream": "stdout",
       "text": [
        " DRTp6thJ_chi2<547.523350865\n",
        "Entries in Signal Sample= 426.0\n",
        "Entries in Control Sample= 3675.0\n",
        "--------------------------------\n",
        "Cut:"
       ]
      },
      {
       "output_type": "stream",
       "stream": "stdout",
       "text": [
        " DRTp6thJ_chi2<590.663472141\n",
        "Entries in Signal Sample= 430.0\n",
        "Entries in Control Sample= 3692.0\n",
        "--------------------------------\n",
        "Cut:"
       ]
      },
      {
       "output_type": "stream",
       "stream": "stdout",
       "text": [
        " DRTp6thJ_chi2<637.202663176\n",
        "Entries in Signal Sample= 435.0\n",
        "Entries in Control Sample= 3716.0\n",
        "--------------------------------\n",
        "Cut:"
       ]
      },
      {
       "output_type": "stream",
       "stream": "stdout",
       "text": [
        " DRTp6thJ_chi2<687.408741371\n",
        "Entries in Signal Sample= 441.0\n",
        "Entries in Control Sample= 3733.0\n",
        "--------------------------------\n",
        "Cut:"
       ]
      },
      {
       "output_type": "stream",
       "stream": "stdout",
       "text": [
        " DRTp6thJ_chi2<741.570625832\n",
        "Entries in Signal Sample= 445.0\n",
        "Entries in Control Sample= 3745.0\n",
        "--------------------------------\n",
        "Cut:"
       ]
      },
      {
       "output_type": "stream",
       "stream": "stdout",
       "text": [
        " DRTp6thJ_chi2<800.0\n",
        "Entries in Signal Sample= 448.0\n",
        "Entries in Control Sample= 3754.0\n",
        "--------------------------------\n",
        "Cut:"
       ]
      },
      {
       "output_type": "stream",
       "stream": "stdout",
       "text": [
        " RelHT_chi2<2.0\n",
        "Entries in Signal Sample= 15.0\n",
        "Entries in Control Sample= 120.0\n",
        "--------------------------------\n",
        "Cut:"
       ]
      },
      {
       "output_type": "stream",
       "stream": "stdout",
       "text": [
        " RelHT_chi2<2.15758276321\n",
        "Entries in Signal Sample= 17.0\n",
        "Entries in Control Sample= 136.0\n",
        "--------------------------------\n",
        "Cut:"
       ]
      },
      {
       "output_type": "stream",
       "stream": "stdout",
       "text": [
        " RelHT_chi2<2.32758169006\n",
        "Entries in Signal Sample= 19.0\n",
        "Entries in Control Sample= 158.0\n",
        "--------------------------------\n",
        "Cut:"
       ]
      },
      {
       "output_type": "stream",
       "stream": "stdout",
       "text": [
        " RelHT_chi2<2.51097506722\n",
        "Entries in Signal Sample= 22.0\n",
        "Entries in Control Sample= 172.0\n",
        "--------------------------------\n",
        "Cut:"
       ]
      },
      {
       "output_type": "stream",
       "stream": "stdout",
       "text": [
        " RelHT_chi2<2.70881826195\n",
        "Entries in Signal Sample= 25.0\n",
        "Entries in Control Sample= 185.0\n",
        "--------------------------------\n",
        "Cut:"
       ]
      },
      {
       "output_type": "stream",
       "stream": "stdout",
       "text": [
        " RelHT_chi2<2.92224979532\n",
        "Entries in Signal Sample= 26.0\n",
        "Entries in Control Sample= 205.0\n",
        "--------------------------------\n",
        "Cut:"
       ]
      },
      {
       "output_type": "stream",
       "stream": "stdout",
       "text": [
        " RelHT_chi2<3.1524978941\n",
        "Entries in Signal Sample= 28.0\n",
        "Entries in Control Sample= 216.0\n",
        "--------------------------------\n",
        "Cut:"
       ]
      },
      {
       "output_type": "stream",
       "stream": "stdout",
       "text": [
        " RelHT_chi2<3.40088755869\n",
        "Entries in Signal Sample= 29.0\n",
        "Entries in Control Sample= 238.0\n",
        "--------------------------------\n",
        "Cut:"
       ]
      },
      {
       "output_type": "stream",
       "stream": "stdout",
       "text": [
        " RelHT_chi2<3.66884818812\n",
        "Entries in Signal Sample= 31.0\n",
        "Entries in Control Sample= 253.0\n",
        "--------------------------------\n",
        "Cut:"
       ]
      },
      {
       "output_type": "stream",
       "stream": "stdout",
       "text": [
        " RelHT_chi2<3.95792180577\n",
        "Entries in Signal Sample= 34.0\n",
        "Entries in Control Sample= 279.0\n",
        "--------------------------------\n",
        "Cut:"
       ]
      },
      {
       "output_type": "stream",
       "stream": "stdout",
       "text": [
        " RelHT_chi2<4.26977193314\n",
        "Entries in Signal Sample= 35.0\n",
        "Entries in Control Sample= 293.0\n",
        "--------------------------------\n",
        "Cut:"
       ]
      },
      {
       "output_type": "stream",
       "stream": "stdout",
       "text": [
        " RelHT_chi2<4.6061931629\n",
        "Entries in Signal Sample= 38.0\n",
        "Entries in Control Sample= 318.0\n",
        "--------------------------------\n",
        "Cut:"
       ]
      },
      {
       "output_type": "stream",
       "stream": "stdout",
       "text": [
        " RelHT_chi2<4.96912148615\n",
        "Entries in Signal Sample= 39.0\n",
        "Entries in Control Sample= 343.0\n",
        "--------------------------------\n",
        "Cut:"
       ]
      },
      {
       "output_type": "stream",
       "stream": "stdout",
       "text": [
        " RelHT_chi2<5.36064543341\n",
        "Entries in Signal Sample= 41.0\n",
        "Entries in Control Sample= 372.0\n",
        "--------------------------------\n",
        "Cut:"
       ]
      },
      {
       "output_type": "stream",
       "stream": "stdout",
       "text": [
        " RelHT_chi2<5.78301809341\n",
        "Entries in Signal Sample= 45.0\n",
        "Entries in Control Sample= 396.0\n",
        "--------------------------------\n",
        "Cut:"
       ]
      },
      {
       "output_type": "stream",
       "stream": "stdout",
       "text": [
        " RelHT_chi2<6.23867007885\n",
        "Entries in Signal Sample= 47.0\n",
        "Entries in Control Sample= 420.0\n",
        "--------------------------------\n",
        "Cut:"
       ]
      },
      {
       "output_type": "stream",
       "stream": "stdout",
       "text": [
        " RelHT_chi2<6.73022351375\n",
        "Entries in Signal Sample= 49.0\n",
        "Entries in Control Sample= 440.0\n",
        "--------------------------------\n",
        "Cut:"
       ]
      },
      {
       "output_type": "stream",
       "stream": "stdout",
       "text": [
        " RelHT_chi2<7.26050712292\n",
        "Entries in Signal Sample= 52.0\n",
        "Entries in Control Sample= 466.0\n",
        "--------------------------------\n",
        "Cut:"
       ]
      },
      {
       "output_type": "stream",
       "stream": "stdout",
       "text": [
        " RelHT_chi2<7.8325725103\n",
        "Entries in Signal Sample= 55.0\n",
        "Entries in Control Sample= 481.0\n",
        "--------------------------------\n",
        "Cut:"
       ]
      },
      {
       "output_type": "stream",
       "stream": "stdout",
       "text": [
        " RelHT_chi2<8.44971171992\n",
        "Entries in Signal Sample= 56.0\n",
        "Entries in Control Sample= 504.0\n",
        "--------------------------------\n",
        "Cut:"
       ]
      },
      {
       "output_type": "stream",
       "stream": "stdout",
       "text": [
        " RelHT_chi2<9.11547618051\n",
        "Entries in Signal Sample= 57.0\n",
        "Entries in Control Sample= 535.0\n",
        "--------------------------------\n",
        "Cut:"
       ]
      },
      {
       "output_type": "stream",
       "stream": "stdout",
       "text": [
        " RelHT_chi2<9.83369714277\n",
        "Entries in Signal Sample= 62.0\n",
        "Entries in Control Sample= 557.0\n",
        "--------------------------------\n",
        "Cut:"
       ]
      },
      {
       "output_type": "stream",
       "stream": "stdout",
       "text": [
        " RelHT_chi2<10.608507727\n",
        "Entries in Signal Sample= 68.0\n",
        "Entries in Control Sample= 589.0\n",
        "--------------------------------\n",
        "Cut:"
       ]
      },
      {
       "output_type": "stream",
       "stream": "stdout",
       "text": [
        " RelHT_chi2<11.4443667075\n",
        "Entries in Signal Sample= 71.0\n",
        "Entries in Control Sample= 619.0\n",
        "--------------------------------\n",
        "Cut:"
       ]
      },
      {
       "output_type": "stream",
       "stream": "stdout",
       "text": [
        " RelHT_chi2<12.346084172\n",
        "Entries in Signal Sample= 73.0\n",
        "Entries in Control Sample= 636.0\n",
        "--------------------------------\n",
        "Cut:"
       ]
      },
      {
       "output_type": "stream",
       "stream": "stdout",
       "text": [
        " RelHT_chi2<13.3188492014\n",
        "Entries in Signal Sample= 73.0\n",
        "Entries in Control Sample= 667.0\n",
        "--------------------------------\n",
        "Cut:"
       ]
      },
      {
       "output_type": "stream",
       "stream": "stdout",
       "text": [
        " RelHT_chi2<14.3682597314\n",
        "Entries in Signal Sample= 75.0\n",
        "Entries in Control Sample= 702.0\n",
        "--------------------------------\n",
        "Cut:"
       ]
      },
      {
       "output_type": "stream",
       "stream": "stdout",
       "text": [
        " RelHT_chi2<15.5003547669\n",
        "Entries in Signal Sample= 79.0\n",
        "Entries in Control Sample= 731.0\n",
        "--------------------------------\n",
        "Cut:"
       ]
      },
      {
       "output_type": "stream",
       "stream": "stdout",
       "text": [
        " RelHT_chi2<16.7216491344\n",
        "Entries in Signal Sample= 79.0\n",
        "Entries in Control Sample= 745.0\n",
        "--------------------------------\n",
        "Cut:"
       ]
      },
      {
       "output_type": "stream",
       "stream": "stdout",
       "text": [
        " RelHT_chi2<18.0391709724\n",
        "Entries in Signal Sample= 80.0\n",
        "Entries in Control Sample= 767.0\n",
        "--------------------------------\n",
        "Cut:"
       ]
      },
      {
       "output_type": "stream",
       "stream": "stdout",
       "text": [
        " RelHT_chi2<19.4605021764\n",
        "Entries in Signal Sample= 81.0\n",
        "Entries in Control Sample= 793.0\n",
        "--------------------------------\n",
        "Cut:"
       ]
      },
      {
       "output_type": "stream",
       "stream": "stdout",
       "text": [
        " RelHT_chi2<20.9938220296\n",
        "Entries in Signal Sample= 85.0\n",
        "Entries in Control Sample= 809.0\n",
        "--------------------------------\n",
        "Cut:"
       ]
      },
      {
       "output_type": "stream",
       "stream": "stdout",
       "text": [
        " RelHT_chi2<22.6479542725\n",
        "Entries in Signal Sample= 90.0\n",
        "Entries in Control Sample= 838.0\n",
        "--------------------------------\n",
        "Cut:"
       ]
      },
      {
       "output_type": "stream",
       "stream": "stdout",
       "text": [
        " RelHT_chi2<24.4324178802\n",
        "Entries in Signal Sample= 95.0\n",
        "Entries in Control Sample= 852.0\n",
        "--------------------------------\n",
        "Cut:"
       ]
      },
      {
       "output_type": "stream",
       "stream": "stdout",
       "text": [
        " RelHT_chi2<26.357481841\n",
        "Entries in Signal Sample= 98.0\n",
        "Entries in Control Sample= 874.0\n",
        "--------------------------------\n",
        "Cut:"
       ]
      },
      {
       "output_type": "stream",
       "stream": "stdout",
       "text": [
        " RelHT_chi2<28.4342242509\n",
        "Entries in Signal Sample= 105.0\n",
        "Entries in Control Sample= 903.0\n",
        "--------------------------------\n",
        "Cut:"
       ]
      },
      {
       "output_type": "stream",
       "stream": "stdout",
       "text": [
        " RelHT_chi2<30.6745960645\n",
        "Entries in Signal Sample= 105.0\n",
        "Entries in Control Sample= 919.0\n",
        "--------------------------------\n",
        "Cut:"
       ]
      },
      {
       "output_type": "stream",
       "stream": "stdout",
       "text": [
        " RelHT_chi2<33.0914898687\n",
        "Entries in Signal Sample= 108.0\n",
        "Entries in Control Sample= 936.0\n",
        "--------------------------------\n",
        "Cut:"
       ]
      },
      {
       "output_type": "stream",
       "stream": "stdout",
       "text": [
        " RelHT_chi2<35.6988140749\n",
        "Entries in Signal Sample= 110.0\n",
        "Entries in Control Sample= 966.0\n",
        "--------------------------------\n",
        "Cut:"
       ]
      },
      {
       "output_type": "stream",
       "stream": "stdout",
       "text": [
        " RelHT_chi2<38.5115729575\n",
        "Entries in Signal Sample= 113.0\n",
        "Entries in Control Sample= 991.0\n",
        "--------------------------------\n",
        "Cut:"
       ]
      },
      {
       "output_type": "stream",
       "stream": "stdout",
       "text": [
        " RelHT_chi2<41.5459529987\n",
        "Entries in Signal Sample= 114.0\n",
        "Entries in Control Sample= 1017.0\n",
        "--------------------------------\n",
        "Cut:"
       ]
      },
      {
       "output_type": "stream",
       "stream": "stdout",
       "text": [
        " RelHT_chi2<44.8194160356\n",
        "Entries in Signal Sample= 115.0\n",
        "Entries in Control Sample= 1037.0\n",
        "--------------------------------\n",
        "Cut:"
       ]
      },
      {
       "output_type": "stream",
       "stream": "stdout",
       "text": [
        " RelHT_chi2<48.3507997479\n",
        "Entries in Signal Sample= 123.0\n",
        "Entries in Control Sample= 1050.0\n",
        "--------------------------------\n",
        "Cut:"
       ]
      },
      {
       "output_type": "stream",
       "stream": "stdout",
       "text": [
        " RelHT_chi2<52.1604260618\n",
        "Entries in Signal Sample= 124.0\n",
        "Entries in Control Sample= 1084.0\n",
        "--------------------------------\n",
        "Cut:"
       ]
      },
      {
       "output_type": "stream",
       "stream": "stdout",
       "text": [
        " RelHT_chi2<56.2702180964\n",
        "Entries in Signal Sample= 127.0\n",
        "Entries in Control Sample= 1103.0\n",
        "--------------------------------\n",
        "Cut:"
       ]
      },
      {
       "output_type": "stream",
       "stream": "stdout",
       "text": [
        " RelHT_chi2<60.7038263235\n",
        "Entries in Signal Sample= 133.0\n",
        "Entries in Control Sample= 1123.0\n",
        "--------------------------------\n",
        "Cut:"
       ]
      },
      {
       "output_type": "stream",
       "stream": "stdout",
       "text": [
        " RelHT_chi2<65.4867646684\n",
        "Entries in Signal Sample= 137.0\n",
        "Entries in Control Sample= 1141.0\n",
        "--------------------------------\n",
        "Cut:"
       ]
      },
      {
       "output_type": "stream",
       "stream": "stdout",
       "text": [
        " RelHT_chi2<70.6465573335\n",
        "Entries in Signal Sample= 140.0\n",
        "Entries in Control Sample= 1155.0\n",
        "--------------------------------\n",
        "Cut:"
       ]
      },
      {
       "output_type": "stream",
       "stream": "stdout",
       "text": [
        " RelHT_chi2<76.2128971916\n",
        "Entries in Signal Sample= 141.0\n",
        "Entries in Control Sample= 1174.0\n",
        "--------------------------------\n",
        "Cut:"
       ]
      },
      {
       "output_type": "stream",
       "stream": "stdout",
       "text": [
        " RelHT_chi2<82.2178166576\n",
        "Entries in Signal Sample= 143.0\n",
        "Entries in Control Sample= 1198.0\n",
        "--------------------------------\n",
        "Cut:"
       ]
      },
      {
       "output_type": "stream",
       "stream": "stdout",
       "text": [
        " RelHT_chi2<88.6958720247\n",
        "Entries in Signal Sample= 143.0\n",
        "Entries in Control Sample= 1219.0\n",
        "--------------------------------\n",
        "Cut:"
       ]
      },
      {
       "output_type": "stream",
       "stream": "stdout",
       "text": [
        " RelHT_chi2<95.6843423243\n",
        "Entries in Signal Sample= 146.0\n",
        "Entries in Control Sample= 1243.0\n",
        "--------------------------------\n",
        "Cut:"
       ]
      },
      {
       "output_type": "stream",
       "stream": "stdout",
       "text": [
        " RelHT_chi2<103.223443854\n",
        "Entries in Signal Sample= 149.0\n",
        "Entries in Control Sample= 1271.0\n",
        "--------------------------------\n",
        "Cut:"
       ]
      },
      {
       "output_type": "stream",
       "stream": "stdout",
       "text": [
        " RelHT_chi2<111.35656161\n",
        "Entries in Signal Sample= 153.0\n",
        "Entries in Control Sample= 1286.0\n",
        "--------------------------------\n",
        "Cut:"
       ]
      },
      {
       "output_type": "stream",
       "stream": "stdout",
       "text": [
        " RelHT_chi2<120.13049895\n",
        "Entries in Signal Sample= 157.0\n",
        "Entries in Control Sample= 1309.0\n",
        "--------------------------------\n",
        "Cut:"
       ]
      },
      {
       "output_type": "stream",
       "stream": "stdout",
       "text": [
        " RelHT_chi2<129.595746935\n",
        "Entries in Signal Sample= 160.0\n",
        "Entries in Control Sample= 1334.0\n",
        "--------------------------------\n",
        "Cut:"
       ]
      },
      {
       "output_type": "stream",
       "stream": "stdout",
       "text": [
        " RelHT_chi2<139.806774886\n",
        "Entries in Signal Sample= 166.0\n",
        "Entries in Control Sample= 1356.0\n",
        "--------------------------------\n",
        "Cut:"
       ]
      },
      {
       "output_type": "stream",
       "stream": "stdout",
       "text": [
        " RelHT_chi2<150.822343838\n",
        "Entries in Signal Sample= 176.0\n",
        "Entries in Control Sample= 1378.0\n",
        "--------------------------------\n",
        "Cut:"
       ]
      },
      {
       "output_type": "stream",
       "stream": "stdout",
       "text": [
        " RelHT_chi2<162.705844686\n",
        "Entries in Signal Sample= 182.0\n",
        "Entries in Control Sample= 1405.0\n",
        "--------------------------------\n",
        "Cut:"
       ]
      },
      {
       "output_type": "stream",
       "stream": "stdout",
       "text": [
        " RelHT_chi2<175.525662984\n",
        "Entries in Signal Sample= 184.0\n",
        "Entries in Control Sample= 1422.0\n",
        "--------------------------------\n",
        "Cut:"
       ]
      },
      {
       "output_type": "stream",
       "stream": "stdout",
       "text": [
        " RelHT_chi2<189.355572478\n",
        "Entries in Signal Sample= 187.0\n",
        "Entries in Control Sample= 1442.0\n",
        "--------------------------------\n",
        "Cut:"
       ]
      },
      {
       "output_type": "stream",
       "stream": "stdout",
       "text": [
        " RelHT_chi2<204.275159649\n",
        "Entries in Signal Sample= 188.0\n",
        "Entries in Control Sample= 1460.0\n",
        "--------------------------------\n",
        "Cut:"
       ]
      },
      {
       "output_type": "stream",
       "stream": "stdout",
       "text": [
        " RelHT_chi2<220.370281705\n",
        "Entries in Signal Sample= 188.0\n",
        "Entries in Control Sample= 1476.0\n",
        "--------------------------------\n",
        "Cut:"
       ]
      },
      {
       "output_type": "stream",
       "stream": "stdout",
       "text": [
        " RelHT_chi2<237.733560666\n",
        "Entries in Signal Sample= 190.0\n",
        "Entries in Control Sample= 1494.0\n",
        "--------------------------------\n",
        "Cut:"
       ]
      },
      {
       "output_type": "stream",
       "stream": "stdout",
       "text": [
        " RelHT_chi2<256.464916365\n",
        "Entries in Signal Sample= 195.0\n",
        "Entries in Control Sample= 1509.0\n",
        "--------------------------------\n",
        "Cut:"
       ]
      },
      {
       "output_type": "stream",
       "stream": "stdout",
       "text": [
        " RelHT_chi2<276.672141459\n",
        "Entries in Signal Sample= 198.0\n",
        "Entries in Control Sample= 1522.0\n",
        "--------------------------------\n",
        "Cut:"
       ]
      },
      {
       "output_type": "stream",
       "stream": "stdout",
       "text": [
        " RelHT_chi2<298.471521736\n",
        "Entries in Signal Sample= 201.0\n",
        "Entries in Control Sample= 1532.0\n",
        "--------------------------------\n",
        "Cut:"
       ]
      },
      {
       "output_type": "stream",
       "stream": "stdout",
       "text": [
        " RelHT_chi2<321.988505304\n",
        "Entries in Signal Sample= 204.0\n",
        "Entries in Control Sample= 1552.0\n",
        "--------------------------------\n",
        "Cut:"
       ]
      },
      {
       "output_type": "stream",
       "stream": "stdout",
       "text": [
        " RelHT_chi2<347.358424499\n",
        "Entries in Signal Sample= 205.0\n",
        "Entries in Control Sample= 1574.0\n",
        "--------------------------------\n",
        "Cut:"
       ]
      },
      {
       "output_type": "stream",
       "stream": "stdout",
       "text": [
        " RelHT_chi2<374.727274678\n",
        "Entries in Signal Sample= 207.0\n",
        "Entries in Control Sample= 1599.0\n",
        "--------------------------------\n",
        "Cut:"
       ]
      },
      {
       "output_type": "stream",
       "stream": "stdout",
       "text": [
        " RelHT_chi2<404.252554375\n",
        "Entries in Signal Sample= 208.0\n",
        "Entries in Control Sample= 1615.0\n",
        "--------------------------------\n",
        "Cut:"
       ]
      },
      {
       "output_type": "stream",
       "stream": "stdout",
       "text": [
        " RelHT_chi2<436.104171652\n",
        "Entries in Signal Sample= 210.0\n",
        "Entries in Control Sample= 1633.0\n",
        "--------------------------------\n",
        "Cut:"
       ]
      },
      {
       "output_type": "stream",
       "stream": "stdout",
       "text": [
        " RelHT_chi2<470.465421861\n",
        "Entries in Signal Sample= 213.0\n",
        "Entries in Control Sample= 1641.0\n",
        "--------------------------------\n",
        "Cut:"
       ]
      },
      {
       "output_type": "stream",
       "stream": "stdout",
       "text": [
        " RelHT_chi2<507.534042448\n",
        "Entries in Signal Sample= 216.0\n",
        "Entries in Control Sample= 1653.0\n",
        "--------------------------------\n",
        "Cut:"
       ]
      },
      {
       "output_type": "stream",
       "stream": "stdout",
       "text": [
        " RelHT_chi2<547.523350865\n",
        "Entries in Signal Sample= 217.0\n",
        "Entries in Control Sample= 1665.0\n",
        "--------------------------------\n",
        "Cut:"
       ]
      },
      {
       "output_type": "stream",
       "stream": "stdout",
       "text": [
        " RelHT_chi2<590.663472141\n",
        "Entries in Signal Sample= 220.0\n",
        "Entries in Control Sample= 1675.0\n",
        "--------------------------------\n",
        "Cut:"
       ]
      },
      {
       "output_type": "stream",
       "stream": "stdout",
       "text": [
        " RelHT_chi2<637.202663176\n",
        "Entries in Signal Sample= 223.0\n",
        "Entries in Control Sample= 1688.0\n",
        "--------------------------------\n",
        "Cut:"
       ]
      },
      {
       "output_type": "stream",
       "stream": "stdout",
       "text": [
        " RelHT_chi2<687.408741371\n",
        "Entries in Signal Sample= 224.0\n",
        "Entries in Control Sample= 1693.0\n",
        "--------------------------------\n",
        "Cut:"
       ]
      },
      {
       "output_type": "stream",
       "stream": "stdout",
       "text": [
        " RelHT_chi2<741.570625832\n",
        "Entries in Signal Sample= 225.0\n",
        "Entries in Control Sample= 1702.0\n",
        "--------------------------------\n",
        "Cut:"
       ]
      },
      {
       "output_type": "stream",
       "stream": "stdout",
       "text": [
        " RelHT_chi2<800.0\n",
        "Entries in Signal Sample= 226.0\n",
        "Entries in Control Sample= 1705.0\n",
        "--------------------------------\n",
        "Cut:"
       ]
      },
      {
       "output_type": "stream",
       "stream": "stdout",
       "text": [
        " MTHAsym_chi2<2.0\n",
        "Entries in Signal Sample= 15.0\n",
        "Entries in Control Sample= 120.0\n",
        "--------------------------------\n",
        "Cut:"
       ]
      },
      {
       "output_type": "stream",
       "stream": "stdout",
       "text": [
        " MTHAsym_chi2<2.15758276321\n",
        "Entries in Signal Sample= 17.0\n",
        "Entries in Control Sample= 136.0\n",
        "--------------------------------\n",
        "Cut:"
       ]
      },
      {
       "output_type": "stream",
       "stream": "stdout",
       "text": [
        " MTHAsym_chi2<2.32758169006\n",
        "Entries in Signal Sample= 19.0\n",
        "Entries in Control Sample= 158.0\n",
        "--------------------------------\n",
        "Cut:"
       ]
      },
      {
       "output_type": "stream",
       "stream": "stdout",
       "text": [
        " MTHAsym_chi2<2.51097506722\n",
        "Entries in Signal Sample= 22.0\n",
        "Entries in Control Sample= 172.0\n",
        "--------------------------------\n",
        "Cut:"
       ]
      },
      {
       "output_type": "stream",
       "stream": "stdout",
       "text": [
        " MTHAsym_chi2<2.70881826195\n",
        "Entries in Signal Sample= 25.0\n",
        "Entries in Control Sample= 185.0\n",
        "--------------------------------\n",
        "Cut:"
       ]
      },
      {
       "output_type": "stream",
       "stream": "stdout",
       "text": [
        " MTHAsym_chi2<2.92224979532\n",
        "Entries in Signal Sample= 26.0\n",
        "Entries in Control Sample= 205.0\n",
        "--------------------------------\n",
        "Cut:"
       ]
      },
      {
       "output_type": "stream",
       "stream": "stdout",
       "text": [
        " MTHAsym_chi2<3.1524978941\n",
        "Entries in Signal Sample= 28.0\n",
        "Entries in Control Sample= 216.0\n",
        "--------------------------------\n",
        "Cut:"
       ]
      },
      {
       "output_type": "stream",
       "stream": "stdout",
       "text": [
        " MTHAsym_chi2<3.40088755869\n",
        "Entries in Signal Sample= 29.0\n",
        "Entries in Control Sample= 238.0\n",
        "--------------------------------\n",
        "Cut:"
       ]
      },
      {
       "output_type": "stream",
       "stream": "stdout",
       "text": [
        " MTHAsym_chi2<3.66884818812\n",
        "Entries in Signal Sample= 31.0\n",
        "Entries in Control Sample= 253.0\n",
        "--------------------------------\n",
        "Cut:"
       ]
      },
      {
       "output_type": "stream",
       "stream": "stdout",
       "text": [
        " MTHAsym_chi2<3.95792180577\n",
        "Entries in Signal Sample= 34.0\n",
        "Entries in Control Sample= 279.0\n",
        "--------------------------------\n",
        "Cut:"
       ]
      },
      {
       "output_type": "stream",
       "stream": "stdout",
       "text": [
        " MTHAsym_chi2<4.26977193314\n",
        "Entries in Signal Sample= 35.0\n",
        "Entries in Control Sample= 293.0\n",
        "--------------------------------\n",
        "Cut:"
       ]
      },
      {
       "output_type": "stream",
       "stream": "stdout",
       "text": [
        " MTHAsym_chi2<4.6061931629\n",
        "Entries in Signal Sample= 38.0\n",
        "Entries in Control Sample= 318.0\n",
        "--------------------------------\n",
        "Cut:"
       ]
      },
      {
       "output_type": "stream",
       "stream": "stdout",
       "text": [
        " MTHAsym_chi2<4.96912148615\n",
        "Entries in Signal Sample= 39.0\n",
        "Entries in Control Sample= 343.0\n",
        "--------------------------------\n",
        "Cut:"
       ]
      },
      {
       "output_type": "stream",
       "stream": "stdout",
       "text": [
        " MTHAsym_chi2<5.36064543341\n",
        "Entries in Signal Sample= 41.0\n",
        "Entries in Control Sample= 372.0\n",
        "--------------------------------\n",
        "Cut:"
       ]
      },
      {
       "output_type": "stream",
       "stream": "stdout",
       "text": [
        " MTHAsym_chi2<5.78301809341\n",
        "Entries in Signal Sample= 45.0\n",
        "Entries in Control Sample= 396.0\n",
        "--------------------------------\n",
        "Cut:"
       ]
      },
      {
       "output_type": "stream",
       "stream": "stdout",
       "text": [
        " MTHAsym_chi2<6.23867007885\n",
        "Entries in Signal Sample= 47.0\n",
        "Entries in Control Sample= 420.0\n",
        "--------------------------------\n",
        "Cut:"
       ]
      },
      {
       "output_type": "stream",
       "stream": "stdout",
       "text": [
        " MTHAsym_chi2<6.73022351375\n",
        "Entries in Signal Sample= 49.0\n",
        "Entries in Control Sample= 440.0\n",
        "--------------------------------\n",
        "Cut:"
       ]
      },
      {
       "output_type": "stream",
       "stream": "stdout",
       "text": [
        " MTHAsym_chi2<7.26050712292\n",
        "Entries in Signal Sample= 52.0\n",
        "Entries in Control Sample= 466.0\n",
        "--------------------------------\n",
        "Cut:"
       ]
      },
      {
       "output_type": "stream",
       "stream": "stdout",
       "text": [
        " MTHAsym_chi2<7.8325725103\n",
        "Entries in Signal Sample= 55.0\n",
        "Entries in Control Sample= 481.0\n",
        "--------------------------------\n",
        "Cut:"
       ]
      },
      {
       "output_type": "stream",
       "stream": "stdout",
       "text": [
        " MTHAsym_chi2<8.44971171992\n",
        "Entries in Signal Sample= 56.0\n",
        "Entries in Control Sample= 504.0\n",
        "--------------------------------\n",
        "Cut:"
       ]
      },
      {
       "output_type": "stream",
       "stream": "stdout",
       "text": [
        " MTHAsym_chi2<9.11547618051\n",
        "Entries in Signal Sample= 57.0\n",
        "Entries in Control Sample= 535.0\n",
        "--------------------------------\n",
        "Cut:"
       ]
      },
      {
       "output_type": "stream",
       "stream": "stdout",
       "text": [
        " MTHAsym_chi2<9.83369714277\n",
        "Entries in Signal Sample= 62.0\n",
        "Entries in Control Sample= 557.0\n",
        "--------------------------------\n",
        "Cut:"
       ]
      },
      {
       "output_type": "stream",
       "stream": "stdout",
       "text": [
        " MTHAsym_chi2<10.608507727\n",
        "Entries in Signal Sample= 68.0\n",
        "Entries in Control Sample= 589.0\n",
        "--------------------------------\n",
        "Cut:"
       ]
      },
      {
       "output_type": "stream",
       "stream": "stdout",
       "text": [
        " MTHAsym_chi2<11.4443667075\n",
        "Entries in Signal Sample= 71.0\n",
        "Entries in Control Sample= 619.0\n",
        "--------------------------------\n",
        "Cut:"
       ]
      },
      {
       "output_type": "stream",
       "stream": "stdout",
       "text": [
        " MTHAsym_chi2<12.346084172\n",
        "Entries in Signal Sample= 73.0\n",
        "Entries in Control Sample= 636.0\n",
        "--------------------------------\n",
        "Cut:"
       ]
      },
      {
       "output_type": "stream",
       "stream": "stdout",
       "text": [
        " MTHAsym_chi2<13.3188492014\n",
        "Entries in Signal Sample= 73.0\n",
        "Entries in Control Sample= 667.0\n",
        "--------------------------------\n",
        "Cut:"
       ]
      },
      {
       "output_type": "stream",
       "stream": "stdout",
       "text": [
        " MTHAsym_chi2<14.3682597314\n",
        "Entries in Signal Sample= 75.0\n",
        "Entries in Control Sample= 702.0\n",
        "--------------------------------\n",
        "Cut:"
       ]
      },
      {
       "output_type": "stream",
       "stream": "stdout",
       "text": [
        " MTHAsym_chi2<15.5003547669\n",
        "Entries in Signal Sample= 79.0\n",
        "Entries in Control Sample= 731.0\n",
        "--------------------------------\n",
        "Cut:"
       ]
      },
      {
       "output_type": "stream",
       "stream": "stdout",
       "text": [
        " MTHAsym_chi2<16.7216491344\n",
        "Entries in Signal Sample= 79.0\n",
        "Entries in Control Sample= 745.0\n",
        "--------------------------------\n",
        "Cut:"
       ]
      },
      {
       "output_type": "stream",
       "stream": "stdout",
       "text": [
        " MTHAsym_chi2<18.0391709724\n",
        "Entries in Signal Sample= 80.0\n",
        "Entries in Control Sample= 767.0\n",
        "--------------------------------\n",
        "Cut:"
       ]
      },
      {
       "output_type": "stream",
       "stream": "stdout",
       "text": [
        " MTHAsym_chi2<19.4605021764\n",
        "Entries in Signal Sample= 81.0\n",
        "Entries in Control Sample= 793.0\n",
        "--------------------------------\n",
        "Cut:"
       ]
      },
      {
       "output_type": "stream",
       "stream": "stdout",
       "text": [
        " MTHAsym_chi2<20.9938220296\n",
        "Entries in Signal Sample= 85.0\n",
        "Entries in Control Sample= 809.0\n",
        "--------------------------------\n",
        "Cut:"
       ]
      },
      {
       "output_type": "stream",
       "stream": "stdout",
       "text": [
        " MTHAsym_chi2<22.6479542725\n",
        "Entries in Signal Sample= 90.0\n",
        "Entries in Control Sample= 838.0\n",
        "--------------------------------\n",
        "Cut:"
       ]
      },
      {
       "output_type": "stream",
       "stream": "stdout",
       "text": [
        " MTHAsym_chi2<24.4324178802\n",
        "Entries in Signal Sample= 95.0\n",
        "Entries in Control Sample= 852.0\n",
        "--------------------------------\n",
        "Cut:"
       ]
      },
      {
       "output_type": "stream",
       "stream": "stdout",
       "text": [
        " MTHAsym_chi2<26.357481841\n",
        "Entries in Signal Sample= 98.0\n",
        "Entries in Control Sample= 874.0\n",
        "--------------------------------\n",
        "Cut:"
       ]
      },
      {
       "output_type": "stream",
       "stream": "stdout",
       "text": [
        " MTHAsym_chi2<28.4342242509\n",
        "Entries in Signal Sample= 105.0\n",
        "Entries in Control Sample= 903.0\n",
        "--------------------------------\n",
        "Cut:"
       ]
      },
      {
       "output_type": "stream",
       "stream": "stdout",
       "text": [
        " MTHAsym_chi2<30.6745960645\n",
        "Entries in Signal Sample= 105.0\n",
        "Entries in Control Sample= 919.0\n",
        "--------------------------------\n",
        "Cut:"
       ]
      },
      {
       "output_type": "stream",
       "stream": "stdout",
       "text": [
        " MTHAsym_chi2<33.0914898687\n",
        "Entries in Signal Sample= 108.0\n",
        "Entries in Control Sample= 936.0\n",
        "--------------------------------\n",
        "Cut:"
       ]
      },
      {
       "output_type": "stream",
       "stream": "stdout",
       "text": [
        " MTHAsym_chi2<35.6988140749\n",
        "Entries in Signal Sample= 110.0\n",
        "Entries in Control Sample= 966.0\n",
        "--------------------------------\n",
        "Cut:"
       ]
      },
      {
       "output_type": "stream",
       "stream": "stdout",
       "text": [
        " MTHAsym_chi2<38.5115729575\n",
        "Entries in Signal Sample= 113.0\n",
        "Entries in Control Sample= 991.0\n",
        "--------------------------------\n",
        "Cut:"
       ]
      },
      {
       "output_type": "stream",
       "stream": "stdout",
       "text": [
        " MTHAsym_chi2<41.5459529987\n",
        "Entries in Signal Sample= 114.0\n",
        "Entries in Control Sample= 1017.0\n",
        "--------------------------------\n",
        "Cut:"
       ]
      },
      {
       "output_type": "stream",
       "stream": "stdout",
       "text": [
        " MTHAsym_chi2<44.8194160356\n",
        "Entries in Signal Sample= 115.0\n",
        "Entries in Control Sample= 1037.0\n",
        "--------------------------------\n",
        "Cut:"
       ]
      },
      {
       "output_type": "stream",
       "stream": "stdout",
       "text": [
        " MTHAsym_chi2<48.3507997479\n",
        "Entries in Signal Sample= 123.0\n",
        "Entries in Control Sample= 1050.0\n",
        "--------------------------------\n",
        "Cut:"
       ]
      },
      {
       "output_type": "stream",
       "stream": "stdout",
       "text": [
        " MTHAsym_chi2<52.1604260618\n",
        "Entries in Signal Sample= 124.0\n",
        "Entries in Control Sample= 1084.0\n",
        "--------------------------------\n",
        "Cut:"
       ]
      },
      {
       "output_type": "stream",
       "stream": "stdout",
       "text": [
        " MTHAsym_chi2<56.2702180964\n",
        "Entries in Signal Sample= 127.0\n",
        "Entries in Control Sample= 1103.0\n",
        "--------------------------------\n",
        "Cut:"
       ]
      },
      {
       "output_type": "stream",
       "stream": "stdout",
       "text": [
        " MTHAsym_chi2<60.7038263235\n",
        "Entries in Signal Sample= 133.0\n",
        "Entries in Control Sample= 1123.0\n",
        "--------------------------------\n",
        "Cut:"
       ]
      },
      {
       "output_type": "stream",
       "stream": "stdout",
       "text": [
        " MTHAsym_chi2<65.4867646684\n",
        "Entries in Signal Sample= 137.0\n",
        "Entries in Control Sample= 1141.0\n",
        "--------------------------------\n",
        "Cut:"
       ]
      },
      {
       "output_type": "stream",
       "stream": "stdout",
       "text": [
        " MTHAsym_chi2<70.6465573335\n",
        "Entries in Signal Sample= 140.0\n",
        "Entries in Control Sample= 1155.0\n",
        "--------------------------------\n",
        "Cut:"
       ]
      },
      {
       "output_type": "stream",
       "stream": "stdout",
       "text": [
        " MTHAsym_chi2<76.2128971916\n",
        "Entries in Signal Sample= 141.0\n",
        "Entries in Control Sample= 1174.0\n",
        "--------------------------------\n",
        "Cut:"
       ]
      },
      {
       "output_type": "stream",
       "stream": "stdout",
       "text": [
        " MTHAsym_chi2<82.2178166576\n",
        "Entries in Signal Sample= 143.0\n",
        "Entries in Control Sample= 1198.0\n",
        "--------------------------------\n",
        "Cut:"
       ]
      },
      {
       "output_type": "stream",
       "stream": "stdout",
       "text": [
        " MTHAsym_chi2<88.6958720247\n",
        "Entries in Signal Sample= 143.0\n",
        "Entries in Control Sample= 1219.0\n",
        "--------------------------------\n",
        "Cut:"
       ]
      },
      {
       "output_type": "stream",
       "stream": "stdout",
       "text": [
        " MTHAsym_chi2<95.6843423243\n",
        "Entries in Signal Sample= 146.0\n",
        "Entries in Control Sample= 1243.0\n",
        "--------------------------------\n",
        "Cut:"
       ]
      },
      {
       "output_type": "stream",
       "stream": "stdout",
       "text": [
        " MTHAsym_chi2<103.223443854\n",
        "Entries in Signal Sample= 149.0\n",
        "Entries in Control Sample= 1271.0\n",
        "--------------------------------\n",
        "Cut:"
       ]
      },
      {
       "output_type": "stream",
       "stream": "stdout",
       "text": [
        " MTHAsym_chi2<111.35656161\n",
        "Entries in Signal Sample= 153.0\n",
        "Entries in Control Sample= 1286.0\n",
        "--------------------------------\n",
        "Cut:"
       ]
      },
      {
       "output_type": "stream",
       "stream": "stdout",
       "text": [
        " MTHAsym_chi2<120.13049895\n",
        "Entries in Signal Sample= 157.0\n",
        "Entries in Control Sample= 1309.0\n",
        "--------------------------------\n",
        "Cut:"
       ]
      },
      {
       "output_type": "stream",
       "stream": "stdout",
       "text": [
        " MTHAsym_chi2<129.595746935\n",
        "Entries in Signal Sample= 160.0\n",
        "Entries in Control Sample= 1334.0\n",
        "--------------------------------\n",
        "Cut:"
       ]
      },
      {
       "output_type": "stream",
       "stream": "stdout",
       "text": [
        " MTHAsym_chi2<139.806774886\n",
        "Entries in Signal Sample= 166.0\n",
        "Entries in Control Sample= 1356.0\n",
        "--------------------------------\n",
        "Cut:"
       ]
      },
      {
       "output_type": "stream",
       "stream": "stdout",
       "text": [
        " MTHAsym_chi2<150.822343838\n",
        "Entries in Signal Sample= 176.0\n",
        "Entries in Control Sample= 1378.0\n",
        "--------------------------------\n",
        "Cut:"
       ]
      },
      {
       "output_type": "stream",
       "stream": "stdout",
       "text": [
        " MTHAsym_chi2<162.705844686\n",
        "Entries in Signal Sample= 182.0\n",
        "Entries in Control Sample= 1405.0\n",
        "--------------------------------\n",
        "Cut:"
       ]
      },
      {
       "output_type": "stream",
       "stream": "stdout",
       "text": [
        " MTHAsym_chi2<175.525662984\n",
        "Entries in Signal Sample= 184.0\n",
        "Entries in Control Sample= 1422.0\n",
        "--------------------------------\n",
        "Cut:"
       ]
      },
      {
       "output_type": "stream",
       "stream": "stdout",
       "text": [
        " MTHAsym_chi2<189.355572478\n",
        "Entries in Signal Sample= 187.0\n",
        "Entries in Control Sample= 1442.0\n",
        "--------------------------------\n",
        "Cut:"
       ]
      },
      {
       "output_type": "stream",
       "stream": "stdout",
       "text": [
        " MTHAsym_chi2<204.275159649\n",
        "Entries in Signal Sample= 188.0\n",
        "Entries in Control Sample= 1460.0\n",
        "--------------------------------\n",
        "Cut:"
       ]
      },
      {
       "output_type": "stream",
       "stream": "stdout",
       "text": [
        " MTHAsym_chi2<220.370281705\n",
        "Entries in Signal Sample= 188.0\n",
        "Entries in Control Sample= 1476.0\n",
        "--------------------------------\n",
        "Cut:"
       ]
      },
      {
       "output_type": "stream",
       "stream": "stdout",
       "text": [
        " MTHAsym_chi2<237.733560666\n",
        "Entries in Signal Sample= 190.0\n",
        "Entries in Control Sample= 1494.0\n",
        "--------------------------------\n",
        "Cut:"
       ]
      },
      {
       "output_type": "stream",
       "stream": "stdout",
       "text": [
        " MTHAsym_chi2<256.464916365\n",
        "Entries in Signal Sample= 195.0\n",
        "Entries in Control Sample= 1509.0\n",
        "--------------------------------\n",
        "Cut:"
       ]
      },
      {
       "output_type": "stream",
       "stream": "stdout",
       "text": [
        " MTHAsym_chi2<276.672141459\n",
        "Entries in Signal Sample= 198.0\n",
        "Entries in Control Sample= 1522.0\n",
        "--------------------------------\n",
        "Cut:"
       ]
      },
      {
       "output_type": "stream",
       "stream": "stdout",
       "text": [
        " MTHAsym_chi2<298.471521736\n",
        "Entries in Signal Sample= 201.0\n",
        "Entries in Control Sample= 1532.0\n",
        "--------------------------------\n",
        "Cut:"
       ]
      },
      {
       "output_type": "stream",
       "stream": "stdout",
       "text": [
        " MTHAsym_chi2<321.988505304\n",
        "Entries in Signal Sample= 204.0\n",
        "Entries in Control Sample= 1552.0\n",
        "--------------------------------\n",
        "Cut:"
       ]
      },
      {
       "output_type": "stream",
       "stream": "stdout",
       "text": [
        " MTHAsym_chi2<347.358424499\n",
        "Entries in Signal Sample= 205.0\n",
        "Entries in Control Sample= 1574.0\n",
        "--------------------------------\n",
        "Cut:"
       ]
      },
      {
       "output_type": "stream",
       "stream": "stdout",
       "text": [
        " MTHAsym_chi2<374.727274678\n",
        "Entries in Signal Sample= 207.0\n",
        "Entries in Control Sample= 1599.0\n",
        "--------------------------------\n",
        "Cut:"
       ]
      },
      {
       "output_type": "stream",
       "stream": "stdout",
       "text": [
        " MTHAsym_chi2<404.252554375\n",
        "Entries in Signal Sample= 208.0\n",
        "Entries in Control Sample= 1615.0\n",
        "--------------------------------\n",
        "Cut:"
       ]
      },
      {
       "output_type": "stream",
       "stream": "stdout",
       "text": [
        " MTHAsym_chi2<436.104171652\n",
        "Entries in Signal Sample= 210.0\n",
        "Entries in Control Sample= 1633.0\n",
        "--------------------------------\n",
        "Cut:"
       ]
      },
      {
       "output_type": "stream",
       "stream": "stdout",
       "text": [
        " MTHAsym_chi2<470.465421861\n",
        "Entries in Signal Sample= 213.0\n",
        "Entries in Control Sample= 1641.0\n",
        "--------------------------------\n",
        "Cut:"
       ]
      },
      {
       "output_type": "stream",
       "stream": "stdout",
       "text": [
        " MTHAsym_chi2<507.534042448\n",
        "Entries in Signal Sample= 216.0\n",
        "Entries in Control Sample= 1653.0\n",
        "--------------------------------\n",
        "Cut:"
       ]
      },
      {
       "output_type": "stream",
       "stream": "stdout",
       "text": [
        " MTHAsym_chi2<547.523350865\n",
        "Entries in Signal Sample= 217.0\n",
        "Entries in Control Sample= 1665.0\n",
        "--------------------------------\n",
        "Cut:"
       ]
      },
      {
       "output_type": "stream",
       "stream": "stdout",
       "text": [
        " MTHAsym_chi2<590.663472141\n",
        "Entries in Signal Sample= 220.0\n",
        "Entries in Control Sample= 1675.0\n",
        "--------------------------------\n",
        "Cut:"
       ]
      },
      {
       "output_type": "stream",
       "stream": "stdout",
       "text": [
        " MTHAsym_chi2<637.202663176\n",
        "Entries in Signal Sample= 223.0\n",
        "Entries in Control Sample= 1688.0\n",
        "--------------------------------\n",
        "Cut:"
       ]
      },
      {
       "output_type": "stream",
       "stream": "stdout",
       "text": [
        " MTHAsym_chi2<687.408741371\n",
        "Entries in Signal Sample= 224.0\n",
        "Entries in Control Sample= 1693.0\n",
        "--------------------------------\n",
        "Cut:"
       ]
      },
      {
       "output_type": "stream",
       "stream": "stdout",
       "text": [
        " MTHAsym_chi2<741.570625832\n",
        "Entries in Signal Sample= 225.0\n",
        "Entries in Control Sample= 1702.0\n",
        "--------------------------------\n",
        "Cut:"
       ]
      },
      {
       "output_type": "stream",
       "stream": "stdout",
       "text": [
        " MTHAsym_chi2<800.0\n",
        "Entries in Signal Sample= 226.0\n",
        "Entries in Control Sample= 1705.0\n",
        "--------------------------------\n"
       ]
      }
     ],
     "prompt_number": 13
    },
    {
     "cell_type": "code",
     "collapsed": false,
     "input": [
      "for i in xrange(len(Titles)):\n",
      "    fig, ax = plt.subplots()\n",
      "    ax.plot(Chi2Cut[1], Chi2ResultsPerCut[i], 'kv', markersize=10.0)\n",
      "    ax.set_xlabel(\"$\\chi^{2}$\")\n",
      "    ax.set_ylabel(\"$\\chi^{2}/ndf$\")\n",
      "    ax.xaxis.label.set_fontsize(18)\n",
      "    ax.yaxis.label.set_fontsize(18)\n",
      "    ax.semilogx()\n",
      "    ax.set_xlim(left=Chi2Cut[1][0]*0.75,right=Chi2Cut[1][-1]*1.05)\n",
      "    ax.set_ylim(bottom=min(Chi2ResultsPerCut[i])*0.8,top=max(Chi2ResultsPerCut[i])*1.1)\n",
      "    fig.savefig(\"Arrays_V8V9V10/Chi2_opt_at_\"+Titles[i]+\"_OneCombination_Scan2To800Step10_LOGSpacing.pdf\")\n",
      "    fig.savefig(\"Arrays_V8V9V10/Chi2_opt_at_\"+Titles[i]+\"_OneCombination_Scan2To800Step10_LOGSpacing.png\")\n",
      "    del(fig); del(ax)\n",
      "    #plt.show()\n",
      "for i in xrange(len(Titles)):\n",
      "    fig, ax = plt.subplots()\n",
      "    ax.plot(Chi2Cut[1], PvalueResultsPerCut[i], 'kv', markersize=10.0)\n",
      "    ax.set_xlabel(\"$\\chi^{2}$\")\n",
      "    ax.set_ylabel(\"p-value\")\n",
      "    ax.xaxis.label.set_fontsize(18)\n",
      "    ax.yaxis.label.set_fontsize(18)\n",
      "    ax.set_yscale('log')\n",
      "    ax.set_xlim(left=Chi2Cut[1][0]*0.95,right=Chi2Cut[1][-1]*1.05)\n",
      "    ax.set_ylim(bottom=min(PvalueResultsPerCut[i])*0.9,top=max(PvalueResultsPerCut[i])*1.1)\n",
      "    fig.savefig(\"Arrays_V8V9V10/Pvalue_opt_at_\"+Titles[i]+\"_OneCombination_Scan2To800Step10.pdf\")\n",
      "    del(fig); del(ax)\n",
      "plt.close('all')"
     ],
     "language": "python",
     "metadata": {},
     "outputs": [],
     "prompt_number": 14
    },
    {
     "cell_type": "code",
     "collapsed": false,
     "input": [
      "print Chi2Cut[1]\n",
      "print Chi2ResultsPerCut\n",
      "print PvalueResultsPerCut"
     ],
     "language": "python",
     "metadata": {},
     "outputs": [
      {
       "output_type": "stream",
       "stream": "stdout",
       "text": [
        "[  2.   4.   6.   8.  10.  12.  14.  16.  18.  20.  22.  24.  26.  28.  30.]\n",
        "[[1.172035533483537, 1.6147114116278665, 1.8169593314920425, 2.1191288336867853, 2.4933644764089453, 2.5404930309375797, 2.6267856925254622, 2.9424513240163273, 2.6626347887929227, 2.4282824812148722, 2.55872135945617, 2.681408757412258, 2.523860611259462, 2.3900781669012363, 2.7318350679096057], [1.396430709231066, 1.2494170177310777, 1.431490341258288, 1.6092738319665834, 1.817062299249718, 1.8846083283036397, 1.7439323697737223, 1.8136007939133307, 1.7418110139245295, 1.5505678830958782, 1.770882703119973, 1.8814493317643084, 1.8900251895811782, 1.7103095453524926, 1.763054712591134], [1.3196399731700656, 1.1331617112818833, 1.3149070510295364, 1.4119574113149478, 1.5688361067126257, 1.6766615376963405, 1.4976039994098045, 1.4471926123832848, 1.3295516977438013, 1.2617413472250196, 1.5796767976015116, 1.6893402660948211, 1.7478595067399822, 1.6790154245755917, 1.7030811351596262], [1.3196399731700656, 1.0685416528832374, 1.216696558130849, 1.251938790021733, 1.2001678746649986, 1.2434750723581915, 1.095913354432475, 1.0170876295765032, 0.9858581039753196, 0.9135712566430954, 0.9818649325785633, 1.0159429892172211, 1.09940284911368, 1.212808012326149, 1.3135526304861467], [1.1866391345509772, 1.2652879979479346, 1.4154085938945369, 1.400747537365424, 1.535048053906524, 1.4121516147879074, 1.2768128559734693, 1.2086883595451625, 1.1686280108855116, 1.2807033096881162, 1.4489185813429135, 1.4652875577000604, 1.5253114115124058, 1.5624501905718147, 1.7057560875741888], [0.7901329362309398, 0.6151232748740989, 0.5960553107371069, 0.685919665257373, 0.8590574107056205, 0.8717563620103108, 0.783338636653402, 0.8051752541820171, 0.7613321579468473, 0.7671628577941978, 0.8328461197837326, 0.6596756512710141, 0.6539825871158771, 0.6389181498343364, 0.6921903554989867], [0.6849128219663934, 0.6963439272338534, 0.6802428074109174, 0.9117089768270378, 0.9857338436194139, 1.0150790087170305, 0.9628466805371226, 0.936774783389716, 0.920521350843395, 0.9583017728716432, 0.9950852659323672, 0.7764946376011088, 0.8562033604866042, 0.8793321474251374, 0.8913048383984248], [0.6849128219663934, 0.6963439272338534, 0.6802428074109174, 0.9117089768270378, 0.9857338436194139, 1.0150790087170305, 0.9628466805371226, 0.936774783389716, 0.920521350843395, 0.9583017728716432, 0.9950852659323672, 0.7764946376011088, 0.8562033604866042, 0.8793321474251374, 0.8913048383984248]]\n",
        "[[0.2396619214661224, 0.019386200733221354, 0.004559554276568816, 0.00040577128953037025, 1.4561967664155382e-05, 9.375237012514183e-06, 4.141048008111604e-06, 1.8711815720235756e-07, 2.9373917376706744e-06, 2.6556483131046967e-05, 7.898046325518669e-06, 2.4516795054504875e-06, 1.0956857994417611e-05, 3.763506858946231e-05, 1.5042667069645212e-06], [0.0761407411880182, 0.16687224273862492, 0.062067860161656135, 0.02011070315938496, 0.004556020911505611, 0.00271874722698022, 0.007827199788612299, 0.004676224093213558, 0.007948744174156808, 0.029645466170044033, 0.006426339721728517, 0.002786130921651808, 0.0026067765165802043, 0.009972724650895085, 0.006807034354944938], [0.11645808508385327, 0.2833526936347261, 0.11942223750526222, 0.06960643996861443, 0.026315537221953192, 0.01265385857071867, 0.041522663406278776, 0.056525320081955384, 0.11044184516400418, 0.1569907806284525, 0.024502153896857802, 0.0115739672278774, 0.00760674182460543, 0.012446614119703018, 0.010499994168114814], [0.11645808508385327, 0.3660040341911728, 0.1953588133906271, 0.16481311887135947, 0.21101885385644628, 0.17180040468998234, 0.32954614548186467, 0.43949254732169907, 0.4865684546757094, 0.5990079764488382, 0.49268702068444536, 0.44119002435106136, 0.3250464212273697, 0.19896557579656943, 0.12028149852751814], [0.22447971100024347, 0.15423128826581967, 0.06822048470611106, 0.07427409277672972, 0.032765122605183314, 0.06952782020100187, 0.14552024844451125, 0.20283858194968749, 0.24330177006007347, 0.14266706860020387, 0.055942940385052965, 0.050672592112010424, 0.03486837423782898, 0.02743933478280579, 0.010301939530446839], [0.7755312337631772, 0.947495560601, 0.9575573748660072, 0.8962626314986275, 0.6827715001272407, 0.6635909455815843, 0.7893403317308688, 0.7602836236323881, 0.8169190589185412, 0.8097894179905074, 0.7213751022134527, 0.9178930502757392, 0.9221696125001543, 0.9327794466752042, 0.8906269788684641], [0.8925681627999842, 0.8867951092033673, 0.9012092183783258, 0.6019141075713632, 0.4867585637009919, 0.4424728507205065, 0.5220568525988665, 0.5627240233342519, 0.5881502445228793, 0.529121011808234, 0.47250743320546007, 0.7981097581193379, 0.6870436817041339, 0.6520299673549013, 0.6336107481110272], [0.8925681627999842, 0.8867951092033673, 0.9012092183783258, 0.6019141075713632, 0.4867585637009919, 0.4424728507205065, 0.5220568525988665, 0.5627240233342519, 0.5881502445228793, 0.529121011808234, 0.47250743320546007, 0.7981097581193379, 0.6870436817041339, 0.6520299673549013, 0.6336107481110272]]\n"
       ]
      }
     ],
     "prompt_number": 6
    },
    {
     "cell_type": "heading",
     "level": 3,
     "metadata": {},
     "source": [
      "Calculating yields from MC after chi2 optimization"
     ]
    },
    {
     "cell_type": "code",
     "collapsed": false,
     "input": [
      "Cut1=ROOT.TCut(\"chi2<8\")\n",
      "CutFCLs=CutHT*Cut1*CutDRbb*CutDRWH*CutHM*CutM2HP*CutDRTp6thJ*CutRelHT\n",
      "SF=ROOT.TCut(\"weight\")\n",
      "PU=ROOT.TCut(\"PUR_function(NTI)\")\n",
      "CMC=SF*PU\n",
      "\n",
      "Masses=[600,650,700,750,800,850,900,950,1000]\n",
      "FitWindows=[100,100,150,150,150,150,150,150,150]\n",
      "MassPointsFit=[]; MassPointsSigmas=[]\n",
      "MassPointsChi2i2=[]; MassPointsNDF=[]\n",
      "MassPointsIntSignal=[]; MassPointsTTbar=[]; MassPointsQCD=[]; MassPointsE=[]; MassPointsO=[]\n",
      "MassPointsFullIntSignal=[]\n",
      "SignalH=[]\n",
      "\n",
      "M=[600.72,647.07,693.42,739.77,786.13,832.48,878.83,925.18,971.53]\n",
      "W=[34.21,36.75,39.29,41.83,44.37,46.91,49.45,51.99,54.53]\n",
      "NSigmas=2\n",
      "W=NSigmas*np.array(W)\n",
      "\n",
      "BinsLimits=\"(40,400,1600)\"\n",
      "\n",
      "BKGmTTbar = ROOT.TFile(\"Final_Measurement.root\", \"recreate\")\n",
      "\n",
      "counter=0\n",
      "for i in xrange(len(Masses)):\n",
      "    print \"---------------------------------------------\"\n",
      "    NMassPointsA[i].Draw(\"M5J >> M5jS\"+str(Masses[i])+\"_CutF\"+BinsLimits,CutFCLs*CMC)\n",
      "    M5JHS=ROOT.gDirectory.Get(\"M5jS\"+str(Masses[i])+\"_CutF\")\n",
      "    M5JHS.Sumw2(); M5JHS.Scale(NWeights[i]); M5JHS.Write()\n",
      "    SignalH.append(M5JHS)\n",
      "    \n",
      "    #f1=ROOT.TF1(\"f1\",\"gaus\",Masses[i]-FitWindows[i],Masses[i]+FitWindows[i])\n",
      "    #M5JHS.Fit(\"f1\",\"LMR\",\"same\")\n",
      "    #MassPoint=f1.GetParameter(1); win=f1.GetParameter(2)\n",
      "    #MassPointE=f1.GetParError(1); winE=f1.GetParError(2)\n",
      "    #Chi2=f1.GetChisquare(); NDF=f1.GetNDF()\n",
      "    window_error=ROOT.Double(0.)\n",
      "    #integral=M5JHS.IntegralAndError(M5JHS.GetXaxis().FindBin(MassPoint-win),M5JHS.GetXaxis().FindBin(MassPoint+win),window_error)\n",
      "    integral=M5JHS.IntegralAndError(M5JHS.GetXaxis().FindBin(M[i]-W[i]),M5JHS.GetXaxis().FindBin(M[i]+W[i]),window_error)\n",
      "    print \"M=\"+str(Masses[i])+\" GeV ------> {0:.2f}+-{1:.2f}\".format(integral,window_error)\n",
      "    #print \"Mean value: {0:.2f}+-{1:.2f}, with sigma: {2:.2f}+-{3:.2f}\".format(MassPoint,MassPointE,win,winE)\n",
      "    #print \"Chi2={0:.2f}, ndf={1:.2f}, Chi2/ndf={2:.2f}\".format(Chi2, NDF, Chi2/NDF)\n",
      "    MassPointsIntSignal.append(integral)#; MassPointsFit.append(MassPoint); MassPointsSigmas.append(win); MassPointsChi2.append(Chi2); MassPointsNDF.append(NDF)\n",
      "    MassPointsFullIntSignal.append(M5JHS.Integral())\n",
      "    \n",
      "TntupleA.Draw(\"M5J >> M5jT_CutFCLs\"+str(i)+BinsLimits,CutFCLs*CMC)\n",
      "M5JHT=ROOT.gDirectory.Get(\"M5jT_CutFCLs\"+str(i))\n",
      "M5JHT.Sumw2(); M5JHT.Scale(TWeight); M5JHT.Write()\n",
      "\n",
      "TTbarYields=[]\n",
      "for i in xrange(len(Masses)):\n",
      "    #bkg_integral=M5JHT.IntegralAndError(M5JHT.GetXaxis().FindBin(MassPointsFit[i]-MassPointsSigmas[i]),M5JHT.GetXaxis().FindBin(MassPointsFit[i]+MassPointsSigmas[i]),window_error)\n",
      "    bkg_integral=M5JHT.IntegralAndError(M5JHT.GetXaxis().FindBin(M[i]-W[i]),M5JHT.GetXaxis().FindBin(M[i]+W[i]),window_error)\n",
      "    TTbarYields.append(bkg_integral)\n",
      "    print \"TTbar at \"+str(Masses[i])+\" ------> {0:.2f}+-{1:.2f}\".format(bkg_integral,window_error)\n",
      "    MassPointsTTbar.append(bkg_integral)\n",
      "\n",
      "QntuplesA[0].Draw(\"M5J >> M5jQ_CutFCLs\"+str(i)+BinsLimits,CutFCLs*CMC)\n",
      "M5JHQ=ROOT.gDirectory.Get(\"M5jQ_CutFCLs\"+str(i))\n",
      "M5JHQ.Sumw2(); M5JHQ.Scale(QWeights[0]); M5JHQ.Write()\n",
      "for i in xrange(len(Masses)):\n",
      "    #bkg_integral=M5JHQ.IntegralAndError(M5JHQ.GetXaxis().FindBin(MassPointsFit[i]-MassPointsSigmas[i]),M5JHQ.GetXaxis().FindBin(MassPointsFit[i]+MassPointsSigmas[i]),window_error)\n",
      "    bkg_integral=M5JHQ.IntegralAndError(M5JHQ.GetXaxis().FindBin(M[i]-W[i]),M5JHQ.GetXaxis().FindBin(M[i]+W[i]),window_error)\n",
      "    MassPointsQCD.append(bkg_integral)\n",
      "    print \"QCD at \"+str(Masses[i])+\" ------> {0:.2f}+-{1:.2f}\".format(bkg_integral,window_error)\n",
      "    \n",
      "DataE[0].Draw(\"M5J >> M5jE_CutFCLs\"+str(i)+BinsLimits,CutFCLs)\n",
      "M5JE=ROOT.gDirectory.Get(\"M5jE_CutFCLs\"+str(i))\n",
      "DataA[0].Draw(\"M5J >> M5jO_CutFCLs\"+str(i)+BinsLimits,CutFCLs)\n",
      "M5JO=ROOT.gDirectory.Get(\"M5jO_CutFCLs\"+str(i))\n",
      "\n",
      "#Rescaling to integral\n",
      "#M5JE.Sumw2(); M5JE.Scale(M5JO.Integral()/M5JE.Integral()); M5JE.Write(); M5JO.Write()\n",
      "#Rescaling to normalization with side-band method\n",
      "M5JE.Sumw2(); M5JE.Scale(49.98/M5JE.Integral()); M5JE.Write(); M5JO.Write()\n",
      "\n",
      "for i in xrange(len(Masses)):\n",
      "    #bkg_integral=M5JE.IntegralAndError(M5JE.GetXaxis().FindBin(MassPointsFit[i]-MassPointsSigmas[i]),M5JE.GetXaxis().FindBin(MassPointsFit[i]+MassPointsSigmas[i]),window_error)\n",
      "    bkg_integral=M5JE.IntegralAndError(M5JE.GetXaxis().FindBin(M[i]-W[i]),M5JE.GetXaxis().FindBin(M[i]+W[i]),window_error)\n",
      "    MassPointsE.append(bkg_integral)\n",
      "    print \"Estimation at \"+str(Masses[i])+\" ------> {0:.2f}+-{1:.2f}; TTbar content: {2:.2f}\".format(bkg_integral,window_error,TTbarYields[i]*100/bkg_integral)\n",
      "for i in xrange(len(Masses)):\n",
      "    #bkg_integral=M5JO.IntegralAndError(M5JO.GetXaxis().FindBin(MassPointsFit[i]-MassPointsSigmas[i]),M5JO.GetXaxis().FindBin(MassPointsFit[i]+MassPointsSigmas[i]),window_error)\n",
      "    bkg_integral=M5JO.IntegralAndError(M5JO.GetXaxis().FindBin(M[i]-W[i]),M5JO.GetXaxis().FindBin(M[i]+W[i]),window_error)\n",
      "    MassPointsO.append(bkg_integral)\n",
      "    print \"Observed at \"+str(Masses[i])+\" ------> {0:.2f}+-{1:.2f}\".format(bkg_integral,window_error)\n",
      "\n",
      "TotalObsEvts=M5JO.Integral()\n",
      "print \"From {0:.2f} total observed events\".format(TotalObsEvts)\n",
      "for i in xrange(len(MassPointsIntSignal)):\n",
      "    print \"Contamination from \"+str(Masses[i])+\" ------> {0:.2f}\".format(MassPointsFullIntSignal[i]/TotalObsEvts)\n",
      "\n",
      "Subs1=M5JE.Clone(\"M5jE_CutFCLs_TTbarSubs\")\n",
      "Subs2=M5JO.Clone(\"M5jO_CutFCLs_BKGSubs\")\n",
      "Subs1.Add(M5JHT,-1)\n",
      "Subs2.Add(M5JE,-1)\n",
      "Subs1.Write(); Subs2.Write()\n",
      "\n",
      "PDFNameScan=\"Final_Plot.pdf\"\n",
      "CurCanv = rootnotes.canvas(\"MyPlot\", (600, 800))\n",
      "Subs2.SetLineStyle(1); SignalH[1].SetLineStyle(9); SignalH[5].SetLineStyle(2)\n",
      "Subs2.SetLineWidth(1); SignalH[1].SetLineWidth(2); SignalH[5].SetLineWidth(3)\n",
      "Subs2.SetLineColor(ROOT.kBlack); SignalH[1].SetLineColor(ROOT.kRed); SignalH[5].SetLineColor(ROOT.kGreen+2)\n",
      "Subs2.SetMarkerStyle(20)\n",
      "LEG=ROOT.TLegend(0.6,0.78,0.9,0.9)\n",
      "LEG.AddEntry(Subs2, \"Data-BKG\", \"pe\"); LEG.AddEntry(SignalH[1], \"Signal M=650 GeV/c^{2}\", \"l\"); LEG.AddEntry(SignalH[5], \"Signal M=850 GeV/c^{2}\", \"l\")\n",
      "LEG.SetFillColor(0)\n",
      "Subs2.SetStats(ROOT.kFALSE)\n",
      "MinX=float(BinsLimits.split(\",\")[1])\n",
      "MaxX=float(BinsLimits.split(\",\")[-1][0:-1])\n",
      "Nbins=int(BinsLimits.split(\",\")[0][1:])\n",
      "Subs2.SetTitle(\";M_{{5j}};Events/{0:.1f} GeV/c^{{2}}\".format((MaxX-MinX)/Nbins))\n",
      "Subs2.GetYaxis().SetTitleOffset(1.5)\n",
      "Subs2.GetXaxis().SetRangeUser(550,1100)\n",
      "Subs2.Draw(\"E0X0\"); SignalH[1].Draw(\"hist same\"); SignalH[5].Draw(\"hist same\"); LEG.Draw()\n",
      "CurCanv.Print(PDFNameScan+\")\",\"Title: Final Plot\")\n",
      "\n",
      "BKGmTTbar.Close()"
     ],
     "language": "python",
     "metadata": {},
     "outputs": [
      {
       "output_type": "stream",
       "stream": "stdout",
       "text": [
        "---------------------------------------------\n",
        "M=600 GeV ------> 5.16+-0.38\n",
        "---------------------------------------------\n",
        "M=650 GeV ------> 8.15+-0.42\n",
        "---------------------------------------------\n",
        "M=700 GeV ------> 8.87+-0.39\n",
        "---------------------------------------------\n",
        "M=750 GeV ------> 8.52+-0.35"
       ]
      },
      {
       "output_type": "stream",
       "stream": "stdout",
       "text": [
        "\n",
        "---------------------------------------------\n",
        "M=800 GeV ------> 7.37+-0.30\n",
        "---------------------------------------------\n",
        "M=850 GeV ------> 6.94+-0.27\n",
        "---------------------------------------------\n",
        "M=900 GeV ------> 5.87+-0.23\n",
        "---------------------------------------------\n",
        "M=950 GeV ------> 4.27+-0.18"
       ]
      },
      {
       "output_type": "stream",
       "stream": "stdout",
       "text": [
        "\n",
        "---------------------------------------------\n",
        "M=1000 GeV ------> 3.02+-0.14\n",
        "TTbar at 600 ------> 6.48+-0.71"
       ]
      },
      {
       "output_type": "stream",
       "stream": "stdout",
       "text": [
        "\n",
        "TTbar at 650 ------> 9.60+-0.87\n",
        "TTbar at 700 ------> 10.89+-0.93\n",
        "TTbar at 750 ------> 11.51+-0.95\n",
        "TTbar at 800 ------> 10.64+-0.92\n",
        "TTbar at 850 ------> 7.54+-0.77\n",
        "TTbar at 900 ------> 6.48+-0.71\n",
        "TTbar at 950 ------> 3.94+-0.56\n",
        "TTbar at 1000 ------> 2.69+-0.46\n",
        "QCD at 600 ------> 0.00+-0.00\n",
        "QCD at 650 ------> 0.00+-0.00\n",
        "QCD at 700 ------> 0.00+-0.00\n",
        "QCD at 750 ------> 0.00+-0.00\n",
        "QCD at 800 ------> 0.00+-0.00\n",
        "QCD at 850 ------> 0.00+-0.00\n",
        "QCD at 900 ------> 0.00+-0.00\n",
        "QCD at 950 ------> 0.00+-0.00\n",
        "QCD at 1000 ------> 0.00+-0.00\n",
        "Estimation at 600 ------> 17.04+-1.33; TTbar content: 38.05"
       ]
      },
      {
       "output_type": "stream",
       "stream": "stdout",
       "text": [
        "\n",
        "Estimation at 650 ------> 22.31+-1.52; TTbar content: 43.03\n",
        "Estimation at 700 ------> 20.03+-1.44; TTbar content: 54.34\n",
        "Estimation at 750 ------> 19.52+-1.42; TTbar content: 58.99\n",
        "Estimation at 800 ------> 19.10+-1.40; TTbar content: 55.71\n",
        "Estimation at 850 ------> 14.25+-1.21; TTbar content: 52.88\n",
        "Estimation at 900 ------> 14.46+-1.22; TTbar content: 44.83\n",
        "Estimation at 950 ------> 10.53+-1.04; TTbar content: 37.36\n",
        "Estimation at 1000 ------> 11.36+-1.08; TTbar content: 23.66\n",
        "Observed at 600 ------> 22.00+-4.69\n",
        "Observed at 650 ------> 33.00+-5.74\n",
        "Observed at 700 ------> 25.00+-5.00\n",
        "Observed at 750 ------> 24.00+-4.90\n",
        "Observed at 800 ------> 21.00+-4.58\n",
        "Observed at 850 ------> 12.00+-3.46\n",
        "Observed at 900 ------> 10.00+-3.16\n",
        "Observed at 950 ------> 9.00+-3.00\n",
        "Observed at 1000 ------> 8.00+-2.83\n",
        "From 55.00 total observed events\n",
        "Contamination from 600 ------> 0.10\n",
        "Contamination from 650 ------> 0.15\n",
        "Contamination from 700 ------> 0.17\n",
        "Contamination from 750 ------> 0.16\n",
        "Contamination from 800 ------> 0.14\n",
        "Contamination from 850 ------> 0.13\n",
        "Contamination from 900 ------> 0.11\n",
        "Contamination from 950 ------> 0.08\n",
        "Contamination from 1000 ------> 0.06\n"
       ]
      }
     ],
     "prompt_number": 7
    },
    {
     "cell_type": "code",
     "collapsed": false,
     "input": [
      "CutsFromOpt=[ROOT.TCut(\"\"),Cut1,CutDRbb,CutDRWH,CutM2HP,CutDRTp6thJ,CutHM,CutRelHT,CutMTHAsym]\n",
      "#OptVersion=\"_22_opt_with_optchi2\"\n",
      "OptVersion=\"_optchi2_Chi2l8_Cut_6p8_4p8_0p6\"\n",
      "\n",
      "CumulCut=ROOT.TCut(\"\")*CutHT\n",
      "\n",
      "VarToExt=\"M5J\"\n",
      "\n",
      "Nm1 = ROOT.TFile(VarToExt+\"_Nminus1\"+OptVersion+\".root\", \"recreate\")\n",
      "\n",
      "SignalEntriesE=[]; TTbarEntriesE=[]; QCDEntriesE=[]\n",
      "\n",
      "PDFName=VarToExt+\"_Nminus1\"+OptVersion+\".pdf\"\n",
      "CurCanv = rootnotes.canvas(\"MyPlot\", (600, 800))\n",
      "Titles=[\"Base\",\"chi2\", \"DRbb\", \"DRWH\", \"M2HP\", \"DRTp6thJ\", \"HiggsMass\", \"RelHT\", \"MTHAsym\"]\n",
      "\n",
      "BinsLimits=\"(120,400,1600)\" #M5J\n",
      "#BinsLimits=\"(100,0,1000)\" #chi2\n",
      "\n",
      "for i in xrange(len(CutsFromOpt)):\n",
      "    CumulCut=CumulCut*CutsFromOpt[i]\n",
      "    \n",
      "    NMassPointsA[2].Draw(VarToExt+\" >> M5jS_Cut\"+str(i)+BinsLimits,CumulCut)\n",
      "    M5JHS=ROOT.gDirectory.Get(\"M5jS_Cut\"+str(i))\n",
      "    M5JHS.Sumw2(); M5JHS.Scale(NWeights[2]); M5JHS.Write()\n",
      "    \n",
      "    TntupleA.Draw(VarToExt+\" >> M5jT_Cut\"+str(i)+BinsLimits,CumulCut)\n",
      "    M5JHT=ROOT.gDirectory.Get(\"M5jT_Cut\"+str(i))\n",
      "    M5JHT.Sumw2(); M5JHT.Scale(TWeight); M5JHT.Write()\n",
      "    \n",
      "    QntuplesA[0].Draw(VarToExt+\" >> M5jQ_Cut\"+str(i)+BinsLimits,CumulCut)\n",
      "    M5JHQ=ROOT.gDirectory.Get(\"M5jQ_Cut\"+str(i))\n",
      "    M5JHQ.Sumw2(); M5JHQ.Scale(QWeights[0]); M5JHQ.Write()\n",
      "        \n",
      "    M5JHQ.SetStats(ROOT.kFALSE)\n",
      "    M5JHQ.SetLineStyle(7); M5JHT.SetLineStyle(9); M5JHS.SetLineStyle(1)\n",
      "    M5JHQ.SetLineWidth(2); M5JHT.SetLineWidth(1); M5JHS.SetLineWidth(3)\n",
      "    M5JHQ.SetLineColor(ROOT.kViolet+1); M5JHT.SetLineColor(ROOT.kRed); M5JHS.SetLineColor(ROOT.kGreen+1)\n",
      "    LEG=ROOT.TLegend(0.6,0.6,0.8,0.8)\n",
      "    LEG.AddEntry(M5JHQ, \"QCD\", \"l\"); LEG.AddEntry(M5JHT, \"TTbar\", \"l\"); LEG.AddEntry(M5JHS, \"Signal\", \"l\")\n",
      "    LEG.SetFillColor(0)\n",
      "    Maxima=[M5JHQ.GetMaximum(),M5JHT.GetMaximum(),M5JHS.GetMaximum()]\n",
      "    M5JHQ.SetMaximum(max(Maxima))\n",
      "    M5JHQ.Draw(\"hist\"); M5JHT.Draw(\"hist same\"); M5JHS.Draw(\"hist same\"); LEG.Draw()\n",
      "    \n",
      "    if i==0: CurCanv.Print(PDFName+\"(\",\"Title:\"+Titles[i])\n",
      "    elif i<=len(CutsFromOpt)-2 and i>0: CurCanv.Print(PDFName,\"Title:\"+Titles[i])\n",
      "    else: CurCanv.Print(PDFName+\")\",\"Title:\"+Titles[i])\n",
      "    \n",
      "    SignalEntriesE.append(M5JHS.GetEntries()); TTbarEntriesE.append(M5JHT.GetEntries()); QCDEntriesE.append(M5JHQ.GetEntries())\n",
      "\n",
      "Nm1.Close()\n",
      "\n",
      "print \"--------------------------------------------------\"\n",
      "print \"------------------Efficiencies--------------------\"\n",
      "print \"--------Signal------TTbar-------QCD---------------\"\n",
      "    \n",
      "for i in xrange(len(TTbarEntriesE)-1):\n",
      "    print \"Cut\"+str(i+1)+\":    {0:.2f}      {1:.2f}      {2:.2f}\".format(100*EffV(SignalEntriesE[i+1],SignalEntriesE[i]),\n",
      "                                           100*EffV(TTbarEntriesE[i+1],TTbarEntriesE[i]),\n",
      "                                           100*EffV(QCDEntriesE[i+1],QCDEntriesE[i]))"
     ],
     "language": "python",
     "metadata": {},
     "outputs": [
      {
       "output_type": "stream",
       "stream": "stdout",
       "text": [
        "--------------------------------------------------\n",
        "------------------Efficiencies--------------------\n",
        "--------Signal------TTbar-------QCD---------------\n",
        "Cut1:    48.36      33.23      9.53\n",
        "Cut2:    91.15      40.45      37.07\n",
        "Cut3:    98.35      89.48      81.54\n",
        "Cut4:    63.30      28.17      51.57\n",
        "Cut5:    56.04      12.01      8.54\n",
        "Cut6:    89.15      74.06      71.43\n",
        "Cut7:    89.24      59.91      0.00\n",
        "Cut8:    100.00      100.00      0.00\n"
       ]
      }
     ],
     "prompt_number": 8
    },
    {
     "cell_type": "code",
     "collapsed": false,
     "input": [
      "CutsFromOpt=[ROOT.TCut(\"\"),Cut1,CutDRbb,CutDRWH,CutM2HP,CutDRTp6thJ,CutHM,CutRelHT,CutMTHAsym]\n",
      "#OptVersion=\"_22_opt_with_optchi2\"\n",
      "OptVersion=\"_optchi2_chi2g8_Cut_6p8_4p9_0p67\"\n",
      "\n",
      "CumulCut=ROOT.TCut(\"\")*CutHT\n",
      "\n",
      "Nm1 = ROOT.TFile(\"Nminus1\"+OptVersion+\".root\", \"recreate\")\n",
      "\n",
      "VarToExt=\"M5J\"\n",
      "\n",
      "PDFName=VarToExt+\"_Nminus1\"+OptVersion+\".pdf\"\n",
      "CurCanv = rootnotes.canvas(\"MyPlot\", (600, 800))\n",
      "Titles=[\"Base\",\"chi2\", \"DRbb\", \"DRWH\", \"M2HP\", \"DRTp6thJ\", \"HiggsMass\", \"RelHT\", \"MTHAsym\"]\n",
      "\n",
      "BinsLimits=\"(120,400,1600)\" #M5J\n",
      "#BinsLimits=\"(100,0,1000)\" #chi2\n",
      "\n",
      "for i in xrange(len(CutsFromOpt)):\n",
      "    CumulCut=CumulCut*CutsFromOpt[i]\n",
      "    \n",
      "    NMassPointsA[2].Draw(VarToExt+\" >> M5jS_Cut\"+str(i)+BinsLimits,CumulCut)\n",
      "    M5JHS=ROOT.gDirectory.Get(\"M5jS_Cut\"+str(i))\n",
      "    M5JHS.Sumw2(); M5JHS.Scale(NWeights[2]); M5JHS.Write()\n",
      "    \n",
      "    TntupleA.Draw(VarToExt+\" >> M5jT_Cut\"+str(i)+BinsLimits,CumulCut)\n",
      "    M5JHT=ROOT.gDirectory.Get(\"M5jT_Cut\"+str(i))\n",
      "    M5JHT.Sumw2(); M5JHT.Scale(TWeight); M5JHT.Write()\n",
      "    \n",
      "    QntuplesA[0].Draw(VarToExt+\" >> M5jQ_Cut\"+str(i)+BinsLimits,CumulCut)\n",
      "    M5JHQ=ROOT.gDirectory.Get(\"M5jQ_Cut\"+str(i))\n",
      "    M5JHQ.Sumw2(); M5JHQ.Scale(QWeights[0]); M5JHQ.Write()\n",
      "        \n",
      "    M5JHQ.SetStats(ROOT.kFALSE)\n",
      "    M5JHQ.SetLineStyle(7); M5JHT.SetLineStyle(9); M5JHS.SetLineStyle(1)\n",
      "    M5JHQ.SetLineWidth(2); M5JHT.SetLineWidth(1); M5JHS.SetLineWidth(3)\n",
      "    M5JHQ.SetLineColor(ROOT.kViolet+1); M5JHT.SetLineColor(ROOT.kRed); M5JHS.SetLineColor(ROOT.kGreen+1)\n",
      "    LEG=ROOT.TLegend(0.6,0.6,0.8,0.8)\n",
      "    LEG.AddEntry(M5JHQ, \"QCD\", \"l\"); LEG.AddEntry(M5JHT, \"TTbar\", \"l\"); LEG.AddEntry(M5JHS, \"Signal\", \"l\")\n",
      "    LEG.SetFillColor(0)\n",
      "    Maxima=[M5JHQ.GetMaximum(),M5JHT.GetMaximum(),M5JHS.GetMaximum()]\n",
      "    M5JHQ.SetMaximum(max(Maxima))\n",
      "    M5JHQ.Draw(\"hist\"); M5JHT.Draw(\"hist same\"); M5JHS.Draw(\"hist same\"); LEG.Draw()\n",
      "    \n",
      "    if i==0: CurCanv.Print(PDFName+\"(\",\"Title:\"+Titles[i])\n",
      "    elif i<=len(CutsFromOpt)-2 and i>0: CurCanv.Print(PDFName,\"Title:\"+Titles[i])\n",
      "    else: CurCanv.Print(PDFName+\")\",\"Title:\"+Titles[i])\n",
      "    \n",
      "Nm1.Close()"
     ],
     "language": "python",
     "metadata": {},
     "outputs": [],
     "prompt_number": 9
    },
    {
     "cell_type": "heading",
     "level": 3,
     "metadata": {},
     "source": [
      "Normalization Study"
     ]
    },
    {
     "cell_type": "code",
     "collapsed": false,
     "input": [
      "CutsFromCLs=[ROOT.TCut(\"\"),Cut1,CutDRbb,CutDRWH,CutM2HP,CutDRTp6thJ,CutHM,CutRelHT,CutMTHAsym]\n",
      "\n",
      "OptVersion=\"_bkg_estimation_chi2g8_\"+NominalV\n",
      "\n",
      "CumulCut=ROOT.TCut(\"\")*CutHT\n",
      "\n",
      "SignalEntriesE=[]; TTbarEntriesE=[]; QCDEntriesE=[]\n",
      "\n",
      "PDFName=\"Nminus1\"+OptVersion+\"_NormStudy.pdf\"\n",
      "CurCanv = rootnotes.canvas(\"MyPlot\", (600, 800))\n",
      "\n",
      "BinsLimits=\"(30,550,1100)\"\n",
      "\n",
      "EntSS=[]; EntCS=[]\n",
      "EffSS=[]; EffCS=[]\n",
      "\n",
      "for j in xrange(len(CutsFromCLs)):\n",
      "    CumulCut=CumulCut*CutsFromCLs[j]\n",
      "    print \"Cut:\", CumulCut\n",
      "        \n",
      "    DataA[0].Draw(\"M5J >> M5JA_Cut\"+str(j)+BinsLimits,CumulCut)\n",
      "    M5JDA=ROOT.gDirectory.Get(\"M5JA_Cut\"+str(j))\n",
      "    print \"Events in signal sample:\", M5JDA.GetEntries()\n",
      "    EntSS.append(M5JDA.GetEntries())\n",
      "    if j>0: \n",
      "        EffSS.append(EntSS[-1]/EntSS[-2])\n",
      "        print \"Signal sample efficiency: {0:.2f}\".format(EffSS[-1])\n",
      "        \n",
      "    DataE[0].Draw(\"M5J >> M5JE_Cut\"+str(j)+BinsLimits,CumulCut)\n",
      "    M5JDE=ROOT.gDirectory.Get(\"M5JE_Cut\"+str(j))\n",
      "    print \"Events in control sample:\", M5JDE.GetEntries()\n",
      "    EntCS.append(M5JDE.GetEntries())\n",
      "    if j>0: \n",
      "        EffCS.append(EntCS[-1]/EntCS[-2])\n",
      "        print \"Control sample efficiency: {0:.2f}\".format(EffCS[-1])\n",
      "        \n",
      "    M5JDE.SetStats(ROOT.kFALSE)\n",
      "    M5JDE.SetLineStyle(7); M5JDA.SetLineStyle(1)\n",
      "    M5JDE.SetLineWidth(2); M5JDA.SetLineWidth(1)\n",
      "    M5JDE.SetLineColor(ROOT.kBlue); M5JDA.SetLineColor(ROOT.kBlack)\n",
      "    #M5JDE.Sumw2(); M5JDE.Scale(M5JDA.Integral()/M5JDE.Integral())\n",
      "    M5JDE.SetMaximum(max(M5JDA.GetMaximum(),M5JDE.GetMaximum())*1.05)\n",
      "    M5JDE.SetMinimum(min(M5JDA.GetMinimum(),M5JDE.GetMinimum())*0.95)\n",
      "    LEG=ROOT.TLegend(0.65,0.65,0.9,0.9); LEG.SetTextSize(0.015)\n",
      "    LEG.AddEntry(M5JDA, \"Signal Sample\", \"l\"); LEG.AddEntry(M5JDE, \"Control Sample\", \"l\")\n",
      "    LEG.SetFillColor(0)\n",
      "    MinX=float(BinsLimits.split(\",\")[1])\n",
      "    MaxX=float(BinsLimits.split(\",\")[-1][0:-1])\n",
      "    Nbins=int(BinsLimits.split(\",\")[0][1:])\n",
      "    M5JDE.SetTitle(\";M(5j) GeV/c^{2}\"+\";Events/{0:.1f} \".format((MaxX-MinX)/Nbins)+\"GeV/c^{2}\")\n",
      "    M5JDA.SetTitle(\";M(5j) GeV/c^{2}\"+\";Events/{0:.1f} \".format((MaxX-MinX)/Nbins)+\"GeV/c^{2}\")\n",
      "    M5JDE.GetYaxis().SetTitleOffset(1.65)\n",
      "    M5JDA.GetYaxis().SetTitleOffset(1.65)\n",
      "    M5JDE.Draw(\"E hist\"); M5JDA.Draw(\"E hist same\"); LEG.Draw()\n",
      "\n",
      "    if j==0: CurCanv.Print(PDFName+\"(\",\"Title:Cut_\"+str(j))\n",
      "    elif j==(len(CutsFromCLs)-1): CurCanv.Print(PDFName+\")\",\"Title:Cut_\"+str(j))\n",
      "    else: CurCanv.Print(PDFName,\"Title:Cut_\"+str(j))\n",
      "    print \"------------------------------------------\""
     ],
     "language": "python",
     "metadata": {},
     "outputs": [
      {
       "output_type": "stream",
       "stream": "stdout",
       "text": [
        "Cut: THT>550\n",
        "Events in signal sample: 73879.0\n",
        "Events in control sample:"
       ]
      },
      {
       "output_type": "stream",
       "stream": "stdout",
       "text": [
        " 51567450.0\n",
        "------------------------------------------"
       ]
      },
      {
       "output_type": "stream",
       "stream": "stdout",
       "text": [
        "\n",
        "Cut: (THT>550)*(chi2<8)\n",
        "Events in signal sample: 10581.0\n",
        "Signal sample efficiency: 0.14\n",
        "Events in control sample:"
       ]
      },
      {
       "output_type": "stream",
       "stream": "stdout",
       "text": [
        " 753012.0\n",
        "Control sample efficiency: 0.01\n",
        "------------------------------------------\n",
        "Cut: ((THT>550)*(chi2<8))*(DRHJ<=1.2)\n",
        "Events in signal sample: 3874.0\n",
        "Signal sample efficiency: 0.37\n",
        "Events in control sample:"
       ]
      },
      {
       "output_type": "stream",
       "stream": "stdout",
       "text": [
        " 145510.0\n",
        "Control sample efficiency: 0.19\n",
        "------------------------------------------\n",
        "Cut: (((THT>550)*(chi2<8))*(DRHJ<=1.2))*(DRWH>=1.6 && DRWH<=4.0)\n",
        "Events in signal sample: 3387.0\n",
        "Signal sample efficiency: 0.87\n",
        "Events in control sample:"
       ]
      },
      {
       "output_type": "stream",
       "stream": "stdout",
       "text": [
        " 113601.0\n",
        "Control sample efficiency: 0.78\n",
        "------------------------------------------\n",
        "Cut: ((((THT>550)*(chi2<8))*(DRHJ<=1.2))*(DRWH>=1.6 && DRWH<=4.0))*(M2HP>6.8)\n",
        "Events in signal sample: 1444.0\n",
        "Signal sample efficiency: 0.43\n",
        "Events in control sample:"
       ]
      },
      {
       "output_type": "stream",
       "stream": "stdout",
       "text": [
        " 57862.0\n",
        "Control sample efficiency: 0.51\n",
        "------------------------------------------\n",
        "Cut: (((((THT>550)*(chi2<8))*(DRHJ<=1.2))*(DRWH>=1.6 && DRWH<=4.0))*(M2HP>6.8))*(DRTp6thJ>4.8)\n",
        "Events in signal sample: 140.0\n",
        "Signal sample efficiency: 0.10\n",
        "Events in control sample:"
       ]
      },
      {
       "output_type": "stream",
       "stream": "stdout",
       "text": [
        " 4367.0\n",
        "Control sample efficiency: 0.08\n",
        "------------------------------------------\n",
        "Cut: ((((((THT>550)*(chi2<8))*(DRHJ<=1.2))*(DRWH>=1.6 && DRWH<=4.0))*(M2HP>6.8))*(DRTp6thJ>4.8))*(HM>=105 && HM<=145)\n",
        "Events in signal sample: 103.0\n",
        "Signal sample efficiency: 0.74\n",
        "Events in control sample:"
       ]
      },
      {
       "output_type": "stream",
       "stream": "stdout",
       "text": [
        " 3157.0\n",
        "Control sample efficiency: 0.72\n",
        "------------------------------------------\n",
        "Cut: (((((((THT>550)*(chi2<8))*(DRHJ<=1.2))*(DRWH>=1.6 && DRWH<=4.0))*(M2HP>6.8))*(DRTp6thJ>4.8))*(HM>=105 && HM<=145))*(RelHT>=0.67)\n",
        "Events in signal sample:"
       ]
      },
      {
       "output_type": "stream",
       "stream": "stdout",
       "text": [
        " 55.0\n",
        "Signal sample efficiency: 0.53\n",
        "Events in control sample:"
       ]
      },
      {
       "output_type": "stream",
       "stream": "stdout",
       "text": [
        " 822.0\n",
        "Control sample efficiency: 0.26\n",
        "------------------------------------------\n",
        "Cut: ((((((((THT>550)*(chi2<8))*(DRHJ<=1.2))*(DRWH>=1.6 && DRWH<=4.0))*(M2HP>6.8))*(DRTp6thJ>4.8))*(HM>=105 && HM<=145))*(RelHT>=0.67))*(MTHAsym>=(0.17-10.50) && MTHAsym<=(0.17+10.50))\n",
        "Events in signal sample:"
       ]
      },
      {
       "output_type": "stream",
       "stream": "stdout",
       "text": [
        " 55.0\n",
        "Signal sample efficiency: 1.00\n",
        "Events in control sample:"
       ]
      },
      {
       "output_type": "stream",
       "stream": "stdout",
       "text": [
        " 822.0\n",
        "Control sample efficiency: 1.00\n",
        "------------------------------------------\n"
       ]
      }
     ],
     "prompt_number": 10
    },
    {
     "cell_type": "code",
     "collapsed": false,
     "input": [
      "#############################################################\n",
      "#Normalization of CS to SS after DR(bb) and follow selection#\n",
      "#############################################################\n",
      "print \"Normalization of SS at DR(bb)=\", EntSS[2]\n",
      "print \"Applying efficiencies for later cuts on control sample...\"\n",
      "Norm=EntSS[2]\n",
      "for i in EffCS[2:]: Norm=Norm*i\n",
      "print \"Gives as expected bkg events: {0:.2f}\".format(Norm)\n",
      "print \"###########################################\"\n",
      "################################################################\n",
      "#Normaliz to ratio in/out in MTHAsym right before cutting on it#\n",
      "################################################################\n",
      "print \"Estimated normalization is N_e_ss_in=R_cs*N_ss_out\"\n",
      "print \"where R_cs=N_cs_in/N_cs_out\"\n",
      "N_ss_out=EntSS[-2]-EntSS[-1]\n",
      "N_cs_out=EntCS[-2]-EntCS[-1]\n",
      "N_cs_in=EntCS[-1]\n",
      "print \"N_ss_out={0:.0f}+-{1:.2f}\".format(N_ss_out,np.sqrt(N_ss_out))\n",
      "print \"N_cs_out={0:.0f}+-{1:.2f}\".format(N_cs_out,np.sqrt(N_cs_out))\n",
      "print \"N_cs_in={0:.0f}+-{1:.2f}\".format(N_cs_in,np.sqrt(N_cs_in))\n",
      "R_cs=N_cs_in/N_cs_out\n",
      "Error_R_cs=DivE(N_cs_in,N_cs_out,np.sqrt(N_cs_in),np.sqrt(N_cs_out))\n",
      "print \"R_cs={0:.2f}+-{1:.2f}\".format(R_cs,Error_R_cs)\n",
      "N_e_ss_in=R_cs*N_ss_out\n",
      "Error_N_e_ss_in=MulE(R_cs,N_ss_out,Error_R_cs,np.sqrt(N_ss_out))\n",
      "print \"Which gives N_e_ss_in={0:.2f}+-{1:.2f}\".format(N_e_ss_in,Error_N_e_ss_in)"
     ],
     "language": "python",
     "metadata": {},
     "outputs": [
      {
       "output_type": "stream",
       "stream": "stdout",
       "text": [
        "Normalization of SS at DR(bb)= 2911.0\n",
        "Applying efficiencies for later cuts on control sample...\n",
        "Gives as expected bkg events: 11.64\n",
        "###########################################\n",
        "Estimated normalization is N_e_ss_in=R_cs*N_ss_out\n",
        "where R_cs=N_cs_in/N_cs_out\n",
        "N_ss_out=4+-2.00"
       ]
      },
      {
       "output_type": "stream",
       "stream": "stdout",
       "text": [
        "\n",
        "N_cs_out=72+-8.49\n",
        "N_cs_in=380+-19.49\n",
        "R_cs=5.28+-0.89\n",
        "Which gives N_e_ss_in=21.11+-14.13\n"
       ]
      }
     ],
     "prompt_number": 15
    },
    {
     "cell_type": "code",
     "collapsed": false,
     "input": [
      "#Generic In/Out Study\n",
      "#CutsFromCLs=[ROOT.TCut(\"\"),Cut1,CutDRbb,CutDRWH,CutM2HP,CutDRTp6thJ,CutHM,CutRelHT,CutMTHAsym]\n",
      "\n",
      "#RelHT\n",
      "#CutsFromCLs=[ROOT.TCut(\"\"),Cut1,CutDRbb,CutDRWH,CutHM,CutM2HP,CutDRTp6thJ]\n",
      "#DirCut = ROOT.TCut(\"RelHT>=0.67\")\n",
      "#InvCut = ROOT.TCut(\"RelHT<0.67\")\n",
      "#MTHAsym\n",
      "#CutsFromCLs=[ROOT.TCut(\"\"),Cut1,CutDRbb,CutDRWH,CutHM,CutM2HP,CutDRTp6thJ,CutRelHT]\n",
      "#MTHAsymWin1=\"0.1\"; MTHAsymMean1=\"0.17\"\n",
      "#DirCut = ROOT.TCut(\"MTHAsym>=(\"+MTHAsymMean1+\"-\"+MTHAsymWin1+\") && MTHAsym<=(\"+MTHAsymMean1+\"+\"+MTHAsymWin1+\")\")\n",
      "#InvCut = ROOT.TCut(\"MTHAsym<(\"+MTHAsymMean1+\"-\"+MTHAsymWin1+\") || MTHAsym>(\"+MTHAsymMean1+\"+\"+MTHAsymWin1+\")\")\n",
      "#MH\n",
      "CutsFromCLs=[ROOT.TCut(\"\"),Cut1,CutDRbb,CutDRWH,CutM2HP,CutDRTp6thJ,CutRelHT]\n",
      "DirCut = ROOT.TCut(\"HM>=105 && HM<=145\")\n",
      "InvCut = ROOT.TCut(\"HM<105 || HM>145\")\n",
      "\n",
      "CumulCut=ROOT.TCut(\"\")*CutHT\n",
      "\n",
      "BinsLimits=\"(3800,200,4000)\"\n",
      "CutVarBinsLim=\"(26,60,190)\"\n",
      "\n",
      "for j in xrange(len(CutsFromCLs)):\n",
      "    CumulCut=CumulCut*CutsFromCLs[j]\n",
      "    print \"Cut:\", CumulCut\n",
      "        \n",
      "    N_cs_in,N_cs_out,N_ss_in,N_ss_out,R_cs,R_ss,Np_ss_in,Chi2TesResult=NormFunc(CumulCut*DirCut,CumulCut*InvCut,\n",
      "                                                                      \"M5J\",BinsLimits,DataA[0],DataE[0],\n",
      "                                                                      \"HM\",CutVarBinsLim,CumulCut,True)\n",
      "    print \"Chi2 test result: chi2/ndf =\", Chi2TesResult\n",
      "    print \"N_ss_out={0:.0f}+-{1:.2f}\".format(N_ss_out,np.sqrt(N_ss_out))\n",
      "    print \"N_ss_in={0:.0f}+-{1:.2f}\".format(N_ss_in,np.sqrt(N_ss_in))\n",
      "    print \"N_cs_out={0:.0f}+-{1:.2f}\".format(N_cs_out,np.sqrt(N_cs_out))\n",
      "    print \"N_cs_in={0:.0f}+-{1:.2f}\".format(N_cs_in,np.sqrt(N_cs_in))\n",
      "    print \"------\"\n",
      "    Error_R_ss=DivE(N_ss_in,N_ss_out,np.sqrt(N_ss_in),np.sqrt(N_ss_out))\n",
      "    print \"R_ss={0:.2f}+-{1:.2f}\".format(R_ss,Error_R_ss)\n",
      "    Error_R_cs=DivE(N_cs_in,N_cs_out,np.sqrt(N_cs_in),np.sqrt(N_cs_out))\n",
      "    print \"R_cs={0:.2f}+-{1:.2f}\".format(R_cs,Error_R_cs)\n",
      "    print \"------\"\n",
      "    Error_Np_ss_in=MulE(R_cs,N_ss_out,Error_R_cs,np.sqrt(N_ss_out))\n",
      "    print \"Which gives Np_ss_in={0:.2f}+-{1:.2f}\".format(Np_ss_in,Error_Np_ss_in)\n",
      "            \n",
      "    print \"------------------------------------------\""
     ],
     "language": "python",
     "metadata": {},
     "outputs": [
      {
       "output_type": "stream",
       "stream": "stdout",
       "text": [
        "Cut: THT>550\n",
        "Chi2 test result: chi2/ndf ="
       ]
      },
      {
       "output_type": "stream",
       "stream": "stdout",
       "text": [
        " 12.2644327285\n",
        "N_ss_out=52171+-228.41\n",
        "N_ss_in=21708+-147.34\n",
        "N_cs_out=584199+-764.33\n",
        "N_cs_in=294936+-543.08\n",
        "------\n",
        "R_ss=0.42+-0.00\n",
        "R_cs=0.50+-0.00\n",
        "------\n",
        "Which gives Np_ss_in=26338.81+-198.27\n",
        "------------------------------------------\n",
        "Cut: (THT>550)*(chi2<8)\n",
        "Chi2 test result: chi2/ndf ="
       ]
      },
      {
       "output_type": "stream",
       "stream": "stdout",
       "text": [
        " 0.989103718843\n",
        "N_ss_out=2510+-50.10\n",
        "N_ss_in=8071+-89.84\n",
        "N_cs_out=49112+-221.61\n",
        "N_cs_in=163589+-404.46\n",
        "------\n",
        "R_ss=3.22+-0.10\n",
        "R_cs=3.33+-0.02\n",
        "------\n",
        "Which gives Np_ss_in=8360.65+-225.28\n",
        "------------------------------------------\n",
        "Cut: ((THT>550)*(chi2<8))*(DRHJ<=1.2)\n",
        "Chi2 test result: chi2/ndf ="
       ]
      },
      {
       "output_type": "stream",
       "stream": "stdout",
       "text": [
        " 2.20262309864\n",
        "N_ss_out=1054+-32.47\n",
        "N_ss_in=2820+-53.10\n",
        "N_cs_out=13247+-115.10\n",
        "N_cs_in=35266+-187.79\n",
        "------\n",
        "R_ss=2.68+-0.13\n",
        "R_cs=2.66+-0.04\n",
        "------\n",
        "Which gives Np_ss_in=2805.95+-125.75\n",
        "------------------------------------------\n",
        "Cut: (((THT>550)*(chi2<8))*(DRHJ<=1.2))*(DRWH>=1.6 && DRWH<=4.0)\n",
        "Chi2 test result: chi2/ndf ="
       ]
      },
      {
       "output_type": "stream",
       "stream": "stdout",
       "text": [
        " 2.56101677192\n",
        "N_ss_out=931+-30.51\n",
        "N_ss_in=2456+-49.56\n",
        "N_cs_out=10563+-102.78\n",
        "N_cs_in=28166+-167.83\n",
        "------\n",
        "R_ss=2.64+-0.14\n",
        "R_cs=2.67+-0.04\n",
        "------\n",
        "Which gives Np_ss_in=2482.49+-120.31\n",
        "------------------------------------------\n",
        "Cut: ((((THT>550)*(chi2<8))*(DRHJ<=1.2))*(DRWH>=1.6 && DRWH<=4.0))*(M2HP>6.8)\n",
        "Chi2 test result: chi2/ndf ="
       ]
      },
      {
       "output_type": "stream",
       "stream": "stdout",
       "text": [
        " 1.70503657248\n",
        "N_ss_out=438+-20.93\n",
        "N_ss_in=1006+-31.72\n",
        "N_cs_out=6027+-77.63\n",
        "N_cs_in=14499+-120.41\n",
        "------\n",
        "R_ss=2.30+-0.18\n",
        "R_cs=2.41+-0.05\n",
        "------\n",
        "Which gives Np_ss_in=1053.69+-72.67\n",
        "------------------------------------------\n",
        "Cut: (((((THT>550)*(chi2<8))*(DRHJ<=1.2))*(DRWH>=1.6 && DRWH<=4.0))*(M2HP>6.8))*(DRTp6thJ>4.8)\n",
        "Chi2 test result: chi2/ndf ="
       ]
      },
      {
       "output_type": "stream",
       "stream": "stdout",
       "text": [
        " 0.66521278259\n",
        "N_ss_out=37+-6.08\n",
        "N_ss_in=103+-10.15\n",
        "N_cs_out=544+-23.32\n",
        "N_cs_in=1356+-36.82\n",
        "------\n",
        "R_ss=2.78+-0.73\n",
        "R_cs=2.49+-0.17\n",
        "------\n",
        "Which gives Np_ss_in=92.23+-21.62\n",
        "------------------------------------------\n",
        "Cut: ((((((THT>550)*(chi2<8))*(DRHJ<=1.2))*(DRWH>=1.6 && DRWH<=4.0))*(M2HP>6.8))*(DRTp6thJ>4.8))*(RelHT>=0.67)\n",
        "Chi2 test result: chi2/ndf ="
       ]
      },
      {
       "output_type": "stream",
       "stream": "stdout",
       "text": [
        " 0.498362877649\n",
        "N_ss_out=19+-4.36\n",
        "N_ss_in=55+-7.42\n",
        "N_cs_out=184+-13.56\n",
        "N_cs_in=484+-22.00\n",
        "------\n",
        "R_ss=2.89+-1.05\n",
        "R_cs=2.63+-0.31\n",
        "------\n",
        "Which gives Np_ss_in=49.98+-17.42\n",
        "------------------------------------------\n"
       ]
      }
     ],
     "prompt_number": 7
    },
    {
     "cell_type": "heading",
     "level": 1,
     "metadata": {},
     "source": [
      "STARTING INCLUSIVE VALIDATION (NEED NTUPLES FROM BELOW)"
     ]
    },
    {
     "cell_type": "code",
     "collapsed": false,
     "input": [
      "#Sntuple.Print()\n",
      "#\"M5J:DRHJ:DRWH:RelHT:Eta6thJ:M2HP:DRTp6thJ:HM:chi2:MTHAsym\"\n",
      "#Cut1 = ROOT.TCut(\"chi2<620\")\n",
      "#CutDRbb = ROOT.TCut(\"DRHJ<=1.2\")\n",
      "#CutDRWH = ROOT.TCut(\"DRWH>=1.6 && DRWH<=4.0\")\n",
      "#CutHM = ROOT.TCut(\"HM>=105 && HM<=145\")\n",
      "#CutM2HP = ROOT.TCut(\"M2HP>7.5\")\n",
      "#CutRelHT = ROOT.TCut(\"RelHT>=0.7\")\n",
      "#CutDRTp6thJ = ROOT.TCut(\"DRTp6thJ>4.5\")\n",
      "#CutMTHAsym = ROOT.TCut(\"MTHAsym>=-0.02 && MTHAsym<=0.38\")\n",
      "#FinalCut=Cut1*CutDRbb*CutDRWH*CutM2HP*CutDRTp6thJ*CutHM*CutRelHT*CutMTHAsym\n",
      "#\n",
      "#Lumi=19694.471\n",
      "#\n",
      "#SWeight=Lumi*(0.57/0.94)*0.1437/99984.\n",
      "#\n",
      "#TWeight=Lumi*245.8/61941200.\n",
      "\n",
      "########################################################\n",
      "###################Set QCD FLAG#########################\n",
      "########################################################\n",
      "\n",
      "QCDPTFLAG=True #To include QCD PT hat samples\n",
      "\n",
      "NevtsQCDHT=[29019521.,13438527.]\n",
      "XSQCDHT=[8426.0,204.0]\n",
      "Q500Weight=Lumi*XSQCDHT[0]/NevtsQCDHT[0]\n",
      "Q1000Weight=Lumi*XSQCDHT[1]/NevtsQCDHT[1]\n",
      "if QCDPTFLAG: \n",
      "    QWeights=Lumi*np.array(XSQCDHT)*0.5/np.array(NevtsQCDHT)\n",
      "else: \n",
      "    QWeights=Lumi*np.array(XSQCDHT)/np.array(NevtsQCDHT)\n",
      "\n",
      "NevtsQCDPT=[5971068.,5790196.,5926583.,3941534.,3934191.,3927299.]\n",
      "XSQCDPT=[156293.3, 34138.15, 1759.549, 113.8791, 26.9921, 3.550036]\n",
      "if QCDPTFLAG: \n",
      "    QCDPTWeights=Lumi*np.array(XSQCDPT)*0.5/np.array(NevtsQCDPT)\n",
      "else: \n",
      "    QCDPTWeights=Lumi*np.array(XSQCDPT)/np.array(NevtsQCDPT)\n",
      "\n",
      "\n",
      "#########################################################\n",
      "\n",
      "NevtsMassPoints=[95167.,98817.,99464.,99375.,95801.,99257.,99174.,95960.,99078.]\n",
      "XSNevtsMassPoints=[0.2154,0.1778,0.1437,0.1186,0.1,0.0843,0.0726,0.0626,0.0539]\n",
      "NWeights=Lumi*(0.577/0.94)*np.array(XSNevtsMassPoints)/np.array(NevtsMassPoints)\n",
      "\n",
      "NevtsDiboson=[9989803.,9989440.,9789108.]\n",
      "XSDiboson=[33.6, 56.0, 7.6]\n",
      "DibosonWeights=Lumi*np.array(XSDiboson)/np.array(NevtsDiboson)\n",
      "\n",
      "NevtsSingleT=[259575.,3752921.,496681.,139803.,1932775.,492545.]\n",
      "XSSingleT=[3.79, 54.87, 11.1, 1.76, 29.74, 11.1]\n",
      "SingleTWeights=Lumi*np.array(XSSingleT)/np.array(NevtsSingleT)\n",
      "\n",
      "NevtsDY=[2001966.,1997817.]\n",
      "XSDY=[3840.86, 3060.099]\n",
      "DYWeights=Lumi*np.array(XSDY)/np.array(NevtsDY)"
     ],
     "language": "python",
     "metadata": {},
     "outputs": [],
     "prompt_number": 5
    },
    {
     "cell_type": "heading",
     "level": 3,
     "metadata": {},
     "source": [
      "Nminus1 plots, Analysis selection, Signal Sample"
     ]
    },
    {
     "cell_type": "code",
     "collapsed": false,
     "input": [
      "CutsNm1=[ROOT.TCut(\"\"),Cut1,CutDRbb,CutDRWH,CutHM,CutM2HP,CutDRTp6thJ,CutRelHT]\n",
      "OptVersion=NominalV+\"_\"+InclusiveV1+\"_\"+InclusiveV2\n",
      "\n",
      "CumulCut=ROOT.TCut(\"\")*CutHT\n",
      "SF=ROOT.TCut(\"weight\")\n",
      "PU=ROOT.TCut(\"PUR_function(NTI)\")\n",
      "#CMC=ROOT.TCut(\"weight*PUR_function(NTI)\")\n",
      "CMC=SF*PU\n",
      "#CMC=ROOT.TCut(\"\")\n",
      "#CumulCut=CMC\n",
      "\n",
      "#\"M5J:DRHJ:DRWH:RelHT:Eta6thJ:M2HP:DRTp6thJ:HM:chi2:MTHAsym\"\n",
      "\n",
      "PDFName=\"Nminus1_AnaSel_Chi2g8_0to500_Final_\"+OptVersion+\".pdf\"\n",
      "CurCanv = rootnotes.canvas(\"MyPlot\", (600, 800))\n",
      "Titles=[\"chi2\", \"DRHJ\",\"DRWH\", \"HM\", \"M2HP\", \"DRTp6thJ\", \"RelHT\", \"MTHAsym\", \n",
      "        \"THT\", \"NCSVM\",\"M2ndT\"]\n",
      "\n",
      "BinsLimits=[\"(50,0,500)\",\"(22,0.5,5)\",\"(30,0.5,10)\",\"(25,60,190)\",\"(31,0,20)\",\"(30,0.5,10)\",\"(20,0.1,1.0)\",\"(20,-0.5,1)\",\n",
      "            \"(40,400,3000)\",\"(13,0,13)\",\"(50,40,2000)\"]\n",
      "Units=[\"\",\"\",\"\",\"GeV/c^{2}\",\"\",\"\",\"\",\"\",\n",
      "       \"GeV/c\",\"\",\"GeV/c^{2}\"]\n",
      "XaxisT=[\"#chi^{2}\",\"#Delta R(bb)\", \"#Delta R(WH)\", \"M(H)\", \"(M(t^{2nd})+M(W^{2nd}))/M(H)\", \"#Delta R (T' j^{6})\", \n",
      "        \"Relative H_{T}\", \"(M(t)-M(H))/(M(t)+M(H))\",\n",
      "        \"H_{T}\", \"n_{b}^{CSVM}\",\"M(t^{2nd})\"]\n",
      "\n",
      "ValString=[\"Data\",\"TTbar\",\"QCD\",\"MC-Sum\"]\n",
      "\n",
      "for i in xrange(len(CutsNm1)):\n",
      "    CumulCut=CumulCut*CutsNm1[i]\n",
      "    for j in xrange(len(Titles)):\n",
      "        TTbarNm1Histos=[]; DataNm1Histos=[]; QCDNm1Histos=[]\n",
      "        SingleTNm1Histos=[]; DibosonNm1Histos=[]; DYNm1Histos=[]\n",
      "        SignalNm1Histos=[]\n",
      "    \n",
      "        NMassPointsA[2].Draw(Titles[j]+\" >> \"+Titles[j]+\"S_Cut\"+str(i)+str(j)+BinsLimits[j],CumulCut*CMC)\n",
      "        SignalNm1Histos.append(ROOT.gDirectory.Get(Titles[j]+\"S_Cut\"+str(i)+str(j)))\n",
      "        SignalNm1Histos[-1].Sumw2(); SignalNm1Histos[-1].Scale(SWeight)\n",
      "    \n",
      "        TntupleA.Draw(Titles[j]+\" >> \"+Titles[j]+\"T_Cut\"+str(i)+str(j)+BinsLimits[j],CumulCut*CMC)\n",
      "        TTbarNm1Histos.append(ROOT.gDirectory.Get(Titles[j]+\"T_Cut\"+str(i)+str(j)))\n",
      "        TTbarNm1Histos[-1].Sumw2(); TTbarNm1Histos[-1].Scale(TWeight) #; TTbarHistos[-1].Write()\n",
      "                \n",
      "        QCDHT=[]\n",
      "        QntuplesA[0].Draw(Titles[j]+\" >> \"+Titles[j]+\"Q500_Cut\"+str(i)+str(j)+BinsLimits[j],CumulCut*CMC)\n",
      "        QCDHT.append(ROOT.gDirectory.Get(Titles[j]+\"Q500_Cut\"+str(i)+str(j)))\n",
      "        QCDHT[-1].Sumw2(); QCDHT[-1].Scale(QWeights[0]) #; QCD500Histos[-1].Write()\n",
      "        \n",
      "        QntuplesA[1].Draw(Titles[j]+\" >> \"+Titles[j]+\"Q1000_Cut\"+str(i)+str(j)+BinsLimits[j],CumulCut*CMC)\n",
      "        QCDHT.append(ROOT.gDirectory.Get(Titles[j]+\"Q1000_Cut\"+str(i)+str(j)))\n",
      "        QCDHT[-1].Sumw2(); QCDHT[-1].Scale(QWeights[1]) #; QCD1000Histos[-1].Write()\n",
      "    \n",
      "        STHT=[]\n",
      "        for k in xrange(6): #Single Top\n",
      "            if SubBKGArrayA[k].GetEntries()>0:\n",
      "                SubBKGArrayA[k].Draw(Titles[j]+\" >> \"+Titles[j]+\"ST_Cut\"+str(i)+str(j)+\"_\"+str(k)+BinsLimits[j],CumulCut*CMC)\n",
      "                STHT.append(ROOT.gDirectory.Get(Titles[j]+\"ST_Cut\"+str(i)+str(j)+\"_\"+str(k)))\n",
      "                STHT[-1].Sumw2(); STHT[-1].Scale(SingleTWeights[k])\n",
      "        SingleTNm1Histos.append(STHT)\n",
      "            \n",
      "        DiHT=[]\n",
      "        for k in xrange(3): #Diboson\n",
      "            if SubBKGArrayA[k+6].GetEntries()>0:\n",
      "                SubBKGArrayA[k+6].Draw(Titles[j]+\" >> \"+Titles[j]+\"Di_Cut\"+str(i)+str(j)+\"_\"+str(k)+BinsLimits[j],CumulCut*CMC)\n",
      "                DiHT.append(ROOT.gDirectory.Get(Titles[j]+\"Di_Cut\"+str(i)+str(j)+\"_\"+str(k)))\n",
      "                DiHT[-1].Sumw2(); DiHT[-1].Scale(DibosonWeights[k])\n",
      "        DibosonNm1Histos.append(DiHT)\n",
      "        \n",
      "        DYHT=[]\n",
      "        for k in xrange(2): #DY\n",
      "            if SubBKGArrayA[k+9].GetEntries()>0:\n",
      "                SubBKGArrayA[k+9].Draw(Titles[j]+\" >> \"+Titles[j]+\"DY_Cut\"+str(i)+str(j)+\"_\"+str(k)+BinsLimits[j],CumulCut*CMC)\n",
      "                DYHT.append(ROOT.gDirectory.Get(Titles[j]+\"DY_Cut\"+str(i)+str(j)+\"_\"+str(k)))\n",
      "                DYHT[-1].Sumw2(); DYHT[-1].Scale(DYWeights[k])\n",
      "            #else: #Only for QCD Estimation (Roberto's method)\n",
      "            #    DYHT.append(QCDHT[0].Clone(Titles[j]+\"Q_Cut\"+str(i)+str(j)))\n",
      "            #    DYHT[-1].Sumw2(); DYHT[-1].Scale(0.0)\n",
      "        DYNm1Histos.append(DYHT)\n",
      "        \n",
      "        if QCDPTFLAG: \n",
      "            for k in xrange(6): #QCD PT hat\n",
      "                if SubBKGArrayA[k+11].GetEntries()>0:\n",
      "                    SubBKGArrayA[k+11].Draw(Titles[j]+\" >> \"+Titles[j]+\"QCDPT_Cut\"+str(i)+str(j)+\"_\"+str(k)+BinsLimits[j],CumulCut*CMC)\n",
      "                    QCDHT.append(ROOT.gDirectory.Get(Titles[j]+\"QCDPT_Cut\"+str(i)+str(j)+\"_\"+str(k)))\n",
      "                    QCDHT[-1].Sumw2(); QCDHT[-1].Scale(QCDPTWeights[k])\n",
      "        QCDNm1Histos.append(QCDHT)\n",
      "\n",
      "        #If Pythia only set QCDNm1Histos elements to 2 and 3, else 0 and 1\n",
      "        QCDFull=QCDNm1Histos[-1][0].Clone(Titles[j]+\"Q_Cut\"+str(i)+str(j))\n",
      "        for k in QCDNm1Histos[-1][1:]:\n",
      "            QCDFull.Add(k)\n",
      "        \n",
      "        SingleTFull=SingleTNm1Histos[-1][0].Clone(Titles[j]+\"ST_Cut\"+str(i)+str(j))\n",
      "        for k in SingleTNm1Histos[-1][1:]:\n",
      "            SingleTFull.Add(k)\n",
      "    \n",
      "        DibosonFull=DibosonNm1Histos[-1][0].Clone(Titles[j]+\"Di_Cut\"+str(i)+str(j))\n",
      "        for k in DibosonNm1Histos[-1][1:]:\n",
      "            DibosonFull.Add(k)\n",
      "        \n",
      "        DYFull=DYNm1Histos[-1][0].Clone(Titles[j]+\"DY_Cut\"+str(i)+str(j))\n",
      "        for k in DYNm1Histos[-1][1:]:\n",
      "            DYFull.Add(k)\n",
      "    \n",
      "        MCFull=QCDFull.Clone(Titles[j]+\"MC_Cut\"+str(i)+str(j))\n",
      "        MCFull.Add(TTbarNm1Histos[-1])\n",
      "        MCFull.Add(SingleTFull)\n",
      "        MCFull.Add(DibosonFull)\n",
      "        MCFull.Add(DYFull)\n",
      "\n",
      "        DataA[0].Draw(Titles[j]+\" >> \"+Titles[j]+\"D_Cut\"+str(i)+str(j)+BinsLimits[j],CumulCut)\n",
      "        DataNm1Histos.append(ROOT.gDirectory.Get(Titles[j]+\"D_Cut\"+str(i)+str(j)))\n",
      "\n",
      "        ROOT.gPad.Clear()\n",
      "\n",
      "        CurrentStyle=ROOT.TStyle(\"CStyle\",\"Style for Plotting\")\n",
      "    \n",
      "        CurrentStyle.SetTitleSize(0.08, \"Y\")\n",
      "        CurrentStyle.SetTitleYOffset(1.5)\n",
      "                \n",
      "        CurCanv1 = rootnotes.canvas(\"MyPlot\", (600, 800))\n",
      "        CurCanv1.cd(1)\n",
      "        Pad1=ROOT.TPad(\"pad1\",\"pad1\",0,0.3,1,1)\n",
      "        Pad1.SetBottomMargin(0)\n",
      "        Pad1.SetLeftMargin(0.16)\n",
      "        Pad1.Draw()\n",
      "        Pad1.cd()\n",
      "        \n",
      "        MCFull.SetStats(ROOT.kFALSE)\n",
      "        MinX=float(BinsLimits[j].split(\",\")[1])\n",
      "        MaxX=float(BinsLimits[j].split(\",\")[-1][0:-1])\n",
      "        Nbins=int(BinsLimits[j].split(\",\")[0][1:])\n",
      "        if i!=5: MCFull.SetTitle(\";;Events/{0:.1f} \".format((MaxX-MinX)/Nbins)+Units[j])\n",
      "        else: MCFull.SetTitle(\";;Events/{0:.2f} \".format((MaxX-MinX)/Nbins)+Units[j])\n",
      "        SetAxis(MCFull,'Y',1.45,0.05,0.007,0.05,510)\n",
      "        SetAxis(DataNm1Histos[-1],'Y',1.45,0.05,0.007,0.05,510)\n",
      "        SetAxis(SignalNm1Histos[-1],'Y',1.45,0.05,0.007,0.05,510)\n",
      "        SetAxis(TTbarNm1Histos[-1],'Y',1.45,0.05,0.007,0.05,510)\n",
      "        SetAxis(QCDFull,'Y',1.45,0.05,0.007,0.05,510)\n",
      "        SetAxis(SingleTFull,'Y',1.45,0.05,0.007,0.05,510)\n",
      "        SetAxis(DibosonFull,'Y',1.45,0.05,0.007,0.05,510)\n",
      "        SetAxis(DYFull,'Y',1.45,0.05,0.007,0.05,510)\n",
      "    \n",
      "        SetCos(DataNm1Histos[-1],0,0,ROOT.kBlack,2,1,20)\n",
      "        SetCos(SignalNm1Histos[-1],ROOT.kSpring,3444,ROOT.kBlack,2,1,1)\n",
      "        SetCos(TTbarNm1Histos[-1],ROOT.kRed,3345,ROOT.kBlack,1,1,1)\n",
      "        SetCos(QCDFull,ROOT.kViolet,1001,ROOT.kBlack,1,1,1)\n",
      "        SetCos(SingleTFull,ROOT.kBlack,3305,ROOT.kBlack,1,1,1)\n",
      "        SetCos(DibosonFull,ROOT.kWhite,1001,ROOT.kBlack,1,1,1)\n",
      "        SetCos(DYFull,ROOT.kBlue,1001,ROOT.kBlack,1,1,1)\n",
      "        SetCos(MCFull,ROOT.kGray+2,3144,ROOT.kGray+2,1,1,1)\n",
      "            \n",
      "        CloneD=DataNm1Histos[-1].Clone(\"CopyD\"); CloneMC=MCFull.Clone(\"CopyMC\")\n",
      "        if j!=6: AllBKGStack=ROOT.THStack(\"AllBKGStack\", \";;Events/{0:.1f} \".format((MaxX-MinX)/Nbins)+Units[j])\n",
      "        else: AllBKGStack=ROOT.THStack(\"AllBKGStack\", \";;Events/{0:.2f} \".format((MaxX-MinX)/Nbins)+Units[j])\n",
      "        AllBKGStack.Add(DibosonFull); AllBKGStack.Add(SingleTFull)\n",
      "        AllBKGStack.Add(TTbarNm1Histos[-1]); AllBKGStack.Add(DYFull); AllBKGStack.Add(QCDFull)\n",
      "        AllBKGStack.SetMinimum(0.3)\n",
      "    \n",
      "        if j<6 or j>7: LEG=ROOT.TLegend(0.6,0.6,0.9,0.9)\n",
      "        else: LEG=ROOT.TLegend(0.2,0.6,0.5,0.9)\n",
      "        LEG.AddEntry(DataNm1Histos[-1], \"Data\", \"p\")\n",
      "        LEG.AddEntry(QCDFull, \"QCD\", \"f\")\n",
      "        LEG.AddEntry(DYFull, \"Zjets\", \"f\")\n",
      "        LEG.AddEntry(TTbarNm1Histos[-1], \"TTbar\", \"f\")\n",
      "        LEG.AddEntry(SingleTFull, \"Single Top\", \"f\")\n",
      "        LEG.AddEntry(DibosonFull, \"Diboson\", \"f\")\n",
      "        LEG.AddEntry(SignalNm1Histos[-1], \"Signal M(T')=700 GeV/c^{2}\", \"f\")\n",
      "        LEG.SetFillColor(0)\n",
      "        Maxima=[MCFull.GetBinErrorUp(MCFull.GetMaximumBin())+MCFull.GetMaximum(),DataNm1Histos[-1].GetBinErrorUp(DataNm1Histos[-1].GetMaximumBin())+DataNm1Histos[-1].GetMaximum()]\n",
      "        AllBKGStack.SetMaximum(1.05*max(Maxima))\n",
      "        AllBKGStack.Draw(\"hist\")\n",
      "        AllBKGStack.GetHistogram().GetYaxis().SetTitleOffset(1.65)\n",
      "        MCFull.Draw(\"e2 same\")\n",
      "        SignalNm1Histos[-1].Draw(\"hist same\"); DataNm1Histos[-1].Draw(\"E0X0 same\")\n",
      "        if i!=len(CutsNm1): Pad1.SetLogy(); Pad1.RedrawAxis()\n",
      "    \n",
      "        LEG.Draw()\n",
      "        CurrentStyle.SetPadTickX(1)\n",
      "        CurCanv1.cd()\n",
      "        \n",
      "        Pad2=ROOT.TPad(\"pad2\",\"pad2\",0,0,1,0.3)\n",
      "        Pad2.SetTopMargin(0)\n",
      "        Pad2.SetLeftMargin(0.16)\n",
      "        Pad2.SetBottomMargin(0.25)\n",
      "        Pad2.Draw()\n",
      "        Pad2.cd()\n",
      "        \n",
      "        CloneMC.SetMinimum(0.1); CloneMC.SetMaximum(1.9)\n",
      "        CloneMC.Sumw2()\n",
      "        CloneMC.SetStats(0)\n",
      "        CloneMC.SetTitle(\";\"+XaxisT[j]+\" \"+Units[j]+\";Data/MC\")\n",
      "        CloneMC.Divide(MCFull)\n",
      "        CloneMC.SetFillStyle(1001)\n",
      "        SetAxis(CloneMC,'X',0.9,0.09,0.007,0.09,510)\n",
      "        SetAxis(CloneMC,'Y',0.75,0.09,0.007,0.09,404)\n",
      "        CloneMC.Draw(\"E2\")\n",
      "        \n",
      "        CloneD.Sumw2()\n",
      "        #CloneD.Scale(DataNm1Histos[-1].Integral()/CloneD.Integral()); CloneE.SetStats(0)\n",
      "        CloneD.SetTitle(\";\"+XaxisT[j]+\" \"+Units[j]+\";Data/MC\")\n",
      "        CloneD.Divide(MCFull)\n",
      "        CloneD.Draw(\"E0X0 same\")\n",
      "        \n",
      "        if i==0 and j==0: CurCanv1.Print(PDFName+\"(\",\"Title:\"+Titles[j])\n",
      "        elif i==(len(CutsNm1)-1) and j==(len(Titles)-1): CurCanv1.Print(PDFName+\")\",\"Title:\"+Titles[j])\n",
      "        else: CurCanv1.Print(PDFName,\"Title:\"+Titles[j])\n",
      "        \n",
      "        CurCanv1.Clear(); CurrentStyle.SetPadTickX(0)\n",
      "        CurCanv1.cd(1)\n",
      "                    \n",
      "    #del(HistosToplot); del(CurCanv1); del(Pad1); del(Pad2)\n",
      "    #del(CloneA); del(CloneE); del(CloneE1); del(CloneE2)"
     ],
     "language": "python",
     "metadata": {},
     "outputs": [
      {
       "output_type": "stream",
       "stream": "stderr",
       "text": [
        "TH1F::Sumw2:0: RuntimeWarning: Sum of squares of weights structure already created\n",
        "TH1F::Sumw2:0: RuntimeWarning: Sum of squares of weights structure already created\n"
       ]
      },
      {
       "output_type": "stream",
       "stream": "stderr",
       "text": [
        "TH1F::Sumw2:0: RuntimeWarning: Sum of squares of weights structure already created\n",
        "TH1F::Sumw2:0: RuntimeWarning: Sum of squares of weights structure already created\n"
       ]
      },
      {
       "output_type": "stream",
       "stream": "stderr",
       "text": [
        "TH1F::Sumw2:0: RuntimeWarning: Sum of squares of weights structure already created\n",
        "TH1F::Sumw2:0: RuntimeWarning: Sum of squares of weights structure already created\n"
       ]
      },
      {
       "output_type": "stream",
       "stream": "stderr",
       "text": [
        "TH1F::Sumw2:0: RuntimeWarning: Sum of squares of weights structure already created\n",
        "TH1F::Sumw2:0: RuntimeWarning: Sum of squares of weights structure already created\n"
       ]
      },
      {
       "output_type": "stream",
       "stream": "stderr",
       "text": [
        "TH1F::Sumw2:0: RuntimeWarning: Sum of squares of weights structure already created\n",
        "TH1F::Sumw2:0: RuntimeWarning: Sum of squares of weights structure already created\n"
       ]
      },
      {
       "output_type": "stream",
       "stream": "stderr",
       "text": [
        "TH1F::Sumw2:0: RuntimeWarning: Sum of squares of weights structure already created\n",
        "TH1F::Sumw2:0: RuntimeWarning: Sum of squares of weights structure already created\n"
       ]
      },
      {
       "output_type": "stream",
       "stream": "stderr",
       "text": [
        "TH1F::Sumw2:0: RuntimeWarning: Sum of squares of weights structure already created\n",
        "TH1F::Sumw2:0: RuntimeWarning: Sum of squares of weights structure already created\n"
       ]
      },
      {
       "output_type": "stream",
       "stream": "stderr",
       "text": [
        "TH1F::Sumw2:0: RuntimeWarning: Sum of squares of weights structure already created\n",
        "TH1F::Sumw2:0: RuntimeWarning: Sum of squares of weights structure already created\n"
       ]
      },
      {
       "output_type": "stream",
       "stream": "stderr",
       "text": [
        "TH1F::Sumw2:0: RuntimeWarning: Sum of squares of weights structure already created\n",
        "TH1F::Sumw2:0: RuntimeWarning: Sum of squares of weights structure already created\n"
       ]
      },
      {
       "output_type": "stream",
       "stream": "stderr",
       "text": [
        "TH1F::Sumw2:0: RuntimeWarning: Sum of squares of weights structure already created\n",
        "TH1F::Sumw2:0: RuntimeWarning: Sum of squares of weights structure already created\n"
       ]
      },
      {
       "output_type": "stream",
       "stream": "stderr",
       "text": [
        "TH1F::Sumw2:0: RuntimeWarning: Sum of squares of weights structure already created\n",
        "TH1F::Sumw2:0: RuntimeWarning: Sum of squares of weights structure already created\n"
       ]
      },
      {
       "output_type": "stream",
       "stream": "stderr",
       "text": [
        "TH1F::Sumw2:0: RuntimeWarning: Sum of squares of weights structure already created\n",
        "TH1F::Sumw2:0: RuntimeWarning: Sum of squares of weights structure already created\n"
       ]
      },
      {
       "output_type": "stream",
       "stream": "stderr",
       "text": [
        "TH1F::Sumw2:0: RuntimeWarning: Sum of squares of weights structure already created\n",
        "TH1F::Sumw2:0: RuntimeWarning: Sum of squares of weights structure already created\n"
       ]
      },
      {
       "output_type": "stream",
       "stream": "stderr",
       "text": [
        "TH1F::Sumw2:0: RuntimeWarning: Sum of squares of weights structure already created\n",
        "TH1F::Sumw2:0: RuntimeWarning: Sum of squares of weights structure already created\n"
       ]
      },
      {
       "output_type": "stream",
       "stream": "stderr",
       "text": [
        "TH1F::Sumw2:0: RuntimeWarning: Sum of squares of weights structure already created\n",
        "TH1F::Sumw2:0: RuntimeWarning: Sum of squares of weights structure already created\n"
       ]
      },
      {
       "output_type": "stream",
       "stream": "stderr",
       "text": [
        "TH1F::Sumw2:0: RuntimeWarning: Sum of squares of weights structure already created\n",
        "TH1F::Sumw2:0: RuntimeWarning: Sum of squares of weights structure already created\n"
       ]
      },
      {
       "output_type": "stream",
       "stream": "stderr",
       "text": [
        "TH1F::Sumw2:0: RuntimeWarning: Sum of squares of weights structure already created\n",
        "TH1F::Sumw2:0: RuntimeWarning: Sum of squares of weights structure already created\n"
       ]
      },
      {
       "output_type": "stream",
       "stream": "stderr",
       "text": [
        "TH1F::Sumw2:0: RuntimeWarning: Sum of squares of weights structure already created\n",
        "TH1F::Sumw2:0: RuntimeWarning: Sum of squares of weights structure already created\n"
       ]
      },
      {
       "output_type": "stream",
       "stream": "stderr",
       "text": [
        "TH1F::Sumw2:0: RuntimeWarning: Sum of squares of weights structure already created\n",
        "TH1F::Sumw2:0: RuntimeWarning: Sum of squares of weights structure already created\n"
       ]
      },
      {
       "output_type": "stream",
       "stream": "stderr",
       "text": [
        "TH1F::Sumw2:0: RuntimeWarning: Sum of squares of weights structure already created\n",
        "TH1F::Sumw2:0: RuntimeWarning: Sum of squares of weights structure already created\n"
       ]
      },
      {
       "output_type": "stream",
       "stream": "stderr",
       "text": [
        "TH1F::Sumw2:0: RuntimeWarning: Sum of squares of weights structure already created\n",
        "TH1F::Sumw2:0: RuntimeWarning: Sum of squares of weights structure already created\n"
       ]
      },
      {
       "output_type": "stream",
       "stream": "stderr",
       "text": [
        "TH1F::Sumw2:0: RuntimeWarning: Sum of squares of weights structure already created\n",
        "TH1F::Sumw2:0: RuntimeWarning: Sum of squares of weights structure already created\n"
       ]
      },
      {
       "output_type": "stream",
       "stream": "stderr",
       "text": [
        "TH1F::Sumw2:0: RuntimeWarning: Sum of squares of weights structure already created\n",
        "TH1F::Sumw2:0: RuntimeWarning: Sum of squares of weights structure already created\n"
       ]
      },
      {
       "output_type": "stream",
       "stream": "stderr",
       "text": [
        "TH1F::Sumw2:0: RuntimeWarning: Sum of squares of weights structure already created\n",
        "TH1F::Sumw2:0: RuntimeWarning: Sum of squares of weights structure already created\n"
       ]
      },
      {
       "output_type": "stream",
       "stream": "stderr",
       "text": [
        "TH1F::Sumw2:0: RuntimeWarning: Sum of squares of weights structure already created\n",
        "TH1F::Sumw2:0: RuntimeWarning: Sum of squares of weights structure already created\n"
       ]
      },
      {
       "output_type": "stream",
       "stream": "stderr",
       "text": [
        "TH1F::Sumw2:0: RuntimeWarning: Sum of squares of weights structure already created\n",
        "TH1F::Sumw2:0: RuntimeWarning: Sum of squares of weights structure already created\n"
       ]
      },
      {
       "output_type": "stream",
       "stream": "stderr",
       "text": [
        "TH1F::Sumw2:0: RuntimeWarning: Sum of squares of weights structure already created\n",
        "TH1F::Sumw2:0: RuntimeWarning: Sum of squares of weights structure already created\n"
       ]
      },
      {
       "output_type": "stream",
       "stream": "stderr",
       "text": [
        "TH1F::Sumw2:0: RuntimeWarning: Sum of squares of weights structure already created\n",
        "TH1F::Sumw2:0: RuntimeWarning: Sum of squares of weights structure already created\n"
       ]
      },
      {
       "output_type": "stream",
       "stream": "stderr",
       "text": [
        "TH1F::Sumw2:0: RuntimeWarning: Sum of squares of weights structure already created\n",
        "TH1F::Sumw2:0: RuntimeWarning: Sum of squares of weights structure already created\n"
       ]
      },
      {
       "output_type": "stream",
       "stream": "stderr",
       "text": [
        "TH1F::Sumw2:0: RuntimeWarning: Sum of squares of weights structure already created\n",
        "TH1F::Sumw2:0: RuntimeWarning: Sum of squares of weights structure already created\n"
       ]
      },
      {
       "output_type": "stream",
       "stream": "stderr",
       "text": [
        "TH1F::Sumw2:0: RuntimeWarning: Sum of squares of weights structure already created\n",
        "TH1F::Sumw2:0: RuntimeWarning: Sum of squares of weights structure already created\n"
       ]
      },
      {
       "output_type": "stream",
       "stream": "stderr",
       "text": [
        "TH1F::Sumw2:0: RuntimeWarning: Sum of squares of weights structure already created\n",
        "TH1F::Sumw2:0: RuntimeWarning: Sum of squares of weights structure already created\n"
       ]
      },
      {
       "output_type": "stream",
       "stream": "stderr",
       "text": [
        "TH1F::Sumw2:0: RuntimeWarning: Sum of squares of weights structure already created\n",
        "TH1F::Sumw2:0: RuntimeWarning: Sum of squares of weights structure already created\n"
       ]
      },
      {
       "output_type": "stream",
       "stream": "stderr",
       "text": [
        "TH1F::Sumw2:0: RuntimeWarning: Sum of squares of weights structure already created\n",
        "TH1F::Sumw2:0: RuntimeWarning: Sum of squares of weights structure already created\n"
       ]
      },
      {
       "output_type": "stream",
       "stream": "stderr",
       "text": [
        "TH1F::Sumw2:0: RuntimeWarning: Sum of squares of weights structure already created\n",
        "TH1F::Sumw2:0: RuntimeWarning: Sum of squares of weights structure already created\n"
       ]
      },
      {
       "output_type": "stream",
       "stream": "stderr",
       "text": [
        "TH1F::Sumw2:0: RuntimeWarning: Sum of squares of weights structure already created\n",
        "TH1F::Sumw2:0: RuntimeWarning: Sum of squares of weights structure already created\n"
       ]
      },
      {
       "output_type": "stream",
       "stream": "stderr",
       "text": [
        "TH1F::Sumw2:0: RuntimeWarning: Sum of squares of weights structure already created\n",
        "TH1F::Sumw2:0: RuntimeWarning: Sum of squares of weights structure already created\n"
       ]
      },
      {
       "output_type": "stream",
       "stream": "stderr",
       "text": [
        "TH1F::Sumw2:0: RuntimeWarning: Sum of squares of weights structure already created\n",
        "TH1F::Sumw2:0: RuntimeWarning: Sum of squares of weights structure already created\n"
       ]
      },
      {
       "output_type": "stream",
       "stream": "stderr",
       "text": [
        "TH1F::Sumw2:0: RuntimeWarning: Sum of squares of weights structure already created\n",
        "TH1F::Sumw2:0: RuntimeWarning: Sum of squares of weights structure already created\n"
       ]
      },
      {
       "output_type": "stream",
       "stream": "stderr",
       "text": [
        "TH1F::Sumw2:0: RuntimeWarning: Sum of squares of weights structure already created\n",
        "TH1F::Sumw2:0: RuntimeWarning: Sum of squares of weights structure already created\n"
       ]
      },
      {
       "output_type": "stream",
       "stream": "stderr",
       "text": [
        "TH1F::Sumw2:0: RuntimeWarning: Sum of squares of weights structure already created\n",
        "TH1F::Sumw2:0: RuntimeWarning: Sum of squares of weights structure already created\n"
       ]
      },
      {
       "output_type": "stream",
       "stream": "stderr",
       "text": [
        "TH1F::Sumw2:0: RuntimeWarning: Sum of squares of weights structure already created\n",
        "TH1F::Sumw2:0: RuntimeWarning: Sum of squares of weights structure already created\n"
       ]
      },
      {
       "output_type": "stream",
       "stream": "stderr",
       "text": [
        "TH1F::Sumw2:0: RuntimeWarning: Sum of squares of weights structure already created\n",
        "TH1F::Sumw2:0: RuntimeWarning: Sum of squares of weights structure already created\n"
       ]
      },
      {
       "output_type": "stream",
       "stream": "stderr",
       "text": [
        "TH1F::Sumw2:0: RuntimeWarning: Sum of squares of weights structure already created\n",
        "TH1F::Sumw2:0: RuntimeWarning: Sum of squares of weights structure already created\n"
       ]
      }
     ],
     "prompt_number": 5
    },
    {
     "cell_type": "heading",
     "level": 3,
     "metadata": {},
     "source": [
      "Nminus1 plots, Analysis selection, Control Sample"
     ]
    },
    {
     "cell_type": "code",
     "collapsed": false,
     "input": [
      "CutsNm1=[ROOT.TCut(\"\"),Cut1,CutDRbb,CutDRWH,CutHM,CutM2HP,CutDRTp6thJ,CutRelHT]\n",
      "OptVersion=NominalV+\"_\"+InclusiveV1+\"_\"+InclusiveV2\n",
      "\n",
      "CumulCut=ROOT.TCut(\"\")*CutHT\n",
      "SF=ROOT.TCut(\"weight\")\n",
      "PU=ROOT.TCut(\"PUR_function(NTI)\")\n",
      "#CMC=ROOT.TCut(\"weight*PUR_function(NTI)\")\n",
      "#CMC=PU\n",
      "CMC=ROOT.TCut(\"\")\n",
      "#CumulCut=CMC\n",
      "\n",
      "#\"M5J:DRHJ:DRWH:RelHT:Eta6thJ:M2HP:DRTp6thJ:HM:chi2:MTHAsym\"\n",
      "\n",
      "PDFName=\"Nminus1_AnaSel_ControlSampleOneCombination_Chi2g8_0to500_Final_\"+OptVersion+\".pdf\"\n",
      "CurCanv = rootnotes.canvas(\"MyPlot\", (600, 800))\n",
      "Titles=[\"chi2\", \"DRHJ\",\"DRWH\", \"M2HP\", \"DRTp6thJ\", \"HM\", \"RelHT\", \"MTHAsym\", \n",
      "        \"THT\", \"NComb\"]\n",
      "\n",
      "BinsLimits=[\"(50,0,500)\",\"(22,0.5,5)\",\"(40,0.5,10)\",\"(41,0,20)\",\"(30,0.5,10)\",\"(25,60,190)\",\"(20,0.1,1.0)\",\"(30,-0.5,1)\",\n",
      "            \"(50,400,3000)\", \"(19,1,20)\"]\n",
      "Units=[\"\",\"\",\"\",\"\",\"\",\"GeV/c^{2}\",\"\",\"\",\n",
      "       \"GeV/c\",\"\"]\n",
      "XaxisT=[\"#chi^{2}\",\"#Delta R(bb)\", \"#Delta R(WH)\", \"(M(t^{2nd})+M(W^{2nd}))/M(H)\", \"#Delta R (T' j^{6})\", \"M(H)\",\n",
      "        \"Relative H_{T}\", \"(M(t)-M(H))/(M(t)+M(H))\",\n",
      "        \"H_{T}\",\"N combinations\"]\n",
      "\n",
      "ValString=[\"Data\",\"TTbar\",\"QCD\",\"MC-Sum\"]\n",
      "\n",
      "QCDInt=[]; TopInt=[]; DibInt=[]\n",
      "\n",
      "for i in xrange(len(CutsNm1)):\n",
      "    CumulCut=CumulCut*CutsNm1[i]\n",
      "    for j in xrange(len(Titles)):\n",
      "        TTbarNm1Histos=[]; DataNm1Histos=[]; QCDNm1Histos=[]\n",
      "        SingleTNm1Histos=[]; DibosonNm1Histos=[]; DYNm1Histos=[]\n",
      "        SignalNm1Histos=[]\n",
      "    \n",
      "        NMassPointsE[2].Draw(Titles[j]+\" >> \"+Titles[j]+\"S_Cut\"+str(i)+str(j)+BinsLimits[j],CumulCut*CMC)\n",
      "        SignalNm1Histos.append(ROOT.gDirectory.Get(Titles[j]+\"S_Cut\"+str(i)+str(j)))\n",
      "        SignalNm1Histos[-1].Sumw2(); SignalNm1Histos[-1].Scale(SWeight)\n",
      "    \n",
      "        TntupleE.Draw(Titles[j]+\" >> \"+Titles[j]+\"T_Cut\"+str(i)+str(j)+BinsLimits[j],CumulCut*CMC)\n",
      "        TTbarNm1Histos.append(ROOT.gDirectory.Get(Titles[j]+\"T_Cut\"+str(i)+str(j)))\n",
      "        TTbarNm1Histos[-1].Sumw2(); TTbarNm1Histos[-1].Scale(TWeight) #; TTbarHistos[-1].Write()\n",
      "        if j==8: TopInt.append(TTbarNm1Histos[-1].Integral())\n",
      "                \n",
      "        QCDHT=[]\n",
      "        QntuplesE[0].Draw(Titles[j]+\" >> \"+Titles[j]+\"Q500_Cut\"+str(i)+str(j)+BinsLimits[j],CumulCut*CMC)\n",
      "        QCDHT.append(ROOT.gDirectory.Get(Titles[j]+\"Q500_Cut\"+str(i)+str(j)))\n",
      "        QCDHT[-1].Sumw2(); QCDHT[-1].Scale(QWeights[0]) #; QCD500Histos[-1].Write()\n",
      "        \n",
      "        QntuplesE[1].Draw(Titles[j]+\" >> \"+Titles[j]+\"Q1000_Cut\"+str(i)+str(j)+BinsLimits[j],CumulCut*CMC)\n",
      "        QCDHT.append(ROOT.gDirectory.Get(Titles[j]+\"Q1000_Cut\"+str(i)+str(j)))\n",
      "        QCDHT[-1].Sumw2(); QCDHT[-1].Scale(QWeights[1]) #; QCD1000Histos[-1].Write()\n",
      "    \n",
      "        STHT=[]\n",
      "        for k in xrange(6): #Single Top\n",
      "            if SubBKGArrayE[k].GetEntries()>0:\n",
      "                SubBKGArrayE[k].Draw(Titles[j]+\" >> \"+Titles[j]+\"ST_Cut\"+str(i)+str(j)+\"_\"+str(k)+BinsLimits[j],CumulCut*CMC)\n",
      "                STHT.append(ROOT.gDirectory.Get(Titles[j]+\"ST_Cut\"+str(i)+str(j)+\"_\"+str(k)))\n",
      "                STHT[-1].Sumw2(); STHT[-1].Scale(SingleTWeights[k])\n",
      "        SingleTNm1Histos.append(STHT)\n",
      "            \n",
      "        DiHT=[]\n",
      "        for k in xrange(3): #Diboson\n",
      "            if SubBKGArrayE[k+6].GetEntries()>0:\n",
      "                SubBKGArrayE[k+6].Draw(Titles[j]+\" >> \"+Titles[j]+\"Di_Cut\"+str(i)+str(j)+\"_\"+str(k)+BinsLimits[j],CumulCut*CMC)\n",
      "                DiHT.append(ROOT.gDirectory.Get(Titles[j]+\"Di_Cut\"+str(i)+str(j)+\"_\"+str(k)))\n",
      "                DiHT[-1].Sumw2(); DiHT[-1].Scale(DibosonWeights[k])\n",
      "        DibosonNm1Histos.append(DiHT)\n",
      "        \n",
      "        DYHT=[]\n",
      "        for k in xrange(2): #DY\n",
      "            if SubBKGArrayE[k+9].GetEntries()>0:\n",
      "                SubBKGArrayE[k+9].Draw(Titles[j]+\" >> \"+Titles[j]+\"DY_Cut\"+str(i)+str(j)+\"_\"+str(k)+BinsLimits[j],CumulCut*CMC)\n",
      "                DYHT.append(ROOT.gDirectory.Get(Titles[j]+\"DY_Cut\"+str(i)+str(j)+\"_\"+str(k)))\n",
      "                DYHT[-1].Sumw2(); DYHT[-1].Scale(DYWeights[k])\n",
      "        DYNm1Histos.append(DYHT)\n",
      "        \n",
      "        if QCDPTFLAG: \n",
      "            for k in xrange(6): #QCD PT hat\n",
      "                if SubBKGArrayE[k+11].GetEntries()>0:\n",
      "                    SubBKGArrayE[k+11].Draw(Titles[j]+\" >> \"+Titles[j]+\"QCDPT_Cut\"+str(i)+str(j)+\"_\"+str(k)+BinsLimits[j],CumulCut*CMC)\n",
      "                    QCDHT.append(ROOT.gDirectory.Get(Titles[j]+\"QCDPT_Cut\"+str(i)+str(j)+\"_\"+str(k)))\n",
      "                    QCDHT[-1].Sumw2(); QCDHT[-1].Scale(QCDPTWeights[k])\n",
      "        QCDNm1Histos.append(QCDHT)\n",
      "\n",
      "        QCDFull=QCDNm1Histos[-1][0].Clone(Titles[j]+\"Q_Cut\"+str(i)+str(j)); QCDFull.Sumw2()\n",
      "        for k in QCDNm1Histos[-1][1:]:\n",
      "            QCDFull.Add(k)\n",
      "        if j==8: QCDInt.append(QCDFull.Integral())\n",
      "        \n",
      "        SingleTFull=SingleTNm1Histos[-1][0].Clone(Titles[j]+\"ST_Cut\"+str(i)+str(j)); SingleTFull.Sumw2()\n",
      "        for k in SingleTNm1Histos[-1][1:]:\n",
      "            SingleTFull.Add(k)\n",
      "        if j==8: TopInt[-1]+=SingleTFull.Integral()\n",
      "        \n",
      "        DibosonFull=DibosonNm1Histos[-1][0].Clone(Titles[j]+\"Di_Cut\"+str(i)+str(j)); DibosonFull.Sumw2()\n",
      "        for k in DibosonNm1Histos[-1][1:]:\n",
      "            DibosonFull.Add(k)\n",
      "        if j==8: DibInt.append(DibosonFull.Integral())\n",
      "        \n",
      "        DYFull=DYNm1Histos[-1][0].Clone(Titles[j]+\"DY_Cut\"+str(i)+str(j))\n",
      "        for k in DYNm1Histos[-1][1:]:\n",
      "            DYFull.Add(k)\n",
      "    \n",
      "        MCFull=QCDFull.Clone(Titles[j]+\"MC_Cut\"+str(i)+str(j))\n",
      "        MCFull.Add(TTbarNm1Histos[-1])\n",
      "        MCFull.Add(SingleTFull)\n",
      "        MCFull.Add(DibosonFull)\n",
      "        MCFull.Add(DYFull)\n",
      "\n",
      "        DataE[0].Draw(Titles[j]+\" >> \"+Titles[j]+\"D_Cut\"+str(i)+str(j)+BinsLimits[j],CumulCut)\n",
      "        DataNm1Histos.append(ROOT.gDirectory.Get(Titles[j]+\"D_Cut\"+str(i)+str(j)))\n",
      "\n",
      "        ROOT.gPad.Clear()\n",
      "\n",
      "        CurrentStyle=ROOT.TStyle(\"CStyle\",\"Style for Plotting\")\n",
      "    \n",
      "        CurrentStyle.SetTitleSize(0.08, \"Y\")\n",
      "        CurrentStyle.SetTitleYOffset(1.5)\n",
      "                \n",
      "        CurCanv1 = rootnotes.canvas(\"MyPlot\", (600, 800))\n",
      "        CurCanv1.cd(1)\n",
      "        Pad1=ROOT.TPad(\"pad1\",\"pad1\",0,0.3,1,1)\n",
      "        Pad1.SetBottomMargin(0)\n",
      "        Pad1.SetLeftMargin(0.16)\n",
      "        Pad1.Draw()\n",
      "        Pad1.cd()\n",
      "        \n",
      "        MCFull.SetStats(ROOT.kFALSE)\n",
      "        MinX=float(BinsLimits[j].split(\",\")[1])\n",
      "        MaxX=float(BinsLimits[j].split(\",\")[-1][0:-1])\n",
      "        Nbins=int(BinsLimits[j].split(\",\")[0][1:])\n",
      "        if i!=5: MCFull.SetTitle(\";;Events/{0:.1f} \".format((MaxX-MinX)/Nbins)+Units[j])\n",
      "        else: MCFull.SetTitle(\";;Events/{0:.2f} \".format((MaxX-MinX)/Nbins)+Units[j])\n",
      "        SetAxis(MCFull,'Y',1.45,0.05,0.007,0.05,510)\n",
      "        SetAxis(DataNm1Histos[-1],'Y',1.45,0.05,0.007,0.05,510)\n",
      "        SetAxis(SignalNm1Histos[-1],'Y',1.45,0.05,0.007,0.05,510)\n",
      "        SetAxis(TTbarNm1Histos[-1],'Y',1.45,0.05,0.007,0.05,510)\n",
      "        SetAxis(QCDFull,'Y',1.45,0.05,0.007,0.05,510)\n",
      "        SetAxis(SingleTFull,'Y',1.45,0.05,0.007,0.05,510)\n",
      "        SetAxis(DibosonFull,'Y',1.45,0.05,0.007,0.05,510)\n",
      "        SetAxis(DYFull,'Y',1.45,0.05,0.007,0.05,510)\n",
      "    \n",
      "        SetCos(DataNm1Histos[-1],0,0,ROOT.kBlack,2,1,20)\n",
      "        SetCos(SignalNm1Histos[-1],ROOT.kSpring,3444,ROOT.kBlack,2,1,1)\n",
      "        SetCos(TTbarNm1Histos[-1],ROOT.kRed,3345,ROOT.kBlack,1,1,1)\n",
      "        SetCos(QCDFull,ROOT.kViolet,1001,ROOT.kBlack,1,1,1)\n",
      "        SetCos(SingleTFull,ROOT.kBlack,3305,ROOT.kBlack,1,1,1)\n",
      "        SetCos(DibosonFull,ROOT.kWhite,1001,ROOT.kBlack,1,1,1)\n",
      "        SetCos(DYFull,ROOT.kBlue,1001,ROOT.kBlack,1,1,1)\n",
      "        SetCos(MCFull,ROOT.kGray+2,3144,ROOT.kGray+2,1,1,1)\n",
      "            \n",
      "        CloneD=DataNm1Histos[-1].Clone(\"CopyD\"); CloneMC=MCFull.Clone(\"CopyMC\")\n",
      "        if j!=6: AllBKGStack=ROOT.THStack(\"AllBKGStack\", \";;Events/{0:.1f} \".format((MaxX-MinX)/Nbins)+Units[j])\n",
      "        else: AllBKGStack=ROOT.THStack(\"AllBKGStack\", \";;Events/{0:.2f} \".format((MaxX-MinX)/Nbins)+Units[j])\n",
      "        AllBKGStack.Add(DibosonFull); AllBKGStack.Add(SingleTFull)\n",
      "        AllBKGStack.Add(TTbarNm1Histos[-1]); AllBKGStack.Add(DYFull); AllBKGStack.Add(QCDFull)\n",
      "        AllBKGStack.SetMinimum(0.3)\n",
      "    \n",
      "        if j<6 or j>7: LEG=ROOT.TLegend(0.6,0.6,0.9,0.9)\n",
      "        else: LEG=ROOT.TLegend(0.2,0.6,0.5,0.9)\n",
      "        LEG.AddEntry(DataNm1Histos[-1], \"Data\", \"p\")\n",
      "        LEG.AddEntry(QCDFull, \"QCD\", \"f\")\n",
      "        LEG.AddEntry(DYFull, \"Zjets\", \"f\")\n",
      "        LEG.AddEntry(TTbarNm1Histos[-1], \"TTbar\", \"f\")\n",
      "        LEG.AddEntry(SingleTFull, \"Single Top\", \"f\")\n",
      "        LEG.AddEntry(DibosonFull, \"Diboson\", \"f\")\n",
      "        LEG.AddEntry(SignalNm1Histos[-1], \"Signal M(T')=700 GeV/c^{2}\", \"f\")\n",
      "        LEG.SetFillColor(0)\n",
      "        Maxima=[MCFull.GetBinErrorUp(MCFull.GetMaximumBin())+MCFull.GetMaximum(),DataNm1Histos[-1].GetBinErrorUp(DataNm1Histos[-1].GetMaximumBin())+DataNm1Histos[-1].GetMaximum()]\n",
      "        AllBKGStack.SetMaximum(1.05*max(Maxima))\n",
      "        AllBKGStack.Draw(\"hist\")\n",
      "        AllBKGStack.GetHistogram().GetYaxis().SetTitleOffset(1.65)\n",
      "        MCFull.Draw(\"e2 same\")\n",
      "        SignalNm1Histos[-1].Draw(\"hist same\"); DataNm1Histos[-1].Draw(\"E0X0 same\")\n",
      "        if i!=len(CutsNm1): Pad1.SetLogy(); Pad1.RedrawAxis()\n",
      "    \n",
      "        LEG.Draw()\n",
      "        CurrentStyle.SetPadTickX(1)\n",
      "        CurCanv1.cd()\n",
      "        \n",
      "        Pad2=ROOT.TPad(\"pad2\",\"pad2\",0,0,1,0.3)\n",
      "        Pad2.SetTopMargin(0)\n",
      "        Pad2.SetLeftMargin(0.16)\n",
      "        Pad2.SetBottomMargin(0.25)\n",
      "        Pad2.Draw()\n",
      "        Pad2.cd()\n",
      "        \n",
      "        CloneMC.SetMinimum(0.1); CloneMC.SetMaximum(1.9)\n",
      "        CloneMC.Sumw2()\n",
      "        CloneMC.SetStats(0)\n",
      "        CloneMC.SetTitle(\";\"+XaxisT[j]+\" \"+Units[j]+\";Data/MC\")\n",
      "        CloneMC.Divide(MCFull)\n",
      "        CloneMC.SetFillStyle(1001)\n",
      "        SetAxis(CloneMC,'X',0.9,0.09,0.007,0.09,510)\n",
      "        SetAxis(CloneMC,'Y',0.75,0.09,0.007,0.09,404)\n",
      "        CloneMC.Draw(\"E2\")\n",
      "        \n",
      "        CloneD.Sumw2()\n",
      "        #CloneD.Scale(DataNm1Histos[-1].Integral()/CloneD.Integral()); CloneE.SetStats(0)\n",
      "        CloneD.SetTitle(\";\"+XaxisT[j]+\" \"+Units[j]+\";Data/MC\")\n",
      "        CloneD.Divide(MCFull)\n",
      "        CloneD.Draw(\"E0X0 same\")\n",
      "        \n",
      "        if i==0 and j==0: CurCanv1.Print(PDFName+\"(\",\"Title:\"+Titles[j])\n",
      "        elif i==(len(CutsNm1)-1) and j==(len(Titles)-1): CurCanv1.Print(PDFName+\")\",\"Title:\"+Titles[j])\n",
      "        else: CurCanv1.Print(PDFName,\"Title:\"+Titles[j])\n",
      "        \n",
      "        CurCanv1.Clear(); CurrentStyle.SetPadTickX(0)\n",
      "        CurCanv1.cd(1)\n",
      "                    \n",
      "    #del(HistosToplot); del(CurCanv1); del(Pad1); del(Pad2)\n",
      "    #del(CloneA); del(CloneE); del(CloneE1); del(CloneE2)\n",
      "print QCDInt\n",
      "print TopInt\n",
      "print DibInt"
     ],
     "language": "python",
     "metadata": {},
     "outputs": [
      {
       "output_type": "stream",
       "stream": "stderr",
       "text": [
        "TH1F::Sumw2:0: RuntimeWarning: Sum of squares of weights structure already created\n",
        "TH1F::Sumw2:0: RuntimeWarning: Sum of squares of weights structure already created\n",
        "TH1F::Sumw2:0: RuntimeWarning: Sum of squares of weights structure already created\n",
        "TH1F::Sumw2:0: RuntimeWarning: Sum of squares of weights structure already created\n"
       ]
      },
      {
       "output_type": "stream",
       "stream": "stderr",
       "text": [
        "TH1F::Sumw2:0: RuntimeWarning: Sum of squares of weights structure already created\n",
        "TH1F::Sumw2:0: RuntimeWarning: Sum of squares of weights structure already created\n",
        "TH1F::Sumw2:0: RuntimeWarning: Sum of squares of weights structure already created\n",
        "TH1F::Sumw2:0: RuntimeWarning: Sum of squares of weights structure already created\n"
       ]
      },
      {
       "output_type": "stream",
       "stream": "stderr",
       "text": [
        "TH1F::Sumw2:0: RuntimeWarning: Sum of squares of weights structure already created\n",
        "TH1F::Sumw2:0: RuntimeWarning: Sum of squares of weights structure already created\n",
        "TH1F::Sumw2:0: RuntimeWarning: Sum of squares of weights structure already created\n",
        "TH1F::Sumw2:0: RuntimeWarning: Sum of squares of weights structure already created\n"
       ]
      },
      {
       "output_type": "stream",
       "stream": "stderr",
       "text": [
        "TH1F::Sumw2:0: RuntimeWarning: Sum of squares of weights structure already created\n",
        "TH1F::Sumw2:0: RuntimeWarning: Sum of squares of weights structure already created\n",
        "TH1F::Sumw2:0: RuntimeWarning: Sum of squares of weights structure already created\n",
        "TH1F::Sumw2:0: RuntimeWarning: Sum of squares of weights structure already created\n"
       ]
      },
      {
       "output_type": "stream",
       "stream": "stderr",
       "text": [
        "TH1F::Sumw2:0: RuntimeWarning: Sum of squares of weights structure already created\n",
        "TH1F::Sumw2:0: RuntimeWarning: Sum of squares of weights structure already created\n",
        "TH1F::Sumw2:0: RuntimeWarning: Sum of squares of weights structure already created\n",
        "TH1F::Sumw2:0: RuntimeWarning: Sum of squares of weights structure already created\n"
       ]
      },
      {
       "output_type": "stream",
       "stream": "stderr",
       "text": [
        "TH1F::Sumw2:0: RuntimeWarning: Sum of squares of weights structure already created\n",
        "TH1F::Sumw2:0: RuntimeWarning: Sum of squares of weights structure already created\n",
        "TH1F::Sumw2:0: RuntimeWarning: Sum of squares of weights structure already created\n",
        "TH1F::Sumw2:0: RuntimeWarning: Sum of squares of weights structure already created\n"
       ]
      },
      {
       "output_type": "stream",
       "stream": "stderr",
       "text": [
        "TH1F::Sumw2:0: RuntimeWarning: Sum of squares of weights structure already created\n",
        "TH1F::Sumw2:0: RuntimeWarning: Sum of squares of weights structure already created\n",
        "TH1F::Sumw2:0: RuntimeWarning: Sum of squares of weights structure already created\n",
        "TH1F::Sumw2:0: RuntimeWarning: Sum of squares of weights structure already created\n"
       ]
      },
      {
       "output_type": "stream",
       "stream": "stderr",
       "text": [
        "TH1F::Sumw2:0: RuntimeWarning: Sum of squares of weights structure already created\n",
        "TH1F::Sumw2:0: RuntimeWarning: Sum of squares of weights structure already created\n",
        "TH1F::Sumw2:0: RuntimeWarning: Sum of squares of weights structure already created\n",
        "TH1F::Sumw2:0: RuntimeWarning: Sum of squares of weights structure already created\n"
       ]
      },
      {
       "output_type": "stream",
       "stream": "stderr",
       "text": [
        "TH1F::Sumw2:0: RuntimeWarning: Sum of squares of weights structure already created\n",
        "TH1F::Sumw2:0: RuntimeWarning: Sum of squares of weights structure already created\n",
        "TH1F::Sumw2:0: RuntimeWarning: Sum of squares of weights structure already created\n",
        "TH1F::Sumw2:0: RuntimeWarning: Sum of squares of weights structure already created\n"
       ]
      },
      {
       "output_type": "stream",
       "stream": "stderr",
       "text": [
        "TH1F::Sumw2:0: RuntimeWarning: Sum of squares of weights structure already created\n",
        "TH1F::Sumw2:0: RuntimeWarning: Sum of squares of weights structure already created\n",
        "TH1F::Sumw2:0: RuntimeWarning: Sum of squares of weights structure already created\n",
        "TH1F::Sumw2:0: RuntimeWarning: Sum of squares of weights structure already created\n"
       ]
      },
      {
       "output_type": "stream",
       "stream": "stderr",
       "text": [
        "TH1F::Sumw2:0: RuntimeWarning: Sum of squares of weights structure already created\n",
        "TH1F::Sumw2:0: RuntimeWarning: Sum of squares of weights structure already created\n",
        "TH1F::Sumw2:0: RuntimeWarning: Sum of squares of weights structure already created\n",
        "TH1F::Sumw2:0: RuntimeWarning: Sum of squares of weights structure already created\n"
       ]
      },
      {
       "output_type": "stream",
       "stream": "stderr",
       "text": [
        "TH1F::Sumw2:0: RuntimeWarning: Sum of squares of weights structure already created\n",
        "TH1F::Sumw2:0: RuntimeWarning: Sum of squares of weights structure already created\n",
        "TH1F::Sumw2:0: RuntimeWarning: Sum of squares of weights structure already created\n",
        "TH1F::Sumw2:0: RuntimeWarning: Sum of squares of weights structure already created\n"
       ]
      },
      {
       "output_type": "stream",
       "stream": "stderr",
       "text": [
        "TH1F::Sumw2:0: RuntimeWarning: Sum of squares of weights structure already created\n",
        "TH1F::Sumw2:0: RuntimeWarning: Sum of squares of weights structure already created\n",
        "TH1F::Sumw2:0: RuntimeWarning: Sum of squares of weights structure already created\n",
        "TH1F::Sumw2:0: RuntimeWarning: Sum of squares of weights structure already created\n"
       ]
      },
      {
       "output_type": "stream",
       "stream": "stderr",
       "text": [
        "TH1F::Sumw2:0: RuntimeWarning: Sum of squares of weights structure already created\n",
        "TH1F::Sumw2:0: RuntimeWarning: Sum of squares of weights structure already created\n",
        "TH1F::Sumw2:0: RuntimeWarning: Sum of squares of weights structure already created\n",
        "TH1F::Sumw2:0: RuntimeWarning: Sum of squares of weights structure already created\n"
       ]
      },
      {
       "output_type": "stream",
       "stream": "stderr",
       "text": [
        "TH1F::Sumw2:0: RuntimeWarning: Sum of squares of weights structure already created\n",
        "TH1F::Sumw2:0: RuntimeWarning: Sum of squares of weights structure already created\n",
        "TH1F::Sumw2:0: RuntimeWarning: Sum of squares of weights structure already created\n",
        "TH1F::Sumw2:0: RuntimeWarning: Sum of squares of weights structure already created\n"
       ]
      },
      {
       "output_type": "stream",
       "stream": "stderr",
       "text": [
        "TH1F::Sumw2:0: RuntimeWarning: Sum of squares of weights structure already created\n",
        "TH1F::Sumw2:0: RuntimeWarning: Sum of squares of weights structure already created\n",
        "TH1F::Sumw2:0: RuntimeWarning: Sum of squares of weights structure already created\n",
        "TH1F::Sumw2:0: RuntimeWarning: Sum of squares of weights structure already created\n"
       ]
      },
      {
       "output_type": "stream",
       "stream": "stderr",
       "text": [
        "TH1F::Sumw2:0: RuntimeWarning: Sum of squares of weights structure already created\n",
        "TH1F::Sumw2:0: RuntimeWarning: Sum of squares of weights structure already created\n",
        "TH1F::Sumw2:0: RuntimeWarning: Sum of squares of weights structure already created\n",
        "TH1F::Sumw2:0: RuntimeWarning: Sum of squares of weights structure already created\n"
       ]
      },
      {
       "output_type": "stream",
       "stream": "stderr",
       "text": [
        "TH1F::Sumw2:0: RuntimeWarning: Sum of squares of weights structure already created\n",
        "TH1F::Sumw2:0: RuntimeWarning: Sum of squares of weights structure already created\n",
        "TH1F::Sumw2:0: RuntimeWarning: Sum of squares of weights structure already created\n",
        "TH1F::Sumw2:0: RuntimeWarning: Sum of squares of weights structure already created\n"
       ]
      },
      {
       "output_type": "stream",
       "stream": "stderr",
       "text": [
        "TH1F::Sumw2:0: RuntimeWarning: Sum of squares of weights structure already created\n",
        "TH1F::Sumw2:0: RuntimeWarning: Sum of squares of weights structure already created\n",
        "TH1F::Sumw2:0: RuntimeWarning: Sum of squares of weights structure already created\n",
        "TH1F::Sumw2:0: RuntimeWarning: Sum of squares of weights structure already created\n"
       ]
      },
      {
       "output_type": "stream",
       "stream": "stderr",
       "text": [
        "TH1F::Sumw2:0: RuntimeWarning: Sum of squares of weights structure already created\n",
        "TH1F::Sumw2:0: RuntimeWarning: Sum of squares of weights structure already created\n",
        "TH1F::Sumw2:0: RuntimeWarning: Sum of squares of weights structure already created\n",
        "TH1F::Sumw2:0: RuntimeWarning: Sum of squares of weights structure already created\n"
       ]
      },
      {
       "output_type": "stream",
       "stream": "stderr",
       "text": [
        "TH1F::Sumw2:0: RuntimeWarning: Sum of squares of weights structure already created\n",
        "TH1F::Sumw2:0: RuntimeWarning: Sum of squares of weights structure already created\n",
        "TH1F::Sumw2:0: RuntimeWarning: Sum of squares of weights structure already created\n",
        "TH1F::Sumw2:0: RuntimeWarning: Sum of squares of weights structure already created\n"
       ]
      },
      {
       "output_type": "stream",
       "stream": "stderr",
       "text": [
        "TH1F::Sumw2:0: RuntimeWarning: Sum of squares of weights structure already created\n",
        "TH1F::Sumw2:0: RuntimeWarning: Sum of squares of weights structure already created\n",
        "TH1F::Sumw2:0: RuntimeWarning: Sum of squares of weights structure already created\n",
        "TH1F::Sumw2:0: RuntimeWarning: Sum of squares of weights structure already created\n"
       ]
      },
      {
       "output_type": "stream",
       "stream": "stderr",
       "text": [
        "TH1F::Sumw2:0: RuntimeWarning: Sum of squares of weights structure already created\n",
        "TH1F::Sumw2:0: RuntimeWarning: Sum of squares of weights structure already created\n",
        "TH1F::Sumw2:0: RuntimeWarning: Sum of squares of weights structure already created\n",
        "TH1F::Sumw2:0: RuntimeWarning: Sum of squares of weights structure already created\n"
       ]
      },
      {
       "output_type": "stream",
       "stream": "stderr",
       "text": [
        "TH1F::Sumw2:0: RuntimeWarning: Sum of squares of weights structure already created\n",
        "TH1F::Sumw2:0: RuntimeWarning: Sum of squares of weights structure already created\n",
        "TH1F::Sumw2:0: RuntimeWarning: Sum of squares of weights structure already created\n",
        "TH1F::Sumw2:0: RuntimeWarning: Sum of squares of weights structure already created\n"
       ]
      },
      {
       "output_type": "stream",
       "stream": "stderr",
       "text": [
        "TH1F::Sumw2:0: RuntimeWarning: Sum of squares of weights structure already created\n",
        "TH1F::Sumw2:0: RuntimeWarning: Sum of squares of weights structure already created\n",
        "TH1F::Sumw2:0: RuntimeWarning: Sum of squares of weights structure already created\n",
        "TH1F::Sumw2:0: RuntimeWarning: Sum of squares of weights structure already created\n"
       ]
      },
      {
       "output_type": "stream",
       "stream": "stderr",
       "text": [
        "TH1F::Sumw2:0: RuntimeWarning: Sum of squares of weights structure already created\n",
        "TH1F::Sumw2:0: RuntimeWarning: Sum of squares of weights structure already created\n",
        "TH1F::Sumw2:0: RuntimeWarning: Sum of squares of weights structure already created\n",
        "TH1F::Sumw2:0: RuntimeWarning: Sum of squares of weights structure already created\n"
       ]
      },
      {
       "output_type": "stream",
       "stream": "stderr",
       "text": [
        "TH1F::Sumw2:0: RuntimeWarning: Sum of squares of weights structure already created\n",
        "TH1F::Sumw2:0: RuntimeWarning: Sum of squares of weights structure already created\n",
        "TH1F::Sumw2:0: RuntimeWarning: Sum of squares of weights structure already created\n",
        "TH1F::Sumw2:0: RuntimeWarning: Sum of squares of weights structure already created\n"
       ]
      },
      {
       "output_type": "stream",
       "stream": "stderr",
       "text": [
        "TH1F::Sumw2:0: RuntimeWarning: Sum of squares of weights structure already created\n",
        "TH1F::Sumw2:0: RuntimeWarning: Sum of squares of weights structure already created\n",
        "TH1F::Sumw2:0: RuntimeWarning: Sum of squares of weights structure already created\n",
        "TH1F::Sumw2:0: RuntimeWarning: Sum of squares of weights structure already created\n"
       ]
      },
      {
       "output_type": "stream",
       "stream": "stderr",
       "text": [
        "TH1F::Sumw2:0: RuntimeWarning: Sum of squares of weights structure already created\n",
        "TH1F::Sumw2:0: RuntimeWarning: Sum of squares of weights structure already created\n",
        "TH1F::Sumw2:0: RuntimeWarning: Sum of squares of weights structure already created\n",
        "TH1F::Sumw2:0: RuntimeWarning: Sum of squares of weights structure already created\n"
       ]
      },
      {
       "output_type": "stream",
       "stream": "stderr",
       "text": [
        "TH1F::Sumw2:0: RuntimeWarning: Sum of squares of weights structure already created\n",
        "TH1F::Sumw2:0: RuntimeWarning: Sum of squares of weights structure already created\n",
        "TH1F::Sumw2:0: RuntimeWarning: Sum of squares of weights structure already created\n",
        "TH1F::Sumw2:0: RuntimeWarning: Sum of squares of weights structure already created\n"
       ]
      },
      {
       "output_type": "stream",
       "stream": "stderr",
       "text": [
        "TH1F::Sumw2:0: RuntimeWarning: Sum of squares of weights structure already created\n",
        "TH1F::Sumw2:0: RuntimeWarning: Sum of squares of weights structure already created\n",
        "TH1F::Sumw2:0: RuntimeWarning: Sum of squares of weights structure already created\n",
        "TH1F::Sumw2:0: RuntimeWarning: Sum of squares of weights structure already created\n"
       ]
      },
      {
       "output_type": "stream",
       "stream": "stderr",
       "text": [
        "TH1F::Sumw2:0: RuntimeWarning: Sum of squares of weights structure already created\n",
        "TH1F::Sumw2:0: RuntimeWarning: Sum of squares of weights structure already created\n",
        "TH1F::Sumw2:0: RuntimeWarning: Sum of squares of weights structure already created\n",
        "TH1F::Sumw2:0: RuntimeWarning: Sum of squares of weights structure already created\n"
       ]
      },
      {
       "output_type": "stream",
       "stream": "stderr",
       "text": [
        "TH1F::Sumw2:0: RuntimeWarning: Sum of squares of weights structure already created\n",
        "TH1F::Sumw2:0: RuntimeWarning: Sum of squares of weights structure already created\n",
        "TH1F::Sumw2:0: RuntimeWarning: Sum of squares of weights structure already created\n",
        "TH1F::Sumw2:0: RuntimeWarning: Sum of squares of weights structure already created\n"
       ]
      },
      {
       "output_type": "stream",
       "stream": "stderr",
       "text": [
        "TH1F::Sumw2:0: RuntimeWarning: Sum of squares of weights structure already created\n",
        "TH1F::Sumw2:0: RuntimeWarning: Sum of squares of weights structure already created\n",
        "TH1F::Sumw2:0: RuntimeWarning: Sum of squares of weights structure already created\n",
        "TH1F::Sumw2:0: RuntimeWarning: Sum of squares of weights structure already created\n"
       ]
      },
      {
       "output_type": "stream",
       "stream": "stderr",
       "text": [
        "TH1F::Sumw2:0: RuntimeWarning: Sum of squares of weights structure already created\n",
        "TH1F::Sumw2:0: RuntimeWarning: Sum of squares of weights structure already created\n",
        "TH1F::Sumw2:0: RuntimeWarning: Sum of squares of weights structure already created\n",
        "TH1F::Sumw2:0: RuntimeWarning: Sum of squares of weights structure already created\n"
       ]
      },
      {
       "output_type": "stream",
       "stream": "stderr",
       "text": [
        "TH1F::Sumw2:0: RuntimeWarning: Sum of squares of weights structure already created\n",
        "TH1F::Sumw2:0: RuntimeWarning: Sum of squares of weights structure already created\n",
        "TH1F::Sumw2:0: RuntimeWarning: Sum of squares of weights structure already created\n",
        "TH1F::Sumw2:0: RuntimeWarning: Sum of squares of weights structure already created\n"
       ]
      },
      {
       "output_type": "stream",
       "stream": "stderr",
       "text": [
        "TH1F::Sumw2:0: RuntimeWarning: Sum of squares of weights structure already created\n",
        "TH1F::Sumw2:0: RuntimeWarning: Sum of squares of weights structure already created\n",
        "TH1F::Sumw2:0: RuntimeWarning: Sum of squares of weights structure already created\n",
        "TH1F::Sumw2:0: RuntimeWarning: Sum of squares of weights structure already created\n"
       ]
      },
      {
       "output_type": "stream",
       "stream": "stderr",
       "text": [
        "TH1F::Sumw2:0: RuntimeWarning: Sum of squares of weights structure already created\n",
        "TH1F::Sumw2:0: RuntimeWarning: Sum of squares of weights structure already created\n",
        "TH1F::Sumw2:0: RuntimeWarning: Sum of squares of weights structure already created\n",
        "TH1F::Sumw2:0: RuntimeWarning: Sum of squares of weights structure already created\n"
       ]
      },
      {
       "output_type": "stream",
       "stream": "stderr",
       "text": [
        "TH1F::Sumw2:0: RuntimeWarning: Sum of squares of weights structure already created\n",
        "TH1F::Sumw2:0: RuntimeWarning: Sum of squares of weights structure already created\n",
        "TH1F::Sumw2:0: RuntimeWarning: Sum of squares of weights structure already created\n",
        "TH1F::Sumw2:0: RuntimeWarning: Sum of squares of weights structure already created\n"
       ]
      },
      {
       "output_type": "stream",
       "stream": "stderr",
       "text": [
        "TH1F::Sumw2:0: RuntimeWarning: Sum of squares of weights structure already created\n",
        "TH1F::Sumw2:0: RuntimeWarning: Sum of squares of weights structure already created\n",
        "TH1F::Sumw2:0: RuntimeWarning: Sum of squares of weights structure already created\n",
        "TH1F::Sumw2:0: RuntimeWarning: Sum of squares of weights structure already created\n"
       ]
      },
      {
       "output_type": "stream",
       "stream": "stderr",
       "text": [
        "TH1F::Sumw2:0: RuntimeWarning: Sum of squares of weights structure already created\n",
        "TH1F::Sumw2:0: RuntimeWarning: Sum of squares of weights structure already created\n",
        "TH1F::Sumw2:0: RuntimeWarning: Sum of squares of weights structure already created\n",
        "TH1F::Sumw2:0: RuntimeWarning: Sum of squares of weights structure already created\n"
       ]
      },
      {
       "output_type": "stream",
       "stream": "stderr",
       "text": [
        "TH1F::Sumw2:0: RuntimeWarning: Sum of squares of weights structure already created\n",
        "TH1F::Sumw2:0: RuntimeWarning: Sum of squares of weights structure already created\n",
        "TH1F::Sumw2:0: RuntimeWarning: Sum of squares of weights structure already created\n",
        "TH1F::Sumw2:0: RuntimeWarning: Sum of squares of weights structure already created\n"
       ]
      },
      {
       "output_type": "stream",
       "stream": "stderr",
       "text": [
        "TH1F::Sumw2:0: RuntimeWarning: Sum of squares of weights structure already created\n",
        "TH1F::Sumw2:0: RuntimeWarning: Sum of squares of weights structure already created\n",
        "TH1F::Sumw2:0: RuntimeWarning: Sum of squares of weights structure already created\n",
        "TH1F::Sumw2:0: RuntimeWarning: Sum of squares of weights structure already created\n"
       ]
      },
      {
       "output_type": "stream",
       "stream": "stderr",
       "text": [
        "TH1F::Sumw2:0: RuntimeWarning: Sum of squares of weights structure already created\n",
        "TH1F::Sumw2:0: RuntimeWarning: Sum of squares of weights structure already created\n",
        "TH1F::Sumw2:0: RuntimeWarning: Sum of squares of weights structure already created\n",
        "TH1F::Sumw2:0: RuntimeWarning: Sum of squares of weights structure already created\n"
       ]
      },
      {
       "output_type": "stream",
       "stream": "stderr",
       "text": [
        "TH1F::Sumw2:0: RuntimeWarning: Sum of squares of weights structure already created\n",
        "TH1F::Sumw2:0: RuntimeWarning: Sum of squares of weights structure already created\n",
        "TH1F::Sumw2:0: RuntimeWarning: Sum of squares of weights structure already created\n",
        "TH1F::Sumw2:0: RuntimeWarning: Sum of squares of weights structure already created\n"
       ]
      },
      {
       "output_type": "stream",
       "stream": "stderr",
       "text": [
        "TH1F::Sumw2:0: RuntimeWarning: Sum of squares of weights structure already created\n",
        "TH1F::Sumw2:0: RuntimeWarning: Sum of squares of weights structure already created\n",
        "TH1F::Sumw2:0: RuntimeWarning: Sum of squares of weights structure already created\n",
        "TH1F::Sumw2:0: RuntimeWarning: Sum of squares of weights structure already created\n"
       ]
      },
      {
       "output_type": "stream",
       "stream": "stderr",
       "text": [
        "TH1F::Sumw2:0: RuntimeWarning: Sum of squares of weights structure already created\n",
        "TH1F::Sumw2:0: RuntimeWarning: Sum of squares of weights structure already created\n",
        "TH1F::Sumw2:0: RuntimeWarning: Sum of squares of weights structure already created\n",
        "TH1F::Sumw2:0: RuntimeWarning: Sum of squares of weights structure already created\n"
       ]
      },
      {
       "output_type": "stream",
       "stream": "stderr",
       "text": [
        "TH1F::Sumw2:0: RuntimeWarning: Sum of squares of weights structure already created\n",
        "TH1F::Sumw2:0: RuntimeWarning: Sum of squares of weights structure already created\n",
        "TH1F::Sumw2:0: RuntimeWarning: Sum of squares of weights structure already created\n",
        "TH1F::Sumw2:0: RuntimeWarning: Sum of squares of weights structure already created\n"
       ]
      },
      {
       "output_type": "stream",
       "stream": "stderr",
       "text": [
        "TH1F::Sumw2:0: RuntimeWarning: Sum of squares of weights structure already created\n",
        "TH1F::Sumw2:0: RuntimeWarning: Sum of squares of weights structure already created\n",
        "TH1F::Sumw2:0: RuntimeWarning: Sum of squares of weights structure already created\n",
        "TH1F::Sumw2:0: RuntimeWarning: Sum of squares of weights structure already created\n"
       ]
      },
      {
       "output_type": "stream",
       "stream": "stderr",
       "text": [
        "TH1F::Sumw2:0: RuntimeWarning: Sum of squares of weights structure already created\n",
        "TH1F::Sumw2:0: RuntimeWarning: Sum of squares of weights structure already created\n",
        "TH1F::Sumw2:0: RuntimeWarning: Sum of squares of weights structure already created\n",
        "TH1F::Sumw2:0: RuntimeWarning: Sum of squares of weights structure already created\n"
       ]
      },
      {
       "output_type": "stream",
       "stream": "stderr",
       "text": [
        "TH1F::Sumw2:0: RuntimeWarning: Sum of squares of weights structure already created\n",
        "TH1F::Sumw2:0: RuntimeWarning: Sum of squares of weights structure already created\n",
        "TH1F::Sumw2:0: RuntimeWarning: Sum of squares of weights structure already created\n",
        "TH1F::Sumw2:0: RuntimeWarning: Sum of squares of weights structure already created\n"
       ]
      },
      {
       "output_type": "stream",
       "stream": "stderr",
       "text": [
        "TH1F::Sumw2:0: RuntimeWarning: Sum of squares of weights structure already created\n",
        "TH1F::Sumw2:0: RuntimeWarning: Sum of squares of weights structure already created\n",
        "TH1F::Sumw2:0: RuntimeWarning: Sum of squares of weights structure already created\n",
        "TH1F::Sumw2:0: RuntimeWarning: Sum of squares of weights structure already created\n"
       ]
      },
      {
       "output_type": "stream",
       "stream": "stderr",
       "text": [
        "TH1F::Sumw2:0: RuntimeWarning: Sum of squares of weights structure already created\n",
        "TH1F::Sumw2:0: RuntimeWarning: Sum of squares of weights structure already created\n",
        "TH1F::Sumw2:0: RuntimeWarning: Sum of squares of weights structure already created\n",
        "TH1F::Sumw2:0: RuntimeWarning: Sum of squares of weights structure already created\n"
       ]
      },
      {
       "output_type": "stream",
       "stream": "stderr",
       "text": [
        "TH1F::Sumw2:0: RuntimeWarning: Sum of squares of weights structure already created\n",
        "TH1F::Sumw2:0: RuntimeWarning: Sum of squares of weights structure already created\n",
        "TH1F::Sumw2:0: RuntimeWarning: Sum of squares of weights structure already created\n",
        "TH1F::Sumw2:0: RuntimeWarning: Sum of squares of weights structure already created\n"
       ]
      },
      {
       "output_type": "stream",
       "stream": "stderr",
       "text": [
        "TH1F::Sumw2:0: RuntimeWarning: Sum of squares of weights structure already created\n",
        "TH1F::Sumw2:0: RuntimeWarning: Sum of squares of weights structure already created\n",
        "TH1F::Sumw2:0: RuntimeWarning: Sum of squares of weights structure already created\n",
        "TH1F::Sumw2:0: RuntimeWarning: Sum of squares of weights structure already created\n"
       ]
      },
      {
       "output_type": "stream",
       "stream": "stderr",
       "text": [
        "TH1F::Sumw2:0: RuntimeWarning: Sum of squares of weights structure already created\n",
        "TH1F::Sumw2:0: RuntimeWarning: Sum of squares of weights structure already created\n",
        "TH1F::Sumw2:0: RuntimeWarning: Sum of squares of weights structure already created\n",
        "TH1F::Sumw2:0: RuntimeWarning: Sum of squares of weights structure already created\n"
       ]
      },
      {
       "output_type": "stream",
       "stream": "stderr",
       "text": [
        "TH1F::Sumw2:0: RuntimeWarning: Sum of squares of weights structure already created\n",
        "TH1F::Sumw2:0: RuntimeWarning: Sum of squares of weights structure already created\n",
        "TH1F::Sumw2:0: RuntimeWarning: Sum of squares of weights structure already created\n",
        "TH1F::Sumw2:0: RuntimeWarning: Sum of squares of weights structure already created\n"
       ]
      },
      {
       "output_type": "stream",
       "stream": "stderr",
       "text": [
        "TH1F::Sumw2:0: RuntimeWarning: Sum of squares of weights structure already created\n",
        "TH1F::Sumw2:0: RuntimeWarning: Sum of squares of weights structure already created\n",
        "TH1F::Sumw2:0: RuntimeWarning: Sum of squares of weights structure already created\n",
        "TH1F::Sumw2:0: RuntimeWarning: Sum of squares of weights structure already created\n"
       ]
      },
      {
       "output_type": "stream",
       "stream": "stderr",
       "text": [
        "TH1F::Sumw2:0: RuntimeWarning: Sum of squares of weights structure already created\n",
        "TH1F::Sumw2:0: RuntimeWarning: Sum of squares of weights structure already created\n",
        "TH1F::Sumw2:0: RuntimeWarning: Sum of squares of weights structure already created\n",
        "TH1F::Sumw2:0: RuntimeWarning: Sum of squares of weights structure already created\n"
       ]
      },
      {
       "output_type": "stream",
       "stream": "stderr",
       "text": [
        "TH1F::Sumw2:0: RuntimeWarning: Sum of squares of weights structure already created\n",
        "TH1F::Sumw2:0: RuntimeWarning: Sum of squares of weights structure already created\n",
        "TH1F::Sumw2:0: RuntimeWarning: Sum of squares of weights structure already created\n",
        "TH1F::Sumw2:0: RuntimeWarning: Sum of squares of weights structure already created\n"
       ]
      },
      {
       "output_type": "stream",
       "stream": "stderr",
       "text": [
        "TH1F::Sumw2:0: RuntimeWarning: Sum of squares of weights structure already created\n",
        "TH1F::Sumw2:0: RuntimeWarning: Sum of squares of weights structure already created\n",
        "TH1F::Sumw2:0: RuntimeWarning: Sum of squares of weights structure already created\n",
        "TH1F::Sumw2:0: RuntimeWarning: Sum of squares of weights structure already created\n"
       ]
      },
      {
       "output_type": "stream",
       "stream": "stderr",
       "text": [
        "TH1F::Sumw2:0: RuntimeWarning: Sum of squares of weights structure already created\n",
        "TH1F::Sumw2:0: RuntimeWarning: Sum of squares of weights structure already created\n",
        "TH1F::Sumw2:0: RuntimeWarning: Sum of squares of weights structure already created\n",
        "TH1F::Sumw2:0: RuntimeWarning: Sum of squares of weights structure already created\n"
       ]
      },
      {
       "output_type": "stream",
       "stream": "stderr",
       "text": [
        "TH1F::Sumw2:0: RuntimeWarning: Sum of squares of weights structure already created\n",
        "TH1F::Sumw2:0: RuntimeWarning: Sum of squares of weights structure already created\n",
        "TH1F::Sumw2:0: RuntimeWarning: Sum of squares of weights structure already created\n",
        "TH1F::Sumw2:0: RuntimeWarning: Sum of squares of weights structure already created\n"
       ]
      },
      {
       "output_type": "stream",
       "stream": "stderr",
       "text": [
        "TH1F::Sumw2:0: RuntimeWarning: Sum of squares of weights structure already created\n",
        "TH1F::Sumw2:0: RuntimeWarning: Sum of squares of weights structure already created\n",
        "TH1F::Sumw2:0: RuntimeWarning: Sum of squares of weights structure already created\n",
        "TH1F::Sumw2:0: RuntimeWarning: Sum of squares of weights structure already created\n"
       ]
      },
      {
       "output_type": "stream",
       "stream": "stderr",
       "text": [
        "TH1F::Sumw2:0: RuntimeWarning: Sum of squares of weights structure already created\n",
        "TH1F::Sumw2:0: RuntimeWarning: Sum of squares of weights structure already created\n",
        "TH1F::Sumw2:0: RuntimeWarning: Sum of squares of weights structure already created\n",
        "TH1F::Sumw2:0: RuntimeWarning: Sum of squares of weights structure already created\n"
       ]
      },
      {
       "output_type": "stream",
       "stream": "stderr",
       "text": [
        "TH1F::Sumw2:0: RuntimeWarning: Sum of squares of weights structure already created\n",
        "TH1F::Sumw2:0: RuntimeWarning: Sum of squares of weights structure already created\n",
        "TH1F::Sumw2:0: RuntimeWarning: Sum of squares of weights structure already created\n",
        "TH1F::Sumw2:0: RuntimeWarning: Sum of squares of weights structure already created\n"
       ]
      },
      {
       "output_type": "stream",
       "stream": "stderr",
       "text": [
        "TH1F::Sumw2:0: RuntimeWarning: Sum of squares of weights structure already created\n",
        "TH1F::Sumw2:0: RuntimeWarning: Sum of squares of weights structure already created\n",
        "TH1F::Sumw2:0: RuntimeWarning: Sum of squares of weights structure already created\n",
        "TH1F::Sumw2:0: RuntimeWarning: Sum of squares of weights structure already created\n"
       ]
      },
      {
       "output_type": "stream",
       "stream": "stderr",
       "text": [
        "TH1F::Sumw2:0: RuntimeWarning: Sum of squares of weights structure already created\n",
        "TH1F::Sumw2:0: RuntimeWarning: Sum of squares of weights structure already created\n",
        "TH1F::Sumw2:0: RuntimeWarning: Sum of squares of weights structure already created\n",
        "TH1F::Sumw2:0: RuntimeWarning: Sum of squares of weights structure already created\n"
       ]
      },
      {
       "output_type": "stream",
       "stream": "stderr",
       "text": [
        "TH1F::Sumw2:0: RuntimeWarning: Sum of squares of weights structure already created\n",
        "TH1F::Sumw2:0: RuntimeWarning: Sum of squares of weights structure already created\n",
        "TH1F::Sumw2:0: RuntimeWarning: Sum of squares of weights structure already created\n",
        "TH1F::Sumw2:0: RuntimeWarning: Sum of squares of weights structure already created\n"
       ]
      },
      {
       "output_type": "stream",
       "stream": "stderr",
       "text": [
        "TH1F::Sumw2:0: RuntimeWarning: Sum of squares of weights structure already created\n",
        "TH1F::Sumw2:0: RuntimeWarning: Sum of squares of weights structure already created\n",
        "TH1F::Sumw2:0: RuntimeWarning: Sum of squares of weights structure already created\n",
        "TH1F::Sumw2:0: RuntimeWarning: Sum of squares of weights structure already created\n"
       ]
      },
      {
       "output_type": "stream",
       "stream": "stderr",
       "text": [
        "TH1F::Sumw2:0: RuntimeWarning: Sum of squares of weights structure already created\n",
        "TH1F::Sumw2:0: RuntimeWarning: Sum of squares of weights structure already created\n",
        "TH1F::Sumw2:0: RuntimeWarning: Sum of squares of weights structure already created\n",
        "TH1F::Sumw2:0: RuntimeWarning: Sum of squares of weights structure already created\n"
       ]
      },
      {
       "output_type": "stream",
       "stream": "stderr",
       "text": [
        "TH1F::Sumw2:0: RuntimeWarning: Sum of squares of weights structure already created\n",
        "TH1F::Sumw2:0: RuntimeWarning: Sum of squares of weights structure already created\n",
        "TH1F::Sumw2:0: RuntimeWarning: Sum of squares of weights structure already created\n",
        "TH1F::Sumw2:0: RuntimeWarning: Sum of squares of weights structure already created\n"
       ]
      },
      {
       "output_type": "stream",
       "stream": "stderr",
       "text": [
        "TH1F::Sumw2:0: RuntimeWarning: Sum of squares of weights structure already created\n",
        "TH1F::Sumw2:0: RuntimeWarning: Sum of squares of weights structure already created\n",
        "TH1F::Sumw2:0: RuntimeWarning: Sum of squares of weights structure already created\n",
        "TH1F::Sumw2:0: RuntimeWarning: Sum of squares of weights structure already created\n"
       ]
      },
      {
       "output_type": "stream",
       "stream": "stderr",
       "text": [
        "TH1F::Sumw2:0: RuntimeWarning: Sum of squares of weights structure already created\n",
        "TH1F::Sumw2:0: RuntimeWarning: Sum of squares of weights structure already created\n",
        "TH1F::Sumw2:0: RuntimeWarning: Sum of squares of weights structure already created\n",
        "TH1F::Sumw2:0: RuntimeWarning: Sum of squares of weights structure already created\n"
       ]
      },
      {
       "output_type": "stream",
       "stream": "stderr",
       "text": [
        "TH1F::Sumw2:0: RuntimeWarning: Sum of squares of weights structure already created\n",
        "TH1F::Sumw2:0: RuntimeWarning: Sum of squares of weights structure already created\n",
        "TH1F::Sumw2:0: RuntimeWarning: Sum of squares of weights structure already created\n",
        "TH1F::Sumw2:0: RuntimeWarning: Sum of squares of weights structure already created\n"
       ]
      },
      {
       "output_type": "stream",
       "stream": "stderr",
       "text": [
        "TH1F::Sumw2:0: RuntimeWarning: Sum of squares of weights structure already created\n",
        "TH1F::Sumw2:0: RuntimeWarning: Sum of squares of weights structure already created\n",
        "TH1F::Sumw2:0: RuntimeWarning: Sum of squares of weights structure already created\n",
        "TH1F::Sumw2:0: RuntimeWarning: Sum of squares of weights structure already created\n"
       ]
      },
      {
       "output_type": "stream",
       "stream": "stderr",
       "text": [
        "TH1F::Sumw2:0: RuntimeWarning: Sum of squares of weights structure already created\n",
        "TH1F::Sumw2:0: RuntimeWarning: Sum of squares of weights structure already created\n",
        "TH1F::Sumw2:0: RuntimeWarning: Sum of squares of weights structure already created\n",
        "TH1F::Sumw2:0: RuntimeWarning: Sum of squares of weights structure already created\n"
       ]
      },
      {
       "output_type": "stream",
       "stream": "stderr",
       "text": [
        "TH1F::Sumw2:0: RuntimeWarning: Sum of squares of weights structure already created\n",
        "TH1F::Sumw2:0: RuntimeWarning: Sum of squares of weights structure already created\n",
        "TH1F::Sumw2:0: RuntimeWarning: Sum of squares of weights structure already created\n",
        "TH1F::Sumw2:0: RuntimeWarning: Sum of squares of weights structure already created\n"
       ]
      },
      {
       "output_type": "stream",
       "stream": "stderr",
       "text": [
        "TH1F::Sumw2:0: RuntimeWarning: Sum of squares of weights structure already created\n",
        "TH1F::Sumw2:0: RuntimeWarning: Sum of squares of weights structure already created\n",
        "TH1F::Sumw2:0: RuntimeWarning: Sum of squares of weights structure already created\n",
        "TH1F::Sumw2:0: RuntimeWarning: Sum of squares of weights structure already created\n"
       ]
      },
      {
       "output_type": "stream",
       "stream": "stderr",
       "text": [
        "TH1F::Sumw2:0: RuntimeWarning: Sum of squares of weights structure already created\n",
        "TH1F::Sumw2:0: RuntimeWarning: Sum of squares of weights structure already created\n",
        "TH1F::Sumw2:0: RuntimeWarning: Sum of squares of weights structure already created\n",
        "TH1F::Sumw2:0: RuntimeWarning: Sum of squares of weights structure already created\n"
       ]
      },
      {
       "output_type": "stream",
       "stream": "stdout",
       "text": [
        "[511276.92711496353, 98162.18673629593, 23072.376041891985, 17656.227818571962, 12144.026695997454, 6507.327471763827, 457.67118510603905, 61.34724587202072]\n",
        "[43051.36169208586, 19434.621937952936, 5730.35760833323, 4896.713503323495, 3576.7631062418222, 1217.2811920493841, 122.85537449270487, 60.50409284234047]\n",
        "[129.387349948287, 27.306441463530064, 8.562580406665802, 7.054238684475422, 3.911846950650215, 1.4726812615990639, 0.0, 0.0]\n"
       ]
      }
     ],
     "prompt_number": 6
    },
    {
     "cell_type": "heading",
     "level": 3,
     "metadata": {},
     "source": [
      "Nminus1 plots, Analysis selection, Signal Sample using Control Sample"
     ]
    },
    {
     "cell_type": "code",
     "collapsed": false,
     "input": [
      "CutsNm1=[ROOT.TCut(\"\"),Cut1,CutDRbb,CutDRWH,CutHM,CutM2HP,CutDRTp6thJ,CutRelHT]\n",
      "OptVersion=NominalV+\"_\"+InclusiveV1+\"_\"+InclusiveV2\n",
      "\n",
      "CumulCut=ROOT.TCut(\"\")*CutHT\n",
      "SF=ROOT.TCut(\"weight\")\n",
      "PU=ROOT.TCut(\"PUR_function(NTI)\")\n",
      "#CMC=ROOT.TCut(\"weight*PUR_function(NTI)\")\n",
      "#CMC=PU\n",
      "CMC=ROOT.TCut(\"\")\n",
      "#CumulCut=CMC\n",
      "\n",
      "#\"M5J:DRHJ:DRWH:RelHT:Eta6thJ:M2HP:DRTp6thJ:HM:chi2:MTHAsym\"\n",
      "\n",
      "PDFName=\"Nminus1_AnaSel_BKGFromControlSampleOneCombination_\"+OptVersion+\".pdf\"\n",
      "CurCanv = rootnotes.canvas(\"MyPlot\", (600, 800))\n",
      "Titles=[\"chi2\", \"DRHJ\",\"DRWH\", \"HM\" , \"M2HP\", \"DRTp6thJ\", \"RelHT\", \"MTHAsym\", \n",
      "        \"THT\"]\n",
      "\n",
      "BinsLimits=[\"(50,0,500)\",\"(22,0.5,5)\",\"(30,0.5,10)\",\"(20,60,190)\",\"(31,0,20)\",\"(20,0.5,10)\",\"(15,0.1,1.0)\",\"(30,-0.5,1)\",\n",
      "            \"(35,400,3000)\"]\n",
      "Units=[\"\",\"\",\"\",\"\",\"\",\"GeV/c^{2}\",\"\",\"\",\n",
      "       \"GeV/c\"]\n",
      "XaxisT=[\"#chi^{2}\",\"#Delta R(bb)\", \"#Delta R(WH)\", \"M(H)\", \"(M(t^{2nd})+M(W^{2nd}))/M(H)\", \"#Delta R (T' j^{6})\",\n",
      "        \"Relative H_{T}\", \"(M(t)-M(H))/(M(t)+M(H))\",\n",
      "        \"H_{T}\"]\n",
      "\n",
      "ValString=[\"Data\",\"TTbar\",\"QCD\",\"MC-Sum\"]\n",
      "\n",
      "for i in xrange(len(CutsNm1)):\n",
      "    CumulCut=CumulCut*CutsNm1[i]\n",
      "    for j in xrange(len(Titles)):\n",
      "        BKGNm1Histos=[]; DataNm1Histos=[]\n",
      "    \n",
      "        DataA[0].Draw(Titles[j]+\" >> \"+Titles[j]+\"AD_Cut\"+str(i)+str(j)+BinsLimits[j],CumulCut)\n",
      "        DataNm1Histos.append(ROOT.gDirectory.Get(Titles[j]+\"AD_Cut\"+str(i)+str(j)))\n",
      "\n",
      "        DataE[0].Draw(Titles[j]+\" >> \"+Titles[j]+\"ED_Cut\"+str(i)+str(j)+BinsLimits[j],CumulCut)\n",
      "        BKGNm1Histos.append(ROOT.gDirectory.Get(Titles[j]+\"ED_Cut\"+str(i)+str(j)))\n",
      "        BKGNm1Histos[-1].Sumw2(); BKGNm1Histos[-1].Scale(DataNm1Histos[-1].Integral()/BKGNm1Histos[-1].Integral())\n",
      "        \n",
      "        ROOT.gPad.Clear()\n",
      "\n",
      "        CurrentStyle=ROOT.TStyle(\"CStyle\",\"Style for Plotting\")\n",
      "    \n",
      "        CurrentStyle.SetTitleSize(0.08, \"Y\")\n",
      "        CurrentStyle.SetTitleYOffset(1.5)\n",
      "                \n",
      "        CurCanv1 = rootnotes.canvas(\"MyPlot\", (600, 800))\n",
      "        CurCanv1.cd(1)\n",
      "        Pad1=ROOT.TPad(\"pad1\",\"pad1\",0,0.3,1,1)\n",
      "        Pad1.SetBottomMargin(0)\n",
      "        Pad1.SetLeftMargin(0.16)\n",
      "        Pad1.Draw()\n",
      "        Pad1.cd()\n",
      "        \n",
      "        BKGNm1Histos[-1].SetStats(ROOT.kFALSE)\n",
      "        MinX=float(BinsLimits[j].split(\",\")[1])\n",
      "        MaxX=float(BinsLimits[j].split(\",\")[-1][0:-1])\n",
      "        Nbins=int(BinsLimits[j].split(\",\")[0][1:])\n",
      "        if i!=5: BKGNm1Histos[-1].SetTitle(\";;Events/{0:.1f} \".format((MaxX-MinX)/Nbins)+Units[j])\n",
      "        else: BKGNm1Histos[-1].SetTitle(\";;Events/{0:.2f} \".format((MaxX-MinX)/Nbins)+Units[j])\n",
      "        SetAxis(BKGNm1Histos[-1],'Y',1.45,0.05,0.007,0.05,510)\n",
      "        SetAxis(DataNm1Histos[-1],'Y',1.45,0.05,0.007,0.05,510)\n",
      "    \n",
      "        SetCos(DataNm1Histos[-1],0,0,ROOT.kBlack,2,1,20)\n",
      "        SetCos(BKGNm1Histos[-1],ROOT.kGray+2,3144,ROOT.kGray+2,1,1,1)\n",
      "            \n",
      "        CloneD=DataNm1Histos[-1].Clone(\"CopyD\"); CloneMC=BKGNm1Histos[-1].Clone(\"CopyMC\")\n",
      "        BKGNm1Histos[-1].SetMinimum(0.3)\n",
      "    \n",
      "        if j<6 or j>7: LEG=ROOT.TLegend(0.6,0.6,0.9,0.9)\n",
      "        else: LEG=ROOT.TLegend(0.2,0.6,0.5,0.9)\n",
      "        LEG.AddEntry(DataNm1Histos[-1], \"Data\", \"p\")\n",
      "        LEG.AddEntry(BKGNm1Histos[-1], \"Control Sample\", \"f\")\n",
      "        LEG.SetFillColor(0)\n",
      "        Maxima=[BKGNm1Histos[-1].GetBinErrorUp(BKGNm1Histos[-1].GetMaximumBin())+BKGNm1Histos[-1].GetMaximum(),DataNm1Histos[-1].GetBinErrorUp(DataNm1Histos[-1].GetMaximumBin())+DataNm1Histos[-1].GetMaximum()]\n",
      "        BKGNm1Histos[-1].SetMaximum(1.05*max(Maxima))\n",
      "        BKGNm1Histos[-1].Draw(\"e2\"); DataNm1Histos[-1].Draw(\"E0X0 same\")\n",
      "        if i!=len(CutsNm1): Pad1.SetLogy(); Pad1.RedrawAxis()\n",
      "    \n",
      "        LEG.Draw()\n",
      "        CurrentStyle.SetPadTickX(1)\n",
      "        CurCanv1.cd()\n",
      "        \n",
      "        Pad2=ROOT.TPad(\"pad2\",\"pad2\",0,0,1,0.3)\n",
      "        Pad2.SetTopMargin(0)\n",
      "        Pad2.SetLeftMargin(0.16)\n",
      "        Pad2.SetBottomMargin(0.25)\n",
      "        Pad2.Draw()\n",
      "        Pad2.cd()\n",
      "        \n",
      "        CloneMC.SetMinimum(0.1); CloneMC.SetMaximum(1.9)\n",
      "        CloneMC.Sumw2()\n",
      "        CloneMC.SetStats(0)\n",
      "        CloneMC.SetTitle(\";\"+XaxisT[j]+\" \"+Units[j]+\";Data/MC\")\n",
      "        CloneMC.Divide(BKGNm1Histos[-1])\n",
      "        CloneMC.SetFillStyle(1001)\n",
      "        SetAxis(CloneMC,'X',0.9,0.09,0.007,0.09,510)\n",
      "        SetAxis(CloneMC,'Y',0.75,0.09,0.007,0.09,404)\n",
      "        CloneMC.Draw(\"E2\")\n",
      "        \n",
      "        CloneD.Sumw2()\n",
      "        #CloneD.Scale(DataNm1Histos[-1].Integral()/CloneD.Integral()); CloneE.SetStats(0)\n",
      "        CloneD.SetTitle(\";\"+XaxisT[j]+\" \"+Units[j]+\";Data/MC\")\n",
      "        CloneD.Divide(BKGNm1Histos[-1])\n",
      "        CloneD.Draw(\"E0X0 same\")\n",
      "        \n",
      "        if i==0 and j==0: CurCanv1.Print(PDFName+\"(\",\"Title:\"+Titles[j])\n",
      "        elif i==(len(CutsNm1)-1) and j==(len(Titles)-1): CurCanv1.Print(PDFName+\")\",\"Title:\"+Titles[j])\n",
      "        else: CurCanv1.Print(PDFName,\"Title:\"+Titles[j])\n",
      "        \n",
      "        CurCanv1.Clear(); CurrentStyle.SetPadTickX(0)\n",
      "        CurCanv1.cd(1)\n",
      "                    \n",
      "    #del(HistosToplot); del(CurCanv1); del(Pad1); del(Pad2)\n",
      "    #del(CloneA); del(CloneE); del(CloneE1); del(CloneE2)"
     ],
     "language": "python",
     "metadata": {},
     "outputs": [
      {
       "output_type": "stream",
       "stream": "stderr",
       "text": [
        "TH1F::Sumw2:0: RuntimeWarning: Sum of squares of weights structure already created\n",
        "TH1F::Sumw2:0: RuntimeWarning: Sum of squares of weights structure already created\n"
       ]
      },
      {
       "output_type": "stream",
       "stream": "stderr",
       "text": [
        "TH1F::Sumw2:0: RuntimeWarning: Sum of squares of weights structure already created\n",
        "TH1F::Sumw2:0: RuntimeWarning: Sum of squares of weights structure already created\n"
       ]
      },
      {
       "output_type": "stream",
       "stream": "stderr",
       "text": [
        "TH1F::Sumw2:0: RuntimeWarning: Sum of squares of weights structure already created\n",
        "TH1F::Sumw2:0: RuntimeWarning: Sum of squares of weights structure already created\n"
       ]
      },
      {
       "output_type": "stream",
       "stream": "stderr",
       "text": [
        "TH1F::Sumw2:0: RuntimeWarning: Sum of squares of weights structure already created\n",
        "TH1F::Sumw2:0: RuntimeWarning: Sum of squares of weights structure already created\n"
       ]
      },
      {
       "output_type": "stream",
       "stream": "stderr",
       "text": [
        "TH1F::Sumw2:0: RuntimeWarning: Sum of squares of weights structure already created\n",
        "TH1F::Sumw2:0: RuntimeWarning: Sum of squares of weights structure already created\n"
       ]
      },
      {
       "output_type": "stream",
       "stream": "stderr",
       "text": [
        "TH1F::Sumw2:0: RuntimeWarning: Sum of squares of weights structure already created\n",
        "TH1F::Sumw2:0: RuntimeWarning: Sum of squares of weights structure already created\n"
       ]
      },
      {
       "output_type": "stream",
       "stream": "stderr",
       "text": [
        "TH1F::Sumw2:0: RuntimeWarning: Sum of squares of weights structure already created\n",
        "TH1F::Sumw2:0: RuntimeWarning: Sum of squares of weights structure already created\n"
       ]
      },
      {
       "output_type": "stream",
       "stream": "stderr",
       "text": [
        "TH1F::Sumw2:0: RuntimeWarning: Sum of squares of weights structure already created\n",
        "TH1F::Sumw2:0: RuntimeWarning: Sum of squares of weights structure already created\n"
       ]
      },
      {
       "output_type": "stream",
       "stream": "stderr",
       "text": [
        "TH1F::Sumw2:0: RuntimeWarning: Sum of squares of weights structure already created\n",
        "TH1F::Sumw2:0: RuntimeWarning: Sum of squares of weights structure already created\n"
       ]
      },
      {
       "output_type": "stream",
       "stream": "stderr",
       "text": [
        "TH1F::Sumw2:0: RuntimeWarning: Sum of squares of weights structure already created\n",
        "TH1F::Sumw2:0: RuntimeWarning: Sum of squares of weights structure already created\n"
       ]
      },
      {
       "output_type": "stream",
       "stream": "stderr",
       "text": [
        "TH1F::Sumw2:0: RuntimeWarning: Sum of squares of weights structure already created\n",
        "TH1F::Sumw2:0: RuntimeWarning: Sum of squares of weights structure already created\n"
       ]
      },
      {
       "output_type": "stream",
       "stream": "stderr",
       "text": [
        "TH1F::Sumw2:0: RuntimeWarning: Sum of squares of weights structure already created\n",
        "TH1F::Sumw2:0: RuntimeWarning: Sum of squares of weights structure already created\n"
       ]
      },
      {
       "output_type": "stream",
       "stream": "stderr",
       "text": [
        "TH1F::Sumw2:0: RuntimeWarning: Sum of squares of weights structure already created\n",
        "TH1F::Sumw2:0: RuntimeWarning: Sum of squares of weights structure already created\n"
       ]
      },
      {
       "output_type": "stream",
       "stream": "stderr",
       "text": [
        "TH1F::Sumw2:0: RuntimeWarning: Sum of squares of weights structure already created\n",
        "TH1F::Sumw2:0: RuntimeWarning: Sum of squares of weights structure already created\n"
       ]
      },
      {
       "output_type": "stream",
       "stream": "stderr",
       "text": [
        "TH1F::Sumw2:0: RuntimeWarning: Sum of squares of weights structure already created\n",
        "TH1F::Sumw2:0: RuntimeWarning: Sum of squares of weights structure already created\n"
       ]
      },
      {
       "output_type": "stream",
       "stream": "stderr",
       "text": [
        "TH1F::Sumw2:0: RuntimeWarning: Sum of squares of weights structure already created\n",
        "TH1F::Sumw2:0: RuntimeWarning: Sum of squares of weights structure already created\n"
       ]
      },
      {
       "output_type": "stream",
       "stream": "stderr",
       "text": [
        "TH1F::Sumw2:0: RuntimeWarning: Sum of squares of weights structure already created\n",
        "TH1F::Sumw2:0: RuntimeWarning: Sum of squares of weights structure already created\n"
       ]
      },
      {
       "output_type": "stream",
       "stream": "stderr",
       "text": [
        "TH1F::Sumw2:0: RuntimeWarning: Sum of squares of weights structure already created\n",
        "TH1F::Sumw2:0: RuntimeWarning: Sum of squares of weights structure already created\n"
       ]
      },
      {
       "output_type": "stream",
       "stream": "stderr",
       "text": [
        "TH1F::Sumw2:0: RuntimeWarning: Sum of squares of weights structure already created\n",
        "TH1F::Sumw2:0: RuntimeWarning: Sum of squares of weights structure already created\n"
       ]
      },
      {
       "output_type": "stream",
       "stream": "stderr",
       "text": [
        "TH1F::Sumw2:0: RuntimeWarning: Sum of squares of weights structure already created\n",
        "TH1F::Sumw2:0: RuntimeWarning: Sum of squares of weights structure already created\n"
       ]
      },
      {
       "output_type": "stream",
       "stream": "stderr",
       "text": [
        "TH1F::Sumw2:0: RuntimeWarning: Sum of squares of weights structure already created\n",
        "TH1F::Sumw2:0: RuntimeWarning: Sum of squares of weights structure already created\n"
       ]
      },
      {
       "output_type": "stream",
       "stream": "stderr",
       "text": [
        "TH1F::Sumw2:0: RuntimeWarning: Sum of squares of weights structure already created\n",
        "TH1F::Sumw2:0: RuntimeWarning: Sum of squares of weights structure already created\n"
       ]
      },
      {
       "output_type": "stream",
       "stream": "stderr",
       "text": [
        "TH1F::Sumw2:0: RuntimeWarning: Sum of squares of weights structure already created\n",
        "TH1F::Sumw2:0: RuntimeWarning: Sum of squares of weights structure already created\n"
       ]
      },
      {
       "output_type": "stream",
       "stream": "stderr",
       "text": [
        "TH1F::Sumw2:0: RuntimeWarning: Sum of squares of weights structure already created\n",
        "TH1F::Sumw2:0: RuntimeWarning: Sum of squares of weights structure already created\n"
       ]
      },
      {
       "output_type": "stream",
       "stream": "stderr",
       "text": [
        "TH1F::Sumw2:0: RuntimeWarning: Sum of squares of weights structure already created\n",
        "TH1F::Sumw2:0: RuntimeWarning: Sum of squares of weights structure already created\n"
       ]
      },
      {
       "output_type": "stream",
       "stream": "stderr",
       "text": [
        "TH1F::Sumw2:0: RuntimeWarning: Sum of squares of weights structure already created\n",
        "TH1F::Sumw2:0: RuntimeWarning: Sum of squares of weights structure already created\n"
       ]
      },
      {
       "output_type": "stream",
       "stream": "stderr",
       "text": [
        "TH1F::Sumw2:0: RuntimeWarning: Sum of squares of weights structure already created\n",
        "TH1F::Sumw2:0: RuntimeWarning: Sum of squares of weights structure already created\n"
       ]
      },
      {
       "output_type": "stream",
       "stream": "stderr",
       "text": [
        "TH1F::Sumw2:0: RuntimeWarning: Sum of squares of weights structure already created\n",
        "TH1F::Sumw2:0: RuntimeWarning: Sum of squares of weights structure already created\n"
       ]
      },
      {
       "output_type": "stream",
       "stream": "stderr",
       "text": [
        "TH1F::Sumw2:0: RuntimeWarning: Sum of squares of weights structure already created\n",
        "TH1F::Sumw2:0: RuntimeWarning: Sum of squares of weights structure already created\n"
       ]
      },
      {
       "output_type": "stream",
       "stream": "stderr",
       "text": [
        "TH1F::Sumw2:0: RuntimeWarning: Sum of squares of weights structure already created\n",
        "TH1F::Sumw2:0: RuntimeWarning: Sum of squares of weights structure already created\n"
       ]
      },
      {
       "output_type": "stream",
       "stream": "stderr",
       "text": [
        "TH1F::Sumw2:0: RuntimeWarning: Sum of squares of weights structure already created\n",
        "TH1F::Sumw2:0: RuntimeWarning: Sum of squares of weights structure already created\n"
       ]
      },
      {
       "output_type": "stream",
       "stream": "stderr",
       "text": [
        "TH1F::Sumw2:0: RuntimeWarning: Sum of squares of weights structure already created\n",
        "TH1F::Sumw2:0: RuntimeWarning: Sum of squares of weights structure already created\n"
       ]
      },
      {
       "output_type": "stream",
       "stream": "stderr",
       "text": [
        "TH1F::Sumw2:0: RuntimeWarning: Sum of squares of weights structure already created\n",
        "TH1F::Sumw2:0: RuntimeWarning: Sum of squares of weights structure already created\n"
       ]
      },
      {
       "output_type": "stream",
       "stream": "stderr",
       "text": [
        "TH1F::Sumw2:0: RuntimeWarning: Sum of squares of weights structure already created\n",
        "TH1F::Sumw2:0: RuntimeWarning: Sum of squares of weights structure already created\n"
       ]
      },
      {
       "output_type": "stream",
       "stream": "stderr",
       "text": [
        "TH1F::Sumw2:0: RuntimeWarning: Sum of squares of weights structure already created\n",
        "TH1F::Sumw2:0: RuntimeWarning: Sum of squares of weights structure already created\n"
       ]
      },
      {
       "output_type": "stream",
       "stream": "stderr",
       "text": [
        "TH1F::Sumw2:0: RuntimeWarning: Sum of squares of weights structure already created\n",
        "TH1F::Sumw2:0: RuntimeWarning: Sum of squares of weights structure already created\n"
       ]
      }
     ],
     "prompt_number": 12
    },
    {
     "cell_type": "heading",
     "level": 2,
     "metadata": {},
     "source": [
      "VALIDATION"
     ]
    },
    {
     "cell_type": "code",
     "collapsed": false,
     "input": [
      "Cut1=ROOT.TCut(\"chi2<8\")\n",
      "CutsFromOpt=[ROOT.TCut(\"\"),Cut1,CutDRbb,CutDRWH,CutHM,CutM2HP,CutDRTp6thJ,CutRelHT,CutMTHAsym]\n",
      "OptVersion=\"_550To1100_bkgestimation_with_optchi2_Final_\"+NominalV+\"_\"+InclusiveV1+\"_\"+InclusiveV2\n",
      "\n",
      "CumulCut=ROOT.TCut(\"\")*CutHT\n",
      "\n",
      "PDFName=\"Nminus1\"+OptVersion+\".pdf\"\n",
      "CurCanv = rootnotes.canvas(\"MyPlot\", (600, 800))\n",
      "Titles=[\"Base\",\"chi2\", \"DRbb\", \"DRWH\", \"HiggsMass\", \"M2HP\", \"DRTp6thJ\", \"RelHT\", \"MTHAsym\"]\n",
      "\n",
      "SignalWEntries=[]; QCDWEntries=[]; TopWEntries=[]; DibosonWEntries=[]\n",
      "\n",
      "BinsLimits=\"(30,550,1100)\"\n",
      "\n",
      "ValString=[\"Data\",\"TTbar\",\"QCD\",\"MC-Sum\"]\n",
      "WP=[\" CSVM\",\" [0.244,0.679)\",\" [0.389,0.679)\",\" [0.534,0.679)\"]\n",
      "\n",
      "for i in xrange(len(CutsFromOpt)):\n",
      "    TTbarHistos=[]; QCD500Histos=[]; QCD1000Histos=[]; DataHistos=[]; QCDHistos=[]; MCHistos=[]\n",
      "    SingleTHistos=[]; QCDPTHistos=[]; DibosonHistos=[]; DYHistos=[]; SignalHistos=[]\n",
      "    CumulCut=CumulCut*CutsFromOpt[i]\n",
      "    for j in xrange(4):\n",
      "        \n",
      "        SHT=[]; SEnT=[]\n",
      "        if (i==(len(CutsFromOpt)-1) and j==0): MassesHistosf = ROOT.TFile(\"Histos_Masses_Afterfullsel.root\", \"recreate\")\n",
      "        if j==0:\n",
      "            SignalArray=NMassPointsA\n",
      "            TTArray=TntupleA\n",
      "            QCDHTArray=QntuplesA\n",
      "            SubBKGArray=SubBKGArrayA\n",
      "        elif j==1:\n",
      "            SignalArray=NMassPointsE\n",
      "            TTArray=TntupleE\n",
      "            QCDHTArray=QntuplesE\n",
      "            SubBKGArray=SubBKGArrayE\n",
      "        elif j==2:\n",
      "            SignalArray=NMassPointsE1\n",
      "            TTArray=TntupleE1\n",
      "            QCDHTArray=QntuplesE1\n",
      "            SubBKGArray=SubBKGArrayE1\n",
      "        elif j==3:\n",
      "            SignalArray=NMassPointsE2\n",
      "            TTArray=TntupleE2\n",
      "            QCDHTArray=QntuplesE2\n",
      "            SubBKGArray=SubBKGArrayE2\n",
      "        #####SIGNAL#####\n",
      "        for k in xrange(len(SignalArray)): #Signal            \n",
      "            if SignalArray[k].GetEntries()>0:\n",
      "                SignalArray[k].Draw(\"M5J >> M5jSi_Cut\"+str(i)+\"_\"+str(j)+\"_\"+str(k)+BinsLimits,CumulCut)\n",
      "                SHT.append(ROOT.gDirectory.Get(\"M5jSi_Cut\"+str(i)+\"_\"+str(j)+\"_\"+str(k)))\n",
      "                #SHT[-1].Sumw2(); SHT[-1].Scale(NWeights[k])\n",
      "                if (i==(len(CutsFromOpt)-1) and j==0): SHT[-1].Write()\n",
      "                if j==0: SEnT.append(SHT[-1].GetEntries())\n",
      "        SignalHistos.append(SHT)\n",
      "        if (i==(len(CutsFromOpt)-1) and j==0): MassesHistosf.Close()\n",
      "        if j==0: SignalWEntries.append(SEnT)\n",
      "        \n",
      "        #####TTJets#####\n",
      "        TTArray.Draw(\"M5J >> M5jT_Cut\"+str(i)+\"_\"+str(j)+BinsLimits,CumulCut)\n",
      "        TTbarHistos.append(ROOT.gDirectory.Get(\"M5jT_Cut\"+str(i)+\"_\"+str(j)))\n",
      "        TTbarHistos[-1].Sumw2(); TTbarHistos[-1].Scale(TWeight) #; TTbarHistos[-1].Write()\n",
      "        if j==0: TopWEntries.append(TTbarHistos[-1].GetEntries()*TWeight)\n",
      "                \n",
      "        #####QCDHT#####\n",
      "        QCDHTArray[0].Draw(\"M5J >> M5jQ500_Cut\"+str(i)+\"_\"+str(j)+BinsLimits,CumulCut)\n",
      "        QCD500Histos.append(ROOT.gDirectory.Get(\"M5jQ500_Cut\"+str(i)+\"_\"+str(j)))\n",
      "        QCD500Histos[-1].Sumw2(); QCD500Histos[-1].Scale(QWeights[0]) #; QCD500Histos[-1].Write()\n",
      "        if j==0: QCDWEntries.append(QCD500Histos[-1].GetEntries()*QWeights[0])\n",
      "        \n",
      "        QCDHTArray[1].Draw(\"M5J >> M5jQ1000_Cut\"+str(i)+\"_\"+str(j)+BinsLimits,CumulCut)\n",
      "        QCD1000Histos.append(ROOT.gDirectory.Get(\"M5jQ1000_Cut\"+str(i)+\"_\"+str(j)))\n",
      "        QCD1000Histos[-1].Sumw2(); QCD1000Histos[-1].Scale(QWeights[1]) #; QCD1000Histos[-1].Write()\n",
      "        if j==0: QCDWEntries[-1]+=QCD1000Histos[-1].GetEntries()*QWeights[1]\n",
      "        \n",
      "        STHT=[]\n",
      "        for k in xrange(6): #Single Top\n",
      "            if SubBKGArray[k].GetEntries()>0:\n",
      "                SubBKGArray[k].Draw(\"M5J >> M5jST_Cut\"+str(i)+\"_\"+str(j)+\"_\"+str(k)+BinsLimits,CumulCut)\n",
      "                STHT.append(ROOT.gDirectory.Get(\"M5jST_Cut\"+str(i)+\"_\"+str(j)+\"_\"+str(k)))\n",
      "                STHT[-1].Sumw2(); STHT[-1].Scale(SingleTWeights[k])\n",
      "                if j==0: TopWEntries[-1]+=STHT[-1].GetEntries()*SingleTWeights[k]\n",
      "        SingleTHistos.append(STHT)\n",
      "            \n",
      "        DiHT=[]; DiE=0\n",
      "        for k in xrange(3): #Diboson\n",
      "            if SubBKGArray[k+6].GetEntries()>0:\n",
      "                SubBKGArray[k+6].Draw(\"M5J >> M5jDi_Cut\"+str(i)+\"_\"+str(j)+\"_\"+str(k)+BinsLimits,CumulCut)\n",
      "                DiHT.append(ROOT.gDirectory.Get(\"M5jDi_Cut\"+str(i)+\"_\"+str(j)+\"_\"+str(k)))\n",
      "                DiHT[-1].Sumw2(); DiHT[-1].Scale(DibosonWeights[k])\n",
      "                if j==0: DiE+=DiHT[-1].GetEntries()*DibosonWeights[k]\n",
      "        DibosonHistos.append(DiHT)\n",
      "        if j==0: DibosonWEntries.append(DiE)\n",
      "        \n",
      "        DYHT=[]\n",
      "        for k in xrange(2): #DY\n",
      "            if SubBKGArray[k+9].GetEntries()>0:\n",
      "                SubBKGArray[k+9].Draw(\"M5J >> M5jDY_Cut\"+str(i)+\"_\"+str(j)+\"_\"+str(k)+BinsLimits,CumulCut)\n",
      "                DYHT.append(ROOT.gDirectory.Get(\"M5jDY_Cut\"+str(i)+\"_\"+str(j)+\"_\"+str(k)))\n",
      "                DYHT[-1].Sumw2(); DYHT[-1].Scale(DYWeights[k])\n",
      "        DYHistos.append(DYHT)\n",
      "        \n",
      "        if QCDPTFLAG: \n",
      "            QCDPTHT=[]\n",
      "            for k in xrange(6): #QCD PT hat\n",
      "                if SubBKGArray[k+11].GetEntries()>0:\n",
      "                    SubBKGArray[k+11].Draw(\"M5J >> M5jQCDPT_Cut\"+str(i)+\"_\"+str(j)+\"_\"+str(k)+BinsLimits,CumulCut)\n",
      "                    QCDPTHT.append(ROOT.gDirectory.Get(\"M5jQCDPT_Cut\"+str(i)+\"_\"+str(j)+\"_\"+str(k)))\n",
      "                    QCDPTHT[-1].Sumw2(); QCDPTHT[-1].Scale(QCDPTWeights[k])\n",
      "                    if j==0: QCDWEntries[-1]+=QCDPTHT[-1].GetEntries()*QCDPTWeights[k]\n",
      "            QCDPTHistos.append(QCDPTHT)\n",
      "            \n",
      "        QCDFull=QCD500Histos[-1].Clone(\"M5jQ_Cut\"+str(i)+\"_\"+str(j))\n",
      "        QCDFull.Sumw2(); QCDFull.Add(QCD1000Histos[-1])\n",
      "        if QCDPTFLAG:\n",
      "            for k in QCDPTHistos[-1]:\n",
      "                QCDFull.Add(k)\n",
      "        QCDHistos.append(QCDFull)\n",
      "        \n",
      "        MCFull=QCDFull.Clone(\"M5jMC_Cut\"+str(i)+\"_\"+str(j))\n",
      "        MCFull.Sumw2(); MCFull.Add(TTbarHistos[-1])\n",
      "        for k in SingleTHistos[-1]: MCFull.Add(k)\n",
      "        for k in DibosonHistos[-1]: MCFull.Add(k)\n",
      "        for k in DYHistos[-1]: MCFull.Add(k)\n",
      "        MCHistos.append(MCFull)\n",
      "        \n",
      "        #DataArray[j].Draw(\"M5J >> M5jD_Cut\"+str(i)+\"_\"+str(j)+BinsLimits,CumulCut)\n",
      "        #DataHistos.append(ROOT.gDirectory.Get(\"M5jD_Cut\"+str(i)+\"_\"+str(j)))\n",
      "    \n",
      "    DataA[0].Draw(\"M5J >> M5jD_Cut\"+str(i)+\"_0\"+BinsLimits,CumulCut)\n",
      "    DataHistos.append(ROOT.gDirectory.Get(\"M5jD_Cut\"+str(i)+\"_0\"))\n",
      "    DataE[0].Draw(\"M5J >> M5jD_Cut\"+str(i)+\"_1\"+BinsLimits,CumulCut)\n",
      "    DataHistos.append(ROOT.gDirectory.Get(\"M5jD_Cut\"+str(i)+\"_1\"))\n",
      "    DataE1[0].Draw(\"M5J >> M5jD_Cut\"+str(i)+\"_2\"+BinsLimits,CumulCut)\n",
      "    DataHistos.append(ROOT.gDirectory.Get(\"M5jD_Cut\"+str(i)+\"_2\"))\n",
      "    DataE2[0].Draw(\"M5J >> M5jD_Cut\"+str(i)+\"_3\"+BinsLimits,CumulCut)\n",
      "    DataHistos.append(ROOT.gDirectory.Get(\"M5jD_Cut\"+str(i)+\"_3\"))\n",
      "    ROOT.gPad.Clear()\n",
      "    del(SignalArray); del(TTArray); del(QCDHTArray); del(SubBKGArray)\n",
      "    for k in xrange(4):\n",
      "        #if k!=0: continue\n",
      "        if k==0: HistosToplot=DataHistos\n",
      "        elif k==1: HistosToplot=TTbarHistos\n",
      "        elif k==2: HistosToplot=QCDHistos\n",
      "        elif k==3: HistosToplot=MCHistos\n",
      "        \n",
      "        CurrentStyle=ROOT.TStyle(\"CStyle\",\"Style for Plotting\")\n",
      "        #ROOT.SetOwnership( CurrentStyle, False )\n",
      "        #CurrentStyle.SetOptStat(0)\n",
      "        #CurrentStyle.SetOptTitle(0)\n",
      "        #CurrentStyle.SetPadLeftMargin(0.16)\n",
      "        #CurrentStyle.SetPadRightMargin(0.02)\n",
      "        \n",
      "        #CurrentStyle.SetTitleColor(1, \"XYZ\")\n",
      "        #CurrentStyle.SetTitleFont(42, \"XYZ\")\n",
      "        #CurrentStyle.SetTitleSize(0.06, \"XYZ\")\n",
      "        #CurrentStyle.SetTitleXOffset(1.0)\n",
      "        #CurrentStyle.SetTitleOffset(1.5, \"Y\")\n",
      "        #CurrentStyle.SetLabelColor(1, \"XYZ\")\n",
      "        #CurrentStyle.SetLabelFont(42, \"XYZ\")\n",
      "        #CurrentStyle.SetLabelOffset(0.007, \"XYZ\")\n",
      "        #CurrentStyle.SetLabelSize(0.05, \"XYZ\")\n",
      "        #CurrentStyle.SetAxisColor(1, \"XYZ\")\n",
      "        #CurrentStyle.SetStripDecimals(ROOT.kTRUE)\n",
      "        #CurrentStyle.SetTickLength(0.03, \"XYZ\")\n",
      "        #CurrentStyle.SetNdivisions(510, \"XYZ\")\n",
      "                \n",
      "        CurCanv1 = rootnotes.canvas(\"MyPlot\", (600, 800))\n",
      "        CurCanv1.cd(1)\n",
      "        Pad1=ROOT.TPad(\"pad1\",\"pad1\",0,0.3,1,1)\n",
      "        Pad1.SetBottomMargin(0)\n",
      "        Pad1.SetLeftMargin(0.16)\n",
      "        Pad1.Draw()\n",
      "        Pad1.cd()\n",
      "        \n",
      "        HistosToplot[0].SetStats(ROOT.kFALSE)\n",
      "        \n",
      "        HistosToplot[0].SetTitle(\";;A.U.\")\n",
      "        SetAxis(HistosToplot[0],'Y',0.5,0.05,0.007,0.0,510)\n",
      "        HistosToplot[0].SetLineStyle(1); HistosToplot[0].SetLineWidth(1); HistosToplot[0].SetLineColor(ROOT.kGray+2)\n",
      "        HistosToplot[0].SetFillStyle(3144); HistosToplot[0].SetFillColor(ROOT.kGray+2)\n",
      "        \n",
      "        HistosToplot[1].SetLineStyle(1); HistosToplot[1].SetLineWidth(2); HistosToplot[1].SetLineColor(ROOT.kGreen+2)\n",
      "        \n",
      "        HistosToplot[2].SetLineStyle(1); HistosToplot[2].SetLineWidth(2); HistosToplot[2].SetLineColor(ROOT.kRed+1)\n",
      "        \n",
      "        HistosToplot[3].SetLineStyle(1); HistosToplot[3].SetLineWidth(2); HistosToplot[3].SetLineColor(ROOT.kBlue+1)\n",
      "        \n",
      "        CloneE=HistosToplot[1].Clone(\"CopyE\"); CloneE1=HistosToplot[2].Clone(\"CopyE1\"); CloneE2=HistosToplot[3].Clone(\"CopyE2\")\n",
      "        CloneA=HistosToplot[0].Clone(\"CopyA\")\n",
      "        \n",
      "        LEG=ROOT.TLegend(0.5,0.5,0.9,0.9)\n",
      "        LEG.AddEntry(HistosToplot[0], ValString[k]+WP[0], \"f\"); LEG.AddEntry(HistosToplot[1], ValString[k]+WP[1], \"le\")\n",
      "        LEG.AddEntry(HistosToplot[2], ValString[k]+WP[2], \"le\"); LEG.AddEntry(HistosToplot[3], ValString[k]+WP[3], \"le\")\n",
      "        LEG.SetFillColor(0);\n",
      "        HistosToplot[0].DrawNormalized(\"E2\"); HistosToplot[1].DrawNormalized(\"E same\")\n",
      "        HistosToplot[2].DrawNormalized(\"E same\"); HistosToplot[3].DrawNormalized(\"E same\")\n",
      "        LEG.Draw()\n",
      "        CurrentStyle.SetPadTickX(1)\n",
      "        CurCanv1.cd()\n",
      "        \n",
      "        Pad2=ROOT.TPad(\"pad2\",\"pad2\",0,0,1,0.3)\n",
      "        Pad2.SetTopMargin(0)\n",
      "        Pad2.SetLeftMargin(0.16)\n",
      "        Pad2.SetBottomMargin(0.25)\n",
      "        Pad2.Draw()\n",
      "        Pad2.cd()\n",
      "        \n",
      "        CloneA.SetMinimum(0.1); CloneA.SetMaximum(1.9)\n",
      "        CloneA.Sumw2()\n",
      "        CloneA.SetStats(0)\n",
      "        CloneA.SetTitle(\";M(5J) GeV/c^{2};ControlSample/SignalSample\")\n",
      "        CloneA.Divide(HistosToplot[0])\n",
      "        CloneA.SetFillStyle(1001)\n",
      "        SetAxis(CloneA,'X',0.9,0.09,0.007,0.09,510)\n",
      "        SetAxis(CloneA,'Y',0.7,0.06,0.007,0.09,404)\n",
      "        CloneA.Draw(\"E2\")\n",
      "        \n",
      "        CloneE.Sumw2()\n",
      "        CloneE.Scale(HistosToplot[0].Integral()/CloneE.Integral()); CloneE.SetStats(0)\n",
      "        CloneE.SetTitle(\";M(5J) GeV/c^{2};ControlSample/SignalSample\")\n",
      "        CloneE.Divide(HistosToplot[0])\n",
      "        CloneE.Draw(\"ep same\")\n",
      "        \n",
      "        CloneE1.Sumw2()\n",
      "        CloneE1.Scale(HistosToplot[0].Integral()/CloneE1.Integral()); CloneE1.SetStats(0)\n",
      "        CloneE1.SetTitle(\";M(5J) GeV/c^{2};ControlSample/SignalSample\")\n",
      "        CloneE1.Divide(HistosToplot[0])\n",
      "        CloneE1.Draw(\"ep same\")\n",
      "        \n",
      "        CloneE2.Sumw2()\n",
      "        CloneE2.Scale(HistosToplot[0].Integral()/CloneE2.Integral()); CloneE2.SetStats(0)\n",
      "        CloneE2.SetTitle(\";M(5J) GeV/c^{2};ControlSample/SignalSample\")\n",
      "        CloneE2.Divide(HistosToplot[0])\n",
      "        CloneE2.Draw(\"ep same\")\n",
      "        \n",
      "        #print i, k\n",
      "        \n",
      "        if i==0 and k==0: CurCanv1.Print(PDFName+\"(\",\"Title:\"+Titles[i]+\"_\"+ValString[k])\n",
      "        elif i==(len(CutsFromOpt)-1) and k==3: CurCanv1.Print(PDFName+\")\",\"Title:\"+Titles[i]+\"_\"+ValString[k])\n",
      "        #elif i==(len(CutsFromOpt)-1) and k==0: CurCanv1.Print(PDFName+\")\",\"Title:\"+Titles[i]+\"_\"+ValString[k])\n",
      "        else: CurCanv1.Print(PDFName,\"Title:\"+Titles[i]+\"_\"+ValString[k])\n",
      "        ######if i>=0 and k>=0: CurCanv1.Print(PDFName,\"Title:\"+Titles[i]+\"_\"+ValString[k])\n",
      "        #elif i!=0 and k<3: CurCanv1.Print(PDFName,\"Title:\"+Titles[i]+\"_\"+ValString[k])\n",
      "        #elif i!=0 and k==3: CurCanv1.Print(PDFName,\"Title:\"+Titles[i]+\"_\"+ValString[k])\n",
      "        ######if i==(len(CutsFromOpt)-1) and k==3: CurCanv1.Print(PDFName+\")\",\"Title:\"+Titles[i]+\"_\"+ValString[k])\n",
      "        \n",
      "        CurCanv1.Clear(); CurrentStyle.SetPadTickX(0)\n",
      "        CurCanv1.cd(1)\n",
      "                    \n",
      "        del(HistosToplot); del(CurCanv1); del(Pad1); del(Pad2)\n",
      "        del(CloneA); del(CloneE); del(CloneE1); del(CloneE2)\n",
      "    del(TTbarHistos); del(QCD500Histos); del(QCD1000Histos); del(DataHistos); del(QCDHistos); del(MCHistos)\n",
      "    del(SingleTHistos); del(QCDPTHistos); del(DibosonHistos); del(DYHistos); del(SignalHistos)\n",
      "    "
     ],
     "language": "python",
     "metadata": {},
     "outputs": [
      {
       "output_type": "stream",
       "stream": "stderr",
       "text": [
        "TH1F::Sumw2:0: RuntimeWarning: Sum of squares of weights structure already created\n",
        "TH1F::Sumw2:0: RuntimeWarning: Sum of squares of weights structure already created\n"
       ]
      },
      {
       "output_type": "stream",
       "stream": "stderr",
       "text": [
        "TH1F::Sumw2:0: RuntimeWarning: Sum of squares of weights structure already created\n",
        "TH1F::Sumw2:0: RuntimeWarning: Sum of squares of weights structure already created\n"
       ]
      },
      {
       "output_type": "stream",
       "stream": "stderr",
       "text": [
        "TH1F::Sumw2:0: RuntimeWarning: Sum of squares of weights structure already created\n",
        "TH1F::Sumw2:0: RuntimeWarning: Sum of squares of weights structure already created\n"
       ]
      },
      {
       "output_type": "stream",
       "stream": "stderr",
       "text": [
        "TH1F::Sumw2:0: RuntimeWarning: Sum of squares of weights structure already created\n",
        "TH1F::Sumw2:0: RuntimeWarning: Sum of squares of weights structure already created\n"
       ]
      },
      {
       "output_type": "stream",
       "stream": "stderr",
       "text": [
        "TH1F::Sumw2:0: RuntimeWarning: Sum of squares of weights structure already created\n",
        "TH1F::Sumw2:0: RuntimeWarning: Sum of squares of weights structure already created\n",
        "TH1F::Sumw2:0: RuntimeWarning: Sum of squares of weights structure already created\n",
        "TH1F::Sumw2:0: RuntimeWarning: Sum of squares of weights structure already created\n",
        "TH1F::Sumw2:0: RuntimeWarning: Sum of squares of weights structure already created\n"
       ]
      },
      {
       "output_type": "stream",
       "stream": "stderr",
       "text": [
        "TH1F::Sumw2:0: RuntimeWarning: Sum of squares of weights structure already created\n",
        "TH1F::Sumw2:0: RuntimeWarning: Sum of squares of weights structure already created\n",
        "TH1F::Sumw2:0: RuntimeWarning: Sum of squares of weights structure already created\n",
        "TH1F::Sumw2:0: RuntimeWarning: Sum of squares of weights structure already created\n"
       ]
      },
      {
       "output_type": "stream",
       "stream": "stderr",
       "text": [
        "TH1F::Sumw2:0: RuntimeWarning: Sum of squares of weights structure already created\n",
        "TH1F::Sumw2:0: RuntimeWarning: Sum of squares of weights structure already created\n",
        "TH1F::Sumw2:0: RuntimeWarning: Sum of squares of weights structure already created\n",
        "TH1F::Sumw2:0: RuntimeWarning: Sum of squares of weights structure already created\n"
       ]
      },
      {
       "output_type": "stream",
       "stream": "stderr",
       "text": [
        "TH1F::Sumw2:0: RuntimeWarning: Sum of squares of weights structure already created\n",
        "TH1F::Sumw2:0: RuntimeWarning: Sum of squares of weights structure already created\n"
       ]
      },
      {
       "output_type": "stream",
       "stream": "stderr",
       "text": [
        "TH1F::Sumw2:0: RuntimeWarning: Sum of squares of weights structure already created\n",
        "TH1F::Sumw2:0: RuntimeWarning: Sum of squares of weights structure already created\n"
       ]
      },
      {
       "output_type": "stream",
       "stream": "stderr",
       "text": [
        "TH1F::Sumw2:0: RuntimeWarning: Sum of squares of weights structure already created\n",
        "TH1F::Sumw2:0: RuntimeWarning: Sum of squares of weights structure already created\n"
       ]
      },
      {
       "output_type": "stream",
       "stream": "stderr",
       "text": [
        "TH1F::Sumw2:0: RuntimeWarning: Sum of squares of weights structure already created\n",
        "TH1F::Sumw2:0: RuntimeWarning: Sum of squares of weights structure already created\n"
       ]
      },
      {
       "output_type": "stream",
       "stream": "stderr",
       "text": [
        "TH1F::Sumw2:0: RuntimeWarning: Sum of squares of weights structure already created\n",
        "TH1F::Sumw2:0: RuntimeWarning: Sum of squares of weights structure already created\n",
        "TH1F::Sumw2:0: RuntimeWarning: Sum of squares of weights structure already created\n",
        "TH1F::Sumw2:0: RuntimeWarning: Sum of squares of weights structure already created\n"
       ]
      },
      {
       "output_type": "stream",
       "stream": "stderr",
       "text": [
        "TH1F::Sumw2:0: RuntimeWarning: Sum of squares of weights structure already created\n",
        "TH1F::Sumw2:0: RuntimeWarning: Sum of squares of weights structure already created\n",
        "TH1F::Sumw2:0: RuntimeWarning: Sum of squares of weights structure already created\n",
        "TH1F::Sumw2:0: RuntimeWarning: Sum of squares of weights structure already created\n"
       ]
      },
      {
       "output_type": "stream",
       "stream": "stderr",
       "text": [
        "TH1F::Sumw2:0: RuntimeWarning: Sum of squares of weights structure already created\n",
        "TH1F::Sumw2:0: RuntimeWarning: Sum of squares of weights structure already created\n",
        "TH1F::Sumw2:0: RuntimeWarning: Sum of squares of weights structure already created\n",
        "TH1F::Sumw2:0: RuntimeWarning: Sum of squares of weights structure already created\n"
       ]
      },
      {
       "output_type": "stream",
       "stream": "stderr",
       "text": [
        "TH1F::Sumw2:0: RuntimeWarning: Sum of squares of weights structure already created\n",
        "TH1F::Sumw2:0: RuntimeWarning: Sum of squares of weights structure already created\n"
       ]
      },
      {
       "output_type": "stream",
       "stream": "stderr",
       "text": [
        "TH1F::Sumw2:0: RuntimeWarning: Sum of squares of weights structure already created\n",
        "TH1F::Sumw2:0: RuntimeWarning: Sum of squares of weights structure already created\n"
       ]
      },
      {
       "output_type": "stream",
       "stream": "stderr",
       "text": [
        "TH1F::Sumw2:0: RuntimeWarning: Sum of squares of weights structure already created\n",
        "TH1F::Sumw2:0: RuntimeWarning: Sum of squares of weights structure already created\n"
       ]
      },
      {
       "output_type": "stream",
       "stream": "stderr",
       "text": [
        "TH1F::Sumw2:0: RuntimeWarning: Sum of squares of weights structure already created\n",
        "TH1F::Sumw2:0: RuntimeWarning: Sum of squares of weights structure already created\n"
       ]
      },
      {
       "output_type": "stream",
       "stream": "stderr",
       "text": [
        "TH1F::Sumw2:0: RuntimeWarning: Sum of squares of weights structure already created\n",
        "TH1F::Sumw2:0: RuntimeWarning: Sum of squares of weights structure already created\n",
        "TH1F::Sumw2:0: RuntimeWarning: Sum of squares of weights structure already created\n",
        "TH1F::Sumw2:0: RuntimeWarning: Sum of squares of weights structure already created\n"
       ]
      },
      {
       "output_type": "stream",
       "stream": "stderr",
       "text": [
        "TH1F::Sumw2:0: RuntimeWarning: Sum of squares of weights structure already created\n",
        "TH1F::Sumw2:0: RuntimeWarning: Sum of squares of weights structure already created\n",
        "TH1F::Sumw2:0: RuntimeWarning: Sum of squares of weights structure already created\n",
        "TH1F::Sumw2:0: RuntimeWarning: Sum of squares of weights structure already created\n"
       ]
      },
      {
       "output_type": "stream",
       "stream": "stderr",
       "text": [
        "TH1F::Sumw2:0: RuntimeWarning: Sum of squares of weights structure already created\n",
        "TH1F::Sumw2:0: RuntimeWarning: Sum of squares of weights structure already created\n",
        "TH1F::Sumw2:0: RuntimeWarning: Sum of squares of weights structure already created\n",
        "TH1F::Sumw2:0: RuntimeWarning: Sum of squares of weights structure already created\n"
       ]
      },
      {
       "output_type": "stream",
       "stream": "stderr",
       "text": [
        "TH1F::Sumw2:0: RuntimeWarning: Sum of squares of weights structure already created\n",
        "TH1F::Sumw2:0: RuntimeWarning: Sum of squares of weights structure already created\n"
       ]
      },
      {
       "output_type": "stream",
       "stream": "stderr",
       "text": [
        "TH1F::Sumw2:0: RuntimeWarning: Sum of squares of weights structure already created\n",
        "TH1F::Sumw2:0: RuntimeWarning: Sum of squares of weights structure already created\n"
       ]
      },
      {
       "output_type": "stream",
       "stream": "stderr",
       "text": [
        "TH1F::Sumw2:0: RuntimeWarning: Sum of squares of weights structure already created\n",
        "TH1F::Sumw2:0: RuntimeWarning: Sum of squares of weights structure already created\n"
       ]
      },
      {
       "output_type": "stream",
       "stream": "stderr",
       "text": [
        "TH1F::Sumw2:0: RuntimeWarning: Sum of squares of weights structure already created\n",
        "TH1F::Sumw2:0: RuntimeWarning: Sum of squares of weights structure already created\n"
       ]
      },
      {
       "output_type": "stream",
       "stream": "stderr",
       "text": [
        "TH1F::Sumw2:0: RuntimeWarning: Sum of squares of weights structure already created\n",
        "TH1F::Sumw2:0: RuntimeWarning: Sum of squares of weights structure already created\n",
        "TH1F::Sumw2:0: RuntimeWarning: Sum of squares of weights structure already created\n",
        "TH1F::Sumw2:0: RuntimeWarning: Sum of squares of weights structure already created\n"
       ]
      },
      {
       "output_type": "stream",
       "stream": "stderr",
       "text": [
        "TH1F::Sumw2:0: RuntimeWarning: Sum of squares of weights structure already created\n",
        "TH1F::Sumw2:0: RuntimeWarning: Sum of squares of weights structure already created\n",
        "TH1F::Sumw2:0: RuntimeWarning: Sum of squares of weights structure already created\n",
        "TH1F::Sumw2:0: RuntimeWarning: Sum of squares of weights structure already created\n"
       ]
      },
      {
       "output_type": "stream",
       "stream": "stderr",
       "text": [
        "TH1F::Sumw2:0: RuntimeWarning: Sum of squares of weights structure already created\n",
        "TH1F::Sumw2:0: RuntimeWarning: Sum of squares of weights structure already created\n",
        "TH1F::Sumw2:0: RuntimeWarning: Sum of squares of weights structure already created\n",
        "TH1F::Sumw2:0: RuntimeWarning: Sum of squares of weights structure already created\n"
       ]
      },
      {
       "output_type": "stream",
       "stream": "stderr",
       "text": [
        "TH1F::Sumw2:0: RuntimeWarning: Sum of squares of weights structure already created\n",
        "TH1F::Sumw2:0: RuntimeWarning: Sum of squares of weights structure already created\n"
       ]
      },
      {
       "output_type": "stream",
       "stream": "stderr",
       "text": [
        "TH1F::Sumw2:0: RuntimeWarning: Sum of squares of weights structure already created\n",
        "TH1F::Sumw2:0: RuntimeWarning: Sum of squares of weights structure already created\n"
       ]
      },
      {
       "output_type": "stream",
       "stream": "stderr",
       "text": [
        "TH1F::Sumw2:0: RuntimeWarning: Sum of squares of weights structure already created\n",
        "TH1F::Sumw2:0: RuntimeWarning: Sum of squares of weights structure already created\n"
       ]
      },
      {
       "output_type": "stream",
       "stream": "stderr",
       "text": [
        "TH1F::Sumw2:0: RuntimeWarning: Sum of squares of weights structure already created\n",
        "TH1F::Sumw2:0: RuntimeWarning: Sum of squares of weights structure already created\n"
       ]
      },
      {
       "output_type": "stream",
       "stream": "stderr",
       "text": [
        "TH1F::Sumw2:0: RuntimeWarning: Sum of squares of weights structure already created\n",
        "TH1F::Sumw2:0: RuntimeWarning: Sum of squares of weights structure already created\n",
        "TH1F::Sumw2:0: RuntimeWarning: Sum of squares of weights structure already created\n",
        "TH1F::Sumw2:0: RuntimeWarning: Sum of squares of weights structure already created\n"
       ]
      },
      {
       "output_type": "stream",
       "stream": "stderr",
       "text": [
        "TH1F::Sumw2:0: RuntimeWarning: Sum of squares of weights structure already created\n",
        "TH1F::Sumw2:0: RuntimeWarning: Sum of squares of weights structure already created\n",
        "TH1F::Sumw2:0: RuntimeWarning: Sum of squares of weights structure already created\n",
        "TH1F::Sumw2:0: RuntimeWarning: Sum of squares of weights structure already created\n"
       ]
      },
      {
       "output_type": "stream",
       "stream": "stderr",
       "text": [
        "TH1F::Sumw2:0: RuntimeWarning: Sum of squares of weights structure already created\n",
        "TH1F::Sumw2:0: RuntimeWarning: Sum of squares of weights structure already created\n",
        "TH1F::Sumw2:0: RuntimeWarning: Sum of squares of weights structure already created\n",
        "TH1F::Sumw2:0: RuntimeWarning: Sum of squares of weights structure already created\n"
       ]
      },
      {
       "output_type": "stream",
       "stream": "stderr",
       "text": [
        "TH1F::Sumw2:0: RuntimeWarning: Sum of squares of weights structure already created\n",
        "TH1F::Sumw2:0: RuntimeWarning: Sum of squares of weights structure already created\n"
       ]
      },
      {
       "output_type": "stream",
       "stream": "stderr",
       "text": [
        "TH1F::Sumw2:0: RuntimeWarning: Sum of squares of weights structure already created\n",
        "TH1F::Sumw2:0: RuntimeWarning: Sum of squares of weights structure already created\n"
       ]
      },
      {
       "output_type": "stream",
       "stream": "stderr",
       "text": [
        "TH1F::Sumw2:0: RuntimeWarning: Sum of squares of weights structure already created\n",
        "TH1F::Sumw2:0: RuntimeWarning: Sum of squares of weights structure already created\n"
       ]
      },
      {
       "output_type": "stream",
       "stream": "stderr",
       "text": [
        "TH1F::Sumw2:0: RuntimeWarning: Sum of squares of weights structure already created\n",
        "TH1F::Sumw2:0: RuntimeWarning: Sum of squares of weights structure already created\n"
       ]
      },
      {
       "output_type": "stream",
       "stream": "stderr",
       "text": [
        "TH1F::Sumw2:0: RuntimeWarning: Sum of squares of weights structure already created\n",
        "TH1F::Sumw2:0: RuntimeWarning: Sum of squares of weights structure already created\n",
        "TH1F::Sumw2:0: RuntimeWarning: Sum of squares of weights structure already created\n",
        "TH1F::Sumw2:0: RuntimeWarning: Sum of squares of weights structure already created\n"
       ]
      },
      {
       "output_type": "stream",
       "stream": "stderr",
       "text": [
        "TH1F::Sumw2:0: RuntimeWarning: Sum of squares of weights structure already created\n",
        "TH1F::Sumw2:0: RuntimeWarning: Sum of squares of weights structure already created\n",
        "TH1F::Sumw2:0: RuntimeWarning: Sum of squares of weights structure already created\n",
        "TH1F::Sumw2:0: RuntimeWarning: Sum of squares of weights structure already created\n"
       ]
      },
      {
       "output_type": "stream",
       "stream": "stderr",
       "text": [
        "TH1F::Sumw2:0: RuntimeWarning: Sum of squares of weights structure already created\n",
        "TH1F::Sumw2:0: RuntimeWarning: Sum of squares of weights structure already created\n",
        "TH1F::Sumw2:0: RuntimeWarning: Sum of squares of weights structure already created\n",
        "TH1F::Sumw2:0: RuntimeWarning: Sum of squares of weights structure already created\n"
       ]
      },
      {
       "output_type": "stream",
       "stream": "stderr",
       "text": [
        "TH1F::Sumw2:0: RuntimeWarning: Sum of squares of weights structure already created\n",
        "TH1F::Sumw2:0: RuntimeWarning: Sum of squares of weights structure already created\n"
       ]
      },
      {
       "output_type": "stream",
       "stream": "stderr",
       "text": [
        "TH1F::Sumw2:0: RuntimeWarning: Sum of squares of weights structure already created\n",
        "TH1F::Sumw2:0: RuntimeWarning: Sum of squares of weights structure already created\n"
       ]
      },
      {
       "output_type": "stream",
       "stream": "stderr",
       "text": [
        "TH1F::Sumw2:0: RuntimeWarning: Sum of squares of weights structure already created\n",
        "TH1F::Sumw2:0: RuntimeWarning: Sum of squares of weights structure already created\n"
       ]
      },
      {
       "output_type": "stream",
       "stream": "stderr",
       "text": [
        "TH1F::Sumw2:0: RuntimeWarning: Sum of squares of weights structure already created\n",
        "TH1F::Sumw2:0: RuntimeWarning: Sum of squares of weights structure already created\n"
       ]
      },
      {
       "output_type": "stream",
       "stream": "stderr",
       "text": [
        "TH1F::Sumw2:0: RuntimeWarning: Sum of squares of weights structure already created\n",
        "TH1F::Sumw2:0: RuntimeWarning: Sum of squares of weights structure already created\n",
        "TH1F::Sumw2:0: RuntimeWarning: Sum of squares of weights structure already created\n",
        "TH1F::Sumw2:0: RuntimeWarning: Sum of squares of weights structure already created\n"
       ]
      },
      {
       "output_type": "stream",
       "stream": "stderr",
       "text": [
        "TH1F::Sumw2:0: RuntimeWarning: Sum of squares of weights structure already created\n",
        "TH1F::Sumw2:0: RuntimeWarning: Sum of squares of weights structure already created\n",
        "TH1F::Sumw2:0: RuntimeWarning: Sum of squares of weights structure already created\n",
        "TH1F::Sumw2:0: RuntimeWarning: Sum of squares of weights structure already created\n"
       ]
      },
      {
       "output_type": "stream",
       "stream": "stderr",
       "text": [
        "TH1F::Sumw2:0: RuntimeWarning: Sum of squares of weights structure already created\n",
        "TH1F::Sumw2:0: RuntimeWarning: Sum of squares of weights structure already created\n",
        "TH1F::Sumw2:0: RuntimeWarning: Sum of squares of weights structure already created\n",
        "TH1F::Sumw2:0: RuntimeWarning: Sum of squares of weights structure already created\n"
       ]
      },
      {
       "output_type": "stream",
       "stream": "stderr",
       "text": [
        "TH1F::Sumw2:0: RuntimeWarning: Sum of squares of weights structure already created\n",
        "TH1F::Sumw2:0: RuntimeWarning: Sum of squares of weights structure already created\n"
       ]
      },
      {
       "output_type": "stream",
       "stream": "stderr",
       "text": [
        "TH1F::Sumw2:0: RuntimeWarning: Sum of squares of weights structure already created\n",
        "TH1F::Sumw2:0: RuntimeWarning: Sum of squares of weights structure already created\n"
       ]
      },
      {
       "output_type": "stream",
       "stream": "stderr",
       "text": [
        "TH1F::Sumw2:0: RuntimeWarning: Sum of squares of weights structure already created\n",
        "TH1F::Sumw2:0: RuntimeWarning: Sum of squares of weights structure already created\n"
       ]
      },
      {
       "output_type": "stream",
       "stream": "stderr",
       "text": [
        "TH1F::Sumw2:0: RuntimeWarning: Sum of squares of weights structure already created\n",
        "TH1F::Sumw2:0: RuntimeWarning: Sum of squares of weights structure already created\n"
       ]
      },
      {
       "output_type": "stream",
       "stream": "stderr",
       "text": [
        "TH1F::Sumw2:0: RuntimeWarning: Sum of squares of weights structure already created\n",
        "TH1F::Sumw2:0: RuntimeWarning: Sum of squares of weights structure already created\n",
        "TH1F::Sumw2:0: RuntimeWarning: Sum of squares of weights structure already created\n",
        "TH1F::Sumw2:0: RuntimeWarning: Sum of squares of weights structure already created\n"
       ]
      },
      {
       "output_type": "stream",
       "stream": "stderr",
       "text": [
        "TH1F::Sumw2:0: RuntimeWarning: Sum of squares of weights structure already created\n",
        "TH1F::Sumw2:0: RuntimeWarning: Sum of squares of weights structure already created\n",
        "TH1F::Sumw2:0: RuntimeWarning: Sum of squares of weights structure already created\n",
        "TH1F::Sumw2:0: RuntimeWarning: Sum of squares of weights structure already created\n"
       ]
      },
      {
       "output_type": "stream",
       "stream": "stderr",
       "text": [
        "TH1F::Sumw2:0: RuntimeWarning: Sum of squares of weights structure already created\n",
        "TH1F::Sumw2:0: RuntimeWarning: Sum of squares of weights structure already created\n",
        "TH1F::Sumw2:0: RuntimeWarning: Sum of squares of weights structure already created\n",
        "TH1F::Sumw2:0: RuntimeWarning: Sum of squares of weights structure already created\n"
       ]
      },
      {
       "output_type": "stream",
       "stream": "stderr",
       "text": [
        "TH1F::Sumw2:0: RuntimeWarning: Sum of squares of weights structure already created\n",
        "TH1F::Sumw2:0: RuntimeWarning: Sum of squares of weights structure already created\n"
       ]
      },
      {
       "output_type": "stream",
       "stream": "stderr",
       "text": [
        "TH1F::Sumw2:0: RuntimeWarning: Sum of squares of weights structure already created\n",
        "TH1F::Sumw2:0: RuntimeWarning: Sum of squares of weights structure already created\n"
       ]
      },
      {
       "output_type": "stream",
       "stream": "stderr",
       "text": [
        "TH1F::Sumw2:0: RuntimeWarning: Sum of squares of weights structure already created\n",
        "TH1F::Sumw2:0: RuntimeWarning: Sum of squares of weights structure already created\n"
       ]
      },
      {
       "output_type": "stream",
       "stream": "stderr",
       "text": [
        "TH1F::Sumw2:0: RuntimeWarning: Sum of squares of weights structure already created\n",
        "TH1F::Sumw2:0: RuntimeWarning: Sum of squares of weights structure already created\n"
       ]
      },
      {
       "output_type": "stream",
       "stream": "stderr",
       "text": [
        "TH1F::Sumw2:0: RuntimeWarning: Sum of squares of weights structure already created\n",
        "TH1F::Sumw2:0: RuntimeWarning: Sum of squares of weights structure already created\n",
        "TH1F::Sumw2:0: RuntimeWarning: Sum of squares of weights structure already created\n",
        "TH1F::Sumw2:0: RuntimeWarning: Sum of squares of weights structure already created\n"
       ]
      },
      {
       "output_type": "stream",
       "stream": "stderr",
       "text": [
        "TH1F::Sumw2:0: RuntimeWarning: Sum of squares of weights structure already created\n",
        "TH1F::Sumw2:0: RuntimeWarning: Sum of squares of weights structure already created\n",
        "TH1F::Sumw2:0: RuntimeWarning: Sum of squares of weights structure already created\n",
        "TH1F::Sumw2:0: RuntimeWarning: Sum of squares of weights structure already created\n"
       ]
      },
      {
       "output_type": "stream",
       "stream": "stderr",
       "text": [
        "TH1F::Sumw2:0: RuntimeWarning: Sum of squares of weights structure already created\n",
        "TH1F::Sumw2:0: RuntimeWarning: Sum of squares of weights structure already created\n",
        "TH1F::Sumw2:0: RuntimeWarning: Sum of squares of weights structure already created\n"
       ]
      }
     ],
     "prompt_number": 22
    },
    {
     "cell_type": "code",
     "collapsed": false,
     "input": [
      "print \"--------------------------------------------------\"\n",
      "print \"------------------Efficiencies--------------------\"\n",
      "print \"--------------------------------------------------\"\n",
      "#print \"--------Signal------TTbar-------QCD---------------\"\n",
      "    \n",
      "#SignalWEntries=[]; QCDWEntries=[]; TopWEntries=[]\n",
      "print SignalWEntries, QCDWEntries, TopWEntries, DibosonWEntries\n",
      "\n",
      "for i in xrange(len(TopWEntries)-1):\n",
      "    print \"{0:.2f}   {1:.2f}   {2:.2f}   {3:.2f}   {4:.2f}   {5:.2f}   {6:.2f}   {7:.2f}   {8:.2f}\".format(100*SignalWEntries[i+1][0]/SignalWEntries[i][0],\n",
      "                                                                                                                100*SignalWEntries[i+1][1]/SignalWEntries[i][1],\n",
      "                                                                                                                100*SignalWEntries[i+1][2]/SignalWEntries[i][2],\n",
      "                                                                                                                100*SignalWEntries[i+1][3]/SignalWEntries[i][3],\n",
      "                                                                                                                100*SignalWEntries[i+1][4]/SignalWEntries[i][4],\n",
      "                                                                                                                100*SignalWEntries[i+1][5]/SignalWEntries[i][5],\n",
      "                                                                                                                100*SignalWEntries[i+1][6]/SignalWEntries[i][6],\n",
      "                                                                                                                100*SignalWEntries[i+1][7]/SignalWEntries[i][7],\n",
      "                                                                                                                100*SignalWEntries[i+1][8]/SignalWEntries[i][8])\n",
      "    print \"Cut\"+str(i+1)+\":    {0:.2f}      {1:.2f}    {2:.2f}  \".format(100*TopWEntries[i+1]/TopWEntries[i],\n",
      "                                                                100*QCDWEntries[i+1]/QCDWEntries[i],\n",
      "                                                                100*DibosonWEntries[i+1]/DibosonWEntries[i]) "
     ],
     "language": "python",
     "metadata": {},
     "outputs": []
    },
    {
     "cell_type": "heading",
     "level": 3,
     "metadata": {},
     "source": [
      "Computing systematic for the background estimation"
     ]
    },
    {
     "cell_type": "code",
     "collapsed": false,
     "input": [
      "Cut1=ROOT.TCut(\"chi2<8\")\n",
      "CutsNm1=[ROOT.TCut(\"\"),Cut1,CutDRbb,CutDRWH,CutHM,CutM2HP,CutDRTp6thJ,CutRelHT]\n",
      "OptVersion=\"_20bins_bkgestimation_OneComb_with_optchi2_\"+NominalV+\"_\"+InclusiveV1+\"_\"+InclusiveV2\n",
      "\n",
      "BinAndLimits=\"(30,550,1100)\"\n",
      "Nbins=20\n",
      "\n",
      "CumulCut=ROOT.TCut(\"\")*CutHT\n",
      "\n",
      "PDFName=\"BKG_Estimation_SYS\"+OptVersion+\".pdf\"\n",
      "CurCanv = rootnotes.canvas(\"MyPlot\", (600, 800))\n",
      "Titles=[\"Base\",\"chi2\", \"DRbb\", \"DRWH\", \"M2HP\", \"DRTp6thJ\", \"HiggsMass\", \"RelHT\", \"MTHAsym\"]\n",
      "\n",
      "BKGSYSF = ROOT.TFile(\"BKG_Estimation_SYS\"+OptVersion+\".root\", \"recreate\")\n",
      "\n",
      "for i in xrange(len(CutsNm1)):\n",
      "    CumulCut=CumulCut*CutsNm1[i]\n",
      "    DataA[0].Draw(\"M5J >> DataM5JSigSamHisto_\"+str(i)+BinAndLimits,CumulCut)\n",
      "    DataM5JSigSamHisto=ROOT.gDirectory.Get(\"DataM5JSigSamHisto_\"+str(i))\n",
      "    DataE[0].Draw(\"M5J >> DataM5JConSamHisto_\"+str(i)+BinAndLimits,CumulCut)\n",
      "    DataM5JConSamHisto=ROOT.gDirectory.Get(\"DataM5JConSamHisto_\"+str(i))\n",
      "    ROOT.gPad.Close()\n",
      "\n",
      "    RatioHisto=DataM5JConSamHisto.Clone(\"RatioHisto_\"+str(i)) #DataM5JSigSamHisto\n",
      "    RatioHisto.Sumw2(); RatioHisto.Scale(DataM5JSigSamHisto.Integral()/DataM5JConSamHisto.Integral())\n",
      "    RatioHisto.Divide(DataM5JSigSamHisto)\n",
      "    \n",
      "    #Linear fit of ratio histogram\n",
      "    LinF = ROOT.TF1(\"LinF\",\"pol1\",550,1100)\n",
      "    RatioHisto.Fit(\"LinF\",\"LMRE\",\"same\")\n",
      "    P0=LinF.GetParameter(0); P1=LinF.GetParameter(1)\n",
      "    P0E=LinF.GetParError(0); P1E=LinF.GetParError(1);\n",
      "    Chi2=LinF.GetChisquare(); NDF=LinF.GetNDF()\n",
      "    print \"-------------------------------------------\"\n",
      "    print \"P0: {0:.2f}+-{1:.2f}, with P1: {2:.2e}+-{3:.2e}\".format(P0,P0E,P1,P1E)\n",
      "    print \"Chi2={0:.2f}, ndf={1:.2f}, Chi2/ndf={2:.2f}\".format(Chi2, NDF, Chi2/NDF)\n",
      "    \n",
      "    RatioDistri = ROOT.TH1F(\"Sys_\"+str(i),\"Sys_\"+str(i),Nbins,0,2)\n",
      "    \n",
      "    for j in xrange(1,RatioHisto.GetXaxis().GetNbins()):\n",
      "        RatioDistri.Fill(RatioHisto.GetBinContent(j))\n",
      "        if RatioDistri.GetBinContent(j)!=0: RatioDistri.SetBinError(j,RatioDistri.GetBinCenter(j))\n",
      "    \n",
      "    f4 = ROOT.TF1(\"f4\",\"gaus\",0,2)\n",
      "    RatioDistri.Fit(\"f4\",\"LMRE\",\"same\")\n",
      "    MeanValue=f4.GetParameter(1); sigma=f4.GetParameter(2)\n",
      "    MeanValueE=f4.GetParError(1); sigmaE=f4.GetParError(2);\n",
      "    Chi2=f4.GetChisquare(); NDF=f4.GetNDF()\n",
      "    print \"Mean value: {0:.2f}+-{1:.2f}, with sigma: {2:.2f}+-{3:.2f}\".format(MeanValue,MeanValueE,sigma,sigmaE)\n",
      "    print \"Chi2={0:.2f}, ndf={1:.2f}, Chi2/ndf={2:.2f}\".format(Chi2, NDF, Chi2/NDF)\n",
      "    print \"-------------------------------------------\"\n",
      "    \n",
      "    MinX=float(BinAndLimits.split(\",\")[1])\n",
      "    MaxX=float(BinAndLimits.split(\",\")[-1][0:-1])\n",
      "    Nbins=int(BinAndLimits.split(\",\")[0][1:])\n",
      "    RatioDistri.SetTitle(\";ControlSample/SignalSample;Events/{0:.1f} \".format((MaxX-MinX)/Nbins)+\"GeV/c^{2}\")\n",
      "    RatioDistri.Draw(\"hist\"); f4.Draw(\"same\")\n",
      "    \n",
      "    if i==0: CurCanv.Print(PDFName+\"(\",\"Title:\"+Titles[i])\n",
      "    elif i==(len(CutsNm1)-1): CurCanv.Print(PDFName+\")\",\"Title:\"+Titles[i])\n",
      "    else: CurCanv.Print(PDFName,\"Title:\"+Titles[i])\n",
      "        \n",
      "    RatioDistri.Write(); RatioHisto.Write()\n",
      "        \n",
      "    CurCanv.Clear()\n",
      "    \n",
      "del(CurCanv)\n",
      "BKGSYSF.Close()"
     ],
     "language": "python",
     "metadata": {},
     "outputs": [
      {
       "output_type": "stream",
       "stream": "stdout",
       "text": [
        "-------------------------------------------\n",
        "P0: 0.77+-0.94, with P1: 3.10e-04+-1.13e-03\n",
        "Chi2=142.52, ndf=28.00, Chi2/ndf=5.09\n",
        "Mean value: 1.01+-0.01, with sigma: 0.07+-0.01\n",
        "Chi2=5.83, ndf=17.00, Chi2/ndf=0.34\n",
        "-------------------------------------------\n",
        "-------------------------------------------"
       ]
      },
      {
       "output_type": "stream",
       "stream": "stdout",
       "text": [
        "\n",
        "P0: -0.22+-0.97, with P1: 1.76e-03+-1.21e-03\n",
        "Chi2=57.65, ndf=28.00, Chi2/ndf=2.06\n",
        "Mean value: 1.16+-0.05, with sigma: 0.25+-0.03\n",
        "Chi2=32.57, ndf=27.00, Chi2/ndf=1.21\n",
        "-------------------------------------------\n",
        "-------------------------------------------"
       ]
      },
      {
       "output_type": "stream",
       "stream": "stdout",
       "text": [
        "\n",
        "P0: 0.11+-0.96, with P1: 1.27e-03+-1.18e-03\n",
        "Chi2=52.91, ndf=28.00, Chi2/ndf=1.89\n",
        "Mean value: 1.10+-0.04, with sigma: 0.20+-0.03\n",
        "Chi2=8.09, ndf=27.00, Chi2/ndf=0.30\n",
        "-------------------------------------------\n",
        "-------------------------------------------"
       ]
      },
      {
       "output_type": "stream",
       "stream": "stdout",
       "text": [
        "\n",
        "P0: 0.30+-0.96, with P1: 1.01e-03+-1.18e-03\n",
        "Chi2=43.57, ndf=28.00, Chi2/ndf=1.56\n",
        "Mean value: 1.07+-0.03, with sigma: 0.18+-0.02\n",
        "Chi2=7.70, ndf=27.00, Chi2/ndf=0.29\n",
        "-------------------------------------------\n",
        "-------------------------------------------"
       ]
      },
      {
       "output_type": "stream",
       "stream": "stdout",
       "text": [
        "\n",
        "P0: 0.07+-0.96, with P1: 1.34e-03+-1.18e-03\n",
        "Chi2=46.05, ndf=28.00, Chi2/ndf=1.64\n",
        "Mean value: 1.09+-0.04, with sigma: 0.21+-0.03\n",
        "Chi2=17.21, ndf=27.00, Chi2/ndf=0.64\n",
        "-------------------------------------------\n",
        "-------------------------------------------"
       ]
      },
      {
       "output_type": "stream",
       "stream": "stdout",
       "text": [
        "\n",
        "P0: -0.15+-1.23, with P1: 2.08e-03+-1.52e-03\n",
        "Chi2=116.46, ndf=28.00, Chi2/ndf=4.16\n",
        "Mean value: 1.09+-0.07, with sigma: 0.34+-0.05\n",
        "Chi2=27.69, ndf=27.00, Chi2/ndf=1.03\n",
        "-------------------------------------------\n",
        "-------------------------------------------"
       ]
      },
      {
       "output_type": "stream",
       "stream": "stdout",
       "text": [
        "\n",
        "P0: 3.21+-1.21, with P1: -2.89e-03+-1.38e-03\n",
        "Chi2=45.42, ndf=28.00, Chi2/ndf=1.62\n",
        "Mean value: 0.14+-0.78, with sigma: 0.81+-0.43\n",
        "Chi2=25.45, ndf=27.00, Chi2/ndf=0.94\n",
        "-------------------------------------------\n",
        "-------------------------------------------"
       ]
      },
      {
       "output_type": "stream",
       "stream": "stdout",
       "text": [
        "\n",
        "P0: 2.51+-0.00, with P1: -2.34e-03+-2.66e-06\n",
        "Chi2=15.47, ndf=28.00, Chi2/ndf=0.55\n",
        "Mean value: -12.32+-5.83, with sigma: 2.89+-0.89\n",
        "Chi2=42.01, ndf=27.00, Chi2/ndf=1.56\n",
        "-------------------------------------------\n"
       ]
      },
      {
       "output_type": "stream",
       "stream": "stderr",
       "text": [
        "Fit:0: RuntimeWarning: Abnormal termination of minimization.\n"
       ]
      }
     ],
     "prompt_number": 11
    },
    {
     "cell_type": "heading",
     "level": 3,
     "metadata": {},
     "source": [
      "Signal contamination in control sample"
     ]
    },
    {
     "cell_type": "code",
     "collapsed": false,
     "input": [
      "#\"M5J:DRHJ:DRWH:RelHT:Eta6thJ:M2HP:DRTp6thJ:HM:chi2:MTHAsym\"\n",
      "\n",
      "Cuts=[CutHT,Cut1,CutDRbb,CutDRWH,CutHM,CutM2HP,CutDRTp6thJ,CutRelHT]\n",
      "\n",
      "CumulCut=ROOT.TCut(\"\")\n",
      "\n",
      "OptVersion=\"_Final_\"+NominalV\n",
      "PDFName=\"SignalContam_ConSample_OneComb_\"+OptVersion+\".pdf\"\n",
      "CurCanv = rootnotes.canvas(\"MyPlot\", (600, 800))\n",
      "Titles=[\"M5J\"]\n",
      "\n",
      "BinsLimits=[\"(30,400,1600)\"]\n",
      "Units=[\"GeV/c^{2}\"]\n",
      "XaxisT=[\"M(5J)\"]\n",
      "\n",
      "ValString=[\"Data\",\"MC-Sum\"]\n",
      "\n",
      "M=[600.72,647.07,693.42,739.77,786.13,832.48,878.83,925.18,971.53]\n",
      "W=[34.21,36.75,39.29,41.83,44.37,46.91,49.45,51.99,54.53]\n",
      "\n",
      "for i in xrange(len(Cuts)):\n",
      "    TTbarNm1Histos=[]; DataNm1Histos=[]; QCDNm1Histos=[]\n",
      "    SingleTNm1Histos=[]; DibosonNm1Histos=[]; DYNm1Histos=[]\n",
      "    SignalNm1Histos=[]\n",
      "    \n",
      "    CumulCut=CumulCut*Cuts[i]\n",
      "    #NMassPointsE[0].Draw(Titles[0]+\" >> \"+Titles[0]+\"S2P_Cut\"+str(i)+BinsLimits[0],CumulCut)\n",
      "    #SignalNm1Histos.append(ROOT.gDirectory.Get(Titles[0]+\"S2P_Cut\"+str(i)))\n",
      "    #SignalNm1Histos[-1].Sumw2(); SignalNm1Histos[-1].Scale(NWeights[0])\n",
      "    SignalIntegral=[]; SignalError=[]\n",
      "    for l in xrange(9):\n",
      "        NMassPointsE[l].Draw(Titles[0]+\" >> \"+Titles[0]+\"S_Cut\"+str(i)+str(l)+BinsLimits[0],CumulCut)\n",
      "        A=ROOT.gDirectory.Get(Titles[0]+\"S_Cut\"+str(i)+str(l))\n",
      "        A.Sumw2(); A.Scale(NWeights[l])\n",
      "        print \"Total number of events:\", A.Integral(), \"with mean:\", A.GetMean(), \"and RMS:\", A.GetRMS()\n",
      "        SignalNm1Histos.append(ROOT.gDirectory.Get(Titles[0]+\"S_Cut\"+str(i)+str(l)))\n",
      "        #SignalNm1Histos[-1].Sumw2(); SignalNm1Histos[-1].Scale(NWeights[l])\n",
      "        #SignalIntegral.append(A.Integral())\n",
      "        #SignalError.append(np.sqrt(A.GetEntries())*NWeights[l]); del(A)\n",
      "        window_error=ROOT.Double(0.)\n",
      "        SignalIntegral.append(A.IntegralAndError(A.GetXaxis().FindBin(M[l]-W[l]),A.GetXaxis().FindBin(M[l]+W[l]),window_error))\n",
      "        SignalError.append(window_error); del(A)\n",
      "    \n",
      "    TntupleE.Draw(Titles[0]+\" >> \"+Titles[0]+\"T_Cut\"+str(i)+BinsLimits[0],CumulCut)\n",
      "    TTbarNm1Histos.append(ROOT.gDirectory.Get(Titles[0]+\"T_Cut\"+str(i)))\n",
      "    TTbarNm1Histos[-1].Sumw2(); TTbarNm1Histos[-1].Scale(TWeight) #; TTbarHistos[-1].Write()\n",
      "                \n",
      "    QCDHT=[]\n",
      "    QntuplesE[0].Draw(Titles[0]+\" >> \"+Titles[0]+\"Q500_Cut\"+str(i)+BinsLimits[0],CumulCut)\n",
      "    QCDHT.append(ROOT.gDirectory.Get(Titles[0]+\"Q500_Cut\"+str(i)))\n",
      "    QCDHT[-1].Sumw2(); QCDHT[-1].Scale(QWeights[0]) #; QCD500Histos[-1].Write()\n",
      "        \n",
      "    QntuplesE[1].Draw(Titles[0]+\" >> \"+Titles[0]+\"Q1000_Cut\"+str(i)+BinsLimits[0],CumulCut)\n",
      "    QCDHT.append(ROOT.gDirectory.Get(Titles[0]+\"Q1000_Cut\"+str(i)))\n",
      "    QCDHT[-1].Sumw2(); QCDHT[-1].Scale(QWeights[1]) #; QCD1000Histos[-1].Write()\n",
      "    \n",
      "    STHT=[]\n",
      "    for k in xrange(6): #Single Top\n",
      "        if SubBKGArrayE[k].GetEntries()>0:\n",
      "            SubBKGArrayE[k].Draw(Titles[0]+\" >> \"+Titles[0]+\"ST_Cut\"+str(i)+\"_\"+str(k)+BinsLimits[0],CumulCut)\n",
      "            STHT.append(ROOT.gDirectory.Get(Titles[0]+\"ST_Cut\"+str(i)+\"_\"+str(k)))\n",
      "            STHT[-1].Sumw2(); STHT[-1].Scale(SingleTWeights[k])\n",
      "    SingleTNm1Histos.append(STHT)\n",
      "\n",
      "    DiHT=[]\n",
      "    for k in xrange(3): #Diboson\n",
      "        if SubBKGArrayE[k+6].GetEntries()>0:\n",
      "            SubBKGArrayE[k+6].Draw(Titles[0]+\" >> \"+Titles[0]+\"Di_Cut\"+str(i)+\"_\"+str(k)+BinsLimits[0],CumulCut)\n",
      "            DiHT.append(ROOT.gDirectory.Get(Titles[0]+\"Di_Cut\"+str(i)+\"_\"+str(k)))\n",
      "            DiHT[-1].Sumw2(); DiHT[-1].Scale(DibosonWeights[k])\n",
      "    DibosonNm1Histos.append(DiHT)\n",
      "        \n",
      "    DYHT=[]\n",
      "    for k in xrange(2): #DY\n",
      "        if SubBKGArrayE[k+9].GetEntries()>0:\n",
      "            SubBKGArrayE[k+9].Draw(Titles[0]+\" >> \"+Titles[0]+\"DY_Cut\"+str(i)+\"_\"+str(k)+BinsLimits[0],CumulCut)\n",
      "            DYHT.append(ROOT.gDirectory.Get(Titles[0]+\"DY_Cut\"+str(i)+\"_\"+str(k)))\n",
      "            DYHT[-1].Sumw2(); DYHT[-1].Scale(DYWeights[k])\n",
      "    DYNm1Histos.append(DYHT)\n",
      "        \n",
      "    if QCDPTFLAG: \n",
      "        for k in xrange(6): #QCD PT hat\n",
      "            if SubBKGArrayE[k+11].GetEntries()>0:\n",
      "                SubBKGArrayE[k+11].Draw(Titles[0]+\" >> \"+Titles[0]+\"QCDPT_Cut\"+str(i)+\"_\"+str(k)+BinsLimits[0],CumulCut)\n",
      "                QCDHT.append(ROOT.gDirectory.Get(Titles[0]+\"QCDPT_Cut\"+str(i)+\"_\"+str(k)))\n",
      "                QCDHT[-1].Sumw2(); QCDHT[-1].Scale(QCDPTWeights[k])\n",
      "    QCDNm1Histos.append(QCDHT)\n",
      "\n",
      "    QCDFull=QCDNm1Histos[-1][0].Clone(Titles[0]+\"Q_Cut\"+str(i))\n",
      "    for k in QCDNm1Histos[-1][1:]:\n",
      "        QCDFull.Add(k)\n",
      "        \n",
      "    SingleTFull=SingleTNm1Histos[-1][0].Clone(Titles[0]+\"ST_Cut\"+str(i))\n",
      "    for k in SingleTNm1Histos[-1][1:]:\n",
      "        SingleTFull.Add(k)\n",
      "    \n",
      "    DibosonFull=DibosonNm1Histos[-1][0].Clone(Titles[0]+\"Di_Cut\"+str(i))\n",
      "    for k in DibosonNm1Histos[-1][1:]:\n",
      "        DibosonFull.Add(k)\n",
      "        \n",
      "    DYFull=DYNm1Histos[-1][0].Clone(Titles[0]+\"DY_Cut\"+str(i))\n",
      "    for k in DYNm1Histos[-1][1:]:\n",
      "        DYFull.Add(k)\n",
      "    \n",
      "    MCFull=QCDFull.Clone(Titles[0]+\"MC_Cut\"+str(i))\n",
      "    MCFull.Add(TTbarNm1Histos[-1])\n",
      "    MCFull.Add(SingleTFull)\n",
      "    MCFull.Add(DibosonFull)\n",
      "    MCFull.Add(DYFull)\n",
      "\n",
      "    DataE[0].Draw(Titles[0]+\" >> \"+Titles[0]+\"D_Cut\"+str(i)+BinsLimits[0],CumulCut)\n",
      "    DataNm1Histos.append(ROOT.gDirectory.Get(Titles[0]+\"D_Cut\"+str(i)))\n",
      "    #DataIntegral=DataNm1Histos[-1].Integral()\n",
      "    DataIntegral=[]; DataIntegralError=[]\n",
      "    for l in xrange(9):\n",
      "        window_error=ROOT.Double(0.)\n",
      "        DataIntegral.append(DataNm1Histos[-1].IntegralAndError(DataNm1Histos[-1].GetXaxis().FindBin(M[l]-W[l]),DataNm1Histos[-1].GetXaxis().FindBin(M[l]+W[l]),window_error))\n",
      "        DataIntegralError.append(window_error)\n",
      "    print \"Integral of data: \", DataNm1Histos[-1].Integral(), \" with entries: \", DataNm1Histos[-1].GetEntries()\n",
      "    \n",
      "    print \"------------------\", CumulCut, \"------------------\"\n",
      "    for l in xrange(9):\n",
      "        Masses=[600,650,700,750,800,850,900,950,1000]\n",
      "        print \"Signal Mass=\", Masses[l]\n",
      "        print \"Signal in control sample={0:.2f}+-{1:.2f}, Data in control sample={2:.2f}+-{3:.2f}\".format(\n",
      "                                                                                                          SignalIntegral[l],\n",
      "                                                                                                          SignalError[l],\n",
      "                                                                                                          DataIntegral[l],\n",
      "                                                                                                          DataIntegralError[l])\n",
      "        print \"Signal Contamination: S/Data = {0:.2e}+-{1:.3e}\".format(SignalIntegral[l]/DataIntegral[l],\n",
      "                                                                        DivE(SignalIntegral[l],DataIntegral[l],SignalError[l],DataIntegralError[l]))\n",
      "        print \"Signal Contamination: (Data-S)/Data = {0:.2f}+-{1:.2f}\".format((DataIntegral[l]-SignalIntegral[l])/DataIntegral[l],\n",
      "                                                                              DivE((DataIntegral[l]-SignalIntegral[l]),DataIntegral[l],DataIntegralError[l]+SignalError[l],DataIntegralError[l]))\n",
      "    print \"------------------------------------\"\n",
      "    \n",
      "    ROOT.gPad.Clear()\n",
      "\n",
      "    CurrentStyle=ROOT.TStyle(\"CStyle\",\"Style for Plotting\")\n",
      "    \n",
      "    CurrentStyle.SetTitleSize(0.08, \"Y\")\n",
      "    CurrentStyle.SetTitleYOffset(1.5)\n",
      "                \n",
      "    CurCanv1 = rootnotes.canvas(\"MyPlot\", (600, 800))\n",
      "    CurCanv1.cd(1)\n",
      "    Pad1=ROOT.TPad(\"pad1\",\"pad1\",0,0,1,1)\n",
      "    Pad1.SetBottomMargin(0.10)\n",
      "    Pad1.SetLeftMargin(0.16)\n",
      "    Pad1.Draw()\n",
      "    Pad1.cd()\n",
      "        \n",
      "    MCFull.SetStats(ROOT.kFALSE)\n",
      "    MinX=float(BinsLimits[0].split(\",\")[1])\n",
      "    MaxX=float(BinsLimits[0].split(\",\")[-1][0:-1])\n",
      "    Nbins=int(BinsLimits[0].split(\",\")[0][1:])\n",
      "    MCFull.SetTitle(\";M(5J) GeV/c^{{2}};Events/{0:.2f}\".format((MaxX-MinX)/Nbins)+Units[0])\n",
      "    DataNm1Histos[-1].SetTitle(\";M(5J) GeV/c^{{2}};Events/{0:.2f}\".format((MaxX-MinX)/Nbins)+Units[0])\n",
      "    DataNm1Histos[-1].SetStats(ROOT.kFALSE)\n",
      "    SetAxis(MCFull,'Y',1.45,0.05,0.007,0.05,510)\n",
      "    SetAxis(DataNm1Histos[-1],'Y',1.45,0.05,0.007,0.05,510)\n",
      "    SetAxis(SignalNm1Histos[-1],'Y',1.45,0.05,0.007,0.05,510)\n",
      "    SetAxis(TTbarNm1Histos[-1],'Y',1.45,0.05,0.007,0.05,510)\n",
      "    SetAxis(QCDFull,'Y',1.45,0.05,0.007,0.05,510)\n",
      "    SetAxis(SingleTFull,'Y',1.45,0.05,0.007,0.05,510)\n",
      "    SetAxis(DibosonFull,'Y',1.45,0.05,0.007,0.05,510)\n",
      "    SetAxis(DYFull,'Y',1.45,0.05,0.007,0.05,510)\n",
      "    \n",
      "    SetCos(DataNm1Histos[-1],0,0,ROOT.kBlack,2,1,20)\n",
      "    for l in xrange(9): SetCos(SignalNm1Histos[l],ROOT.kSpring,3444,ROOT.kBlack,2,1,1)\n",
      "    #SetCos(SignalNm1Histos[-1],ROOT.kSpring,3444,ROOT.kBlack,2,1,1)\n",
      "    SetCos(TTbarNm1Histos[-1],ROOT.kRed,3345,ROOT.kBlack,1,1,1)\n",
      "    SetCos(QCDFull,ROOT.kViolet,1001,ROOT.kBlack,1,1,1)\n",
      "    SetCos(SingleTFull,ROOT.kBlack,3305,ROOT.kBlack,1,1,1)\n",
      "    SetCos(DibosonFull,ROOT.kWhite,1001,ROOT.kBlack,1,1,1)\n",
      "    SetCos(DYFull,ROOT.kBlue,1001,ROOT.kBlack,1,1,1)\n",
      "    SetCos(MCFull,ROOT.kGray+2,3144,ROOT.kGray+2,1,1,1)\n",
      "            \n",
      "    AllBKGStack=ROOT.THStack(\"AllBKGStack\", \";M(5J) GeV/c^{{2}};Events/{0:.1f}\".format((MaxX-MinX)/Nbins)+Units[0])\n",
      "    AllBKGStack.Add(DibosonFull); AllBKGStack.Add(SingleTFull)\n",
      "    AllBKGStack.Add(TTbarNm1Histos[-1]); AllBKGStack.Add(DYFull); AllBKGStack.Add(QCDFull)\n",
      "    AllBKGStack.SetMinimum(0.3)\n",
      "    \n",
      "    LEG=ROOT.TLegend(0.6,0.8,0.9,0.9)\n",
      "    LEG.AddEntry(DataNm1Histos[-1], \"Data\", \"p\")\n",
      "    #LEG.AddEntry(QCDFull, \"QCD\", \"f\")\n",
      "    #LEG.AddEntry(DYFull, \"Zjets\", \"f\")\n",
      "    #LEG.AddEntry(TTbarNm1Histos[-1], \"TTbar\", \"f\")\n",
      "    #LEG.AddEntry(SingleTFull, \"Single Top\", \"f\")\n",
      "    #LEG.AddEntry(DibosonFull, \"Diboson\", \"f\")\n",
      "    LEG.AddEntry(SignalNm1Histos[-1], \"Signal M(T')=800 GeV/c^{2}\", \"f\")\n",
      "    LEG.SetFillColor(0)\n",
      "    AllBKGStack.Draw(\"hist\")\n",
      "    AllBKGStack.GetHistogram().GetYaxis().SetTitleOffset(1.65)\n",
      "    DataNm1Histos[-1].Draw(\"E0X0\")\n",
      "    #MCFull.Draw(\"e2 same\")\n",
      "    SignalNm1Histos[4].Draw(\"hist same\"); #DataNm1Histos[-1].Draw(\"E0X0 same\")\n",
      "    #for l in xrange(9): SignalNm1Histos[l].Draw(\"hist same\")\n",
      "    if i!=len(Cuts): Pad1.SetLogy(); Pad1.RedrawAxis()\n",
      "    \n",
      "    LEG.Draw()\n",
      "    CurrentStyle.SetPadTickX(1)\n",
      "    CurCanv1.cd()\n",
      "        \n",
      "    if i==0: CurCanv1.Print(PDFName+\"(\",\"Title:\"+Titles[0]+str(i))\n",
      "    elif i==(len(Cuts)-1): CurCanv1.Print(PDFName+\")\",\"Title:\"+Titles[0]+str(i))\n",
      "    else: CurCanv1.Print(PDFName,\"Title:\"+Titles[0]+str(i))\n",
      "        \n",
      "    CurCanv1.Clear(); CurrentStyle.SetPadTickX(0)\n",
      "    CurCanv1.cd(1)\n",
      "                    \n",
      "    #del(HistosToplot); del(CurCanv1); del(Pad1); del(Pad2)\n",
      "    #del(CloneA); del(CloneE); del(CloneE1); del(CloneE2)"
     ],
     "language": "python",
     "metadata": {},
     "outputs": [
      {
       "output_type": "stream",
       "stream": "stdout",
       "text": [
        "Total number of events: 85.4798109829 with mean: 666.319131946 and RMS: 212.195466863\n",
        "Total number of events: 89.8562922627 with mean: 688.857594837 and RMS: 199.108903624\n",
        "Total number of events: 86.5246912092 with mean: 718.020595595 and RMS: 194.682126423\n",
        "Total number of events: 78.9923214167 with mean: 749.506713845 and RMS: 195.002728593\n",
        "Total number of events: 69.4799297154 with mean: 783.548767012 and RMS: 193.574090517\n",
        "Total number of events: 58.8526225612 with mean: 816.652012438 and RMS: 198.196147328\n",
        "Total number of events: 53.7623546422 with mean: 849.069335872 and RMS: 204.359243357\n",
        "Total number of events: 45.7330753356 with mean: 873.674115455 and RMS: 207.848853993\n",
        "Total number of events: 37.2106863111 with mean: 913.425605917 and RMS: 223.275474403\n",
        "Integral of data: "
       ]
      },
      {
       "output_type": "stream",
       "stream": "stdout",
       "text": [
        " 745773.0  with entries:  879135.0\n",
        "------------------ THT>550 ------------------\n",
        "Signal Mass= 600\n",
        "Signal in control sample=30.10+-0.91, Data in control sample=108452.00+-329.32\n",
        "Signal Contamination: S/Data = 2.78e-04+-9.211e-06\n",
        "Signal Contamination: (Data-S)/Data = 1.00+-0.01\n",
        "Signal Mass= 650\n",
        "Signal in control sample=39.07+-0.92, Data in control sample=143161.00+-378.37\n",
        "Signal Contamination: S/Data = 2.73e-04+-7.160e-06\n",
        "Signal Contamination: (Data-S)/Data = 1.00+-0.01\n",
        "Signal Mass= 700\n",
        "Signal in control sample=37.34+-0.81, Data in control sample=129424.00+-359.76\n",
        "Signal Contamination: S/Data = 2.89e-04+-7.042e-06\n",
        "Signal Contamination: (Data-S)/Data = 1.00+-0.01\n",
        "Signal Mass= 750\n",
        "Signal in control sample=33.67+-0.70, Data in control sample=116497.00+-341.32\n",
        "Signal Contamination: S/Data = 2.89e-04+-6.830e-06\n",
        "Signal Contamination: (Data-S)/Data = 1.00+-0.01\n",
        "Signal Mass= 800\n",
        "Signal in control sample=28.12+-0.60, Data in control sample=103644.00+-321.94\n",
        "Signal Contamination: S/Data = 2.71e-04+-6.590e-06\n",
        "Signal Contamination: (Data-S)/Data = 1.00+-0.01\n",
        "Signal Mass= 850\n",
        "Signal in control sample=21.88+-0.47, Data in control sample=92393.00+-303.96\n",
        "Signal Contamination: S/Data = 2.37e-04+-5.909e-06\n",
        "Signal Contamination: (Data-S)/Data = 1.00+-0.01\n",
        "Signal Mass= 900\n",
        "Signal in control sample=23.38+-0.45, Data in control sample=103216.00+-321.27\n",
        "Signal Contamination: S/Data = 2.27e-04+-5.112e-06\n",
        "Signal Contamination: (Data-S)/Data = 1.00+-0.01\n",
        "Signal Mass= 950\n",
        "Signal in control sample=18.82+-0.39, Data in control sample=91236.00+-302.05\n",
        "Signal Contamination: S/Data = 2.06e-04+-4.906e-06\n",
        "Signal Contamination: (Data-S)/Data = 1.00+-0.01\n",
        "Signal Mass= 1000\n",
        "Signal in control sample=14.42+-0.31, Data in control sample=80816.00+-284.28\n",
        "Signal Contamination: S/Data = 1.78e-04+-4.438e-06\n",
        "Signal Contamination: (Data-S)/Data = 1.00+-0.01\n",
        "------------------------------------\n",
        "Total number of events: 36.1182298288 with mean: 585.518648182 and RMS: 107.700969424\n",
        "Total number of events: 39.7403649949 with mean: 622.209929986 and RMS: 116.137128531\n",
        "Total number of events: 38.7911464497 with mean: 656.576117092 and RMS: 114.642073884\n",
        "Total number of events: 35.3193066707 with mean: 692.366970187 and RMS: 125.179812927\n",
        "Total number of events: 30.7776150266 with mean: 731.806086579 and RMS: 127.412728145\n",
        "Total number of events: 24.8059902154 with mean: 773.770541854 and RMS: 143.45326086\n",
        "Total number of events: 22.4341675788 with mean: 803.591860414 and RMS: 155.498120056\n",
        "Total number of events: 18.9272946343 with mean: 833.010537211 and RMS: 165.689117209\n",
        "Total number of events: 14.4686304624 with mean: 870.077075639 and RMS: 177.230786167\n",
        "Integral of data: "
       ]
      },
      {
       "output_type": "stream",
       "stream": "stdout",
       "text": [
        " 143560.0  with entries:  212701.0\n",
        "------------------ (THT>550)*(chi2<8) ------------------\n",
        "Signal Mass= 600\n",
        "Signal in control sample=18.69+-0.72, Data in control sample=21430.00+-146.39\n",
        "Signal Contamination: S/Data = 8.72e-04+-3.933e-05\n",
        "Signal Contamination: (Data-S)/Data = 1.00+-0.01\n",
        "Signal Mass= 650\n",
        "Signal in control sample=22.47+-0.70, Data in control sample=22908.00+-151.35\n",
        "Signal Contamination: S/Data = 9.81e-04+-3.700e-05\n",
        "Signal Contamination: (Data-S)/Data = 1.00+-0.01\n",
        "Signal Mass= 700\n",
        "Signal in control sample=21.99+-0.62, Data in control sample=18113.00+-134.58\n",
        "Signal Contamination: S/Data = 1.21e-03+-4.323e-05\n",
        "Signal Contamination: (Data-S)/Data = 1.00+-0.01\n",
        "Signal Mass= 750\n",
        "Signal in control sample=19.85+-0.54, Data in control sample=14779.00+-121.57\n",
        "Signal Contamination: S/Data = 1.34e-03+-4.726e-05\n",
        "Signal Contamination: (Data-S)/Data = 1.00+-0.02\n",
        "Signal Mass= 800\n",
        "Signal in control sample=16.78+-0.46, Data in control sample=11883.00+-109.01\n",
        "Signal Contamination: S/Data = 1.41e-03+-5.168e-05\n",
        "Signal Contamination: (Data-S)/Data = 1.00+-0.02\n",
        "Signal Mass= 850\n",
        "Signal in control sample=12.73+-0.36, Data in control sample=9770.00+-98.84\n",
        "Signal Contamination: S/Data = 1.30e-03+-5.019e-05\n",
        "Signal Contamination: (Data-S)/Data = 1.00+-0.02\n",
        "Signal Mass= 900\n",
        "Signal in control sample=12.88+-0.34, Data in control sample=9748.00+-98.73\n",
        "Signal Contamination: S/Data = 1.32e-03+-4.801e-05\n",
        "Signal Contamination: (Data-S)/Data = 1.00+-0.02\n",
        "Signal Mass= 950\n",
        "Signal in control sample=10.10+-0.28, Data in control sample=8062.00+-89.79\n",
        "Signal Contamination: S/Data = 1.25e-03+-4.897e-05\n",
        "Signal Contamination: (Data-S)/Data = 1.00+-0.02\n",
        "Signal Mass= 1000\n",
        "Signal in control sample=7.36+-0.22, Data in control sample=6709.00+-81.91\n",
        "Signal Contamination: S/Data = 1.10e-03+-4.618e-05\n",
        "Signal Contamination: (Data-S)/Data = 1.00+-0.02\n",
        "------------------------------------\n",
        "Total number of events: 26.2130792066 with mean: 588.54330833 and RMS: 94.4707921442\n",
        "Total number of events: 31.409461394 with mean: 633.031771356 and RMS: 108.357188777\n",
        "Total number of events: 32.0843475312 with mean: 667.118925972 and RMS: 100.958823605\n",
        "Total number of events: 29.5770334229 with mean: 706.409913851 and RMS: 111.219189313\n",
        "Total number of events: 26.9035980031 with mean: 745.986477134 and RMS: 113.337078027\n",
        "Total number of events: 21.9413909856 with mean: 787.918919865 and RMS: 130.774581366\n",
        "Total number of events: 20.0801290777 with mean: 819.829606885 and RMS: 138.631020423\n",
        "Total number of events: 16.9557015672 with mean: 852.966678524 and RMS: 149.103868226\n",
        "Total number of events: 13.1401470122 with mean: 886.084422786 and RMS: 162.937104547\n",
        "Integral of data: "
       ]
      },
      {
       "output_type": "stream",
       "stream": "stdout",
       "text": [
        " 43481.0  with entries:  48513.0\n",
        "------------------ ((THT>550)*(chi2<8))*(DRHJ<=1.2) ------------------\n",
        "Signal Mass= 600\n",
        "Signal in control sample=14.64+-0.63, Data in control sample=7689.00+-87.69\n",
        "Signal Contamination: S/Data = 1.90e-03+-1.040e-04\n",
        "Signal Contamination: (Data-S)/Data = 1.00+-0.02\n",
        "Signal Mass= 650\n",
        "Signal in control sample=19.66+-0.65, Data in control sample=8911.00+-94.40\n",
        "Signal Contamination: S/Data = 2.21e-03+-9.677e-05\n",
        "Signal Contamination: (Data-S)/Data = 1.00+-0.02\n",
        "Signal Mass= 700\n",
        "Signal in control sample=20.19+-0.59, Data in control sample=7313.00+-85.52\n",
        "Signal Contamination: S/Data = 2.76e-03+-1.135e-04\n",
        "Signal Contamination: (Data-S)/Data = 1.00+-0.02\n",
        "Signal Mass= 750\n",
        "Signal in control sample=18.40+-0.52, Data in control sample=6069.00+-77.90\n",
        "Signal Contamination: S/Data = 3.03e-03+-1.238e-04\n",
        "Signal Contamination: (Data-S)/Data = 1.00+-0.03\n",
        "Signal Mass= 800\n",
        "Signal in control sample=15.89+-0.45, Data in control sample=5016.00+-70.82\n",
        "Signal Contamination: S/Data = 3.17e-03+-1.340e-04\n",
        "Signal Contamination: (Data-S)/Data = 1.00+-0.03\n",
        "Signal Mass= 850\n",
        "Signal in control sample=12.12+-0.35, Data in control sample=4183.00+-64.68\n",
        "Signal Contamination: S/Data = 2.90e-03+-1.291e-04\n",
        "Signal Contamination: (Data-S)/Data = 1.00+-0.03\n",
        "Signal Mass= 900\n",
        "Signal in control sample=12.49+-0.33, Data in control sample=4169.00+-64.57\n",
        "Signal Contamination: S/Data = 3.00e-03+-1.261e-04\n",
        "Signal Contamination: (Data-S)/Data = 1.00+-0.03\n",
        "Signal Mass= 950\n",
        "Signal in control sample=9.81+-0.28, Data in control sample=3445.00+-58.69\n",
        "Signal Contamination: S/Data = 2.85e-03+-1.293e-04\n",
        "Signal Contamination: (Data-S)/Data = 1.00+-0.03\n",
        "Signal Mass= 1000\n",
        "Signal in control sample=7.10+-0.22, Data in control sample=2893.00+-53.79\n",
        "Signal Contamination: S/Data = 2.45e-03+-1.203e-04\n",
        "Signal Contamination: (Data-S)/Data = 1.00+-0.04\n",
        "------------------------------------\n",
        "Total number of events: 24.3524429351 with mean: 587.412842826 and RMS: 74.5579511538\n",
        "Total number of events: 29.9303458072 with mean: 629.875358692 and RMS: 88.1337240548\n",
        "Total number of events: 30.9316158108 with mean: 666.53894653 and RMS: 87.2873073022\n",
        "Total number of events: 28.2785295406 with mean: 706.681994613 and RMS: 95.5524348443\n",
        "Total number of events: 25.6543219835 with mean: 747.516363396 and RMS: 98.055905115\n",
        "Total number of events: 21.048129038 with mean: 786.10876438 and RMS: 114.606085864\n",
        "Total number of events: 19.1863017213 with mean: 822.618434878 and RMS: 125.719476394\n",
        "Total number of events: 16.0960866138 with mean: 856.805692711 and RMS: 135.346849497\n",
        "Total number of events: 12.4364454797 with mean: 892.507504161 and RMS: 151.915332833\n",
        "Integral of data: "
       ]
      },
      {
       "output_type": "stream",
       "stream": "stdout",
       "text": [
        " 36570.0  with entries:  38729.0\n",
        "------------------ (((THT>550)*(chi2<8))*(DRHJ<=1.2))*(DRWH>=1.6 && DRWH<=4.0) ------------------\n",
        "Signal Mass= 600\n",
        "Signal in control sample=14.15+-0.62, Data in control sample=7175.00+-84.71\n",
        "Signal Contamination: S/Data = 1.97e-03+-1.100e-04\n",
        "Signal Contamination: (Data-S)/Data = 1.00+-0.02\n",
        "Signal Mass= 650\n",
        "Signal in control sample=19.38+-0.65, Data in control sample=8332.00+-91.28\n",
        "Signal Contamination: S/Data = 2.33e-03+-1.034e-04\n",
        "Signal Contamination: (Data-S)/Data = 1.00+-0.02\n",
        "Signal Mass= 700\n",
        "Signal in control sample=20.02+-0.59, Data in control sample=6820.00+-82.58\n",
        "Signal Contamination: S/Data = 2.93e-03+-1.222e-04\n",
        "Signal Contamination: (Data-S)/Data = 1.00+-0.02\n",
        "Signal Mass= 750\n",
        "Signal in control sample=18.18+-0.51, Data in control sample=5613.00+-74.92\n",
        "Signal Contamination: S/Data = 3.24e-03+-1.345e-04\n",
        "Signal Contamination: (Data-S)/Data = 1.00+-0.03\n",
        "Signal Mass= 800\n",
        "Signal in control sample=15.69+-0.44, Data in control sample=4579.00+-67.67\n",
        "Signal Contamination: S/Data = 3.43e-03+-1.478e-04\n",
        "Signal Contamination: (Data-S)/Data = 1.00+-0.03\n",
        "Signal Mass= 850\n",
        "Signal in control sample=12.00+-0.35, Data in control sample=3742.00+-61.17\n",
        "Signal Contamination: S/Data = 3.21e-03+-1.462e-04\n",
        "Signal Contamination: (Data-S)/Data = 1.00+-0.03\n",
        "Signal Mass= 900\n",
        "Signal in control sample=12.31+-0.33, Data in control sample=3569.00+-59.74\n",
        "Signal Contamination: S/Data = 3.45e-03+-1.502e-04\n",
        "Signal Contamination: (Data-S)/Data = 1.00+-0.03\n",
        "Signal Mass= 950\n",
        "Signal in control sample=9.63+-0.28, Data in control sample=2857.00+-53.45\n",
        "Signal Contamination: S/Data = 3.37e-03+-1.595e-04\n",
        "Signal Contamination: (Data-S)/Data = 1.00+-0.04\n",
        "Signal Mass= 1000\n",
        "Signal in control sample=6.96+-0.21, Data in control sample=2299.00+-47.95\n",
        "Signal Contamination: S/Data = 3.03e-03+-1.562e-04\n",
        "Signal Contamination: (Data-S)/Data = 1.00+-0.04\n",
        "------------------------------------\n",
        "Total number of events: 21.2605036795 with mean: 588.613221157 and RMS: 74.4854891481\n",
        "Total number of events: 25.6887631081 with mean: 633.131752628 and RMS: 84.9817795466\n",
        "Total number of events: 26.914523717 with mean: 669.31899155 and RMS: 85.2855393963\n",
        "Total number of events: 24.7581413677 with mean: 708.964474925 and RMS: 94.0145856009\n",
        "Total number of events: 22.6257741936 with mean: 750.834633567 and RMS: 97.077703835\n",
        "Total number of events: 18.4607490022 with mean: 788.086794623 and RMS: 114.442043956\n",
        "Total number of events: 16.8853615914 with mean: 824.461871501 and RMS: 124.695981947\n",
        "Total number of events: 14.2901074439 with mean: 858.657286469 and RMS: 134.984449449\n",
        "Total number of events: 10.8646260123 with mean: 894.850573062 and RMS: 152.561845331\n",
        "Integral of data: "
       ]
      },
      {
       "output_type": "stream",
       "stream": "stdout",
       "text": [
        " 26705.0  with entries:  28166.0\n",
        "------------------ ((((THT>550)*(chi2<8))*(DRHJ<=1.2))*(DRWH>=1.6 && DRWH<=4.0))*(HM>=105 && HM<=145) ------------------\n",
        "Signal Mass= 600\n",
        "Signal in control sample=12.81+-0.59, Data in control sample=5244.00+-72.42\n",
        "Signal Contamination: S/Data = 2.44e-03+-1.466e-04\n",
        "Signal Contamination: (Data-S)/Data = 1.00+-0.03\n",
        "Signal Mass= 650\n",
        "Signal in control sample=17.47+-0.62, Data in control sample=6160.00+-78.49\n",
        "Signal Contamination: S/Data = 2.84e-03+-1.362e-04\n",
        "Signal Contamination: (Data-S)/Data = 1.00+-0.03\n",
        "Signal Mass= 700\n",
        "Signal in control sample=18.30+-0.57, Data in control sample=5038.00+-70.98\n",
        "Signal Contamination: S/Data = 3.63e-03+-1.634e-04\n",
        "Signal Contamination: (Data-S)/Data = 1.00+-0.03\n",
        "Signal Mass= 750\n",
        "Signal in control sample=16.62+-0.49, Data in control sample=4154.00+-64.45\n",
        "Signal Contamination: S/Data = 4.00e-03+-1.800e-04\n",
        "Signal Contamination: (Data-S)/Data = 1.00+-0.03\n",
        "Signal Mass= 800\n",
        "Signal in control sample=14.34+-0.43, Data in control sample=3373.00+-58.08\n",
        "Signal Contamination: S/Data = 4.25e-03+-1.993e-04\n",
        "Signal Contamination: (Data-S)/Data = 1.00+-0.03\n",
        "Signal Mass= 850\n",
        "Signal in control sample=10.86+-0.33, Data in control sample=2766.00+-52.59\n",
        "Signal Contamination: S/Data = 3.93e-03+-1.954e-04\n",
        "Signal Contamination: (Data-S)/Data = 1.00+-0.04\n",
        "Signal Mass= 900\n",
        "Signal in control sample=11.25+-0.32, Data in control sample=2636.00+-51.34\n",
        "Signal Contamination: S/Data = 4.27e-03+-2.028e-04\n",
        "Signal Contamination: (Data-S)/Data = 1.00+-0.04\n",
        "Signal Mass= 950\n",
        "Signal in control sample=8.96+-0.27, Data in control sample=2123.00+-46.08\n",
        "Signal Contamination: S/Data = 4.22e-03+-2.168e-04\n",
        "Signal Contamination: (Data-S)/Data = 1.00+-0.04\n",
        "Signal Mass= 1000\n",
        "Signal in control sample=6.30+-0.20, Data in control sample=1700.00+-41.23\n",
        "Signal Contamination: S/Data = 3.71e-03+-2.096e-04\n",
        "Signal Contamination: (Data-S)/Data = 1.00+-0.05\n",
        "------------------------------------\n",
        "Total number of events: 12.8602788448 with mean: 587.16626483 and RMS: 67.3540538144\n",
        "Total number of events: 15.7047305033 with mean: 634.115826424 and RMS: 74.3794745142\n",
        "Total number of events: 17.0988438018 with mean: 670.866973815 and RMS: 77.5323444862\n",
        "Total number of events: 16.2168713911 with mean: 711.296897237 and RMS: 88.6560128451\n",
        "Total number of events: 15.3698794236 with mean: 749.925570959 and RMS: 92.3676844493\n",
        "Total number of events: 12.6391449897 with mean: 785.19575234 and RMS: 118.51098786\n",
        "Total number of events: 12.079936577 with mean: 819.118178416 and RMS: 127.115474311\n",
        "Total number of events: 10.3942394108 with mean: 854.56849205 and RMS: 139.43347554\n",
        "Total number of events: 7.81306045502 with mean: 886.06157841 and RMS: 158.235688574\n",
        "Integral of data: "
       ]
      },
      {
       "output_type": "stream",
       "stream": "stdout",
       "text": [
        " 13629.0  with entries:  14499.0\n",
        "------------------ (((((THT>550)*(chi2<8))*(DRHJ<=1.2))*(DRWH>=1.6 && DRWH<=4.0))*(HM>=105 && HM<=145))*(M2HP>6.8) ------------------\n",
        "Signal Mass= 600\n",
        "Signal in control sample=8.18+-0.47, Data in control sample=2532.00+-50.32\n",
        "Signal Contamination: S/Data = 3.23e-03+-2.511e-04\n",
        "Signal Contamination: (Data-S)/Data = 1.00+-0.04\n",
        "Signal Mass= 650\n",
        "Signal in control sample=11.20+-0.49, Data in control sample=2895.00+-53.81\n",
        "Signal Contamination: S/Data = 3.87e-03+-2.424e-04\n",
        "Signal Contamination: (Data-S)/Data = 1.00+-0.04\n",
        "Signal Mass= 700\n",
        "Signal in control sample=12.05+-0.46, Data in control sample=2370.00+-48.68\n",
        "Signal Contamination: S/Data = 5.08e-03+-2.980e-04\n",
        "Signal Contamination: (Data-S)/Data = 0.99+-0.04\n",
        "Signal Mass= 750\n",
        "Signal in control sample=11.33+-0.40, Data in control sample=1988.00+-44.59\n",
        "Signal Contamination: S/Data = 5.70e-03+-3.311e-04\n",
        "Signal Contamination: (Data-S)/Data = 0.99+-0.04\n",
        "Signal Mass= 800\n",
        "Signal in control sample=10.04+-0.36, Data in control sample=1587.00+-39.84\n",
        "Signal Contamination: S/Data = 6.33e-03+-3.832e-04\n",
        "Signal Contamination: (Data-S)/Data = 0.99+-0.05\n",
        "Signal Mass= 850\n",
        "Signal in control sample=7.69+-0.28, Data in control sample=1311.00+-36.21\n",
        "Signal Contamination: S/Data = 5.87e-03+-3.763e-04\n",
        "Signal Contamination: (Data-S)/Data = 0.99+-0.06\n",
        "Signal Mass= 900\n",
        "Signal in control sample=8.02+-0.27, Data in control sample=1240.00+-35.21\n",
        "Signal Contamination: S/Data = 6.47e-03+-3.984e-04\n",
        "Signal Contamination: (Data-S)/Data = 0.99+-0.06\n",
        "Signal Mass= 950\n",
        "Signal in control sample=6.53+-0.23, Data in control sample=1051.00+-32.42\n",
        "Signal Contamination: S/Data = 6.21e-03+-4.076e-04\n",
        "Signal Contamination: (Data-S)/Data = 0.99+-0.06\n",
        "Signal Mass= 1000\n",
        "Signal in control sample=4.56+-0.17, Data in control sample=859.00+-29.31\n",
        "Signal Contamination: S/Data = 5.31e-03+-3.830e-04\n",
        "Signal Contamination: (Data-S)/Data = 0.99+-0.07\n",
        "------------------------------------\n",
        "Total number of events: 6.45750169456 with mean: 583.332746991 and RMS: 36.8550835853\n",
        "Total number of events: 7.76535857469 with mean: 635.359729842 and RMS: 43.1524622498\n",
        "Total number of events: 9.1694515273 with mean: 680.837604457 and RMS: 53.0001001693\n",
        "Total number of events: 8.38256411999 with mean: 727.880636928 and RMS: 56.8656203151\n",
        "Total number of events: 8.13922171574 with mean: 774.167888884 and RMS: 55.6576182844\n",
        "Total number of events: 6.12962574884 with mean: 820.426928854 and RMS: 59.8798638182\n",
        "Total number of events: 6.00014421716 with mean: 866.494759349 and RMS: 69.0281804219\n",
        "Total number of events: 5.11036943644 with mean: 912.527475051 and RMS: 70.1957098027\n",
        "Total number of events: 3.47247133264 with mean: 956.984101267 and RMS: 74.1359334533\n",
        "Integral of data: "
       ]
      },
      {
       "output_type": "stream",
       "stream": "stdout",
       "text": [
        " 1332.0  with entries:  1356.0\n",
        "------------------ ((((((THT>550)*(chi2<8))*(DRHJ<=1.2))*(DRWH>=1.6 && DRWH<=4.0))*(HM>=105 && HM<=145))*(M2HP>6.8))*(DRTp6thJ>4.8) ------------------\n",
        "Signal Mass= 600\n",
        "Signal in control sample=4.54+-0.35, Data in control sample=296.00+-17.20\n",
        "Signal Contamination: S/Data = 1.53e-02+-2.083e-03\n",
        "Signal Contamination: (Data-S)/Data = 0.98+-0.12\n",
        "Signal Mass= 650\n",
        "Signal in control sample=6.26+-0.37, Data in control sample=341.00+-18.47\n",
        "Signal Contamination: S/Data = 1.84e-02+-2.077e-03\n",
        "Signal Contamination: (Data-S)/Data = 0.98+-0.11\n",
        "Signal Mass= 700\n",
        "Signal in control sample=7.28+-0.36, Data in control sample=279.00+-16.70\n",
        "Signal Contamination: S/Data = 2.61e-02+-2.841e-03\n",
        "Signal Contamination: (Data-S)/Data = 0.97+-0.12\n",
        "Signal Mass= 750\n",
        "Signal in control sample=6.72+-0.31, Data in control sample=245.00+-15.65\n",
        "Signal Contamination: S/Data = 2.74e-02+-3.024e-03\n",
        "Signal Contamination: (Data-S)/Data = 0.97+-0.13\n",
        "Signal Mass= 800\n",
        "Signal in control sample=6.03+-0.28, Data in control sample=191.00+-13.82\n",
        "Signal Contamination: S/Data = 3.16e-02+-3.730e-03\n",
        "Signal Contamination: (Data-S)/Data = 0.97+-0.14\n",
        "Signal Mass= 850\n",
        "Signal in control sample=4.59+-0.22, Data in control sample=165.00+-12.85\n",
        "Signal Contamination: S/Data = 2.78e-02+-3.481e-03\n",
        "Signal Contamination: (Data-S)/Data = 0.97+-0.15\n",
        "Signal Mass= 900\n",
        "Signal in control sample=5.00+-0.21, Data in control sample=161.00+-12.69\n",
        "Signal Contamination: S/Data = 3.11e-02+-3.754e-03\n",
        "Signal Contamination: (Data-S)/Data = 0.97+-0.16\n",
        "Signal Mass= 950\n",
        "Signal in control sample=4.12+-0.18, Data in control sample=139.00+-11.79\n",
        "Signal Contamination: S/Data = 2.97e-02+-3.814e-03\n",
        "Signal Contamination: (Data-S)/Data = 0.97+-0.17\n",
        "Signal Mass= 1000\n",
        "Signal in control sample=2.69+-0.13, Data in control sample=113.00+-10.63\n",
        "Signal Contamination: S/Data = 2.38e-02+-3.416e-03\n",
        "Signal Contamination: (Data-S)/Data = 0.98+-0.19\n",
        "------------------------------------\n",
        "Total number of events: 4.10434421152 with mean: 590.279528809 and RMS: 34.1694972976\n",
        "Total number of events: 5.78595343977 with mean: 641.148759885 and RMS: 38.0233721573\n",
        "Total number of events: 7.77220179886 with mean: 687.717893382 and RMS: 45.0635594002\n",
        "Total number of events: 7.53132272046 with mean: 732.137704783 and RMS: 45.7414140591\n",
        "Total number of events: 7.30637117289 with mean: 779.735935244 and RMS: 50.5185285159\n",
        "Total number of events: 5.6367915282 with mean: 826.09018906 and RMS: 53.2487156132\n",
        "Total number of events: 5.5576557219 with mean: 871.450182289 and RMS: 62.9289743783\n",
        "Total number of events: 4.70816444606 with mean: 917.999665891 and RMS: 61.1616110252\n",
        "Total number of events: 3.24228860112 with mean: 962.391443342 and RMS: 69.3950075492\n",
        "Integral of data: "
       ]
      },
      {
       "output_type": "stream",
       "stream": "stdout",
       "text": [
        " 484.0  with entries:  484.0\n",
        "------------------ (((((((THT>550)*(chi2<8))*(DRHJ<=1.2))*(DRWH>=1.6 && DRWH<=4.0))*(HM>=105 && HM<=145))*(M2HP>6.8))*(DRTp6thJ>4.8))*(RelHT>=0.67) ------------------\n",
        "Signal Mass= 600\n",
        "Signal in control sample=3.06+-0.29, Data in control sample=104.00+-10.20\n",
        "Signal Contamination: S/Data = 2.95e-02+-5.674e-03\n",
        "Signal Contamination: (Data-S)/Data = 0.97+-0.20\n",
        "Signal Mass= 650\n",
        "Signal in control sample=4.96+-0.33, Data in control sample=149.00+-12.21\n",
        "Signal Contamination: S/Data = 3.33e-02+-4.931e-03\n",
        "Signal Contamination: (Data-S)/Data = 0.97+-0.16\n",
        "Signal Mass= 700\n",
        "Signal in control sample=6.46+-0.34, Data in control sample=127.00+-11.27\n",
        "Signal Contamination: S/Data = 5.09e-02+-7.161e-03\n",
        "Signal Contamination: (Data-S)/Data = 0.95+-0.18\n",
        "Signal Mass= 750\n",
        "Signal in control sample=6.29+-0.30, Data in control sample=117.00+-10.82\n",
        "Signal Contamination: S/Data = 5.38e-02+-7.545e-03\n",
        "Signal Contamination: (Data-S)/Data = 0.95+-0.18\n",
        "Signal Mass= 800\n",
        "Signal in control sample=5.63+-0.27, Data in control sample=94.00+-9.70\n",
        "Signal Contamination: S/Data = 5.99e-02+-9.010e-03\n",
        "Signal Contamination: (Data-S)/Data = 0.94+-0.20\n",
        "Signal Mass= 850\n",
        "Signal in control sample=4.38+-0.21, Data in control sample=91.00+-9.54\n",
        "Signal Contamination: S/Data = 4.82e-02+-7.382e-03\n",
        "Signal Contamination: (Data-S)/Data = 0.95+-0.21\n",
        "Signal Mass= 900\n",
        "Signal in control sample=4.75+-0.21, Data in control sample=93.00+-9.64\n",
        "Signal Contamination: S/Data = 5.11e-02+-7.504e-03\n",
        "Signal Contamination: (Data-S)/Data = 0.95+-0.20\n",
        "Signal Mass= 950\n",
        "Signal in control sample=3.92+-0.18, Data in control sample=79.00+-8.89\n",
        "Signal Contamination: S/Data = 4.96e-02+-7.808e-03\n",
        "Signal Contamination: (Data-S)/Data = 0.95+-0.22\n",
        "Signal Mass= 1000\n",
        "Signal in control sample=2.56+-0.13, Data in control sample=66.00+-8.12\n",
        "Signal Contamination: S/Data = 3.89e-02+-6.751e-03\n",
        "Signal Contamination: (Data-S)/Data = 0.96+-0.24\n",
        "------------------------------------\n"
       ]
      }
     ],
     "prompt_number": 11
    },
    {
     "cell_type": "heading",
     "level": 2,
     "metadata": {},
     "source": [
      "Starting exclusive validation"
     ]
    },
    {
     "cell_type": "code",
     "collapsed": false,
     "input": [
      "##################################\n",
      "#Exclusive Control samples Arrays#\n",
      "##################################\n",
      "#Reading DATA minitrees for control sample\n",
      "ExclusiveV1=\"V11\"\n",
      "ExclusiveV2=\"V12\"\n",
      "\n",
      "ControlSampleFileDE1_1=\"Arrays_V11V12/DataE_\"+ExclusiveV1+\"_VectorControlSample\"\n",
      "DataEE = np.load(ControlSampleFileDE1_1+\".npy\")\n",
      "\n",
      "ControlSampleFileDE2_1=\"Arrays_V11V12/DataE_\"+ExclusiveV2+\"_VectorControlSample\"\n",
      "DataEE1 = np.load(ControlSampleFileDE2_1+\".npy\")\n",
      "\n",
      "print DataEE[0].GetEntries(), DataEE1[0].GetEntries()\n",
      "\n",
      "#Reading MC minitrees for control sample\n",
      "\n",
      "ControlSampleFileS1=\"Arrays_V11V12/ControlSample_SignalMassPoints_\"+ExclusiveV1+\"_VectorControlSample\"\n",
      "ControlSampleFileS2=\"Arrays_V11V12/ControlSample_SignalMassPoints_\"+ExclusiveV2+\"_VectorControlSample\"\n",
      "\n",
      "NMassPointsEE=np.load(ControlSampleFileS1+\".npy\")\n",
      "NMassPointsEE1=np.load(ControlSampleFileS2+\".npy\")\n",
      "\n",
      "ControlSampleFileQCDHT1=\"Arrays_V11V12/ControlSample_QCDHT_\"+ExclusiveV1+\"_VectorControlSample\"\n",
      "ControlSampleFileQCDHT2=\"Arrays_V11V12/ControlSample_QCDHT_\"+ExclusiveV2+\"_VectorControlSample\"\n",
      "\n",
      "QntuplesEE=np.load(ControlSampleFileQCDHT1+\".npy\")\n",
      "QntuplesEE1=np.load(ControlSampleFileQCDHT2+\".npy\")\n",
      "\n",
      "ControlSampleFileSubB1=\"Arrays_V11V12/ControlSample_SubBKGMC_\"+ExclusiveV1+\"_VectorControlSample\"\n",
      "ControlSampleFileSubB2=\"Arrays_V11V12/ControlSample_SubBKGMC_\"+ExclusiveV2+\"_VectorControlSample\"\n",
      "\n",
      "SubBKGArrayEE=np.load(ControlSampleFileSubB1+\".npy\")\n",
      "SubBKGArrayEE1=np.load(ControlSampleFileSubB2+\".npy\")\n",
      "\n",
      "ControlSampleFileTT1=\"Arrays_V11V12/ControlSample_TTJets_\"+ExclusiveV1+\"_VectorControlSample\"\n",
      "TntupleEE=np.load(ControlSampleFileTT1+\".npy\"); TntupleEE=TntupleEE[0]\n",
      "\n",
      "ControlSampleFileTT2=\"Arrays_V11V12/ControlSample_TTJets_\"+ExclusiveV2+\"_VectorControlSample\"\n",
      "TntupleEE1=np.load(ControlSampleFileTT2+\".npy\"); TntupleEE1=TntupleEE1[0]\n",
      "\n",
      "print NMassPointsEE[2].GetEntries(), TntupleEE.GetEntries(), QntuplesEE[0].GetEntries()\n",
      "print NMassPointsEE1[2].GetEntries(), TntupleEE1.GetEntries(), QntuplesEE1[0].GetEntries()"
     ],
     "language": "python",
     "metadata": {},
     "outputs": [
      {
       "output_type": "stream",
       "stream": "stdout",
       "text": [
        "380973 116050\n",
        "1697"
       ]
      },
      {
       "output_type": "stream",
       "stream": "stdout",
       "text": [
        " 264596 28194\n",
        "904 121628 8087\n"
       ]
      }
     ],
     "prompt_number": 15
    },
    {
     "cell_type": "code",
     "collapsed": false,
     "input": [
      "Cut1=ROOT.TCut(\"chi2<8\")\n",
      "CutsFromOpt=[ROOT.TCut(\"\"),Cut1,CutDRbb,CutDRWH,CutHM,CutM2HP,CutDRTp6thJ,CutRelHT,CutMTHAsym]\n",
      "OptVersion=\"_550To1100_bkgestimation_ExcluVal_Final_\"+ExclusiveV1+\"_\"+ExclusiveV2+\"_\"+InclusiveV2\n",
      "\n",
      "CumulCut=ROOT.TCut(\"\")*CutHT\n",
      "\n",
      "PDFName=\"Nminus1\"+OptVersion+\".pdf\"\n",
      "CurCanv = rootnotes.canvas(\"MyPlot\", (600, 800))\n",
      "Titles=[\"Base\",\"chi2\", \"DRbb\", \"DRWH\", \"HiggsMass\", \"M2HP\", \"DRTp6thJ\", \"RelHT\", \"MTHAsym\"]\n",
      "\n",
      "SignalWEntries=[]; QCDWEntries=[]; TopWEntries=[]; DibosonWEntries=[]\n",
      "\n",
      "BinsLimits=\"(30,550,1100)\"\n",
      "\n",
      "ValString=[\"Data\",\"TTbar\",\"QCD\",\"MC-Sum\"]\n",
      "WP=[\" CSVM\",\" [0.244,0.389)\",\" [0.389,0.534)\",\" [0.534,0.679)\"]\n",
      "\n",
      "for i in xrange(len(CutsFromOpt)):\n",
      "    TTbarHistos=[]; QCD500Histos=[]; QCD1000Histos=[]; DataHistos=[]; QCDHistos=[]; MCHistos=[]\n",
      "    SingleTHistos=[]; QCDPTHistos=[]; DibosonHistos=[]; DYHistos=[]; SignalHistos=[]\n",
      "    CumulCut=CumulCut*CutsFromOpt[i]\n",
      "    for j in xrange(4):\n",
      "        \n",
      "        SHT=[]; SEnT=[]\n",
      "        #if (i==(len(CutsFromOpt)-1) and j==0): MassesHistosf = ROOT.TFile(\"Histos_Masses_Afterfullsel.root\", \"recreate\")\n",
      "        if j==0:\n",
      "            SignalArray=NMassPointsA\n",
      "            TTArray=TntupleA\n",
      "            QCDHTArray=QntuplesA\n",
      "            SubBKGArray=SubBKGArrayA\n",
      "        elif j==1:\n",
      "            SignalArray=NMassPointsEE\n",
      "            TTArray=TntupleEE\n",
      "            QCDHTArray=QntuplesEE\n",
      "            SubBKGArray=SubBKGArrayEE\n",
      "        elif j==2:\n",
      "            SignalArray=NMassPointsEE1\n",
      "            TTArray=TntupleEE1\n",
      "            QCDHTArray=QntuplesEE1\n",
      "            SubBKGArray=SubBKGArrayEE1\n",
      "        elif j==3:\n",
      "            SignalArray=NMassPointsE2\n",
      "            TTArray=TntupleE2\n",
      "            QCDHTArray=QntuplesE2\n",
      "            SubBKGArray=SubBKGArrayE2\n",
      "        #####SIGNAL#####\n",
      "        #for k in xrange(len(SignalArray)): #Signal            \n",
      "        #    if SignalArray[k].GetEntries()>0:\n",
      "        #        SignalArray[k].Draw(\"M5J >> M5jSi_Cut\"+str(i)+\"_\"+str(j)+\"_\"+str(k)+BinsLimits,CumulCut)\n",
      "        #        SHT.append(ROOT.gDirectory.Get(\"M5jSi_Cut\"+str(i)+\"_\"+str(j)+\"_\"+str(k)))\n",
      "                #SHT[-1].Sumw2(); SHT[-1].Scale(NWeights[k])\n",
      "        #        if (i==(len(CutsFromOpt)-1) and j==0): SHT[-1].Write()\n",
      "        #        if j==0: SEnT.append(SHT[-1].GetEntries())\n",
      "        #SignalHistos.append(SHT)\n",
      "        #if (i==(len(CutsFromOpt)-1) and j==0): MassesHistosf.Close()\n",
      "        #if j==0: SignalWEntries.append(SEnT)\n",
      "        \n",
      "        #####TTJets#####\n",
      "        TTArray.Draw(\"M5J >> M5jT_Cut\"+str(i)+\"_\"+str(j)+BinsLimits,CumulCut)\n",
      "        TTbarHistos.append(ROOT.gDirectory.Get(\"M5jT_Cut\"+str(i)+\"_\"+str(j)))\n",
      "        TTbarHistos[-1].Sumw2(); TTbarHistos[-1].Scale(TWeight) #; TTbarHistos[-1].Write()\n",
      "        if j==0: TopWEntries.append(TTbarHistos[-1].GetEntries()*TWeight)\n",
      "                \n",
      "        #####QCDHT#####\n",
      "        QCDHTArray[0].Draw(\"M5J >> M5jQ500_Cut\"+str(i)+\"_\"+str(j)+BinsLimits,CumulCut)\n",
      "        QCD500Histos.append(ROOT.gDirectory.Get(\"M5jQ500_Cut\"+str(i)+\"_\"+str(j)))\n",
      "        QCD500Histos[-1].Sumw2(); QCD500Histos[-1].Scale(QWeights[0]); QCD500Histos[-1].SetStats(0) #; QCD500Histos[-1].Write()\n",
      "        if j==0: QCDWEntries.append(QCD500Histos[-1].GetEntries()*QWeights[0])\n",
      "        \n",
      "        QCDHTArray[1].Draw(\"M5J >> M5jQ1000_Cut\"+str(i)+\"_\"+str(j)+BinsLimits,CumulCut)\n",
      "        QCD1000Histos.append(ROOT.gDirectory.Get(\"M5jQ1000_Cut\"+str(i)+\"_\"+str(j)))\n",
      "        QCD1000Histos[-1].Sumw2(); QCD1000Histos[-1].Scale(QWeights[1]); QCD1000Histos[-1].SetStats(0) #; QCD1000Histos[-1].Write()\n",
      "        if j==0: QCDWEntries[-1]+=QCD1000Histos[-1].GetEntries()*QWeights[1]\n",
      "        \n",
      "        STHT=[]\n",
      "        for k in xrange(6): #Single Top\n",
      "            if SubBKGArray[k].GetEntries()>0:\n",
      "                SubBKGArray[k].Draw(\"M5J >> M5jST_Cut\"+str(i)+\"_\"+str(j)+\"_\"+str(k)+BinsLimits,CumulCut)\n",
      "                STHT.append(ROOT.gDirectory.Get(\"M5jST_Cut\"+str(i)+\"_\"+str(j)+\"_\"+str(k)))\n",
      "                STHT[-1].Sumw2(); STHT[-1].Scale(SingleTWeights[k])\n",
      "                if j==0: TopWEntries[-1]+=STHT[-1].GetEntries()*SingleTWeights[k]\n",
      "        SingleTHistos.append(STHT)\n",
      "            \n",
      "        DiHT=[]; DiE=0\n",
      "        for k in xrange(3): #Diboson\n",
      "            if SubBKGArray[k+6].GetEntries()>0:\n",
      "                SubBKGArray[k+6].Draw(\"M5J >> M5jDi_Cut\"+str(i)+\"_\"+str(j)+\"_\"+str(k)+BinsLimits,CumulCut)\n",
      "                DiHT.append(ROOT.gDirectory.Get(\"M5jDi_Cut\"+str(i)+\"_\"+str(j)+\"_\"+str(k)))\n",
      "                DiHT[-1].Sumw2(); DiHT[-1].Scale(DibosonWeights[k])\n",
      "                if j==0: DiE+=DiHT[-1].GetEntries()*DibosonWeights[k]\n",
      "        DibosonHistos.append(DiHT)\n",
      "        if j==0: DibosonWEntries.append(DiE)\n",
      "        \n",
      "        DYHT=[]\n",
      "        for k in xrange(2): #DY\n",
      "            if SubBKGArray[k+9].GetEntries()>0:\n",
      "                SubBKGArray[k+9].Draw(\"M5J >> M5jDY_Cut\"+str(i)+\"_\"+str(j)+\"_\"+str(k)+BinsLimits,CumulCut)\n",
      "                DYHT.append(ROOT.gDirectory.Get(\"M5jDY_Cut\"+str(i)+\"_\"+str(j)+\"_\"+str(k)))\n",
      "                DYHT[-1].Sumw2(); DYHT[-1].Scale(DYWeights[k])\n",
      "        DYHistos.append(DYHT)\n",
      "        \n",
      "        if QCDPTFLAG: \n",
      "            QCDPTHT=[]\n",
      "            for k in xrange(6): #QCD PT hat\n",
      "                if SubBKGArray[k+11].GetEntries()>0:\n",
      "                    SubBKGArray[k+11].Draw(\"M5J >> M5jQCDPT_Cut\"+str(i)+\"_\"+str(j)+\"_\"+str(k)+BinsLimits,CumulCut)\n",
      "                    QCDPTHT.append(ROOT.gDirectory.Get(\"M5jQCDPT_Cut\"+str(i)+\"_\"+str(j)+\"_\"+str(k)))\n",
      "                    QCDPTHT[-1].Sumw2(); QCDPTHT[-1].Scale(QCDPTWeights[k]); QCDPTHT[-1].SetStats(0)\n",
      "                    if j==0: QCDWEntries[-1]+=QCDPTHT[-1].GetEntries()*QCDPTWeights[k]\n",
      "            QCDPTHistos.append(QCDPTHT)\n",
      "            \n",
      "        QCDFull=QCD1000Histos[-1].Clone(\"M5jQ_Cut\"+str(i)+\"_\"+str(j))\n",
      "        QCDFull.Sumw2(); QCDFull.Add(QCD500Histos[-1])\n",
      "        if QCDPTFLAG:\n",
      "            for k in QCDPTHistos[-1]:\n",
      "                QCDFull.Add(k)\n",
      "        QCDHistos.append(QCDFull)\n",
      "        \n",
      "        MCFull=TTbarHistos[-1].Clone(\"M5jMC_Cut\"+str(i)+\"_\"+str(j))\n",
      "        MCFull.Sumw2(); MCFull.Add(QCDFull)\n",
      "        for k in SingleTHistos[-1]: MCFull.Add(k)\n",
      "        for k in DibosonHistos[-1]: MCFull.Add(k)\n",
      "        for k in DYHistos[-1]: MCFull.Add(k)\n",
      "        MCHistos.append(MCFull)\n",
      "        \n",
      "        #DataArray[j].Draw(\"M5J >> M5jD_Cut\"+str(i)+\"_\"+str(j)+BinsLimits,CumulCut)\n",
      "        #DataHistos.append(ROOT.gDirectory.Get(\"M5jD_Cut\"+str(i)+\"_\"+str(j)))\n",
      "    \n",
      "    DataA[0].Draw(\"M5J >> M5jD_Cut\"+str(i)+\"_0\"+BinsLimits,CumulCut)\n",
      "    DataHistos.append(ROOT.gDirectory.Get(\"M5jD_Cut\"+str(i)+\"_0\"))\n",
      "    DataEE[0].Draw(\"M5J >> M5jD_Cut\"+str(i)+\"_1\"+BinsLimits,CumulCut)\n",
      "    DataHistos.append(ROOT.gDirectory.Get(\"M5jD_Cut\"+str(i)+\"_1\"))\n",
      "    DataEE1[0].Draw(\"M5J >> M5jD_Cut\"+str(i)+\"_2\"+BinsLimits,CumulCut)\n",
      "    DataHistos.append(ROOT.gDirectory.Get(\"M5jD_Cut\"+str(i)+\"_2\"))\n",
      "    DataE2[0].Draw(\"M5J >> M5jD_Cut\"+str(i)+\"_3\"+BinsLimits,CumulCut)\n",
      "    DataHistos.append(ROOT.gDirectory.Get(\"M5jD_Cut\"+str(i)+\"_3\"))\n",
      "    ROOT.gPad.Clear()\n",
      "    del(SignalArray); del(TTArray); del(QCDHTArray); del(SubBKGArray)\n",
      "    for k in xrange(4):\n",
      "        #if k!=0: continue\n",
      "        if k==0: HistosToplot=DataHistos\n",
      "        elif k==1: HistosToplot=TTbarHistos\n",
      "        elif k==2: HistosToplot=QCDHistos\n",
      "        elif k==3: HistosToplot=MCHistos\n",
      "        \n",
      "        CurrentStyle=ROOT.TStyle(\"CStyle\",\"Style for Plotting\")\n",
      "        #ROOT.SetOwnership( CurrentStyle, False )\n",
      "        #CurrentStyle.SetOptStat(0)\n",
      "        #CurrentStyle.SetOptTitle(0)\n",
      "        #CurrentStyle.SetPadLeftMargin(0.16)\n",
      "        #CurrentStyle.SetPadRightMargin(0.02)\n",
      "        \n",
      "        #CurrentStyle.SetTitleColor(1, \"XYZ\")\n",
      "        #CurrentStyle.SetTitleFont(42, \"XYZ\")\n",
      "        #CurrentStyle.SetTitleSize(0.06, \"XYZ\")\n",
      "        #CurrentStyle.SetTitleXOffset(1.0)\n",
      "        #CurrentStyle.SetTitleOffset(1.5, \"Y\")\n",
      "        #CurrentStyle.SetLabelColor(1, \"XYZ\")\n",
      "        #CurrentStyle.SetLabelFont(42, \"XYZ\")\n",
      "        #CurrentStyle.SetLabelOffset(0.007, \"XYZ\")\n",
      "        #CurrentStyle.SetLabelSize(0.05, \"XYZ\")\n",
      "        #CurrentStyle.SetAxisColor(1, \"XYZ\")\n",
      "        #CurrentStyle.SetStripDecimals(ROOT.kTRUE)\n",
      "        #CurrentStyle.SetTickLength(0.03, \"XYZ\")\n",
      "        #CurrentStyle.SetNdivisions(510, \"XYZ\")\n",
      "                \n",
      "        CurCanv1 = rootnotes.canvas(\"MyPlot\", (600, 800))\n",
      "        CurCanv1.cd(1)\n",
      "        Pad1=ROOT.TPad(\"pad1\",\"pad1\",0,0.3,1,1)\n",
      "        Pad1.SetBottomMargin(0)\n",
      "        Pad1.SetLeftMargin(0.16)\n",
      "        Pad1.Draw()\n",
      "        Pad1.cd()\n",
      "        \n",
      "        HistosToplot[0].SetStats(ROOT.kFALSE)\n",
      "        \n",
      "        HistosToplot[0].SetTitle(\";;A.U.\")\n",
      "        SetAxis(HistosToplot[0],'Y',0.5,0.05,0.007,0.0,510)\n",
      "        HistosToplot[0].SetLineStyle(1); HistosToplot[0].SetLineWidth(1); HistosToplot[0].SetLineColor(ROOT.kGray+2)\n",
      "        HistosToplot[0].SetFillStyle(3144); HistosToplot[0].SetFillColor(ROOT.kGray+2)\n",
      "        \n",
      "        HistosToplot[1].SetLineStyle(1); HistosToplot[1].SetLineWidth(2); HistosToplot[1].SetLineColor(ROOT.kGreen+2)\n",
      "        \n",
      "        HistosToplot[2].SetLineStyle(1); HistosToplot[2].SetLineWidth(2); HistosToplot[2].SetLineColor(ROOT.kRed+1)\n",
      "        \n",
      "        HistosToplot[3].SetLineStyle(1); HistosToplot[3].SetLineWidth(2); HistosToplot[3].SetLineColor(ROOT.kBlue+1)\n",
      "        \n",
      "        CloneE=HistosToplot[1].Clone(\"CopyE\"); CloneE1=HistosToplot[2].Clone(\"CopyE1\"); CloneE2=HistosToplot[3].Clone(\"CopyE2\")\n",
      "        CloneA=HistosToplot[0].Clone(\"CopyA\")\n",
      "        \n",
      "        LEG=ROOT.TLegend(0.5,0.5,0.9,0.9)\n",
      "        LEG.AddEntry(HistosToplot[0], ValString[k]+WP[0], \"f\"); LEG.AddEntry(HistosToplot[1], ValString[k]+WP[1], \"le\")\n",
      "        LEG.AddEntry(HistosToplot[2], ValString[k]+WP[2], \"le\"); LEG.AddEntry(HistosToplot[3], ValString[k]+WP[3], \"le\")\n",
      "        LEG.SetFillColor(0);\n",
      "        HistosToplot[0].SetStats(0)\n",
      "        HistosToplot[0].DrawNormalized(\"E2\"); HistosToplot[1].DrawNormalized(\"E same\")\n",
      "        HistosToplot[2].DrawNormalized(\"E same\"); HistosToplot[3].DrawNormalized(\"E same\")\n",
      "        LEG.Draw()\n",
      "        CurrentStyle.SetPadTickX(1)\n",
      "        CurCanv1.cd()\n",
      "        \n",
      "        Pad2=ROOT.TPad(\"pad2\",\"pad2\",0,0,1,0.3)\n",
      "        Pad2.SetTopMargin(0)\n",
      "        Pad2.SetLeftMargin(0.16)\n",
      "        Pad2.SetBottomMargin(0.25)\n",
      "        Pad2.Draw()\n",
      "        Pad2.cd()\n",
      "        \n",
      "        CloneA.SetMinimum(0.1); CloneA.SetMaximum(1.9)\n",
      "        CloneA.Sumw2()\n",
      "        CloneA.SetStats(0)\n",
      "        CloneA.SetTitle(\";M(5J) GeV/c^{2};ControlSample/SignalSample\")\n",
      "        CloneA.Divide(HistosToplot[0])\n",
      "        CloneA.SetFillStyle(1001)\n",
      "        SetAxis(CloneA,'X',0.9,0.09,0.007,0.09,510)\n",
      "        SetAxis(CloneA,'Y',0.7,0.06,0.007,0.09,404)\n",
      "        CloneA.Draw(\"E2\")\n",
      "        \n",
      "        CloneE.Sumw2()\n",
      "        CloneE.Scale(HistosToplot[0].Integral()/CloneE.Integral()); CloneE.SetStats(0)\n",
      "        CloneE.SetTitle(\";M(5J) GeV/c^{2};ControlSample/SignalSample\")\n",
      "        CloneE.Divide(HistosToplot[0])\n",
      "        CloneE.Draw(\"ep same\")\n",
      "        \n",
      "        CloneE1.Sumw2()\n",
      "        CloneE1.Scale(HistosToplot[0].Integral()/CloneE1.Integral()); CloneE1.SetStats(0)\n",
      "        CloneE1.SetTitle(\";M(5J) GeV/c^{2};ControlSample/SignalSample\")\n",
      "        CloneE1.Divide(HistosToplot[0])\n",
      "        CloneE1.Draw(\"ep same\")\n",
      "        \n",
      "        CloneE2.Sumw2()\n",
      "        CloneE2.Scale(HistosToplot[0].Integral()/CloneE2.Integral()); CloneE2.SetStats(0)\n",
      "        CloneE2.SetTitle(\";M(5J) GeV/c^{2};ControlSample/SignalSample\")\n",
      "        CloneE2.Divide(HistosToplot[0])\n",
      "        CloneE2.Draw(\"ep same\")\n",
      "        \n",
      "        #print i, k\n",
      "        \n",
      "        if i==0 and k==0: CurCanv1.Print(PDFName+\"(\",\"Title:\"+Titles[i]+\"_\"+ValString[k])\n",
      "        elif i==(len(CutsFromOpt)-1) and k==3: CurCanv1.Print(PDFName+\")\",\"Title:\"+Titles[i]+\"_\"+ValString[k])\n",
      "        #elif i==(len(CutsFromOpt)-1) and k==0: CurCanv1.Print(PDFName+\")\",\"Title:\"+Titles[i]+\"_\"+ValString[k])\n",
      "        else: CurCanv1.Print(PDFName,\"Title:\"+Titles[i]+\"_\"+ValString[k])\n",
      "        ######if i>=0 and k>=0: CurCanv1.Print(PDFName,\"Title:\"+Titles[i]+\"_\"+ValString[k])\n",
      "        #elif i!=0 and k<3: CurCanv1.Print(PDFName,\"Title:\"+Titles[i]+\"_\"+ValString[k])\n",
      "        #elif i!=0 and k==3: CurCanv1.Print(PDFName,\"Title:\"+Titles[i]+\"_\"+ValString[k])\n",
      "        ######if i==(len(CutsFromOpt)-1) and k==3: CurCanv1.Print(PDFName+\")\",\"Title:\"+Titles[i]+\"_\"+ValString[k])\n",
      "        \n",
      "        CurCanv1.Clear(); CurrentStyle.SetPadTickX(0)\n",
      "        CurCanv1.cd(1)\n",
      "                    \n",
      "        del(HistosToplot); del(CurCanv1); del(Pad1); del(Pad2)\n",
      "        del(CloneA); del(CloneE); del(CloneE1); del(CloneE2)\n",
      "    del(TTbarHistos); del(QCD500Histos); del(QCD1000Histos); del(DataHistos); del(QCDHistos); del(MCHistos)\n",
      "    del(SingleTHistos); del(QCDPTHistos); del(DibosonHistos); del(DYHistos); del(SignalHistos)\n",
      "    "
     ],
     "language": "python",
     "metadata": {},
     "outputs": [
      {
       "output_type": "stream",
       "stream": "stderr",
       "text": [
        "TH1F::Sumw2:0: RuntimeWarning: Sum of squares of weights structure already created\n",
        "TH1F::Sumw2:0: RuntimeWarning: Sum of squares of weights structure already created\n"
       ]
      },
      {
       "output_type": "stream",
       "stream": "stderr",
       "text": [
        "TH1F::Sumw2:0: RuntimeWarning: Sum of squares of weights structure already created\n",
        "TH1F::Sumw2:0: RuntimeWarning: Sum of squares of weights structure already created\n"
       ]
      },
      {
       "output_type": "stream",
       "stream": "stderr",
       "text": [
        "TH1F::Sumw2:0: RuntimeWarning: Sum of squares of weights structure already created\n",
        "TH1F::Sumw2:0: RuntimeWarning: Sum of squares of weights structure already created\n"
       ]
      },
      {
       "output_type": "stream",
       "stream": "stderr",
       "text": [
        "TH1F::Sumw2:0: RuntimeWarning: Sum of squares of weights structure already created\n",
        "TH1F::Sumw2:0: RuntimeWarning: Sum of squares of weights structure already created\n"
       ]
      },
      {
       "output_type": "stream",
       "stream": "stderr",
       "text": [
        "TH1F::Sumw2:0: RuntimeWarning: Sum of squares of weights structure already created\n",
        "TH1F::Sumw2:0: RuntimeWarning: Sum of squares of weights structure already created\n",
        "TH1F::Sumw2:0: RuntimeWarning: Sum of squares of weights structure already created\n",
        "TH1F::Sumw2:0: RuntimeWarning: Sum of squares of weights structure already created\n",
        "TH1F::Sumw2:0: RuntimeWarning: Sum of squares of weights structure already created\n"
       ]
      },
      {
       "output_type": "stream",
       "stream": "stderr",
       "text": [
        "TH1F::Sumw2:0: RuntimeWarning: Sum of squares of weights structure already created\n",
        "TH1F::Sumw2:0: RuntimeWarning: Sum of squares of weights structure already created\n",
        "TH1F::Sumw2:0: RuntimeWarning: Sum of squares of weights structure already created\n",
        "TH1F::Sumw2:0: RuntimeWarning: Sum of squares of weights structure already created\n"
       ]
      },
      {
       "output_type": "stream",
       "stream": "stderr",
       "text": [
        "TH1F::Sumw2:0: RuntimeWarning: Sum of squares of weights structure already created\n",
        "TH1F::Sumw2:0: RuntimeWarning: Sum of squares of weights structure already created\n",
        "TH1F::Sumw2:0: RuntimeWarning: Sum of squares of weights structure already created\n",
        "TH1F::Sumw2:0: RuntimeWarning: Sum of squares of weights structure already created\n"
       ]
      },
      {
       "output_type": "stream",
       "stream": "stderr",
       "text": [
        "TH1F::Sumw2:0: RuntimeWarning: Sum of squares of weights structure already created\n",
        "TH1F::Sumw2:0: RuntimeWarning: Sum of squares of weights structure already created\n"
       ]
      },
      {
       "output_type": "stream",
       "stream": "stderr",
       "text": [
        "TH1F::Sumw2:0: RuntimeWarning: Sum of squares of weights structure already created\n",
        "TH1F::Sumw2:0: RuntimeWarning: Sum of squares of weights structure already created\n"
       ]
      },
      {
       "output_type": "stream",
       "stream": "stderr",
       "text": [
        "TH1F::Sumw2:0: RuntimeWarning: Sum of squares of weights structure already created\n",
        "TH1F::Sumw2:0: RuntimeWarning: Sum of squares of weights structure already created\n"
       ]
      },
      {
       "output_type": "stream",
       "stream": "stderr",
       "text": [
        "TH1F::Sumw2:0: RuntimeWarning: Sum of squares of weights structure already created\n",
        "TH1F::Sumw2:0: RuntimeWarning: Sum of squares of weights structure already created\n"
       ]
      },
      {
       "output_type": "stream",
       "stream": "stderr",
       "text": [
        "TH1F::Sumw2:0: RuntimeWarning: Sum of squares of weights structure already created\n",
        "TH1F::Sumw2:0: RuntimeWarning: Sum of squares of weights structure already created\n",
        "TH1F::Sumw2:0: RuntimeWarning: Sum of squares of weights structure already created\n",
        "TH1F::Sumw2:0: RuntimeWarning: Sum of squares of weights structure already created\n"
       ]
      },
      {
       "output_type": "stream",
       "stream": "stderr",
       "text": [
        "TH1F::Sumw2:0: RuntimeWarning: Sum of squares of weights structure already created\n",
        "TH1F::Sumw2:0: RuntimeWarning: Sum of squares of weights structure already created\n",
        "TH1F::Sumw2:0: RuntimeWarning: Sum of squares of weights structure already created\n",
        "TH1F::Sumw2:0: RuntimeWarning: Sum of squares of weights structure already created\n"
       ]
      },
      {
       "output_type": "stream",
       "stream": "stderr",
       "text": [
        "TH1F::Sumw2:0: RuntimeWarning: Sum of squares of weights structure already created\n",
        "TH1F::Sumw2:0: RuntimeWarning: Sum of squares of weights structure already created\n",
        "TH1F::Sumw2:0: RuntimeWarning: Sum of squares of weights structure already created\n",
        "TH1F::Sumw2:0: RuntimeWarning: Sum of squares of weights structure already created\n"
       ]
      },
      {
       "output_type": "stream",
       "stream": "stderr",
       "text": [
        "TH1F::Sumw2:0: RuntimeWarning: Sum of squares of weights structure already created\n",
        "TH1F::Sumw2:0: RuntimeWarning: Sum of squares of weights structure already created\n"
       ]
      },
      {
       "output_type": "stream",
       "stream": "stderr",
       "text": [
        "TH1F::Sumw2:0: RuntimeWarning: Sum of squares of weights structure already created\n",
        "TH1F::Sumw2:0: RuntimeWarning: Sum of squares of weights structure already created\n"
       ]
      },
      {
       "output_type": "stream",
       "stream": "stderr",
       "text": [
        "TH1F::Sumw2:0: RuntimeWarning: Sum of squares of weights structure already created\n",
        "TH1F::Sumw2:0: RuntimeWarning: Sum of squares of weights structure already created\n"
       ]
      },
      {
       "output_type": "stream",
       "stream": "stderr",
       "text": [
        "TH1F::Sumw2:0: RuntimeWarning: Sum of squares of weights structure already created\n",
        "TH1F::Sumw2:0: RuntimeWarning: Sum of squares of weights structure already created\n"
       ]
      },
      {
       "output_type": "stream",
       "stream": "stderr",
       "text": [
        "TH1F::Sumw2:0: RuntimeWarning: Sum of squares of weights structure already created\n",
        "TH1F::Sumw2:0: RuntimeWarning: Sum of squares of weights structure already created\n",
        "TH1F::Sumw2:0: RuntimeWarning: Sum of squares of weights structure already created\n",
        "TH1F::Sumw2:0: RuntimeWarning: Sum of squares of weights structure already created\n"
       ]
      },
      {
       "output_type": "stream",
       "stream": "stderr",
       "text": [
        "TH1F::Sumw2:0: RuntimeWarning: Sum of squares of weights structure already created\n",
        "TH1F::Sumw2:0: RuntimeWarning: Sum of squares of weights structure already created\n",
        "TH1F::Sumw2:0: RuntimeWarning: Sum of squares of weights structure already created\n",
        "TH1F::Sumw2:0: RuntimeWarning: Sum of squares of weights structure already created\n"
       ]
      },
      {
       "output_type": "stream",
       "stream": "stderr",
       "text": [
        "TH1F::Sumw2:0: RuntimeWarning: Sum of squares of weights structure already created\n",
        "TH1F::Sumw2:0: RuntimeWarning: Sum of squares of weights structure already created\n",
        "TH1F::Sumw2:0: RuntimeWarning: Sum of squares of weights structure already created\n",
        "TH1F::Sumw2:0: RuntimeWarning: Sum of squares of weights structure already created\n"
       ]
      },
      {
       "output_type": "stream",
       "stream": "stderr",
       "text": [
        "TH1F::Sumw2:0: RuntimeWarning: Sum of squares of weights structure already created\n",
        "TH1F::Sumw2:0: RuntimeWarning: Sum of squares of weights structure already created\n"
       ]
      },
      {
       "output_type": "stream",
       "stream": "stderr",
       "text": [
        "TH1F::Sumw2:0: RuntimeWarning: Sum of squares of weights structure already created\n",
        "TH1F::Sumw2:0: RuntimeWarning: Sum of squares of weights structure already created\n"
       ]
      },
      {
       "output_type": "stream",
       "stream": "stderr",
       "text": [
        "TH1F::Sumw2:0: RuntimeWarning: Sum of squares of weights structure already created\n",
        "TH1F::Sumw2:0: RuntimeWarning: Sum of squares of weights structure already created\n"
       ]
      },
      {
       "output_type": "stream",
       "stream": "stderr",
       "text": [
        "TH1F::Sumw2:0: RuntimeWarning: Sum of squares of weights structure already created\n",
        "TH1F::Sumw2:0: RuntimeWarning: Sum of squares of weights structure already created\n"
       ]
      },
      {
       "output_type": "stream",
       "stream": "stderr",
       "text": [
        "TH1F::Sumw2:0: RuntimeWarning: Sum of squares of weights structure already created\n",
        "TH1F::Sumw2:0: RuntimeWarning: Sum of squares of weights structure already created\n",
        "TH1F::Sumw2:0: RuntimeWarning: Sum of squares of weights structure already created\n",
        "TH1F::Sumw2:0: RuntimeWarning: Sum of squares of weights structure already created\n"
       ]
      },
      {
       "output_type": "stream",
       "stream": "stderr",
       "text": [
        "TH1F::Sumw2:0: RuntimeWarning: Sum of squares of weights structure already created\n",
        "TH1F::Sumw2:0: RuntimeWarning: Sum of squares of weights structure already created\n",
        "TH1F::Sumw2:0: RuntimeWarning: Sum of squares of weights structure already created\n",
        "TH1F::Sumw2:0: RuntimeWarning: Sum of squares of weights structure already created\n"
       ]
      },
      {
       "output_type": "stream",
       "stream": "stderr",
       "text": [
        "TH1F::Sumw2:0: RuntimeWarning: Sum of squares of weights structure already created\n",
        "TH1F::Sumw2:0: RuntimeWarning: Sum of squares of weights structure already created\n",
        "TH1F::Sumw2:0: RuntimeWarning: Sum of squares of weights structure already created\n",
        "TH1F::Sumw2:0: RuntimeWarning: Sum of squares of weights structure already created\n"
       ]
      },
      {
       "output_type": "stream",
       "stream": "stderr",
       "text": [
        "TH1F::Sumw2:0: RuntimeWarning: Sum of squares of weights structure already created\n",
        "TH1F::Sumw2:0: RuntimeWarning: Sum of squares of weights structure already created\n"
       ]
      },
      {
       "output_type": "stream",
       "stream": "stderr",
       "text": [
        "TH1F::Sumw2:0: RuntimeWarning: Sum of squares of weights structure already created\n",
        "TH1F::Sumw2:0: RuntimeWarning: Sum of squares of weights structure already created\n"
       ]
      },
      {
       "output_type": "stream",
       "stream": "stderr",
       "text": [
        "TH1F::Sumw2:0: RuntimeWarning: Sum of squares of weights structure already created\n",
        "TH1F::Sumw2:0: RuntimeWarning: Sum of squares of weights structure already created\n"
       ]
      },
      {
       "output_type": "stream",
       "stream": "stderr",
       "text": [
        "TH1F::Sumw2:0: RuntimeWarning: Sum of squares of weights structure already created\n",
        "TH1F::Sumw2:0: RuntimeWarning: Sum of squares of weights structure already created\n"
       ]
      },
      {
       "output_type": "stream",
       "stream": "stderr",
       "text": [
        "TH1F::Sumw2:0: RuntimeWarning: Sum of squares of weights structure already created\n",
        "TH1F::Sumw2:0: RuntimeWarning: Sum of squares of weights structure already created\n",
        "TH1F::Sumw2:0: RuntimeWarning: Sum of squares of weights structure already created\n",
        "TH1F::Sumw2:0: RuntimeWarning: Sum of squares of weights structure already created\n"
       ]
      },
      {
       "output_type": "stream",
       "stream": "stderr",
       "text": [
        "TH1F::Sumw2:0: RuntimeWarning: Sum of squares of weights structure already created\n",
        "TH1F::Sumw2:0: RuntimeWarning: Sum of squares of weights structure already created\n",
        "TH1F::Sumw2:0: RuntimeWarning: Sum of squares of weights structure already created\n",
        "TH1F::Sumw2:0: RuntimeWarning: Sum of squares of weights structure already created\n"
       ]
      },
      {
       "output_type": "stream",
       "stream": "stderr",
       "text": [
        "TH1F::Sumw2:0: RuntimeWarning: Sum of squares of weights structure already created\n",
        "TH1F::Sumw2:0: RuntimeWarning: Sum of squares of weights structure already created\n",
        "TH1F::Sumw2:0: RuntimeWarning: Sum of squares of weights structure already created\n",
        "TH1F::Sumw2:0: RuntimeWarning: Sum of squares of weights structure already created\n"
       ]
      },
      {
       "output_type": "stream",
       "stream": "stderr",
       "text": [
        "TH1F::Sumw2:0: RuntimeWarning: Sum of squares of weights structure already created\n",
        "TH1F::Sumw2:0: RuntimeWarning: Sum of squares of weights structure already created\n"
       ]
      },
      {
       "output_type": "stream",
       "stream": "stderr",
       "text": [
        "TH1F::Sumw2:0: RuntimeWarning: Sum of squares of weights structure already created\n",
        "TH1F::Sumw2:0: RuntimeWarning: Sum of squares of weights structure already created\n"
       ]
      },
      {
       "output_type": "stream",
       "stream": "stderr",
       "text": [
        "TH1F::Sumw2:0: RuntimeWarning: Sum of squares of weights structure already created\n",
        "TH1F::Sumw2:0: RuntimeWarning: Sum of squares of weights structure already created\n"
       ]
      },
      {
       "output_type": "stream",
       "stream": "stderr",
       "text": [
        "TH1F::Sumw2:0: RuntimeWarning: Sum of squares of weights structure already created\n",
        "TH1F::Sumw2:0: RuntimeWarning: Sum of squares of weights structure already created\n"
       ]
      },
      {
       "output_type": "stream",
       "stream": "stderr",
       "text": [
        "TH1F::Sumw2:0: RuntimeWarning: Sum of squares of weights structure already created\n",
        "TH1F::Sumw2:0: RuntimeWarning: Sum of squares of weights structure already created\n",
        "TH1F::Sumw2:0: RuntimeWarning: Sum of squares of weights structure already created\n",
        "TH1F::Sumw2:0: RuntimeWarning: Sum of squares of weights structure already created\n"
       ]
      },
      {
       "output_type": "stream",
       "stream": "stderr",
       "text": [
        "TH1F::Sumw2:0: RuntimeWarning: Sum of squares of weights structure already created\n",
        "TH1F::Sumw2:0: RuntimeWarning: Sum of squares of weights structure already created\n",
        "TH1F::Sumw2:0: RuntimeWarning: Sum of squares of weights structure already created\n",
        "TH1F::Sumw2:0: RuntimeWarning: Sum of squares of weights structure already created\n"
       ]
      },
      {
       "output_type": "stream",
       "stream": "stderr",
       "text": [
        "TH1F::Sumw2:0: RuntimeWarning: Sum of squares of weights structure already created\n",
        "TH1F::Sumw2:0: RuntimeWarning: Sum of squares of weights structure already created\n",
        "TH1F::Sumw2:0: RuntimeWarning: Sum of squares of weights structure already created\n",
        "TH1F::Sumw2:0: RuntimeWarning: Sum of squares of weights structure already created\n"
       ]
      },
      {
       "output_type": "stream",
       "stream": "stderr",
       "text": [
        "TH1F::Sumw2:0: RuntimeWarning: Sum of squares of weights structure already created\n",
        "TH1F::Sumw2:0: RuntimeWarning: Sum of squares of weights structure already created\n"
       ]
      },
      {
       "output_type": "stream",
       "stream": "stderr",
       "text": [
        "TH1F::Sumw2:0: RuntimeWarning: Sum of squares of weights structure already created\n",
        "TH1F::Sumw2:0: RuntimeWarning: Sum of squares of weights structure already created\n"
       ]
      },
      {
       "output_type": "stream",
       "stream": "stderr",
       "text": [
        "TH1F::Sumw2:0: RuntimeWarning: Sum of squares of weights structure already created\n",
        "TH1F::Sumw2:0: RuntimeWarning: Sum of squares of weights structure already created\n"
       ]
      },
      {
       "output_type": "stream",
       "stream": "stderr",
       "text": [
        "TH1F::Sumw2:0: RuntimeWarning: Sum of squares of weights structure already created\n",
        "TH1F::Sumw2:0: RuntimeWarning: Sum of squares of weights structure already created\n"
       ]
      },
      {
       "output_type": "stream",
       "stream": "stderr",
       "text": [
        "TH1F::Sumw2:0: RuntimeWarning: Sum of squares of weights structure already created\n",
        "TH1F::Sumw2:0: RuntimeWarning: Sum of squares of weights structure already created\n",
        "TH1F::Sumw2:0: RuntimeWarning: Sum of squares of weights structure already created\n",
        "TH1F::Sumw2:0: RuntimeWarning: Sum of squares of weights structure already created\n"
       ]
      },
      {
       "output_type": "stream",
       "stream": "stderr",
       "text": [
        "TH1F::Sumw2:0: RuntimeWarning: Sum of squares of weights structure already created\n",
        "TH1F::Sumw2:0: RuntimeWarning: Sum of squares of weights structure already created\n",
        "TH1F::Sumw2:0: RuntimeWarning: Sum of squares of weights structure already created\n",
        "TH1F::Sumw2:0: RuntimeWarning: Sum of squares of weights structure already created\n"
       ]
      },
      {
       "output_type": "stream",
       "stream": "stderr",
       "text": [
        "TH1F::Sumw2:0: RuntimeWarning: Sum of squares of weights structure already created\n",
        "TH1F::Sumw2:0: RuntimeWarning: Sum of squares of weights structure already created\n",
        "TH1F::Sumw2:0: RuntimeWarning: Sum of squares of weights structure already created\n",
        "TH1F::Sumw2:0: RuntimeWarning: Sum of squares of weights structure already created\n"
       ]
      },
      {
       "output_type": "stream",
       "stream": "stderr",
       "text": [
        "TH1F::Sumw2:0: RuntimeWarning: Sum of squares of weights structure already created\n",
        "TH1F::Sumw2:0: RuntimeWarning: Sum of squares of weights structure already created\n"
       ]
      },
      {
       "output_type": "stream",
       "stream": "stderr",
       "text": [
        "TH1F::Sumw2:0: RuntimeWarning: Sum of squares of weights structure already created\n",
        "TH1F::Sumw2:0: RuntimeWarning: Sum of squares of weights structure already created\n"
       ]
      },
      {
       "output_type": "stream",
       "stream": "stderr",
       "text": [
        "TH1F::Sumw2:0: RuntimeWarning: Sum of squares of weights structure already created\n",
        "TH1F::Sumw2:0: RuntimeWarning: Sum of squares of weights structure already created\n"
       ]
      },
      {
       "output_type": "stream",
       "stream": "stderr",
       "text": [
        "TH1F::Sumw2:0: RuntimeWarning: Sum of squares of weights structure already created\n",
        "TH1F::Sumw2:0: RuntimeWarning: Sum of squares of weights structure already created\n"
       ]
      },
      {
       "output_type": "stream",
       "stream": "stderr",
       "text": [
        "TH1F::Sumw2:0: RuntimeWarning: Sum of squares of weights structure already created\n",
        "TH1F::Sumw2:0: RuntimeWarning: Sum of squares of weights structure already created\n",
        "TH1F::Sumw2:0: RuntimeWarning: Sum of squares of weights structure already created\n",
        "TH1F::Sumw2:0: RuntimeWarning: Sum of squares of weights structure already created\n"
       ]
      },
      {
       "output_type": "stream",
       "stream": "stderr",
       "text": [
        "TH1F::Sumw2:0: RuntimeWarning: Sum of squares of weights structure already created\n",
        "TH1F::Sumw2:0: RuntimeWarning: Sum of squares of weights structure already created\n",
        "TH1F::Sumw2:0: RuntimeWarning: Sum of squares of weights structure already created\n",
        "TH1F::Sumw2:0: RuntimeWarning: Sum of squares of weights structure already created\n"
       ]
      },
      {
       "output_type": "stream",
       "stream": "stderr",
       "text": [
        "TH1F::Sumw2:0: RuntimeWarning: Sum of squares of weights structure already created\n",
        "TH1F::Sumw2:0: RuntimeWarning: Sum of squares of weights structure already created\n",
        "TH1F::Sumw2:0: RuntimeWarning: Sum of squares of weights structure already created\n",
        "TH1F::Sumw2:0: RuntimeWarning: Sum of squares of weights structure already created\n"
       ]
      },
      {
       "output_type": "stream",
       "stream": "stderr",
       "text": [
        "TH1F::Sumw2:0: RuntimeWarning: Sum of squares of weights structure already created\n",
        "TH1F::Sumw2:0: RuntimeWarning: Sum of squares of weights structure already created\n"
       ]
      },
      {
       "output_type": "stream",
       "stream": "stderr",
       "text": [
        "TH1F::Sumw2:0: RuntimeWarning: Sum of squares of weights structure already created\n",
        "TH1F::Sumw2:0: RuntimeWarning: Sum of squares of weights structure already created\n"
       ]
      },
      {
       "output_type": "stream",
       "stream": "stderr",
       "text": [
        "TH1F::Sumw2:0: RuntimeWarning: Sum of squares of weights structure already created\n",
        "TH1F::Sumw2:0: RuntimeWarning: Sum of squares of weights structure already created\n"
       ]
      },
      {
       "output_type": "stream",
       "stream": "stderr",
       "text": [
        "TH1F::Sumw2:0: RuntimeWarning: Sum of squares of weights structure already created\n",
        "TH1F::Sumw2:0: RuntimeWarning: Sum of squares of weights structure already created\n"
       ]
      },
      {
       "output_type": "stream",
       "stream": "stderr",
       "text": [
        "TH1F::Sumw2:0: RuntimeWarning: Sum of squares of weights structure already created\n",
        "TH1F::Sumw2:0: RuntimeWarning: Sum of squares of weights structure already created\n",
        "TH1F::Sumw2:0: RuntimeWarning: Sum of squares of weights structure already created\n",
        "TH1F::Sumw2:0: RuntimeWarning: Sum of squares of weights structure already created\n"
       ]
      },
      {
       "output_type": "stream",
       "stream": "stderr",
       "text": [
        "TH1F::Sumw2:0: RuntimeWarning: Sum of squares of weights structure already created\n",
        "TH1F::Sumw2:0: RuntimeWarning: Sum of squares of weights structure already created\n",
        "TH1F::Sumw2:0: RuntimeWarning: Sum of squares of weights structure already created\n",
        "TH1F::Sumw2:0: RuntimeWarning: Sum of squares of weights structure already created\n"
       ]
      },
      {
       "output_type": "stream",
       "stream": "stderr",
       "text": [
        "TH1F::Sumw2:0: RuntimeWarning: Sum of squares of weights structure already created\n",
        "TH1F::Sumw2:0: RuntimeWarning: Sum of squares of weights structure already created\n",
        "TH1F::Sumw2:0: RuntimeWarning: Sum of squares of weights structure already created\n"
       ]
      }
     ],
     "prompt_number": 20
    },
    {
     "cell_type": "heading",
     "level": 2,
     "metadata": {},
     "source": [
      "Efficiencies later selection"
     ]
    },
    {
     "cell_type": "code",
     "collapsed": false,
     "input": [
      "CutsNm1=[ROOT.TCut(\"\"),Cut1,CutDRbb,CutDRWH,CutHM,CutM2HP,CutDRTp6thJ,CutRelHT]\n",
      "\n",
      "CumulCut=ROOT.TCut(\"\")*CutHT\n",
      "SF=ROOT.TCut(\"weight\")\n",
      "PU=ROOT.TCut(\"PUR_function(NTI)\")\n",
      "CMC=ROOT.TCut(\"\")\n",
      "#CMC=SF*PU\n",
      "j=0\n",
      "\n",
      "Titles=[\"NCSVM\"]\n",
      "\n",
      "BinsLimits=[\"(60,0,60)\"]\n",
      "\n",
      "IntegralArray=[[556.8,74803879.0,601988.3,11719.0]]\n",
      "\n",
      "for i in xrange(len(CutsNm1)):\n",
      "    CumulCut=CumulCut*CutsNm1[i]\n",
      "    \n",
      "    TTbarNm1Histos=[]; DataNm1Histos=[]; QCDNm1Histos=[]\n",
      "    SingleTNm1Histos=[]; DibosonNm1Histos=[]; DYNm1Histos=[]\n",
      "    SignalNm1Histos=[]\n",
      "    \n",
      "    IntegralCut=[]\n",
      "    \n",
      "    NMassPointsA[2].Draw(Titles[j]+\" >> \"+Titles[j]+\"S_Cut\"+str(i)+str(j)+BinsLimits[j],CumulCut*CMC)\n",
      "    SignalNm1Histos.append(ROOT.gDirectory.Get(Titles[j]+\"S_Cut\"+str(i)+str(j)))\n",
      "    SignalNm1Histos[-1].Sumw2(); SignalNm1Histos[-1].Scale(SWeight)\n",
      "    IntegralCut.append(SignalNm1Histos[-1].Integral())\n",
      "    \n",
      "    TntupleA.Draw(Titles[j]+\" >> \"+Titles[j]+\"T_Cut\"+str(i)+str(j)+BinsLimits[j],CumulCut*CMC)\n",
      "    TTbarNm1Histos.append(ROOT.gDirectory.Get(Titles[j]+\"T_Cut\"+str(i)+str(j)))\n",
      "    TTbarNm1Histos[-1].Sumw2(); TTbarNm1Histos[-1].Scale(TWeight) #; TTbarHistos[-1].Write()\n",
      "                \n",
      "    QCDHT=[]\n",
      "    QntuplesA[0].Draw(Titles[j]+\" >> \"+Titles[j]+\"Q500_Cut\"+str(i)+str(j)+BinsLimits[j],CumulCut*CMC)\n",
      "    QCDHT.append(ROOT.gDirectory.Get(Titles[j]+\"Q500_Cut\"+str(i)+str(j)))\n",
      "    QCDHT[-1].Sumw2(); QCDHT[-1].Scale(QWeights[0]) #; QCD500Histos[-1].Write()\n",
      "        \n",
      "    QntuplesA[1].Draw(Titles[j]+\" >> \"+Titles[j]+\"Q1000_Cut\"+str(i)+str(j)+BinsLimits[j],CumulCut*CMC)\n",
      "    QCDHT.append(ROOT.gDirectory.Get(Titles[j]+\"Q1000_Cut\"+str(i)+str(j)))\n",
      "    QCDHT[-1].Sumw2(); QCDHT[-1].Scale(QWeights[1]) #; QCD1000Histos[-1].Write()\n",
      "    \n",
      "    STHT=[]\n",
      "    for k in xrange(6): #Single Top\n",
      "        if SubBKGArrayA[k].GetEntries()>0:\n",
      "            SubBKGArrayA[k].Draw(Titles[j]+\" >> \"+Titles[j]+\"ST_Cut\"+str(i)+str(j)+\"_\"+str(k)+BinsLimits[j],CumulCut*CMC)\n",
      "            STHT.append(ROOT.gDirectory.Get(Titles[j]+\"ST_Cut\"+str(i)+str(j)+\"_\"+str(k)))\n",
      "            STHT[-1].Sumw2(); STHT[-1].Scale(SingleTWeights[k])\n",
      "    SingleTNm1Histos.append(STHT)\n",
      "            \n",
      "    DiHT=[]\n",
      "    for k in xrange(3): #Diboson\n",
      "        if SubBKGArrayA[k+6].GetEntries()>0:\n",
      "            SubBKGArrayA[k+6].Draw(Titles[j]+\" >> \"+Titles[j]+\"Di_Cut\"+str(i)+str(j)+\"_\"+str(k)+BinsLimits[j],CumulCut*CMC)\n",
      "            DiHT.append(ROOT.gDirectory.Get(Titles[j]+\"Di_Cut\"+str(i)+str(j)+\"_\"+str(k)))\n",
      "            DiHT[-1].Sumw2(); DiHT[-1].Scale(DibosonWeights[k])\n",
      "            #print DiHT[-1].GetEntries(), DiHT[-1].Integral()\n",
      "    DibosonNm1Histos.append(DiHT)\n",
      "        \n",
      "    DYHT=[]\n",
      "    for k in xrange(2): #DY\n",
      "        if SubBKGArrayA[k+9].GetEntries()>0:\n",
      "            SubBKGArrayA[k+9].Draw(Titles[j]+\" >> \"+Titles[j]+\"DY_Cut\"+str(i)+str(j)+\"_\"+str(k)+BinsLimits[j],CumulCut*CMC)\n",
      "            DYHT.append(ROOT.gDirectory.Get(Titles[j]+\"DY_Cut\"+str(i)+str(j)+\"_\"+str(k)))\n",
      "            DYHT[-1].Sumw2(); DYHT[-1].Scale(DYWeights[k])\n",
      "    DYNm1Histos.append(DYHT)\n",
      "        \n",
      "    if QCDPTFLAG: \n",
      "        for k in xrange(6): #QCD PT hat\n",
      "            if SubBKGArrayA[k+11].GetEntries()>0:\n",
      "                SubBKGArrayA[k+11].Draw(Titles[j]+\" >> \"+Titles[j]+\"QCDPT_Cut\"+str(i)+str(j)+\"_\"+str(k)+BinsLimits[j],CumulCut*CMC)\n",
      "                QCDHT.append(ROOT.gDirectory.Get(Titles[j]+\"QCDPT_Cut\"+str(i)+str(j)+\"_\"+str(k)))\n",
      "                QCDHT[-1].Sumw2(); QCDHT[-1].Scale(QCDPTWeights[k])\n",
      "    QCDNm1Histos.append(QCDHT)\n",
      "\n",
      "    QCDFull=QCDNm1Histos[-1][0].Clone(Titles[j]+\"Q_Cut\"+str(i)+str(j))\n",
      "    for k in QCDNm1Histos[-1][1:]:\n",
      "        QCDFull.Add(k)\n",
      "        \n",
      "    SingleTFull=SingleTNm1Histos[-1][0].Clone(Titles[j]+\"ST_Cut\"+str(i)+str(j))\n",
      "    for k in SingleTNm1Histos[-1][1:]:\n",
      "        SingleTFull.Add(k)\n",
      "    \n",
      "    DibosonFull=DibosonNm1Histos[-1][0].Clone(Titles[j]+\"Di_Cut\"+str(i)+str(j))\n",
      "    for k in DibosonNm1Histos[-1][1:]:\n",
      "        DibosonFull.Add(k)\n",
      "        \n",
      "    DYFull=DYNm1Histos[-1][0].Clone(Titles[j]+\"DY_Cut\"+str(i)+str(j))\n",
      "    for k in DYNm1Histos[-1][1:]:\n",
      "        DYFull.Add(k)\n",
      "        \n",
      "    IntegralCut.append(QCDFull.Integral())\n",
      "    IntegralCut.append(TTbarNm1Histos[-1].Integral()+SingleTFull.Integral())\n",
      "    IntegralCut.append(DibosonFull.Integral())\n",
      "    IntegralArray.append(np.array(IntegralCut))\n",
      "    \n",
      "print \"Efficiencies with respect to total entries after Trigger\"\n",
      "for k in xrange(len(IntegralArray)-1):\n",
      "    #print IntegralArray[k+1]\n",
      "    print \"Cut\"+str(k+1)+\": \"\n",
      "    for l in xrange(len(IntegralArray[k+1])):\n",
      "        print \" {0:.3e}+-{1:.2e}\".format(100*IntegralArray[k+1][l]/IntegralArray[0][l],\n",
      "                                         100*EffE(IntegralArray[k+1][l]/IntegralArray[0][l],IntegralArray[0][l]))"
     ],
     "language": "python",
     "metadata": {},
     "outputs": [
      {
       "output_type": "stream",
       "stream": "stdout",
       "text": [
        "Efficiencies with respect to total entries after Trigger\n",
        "Cut1: \n",
        " 1.466e+01+-1.50e+00\n",
        " 5.841e-02+-2.79e-04\n",
        " 1.980e+00+-1.80e-02\n",
        " 1.459e-01+-3.53e-02\n",
        "Cut2: \n",
        " 7.092e+00+-1.09e+00\n",
        " 5.379e-03+-8.48e-05\n",
        " 6.410e-01+-1.03e-02\n",
        " 1.405e-02+-1.09e-02\n",
        "Cut3: \n",
        " 6.465e+00+-1.04e+00\n",
        " 1.796e-03+-4.90e-05\n",
        " 2.578e-01+-6.54e-03\n",
        " 6.639e-03+-7.53e-03\n",
        "Cut4: \n",
        " 6.358e+00+-1.03e+00\n",
        " 1.535e-03+-4.53e-05\n",
        " 2.306e-01+-6.18e-03\n",
        " 5.436e-03+-6.81e-03\n",
        "Cut5: \n",
        " 5.649e+00+-9.78e-01\n",
        " 1.244e-03+-4.08e-05\n",
        " 1.681e-01+-5.28e-03\n",
        " 2.247e-03+-4.38e-03\n",
        "Cut6: \n",
        " 3.570e+00+-7.86e-01\n",
        " 4.470e-04+-2.44e-05\n",
        " 4.656e-02+-2.78e-03\n",
        " 3.914e-04+-1.83e-03\n",
        "Cut7: \n",
        " 2.011e+00+-5.95e-01\n",
        " 2.011e-05+-5.19e-06\n",
        " 5.775e-03+-9.79e-04\n",
        " 0.000e+00+-0.00e+00\n",
        "Cut8: \n",
        " 1.794e+00+-5.63e-01\n",
        " 3.997e-07+-7.31e-07\n",
        " 3.402e-03+-7.52e-04\n",
        " 0.000e+00+-0.00e+00\n"
       ]
      }
     ],
     "prompt_number": 14
    },
    {
     "cell_type": "heading",
     "level": 1,
     "metadata": {},
     "source": [
      "OLD CODE!"
     ]
    },
    {
     "cell_type": "code",
     "collapsed": false,
     "input": [
      "Cut1=ROOT.TCut(\"chi2<820\")\n",
      "CutsFromOpt=[ROOT.TCut(\"\"),Cut1,CutDRbb,CutDRWH,CutM2HP,CutDRTp6thJ,CutHM,CutRelHT,CutMTHAsym]\n",
      "OptVersion=\"_550To1100_bkgestimation_with_optchi2_\"+NominalV+\"_\"+InclusiveV1+\"_\"+InclusiveV2\n",
      "\n",
      "CumulCut=ROOT.TCut(\"\")*CutHT\n",
      "\n",
      "PDFName=\"Nminus1\"+OptVersion+\".pdf\"\n",
      "CurCanv = rootnotes.canvas(\"MyPlot\", (600, 800))\n",
      "Titles=[\"Base\",\"chi2\", \"DRbb\", \"DRWH\", \"M2HP\", \"DRTp6thJ\", \"HiggsMass\", \"RelHT\", \"MTHAsym\"]\n",
      "\n",
      "SignalWEntries=[]; QCDWEntries=[]; TopWEntries=[]; DibosonWEntries=[]\n",
      "\n",
      "BinsLimits=\"(30,550,1100)\"\n",
      "\n",
      "ValString=[\"Data\",\"TTbar\",\"QCD\",\"MC-Sum\"]\n",
      "WP=[\" CSVM\",\" [0.244,0.679)\",\" [0.389,0.679)\",\" [0.534,0.679)\"]\n",
      "\n",
      "for i in xrange(len(CutsFromOpt)):\n",
      "    TTbarHistos=[]; QCD500Histos=[]; QCD1000Histos=[]; DataHistos=[]; QCDHistos=[]; MCHistos=[]\n",
      "    SingleTHistos=[]; QCDPTHistos=[]; DibosonHistos=[]; DYHistos=[]; SignalHistos=[]\n",
      "    CumulCut=CumulCut*CutsFromOpt[i]\n",
      "    for j in xrange(len(MCArray)):\n",
      "        \n",
      "        SHT=[]; SEnT=[]\n",
      "        if (i==(len(CutsFromOpt)-1) and j==0): MassesHistosf = ROOT.TFile(\"Histos_Masses_Afterfullsel.root\", \"recreate\")\n",
      "        #####SIGNAL#####\n",
      "        for k in xrange(len(MCArray[j][0])): #Signal            \n",
      "            if MCArray[j][0][k].GetEntries()>0:\n",
      "                MCArray[j][0][k].Draw(\"M5J >> M5jSi_Cut\"+str(i)+\"_\"+str(j)+\"_\"+str(k)+BinsLimits,CumulCut)\n",
      "                SHT.append(ROOT.gDirectory.Get(\"M5jSi_Cut\"+str(i)+\"_\"+str(j)+\"_\"+str(k)))\n",
      "                SHT[-1].Sumw2(); SHT[-1].Scale(NWeights[k])\n",
      "                if (i==(len(CutsFromOpt)-1) and j==0): SHT[-1].Write()\n",
      "                if j==0: SEnT.append(SHT[-1].GetEntries())\n",
      "        SignalHistos.append(SHT)\n",
      "        if (i==(len(CutsFromOpt)-1) and j==0): MassesHistosf.Close()\n",
      "        if j==0: SignalWEntries.append(SEnT)\n",
      "        \n",
      "        #####TTJets#####\n",
      "        MCArray[j][1].Draw(\"M5J >> M5jT_Cut\"+str(i)+\"_\"+str(j)+BinsLimits,CumulCut)\n",
      "        TTbarHistos.append(ROOT.gDirectory.Get(\"M5jT_Cut\"+str(i)+\"_\"+str(j)))\n",
      "        TTbarHistos[-1].Sumw2(); TTbarHistos[-1].Scale(TWeight) #; TTbarHistos[-1].Write()\n",
      "        if j==0: TopWEntries.append(TTbarHistos[-1].GetEntries()*TWeight)\n",
      "                \n",
      "        #####QCDHT#####\n",
      "        MCArray[j][2][0].Draw(\"M5J >> M5jQ500_Cut\"+str(i)+\"_\"+str(j)+BinsLimits,CumulCut)\n",
      "        QCD500Histos.append(ROOT.gDirectory.Get(\"M5jQ500_Cut\"+str(i)+\"_\"+str(j)))\n",
      "        QCD500Histos[-1].Sumw2(); QCD500Histos[-1].Scale(QWeights[0]) #; QCD500Histos[-1].Write()\n",
      "        if j==0: QCDWEntries.append(QCD500Histos[-1].GetEntries()*QWeights[0])\n",
      "        \n",
      "        MCArray[j][2][1].Draw(\"M5J >> M5jQ1000_Cut\"+str(i)+\"_\"+str(j)+BinsLimits,CumulCut)\n",
      "        QCD1000Histos.append(ROOT.gDirectory.Get(\"M5jQ1000_Cut\"+str(i)+\"_\"+str(j)))\n",
      "        QCD1000Histos[-1].Sumw2(); QCD1000Histos[-1].Scale(QWeights[1]) #; QCD1000Histos[-1].Write()\n",
      "        if j==0: QCDWEntries[-1]+=QCD1000Histos[-1].GetEntries()*QWeights[1]\n",
      "        \n",
      "        STHT=[]\n",
      "        for k in xrange(len(SubBKGArray[j][0])): #Single Top\n",
      "            if SubBKGArray[j][0][k].GetEntries()>0:\n",
      "                SubBKGArray[j][0][k].Draw(\"M5J >> M5jST_Cut\"+str(i)+\"_\"+str(j)+\"_\"+str(k)+BinsLimits,CumulCut)\n",
      "                STHT.append(ROOT.gDirectory.Get(\"M5jST_Cut\"+str(i)+\"_\"+str(j)+\"_\"+str(k)))\n",
      "                STHT[-1].Sumw2(); STHT[-1].Scale(SingleTWeights[k])\n",
      "                if j==0: TopWEntries[-1]+=STHT[-1].GetEntries()*SingleTWeights[k]\n",
      "        SingleTHistos.append(STHT)\n",
      "            \n",
      "        DiHT=[]; DiE=0\n",
      "        for k in xrange(len(SubBKGArray[j][1])): #Diboson\n",
      "            if SubBKGArray[j][1][k].GetEntries()>0:\n",
      "                SubBKGArray[j][1][k].Draw(\"M5J >> M5jDi_Cut\"+str(i)+\"_\"+str(j)+\"_\"+str(k)+BinsLimits,CumulCut)\n",
      "                DiHT.append(ROOT.gDirectory.Get(\"M5jDi_Cut\"+str(i)+\"_\"+str(j)+\"_\"+str(k)))\n",
      "                DiHT[-1].Sumw2(); DiHT[-1].Scale(DibosonWeights[k])\n",
      "                if j==0: DiE+=DiHT[-1].GetEntries()*DibosonWeights[k]\n",
      "        DibosonHistos.append(DiHT)\n",
      "        if j==0: DibosonWEntries.append(DiE)\n",
      "        \n",
      "        DYHT=[]\n",
      "        for k in xrange(len(SubBKGArray[j][2])): #DY\n",
      "            if SubBKGArray[j][2][k].GetEntries()>0:\n",
      "                SubBKGArray[j][2][k].Draw(\"M5J >> M5jDY_Cut\"+str(i)+\"_\"+str(j)+\"_\"+str(k)+BinsLimits,CumulCut)\n",
      "                DYHT.append(ROOT.gDirectory.Get(\"M5jDY_Cut\"+str(i)+\"_\"+str(j)+\"_\"+str(k)))\n",
      "                DYHT[-1].Sumw2(); DYHT[-1].Scale(DYWeights[k])\n",
      "        DYHistos.append(DYHT)\n",
      "        \n",
      "        if QCDPTFLAG: \n",
      "            QCDPTHT=[]\n",
      "            for k in xrange(len(SubBKGArray[j][3])): #QCD PT hat\n",
      "                if SubBKGArray[j][3][k].GetEntries()>0:\n",
      "                    SubBKGArray[j][3][k].Draw(\"M5J >> M5jQCDPT_Cut\"+str(i)+\"_\"+str(j)+\"_\"+str(k)+BinsLimits,CumulCut)\n",
      "                    QCDPTHT.append(ROOT.gDirectory.Get(\"M5jQCDPT_Cut\"+str(i)+\"_\"+str(j)+\"_\"+str(k)))\n",
      "                    QCDPTHT[-1].Sumw2(); QCDPTHT[-1].Scale(QCDPTWeights[k])\n",
      "                    if j==0: QCDWEntries[-1]+=QCDPTHT[-1].GetEntries()*QCDPTWeights[k]\n",
      "            QCDPTHistos.append(QCDPTHT)\n",
      "            \n",
      "        QCDFull=QCD500Histos[-1].Clone(\"M5jQ_Cut\"+str(i)+\"_\"+str(j))\n",
      "        QCDFull.Add(QCD1000Histos[-1])\n",
      "        if QCDPTFLAG:\n",
      "            for k in QCDPTHistos[-1]:\n",
      "                QCDFull.Add(k)\n",
      "        QCDHistos.append(QCDFull)\n",
      "        \n",
      "        MCFull=QCDFull.Clone(\"M5jMC_Cut\"+str(i)+\"_\"+str(j))\n",
      "        MCFull.Add(TTbarHistos[-1])\n",
      "        for k in SingleTHistos[-1]: MCFull.Add(k)\n",
      "        for k in DibosonHistos[-1]: MCFull.Add(k)\n",
      "        for k in DYHistos[-1]: MCFull.Add(k)\n",
      "        MCHistos.append(MCFull)\n",
      "        \n",
      "        #DataArray[j].Draw(\"M5J >> M5jD_Cut\"+str(i)+\"_\"+str(j)+BinsLimits,CumulCut)\n",
      "        #DataHistos.append(ROOT.gDirectory.Get(\"M5jD_Cut\"+str(i)+\"_\"+str(j)))\n",
      "    \n",
      "    DataA[0].Draw(\"M5J >> M5jD_Cut\"+str(i)+\"_0\"+BinsLimits,CumulCut)\n",
      "    DataHistos.append(ROOT.gDirectory.Get(\"M5jD_Cut\"+str(i)+\"_0\"))\n",
      "    DataE[0].Draw(\"M5J >> M5jD_Cut\"+str(i)+\"_1\"+BinsLimits,CumulCut)\n",
      "    DataHistos.append(ROOT.gDirectory.Get(\"M5jD_Cut\"+str(i)+\"_1\"))\n",
      "    DataE1[0].Draw(\"M5J >> M5jD_Cut\"+str(i)+\"_2\"+BinsLimits,CumulCut)\n",
      "    DataHistos.append(ROOT.gDirectory.Get(\"M5jD_Cut\"+str(i)+\"_2\"))\n",
      "    DataE2[0].Draw(\"M5J >> M5jD_Cut\"+str(i)+\"_3\"+BinsLimits,CumulCut)\n",
      "    DataHistos.append(ROOT.gDirectory.Get(\"M5jD_Cut\"+str(i)+\"_3\"))\n",
      "    ROOT.gPad.Clear()\n",
      "    for k in xrange(4):\n",
      "        if k!=0: continue\n",
      "        if k==0: HistosToplot=DataHistos\n",
      "        elif k==1: HistosToplot=TTbarHistos\n",
      "        elif k==2: HistosToplot=MCHistos\n",
      "        elif k==3: HistosToplot=QCDHistos\n",
      "        \n",
      "        CurrentStyle=ROOT.TStyle(\"CStyle\",\"Style for Plotting\")\n",
      "        #ROOT.SetOwnership( CurrentStyle, False )\n",
      "        #CurrentStyle.SetOptStat(0)\n",
      "        #CurrentStyle.SetOptTitle(0)\n",
      "        #CurrentStyle.SetPadLeftMargin(0.16)\n",
      "        #CurrentStyle.SetPadRightMargin(0.02)\n",
      "        \n",
      "        #CurrentStyle.SetTitleColor(1, \"XYZ\")\n",
      "        #CurrentStyle.SetTitleFont(42, \"XYZ\")\n",
      "        #CurrentStyle.SetTitleSize(0.06, \"XYZ\")\n",
      "        #CurrentStyle.SetTitleXOffset(1.0)\n",
      "        #CurrentStyle.SetTitleOffset(1.5, \"Y\")\n",
      "        #CurrentStyle.SetLabelColor(1, \"XYZ\")\n",
      "        #CurrentStyle.SetLabelFont(42, \"XYZ\")\n",
      "        #CurrentStyle.SetLabelOffset(0.007, \"XYZ\")\n",
      "        #CurrentStyle.SetLabelSize(0.05, \"XYZ\")\n",
      "        #CurrentStyle.SetAxisColor(1, \"XYZ\")\n",
      "        #CurrentStyle.SetStripDecimals(ROOT.kTRUE)\n",
      "        #CurrentStyle.SetTickLength(0.03, \"XYZ\")\n",
      "        #CurrentStyle.SetNdivisions(510, \"XYZ\")\n",
      "                \n",
      "        CurCanv1 = rootnotes.canvas(\"MyPlot\", (600, 800))\n",
      "        CurCanv1.cd(1)\n",
      "        Pad1=ROOT.TPad(\"pad1\",\"pad1\",0,0.3,1,1)\n",
      "        Pad1.SetBottomMargin(0)\n",
      "        Pad1.SetLeftMargin(0.16)\n",
      "        Pad1.Draw()\n",
      "        Pad1.cd()\n",
      "        \n",
      "        HistosToplot[0].SetStats(ROOT.kFALSE)\n",
      "        \n",
      "        HistosToplot[0].SetTitle(\";;A.U.\")\n",
      "        SetAxis(HistosToplot[0],'Y',0.5,0.05,0.007,0.0,510)\n",
      "        HistosToplot[0].SetLineStyle(1); HistosToplot[0].SetLineWidth(1); HistosToplot[0].SetLineColor(ROOT.kGray+2)\n",
      "        HistosToplot[0].SetFillStyle(3144); HistosToplot[0].SetFillColor(ROOT.kGray+2)\n",
      "        \n",
      "        HistosToplot[1].SetLineStyle(1); HistosToplot[1].SetLineWidth(2); HistosToplot[1].SetLineColor(ROOT.kGreen+2)\n",
      "        \n",
      "        HistosToplot[2].SetLineStyle(1); HistosToplot[2].SetLineWidth(2); HistosToplot[2].SetLineColor(ROOT.kRed+1)\n",
      "        \n",
      "        HistosToplot[3].SetLineStyle(1); HistosToplot[3].SetLineWidth(2); HistosToplot[3].SetLineColor(ROOT.kBlue+1)\n",
      "        \n",
      "        CloneE=HistosToplot[1].Clone(\"CopyE\"); CloneE1=HistosToplot[2].Clone(\"CopyE1\"); CloneE2=HistosToplot[3].Clone(\"CopyE2\")\n",
      "        CloneA=HistosToplot[0].Clone(\"CopyA\")\n",
      "        \n",
      "        LEG=ROOT.TLegend(0.5,0.5,0.9,0.9)\n",
      "        LEG.AddEntry(HistosToplot[0], ValString[k]+WP[0], \"f\"); LEG.AddEntry(HistosToplot[1], ValString[k]+WP[1], \"le\")\n",
      "        LEG.AddEntry(HistosToplot[2], ValString[k]+WP[2], \"le\"); LEG.AddEntry(HistosToplot[3], ValString[k]+WP[3], \"le\")\n",
      "        LEG.SetFillColor(0);\n",
      "        HistosToplot[0].DrawNormalized(\"E2\"); HistosToplot[1].DrawNormalized(\"E same\")\n",
      "        HistosToplot[2].DrawNormalized(\"E same\"); HistosToplot[3].DrawNormalized(\"E same\")\n",
      "        LEG.Draw()\n",
      "        CurrentStyle.SetPadTickX(1)\n",
      "        CurCanv1.cd()\n",
      "        \n",
      "        Pad2=ROOT.TPad(\"pad2\",\"pad2\",0,0,1,0.3)\n",
      "        Pad2.SetTopMargin(0)\n",
      "        Pad2.SetLeftMargin(0.16)\n",
      "        Pad2.SetBottomMargin(0.25)\n",
      "        Pad2.Draw()\n",
      "        Pad2.cd()\n",
      "        \n",
      "        CloneA.SetMinimum(0.1); CloneA.SetMaximum(1.9)\n",
      "        CloneA.Sumw2()\n",
      "        CloneA.SetStats(0)\n",
      "        CloneA.SetTitle(\";M(5J) GeV/c^{2};ControlSample/SignalSample\")\n",
      "        CloneA.Divide(HistosToplot[0])\n",
      "        CloneA.SetFillStyle(1001)\n",
      "        SetAxis(CloneA,'X',0.9,0.09,0.007,0.09,510)\n",
      "        SetAxis(CloneA,'Y',0.7,0.06,0.007,0.09,404)\n",
      "        CloneA.Draw(\"E2\")\n",
      "        \n",
      "        CloneE.Sumw2()\n",
      "        CloneE.Scale(HistosToplot[0].Integral()/CloneE.Integral()); CloneE.SetStats(0)\n",
      "        CloneE.SetTitle(\";M(5J) GeV/c^{2};ControlSample/SignalSample\")\n",
      "        CloneE.Divide(HistosToplot[0])\n",
      "        CloneE.Draw(\"ep same\")\n",
      "        \n",
      "        CloneE1.Sumw2()\n",
      "        CloneE1.Scale(HistosToplot[0].Integral()/CloneE1.Integral()); CloneE1.SetStats(0)\n",
      "        CloneE1.SetTitle(\";M(5J) GeV/c^{2};ControlSample/SignalSample\")\n",
      "        CloneE1.Divide(HistosToplot[0])\n",
      "        CloneE1.Draw(\"ep same\")\n",
      "        \n",
      "        CloneE2.Sumw2()\n",
      "        CloneE2.Scale(HistosToplot[0].Integral()/CloneE2.Integral()); CloneE2.SetStats(0)\n",
      "        CloneE2.SetTitle(\";M(5J) GeV/c^{2};ControlSample/SignalSample\")\n",
      "        CloneE2.Divide(HistosToplot[0])\n",
      "        CloneE2.Draw(\"ep same\")\n",
      "        \n",
      "        #print i, k\n",
      "        \n",
      "        if i==0 and k==0: CurCanv1.Print(PDFName+\"(\",\"Title:\"+Titles[i]+\"_\"+ValString[k])\n",
      "        elif i==(len(CutsFromOpt)-1) and k==0: CurCanv1.Print(PDFName+\")\",\"Title:\"+Titles[i]+\"_\"+ValString[k])\n",
      "        else: CurCanv1.Print(PDFName,\"Title:\"+Titles[i]+\"_\"+ValString[k])\n",
      "        ######if i>=0 and k>=0: CurCanv1.Print(PDFName,\"Title:\"+Titles[i]+\"_\"+ValString[k])\n",
      "        #elif i!=0 and k<3: CurCanv1.Print(PDFName,\"Title:\"+Titles[i]+\"_\"+ValString[k])\n",
      "        #elif i!=0 and k==3: CurCanv1.Print(PDFName,\"Title:\"+Titles[i]+\"_\"+ValString[k])\n",
      "        ######if i==(len(CutsFromOpt)-1) and k==3: CurCanv1.Print(PDFName+\")\",\"Title:\"+Titles[i]+\"_\"+ValString[k])\n",
      "        \n",
      "        CurCanv1.Clear(); CurrentStyle.SetPadTickX(0)\n",
      "        CurCanv1.cd(1)\n",
      "                    \n",
      "        del(HistosToplot); del(CurCanv1); del(Pad1); del(Pad2)\n",
      "        del(CloneA); del(CloneE); del(CloneE1); del(CloneE2)\n",
      "    del(TTbarHistos); del(QCD500Histos); del(QCD1000Histos); del(DataHistos); del(QCDHistos); del(MCHistos)\n",
      "    del(SingleTHistos); del(QCDPTHistos); del(DibosonHistos); del(DYHistos); del(SignalHistos)\n",
      "    "
     ],
     "language": "python",
     "metadata": {},
     "outputs": [],
     "prompt_number": 8
    },
    {
     "cell_type": "heading",
     "level": 2,
     "metadata": {},
     "source": [
      "Declaring MC files for inclusive validation"
     ]
    },
    {
     "cell_type": "code",
     "collapsed": false,
     "input": [
      "files = [\"TpJetM600_5318_Full_analyzed.root\",\n",
      "         \"TpJetM650_5318_Full_analyzed.root\",\n",
      "         \"TpJetM700_5318_Full_analyzed.root\",\n",
      "         \"TpJetM750_5318_Full_analyzed.root\",\n",
      "         \"TpJetM800_5318_Full_analyzed.root\",\n",
      "         \"TpJetM850_5318_Full_analyzed.root\",\n",
      "         \"TpJetM900_5318_Full_analyzed.root\",\n",
      "         \"TpJetM950_5318_Full_analyzed.root\",\n",
      "         \"TpJetM1000_5318_Full_analyzed.root\",\n",
      "         \"TTJetsF_5318_Full_analyzed.root\",\n",
      "         \"QCD_HT_500_1000_5318_Full_analyzed.root\",\n",
      "         \"QCD_HT_1000_Inf_5318_Full_analyzed.root\"]\n",
      "\n",
      "TreeStructure=\"M5J:DRHJ:DRWH:RelHT:M2HP:DRTp6thJ:HM:chi2:MTHAsym\"\n",
      "\n",
      "#Control Sample CSVL=[0.389,0.679)\n",
      "TntupleE1 = ROOT.TNtuple(\"TntupleE1\",\"TntupleE1\",TreeStructure)\n",
      "Q500ntupleE1 = ROOT.TNtuple(\"Q500ntupleE1\",\"Q500ntupleE1\",TreeStructure)\n",
      "Q1000ntupleE1 = ROOT.TNtuple(\"Q1000ntupleE1\",\"Q1000ntupleE1\",TreeStructure)\n",
      "QntuplesE1=[Q500ntupleE1,Q1000ntupleE1]\n",
      "S600ntupleE1 = ROOT.TNtuple(\"S600ntupleE1\",\"S600ntupleE1\",TreeStructure)\n",
      "S650ntupleE1 = ROOT.TNtuple(\"S650ntupleE1\",\"S650ntupleE1\",TreeStructure)\n",
      "S700ntupleE1 = ROOT.TNtuple(\"S700ntupleE1\",\"S700ntupleE1\",TreeStructure)\n",
      "S750ntupleE1 = ROOT.TNtuple(\"S750ntupleE1\",\"S750ntupleE1\",TreeStructure)\n",
      "S800ntupleE1 = ROOT.TNtuple(\"S800ntupleE1\",\"S800ntupleE1\",TreeStructure)\n",
      "S850ntupleE1 = ROOT.TNtuple(\"S850ntupleE1\",\"S850ntupleE1\",TreeStructure)\n",
      "S900ntupleE1 = ROOT.TNtuple(\"S900ntupleE1\",\"S900ntupleE1\",TreeStructure)\n",
      "S950ntupleE1 = ROOT.TNtuple(\"S950ntupleE1\",\"S950ntupleE1\",TreeStructure)\n",
      "S1000ntupleE1 = ROOT.TNtuple(\"S1000ntupleE1\",\"S1000ntupleE1\",TreeStructure)\n",
      "NMassPointsE1 = [S600ntupleE1,S650ntupleE1,S700ntupleE1,S750ntupleE1,S800ntupleE1,S850ntupleE1,S900ntupleE1,S950ntupleE1,S1000ntupleE1]\n",
      "\n",
      "#Control Sample CSVL=[0.534,0.679)\n",
      "TntupleE2 = ROOT.TNtuple(\"TntupleE2\",\"TntupleE2\",TreeStructure)\n",
      "Q500ntupleE2 = ROOT.TNtuple(\"Q500ntupleE2\",\"Q500ntupleE2\",TreeStructure)\n",
      "Q1000ntupleE2 = ROOT.TNtuple(\"Q1000ntupleE2\",\"Q1000ntupleE2\",TreeStructure)\n",
      "QntuplesE2=[Q500ntupleE2,Q1000ntupleE2]\n",
      "S600ntupleE2 = ROOT.TNtuple(\"S600ntupleE2\",\"S600ntupleE2\",TreeStructure)\n",
      "S650ntupleE2 = ROOT.TNtuple(\"S650ntupleE2\",\"S650ntupleE2\",TreeStructure)\n",
      "S700ntupleE2 = ROOT.TNtuple(\"S700ntupleE2\",\"S700ntupleE2\",TreeStructure)\n",
      "S750ntupleE2 = ROOT.TNtuple(\"S750ntupleE2\",\"S750ntupleE2\",TreeStructure)\n",
      "S800ntupleE2 = ROOT.TNtuple(\"S800ntupleE2\",\"S800ntupleE2\",TreeStructure)\n",
      "S850ntupleE2 = ROOT.TNtuple(\"S850ntupleE2\",\"S850ntupleE2\",TreeStructure)\n",
      "S900ntupleE2 = ROOT.TNtuple(\"S900ntupleE2\",\"S900ntupleE2\",TreeStructure)\n",
      "S950ntupleE2 = ROOT.TNtuple(\"S950ntupleE2\",\"S950ntupleE2\",TreeStructure)\n",
      "S1000ntupleE2 = ROOT.TNtuple(\"S1000ntupleE2\",\"S1000ntupleE2\",TreeStructure)\n",
      "NMassPointsE2=[S600ntupleE2,S650ntupleE2,S700ntupleE2,S750ntupleE2,S800ntupleE2,S850ntupleE2,S900ntupleE2,S950ntupleE2,S1000ntupleE2]"
     ],
     "language": "python",
     "metadata": {},
     "outputs": []
    },
    {
     "cell_type": "code",
     "collapsed": false,
     "input": [
      "Entries=10000\n",
      "NsignalFiles=9\n",
      "for V in InclusiveVersions:\n",
      "    for f in files:\n",
      "        ff=Base+V+f\n",
      "        CutsChain=ROOT.TChain(\"stp3LNC\")\n",
      "        CutsChain.Add(ff)\n",
      "        entries = CutsChain.GetEntries()\n",
      "        if files.index(f)>=0 and files.index(f)<=NsignalFiles-1: print \"Filling signal...\"\n",
      "        elif files.index(f)>0: print \"Filling bkgs...\"\n",
      "        print \"Entries for file \", f, \" are: \", entries\n",
      "        Entries=entries\n",
      "        for i in xrange(Entries):\n",
      "            CutsChain.GetEntry(i)\n",
      "            HiggsV=ROOT.TLorentzVector(CutsChain.Reconstructed_Higgs3L.X(),CutsChain.Reconstructed_Higgs3L.Y(),CutsChain.Reconstructed_Higgs3L.Z(),CutsChain.Reconstructed_Higgs3L.T())\n",
      "            Higgs1stJV=ROOT.TLorentzVector(CutsChain.First_Higgs_Jet3L.X(),CutsChain.First_Higgs_Jet3L.Y(),CutsChain.First_Higgs_Jet3L.Z(),CutsChain.First_Higgs_Jet3L.T())\n",
      "            Higgs2ndJV=ROOT.TLorentzVector(CutsChain.Second_Higgs_Jet3L.X(),CutsChain.Second_Higgs_Jet3L.Y(),CutsChain.Second_Higgs_Jet3L.Z(),CutsChain.Second_Higgs_Jet3L.T())\n",
      "            J6thV=ROOT.TLorentzVector(CutsChain.Jet6th.X(),CutsChain.Jet6th.Y(),CutsChain.Jet6th.Z(),CutsChain.Jet6th.T())\n",
      "            TprimeV=ROOT.TLorentzVector(CutsChain.Reconstructed_Tprime3L.X(),CutsChain.Reconstructed_Tprime3L.Y(),CutsChain.Reconstructed_Tprime3L.Z(),CutsChain.Reconstructed_Tprime3L.T())\n",
      "            W1V=ROOT.TLorentzVector(CutsChain.Reconstructed_W3L.X(),CutsChain.Reconstructed_W3L.Y(),CutsChain.Reconstructed_W3L.Z(),CutsChain.Reconstructed_W3L.T())\n",
      "            Top2=HiggsV+J6thV\n",
      "            W2=Higgs2ndJV+J6thV\n",
      "            TopJV=ROOT.TLorentzVector(CutsChain.Top_Jet3L.X(),CutsChain.Top_Jet3L.Y(),CutsChain.Top_Jet3L.Z(),CutsChain.Top_Jet3L.T())\n",
      "            #M5J:DRHJ:DRWH:RelHT:M2HP:DRTp6thJ:HM:chi2:MTHAsym\n",
      "            ListOfVariables = [CutsChain.Reconstructed_Tprime3L.M(),\n",
      "                        Higgs1stJV.DeltaR(Higgs2ndJV),\n",
      "                        HiggsV.DeltaR(W1V),\n",
      "                        (CutsChain.Reconstructed_Higgs3L.Pt()+CutsChain.Reconstructed_Top3L.Pt())/CutsChain.THT,\n",
      "                        (Top2.M()+W2.M())/CutsChain.Reconstructed_Higgs3L.M(),\n",
      "                        TprimeV.DeltaR(J6thV),\n",
      "                        CutsChain.Reconstructed_Higgs3L.M(),\n",
      "                        (CutsChain.HiggsChi2+CutsChain.TopChi2),\n",
      "                        (CutsChain.Reconstructed_Top3L.M()-CutsChain.Reconstructed_Higgs3L.M())/(CutsChain.Reconstructed_Top3L.M()+CutsChain.Reconstructed_Higgs3L.M())]\n",
      "            if files.index(f)>=0 and files.index(f)<=NsignalFiles-1:\n",
      "                if InclusiveVersions.index(V)==0: NMassPointsE1[files.index(f)].Fill(array('f',ListOfVariables))\n",
      "                elif InclusiveVersions.index(V)==1: NMassPointsE2[files.index(f)].Fill(array('f',ListOfVariables))\n",
      "            elif files.index(f)==len(files)-3:\n",
      "                if InclusiveVersions.index(V)==0: TntupleE1.Fill(array('f',ListOfVariables))\n",
      "                elif InclusiveVersions.index(V)==1: TntupleE2.Fill(array('f',ListOfVariables))\n",
      "            elif files.index(f)>=len(files)-2:\n",
      "                if InclusiveVersions.index(V)==0: QntuplesE1[files.index(f)-len(files)+1].Fill(array('f',ListOfVariables))\n",
      "                elif InclusiveVersions.index(V)==1: QntuplesE2[files.index(f)-len(files)+1].Fill(array('f',ListOfVariables))"
     ],
     "language": "python",
     "metadata": {},
     "outputs": []
    },
    {
     "cell_type": "heading",
     "level": 2,
     "metadata": {},
     "source": [
      "Declaring DATA files for inclusive validation"
     ]
    },
    {
     "cell_type": "code",
     "collapsed": false,
     "input": [
      "datafiles = [\"Full_Data.root\"]\n",
      "\n",
      "#TreeStructure=\"M5J:DRHJ:DRWH:RelHT:M2HP:DRTp6thJ:HM:chi2:MTHAsym\"\n",
      "\n",
      "#Control Sample CSVL=[0.389,0.679)\n",
      "DataE1 = ROOT.TNtuple(\"DatantupleE1\",\"DatantupleE1\",TreeStructure)\n",
      "\n",
      "#Control Sample CSVL=[0.534,0.679)\n",
      "DataE2 = ROOT.TNtuple(\"DatantupleE2\",\"DatantupleE2\",TreeStructure)"
     ],
     "language": "python",
     "metadata": {},
     "outputs": []
    },
    {
     "cell_type": "code",
     "collapsed": false,
     "input": [
      "for V in InclusiveVersions:\n",
      "    CutsChain=ROOT.TChain(\"stp3LNC\")\n",
      "    CutsChain.Add(Base+V+datafiles[0])\n",
      "    entries = CutsChain.GetEntries()\n",
      "    print \"Entries for file \", datafiles[0], \" are: \", entries\n",
      "    Entries=entries\n",
      "    for i in xrange(Entries):\n",
      "        CutsChain.GetEntry(i)\n",
      "        HiggsV=ROOT.TLorentzVector(CutsChain.Reconstructed_Higgs3L.X(),CutsChain.Reconstructed_Higgs3L.Y(),CutsChain.Reconstructed_Higgs3L.Z(),CutsChain.Reconstructed_Higgs3L.T())\n",
      "        Higgs1stJV=ROOT.TLorentzVector(CutsChain.First_Higgs_Jet3L.X(),CutsChain.First_Higgs_Jet3L.Y(),CutsChain.First_Higgs_Jet3L.Z(),CutsChain.First_Higgs_Jet3L.T())\n",
      "        Higgs2ndJV=ROOT.TLorentzVector(CutsChain.Second_Higgs_Jet3L.X(),CutsChain.Second_Higgs_Jet3L.Y(),CutsChain.Second_Higgs_Jet3L.Z(),CutsChain.Second_Higgs_Jet3L.T())\n",
      "        J6thV=ROOT.TLorentzVector(CutsChain.Jet6th.X(),CutsChain.Jet6th.Y(),CutsChain.Jet6th.Z(),CutsChain.Jet6th.T())\n",
      "        TprimeV=ROOT.TLorentzVector(CutsChain.Reconstructed_Tprime3L.X(),CutsChain.Reconstructed_Tprime3L.Y(),CutsChain.Reconstructed_Tprime3L.Z(),CutsChain.Reconstructed_Tprime3L.T())\n",
      "        W1V=ROOT.TLorentzVector(CutsChain.Reconstructed_W3L.X(),CutsChain.Reconstructed_W3L.Y(),CutsChain.Reconstructed_W3L.Z(),CutsChain.Reconstructed_W3L.T())\n",
      "        Top2=HiggsV+J6thV\n",
      "        W2=Higgs2ndJV+J6thV\n",
      "        TopJV=ROOT.TLorentzVector(CutsChain.Top_Jet3L.X(),CutsChain.Top_Jet3L.Y(),CutsChain.Top_Jet3L.Z(),CutsChain.Top_Jet3L.T())\n",
      "        #M5J:DRHJ:DRWH:RelHT:M2HP:DRTp6thJ:HM:chi2:MTHAsym\n",
      "        ListOfVariables = [CutsChain.Reconstructed_Tprime3L.M(),\n",
      "                        Higgs1stJV.DeltaR(Higgs2ndJV),\n",
      "                        HiggsV.DeltaR(W1V),\n",
      "                        (CutsChain.Reconstructed_Higgs3L.Pt()+CutsChain.Reconstructed_Top3L.Pt())/CutsChain.THT,\n",
      "                        (Top2.M()+W2.M())/CutsChain.Reconstructed_Higgs3L.M(),\n",
      "                        TprimeV.DeltaR(J6thV),\n",
      "                        CutsChain.Reconstructed_Higgs3L.M(),\n",
      "                        (CutsChain.HiggsChi2+CutsChain.TopChi2),\n",
      "                        (CutsChain.Reconstructed_Top3L.M()-CutsChain.Reconstructed_Higgs3L.M())/(CutsChain.Reconstructed_Top3L.M()+CutsChain.Reconstructed_Higgs3L.M())]\n",
      "        if InclusiveVersions.index(V)==0: DataE1.Fill(array('f',ListOfVariables))\n",
      "        elif InclusiveVersions.index(V)==1: DataE2.Fill(array('f',ListOfVariables))"
     ],
     "language": "python",
     "metadata": {},
     "outputs": []
    },
    {
     "cell_type": "heading",
     "level": 3,
     "metadata": {},
     "source": [
      "Saving Ntuples in a numpy array"
     ]
    },
    {
     "cell_type": "code",
     "collapsed": false,
     "input": [
      "#FullMCArray=np.array([[NMassPointsA,TntupleA,QntuplesA],\n",
      "#                      [NMassPointsE,TntupleE,QntuplesE],\n",
      "#                      [NMassPointsE1,TntupleE1,QntuplesE1],\n",
      "#                      [NMassPointsE2,TntupleE2,QntuplesE2]])\n",
      "#FullMCSampleFile=\"FullMC_inclusive_bkg_estm_val_\"+VersionProc+\"_\"+InclusiveVersions[0][:-1]+\"_\"+InclusiveVersions[1][:-1]\n",
      "\n",
      "FullDataArray=np.array([DataA,DataE,DataE1,DataE2])\n",
      "DataSampleFile=\"FullData_inclusive_bkg_estm_val_\"+VersionProc+\"_\"+InclusiveVersions[0][:-1]+\"_\"+InclusiveVersions[1][:-1]\n",
      "\n",
      "#np.save(FullMCSampleFile,FullMCArray)\n",
      "np.save(DataSampleFile,FullDataArray)"
     ],
     "language": "python",
     "metadata": {},
     "outputs": []
    },
    {
     "cell_type": "heading",
     "level": 3,
     "metadata": {},
     "source": [
      "Loading Ntuples in a numpy array (OPTIONAL)"
     ]
    },
    {
     "cell_type": "code",
     "collapsed": false,
     "input": [
      "FullMCSampleFile=\"FullMC_inclusive_bkg_estm_val_\"+VersionProc+\"_\"+InclusiveVersions[0][:-1]+\"_\"+InclusiveVersions[1][:-1]\n",
      "DataSampleFile=\"FullData_inclusive_bkg_estm_val_\"+VersionProc+\"_\"+InclusiveVersions[0][:-1]+\"_\"+InclusiveVersions[1][:-1]\n",
      "SubBKGMCSampleFiles=\"SubBKGMC_inclusive_Version121_Version122_Version123.npy\"\n",
      "                                                                                                                                                                                                                                                                                                                                                                                                                                                                                                                                                                                                                                                                                                                                                                                                                                                                                                                                                                                                                                                                                                                                                                                                                                                                                                                                                                                                                                                                    \n",
      "DataArray=np.load(DataSampleFile+\".npy\")\n",
      "MCArray=np.load(FullMCSampleFile+\".npy\")\n",
      "SubBKGArray=np.load(SubBKGMCSampleFiles)\n",
      "\n",
      "DataA=DataArray[0]; DataE=DataArray[1]; DataE1=DataArray[2]; DataE2=DataArray[3] \n",
      "NMassPointsA=MCArray[0][0]; TntupleA=MCArray[0][1]; QntuplesA=MCArray[0][2]\n",
      "NMassPointsE=MCArray[1][0]; TntupleE=MCArray[1][1]; QntuplesE=MCArray[1][2]\n",
      "NMassPointsE1=MCArray[2][0]; TntupleE1=MCArray[2][1]; QntuplesE1=MCArray[2][2]\n",
      "NMassPointsE2=MCArray[3][0]; TntupleE2=MCArray[3][1]; QntuplesE2=MCArray[3][2]\n",
      "print DataA.GetEntries(), DataE.GetEntries(), DataE1.GetEntries(), DataE2.GetEntries()\n",
      "#print len(NMassPointsA), len(NMassPointsE)\n",
      "print NMassPointsA[2].GetEntries(), TntupleA.GetEntries(), QntuplesA[0].GetEntries()\n",
      "print NMassPointsE[2].GetEntries(), TntupleE.GetEntries(), QntuplesE[0].GetEntries()\n",
      "print NMassPointsE1[2].GetEntries(), TntupleE1.GetEntries(), QntuplesE1[0].GetEntries()\n",
      "print NMassPointsE2[2].GetEntries(), TntupleE2.GetEntries(), QntuplesE2[0].GetEntries()"
     ],
     "language": "python",
     "metadata": {},
     "outputs": []
    }
   ],
   "metadata": {}
  }
 ]
}