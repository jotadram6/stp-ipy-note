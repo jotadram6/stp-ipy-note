{
 "metadata": {
  "name": ""
 },
 "nbformat": 3,
 "nbformat_minor": 0,
 "worksheets": [
  {
   "cells": [
    {
     "cell_type": "code",
     "collapsed": false,
     "input": [
      "from Generic import *"
     ],
     "language": "python",
     "metadata": {},
     "outputs": [],
     "prompt_number": 1
    },
    {
     "cell_type": "heading",
     "level": 3,
     "metadata": {},
     "source": [
      "Loading Ntuples from numpy arrays"
     ]
    },
    {
     "cell_type": "code",
     "collapsed": false,
     "input": [
      "NominalV=\"V8\"\n",
      "InclusiveV1=\"V9\"\n",
      "InclusiveV2=\"V10\""
     ],
     "language": "python",
     "metadata": {},
     "outputs": [],
     "prompt_number": 2
    },
    {
     "cell_type": "heading",
     "level": 2,
     "metadata": {},
     "source": [
      "To read basic signal and control sample separately from inclusive control samples"
     ]
    },
    {
     "cell_type": "code",
     "collapsed": false,
     "input": [
      "#########################################\n",
      "#Basic Signal and Control samples Arrays#\n",
      "#########################################\n",
      "#Reading DATA minitrees for signal sample\n",
      "\n",
      "DataASampleFile=\"Arrays_V8V9V10/Version8/DataA_2ndTopMass_NCSVM_\"+NominalV\n",
      "#DataASampleFile=\"Arrays_V8V9V10/Version8/DataA_Nj_NCSVM_\"+NominalV\n",
      "DataA=np.load(DataASampleFile+\".npy\")\n",
      "######QCD ESTIM######\n",
      "#DataASampleFile=\"DataA_2ndTopMass_NCSVM_V_QCDEstim\"\n",
      "#DataA=np.load(DataASampleFile+\".npy\")\n",
      "#####################\n",
      "\n",
      "#Reading DATA minitrees for control sample\n",
      "\n",
      "#ControlSampleFileD_1=\"Arrays_V8V9V10/Version8/DataE1_\"+NominalV; CSD_1=np.load(ControlSampleFileD_1+\".npy\")\n",
      "#ControlSampleFileD_2=\"Arrays_V8V9V10/Version8/DataE2_\"+NominalV; CSD_2=np.load(ControlSampleFileD_2+\".npy\")\n",
      "#LisD=ROOT.TList()\n",
      "#LisD.Add(CSD_1[0]); LisD.Add(CSD_2[0])\n",
      "#DataE = ROOT.TTree.MergeTrees(LisD)\n",
      "#DataE.SetName(\"D\"); DataE=np.array([DataE]); del(LisD); del(CSD_1); del(CSD_2)\n",
      "\n",
      "#print DataA[0].GetEntries(), DataE[0].GetEntries()\n",
      "\n",
      "################################\n",
      "#Control Sample one combination#\n",
      "################################\n",
      "DataESampleFile=\"Arrays_V8V9V10/V2/DataE_V8_VectorControlSample\"\n",
      "#DataESampleFile=\"Arrays_V8V9V10/V8_VectorControlSample/DataE_V8_VectorControlSample\"\n",
      "DataE=np.load(DataESampleFile+\".npy\")\n",
      "\n",
      "print DataA[0].GetEntries(), DataE[0].GetEntries()\n",
      "\n",
      "#Reading MC minitrees for signal sample\n",
      "\n",
      "######QCD ESTIM######\n",
      "#SignalSampleFile=\"SignalSample_2ndTopMass_NCSVM_V_QCDEstim\"\n",
      "#####################\n",
      "SignalSampleFile=\"Arrays_V8V9V10/Version8/SignalSample_2ndTopMass_NCSVM_\"+NominalV\n",
      "#SignalSampleFile=\"Arrays_V8V9V10/Version8/SignalSample_Nj_NCSVM_\"+NominalV\n",
      "MCSignalSampleArray=np.load(SignalSampleFile+\".npy\")\n",
      "NMassPointsA=MCSignalSampleArray[0:NsignalFiles]\n",
      "TntupleA=MCSignalSampleArray[NsignalFiles]\n",
      "QntuplesA=MCSignalSampleArray[NsignalFiles+1:NsignalFiles+3]\n",
      "SubBKGArrayA=MCSignalSampleArray[NsignalFiles+3:]\n",
      "del(MCSignalSampleArray)\n",
      "\n",
      "#Reading MC minitrees for control sample\n",
      "\n",
      "#ControlSampleFileS=\"Arrays_V8V9V10/Version8/ControlSample_SignalMassPoints_\"+NominalV\n",
      "#NMassPointsE=np.load(ControlSampleFileS+\".npy\")\n",
      "#\n",
      "#ControlSampleFileQCDHT=\"Arrays_V8V9V10/Version8/ControlSample_QCDHT_\"+NominalV\n",
      "#QntuplesE=np.load(ControlSampleFileQCDHT+\".npy\")\n",
      "#            \n",
      "#ControlSampleFileSubB=\"Arrays_V8V9V10/Version8/ControlSample_SubBKGMC_\"+NominalV\n",
      "#SubBKGArrayE=np.load(ControlSampleFileSubB+\".npy\")\n",
      "#\n",
      "#ControlSampleFileTT=\"Arrays_V8V9V10/Version8/ControlSample_TTJets_DRleq1p2_\"+NominalV\n",
      "#TntupleE=np.load(ControlSampleFileTT+\".npy\"); TntupleE=TntupleE[0]\n",
      "\n",
      "#ControlSampleFileTT_1=\"Arrays_V8V9V10/Version8/ControlSample_TTJets1_\"+NominalV; CSTT_1=np.load(ControlSampleFileTT_1+\".npy\")\n",
      "#ControlSampleFileTT_2=\"Arrays_V8V9V10/Version8/ControlSample_TTJets2_\"+NominalV; CSTT_2=np.load(ControlSampleFileTT_2+\".npy\")\n",
      "#LisTT=ROOT.TList()\n",
      "#LisTT.Add(CSTT_1[0]); LisTT.Add(CSTT_2[0])\n",
      "#TntupleE = ROOT.TTree.MergeTrees(LisTT)\n",
      "#TntupleE.SetName(\"TT\")#; TntupleE=np.array([TntupleE]); del(LisTT); del(CSTT_1); del(CSTT_2)\n",
      "\n",
      "################################\n",
      "#Control Sample one combination#\n",
      "################################\n",
      "ControlSampleFileS=\"Arrays_V8V9V10/V2/ControlSample_SignalMassPoints_V8_VectorControlSample\"\n",
      "#ControlSampleFileS=\"Arrays_V8V9V10/V8_VectorControlSample/ControlSample_SignalMassPoints_V8_VectorControlSample\"\n",
      "NMassPointsE=np.load(ControlSampleFileS+\".npy\")\n",
      "\n",
      "ControlSampleFileQCDHT=\"Arrays_V8V9V10/V2/ControlSample_QCDHT_V8_VectorControlSample\"\n",
      "#ControlSampleFileQCDHT=\"Arrays_V8V9V10/V8_VectorControlSample/ControlSample_QCDHT_V8_VectorControlSample\"\n",
      "QntuplesE=np.load(ControlSampleFileQCDHT+\".npy\")\n",
      "            \n",
      "ControlSampleFileSubB=\"Arrays_V8V9V10/V2/ControlSample_SubBKGMC_V8_VectorControlSample\"\n",
      "#ControlSampleFileSubB=\"Arrays_V8V9V10/V8_VectorControlSample/ControlSample_SubBKGMC_V8_VectorControlSample\"\n",
      "SubBKGArrayE=np.load(ControlSampleFileSubB+\".npy\")\n",
      "\n",
      "ControlSampleFileTT=\"Arrays_V8V9V10/V2/ControlSample_TTJets_V8_VectorControlSample\"\n",
      "#ControlSampleFileTT=\"Arrays_V8V9V10/V8_VectorControlSample/ControlSample_TTJets_V8_VectorControlSample\"\n",
      "TntupleE=np.load(ControlSampleFileTT+\".npy\"); TntupleE=TntupleE[0]\n",
      "\n",
      "print NMassPointsA[2].GetEntries(), TntupleA.GetEntries(), QntuplesA[0].GetEntries()\n",
      "print NMassPointsE[2].GetEntries(), TntupleE.GetEntries(), QntuplesE[0].GetEntries()"
     ],
     "language": "python",
     "metadata": {},
     "outputs": [
      {
       "output_type": "stream",
       "stream": "stdout",
       "text": [
        "75567 879135\n",
        "4675"
       ]
      },
      {
       "output_type": "stream",
       "stream": "stdout",
       "text": [
        " 143984 5522\n",
        "5214 516163 64369\n"
       ]
      }
     ],
     "prompt_number": 3
    },
    {
     "cell_type": "code",
     "collapsed": false,
     "input": [
      "##################################\n",
      "#Inclusive Control samples Arrays#\n",
      "##################################\n",
      "#Reading DATA minitrees for control sample\n",
      "\n",
      "#ControlSampleFileD1_1=\"Arrays_V8V9V10/Version9/DataE1_\"+InclusiveV1; CSD1_1=np.load(ControlSampleFileD1_1+\".npy\")\n",
      "#ControlSampleFileD1_2=\"Arrays_V8V9V10/Version9/DataE2_\"+InclusiveV1; CSD1_2=np.load(ControlSampleFileD1_2+\".npy\")\n",
      "#LisD1=ROOT.TList()\n",
      "#LisD1.Add(CSD1_1[0]); LisD1.Add(CSD1_2[0])\n",
      "#DataE1 = ROOT.TTree.MergeTrees(LisD1)\n",
      "#DataE1.SetName(\"D1\"); DataE1=np.array([DataE1]); del(LisD1); del(CSD1_1); del(CSD1_2)\n",
      "#ControlSampleFileD2_1=\"Arrays_V8V9V10/Version10/DataE1_\"+InclusiveV2; CSD2_1=np.load(ControlSampleFileD2_1+\".npy\")\n",
      "#ControlSampleFileD2_2=\"Arrays_V8V9V10/Version10/DataE2_\"+InclusiveV2; CSD2_2=np.load(ControlSampleFileD2_2+\".npy\")\n",
      "#LisD2=ROOT.TList()\n",
      "#LisD2.Add(CSD2_1[0]); LisD2.Add(CSD2_2[0])\n",
      "#DataE2 = ROOT.TTree.MergeTrees(LisD2)\n",
      "#DataE2.SetName(\"D2\"); DataE2=np.array([DataE2]); del(LisD2); del(CSD2_1); del(CSD2_2)\n",
      "\n",
      "#ControlSampleFileD1=\"Arrays_V8V9V10/Version9/DataE_\"+InclusiveV1+\"_VectorControlSample\"\n",
      "ControlSampleFileD1=\"Arrays_V8V9V10/V2/DataE_\"+InclusiveV1+\"_VectorControlSample\"\n",
      "DataE1=np.load(ControlSampleFileD1+\".npy\")\n",
      "#ControlSampleFileD2=\"Arrays_V8V9V10/Version10/DataE_\"+InclusiveV2+\"_VectorControlSample\"\n",
      "ControlSampleFileD2=\"Arrays_V8V9V10/V2/DataE_\"+InclusiveV2+\"_VectorControlSample\"\n",
      "DataE2=np.load(ControlSampleFileD2+\".npy\")\n",
      "\n",
      "print DataE1[0].GetEntries(), DataE2[0].GetEntries()\n",
      "\n",
      "#Reading MC minitrees for control sample\n",
      "\n",
      "#ControlSampleFileS1=\"Arrays_V8V9V10/Version9/ControlSample_SignalMassPoints_\"+InclusiveV1+\"_VectorControlSample\"\n",
      "#ControlSampleFileS2=\"Arrays_V8V9V10/Version10/ControlSample_SignalMassPoints_\"+InclusiveV2+\"_VectorControlSample\"\n",
      "ControlSampleFileS1=\"Arrays_V8V9V10/V2/ControlSample_SignalMassPoints_\"+InclusiveV1+\"_VectorControlSample\"\n",
      "ControlSampleFileS2=\"Arrays_V8V9V10/V2/ControlSample_SignalMassPoints_\"+InclusiveV2+\"_VectorControlSample\"\n",
      "\n",
      "NMassPointsE1=np.load(ControlSampleFileS1+\".npy\")\n",
      "NMassPointsE2=np.load(ControlSampleFileS2+\".npy\")\n",
      "\n",
      "#ControlSampleFileQCDHT1=\"Arrays_V8V9V10/Version9/ControlSample_QCDHT_\"+InclusiveV1+\"_VectorControlSample\"\n",
      "#ControlSampleFileQCDHT2=\"Arrays_V8V9V10/Version10/ControlSample_QCDHT_\"+InclusiveV2+\"_VectorControlSample\"\n",
      "ControlSampleFileQCDHT1=\"Arrays_V8V9V10/V2/ControlSample_QCDHT_\"+InclusiveV1+\"_VectorControlSample\"\n",
      "ControlSampleFileQCDHT2=\"Arrays_V8V9V10/V2/ControlSample_QCDHT_\"+InclusiveV2+\"_VectorControlSample\"\n",
      "\n",
      "QntuplesE1=np.load(ControlSampleFileQCDHT1+\".npy\")\n",
      "QntuplesE2=np.load(ControlSampleFileQCDHT2+\".npy\")\n",
      "\n",
      "#ControlSampleFileSubB1=\"Arrays_V8V9V10/Version9/ControlSample_SubBKGMC_\"+InclusiveV1+\"_VectorControlSample\"\n",
      "#ControlSampleFileSubB2=\"Arrays_V8V9V10/Version10/ControlSample_SubBKGMC_\"+InclusiveV2+\"_VectorControlSample\"\n",
      "ControlSampleFileSubB1=\"Arrays_V8V9V10/V2/ControlSample_SubBKGMC_\"+InclusiveV1+\"_VectorControlSample\"\n",
      "ControlSampleFileSubB2=\"Arrays_V8V9V10/V2/ControlSample_SubBKGMC_\"+InclusiveV2+\"_VectorControlSample\"\n",
      "\n",
      "SubBKGArrayE1=np.load(ControlSampleFileSubB1+\".npy\")\n",
      "SubBKGArrayE2=np.load(ControlSampleFileSubB2+\".npy\")\n",
      "\n",
      "#ControlSampleFileTT1=\"Arrays_V8V9V10/Version9/ControlSample_TTJets_\"+InclusiveV1+\"_VectorControlSample\"\n",
      "ControlSampleFileTT1=\"Arrays_V8V9V10/V2/ControlSample_TTJets_\"+InclusiveV1+\"_VectorControlSample\"\n",
      "TntupleE1=np.load(ControlSampleFileTT1+\".npy\"); TntupleE1=TntupleE1[0]\n",
      "\n",
      "#ControlSampleFileTT2=\"Arrays_V8V9V10/Version10/ControlSample_TTJets_\"+InclusiveV2+\"_VectorControlSample\"\n",
      "ControlSampleFileTT2=\"Arrays_V8V9V10/V2/ControlSample_TTJets_\"+InclusiveV2+\"_VectorControlSample\"\n",
      "TntupleE2=np.load(ControlSampleFileTT2+\".npy\"); TntupleE2=TntupleE2[0]\n",
      "\n",
      "#ControlSampleFileTT1_1=\"Arrays_V8V9V10/Version9/ControlSample_TTJets1_\"+InclusiveV1; CSTT1_1=np.load(ControlSampleFileTT1_1+\".npy\")\n",
      "#ControlSampleFileTT1_2=\"Arrays_V8V9V10/Version9/ControlSample_TTJets2_\"+InclusiveV1; CSTT1_2=np.load(ControlSampleFileTT1_2+\".npy\")\n",
      "#LisTT1=ROOT.TList()\n",
      "#LisTT1.Add(CSTT1_1[0]); LisTT1.Add(CSTT1_2[0])\n",
      "#TntupleE1 = ROOT.TTree.MergeTrees(LisTT1)\n",
      "#TntupleE1.SetName(\"TT1\"); TntupleE1=np.array([TntupleE1]); del(LisTT1); del(CSTT1_1); del(CSTT1_2)\n",
      "#ControlSampleFileTT2_1=\"Arrays_V8V9V10/Version10/ControlSample_TTJets1_\"+InclusiveV2; CSTT2_1=np.load(ControlSampleFileTT2_1+\".npy\")\n",
      "#ControlSampleFileTT2_2=\"Arrays_V8V9V10/Version10/ControlSample_TTJets2_\"+InclusiveV2; CSTT2_2=np.load(ControlSampleFileTT2_2+\".npy\")\n",
      "#LisTT2=ROOT.TList()\n",
      "#LisTT2.Add(CSTT2_1[0]); LisTT2.Add(CSTT2_2[0])\n",
      "#TntupleE2 = ROOT.TTree.MergeTrees(LisTT2)\n",
      "#TntupleE2.SetName(\"TT2\"); TntupleE2=np.array([TntupleE2]); del(LisTT2); del(CSTT2_1); del(CSTT2_2)\n",
      "\n",
      "print NMassPointsE1[2].GetEntries(), TntupleE1.GetEntries(), QntuplesE1[0].GetEntries()\n",
      "print NMassPointsE2[2].GetEntries(), TntupleE2.GetEntries(), QntuplesE2[0].GetEntries()"
     ],
     "language": "python",
     "metadata": {},
     "outputs": [
      {
       "output_type": "stream",
       "stream": "stdout",
       "text": [
        "216760 60310\n",
        "2691"
       ]
      },
      {
       "output_type": "stream",
       "stream": "stdout",
       "text": [
        " 212717 14905\n",
        "1176 76661 4155\n"
       ]
      }
     ],
     "prompt_number": 4
    },
    {
     "cell_type": "heading",
     "level": 2,
     "metadata": {},
     "source": [
      "To Read DATA and MC separately"
     ]
    },
    {
     "cell_type": "code",
     "collapsed": false,
     "input": [
      "###########\n",
      "#DATA ONLY#\n",
      "###########\n",
      "#Reading DATA minitrees for signal sample\n",
      "\n",
      "DataASampleFile=\"Arrays_V8V9V10/Version8/DataA_\"+NominalV\n",
      "DataA=np.load(DataASampleFile+\".npy\")\n",
      "\n",
      "#Reading DATA minitrees for control sample\n",
      "\n",
      "ControlSampleFileD_1=\"Arrays_V8V9V10/Version8/DataE1_\"+NominalV; CSD_1=np.load(ControlSampleFileD_1+\".npy\")\n",
      "ControlSampleFileD_2=\"Arrays_V8V9V10/Version8/DataE2_\"+NominalV; CSD_2=np.load(ControlSampleFileD_2+\".npy\")\n",
      "LisD=ROOT.TList()\n",
      "LisD.Add(CSD_1[0]); LisD.Add(CSD_2[0])\n",
      "DataE = ROOT.TTree.MergeTrees(LisD)\n",
      "DataE.SetName(\"D\"); DataE=np.array([DataE]); del(LisD); del(CSD_1); del(CSD_2)\n",
      "ControlSampleFileD1_1=\"Arrays_V8V9V10/Version9/DataE1_\"+InclusiveV1; CSD1_1=np.load(ControlSampleFileD1_1+\".npy\")\n",
      "ControlSampleFileD1_2=\"Arrays_V8V9V10/Version9/DataE2_\"+InclusiveV1; CSD1_2=np.load(ControlSampleFileD1_2+\".npy\")\n",
      "LisD1=ROOT.TList()\n",
      "LisD1.Add(CSD1_1[0]); LisD1.Add(CSD1_2[0])\n",
      "DataE1 = ROOT.TTree.MergeTrees(LisD1)\n",
      "DataE1.SetName(\"D1\"); DataE1=np.array([DataE1]); del(LisD1); del(CSD1_1); del(CSD1_2)\n",
      "ControlSampleFileD2_1=\"Arrays_V8V9V10/Version10/DataE1_\"+InclusiveV2; CSD2_1=np.load(ControlSampleFileD2_1+\".npy\")\n",
      "ControlSampleFileD2_2=\"Arrays_V8V9V10/Version10/DataE2_\"+InclusiveV2; CSD2_2=np.load(ControlSampleFileD2_2+\".npy\")\n",
      "LisD2=ROOT.TList()\n",
      "LisD2.Add(CSD2_1[0]); LisD2.Add(CSD2_2[0])\n",
      "DataE2 = ROOT.TTree.MergeTrees(LisD2)\n",
      "DataE2.SetName(\"D2\"); DataE2=np.array([DataE2]); del(LisD2); del(CSD2_1); del(CSD2_2)\n",
      "\n",
      "print DataA[0].GetEntries(), DataE[0].GetEntries(), DataE1[0].GetEntries(), DataE2[0].GetEntries()"
     ],
     "language": "python",
     "metadata": {},
     "outputs": [
      {
       "output_type": "stream",
       "stream": "stdout",
       "text": [
        "75567 52060686 9423576 2197455\n"
       ]
      }
     ],
     "prompt_number": 3
    },
    {
     "cell_type": "code",
     "collapsed": false,
     "input": [
      "#########\n",
      "#MC ONLY#\n",
      "#########\n",
      "#Reading MC minitrees for signal sample\n",
      "\n",
      "SignalSampleFile=\"Arrays_V8V9V10/Version8/SignalSample_\"+NominalV\n",
      "MCSignalSampleArray=np.load(SignalSampleFile+\".npy\")\n",
      "NMassPointsA=MCSignalSampleArray[0:NsignalFiles]\n",
      "TntupleA=MCSignalSampleArray[NsignalFiles]\n",
      "QntuplesA=MCSignalSampleArray[NsignalFiles+1:NsignalFiles+3]\n",
      "SubBKGArrayA=MCSignalSampleArray[NsignalFiles+3:]\n",
      "del(MCSignalSampleArray)\n",
      "\n",
      "#Reading MC minitrees for control sample\n",
      "\n",
      "ControlSampleFileS=\"Arrays_V8V9V10/Version8/ControlSample_SignalMassPoints_\"+NominalV\n",
      "ControlSampleFileS1=\"Arrays_V8V9V10/Version9/ControlSample_SignalMassPoints_\"+InclusiveV1\n",
      "ControlSampleFileS2=\"Arrays_V8V9V10/Version10/ControlSample_SignalMassPoints_\"+InclusiveV2\n",
      "\n",
      "NMassPointsE=np.load(ControlSampleFileS+\".npy\")\n",
      "NMassPointsE1=np.load(ControlSampleFileS1+\".npy\")\n",
      "NMassPointsE2=np.load(ControlSampleFileS2+\".npy\")\n",
      "\n",
      "ControlSampleFileQCDHT=\"Arrays_V8V9V10/Version8/ControlSample_QCDHT_\"+NominalV\n",
      "ControlSampleFileQCDHT1=\"Arrays_V8V9V10/Version9/ControlSample_QCDHT_\"+InclusiveV1\n",
      "ControlSampleFileQCDHT2=\"Arrays_V8V9V10/Version10/ControlSample_QCDHT_\"+InclusiveV2\n",
      "\n",
      "QntuplesE=np.load(ControlSampleFileQCDHT+\".npy\")\n",
      "QntuplesE1=np.load(ControlSampleFileQCDHT1+\".npy\")\n",
      "QntuplesE2=np.load(ControlSampleFileQCDHT2+\".npy\")\n",
      "\n",
      "ControlSampleFileSubB=\"Arrays_V8V9V10/Version8/ControlSample_SubBKGMC_\"+NominalV\n",
      "ControlSampleFileSubB1=\"Arrays_V8V9V10/Version9/ControlSample_SubBKGMC_\"+InclusiveV1\n",
      "ControlSampleFileSubB2=\"Arrays_V8V9V10/Version10/ControlSample_SubBKGMC_\"+InclusiveV2\n",
      "\n",
      "SubBKGArrayE=np.load(ControlSampleFileSubB+\".npy\")\n",
      "SubBKGArrayE1=np.load(ControlSampleFileSubB1+\".npy\")\n",
      "SubBKGArrayE2=np.load(ControlSampleFileSubB2+\".npy\")\n",
      "\n",
      "ControlSampleFileTT_1=\"Arrays_V8V9V10/Version8/ControlSample_TTJets1_\"+NominalV; CSTT_1=np.load(ControlSampleFileTT_1+\".npy\")\n",
      "ControlSampleFileTT_2=\"Arrays_V8V9V10/Version8/ControlSample_TTJets2_\"+NominalV; CSTT_2=np.load(ControlSampleFileTT_2+\".npy\")\n",
      "LisTT=ROOT.TList()\n",
      "LisTT.Add(CSTT_1[0]); LisTT.Add(CSTT_2[0])\n",
      "TntupleE = ROOT.TTree.MergeTrees(LisTT)\n",
      "TntupleE.SetName(\"TT\"); TntupleE=np.array([TntupleE]); del(LisTT); del(CSTT_1); del(CSTT_2)\n",
      "ControlSampleFileTT1_1=\"Arrays_V8V9V10/Version9/ControlSample_TTJets1_\"+InclusiveV1; CSTT1_1=np.load(ControlSampleFileTT1_1+\".npy\")\n",
      "ControlSampleFileTT1_2=\"Arrays_V8V9V10/Version9/ControlSample_TTJets2_\"+InclusiveV1; CSTT1_2=np.load(ControlSampleFileTT1_2+\".npy\")\n",
      "LisTT1=ROOT.TList()\n",
      "LisTT1.Add(CSTT1_1[0]); LisTT1.Add(CSTT1_2[0])\n",
      "TntupleE1 = ROOT.TTree.MergeTrees(LisTT1)\n",
      "TntupleE1.SetName(\"TT1\"); TntupleE1=np.array([TntupleE1]); del(LisTT1); del(CSTT1_1); del(CSTT1_2)\n",
      "ControlSampleFileTT2_1=\"Arrays_V8V9V10/Version10/ControlSample_TTJets1_\"+InclusiveV2; CSTT2_1=np.load(ControlSampleFileTT2_1+\".npy\")\n",
      "ControlSampleFileTT2_2=\"Arrays_V8V9V10/Version10/ControlSample_TTJets2_\"+InclusiveV2; CSTT2_2=np.load(ControlSampleFileTT2_2+\".npy\")\n",
      "LisTT2=ROOT.TList()\n",
      "LisTT2.Add(CSTT2_1[0]); LisTT2.Add(CSTT2_2[0])\n",
      "TntupleE2 = ROOT.TTree.MergeTrees(LisTT2)\n",
      "TntupleE2.SetName(\"TT2\"); TntupleE2=np.array([TntupleE2]); del(LisTT2); del(CSTT2_1); del(CSTT2_2)\n",
      "\n",
      "print NMassPointsA[2].GetEntries(), TntupleA.GetEntries(), QntuplesA[0].GetEntries()\n",
      "print NMassPointsE[2].GetEntries(), TntupleE.GetEntries(), QntuplesE[0].GetEntries()\n",
      "print NMassPointsE1[2].GetEntries(), TntupleE1.GetEntries(), QntuplesE1[0].GetEntries()\n",
      "print NMassPointsE2[2].GetEntries(), TntupleE2.GetEntries(), QntuplesE2[0].GetEntries()\n"
     ],
     "language": "python",
     "metadata": {},
     "outputs": [],
     "prompt_number": "*"
    },
    {
     "cell_type": "heading",
     "level": 6,
     "metadata": {},
     "source": [
      "##########\n",
      "#Old Code#\n",
      "##########\n",
      "SignalSampleFile=\"SignalSample\"+VersionProc\n",
      "#ControlSampleFile=\"ControlSample\"+VersionProc \n",
      "MCSignalSampleArray=np.load(SignalSampleFile+\".npy\")\n",
      "#MCControlSampleArray=np.load(ControlSampleFile+\".npy\")\n",
      "\n",
      "ControlSampleFile=\"ControlSample_E_\"+InclusiveVersions[0][:-1]\n",
      "MCControlSampleArray=np.load(ControlSampleFile+\".npy\")\n",
      "ControlSampleFileE1=\"ControlSample_E1_\"+InclusiveVersions[1][:-1]\n",
      "MCControlSampleArrayE1=np.load(ControlSampleFileE1+\".npy\")\n",
      "ControlSampleFileE2=\"ControlSample_E2_\"+InclusiveVersions[2][:-1]\n",
      "MCControlSampleArrayE2=np.load(ControlSampleFileE2+\".npy\")\n",
      "\n",
      "DataASampleFile=\"DataA\"+VersionProc\n",
      "DataAArray=np.load(DataASampleFile+\".npy\")\n",
      "\n",
      "DataE_1SampleFile=\"DataE_1\"+InclusiveVersions[0][:-1]\n",
      "DataE_1Array=np.load(DataE_1SampleFile+\".npy\")\n",
      "DataE_2SampleFile=\"DataE_2\"+InclusiveVersions[0][:-1]\n",
      "DataE_2Array=np.load(DataE_2SampleFile+\".npy\")\n",
      "DataE1SampleFile=\"DataE1\"+InclusiveVersions[1][:-1]\n",
      "DataE1Array=np.load(DataE1SampleFile+\".npy\")\n",
      "DataE2SampleFile=\"DataE2\"+InclusiveVersions[2][:-1]\n",
      "DataE2Array=np.load(DataE2SampleFile+\".npy\")\n",
      "\n",
      "DataA=DataAArray[0]\n",
      "DataE_1=DataE_1Array[0]\n",
      "DataE_2=DataE_2Array[0]\n",
      "LisT=ROOT.TList()\n",
      "LisT.Add(DataE_1)\n",
      "LisT.Add(DataE_2)\n",
      "DataE = ROOT.TTree.MergeTrees(LisT);\n",
      "DataE.SetName(\"FullE\");\n",
      "DataE1=DataE1Array[0]\n",
      "DataE2=DataE2Array[0]\n",
      "\n",
      "NMassPointsA=MCSignalSampleArray[0:NsignalFiles]; TntupleA=MCSignalSampleArray[NsignalFiles]; QntuplesA=MCSignalSampleArray[NsignalFiles+1:]\n",
      "NMassPointsE=MCControlSampleArray[0:NsignalFiles]; TntupleE=MCControlSampleArray[NsignalFiles]; QntuplesE=MCControlSampleArray[NsignalFiles+1:]\n",
      "NMassPointsE1=MCControlSampleArrayE1[0:NsignalFiles]; TntupleE1=MCControlSampleArrayE1[NsignalFiles]; QntuplesE1=MCControlSampleArrayE1[NsignalFiles+1:]\n",
      "NMassPointsE2=MCControlSampleArrayE2[0:NsignalFiles]; TntupleE2=MCControlSampleArrayE2[NsignalFiles]; QntuplesE2=MCControlSampleArrayE2[NsignalFiles+1:]\n",
      "print DataA.GetEntries(), DataE_1.GetEntries(), DataE_2.GetEntries(), DataE1.GetEntries(), DataE2.GetEntries(), DataE.GetEntries()\n",
      "del(DataE_1); del(DataE_2); del(DataE_1Array); del(DataE_2Array)\n",
      "#print len(NMassPointsA), len(NMassPointsE)\n",
      "print NMassPointsA[2].GetEntries(), TntupleA.GetEntries(), QntuplesA[0].GetEntries()\n",
      "print NMassPointsE[2].GetEntries(), TntupleE.GetEntries(), QntuplesE[0].GetEntries()\n",
      "print NMassPointsE1[2].GetEntries(), TntupleE1.GetEntries(), QntuplesE1[0].GetEntries()\n",
      "print NMassPointsE2[2].GetEntries(), TntupleE2.GetEntries(), QntuplesE2[0].GetEntries()"
     ]
    },
    {
     "cell_type": "heading",
     "level": 3,
     "metadata": {},
     "source": [
      "Chi2 optimization on data"
     ]
    },
    {
     "cell_type": "code",
     "collapsed": false,
     "input": [
      "CutsFromCLs=[ROOT.TCut(\"\"),CutDRbb,CutDRWH,CutHM,CutM2HP,CutDRTp6thJ,CutRelHT,CutMTHAsym]\n",
      "\n",
      "#Chi2Cut=[\"chi2<\",np.linspace(2,800,80)]\n",
      "Chi2Cut=[\"chi2<\",np.insert(np.logspace(np.log10(10),np.log10(800),30),0,np.array([2,4,6,8]))]\n",
      "#np.insert(Chi2Cut,0,np.array([2,4,6,8]))\n",
      "Chi2ResultsPerCut=[]\n",
      "PvalueResultsPerCut=[]\n",
      "\n",
      "OptVersion=\"_bkg_estimation_OneComb_Revision_\"+NominalV\n",
      "\n",
      "CumulCut=ROOT.TCut(\"\")*CutHT\n",
      "\n",
      "SignalEntriesE=[]; TTbarEntriesE=[]; QCDEntriesE=[]\n",
      "\n",
      "PDFName=\"Nminus1\"+OptVersion+\"_LogScan2To800Step80.pdf\"\n",
      "CurCanv = rootnotes.canvas(\"MyPlot\", (600, 800))\n",
      "Titles=[\"Base\", \"DRbb\", \"DRWH\", \"HiggsMass\", \"M2HP\", \"DRTp6thJ\", \"RelHT\", \"MTHAsym\"]\n",
      "\n",
      "BinsLimits=\"(30,550,1100)\"\n",
      "\n",
      "for i in xrange(len(CutsFromCLs)):\n",
      "    CumulCut=CumulCut*CutsFromCLs[i]\n",
      "    Chi2Test=[]\n",
      "    PvalueTest=[]\n",
      "    for j in Chi2Cut[1]:\n",
      "        StepChi2Cut=ROOT.TCut(Chi2Cut[0]+str(j))\n",
      "        EstimOptCut=CumulCut*StepChi2Cut\n",
      "        \n",
      "        DataA[0].Draw(\"M5J >> M5JA_Cut\"+str(i)+\"_\"+str(j)+BinsLimits,EstimOptCut)\n",
      "        M5JDA=ROOT.gDirectory.Get(\"M5JA_Cut\"+str(i)+\"_\"+str(j))\n",
      "        \n",
      "        DataE[0].Draw(\"M5J >> M5JE_Cut\"+str(i)+\"_\"+str(j)+BinsLimits,EstimOptCut)\n",
      "        M5JDE=ROOT.gDirectory.Get(\"M5JE_Cut\"+str(i)+\"_\"+str(j))\n",
      "        \n",
      "        print \"Cut:\", Titles[i]+\"_\"+Chi2Cut[0]+str(j)\n",
      "        print \"Entries in Signal Sample=\", M5JDA.GetEntries()\n",
      "        print \"Entries in Control Sample=\", M5JDE.GetEntries()\n",
      "        print \"--------------------------------\"\n",
      "        \n",
      "        res=ROOT.Double(0.0)\n",
      "        Chi2Test.append(M5JDE.Chi2Test(M5JDA,\"UU CHI2/NDF\"))\n",
      "        PvalueTest.append(M5JDE.Chi2Test(M5JDA,\"UU P\"))\n",
      "        \n",
      "        M5JDE.SetStats(ROOT.kFALSE)\n",
      "        M5JDE.SetLineStyle(7); M5JDA.SetLineStyle(1)\n",
      "        M5JDE.SetLineWidth(2); M5JDA.SetLineWidth(1)\n",
      "        M5JDE.SetLineColor(ROOT.kBlue); M5JDA.SetLineColor(ROOT.kBlack)\n",
      "        M5JDE.Sumw2(); M5JDE.Scale(M5JDA.Integral()/M5JDE.Integral())\n",
      "        M5JDE.SetMaximum(max(M5JDA.GetMaximum(),M5JDE.GetMaximum())*1.05)\n",
      "        M5JDE.SetMinimum(min(M5JDA.GetMinimum(),M5JDE.GetMinimum())*0.95)\n",
      "        LEG=ROOT.TLegend(0.65,0.65,0.9,0.9); LEG.SetTextSize(0.015)\n",
      "        LEG.AddEntry(M5JDA, \"Signal Sample\", \"l\"); LEG.AddEntry(M5JDE, \"Control Sample\", \"l\")\n",
      "        LEG.SetFillColor(0)\n",
      "        MinX=float(BinsLimits.split(\",\")[1])\n",
      "        MaxX=float(BinsLimits.split(\",\")[-1][0:-1])\n",
      "        Nbins=int(BinsLimits.split(\",\")[0][1:])\n",
      "        M5JDE.SetTitle(\";M(5j) GeV/c^{2}\"+\";Events/{0:.1f} \".format((MaxX-MinX)/Nbins)+\"GeV/c^{2}\")\n",
      "        M5JDA.SetTitle(\";M(5j) GeV/c^{2}\"+\";Events/{0:.1f} \".format((MaxX-MinX)/Nbins)+\"GeV/c^{2}\")\n",
      "        M5JDE.GetYaxis().SetTitleOffset(1.65)\n",
      "        M5JDA.GetYaxis().SetTitleOffset(1.65)\n",
      "        M5JDE.Draw(\"E hist\"); M5JDA.Draw(\"E hist same\"); LEG.Draw()\n",
      "\n",
      "        if i==0 and j==Chi2Cut[1][0]: CurCanv.Print(PDFName+\"(\",\"Title:\"+Titles[i]+\"_\"+Chi2Cut[0]+str(j))\n",
      "        #elif i==0 and j!=Chi2Cut[1][0]: CurCanv.Print(PDFName,\"Title:\"+Titles[i]+\"_\"+Chi2Cut[0]+str(j))\n",
      "        #elif i!=0 and j!=Chi2Cut[1][-1]: CurCanv.Print(PDFName,\"Title:\"+Titles[i]+\"_\"+Chi2Cut[0]+str(j))\n",
      "        elif i==(len(CutsFromCLs)-1) and j==Chi2Cut[1][-1]: CurCanv.Print(PDFName+\")\",\"Title:\"+Titles[i]+\"_\"+Chi2Cut[0]+str(j))\n",
      "        else: CurCanv.Print(PDFName,\"Title:\"+Titles[i]+\"_\"+Chi2Cut[0]+str(j))\n",
      "        #if j!=Chi2Cut[1][-1]: CurCanv.Print(PDFName,\"Title:\"+Titles[i]+Chi2Cut[0]+str(j))\n",
      "        #elif (i<=len(CutsFromCLs)-2 and i>0) or (j!=Chi2Cut[1][0] and j!=Chi2Cut[1][-1]): CurCanv.Print(PDFName,\"Title:\"+Titles[i]+Chi2Cut[0]+str(j))\n",
      "        #else: CurCanv.Print(PDFName+\")\",\"Title:\"+Titles[i]+Chi2Cut[0]+str(j))\n",
      "    Chi2ResultsPerCut.append(Chi2Test)\n",
      "    PvalueResultsPerCut.append(PvalueTest)\n",
      "np.save(PDFName.split('.')[0]+\".npy\",np.array(Chi2ResultsPerCut))"
     ],
     "language": "python",
     "metadata": {},
     "outputs": [
      {
       "output_type": "stream",
       "stream": "stdout",
       "text": [
        "Cut: Base_chi2<2.0\n",
        "Entries in Signal Sample= 2497.0\n",
        "Entries in Control Sample= 57116.0\n",
        "--------------------------------\n",
        "Cut:"
       ]
      },
      {
       "output_type": "stream",
       "stream": "stdout",
       "text": [
        " Base_chi2<4.0\n",
        "Entries in Signal Sample= 5422.0\n",
        "Entries in Control Sample= 116796.0\n",
        "--------------------------------\n",
        "Cut:"
       ]
      },
      {
       "output_type": "stream",
       "stream": "stdout",
       "text": [
        " Base_chi2<6.0\n",
        "Entries in Signal Sample= 8086.0\n",
        "Entries in Control Sample= 168630.0\n",
        "--------------------------------\n",
        "Cut:"
       ]
      },
      {
       "output_type": "stream",
       "stream": "stdout",
       "text": [
        " Base_chi2<8.0\n",
        "Entries in Signal Sample= 10581.0\n",
        "Entries in Control Sample= 212701.0\n",
        "--------------------------------\n",
        "Cut:"
       ]
      },
      {
       "output_type": "stream",
       "stream": "stdout",
       "text": [
        " Base_chi2<10.0\n",
        "Entries in Signal Sample= 12775.0\n",
        "Entries in Control Sample= 251194.0\n",
        "--------------------------------\n",
        "Cut:"
       ]
      },
      {
       "output_type": "stream",
       "stream": "stdout",
       "text": [
        " Base_chi2<11.6311804255\n",
        "Entries in Signal Sample= 14475.0\n",
        "Entries in Control Sample= 278771.0\n",
        "--------------------------------\n",
        "Cut:"
       ]
      },
      {
       "output_type": "stream",
       "stream": "stdout",
       "text": [
        " Base_chi2<13.5284358092\n",
        "Entries in Signal Sample= 16212.0\n",
        "Entries in Control Sample= 307469.0\n",
        "--------------------------------\n",
        "Cut:"
       ]
      },
      {
       "output_type": "stream",
       "stream": "stdout",
       "text": [
        " Base_chi2<15.7351677772\n",
        "Entries in Signal Sample= 18165.0\n",
        "Entries in Control Sample= 337143.0\n",
        "--------------------------------\n",
        "Cut:"
       ]
      },
      {
       "output_type": "stream",
       "stream": "stdout",
       "text": [
        " Base_chi2<18.3018575442\n",
        "Entries in Signal Sample= 20212.0\n",
        "Entries in Control Sample= 367109.0\n",
        "--------------------------------\n",
        "Cut:"
       ]
      },
      {
       "output_type": "stream",
       "stream": "stdout",
       "text": [
        " Base_chi2<21.287220722\n",
        "Entries in Signal Sample= 22295.0\n",
        "Entries in Control Sample= 397265.0\n",
        "--------------------------------\n",
        "Cut:"
       ]
      },
      {
       "output_type": "stream",
       "stream": "stdout",
       "text": [
        " Base_chi2<24.7595504975\n",
        "Entries in Signal Sample= 24478.0\n",
        "Entries in Control Sample= 427791.0\n",
        "--------------------------------\n",
        "Cut:"
       ]
      },
      {
       "output_type": "stream",
       "stream": "stdout",
       "text": [
        " Base_chi2<28.7982799092\n",
        "Entries in Signal Sample= 26754.0\n",
        "Entries in Control Sample= 457806.0\n",
        "--------------------------------\n",
        "Cut:"
       ]
      },
      {
       "output_type": "stream",
       "stream": "stdout",
       "text": [
        " Base_chi2<33.495798957\n",
        "Entries in Signal Sample= 29087.0\n",
        "Entries in Control Sample= 487173.0\n",
        "--------------------------------\n",
        "Cut:"
       ]
      },
      {
       "output_type": "stream",
       "stream": "stdout",
       "text": [
        " Base_chi2<38.9595681166\n",
        "Entries in Signal Sample= 31452.0\n",
        "Entries in Control Sample= 515586.0\n",
        "--------------------------------\n",
        "Cut:"
       ]
      },
      {
       "output_type": "stream",
       "stream": "stdout",
       "text": [
        " Base_chi2<45.3145766065\n",
        "Entries in Signal Sample= 33813.0\n",
        "Entries in Control Sample= 542731.0\n",
        "--------------------------------\n",
        "Cut:"
       ]
      },
      {
       "output_type": "stream",
       "stream": "stdout",
       "text": [
        " Base_chi2<52.7062016418\n",
        "Entries in Signal Sample= 36160.0\n",
        "Entries in Control Sample= 568820.0\n",
        "--------------------------------\n",
        "Cut:"
       ]
      },
      {
       "output_type": "stream",
       "stream": "stdout",
       "text": [
        " Base_chi2<61.3035340841\n",
        "Entries in Signal Sample= 38429.0\n",
        "Entries in Control Sample= 593371.0\n",
        "--------------------------------\n",
        "Cut:"
       ]
      },
      {
       "output_type": "stream",
       "stream": "stdout",
       "text": [
        " Base_chi2<71.3032465655\n",
        "Entries in Signal Sample= 40748.0\n",
        "Entries in Control Sample= 616977.0\n",
        "--------------------------------\n",
        "Cut:"
       ]
      },
      {
       "output_type": "stream",
       "stream": "stdout",
       "text": [
        " Base_chi2<82.934092573\n",
        "Entries in Signal Sample= 43133.0\n",
        "Entries in Control Sample= 639411.0\n",
        "--------------------------------\n",
        "Cut:"
       ]
      },
      {
       "output_type": "stream",
       "stream": "stdout",
       "text": [
        " Base_chi2<96.4621394146\n",
        "Entries in Signal Sample= 45507.0\n",
        "Entries in Control Sample= 661147.0\n",
        "--------------------------------\n",
        "Cut:"
       ]
      },
      {
       "output_type": "stream",
       "stream": "stdout",
       "text": [
        " Base_chi2<112.196854776\n",
        "Entries in Signal Sample= 47806.0\n",
        "Entries in Control Sample= 682505.0\n",
        "--------------------------------\n",
        "Cut:"
       ]
      },
      {
       "output_type": "stream",
       "stream": "stdout",
       "text": [
        " Base_chi2<130.498186108\n",
        "Entries in Signal Sample= 50203.0\n",
        "Entries in Control Sample= 702717.0\n",
        "--------------------------------\n",
        "Cut:"
       ]
      },
      {
       "output_type": "stream",
       "stream": "stdout",
       "text": [
        " Base_chi2<151.784794783\n",
        "Entries in Signal Sample= 52592.0\n",
        "Entries in Control Sample= 722479.0\n",
        "--------------------------------\n",
        "Cut:"
       ]
      },
      {
       "output_type": "stream",
       "stream": "stdout",
       "text": [
        " Base_chi2<176.543633398\n",
        "Entries in Signal Sample= 54970.0\n",
        "Entries in Control Sample= 741239.0\n",
        "--------------------------------\n",
        "Cut:"
       ]
      },
      {
       "output_type": "stream",
       "stream": "stdout",
       "text": [
        " Base_chi2<205.341085303\n",
        "Entries in Signal Sample= 57248.0\n",
        "Entries in Control Sample= 758778.0\n",
        "--------------------------------\n",
        "Cut:"
       ]
      },
      {
       "output_type": "stream",
       "stream": "stdout",
       "text": [
        " Base_chi2<238.835921194\n",
        "Entries in Signal Sample= 59407.0\n",
        "Entries in Control Sample= 775328.0\n",
        "--------------------------------\n",
        "Cut:"
       ]
      },
      {
       "output_type": "stream",
       "stream": "stdout",
       "text": [
        " Base_chi2<277.79436915\n",
        "Entries in Signal Sample= 61480.0\n",
        "Entries in Control Sample= 790654.0\n",
        "--------------------------------\n",
        "Cut:"
       ]
      },
      {
       "output_type": "stream",
       "stream": "stdout",
       "text": [
        " Base_chi2<323.107642879\n",
        "Entries in Signal Sample= 63328.0\n",
        "Entries in Control Sample= 804628.0\n",
        "--------------------------------\n",
        "Cut:"
       ]
      },
      {
       "output_type": "stream",
       "stream": "stdout",
       "text": [
        " Base_chi2<375.812329119\n",
        "Entries in Signal Sample= 65028.0\n",
        "Entries in Control Sample= 817265.0\n",
        "--------------------------------\n",
        "Cut:"
       ]
      },
      {
       "output_type": "stream",
       "stream": "stdout",
       "text": [
        " Base_chi2<437.114100613\n",
        "Entries in Signal Sample= 66559.0\n",
        "Entries in Control Sample= 828455.0\n",
        "--------------------------------\n",
        "Cut:"
       ]
      },
      {
       "output_type": "stream",
       "stream": "stdout",
       "text": [
        " Base_chi2<508.415297078\n",
        "Entries in Signal Sample= 67865.0\n",
        "Entries in Control Sample= 838281.0\n",
        "--------------------------------\n",
        "Cut:"
       ]
      },
      {
       "output_type": "stream",
       "stream": "stdout",
       "text": [
        " Base_chi2<591.347005142\n",
        "Entries in Signal Sample= 69098.0\n",
        "Entries in Control Sample= 846691.0\n",
        "--------------------------------\n",
        "Cut:"
       ]
      },
      {
       "output_type": "stream",
       "stream": "stdout",
       "text": [
        " Base_chi2<687.806371091\n",
        "Entries in Signal Sample= 70145.0\n",
        "Entries in Control Sample= 853764.0\n",
        "--------------------------------\n",
        "Cut:"
       ]
      },
      {
       "output_type": "stream",
       "stream": "stdout",
       "text": [
        " Base_chi2<800.0\n",
        "Entries in Signal Sample= 71040.0\n",
        "Entries in Control Sample= 859742.0\n",
        "--------------------------------\n",
        "Cut:"
       ]
      },
      {
       "output_type": "stream",
       "stream": "stdout",
       "text": [
        " DRbb_chi2<2.0\n",
        "Entries in Signal Sample= 860.0\n",
        "Entries in Control Sample= 11385.0\n",
        "--------------------------------\n",
        "Cut:"
       ]
      },
      {
       "output_type": "stream",
       "stream": "stdout",
       "text": [
        " DRbb_chi2<4.0\n",
        "Entries in Signal Sample= 1910.0\n",
        "Entries in Control Sample= 24682.0\n",
        "--------------------------------\n",
        "Cut:"
       ]
      },
      {
       "output_type": "stream",
       "stream": "stdout",
       "text": [
        " DRbb_chi2<6.0\n",
        "Entries in Signal Sample= 2911.0\n",
        "Entries in Control Sample= 37285.0\n",
        "--------------------------------\n",
        "Cut:"
       ]
      },
      {
       "output_type": "stream",
       "stream": "stdout",
       "text": [
        " DRbb_chi2<8.0\n",
        "Entries in Signal Sample= 3874.0\n",
        "Entries in Control Sample= 48513.0\n",
        "--------------------------------\n",
        "Cut:"
       ]
      },
      {
       "output_type": "stream",
       "stream": "stdout",
       "text": [
        " DRbb_chi2<10.0\n",
        "Entries in Signal Sample= 4752.0\n",
        "Entries in Control Sample= 59081.0\n",
        "--------------------------------\n",
        "Cut:"
       ]
      },
      {
       "output_type": "stream",
       "stream": "stdout",
       "text": [
        " DRbb_chi2<11.6311804255\n",
        "Entries in Signal Sample= 5459.0\n",
        "Entries in Control Sample= 67015.0\n",
        "--------------------------------\n",
        "Cut:"
       ]
      },
      {
       "output_type": "stream",
       "stream": "stdout",
       "text": [
        " DRbb_chi2<13.5284358092\n",
        "Entries in Signal Sample= 6184.0\n",
        "Entries in Control Sample= 75502.0\n",
        "--------------------------------\n",
        "Cut:"
       ]
      },
      {
       "output_type": "stream",
       "stream": "stdout",
       "text": [
        " DRbb_chi2<15.7351677772\n",
        "Entries in Signal Sample= 7011.0\n",
        "Entries in Control Sample= 84512.0\n",
        "--------------------------------\n",
        "Cut:"
       ]
      },
      {
       "output_type": "stream",
       "stream": "stdout",
       "text": [
        " DRbb_chi2<18.3018575442\n",
        "Entries in Signal Sample= 7923.0\n",
        "Entries in Control Sample= 94053.0\n",
        "--------------------------------\n",
        "Cut:"
       ]
      },
      {
       "output_type": "stream",
       "stream": "stdout",
       "text": [
        " DRbb_chi2<21.287220722\n",
        "Entries in Signal Sample= 8851.0\n",
        "Entries in Control Sample= 103846.0\n",
        "--------------------------------\n",
        "Cut:"
       ]
      },
      {
       "output_type": "stream",
       "stream": "stdout",
       "text": [
        " DRbb_chi2<24.7595504975\n",
        "Entries in Signal Sample= 9791.0\n",
        "Entries in Control Sample= 114141.0\n",
        "--------------------------------\n",
        "Cut:"
       ]
      },
      {
       "output_type": "stream",
       "stream": "stdout",
       "text": [
        " DRbb_chi2<28.7982799092\n",
        "Entries in Signal Sample= 10818.0\n",
        "Entries in Control Sample= 124401.0\n",
        "--------------------------------\n",
        "Cut:"
       ]
      },
      {
       "output_type": "stream",
       "stream": "stdout",
       "text": [
        " DRbb_chi2<33.495798957\n",
        "Entries in Signal Sample= 11783.0\n",
        "Entries in Control Sample= 134388.0\n",
        "--------------------------------\n",
        "Cut:"
       ]
      },
      {
       "output_type": "stream",
       "stream": "stdout",
       "text": [
        " DRbb_chi2<38.9595681166\n",
        "Entries in Signal Sample= 12790.0\n",
        "Entries in Control Sample= 144285.0\n",
        "--------------------------------\n",
        "Cut:"
       ]
      },
      {
       "output_type": "stream",
       "stream": "stdout",
       "text": [
        " DRbb_chi2<45.3145766065\n",
        "Entries in Signal Sample= 13772.0\n",
        "Entries in Control Sample= 153434.0\n",
        "--------------------------------\n",
        "Cut:"
       ]
      },
      {
       "output_type": "stream",
       "stream": "stdout",
       "text": [
        " DRbb_chi2<52.7062016418\n",
        "Entries in Signal Sample= 14727.0\n",
        "Entries in Control Sample= 162000.0\n",
        "--------------------------------\n",
        "Cut:"
       ]
      },
      {
       "output_type": "stream",
       "stream": "stdout",
       "text": [
        " DRbb_chi2<61.3035340841\n",
        "Entries in Signal Sample= 15565.0\n",
        "Entries in Control Sample= 169240.0\n",
        "--------------------------------\n",
        "Cut:"
       ]
      },
      {
       "output_type": "stream",
       "stream": "stdout",
       "text": [
        " DRbb_chi2<71.3032465655\n",
        "Entries in Signal Sample= 16367.0\n",
        "Entries in Control Sample= 175863.0\n",
        "--------------------------------\n",
        "Cut:"
       ]
      },
      {
       "output_type": "stream",
       "stream": "stdout",
       "text": [
        " DRbb_chi2<82.934092573\n",
        "Entries in Signal Sample= 17192.0\n",
        "Entries in Control Sample= 181680.0\n",
        "--------------------------------\n",
        "Cut:"
       ]
      },
      {
       "output_type": "stream",
       "stream": "stdout",
       "text": [
        " DRbb_chi2<96.4621394146\n",
        "Entries in Signal Sample= 17992.0\n",
        "Entries in Control Sample= 186919.0\n",
        "--------------------------------\n",
        "Cut:"
       ]
      },
      {
       "output_type": "stream",
       "stream": "stdout",
       "text": [
        " DRbb_chi2<112.196854776\n",
        "Entries in Signal Sample= 18693.0\n",
        "Entries in Control Sample= 191882.0\n",
        "--------------------------------\n",
        "Cut:"
       ]
      },
      {
       "output_type": "stream",
       "stream": "stdout",
       "text": [
        " DRbb_chi2<130.498186108\n",
        "Entries in Signal Sample= 19430.0\n",
        "Entries in Control Sample= 196506.0\n",
        "--------------------------------\n",
        "Cut:"
       ]
      },
      {
       "output_type": "stream",
       "stream": "stdout",
       "text": [
        " DRbb_chi2<151.784794783\n",
        "Entries in Signal Sample= 20150.0\n",
        "Entries in Control Sample= 200729.0\n",
        "--------------------------------\n",
        "Cut:"
       ]
      },
      {
       "output_type": "stream",
       "stream": "stdout",
       "text": [
        " DRbb_chi2<176.543633398\n",
        "Entries in Signal Sample= 20819.0\n",
        "Entries in Control Sample= 204637.0\n",
        "--------------------------------\n",
        "Cut:"
       ]
      },
      {
       "output_type": "stream",
       "stream": "stdout",
       "text": [
        " DRbb_chi2<205.341085303\n",
        "Entries in Signal Sample= 21455.0\n",
        "Entries in Control Sample= 208224.0\n",
        "--------------------------------\n",
        "Cut:"
       ]
      },
      {
       "output_type": "stream",
       "stream": "stdout",
       "text": [
        " DRbb_chi2<238.835921194\n",
        "Entries in Signal Sample= 22011.0\n",
        "Entries in Control Sample= 211482.0\n",
        "--------------------------------\n",
        "Cut:"
       ]
      },
      {
       "output_type": "stream",
       "stream": "stdout",
       "text": [
        " DRbb_chi2<277.79436915\n",
        "Entries in Signal Sample= 22546.0\n",
        "Entries in Control Sample= 214431.0\n",
        "--------------------------------\n",
        "Cut:"
       ]
      },
      {
       "output_type": "stream",
       "stream": "stdout",
       "text": [
        " DRbb_chi2<323.107642879\n",
        "Entries in Signal Sample= 22990.0\n",
        "Entries in Control Sample= 217024.0\n",
        "--------------------------------\n",
        "Cut:"
       ]
      },
      {
       "output_type": "stream",
       "stream": "stdout",
       "text": [
        " DRbb_chi2<375.812329119\n",
        "Entries in Signal Sample= 23423.0\n",
        "Entries in Control Sample= 219298.0\n",
        "--------------------------------\n",
        "Cut:"
       ]
      },
      {
       "output_type": "stream",
       "stream": "stdout",
       "text": [
        " DRbb_chi2<437.114100613\n",
        "Entries in Signal Sample= 23770.0\n",
        "Entries in Control Sample= 221302.0\n",
        "--------------------------------\n",
        "Cut:"
       ]
      },
      {
       "output_type": "stream",
       "stream": "stdout",
       "text": [
        " DRbb_chi2<508.415297078\n",
        "Entries in Signal Sample= 24087.0\n",
        "Entries in Control Sample= 223076.0\n",
        "--------------------------------\n",
        "Cut:"
       ]
      },
      {
       "output_type": "stream",
       "stream": "stdout",
       "text": [
        " DRbb_chi2<591.347005142\n",
        "Entries in Signal Sample= 24411.0\n",
        "Entries in Control Sample= 224522.0\n",
        "--------------------------------\n",
        "Cut:"
       ]
      },
      {
       "output_type": "stream",
       "stream": "stdout",
       "text": [
        " DRbb_chi2<687.806371091\n",
        "Entries in Signal Sample= 24686.0\n",
        "Entries in Control Sample= 225766.0\n",
        "--------------------------------\n",
        "Cut:"
       ]
      },
      {
       "output_type": "stream",
       "stream": "stdout",
       "text": [
        " DRbb_chi2<800.0\n",
        "Entries in Signal Sample= 24893.0\n",
        "Entries in Control Sample= 226796.0\n",
        "--------------------------------\n",
        "Cut:"
       ]
      },
      {
       "output_type": "stream",
       "stream": "stdout",
       "text": [
        " DRWH_chi2<2.0\n",
        "Entries in Signal Sample= 860.0\n",
        "Entries in Control Sample= 11385.0\n",
        "--------------------------------\n",
        "Cut:"
       ]
      },
      {
       "output_type": "stream",
       "stream": "stdout",
       "text": [
        " DRWH_chi2<4.0\n",
        "Entries in Signal Sample= 1910.0\n",
        "Entries in Control Sample= 24682.0\n",
        "--------------------------------\n",
        "Cut:"
       ]
      },
      {
       "output_type": "stream",
       "stream": "stdout",
       "text": [
        " DRWH_chi2<6.0\n",
        "Entries in Signal Sample= 2911.0\n",
        "Entries in Control Sample= 37285.0\n",
        "--------------------------------\n",
        "Cut:"
       ]
      },
      {
       "output_type": "stream",
       "stream": "stdout",
       "text": [
        " DRWH_chi2<8.0\n",
        "Entries in Signal Sample= 3874.0\n",
        "Entries in Control Sample= 48513.0\n",
        "--------------------------------\n",
        "Cut:"
       ]
      },
      {
       "output_type": "stream",
       "stream": "stdout",
       "text": [
        " DRWH_chi2<10.0\n",
        "Entries in Signal Sample= 4752.0\n",
        "Entries in Control Sample= 59081.0\n",
        "--------------------------------\n",
        "Cut:"
       ]
      },
      {
       "output_type": "stream",
       "stream": "stdout",
       "text": [
        " DRWH_chi2<11.6311804255\n",
        "Entries in Signal Sample= 5459.0\n",
        "Entries in Control Sample= 67015.0\n",
        "--------------------------------\n",
        "Cut:"
       ]
      },
      {
       "output_type": "stream",
       "stream": "stdout",
       "text": [
        " DRWH_chi2<13.5284358092\n",
        "Entries in Signal Sample= 6184.0\n",
        "Entries in Control Sample= 75502.0\n",
        "--------------------------------\n",
        "Cut:"
       ]
      },
      {
       "output_type": "stream",
       "stream": "stdout",
       "text": [
        " DRWH_chi2<15.7351677772\n",
        "Entries in Signal Sample= 7011.0\n",
        "Entries in Control Sample= 84512.0\n",
        "--------------------------------\n",
        "Cut:"
       ]
      },
      {
       "output_type": "stream",
       "stream": "stdout",
       "text": [
        " DRWH_chi2<18.3018575442\n",
        "Entries in Signal Sample= 7923.0\n",
        "Entries in Control Sample= 94053.0\n",
        "--------------------------------\n",
        "Cut:"
       ]
      },
      {
       "output_type": "stream",
       "stream": "stdout",
       "text": [
        " DRWH_chi2<21.287220722\n",
        "Entries in Signal Sample= 8851.0\n",
        "Entries in Control Sample= 103846.0\n",
        "--------------------------------\n",
        "Cut:"
       ]
      },
      {
       "output_type": "stream",
       "stream": "stdout",
       "text": [
        " DRWH_chi2<24.7595504975\n",
        "Entries in Signal Sample= 9791.0\n",
        "Entries in Control Sample= 114141.0\n",
        "--------------------------------\n",
        "Cut:"
       ]
      },
      {
       "output_type": "stream",
       "stream": "stdout",
       "text": [
        " DRWH_chi2<28.7982799092\n",
        "Entries in Signal Sample= 10818.0\n",
        "Entries in Control Sample= 124401.0\n",
        "--------------------------------\n",
        "Cut:"
       ]
      },
      {
       "output_type": "stream",
       "stream": "stdout",
       "text": [
        " DRWH_chi2<33.495798957\n",
        "Entries in Signal Sample= 11783.0\n",
        "Entries in Control Sample= 134388.0\n",
        "--------------------------------\n",
        "Cut:"
       ]
      },
      {
       "output_type": "stream",
       "stream": "stdout",
       "text": [
        " DRWH_chi2<38.9595681166\n",
        "Entries in Signal Sample= 12790.0\n",
        "Entries in Control Sample= 144285.0\n",
        "--------------------------------\n",
        "Cut:"
       ]
      },
      {
       "output_type": "stream",
       "stream": "stdout",
       "text": [
        " DRWH_chi2<45.3145766065\n",
        "Entries in Signal Sample= 13772.0\n",
        "Entries in Control Sample= 153434.0\n",
        "--------------------------------\n",
        "Cut:"
       ]
      },
      {
       "output_type": "stream",
       "stream": "stdout",
       "text": [
        " DRWH_chi2<52.7062016418\n",
        "Entries in Signal Sample= 14727.0\n",
        "Entries in Control Sample= 162000.0\n",
        "--------------------------------\n",
        "Cut:"
       ]
      },
      {
       "output_type": "stream",
       "stream": "stdout",
       "text": [
        " DRWH_chi2<61.3035340841\n",
        "Entries in Signal Sample= 15565.0\n",
        "Entries in Control Sample= 169240.0\n",
        "--------------------------------\n",
        "Cut:"
       ]
      },
      {
       "output_type": "stream",
       "stream": "stdout",
       "text": [
        " DRWH_chi2<71.3032465655\n",
        "Entries in Signal Sample= 16367.0\n",
        "Entries in Control Sample= 175863.0\n",
        "--------------------------------\n",
        "Cut:"
       ]
      },
      {
       "output_type": "stream",
       "stream": "stdout",
       "text": [
        " DRWH_chi2<82.934092573\n",
        "Entries in Signal Sample= 17192.0\n",
        "Entries in Control Sample= 181680.0\n",
        "--------------------------------\n",
        "Cut:"
       ]
      },
      {
       "output_type": "stream",
       "stream": "stdout",
       "text": [
        " DRWH_chi2<96.4621394146\n",
        "Entries in Signal Sample= 17992.0\n",
        "Entries in Control Sample= 186919.0\n",
        "--------------------------------\n",
        "Cut:"
       ]
      },
      {
       "output_type": "stream",
       "stream": "stdout",
       "text": [
        " DRWH_chi2<112.196854776\n",
        "Entries in Signal Sample= 18693.0\n",
        "Entries in Control Sample= 191882.0\n",
        "--------------------------------\n",
        "Cut:"
       ]
      },
      {
       "output_type": "stream",
       "stream": "stdout",
       "text": [
        " DRWH_chi2<130.498186108\n",
        "Entries in Signal Sample= 19430.0\n",
        "Entries in Control Sample= 196506.0\n",
        "--------------------------------\n",
        "Cut:"
       ]
      },
      {
       "output_type": "stream",
       "stream": "stdout",
       "text": [
        " DRWH_chi2<151.784794783\n",
        "Entries in Signal Sample= 20150.0\n",
        "Entries in Control Sample= 200729.0\n",
        "--------------------------------\n",
        "Cut:"
       ]
      },
      {
       "output_type": "stream",
       "stream": "stdout",
       "text": [
        " DRWH_chi2<176.543633398\n",
        "Entries in Signal Sample= 20819.0\n",
        "Entries in Control Sample= 204637.0\n",
        "--------------------------------\n",
        "Cut:"
       ]
      },
      {
       "output_type": "stream",
       "stream": "stdout",
       "text": [
        " DRWH_chi2<205.341085303\n",
        "Entries in Signal Sample= 21455.0\n",
        "Entries in Control Sample= 208224.0\n",
        "--------------------------------\n",
        "Cut:"
       ]
      },
      {
       "output_type": "stream",
       "stream": "stdout",
       "text": [
        " DRWH_chi2<238.835921194\n",
        "Entries in Signal Sample= 22011.0\n",
        "Entries in Control Sample= 211482.0\n",
        "--------------------------------\n",
        "Cut:"
       ]
      },
      {
       "output_type": "stream",
       "stream": "stdout",
       "text": [
        " DRWH_chi2<277.79436915\n",
        "Entries in Signal Sample= 22546.0\n",
        "Entries in Control Sample= 214431.0\n",
        "--------------------------------\n",
        "Cut:"
       ]
      },
      {
       "output_type": "stream",
       "stream": "stdout",
       "text": [
        " DRWH_chi2<323.107642879\n",
        "Entries in Signal Sample= 22990.0\n",
        "Entries in Control Sample= 217024.0\n",
        "--------------------------------\n",
        "Cut:"
       ]
      },
      {
       "output_type": "stream",
       "stream": "stdout",
       "text": [
        " DRWH_chi2<375.812329119\n",
        "Entries in Signal Sample= 23423.0\n",
        "Entries in Control Sample= 219298.0\n",
        "--------------------------------\n",
        "Cut:"
       ]
      },
      {
       "output_type": "stream",
       "stream": "stdout",
       "text": [
        " DRWH_chi2<437.114100613\n",
        "Entries in Signal Sample= 23770.0\n",
        "Entries in Control Sample= 221302.0\n",
        "--------------------------------\n",
        "Cut:"
       ]
      },
      {
       "output_type": "stream",
       "stream": "stdout",
       "text": [
        " DRWH_chi2<508.415297078\n",
        "Entries in Signal Sample= 24087.0\n",
        "Entries in Control Sample= 223076.0\n",
        "--------------------------------\n",
        "Cut:"
       ]
      },
      {
       "output_type": "stream",
       "stream": "stdout",
       "text": [
        " DRWH_chi2<591.347005142\n",
        "Entries in Signal Sample= 24411.0\n",
        "Entries in Control Sample= 224522.0\n",
        "--------------------------------\n",
        "Cut:"
       ]
      },
      {
       "output_type": "stream",
       "stream": "stdout",
       "text": [
        " DRWH_chi2<687.806371091\n",
        "Entries in Signal Sample= 24686.0\n",
        "Entries in Control Sample= 225766.0\n",
        "--------------------------------\n",
        "Cut:"
       ]
      },
      {
       "output_type": "stream",
       "stream": "stdout",
       "text": [
        " DRWH_chi2<800.0\n",
        "Entries in Signal Sample= 24893.0\n",
        "Entries in Control Sample= 226796.0\n",
        "--------------------------------\n",
        "Cut:"
       ]
      },
      {
       "output_type": "stream",
       "stream": "stdout",
       "text": [
        " HiggsMass_chi2<2.0\n",
        "Entries in Signal Sample= 860.0\n",
        "Entries in Control Sample= 11385.0\n",
        "--------------------------------\n",
        "Cut:"
       ]
      },
      {
       "output_type": "stream",
       "stream": "stdout",
       "text": [
        " HiggsMass_chi2<4.0\n",
        "Entries in Signal Sample= 1785.0\n",
        "Entries in Control Sample= 23100.0\n",
        "--------------------------------\n",
        "Cut:"
       ]
      },
      {
       "output_type": "stream",
       "stream": "stdout",
       "text": [
        " HiggsMass_chi2<6.0\n",
        "Entries in Signal Sample= 2381.0\n",
        "Entries in Control Sample= 30465.0\n",
        "--------------------------------\n",
        "Cut:"
       ]
      },
      {
       "output_type": "stream",
       "stream": "stdout",
       "text": [
        " HiggsMass_chi2<8.0\n",
        "Entries in Signal Sample= 2820.0\n",
        "Entries in Control Sample= 35266.0\n",
        "--------------------------------\n",
        "Cut:"
       ]
      },
      {
       "output_type": "stream",
       "stream": "stdout",
       "text": [
        " HiggsMass_chi2<10.0\n",
        "Entries in Signal Sample= 3173.0\n",
        "Entries in Control Sample= 38884.0\n",
        "--------------------------------\n",
        "Cut:"
       ]
      },
      {
       "output_type": "stream",
       "stream": "stdout",
       "text": [
        " HiggsMass_chi2<11.6311804255\n",
        "Entries in Signal Sample= 3428.0\n",
        "Entries in Control Sample= 41211.0\n",
        "--------------------------------\n",
        "Cut:"
       ]
      },
      {
       "output_type": "stream",
       "stream": "stdout",
       "text": [
        " HiggsMass_chi2<13.5284358092\n",
        "Entries in Signal Sample= 3647.0\n",
        "Entries in Control Sample= 43286.0\n",
        "--------------------------------\n",
        "Cut:"
       ]
      },
      {
       "output_type": "stream",
       "stream": "stdout",
       "text": [
        " HiggsMass_chi2<15.7351677772\n",
        "Entries in Signal Sample= 3895.0\n",
        "Entries in Control Sample= 45288.0\n",
        "--------------------------------\n",
        "Cut:"
       ]
      },
      {
       "output_type": "stream",
       "stream": "stdout",
       "text": [
        " HiggsMass_chi2<18.3018575442\n",
        "Entries in Signal Sample= 4125.0\n",
        "Entries in Control Sample= 47168.0\n",
        "--------------------------------\n",
        "Cut:"
       ]
      },
      {
       "output_type": "stream",
       "stream": "stdout",
       "text": [
        " HiggsMass_chi2<21.287220722\n",
        "Entries in Signal Sample= 4368.0\n",
        "Entries in Control Sample= 48900.0\n",
        "--------------------------------\n",
        "Cut:"
       ]
      },
      {
       "output_type": "stream",
       "stream": "stdout",
       "text": [
        " HiggsMass_chi2<24.7595504975\n",
        "Entries in Signal Sample= 4606.0\n",
        "Entries in Control Sample= 50520.0\n",
        "--------------------------------\n",
        "Cut:"
       ]
      },
      {
       "output_type": "stream",
       "stream": "stdout",
       "text": [
        " HiggsMass_chi2<28.7982799092\n",
        "Entries in Signal Sample= 4835.0\n",
        "Entries in Control Sample= 52139.0\n",
        "--------------------------------\n",
        "Cut:"
       ]
      },
      {
       "output_type": "stream",
       "stream": "stdout",
       "text": [
        " HiggsMass_chi2<33.495798957\n",
        "Entries in Signal Sample= 5043.0\n",
        "Entries in Control Sample= 53620.0\n",
        "--------------------------------\n",
        "Cut:"
       ]
      },
      {
       "output_type": "stream",
       "stream": "stdout",
       "text": [
        " HiggsMass_chi2<38.9595681166\n",
        "Entries in Signal Sample= 5279.0\n",
        "Entries in Control Sample= 55064.0\n",
        "--------------------------------\n",
        "Cut:"
       ]
      },
      {
       "output_type": "stream",
       "stream": "stdout",
       "text": [
        " HiggsMass_chi2<45.3145766065\n",
        "Entries in Signal Sample= 5514.0\n",
        "Entries in Control Sample= 56374.0\n",
        "--------------------------------\n",
        "Cut:"
       ]
      },
      {
       "output_type": "stream",
       "stream": "stdout",
       "text": [
        " HiggsMass_chi2<52.7062016418\n",
        "Entries in Signal Sample= 5741.0\n",
        "Entries in Control Sample= 57552.0\n",
        "--------------------------------\n",
        "Cut:"
       ]
      },
      {
       "output_type": "stream",
       "stream": "stdout",
       "text": [
        " HiggsMass_chi2<61.3035340841\n",
        "Entries in Signal Sample= 5978.0\n",
        "Entries in Control Sample= 58697.0\n",
        "--------------------------------\n",
        "Cut:"
       ]
      },
      {
       "output_type": "stream",
       "stream": "stdout",
       "text": [
        " HiggsMass_chi2<71.3032465655\n",
        "Entries in Signal Sample= 6177.0\n",
        "Entries in Control Sample= 59769.0\n",
        "--------------------------------\n",
        "Cut:"
       ]
      },
      {
       "output_type": "stream",
       "stream": "stdout",
       "text": [
        " HiggsMass_chi2<82.934092573\n",
        "Entries in Signal Sample= 6403.0\n",
        "Entries in Control Sample= 60816.0\n",
        "--------------------------------\n",
        "Cut:"
       ]
      },
      {
       "output_type": "stream",
       "stream": "stdout",
       "text": [
        " HiggsMass_chi2<96.4621394146\n",
        "Entries in Signal Sample= 6618.0\n",
        "Entries in Control Sample= 61755.0\n",
        "--------------------------------\n",
        "Cut:"
       ]
      },
      {
       "output_type": "stream",
       "stream": "stdout",
       "text": [
        " HiggsMass_chi2<112.196854776\n",
        "Entries in Signal Sample= 6800.0\n",
        "Entries in Control Sample= 62723.0\n",
        "--------------------------------\n",
        "Cut:"
       ]
      },
      {
       "output_type": "stream",
       "stream": "stdout",
       "text": [
        " HiggsMass_chi2<130.498186108\n",
        "Entries in Signal Sample= 6983.0\n",
        "Entries in Control Sample= 63668.0\n",
        "--------------------------------\n",
        "Cut:"
       ]
      },
      {
       "output_type": "stream",
       "stream": "stdout",
       "text": [
        " HiggsMass_chi2<151.784794783\n",
        "Entries in Signal Sample= 7175.0\n",
        "Entries in Control Sample= 64542.0\n",
        "--------------------------------\n",
        "Cut:"
       ]
      },
      {
       "output_type": "stream",
       "stream": "stdout",
       "text": [
        " HiggsMass_chi2<176.543633398\n",
        "Entries in Signal Sample= 7348.0\n",
        "Entries in Control Sample= 65379.0\n",
        "--------------------------------\n",
        "Cut:"
       ]
      },
      {
       "output_type": "stream",
       "stream": "stdout",
       "text": [
        " HiggsMass_chi2<205.341085303\n",
        "Entries in Signal Sample= 7503.0\n",
        "Entries in Control Sample= 66132.0\n",
        "--------------------------------\n",
        "Cut:"
       ]
      },
      {
       "output_type": "stream",
       "stream": "stdout",
       "text": [
        " HiggsMass_chi2<238.835921194\n",
        "Entries in Signal Sample= 7653.0\n",
        "Entries in Control Sample= 66819.0\n",
        "--------------------------------\n",
        "Cut:"
       ]
      },
      {
       "output_type": "stream",
       "stream": "stdout",
       "text": [
        " HiggsMass_chi2<277.79436915\n",
        "Entries in Signal Sample= 7805.0\n",
        "Entries in Control Sample= 67443.0\n",
        "--------------------------------\n",
        "Cut:"
       ]
      },
      {
       "output_type": "stream",
       "stream": "stdout",
       "text": [
        " HiggsMass_chi2<323.107642879\n",
        "Entries in Signal Sample= 7933.0\n",
        "Entries in Control Sample= 67984.0\n",
        "--------------------------------\n",
        "Cut:"
       ]
      },
      {
       "output_type": "stream",
       "stream": "stdout",
       "text": [
        " HiggsMass_chi2<375.812329119\n",
        "Entries in Signal Sample= 8039.0\n",
        "Entries in Control Sample= 68495.0\n",
        "--------------------------------\n",
        "Cut:"
       ]
      },
      {
       "output_type": "stream",
       "stream": "stdout",
       "text": [
        " HiggsMass_chi2<437.114100613\n",
        "Entries in Signal Sample= 8116.0\n",
        "Entries in Control Sample= 68924.0\n",
        "--------------------------------\n",
        "Cut:"
       ]
      },
      {
       "output_type": "stream",
       "stream": "stdout",
       "text": [
        " HiggsMass_chi2<508.415297078\n",
        "Entries in Signal Sample= 8199.0\n",
        "Entries in Control Sample= 69305.0\n",
        "--------------------------------\n",
        "Cut:"
       ]
      },
      {
       "output_type": "stream",
       "stream": "stdout",
       "text": [
        " HiggsMass_chi2<591.347005142\n",
        "Entries in Signal Sample= 8291.0\n",
        "Entries in Control Sample= 69621.0\n",
        "--------------------------------\n",
        "Cut:"
       ]
      },
      {
       "output_type": "stream",
       "stream": "stdout",
       "text": [
        " HiggsMass_chi2<687.806371091\n",
        "Entries in Signal Sample= 8364.0\n",
        "Entries in Control Sample= 69891.0\n",
        "--------------------------------\n",
        "Cut:"
       ]
      },
      {
       "output_type": "stream",
       "stream": "stdout",
       "text": [
        " HiggsMass_chi2<800.0\n",
        "Entries in Signal Sample= 8414.0\n",
        "Entries in Control Sample= 70104.0\n",
        "--------------------------------\n",
        "Cut:"
       ]
      },
      {
       "output_type": "stream",
       "stream": "stdout",
       "text": [
        " M2HP_chi2<2.0\n",
        "Entries in Signal Sample= 347.0\n",
        "Entries in Control Sample= 5925.0\n",
        "--------------------------------\n",
        "Cut:"
       ]
      },
      {
       "output_type": "stream",
       "stream": "stdout",
       "text": [
        " M2HP_chi2<4.0\n",
        "Entries in Signal Sample= 765.0\n",
        "Entries in Control Sample= 12393.0\n",
        "--------------------------------\n",
        "Cut:"
       ]
      },
      {
       "output_type": "stream",
       "stream": "stdout",
       "text": [
        " M2HP_chi2<6.0\n",
        "Entries in Signal Sample= 1045.0\n",
        "Entries in Control Sample= 16577.0\n",
        "--------------------------------\n",
        "Cut:"
       ]
      },
      {
       "output_type": "stream",
       "stream": "stdout",
       "text": [
        " M2HP_chi2<8.0\n",
        "Entries in Signal Sample= 1242.0\n",
        "Entries in Control Sample= 19269.0\n",
        "--------------------------------\n",
        "Cut:"
       ]
      },
      {
       "output_type": "stream",
       "stream": "stdout",
       "text": [
        " M2HP_chi2<10.0\n",
        "Entries in Signal Sample= 1425.0\n",
        "Entries in Control Sample= 21373.0\n",
        "--------------------------------\n",
        "Cut:"
       ]
      },
      {
       "output_type": "stream",
       "stream": "stdout",
       "text": [
        " M2HP_chi2<11.6311804255\n",
        "Entries in Signal Sample= 1541.0\n",
        "Entries in Control Sample= 22680.0\n",
        "--------------------------------\n",
        "Cut:"
       ]
      },
      {
       "output_type": "stream",
       "stream": "stdout",
       "text": [
        " M2HP_chi2<13.5284358092\n",
        "Entries in Signal Sample= 1649.0\n",
        "Entries in Control Sample= 23854.0\n",
        "--------------------------------\n",
        "Cut:"
       ]
      },
      {
       "output_type": "stream",
       "stream": "stdout",
       "text": [
        " M2HP_chi2<15.7351677772\n",
        "Entries in Signal Sample= 1780.0\n",
        "Entries in Control Sample= 24974.0\n",
        "--------------------------------\n",
        "Cut:"
       ]
      },
      {
       "output_type": "stream",
       "stream": "stdout",
       "text": [
        " M2HP_chi2<18.3018575442\n",
        "Entries in Signal Sample= 1877.0\n",
        "Entries in Control Sample= 26027.0\n",
        "--------------------------------\n",
        "Cut:"
       ]
      },
      {
       "output_type": "stream",
       "stream": "stdout",
       "text": [
        " M2HP_chi2<21.287220722\n",
        "Entries in Signal Sample= 1994.0\n",
        "Entries in Control Sample= 26990.0\n",
        "--------------------------------\n",
        "Cut:"
       ]
      },
      {
       "output_type": "stream",
       "stream": "stdout",
       "text": [
        " M2HP_chi2<24.7595504975\n",
        "Entries in Signal Sample= 2105.0\n",
        "Entries in Control Sample= 27889.0\n",
        "--------------------------------\n",
        "Cut:"
       ]
      },
      {
       "output_type": "stream",
       "stream": "stdout",
       "text": [
        " M2HP_chi2<28.7982799092\n",
        "Entries in Signal Sample= 2231.0\n",
        "Entries in Control Sample= 28778.0\n",
        "--------------------------------\n",
        "Cut:"
       ]
      },
      {
       "output_type": "stream",
       "stream": "stdout",
       "text": [
        " M2HP_chi2<33.495798957\n",
        "Entries in Signal Sample= 2340.0\n",
        "Entries in Control Sample= 29593.0\n",
        "--------------------------------\n",
        "Cut:"
       ]
      },
      {
       "output_type": "stream",
       "stream": "stdout",
       "text": [
        " M2HP_chi2<38.9595681166\n",
        "Entries in Signal Sample= 2441.0\n",
        "Entries in Control Sample= 30371.0\n",
        "--------------------------------\n",
        "Cut:"
       ]
      },
      {
       "output_type": "stream",
       "stream": "stdout",
       "text": [
        " M2HP_chi2<45.3145766065\n",
        "Entries in Signal Sample= 2556.0\n",
        "Entries in Control Sample= 31058.0\n",
        "--------------------------------\n",
        "Cut:"
       ]
      },
      {
       "output_type": "stream",
       "stream": "stdout",
       "text": [
        " M2HP_chi2<52.7062016418\n",
        "Entries in Signal Sample= 2671.0\n",
        "Entries in Control Sample= 31667.0\n",
        "--------------------------------\n",
        "Cut:"
       ]
      },
      {
       "output_type": "stream",
       "stream": "stdout",
       "text": [
        " M2HP_chi2<61.3035340841\n",
        "Entries in Signal Sample= 2796.0\n",
        "Entries in Control Sample= 32269.0\n",
        "--------------------------------\n",
        "Cut:"
       ]
      },
      {
       "output_type": "stream",
       "stream": "stdout",
       "text": [
        " M2HP_chi2<71.3032465655\n",
        "Entries in Signal Sample= 2892.0\n",
        "Entries in Control Sample= 32844.0\n",
        "--------------------------------\n",
        "Cut:"
       ]
      },
      {
       "output_type": "stream",
       "stream": "stdout",
       "text": [
        " M2HP_chi2<82.934092573\n",
        "Entries in Signal Sample= 3017.0\n",
        "Entries in Control Sample= 33415.0\n",
        "--------------------------------\n",
        "Cut:"
       ]
      },
      {
       "output_type": "stream",
       "stream": "stdout",
       "text": [
        " M2HP_chi2<96.4621394146\n",
        "Entries in Signal Sample= 3119.0\n",
        "Entries in Control Sample= 33905.0\n",
        "--------------------------------\n",
        "Cut:"
       ]
      },
      {
       "output_type": "stream",
       "stream": "stdout",
       "text": [
        " M2HP_chi2<112.196854776\n",
        "Entries in Signal Sample= 3208.0\n",
        "Entries in Control Sample= 34429.0\n",
        "--------------------------------\n",
        "Cut:"
       ]
      },
      {
       "output_type": "stream",
       "stream": "stdout",
       "text": [
        " M2HP_chi2<130.498186108\n",
        "Entries in Signal Sample= 3287.0\n",
        "Entries in Control Sample= 34906.0\n",
        "--------------------------------\n",
        "Cut:"
       ]
      },
      {
       "output_type": "stream",
       "stream": "stdout",
       "text": [
        " M2HP_chi2<151.784794783\n",
        "Entries in Signal Sample= 3389.0\n",
        "Entries in Control Sample= 35393.0\n",
        "--------------------------------\n",
        "Cut:"
       ]
      },
      {
       "output_type": "stream",
       "stream": "stdout",
       "text": [
        " M2HP_chi2<176.543633398\n",
        "Entries in Signal Sample= 3470.0\n",
        "Entries in Control Sample= 35812.0\n",
        "--------------------------------\n",
        "Cut:"
       ]
      },
      {
       "output_type": "stream",
       "stream": "stdout",
       "text": [
        " M2HP_chi2<205.341085303\n",
        "Entries in Signal Sample= 3542.0\n",
        "Entries in Control Sample= 36211.0\n",
        "--------------------------------\n",
        "Cut:"
       ]
      },
      {
       "output_type": "stream",
       "stream": "stdout",
       "text": [
        " M2HP_chi2<238.835921194\n",
        "Entries in Signal Sample= 3605.0\n",
        "Entries in Control Sample= 36600.0\n",
        "--------------------------------\n",
        "Cut:"
       ]
      },
      {
       "output_type": "stream",
       "stream": "stdout",
       "text": [
        " M2HP_chi2<277.79436915\n",
        "Entries in Signal Sample= 3675.0\n",
        "Entries in Control Sample= 36928.0\n",
        "--------------------------------\n",
        "Cut:"
       ]
      },
      {
       "output_type": "stream",
       "stream": "stdout",
       "text": [
        " M2HP_chi2<323.107642879\n",
        "Entries in Signal Sample= 3739.0\n",
        "Entries in Control Sample= 37225.0\n",
        "--------------------------------\n",
        "Cut:"
       ]
      },
      {
       "output_type": "stream",
       "stream": "stdout",
       "text": [
        " M2HP_chi2<375.812329119\n",
        "Entries in Signal Sample= 3790.0\n",
        "Entries in Control Sample= 37509.0\n",
        "--------------------------------\n",
        "Cut:"
       ]
      },
      {
       "output_type": "stream",
       "stream": "stdout",
       "text": [
        " M2HP_chi2<437.114100613\n",
        "Entries in Signal Sample= 3829.0\n",
        "Entries in Control Sample= 37736.0\n",
        "--------------------------------\n",
        "Cut:"
       ]
      },
      {
       "output_type": "stream",
       "stream": "stdout",
       "text": [
        " M2HP_chi2<508.415297078\n",
        "Entries in Signal Sample= 3868.0\n",
        "Entries in Control Sample= 37921.0\n",
        "--------------------------------\n",
        "Cut:"
       ]
      },
      {
       "output_type": "stream",
       "stream": "stdout",
       "text": [
        " M2HP_chi2<591.347005142\n",
        "Entries in Signal Sample= 3918.0\n",
        "Entries in Control Sample= 38088.0\n",
        "--------------------------------\n",
        "Cut:"
       ]
      },
      {
       "output_type": "stream",
       "stream": "stdout",
       "text": [
        " M2HP_chi2<687.806371091\n",
        "Entries in Signal Sample= 3960.0\n",
        "Entries in Control Sample= 38231.0\n",
        "--------------------------------\n",
        "Cut:"
       ]
      },
      {
       "output_type": "stream",
       "stream": "stdout",
       "text": [
        " M2HP_chi2<800.0\n",
        "Entries in Signal Sample= 3985.0\n",
        "Entries in Control Sample= 38336.0\n",
        "--------------------------------\n",
        "Cut:"
       ]
      },
      {
       "output_type": "stream",
       "stream": "stdout",
       "text": [
        " DRTp6thJ_chi2<2.0\n",
        "Entries in Signal Sample= 31.0\n",
        "Entries in Control Sample= 456.0\n",
        "--------------------------------\n",
        "Cut:"
       ]
      },
      {
       "output_type": "stream",
       "stream": "stdout",
       "text": [
        " DRTp6thJ_chi2<4.0\n",
        "Entries in Signal Sample= 68.0\n",
        "Entries in Control Sample= 972.0\n",
        "--------------------------------\n",
        "Cut:"
       ]
      },
      {
       "output_type": "stream",
       "stream": "stdout",
       "text": [
        " DRTp6thJ_chi2<6.0\n",
        "Entries in Signal Sample= 93.0\n",
        "Entries in Control Sample= 1334.0\n",
        "--------------------------------\n",
        "Cut:"
       ]
      },
      {
       "output_type": "stream",
       "stream": "stdout",
       "text": [
        " DRTp6thJ_chi2<8.0\n",
        "Entries in Signal Sample= 112.0\n",
        "Entries in Control Sample= 1566.0\n",
        "--------------------------------\n",
        "Cut:"
       ]
      },
      {
       "output_type": "stream",
       "stream": "stdout",
       "text": [
        " DRTp6thJ_chi2<10.0\n",
        "Entries in Signal Sample= 133.0\n",
        "Entries in Control Sample= 1762.0\n",
        "--------------------------------\n",
        "Cut:"
       ]
      },
      {
       "output_type": "stream",
       "stream": "stdout",
       "text": [
        " DRTp6thJ_chi2<11.6311804255\n",
        "Entries in Signal Sample= 147.0\n",
        "Entries in Control Sample= 1907.0\n",
        "--------------------------------\n",
        "Cut:"
       ]
      },
      {
       "output_type": "stream",
       "stream": "stdout",
       "text": [
        " DRTp6thJ_chi2<13.5284358092\n",
        "Entries in Signal Sample= 156.0\n",
        "Entries in Control Sample= 2031.0\n",
        "--------------------------------\n",
        "Cut:"
       ]
      },
      {
       "output_type": "stream",
       "stream": "stdout",
       "text": [
        " DRTp6thJ_chi2<15.7351677772\n",
        "Entries in Signal Sample= 171.0\n",
        "Entries in Control Sample= 2153.0\n",
        "--------------------------------\n",
        "Cut:"
       ]
      },
      {
       "output_type": "stream",
       "stream": "stdout",
       "text": [
        " DRTp6thJ_chi2<18.3018575442\n",
        "Entries in Signal Sample= 178.0\n",
        "Entries in Control Sample= 2251.0\n",
        "--------------------------------\n",
        "Cut:"
       ]
      },
      {
       "output_type": "stream",
       "stream": "stdout",
       "text": [
        " DRTp6thJ_chi2<21.287220722\n",
        "Entries in Signal Sample= 188.0\n",
        "Entries in Control Sample= 2349.0\n",
        "--------------------------------\n",
        "Cut:"
       ]
      },
      {
       "output_type": "stream",
       "stream": "stdout",
       "text": [
        " DRTp6thJ_chi2<24.7595504975\n",
        "Entries in Signal Sample= 205.0\n",
        "Entries in Control Sample= 2450.0\n",
        "--------------------------------\n",
        "Cut:"
       ]
      },
      {
       "output_type": "stream",
       "stream": "stdout",
       "text": [
        " DRTp6thJ_chi2<28.7982799092\n",
        "Entries in Signal Sample= 222.0\n",
        "Entries in Control Sample= 2550.0\n",
        "--------------------------------\n",
        "Cut:"
       ]
      },
      {
       "output_type": "stream",
       "stream": "stdout",
       "text": [
        " DRTp6thJ_chi2<33.495798957\n",
        "Entries in Signal Sample= 232.0\n",
        "Entries in Control Sample= 2647.0\n",
        "--------------------------------\n",
        "Cut:"
       ]
      },
      {
       "output_type": "stream",
       "stream": "stdout",
       "text": [
        " DRTp6thJ_chi2<38.9595681166\n",
        "Entries in Signal Sample= 243.0\n",
        "Entries in Control Sample= 2749.0\n",
        "--------------------------------\n",
        "Cut:"
       ]
      },
      {
       "output_type": "stream",
       "stream": "stdout",
       "text": [
        " DRTp6thJ_chi2<45.3145766065\n",
        "Entries in Signal Sample= 250.0\n",
        "Entries in Control Sample= 2841.0\n",
        "--------------------------------\n",
        "Cut:"
       ]
      },
      {
       "output_type": "stream",
       "stream": "stdout",
       "text": [
        " DRTp6thJ_chi2<52.7062016418\n",
        "Entries in Signal Sample= 264.0\n",
        "Entries in Control Sample= 2950.0\n",
        "--------------------------------\n",
        "Cut:"
       ]
      },
      {
       "output_type": "stream",
       "stream": "stdout",
       "text": [
        " DRTp6thJ_chi2<61.3035340841\n",
        "Entries in Signal Sample= 282.0\n",
        "Entries in Control Sample= 3037.0\n",
        "--------------------------------\n",
        "Cut:"
       ]
      },
      {
       "output_type": "stream",
       "stream": "stdout",
       "text": [
        " DRTp6thJ_chi2<71.3032465655\n",
        "Entries in Signal Sample= 291.0\n",
        "Entries in Control Sample= 3116.0\n",
        "--------------------------------\n",
        "Cut:"
       ]
      },
      {
       "output_type": "stream",
       "stream": "stdout",
       "text": [
        " DRTp6thJ_chi2<82.934092573\n",
        "Entries in Signal Sample= 301.0\n",
        "Entries in Control Sample= 3208.0\n",
        "--------------------------------\n",
        "Cut:"
       ]
      },
      {
       "output_type": "stream",
       "stream": "stdout",
       "text": [
        " DRTp6thJ_chi2<96.4621394146\n",
        "Entries in Signal Sample= 311.0\n",
        "Entries in Control Sample= 3304.0\n",
        "--------------------------------\n",
        "Cut:"
       ]
      },
      {
       "output_type": "stream",
       "stream": "stdout",
       "text": [
        " DRTp6thJ_chi2<112.196854776\n",
        "Entries in Signal Sample= 324.0\n",
        "Entries in Control Sample= 3412.0\n",
        "--------------------------------\n",
        "Cut:"
       ]
      },
      {
       "output_type": "stream",
       "stream": "stdout",
       "text": [
        " DRTp6thJ_chi2<130.498186108\n",
        "Entries in Signal Sample= 341.0\n",
        "Entries in Control Sample= 3509.0\n",
        "--------------------------------\n",
        "Cut:"
       ]
      },
      {
       "output_type": "stream",
       "stream": "stdout",
       "text": [
        " DRTp6thJ_chi2<151.784794783\n",
        "Entries in Signal Sample= 368.0\n",
        "Entries in Control Sample= 3611.0\n",
        "--------------------------------\n",
        "Cut:"
       ]
      },
      {
       "output_type": "stream",
       "stream": "stdout",
       "text": [
        " DRTp6thJ_chi2<176.543633398\n",
        "Entries in Signal Sample= 381.0\n",
        "Entries in Control Sample= 3705.0\n",
        "--------------------------------\n",
        "Cut:"
       ]
      },
      {
       "output_type": "stream",
       "stream": "stdout",
       "text": [
        " DRTp6thJ_chi2<205.341085303\n",
        "Entries in Signal Sample= 390.0\n",
        "Entries in Control Sample= 3790.0\n",
        "--------------------------------\n",
        "Cut:"
       ]
      },
      {
       "output_type": "stream",
       "stream": "stdout",
       "text": [
        " DRTp6thJ_chi2<238.835921194\n",
        "Entries in Signal Sample= 399.0\n",
        "Entries in Control Sample= 3877.0\n",
        "--------------------------------\n",
        "Cut:"
       ]
      },
      {
       "output_type": "stream",
       "stream": "stdout",
       "text": [
        " DRTp6thJ_chi2<277.79436915\n",
        "Entries in Signal Sample= 418.0\n",
        "Entries in Control Sample= 3950.0\n",
        "--------------------------------\n",
        "Cut:"
       ]
      },
      {
       "output_type": "stream",
       "stream": "stdout",
       "text": [
        " DRTp6thJ_chi2<323.107642879\n",
        "Entries in Signal Sample= 440.0\n",
        "Entries in Control Sample= 4021.0\n",
        "--------------------------------\n",
        "Cut:"
       ]
      },
      {
       "output_type": "stream",
       "stream": "stdout",
       "text": [
        " DRTp6thJ_chi2<375.812329119\n",
        "Entries in Signal Sample= 451.0\n",
        "Entries in Control Sample= 4109.0\n",
        "--------------------------------\n",
        "Cut:"
       ]
      },
      {
       "output_type": "stream",
       "stream": "stdout",
       "text": [
        " DRTp6thJ_chi2<437.114100613\n",
        "Entries in Signal Sample= 459.0\n",
        "Entries in Control Sample= 4174.0\n",
        "--------------------------------\n",
        "Cut:"
       ]
      },
      {
       "output_type": "stream",
       "stream": "stdout",
       "text": [
        " DRTp6thJ_chi2<508.415297078\n",
        "Entries in Signal Sample= 472.0\n",
        "Entries in Control Sample= 4221.0\n",
        "--------------------------------\n",
        "Cut:"
       ]
      },
      {
       "output_type": "stream",
       "stream": "stdout",
       "text": [
        " DRTp6thJ_chi2<591.347005142\n",
        "Entries in Signal Sample= 481.0\n",
        "Entries in Control Sample= 4268.0\n",
        "--------------------------------\n",
        "Cut:"
       ]
      },
      {
       "output_type": "stream",
       "stream": "stdout",
       "text": [
        " DRTp6thJ_chi2<687.806371091\n",
        "Entries in Signal Sample= 493.0\n",
        "Entries in Control Sample= 4315.0\n",
        "--------------------------------\n",
        "Cut:"
       ]
      },
      {
       "output_type": "stream",
       "stream": "stdout",
       "text": [
        " DRTp6thJ_chi2<800.0\n",
        "Entries in Signal Sample= 501.0\n",
        "Entries in Control Sample= 4342.0\n",
        "--------------------------------\n",
        "Cut:"
       ]
      },
      {
       "output_type": "stream",
       "stream": "stdout",
       "text": [
        " RelHT_chi2<2.0\n",
        "Entries in Signal Sample= 15.0\n",
        "Entries in Control Sample= 133.0\n",
        "--------------------------------\n",
        "Cut:"
       ]
      },
      {
       "output_type": "stream",
       "stream": "stdout",
       "text": [
        " RelHT_chi2<4.0\n",
        "Entries in Signal Sample= 35.0\n",
        "Entries in Control Sample= 306.0\n",
        "--------------------------------\n",
        "Cut:"
       ]
      },
      {
       "output_type": "stream",
       "stream": "stdout",
       "text": [
        " RelHT_chi2<6.0\n",
        "Entries in Signal Sample= 50.0\n",
        "Entries in Control Sample= 440.0\n",
        "--------------------------------\n",
        "Cut:"
       ]
      },
      {
       "output_type": "stream",
       "stream": "stdout",
       "text": [
        " RelHT_chi2<8.0\n",
        "Entries in Signal Sample= 58.0\n",
        "Entries in Control Sample= 519.0\n",
        "--------------------------------\n",
        "Cut:"
       ]
      },
      {
       "output_type": "stream",
       "stream": "stdout",
       "text": [
        " RelHT_chi2<10.0\n",
        "Entries in Signal Sample= 67.0\n",
        "Entries in Control Sample= 606.0\n",
        "--------------------------------\n",
        "Cut:"
       ]
      },
      {
       "output_type": "stream",
       "stream": "stdout",
       "text": [
        " RelHT_chi2<11.6311804255\n",
        "Entries in Signal Sample= 76.0\n",
        "Entries in Control Sample= 667.0\n",
        "--------------------------------\n",
        "Cut:"
       ]
      },
      {
       "output_type": "stream",
       "stream": "stdout",
       "text": [
        " RelHT_chi2<13.5284358092\n",
        "Entries in Signal Sample= 78.0\n",
        "Entries in Control Sample= 733.0\n",
        "--------------------------------\n",
        "Cut:"
       ]
      },
      {
       "output_type": "stream",
       "stream": "stdout",
       "text": [
        " RelHT_chi2<15.7351677772\n",
        "Entries in Signal Sample= 84.0\n",
        "Entries in Control Sample= 786.0\n",
        "--------------------------------\n",
        "Cut:"
       ]
      },
      {
       "output_type": "stream",
       "stream": "stdout",
       "text": [
        " RelHT_chi2<18.3018575442\n",
        "Entries in Signal Sample= 86.0\n",
        "Entries in Control Sample= 823.0\n",
        "--------------------------------\n",
        "Cut:"
       ]
      },
      {
       "output_type": "stream",
       "stream": "stdout",
       "text": [
        " RelHT_chi2<21.287220722\n",
        "Entries in Signal Sample= 90.0\n",
        "Entries in Control Sample= 868.0\n",
        "--------------------------------\n",
        "Cut:"
       ]
      },
      {
       "output_type": "stream",
       "stream": "stdout",
       "text": [
        " RelHT_chi2<24.7595504975\n",
        "Entries in Signal Sample= 100.0\n",
        "Entries in Control Sample= 911.0\n",
        "--------------------------------\n",
        "Cut:"
       ]
      },
      {
       "output_type": "stream",
       "stream": "stdout",
       "text": [
        " RelHT_chi2<28.7982799092\n",
        "Entries in Signal Sample= 110.0\n",
        "Entries in Control Sample= 963.0\n",
        "--------------------------------\n",
        "Cut:"
       ]
      },
      {
       "output_type": "stream",
       "stream": "stdout",
       "text": [
        " RelHT_chi2<33.495798957\n",
        "Entries in Signal Sample= 113.0\n",
        "Entries in Control Sample= 1000.0\n",
        "--------------------------------\n",
        "Cut:"
       ]
      },
      {
       "output_type": "stream",
       "stream": "stdout",
       "text": [
        " RelHT_chi2<38.9595681166\n",
        "Entries in Signal Sample= 118.0\n",
        "Entries in Control Sample= 1052.0\n",
        "--------------------------------\n",
        "Cut:"
       ]
      },
      {
       "output_type": "stream",
       "stream": "stdout",
       "text": [
        " RelHT_chi2<45.3145766065\n",
        "Entries in Signal Sample= 122.0\n",
        "Entries in Control Sample= 1101.0\n",
        "--------------------------------\n",
        "Cut:"
       ]
      },
      {
       "output_type": "stream",
       "stream": "stdout",
       "text": [
        " RelHT_chi2<52.7062016418\n",
        "Entries in Signal Sample= 130.0\n",
        "Entries in Control Sample= 1153.0\n",
        "--------------------------------\n",
        "Cut:"
       ]
      },
      {
       "output_type": "stream",
       "stream": "stdout",
       "text": [
        " RelHT_chi2<61.3035340841\n",
        "Entries in Signal Sample= 141.0\n",
        "Entries in Control Sample= 1193.0\n",
        "--------------------------------\n",
        "Cut:"
       ]
      },
      {
       "output_type": "stream",
       "stream": "stdout",
       "text": [
        " RelHT_chi2<71.3032465655\n",
        "Entries in Signal Sample= 148.0\n",
        "Entries in Control Sample= 1226.0\n",
        "--------------------------------\n",
        "Cut:"
       ]
      },
      {
       "output_type": "stream",
       "stream": "stdout",
       "text": [
        " RelHT_chi2<82.934092573\n",
        "Entries in Signal Sample= 151.0\n",
        "Entries in Control Sample= 1274.0\n",
        "--------------------------------\n",
        "Cut:"
       ]
      },
      {
       "output_type": "stream",
       "stream": "stdout",
       "text": [
        " RelHT_chi2<96.4621394146\n",
        "Entries in Signal Sample= 154.0\n",
        "Entries in Control Sample= 1326.0\n",
        "--------------------------------\n",
        "Cut:"
       ]
      },
      {
       "output_type": "stream",
       "stream": "stdout",
       "text": [
        " RelHT_chi2<112.196854776\n",
        "Entries in Signal Sample= 161.0\n",
        "Entries in Control Sample= 1369.0\n",
        "--------------------------------\n",
        "Cut:"
       ]
      },
      {
       "output_type": "stream",
       "stream": "stdout",
       "text": [
        " RelHT_chi2<130.498186108\n",
        "Entries in Signal Sample= 169.0\n",
        "Entries in Control Sample= 1424.0\n",
        "--------------------------------\n",
        "Cut:"
       ]
      },
      {
       "output_type": "stream",
       "stream": "stdout",
       "text": [
        " RelHT_chi2<151.784794783\n",
        "Entries in Signal Sample= 185.0\n",
        "Entries in Control Sample= 1472.0\n",
        "--------------------------------\n",
        "Cut:"
       ]
      },
      {
       "output_type": "stream",
       "stream": "stdout",
       "text": [
        " RelHT_chi2<176.543633398\n",
        "Entries in Signal Sample= 193.0\n",
        "Entries in Control Sample= 1514.0\n",
        "--------------------------------\n",
        "Cut:"
       ]
      },
      {
       "output_type": "stream",
       "stream": "stdout",
       "text": [
        " RelHT_chi2<205.341085303\n",
        "Entries in Signal Sample= 197.0\n",
        "Entries in Control Sample= 1554.0\n",
        "--------------------------------\n",
        "Cut:"
       ]
      },
      {
       "output_type": "stream",
       "stream": "stdout",
       "text": [
        " RelHT_chi2<238.835921194\n",
        "Entries in Signal Sample= 200.0\n",
        "Entries in Control Sample= 1591.0\n",
        "--------------------------------\n",
        "Cut:"
       ]
      },
      {
       "output_type": "stream",
       "stream": "stdout",
       "text": [
        " RelHT_chi2<277.79436915\n",
        "Entries in Signal Sample= 209.0\n",
        "Entries in Control Sample= 1623.0\n",
        "--------------------------------\n",
        "Cut:"
       ]
      },
      {
       "output_type": "stream",
       "stream": "stdout",
       "text": [
        " RelHT_chi2<323.107642879\n",
        "Entries in Signal Sample= 217.0\n",
        "Entries in Control Sample= 1656.0\n",
        "--------------------------------\n",
        "Cut:"
       ]
      },
      {
       "output_type": "stream",
       "stream": "stdout",
       "text": [
        " RelHT_chi2<375.812329119\n",
        "Entries in Signal Sample= 221.0\n",
        "Entries in Control Sample= 1706.0\n",
        "--------------------------------\n",
        "Cut:"
       ]
      },
      {
       "output_type": "stream",
       "stream": "stdout",
       "text": [
        " RelHT_chi2<437.114100613\n",
        "Entries in Signal Sample= 224.0\n",
        "Entries in Control Sample= 1742.0\n",
        "--------------------------------\n",
        "Cut:"
       ]
      },
      {
       "output_type": "stream",
       "stream": "stdout",
       "text": [
        " RelHT_chi2<508.415297078\n",
        "Entries in Signal Sample= 230.0\n",
        "Entries in Control Sample= 1762.0\n",
        "--------------------------------\n",
        "Cut:"
       ]
      },
      {
       "output_type": "stream",
       "stream": "stdout",
       "text": [
        " RelHT_chi2<591.347005142\n",
        "Entries in Signal Sample= 234.0\n",
        "Entries in Control Sample= 1785.0\n",
        "--------------------------------\n",
        "Cut:"
       ]
      },
      {
       "output_type": "stream",
       "stream": "stdout",
       "text": [
        " RelHT_chi2<687.806371091\n",
        "Entries in Signal Sample= 238.0\n",
        "Entries in Control Sample= 1803.0\n",
        "--------------------------------\n",
        "Cut:"
       ]
      },
      {
       "output_type": "stream",
       "stream": "stdout",
       "text": [
        " RelHT_chi2<800.0\n",
        "Entries in Signal Sample= 240.0\n",
        "Entries in Control Sample= 1818.0\n",
        "--------------------------------\n",
        "Cut:"
       ]
      },
      {
       "output_type": "stream",
       "stream": "stdout",
       "text": [
        " MTHAsym_chi2<2.0\n",
        "Entries in Signal Sample= 15.0\n",
        "Entries in Control Sample= 133.0\n",
        "--------------------------------\n",
        "Cut:"
       ]
      },
      {
       "output_type": "stream",
       "stream": "stdout",
       "text": [
        " MTHAsym_chi2<4.0\n",
        "Entries in Signal Sample= 35.0\n",
        "Entries in Control Sample= 306.0\n",
        "--------------------------------\n",
        "Cut:"
       ]
      },
      {
       "output_type": "stream",
       "stream": "stdout",
       "text": [
        " MTHAsym_chi2<6.0\n",
        "Entries in Signal Sample= 50.0\n",
        "Entries in Control Sample= 440.0\n",
        "--------------------------------\n",
        "Cut:"
       ]
      },
      {
       "output_type": "stream",
       "stream": "stdout",
       "text": [
        " MTHAsym_chi2<8.0\n",
        "Entries in Signal Sample= 58.0\n",
        "Entries in Control Sample= 519.0\n",
        "--------------------------------\n",
        "Cut:"
       ]
      },
      {
       "output_type": "stream",
       "stream": "stdout",
       "text": [
        " MTHAsym_chi2<10.0\n",
        "Entries in Signal Sample= 67.0\n",
        "Entries in Control Sample= 606.0\n",
        "--------------------------------\n",
        "Cut:"
       ]
      },
      {
       "output_type": "stream",
       "stream": "stdout",
       "text": [
        " MTHAsym_chi2<11.6311804255\n",
        "Entries in Signal Sample= 76.0\n",
        "Entries in Control Sample= 667.0\n",
        "--------------------------------\n",
        "Cut:"
       ]
      },
      {
       "output_type": "stream",
       "stream": "stdout",
       "text": [
        " MTHAsym_chi2<13.5284358092\n",
        "Entries in Signal Sample= 78.0\n",
        "Entries in Control Sample= 733.0\n",
        "--------------------------------\n",
        "Cut:"
       ]
      },
      {
       "output_type": "stream",
       "stream": "stdout",
       "text": [
        " MTHAsym_chi2<15.7351677772\n",
        "Entries in Signal Sample= 84.0\n",
        "Entries in Control Sample= 786.0\n",
        "--------------------------------\n",
        "Cut:"
       ]
      },
      {
       "output_type": "stream",
       "stream": "stdout",
       "text": [
        " MTHAsym_chi2<18.3018575442\n",
        "Entries in Signal Sample= 86.0\n",
        "Entries in Control Sample= 823.0\n",
        "--------------------------------\n",
        "Cut:"
       ]
      },
      {
       "output_type": "stream",
       "stream": "stdout",
       "text": [
        " MTHAsym_chi2<21.287220722\n",
        "Entries in Signal Sample= 90.0\n",
        "Entries in Control Sample= 868.0\n",
        "--------------------------------\n",
        "Cut:"
       ]
      },
      {
       "output_type": "stream",
       "stream": "stdout",
       "text": [
        " MTHAsym_chi2<24.7595504975\n",
        "Entries in Signal Sample= 100.0\n",
        "Entries in Control Sample= 911.0\n",
        "--------------------------------\n",
        "Cut:"
       ]
      },
      {
       "output_type": "stream",
       "stream": "stdout",
       "text": [
        " MTHAsym_chi2<28.7982799092\n",
        "Entries in Signal Sample= 110.0\n",
        "Entries in Control Sample= 963.0\n",
        "--------------------------------\n",
        "Cut:"
       ]
      },
      {
       "output_type": "stream",
       "stream": "stdout",
       "text": [
        " MTHAsym_chi2<33.495798957\n",
        "Entries in Signal Sample= 113.0\n",
        "Entries in Control Sample= 1000.0\n",
        "--------------------------------\n",
        "Cut:"
       ]
      },
      {
       "output_type": "stream",
       "stream": "stdout",
       "text": [
        " MTHAsym_chi2<38.9595681166\n",
        "Entries in Signal Sample= 118.0\n",
        "Entries in Control Sample= 1052.0\n",
        "--------------------------------\n",
        "Cut:"
       ]
      },
      {
       "output_type": "stream",
       "stream": "stdout",
       "text": [
        " MTHAsym_chi2<45.3145766065\n",
        "Entries in Signal Sample= 122.0\n",
        "Entries in Control Sample= 1101.0\n",
        "--------------------------------\n",
        "Cut:"
       ]
      },
      {
       "output_type": "stream",
       "stream": "stdout",
       "text": [
        " MTHAsym_chi2<52.7062016418\n",
        "Entries in Signal Sample= 130.0\n",
        "Entries in Control Sample= 1153.0\n",
        "--------------------------------\n",
        "Cut:"
       ]
      },
      {
       "output_type": "stream",
       "stream": "stdout",
       "text": [
        " MTHAsym_chi2<61.3035340841\n",
        "Entries in Signal Sample= 141.0\n",
        "Entries in Control Sample= 1193.0\n",
        "--------------------------------\n",
        "Cut:"
       ]
      },
      {
       "output_type": "stream",
       "stream": "stdout",
       "text": [
        " MTHAsym_chi2<71.3032465655\n",
        "Entries in Signal Sample= 148.0\n",
        "Entries in Control Sample= 1226.0\n",
        "--------------------------------\n",
        "Cut:"
       ]
      },
      {
       "output_type": "stream",
       "stream": "stdout",
       "text": [
        " MTHAsym_chi2<82.934092573\n",
        "Entries in Signal Sample= 151.0\n",
        "Entries in Control Sample= 1274.0\n",
        "--------------------------------\n",
        "Cut:"
       ]
      },
      {
       "output_type": "stream",
       "stream": "stdout",
       "text": [
        " MTHAsym_chi2<96.4621394146\n",
        "Entries in Signal Sample= 154.0\n",
        "Entries in Control Sample= 1326.0\n",
        "--------------------------------\n",
        "Cut:"
       ]
      },
      {
       "output_type": "stream",
       "stream": "stdout",
       "text": [
        " MTHAsym_chi2<112.196854776\n",
        "Entries in Signal Sample= 161.0\n",
        "Entries in Control Sample= 1369.0\n",
        "--------------------------------\n",
        "Cut:"
       ]
      },
      {
       "output_type": "stream",
       "stream": "stdout",
       "text": [
        " MTHAsym_chi2<130.498186108\n",
        "Entries in Signal Sample= 169.0\n",
        "Entries in Control Sample= 1424.0\n",
        "--------------------------------\n",
        "Cut:"
       ]
      },
      {
       "output_type": "stream",
       "stream": "stdout",
       "text": [
        " MTHAsym_chi2<151.784794783\n",
        "Entries in Signal Sample= 185.0\n",
        "Entries in Control Sample= 1472.0\n",
        "--------------------------------\n",
        "Cut:"
       ]
      },
      {
       "output_type": "stream",
       "stream": "stdout",
       "text": [
        " MTHAsym_chi2<176.543633398\n",
        "Entries in Signal Sample= 193.0\n",
        "Entries in Control Sample= 1514.0\n",
        "--------------------------------\n",
        "Cut:"
       ]
      },
      {
       "output_type": "stream",
       "stream": "stdout",
       "text": [
        " MTHAsym_chi2<205.341085303\n",
        "Entries in Signal Sample= 197.0\n",
        "Entries in Control Sample= 1554.0\n",
        "--------------------------------\n",
        "Cut:"
       ]
      },
      {
       "output_type": "stream",
       "stream": "stdout",
       "text": [
        " MTHAsym_chi2<238.835921194\n",
        "Entries in Signal Sample= 200.0\n",
        "Entries in Control Sample= 1591.0\n",
        "--------------------------------\n",
        "Cut:"
       ]
      },
      {
       "output_type": "stream",
       "stream": "stdout",
       "text": [
        " MTHAsym_chi2<277.79436915\n",
        "Entries in Signal Sample= 209.0\n",
        "Entries in Control Sample= 1623.0\n",
        "--------------------------------\n",
        "Cut:"
       ]
      },
      {
       "output_type": "stream",
       "stream": "stdout",
       "text": [
        " MTHAsym_chi2<323.107642879\n",
        "Entries in Signal Sample= 217.0\n",
        "Entries in Control Sample= 1656.0\n",
        "--------------------------------\n",
        "Cut:"
       ]
      },
      {
       "output_type": "stream",
       "stream": "stdout",
       "text": [
        " MTHAsym_chi2<375.812329119\n",
        "Entries in Signal Sample= 221.0\n",
        "Entries in Control Sample= 1706.0\n",
        "--------------------------------\n",
        "Cut:"
       ]
      },
      {
       "output_type": "stream",
       "stream": "stdout",
       "text": [
        " MTHAsym_chi2<437.114100613\n",
        "Entries in Signal Sample= 224.0\n",
        "Entries in Control Sample= 1742.0\n",
        "--------------------------------\n",
        "Cut:"
       ]
      },
      {
       "output_type": "stream",
       "stream": "stdout",
       "text": [
        " MTHAsym_chi2<508.415297078\n",
        "Entries in Signal Sample= 230.0\n",
        "Entries in Control Sample= 1762.0\n",
        "--------------------------------\n",
        "Cut:"
       ]
      },
      {
       "output_type": "stream",
       "stream": "stdout",
       "text": [
        " MTHAsym_chi2<591.347005142\n",
        "Entries in Signal Sample= 234.0\n",
        "Entries in Control Sample= 1785.0\n",
        "--------------------------------\n",
        "Cut:"
       ]
      },
      {
       "output_type": "stream",
       "stream": "stdout",
       "text": [
        " MTHAsym_chi2<687.806371091\n",
        "Entries in Signal Sample= 238.0\n",
        "Entries in Control Sample= 1803.0\n",
        "--------------------------------\n",
        "Cut:"
       ]
      },
      {
       "output_type": "stream",
       "stream": "stdout",
       "text": [
        " MTHAsym_chi2<800.0\n",
        "Entries in Signal Sample= 240.0\n",
        "Entries in Control Sample= 1818.0\n",
        "--------------------------------\n"
       ]
      }
     ],
     "prompt_number": 10
    },
    {
     "cell_type": "code",
     "collapsed": false,
     "input": [
      "for i in xrange(len(Titles)):\n",
      "    fig, ax = plt.subplots()\n",
      "    ax.plot(Chi2Cut[1], Chi2ResultsPerCut[i], 'kv', markersize=10.0)\n",
      "    ax.set_xlabel(\"$\\chi^{2}$\")\n",
      "    ax.set_ylabel(\"$\\chi^{2}/ndf$\")\n",
      "    ax.xaxis.label.set_fontsize(18)\n",
      "    ax.yaxis.label.set_fontsize(18)\n",
      "    ax.semilogx()\n",
      "    ax.set_xlim(left=Chi2Cut[1][0]*0.75,right=Chi2Cut[1][-1]*1.05)\n",
      "    #ax.set_ylim(bottom=min(Chi2ResultsPerCut[i])*0.8,top=max(Chi2ResultsPerCut[i])*1.1)\n",
      "    ax.set_ylim(bottom=0.0,top=max(Chi2ResultsPerCut[i])*1.1)\n",
      "    fig.savefig(\"Arrays_V8V9V10/Chi2_opt_at_\"+Titles[i]+\"_OneCombination_Scan2To800Step10_LOGSpacing_Revision.pdf\")\n",
      "    fig.savefig(\"Arrays_V8V9V10/Chi2_opt_at_\"+Titles[i]+\"_OneCombination_Scan2To800Step10_LOGSpacing_Revision.png\")\n",
      "    del(fig); del(ax)\n",
      "    #plt.show()\n",
      "for i in xrange(len(Titles)):\n",
      "    fig, ax = plt.subplots()\n",
      "    ax.plot(Chi2Cut[1], PvalueResultsPerCut[i], 'kv', markersize=10.0)\n",
      "    ax.set_xlabel(\"$\\chi^{2}$\")\n",
      "    ax.set_ylabel(\"p-value\")\n",
      "    ax.xaxis.label.set_fontsize(18)\n",
      "    ax.yaxis.label.set_fontsize(18)\n",
      "    ax.set_yscale('log')\n",
      "    ax.set_xlim(left=Chi2Cut[1][0]*0.95,right=Chi2Cut[1][-1]*1.05)\n",
      "    ax.set_ylim(bottom=min(PvalueResultsPerCut[i])*0.9,top=max(PvalueResultsPerCut[i])*1.1)\n",
      "    fig.savefig(\"Arrays_V8V9V10/Pvalue_opt_at_\"+Titles[i]+\"_OneCombination_Scan2To800Step10_Revision.pdf\")\n",
      "    del(fig); del(ax)\n",
      "plt.close('all')"
     ],
     "language": "python",
     "metadata": {},
     "outputs": [],
     "prompt_number": 11
    },
    {
     "cell_type": "code",
     "collapsed": false,
     "input": [
      "print Chi2Cut[1]\n",
      "print Chi2ResultsPerCut\n",
      "print PvalueResultsPerCut"
     ],
     "language": "python",
     "metadata": {},
     "outputs": [
      {
       "output_type": "stream",
       "stream": "stdout",
       "text": [
        "[  2.   4.   6.   8.  10.  12.  14.  16.  18.  20.  22.  24.  26.  28.  30.]\n",
        "[[1.172035533483537, 1.6147114116278665, 1.8169593314920425, 2.1191288336867853, 2.4933644764089453, 2.5404930309375797, 2.6267856925254622, 2.9424513240163273, 2.6626347887929227, 2.4282824812148722, 2.55872135945617, 2.681408757412258, 2.523860611259462, 2.3900781669012363, 2.7318350679096057], [1.396430709231066, 1.2494170177310777, 1.431490341258288, 1.6092738319665834, 1.817062299249718, 1.8846083283036397, 1.7439323697737223, 1.8136007939133307, 1.7418110139245295, 1.5505678830958782, 1.770882703119973, 1.8814493317643084, 1.8900251895811782, 1.7103095453524926, 1.763054712591134], [1.3196399731700656, 1.1331617112818833, 1.3149070510295364, 1.4119574113149478, 1.5688361067126257, 1.6766615376963405, 1.4976039994098045, 1.4471926123832848, 1.3295516977438013, 1.2617413472250196, 1.5796767976015116, 1.6893402660948211, 1.7478595067399822, 1.6790154245755917, 1.7030811351596262], [1.3196399731700656, 1.0685416528832374, 1.216696558130849, 1.251938790021733, 1.2001678746649986, 1.2434750723581915, 1.095913354432475, 1.0170876295765032, 0.9858581039753196, 0.9135712566430954, 0.9818649325785633, 1.0159429892172211, 1.09940284911368, 1.212808012326149, 1.3135526304861467], [1.1866391345509772, 1.2652879979479346, 1.4154085938945369, 1.400747537365424, 1.535048053906524, 1.4121516147879074, 1.2768128559734693, 1.2086883595451625, 1.1686280108855116, 1.2807033096881162, 1.4489185813429135, 1.4652875577000604, 1.5253114115124058, 1.5624501905718147, 1.7057560875741888], [0.7901329362309398, 0.6151232748740989, 0.5960553107371069, 0.685919665257373, 0.8590574107056205, 0.8717563620103108, 0.783338636653402, 0.8051752541820171, 0.7613321579468473, 0.7671628577941978, 0.8328461197837326, 0.6596756512710141, 0.6539825871158771, 0.6389181498343364, 0.6921903554989867], [0.6849128219663934, 0.6963439272338534, 0.6802428074109174, 0.9117089768270378, 0.9857338436194139, 1.0150790087170305, 0.9628466805371226, 0.936774783389716, 0.920521350843395, 0.9583017728716432, 0.9950852659323672, 0.7764946376011088, 0.8562033604866042, 0.8793321474251374, 0.8913048383984248], [0.6849128219663934, 0.6963439272338534, 0.6802428074109174, 0.9117089768270378, 0.9857338436194139, 1.0150790087170305, 0.9628466805371226, 0.936774783389716, 0.920521350843395, 0.9583017728716432, 0.9950852659323672, 0.7764946376011088, 0.8562033604866042, 0.8793321474251374, 0.8913048383984248]]\n",
        "[[0.2396619214661224, 0.019386200733221354, 0.004559554276568816, 0.00040577128953037025, 1.4561967664155382e-05, 9.375237012514183e-06, 4.141048008111604e-06, 1.8711815720235756e-07, 2.9373917376706744e-06, 2.6556483131046967e-05, 7.898046325518669e-06, 2.4516795054504875e-06, 1.0956857994417611e-05, 3.763506858946231e-05, 1.5042667069645212e-06], [0.0761407411880182, 0.16687224273862492, 0.062067860161656135, 0.02011070315938496, 0.004556020911505611, 0.00271874722698022, 0.007827199788612299, 0.004676224093213558, 0.007948744174156808, 0.029645466170044033, 0.006426339721728517, 0.002786130921651808, 0.0026067765165802043, 0.009972724650895085, 0.006807034354944938], [0.11645808508385327, 0.2833526936347261, 0.11942223750526222, 0.06960643996861443, 0.026315537221953192, 0.01265385857071867, 0.041522663406278776, 0.056525320081955384, 0.11044184516400418, 0.1569907806284525, 0.024502153896857802, 0.0115739672278774, 0.00760674182460543, 0.012446614119703018, 0.010499994168114814], [0.11645808508385327, 0.3660040341911728, 0.1953588133906271, 0.16481311887135947, 0.21101885385644628, 0.17180040468998234, 0.32954614548186467, 0.43949254732169907, 0.4865684546757094, 0.5990079764488382, 0.49268702068444536, 0.44119002435106136, 0.3250464212273697, 0.19896557579656943, 0.12028149852751814], [0.22447971100024347, 0.15423128826581967, 0.06822048470611106, 0.07427409277672972, 0.032765122605183314, 0.06952782020100187, 0.14552024844451125, 0.20283858194968749, 0.24330177006007347, 0.14266706860020387, 0.055942940385052965, 0.050672592112010424, 0.03486837423782898, 0.02743933478280579, 0.010301939530446839], [0.7755312337631772, 0.947495560601, 0.9575573748660072, 0.8962626314986275, 0.6827715001272407, 0.6635909455815843, 0.7893403317308688, 0.7602836236323881, 0.8169190589185412, 0.8097894179905074, 0.7213751022134527, 0.9178930502757392, 0.9221696125001543, 0.9327794466752042, 0.8906269788684641], [0.8925681627999842, 0.8867951092033673, 0.9012092183783258, 0.6019141075713632, 0.4867585637009919, 0.4424728507205065, 0.5220568525988665, 0.5627240233342519, 0.5881502445228793, 0.529121011808234, 0.47250743320546007, 0.7981097581193379, 0.6870436817041339, 0.6520299673549013, 0.6336107481110272], [0.8925681627999842, 0.8867951092033673, 0.9012092183783258, 0.6019141075713632, 0.4867585637009919, 0.4424728507205065, 0.5220568525988665, 0.5627240233342519, 0.5881502445228793, 0.529121011808234, 0.47250743320546007, 0.7981097581193379, 0.6870436817041339, 0.6520299673549013, 0.6336107481110272]]\n"
       ]
      }
     ],
     "prompt_number": 6
    },
    {
     "cell_type": "heading",
     "level": 3,
     "metadata": {},
     "source": [
      "Calculating yields from MC after chi2 optimization"
     ]
    },
    {
     "cell_type": "code",
     "collapsed": false,
     "input": [
      "Cut1=ROOT.TCut(\"chi2<8\")\n",
      "CutFCLs=CutHT*Cut1*CutDRbb*CutDRWH*CutHM*CutM2HP*CutDRTp6thJ*CutRelHT\n",
      "SF=ROOT.TCut(\"weight\")\n",
      "PU=ROOT.TCut(\"PUR_function(NTI)\")\n",
      "CMC=SF*PU\n",
      "\n",
      "Masses=[600,650,700,750,800,850,900,950,1000]\n",
      "FitWindows=[100,100,150,150,150,150,150,150,150]\n",
      "MassPointsFit=[]; MassPointsSigmas=[]\n",
      "MassPointsChi2i2=[]; MassPointsNDF=[]\n",
      "MassPointsIntSignal=[]; MassPointsTTbar=[]; MassPointsQCD=[]; MassPointsE=[]; MassPointsO=[]\n",
      "MassPointsFullIntSignal=[]\n",
      "SignalH=[]\n",
      "\n",
      "M=[600.70,647.07,693.44,739.81,786.18,832.55,878.92,925.29,971.67]\n",
      "W=[34.21,36.77,39.33,41.89,44.46,47.02,49.58,52.14,54.70]\n",
      "NSigmas=1.0\n",
      "W=NSigmas*np.array(W)\n",
      "\n",
      "BinsLimits=\"(40,400,1600)\"\n",
      "\n",
      "BKGmTTbar = ROOT.TFile(\"Final_Measurement.root\", \"recreate\")\n",
      "\n",
      "counter=0\n",
      "for i in xrange(len(Masses)):\n",
      "    print \"---------------------------------------------\"\n",
      "    NMassPointsA[i].Draw(\"M5J >> M5jS\"+str(Masses[i])+\"_CutF\"+BinsLimits,CutFCLs*CMC)\n",
      "    M5JHS=ROOT.gDirectory.Get(\"M5jS\"+str(Masses[i])+\"_CutF\")\n",
      "    M5JHS.Sumw2(); M5JHS.Scale(NWeights[i]); M5JHS.Write()\n",
      "    SignalH.append(M5JHS)\n",
      "    \n",
      "    #f1=ROOT.TF1(\"f1\",\"gaus\",Masses[i]-FitWindows[i],Masses[i]+FitWindows[i])\n",
      "    #M5JHS.Fit(\"f1\",\"LMR\",\"same\")\n",
      "    #MassPoint=f1.GetParameter(1); win=f1.GetParameter(2)\n",
      "    #MassPointE=f1.GetParError(1); winE=f1.GetParError(2)\n",
      "    #Chi2=f1.GetChisquare(); NDF=f1.GetNDF()\n",
      "    window_error=ROOT.Double(0.)\n",
      "    #integral=M5JHS.IntegralAndError(M5JHS.GetXaxis().FindBin(MassPoint-win),M5JHS.GetXaxis().FindBin(MassPoint+win),window_error)\n",
      "    integral=M5JHS.IntegralAndError(M5JHS.GetXaxis().FindBin(M[i]-W[i]),M5JHS.GetXaxis().FindBin(M[i]+W[i]),window_error)\n",
      "    print \"M=\"+str(Masses[i])+\" GeV ------> {0:.2f}+-{1:.2f}\".format(integral,window_error)\n",
      "    print \"Entries=\", M5JHS.GetEntries(), \"TotalInt=\", M5JHS.Integral()\n",
      "    #print \"Mean value: {0:.2f}+-{1:.2f}, with sigma: {2:.2f}+-{3:.2f}\".format(MassPoint,MassPointE,win,winE)\n",
      "    #print \"Chi2={0:.2f}, ndf={1:.2f}, Chi2/ndf={2:.2f}\".format(Chi2, NDF, Chi2/NDF)\n",
      "    MassPointsIntSignal.append(integral)#; MassPointsFit.append(MassPoint); MassPointsSigmas.append(win); MassPointsChi2.append(Chi2); MassPointsNDF.append(NDF)\n",
      "    MassPointsFullIntSignal.append(M5JHS.Integral())\n",
      "    \n",
      "TntupleA.Draw(\"M5J >> M5jT_CutFCLs\"+str(i)+BinsLimits,CutFCLs*CMC)\n",
      "M5JHT=ROOT.gDirectory.Get(\"M5jT_CutFCLs\"+str(i))\n",
      "M5JHT.Sumw2(); M5JHT.Scale(TWeight); M5JHT.Write()\n",
      "\n",
      "TTbarYields=[]\n",
      "for i in xrange(len(Masses)):\n",
      "    #bkg_integral=M5JHT.IntegralAndError(M5JHT.GetXaxis().FindBin(MassPointsFit[i]-MassPointsSigmas[i]),M5JHT.GetXaxis().FindBin(MassPointsFit[i]+MassPointsSigmas[i]),window_error)\n",
      "    bkg_integral=M5JHT.IntegralAndError(M5JHT.GetXaxis().FindBin(M[i]-W[i]),M5JHT.GetXaxis().FindBin(M[i]+W[i]),window_error)\n",
      "    TTbarYields.append(bkg_integral)\n",
      "    print \"TTbar at \"+str(Masses[i])+\" ------> {0:.2f}+-{1:.2f}\".format(bkg_integral,window_error)\n",
      "    MassPointsTTbar.append(bkg_integral)\n",
      "\n",
      "QntuplesA[0].Draw(\"M5J >> M5jQ_CutFCLs\"+str(i)+BinsLimits,CutFCLs*CMC)\n",
      "M5JHQ=ROOT.gDirectory.Get(\"M5jQ_CutFCLs\"+str(i))\n",
      "M5JHQ.Sumw2(); M5JHQ.Scale(QWeights[0]); M5JHQ.Write()\n",
      "for i in xrange(len(Masses)):\n",
      "    #bkg_integral=M5JHQ.IntegralAndError(M5JHQ.GetXaxis().FindBin(MassPointsFit[i]-MassPointsSigmas[i]),M5JHQ.GetXaxis().FindBin(MassPointsFit[i]+MassPointsSigmas[i]),window_error)\n",
      "    bkg_integral=M5JHQ.IntegralAndError(M5JHQ.GetXaxis().FindBin(M[i]-W[i]),M5JHQ.GetXaxis().FindBin(M[i]+W[i]),window_error)\n",
      "    MassPointsQCD.append(bkg_integral)\n",
      "    print \"QCD at \"+str(Masses[i])+\" ------> {0:.2f}+-{1:.2f}\".format(bkg_integral,window_error)\n",
      "    \n",
      "DataE[0].Draw(\"M5J >> M5jE_CutFCLs\"+str(i)+BinsLimits,CutFCLs)\n",
      "M5JE=ROOT.gDirectory.Get(\"M5jE_CutFCLs\"+str(i))\n",
      "DataA[0].Draw(\"M5J >> M5jO_CutFCLs\"+str(i)+BinsLimits,CutFCLs)\n",
      "M5JO=ROOT.gDirectory.Get(\"M5jO_CutFCLs\"+str(i))\n",
      "\n",
      "#Rescaling to integral\n",
      "#M5JE.Sumw2(); M5JE.Scale(M5JO.Integral()/M5JE.Integral()); M5JE.Write(); M5JO.Write()\n",
      "#Rescaling to normalization with side-band method\n",
      "#M5JE.Sumw2(); M5JE.Scale(49.98/M5JE.Integral()); M5JE.Write(); M5JO.Write()\n",
      "M5JE.Sumw2(); M5JE.Scale(52.96/M5JE.Integral()); M5JE.Write(); M5JO.Write()\n",
      "\n",
      "for i in xrange(len(Masses)):\n",
      "    #bkg_integral=M5JE.IntegralAndError(M5JE.GetXaxis().FindBin(MassPointsFit[i]-MassPointsSigmas[i]),M5JE.GetXaxis().FindBin(MassPointsFit[i]+MassPointsSigmas[i]),window_error)\n",
      "    bkg_integral=M5JE.IntegralAndError(M5JE.GetXaxis().FindBin(M[i]-W[i]),M5JE.GetXaxis().FindBin(M[i]+W[i]),window_error)\n",
      "    MassPointsE.append(bkg_integral)\n",
      "    print \"Estimation at \"+str(Masses[i])+\" ------> {0:.2f}+-{1:.2f}; TTbar content: {2:.2f}\".format(bkg_integral,window_error,TTbarYields[i]*100/bkg_integral)\n",
      "for i in xrange(len(Masses)):\n",
      "    #bkg_integral=M5JO.IntegralAndError(M5JO.GetXaxis().FindBin(MassPointsFit[i]-MassPointsSigmas[i]),M5JO.GetXaxis().FindBin(MassPointsFit[i]+MassPointsSigmas[i]),window_error)\n",
      "    bkg_integral=M5JO.IntegralAndError(M5JO.GetXaxis().FindBin(M[i]-W[i]),M5JO.GetXaxis().FindBin(M[i]+W[i]),window_error)\n",
      "    MassPointsO.append(bkg_integral)\n",
      "    print \"Observed at \"+str(Masses[i])+\" ------> {0:.2f}+-{1:.2f}\".format(bkg_integral,window_error)\n",
      "\n",
      "TotalObsEvts=M5JO.Integral()\n",
      "print \"From {0:.2f} total observed events\".format(TotalObsEvts)\n",
      "for i in xrange(len(MassPointsIntSignal)):\n",
      "    print \"Contamination from \"+str(Masses[i])+\" ------> {0:.2f}\".format(MassPointsFullIntSignal[i]/TotalObsEvts)\n",
      "\n",
      "Subs1=M5JE.Clone(\"M5jE_CutFCLs_TTbarSubs\")\n",
      "Subs2=M5JO.Clone(\"M5jO_CutFCLs_BKGSubs\")\n",
      "Subs1.Add(M5JHT,-1)\n",
      "Subs2.Add(M5JE,-1)\n",
      "Sig1Add=M5JO.Clone(\"M5jO_CutFCLs_Sig650Add\")\n",
      "Sig1Add.Add(SignalH[1],1)\n",
      "Sig2Add=M5JO.Clone(\"M5jO_CutFCLs_Sig850Add\")\n",
      "Sig2Add.Add(SignalH[5],1)\n",
      "Subs1.Write(); Subs2.Write()\n",
      "Sig1Add.Write(); Sig2Add.Write()\n",
      "\n",
      "PDFNameScan=\"Final_Plot_Revision.pdf\"\n",
      "CurCanv = rootnotes.canvas(\"MyPlot\", (600, 800))\n",
      "Subs2.SetLineStyle(1); SignalH[1].SetLineStyle(9); SignalH[5].SetLineStyle(2)\n",
      "Subs2.SetLineWidth(1); SignalH[1].SetLineWidth(2); SignalH[5].SetLineWidth(3)\n",
      "Subs2.SetLineColor(ROOT.kBlack); SignalH[1].SetLineColor(ROOT.kRed); SignalH[5].SetLineColor(ROOT.kGreen+2)\n",
      "Subs2.SetMarkerStyle(20)\n",
      "LEG=ROOT.TLegend(0.6,0.78,0.9,0.9)\n",
      "LEG.AddEntry(Subs2, \"Data-BKG\", \"pe\"); LEG.AddEntry(SignalH[1], \"Signal M=650 GeV/c^{2}\", \"l\"); LEG.AddEntry(SignalH[5], \"Signal M=850 GeV/c^{2}\", \"l\")\n",
      "LEG.SetFillColor(0)\n",
      "Subs2.SetStats(ROOT.kFALSE)\n",
      "MinX=float(BinsLimits.split(\",\")[1])\n",
      "MaxX=float(BinsLimits.split(\",\")[-1][0:-1])\n",
      "Nbins=int(BinsLimits.split(\",\")[0][1:])\n",
      "Subs2.SetTitle(\";M_{{5j}};Events/{0:.1f} GeV/c^{{2}}\".format((MaxX-MinX)/Nbins))\n",
      "Subs2.GetYaxis().SetTitleOffset(1.5)\n",
      "Subs2.GetXaxis().SetRangeUser(550,1100)\n",
      "Subs2.Draw(\"E0X0\"); SignalH[1].Draw(\"hist same\"); SignalH[5].Draw(\"hist same\"); LEG.Draw()\n",
      "CurCanv.Print(PDFNameScan+\"(\",\"Title: Final Plot Subs\")\n",
      "\n",
      "M5JO.SetLineStyle(1); Sig1Add.SetLineStyle(9); Sig2Add.SetLineStyle(2); M5JE.SetLineStyle(1)\n",
      "M5JO.SetLineWidth(1); Sig1Add.SetLineWidth(2); Sig2Add.SetLineWidth(3); M5JE.SetLineWidth(4)\n",
      "M5JO.SetLineColor(ROOT.kBlack); Sig1Add.SetLineColor(ROOT.kRed); Sig2Add.SetLineColor(ROOT.kGreen+2); M5JE.SetLineColor(ROOT.kGray)\n",
      "M5JO.SetMarkerStyle(20)\n",
      "LEG1=ROOT.TLegend(0.6,0.68,0.9,0.9)\n",
      "LEG1.AddEntry(Subs2, \"Data\", \"pe\"); LEG1.AddEntry(M5JE, \"BKG\", \"l\")\n",
      "LEG1.AddEntry(SignalH[1], \"Signal M=650 GeV/c^{2}\", \"l\"); LEG1.AddEntry(SignalH[5], \"Signal M=850 GeV/c^{2}\", \"l\")\n",
      "LEG1.SetFillColor(0)\n",
      "M5JO.SetStats(ROOT.kFALSE)\n",
      "MinX=float(BinsLimits.split(\",\")[1])\n",
      "MaxX=float(BinsLimits.split(\",\")[-1][0:-1])\n",
      "Nbins=int(BinsLimits.split(\",\")[0][1:])\n",
      "M5JO.SetTitle(\";M_{{5j}};Events/{0:.1f} GeV/c^{{2}}\".format((MaxX-MinX)/Nbins))\n",
      "M5JO.GetYaxis().SetTitleOffset(1.5)\n",
      "M5JO.GetXaxis().SetRangeUser(550,1100)\n",
      "M5JO.Draw(\"E0X0\"); M5JE.Draw(\"hist same\")\n",
      "SignalH[1].Draw(\"hist same\"); SignalH[5].Draw(\"hist same\"); LEG1.Draw()\n",
      "CurCanv.Print(PDFNameScan+\")\",\"Title: Final Plot Signal Added\")\n",
      "\n",
      "BKGmTTbar.Close()"
     ],
     "language": "python",
     "metadata": {},
     "outputs": [
      {
       "output_type": "stream",
       "stream": "stdout",
       "text": [
        "---------------------------------------------\n",
        "M=600 GeV ------> 4.39+-0.35\n",
        "Entries= 216.0 TotalInt= 5.36842433549\n",
        "---------------------------------------------\n",
        "M=650 GeV ------> 6.64+-0.38\n",
        "Entries= 424.0 TotalInt= 8.33521388657\n",
        "---------------------------------------------\n",
        "M=700 GeV ------> 7.84+-0.37\n",
        "Entries= 573.0 TotalInt= 9.18459960457\n",
        "---------------------------------------------\n",
        "M=750 GeV ------> 7.24+-0.32"
       ]
      },
      {
       "output_type": "stream",
       "stream": "stdout",
       "text": [
        "\n",
        "Entries= 666.0 TotalInt= 8.89407219552\n",
        "---------------------------------------------\n",
        "M=800 GeV ------> 6.06+-0.28\n",
        "Entries= 674.0 TotalInt= 7.65108009893\n",
        "---------------------------------------------\n",
        "M=850 GeV ------> 5.65+-0.24\n",
        "Entries= 764.0 TotalInt= 7.30505380733\n",
        "---------------------------------------------\n",
        "M=900 GeV ------> 4.78+-0.21\n",
        "Entries= 743.0 TotalInt= 6.10981841758\n",
        "---------------------------------------------\n",
        "M=950 GeV ------> 3.80+-0.17"
       ]
      },
      {
       "output_type": "stream",
       "stream": "stdout",
       "text": [
        "\n",
        "Entries= 633.0 TotalInt= 4.57085443265\n",
        "---------------------------------------------\n",
        "M=1000 GeV ------> 2.28+-0.12\n",
        "Entries= 530.0 TotalInt= 3.25304977185\n",
        "TTbar at 600 ------> 4.27+-0.58"
       ]
      },
      {
       "output_type": "stream",
       "stream": "stdout",
       "text": [
        "\n",
        "TTbar at 650 ------> 5.22+-0.64\n",
        "TTbar at 700 ------> 7.13+-0.75\n",
        "TTbar at 750 ------> 7.72+-0.78\n",
        "TTbar at 800 ------> 6.19+-0.70\n",
        "TTbar at 850 ------> 5.04+-0.63\n",
        "TTbar at 900 ------> 3.02+-0.49\n",
        "TTbar at 950 ------> 2.10+-0.41\n",
        "TTbar at 1000 ------> 1.19+-0.31\n",
        "QCD at 600 ------> 0.00+-0.00\n",
        "QCD at 650 ------> 0.00+-0.00\n",
        "QCD at 700 ------> 0.00+-0.00\n",
        "QCD at 750 ------> 0.00+-0.00\n",
        "QCD at 800 ------> 0.00+-0.00\n",
        "QCD at 850 ------> 0.00+-0.00\n",
        "QCD at 900 ------> 0.00+-0.00\n",
        "QCD at 950 ------> 0.00+-0.00\n",
        "QCD at 1000 ------> 0.00+-0.00\n",
        "Estimation at 600 ------> 11.31+-1.08; TTbar content: 37.78"
       ]
      },
      {
       "output_type": "stream",
       "stream": "stdout",
       "text": [
        "\n",
        "Estimation at 650 ------> 11.83+-1.10; TTbar content: 44.14\n",
        "Estimation at 700 ------> 13.06+-1.16; TTbar content: 54.59\n",
        "Estimation at 750 ------> 12.24+-1.12; TTbar content: 63.07\n",
        "Estimation at 800 ------> 8.54+-0.94; TTbar content: 72.51\n",
        "Estimation at 850 ------> 9.36+-0.98; TTbar content: 53.84\n",
        "Estimation at 900 ------> 7.30+-0.87; TTbar content: 41.42\n",
        "Estimation at 950 ------> 8.43+-0.93; TTbar content: 24.86\n",
        "Estimation at 1000 ------> 5.24+-0.73; TTbar content: 22.73\n",
        "Observed at 600 ------> 15.00+-3.87\n",
        "Observed at 650 ------> 15.00+-3.87\n",
        "Observed at 700 ------> 22.00+-4.69\n",
        "Observed at 750 ------> 17.00+-4.12\n",
        "Observed at 800 ------> 6.00+-2.45\n",
        "Observed at 850 ------> 4.00+-2.00\n",
        "Observed at 900 ------> 8.00+-2.83\n",
        "Observed at 950 ------> 9.00+-3.00\n",
        "Observed at 1000 ------> 7.00+-2.65\n",
        "From 57.00 total observed events\n",
        "Contamination from 600 ------> 0.09\n",
        "Contamination from 650 ------> 0.15\n",
        "Contamination from 700 ------> 0.16\n",
        "Contamination from 750 ------> 0.16\n",
        "Contamination from 800 ------> 0.13\n",
        "Contamination from 850 ------> 0.13\n",
        "Contamination from 900 ------> 0.11\n",
        "Contamination from 950 ------> 0.08\n",
        "Contamination from 1000 ------> 0.06\n"
       ]
      }
     ],
     "prompt_number": 10
    },
    {
     "cell_type": "code",
     "collapsed": false,
     "input": [
      "CutsFromOpt=[ROOT.TCut(\"\"),Cut1,CutDRbb,CutDRWH,CutM2HP,CutDRTp6thJ,CutHM,CutRelHT,CutMTHAsym]\n",
      "#OptVersion=\"_22_opt_with_optchi2\"\n",
      "OptVersion=\"_optchi2_Chi2l8_Cut_6p8_4p8_0p6\"\n",
      "\n",
      "CumulCut=ROOT.TCut(\"\")*CutHT\n",
      "\n",
      "VarToExt=\"M5J\"\n",
      "\n",
      "Nm1 = ROOT.TFile(VarToExt+\"_Nminus1\"+OptVersion+\".root\", \"recreate\")\n",
      "\n",
      "SignalEntriesE=[]; TTbarEntriesE=[]; QCDEntriesE=[]\n",
      "\n",
      "PDFName=VarToExt+\"_Nminus1\"+OptVersion+\".pdf\"\n",
      "CurCanv = rootnotes.canvas(\"MyPlot\", (600, 800))\n",
      "Titles=[\"Base\",\"chi2\", \"DRbb\", \"DRWH\", \"M2HP\", \"DRTp6thJ\", \"HiggsMass\", \"RelHT\", \"MTHAsym\"]\n",
      "\n",
      "BinsLimits=\"(120,400,1600)\" #M5J\n",
      "#BinsLimits=\"(100,0,1000)\" #chi2\n",
      "\n",
      "for i in xrange(len(CutsFromOpt)):\n",
      "    CumulCut=CumulCut*CutsFromOpt[i]\n",
      "    \n",
      "    NMassPointsA[2].Draw(VarToExt+\" >> M5jS_Cut\"+str(i)+BinsLimits,CumulCut)\n",
      "    M5JHS=ROOT.gDirectory.Get(\"M5jS_Cut\"+str(i))\n",
      "    M5JHS.Sumw2(); M5JHS.Scale(NWeights[2]); M5JHS.Write()\n",
      "    \n",
      "    TntupleA.Draw(VarToExt+\" >> M5jT_Cut\"+str(i)+BinsLimits,CumulCut)\n",
      "    M5JHT=ROOT.gDirectory.Get(\"M5jT_Cut\"+str(i))\n",
      "    M5JHT.Sumw2(); M5JHT.Scale(TWeight); M5JHT.Write()\n",
      "    \n",
      "    QntuplesA[0].Draw(VarToExt+\" >> M5jQ_Cut\"+str(i)+BinsLimits,CumulCut)\n",
      "    M5JHQ=ROOT.gDirectory.Get(\"M5jQ_Cut\"+str(i))\n",
      "    M5JHQ.Sumw2(); M5JHQ.Scale(QWeights[0]); M5JHQ.Write()\n",
      "        \n",
      "    M5JHQ.SetStats(ROOT.kFALSE)\n",
      "    M5JHQ.SetLineStyle(7); M5JHT.SetLineStyle(9); M5JHS.SetLineStyle(1)\n",
      "    M5JHQ.SetLineWidth(2); M5JHT.SetLineWidth(1); M5JHS.SetLineWidth(3)\n",
      "    M5JHQ.SetLineColor(ROOT.kViolet+1); M5JHT.SetLineColor(ROOT.kRed); M5JHS.SetLineColor(ROOT.kGreen+1)\n",
      "    LEG=ROOT.TLegend(0.6,0.6,0.8,0.8)\n",
      "    LEG.AddEntry(M5JHQ, \"QCD\", \"l\"); LEG.AddEntry(M5JHT, \"TTbar\", \"l\"); LEG.AddEntry(M5JHS, \"Signal\", \"l\")\n",
      "    LEG.SetFillColor(0)\n",
      "    Maxima=[M5JHQ.GetMaximum(),M5JHT.GetMaximum(),M5JHS.GetMaximum()]\n",
      "    M5JHQ.SetMaximum(max(Maxima))\n",
      "    M5JHQ.Draw(\"hist\"); M5JHT.Draw(\"hist same\"); M5JHS.Draw(\"hist same\"); LEG.Draw()\n",
      "    \n",
      "    if i==0: CurCanv.Print(PDFName+\"(\",\"Title:\"+Titles[i])\n",
      "    elif i<=len(CutsFromOpt)-2 and i>0: CurCanv.Print(PDFName,\"Title:\"+Titles[i])\n",
      "    else: CurCanv.Print(PDFName+\")\",\"Title:\"+Titles[i])\n",
      "    \n",
      "    SignalEntriesE.append(M5JHS.GetEntries()); TTbarEntriesE.append(M5JHT.GetEntries()); QCDEntriesE.append(M5JHQ.GetEntries())\n",
      "\n",
      "Nm1.Close()\n",
      "\n",
      "print \"--------------------------------------------------\"\n",
      "print \"------------------Efficiencies--------------------\"\n",
      "print \"--------Signal------TTbar-------QCD---------------\"\n",
      "    \n",
      "for i in xrange(len(TTbarEntriesE)-1):\n",
      "    print \"Cut\"+str(i+1)+\":    {0:.2f}      {1:.2f}      {2:.2f}\".format(100*EffV(SignalEntriesE[i+1],SignalEntriesE[i]),\n",
      "                                           100*EffV(TTbarEntriesE[i+1],TTbarEntriesE[i]),\n",
      "                                           100*EffV(QCDEntriesE[i+1],QCDEntriesE[i]))"
     ],
     "language": "python",
     "metadata": {},
     "outputs": [
      {
       "output_type": "stream",
       "stream": "stdout",
       "text": [
        "--------------------------------------------------\n",
        "------------------Efficiencies--------------------\n",
        "--------Signal------TTbar-------QCD---------------\n",
        "Cut1:    48.36      33.23      9.53\n",
        "Cut2:    91.15      40.45      37.07\n",
        "Cut3:    98.35      89.48      81.54\n",
        "Cut4:    63.30      28.17      51.57\n",
        "Cut5:    56.04      12.01      8.54\n",
        "Cut6:    89.15      74.06      71.43\n",
        "Cut7:    89.24      59.91      0.00\n",
        "Cut8:    100.00      100.00      0.00\n"
       ]
      }
     ],
     "prompt_number": 8
    },
    {
     "cell_type": "code",
     "collapsed": false,
     "input": [
      "CutsFromOpt=[ROOT.TCut(\"\"),Cut1,CutDRbb,CutDRWH,CutM2HP,CutDRTp6thJ,CutHM,CutRelHT,CutMTHAsym]\n",
      "#OptVersion=\"_22_opt_with_optchi2\"\n",
      "OptVersion=\"_optchi2_chi2g8_Cut_6p8_4p9_0p67\"\n",
      "\n",
      "CumulCut=ROOT.TCut(\"\")*CutHT\n",
      "\n",
      "Nm1 = ROOT.TFile(\"Nminus1\"+OptVersion+\".root\", \"recreate\")\n",
      "\n",
      "VarToExt=\"M5J\"\n",
      "\n",
      "PDFName=VarToExt+\"_Nminus1\"+OptVersion+\".pdf\"\n",
      "CurCanv = rootnotes.canvas(\"MyPlot\", (600, 800))\n",
      "Titles=[\"Base\",\"chi2\", \"DRbb\", \"DRWH\", \"M2HP\", \"DRTp6thJ\", \"HiggsMass\", \"RelHT\", \"MTHAsym\"]\n",
      "\n",
      "BinsLimits=\"(120,400,1600)\" #M5J\n",
      "#BinsLimits=\"(100,0,1000)\" #chi2\n",
      "\n",
      "for i in xrange(len(CutsFromOpt)):\n",
      "    CumulCut=CumulCut*CutsFromOpt[i]\n",
      "    \n",
      "    NMassPointsA[2].Draw(VarToExt+\" >> M5jS_Cut\"+str(i)+BinsLimits,CumulCut)\n",
      "    M5JHS=ROOT.gDirectory.Get(\"M5jS_Cut\"+str(i))\n",
      "    M5JHS.Sumw2(); M5JHS.Scale(NWeights[2]); M5JHS.Write()\n",
      "    \n",
      "    TntupleA.Draw(VarToExt+\" >> M5jT_Cut\"+str(i)+BinsLimits,CumulCut)\n",
      "    M5JHT=ROOT.gDirectory.Get(\"M5jT_Cut\"+str(i))\n",
      "    M5JHT.Sumw2(); M5JHT.Scale(TWeight); M5JHT.Write()\n",
      "    \n",
      "    QntuplesA[0].Draw(VarToExt+\" >> M5jQ_Cut\"+str(i)+BinsLimits,CumulCut)\n",
      "    M5JHQ=ROOT.gDirectory.Get(\"M5jQ_Cut\"+str(i))\n",
      "    M5JHQ.Sumw2(); M5JHQ.Scale(QWeights[0]); M5JHQ.Write()\n",
      "        \n",
      "    M5JHQ.SetStats(ROOT.kFALSE)\n",
      "    M5JHQ.SetLineStyle(7); M5JHT.SetLineStyle(9); M5JHS.SetLineStyle(1)\n",
      "    M5JHQ.SetLineWidth(2); M5JHT.SetLineWidth(1); M5JHS.SetLineWidth(3)\n",
      "    M5JHQ.SetLineColor(ROOT.kViolet+1); M5JHT.SetLineColor(ROOT.kRed); M5JHS.SetLineColor(ROOT.kGreen+1)\n",
      "    LEG=ROOT.TLegend(0.6,0.6,0.8,0.8)\n",
      "    LEG.AddEntry(M5JHQ, \"QCD\", \"l\"); LEG.AddEntry(M5JHT, \"TTbar\", \"l\"); LEG.AddEntry(M5JHS, \"Signal\", \"l\")\n",
      "    LEG.SetFillColor(0)\n",
      "    Maxima=[M5JHQ.GetMaximum(),M5JHT.GetMaximum(),M5JHS.GetMaximum()]\n",
      "    M5JHQ.SetMaximum(max(Maxima))\n",
      "    M5JHQ.Draw(\"hist\"); M5JHT.Draw(\"hist same\"); M5JHS.Draw(\"hist same\"); LEG.Draw()\n",
      "    \n",
      "    if i==0: CurCanv.Print(PDFName+\"(\",\"Title:\"+Titles[i])\n",
      "    elif i<=len(CutsFromOpt)-2 and i>0: CurCanv.Print(PDFName,\"Title:\"+Titles[i])\n",
      "    else: CurCanv.Print(PDFName+\")\",\"Title:\"+Titles[i])\n",
      "    \n",
      "Nm1.Close()"
     ],
     "language": "python",
     "metadata": {},
     "outputs": [],
     "prompt_number": 9
    },
    {
     "cell_type": "heading",
     "level": 3,
     "metadata": {},
     "source": [
      "Normalization Study"
     ]
    },
    {
     "cell_type": "code",
     "collapsed": false,
     "input": [
      "CutsFromCLs=[ROOT.TCut(\"\"),Cut1,CutDRbb,CutDRWH,CutM2HP,CutDRTp6thJ,CutHM,CutRelHT,CutMTHAsym]\n",
      "\n",
      "OptVersion=\"_bkg_estimation_chi2g8_\"+NominalV\n",
      "\n",
      "CumulCut=ROOT.TCut(\"\")*CutHT\n",
      "\n",
      "SignalEntriesE=[]; TTbarEntriesE=[]; QCDEntriesE=[]\n",
      "\n",
      "PDFName=\"Nminus1\"+OptVersion+\"_NormStudy.pdf\"\n",
      "CurCanv = rootnotes.canvas(\"MyPlot\", (600, 800))\n",
      "\n",
      "BinsLimits=\"(30,550,1100)\"\n",
      "\n",
      "EntSS=[]; EntCS=[]\n",
      "EffSS=[]; EffCS=[]\n",
      "\n",
      "for j in xrange(len(CutsFromCLs)):\n",
      "    CumulCut=CumulCut*CutsFromCLs[j]\n",
      "    print \"Cut:\", CumulCut\n",
      "        \n",
      "    DataA[0].Draw(\"M5J >> M5JA_Cut\"+str(j)+BinsLimits,CumulCut)\n",
      "    M5JDA=ROOT.gDirectory.Get(\"M5JA_Cut\"+str(j))\n",
      "    print \"Events in signal sample:\", M5JDA.GetEntries()\n",
      "    EntSS.append(M5JDA.GetEntries())\n",
      "    if j>0: \n",
      "        EffSS.append(EntSS[-1]/EntSS[-2])\n",
      "        print \"Signal sample efficiency: {0:.2f}\".format(EffSS[-1])\n",
      "        \n",
      "    DataE[0].Draw(\"M5J >> M5JE_Cut\"+str(j)+BinsLimits,CumulCut)\n",
      "    M5JDE=ROOT.gDirectory.Get(\"M5JE_Cut\"+str(j))\n",
      "    print \"Events in control sample:\", M5JDE.GetEntries()\n",
      "    EntCS.append(M5JDE.GetEntries())\n",
      "    if j>0: \n",
      "        EffCS.append(EntCS[-1]/EntCS[-2])\n",
      "        print \"Control sample efficiency: {0:.2f}\".format(EffCS[-1])\n",
      "        \n",
      "    M5JDE.SetStats(ROOT.kFALSE)\n",
      "    M5JDE.SetLineStyle(7); M5JDA.SetLineStyle(1)\n",
      "    M5JDE.SetLineWidth(2); M5JDA.SetLineWidth(1)\n",
      "    M5JDE.SetLineColor(ROOT.kBlue); M5JDA.SetLineColor(ROOT.kBlack)\n",
      "    #M5JDE.Sumw2(); M5JDE.Scale(M5JDA.Integral()/M5JDE.Integral())\n",
      "    M5JDE.SetMaximum(max(M5JDA.GetMaximum(),M5JDE.GetMaximum())*1.05)\n",
      "    M5JDE.SetMinimum(min(M5JDA.GetMinimum(),M5JDE.GetMinimum())*0.95)\n",
      "    LEG=ROOT.TLegend(0.65,0.65,0.9,0.9); LEG.SetTextSize(0.015)\n",
      "    LEG.AddEntry(M5JDA, \"Signal Sample\", \"l\"); LEG.AddEntry(M5JDE, \"Control Sample\", \"l\")\n",
      "    LEG.SetFillColor(0)\n",
      "    MinX=float(BinsLimits.split(\",\")[1])\n",
      "    MaxX=float(BinsLimits.split(\",\")[-1][0:-1])\n",
      "    Nbins=int(BinsLimits.split(\",\")[0][1:])\n",
      "    M5JDE.SetTitle(\";M(5j) GeV/c^{2}\"+\";Events/{0:.1f} \".format((MaxX-MinX)/Nbins)+\"GeV/c^{2}\")\n",
      "    M5JDA.SetTitle(\";M(5j) GeV/c^{2}\"+\";Events/{0:.1f} \".format((MaxX-MinX)/Nbins)+\"GeV/c^{2}\")\n",
      "    M5JDE.GetYaxis().SetTitleOffset(1.65)\n",
      "    M5JDA.GetYaxis().SetTitleOffset(1.65)\n",
      "    M5JDE.Draw(\"E hist\"); M5JDA.Draw(\"E hist same\"); LEG.Draw()\n",
      "\n",
      "    if j==0: CurCanv.Print(PDFName+\"(\",\"Title:Cut_\"+str(j))\n",
      "    elif j==(len(CutsFromCLs)-1): CurCanv.Print(PDFName+\")\",\"Title:Cut_\"+str(j))\n",
      "    else: CurCanv.Print(PDFName,\"Title:Cut_\"+str(j))\n",
      "    print \"------------------------------------------\""
     ],
     "language": "python",
     "metadata": {},
     "outputs": [
      {
       "output_type": "stream",
       "stream": "stdout",
       "text": [
        "Cut: THT>550\n",
        "Events in signal sample: 73879.0\n",
        "Events in control sample:"
       ]
      },
      {
       "output_type": "stream",
       "stream": "stdout",
       "text": [
        " 51567450.0\n",
        "------------------------------------------"
       ]
      },
      {
       "output_type": "stream",
       "stream": "stdout",
       "text": [
        "\n",
        "Cut: (THT>550)*(chi2<8)\n",
        "Events in signal sample: 10581.0\n",
        "Signal sample efficiency: 0.14\n",
        "Events in control sample:"
       ]
      },
      {
       "output_type": "stream",
       "stream": "stdout",
       "text": [
        " 753012.0\n",
        "Control sample efficiency: 0.01\n",
        "------------------------------------------\n",
        "Cut: ((THT>550)*(chi2<8))*(DRHJ<=1.2)\n",
        "Events in signal sample: 3874.0\n",
        "Signal sample efficiency: 0.37\n",
        "Events in control sample:"
       ]
      },
      {
       "output_type": "stream",
       "stream": "stdout",
       "text": [
        " 145510.0\n",
        "Control sample efficiency: 0.19\n",
        "------------------------------------------\n",
        "Cut: (((THT>550)*(chi2<8))*(DRHJ<=1.2))*(DRWH>=1.6 && DRWH<=4.0)\n",
        "Events in signal sample: 3387.0\n",
        "Signal sample efficiency: 0.87\n",
        "Events in control sample:"
       ]
      },
      {
       "output_type": "stream",
       "stream": "stdout",
       "text": [
        " 113601.0\n",
        "Control sample efficiency: 0.78\n",
        "------------------------------------------\n",
        "Cut: ((((THT>550)*(chi2<8))*(DRHJ<=1.2))*(DRWH>=1.6 && DRWH<=4.0))*(M2HP>6.8)\n",
        "Events in signal sample: 1444.0\n",
        "Signal sample efficiency: 0.43\n",
        "Events in control sample:"
       ]
      },
      {
       "output_type": "stream",
       "stream": "stdout",
       "text": [
        " 57862.0\n",
        "Control sample efficiency: 0.51\n",
        "------------------------------------------\n",
        "Cut: (((((THT>550)*(chi2<8))*(DRHJ<=1.2))*(DRWH>=1.6 && DRWH<=4.0))*(M2HP>6.8))*(DRTp6thJ>4.8)\n",
        "Events in signal sample: 140.0\n",
        "Signal sample efficiency: 0.10\n",
        "Events in control sample:"
       ]
      },
      {
       "output_type": "stream",
       "stream": "stdout",
       "text": [
        " 4367.0\n",
        "Control sample efficiency: 0.08\n",
        "------------------------------------------\n",
        "Cut: ((((((THT>550)*(chi2<8))*(DRHJ<=1.2))*(DRWH>=1.6 && DRWH<=4.0))*(M2HP>6.8))*(DRTp6thJ>4.8))*(HM>=105 && HM<=145)\n",
        "Events in signal sample: 103.0\n",
        "Signal sample efficiency: 0.74\n",
        "Events in control sample:"
       ]
      },
      {
       "output_type": "stream",
       "stream": "stdout",
       "text": [
        " 3157.0\n",
        "Control sample efficiency: 0.72\n",
        "------------------------------------------\n",
        "Cut: (((((((THT>550)*(chi2<8))*(DRHJ<=1.2))*(DRWH>=1.6 && DRWH<=4.0))*(M2HP>6.8))*(DRTp6thJ>4.8))*(HM>=105 && HM<=145))*(RelHT>=0.67)\n",
        "Events in signal sample:"
       ]
      },
      {
       "output_type": "stream",
       "stream": "stdout",
       "text": [
        " 55.0\n",
        "Signal sample efficiency: 0.53\n",
        "Events in control sample:"
       ]
      },
      {
       "output_type": "stream",
       "stream": "stdout",
       "text": [
        " 822.0\n",
        "Control sample efficiency: 0.26\n",
        "------------------------------------------\n",
        "Cut: ((((((((THT>550)*(chi2<8))*(DRHJ<=1.2))*(DRWH>=1.6 && DRWH<=4.0))*(M2HP>6.8))*(DRTp6thJ>4.8))*(HM>=105 && HM<=145))*(RelHT>=0.67))*(MTHAsym>=(0.17-10.50) && MTHAsym<=(0.17+10.50))\n",
        "Events in signal sample:"
       ]
      },
      {
       "output_type": "stream",
       "stream": "stdout",
       "text": [
        " 55.0\n",
        "Signal sample efficiency: 1.00\n",
        "Events in control sample:"
       ]
      },
      {
       "output_type": "stream",
       "stream": "stdout",
       "text": [
        " 822.0\n",
        "Control sample efficiency: 1.00\n",
        "------------------------------------------\n"
       ]
      }
     ],
     "prompt_number": 10
    },
    {
     "cell_type": "code",
     "collapsed": false,
     "input": [
      "#############################################################\n",
      "#Normalization of CS to SS after DR(bb) and follow selection#\n",
      "#############################################################\n",
      "print \"Normalization of SS at DR(bb)=\", EntSS[2]\n",
      "print \"Applying efficiencies for later cuts on control sample...\"\n",
      "Norm=EntSS[2]\n",
      "for i in EffCS[2:]: Norm=Norm*i\n",
      "print \"Gives as expected bkg events: {0:.2f}\".format(Norm)\n",
      "print \"###########################################\"\n",
      "################################################################\n",
      "#Normaliz to ratio in/out in MTHAsym right before cutting on it#\n",
      "################################################################\n",
      "print \"Estimated normalization is N_e_ss_in=R_cs*N_ss_out\"\n",
      "print \"where R_cs=N_cs_in/N_cs_out\"\n",
      "N_ss_out=EntSS[-2]-EntSS[-1]\n",
      "N_cs_out=EntCS[-2]-EntCS[-1]\n",
      "N_cs_in=EntCS[-1]\n",
      "print \"N_ss_out={0:.0f}+-{1:.2f}\".format(N_ss_out,np.sqrt(N_ss_out))\n",
      "print \"N_cs_out={0:.0f}+-{1:.2f}\".format(N_cs_out,np.sqrt(N_cs_out))\n",
      "print \"N_cs_in={0:.0f}+-{1:.2f}\".format(N_cs_in,np.sqrt(N_cs_in))\n",
      "R_cs=N_cs_in/N_cs_out\n",
      "Error_R_cs=DivE(N_cs_in,N_cs_out,np.sqrt(N_cs_in),np.sqrt(N_cs_out))\n",
      "print \"R_cs={0:.2f}+-{1:.2f}\".format(R_cs,Error_R_cs)\n",
      "N_e_ss_in=R_cs*N_ss_out\n",
      "Error_N_e_ss_in=MulE(R_cs,N_ss_out,Error_R_cs,np.sqrt(N_ss_out))\n",
      "print \"Which gives N_e_ss_in={0:.2f}+-{1:.2f}\".format(N_e_ss_in,Error_N_e_ss_in)"
     ],
     "language": "python",
     "metadata": {},
     "outputs": [
      {
       "output_type": "stream",
       "stream": "stdout",
       "text": [
        "Normalization of SS at DR(bb)= 2911.0\n",
        "Applying efficiencies for later cuts on control sample...\n",
        "Gives as expected bkg events: 11.64\n",
        "###########################################\n",
        "Estimated normalization is N_e_ss_in=R_cs*N_ss_out\n",
        "where R_cs=N_cs_in/N_cs_out\n",
        "N_ss_out=4+-2.00"
       ]
      },
      {
       "output_type": "stream",
       "stream": "stdout",
       "text": [
        "\n",
        "N_cs_out=72+-8.49\n",
        "N_cs_in=380+-19.49\n",
        "R_cs=5.28+-0.89\n",
        "Which gives N_e_ss_in=21.11+-14.13\n"
       ]
      }
     ],
     "prompt_number": 15
    },
    {
     "cell_type": "code",
     "collapsed": false,
     "input": [
      "#Generic In/Out Study\n",
      "#CutsFromCLs=[ROOT.TCut(\"\"),Cut1,CutDRbb,CutDRWH,CutM2HP,CutDRTp6thJ,CutHM,CutRelHT,CutMTHAsym]\n",
      "\n",
      "#RelHT\n",
      "#CutsFromCLs=[ROOT.TCut(\"\"),Cut1,CutDRbb,CutDRWH,CutHM,CutM2HP,CutDRTp6thJ]\n",
      "#DirCut = ROOT.TCut(\"RelHT>=0.67\")\n",
      "#InvCut = ROOT.TCut(\"RelHT<0.67\")\n",
      "#MTHAsym\n",
      "#CutsFromCLs=[ROOT.TCut(\"\"),Cut1,CutDRbb,CutDRWH,CutHM,CutM2HP,CutDRTp6thJ,CutRelHT]\n",
      "#MTHAsymWin1=\"0.1\"; MTHAsymMean1=\"0.17\"\n",
      "#DirCut = ROOT.TCut(\"MTHAsym>=(\"+MTHAsymMean1+\"-\"+MTHAsymWin1+\") && MTHAsym<=(\"+MTHAsymMean1+\"+\"+MTHAsymWin1+\")\")\n",
      "#InvCut = ROOT.TCut(\"MTHAsym<(\"+MTHAsymMean1+\"-\"+MTHAsymWin1+\") || MTHAsym>(\"+MTHAsymMean1+\"+\"+MTHAsymWin1+\")\")\n",
      "#MH\n",
      "CutsFromCLs=[ROOT.TCut(\"\"),Cut1,CutDRbb,CutDRWH,CutM2HP,CutDRTp6thJ,CutRelHT]\n",
      "DirCut = ROOT.TCut(\"HM>=105 && HM<=145\")\n",
      "InvCut = ROOT.TCut(\"HM<105 || HM>145\")\n",
      "\n",
      "CumulCut=ROOT.TCut(\"\")*CutHT\n",
      "\n",
      "BinsLimits=\"(3800,200,4000)\"\n",
      "CutVarBinsLim=\"(26,60,190)\"\n",
      "\n",
      "for j in xrange(len(CutsFromCLs)):\n",
      "    CumulCut=CumulCut*CutsFromCLs[j]\n",
      "    print \"Cut:\", CumulCut\n",
      "    #For signal use: NMassPointsA[2], NMassPointsE[2]\n",
      "    #For data use: DataA[0],DataE[0]\n",
      "    N_cs_in,N_cs_out,N_ss_in,N_ss_out,R_cs,R_ss,Np_ss_in,Chi2TesResult=NormFunc(CumulCut*DirCut,CumulCut*InvCut,\n",
      "                                                                      \"M5J\",BinsLimits,NMassPointsA[2], NMassPointsE[2],\n",
      "                                                                      \"HM\",CutVarBinsLim,CumulCut,True,str(j))\n",
      "    print \"Chi2 test result: chi2/ndf =\", Chi2TesResult\n",
      "    print \"N_ss_out={0:.0f}+-{1:.2f}\".format(N_ss_out,np.sqrt(N_ss_out))\n",
      "    print \"N_ss_in={0:.0f}+-{1:.2f}\".format(N_ss_in,np.sqrt(N_ss_in))\n",
      "    print \"N_cs_out={0:.0f}+-{1:.2f}\".format(N_cs_out,np.sqrt(N_cs_out))\n",
      "    print \"N_cs_in={0:.0f}+-{1:.2f}\".format(N_cs_in,np.sqrt(N_cs_in))\n",
      "    print \"------\"\n",
      "    Error_R_ss=DivE(N_ss_in,N_ss_out,np.sqrt(N_ss_in),np.sqrt(N_ss_out))\n",
      "    print \"R_ss={0:.2f}+-{1:.2f}\".format(R_ss,Error_R_ss)\n",
      "    Error_R_cs=DivE(N_cs_in,N_cs_out,np.sqrt(N_cs_in),np.sqrt(N_cs_out))\n",
      "    print \"R_cs={0:.2f}+-{1:.2f}\".format(R_cs,Error_R_cs)\n",
      "    print \"------\"\n",
      "    Error_Np_ss_in=MulE(R_cs,N_ss_out,Error_R_cs,np.sqrt(N_ss_out))\n",
      "    print \"Which gives Np_ss_in={0:.2f}+-{1:.2f}\".format(Np_ss_in,Error_Np_ss_in)\n",
      "            \n",
      "    print \"------------------------------------------\""
     ],
     "language": "python",
     "metadata": {},
     "outputs": [
      {
       "output_type": "stream",
       "stream": "stdout",
       "text": [
        "Cut: THT>550\n",
        "Chi2 test result: chi2/ndf ="
       ]
      },
      {
       "output_type": "stream",
       "stream": "stdout",
       "text": [
        " 4.79451856291\n",
        "N_ss_out=1340+-36.61\n",
        "N_ss_in=3335+-57.75\n",
        "N_cs_out=2107+-45.90\n",
        "N_cs_in=3107+-55.74\n",
        "------\n",
        "R_ss=2.49+-0.11\n",
        "R_cs=1.47+-0.06\n",
        "------\n",
        "Which gives Np_ss_in=1975.98+-132.48\n",
        "------------------------------------------\n",
        "Cut: (THT>550)*(chi2<8)\n",
        "Chi2 test result: chi2/ndf ="
       ]
      },
      {
       "output_type": "stream",
       "stream": "stdout",
       "text": [
        " 1.75338048188\n",
        "N_ss_out=263+-16.22\n",
        "N_ss_in=1998+-44.70\n",
        "N_cs_out=334+-18.28\n",
        "N_cs_in=1999+-44.71\n",
        "------\n",
        "R_ss=7.60+-0.64\n",
        "R_cs=5.99+-0.46\n",
        "------\n",
        "Which gives Np_ss_in=1574.06+-218.40\n",
        "------------------------------------------\n",
        "Cut: ((THT>550)*(chi2<8))*(DRHJ<=1.2)\n",
        "Chi2 test result: chi2/ndf ="
       ]
      },
      {
       "output_type": "stream",
       "stream": "stdout",
       "text": [
        " 1.93297349519\n",
        "N_ss_out=226+-15.03\n",
        "N_ss_in=1835+-42.84\n",
        "N_cs_out=236+-15.36\n",
        "N_cs_in=1623+-40.29\n",
        "------\n",
        "R_ss=8.12+-0.73\n",
        "R_cs=6.88+-0.62\n",
        "------\n",
        "Which gives Np_ss_in=1554.23+-243.14\n",
        "------------------------------------------\n",
        "Cut: (((THT>550)*(chi2<8))*(DRHJ<=1.2))*(DRWH>=-1.0)\n",
        "Chi2 test result: chi2/ndf ="
       ]
      },
      {
       "output_type": "stream",
       "stream": "stdout",
       "text": [
        " 1.93297349519\n",
        "N_ss_out=226+-15.03\n",
        "N_ss_in=1835+-42.84\n",
        "N_cs_out=236+-15.36\n",
        "N_cs_in=1623+-40.29\n",
        "------\n",
        "R_ss=8.12+-0.73\n",
        "R_cs=6.88+-0.62\n",
        "------\n",
        "Which gives Np_ss_in=1554.23+-243.14\n",
        "------------------------------------------\n",
        "Cut: ((((THT>550)*(chi2<8))*(DRHJ<=1.2))*(DRWH>=-1.0))*(M2HP>6.8)\n",
        "Chi2 test result: chi2/ndf ="
       ]
      },
      {
       "output_type": "stream",
       "stream": "stdout",
       "text": [
        " 1.72865829665\n",
        "N_ss_out=145+-12.04\n",
        "N_ss_in=1156+-34.00\n",
        "N_cs_out=160+-12.65\n",
        "N_cs_in=1022+-31.97\n",
        "------\n",
        "R_ss=7.97+-0.90\n",
        "R_cs=6.39+-0.70\n",
        "------\n",
        "Which gives Np_ss_in=926.19+-179.11\n",
        "------------------------------------------\n",
        "Cut: (((((THT>550)*(chi2<8))*(DRHJ<=1.2))*(DRWH>=-1.0))*(M2HP>6.8))*(DRTp6thJ>4.8)\n",
        "Chi2 test result: chi2/ndf ="
       ]
      },
      {
       "output_type": "stream",
       "stream": "stdout",
       "text": [
        " 1.51904130783\n",
        "N_ss_out=78+-8.83\n",
        "N_ss_in=645+-25.40\n",
        "N_cs_out=66+-8.12\n",
        "N_cs_in=531+-23.04\n",
        "------\n",
        "R_ss=8.27+-1.26\n",
        "R_cs=8.05+-1.34\n",
        "------\n",
        "Which gives Np_ss_in=627.55+-175.53\n",
        "------------------------------------------\n",
        "Cut: ((((((THT>550)*(chi2<8))*(DRHJ<=1.2))*(DRWH>=-1.0))*(M2HP>6.8))*(DRTp6thJ>4.8))*(RelHT>=0.67)\n",
        "Chi2 test result: chi2/ndf ="
       ]
      },
      {
       "output_type": "stream",
       "stream": "stdout",
       "text": [
        " 1.39707869985\n",
        "N_ss_out=71+-8.43\n",
        "N_ss_in=573+-23.94\n",
        "N_cs_out=58+-7.62\n",
        "N_cs_in=445+-21.10\n",
        "------\n",
        "R_ss=8.07+-1.29\n",
        "R_cs=7.67+-1.37\n",
        "------\n",
        "Which gives Np_ss_in=544.74+-162.00\n",
        "------------------------------------------\n"
       ]
      }
     ],
     "prompt_number": 6
    },
    {
     "cell_type": "heading",
     "level": 1,
     "metadata": {},
     "source": [
      "STARTING INCLUSIVE VALIDATION (NEED NTUPLES FROM BELOW)"
     ]
    },
    {
     "cell_type": "code",
     "collapsed": false,
     "input": [
      "#Sntuple.Print()\n",
      "#\"M5J:DRHJ:DRWH:RelHT:Eta6thJ:M2HP:DRTp6thJ:HM:chi2:MTHAsym\"\n",
      "#Cut1 = ROOT.TCut(\"chi2<620\")\n",
      "#CutDRbb = ROOT.TCut(\"DRHJ<=1.2\")\n",
      "#CutDRWH = ROOT.TCut(\"DRWH>=1.6 && DRWH<=4.0\")\n",
      "#CutHM = ROOT.TCut(\"HM>=105 && HM<=145\")\n",
      "#CutM2HP = ROOT.TCut(\"M2HP>7.5\")\n",
      "#CutRelHT = ROOT.TCut(\"RelHT>=0.7\")\n",
      "#CutDRTp6thJ = ROOT.TCut(\"DRTp6thJ>4.5\")\n",
      "#CutMTHAsym = ROOT.TCut(\"MTHAsym>=-0.02 && MTHAsym<=0.38\")\n",
      "#FinalCut=Cut1*CutDRbb*CutDRWH*CutM2HP*CutDRTp6thJ*CutHM*CutRelHT*CutMTHAsym\n",
      "#\n",
      "#Lumi=19694.471\n",
      "#\n",
      "#SWeight=Lumi*(0.57/0.94)*0.1437/99984.\n",
      "#\n",
      "#TWeight=Lumi*245.8/61941200.\n",
      "\n",
      "########################################################\n",
      "###################Set QCD FLAG#########################\n",
      "########################################################\n",
      "\n",
      "QCDPTFLAG=True #To include QCD PT hat samples\n",
      "\n",
      "NevtsQCDHT=[29019521.,13438527.]\n",
      "XSQCDHT=[8426.0,204.0]\n",
      "Q500Weight=Lumi*XSQCDHT[0]/NevtsQCDHT[0]\n",
      "Q1000Weight=Lumi*XSQCDHT[1]/NevtsQCDHT[1]\n",
      "if QCDPTFLAG: \n",
      "    QWeights=Lumi*np.array(XSQCDHT)*0.5/np.array(NevtsQCDHT)\n",
      "else: \n",
      "    QWeights=Lumi*np.array(XSQCDHT)/np.array(NevtsQCDHT)\n",
      "\n",
      "NevtsQCDPT=[5971068.,5790196.,5926583.,3941534.,3934191.,3927299.]\n",
      "XSQCDPT=[156293.3, 34138.15, 1759.549, 113.8791, 26.9921, 3.550036]\n",
      "if QCDPTFLAG: \n",
      "    QCDPTWeights=Lumi*np.array(XSQCDPT)*0.5/np.array(NevtsQCDPT)\n",
      "else: \n",
      "    QCDPTWeights=Lumi*np.array(XSQCDPT)/np.array(NevtsQCDPT)\n",
      "\n",
      "\n",
      "#########################################################\n",
      "\n",
      "NevtsMassPoints=[95167.,98817.,99464.,99375.,95801.,99257.,99174.,95960.,99078.]\n",
      "XSNevtsMassPoints=[0.2154,0.1778,0.1437,0.1186,0.1,0.0843,0.0726,0.0626,0.0539]\n",
      "NWeights=Lumi*(0.577/0.94)*np.array(XSNevtsMassPoints)/np.array(NevtsMassPoints)\n",
      "\n",
      "NevtsDiboson=[9989803.,9989440.,9789108.]\n",
      "XSDiboson=[33.6, 56.0, 7.6]\n",
      "DibosonWeights=Lumi*np.array(XSDiboson)/np.array(NevtsDiboson)\n",
      "\n",
      "NevtsSingleT=[259575.,3752921.,496681.,139803.,1932775.,492545.]\n",
      "XSSingleT=[3.79, 54.87, 11.1, 1.76, 29.74, 11.1]\n",
      "SingleTWeights=Lumi*np.array(XSSingleT)/np.array(NevtsSingleT)\n",
      "\n",
      "NevtsDY=[2001966.,1997817.]\n",
      "XSDY=[3840.86, 3060.099]\n",
      "DYWeights=Lumi*np.array(XSDY)/np.array(NevtsDY)"
     ],
     "language": "python",
     "metadata": {},
     "outputs": [],
     "prompt_number": 5
    },
    {
     "cell_type": "heading",
     "level": 3,
     "metadata": {},
     "source": [
      "Nminus1 plots, Analysis selection, Signal Sample"
     ]
    },
    {
     "cell_type": "code",
     "collapsed": false,
     "input": [
      "CutsNm1=[ROOT.TCut(\"\"),Cut1,CutDRbb,CutDRWH,CutHM,CutM2HP,CutDRTp6thJ,CutRelHT]\n",
      "OptVersion=NominalV+\"_\"+InclusiveV1+\"_\"+InclusiveV2\n",
      "\n",
      "CumulCut=ROOT.TCut(\"\")*CutHT\n",
      "SF=ROOT.TCut(\"weight\")\n",
      "PU=ROOT.TCut(\"PUR_function(NTI)\")\n",
      "#CMC=ROOT.TCut(\"weight*PUR_function(NTI)\")\n",
      "CMC=SF*PU\n",
      "#CMC=ROOT.TCut(\"\")\n",
      "#CumulCut=CMC\n",
      "\n",
      "#\"M5J:DRHJ:DRWH:RelHT:Eta6thJ:M2HP:DRTp6thJ:HM:chi2:MTHAsym\"\n",
      "\n",
      "PDFName=\"Nminus1_AnaSel_Chi2g8_0to500_FinalRevision2_2ndTopMass_\"+OptVersion+\".pdf\"\n",
      "CurCanv = rootnotes.canvas(\"MyPlot\", (600, 800))\n",
      "Titles=[\"chi2\", \"DRHJ\",\"DRWH\", \"HM\", \"M2HP\", \"DRTp6thJ\", \"RelHT\", \"MTHAsym\", \n",
      "        \"THT\", \"NCSVM\",\"M2ndT\"]\n",
      "#Titles=[\"chi2\", \"DRHJ\",\"DRWH\", \"HM\", \"M2HP\", \"DRTp6thJ\", \"RelHT\", \"MTHAsym\", \n",
      "#        \"THT\", \"NCSVM\",\"Nj\"]\n",
      "\n",
      "BinsLimits=[\"(25,0,500)\",\"(20,0.5,5)\",\"(30,0.5,10)\",\"(26,60,190)\",\"(40,0,20)\",\"(19,0.5,10)\",\"(18,0.1,1.0)\",\"(20,-0.5,1)\",\n",
      "            \"(40,400,3000)\",\"(13,0,13)\",\"(30,100,1000)\"]\n",
      "#BinsLimits=[\"(25,0,500)\",\"(20,0.5,5)\",\"(30,0.5,10)\",\"(26,60,190)\",\"(40,0,20)\",\"(19,0.5,10)\",\"(15,0.1,1.0)\",\"(20,-0.5,1)\",\n",
      "#            \"(40,400,3000)\",\"(13,0,13)\",\"(17,4,21)\"]\n",
      "Units=[\"\",\"\",\"\",\"GeV/c^{2}\",\"\",\"\",\"\",\"\",\n",
      "       \"GeV/c\",\"\",\"GeV/c^{2}\"]\n",
      "#Units=[\"\",\"\",\"\",\"GeV/c^{2}\",\"\",\"\",\"\",\"\",\n",
      "#       \"GeV/c\",\"\",\"\"]\n",
      "XaxisT=[\"#chi^{2}\",\"#Delta R(bb)\", \"#Delta R(WH)\", \"M(H)\", \"(M(t^{2nd})+M(W^{2nd}))/M(H)\", \"#Delta R (T' j^{6})\", \n",
      "        \"Relative H_{T}\", \"(M(t)-M(H))/(M(t)+M(H))\",\n",
      "        \"H_{T}\", \"n_{b}^{CSVM}\",\"M(t^{2nd})\"]\n",
      "#XaxisT=[\"#chi^{2}\",\"#Delta R(bb)\", \"#Delta R(WH)\", \"M(H)\", \"(M(t^{2nd})+M(W^{2nd}))/M(H)\", \"#Delta R (T' j^{6})\", \n",
      "#        \"Relative H_{T}\", \"(M(t)-M(H))/(M(t)+M(H))\",\n",
      "#        \"H_{T}\", \"n_{b}^{CSVM}\",\"N(j)\"]\n",
      "\n",
      "ValString=[\"Data\",\"TTbar\",\"QCD\",\"MC-Sum\"]\n",
      "\n",
      "for i in xrange(len(CutsNm1)):\n",
      "    CumulCut=CumulCut*CutsNm1[i]\n",
      "    for j in xrange(len(Titles)):\n",
      "        ZEH=ROOT.TH1F(\"h1\"+str(j)+str(i), \"h1 title\"+str(j)+str(i), int(float(BinsLimits[j].split(\",\")[0][1:])), float(BinsLimits[j].split(\",\")[1]), float(BinsLimits[j].split(\",\")[2][:-1]))\n",
      "        \n",
      "        TTbarNm1Histos=[]; DataNm1Histos=[]; QCDNm1Histos=[]\n",
      "        SingleTNm1Histos=[]; DibosonNm1Histos=[]; DYNm1Histos=[]\n",
      "        SignalNm1Histos=[]\n",
      "    \n",
      "        NMassPointsA[2].Draw(Titles[j]+\" >> \"+Titles[j]+\"S_Cut\"+str(i)+str(j)+BinsLimits[j],CumulCut*CMC)\n",
      "        SignalNm1Histos.append(ROOT.gDirectory.Get(Titles[j]+\"S_Cut\"+str(i)+str(j)))\n",
      "        SignalNm1Histos[-1].Sumw2(); SignalNm1Histos[-1].Scale(SWeight)\n",
      "        CorrectErrorLowStats(SignalNm1Histos[-1])\n",
      "        #if j==0: print \"Signal\", SignalNm1Histos[-1].GetEntries()\n",
      "    \n",
      "        TntupleA.Draw(Titles[j]+\" >> \"+Titles[j]+\"T_Cut\"+str(i)+str(j)+BinsLimits[j],CumulCut*CMC)\n",
      "        TTbarNm1Histos.append(ROOT.gDirectory.Get(Titles[j]+\"T_Cut\"+str(i)+str(j)))\n",
      "        TTbarNm1Histos[-1].Sumw2(); TTbarNm1Histos[-1].Scale(TWeight) #; TTbarHistos[-1].Write()\n",
      "        CorrectErrorLowStats(TTbarNm1Histos[-1])\n",
      "        #if j==0: print \"TTJets\", TTbarNm1Histos[-1].GetEntries()\n",
      "                \n",
      "        QCDHT=[]\n",
      "        QntuplesA[0].Draw(Titles[j]+\" >> \"+Titles[j]+\"Q500_Cut\"+str(i)+str(j)+BinsLimits[j],CumulCut*CMC)\n",
      "        QCDHT.append(ROOT.gDirectory.Get(Titles[j]+\"Q500_Cut\"+str(i)+str(j)))\n",
      "        QCDHT[-1].Sumw2(); QCDHT[-1].Scale(QWeights[0]) #; QCD500Histos[-1].Write()\n",
      "        CorrectErrorLowStats(QCDHT[-1])\n",
      "        #if j==0: print \"QCD500\", QCDHT[-1].GetEntries()\n",
      "        \n",
      "        QntuplesA[1].Draw(Titles[j]+\" >> \"+Titles[j]+\"Q1000_Cut\"+str(i)+str(j)+BinsLimits[j],CumulCut*CMC)\n",
      "        QCDHT.append(ROOT.gDirectory.Get(Titles[j]+\"Q1000_Cut\"+str(i)+str(j)))\n",
      "        QCDHT[-1].Sumw2(); QCDHT[-1].Scale(QWeights[1]) #; QCD1000Histos[-1].Write()\n",
      "        CorrectErrorLowStats(QCDHT[-1])\n",
      "        #if j==0: print \"QCD1000\", QCDHT[-1].GetEntries()\n",
      "    \n",
      "        STHT=[]\n",
      "        for k in xrange(6): #Single Top\n",
      "            if SubBKGArrayA[k].GetEntries()>0:\n",
      "                SubBKGArrayA[k].Draw(Titles[j]+\" >> \"+Titles[j]+\"ST_Cut\"+str(i)+str(j)+\"_\"+str(k)+BinsLimits[j],CumulCut*CMC)\n",
      "                STHT.append(ROOT.gDirectory.Get(Titles[j]+\"ST_Cut\"+str(i)+str(j)+\"_\"+str(k)))\n",
      "                STHT[-1].Sumw2(); STHT[-1].Scale(SingleTWeights[k])\n",
      "                CorrectErrorLowStats(STHT[-1])\n",
      "                #if j==0: print STHT[-1].GetEntries()\n",
      "        SingleTNm1Histos.append(STHT)\n",
      "            \n",
      "        DiHT=[]\n",
      "        #EmptyDiHT=[]\n",
      "        for k in xrange(3): #Diboson\n",
      "            if SubBKGArrayA[k+6].GetEntries()>0:\n",
      "                SubBKGArrayA[k+6].Draw(Titles[j]+\" >> \"+Titles[j]+\"Di_Cut\"+str(i)+str(j)+\"_\"+str(k)+BinsLimits[j],CumulCut*CMC)\n",
      "                DiHT.append(ROOT.gDirectory.Get(Titles[j]+\"Di_Cut\"+str(i)+str(j)+\"_\"+str(k)))\n",
      "                DiHT[-1].Sumw2(); DiHT[-1].Scale(DibosonWeights[k])\n",
      "                CorrectErrorLowStats(DiHT[-1])\n",
      "                #if j==0: print k, DiHT[-1].GetEntries()\n",
      "            #else:\n",
      "            #    EmptyDiHT.append(k)                 \n",
      "                #DiHT.append(ZEH.Clone(\"DiZeroEntries\"+str(k)))\n",
      "                #DiHT[-1].Scale(DibosonWeights[k])\n",
      "                #CorrectErrorLowStats(DiHT[-1])\n",
      "        DibosonNm1Histos.append(DiHT)\n",
      "        \n",
      "        DYHT=[]\n",
      "        for k in xrange(2): #DY\n",
      "            if SubBKGArrayA[k+9].GetEntries()>0:\n",
      "                SubBKGArrayA[k+9].Draw(Titles[j]+\" >> \"+Titles[j]+\"DY_Cut\"+str(i)+str(j)+\"_\"+str(k)+BinsLimits[j],CumulCut*CMC)\n",
      "                DYHT.append(ROOT.gDirectory.Get(Titles[j]+\"DY_Cut\"+str(i)+str(j)+\"_\"+str(k)))\n",
      "                DYHT[-1].Scale(DYWeights[k])\n",
      "                CorrectErrorLowStats(DYHT[-1])\n",
      "            #else:\n",
      "            #    DYHT.append(ZEH.Clone(\"DYZeroEntries\"+str(k)))\n",
      "            #    DYHT[-1].Sumw2(); DYHT[-1].Scale(DYWeights[k])\n",
      "            #    CorrectErrorLowStats(DYHT[-1])\n",
      "            #else: #Only for QCD Estimation (Roberto's method)\n",
      "            #    DYHT.append(QCDHT[0].Clone(Titles[j]+\"Q_Cut\"+str(i)+str(j)))\n",
      "            #    DYHT[-1].Sumw2(); DYHT[-1].Scale(0.0)\n",
      "        DYNm1Histos.append(DYHT)\n",
      "        \n",
      "        if QCDPTFLAG: \n",
      "            for k in xrange(6): #QCD PT hat\n",
      "                if SubBKGArrayA[k+11].GetEntries()>0:\n",
      "                    SubBKGArrayA[k+11].Draw(Titles[j]+\" >> \"+Titles[j]+\"QCDPT_Cut\"+str(i)+str(j)+\"_\"+str(k)+BinsLimits[j],CumulCut*CMC)\n",
      "                    QCDHT.append(ROOT.gDirectory.Get(Titles[j]+\"QCDPT_Cut\"+str(i)+str(j)+\"_\"+str(k)))\n",
      "                    QCDHT[-1].Sumw2(); QCDHT[-1].Scale(QCDPTWeights[k])\n",
      "                    #for l in xrange(1,QCDHT[-1].GetXaxis().GetNbins()+1):\n",
      "                    #    if QCDHT[-1].GetBinContent(l)==0:\n",
      "                    #        print l, QCDHT[0].GetBinError(l), np.sqrt((QCDHT[0].GetBinError(l)**2)+((1.8*QCDPTWeights[k])**2))\n",
      "                    #        QCDHT[0].SetBinError(i,np.sqrt((QCDHT[0].GetBinError(i)**2)+((1.8*QCDPTWeights[k])**2)))\n",
      "                    CorrectErrorLowStats(QCDHT[-1])\n",
      "                    #if j==0: print QCDHT[-1].GetEntries()\n",
      "        QCDNm1Histos.append(QCDHT)\n",
      "\n",
      "        #If Pythia only set QCDNm1Histos elements to 2 and 3, else 0 and 1\n",
      "        QCDFull=QCDNm1Histos[-1][0].Clone(Titles[j]+\"Q_Cut\"+str(i)+str(j))\n",
      "        QCDFull.Sumw2()\n",
      "        #QW=1\n",
      "        for k in QCDNm1Histos[-1][1:]:\n",
      "            QCDFull.Add(k)\n",
      "            #if QW==1: AddCorrectError(QCDFull,k,QCDFull.Integral()/QCDFull.GetEntries(),QWeights[1])\n",
      "            #else: AddCorrectError(QCDFull,k,QCDFull.Integral()/QCDFull.GetEntries(),QCDPTWeights[QW-2])\n",
      "            #QW+=1\n",
      "        \n",
      "        SingleTFull=SingleTNm1Histos[-1][0].Clone(Titles[j]+\"ST_Cut\"+str(i)+str(j))\n",
      "        for k in SingleTNm1Histos[-1][1:]:\n",
      "            SingleTFull.Add(k)\n",
      "    \n",
      "        DibosonFull=DibosonNm1Histos[-1][0].Clone(Titles[j]+\"Di_Cut\"+str(i)+str(j))\n",
      "        for k in DibosonNm1Histos[-1][1:]:\n",
      "            DibosonFull.Add(k)\n",
      "        \n",
      "        DYFull=DYNm1Histos[-1][0].Clone(Titles[j]+\"DY_Cut\"+str(i)+str(j))\n",
      "        for k in DYNm1Histos[-1][1:]:\n",
      "            DYFull.Add(k)\n",
      "    \n",
      "        MCFull=QCDFull.Clone(Titles[j]+\"MC_Cut\"+str(i)+str(j))\n",
      "        MCFull.Sumw2()\n",
      "        MCFull.Add(TTbarNm1Histos[-1])\n",
      "        MCFull.Add(SingleTFull)\n",
      "        MCFull.Add(DibosonFull)\n",
      "        MCFull.Add(DYFull)\n",
      "        CorrectErrorLowStats(MCFull)\n",
      "\n",
      "        DataA[0].Draw(Titles[j]+\" >> \"+Titles[j]+\"D_Cut\"+str(i)+str(j)+BinsLimits[j],CumulCut)\n",
      "        DataNm1Histos.append(ROOT.gDirectory.Get(Titles[j]+\"D_Cut\"+str(i)+str(j)))\n",
      "        #CorrectErrorLowStats(DataNm1Histos[-1])\n",
      "        #if j==0: print \"Data\", DataNm1Histos[-1].GetEntries()\n",
      "\n",
      "        ROOT.gPad.Clear()\n",
      "\n",
      "        CurrentStyle=ROOT.TStyle(\"CStyle\",\"Style for Plotting\")\n",
      "    \n",
      "        CurrentStyle.SetTitleSize(0.08, \"Y\")\n",
      "        CurrentStyle.SetTitleYOffset(1.5)\n",
      "                \n",
      "        CurCanv1 = rootnotes.canvas(\"MyPlot\", (600, 800))\n",
      "        CurCanv1.cd(1)\n",
      "        if j!=len(Titles): #if j!=len(Titles)-1:\n",
      "            Pad1=ROOT.TPad(\"pad1\",\"pad1\",0,0.3,1,1)\n",
      "            Pad1.SetBottomMargin(0)\n",
      "            Pad1.SetLeftMargin(0.16)\n",
      "        else: \n",
      "            Pad1=ROOT.TPad(\"pad1\",\"pad1\",0,0,1,1)\n",
      "            Pad1.SetBottomMargin(0.1)\n",
      "            Pad1.SetLeftMargin(0.16)\n",
      "        Pad1.Draw()\n",
      "        Pad1.cd()\n",
      "        \n",
      "        MCFull.SetStats(ROOT.kFALSE)\n",
      "        MinX=float(BinsLimits[j].split(\",\")[1])\n",
      "        MaxX=float(BinsLimits[j].split(\",\")[-1][0:-1])\n",
      "        Nbins=int(BinsLimits[j].split(\",\")[0][1:])\n",
      "        if i!=5: MCFull.SetTitle(\";;Events/{0:.1f} \".format((MaxX-MinX)/Nbins)+Units[j])\n",
      "        else: MCFull.SetTitle(\";;Events/{0:.2f} \".format((MaxX-MinX)/Nbins)+Units[j])\n",
      "        SetAxis(MCFull,'Y',1.45,0.05,0.007,0.05,510)\n",
      "        SetAxis(DataNm1Histos[-1],'Y',1.45,0.05,0.007,0.05,510)\n",
      "        SetAxis(SignalNm1Histos[-1],'Y',1.45,0.05,0.007,0.05,510)\n",
      "        SetAxis(TTbarNm1Histos[-1],'Y',1.45,0.05,0.007,0.05,510)\n",
      "        SetAxis(QCDFull,'Y',1.45,0.05,0.007,0.05,510)\n",
      "        SetAxis(SingleTFull,'Y',1.45,0.05,0.007,0.05,510)\n",
      "        SetAxis(DibosonFull,'Y',1.45,0.05,0.007,0.05,510)\n",
      "        SetAxis(DYFull,'Y',1.45,0.05,0.007,0.05,510)\n",
      "    \n",
      "        SetCos(DataNm1Histos[-1],0,0,ROOT.kBlack,2,1,20)\n",
      "        SetCos(SignalNm1Histos[-1],ROOT.kSpring,3444,ROOT.kBlack,2,1,1)\n",
      "        SetCos(TTbarNm1Histos[-1],ROOT.kRed,3345,ROOT.kBlack,1,1,1)\n",
      "        SetCos(QCDFull,ROOT.kViolet,1001,ROOT.kBlack,1,1,1)\n",
      "        SetCos(SingleTFull,ROOT.kBlack,3305,ROOT.kBlack,1,1,1)\n",
      "        SetCos(DibosonFull,ROOT.kWhite,1001,ROOT.kBlack,1,1,1)\n",
      "        SetCos(DYFull,ROOT.kBlue,1001,ROOT.kBlack,1,1,1)\n",
      "        SetCos(MCFull,ROOT.kGray+2,3144,ROOT.kGray+2,1,1,1)\n",
      "            \n",
      "        CloneD=DataNm1Histos[-1].Clone(\"CopyD\"); CloneMC=MCFull.Clone(\"CopyMC\")\n",
      "        #if j!=6: AllBKGStack=ROOT.THStack(\"AllBKGStack\", \";;Events/{0:.1f} \".format((MaxX-MinX)/Nbins)+Units[j])\n",
      "        if j==len(Titles)-1: AllBKGStack=ROOT.THStack(\"AllBKGStack\", \";\"+XaxisT[j]+\" \"+Units[j]+\";Events/{0:.1f} \".format((MaxX-MinX)/Nbins)+Units[j])\n",
      "        else: AllBKGStack=ROOT.THStack(\"AllBKGStack\", \";;Events/{0:.2f} \".format((MaxX-MinX)/Nbins)+Units[j])\n",
      "        AllBKGStack.Add(DibosonFull); AllBKGStack.Add(SingleTFull)\n",
      "        AllBKGStack.Add(TTbarNm1Histos[-1]); AllBKGStack.Add(DYFull); AllBKGStack.Add(QCDFull)\n",
      "        AllBKGStack.SetMinimum(0.3)\n",
      "    \n",
      "        if j<6 or j>7: LEG=ROOT.TLegend(0.6,0.6,0.9,0.9)\n",
      "        else: LEG=ROOT.TLegend(0.2,0.6,0.5,0.9)\n",
      "        #if j!=len(Titles)-1: LEG.AddEntry(DataNm1Histos[-1], \"Data\", \"p\")\n",
      "        LEG.AddEntry(DataNm1Histos[-1], \"Data\", \"p\")\n",
      "        LEG.AddEntry(QCDFull, \"QCD\", \"f\")\n",
      "        LEG.AddEntry(DYFull, \"Zjets\", \"f\")\n",
      "        LEG.AddEntry(TTbarNm1Histos[-1], \"TTbar\", \"f\")\n",
      "        LEG.AddEntry(SingleTFull, \"Single Top\", \"f\")\n",
      "        LEG.AddEntry(DibosonFull, \"Diboson\", \"f\")\n",
      "        LEG.AddEntry(SignalNm1Histos[-1], \"Signal M(T')=700 GeV/c^{2}\", \"f\")\n",
      "        LEG.SetFillColor(0)\n",
      "        Maxima=[MCFull.GetBinErrorUp(MCFull.GetMaximumBin())+MCFull.GetMaximum(),DataNm1Histos[-1].GetBinErrorUp(DataNm1Histos[-1].GetMaximumBin())+DataNm1Histos[-1].GetMaximum()]\n",
      "        AllBKGStack.SetMaximum(1.05*max(Maxima))\n",
      "        AllBKGStack.Draw(\"hist\")\n",
      "        AllBKGStack.GetHistogram().GetYaxis().SetTitleOffset(1.65)\n",
      "        MCFull.Draw(\"e2 same\")\n",
      "        SignalNm1Histos[-1].Draw(\"hist same\")\n",
      "        #if j!=len(Titles)-1: DataNm1Histos[-1].Draw(\"E0X0 same\")\n",
      "        #if i!=len(CutsNm1): Pad1.SetLogy(); Pad1.RedrawAxis()\n",
      "        DataNm1Histos[-1].Draw(\"E0X0 same\")\n",
      "        Pad1.SetLogy(); Pad1.RedrawAxis()\n",
      "    \n",
      "        LEG.Draw()\n",
      "        CurrentStyle.SetPadTickX(1)\n",
      "        CurCanv1.cd()\n",
      "        \n",
      "        if j!=len(Titles): #if j!=len(Titles)-1:\n",
      "            Pad2=ROOT.TPad(\"pad2\",\"pad2\",0,0,1,0.3)\n",
      "            Pad2.SetTopMargin(0)\n",
      "            Pad2.SetLeftMargin(0.16)\n",
      "            Pad2.SetBottomMargin(0.25)\n",
      "            Pad2.Draw()\n",
      "            Pad2.cd()\n",
      "        \n",
      "            CloneMC.SetMinimum(0.1); CloneMC.SetMaximum(1.9)\n",
      "            CloneMC.Sumw2()\n",
      "            CloneMC.SetStats(0)\n",
      "            CloneMC.SetTitle(\";\"+XaxisT[j]+\" \"+Units[j]+\";Data/MC\")\n",
      "            CloneMC.Divide(MCFull)\n",
      "            CloneMC.SetFillStyle(1001)\n",
      "            SetAxis(CloneMC,'X',0.9,0.09,0.007,0.09,510)\n",
      "            SetAxis(CloneMC,'Y',0.75,0.09,0.007,0.09,404)\n",
      "            CloneMC.Draw(\"E2\")\n",
      "        \n",
      "            CloneD.Sumw2()\n",
      "            #CloneD.Scale(DataNm1Histos[-1].Integral()/CloneD.Integral()); CloneE.SetStats(0)\n",
      "            CloneD.SetTitle(\";\"+XaxisT[j]+\" \"+Units[j]+\";Data/MC\")\n",
      "            CloneD.Divide(MCFull)\n",
      "            CloneD.Draw(\"E0X0 same\")\n",
      "        \n",
      "        if i==0 and j==0: CurCanv1.Print(PDFName+\"(\",\"Title:\"+Titles[j])\n",
      "        elif i==(len(CutsNm1)-1) and j==(len(Titles)-1): CurCanv1.Print(PDFName+\")\",\"Title:\"+Titles[j])\n",
      "        else: CurCanv1.Print(PDFName,\"Title:\"+Titles[j])\n",
      "        \n",
      "        CurCanv1.Clear(); CurrentStyle.SetPadTickX(0)\n",
      "        CurCanv1.cd(1)\n",
      "                    \n",
      "    #del(HistosToplot); del(CurCanv1); del(Pad1); del(Pad2)\n",
      "    #del(CloneA); del(CloneE); del(CloneE1); del(CloneE2)"
     ],
     "language": "python",
     "metadata": {},
     "outputs": [
      {
       "output_type": "stream",
       "stream": "stderr",
       "text": [
        "TH1F::Sumw2:0: RuntimeWarning: Sum of squares of weights structure already created\n",
        "TH1F::Sumw2:0: RuntimeWarning: Sum of squares of weights structure already created\n",
        "TH1F::Sumw2:0: RuntimeWarning: Sum of squares of weights structure already created\n",
        "TH1F::Sumw2:0: RuntimeWarning: Sum of squares of weights structure already created\n"
       ]
      },
      {
       "output_type": "stream",
       "stream": "stderr",
       "text": [
        "TH1F::Sumw2:0: RuntimeWarning: Sum of squares of weights structure already created\n",
        "TH1F::Sumw2:0: RuntimeWarning: Sum of squares of weights structure already created\n",
        "TH1F::Sumw2:0: RuntimeWarning: Sum of squares of weights structure already created\n"
       ]
      },
      {
       "output_type": "stream",
       "stream": "stderr",
       "text": [
        "TH1F::Sumw2:0: RuntimeWarning: Sum of squares of weights structure already created\n",
        "TH1F::Sumw2:0: RuntimeWarning: Sum of squares of weights structure already created\n",
        "TH1F::Sumw2:0: RuntimeWarning: Sum of squares of weights structure already created\n"
       ]
      },
      {
       "output_type": "stream",
       "stream": "stderr",
       "text": [
        "TH1F::Sumw2:0: RuntimeWarning: Sum of squares of weights structure already created\n",
        "TH1F::Sumw2:0: RuntimeWarning: Sum of squares of weights structure already created\n",
        "TH1F::Sumw2:0: RuntimeWarning: Sum of squares of weights structure already created\n"
       ]
      },
      {
       "output_type": "stream",
       "stream": "stderr",
       "text": [
        "TH1F::Sumw2:0: RuntimeWarning: Sum of squares of weights structure already created\n",
        "TH1F::Sumw2:0: RuntimeWarning: Sum of squares of weights structure already created\n",
        "TH1F::Sumw2:0: RuntimeWarning: Sum of squares of weights structure already created\n"
       ]
      },
      {
       "output_type": "stream",
       "stream": "stderr",
       "text": [
        "TH1F::Sumw2:0: RuntimeWarning: Sum of squares of weights structure already created\n",
        "TH1F::Sumw2:0: RuntimeWarning: Sum of squares of weights structure already created\n",
        "TH1F::Sumw2:0: RuntimeWarning: Sum of squares of weights structure already created\n"
       ]
      },
      {
       "output_type": "stream",
       "stream": "stderr",
       "text": [
        "TH1F::Sumw2:0: RuntimeWarning: Sum of squares of weights structure already created\n",
        "TH1F::Sumw2:0: RuntimeWarning: Sum of squares of weights structure already created\n",
        "TH1F::Sumw2:0: RuntimeWarning: Sum of squares of weights structure already created\n"
       ]
      },
      {
       "output_type": "stream",
       "stream": "stderr",
       "text": [
        "TH1F::Sumw2:0: RuntimeWarning: Sum of squares of weights structure already created\n",
        "TH1F::Sumw2:0: RuntimeWarning: Sum of squares of weights structure already created\n",
        "TH1F::Sumw2:0: RuntimeWarning: Sum of squares of weights structure already created\n"
       ]
      },
      {
       "output_type": "stream",
       "stream": "stderr",
       "text": [
        "TH1F::Sumw2:0: RuntimeWarning: Sum of squares of weights structure already created\n",
        "TH1F::Sumw2:0: RuntimeWarning: Sum of squares of weights structure already created\n",
        "TH1F::Sumw2:0: RuntimeWarning: Sum of squares of weights structure already created\n"
       ]
      },
      {
       "output_type": "stream",
       "stream": "stderr",
       "text": [
        "TH1F::Sumw2:0: RuntimeWarning: Sum of squares of weights structure already created\n",
        "TH1F::Sumw2:0: RuntimeWarning: Sum of squares of weights structure already created\n",
        "TH1F::Sumw2:0: RuntimeWarning: Sum of squares of weights structure already created\n"
       ]
      },
      {
       "output_type": "stream",
       "stream": "stderr",
       "text": [
        "TH1F::Sumw2:0: RuntimeWarning: Sum of squares of weights structure already created\n",
        "TH1F::Sumw2:0: RuntimeWarning: Sum of squares of weights structure already created\n",
        "TH1F::Sumw2:0: RuntimeWarning: Sum of squares of weights structure already created\n"
       ]
      },
      {
       "output_type": "stream",
       "stream": "stderr",
       "text": [
        "TH1F::Sumw2:0: RuntimeWarning: Sum of squares of weights structure already created\n",
        "TH1F::Sumw2:0: RuntimeWarning: Sum of squares of weights structure already created\n",
        "TH1F::Sumw2:0: RuntimeWarning: Sum of squares of weights structure already created\n"
       ]
      },
      {
       "output_type": "stream",
       "stream": "stderr",
       "text": [
        "TH1F::Sumw2:0: RuntimeWarning: Sum of squares of weights structure already created\n",
        "TH1F::Sumw2:0: RuntimeWarning: Sum of squares of weights structure already created\n",
        "TH1F::Sumw2:0: RuntimeWarning: Sum of squares of weights structure already created\n"
       ]
      },
      {
       "output_type": "stream",
       "stream": "stderr",
       "text": [
        "TH1F::Sumw2:0: RuntimeWarning: Sum of squares of weights structure already created\n",
        "TH1F::Sumw2:0: RuntimeWarning: Sum of squares of weights structure already created\n",
        "TH1F::Sumw2:0: RuntimeWarning: Sum of squares of weights structure already created\n"
       ]
      },
      {
       "output_type": "stream",
       "stream": "stderr",
       "text": [
        "TH1F::Sumw2:0: RuntimeWarning: Sum of squares of weights structure already created\n",
        "TH1F::Sumw2:0: RuntimeWarning: Sum of squares of weights structure already created\n",
        "TH1F::Sumw2:0: RuntimeWarning: Sum of squares of weights structure already created\n"
       ]
      },
      {
       "output_type": "stream",
       "stream": "stderr",
       "text": [
        "TH1F::Sumw2:0: RuntimeWarning: Sum of squares of weights structure already created\n",
        "TH1F::Sumw2:0: RuntimeWarning: Sum of squares of weights structure already created\n",
        "TH1F::Sumw2:0: RuntimeWarning: Sum of squares of weights structure already created\n"
       ]
      },
      {
       "output_type": "stream",
       "stream": "stderr",
       "text": [
        "TH1F::Sumw2:0: RuntimeWarning: Sum of squares of weights structure already created\n",
        "TH1F::Sumw2:0: RuntimeWarning: Sum of squares of weights structure already created\n",
        "TH1F::Sumw2:0: RuntimeWarning: Sum of squares of weights structure already created\n"
       ]
      },
      {
       "output_type": "stream",
       "stream": "stderr",
       "text": [
        "TH1F::Sumw2:0: RuntimeWarning: Sum of squares of weights structure already created\n",
        "TH1F::Sumw2:0: RuntimeWarning: Sum of squares of weights structure already created\n",
        "TH1F::Sumw2:0: RuntimeWarning: Sum of squares of weights structure already created\n"
       ]
      },
      {
       "output_type": "stream",
       "stream": "stderr",
       "text": [
        "TH1F::Sumw2:0: RuntimeWarning: Sum of squares of weights structure already created\n",
        "TH1F::Sumw2:0: RuntimeWarning: Sum of squares of weights structure already created\n",
        "TH1F::Sumw2:0: RuntimeWarning: Sum of squares of weights structure already created\n"
       ]
      },
      {
       "output_type": "stream",
       "stream": "stderr",
       "text": [
        "TH1F::Sumw2:0: RuntimeWarning: Sum of squares of weights structure already created\n",
        "TH1F::Sumw2:0: RuntimeWarning: Sum of squares of weights structure already created\n",
        "TH1F::Sumw2:0: RuntimeWarning: Sum of squares of weights structure already created\n"
       ]
      },
      {
       "output_type": "stream",
       "stream": "stderr",
       "text": [
        "TH1F::Sumw2:0: RuntimeWarning: Sum of squares of weights structure already created\n",
        "TH1F::Sumw2:0: RuntimeWarning: Sum of squares of weights structure already created\n",
        "TH1F::Sumw2:0: RuntimeWarning: Sum of squares of weights structure already created\n"
       ]
      },
      {
       "output_type": "stream",
       "stream": "stderr",
       "text": [
        "TH1F::Sumw2:0: RuntimeWarning: Sum of squares of weights structure already created\n",
        "TH1F::Sumw2:0: RuntimeWarning: Sum of squares of weights structure already created\n",
        "TH1F::Sumw2:0: RuntimeWarning: Sum of squares of weights structure already created\n"
       ]
      },
      {
       "output_type": "stream",
       "stream": "stderr",
       "text": [
        "TH1F::Sumw2:0: RuntimeWarning: Sum of squares of weights structure already created\n",
        "TH1F::Sumw2:0: RuntimeWarning: Sum of squares of weights structure already created\n",
        "TH1F::Sumw2:0: RuntimeWarning: Sum of squares of weights structure already created\n"
       ]
      },
      {
       "output_type": "stream",
       "stream": "stderr",
       "text": [
        "TH1F::Sumw2:0: RuntimeWarning: Sum of squares of weights structure already created\n",
        "TH1F::Sumw2:0: RuntimeWarning: Sum of squares of weights structure already created\n",
        "TH1F::Sumw2:0: RuntimeWarning: Sum of squares of weights structure already created\n"
       ]
      },
      {
       "output_type": "stream",
       "stream": "stderr",
       "text": [
        "TH1F::Sumw2:0: RuntimeWarning: Sum of squares of weights structure already created\n",
        "TH1F::Sumw2:0: RuntimeWarning: Sum of squares of weights structure already created\n",
        "TH1F::Sumw2:0: RuntimeWarning: Sum of squares of weights structure already created\n"
       ]
      },
      {
       "output_type": "stream",
       "stream": "stderr",
       "text": [
        "TH1F::Sumw2:0: RuntimeWarning: Sum of squares of weights structure already created\n",
        "TH1F::Sumw2:0: RuntimeWarning: Sum of squares of weights structure already created\n",
        "TH1F::Sumw2:0: RuntimeWarning: Sum of squares of weights structure already created\n"
       ]
      },
      {
       "output_type": "stream",
       "stream": "stderr",
       "text": [
        "TH1F::Sumw2:0: RuntimeWarning: Sum of squares of weights structure already created\n",
        "TH1F::Sumw2:0: RuntimeWarning: Sum of squares of weights structure already created\n",
        "TH1F::Sumw2:0: RuntimeWarning: Sum of squares of weights structure already created\n"
       ]
      },
      {
       "output_type": "stream",
       "stream": "stderr",
       "text": [
        "TH1F::Sumw2:0: RuntimeWarning: Sum of squares of weights structure already created\n",
        "TH1F::Sumw2:0: RuntimeWarning: Sum of squares of weights structure already created\n",
        "TH1F::Sumw2:0: RuntimeWarning: Sum of squares of weights structure already created\n"
       ]
      },
      {
       "output_type": "stream",
       "stream": "stderr",
       "text": [
        "TH1F::Sumw2:0: RuntimeWarning: Sum of squares of weights structure already created\n",
        "TH1F::Sumw2:0: RuntimeWarning: Sum of squares of weights structure already created\n",
        "TH1F::Sumw2:0: RuntimeWarning: Sum of squares of weights structure already created\n"
       ]
      },
      {
       "output_type": "stream",
       "stream": "stderr",
       "text": [
        "TH1F::Sumw2:0: RuntimeWarning: Sum of squares of weights structure already created\n",
        "TH1F::Sumw2:0: RuntimeWarning: Sum of squares of weights structure already created\n",
        "TH1F::Sumw2:0: RuntimeWarning: Sum of squares of weights structure already created\n"
       ]
      },
      {
       "output_type": "stream",
       "stream": "stderr",
       "text": [
        "TH1F::Sumw2:0: RuntimeWarning: Sum of squares of weights structure already created\n",
        "TH1F::Sumw2:0: RuntimeWarning: Sum of squares of weights structure already created\n",
        "TH1F::Sumw2:0: RuntimeWarning: Sum of squares of weights structure already created\n"
       ]
      },
      {
       "output_type": "stream",
       "stream": "stderr",
       "text": [
        "TH1F::Sumw2:0: RuntimeWarning: Sum of squares of weights structure already created\n",
        "TH1F::Sumw2:0: RuntimeWarning: Sum of squares of weights structure already created\n",
        "TH1F::Sumw2:0: RuntimeWarning: Sum of squares of weights structure already created\n"
       ]
      },
      {
       "output_type": "stream",
       "stream": "stderr",
       "text": [
        "TH1F::Sumw2:0: RuntimeWarning: Sum of squares of weights structure already created\n",
        "TH1F::Sumw2:0: RuntimeWarning: Sum of squares of weights structure already created\n",
        "TH1F::Sumw2:0: RuntimeWarning: Sum of squares of weights structure already created\n"
       ]
      },
      {
       "output_type": "stream",
       "stream": "stderr",
       "text": [
        "TH1F::Sumw2:0: RuntimeWarning: Sum of squares of weights structure already created\n",
        "TH1F::Sumw2:0: RuntimeWarning: Sum of squares of weights structure already created\n",
        "TH1F::Sumw2:0: RuntimeWarning: Sum of squares of weights structure already created\n"
       ]
      },
      {
       "output_type": "stream",
       "stream": "stderr",
       "text": [
        "TH1F::Sumw2:0: RuntimeWarning: Sum of squares of weights structure already created\n",
        "TH1F::Sumw2:0: RuntimeWarning: Sum of squares of weights structure already created\n",
        "TH1F::Sumw2:0: RuntimeWarning: Sum of squares of weights structure already created\n"
       ]
      },
      {
       "output_type": "stream",
       "stream": "stderr",
       "text": [
        "TH1F::Sumw2:0: RuntimeWarning: Sum of squares of weights structure already created\n",
        "TH1F::Sumw2:0: RuntimeWarning: Sum of squares of weights structure already created\n",
        "TH1F::Sumw2:0: RuntimeWarning: Sum of squares of weights structure already created\n"
       ]
      },
      {
       "output_type": "stream",
       "stream": "stderr",
       "text": [
        "TH1F::Sumw2:0: RuntimeWarning: Sum of squares of weights structure already created\n",
        "TH1F::Sumw2:0: RuntimeWarning: Sum of squares of weights structure already created\n",
        "TH1F::Sumw2:0: RuntimeWarning: Sum of squares of weights structure already created\n"
       ]
      },
      {
       "output_type": "stream",
       "stream": "stderr",
       "text": [
        "TH1F::Sumw2:0: RuntimeWarning: Sum of squares of weights structure already created\n",
        "TH1F::Sumw2:0: RuntimeWarning: Sum of squares of weights structure already created\n",
        "TH1F::Sumw2:0: RuntimeWarning: Sum of squares of weights structure already created\n"
       ]
      },
      {
       "output_type": "stream",
       "stream": "stderr",
       "text": [
        "TH1F::Sumw2:0: RuntimeWarning: Sum of squares of weights structure already created\n",
        "TH1F::Sumw2:0: RuntimeWarning: Sum of squares of weights structure already created\n",
        "TH1F::Sumw2:0: RuntimeWarning: Sum of squares of weights structure already created\n"
       ]
      },
      {
       "output_type": "stream",
       "stream": "stderr",
       "text": [
        "TH1F::Sumw2:0: RuntimeWarning: Sum of squares of weights structure already created\n",
        "TH1F::Sumw2:0: RuntimeWarning: Sum of squares of weights structure already created\n",
        "TH1F::Sumw2:0: RuntimeWarning: Sum of squares of weights structure already created\n"
       ]
      },
      {
       "output_type": "stream",
       "stream": "stderr",
       "text": [
        "TH1F::Sumw2:0: RuntimeWarning: Sum of squares of weights structure already created\n",
        "TH1F::Sumw2:0: RuntimeWarning: Sum of squares of weights structure already created\n",
        "TH1F::Sumw2:0: RuntimeWarning: Sum of squares of weights structure already created\n"
       ]
      },
      {
       "output_type": "stream",
       "stream": "stderr",
       "text": [
        "TH1F::Sumw2:0: RuntimeWarning: Sum of squares of weights structure already created\n",
        "TH1F::Sumw2:0: RuntimeWarning: Sum of squares of weights structure already created\n",
        "TH1F::Sumw2:0: RuntimeWarning: Sum of squares of weights structure already created\n"
       ]
      },
      {
       "output_type": "stream",
       "stream": "stderr",
       "text": [
        "TH1F::Sumw2:0: RuntimeWarning: Sum of squares of weights structure already created\n",
        "TH1F::Sumw2:0: RuntimeWarning: Sum of squares of weights structure already created\n",
        "TH1F::Sumw2:0: RuntimeWarning: Sum of squares of weights structure already created\n"
       ]
      },
      {
       "output_type": "stream",
       "stream": "stderr",
       "text": [
        "TH1F::Sumw2:0: RuntimeWarning: Sum of squares of weights structure already created\n",
        "TH1F::Sumw2:0: RuntimeWarning: Sum of squares of weights structure already created\n",
        "TH1F::Sumw2:0: RuntimeWarning: Sum of squares of weights structure already created\n"
       ]
      },
      {
       "output_type": "stream",
       "stream": "stderr",
       "text": [
        "TH1F::Sumw2:0: RuntimeWarning: Sum of squares of weights structure already created\n",
        "TH1F::Sumw2:0: RuntimeWarning: Sum of squares of weights structure already created\n",
        "TH1F::Sumw2:0: RuntimeWarning: Sum of squares of weights structure already created\n"
       ]
      },
      {
       "output_type": "stream",
       "stream": "stderr",
       "text": [
        "TH1F::Sumw2:0: RuntimeWarning: Sum of squares of weights structure already created\n",
        "TH1F::Sumw2:0: RuntimeWarning: Sum of squares of weights structure already created\n",
        "TH1F::Sumw2:0: RuntimeWarning: Sum of squares of weights structure already created\n"
       ]
      },
      {
       "output_type": "stream",
       "stream": "stderr",
       "text": [
        "TH1F::Sumw2:0: RuntimeWarning: Sum of squares of weights structure already created\n",
        "TH1F::Sumw2:0: RuntimeWarning: Sum of squares of weights structure already created\n",
        "TH1F::Sumw2:0: RuntimeWarning: Sum of squares of weights structure already created\n"
       ]
      },
      {
       "output_type": "stream",
       "stream": "stderr",
       "text": [
        "TH1F::Sumw2:0: RuntimeWarning: Sum of squares of weights structure already created\n",
        "TH1F::Sumw2:0: RuntimeWarning: Sum of squares of weights structure already created\n",
        "TH1F::Sumw2:0: RuntimeWarning: Sum of squares of weights structure already created\n"
       ]
      },
      {
       "output_type": "stream",
       "stream": "stderr",
       "text": [
        "TH1F::Sumw2:0: RuntimeWarning: Sum of squares of weights structure already created\n",
        "TH1F::Sumw2:0: RuntimeWarning: Sum of squares of weights structure already created\n",
        "TH1F::Sumw2:0: RuntimeWarning: Sum of squares of weights structure already created\n"
       ]
      },
      {
       "output_type": "stream",
       "stream": "stderr",
       "text": [
        "TH1F::Sumw2:0: RuntimeWarning: Sum of squares of weights structure already created\n",
        "TH1F::Sumw2:0: RuntimeWarning: Sum of squares of weights structure already created\n",
        "TH1F::Sumw2:0: RuntimeWarning: Sum of squares of weights structure already created\n"
       ]
      },
      {
       "output_type": "stream",
       "stream": "stderr",
       "text": [
        "TH1F::Sumw2:0: RuntimeWarning: Sum of squares of weights structure already created\n",
        "TH1F::Sumw2:0: RuntimeWarning: Sum of squares of weights structure already created\n",
        "TH1F::Sumw2:0: RuntimeWarning: Sum of squares of weights structure already created\n"
       ]
      },
      {
       "output_type": "stream",
       "stream": "stderr",
       "text": [
        "TH1F::Sumw2:0: RuntimeWarning: Sum of squares of weights structure already created\n",
        "TH1F::Sumw2:0: RuntimeWarning: Sum of squares of weights structure already created\n",
        "TH1F::Sumw2:0: RuntimeWarning: Sum of squares of weights structure already created\n"
       ]
      },
      {
       "output_type": "stream",
       "stream": "stderr",
       "text": [
        "TH1F::Sumw2:0: RuntimeWarning: Sum of squares of weights structure already created\n",
        "TH1F::Sumw2:0: RuntimeWarning: Sum of squares of weights structure already created\n",
        "TH1F::Sumw2:0: RuntimeWarning: Sum of squares of weights structure already created\n"
       ]
      },
      {
       "output_type": "stream",
       "stream": "stderr",
       "text": [
        "TH1F::Sumw2:0: RuntimeWarning: Sum of squares of weights structure already created\n",
        "TH1F::Sumw2:0: RuntimeWarning: Sum of squares of weights structure already created\n",
        "TH1F::Sumw2:0: RuntimeWarning: Sum of squares of weights structure already created\n"
       ]
      },
      {
       "output_type": "stream",
       "stream": "stderr",
       "text": [
        "TH1F::Sumw2:0: RuntimeWarning: Sum of squares of weights structure already created\n",
        "TH1F::Sumw2:0: RuntimeWarning: Sum of squares of weights structure already created\n",
        "TH1F::Sumw2:0: RuntimeWarning: Sum of squares of weights structure already created\n"
       ]
      },
      {
       "output_type": "stream",
       "stream": "stderr",
       "text": [
        "TH1F::Sumw2:0: RuntimeWarning: Sum of squares of weights structure already created\n",
        "TH1F::Sumw2:0: RuntimeWarning: Sum of squares of weights structure already created\n",
        "TH1F::Sumw2:0: RuntimeWarning: Sum of squares of weights structure already created\n"
       ]
      },
      {
       "output_type": "stream",
       "stream": "stderr",
       "text": [
        "TH1F::Sumw2:0: RuntimeWarning: Sum of squares of weights structure already created\n",
        "TH1F::Sumw2:0: RuntimeWarning: Sum of squares of weights structure already created\n",
        "TH1F::Sumw2:0: RuntimeWarning: Sum of squares of weights structure already created\n"
       ]
      },
      {
       "output_type": "stream",
       "stream": "stderr",
       "text": [
        "TH1F::Sumw2:0: RuntimeWarning: Sum of squares of weights structure already created\n",
        "TH1F::Sumw2:0: RuntimeWarning: Sum of squares of weights structure already created\n",
        "TH1F::Sumw2:0: RuntimeWarning: Sum of squares of weights structure already created\n"
       ]
      },
      {
       "output_type": "stream",
       "stream": "stderr",
       "text": [
        "TH1F::Sumw2:0: RuntimeWarning: Sum of squares of weights structure already created\n",
        "TH1F::Sumw2:0: RuntimeWarning: Sum of squares of weights structure already created\n",
        "TH1F::Sumw2:0: RuntimeWarning: Sum of squares of weights structure already created\n"
       ]
      },
      {
       "output_type": "stream",
       "stream": "stderr",
       "text": [
        "TH1F::Sumw2:0: RuntimeWarning: Sum of squares of weights structure already created\n",
        "TH1F::Sumw2:0: RuntimeWarning: Sum of squares of weights structure already created\n",
        "TH1F::Sumw2:0: RuntimeWarning: Sum of squares of weights structure already created\n"
       ]
      },
      {
       "output_type": "stream",
       "stream": "stderr",
       "text": [
        "TH1F::Sumw2:0: RuntimeWarning: Sum of squares of weights structure already created\n",
        "TH1F::Sumw2:0: RuntimeWarning: Sum of squares of weights structure already created\n",
        "TH1F::Sumw2:0: RuntimeWarning: Sum of squares of weights structure already created\n"
       ]
      },
      {
       "output_type": "stream",
       "stream": "stderr",
       "text": [
        "TH1F::Sumw2:0: RuntimeWarning: Sum of squares of weights structure already created\n",
        "TH1F::Sumw2:0: RuntimeWarning: Sum of squares of weights structure already created\n",
        "TH1F::Sumw2:0: RuntimeWarning: Sum of squares of weights structure already created\n"
       ]
      },
      {
       "output_type": "stream",
       "stream": "stderr",
       "text": [
        "TH1F::Sumw2:0: RuntimeWarning: Sum of squares of weights structure already created\n",
        "TH1F::Sumw2:0: RuntimeWarning: Sum of squares of weights structure already created\n",
        "TH1F::Sumw2:0: RuntimeWarning: Sum of squares of weights structure already created\n"
       ]
      },
      {
       "output_type": "stream",
       "stream": "stderr",
       "text": [
        "TH1F::Sumw2:0: RuntimeWarning: Sum of squares of weights structure already created\n",
        "TH1F::Sumw2:0: RuntimeWarning: Sum of squares of weights structure already created\n",
        "TH1F::Sumw2:0: RuntimeWarning: Sum of squares of weights structure already created\n"
       ]
      },
      {
       "output_type": "stream",
       "stream": "stderr",
       "text": [
        "TH1F::Sumw2:0: RuntimeWarning: Sum of squares of weights structure already created\n",
        "TH1F::Sumw2:0: RuntimeWarning: Sum of squares of weights structure already created\n",
        "TH1F::Sumw2:0: RuntimeWarning: Sum of squares of weights structure already created\n"
       ]
      },
      {
       "output_type": "stream",
       "stream": "stderr",
       "text": [
        "TH1F::Sumw2:0: RuntimeWarning: Sum of squares of weights structure already created\n",
        "TH1F::Sumw2:0: RuntimeWarning: Sum of squares of weights structure already created\n",
        "TH1F::Sumw2:0: RuntimeWarning: Sum of squares of weights structure already created\n"
       ]
      },
      {
       "output_type": "stream",
       "stream": "stderr",
       "text": [
        "TH1F::Sumw2:0: RuntimeWarning: Sum of squares of weights structure already created\n",
        "TH1F::Sumw2:0: RuntimeWarning: Sum of squares of weights structure already created\n",
        "TH1F::Sumw2:0: RuntimeWarning: Sum of squares of weights structure already created\n"
       ]
      },
      {
       "output_type": "stream",
       "stream": "stderr",
       "text": [
        "TH1F::Sumw2:0: RuntimeWarning: Sum of squares of weights structure already created\n",
        "TH1F::Sumw2:0: RuntimeWarning: Sum of squares of weights structure already created\n",
        "TH1F::Sumw2:0: RuntimeWarning: Sum of squares of weights structure already created\n"
       ]
      },
      {
       "output_type": "stream",
       "stream": "stderr",
       "text": [
        "TH1F::Sumw2:0: RuntimeWarning: Sum of squares of weights structure already created\n",
        "TH1F::Sumw2:0: RuntimeWarning: Sum of squares of weights structure already created\n",
        "TH1F::Sumw2:0: RuntimeWarning: Sum of squares of weights structure already created\n"
       ]
      },
      {
       "output_type": "stream",
       "stream": "stderr",
       "text": [
        "TH1F::Sumw2:0: RuntimeWarning: Sum of squares of weights structure already created\n",
        "TH1F::Sumw2:0: RuntimeWarning: Sum of squares of weights structure already created\n",
        "TH1F::Sumw2:0: RuntimeWarning: Sum of squares of weights structure already created\n"
       ]
      },
      {
       "output_type": "stream",
       "stream": "stderr",
       "text": [
        "TH1F::Sumw2:0: RuntimeWarning: Sum of squares of weights structure already created\n",
        "TH1F::Sumw2:0: RuntimeWarning: Sum of squares of weights structure already created\n",
        "TH1F::Sumw2:0: RuntimeWarning: Sum of squares of weights structure already created\n"
       ]
      },
      {
       "output_type": "stream",
       "stream": "stderr",
       "text": [
        "TH1F::Sumw2:0: RuntimeWarning: Sum of squares of weights structure already created\n",
        "TH1F::Sumw2:0: RuntimeWarning: Sum of squares of weights structure already created\n",
        "TH1F::Sumw2:0: RuntimeWarning: Sum of squares of weights structure already created\n"
       ]
      },
      {
       "output_type": "stream",
       "stream": "stderr",
       "text": [
        "TH1F::Sumw2:0: RuntimeWarning: Sum of squares of weights structure already created\n",
        "TH1F::Sumw2:0: RuntimeWarning: Sum of squares of weights structure already created\n",
        "TH1F::Sumw2:0: RuntimeWarning: Sum of squares of weights structure already created\n"
       ]
      },
      {
       "output_type": "stream",
       "stream": "stderr",
       "text": [
        "TH1F::Sumw2:0: RuntimeWarning: Sum of squares of weights structure already created\n",
        "TH1F::Sumw2:0: RuntimeWarning: Sum of squares of weights structure already created\n",
        "TH1F::Sumw2:0: RuntimeWarning: Sum of squares of weights structure already created\n"
       ]
      },
      {
       "output_type": "stream",
       "stream": "stderr",
       "text": [
        "TH1F::Sumw2:0: RuntimeWarning: Sum of squares of weights structure already created\n",
        "TH1F::Sumw2:0: RuntimeWarning: Sum of squares of weights structure already created\n",
        "TH1F::Sumw2:0: RuntimeWarning: Sum of squares of weights structure already created\n"
       ]
      },
      {
       "output_type": "stream",
       "stream": "stderr",
       "text": [
        "TH1F::Sumw2:0: RuntimeWarning: Sum of squares of weights structure already created\n",
        "TH1F::Sumw2:0: RuntimeWarning: Sum of squares of weights structure already created\n",
        "TH1F::Sumw2:0: RuntimeWarning: Sum of squares of weights structure already created\n"
       ]
      },
      {
       "output_type": "stream",
       "stream": "stderr",
       "text": [
        "TH1F::Sumw2:0: RuntimeWarning: Sum of squares of weights structure already created\n",
        "TH1F::Sumw2:0: RuntimeWarning: Sum of squares of weights structure already created\n",
        "TH1F::Sumw2:0: RuntimeWarning: Sum of squares of weights structure already created\n"
       ]
      },
      {
       "output_type": "stream",
       "stream": "stderr",
       "text": [
        "TH1F::Sumw2:0: RuntimeWarning: Sum of squares of weights structure already created\n",
        "TH1F::Sumw2:0: RuntimeWarning: Sum of squares of weights structure already created\n"
       ]
      },
      {
       "output_type": "stream",
       "stream": "stderr",
       "text": [
        "TH1F::Sumw2:0: RuntimeWarning: Sum of squares of weights structure already created\n",
        "TH1F::Sumw2:0: RuntimeWarning: Sum of squares of weights structure already created\n",
        "TH1F::Sumw2:0: RuntimeWarning: Sum of squares of weights structure already created\n",
        "TH1F::Sumw2:0: RuntimeWarning: Sum of squares of weights structure already created\n"
       ]
      },
      {
       "output_type": "stream",
       "stream": "stderr",
       "text": [
        "TH1F::Sumw2:0: RuntimeWarning: Sum of squares of weights structure already created\n",
        "TH1F::Sumw2:0: RuntimeWarning: Sum of squares of weights structure already created\n",
        "TH1F::Sumw2:0: RuntimeWarning: Sum of squares of weights structure already created\n"
       ]
      },
      {
       "output_type": "stream",
       "stream": "stderr",
       "text": [
        "TH1F::Sumw2:0: RuntimeWarning: Sum of squares of weights structure already created\n",
        "TH1F::Sumw2:0: RuntimeWarning: Sum of squares of weights structure already created\n",
        "TH1F::Sumw2:0: RuntimeWarning: Sum of squares of weights structure already created\n"
       ]
      },
      {
       "output_type": "stream",
       "stream": "stderr",
       "text": [
        "TH1F::Sumw2:0: RuntimeWarning: Sum of squares of weights structure already created\n",
        "TH1F::Sumw2:0: RuntimeWarning: Sum of squares of weights structure already created\n"
       ]
      },
      {
       "output_type": "stream",
       "stream": "stderr",
       "text": [
        "TH1F::Sumw2:0: RuntimeWarning: Sum of squares of weights structure already created\n",
        "TH1F::Sumw2:0: RuntimeWarning: Sum of squares of weights structure already created\n",
        "TH1F::Sumw2:0: RuntimeWarning: Sum of squares of weights structure already created\n"
       ]
      },
      {
       "output_type": "stream",
       "stream": "stderr",
       "text": [
        "TH1F::Sumw2:0: RuntimeWarning: Sum of squares of weights structure already created\n",
        "TH1F::Sumw2:0: RuntimeWarning: Sum of squares of weights structure already created\n",
        "TH1F::Sumw2:0: RuntimeWarning: Sum of squares of weights structure already created\n",
        "TH1F::Sumw2:0: RuntimeWarning: Sum of squares of weights structure already created\n"
       ]
      },
      {
       "output_type": "stream",
       "stream": "stderr",
       "text": [
        "TH1F::Sumw2:0: RuntimeWarning: Sum of squares of weights structure already created\n",
        "TH1F::Sumw2:0: RuntimeWarning: Sum of squares of weights structure already created\n",
        "TH1F::Sumw2:0: RuntimeWarning: Sum of squares of weights structure already created\n"
       ]
      },
      {
       "output_type": "stream",
       "stream": "stderr",
       "text": [
        "TH1F::Sumw2:0: RuntimeWarning: Sum of squares of weights structure already created\n",
        "TH1F::Sumw2:0: RuntimeWarning: Sum of squares of weights structure already created\n",
        "TH1F::Sumw2:0: RuntimeWarning: Sum of squares of weights structure already created\n"
       ]
      },
      {
       "output_type": "stream",
       "stream": "stderr",
       "text": [
        "TH1F::Sumw2:0: RuntimeWarning: Sum of squares of weights structure already created\n",
        "TH1F::Sumw2:0: RuntimeWarning: Sum of squares of weights structure already created\n",
        "TH1F::Sumw2:0: RuntimeWarning: Sum of squares of weights structure already created\n"
       ]
      },
      {
       "output_type": "stream",
       "stream": "stderr",
       "text": [
        "TH1F::Sumw2:0: RuntimeWarning: Sum of squares of weights structure already created\n",
        "TH1F::Sumw2:0: RuntimeWarning: Sum of squares of weights structure already created\n"
       ]
      }
     ],
     "prompt_number": 7
    },
    {
     "cell_type": "heading",
     "level": 3,
     "metadata": {},
     "source": [
      "Nminus1 plots, Analysis selection, Control Sample"
     ]
    },
    {
     "cell_type": "code",
     "collapsed": false,
     "input": [
      "CutsNm1=[ROOT.TCut(\"\"),Cut1,CutDRbb,CutDRWH,CutHM,CutM2HP,CutDRTp6thJ,CutRelHT]\n",
      "OptVersion=NominalV+\"_\"+InclusiveV1+\"_\"+InclusiveV2\n",
      "\n",
      "CumulCut=ROOT.TCut(\"\")*CutHT\n",
      "SF=ROOT.TCut(\"weight\")\n",
      "PU=ROOT.TCut(\"PUR_function(NTI)\")\n",
      "#CMC=ROOT.TCut(\"weight*PUR_function(NTI)\")\n",
      "#CMC=PU\n",
      "CMC=ROOT.TCut(\"\")\n",
      "#CumulCut=CMC\n",
      "\n",
      "#\"M5J:DRHJ:DRWH:RelHT:Eta6thJ:M2HP:DRTp6thJ:HM:chi2:MTHAsym\"\n",
      "\n",
      "PDFName=\"Nminus1_AnaSel_ControlSampleOneCombination_Chi2g8_0to500_Final_\"+OptVersion+\".pdf\"\n",
      "CurCanv = rootnotes.canvas(\"MyPlot\", (600, 800))\n",
      "Titles=[\"chi2\", \"DRHJ\",\"DRWH\", \"M2HP\", \"DRTp6thJ\", \"HM\", \"RelHT\", \"MTHAsym\", \n",
      "        \"THT\", \"NComb\"]\n",
      "\n",
      "BinsLimits=[\"(50,0,500)\",\"(22,0.5,5)\",\"(40,0.5,10)\",\"(41,0,20)\",\"(30,0.5,10)\",\"(25,60,190)\",\"(20,0.1,1.0)\",\"(30,-0.5,1)\",\n",
      "            \"(50,400,3000)\", \"(19,1,20)\"]\n",
      "Units=[\"\",\"\",\"\",\"\",\"\",\"GeV/c^{2}\",\"\",\"\",\n",
      "       \"GeV/c\",\"\"]\n",
      "XaxisT=[\"#chi^{2}\",\"#Delta R(bb)\", \"#Delta R(WH)\", \"(M(t^{2nd})+M(W^{2nd}))/M(H)\", \"#Delta R (T' j^{6})\", \"M(H)\",\n",
      "        \"Relative H_{T}\", \"(M(t)-M(H))/(M(t)+M(H))\",\n",
      "        \"H_{T}\",\"N combinations\"]\n",
      "\n",
      "ValString=[\"Data\",\"TTbar\",\"QCD\",\"MC-Sum\"]\n",
      "\n",
      "QCDInt=[]; TopInt=[]; DibInt=[]\n",
      "\n",
      "for i in xrange(len(CutsNm1)):\n",
      "    CumulCut=CumulCut*CutsNm1[i]\n",
      "    for j in xrange(len(Titles)):\n",
      "        TTbarNm1Histos=[]; DataNm1Histos=[]; QCDNm1Histos=[]\n",
      "        SingleTNm1Histos=[]; DibosonNm1Histos=[]; DYNm1Histos=[]\n",
      "        SignalNm1Histos=[]\n",
      "    \n",
      "        NMassPointsE[2].Draw(Titles[j]+\" >> \"+Titles[j]+\"S_Cut\"+str(i)+str(j)+BinsLimits[j],CumulCut*CMC)\n",
      "        SignalNm1Histos.append(ROOT.gDirectory.Get(Titles[j]+\"S_Cut\"+str(i)+str(j)))\n",
      "        SignalNm1Histos[-1].Sumw2(); SignalNm1Histos[-1].Scale(SWeight)\n",
      "    \n",
      "        TntupleE.Draw(Titles[j]+\" >> \"+Titles[j]+\"T_Cut\"+str(i)+str(j)+BinsLimits[j],CumulCut*CMC)\n",
      "        TTbarNm1Histos.append(ROOT.gDirectory.Get(Titles[j]+\"T_Cut\"+str(i)+str(j)))\n",
      "        TTbarNm1Histos[-1].Sumw2(); TTbarNm1Histos[-1].Scale(TWeight) #; TTbarHistos[-1].Write()\n",
      "        if j==8: TopInt.append(TTbarNm1Histos[-1].Integral())\n",
      "                \n",
      "        QCDHT=[]\n",
      "        QntuplesE[0].Draw(Titles[j]+\" >> \"+Titles[j]+\"Q500_Cut\"+str(i)+str(j)+BinsLimits[j],CumulCut*CMC)\n",
      "        QCDHT.append(ROOT.gDirectory.Get(Titles[j]+\"Q500_Cut\"+str(i)+str(j)))\n",
      "        QCDHT[-1].Sumw2(); QCDHT[-1].Scale(QWeights[0]) #; QCD500Histos[-1].Write()\n",
      "        \n",
      "        QntuplesE[1].Draw(Titles[j]+\" >> \"+Titles[j]+\"Q1000_Cut\"+str(i)+str(j)+BinsLimits[j],CumulCut*CMC)\n",
      "        QCDHT.append(ROOT.gDirectory.Get(Titles[j]+\"Q1000_Cut\"+str(i)+str(j)))\n",
      "        QCDHT[-1].Sumw2(); QCDHT[-1].Scale(QWeights[1]) #; QCD1000Histos[-1].Write()\n",
      "    \n",
      "        STHT=[]\n",
      "        for k in xrange(6): #Single Top\n",
      "            if SubBKGArrayE[k].GetEntries()>0:\n",
      "                SubBKGArrayE[k].Draw(Titles[j]+\" >> \"+Titles[j]+\"ST_Cut\"+str(i)+str(j)+\"_\"+str(k)+BinsLimits[j],CumulCut*CMC)\n",
      "                STHT.append(ROOT.gDirectory.Get(Titles[j]+\"ST_Cut\"+str(i)+str(j)+\"_\"+str(k)))\n",
      "                STHT[-1].Sumw2(); STHT[-1].Scale(SingleTWeights[k])\n",
      "        SingleTNm1Histos.append(STHT)\n",
      "            \n",
      "        DiHT=[]\n",
      "        for k in xrange(3): #Diboson\n",
      "            if SubBKGArrayE[k+6].GetEntries()>0:\n",
      "                SubBKGArrayE[k+6].Draw(Titles[j]+\" >> \"+Titles[j]+\"Di_Cut\"+str(i)+str(j)+\"_\"+str(k)+BinsLimits[j],CumulCut*CMC)\n",
      "                DiHT.append(ROOT.gDirectory.Get(Titles[j]+\"Di_Cut\"+str(i)+str(j)+\"_\"+str(k)))\n",
      "                DiHT[-1].Sumw2(); DiHT[-1].Scale(DibosonWeights[k])\n",
      "        DibosonNm1Histos.append(DiHT)\n",
      "        \n",
      "        DYHT=[]\n",
      "        for k in xrange(2): #DY\n",
      "            if SubBKGArrayE[k+9].GetEntries()>0:\n",
      "                SubBKGArrayE[k+9].Draw(Titles[j]+\" >> \"+Titles[j]+\"DY_Cut\"+str(i)+str(j)+\"_\"+str(k)+BinsLimits[j],CumulCut*CMC)\n",
      "                DYHT.append(ROOT.gDirectory.Get(Titles[j]+\"DY_Cut\"+str(i)+str(j)+\"_\"+str(k)))\n",
      "                DYHT[-1].Sumw2(); DYHT[-1].Scale(DYWeights[k])\n",
      "        DYNm1Histos.append(DYHT)\n",
      "        \n",
      "        if QCDPTFLAG: \n",
      "            for k in xrange(6): #QCD PT hat\n",
      "                if SubBKGArrayE[k+11].GetEntries()>0:\n",
      "                    SubBKGArrayE[k+11].Draw(Titles[j]+\" >> \"+Titles[j]+\"QCDPT_Cut\"+str(i)+str(j)+\"_\"+str(k)+BinsLimits[j],CumulCut*CMC)\n",
      "                    QCDHT.append(ROOT.gDirectory.Get(Titles[j]+\"QCDPT_Cut\"+str(i)+str(j)+\"_\"+str(k)))\n",
      "                    QCDHT[-1].Sumw2(); QCDHT[-1].Scale(QCDPTWeights[k])\n",
      "        QCDNm1Histos.append(QCDHT)\n",
      "\n",
      "        QCDFull=QCDNm1Histos[-1][0].Clone(Titles[j]+\"Q_Cut\"+str(i)+str(j)); QCDFull.Sumw2()\n",
      "        for k in QCDNm1Histos[-1][1:]:\n",
      "            QCDFull.Add(k)\n",
      "        if j==8: QCDInt.append(QCDFull.Integral())\n",
      "        \n",
      "        SingleTFull=SingleTNm1Histos[-1][0].Clone(Titles[j]+\"ST_Cut\"+str(i)+str(j)); SingleTFull.Sumw2()\n",
      "        for k in SingleTNm1Histos[-1][1:]:\n",
      "            SingleTFull.Add(k)\n",
      "        if j==8: TopInt[-1]+=SingleTFull.Integral()\n",
      "        \n",
      "        DibosonFull=DibosonNm1Histos[-1][0].Clone(Titles[j]+\"Di_Cut\"+str(i)+str(j)); DibosonFull.Sumw2()\n",
      "        for k in DibosonNm1Histos[-1][1:]:\n",
      "            DibosonFull.Add(k)\n",
      "        if j==8: DibInt.append(DibosonFull.Integral())\n",
      "        \n",
      "        DYFull=DYNm1Histos[-1][0].Clone(Titles[j]+\"DY_Cut\"+str(i)+str(j))\n",
      "        for k in DYNm1Histos[-1][1:]:\n",
      "            DYFull.Add(k)\n",
      "    \n",
      "        MCFull=QCDFull.Clone(Titles[j]+\"MC_Cut\"+str(i)+str(j))\n",
      "        MCFull.Add(TTbarNm1Histos[-1])\n",
      "        MCFull.Add(SingleTFull)\n",
      "        MCFull.Add(DibosonFull)\n",
      "        MCFull.Add(DYFull)\n",
      "\n",
      "        DataE[0].Draw(Titles[j]+\" >> \"+Titles[j]+\"D_Cut\"+str(i)+str(j)+BinsLimits[j],CumulCut)\n",
      "        DataNm1Histos.append(ROOT.gDirectory.Get(Titles[j]+\"D_Cut\"+str(i)+str(j)))\n",
      "\n",
      "        ROOT.gPad.Clear()\n",
      "\n",
      "        CurrentStyle=ROOT.TStyle(\"CStyle\",\"Style for Plotting\")\n",
      "    \n",
      "        CurrentStyle.SetTitleSize(0.08, \"Y\")\n",
      "        CurrentStyle.SetTitleYOffset(1.5)\n",
      "                \n",
      "        CurCanv1 = rootnotes.canvas(\"MyPlot\", (600, 800))\n",
      "        CurCanv1.cd(1)\n",
      "        Pad1=ROOT.TPad(\"pad1\",\"pad1\",0,0.3,1,1)\n",
      "        Pad1.SetBottomMargin(0)\n",
      "        Pad1.SetLeftMargin(0.16)\n",
      "        Pad1.Draw()\n",
      "        Pad1.cd()\n",
      "        \n",
      "        MCFull.SetStats(ROOT.kFALSE)\n",
      "        MinX=float(BinsLimits[j].split(\",\")[1])\n",
      "        MaxX=float(BinsLimits[j].split(\",\")[-1][0:-1])\n",
      "        Nbins=int(BinsLimits[j].split(\",\")[0][1:])\n",
      "        if i!=5: MCFull.SetTitle(\";;Events/{0:.1f} \".format((MaxX-MinX)/Nbins)+Units[j])\n",
      "        else: MCFull.SetTitle(\";;Events/{0:.2f} \".format((MaxX-MinX)/Nbins)+Units[j])\n",
      "        SetAxis(MCFull,'Y',1.45,0.05,0.007,0.05,510)\n",
      "        SetAxis(DataNm1Histos[-1],'Y',1.45,0.05,0.007,0.05,510)\n",
      "        SetAxis(SignalNm1Histos[-1],'Y',1.45,0.05,0.007,0.05,510)\n",
      "        SetAxis(TTbarNm1Histos[-1],'Y',1.45,0.05,0.007,0.05,510)\n",
      "        SetAxis(QCDFull,'Y',1.45,0.05,0.007,0.05,510)\n",
      "        SetAxis(SingleTFull,'Y',1.45,0.05,0.007,0.05,510)\n",
      "        SetAxis(DibosonFull,'Y',1.45,0.05,0.007,0.05,510)\n",
      "        SetAxis(DYFull,'Y',1.45,0.05,0.007,0.05,510)\n",
      "    \n",
      "        SetCos(DataNm1Histos[-1],0,0,ROOT.kBlack,2,1,20)\n",
      "        SetCos(SignalNm1Histos[-1],ROOT.kSpring,3444,ROOT.kBlack,2,1,1)\n",
      "        SetCos(TTbarNm1Histos[-1],ROOT.kRed,3345,ROOT.kBlack,1,1,1)\n",
      "        SetCos(QCDFull,ROOT.kViolet,1001,ROOT.kBlack,1,1,1)\n",
      "        SetCos(SingleTFull,ROOT.kBlack,3305,ROOT.kBlack,1,1,1)\n",
      "        SetCos(DibosonFull,ROOT.kWhite,1001,ROOT.kBlack,1,1,1)\n",
      "        SetCos(DYFull,ROOT.kBlue,1001,ROOT.kBlack,1,1,1)\n",
      "        SetCos(MCFull,ROOT.kGray+2,3144,ROOT.kGray+2,1,1,1)\n",
      "            \n",
      "        CloneD=DataNm1Histos[-1].Clone(\"CopyD\"); CloneMC=MCFull.Clone(\"CopyMC\")\n",
      "        if j!=6: AllBKGStack=ROOT.THStack(\"AllBKGStack\", \";;Events/{0:.1f} \".format((MaxX-MinX)/Nbins)+Units[j])\n",
      "        else: AllBKGStack=ROOT.THStack(\"AllBKGStack\", \";;Events/{0:.2f} \".format((MaxX-MinX)/Nbins)+Units[j])\n",
      "        AllBKGStack.Add(DibosonFull); AllBKGStack.Add(SingleTFull)\n",
      "        AllBKGStack.Add(TTbarNm1Histos[-1]); AllBKGStack.Add(DYFull); AllBKGStack.Add(QCDFull)\n",
      "        AllBKGStack.SetMinimum(0.3)\n",
      "    \n",
      "        if j<6 or j>7: LEG=ROOT.TLegend(0.6,0.6,0.9,0.9)\n",
      "        else: LEG=ROOT.TLegend(0.2,0.6,0.5,0.9)\n",
      "        LEG.AddEntry(DataNm1Histos[-1], \"Data\", \"p\")\n",
      "        LEG.AddEntry(QCDFull, \"QCD\", \"f\")\n",
      "        LEG.AddEntry(DYFull, \"Zjets\", \"f\")\n",
      "        LEG.AddEntry(TTbarNm1Histos[-1], \"TTbar\", \"f\")\n",
      "        LEG.AddEntry(SingleTFull, \"Single Top\", \"f\")\n",
      "        LEG.AddEntry(DibosonFull, \"Diboson\", \"f\")\n",
      "        LEG.AddEntry(SignalNm1Histos[-1], \"Signal M(T')=700 GeV/c^{2}\", \"f\")\n",
      "        LEG.SetFillColor(0)\n",
      "        Maxima=[MCFull.GetBinErrorUp(MCFull.GetMaximumBin())+MCFull.GetMaximum(),DataNm1Histos[-1].GetBinErrorUp(DataNm1Histos[-1].GetMaximumBin())+DataNm1Histos[-1].GetMaximum()]\n",
      "        AllBKGStack.SetMaximum(1.05*max(Maxima))\n",
      "        AllBKGStack.Draw(\"hist\")\n",
      "        AllBKGStack.GetHistogram().GetYaxis().SetTitleOffset(1.65)\n",
      "        MCFull.Draw(\"e2 same\")\n",
      "        SignalNm1Histos[-1].Draw(\"hist same\"); DataNm1Histos[-1].Draw(\"E0X0 same\")\n",
      "        if i!=len(CutsNm1): Pad1.SetLogy(); Pad1.RedrawAxis()\n",
      "    \n",
      "        LEG.Draw()\n",
      "        CurrentStyle.SetPadTickX(1)\n",
      "        CurCanv1.cd()\n",
      "        \n",
      "        Pad2=ROOT.TPad(\"pad2\",\"pad2\",0,0,1,0.3)\n",
      "        Pad2.SetTopMargin(0)\n",
      "        Pad2.SetLeftMargin(0.16)\n",
      "        Pad2.SetBottomMargin(0.25)\n",
      "        Pad2.Draw()\n",
      "        Pad2.cd()\n",
      "        \n",
      "        CloneMC.SetMinimum(0.1); CloneMC.SetMaximum(1.9)\n",
      "        CloneMC.Sumw2()\n",
      "        CloneMC.SetStats(0)\n",
      "        CloneMC.SetTitle(\";\"+XaxisT[j]+\" \"+Units[j]+\";Data/MC\")\n",
      "        CloneMC.Divide(MCFull)\n",
      "        CloneMC.SetFillStyle(1001)\n",
      "        SetAxis(CloneMC,'X',0.9,0.09,0.007,0.09,510)\n",
      "        SetAxis(CloneMC,'Y',0.75,0.09,0.007,0.09,404)\n",
      "        CloneMC.Draw(\"E2\")\n",
      "        \n",
      "        CloneD.Sumw2()\n",
      "        #CloneD.Scale(DataNm1Histos[-1].Integral()/CloneD.Integral()); CloneE.SetStats(0)\n",
      "        CloneD.SetTitle(\";\"+XaxisT[j]+\" \"+Units[j]+\";Data/MC\")\n",
      "        CloneD.Divide(MCFull)\n",
      "        CloneD.Draw(\"E0X0 same\")\n",
      "        \n",
      "        if i==0 and j==0: CurCanv1.Print(PDFName+\"(\",\"Title:\"+Titles[j])\n",
      "        elif i==(len(CutsNm1)-1) and j==(len(Titles)-1): CurCanv1.Print(PDFName+\")\",\"Title:\"+Titles[j])\n",
      "        else: CurCanv1.Print(PDFName,\"Title:\"+Titles[j])\n",
      "        \n",
      "        CurCanv1.Clear(); CurrentStyle.SetPadTickX(0)\n",
      "        CurCanv1.cd(1)\n",
      "                    \n",
      "    #del(HistosToplot); del(CurCanv1); del(Pad1); del(Pad2)\n",
      "    #del(CloneA); del(CloneE); del(CloneE1); del(CloneE2)\n",
      "print QCDInt\n",
      "print TopInt\n",
      "print DibInt"
     ],
     "language": "python",
     "metadata": {},
     "outputs": [
      {
       "output_type": "stream",
       "stream": "stderr",
       "text": [
        "TH1F::Sumw2:0: RuntimeWarning: Sum of squares of weights structure already created\n",
        "TH1F::Sumw2:0: RuntimeWarning: Sum of squares of weights structure already created\n",
        "TH1F::Sumw2:0: RuntimeWarning: Sum of squares of weights structure already created\n",
        "TH1F::Sumw2:0: RuntimeWarning: Sum of squares of weights structure already created\n"
       ]
      },
      {
       "output_type": "stream",
       "stream": "stderr",
       "text": [
        "TH1F::Sumw2:0: RuntimeWarning: Sum of squares of weights structure already created\n",
        "TH1F::Sumw2:0: RuntimeWarning: Sum of squares of weights structure already created\n",
        "TH1F::Sumw2:0: RuntimeWarning: Sum of squares of weights structure already created\n",
        "TH1F::Sumw2:0: RuntimeWarning: Sum of squares of weights structure already created\n"
       ]
      },
      {
       "output_type": "stream",
       "stream": "stderr",
       "text": [
        "TH1F::Sumw2:0: RuntimeWarning: Sum of squares of weights structure already created\n",
        "TH1F::Sumw2:0: RuntimeWarning: Sum of squares of weights structure already created\n",
        "TH1F::Sumw2:0: RuntimeWarning: Sum of squares of weights structure already created\n",
        "TH1F::Sumw2:0: RuntimeWarning: Sum of squares of weights structure already created\n"
       ]
      },
      {
       "output_type": "stream",
       "stream": "stderr",
       "text": [
        "TH1F::Sumw2:0: RuntimeWarning: Sum of squares of weights structure already created\n",
        "TH1F::Sumw2:0: RuntimeWarning: Sum of squares of weights structure already created\n",
        "TH1F::Sumw2:0: RuntimeWarning: Sum of squares of weights structure already created\n",
        "TH1F::Sumw2:0: RuntimeWarning: Sum of squares of weights structure already created\n"
       ]
      },
      {
       "output_type": "stream",
       "stream": "stderr",
       "text": [
        "TH1F::Sumw2:0: RuntimeWarning: Sum of squares of weights structure already created\n",
        "TH1F::Sumw2:0: RuntimeWarning: Sum of squares of weights structure already created\n",
        "TH1F::Sumw2:0: RuntimeWarning: Sum of squares of weights structure already created\n",
        "TH1F::Sumw2:0: RuntimeWarning: Sum of squares of weights structure already created\n"
       ]
      },
      {
       "output_type": "stream",
       "stream": "stderr",
       "text": [
        "TH1F::Sumw2:0: RuntimeWarning: Sum of squares of weights structure already created\n",
        "TH1F::Sumw2:0: RuntimeWarning: Sum of squares of weights structure already created\n",
        "TH1F::Sumw2:0: RuntimeWarning: Sum of squares of weights structure already created\n",
        "TH1F::Sumw2:0: RuntimeWarning: Sum of squares of weights structure already created\n"
       ]
      },
      {
       "output_type": "stream",
       "stream": "stderr",
       "text": [
        "TH1F::Sumw2:0: RuntimeWarning: Sum of squares of weights structure already created\n",
        "TH1F::Sumw2:0: RuntimeWarning: Sum of squares of weights structure already created\n",
        "TH1F::Sumw2:0: RuntimeWarning: Sum of squares of weights structure already created\n",
        "TH1F::Sumw2:0: RuntimeWarning: Sum of squares of weights structure already created\n"
       ]
      },
      {
       "output_type": "stream",
       "stream": "stderr",
       "text": [
        "TH1F::Sumw2:0: RuntimeWarning: Sum of squares of weights structure already created\n",
        "TH1F::Sumw2:0: RuntimeWarning: Sum of squares of weights structure already created\n",
        "TH1F::Sumw2:0: RuntimeWarning: Sum of squares of weights structure already created\n",
        "TH1F::Sumw2:0: RuntimeWarning: Sum of squares of weights structure already created\n"
       ]
      },
      {
       "output_type": "stream",
       "stream": "stderr",
       "text": [
        "TH1F::Sumw2:0: RuntimeWarning: Sum of squares of weights structure already created\n",
        "TH1F::Sumw2:0: RuntimeWarning: Sum of squares of weights structure already created\n",
        "TH1F::Sumw2:0: RuntimeWarning: Sum of squares of weights structure already created\n",
        "TH1F::Sumw2:0: RuntimeWarning: Sum of squares of weights structure already created\n"
       ]
      },
      {
       "output_type": "stream",
       "stream": "stderr",
       "text": [
        "TH1F::Sumw2:0: RuntimeWarning: Sum of squares of weights structure already created\n",
        "TH1F::Sumw2:0: RuntimeWarning: Sum of squares of weights structure already created\n",
        "TH1F::Sumw2:0: RuntimeWarning: Sum of squares of weights structure already created\n",
        "TH1F::Sumw2:0: RuntimeWarning: Sum of squares of weights structure already created\n"
       ]
      },
      {
       "output_type": "stream",
       "stream": "stderr",
       "text": [
        "TH1F::Sumw2:0: RuntimeWarning: Sum of squares of weights structure already created\n",
        "TH1F::Sumw2:0: RuntimeWarning: Sum of squares of weights structure already created\n",
        "TH1F::Sumw2:0: RuntimeWarning: Sum of squares of weights structure already created\n",
        "TH1F::Sumw2:0: RuntimeWarning: Sum of squares of weights structure already created\n"
       ]
      },
      {
       "output_type": "stream",
       "stream": "stderr",
       "text": [
        "TH1F::Sumw2:0: RuntimeWarning: Sum of squares of weights structure already created\n",
        "TH1F::Sumw2:0: RuntimeWarning: Sum of squares of weights structure already created\n",
        "TH1F::Sumw2:0: RuntimeWarning: Sum of squares of weights structure already created\n",
        "TH1F::Sumw2:0: RuntimeWarning: Sum of squares of weights structure already created\n"
       ]
      },
      {
       "output_type": "stream",
       "stream": "stderr",
       "text": [
        "TH1F::Sumw2:0: RuntimeWarning: Sum of squares of weights structure already created\n",
        "TH1F::Sumw2:0: RuntimeWarning: Sum of squares of weights structure already created\n",
        "TH1F::Sumw2:0: RuntimeWarning: Sum of squares of weights structure already created\n",
        "TH1F::Sumw2:0: RuntimeWarning: Sum of squares of weights structure already created\n"
       ]
      },
      {
       "output_type": "stream",
       "stream": "stderr",
       "text": [
        "TH1F::Sumw2:0: RuntimeWarning: Sum of squares of weights structure already created\n",
        "TH1F::Sumw2:0: RuntimeWarning: Sum of squares of weights structure already created\n",
        "TH1F::Sumw2:0: RuntimeWarning: Sum of squares of weights structure already created\n",
        "TH1F::Sumw2:0: RuntimeWarning: Sum of squares of weights structure already created\n"
       ]
      },
      {
       "output_type": "stream",
       "stream": "stderr",
       "text": [
        "TH1F::Sumw2:0: RuntimeWarning: Sum of squares of weights structure already created\n",
        "TH1F::Sumw2:0: RuntimeWarning: Sum of squares of weights structure already created\n",
        "TH1F::Sumw2:0: RuntimeWarning: Sum of squares of weights structure already created\n",
        "TH1F::Sumw2:0: RuntimeWarning: Sum of squares of weights structure already created\n"
       ]
      },
      {
       "output_type": "stream",
       "stream": "stderr",
       "text": [
        "TH1F::Sumw2:0: RuntimeWarning: Sum of squares of weights structure already created\n",
        "TH1F::Sumw2:0: RuntimeWarning: Sum of squares of weights structure already created\n",
        "TH1F::Sumw2:0: RuntimeWarning: Sum of squares of weights structure already created\n",
        "TH1F::Sumw2:0: RuntimeWarning: Sum of squares of weights structure already created\n"
       ]
      },
      {
       "output_type": "stream",
       "stream": "stderr",
       "text": [
        "TH1F::Sumw2:0: RuntimeWarning: Sum of squares of weights structure already created\n",
        "TH1F::Sumw2:0: RuntimeWarning: Sum of squares of weights structure already created\n",
        "TH1F::Sumw2:0: RuntimeWarning: Sum of squares of weights structure already created\n",
        "TH1F::Sumw2:0: RuntimeWarning: Sum of squares of weights structure already created\n"
       ]
      },
      {
       "output_type": "stream",
       "stream": "stderr",
       "text": [
        "TH1F::Sumw2:0: RuntimeWarning: Sum of squares of weights structure already created\n",
        "TH1F::Sumw2:0: RuntimeWarning: Sum of squares of weights structure already created\n",
        "TH1F::Sumw2:0: RuntimeWarning: Sum of squares of weights structure already created\n",
        "TH1F::Sumw2:0: RuntimeWarning: Sum of squares of weights structure already created\n"
       ]
      },
      {
       "output_type": "stream",
       "stream": "stderr",
       "text": [
        "TH1F::Sumw2:0: RuntimeWarning: Sum of squares of weights structure already created\n",
        "TH1F::Sumw2:0: RuntimeWarning: Sum of squares of weights structure already created\n",
        "TH1F::Sumw2:0: RuntimeWarning: Sum of squares of weights structure already created\n",
        "TH1F::Sumw2:0: RuntimeWarning: Sum of squares of weights structure already created\n"
       ]
      },
      {
       "output_type": "stream",
       "stream": "stderr",
       "text": [
        "TH1F::Sumw2:0: RuntimeWarning: Sum of squares of weights structure already created\n",
        "TH1F::Sumw2:0: RuntimeWarning: Sum of squares of weights structure already created\n",
        "TH1F::Sumw2:0: RuntimeWarning: Sum of squares of weights structure already created\n",
        "TH1F::Sumw2:0: RuntimeWarning: Sum of squares of weights structure already created\n"
       ]
      },
      {
       "output_type": "stream",
       "stream": "stderr",
       "text": [
        "TH1F::Sumw2:0: RuntimeWarning: Sum of squares of weights structure already created\n",
        "TH1F::Sumw2:0: RuntimeWarning: Sum of squares of weights structure already created\n",
        "TH1F::Sumw2:0: RuntimeWarning: Sum of squares of weights structure already created\n",
        "TH1F::Sumw2:0: RuntimeWarning: Sum of squares of weights structure already created\n"
       ]
      },
      {
       "output_type": "stream",
       "stream": "stderr",
       "text": [
        "TH1F::Sumw2:0: RuntimeWarning: Sum of squares of weights structure already created\n",
        "TH1F::Sumw2:0: RuntimeWarning: Sum of squares of weights structure already created\n",
        "TH1F::Sumw2:0: RuntimeWarning: Sum of squares of weights structure already created\n",
        "TH1F::Sumw2:0: RuntimeWarning: Sum of squares of weights structure already created\n"
       ]
      },
      {
       "output_type": "stream",
       "stream": "stderr",
       "text": [
        "TH1F::Sumw2:0: RuntimeWarning: Sum of squares of weights structure already created\n",
        "TH1F::Sumw2:0: RuntimeWarning: Sum of squares of weights structure already created\n",
        "TH1F::Sumw2:0: RuntimeWarning: Sum of squares of weights structure already created\n",
        "TH1F::Sumw2:0: RuntimeWarning: Sum of squares of weights structure already created\n"
       ]
      },
      {
       "output_type": "stream",
       "stream": "stderr",
       "text": [
        "TH1F::Sumw2:0: RuntimeWarning: Sum of squares of weights structure already created\n",
        "TH1F::Sumw2:0: RuntimeWarning: Sum of squares of weights structure already created\n",
        "TH1F::Sumw2:0: RuntimeWarning: Sum of squares of weights structure already created\n",
        "TH1F::Sumw2:0: RuntimeWarning: Sum of squares of weights structure already created\n"
       ]
      },
      {
       "output_type": "stream",
       "stream": "stderr",
       "text": [
        "TH1F::Sumw2:0: RuntimeWarning: Sum of squares of weights structure already created\n",
        "TH1F::Sumw2:0: RuntimeWarning: Sum of squares of weights structure already created\n",
        "TH1F::Sumw2:0: RuntimeWarning: Sum of squares of weights structure already created\n",
        "TH1F::Sumw2:0: RuntimeWarning: Sum of squares of weights structure already created\n"
       ]
      },
      {
       "output_type": "stream",
       "stream": "stderr",
       "text": [
        "TH1F::Sumw2:0: RuntimeWarning: Sum of squares of weights structure already created\n",
        "TH1F::Sumw2:0: RuntimeWarning: Sum of squares of weights structure already created\n",
        "TH1F::Sumw2:0: RuntimeWarning: Sum of squares of weights structure already created\n",
        "TH1F::Sumw2:0: RuntimeWarning: Sum of squares of weights structure already created\n"
       ]
      },
      {
       "output_type": "stream",
       "stream": "stderr",
       "text": [
        "TH1F::Sumw2:0: RuntimeWarning: Sum of squares of weights structure already created\n",
        "TH1F::Sumw2:0: RuntimeWarning: Sum of squares of weights structure already created\n",
        "TH1F::Sumw2:0: RuntimeWarning: Sum of squares of weights structure already created\n",
        "TH1F::Sumw2:0: RuntimeWarning: Sum of squares of weights structure already created\n"
       ]
      },
      {
       "output_type": "stream",
       "stream": "stderr",
       "text": [
        "TH1F::Sumw2:0: RuntimeWarning: Sum of squares of weights structure already created\n",
        "TH1F::Sumw2:0: RuntimeWarning: Sum of squares of weights structure already created\n",
        "TH1F::Sumw2:0: RuntimeWarning: Sum of squares of weights structure already created\n",
        "TH1F::Sumw2:0: RuntimeWarning: Sum of squares of weights structure already created\n"
       ]
      },
      {
       "output_type": "stream",
       "stream": "stderr",
       "text": [
        "TH1F::Sumw2:0: RuntimeWarning: Sum of squares of weights structure already created\n",
        "TH1F::Sumw2:0: RuntimeWarning: Sum of squares of weights structure already created\n",
        "TH1F::Sumw2:0: RuntimeWarning: Sum of squares of weights structure already created\n",
        "TH1F::Sumw2:0: RuntimeWarning: Sum of squares of weights structure already created\n"
       ]
      },
      {
       "output_type": "stream",
       "stream": "stderr",
       "text": [
        "TH1F::Sumw2:0: RuntimeWarning: Sum of squares of weights structure already created\n",
        "TH1F::Sumw2:0: RuntimeWarning: Sum of squares of weights structure already created\n",
        "TH1F::Sumw2:0: RuntimeWarning: Sum of squares of weights structure already created\n",
        "TH1F::Sumw2:0: RuntimeWarning: Sum of squares of weights structure already created\n"
       ]
      },
      {
       "output_type": "stream",
       "stream": "stderr",
       "text": [
        "TH1F::Sumw2:0: RuntimeWarning: Sum of squares of weights structure already created\n",
        "TH1F::Sumw2:0: RuntimeWarning: Sum of squares of weights structure already created\n",
        "TH1F::Sumw2:0: RuntimeWarning: Sum of squares of weights structure already created\n",
        "TH1F::Sumw2:0: RuntimeWarning: Sum of squares of weights structure already created\n"
       ]
      },
      {
       "output_type": "stream",
       "stream": "stderr",
       "text": [
        "TH1F::Sumw2:0: RuntimeWarning: Sum of squares of weights structure already created\n",
        "TH1F::Sumw2:0: RuntimeWarning: Sum of squares of weights structure already created\n",
        "TH1F::Sumw2:0: RuntimeWarning: Sum of squares of weights structure already created\n",
        "TH1F::Sumw2:0: RuntimeWarning: Sum of squares of weights structure already created\n"
       ]
      },
      {
       "output_type": "stream",
       "stream": "stderr",
       "text": [
        "TH1F::Sumw2:0: RuntimeWarning: Sum of squares of weights structure already created\n",
        "TH1F::Sumw2:0: RuntimeWarning: Sum of squares of weights structure already created\n",
        "TH1F::Sumw2:0: RuntimeWarning: Sum of squares of weights structure already created\n",
        "TH1F::Sumw2:0: RuntimeWarning: Sum of squares of weights structure already created\n"
       ]
      },
      {
       "output_type": "stream",
       "stream": "stderr",
       "text": [
        "TH1F::Sumw2:0: RuntimeWarning: Sum of squares of weights structure already created\n",
        "TH1F::Sumw2:0: RuntimeWarning: Sum of squares of weights structure already created\n",
        "TH1F::Sumw2:0: RuntimeWarning: Sum of squares of weights structure already created\n",
        "TH1F::Sumw2:0: RuntimeWarning: Sum of squares of weights structure already created\n"
       ]
      },
      {
       "output_type": "stream",
       "stream": "stderr",
       "text": [
        "TH1F::Sumw2:0: RuntimeWarning: Sum of squares of weights structure already created\n",
        "TH1F::Sumw2:0: RuntimeWarning: Sum of squares of weights structure already created\n",
        "TH1F::Sumw2:0: RuntimeWarning: Sum of squares of weights structure already created\n",
        "TH1F::Sumw2:0: RuntimeWarning: Sum of squares of weights structure already created\n"
       ]
      },
      {
       "output_type": "stream",
       "stream": "stderr",
       "text": [
        "TH1F::Sumw2:0: RuntimeWarning: Sum of squares of weights structure already created\n",
        "TH1F::Sumw2:0: RuntimeWarning: Sum of squares of weights structure already created\n",
        "TH1F::Sumw2:0: RuntimeWarning: Sum of squares of weights structure already created\n",
        "TH1F::Sumw2:0: RuntimeWarning: Sum of squares of weights structure already created\n"
       ]
      },
      {
       "output_type": "stream",
       "stream": "stderr",
       "text": [
        "TH1F::Sumw2:0: RuntimeWarning: Sum of squares of weights structure already created\n",
        "TH1F::Sumw2:0: RuntimeWarning: Sum of squares of weights structure already created\n",
        "TH1F::Sumw2:0: RuntimeWarning: Sum of squares of weights structure already created\n",
        "TH1F::Sumw2:0: RuntimeWarning: Sum of squares of weights structure already created\n"
       ]
      },
      {
       "output_type": "stream",
       "stream": "stderr",
       "text": [
        "TH1F::Sumw2:0: RuntimeWarning: Sum of squares of weights structure already created\n",
        "TH1F::Sumw2:0: RuntimeWarning: Sum of squares of weights structure already created\n",
        "TH1F::Sumw2:0: RuntimeWarning: Sum of squares of weights structure already created\n",
        "TH1F::Sumw2:0: RuntimeWarning: Sum of squares of weights structure already created\n"
       ]
      },
      {
       "output_type": "stream",
       "stream": "stderr",
       "text": [
        "TH1F::Sumw2:0: RuntimeWarning: Sum of squares of weights structure already created\n",
        "TH1F::Sumw2:0: RuntimeWarning: Sum of squares of weights structure already created\n",
        "TH1F::Sumw2:0: RuntimeWarning: Sum of squares of weights structure already created\n",
        "TH1F::Sumw2:0: RuntimeWarning: Sum of squares of weights structure already created\n"
       ]
      },
      {
       "output_type": "stream",
       "stream": "stderr",
       "text": [
        "TH1F::Sumw2:0: RuntimeWarning: Sum of squares of weights structure already created\n",
        "TH1F::Sumw2:0: RuntimeWarning: Sum of squares of weights structure already created\n",
        "TH1F::Sumw2:0: RuntimeWarning: Sum of squares of weights structure already created\n",
        "TH1F::Sumw2:0: RuntimeWarning: Sum of squares of weights structure already created\n"
       ]
      },
      {
       "output_type": "stream",
       "stream": "stderr",
       "text": [
        "TH1F::Sumw2:0: RuntimeWarning: Sum of squares of weights structure already created\n",
        "TH1F::Sumw2:0: RuntimeWarning: Sum of squares of weights structure already created\n",
        "TH1F::Sumw2:0: RuntimeWarning: Sum of squares of weights structure already created\n",
        "TH1F::Sumw2:0: RuntimeWarning: Sum of squares of weights structure already created\n"
       ]
      },
      {
       "output_type": "stream",
       "stream": "stderr",
       "text": [
        "TH1F::Sumw2:0: RuntimeWarning: Sum of squares of weights structure already created\n",
        "TH1F::Sumw2:0: RuntimeWarning: Sum of squares of weights structure already created\n",
        "TH1F::Sumw2:0: RuntimeWarning: Sum of squares of weights structure already created\n",
        "TH1F::Sumw2:0: RuntimeWarning: Sum of squares of weights structure already created\n"
       ]
      },
      {
       "output_type": "stream",
       "stream": "stderr",
       "text": [
        "TH1F::Sumw2:0: RuntimeWarning: Sum of squares of weights structure already created\n",
        "TH1F::Sumw2:0: RuntimeWarning: Sum of squares of weights structure already created\n",
        "TH1F::Sumw2:0: RuntimeWarning: Sum of squares of weights structure already created\n",
        "TH1F::Sumw2:0: RuntimeWarning: Sum of squares of weights structure already created\n"
       ]
      },
      {
       "output_type": "stream",
       "stream": "stderr",
       "text": [
        "TH1F::Sumw2:0: RuntimeWarning: Sum of squares of weights structure already created\n",
        "TH1F::Sumw2:0: RuntimeWarning: Sum of squares of weights structure already created\n",
        "TH1F::Sumw2:0: RuntimeWarning: Sum of squares of weights structure already created\n",
        "TH1F::Sumw2:0: RuntimeWarning: Sum of squares of weights structure already created\n"
       ]
      },
      {
       "output_type": "stream",
       "stream": "stderr",
       "text": [
        "TH1F::Sumw2:0: RuntimeWarning: Sum of squares of weights structure already created\n",
        "TH1F::Sumw2:0: RuntimeWarning: Sum of squares of weights structure already created\n",
        "TH1F::Sumw2:0: RuntimeWarning: Sum of squares of weights structure already created\n",
        "TH1F::Sumw2:0: RuntimeWarning: Sum of squares of weights structure already created\n"
       ]
      },
      {
       "output_type": "stream",
       "stream": "stderr",
       "text": [
        "TH1F::Sumw2:0: RuntimeWarning: Sum of squares of weights structure already created\n",
        "TH1F::Sumw2:0: RuntimeWarning: Sum of squares of weights structure already created\n",
        "TH1F::Sumw2:0: RuntimeWarning: Sum of squares of weights structure already created\n",
        "TH1F::Sumw2:0: RuntimeWarning: Sum of squares of weights structure already created\n"
       ]
      },
      {
       "output_type": "stream",
       "stream": "stderr",
       "text": [
        "TH1F::Sumw2:0: RuntimeWarning: Sum of squares of weights structure already created\n",
        "TH1F::Sumw2:0: RuntimeWarning: Sum of squares of weights structure already created\n",
        "TH1F::Sumw2:0: RuntimeWarning: Sum of squares of weights structure already created\n",
        "TH1F::Sumw2:0: RuntimeWarning: Sum of squares of weights structure already created\n"
       ]
      },
      {
       "output_type": "stream",
       "stream": "stderr",
       "text": [
        "TH1F::Sumw2:0: RuntimeWarning: Sum of squares of weights structure already created\n",
        "TH1F::Sumw2:0: RuntimeWarning: Sum of squares of weights structure already created\n",
        "TH1F::Sumw2:0: RuntimeWarning: Sum of squares of weights structure already created\n",
        "TH1F::Sumw2:0: RuntimeWarning: Sum of squares of weights structure already created\n"
       ]
      },
      {
       "output_type": "stream",
       "stream": "stderr",
       "text": [
        "TH1F::Sumw2:0: RuntimeWarning: Sum of squares of weights structure already created\n",
        "TH1F::Sumw2:0: RuntimeWarning: Sum of squares of weights structure already created\n",
        "TH1F::Sumw2:0: RuntimeWarning: Sum of squares of weights structure already created\n",
        "TH1F::Sumw2:0: RuntimeWarning: Sum of squares of weights structure already created\n"
       ]
      },
      {
       "output_type": "stream",
       "stream": "stderr",
       "text": [
        "TH1F::Sumw2:0: RuntimeWarning: Sum of squares of weights structure already created\n",
        "TH1F::Sumw2:0: RuntimeWarning: Sum of squares of weights structure already created\n",
        "TH1F::Sumw2:0: RuntimeWarning: Sum of squares of weights structure already created\n",
        "TH1F::Sumw2:0: RuntimeWarning: Sum of squares of weights structure already created\n"
       ]
      },
      {
       "output_type": "stream",
       "stream": "stderr",
       "text": [
        "TH1F::Sumw2:0: RuntimeWarning: Sum of squares of weights structure already created\n",
        "TH1F::Sumw2:0: RuntimeWarning: Sum of squares of weights structure already created\n",
        "TH1F::Sumw2:0: RuntimeWarning: Sum of squares of weights structure already created\n",
        "TH1F::Sumw2:0: RuntimeWarning: Sum of squares of weights structure already created\n"
       ]
      },
      {
       "output_type": "stream",
       "stream": "stderr",
       "text": [
        "TH1F::Sumw2:0: RuntimeWarning: Sum of squares of weights structure already created\n",
        "TH1F::Sumw2:0: RuntimeWarning: Sum of squares of weights structure already created\n",
        "TH1F::Sumw2:0: RuntimeWarning: Sum of squares of weights structure already created\n",
        "TH1F::Sumw2:0: RuntimeWarning: Sum of squares of weights structure already created\n"
       ]
      },
      {
       "output_type": "stream",
       "stream": "stderr",
       "text": [
        "TH1F::Sumw2:0: RuntimeWarning: Sum of squares of weights structure already created\n",
        "TH1F::Sumw2:0: RuntimeWarning: Sum of squares of weights structure already created\n",
        "TH1F::Sumw2:0: RuntimeWarning: Sum of squares of weights structure already created\n",
        "TH1F::Sumw2:0: RuntimeWarning: Sum of squares of weights structure already created\n"
       ]
      },
      {
       "output_type": "stream",
       "stream": "stderr",
       "text": [
        "TH1F::Sumw2:0: RuntimeWarning: Sum of squares of weights structure already created\n",
        "TH1F::Sumw2:0: RuntimeWarning: Sum of squares of weights structure already created\n",
        "TH1F::Sumw2:0: RuntimeWarning: Sum of squares of weights structure already created\n",
        "TH1F::Sumw2:0: RuntimeWarning: Sum of squares of weights structure already created\n"
       ]
      },
      {
       "output_type": "stream",
       "stream": "stderr",
       "text": [
        "TH1F::Sumw2:0: RuntimeWarning: Sum of squares of weights structure already created\n",
        "TH1F::Sumw2:0: RuntimeWarning: Sum of squares of weights structure already created\n",
        "TH1F::Sumw2:0: RuntimeWarning: Sum of squares of weights structure already created\n",
        "TH1F::Sumw2:0: RuntimeWarning: Sum of squares of weights structure already created\n"
       ]
      },
      {
       "output_type": "stream",
       "stream": "stderr",
       "text": [
        "TH1F::Sumw2:0: RuntimeWarning: Sum of squares of weights structure already created\n",
        "TH1F::Sumw2:0: RuntimeWarning: Sum of squares of weights structure already created\n",
        "TH1F::Sumw2:0: RuntimeWarning: Sum of squares of weights structure already created\n",
        "TH1F::Sumw2:0: RuntimeWarning: Sum of squares of weights structure already created\n"
       ]
      },
      {
       "output_type": "stream",
       "stream": "stderr",
       "text": [
        "TH1F::Sumw2:0: RuntimeWarning: Sum of squares of weights structure already created\n",
        "TH1F::Sumw2:0: RuntimeWarning: Sum of squares of weights structure already created\n",
        "TH1F::Sumw2:0: RuntimeWarning: Sum of squares of weights structure already created\n",
        "TH1F::Sumw2:0: RuntimeWarning: Sum of squares of weights structure already created\n"
       ]
      },
      {
       "output_type": "stream",
       "stream": "stderr",
       "text": [
        "TH1F::Sumw2:0: RuntimeWarning: Sum of squares of weights structure already created\n",
        "TH1F::Sumw2:0: RuntimeWarning: Sum of squares of weights structure already created\n",
        "TH1F::Sumw2:0: RuntimeWarning: Sum of squares of weights structure already created\n",
        "TH1F::Sumw2:0: RuntimeWarning: Sum of squares of weights structure already created\n"
       ]
      },
      {
       "output_type": "stream",
       "stream": "stderr",
       "text": [
        "TH1F::Sumw2:0: RuntimeWarning: Sum of squares of weights structure already created\n",
        "TH1F::Sumw2:0: RuntimeWarning: Sum of squares of weights structure already created\n",
        "TH1F::Sumw2:0: RuntimeWarning: Sum of squares of weights structure already created\n",
        "TH1F::Sumw2:0: RuntimeWarning: Sum of squares of weights structure already created\n"
       ]
      },
      {
       "output_type": "stream",
       "stream": "stderr",
       "text": [
        "TH1F::Sumw2:0: RuntimeWarning: Sum of squares of weights structure already created\n",
        "TH1F::Sumw2:0: RuntimeWarning: Sum of squares of weights structure already created\n",
        "TH1F::Sumw2:0: RuntimeWarning: Sum of squares of weights structure already created\n",
        "TH1F::Sumw2:0: RuntimeWarning: Sum of squares of weights structure already created\n"
       ]
      },
      {
       "output_type": "stream",
       "stream": "stderr",
       "text": [
        "TH1F::Sumw2:0: RuntimeWarning: Sum of squares of weights structure already created\n",
        "TH1F::Sumw2:0: RuntimeWarning: Sum of squares of weights structure already created\n",
        "TH1F::Sumw2:0: RuntimeWarning: Sum of squares of weights structure already created\n",
        "TH1F::Sumw2:0: RuntimeWarning: Sum of squares of weights structure already created\n"
       ]
      },
      {
       "output_type": "stream",
       "stream": "stderr",
       "text": [
        "TH1F::Sumw2:0: RuntimeWarning: Sum of squares of weights structure already created\n",
        "TH1F::Sumw2:0: RuntimeWarning: Sum of squares of weights structure already created\n",
        "TH1F::Sumw2:0: RuntimeWarning: Sum of squares of weights structure already created\n",
        "TH1F::Sumw2:0: RuntimeWarning: Sum of squares of weights structure already created\n"
       ]
      },
      {
       "output_type": "stream",
       "stream": "stderr",
       "text": [
        "TH1F::Sumw2:0: RuntimeWarning: Sum of squares of weights structure already created\n",
        "TH1F::Sumw2:0: RuntimeWarning: Sum of squares of weights structure already created\n",
        "TH1F::Sumw2:0: RuntimeWarning: Sum of squares of weights structure already created\n",
        "TH1F::Sumw2:0: RuntimeWarning: Sum of squares of weights structure already created\n"
       ]
      },
      {
       "output_type": "stream",
       "stream": "stderr",
       "text": [
        "TH1F::Sumw2:0: RuntimeWarning: Sum of squares of weights structure already created\n",
        "TH1F::Sumw2:0: RuntimeWarning: Sum of squares of weights structure already created\n",
        "TH1F::Sumw2:0: RuntimeWarning: Sum of squares of weights structure already created\n",
        "TH1F::Sumw2:0: RuntimeWarning: Sum of squares of weights structure already created\n"
       ]
      },
      {
       "output_type": "stream",
       "stream": "stderr",
       "text": [
        "TH1F::Sumw2:0: RuntimeWarning: Sum of squares of weights structure already created\n",
        "TH1F::Sumw2:0: RuntimeWarning: Sum of squares of weights structure already created\n",
        "TH1F::Sumw2:0: RuntimeWarning: Sum of squares of weights structure already created\n",
        "TH1F::Sumw2:0: RuntimeWarning: Sum of squares of weights structure already created\n"
       ]
      },
      {
       "output_type": "stream",
       "stream": "stderr",
       "text": [
        "TH1F::Sumw2:0: RuntimeWarning: Sum of squares of weights structure already created\n",
        "TH1F::Sumw2:0: RuntimeWarning: Sum of squares of weights structure already created\n",
        "TH1F::Sumw2:0: RuntimeWarning: Sum of squares of weights structure already created\n",
        "TH1F::Sumw2:0: RuntimeWarning: Sum of squares of weights structure already created\n"
       ]
      },
      {
       "output_type": "stream",
       "stream": "stderr",
       "text": [
        "TH1F::Sumw2:0: RuntimeWarning: Sum of squares of weights structure already created\n",
        "TH1F::Sumw2:0: RuntimeWarning: Sum of squares of weights structure already created\n",
        "TH1F::Sumw2:0: RuntimeWarning: Sum of squares of weights structure already created\n",
        "TH1F::Sumw2:0: RuntimeWarning: Sum of squares of weights structure already created\n"
       ]
      },
      {
       "output_type": "stream",
       "stream": "stderr",
       "text": [
        "TH1F::Sumw2:0: RuntimeWarning: Sum of squares of weights structure already created\n",
        "TH1F::Sumw2:0: RuntimeWarning: Sum of squares of weights structure already created\n",
        "TH1F::Sumw2:0: RuntimeWarning: Sum of squares of weights structure already created\n",
        "TH1F::Sumw2:0: RuntimeWarning: Sum of squares of weights structure already created\n"
       ]
      },
      {
       "output_type": "stream",
       "stream": "stderr",
       "text": [
        "TH1F::Sumw2:0: RuntimeWarning: Sum of squares of weights structure already created\n",
        "TH1F::Sumw2:0: RuntimeWarning: Sum of squares of weights structure already created\n",
        "TH1F::Sumw2:0: RuntimeWarning: Sum of squares of weights structure already created\n",
        "TH1F::Sumw2:0: RuntimeWarning: Sum of squares of weights structure already created\n"
       ]
      },
      {
       "output_type": "stream",
       "stream": "stderr",
       "text": [
        "TH1F::Sumw2:0: RuntimeWarning: Sum of squares of weights structure already created\n",
        "TH1F::Sumw2:0: RuntimeWarning: Sum of squares of weights structure already created\n",
        "TH1F::Sumw2:0: RuntimeWarning: Sum of squares of weights structure already created\n",
        "TH1F::Sumw2:0: RuntimeWarning: Sum of squares of weights structure already created\n"
       ]
      },
      {
       "output_type": "stream",
       "stream": "stderr",
       "text": [
        "TH1F::Sumw2:0: RuntimeWarning: Sum of squares of weights structure already created\n",
        "TH1F::Sumw2:0: RuntimeWarning: Sum of squares of weights structure already created\n",
        "TH1F::Sumw2:0: RuntimeWarning: Sum of squares of weights structure already created\n",
        "TH1F::Sumw2:0: RuntimeWarning: Sum of squares of weights structure already created\n"
       ]
      },
      {
       "output_type": "stream",
       "stream": "stderr",
       "text": [
        "TH1F::Sumw2:0: RuntimeWarning: Sum of squares of weights structure already created\n",
        "TH1F::Sumw2:0: RuntimeWarning: Sum of squares of weights structure already created\n",
        "TH1F::Sumw2:0: RuntimeWarning: Sum of squares of weights structure already created\n",
        "TH1F::Sumw2:0: RuntimeWarning: Sum of squares of weights structure already created\n"
       ]
      },
      {
       "output_type": "stream",
       "stream": "stderr",
       "text": [
        "TH1F::Sumw2:0: RuntimeWarning: Sum of squares of weights structure already created\n",
        "TH1F::Sumw2:0: RuntimeWarning: Sum of squares of weights structure already created\n",
        "TH1F::Sumw2:0: RuntimeWarning: Sum of squares of weights structure already created\n",
        "TH1F::Sumw2:0: RuntimeWarning: Sum of squares of weights structure already created\n"
       ]
      },
      {
       "output_type": "stream",
       "stream": "stderr",
       "text": [
        "TH1F::Sumw2:0: RuntimeWarning: Sum of squares of weights structure already created\n",
        "TH1F::Sumw2:0: RuntimeWarning: Sum of squares of weights structure already created\n",
        "TH1F::Sumw2:0: RuntimeWarning: Sum of squares of weights structure already created\n",
        "TH1F::Sumw2:0: RuntimeWarning: Sum of squares of weights structure already created\n"
       ]
      },
      {
       "output_type": "stream",
       "stream": "stderr",
       "text": [
        "TH1F::Sumw2:0: RuntimeWarning: Sum of squares of weights structure already created\n",
        "TH1F::Sumw2:0: RuntimeWarning: Sum of squares of weights structure already created\n",
        "TH1F::Sumw2:0: RuntimeWarning: Sum of squares of weights structure already created\n",
        "TH1F::Sumw2:0: RuntimeWarning: Sum of squares of weights structure already created\n"
       ]
      },
      {
       "output_type": "stream",
       "stream": "stderr",
       "text": [
        "TH1F::Sumw2:0: RuntimeWarning: Sum of squares of weights structure already created\n",
        "TH1F::Sumw2:0: RuntimeWarning: Sum of squares of weights structure already created\n",
        "TH1F::Sumw2:0: RuntimeWarning: Sum of squares of weights structure already created\n",
        "TH1F::Sumw2:0: RuntimeWarning: Sum of squares of weights structure already created\n"
       ]
      },
      {
       "output_type": "stream",
       "stream": "stderr",
       "text": [
        "TH1F::Sumw2:0: RuntimeWarning: Sum of squares of weights structure already created\n",
        "TH1F::Sumw2:0: RuntimeWarning: Sum of squares of weights structure already created\n",
        "TH1F::Sumw2:0: RuntimeWarning: Sum of squares of weights structure already created\n",
        "TH1F::Sumw2:0: RuntimeWarning: Sum of squares of weights structure already created\n"
       ]
      },
      {
       "output_type": "stream",
       "stream": "stderr",
       "text": [
        "TH1F::Sumw2:0: RuntimeWarning: Sum of squares of weights structure already created\n",
        "TH1F::Sumw2:0: RuntimeWarning: Sum of squares of weights structure already created\n",
        "TH1F::Sumw2:0: RuntimeWarning: Sum of squares of weights structure already created\n",
        "TH1F::Sumw2:0: RuntimeWarning: Sum of squares of weights structure already created\n"
       ]
      },
      {
       "output_type": "stream",
       "stream": "stderr",
       "text": [
        "TH1F::Sumw2:0: RuntimeWarning: Sum of squares of weights structure already created\n",
        "TH1F::Sumw2:0: RuntimeWarning: Sum of squares of weights structure already created\n",
        "TH1F::Sumw2:0: RuntimeWarning: Sum of squares of weights structure already created\n",
        "TH1F::Sumw2:0: RuntimeWarning: Sum of squares of weights structure already created\n"
       ]
      },
      {
       "output_type": "stream",
       "stream": "stderr",
       "text": [
        "TH1F::Sumw2:0: RuntimeWarning: Sum of squares of weights structure already created\n",
        "TH1F::Sumw2:0: RuntimeWarning: Sum of squares of weights structure already created\n",
        "TH1F::Sumw2:0: RuntimeWarning: Sum of squares of weights structure already created\n",
        "TH1F::Sumw2:0: RuntimeWarning: Sum of squares of weights structure already created\n"
       ]
      },
      {
       "output_type": "stream",
       "stream": "stdout",
       "text": [
        "[511276.92711496353, 98162.18673629593, 23072.376041891985, 17656.227818571962, 12144.026695997454, 6507.327471763827, 457.67118510603905, 61.34724587202072]\n",
        "[43051.36169208586, 19434.621937952936, 5730.35760833323, 4896.713503323495, 3576.7631062418222, 1217.2811920493841, 122.85537449270487, 60.50409284234047]\n",
        "[129.387349948287, 27.306441463530064, 8.562580406665802, 7.054238684475422, 3.911846950650215, 1.4726812615990639, 0.0, 0.0]\n"
       ]
      }
     ],
     "prompt_number": 6
    },
    {
     "cell_type": "heading",
     "level": 3,
     "metadata": {},
     "source": [
      "Nminus1 plots, Analysis selection, Signal Sample using Control Sample"
     ]
    },
    {
     "cell_type": "code",
     "collapsed": false,
     "input": [
      "CutsNm1=[ROOT.TCut(\"\"),Cut1,CutDRbb,CutDRWH,CutHM,CutM2HP,CutDRTp6thJ,CutRelHT]\n",
      "OptVersion=NominalV+\"_\"+InclusiveV1+\"_\"+InclusiveV2\n",
      "\n",
      "CumulCut=ROOT.TCut(\"\")*CutHT\n",
      "SF=ROOT.TCut(\"weight\")\n",
      "PU=ROOT.TCut(\"PUR_function(NTI)\")\n",
      "#CMC=ROOT.TCut(\"weight*PUR_function(NTI)\")\n",
      "#CMC=PU\n",
      "CMC=ROOT.TCut(\"\")\n",
      "#CumulCut=CMC\n",
      "\n",
      "#\"M5J:DRHJ:DRWH:RelHT:Eta6thJ:M2HP:DRTp6thJ:HM:chi2:MTHAsym\"\n",
      "\n",
      "PDFName=\"Nminus1_AnaSel_BKGFromControlSampleOneCombination_\"+OptVersion+\".pdf\"\n",
      "CurCanv = rootnotes.canvas(\"MyPlot\", (600, 800))\n",
      "Titles=[\"chi2\", \"DRHJ\",\"DRWH\", \"HM\" , \"M2HP\", \"DRTp6thJ\", \"RelHT\", \"MTHAsym\", \n",
      "        \"THT\"]\n",
      "\n",
      "BinsLimits=[\"(50,0,500)\",\"(22,0.5,5)\",\"(30,0.5,10)\",\"(20,60,190)\",\"(31,0,20)\",\"(20,0.5,10)\",\"(15,0.1,1.0)\",\"(30,-0.5,1)\",\n",
      "            \"(35,400,3000)\"]\n",
      "Units=[\"\",\"\",\"\",\"\",\"\",\"GeV/c^{2}\",\"\",\"\",\n",
      "       \"GeV/c\"]\n",
      "XaxisT=[\"#chi^{2}\",\"#Delta R(bb)\", \"#Delta R(WH)\", \"M(H)\", \"(M(t^{2nd})+M(W^{2nd}))/M(H)\", \"#Delta R (T' j^{6})\",\n",
      "        \"Relative H_{T}\", \"(M(t)-M(H))/(M(t)+M(H))\",\n",
      "        \"H_{T}\"]\n",
      "\n",
      "ValString=[\"Data\",\"TTbar\",\"QCD\",\"MC-Sum\"]\n",
      "\n",
      "for i in xrange(len(CutsNm1)):\n",
      "    CumulCut=CumulCut*CutsNm1[i]\n",
      "    for j in xrange(len(Titles)):\n",
      "        BKGNm1Histos=[]; DataNm1Histos=[]\n",
      "    \n",
      "        DataA[0].Draw(Titles[j]+\" >> \"+Titles[j]+\"AD_Cut\"+str(i)+str(j)+BinsLimits[j],CumulCut)\n",
      "        DataNm1Histos.append(ROOT.gDirectory.Get(Titles[j]+\"AD_Cut\"+str(i)+str(j)))\n",
      "\n",
      "        DataE[0].Draw(Titles[j]+\" >> \"+Titles[j]+\"ED_Cut\"+str(i)+str(j)+BinsLimits[j],CumulCut)\n",
      "        BKGNm1Histos.append(ROOT.gDirectory.Get(Titles[j]+\"ED_Cut\"+str(i)+str(j)))\n",
      "        BKGNm1Histos[-1].Sumw2(); BKGNm1Histos[-1].Scale(DataNm1Histos[-1].Integral()/BKGNm1Histos[-1].Integral())\n",
      "        \n",
      "        ROOT.gPad.Clear()\n",
      "\n",
      "        CurrentStyle=ROOT.TStyle(\"CStyle\",\"Style for Plotting\")\n",
      "    \n",
      "        CurrentStyle.SetTitleSize(0.08, \"Y\")\n",
      "        CurrentStyle.SetTitleYOffset(1.5)\n",
      "                \n",
      "        CurCanv1 = rootnotes.canvas(\"MyPlot\", (600, 800))\n",
      "        CurCanv1.cd(1)\n",
      "        Pad1=ROOT.TPad(\"pad1\",\"pad1\",0,0.3,1,1)\n",
      "        Pad1.SetBottomMargin(0)\n",
      "        Pad1.SetLeftMargin(0.16)\n",
      "        Pad1.Draw()\n",
      "        Pad1.cd()\n",
      "        \n",
      "        BKGNm1Histos[-1].SetStats(ROOT.kFALSE)\n",
      "        MinX=float(BinsLimits[j].split(\",\")[1])\n",
      "        MaxX=float(BinsLimits[j].split(\",\")[-1][0:-1])\n",
      "        Nbins=int(BinsLimits[j].split(\",\")[0][1:])\n",
      "        if i!=5: BKGNm1Histos[-1].SetTitle(\";;Events/{0:.1f} \".format((MaxX-MinX)/Nbins)+Units[j])\n",
      "        else: BKGNm1Histos[-1].SetTitle(\";;Events/{0:.2f} \".format((MaxX-MinX)/Nbins)+Units[j])\n",
      "        SetAxis(BKGNm1Histos[-1],'Y',1.45,0.05,0.007,0.05,510)\n",
      "        SetAxis(DataNm1Histos[-1],'Y',1.45,0.05,0.007,0.05,510)\n",
      "    \n",
      "        SetCos(DataNm1Histos[-1],0,0,ROOT.kBlack,2,1,20)\n",
      "        SetCos(BKGNm1Histos[-1],ROOT.kGray+2,3144,ROOT.kGray+2,1,1,1)\n",
      "            \n",
      "        CloneD=DataNm1Histos[-1].Clone(\"CopyD\"); CloneMC=BKGNm1Histos[-1].Clone(\"CopyMC\")\n",
      "        BKGNm1Histos[-1].SetMinimum(0.3)\n",
      "    \n",
      "        if j<6 or j>7: LEG=ROOT.TLegend(0.6,0.6,0.9,0.9)\n",
      "        else: LEG=ROOT.TLegend(0.2,0.6,0.5,0.9)\n",
      "        LEG.AddEntry(DataNm1Histos[-1], \"Data\", \"p\")\n",
      "        LEG.AddEntry(BKGNm1Histos[-1], \"Control Sample\", \"f\")\n",
      "        LEG.SetFillColor(0)\n",
      "        Maxima=[BKGNm1Histos[-1].GetBinErrorUp(BKGNm1Histos[-1].GetMaximumBin())+BKGNm1Histos[-1].GetMaximum(),DataNm1Histos[-1].GetBinErrorUp(DataNm1Histos[-1].GetMaximumBin())+DataNm1Histos[-1].GetMaximum()]\n",
      "        BKGNm1Histos[-1].SetMaximum(1.05*max(Maxima))\n",
      "        BKGNm1Histos[-1].Draw(\"e2\"); DataNm1Histos[-1].Draw(\"E0X0 same\")\n",
      "        if i!=len(CutsNm1): Pad1.SetLogy(); Pad1.RedrawAxis()\n",
      "    \n",
      "        LEG.Draw()\n",
      "        CurrentStyle.SetPadTickX(1)\n",
      "        CurCanv1.cd()\n",
      "        \n",
      "        Pad2=ROOT.TPad(\"pad2\",\"pad2\",0,0,1,0.3)\n",
      "        Pad2.SetTopMargin(0)\n",
      "        Pad2.SetLeftMargin(0.16)\n",
      "        Pad2.SetBottomMargin(0.25)\n",
      "        Pad2.Draw()\n",
      "        Pad2.cd()\n",
      "        \n",
      "        CloneMC.SetMinimum(0.1); CloneMC.SetMaximum(1.9)\n",
      "        CloneMC.Sumw2()\n",
      "        CloneMC.SetStats(0)\n",
      "        CloneMC.SetTitle(\";\"+XaxisT[j]+\" \"+Units[j]+\";Data/MC\")\n",
      "        CloneMC.Divide(BKGNm1Histos[-1])\n",
      "        CloneMC.SetFillStyle(1001)\n",
      "        SetAxis(CloneMC,'X',0.9,0.09,0.007,0.09,510)\n",
      "        SetAxis(CloneMC,'Y',0.75,0.09,0.007,0.09,404)\n",
      "        CloneMC.Draw(\"E2\")\n",
      "        \n",
      "        CloneD.Sumw2()\n",
      "        #CloneD.Scale(DataNm1Histos[-1].Integral()/CloneD.Integral()); CloneE.SetStats(0)\n",
      "        CloneD.SetTitle(\";\"+XaxisT[j]+\" \"+Units[j]+\";Data/MC\")\n",
      "        CloneD.Divide(BKGNm1Histos[-1])\n",
      "        CloneD.Draw(\"E0X0 same\")\n",
      "        \n",
      "        if i==0 and j==0: CurCanv1.Print(PDFName+\"(\",\"Title:\"+Titles[j])\n",
      "        elif i==(len(CutsNm1)-1) and j==(len(Titles)-1): CurCanv1.Print(PDFName+\")\",\"Title:\"+Titles[j])\n",
      "        else: CurCanv1.Print(PDFName,\"Title:\"+Titles[j])\n",
      "        \n",
      "        CurCanv1.Clear(); CurrentStyle.SetPadTickX(0)\n",
      "        CurCanv1.cd(1)\n",
      "                    \n",
      "    #del(HistosToplot); del(CurCanv1); del(Pad1); del(Pad2)\n",
      "    #del(CloneA); del(CloneE); del(CloneE1); del(CloneE2)"
     ],
     "language": "python",
     "metadata": {},
     "outputs": [
      {
       "output_type": "stream",
       "stream": "stderr",
       "text": [
        "TH1F::Sumw2:0: RuntimeWarning: Sum of squares of weights structure already created\n",
        "TH1F::Sumw2:0: RuntimeWarning: Sum of squares of weights structure already created\n"
       ]
      },
      {
       "output_type": "stream",
       "stream": "stderr",
       "text": [
        "TH1F::Sumw2:0: RuntimeWarning: Sum of squares of weights structure already created\n",
        "TH1F::Sumw2:0: RuntimeWarning: Sum of squares of weights structure already created\n"
       ]
      },
      {
       "output_type": "stream",
       "stream": "stderr",
       "text": [
        "TH1F::Sumw2:0: RuntimeWarning: Sum of squares of weights structure already created\n",
        "TH1F::Sumw2:0: RuntimeWarning: Sum of squares of weights structure already created\n"
       ]
      },
      {
       "output_type": "stream",
       "stream": "stderr",
       "text": [
        "TH1F::Sumw2:0: RuntimeWarning: Sum of squares of weights structure already created\n",
        "TH1F::Sumw2:0: RuntimeWarning: Sum of squares of weights structure already created\n"
       ]
      },
      {
       "output_type": "stream",
       "stream": "stderr",
       "text": [
        "TH1F::Sumw2:0: RuntimeWarning: Sum of squares of weights structure already created\n",
        "TH1F::Sumw2:0: RuntimeWarning: Sum of squares of weights structure already created\n"
       ]
      },
      {
       "output_type": "stream",
       "stream": "stderr",
       "text": [
        "TH1F::Sumw2:0: RuntimeWarning: Sum of squares of weights structure already created\n",
        "TH1F::Sumw2:0: RuntimeWarning: Sum of squares of weights structure already created\n"
       ]
      },
      {
       "output_type": "stream",
       "stream": "stderr",
       "text": [
        "TH1F::Sumw2:0: RuntimeWarning: Sum of squares of weights structure already created\n",
        "TH1F::Sumw2:0: RuntimeWarning: Sum of squares of weights structure already created\n"
       ]
      },
      {
       "output_type": "stream",
       "stream": "stderr",
       "text": [
        "TH1F::Sumw2:0: RuntimeWarning: Sum of squares of weights structure already created\n",
        "TH1F::Sumw2:0: RuntimeWarning: Sum of squares of weights structure already created\n"
       ]
      },
      {
       "output_type": "stream",
       "stream": "stderr",
       "text": [
        "TH1F::Sumw2:0: RuntimeWarning: Sum of squares of weights structure already created\n",
        "TH1F::Sumw2:0: RuntimeWarning: Sum of squares of weights structure already created\n"
       ]
      },
      {
       "output_type": "stream",
       "stream": "stderr",
       "text": [
        "TH1F::Sumw2:0: RuntimeWarning: Sum of squares of weights structure already created\n",
        "TH1F::Sumw2:0: RuntimeWarning: Sum of squares of weights structure already created\n"
       ]
      },
      {
       "output_type": "stream",
       "stream": "stderr",
       "text": [
        "TH1F::Sumw2:0: RuntimeWarning: Sum of squares of weights structure already created\n",
        "TH1F::Sumw2:0: RuntimeWarning: Sum of squares of weights structure already created\n"
       ]
      },
      {
       "output_type": "stream",
       "stream": "stderr",
       "text": [
        "TH1F::Sumw2:0: RuntimeWarning: Sum of squares of weights structure already created\n",
        "TH1F::Sumw2:0: RuntimeWarning: Sum of squares of weights structure already created\n"
       ]
      },
      {
       "output_type": "stream",
       "stream": "stderr",
       "text": [
        "TH1F::Sumw2:0: RuntimeWarning: Sum of squares of weights structure already created\n",
        "TH1F::Sumw2:0: RuntimeWarning: Sum of squares of weights structure already created\n"
       ]
      },
      {
       "output_type": "stream",
       "stream": "stderr",
       "text": [
        "TH1F::Sumw2:0: RuntimeWarning: Sum of squares of weights structure already created\n",
        "TH1F::Sumw2:0: RuntimeWarning: Sum of squares of weights structure already created\n"
       ]
      },
      {
       "output_type": "stream",
       "stream": "stderr",
       "text": [
        "TH1F::Sumw2:0: RuntimeWarning: Sum of squares of weights structure already created\n",
        "TH1F::Sumw2:0: RuntimeWarning: Sum of squares of weights structure already created\n"
       ]
      },
      {
       "output_type": "stream",
       "stream": "stderr",
       "text": [
        "TH1F::Sumw2:0: RuntimeWarning: Sum of squares of weights structure already created\n",
        "TH1F::Sumw2:0: RuntimeWarning: Sum of squares of weights structure already created\n"
       ]
      },
      {
       "output_type": "stream",
       "stream": "stderr",
       "text": [
        "TH1F::Sumw2:0: RuntimeWarning: Sum of squares of weights structure already created\n",
        "TH1F::Sumw2:0: RuntimeWarning: Sum of squares of weights structure already created\n"
       ]
      },
      {
       "output_type": "stream",
       "stream": "stderr",
       "text": [
        "TH1F::Sumw2:0: RuntimeWarning: Sum of squares of weights structure already created\n",
        "TH1F::Sumw2:0: RuntimeWarning: Sum of squares of weights structure already created\n"
       ]
      },
      {
       "output_type": "stream",
       "stream": "stderr",
       "text": [
        "TH1F::Sumw2:0: RuntimeWarning: Sum of squares of weights structure already created\n",
        "TH1F::Sumw2:0: RuntimeWarning: Sum of squares of weights structure already created\n"
       ]
      },
      {
       "output_type": "stream",
       "stream": "stderr",
       "text": [
        "TH1F::Sumw2:0: RuntimeWarning: Sum of squares of weights structure already created\n",
        "TH1F::Sumw2:0: RuntimeWarning: Sum of squares of weights structure already created\n"
       ]
      },
      {
       "output_type": "stream",
       "stream": "stderr",
       "text": [
        "TH1F::Sumw2:0: RuntimeWarning: Sum of squares of weights structure already created\n",
        "TH1F::Sumw2:0: RuntimeWarning: Sum of squares of weights structure already created\n"
       ]
      },
      {
       "output_type": "stream",
       "stream": "stderr",
       "text": [
        "TH1F::Sumw2:0: RuntimeWarning: Sum of squares of weights structure already created\n",
        "TH1F::Sumw2:0: RuntimeWarning: Sum of squares of weights structure already created\n"
       ]
      },
      {
       "output_type": "stream",
       "stream": "stderr",
       "text": [
        "TH1F::Sumw2:0: RuntimeWarning: Sum of squares of weights structure already created\n",
        "TH1F::Sumw2:0: RuntimeWarning: Sum of squares of weights structure already created\n"
       ]
      },
      {
       "output_type": "stream",
       "stream": "stderr",
       "text": [
        "TH1F::Sumw2:0: RuntimeWarning: Sum of squares of weights structure already created\n",
        "TH1F::Sumw2:0: RuntimeWarning: Sum of squares of weights structure already created\n"
       ]
      },
      {
       "output_type": "stream",
       "stream": "stderr",
       "text": [
        "TH1F::Sumw2:0: RuntimeWarning: Sum of squares of weights structure already created\n",
        "TH1F::Sumw2:0: RuntimeWarning: Sum of squares of weights structure already created\n"
       ]
      },
      {
       "output_type": "stream",
       "stream": "stderr",
       "text": [
        "TH1F::Sumw2:0: RuntimeWarning: Sum of squares of weights structure already created\n",
        "TH1F::Sumw2:0: RuntimeWarning: Sum of squares of weights structure already created\n"
       ]
      },
      {
       "output_type": "stream",
       "stream": "stderr",
       "text": [
        "TH1F::Sumw2:0: RuntimeWarning: Sum of squares of weights structure already created\n",
        "TH1F::Sumw2:0: RuntimeWarning: Sum of squares of weights structure already created\n"
       ]
      },
      {
       "output_type": "stream",
       "stream": "stderr",
       "text": [
        "TH1F::Sumw2:0: RuntimeWarning: Sum of squares of weights structure already created\n",
        "TH1F::Sumw2:0: RuntimeWarning: Sum of squares of weights structure already created\n"
       ]
      },
      {
       "output_type": "stream",
       "stream": "stderr",
       "text": [
        "TH1F::Sumw2:0: RuntimeWarning: Sum of squares of weights structure already created\n",
        "TH1F::Sumw2:0: RuntimeWarning: Sum of squares of weights structure already created\n"
       ]
      },
      {
       "output_type": "stream",
       "stream": "stderr",
       "text": [
        "TH1F::Sumw2:0: RuntimeWarning: Sum of squares of weights structure already created\n",
        "TH1F::Sumw2:0: RuntimeWarning: Sum of squares of weights structure already created\n"
       ]
      },
      {
       "output_type": "stream",
       "stream": "stderr",
       "text": [
        "TH1F::Sumw2:0: RuntimeWarning: Sum of squares of weights structure already created\n",
        "TH1F::Sumw2:0: RuntimeWarning: Sum of squares of weights structure already created\n"
       ]
      },
      {
       "output_type": "stream",
       "stream": "stderr",
       "text": [
        "TH1F::Sumw2:0: RuntimeWarning: Sum of squares of weights structure already created\n",
        "TH1F::Sumw2:0: RuntimeWarning: Sum of squares of weights structure already created\n"
       ]
      },
      {
       "output_type": "stream",
       "stream": "stderr",
       "text": [
        "TH1F::Sumw2:0: RuntimeWarning: Sum of squares of weights structure already created\n",
        "TH1F::Sumw2:0: RuntimeWarning: Sum of squares of weights structure already created\n"
       ]
      },
      {
       "output_type": "stream",
       "stream": "stderr",
       "text": [
        "TH1F::Sumw2:0: RuntimeWarning: Sum of squares of weights structure already created\n",
        "TH1F::Sumw2:0: RuntimeWarning: Sum of squares of weights structure already created\n"
       ]
      },
      {
       "output_type": "stream",
       "stream": "stderr",
       "text": [
        "TH1F::Sumw2:0: RuntimeWarning: Sum of squares of weights structure already created\n",
        "TH1F::Sumw2:0: RuntimeWarning: Sum of squares of weights structure already created\n"
       ]
      },
      {
       "output_type": "stream",
       "stream": "stderr",
       "text": [
        "TH1F::Sumw2:0: RuntimeWarning: Sum of squares of weights structure already created\n",
        "TH1F::Sumw2:0: RuntimeWarning: Sum of squares of weights structure already created\n"
       ]
      }
     ],
     "prompt_number": 12
    },
    {
     "cell_type": "heading",
     "level": 2,
     "metadata": {},
     "source": [
      "VALIDATION"
     ]
    },
    {
     "cell_type": "code",
     "collapsed": false,
     "input": [
      "Cut1=ROOT.TCut(\"chi2<8\")\n",
      "CutsFromOpt=[ROOT.TCut(\"\"),Cut1,CutDRbb,CutDRWH,CutHM,CutM2HP,CutDRTp6thJ,CutRelHT,CutMTHAsym]\n",
      "OptVersion=\"_550To1100_bkgestimation_with_optchi2_Final_Revision_15bins_\"+NominalV+\"_\"+InclusiveV1+\"_\"+InclusiveV2\n",
      "\n",
      "CumulCut=ROOT.TCut(\"\")*CutHT\n",
      "\n",
      "PDFName=\"Nminus1\"+OptVersion+\".pdf\"\n",
      "CurCanv = rootnotes.canvas(\"MyPlot\", (600, 800))\n",
      "Titles=[\"Base\",\"chi2\", \"DRbb\", \"DRWH\", \"HiggsMass\", \"M2HP\", \"DRTp6thJ\", \"RelHT\", \"MTHAsym\"]\n",
      "\n",
      "SignalWEntries=[]; QCDWEntries=[]; TopWEntries=[]; DibosonWEntries=[]\n",
      "\n",
      "BinsLimits=\"(13,550,1100)\"\n",
      "MinX=float(BinsLimits.split(\",\")[1])\n",
      "MaxX=float(BinsLimits.split(\",\")[-1][0:-1])\n",
      "Nbins=int(BinsLimits.split(\",\")[0][1:])\n",
      "\n",
      "ValString=[\"Data\",\"TTbar\",\"QCD\",\"MC-Sum\"]\n",
      "WP=[\" Signal sample\",\" [0.244,0.679)\",\" [0.389,0.679)\",\" [0.534,0.679)\"]\n",
      "\n",
      "for i in xrange(len(CutsFromOpt)):\n",
      "    TTbarHistos=[]; QCD500Histos=[]; QCD1000Histos=[]; DataHistos=[]; QCDHistos=[]; MCHistos=[]\n",
      "    SingleTHistos=[]; QCDPTHistos=[]; DibosonHistos=[]; DYHistos=[]; SignalHistos=[]\n",
      "    CumulCut=CumulCut*CutsFromOpt[i]\n",
      "    for j in xrange(4):\n",
      "        \n",
      "        SHT=[]; SEnT=[]\n",
      "        if (i==(len(CutsFromOpt)-1) and j==0): MassesHistosf = ROOT.TFile(\"Histos_Masses_Afterfullsel.root\", \"recreate\")\n",
      "        if j==0:\n",
      "            SignalArray=NMassPointsA\n",
      "            TTArray=TntupleA\n",
      "            QCDHTArray=QntuplesA\n",
      "            SubBKGArray=SubBKGArrayA\n",
      "        elif j==1:\n",
      "            SignalArray=NMassPointsE\n",
      "            TTArray=TntupleE\n",
      "            QCDHTArray=QntuplesE\n",
      "            SubBKGArray=SubBKGArrayE\n",
      "        elif j==2:\n",
      "            SignalArray=NMassPointsE1\n",
      "            TTArray=TntupleE1\n",
      "            QCDHTArray=QntuplesE1\n",
      "            SubBKGArray=SubBKGArrayE1\n",
      "        elif j==3:\n",
      "            SignalArray=NMassPointsE2\n",
      "            TTArray=TntupleE2\n",
      "            QCDHTArray=QntuplesE2\n",
      "            SubBKGArray=SubBKGArrayE2\n",
      "        #####SIGNAL#####\n",
      "        for k in xrange(len(SignalArray)): #Signal            \n",
      "            if SignalArray[k].GetEntries()>0:\n",
      "                SignalArray[k].Draw(\"M5J >> M5jSi_Cut\"+str(i)+\"_\"+str(j)+\"_\"+str(k)+BinsLimits,CumulCut)\n",
      "                SHT.append(ROOT.gDirectory.Get(\"M5jSi_Cut\"+str(i)+\"_\"+str(j)+\"_\"+str(k)))\n",
      "                #SHT[-1].Sumw2(); SHT[-1].Scale(NWeights[k])\n",
      "                if (i==(len(CutsFromOpt)-1) and j==0): SHT[-1].Write()\n",
      "                if j==0: SEnT.append(SHT[-1].GetEntries())\n",
      "        SignalHistos.append(SHT)\n",
      "        if (i==(len(CutsFromOpt)-1) and j==0): MassesHistosf.Close()\n",
      "        if j==0: SignalWEntries.append(SEnT)\n",
      "        \n",
      "        #####TTJets#####\n",
      "        TTArray.Draw(\"M5J >> M5jT_Cut\"+str(i)+\"_\"+str(j)+BinsLimits,CumulCut)\n",
      "        TTbarHistos.append(ROOT.gDirectory.Get(\"M5jT_Cut\"+str(i)+\"_\"+str(j)))\n",
      "        TTbarHistos[-1].Sumw2(); TTbarHistos[-1].Scale(TWeight) #; TTbarHistos[-1].Write()\n",
      "        if j==0: TopWEntries.append(TTbarHistos[-1].GetEntries()*TWeight)\n",
      "                \n",
      "        #####QCDHT#####\n",
      "        QCDHTArray[0].Draw(\"M5J >> M5jQ500_Cut\"+str(i)+\"_\"+str(j)+BinsLimits,CumulCut)\n",
      "        QCD500Histos.append(ROOT.gDirectory.Get(\"M5jQ500_Cut\"+str(i)+\"_\"+str(j)))\n",
      "        QCD500Histos[-1].Sumw2(); QCD500Histos[-1].Scale(QWeights[0]) #; QCD500Histos[-1].Write()\n",
      "        if j==0: QCDWEntries.append(QCD500Histos[-1].GetEntries()*QWeights[0])\n",
      "        \n",
      "        QCDHTArray[1].Draw(\"M5J >> M5jQ1000_Cut\"+str(i)+\"_\"+str(j)+BinsLimits,CumulCut)\n",
      "        QCD1000Histos.append(ROOT.gDirectory.Get(\"M5jQ1000_Cut\"+str(i)+\"_\"+str(j)))\n",
      "        QCD1000Histos[-1].Sumw2(); QCD1000Histos[-1].Scale(QWeights[1]) #; QCD1000Histos[-1].Write()\n",
      "        if j==0: QCDWEntries[-1]+=QCD1000Histos[-1].GetEntries()*QWeights[1]\n",
      "        \n",
      "        STHT=[]\n",
      "        for k in xrange(6): #Single Top\n",
      "            if SubBKGArray[k].GetEntries()>0:\n",
      "                SubBKGArray[k].Draw(\"M5J >> M5jST_Cut\"+str(i)+\"_\"+str(j)+\"_\"+str(k)+BinsLimits,CumulCut)\n",
      "                STHT.append(ROOT.gDirectory.Get(\"M5jST_Cut\"+str(i)+\"_\"+str(j)+\"_\"+str(k)))\n",
      "                STHT[-1].Sumw2(); STHT[-1].Scale(SingleTWeights[k])\n",
      "                if j==0: TopWEntries[-1]+=STHT[-1].GetEntries()*SingleTWeights[k]\n",
      "        SingleTHistos.append(STHT)\n",
      "            \n",
      "        DiHT=[]; DiE=0\n",
      "        for k in xrange(3): #Diboson\n",
      "            if SubBKGArray[k+6].GetEntries()>0:\n",
      "                SubBKGArray[k+6].Draw(\"M5J >> M5jDi_Cut\"+str(i)+\"_\"+str(j)+\"_\"+str(k)+BinsLimits,CumulCut)\n",
      "                DiHT.append(ROOT.gDirectory.Get(\"M5jDi_Cut\"+str(i)+\"_\"+str(j)+\"_\"+str(k)))\n",
      "                DiHT[-1].Sumw2(); DiHT[-1].Scale(DibosonWeights[k])\n",
      "                if j==0: DiE+=DiHT[-1].GetEntries()*DibosonWeights[k]\n",
      "        DibosonHistos.append(DiHT)\n",
      "        if j==0: DibosonWEntries.append(DiE)\n",
      "        \n",
      "        DYHT=[]\n",
      "        for k in xrange(2): #DY\n",
      "            if SubBKGArray[k+9].GetEntries()>0:\n",
      "                SubBKGArray[k+9].Draw(\"M5J >> M5jDY_Cut\"+str(i)+\"_\"+str(j)+\"_\"+str(k)+BinsLimits,CumulCut)\n",
      "                DYHT.append(ROOT.gDirectory.Get(\"M5jDY_Cut\"+str(i)+\"_\"+str(j)+\"_\"+str(k)))\n",
      "                DYHT[-1].Sumw2(); DYHT[-1].Scale(DYWeights[k])\n",
      "        DYHistos.append(DYHT)\n",
      "        \n",
      "        if QCDPTFLAG: \n",
      "            QCDPTHT=[]\n",
      "            for k in xrange(6): #QCD PT hat\n",
      "                if SubBKGArray[k+11].GetEntries()>0:\n",
      "                    SubBKGArray[k+11].Draw(\"M5J >> M5jQCDPT_Cut\"+str(i)+\"_\"+str(j)+\"_\"+str(k)+BinsLimits,CumulCut)\n",
      "                    QCDPTHT.append(ROOT.gDirectory.Get(\"M5jQCDPT_Cut\"+str(i)+\"_\"+str(j)+\"_\"+str(k)))\n",
      "                    QCDPTHT[-1].Sumw2(); QCDPTHT[-1].Scale(QCDPTWeights[k])\n",
      "                    if j==0: QCDWEntries[-1]+=QCDPTHT[-1].GetEntries()*QCDPTWeights[k]\n",
      "            QCDPTHistos.append(QCDPTHT)\n",
      "            \n",
      "        QCDFull=QCD500Histos[-1].Clone(\"M5jQ_Cut\"+str(i)+\"_\"+str(j))\n",
      "        QCDFull.Sumw2(); QCDFull.Add(QCD1000Histos[-1])\n",
      "        if QCDPTFLAG:\n",
      "            for k in QCDPTHistos[-1]:\n",
      "                QCDFull.Add(k)\n",
      "        QCDHistos.append(QCDFull)\n",
      "        \n",
      "        MCFull=QCDFull.Clone(\"M5jMC_Cut\"+str(i)+\"_\"+str(j))\n",
      "        MCFull.Sumw2(); MCFull.Add(TTbarHistos[-1])\n",
      "        for k in SingleTHistos[-1]: MCFull.Add(k)\n",
      "        for k in DibosonHistos[-1]: MCFull.Add(k)\n",
      "        for k in DYHistos[-1]: MCFull.Add(k)\n",
      "        MCHistos.append(MCFull)\n",
      "        \n",
      "        #DataArray[j].Draw(\"M5J >> M5jD_Cut\"+str(i)+\"_\"+str(j)+BinsLimits,CumulCut)\n",
      "        #DataHistos.append(ROOT.gDirectory.Get(\"M5jD_Cut\"+str(i)+\"_\"+str(j)))\n",
      "    \n",
      "    DataA[0].Draw(\"M5J >> M5jD_Cut\"+str(i)+\"_0\"+BinsLimits,CumulCut)\n",
      "    DataHistos.append(ROOT.gDirectory.Get(\"M5jD_Cut\"+str(i)+\"_0\"))\n",
      "    DataE[0].Draw(\"M5J >> M5jD_Cut\"+str(i)+\"_1\"+BinsLimits,CumulCut)\n",
      "    DataHistos.append(ROOT.gDirectory.Get(\"M5jD_Cut\"+str(i)+\"_1\"))\n",
      "    DataE1[0].Draw(\"M5J >> M5jD_Cut\"+str(i)+\"_2\"+BinsLimits,CumulCut)\n",
      "    DataHistos.append(ROOT.gDirectory.Get(\"M5jD_Cut\"+str(i)+\"_2\"))\n",
      "    DataE2[0].Draw(\"M5J >> M5jD_Cut\"+str(i)+\"_3\"+BinsLimits,CumulCut)\n",
      "    DataHistos.append(ROOT.gDirectory.Get(\"M5jD_Cut\"+str(i)+\"_3\"))\n",
      "    ROOT.gPad.Clear()\n",
      "    del(SignalArray); del(TTArray); del(QCDHTArray); del(SubBKGArray)\n",
      "    for k in xrange(4):\n",
      "        #if k!=0: continue\n",
      "        if k==0: HistosToplot=DataHistos\n",
      "        elif k==1: HistosToplot=TTbarHistos\n",
      "        elif k==2: HistosToplot=QCDHistos\n",
      "        elif k==3: HistosToplot=MCHistos\n",
      "        \n",
      "        CurrentStyle=ROOT.TStyle(\"CStyle\",\"Style for Plotting\")\n",
      "        #ROOT.SetOwnership( CurrentStyle, False )\n",
      "        #CurrentStyle.SetOptStat(0)\n",
      "        #CurrentStyle.SetOptTitle(0)\n",
      "        #CurrentStyle.SetPadLeftMargin(0.16)\n",
      "        #CurrentStyle.SetPadRightMargin(0.02)\n",
      "        \n",
      "        #CurrentStyle.SetTitleColor(1, \"XYZ\")\n",
      "        #CurrentStyle.SetTitleFont(42, \"XYZ\")\n",
      "        #CurrentStyle.SetTitleSize(0.06, \"XYZ\")\n",
      "        #CurrentStyle.SetTitleXOffset(1.0)\n",
      "        #CurrentStyle.SetTitleOffset(1.5, \"Y\")\n",
      "        #CurrentStyle.SetLabelColor(1, \"XYZ\")\n",
      "        #CurrentStyle.SetLabelFont(42, \"XYZ\")\n",
      "        #CurrentStyle.SetLabelOffset(0.007, \"XYZ\")\n",
      "        #CurrentStyle.SetLabelSize(0.05, \"XYZ\")\n",
      "        #CurrentStyle.SetAxisColor(1, \"XYZ\")\n",
      "        #CurrentStyle.SetStripDecimals(ROOT.kTRUE)\n",
      "        #CurrentStyle.SetTickLength(0.03, \"XYZ\")\n",
      "        #CurrentStyle.SetNdivisions(510, \"XYZ\")\n",
      "                \n",
      "        CurCanv1 = rootnotes.canvas(\"MyPlot\", (600, 800))\n",
      "        CurCanv1.cd(1)\n",
      "        Pad1=ROOT.TPad(\"pad1\",\"pad1\",0,0.3,1,1)\n",
      "        Pad1.SetBottomMargin(0)\n",
      "        Pad1.SetLeftMargin(0.16)\n",
      "        Pad1.Draw()\n",
      "        Pad1.cd()\n",
      "        \n",
      "        HistosToplot[0].SetStats(ROOT.kFALSE)\n",
      "        \n",
      "        HistosToplot[0].SetTitle(\";;A.U./{0:.0f} GeV/c^{{2}}\".format((MaxX-MinX)/Nbins))\n",
      "        SetAxis(HistosToplot[0],'Y',1.5,0.05,0.007,0.05,110) #1.45,0.05,0.007,0.05,510\n",
      "        HistosToplot[0].SetLineStyle(1); HistosToplot[0].SetLineWidth(1); HistosToplot[0].SetLineColor(ROOT.kGray+2)\n",
      "        HistosToplot[0].SetFillStyle(3144); HistosToplot[0].SetFillColor(ROOT.kGray+2)\n",
      "        \n",
      "        HistosToplot[1].SetLineStyle(1); HistosToplot[1].SetLineWidth(2); HistosToplot[1].SetLineColor(ROOT.kGreen+2)\n",
      "        \n",
      "        HistosToplot[2].SetLineStyle(2); HistosToplot[2].SetLineWidth(2); HistosToplot[2].SetLineColor(ROOT.kRed+1)\n",
      "        \n",
      "        HistosToplot[3].SetLineStyle(5); HistosToplot[3].SetLineWidth(2); HistosToplot[3].SetLineColor(ROOT.kBlue+1)\n",
      "        \n",
      "        HistosToplot[1].SetMarkerStyle(20); HistosToplot[2].SetMarkerStyle(21); HistosToplot[3].SetMarkerStyle(22)\n",
      "        HistosToplot[1].SetMarkerColor(ROOT.kGreen+2); HistosToplot[2].SetMarkerColor(ROOT.kRed+1); HistosToplot[3].SetMarkerColor(ROOT.kBlue+1)\n",
      "        HistosToplot[1].SetMarkerSize(0.8); HistosToplot[2].SetMarkerSize(0.8); HistosToplot[3].SetMarkerSize(0.8)\n",
      "        \n",
      "        if HistosToplot[0].Integral()!=0 and HistosToplot[1].Integral()!=0 and HistosToplot[2].Integral()!=0 and HistosToplot[3].Integral()!=0:\n",
      "            HistosToplot[0].Sumw2(); HistosToplot[0].Scale(1./HistosToplot[0].Integral())\n",
      "            HistosToplot[1].Sumw2(); HistosToplot[1].Scale(1./HistosToplot[1].Integral())\n",
      "            HistosToplot[2].Sumw2(); HistosToplot[2].Scale(1./HistosToplot[2].Integral())\n",
      "            HistosToplot[3].Sumw2(); HistosToplot[3].Scale(1./HistosToplot[3].Integral())\n",
      "            Maxima=[HistosToplot[0].GetMaximum(),HistosToplot[1].GetMaximum(),HistosToplot[2].GetMaximum(),HistosToplot[3].GetMaximum()]\n",
      "            Minima=[HistosToplot[0].GetMinimum(),HistosToplot[1].GetMinimum(),HistosToplot[2].GetMinimum(),HistosToplot[3].GetMinimum()]\n",
      "        else:\n",
      "            Maxima=[HistosToplot[0].GetMaximum(),HistosToplot[1].GetMaximum(),HistosToplot[2].GetMaximum(),HistosToplot[3].GetMaximum()]\n",
      "            Minima=[HistosToplot[0].GetMinimum(),HistosToplot[1].GetMinimum(),HistosToplot[2].GetMinimum(),HistosToplot[3].GetMinimum()]\n",
      "        \n",
      "        CloneE=HistosToplot[1].Clone(\"CopyE\"); CloneE1=HistosToplot[2].Clone(\"CopyE1\"); CloneE2=HistosToplot[3].Clone(\"CopyE2\")\n",
      "        CloneA=HistosToplot[0].Clone(\"CopyA\")\n",
      "        \n",
      "        LEG=ROOT.TLegend(0.5,0.5,0.9,0.9)\n",
      "        LEG.AddEntry(HistosToplot[0], ValString[k]+WP[0], \"f\"); LEG.AddEntry(HistosToplot[1], ValString[k]+WP[1], \"ple\")\n",
      "        LEG.AddEntry(HistosToplot[2], ValString[k]+WP[2], \"ple\"); LEG.AddEntry(HistosToplot[3], ValString[k]+WP[3], \"ple\")\n",
      "        LEG.SetFillColor(0);\n",
      "        #HistosToplot[0].GetYaxis().SetTitleOffset(1.5)\n",
      "        HistosToplot[0].GetYaxis().SetRangeUser(0.95*min(Minima),1.05*max(Maxima))\n",
      "        #HistosToplot[0].DrawNormalized(\"E2\"); HistosToplot[1].DrawNormalized(\"E same\")\n",
      "        #HistosToplot[2].DrawNormalized(\"E same\"); HistosToplot[3].DrawNormalized(\"E same\")\n",
      "        HistosToplot[0].Draw(\"E2\"); HistosToplot[1].Draw(\"E same\")\n",
      "        HistosToplot[2].Draw(\"E same\"); HistosToplot[3].Draw(\"E same\")\n",
      "        LEG.Draw()\n",
      "        CurrentStyle.SetPadTickX(1)\n",
      "        CurCanv1.cd()\n",
      "        \n",
      "        Pad2=ROOT.TPad(\"pad2\",\"pad2\",0,0,1,0.3)\n",
      "        Pad2.SetTopMargin(0)\n",
      "        Pad2.SetLeftMargin(0.16)\n",
      "        Pad2.SetBottomMargin(0.25)\n",
      "        Pad2.Draw()\n",
      "        Pad2.cd()\n",
      "        \n",
      "        CloneA.SetMinimum(0.1); CloneA.SetMaximum(1.9)\n",
      "        CloneA.Sumw2()\n",
      "        CloneA.SetStats(0)\n",
      "        CloneA.SetTitle(\";M(5J) GeV/c^{2};ControlSample/SignalSample\")\n",
      "        CloneA.Divide(HistosToplot[0])\n",
      "        CloneA.SetFillStyle(1001)\n",
      "        SetAxis(CloneA,'X',0.9,0.09,0.007,0.09,510)\n",
      "        SetAxis(CloneA,'Y',0.7,0.06,0.007,0.09,404)\n",
      "        CloneA.Draw(\"E2\")\n",
      "        \n",
      "        CloneE.Sumw2()\n",
      "        CloneE.Scale(HistosToplot[0].Integral()/CloneE.Integral()); CloneE.SetStats(0)\n",
      "        CloneE.SetTitle(\";M(5J) GeV/c^{2};ControlSample/SignalSample\")\n",
      "        CloneE.Divide(HistosToplot[0])\n",
      "        CloneE.Draw(\"ep same\")\n",
      "        \n",
      "        CloneE1.Sumw2()\n",
      "        CloneE1.Scale(HistosToplot[0].Integral()/CloneE1.Integral()); CloneE1.SetStats(0)\n",
      "        CloneE1.SetTitle(\";M(5J) GeV/c^{2};ControlSample/SignalSample\")\n",
      "        CloneE1.Divide(HistosToplot[0])\n",
      "        CloneE1.Draw(\"ep same\")\n",
      "        \n",
      "        CloneE2.Sumw2()\n",
      "        CloneE2.Scale(HistosToplot[0].Integral()/CloneE2.Integral()); CloneE2.SetStats(0)\n",
      "        CloneE2.SetTitle(\";M(5J) GeV/c^{2};ControlSample/SignalSample\")\n",
      "        CloneE2.Divide(HistosToplot[0])\n",
      "        CloneE2.Draw(\"ep same\")\n",
      "        \n",
      "        #print i, k\n",
      "        \n",
      "        if i==0 and k==0: CurCanv1.Print(PDFName+\"(\",\"Title:\"+Titles[i]+\"_\"+ValString[k])\n",
      "        elif i==(len(CutsFromOpt)-1) and k==3: CurCanv1.Print(PDFName+\")\",\"Title:\"+Titles[i]+\"_\"+ValString[k])\n",
      "        #elif i==(len(CutsFromOpt)-1) and k==0: CurCanv1.Print(PDFName+\")\",\"Title:\"+Titles[i]+\"_\"+ValString[k])\n",
      "        else: CurCanv1.Print(PDFName,\"Title:\"+Titles[i]+\"_\"+ValString[k])\n",
      "        ######if i>=0 and k>=0: CurCanv1.Print(PDFName,\"Title:\"+Titles[i]+\"_\"+ValString[k])\n",
      "        #elif i!=0 and k<3: CurCanv1.Print(PDFName,\"Title:\"+Titles[i]+\"_\"+ValString[k])\n",
      "        #elif i!=0 and k==3: CurCanv1.Print(PDFName,\"Title:\"+Titles[i]+\"_\"+ValString[k])\n",
      "        ######if i==(len(CutsFromOpt)-1) and k==3: CurCanv1.Print(PDFName+\")\",\"Title:\"+Titles[i]+\"_\"+ValString[k])\n",
      "        \n",
      "        CurCanv1.Clear(); CurrentStyle.SetPadTickX(0)\n",
      "        CurCanv1.cd(1)\n",
      "                    \n",
      "        del(HistosToplot); del(CurCanv1); del(Pad1); del(Pad2)\n",
      "        del(CloneA); del(CloneE); del(CloneE1); del(CloneE2)\n",
      "    del(TTbarHistos); del(QCD500Histos); del(QCD1000Histos); del(DataHistos); del(QCDHistos); del(MCHistos)\n",
      "    del(SingleTHistos); del(QCDPTHistos); del(DibosonHistos); del(DYHistos); del(SignalHistos)\n",
      "    "
     ],
     "language": "python",
     "metadata": {},
     "outputs": [
      {
       "output_type": "stream",
       "stream": "stderr",
       "text": [
        "TH1F::Sumw2:0: RuntimeWarning: Sum of squares of weights structure already created\n",
        "TH1F::Sumw2:0: RuntimeWarning: Sum of squares of weights structure already created\n",
        "TH1F::Sumw2:0: RuntimeWarning: Sum of squares of weights structure already created\n"
       ]
      },
      {
       "output_type": "stream",
       "stream": "stderr",
       "text": [
        "TH1F::Sumw2:0: RuntimeWarning: Sum of squares of weights structure already created\n",
        "TH1F::Sumw2:0: RuntimeWarning: Sum of squares of weights structure already created\n",
        "TH1F::Sumw2:0: RuntimeWarning: Sum of squares of weights structure already created\n",
        "TH1F::Sumw2:0: RuntimeWarning: Sum of squares of weights structure already created\n"
       ]
      },
      {
       "output_type": "stream",
       "stream": "stderr",
       "text": [
        "TH1F::Sumw2:0: RuntimeWarning: Sum of squares of weights structure already created\n",
        "TH1F::Sumw2:0: RuntimeWarning: Sum of squares of weights structure already created\n"
       ]
      },
      {
       "output_type": "stream",
       "stream": "stderr",
       "text": [
        "TH1F::Sumw2:0: RuntimeWarning: Sum of squares of weights structure already created\n",
        "TH1F::Sumw2:0: RuntimeWarning: Sum of squares of weights structure already created\n",
        "TH1F::Sumw2:0: RuntimeWarning: Sum of squares of weights structure already created\n",
        "TH1F::Sumw2:0: RuntimeWarning: Sum of squares of weights structure already created\n",
        "TH1F::Sumw2:0: RuntimeWarning: Sum of squares of weights structure already created\n",
        "TH1F::Sumw2:0: RuntimeWarning: Sum of squares of weights structure already created\n",
        "TH1F::Sumw2:0: RuntimeWarning: Sum of squares of weights structure already created\n",
        "TH1F::Sumw2:0: RuntimeWarning: Sum of squares of weights structure already created\n",
        "TH1F::Sumw2:0: RuntimeWarning: Sum of squares of weights structure already created\n",
        "TH1F::Sumw2:0: RuntimeWarning: Sum of squares of weights structure already created\n",
        "TH1F::Sumw2:0: RuntimeWarning: Sum of squares of weights structure already created\n",
        "TH1F::Sumw2:0: RuntimeWarning: Sum of squares of weights structure already created\n",
        "TH1F::Sumw2:0: RuntimeWarning: Sum of squares of weights structure already created\n",
        "TH1F::Sumw2:0: RuntimeWarning: Sum of squares of weights structure already created\n",
        "TH1F::Sumw2:0: RuntimeWarning: Sum of squares of weights structure already created\n",
        "TH1F::Sumw2:0: RuntimeWarning: Sum of squares of weights structure already created\n",
        "TH1F::Sumw2:0: RuntimeWarning: Sum of squares of weights structure already created\n",
        "TH1F::Sumw2:0: RuntimeWarning: Sum of squares of weights structure already created\n",
        "TH1F::Sumw2:0: RuntimeWarning: Sum of squares of weights structure already created\n",
        "TH1F::Sumw2:0: RuntimeWarning: Sum of squares of weights structure already created\n",
        "TH1F::Sumw2:0: RuntimeWarning: Sum of squares of weights structure already created\n",
        "TH1F::Sumw2:0: RuntimeWarning: Sum of squares of weights structure already created\n",
        "TH1F::Sumw2:0: RuntimeWarning: Sum of squares of weights structure already created\n",
        "TH1F::Sumw2:0: RuntimeWarning: Sum of squares of weights structure already created\n",
        "TH1F::Sumw2:0: RuntimeWarning: Sum of squares of weights structure already created\n",
        "TH1F::Sumw2:0: RuntimeWarning: Sum of squares of weights structure already created\n",
        "TH1F::Sumw2:0: RuntimeWarning: Sum of squares of weights structure already created\n",
        "TH1F::Sumw2:0: RuntimeWarning: Sum of squares of weights structure already created\n"
       ]
      },
      {
       "output_type": "stream",
       "stream": "stderr",
       "text": [
        "TH1F::Sumw2:0: RuntimeWarning: Sum of squares of weights structure already created\n",
        "TH1F::Sumw2:0: RuntimeWarning: Sum of squares of weights structure already created\n"
       ]
      },
      {
       "output_type": "stream",
       "stream": "stderr",
       "text": [
        "TH1F::Sumw2:0: RuntimeWarning: Sum of squares of weights structure already created\n",
        "TH1F::Sumw2:0: RuntimeWarning: Sum of squares of weights structure already created\n"
       ]
      },
      {
       "output_type": "stream",
       "stream": "stderr",
       "text": [
        "TH1F::Sumw2:0: RuntimeWarning: Sum of squares of weights structure already created\n",
        "TH1F::Sumw2:0: RuntimeWarning: Sum of squares of weights structure already created\n",
        "TH1F::Sumw2:0: RuntimeWarning: Sum of squares of weights structure already created\n",
        "TH1F::Sumw2:0: RuntimeWarning: Sum of squares of weights structure already created\n"
       ]
      },
      {
       "output_type": "stream",
       "stream": "stderr",
       "text": [
        "TH1F::Sumw2:0: RuntimeWarning: Sum of squares of weights structure already created\n",
        "TH1F::Sumw2:0: RuntimeWarning: Sum of squares of weights structure already created\n",
        "TH1F::Sumw2:0: RuntimeWarning: Sum of squares of weights structure already created\n",
        "TH1F::Sumw2:0: RuntimeWarning: Sum of squares of weights structure already created\n",
        "TH1F::Sumw2:0: RuntimeWarning: Sum of squares of weights structure already created\n",
        "TH1F::Sumw2:0: RuntimeWarning: Sum of squares of weights structure already created\n",
        "TH1F::Sumw2:0: RuntimeWarning: Sum of squares of weights structure already created\n",
        "TH1F::Sumw2:0: RuntimeWarning: Sum of squares of weights structure already created\n",
        "TH1F::Sumw2:0: RuntimeWarning: Sum of squares of weights structure already created\n",
        "TH1F::Sumw2:0: RuntimeWarning: Sum of squares of weights structure already created\n",
        "TH1F::Sumw2:0: RuntimeWarning: Sum of squares of weights structure already created\n",
        "TH1F::Sumw2:0: RuntimeWarning: Sum of squares of weights structure already created\n",
        "TH1F::Sumw2:0: RuntimeWarning: Sum of squares of weights structure already created\n",
        "TH1F::Sumw2:0: RuntimeWarning: Sum of squares of weights structure already created\n",
        "TH1F::Sumw2:0: RuntimeWarning: Sum of squares of weights structure already created\n",
        "TH1F::Sumw2:0: RuntimeWarning: Sum of squares of weights structure already created\n",
        "TH1F::Sumw2:0: RuntimeWarning: Sum of squares of weights structure already created\n",
        "TH1F::Sumw2:0: RuntimeWarning: Sum of squares of weights structure already created\n",
        "TH1F::Sumw2:0: RuntimeWarning: Sum of squares of weights structure already created\n",
        "TH1F::Sumw2:0: RuntimeWarning: Sum of squares of weights structure already created\n",
        "TH1F::Sumw2:0: RuntimeWarning: Sum of squares of weights structure already created\n",
        "TH1F::Sumw2:0: RuntimeWarning: Sum of squares of weights structure already created\n",
        "TH1F::Sumw2:0: RuntimeWarning: Sum of squares of weights structure already created\n",
        "TH1F::Sumw2:0: RuntimeWarning: Sum of squares of weights structure already created\n",
        "TH1F::Sumw2:0: RuntimeWarning: Sum of squares of weights structure already created\n",
        "TH1F::Sumw2:0: RuntimeWarning: Sum of squares of weights structure already created\n",
        "TH1F::Sumw2:0: RuntimeWarning: Sum of squares of weights structure already created\n",
        "TH1F::Sumw2:0: RuntimeWarning: Sum of squares of weights structure already created\n"
       ]
      },
      {
       "output_type": "stream",
       "stream": "stderr",
       "text": [
        "TH1F::Sumw2:0: RuntimeWarning: Sum of squares of weights structure already created\n",
        "TH1F::Sumw2:0: RuntimeWarning: Sum of squares of weights structure already created\n"
       ]
      },
      {
       "output_type": "stream",
       "stream": "stderr",
       "text": [
        "TH1F::Sumw2:0: RuntimeWarning: Sum of squares of weights structure already created\n",
        "TH1F::Sumw2:0: RuntimeWarning: Sum of squares of weights structure already created\n"
       ]
      },
      {
       "output_type": "stream",
       "stream": "stderr",
       "text": [
        "TH1F::Sumw2:0: RuntimeWarning: Sum of squares of weights structure already created\n",
        "TH1F::Sumw2:0: RuntimeWarning: Sum of squares of weights structure already created\n",
        "TH1F::Sumw2:0: RuntimeWarning: Sum of squares of weights structure already created\n",
        "TH1F::Sumw2:0: RuntimeWarning: Sum of squares of weights structure already created\n"
       ]
      },
      {
       "output_type": "stream",
       "stream": "stderr",
       "text": [
        "TH1F::Sumw2:0: RuntimeWarning: Sum of squares of weights structure already created\n",
        "TH1F::Sumw2:0: RuntimeWarning: Sum of squares of weights structure already created\n",
        "TH1F::Sumw2:0: RuntimeWarning: Sum of squares of weights structure already created\n",
        "TH1F::Sumw2:0: RuntimeWarning: Sum of squares of weights structure already created\n",
        "TH1F::Sumw2:0: RuntimeWarning: Sum of squares of weights structure already created\n",
        "TH1F::Sumw2:0: RuntimeWarning: Sum of squares of weights structure already created\n",
        "TH1F::Sumw2:0: RuntimeWarning: Sum of squares of weights structure already created\n",
        "TH1F::Sumw2:0: RuntimeWarning: Sum of squares of weights structure already created\n",
        "TH1F::Sumw2:0: RuntimeWarning: Sum of squares of weights structure already created\n",
        "TH1F::Sumw2:0: RuntimeWarning: Sum of squares of weights structure already created\n",
        "TH1F::Sumw2:0: RuntimeWarning: Sum of squares of weights structure already created\n",
        "TH1F::Sumw2:0: RuntimeWarning: Sum of squares of weights structure already created\n",
        "TH1F::Sumw2:0: RuntimeWarning: Sum of squares of weights structure already created\n",
        "TH1F::Sumw2:0: RuntimeWarning: Sum of squares of weights structure already created\n",
        "TH1F::Sumw2:0: RuntimeWarning: Sum of squares of weights structure already created\n",
        "TH1F::Sumw2:0: RuntimeWarning: Sum of squares of weights structure already created\n",
        "TH1F::Sumw2:0: RuntimeWarning: Sum of squares of weights structure already created\n",
        "TH1F::Sumw2:0: RuntimeWarning: Sum of squares of weights structure already created\n",
        "TH1F::Sumw2:0: RuntimeWarning: Sum of squares of weights structure already created\n",
        "TH1F::Sumw2:0: RuntimeWarning: Sum of squares of weights structure already created\n"
       ]
      },
      {
       "output_type": "stream",
       "stream": "stderr",
       "text": [
        "TH1F::Sumw2:0: RuntimeWarning: Sum of squares of weights structure already created\n",
        "TH1F::Sumw2:0: RuntimeWarning: Sum of squares of weights structure already created\n",
        "TH1F::Sumw2:0: RuntimeWarning: Sum of squares of weights structure already created\n",
        "TH1F::Sumw2:0: RuntimeWarning: Sum of squares of weights structure already created\n",
        "TH1F::Sumw2:0: RuntimeWarning: Sum of squares of weights structure already created\n",
        "TH1F::Sumw2:0: RuntimeWarning: Sum of squares of weights structure already created\n",
        "TH1F::Sumw2:0: RuntimeWarning: Sum of squares of weights structure already created\n",
        "TH1F::Sumw2:0: RuntimeWarning: Sum of squares of weights structure already created\n"
       ]
      },
      {
       "output_type": "stream",
       "stream": "stderr",
       "text": [
        "TH1F::Sumw2:0: RuntimeWarning: Sum of squares of weights structure already created\n",
        "TH1F::Sumw2:0: RuntimeWarning: Sum of squares of weights structure already created\n"
       ]
      },
      {
       "output_type": "stream",
       "stream": "stderr",
       "text": [
        "TH1F::Sumw2:0: RuntimeWarning: Sum of squares of weights structure already created\n",
        "TH1F::Sumw2:0: RuntimeWarning: Sum of squares of weights structure already created\n"
       ]
      },
      {
       "output_type": "stream",
       "stream": "stderr",
       "text": [
        "TH1F::Sumw2:0: RuntimeWarning: Sum of squares of weights structure already created\n",
        "TH1F::Sumw2:0: RuntimeWarning: Sum of squares of weights structure already created\n",
        "TH1F::Sumw2:0: RuntimeWarning: Sum of squares of weights structure already created\n",
        "TH1F::Sumw2:0: RuntimeWarning: Sum of squares of weights structure already created\n"
       ]
      },
      {
       "output_type": "stream",
       "stream": "stderr",
       "text": [
        "TH1F::Sumw2:0: RuntimeWarning: Sum of squares of weights structure already created\n",
        "TH1F::Sumw2:0: RuntimeWarning: Sum of squares of weights structure already created\n",
        "TH1F::Sumw2:0: RuntimeWarning: Sum of squares of weights structure already created\n",
        "TH1F::Sumw2:0: RuntimeWarning: Sum of squares of weights structure already created\n",
        "TH1F::Sumw2:0: RuntimeWarning: Sum of squares of weights structure already created\n",
        "TH1F::Sumw2:0: RuntimeWarning: Sum of squares of weights structure already created\n",
        "TH1F::Sumw2:0: RuntimeWarning: Sum of squares of weights structure already created\n",
        "TH1F::Sumw2:0: RuntimeWarning: Sum of squares of weights structure already created\n",
        "TH1F::Sumw2:0: RuntimeWarning: Sum of squares of weights structure already created\n",
        "TH1F::Sumw2:0: RuntimeWarning: Sum of squares of weights structure already created\n",
        "TH1F::Sumw2:0: RuntimeWarning: Sum of squares of weights structure already created\n",
        "TH1F::Sumw2:0: RuntimeWarning: Sum of squares of weights structure already created\n",
        "TH1F::Sumw2:0: RuntimeWarning: Sum of squares of weights structure already created\n",
        "TH1F::Sumw2:0: RuntimeWarning: Sum of squares of weights structure already created\n",
        "TH1F::Sumw2:0: RuntimeWarning: Sum of squares of weights structure already created\n",
        "TH1F::Sumw2:0: RuntimeWarning: Sum of squares of weights structure already created\n",
        "TH1F::Sumw2:0: RuntimeWarning: Sum of squares of weights structure already created\n",
        "TH1F::Sumw2:0: RuntimeWarning: Sum of squares of weights structure already created\n",
        "TH1F::Sumw2:0: RuntimeWarning: Sum of squares of weights structure already created\n",
        "TH1F::Sumw2:0: RuntimeWarning: Sum of squares of weights structure already created\n"
       ]
      },
      {
       "output_type": "stream",
       "stream": "stderr",
       "text": [
        "TH1F::Sumw2:0: RuntimeWarning: Sum of squares of weights structure already created\n",
        "TH1F::Sumw2:0: RuntimeWarning: Sum of squares of weights structure already created\n",
        "TH1F::Sumw2:0: RuntimeWarning: Sum of squares of weights structure already created\n",
        "TH1F::Sumw2:0: RuntimeWarning: Sum of squares of weights structure already created\n",
        "TH1F::Sumw2:0: RuntimeWarning: Sum of squares of weights structure already created\n",
        "TH1F::Sumw2:0: RuntimeWarning: Sum of squares of weights structure already created\n",
        "TH1F::Sumw2:0: RuntimeWarning: Sum of squares of weights structure already created\n",
        "TH1F::Sumw2:0: RuntimeWarning: Sum of squares of weights structure already created\n"
       ]
      },
      {
       "output_type": "stream",
       "stream": "stderr",
       "text": [
        "TH1F::Sumw2:0: RuntimeWarning: Sum of squares of weights structure already created\n",
        "TH1F::Sumw2:0: RuntimeWarning: Sum of squares of weights structure already created\n"
       ]
      },
      {
       "output_type": "stream",
       "stream": "stderr",
       "text": [
        "TH1F::Sumw2:0: RuntimeWarning: Sum of squares of weights structure already created\n",
        "TH1F::Sumw2:0: RuntimeWarning: Sum of squares of weights structure already created\n"
       ]
      },
      {
       "output_type": "stream",
       "stream": "stderr",
       "text": [
        "TH1F::Sumw2:0: RuntimeWarning: Sum of squares of weights structure already created\n",
        "TH1F::Sumw2:0: RuntimeWarning: Sum of squares of weights structure already created\n",
        "TH1F::Sumw2:0: RuntimeWarning: Sum of squares of weights structure already created\n",
        "TH1F::Sumw2:0: RuntimeWarning: Sum of squares of weights structure already created\n"
       ]
      },
      {
       "output_type": "stream",
       "stream": "stderr",
       "text": [
        "TH1F::Sumw2:0: RuntimeWarning: Sum of squares of weights structure already created\n",
        "TH1F::Sumw2:0: RuntimeWarning: Sum of squares of weights structure already created\n",
        "TH1F::Sumw2:0: RuntimeWarning: Sum of squares of weights structure already created\n",
        "TH1F::Sumw2:0: RuntimeWarning: Sum of squares of weights structure already created\n",
        "TH1F::Sumw2:0: RuntimeWarning: Sum of squares of weights structure already created\n",
        "TH1F::Sumw2:0: RuntimeWarning: Sum of squares of weights structure already created\n",
        "TH1F::Sumw2:0: RuntimeWarning: Sum of squares of weights structure already created\n",
        "TH1F::Sumw2:0: RuntimeWarning: Sum of squares of weights structure already created\n",
        "TH1F::Sumw2:0: RuntimeWarning: Sum of squares of weights structure already created\n",
        "TH1F::Sumw2:0: RuntimeWarning: Sum of squares of weights structure already created\n",
        "TH1F::Sumw2:0: RuntimeWarning: Sum of squares of weights structure already created\n",
        "TH1F::Sumw2:0: RuntimeWarning: Sum of squares of weights structure already created\n",
        "TH1F::Sumw2:0: RuntimeWarning: Sum of squares of weights structure already created\n",
        "TH1F::Sumw2:0: RuntimeWarning: Sum of squares of weights structure already created\n",
        "TH1F::Sumw2:0: RuntimeWarning: Sum of squares of weights structure already created\n",
        "TH1F::Sumw2:0: RuntimeWarning: Sum of squares of weights structure already created\n",
        "TH1F::Sumw2:0: RuntimeWarning: Sum of squares of weights structure already created\n",
        "TH1F::Sumw2:0: RuntimeWarning: Sum of squares of weights structure already created\n",
        "TH1F::Sumw2:0: RuntimeWarning: Sum of squares of weights structure already created\n",
        "TH1F::Sumw2:0: RuntimeWarning: Sum of squares of weights structure already created\n"
       ]
      },
      {
       "output_type": "stream",
       "stream": "stderr",
       "text": [
        "TH1F::Sumw2:0: RuntimeWarning: Sum of squares of weights structure already created\n",
        "TH1F::Sumw2:0: RuntimeWarning: Sum of squares of weights structure already created\n",
        "TH1F::Sumw2:0: RuntimeWarning: Sum of squares of weights structure already created\n",
        "TH1F::Sumw2:0: RuntimeWarning: Sum of squares of weights structure already created\n",
        "TH1F::Sumw2:0: RuntimeWarning: Sum of squares of weights structure already created\n",
        "TH1F::Sumw2:0: RuntimeWarning: Sum of squares of weights structure already created\n",
        "TH1F::Sumw2:0: RuntimeWarning: Sum of squares of weights structure already created\n",
        "TH1F::Sumw2:0: RuntimeWarning: Sum of squares of weights structure already created\n"
       ]
      },
      {
       "output_type": "stream",
       "stream": "stderr",
       "text": [
        "TH1F::Sumw2:0: RuntimeWarning: Sum of squares of weights structure already created\n",
        "TH1F::Sumw2:0: RuntimeWarning: Sum of squares of weights structure already created\n"
       ]
      },
      {
       "output_type": "stream",
       "stream": "stderr",
       "text": [
        "TH1F::Sumw2:0: RuntimeWarning: Sum of squares of weights structure already created\n",
        "TH1F::Sumw2:0: RuntimeWarning: Sum of squares of weights structure already created\n"
       ]
      },
      {
       "output_type": "stream",
       "stream": "stderr",
       "text": [
        "TH1F::Sumw2:0: RuntimeWarning: Sum of squares of weights structure already created\n",
        "TH1F::Sumw2:0: RuntimeWarning: Sum of squares of weights structure already created\n"
       ]
      },
      {
       "output_type": "stream",
       "stream": "stderr",
       "text": [
        "TH1F::Sumw2:0: RuntimeWarning: Sum of squares of weights structure already created\n",
        "TH1F::Sumw2:0: RuntimeWarning: Sum of squares of weights structure already created\n"
       ]
      },
      {
       "output_type": "stream",
       "stream": "stderr",
       "text": [
        "TH1F::Sumw2:0: RuntimeWarning: Sum of squares of weights structure already created\n",
        "TH1F::Sumw2:0: RuntimeWarning: Sum of squares of weights structure already created\n",
        "TH1F::Sumw2:0: RuntimeWarning: Sum of squares of weights structure already created\n",
        "TH1F::Sumw2:0: RuntimeWarning: Sum of squares of weights structure already created\n",
        "TH1F::Sumw2:0: RuntimeWarning: Sum of squares of weights structure already created\n",
        "TH1F::Sumw2:0: RuntimeWarning: Sum of squares of weights structure already created\n",
        "TH1F::Sumw2:0: RuntimeWarning: Sum of squares of weights structure already created\n",
        "TH1F::Sumw2:0: RuntimeWarning: Sum of squares of weights structure already created\n",
        "TH1F::Sumw2:0: RuntimeWarning: Sum of squares of weights structure already created\n",
        "TH1F::Sumw2:0: RuntimeWarning: Sum of squares of weights structure already created\n",
        "TH1F::Sumw2:0: RuntimeWarning: Sum of squares of weights structure already created\n",
        "TH1F::Sumw2:0: RuntimeWarning: Sum of squares of weights structure already created\n",
        "TH1F::Sumw2:0: RuntimeWarning: Sum of squares of weights structure already created\n",
        "TH1F::Sumw2:0: RuntimeWarning: Sum of squares of weights structure already created\n",
        "TH1F::Sumw2:0: RuntimeWarning: Sum of squares of weights structure already created\n",
        "TH1F::Sumw2:0: RuntimeWarning: Sum of squares of weights structure already created\n",
        "TH1F::Sumw2:0: RuntimeWarning: Sum of squares of weights structure already created\n",
        "TH1F::Sumw2:0: RuntimeWarning: Sum of squares of weights structure already created\n",
        "TH1F::Sumw2:0: RuntimeWarning: Sum of squares of weights structure already created\n",
        "TH1F::Sumw2:0: RuntimeWarning: Sum of squares of weights structure already created\n",
        "TH1F::Sumw2:0: RuntimeWarning: Sum of squares of weights structure already created\n",
        "TH1F::Sumw2:0: RuntimeWarning: Sum of squares of weights structure already created\n",
        "TH1F::Sumw2:0: RuntimeWarning: Sum of squares of weights structure already created\n",
        "TH1F::Sumw2:0: RuntimeWarning: Sum of squares of weights structure already created\n",
        "TH1F::Sumw2:0: RuntimeWarning: Sum of squares of weights structure already created\n",
        "TH1F::Sumw2:0: RuntimeWarning: Sum of squares of weights structure already created\n",
        "TH1F::Sumw2:0: RuntimeWarning: Sum of squares of weights structure already created\n",
        "TH1F::Sumw2:0: RuntimeWarning: Sum of squares of weights structure already created\n"
       ]
      },
      {
       "output_type": "stream",
       "stream": "stderr",
       "text": [
        "TH1F::Sumw2:0: RuntimeWarning: Sum of squares of weights structure already created\n",
        "TH1F::Sumw2:0: RuntimeWarning: Sum of squares of weights structure already created\n"
       ]
      },
      {
       "output_type": "stream",
       "stream": "stderr",
       "text": [
        "TH1F::Sumw2:0: RuntimeWarning: Sum of squares of weights structure already created\n",
        "TH1F::Sumw2:0: RuntimeWarning: Sum of squares of weights structure already created\n"
       ]
      },
      {
       "output_type": "stream",
       "stream": "stderr",
       "text": [
        "TH1F::Sumw2:0: RuntimeWarning: Sum of squares of weights structure already created\n",
        "TH1F::Sumw2:0: RuntimeWarning: Sum of squares of weights structure already created\n"
       ]
      },
      {
       "output_type": "stream",
       "stream": "stderr",
       "text": [
        "TH1F::Sumw2:0: RuntimeWarning: Sum of squares of weights structure already created\n",
        "TH1F::Sumw2:0: RuntimeWarning: Sum of squares of weights structure already created\n"
       ]
      },
      {
       "output_type": "stream",
       "stream": "stderr",
       "text": [
        "TH1F::Sumw2:0: RuntimeWarning: Sum of squares of weights structure already created\n",
        "TH1F::Sumw2:0: RuntimeWarning: Sum of squares of weights structure already created\n",
        "TH1F::Sumw2:0: RuntimeWarning: Sum of squares of weights structure already created\n",
        "TH1F::Sumw2:0: RuntimeWarning: Sum of squares of weights structure already created\n",
        "TH1F::Sumw2:0: RuntimeWarning: Sum of squares of weights structure already created\n",
        "TH1F::Sumw2:0: RuntimeWarning: Sum of squares of weights structure already created\n",
        "TH1F::Sumw2:0: RuntimeWarning: Sum of squares of weights structure already created\n",
        "TH1F::Sumw2:0: RuntimeWarning: Sum of squares of weights structure already created\n",
        "TH1F::Sumw2:0: RuntimeWarning: Sum of squares of weights structure already created\n",
        "TH1F::Sumw2:0: RuntimeWarning: Sum of squares of weights structure already created\n",
        "TH1F::Sumw2:0: RuntimeWarning: Sum of squares of weights structure already created\n",
        "TH1F::Sumw2:0: RuntimeWarning: Sum of squares of weights structure already created\n",
        "TH1F::Sumw2:0: RuntimeWarning: Sum of squares of weights structure already created\n",
        "TH1F::Sumw2:0: RuntimeWarning: Sum of squares of weights structure already created\n",
        "TH1F::Sumw2:0: RuntimeWarning: Sum of squares of weights structure already created\n",
        "TH1F::Sumw2:0: RuntimeWarning: Sum of squares of weights structure already created\n",
        "TH1F::Sumw2:0: RuntimeWarning: Sum of squares of weights structure already created\n",
        "TH1F::Sumw2:0: RuntimeWarning: Sum of squares of weights structure already created\n",
        "TH1F::Sumw2:0: RuntimeWarning: Sum of squares of weights structure already created\n",
        "TH1F::Sumw2:0: RuntimeWarning: Sum of squares of weights structure already created\n"
       ]
      },
      {
       "output_type": "stream",
       "stream": "stderr",
       "text": [
        "TH1F::Sumw2:0: RuntimeWarning: Sum of squares of weights structure already created\n",
        "TH1F::Sumw2:0: RuntimeWarning: Sum of squares of weights structure already created\n",
        "TH1F::Sumw2:0: RuntimeWarning: Sum of squares of weights structure already created\n",
        "TH1F::Sumw2:0: RuntimeWarning: Sum of squares of weights structure already created\n",
        "TH1F::Sumw2:0: RuntimeWarning: Sum of squares of weights structure already created\n",
        "TH1F::Sumw2:0: RuntimeWarning: Sum of squares of weights structure already created\n",
        "TH1F::Sumw2:0: RuntimeWarning: Sum of squares of weights structure already created\n",
        "TH1F::Sumw2:0: RuntimeWarning: Sum of squares of weights structure already created\n"
       ]
      },
      {
       "output_type": "stream",
       "stream": "stderr",
       "text": [
        "TH1F::Sumw2:0: RuntimeWarning: Sum of squares of weights structure already created\n",
        "TH1F::Sumw2:0: RuntimeWarning: Sum of squares of weights structure already created\n"
       ]
      },
      {
       "output_type": "stream",
       "stream": "stderr",
       "text": [
        "TH1F::Sumw2:0: RuntimeWarning: Sum of squares of weights structure already created\n",
        "TH1F::Sumw2:0: RuntimeWarning: Sum of squares of weights structure already created\n"
       ]
      },
      {
       "output_type": "stream",
       "stream": "stderr",
       "text": [
        "TH1F::Sumw2:0: RuntimeWarning: Sum of squares of weights structure already created\n",
        "TH1F::Sumw2:0: RuntimeWarning: Sum of squares of weights structure already created\n"
       ]
      },
      {
       "output_type": "stream",
       "stream": "stderr",
       "text": [
        "TH1F::Sumw2:0: RuntimeWarning: Sum of squares of weights structure already created\n",
        "TH1F::Sumw2:0: RuntimeWarning: Sum of squares of weights structure already created\n"
       ]
      },
      {
       "output_type": "stream",
       "stream": "stderr",
       "text": [
        "TH1F::Sumw2:0: RuntimeWarning: Sum of squares of weights structure already created\n",
        "TH1F::Sumw2:0: RuntimeWarning: Sum of squares of weights structure already created\n",
        "TH1F::Sumw2:0: RuntimeWarning: Sum of squares of weights structure already created\n",
        "TH1F::Sumw2:0: RuntimeWarning: Sum of squares of weights structure already created\n",
        "TH1F::Sumw2:0: RuntimeWarning: Sum of squares of weights structure already created\n",
        "TH1F::Sumw2:0: RuntimeWarning: Sum of squares of weights structure already created\n",
        "TH1F::Sumw2:0: RuntimeWarning: Sum of squares of weights structure already created\n",
        "TH1F::Sumw2:0: RuntimeWarning: Sum of squares of weights structure already created\n",
        "TH1F::Sumw2:0: RuntimeWarning: Sum of squares of weights structure already created\n",
        "TH1F::Sumw2:0: RuntimeWarning: Sum of squares of weights structure already created\n",
        "TH1F::Sumw2:0: RuntimeWarning: Sum of squares of weights structure already created\n",
        "TH1F::Sumw2:0: RuntimeWarning: Sum of squares of weights structure already created\n",
        "TH1F::Sumw2:0: RuntimeWarning: Sum of squares of weights structure already created\n",
        "TH1F::Sumw2:0: RuntimeWarning: Sum of squares of weights structure already created\n",
        "TH1F::Sumw2:0: RuntimeWarning: Sum of squares of weights structure already created\n",
        "TH1F::Sumw2:0: RuntimeWarning: Sum of squares of weights structure already created\n",
        "TH1F::Sumw2:0: RuntimeWarning: Sum of squares of weights structure already created\n",
        "TH1F::Sumw2:0: RuntimeWarning: Sum of squares of weights structure already created\n",
        "TH1F::Sumw2:0: RuntimeWarning: Sum of squares of weights structure already created\n",
        "TH1F::Sumw2:0: RuntimeWarning: Sum of squares of weights structure already created\n",
        "TH1F::Sumw2:0: RuntimeWarning: Sum of squares of weights structure already created\n",
        "TH1F::Sumw2:0: RuntimeWarning: Sum of squares of weights structure already created\n",
        "TH1F::Sumw2:0: RuntimeWarning: Sum of squares of weights structure already created\n",
        "TH1F::Sumw2:0: RuntimeWarning: Sum of squares of weights structure already created\n"
       ]
      },
      {
       "output_type": "stream",
       "stream": "stderr",
       "text": [
        "TH1F::Sumw2:0: RuntimeWarning: Sum of squares of weights structure already created\n",
        "TH1F::Sumw2:0: RuntimeWarning: Sum of squares of weights structure already created\n"
       ]
      },
      {
       "output_type": "stream",
       "stream": "stderr",
       "text": [
        "TH1F::Sumw2:0: RuntimeWarning: Sum of squares of weights structure already created\n",
        "TH1F::Sumw2:0: RuntimeWarning: Sum of squares of weights structure already created\n"
       ]
      },
      {
       "output_type": "stream",
       "stream": "stderr",
       "text": [
        "TH1F::Sumw2:0: RuntimeWarning: Sum of squares of weights structure already created\n",
        "TH1F::Sumw2:0: RuntimeWarning: Sum of squares of weights structure already created\n"
       ]
      },
      {
       "output_type": "stream",
       "stream": "stderr",
       "text": [
        "TH1F::Sumw2:0: RuntimeWarning: Sum of squares of weights structure already created\n",
        "TH1F::Sumw2:0: RuntimeWarning: Sum of squares of weights structure already created\n"
       ]
      },
      {
       "output_type": "stream",
       "stream": "stderr",
       "text": [
        "TH1F::Sumw2:0: RuntimeWarning: Sum of squares of weights structure already created\n",
        "TH1F::Sumw2:0: RuntimeWarning: Sum of squares of weights structure already created\n",
        "TH1F::Sumw2:0: RuntimeWarning: Sum of squares of weights structure already created\n",
        "TH1F::Sumw2:0: RuntimeWarning: Sum of squares of weights structure already created\n",
        "TH1F::Sumw2:0: RuntimeWarning: Sum of squares of weights structure already created\n",
        "TH1F::Sumw2:0: RuntimeWarning: Sum of squares of weights structure already created\n",
        "TH1F::Sumw2:0: RuntimeWarning: Sum of squares of weights structure already created\n",
        "TH1F::Sumw2:0: RuntimeWarning: Sum of squares of weights structure already created\n",
        "TH1F::Sumw2:0: RuntimeWarning: Sum of squares of weights structure already created\n",
        "TH1F::Sumw2:0: RuntimeWarning: Sum of squares of weights structure already created\n",
        "TH1F::Sumw2:0: RuntimeWarning: Sum of squares of weights structure already created\n",
        "TH1F::Sumw2:0: RuntimeWarning: Sum of squares of weights structure already created\n",
        "TH1F::Sumw2:0: RuntimeWarning: Sum of squares of weights structure already created\n",
        "TH1F::Sumw2:0: RuntimeWarning: Sum of squares of weights structure already created\n",
        "TH1F::Sumw2:0: RuntimeWarning: Sum of squares of weights structure already created\n",
        "TH1F::Sumw2:0: RuntimeWarning: Sum of squares of weights structure already created\n",
        "TH1F::Sumw2:0: RuntimeWarning: Sum of squares of weights structure already created\n",
        "TH1F::Sumw2:0: RuntimeWarning: Sum of squares of weights structure already created\n",
        "TH1F::Sumw2:0: RuntimeWarning: Sum of squares of weights structure already created\n",
        "TH1F::Sumw2:0: RuntimeWarning: Sum of squares of weights structure already created\n",
        "TH1F::Sumw2:0: RuntimeWarning: Sum of squares of weights structure already created\n",
        "TH1F::Sumw2:0: RuntimeWarning: Sum of squares of weights structure already created\n",
        "TH1F::Sumw2:0: RuntimeWarning: Sum of squares of weights structure already created\n"
       ]
      }
     ],
     "prompt_number": 15
    },
    {
     "cell_type": "code",
     "collapsed": false,
     "input": [
      "print \"--------------------------------------------------\"\n",
      "print \"------------------Efficiencies--------------------\"\n",
      "print \"--------------------------------------------------\"\n",
      "#print \"--------Signal------TTbar-------QCD---------------\"\n",
      "    \n",
      "#SignalWEntries=[]; QCDWEntries=[]; TopWEntries=[]\n",
      "print SignalWEntries, QCDWEntries, TopWEntries, DibosonWEntries\n",
      "\n",
      "for i in xrange(len(TopWEntries)-1):\n",
      "    print \"{0:.2f}   {1:.2f}   {2:.2f}   {3:.2f}   {4:.2f}   {5:.2f}   {6:.2f}   {7:.2f}   {8:.2f}\".format(100*SignalWEntries[i+1][0]/SignalWEntries[i][0],\n",
      "                                                                                                                100*SignalWEntries[i+1][1]/SignalWEntries[i][1],\n",
      "                                                                                                                100*SignalWEntries[i+1][2]/SignalWEntries[i][2],\n",
      "                                                                                                                100*SignalWEntries[i+1][3]/SignalWEntries[i][3],\n",
      "                                                                                                                100*SignalWEntries[i+1][4]/SignalWEntries[i][4],\n",
      "                                                                                                                100*SignalWEntries[i+1][5]/SignalWEntries[i][5],\n",
      "                                                                                                                100*SignalWEntries[i+1][6]/SignalWEntries[i][6],\n",
      "                                                                                                                100*SignalWEntries[i+1][7]/SignalWEntries[i][7],\n",
      "                                                                                                                100*SignalWEntries[i+1][8]/SignalWEntries[i][8])\n",
      "    print \"Cut\"+str(i+1)+\":    {0:.2f}      {1:.2f}    {2:.2f}  \".format(100*TopWEntries[i+1]/TopWEntries[i],\n",
      "                                                                100*QCDWEntries[i+1]/QCDWEntries[i],\n",
      "                                                                100*DibosonWEntries[i+1]/DibosonWEntries[i]) "
     ],
     "language": "python",
     "metadata": {},
     "outputs": []
    },
    {
     "cell_type": "heading",
     "level": 3,
     "metadata": {},
     "source": [
      "Computing systematic for the background estimation"
     ]
    },
    {
     "cell_type": "code",
     "collapsed": false,
     "input": [
      "Cut1=ROOT.TCut(\"chi2<8\")\n",
      "CutsNm1=[ROOT.TCut(\"\"),Cut1,CutDRbb,CutDRWH,CutHM,CutM2HP,CutDRTp6thJ,CutRelHT]\n",
      "OptVersion=\"_20bins_bkgestimation_OneComb_with_optchi2_Revision_\"+NominalV+\"_\"+InclusiveV1+\"_\"+InclusiveV2\n",
      "\n",
      "BinAndLimits=\"(30,550,1100)\"\n",
      "Nbins=20\n",
      "\n",
      "CumulCut=ROOT.TCut(\"\")*CutHT\n",
      "\n",
      "PDFName=\"BKG_Estimation_SYS\"+OptVersion+\".pdf\"\n",
      "CurCanv = rootnotes.canvas(\"MyPlot\", (600, 800))\n",
      "Titles=[\"Base\",\"chi2\", \"DRbb\", \"DRWH\", \"M2HP\", \"DRTp6thJ\", \"HiggsMass\", \"RelHT\", \"MTHAsym\"]\n",
      "\n",
      "BKGSYSF = ROOT.TFile(\"BKG_Estimation_SYS\"+OptVersion+\".root\", \"recreate\")\n",
      "\n",
      "for i in xrange(len(CutsNm1)):\n",
      "    CumulCut=CumulCut*CutsNm1[i]\n",
      "    DataA[0].Draw(\"M5J >> DataM5JSigSamHisto_\"+str(i)+BinAndLimits,CumulCut)\n",
      "    DataM5JSigSamHisto=ROOT.gDirectory.Get(\"DataM5JSigSamHisto_\"+str(i))\n",
      "    DataE[0].Draw(\"M5J >> DataM5JConSamHisto_\"+str(i)+BinAndLimits,CumulCut)\n",
      "    DataM5JConSamHisto=ROOT.gDirectory.Get(\"DataM5JConSamHisto_\"+str(i))\n",
      "    ROOT.gPad.Close()\n",
      "\n",
      "    RatioHisto=DataM5JConSamHisto.Clone(\"RatioHisto_\"+str(i)) #DataM5JSigSamHisto\n",
      "    RatioHisto.Sumw2(); RatioHisto.Scale(DataM5JSigSamHisto.Integral()/DataM5JConSamHisto.Integral())\n",
      "    RatioHisto.Divide(DataM5JSigSamHisto)\n",
      "    \n",
      "    #Linear fit of ratio histogram\n",
      "    LinF = ROOT.TF1(\"LinF\",\"pol1\",550,1100)\n",
      "    RatioHisto.Fit(\"LinF\",\"LMRE\",\"same\")\n",
      "    P0=LinF.GetParameter(0); P1=LinF.GetParameter(1)\n",
      "    P0E=LinF.GetParError(0); P1E=LinF.GetParError(1);\n",
      "    Chi2=LinF.GetChisquare(); NDF=LinF.GetNDF()\n",
      "    print \"-------------------------------------------\"\n",
      "    print \"P0: {0:.2f}+-{1:.2f}, with P1: {2:.2e}+-{3:.2e}\".format(P0,P0E,P1,P1E)\n",
      "    print \"Chi2={0:.2f}, ndf={1:.2f}, Chi2/ndf={2:.2f}\".format(Chi2, NDF, Chi2/NDF)\n",
      "    \n",
      "    RatioDistri = ROOT.TH1F(\"Sys_\"+str(i),\"Sys_\"+str(i),Nbins,0,2)\n",
      "    \n",
      "    for j in xrange(1,RatioHisto.GetXaxis().GetNbins()):\n",
      "        RatioDistri.Fill(RatioHisto.GetBinContent(j))\n",
      "        if RatioDistri.GetBinContent(j)!=0: RatioDistri.SetBinError(j,RatioDistri.GetBinCenter(j))\n",
      "    \n",
      "    f4 = ROOT.TF1(\"f4\",\"gaus\",0,2)\n",
      "    RatioDistri.Fit(\"f4\",\"LMRE\",\"same\")\n",
      "    MeanValue=f4.GetParameter(1); sigma=f4.GetParameter(2)\n",
      "    MeanValueE=f4.GetParError(1); sigmaE=f4.GetParError(2);\n",
      "    Chi2=f4.GetChisquare(); NDF=f4.GetNDF()\n",
      "    print \"Mean value: {0:.2f}+-{1:.2f}, with sigma: {2:.2f}+-{3:.2f}\".format(MeanValue,MeanValueE,sigma,sigmaE)\n",
      "    print \"Chi2={0:.2f}, ndf={1:.2f}, Chi2/ndf={2:.2f}\".format(Chi2, NDF, Chi2/NDF)\n",
      "    print \"-------------------------------------------\"\n",
      "    \n",
      "    MinX=float(BinAndLimits.split(\",\")[1])\n",
      "    MaxX=float(BinAndLimits.split(\",\")[-1][0:-1])\n",
      "    Nbins=int(BinAndLimits.split(\",\")[0][1:])\n",
      "    RatioDistri.SetTitle(\";ControlSample/SignalSample;\") #Events/{0:.1f} \".format((MaxX-MinX)/Nbins)+\"GeV/c^{2}\")\n",
      "    RatioDistri.Draw(\"hist\"); f4.Draw(\"same\")\n",
      "    \n",
      "    if i==0: CurCanv.Print(PDFName+\"(\",\"Title:\"+Titles[i])\n",
      "    elif i==(len(CutsNm1)-1): CurCanv.Print(PDFName+\")\",\"Title:\"+Titles[i])\n",
      "    else: CurCanv.Print(PDFName,\"Title:\"+Titles[i])\n",
      "        \n",
      "    RatioDistri.Write(); RatioHisto.Write()\n",
      "        \n",
      "    CurCanv.Clear()\n",
      "    \n",
      "del(CurCanv)\n",
      "BKGSYSF.Close()"
     ],
     "language": "python",
     "metadata": {},
     "outputs": [
      {
       "output_type": "stream",
       "stream": "stdout",
       "text": [
        "-------------------------------------------\n",
        "P0: 0.77+-0.94, with P1: 3.10e-04+-1.13e-03\n",
        "Chi2=142.52, ndf=28.00, Chi2/ndf=5.09\n",
        "Mean value: 1.01+-0.01, with sigma: 0.07+-0.01\n",
        "Chi2=5.83, ndf=17.00, Chi2/ndf=0.34\n",
        "-------------------------------------------\n",
        "-------------------------------------------"
       ]
      },
      {
       "output_type": "stream",
       "stream": "stdout",
       "text": [
        "\n",
        "P0: -0.22+-0.97, with P1: 1.76e-03+-1.21e-03\n",
        "Chi2=57.65, ndf=28.00, Chi2/ndf=2.06\n",
        "Mean value: 1.16+-0.05, with sigma: 0.25+-0.03\n",
        "Chi2=32.57, ndf=27.00, Chi2/ndf=1.21\n",
        "-------------------------------------------\n",
        "-------------------------------------------"
       ]
      },
      {
       "output_type": "stream",
       "stream": "stdout",
       "text": [
        "\n",
        "P0: 0.11+-0.96, with P1: 1.27e-03+-1.18e-03\n",
        "Chi2=52.91, ndf=28.00, Chi2/ndf=1.89\n",
        "Mean value: 1.10+-0.04, with sigma: 0.20+-0.03\n",
        "Chi2=8.09, ndf=27.00, Chi2/ndf=0.30\n",
        "-------------------------------------------\n",
        "-------------------------------------------"
       ]
      },
      {
       "output_type": "stream",
       "stream": "stdout",
       "text": [
        "\n",
        "P0: 0.11+-0.96, with P1: 1.27e-03+-1.18e-03\n",
        "Chi2=52.91, ndf=28.00, Chi2/ndf=1.89\n",
        "Mean value: 1.10+-0.04, with sigma: 0.20+-0.03\n",
        "Chi2=8.09, ndf=27.00, Chi2/ndf=0.30\n",
        "-------------------------------------------\n",
        "-------------------------------------------"
       ]
      },
      {
       "output_type": "stream",
       "stream": "stdout",
       "text": [
        "\n",
        "P0: 0.02+-0.95, with P1: 1.40e-03+-1.18e-03\n",
        "Chi2=52.37, ndf=28.00, Chi2/ndf=1.87\n",
        "Mean value: 1.09+-0.04, with sigma: 0.22+-0.03\n",
        "Chi2=20.16, ndf=27.00, Chi2/ndf=0.75\n",
        "-------------------------------------------\n",
        "-------------------------------------------"
       ]
      },
      {
       "output_type": "stream",
       "stream": "stdout",
       "text": [
        "\n",
        "P0: -0.54+-1.12, with P1: 2.50e-03+-1.41e-03\n",
        "Chi2=93.74, ndf=28.00, Chi2/ndf=3.35\n",
        "Mean value: 1.09+-0.06, with sigma: 0.30+-0.04\n",
        "Chi2=19.13, ndf=27.00, Chi2/ndf=0.71\n",
        "-------------------------------------------\n",
        "-------------------------------------------"
       ]
      },
      {
       "output_type": "stream",
       "stream": "stdout",
       "text": [
        "\n",
        "P0: 2.33+-1.04, with P1: -1.78e-03+-1.19e-03\n",
        "Chi2=25.17, ndf=28.00, Chi2/ndf=0.90\n",
        "Mean value: 0.28+-0.68, with sigma: 0.84+-0.44\n",
        "Chi2=30.41, ndf=27.00, Chi2/ndf=1.13\n",
        "-------------------------------------------\n",
        "-------------------------------------------"
       ]
      },
      {
       "output_type": "stream",
       "stream": "stdout",
       "text": [
        "\n",
        "P0: 2.50+-0.04, with P1: -2.33e-03+-4.16e-05\n",
        "Chi2=15.14, ndf=28.00, Chi2/ndf=0.54\n",
        "Mean value: -11.96+-2.76, with sigma: 2.84+-0.52\n",
        "Chi2=39.20, ndf=27.00, Chi2/ndf=1.45\n",
        "-------------------------------------------\n"
       ]
      },
      {
       "output_type": "stream",
       "stream": "stderr",
       "text": [
        "Fit:0: RuntimeWarning: Abnormal termination of minimization.\n"
       ]
      }
     ],
     "prompt_number": 42
    },
    {
     "cell_type": "heading",
     "level": 3,
     "metadata": {},
     "source": [
      "Signal contamination in control sample"
     ]
    },
    {
     "cell_type": "code",
     "collapsed": false,
     "input": [
      "#\"M5J:DRHJ:DRWH:RelHT:Eta6thJ:M2HP:DRTp6thJ:HM:chi2:MTHAsym\"\n",
      "\n",
      "Cuts=[CutHT,Cut1,CutDRbb,CutDRWH,CutHM,CutM2HP,CutDRTp6thJ,CutRelHT]\n",
      "#Cuts=[CutHT,Cut1,CutDRbb,CutDRWH,CutM2HP,CutDRTp6thJ,CutRelHT]\n",
      "\n",
      "CumulCut=ROOT.TCut(\"\")\n",
      "\n",
      "OptVersion=\"_Final_\"+NominalV\n",
      "PDFName=\"SignalContam_ConSample_OneComb_Revision_\"+OptVersion+\".pdf\"\n",
      "CurCanv = rootnotes.canvas(\"MyPlot\", (600, 800))\n",
      "Titles=[\"M5J\"]\n",
      "\n",
      "BinsLimits=[\"(28,550,1100)\"]\n",
      "Units=[\"GeV/c^{2}\"]\n",
      "XaxisT=[\"M(5J)\"]\n",
      "\n",
      "ValString=[\"Data\",\"MC-Sum\"]\n",
      "\n",
      "M=[600.70,647.07,693.44,739.81,786.18,832.55,878.92,925.29,971.67]\n",
      "W=[34.21,36.77,39.33,41.89,44.46,47.02,49.58,52.14,54.70]\n",
      "NSigmas=1\n",
      "W=NSigmas*np.array(W)\n",
      "\n",
      "for i in xrange(len(Cuts)):\n",
      "    TTbarNm1Histos=[]; DataNm1Histos=[]; QCDNm1Histos=[]\n",
      "    SingleTNm1Histos=[]; DibosonNm1Histos=[]; DYNm1Histos=[]\n",
      "    SignalNm1Histos=[]\n",
      "    \n",
      "    CumulCut=CumulCut*Cuts[i]\n",
      "    #NMassPointsE[0].Draw(Titles[0]+\" >> \"+Titles[0]+\"S2P_Cut\"+str(i)+BinsLimits[0],CumulCut)\n",
      "    #SignalNm1Histos.append(ROOT.gDirectory.Get(Titles[0]+\"S2P_Cut\"+str(i)))\n",
      "    #SignalNm1Histos[-1].Sumw2(); SignalNm1Histos[-1].Scale(NWeights[0])\n",
      "    SignalIntegral=[]; SignalError=[]\n",
      "    for l in xrange(9):\n",
      "        NMassPointsE[l].Draw(Titles[0]+\" >> \"+Titles[0]+\"S_Cut\"+str(i)+str(l)+BinsLimits[0],CumulCut)\n",
      "        A=ROOT.gDirectory.Get(Titles[0]+\"S_Cut\"+str(i)+str(l))\n",
      "        A.Sumw2(); A.Scale(NWeights[l])\n",
      "        print \"Total number of events:\", A.Integral(), \"with mean:\", A.GetMean(), \"and RMS:\", A.GetRMS()\n",
      "        SignalNm1Histos.append(ROOT.gDirectory.Get(Titles[0]+\"S_Cut\"+str(i)+str(l)))\n",
      "        #SignalNm1Histos[-1].Sumw2(); SignalNm1Histos[-1].Scale(NWeights[l])\n",
      "        #SignalIntegral.append(A.Integral())\n",
      "        #SignalError.append(np.sqrt(A.GetEntries())*NWeights[l]); del(A)\n",
      "        window_error=ROOT.Double(0.)\n",
      "        SignalIntegral.append(A.IntegralAndError(A.GetXaxis().FindBin(M[l]-W[l]),A.GetXaxis().FindBin(M[l]+W[l]),window_error))\n",
      "        SignalError.append(window_error); del(A)\n",
      "    \n",
      "    TntupleE.Draw(Titles[0]+\" >> \"+Titles[0]+\"T_Cut\"+str(i)+BinsLimits[0],CumulCut)\n",
      "    TTbarNm1Histos.append(ROOT.gDirectory.Get(Titles[0]+\"T_Cut\"+str(i)))\n",
      "    TTbarNm1Histos[-1].Sumw2(); TTbarNm1Histos[-1].Scale(TWeight) #; TTbarHistos[-1].Write()\n",
      "                \n",
      "    QCDHT=[]\n",
      "    QntuplesE[0].Draw(Titles[0]+\" >> \"+Titles[0]+\"Q500_Cut\"+str(i)+BinsLimits[0],CumulCut)\n",
      "    QCDHT.append(ROOT.gDirectory.Get(Titles[0]+\"Q500_Cut\"+str(i)))\n",
      "    QCDHT[-1].Sumw2(); QCDHT[-1].Scale(QWeights[0]) #; QCD500Histos[-1].Write()\n",
      "        \n",
      "    QntuplesE[1].Draw(Titles[0]+\" >> \"+Titles[0]+\"Q1000_Cut\"+str(i)+BinsLimits[0],CumulCut)\n",
      "    QCDHT.append(ROOT.gDirectory.Get(Titles[0]+\"Q1000_Cut\"+str(i)))\n",
      "    QCDHT[-1].Sumw2(); QCDHT[-1].Scale(QWeights[1]) #; QCD1000Histos[-1].Write()\n",
      "    \n",
      "    STHT=[]\n",
      "    for k in xrange(6): #Single Top\n",
      "        if SubBKGArrayE[k].GetEntries()>0:\n",
      "            SubBKGArrayE[k].Draw(Titles[0]+\" >> \"+Titles[0]+\"ST_Cut\"+str(i)+\"_\"+str(k)+BinsLimits[0],CumulCut)\n",
      "            STHT.append(ROOT.gDirectory.Get(Titles[0]+\"ST_Cut\"+str(i)+\"_\"+str(k)))\n",
      "            STHT[-1].Sumw2(); STHT[-1].Scale(SingleTWeights[k])\n",
      "    SingleTNm1Histos.append(STHT)\n",
      "\n",
      "    DiHT=[]\n",
      "    for k in xrange(3): #Diboson\n",
      "        if SubBKGArrayE[k+6].GetEntries()>0:\n",
      "            SubBKGArrayE[k+6].Draw(Titles[0]+\" >> \"+Titles[0]+\"Di_Cut\"+str(i)+\"_\"+str(k)+BinsLimits[0],CumulCut)\n",
      "            DiHT.append(ROOT.gDirectory.Get(Titles[0]+\"Di_Cut\"+str(i)+\"_\"+str(k)))\n",
      "            DiHT[-1].Sumw2(); DiHT[-1].Scale(DibosonWeights[k])\n",
      "    DibosonNm1Histos.append(DiHT)\n",
      "        \n",
      "    DYHT=[]\n",
      "    for k in xrange(2): #DY\n",
      "        if SubBKGArrayE[k+9].GetEntries()>0:\n",
      "            SubBKGArrayE[k+9].Draw(Titles[0]+\" >> \"+Titles[0]+\"DY_Cut\"+str(i)+\"_\"+str(k)+BinsLimits[0],CumulCut)\n",
      "            DYHT.append(ROOT.gDirectory.Get(Titles[0]+\"DY_Cut\"+str(i)+\"_\"+str(k)))\n",
      "            DYHT[-1].Sumw2(); DYHT[-1].Scale(DYWeights[k])\n",
      "    DYNm1Histos.append(DYHT)\n",
      "        \n",
      "    if QCDPTFLAG: \n",
      "        for k in xrange(6): #QCD PT hat\n",
      "            if SubBKGArrayE[k+11].GetEntries()>0:\n",
      "                SubBKGArrayE[k+11].Draw(Titles[0]+\" >> \"+Titles[0]+\"QCDPT_Cut\"+str(i)+\"_\"+str(k)+BinsLimits[0],CumulCut)\n",
      "                QCDHT.append(ROOT.gDirectory.Get(Titles[0]+\"QCDPT_Cut\"+str(i)+\"_\"+str(k)))\n",
      "                QCDHT[-1].Sumw2(); QCDHT[-1].Scale(QCDPTWeights[k])\n",
      "    QCDNm1Histos.append(QCDHT)\n",
      "\n",
      "    QCDFull=QCDNm1Histos[-1][0].Clone(Titles[0]+\"Q_Cut\"+str(i))\n",
      "    for k in QCDNm1Histos[-1][1:]:\n",
      "        QCDFull.Add(k)\n",
      "        \n",
      "    SingleTFull=SingleTNm1Histos[-1][0].Clone(Titles[0]+\"ST_Cut\"+str(i))\n",
      "    for k in SingleTNm1Histos[-1][1:]:\n",
      "        SingleTFull.Add(k)\n",
      "    \n",
      "    DibosonFull=DibosonNm1Histos[-1][0].Clone(Titles[0]+\"Di_Cut\"+str(i))\n",
      "    for k in DibosonNm1Histos[-1][1:]:\n",
      "        DibosonFull.Add(k)\n",
      "        \n",
      "    DYFull=DYNm1Histos[-1][0].Clone(Titles[0]+\"DY_Cut\"+str(i))\n",
      "    for k in DYNm1Histos[-1][1:]:\n",
      "        DYFull.Add(k)\n",
      "    \n",
      "    MCFull=QCDFull.Clone(Titles[0]+\"MC_Cut\"+str(i))\n",
      "    MCFull.Add(TTbarNm1Histos[-1])\n",
      "    MCFull.Add(SingleTFull)\n",
      "    MCFull.Add(DibosonFull)\n",
      "    MCFull.Add(DYFull)\n",
      "\n",
      "    DataE[0].Draw(Titles[0]+\" >> \"+Titles[0]+\"D_Cut\"+str(i)+BinsLimits[0],CumulCut)\n",
      "    DataNm1Histos.append(ROOT.gDirectory.Get(Titles[0]+\"D_Cut\"+str(i)))\n",
      "    #DataIntegral=DataNm1Histos[-1].Integral()\n",
      "    DataIntegral=[]; DataIntegralError=[]\n",
      "    for l in xrange(9):\n",
      "        window_error=ROOT.Double(0.)\n",
      "        DataIntegral.append(DataNm1Histos[-1].IntegralAndError(DataNm1Histos[-1].GetXaxis().FindBin(M[l]-W[l]),DataNm1Histos[-1].GetXaxis().FindBin(M[l]+W[l]),window_error))\n",
      "        DataIntegralError.append(window_error)\n",
      "    print \"Integral of data: \", DataNm1Histos[-1].Integral(), \" with entries: \", DataNm1Histos[-1].GetEntries()\n",
      "    \n",
      "    print \"------------------\", CumulCut, \"------------------\"\n",
      "    for l in xrange(9):\n",
      "        Masses=[600,650,700,750,800,850,900,950,1000]\n",
      "        print \"Signal Mass=\", Masses[l]\n",
      "        print \"Signal in control sample={0:.2f}+-{1:.2f}, Data in control sample={2:.2f}+-{3:.2f}\".format(\n",
      "                                                                                                          SignalIntegral[l],\n",
      "                                                                                                          SignalError[l],\n",
      "                                                                                                          DataIntegral[l],\n",
      "                                                                                                          DataIntegralError[l])\n",
      "        print \"Signal Contamination: S/Data = {0:.2e}+-{1:.3e}\".format(SignalIntegral[l]/DataIntegral[l],\n",
      "                                                                        DivE(SignalIntegral[l],DataIntegral[l],SignalError[l],DataIntegralError[l]))\n",
      "        print \"Signal Contamination: (Data-S)/Data = {0:.2f}+-{1:.2f}\".format((DataIntegral[l]-SignalIntegral[l])/DataIntegral[l],\n",
      "                                                                              DivE((DataIntegral[l]-SignalIntegral[l]),DataIntegral[l],DataIntegralError[l]+SignalError[l],DataIntegralError[l]))\n",
      "    print \"------------------------------------\"\n",
      "    \n",
      "    ROOT.gPad.Clear()\n",
      "\n",
      "    CurrentStyle=ROOT.TStyle(\"CStyle\",\"Style for Plotting\")\n",
      "    \n",
      "    CurrentStyle.SetTitleSize(0.08, \"Y\")\n",
      "    CurrentStyle.SetTitleYOffset(1.5)\n",
      "                \n",
      "    CurCanv1 = rootnotes.canvas(\"MyPlot\", (600, 800))\n",
      "    CurCanv1.cd(1)\n",
      "    Pad1=ROOT.TPad(\"pad1\",\"pad1\",0,0,1,1)\n",
      "    Pad1.SetBottomMargin(0.10)\n",
      "    Pad1.SetLeftMargin(0.16)\n",
      "    Pad1.Draw()\n",
      "    Pad1.cd()\n",
      "        \n",
      "    MCFull.SetStats(ROOT.kFALSE)\n",
      "    MinX=float(BinsLimits[0].split(\",\")[1])\n",
      "    MaxX=float(BinsLimits[0].split(\",\")[-1][0:-1])\n",
      "    Nbins=int(BinsLimits[0].split(\",\")[0][1:])\n",
      "    MCFull.SetTitle(\";M(5J) GeV/c^{{2}};Events/{0:.0f}\".format((MaxX-MinX)/Nbins)+Units[0])\n",
      "    DataNm1Histos[-1].SetTitle(\";M(5J) GeV/c^{{2}};Events/{0:.0f}\".format((MaxX-MinX)/Nbins)+Units[0])\n",
      "    DataNm1Histos[-1].SetStats(ROOT.kFALSE)\n",
      "    SetAxis(MCFull,'Y',1.45,0.05,0.007,0.05,510)\n",
      "    SetAxis(DataNm1Histos[-1],'Y',1.45,0.05,0.007,0.05,510)\n",
      "    SetAxis(SignalNm1Histos[-1],'Y',1.45,0.05,0.007,0.05,510)\n",
      "    SetAxis(TTbarNm1Histos[-1],'Y',1.45,0.05,0.007,0.05,510)\n",
      "    SetAxis(QCDFull,'Y',1.45,0.05,0.007,0.05,510)\n",
      "    SetAxis(SingleTFull,'Y',1.45,0.05,0.007,0.05,510)\n",
      "    SetAxis(DibosonFull,'Y',1.45,0.05,0.007,0.05,510)\n",
      "    SetAxis(DYFull,'Y',1.45,0.05,0.007,0.05,510)\n",
      "    \n",
      "    SetCos(DataNm1Histos[-1],0,0,ROOT.kBlack,2,1,20)\n",
      "    for l in xrange(9): SetCos(SignalNm1Histos[l],ROOT.kSpring,3444,ROOT.kBlack,2,1,1)\n",
      "    #SetCos(SignalNm1Histos[-1],ROOT.kSpring,3444,ROOT.kBlack,2,1,1)\n",
      "    SetCos(TTbarNm1Histos[-1],ROOT.kRed,3345,ROOT.kBlack,1,1,1)\n",
      "    SetCos(QCDFull,ROOT.kViolet,1001,ROOT.kBlack,1,1,1)\n",
      "    SetCos(SingleTFull,ROOT.kBlack,3305,ROOT.kBlack,1,1,1)\n",
      "    SetCos(DibosonFull,ROOT.kWhite,1001,ROOT.kBlack,1,1,1)\n",
      "    SetCos(DYFull,ROOT.kBlue,1001,ROOT.kBlack,1,1,1)\n",
      "    SetCos(MCFull,ROOT.kGray+2,3144,ROOT.kGray+2,1,1,1)\n",
      "            \n",
      "    AllBKGStack=ROOT.THStack(\"AllBKGStack\", \";M(5J) GeV/c^{{2}};Events/{0:.0f}\".format((MaxX-MinX)/Nbins)+Units[0])\n",
      "    AllBKGStack.Add(DibosonFull); AllBKGStack.Add(SingleTFull)\n",
      "    AllBKGStack.Add(TTbarNm1Histos[-1]); AllBKGStack.Add(DYFull); AllBKGStack.Add(QCDFull)\n",
      "    AllBKGStack.SetMinimum(0.3)\n",
      "    \n",
      "    LEG=ROOT.TLegend(0.50,0.78,0.9,0.9)\n",
      "    LEG.AddEntry(DataNm1Histos[-1], \"Data\", \"p\")\n",
      "    #LEG.AddEntry(QCDFull, \"QCD\", \"f\")\n",
      "    #LEG.AddEntry(DYFull, \"Zjets\", \"f\")\n",
      "    #LEG.AddEntry(TTbarNm1Histos[-1], \"TTbar\", \"f\")\n",
      "    #LEG.AddEntry(SingleTFull, \"Single Top\", \"f\")\n",
      "    #LEG.AddEntry(DibosonFull, \"Diboson\", \"f\")\n",
      "    LEG.AddEntry(SignalNm1Histos[-1], \"Signal M(T')=700 GeV/c^{2}\", \"f\")\n",
      "    LEG.SetFillColor(0)\n",
      "    #AllBKGStack.Draw(\"hist\")\n",
      "    #AllBKGStack.GetHistogram().GetYaxis().SetTitleOffset(1.65)\n",
      "    DataNm1Histos[-1].GetYaxis().SetTitleOffset(1.65)\n",
      "    DataNm1Histos[-1].SetMinimum(0.3)\n",
      "    DataNm1Histos[-1].Draw(\"E0X0\")\n",
      "    #MCFull.Draw(\"e2 same\")\n",
      "    SignalNm1Histos[2].Draw(\"hist same\"); #DataNm1Histos[-1].Draw(\"E0X0 same\")\n",
      "    #for l in xrange(9): SignalNm1Histos[l].Draw(\"hist same\")\n",
      "    if i!=len(Cuts): Pad1.SetLogy(); Pad1.RedrawAxis()\n",
      "    \n",
      "    LEG.Draw()\n",
      "    CurrentStyle.SetPadTickX(1)\n",
      "    CurCanv1.cd()\n",
      "        \n",
      "    if i==0: CurCanv1.Print(PDFName+\"(\",\"Title:\"+Titles[0]+str(i))\n",
      "    elif i==(len(Cuts)-1): CurCanv1.Print(PDFName+\")\",\"Title:\"+Titles[0]+str(i))\n",
      "    else: CurCanv1.Print(PDFName,\"Title:\"+Titles[0]+str(i))\n",
      "        \n",
      "    CurCanv1.Clear(); CurrentStyle.SetPadTickX(0)\n",
      "    CurCanv1.cd(1)\n",
      "                    \n",
      "    #del(HistosToplot); del(CurCanv1); del(Pad1); del(Pad2)\n",
      "    #del(CloneA); del(CloneE); del(CloneE1); del(CloneE2)"
     ],
     "language": "python",
     "metadata": {},
     "outputs": [
      {
       "output_type": "stream",
       "stream": "stdout",
       "text": [
        "Total number of events: 57.8165304661 with mean: 673.359694156 and RMS: 124.77308215\n",
        "Total number of events: 69.2139242291 with mean: 685.323415817 and RMS: 112.287806282\n",
        "Total number of events: 69.6179687977 with mean: 716.229379075 and RMS: 111.10518473\n",
        "Total number of events: 64.4202220738 with mean: 746.109316917 and RMS: 107.521221994\n",
        "Total number of events: 58.0219249725 with mean: 774.409873813 and RMS: 109.199490212\n",
        "Total number of events: 49.2423552275 with mean: 804.545624403 and RMS: 115.583144287\n",
        "Total number of events: 44.6293909848 with mean: 834.547085531 and RMS: 123.302735849\n",
        "Total number of events: 37.8151575923 with mean: 858.815571068 and RMS: 130.827528585\n",
        "Total number of events: 29.4896991849 with mean: 882.839102127 and RMS: 141.729582211\n",
        "Integral of data: "
       ]
      },
      {
       "output_type": "stream",
       "stream": "stdout",
       "text": [
        " 447045.0  with entries:  879135.0\n",
        "------------------ THT>550 ------------------\n",
        "Signal Mass= 600\n",
        "Signal in control sample=35.02+-0.98, Data in control sample=133067.00+-364.78\n",
        "Signal Contamination: S/Data = 2.63e-04+-8.078e-06\n",
        "Signal Contamination: (Data-S)/Data = 1.00+-0.01\n",
        "Signal Mass= 650\n",
        "Signal in control sample=30.23+-0.81, Data in control sample=96081.00+-309.97\n",
        "Signal Contamination: S/Data = 3.15e-04+-9.456e-06\n",
        "Signal Contamination: (Data-S)/Data = 1.00+-0.01\n",
        "Signal Mass= 700\n",
        "Signal in control sample=32.75+-0.76, Data in control sample=106727.00+-326.69\n",
        "Signal Contamination: S/Data = 3.07e-04+-8.025e-06\n",
        "Signal Contamination: (Data-S)/Data = 1.00+-0.01\n",
        "Signal Mass= 750\n",
        "Signal in control sample=28.99+-0.65, Data in control sample=95972.00+-309.79\n",
        "Signal Contamination: S/Data = 3.02e-04+-7.713e-06\n",
        "Signal Contamination: (Data-S)/Data = 1.00+-0.01\n",
        "Signal Mass= 800\n",
        "Signal in control sample=27.28+-0.59, Data in control sample=100230.00+-316.59\n",
        "Signal Contamination: S/Data = 2.72e-04+-6.714e-06\n",
        "Signal Contamination: (Data-S)/Data = 1.00+-0.01\n",
        "Signal Mass= 850\n",
        "Signal in control sample=21.54+-0.47, Data in control sample=89280.00+-298.80\n",
        "Signal Contamination: S/Data = 2.41e-04+-6.075e-06\n",
        "Signal Contamination: (Data-S)/Data = 1.00+-0.01\n",
        "Signal Mass= 900\n",
        "Signal in control sample=18.53+-0.40, Data in control sample=74592.00+-273.12\n",
        "Signal Contamination: S/Data = 2.48e-04+-6.339e-06\n",
        "Signal Contamination: (Data-S)/Data = 1.00+-0.01\n",
        "Signal Mass= 950\n",
        "Signal in control sample=14.78+-0.34, Data in control sample=66401.00+-257.68\n",
        "Signal Contamination: S/Data = 2.23e-04+-6.005e-06\n",
        "Signal Contamination: (Data-S)/Data = 1.00+-0.01\n",
        "Signal Mass= 1000\n",
        "Signal in control sample=13.12+-0.29, Data in control sample=66812.00+-258.48\n",
        "Signal Contamination: S/Data = 1.96e-04+-5.156e-06\n",
        "Signal Contamination: (Data-S)/Data = 1.00+-0.01\n",
        "------------------------------------\n",
        "Total number of events: 24.9544127509 with mean: 617.596385822 and RMS: 71.6283887946\n",
        "Total number of events: 31.8879993372 with mean: 644.046385678 and RMS: 62.769840842\n",
        "Total number of events: 32.3637969531 with mean: 682.346278298 and RMS: 70.6488739924\n",
        "Total number of events: 30.0675796773 with mean: 719.049228046 and RMS: 73.2904217839\n",
        "Total number of events: 27.1812147247 with mean: 755.11075512 and RMS: 80.3846723283\n",
        "Total number of events: 22.2494125664 with mean: 792.415634824 and RMS: 94.4149619626\n",
        "Total number of events: 20.0093304161 with mean: 828.8282698 and RMS: 105.555708835\n",
        "Total number of events: 16.995133169 with mean: 859.335672656 and RMS: 119.709417884\n",
        "Total number of events: 13.002037406 with mean: 892.836243108 and RMS: 133.245134497\n",
        "Integral of data: "
       ]
      },
      {
       "output_type": "stream",
       "stream": "stdout",
       "text": [
        " 60967.0  with entries:  212701.0\n",
        "------------------ (THT>550)*(chi2<8) ------------------\n",
        "Signal Mass= 600\n",
        "Signal in control sample=21.29+-0.76, Data in control sample=26500.00+-162.79\n",
        "Signal Contamination: S/Data = 8.03e-04+-3.373e-05\n",
        "Signal Contamination: (Data-S)/Data = 1.00+-0.01\n",
        "Signal Mass= 650\n",
        "Signal in control sample=18.47+-0.63, Data in control sample=15809.00+-125.73\n",
        "Signal Contamination: S/Data = 1.17e-03+-4.938e-05\n",
        "Signal Contamination: (Data-S)/Data = 1.00+-0.02\n",
        "Signal Mass= 700\n",
        "Signal in control sample=19.96+-0.59, Data in control sample=14951.00+-122.27\n",
        "Signal Contamination: S/Data = 1.34e-03+-5.041e-05\n",
        "Signal Contamination: (Data-S)/Data = 1.00+-0.02\n",
        "Signal Mass= 750\n",
        "Signal in control sample=17.54+-0.50, Data in control sample=12191.00+-110.41\n",
        "Signal Contamination: S/Data = 1.44e-03+-5.430e-05\n",
        "Signal Contamination: (Data-S)/Data = 1.00+-0.02\n",
        "Signal Mass= 800\n",
        "Signal in control sample=16.34+-0.45, Data in control sample=11410.00+-106.82\n",
        "Signal Contamination: S/Data = 1.43e-03+-5.321e-05\n",
        "Signal Contamination: (Data-S)/Data = 1.00+-0.02\n",
        "Signal Mass= 850\n",
        "Signal in control sample=12.57+-0.36, Data in control sample=9325.00+-96.57\n",
        "Signal Contamination: S/Data = 1.35e-03+-5.248e-05\n",
        "Signal Contamination: (Data-S)/Data = 1.00+-0.02\n",
        "Signal Mass= 900\n",
        "Signal in control sample=10.49+-0.30, Data in control sample=6935.00+-83.28\n",
        "Signal Contamination: S/Data = 1.51e-03+-6.209e-05\n",
        "Signal Contamination: (Data-S)/Data = 1.00+-0.02\n",
        "Signal Mass= 950\n",
        "Signal in control sample=8.27+-0.26, Data in control sample=5798.00+-76.14\n",
        "Signal Contamination: S/Data = 1.43e-03+-6.279e-05\n",
        "Signal Contamination: (Data-S)/Data = 1.00+-0.03\n",
        "Signal Mass= 1000\n",
        "Signal in control sample=6.83+-0.21, Data in control sample=5368.00+-73.27\n",
        "Signal Contamination: S/Data = 1.27e-03+-5.687e-05\n",
        "Signal Contamination: (Data-S)/Data = 1.00+-0.03\n",
        "------------------------------------\n",
        "Total number of events: 19.153606452 with mean: 613.88553554 and RMS: 63.3014463879\n",
        "Total number of events: 27.037369106 with mean: 644.262639286 and RMS: 60.1159477099\n",
        "Total number of events: 28.468963109 with mean: 682.365387899 and RMS: 65.6737362227\n",
        "Total number of events: 26.6914693406 with mean: 720.330402931 and RMS: 67.6192873964\n",
        "Total number of events: 24.8214712972 with mean: 758.856990471 and RMS: 76.2490396186\n",
        "Total number of events: 20.3294122247 with mean: 796.799267239 and RMS: 90.0164420408\n",
        "Total number of events: 18.6110669095 with mean: 835.243990373 and RMS: 99.6809674648\n",
        "Total number of events: 15.8516093418 with mean: 866.089853315 and RMS: 115.316500538\n",
        "Total number of events: 12.133919552 with mean: 900.906893665 and RMS: 127.627667225\n",
        "Integral of data: "
       ]
      },
      {
       "output_type": "stream",
       "stream": "stdout",
       "text": [
        " 23842.0  with entries:  48513.0\n",
        "------------------ ((THT>550)*(chi2<8))*(DRHJ<=1.2) ------------------\n",
        "Signal Mass= 600\n",
        "Signal in control sample=16.58+-0.67, Data in control sample=9399.00+-96.95\n",
        "Signal Contamination: S/Data = 1.76e-03+-8.986e-05\n",
        "Signal Contamination: (Data-S)/Data = 1.00+-0.02\n",
        "Signal Mass= 650\n",
        "Signal in control sample=16.07+-0.59, Data in control sample=6141.00+-78.36\n",
        "Signal Contamination: S/Data = 2.62e-03+-1.297e-04\n",
        "Signal Contamination: (Data-S)/Data = 1.00+-0.03\n",
        "Signal Mass= 700\n",
        "Signal in control sample=18.36+-0.57, Data in control sample=6057.00+-77.83\n",
        "Signal Contamination: S/Data = 3.03e-03+-1.324e-04\n",
        "Signal Contamination: (Data-S)/Data = 1.00+-0.03\n",
        "Signal Mass= 750\n",
        "Signal in control sample=16.27+-0.48, Data in control sample=5011.00+-70.79\n",
        "Signal Contamination: S/Data = 3.25e-03+-1.426e-04\n",
        "Signal Contamination: (Data-S)/Data = 1.00+-0.03\n",
        "Signal Mass= 800\n",
        "Signal in control sample=15.47+-0.44, Data in control sample=4862.00+-69.73\n",
        "Signal Contamination: S/Data = 3.18e-03+-1.365e-04\n",
        "Signal Contamination: (Data-S)/Data = 1.00+-0.03\n",
        "Signal Mass= 850\n",
        "Signal in control sample=11.98+-0.35, Data in control sample=3982.00+-63.10\n",
        "Signal Contamination: S/Data = 3.01e-03+-1.358e-04\n",
        "Signal Contamination: (Data-S)/Data = 1.00+-0.03\n",
        "Signal Mass= 900\n",
        "Signal in control sample=10.19+-0.30, Data in control sample=2933.00+-54.16\n",
        "Signal Contamination: S/Data = 3.48e-03+-1.666e-04\n",
        "Signal Contamination: (Data-S)/Data = 1.00+-0.04\n",
        "Signal Mass= 950\n",
        "Signal in control sample=8.04+-0.25, Data in control sample=2443.00+-49.43\n",
        "Signal Contamination: S/Data = 3.29e-03+-1.697e-04\n",
        "Signal Contamination: (Data-S)/Data = 1.00+-0.04\n",
        "Signal Mass= 1000\n",
        "Signal in control sample=6.61+-0.21, Data in control sample=2337.00+-48.34\n",
        "Signal Contamination: S/Data = 2.83e-03+-1.477e-04\n",
        "Signal Contamination: (Data-S)/Data = 1.00+-0.04\n",
        "------------------------------------\n",
        "Total number of events: 19.153606452 with mean: 613.88553554 and RMS: 63.3014463879\n",
        "Total number of events: 27.037369106 with mean: 644.262639286 and RMS: 60.1159477099\n",
        "Total number of events: 28.468963109 with mean: 682.365387899 and RMS: 65.6737362227\n",
        "Total number of events: 26.6914693406 with mean: 720.330402931 and RMS: 67.6192873964\n",
        "Total number of events: 24.8214712972 with mean: 758.856990471 and RMS: 76.2490396186\n",
        "Total number of events: 20.3294122247 with mean: 796.799267239 and RMS: 90.0164420408\n",
        "Total number of events: 18.6110669095 with mean: 835.243990373 and RMS: 99.6809674648\n",
        "Total number of events: 15.8516093418 with mean: 866.089853315 and RMS: 115.316500538\n",
        "Total number of events: 12.133919552 with mean: 900.906893665 and RMS: 127.627667225\n",
        "Integral of data: "
       ]
      },
      {
       "output_type": "stream",
       "stream": "stdout",
       "text": [
        " 23842.0  with entries:  48513.0\n",
        "------------------ (((THT>550)*(chi2<8))*(DRHJ<=1.2))*(DRWH>=-1.0) ------------------\n",
        "Signal Mass= 600\n",
        "Signal in control sample=16.58+-0.67, Data in control sample=9399.00+-96.95\n",
        "Signal Contamination: S/Data = 1.76e-03+-8.986e-05\n",
        "Signal Contamination: (Data-S)/Data = 1.00+-0.02\n",
        "Signal Mass= 650\n",
        "Signal in control sample=16.07+-0.59, Data in control sample=6141.00+-78.36\n",
        "Signal Contamination: S/Data = 2.62e-03+-1.297e-04\n",
        "Signal Contamination: (Data-S)/Data = 1.00+-0.03\n",
        "Signal Mass= 700\n",
        "Signal in control sample=18.36+-0.57, Data in control sample=6057.00+-77.83\n",
        "Signal Contamination: S/Data = 3.03e-03+-1.324e-04\n",
        "Signal Contamination: (Data-S)/Data = 1.00+-0.03\n",
        "Signal Mass= 750\n",
        "Signal in control sample=16.27+-0.48, Data in control sample=5011.00+-70.79\n",
        "Signal Contamination: S/Data = 3.25e-03+-1.426e-04\n",
        "Signal Contamination: (Data-S)/Data = 1.00+-0.03\n",
        "Signal Mass= 800\n",
        "Signal in control sample=15.47+-0.44, Data in control sample=4862.00+-69.73\n",
        "Signal Contamination: S/Data = 3.18e-03+-1.365e-04\n",
        "Signal Contamination: (Data-S)/Data = 1.00+-0.03\n",
        "Signal Mass= 850\n",
        "Signal in control sample=11.98+-0.35, Data in control sample=3982.00+-63.10\n",
        "Signal Contamination: S/Data = 3.01e-03+-1.358e-04\n",
        "Signal Contamination: (Data-S)/Data = 1.00+-0.03\n",
        "Signal Mass= 900\n",
        "Signal in control sample=10.19+-0.30, Data in control sample=2933.00+-54.16\n",
        "Signal Contamination: S/Data = 3.48e-03+-1.666e-04\n",
        "Signal Contamination: (Data-S)/Data = 1.00+-0.04\n",
        "Signal Mass= 950\n",
        "Signal in control sample=8.04+-0.25, Data in control sample=2443.00+-49.43\n",
        "Signal Contamination: S/Data = 3.29e-03+-1.697e-04\n",
        "Signal Contamination: (Data-S)/Data = 1.00+-0.04\n",
        "Signal Mass= 1000\n",
        "Signal in control sample=6.61+-0.21, Data in control sample=2337.00+-48.34\n",
        "Signal Contamination: S/Data = 2.83e-03+-1.477e-04\n",
        "Signal Contamination: (Data-S)/Data = 1.00+-0.04\n",
        "------------------------------------\n",
        "Total number of events: 11.6837001592 with mean: 605.379836786 and RMS: 52.5850825843\n",
        "Total number of events: 17.0098331049 with mean: 642.124667273 and RMS: 54.7845542408\n",
        "Total number of events: 18.5135591663 with mean: 680.314379365 and RMS: 58.6312161305\n",
        "Total number of events: 17.7317925254 with mean: 721.958233479 and RMS: 63.3078653233\n",
        "Total number of events: 17.035580405 with mean: 758.870506185 and RMS: 74.1906521672\n",
        "Total number of events: 13.912299783 with mean: 796.53228512 and RMS: 89.3238004123\n",
        "Total number of events: 13.2392561324 with mean: 834.619522911 and RMS: 101.352032942\n",
        "Total number of events: 11.48255869 with mean: 864.103870015 and RMS: 117.580841536\n",
        "Total number of events: 8.77982802317 with mean: 896.500027477 and RMS: 132.313908276\n",
        "Integral of data: "
       ]
      },
      {
       "output_type": "stream",
       "stream": "stdout",
       "text": [
        " 12118.0  with entries:  27270.0\n",
        "------------------ ((((THT>550)*(chi2<8))*(DRHJ<=1.2))*(DRWH>=-1.0))*(M2HP>6.8) ------------------\n",
        "Signal Mass= 600\n",
        "Signal in control sample=10.64+-0.54, Data in control sample=4767.00+-69.04\n",
        "Signal Contamination: S/Data = 2.23e-03+-1.455e-04\n",
        "Signal Contamination: (Data-S)/Data = 1.00+-0.03\n",
        "Signal Mass= 650\n",
        "Signal in control sample=10.38+-0.48, Data in control sample=3062.00+-55.34\n",
        "Signal Contamination: S/Data = 3.39e-03+-2.164e-04\n",
        "Signal Contamination: (Data-S)/Data = 1.00+-0.04\n",
        "Signal Mass= 700\n",
        "Signal in control sample=12.07+-0.46, Data in control sample=3010.00+-54.86\n",
        "Signal Contamination: S/Data = 4.01e-03+-2.256e-04\n",
        "Signal Contamination: (Data-S)/Data = 1.00+-0.04\n",
        "Signal Mass= 750\n",
        "Signal in control sample=11.33+-0.40, Data in control sample=2517.00+-50.17\n",
        "Signal Contamination: S/Data = 4.50e-03+-2.503e-04\n",
        "Signal Contamination: (Data-S)/Data = 1.00+-0.04\n",
        "Signal Mass= 800\n",
        "Signal in control sample=10.94+-0.37, Data in control sample=2416.00+-49.15\n",
        "Signal Contamination: S/Data = 4.53e-03+-2.459e-04\n",
        "Signal Contamination: (Data-S)/Data = 1.00+-0.04\n",
        "Signal Mass= 850\n",
        "Signal in control sample=8.43+-0.29, Data in control sample=2011.00+-44.84\n",
        "Signal Contamination: S/Data = 4.19e-03+-2.398e-04\n",
        "Signal Contamination: (Data-S)/Data = 1.00+-0.04\n",
        "Signal Mass= 900\n",
        "Signal in control sample=7.35+-0.25, Data in control sample=1497.00+-38.69\n",
        "Signal Contamination: S/Data = 4.91e-03+-2.971e-04\n",
        "Signal Contamination: (Data-S)/Data = 1.00+-0.05\n",
        "Signal Mass= 950\n",
        "Signal in control sample=5.83+-0.21, Data in control sample=1284.00+-35.83\n",
        "Signal Contamination: S/Data = 4.54e-03+-2.936e-04\n",
        "Signal Contamination: (Data-S)/Data = 1.00+-0.06\n",
        "Signal Mass= 1000\n",
        "Signal in control sample=4.86+-0.18, Data in control sample=1249.00+-35.34\n",
        "Signal Contamination: S/Data = 3.89e-03+-2.532e-04\n",
        "Signal Contamination: (Data-S)/Data = 1.00+-0.06\n",
        "------------------------------------\n",
        "Total number of events: 5.85553112626 with mean: 596.119511114 and RMS: 29.1626691327\n",
        "Total number of events: 8.63542680442 with mean: 637.759722578 and RMS: 42.2061113647\n",
        "Total number of events: 10.0601982102 with mean: 685.573491944 and RMS: 49.1488655794\n",
        "Total number of events: 9.65221240837 with mean: 726.427116907 and RMS: 52.1441266756\n",
        "Total number of events: 9.12349962257 with mean: 771.542649645 and RMS: 58.0174487959\n",
        "Total number of events: 7.18716610316 with mean: 816.144135393 and RMS: 63.376227518\n",
        "Total number of events: 6.8320226334 with mean: 865.211462307 and RMS: 66.6518309598\n",
        "Total number of events: 5.69396108389 with mean: 910.520428518 and RMS: 71.8359100067\n",
        "Total number of events: 4.01833327767 with mean: 956.011903554 and RMS: 76.0782047093\n",
        "Integral of data: "
       ]
      },
      {
       "output_type": "stream",
       "stream": "stdout",
       "text": [
        " 1385.0  with entries:  2202.0\n",
        "------------------ (((((THT>550)*(chi2<8))*(DRHJ<=1.2))*(DRWH>=-1.0))*(M2HP>6.8))*(DRTp6thJ>4.8) ------------------\n",
        "Signal Mass= 600\n",
        "Signal in control sample=5.55+-0.39, Data in control sample=507.00+-22.52\n",
        "Signal Contamination: S/Data = 1.10e-02+-1.256e-03\n",
        "Signal Contamination: (Data-S)/Data = 0.99+-0.09\n",
        "Signal Mass= 650\n",
        "Signal in control sample=5.68+-0.35, Data in control sample=353.00+-18.79\n",
        "Signal Contamination: S/Data = 1.61e-02+-1.851e-03\n",
        "Signal Contamination: (Data-S)/Data = 0.98+-0.11\n",
        "Signal Mass= 700\n",
        "Signal in control sample=7.32+-0.36, Data in control sample=358.00+-18.92\n",
        "Signal Contamination: S/Data = 2.04e-02+-2.079e-03\n",
        "Signal Contamination: (Data-S)/Data = 0.98+-0.11\n",
        "Signal Mass= 750\n",
        "Signal in control sample=6.72+-0.31, Data in control sample=292.00+-17.09\n",
        "Signal Contamination: S/Data = 2.30e-02+-2.414e-03\n",
        "Signal Contamination: (Data-S)/Data = 0.98+-0.12\n",
        "Signal Mass= 800\n",
        "Signal in control sample=6.52+-0.29, Data in control sample=280.00+-16.73\n",
        "Signal Contamination: S/Data = 2.33e-02+-2.417e-03\n",
        "Signal Contamination: (Data-S)/Data = 0.98+-0.12\n",
        "Signal Mass= 850\n",
        "Signal in control sample=5.05+-0.23, Data in control sample=242.00+-15.56\n",
        "Signal Contamination: S/Data = 2.09e-02+-2.283e-03\n",
        "Signal Contamination: (Data-S)/Data = 0.98+-0.13\n",
        "Signal Mass= 900\n",
        "Signal in control sample=4.59+-0.20, Data in control sample=191.00+-13.82\n",
        "Signal Contamination: S/Data = 2.40e-02+-2.796e-03\n",
        "Signal Contamination: (Data-S)/Data = 0.98+-0.14\n",
        "Signal Mass= 950\n",
        "Signal in control sample=3.66+-0.17, Data in control sample=163.00+-12.77\n",
        "Signal Contamination: S/Data = 2.24e-02+-2.801e-03\n",
        "Signal Contamination: (Data-S)/Data = 0.98+-0.16\n",
        "Signal Mass= 1000\n",
        "Signal in control sample=2.85+-0.14, Data in control sample=140.00+-11.83\n",
        "Signal Contamination: S/Data = 2.04e-02+-2.702e-03\n",
        "Signal Contamination: (Data-S)/Data = 0.98+-0.17\n",
        "------------------------------------\n",
        "Total number of events: 4.07698202133 with mean: 598.192800227 and RMS: 30.9725524269\n",
        "Total number of events: 6.48200801387 with mean: 640.886094881 and RMS: 40.0753124782\n",
        "Total number of events: 8.75027650595 with mean: 686.714495691 and RMS: 45.9010461412\n",
        "Total number of events: 8.65669264458 with mean: 730.646809591 and RMS: 47.3987055678\n",
        "Total number of events: 8.16445974819 with mean: 776.613924336 and RMS: 53.601583123\n",
        "Total number of events: 6.60192535911 with mean: 821.183202195 and RMS: 58.0782534654\n",
        "Total number of events: 6.32758574188 with mean: 869.293993714 and RMS: 61.4462874729\n",
        "Total number of events: 5.22866512835 with mean: 916.043939237 and RMS: 64.2564927812\n",
        "Total number of events: 3.71580730751 with mean: 961.429077256 and RMS: 73.0002988599\n",
        "Integral of data: "
       ]
      },
      {
       "output_type": "stream",
       "stream": "stdout",
       "text": [
        " 574.0  with entries:  715.0\n",
        "------------------ ((((((THT>550)*(chi2<8))*(DRHJ<=1.2))*(DRWH>=-1.0))*(M2HP>6.8))*(DRTp6thJ>4.8))*(RelHT>=0.67) ------------------\n",
        "Signal Mass= 600\n",
        "Signal in control sample=3.78+-0.32, Data in control sample=165.00+-12.85\n",
        "Signal Contamination: S/Data = 2.29e-02+-3.730e-03\n",
        "Signal Contamination: (Data-S)/Data = 0.98+-0.16\n",
        "Signal Mass= 650\n",
        "Signal in control sample=4.50+-0.31, Data in control sample=148.00+-12.17\n",
        "Signal Contamination: S/Data = 3.04e-02+-4.615e-03\n",
        "Signal Contamination: (Data-S)/Data = 0.97+-0.16\n",
        "Signal Mass= 700\n",
        "Signal in control sample=6.46+-0.34, Data in control sample=152.00+-12.33\n",
        "Signal Contamination: S/Data = 4.25e-02+-5.659e-03\n",
        "Signal Contamination: (Data-S)/Data = 0.96+-0.16\n",
        "Signal Mass= 750\n",
        "Signal in control sample=6.25+-0.30, Data in control sample=126.00+-11.22\n",
        "Signal Contamination: S/Data = 4.96e-02+-6.800e-03\n",
        "Signal Contamination: (Data-S)/Data = 0.95+-0.18\n",
        "Signal Mass= 800\n",
        "Signal in control sample=6.06+-0.28, Data in control sample=126.00+-11.22\n",
        "Signal Contamination: S/Data = 4.81e-02+-6.477e-03\n",
        "Signal Contamination: (Data-S)/Data = 0.95+-0.18\n",
        "Signal Mass= 850\n",
        "Signal in control sample=4.82+-0.22, Data in control sample=118.00+-10.86\n",
        "Signal Contamination: S/Data = 4.08e-02+-5.641e-03\n",
        "Signal Contamination: (Data-S)/Data = 0.96+-0.18\n",
        "Signal Mass= 900\n",
        "Signal in control sample=4.37+-0.20, Data in control sample=86.00+-9.27\n",
        "Signal Contamination: S/Data = 5.08e-02+-7.769e-03\n",
        "Signal Contamination: (Data-S)/Data = 0.95+-0.21\n",
        "Signal Mass= 950\n",
        "Signal in control sample=3.49+-0.17, Data in control sample=81.00+-9.00\n",
        "Signal Contamination: S/Data = 4.30e-02+-6.829e-03\n",
        "Signal Contamination: (Data-S)/Data = 0.96+-0.22\n",
        "Signal Mass= 1000\n",
        "Signal in control sample=2.70+-0.13, Data in control sample=74.00+-8.60\n",
        "Signal Contamination: S/Data = 3.65e-02+-6.048e-03\n",
        "Signal Contamination: (Data-S)/Data = 0.96+-0.23\n",
        "------------------------------------\n"
       ]
      }
     ],
     "prompt_number": 25
    },
    {
     "cell_type": "heading",
     "level": 2,
     "metadata": {},
     "source": [
      "Starting exclusive validation"
     ]
    },
    {
     "cell_type": "code",
     "collapsed": false,
     "input": [
      "##################################\n",
      "#Exclusive Control samples Arrays#\n",
      "##################################\n",
      "#Reading DATA minitrees for control sample\n",
      "ExclusiveV1=\"V11\"\n",
      "ExclusiveV2=\"V12\"\n",
      "\n",
      "ControlSampleFileDE1_1=\"Arrays_V11V12/DataE_\"+ExclusiveV1+\"_VectorControlSample\"\n",
      "DataEE = np.load(ControlSampleFileDE1_1+\".npy\")\n",
      "\n",
      "ControlSampleFileDE2_1=\"Arrays_V11V12/DataE_\"+ExclusiveV2+\"_VectorControlSample\"\n",
      "DataEE1 = np.load(ControlSampleFileDE2_1+\".npy\")\n",
      "\n",
      "print DataEE[0].GetEntries(), DataEE1[0].GetEntries()\n",
      "\n",
      "#Reading MC minitrees for control sample\n",
      "\n",
      "ControlSampleFileS1=\"Arrays_V11V12/ControlSample_SignalMassPoints_\"+ExclusiveV1+\"_VectorControlSample\"\n",
      "ControlSampleFileS2=\"Arrays_V11V12/ControlSample_SignalMassPoints_\"+ExclusiveV2+\"_VectorControlSample\"\n",
      "\n",
      "NMassPointsEE=np.load(ControlSampleFileS1+\".npy\")\n",
      "NMassPointsEE1=np.load(ControlSampleFileS2+\".npy\")\n",
      "\n",
      "ControlSampleFileQCDHT1=\"Arrays_V11V12/ControlSample_QCDHT_\"+ExclusiveV1+\"_VectorControlSample\"\n",
      "ControlSampleFileQCDHT2=\"Arrays_V11V12/ControlSample_QCDHT_\"+ExclusiveV2+\"_VectorControlSample\"\n",
      "\n",
      "QntuplesEE=np.load(ControlSampleFileQCDHT1+\".npy\")\n",
      "QntuplesEE1=np.load(ControlSampleFileQCDHT2+\".npy\")\n",
      "\n",
      "ControlSampleFileSubB1=\"Arrays_V11V12/ControlSample_SubBKGMC_\"+ExclusiveV1+\"_VectorControlSample\"\n",
      "ControlSampleFileSubB2=\"Arrays_V11V12/ControlSample_SubBKGMC_\"+ExclusiveV2+\"_VectorControlSample\"\n",
      "\n",
      "SubBKGArrayEE=np.load(ControlSampleFileSubB1+\".npy\")\n",
      "SubBKGArrayEE1=np.load(ControlSampleFileSubB2+\".npy\")\n",
      "\n",
      "ControlSampleFileTT1=\"Arrays_V11V12/ControlSample_TTJets_\"+ExclusiveV1+\"_VectorControlSample\"\n",
      "TntupleEE=np.load(ControlSampleFileTT1+\".npy\"); TntupleEE=TntupleEE[0]\n",
      "\n",
      "ControlSampleFileTT2=\"Arrays_V11V12/ControlSample_TTJets_\"+ExclusiveV2+\"_VectorControlSample\"\n",
      "TntupleEE1=np.load(ControlSampleFileTT2+\".npy\"); TntupleEE1=TntupleEE1[0]\n",
      "\n",
      "print NMassPointsEE[2].GetEntries(), TntupleEE.GetEntries(), QntuplesEE[0].GetEntries()\n",
      "print NMassPointsEE1[2].GetEntries(), TntupleEE1.GetEntries(), QntuplesEE1[0].GetEntries()"
     ],
     "language": "python",
     "metadata": {},
     "outputs": [
      {
       "output_type": "stream",
       "stream": "stdout",
       "text": [
        "380973 116050\n",
        "1697"
       ]
      },
      {
       "output_type": "stream",
       "stream": "stdout",
       "text": [
        " 264596 28194\n",
        "904 121628 8087\n"
       ]
      }
     ],
     "prompt_number": 16
    },
    {
     "cell_type": "code",
     "collapsed": false,
     "input": [
      "Cut1=ROOT.TCut(\"chi2<8\")\n",
      "CutsFromOpt=[ROOT.TCut(\"\"),Cut1,CutDRbb,CutDRWH,CutHM,CutM2HP,CutDRTp6thJ,CutRelHT,CutMTHAsym]\n",
      "OptVersion=\"_550To1100_bkgestimation_ExcluVal_Final_Revision_15bins_\"+ExclusiveV1+\"_\"+ExclusiveV2+\"_\"+InclusiveV2\n",
      "\n",
      "CumulCut=ROOT.TCut(\"\")*CutHT\n",
      "\n",
      "PDFName=\"Nminus1\"+OptVersion+\".pdf\"\n",
      "CurCanv = rootnotes.canvas(\"MyPlot\", (600, 800))\n",
      "Titles=[\"Base\",\"chi2\", \"DRbb\", \"DRWH\", \"HiggsMass\", \"M2HP\", \"DRTp6thJ\", \"RelHT\", \"MTHAsym\"]\n",
      "\n",
      "SignalWEntries=[]; QCDWEntries=[]; TopWEntries=[]; DibosonWEntries=[]\n",
      "\n",
      "BinsLimits=\"(13,550,1100)\"\n",
      "MinX=float(BinsLimits.split(\",\")[1])\n",
      "MaxX=float(BinsLimits.split(\",\")[-1][0:-1])\n",
      "Nbins=int(BinsLimits.split(\",\")[0][1:])\n",
      "\n",
      "ValString=[\"Data\",\"TTbar\",\"QCD\",\"MC-Sum\"]\n",
      "WP=[\" Signal sample\",\" [0.244,0.389)\",\" [0.389,0.534)\",\" [0.534,0.679)\"]\n",
      "\n",
      "for i in xrange(len(CutsFromOpt)):\n",
      "    TTbarHistos=[]; QCD500Histos=[]; QCD1000Histos=[]; DataHistos=[]; QCDHistos=[]; MCHistos=[]\n",
      "    SingleTHistos=[]; QCDPTHistos=[]; DibosonHistos=[]; DYHistos=[]; SignalHistos=[]\n",
      "    CumulCut=CumulCut*CutsFromOpt[i]\n",
      "    for j in xrange(4):\n",
      "        \n",
      "        SHT=[]; SEnT=[]\n",
      "        #if (i==(len(CutsFromOpt)-1) and j==0): MassesHistosf = ROOT.TFile(\"Histos_Masses_Afterfullsel.root\", \"recreate\")\n",
      "        if j==0:\n",
      "            SignalArray=NMassPointsA\n",
      "            TTArray=TntupleA\n",
      "            QCDHTArray=QntuplesA\n",
      "            SubBKGArray=SubBKGArrayA\n",
      "        elif j==1:\n",
      "            SignalArray=NMassPointsEE\n",
      "            TTArray=TntupleEE\n",
      "            QCDHTArray=QntuplesEE\n",
      "            SubBKGArray=SubBKGArrayEE\n",
      "        elif j==2:\n",
      "            SignalArray=NMassPointsEE1\n",
      "            TTArray=TntupleEE1\n",
      "            QCDHTArray=QntuplesEE1\n",
      "            SubBKGArray=SubBKGArrayEE1\n",
      "        elif j==3:\n",
      "            SignalArray=NMassPointsE2\n",
      "            TTArray=TntupleE2\n",
      "            QCDHTArray=QntuplesE2\n",
      "            SubBKGArray=SubBKGArrayE2\n",
      "        #####SIGNAL#####\n",
      "        #for k in xrange(len(SignalArray)): #Signal            \n",
      "        #    if SignalArray[k].GetEntries()>0:\n",
      "        #        SignalArray[k].Draw(\"M5J >> M5jSi_Cut\"+str(i)+\"_\"+str(j)+\"_\"+str(k)+BinsLimits,CumulCut)\n",
      "        #        SHT.append(ROOT.gDirectory.Get(\"M5jSi_Cut\"+str(i)+\"_\"+str(j)+\"_\"+str(k)))\n",
      "                #SHT[-1].Sumw2(); SHT[-1].Scale(NWeights[k])\n",
      "        #        if (i==(len(CutsFromOpt)-1) and j==0): SHT[-1].Write()\n",
      "        #        if j==0: SEnT.append(SHT[-1].GetEntries())\n",
      "        #SignalHistos.append(SHT)\n",
      "        #if (i==(len(CutsFromOpt)-1) and j==0): MassesHistosf.Close()\n",
      "        #if j==0: SignalWEntries.append(SEnT)\n",
      "        \n",
      "        #####TTJets#####\n",
      "        TTArray.Draw(\"M5J >> M5jT_Cut\"+str(i)+\"_\"+str(j)+BinsLimits,CumulCut)\n",
      "        TTbarHistos.append(ROOT.gDirectory.Get(\"M5jT_Cut\"+str(i)+\"_\"+str(j)))\n",
      "        TTbarHistos[-1].Sumw2(); TTbarHistos[-1].Scale(TWeight) #; TTbarHistos[-1].Write()\n",
      "        if j==0: TopWEntries.append(TTbarHistos[-1].GetEntries()*TWeight)\n",
      "                \n",
      "        #####QCDHT#####\n",
      "        QCDHTArray[0].Draw(\"M5J >> M5jQ500_Cut\"+str(i)+\"_\"+str(j)+BinsLimits,CumulCut)\n",
      "        QCD500Histos.append(ROOT.gDirectory.Get(\"M5jQ500_Cut\"+str(i)+\"_\"+str(j)))\n",
      "        QCD500Histos[-1].Sumw2(); QCD500Histos[-1].Scale(QWeights[0]); QCD500Histos[-1].SetStats(0) #; QCD500Histos[-1].Write()\n",
      "        if j==0: QCDWEntries.append(QCD500Histos[-1].GetEntries()*QWeights[0])\n",
      "        \n",
      "        QCDHTArray[1].Draw(\"M5J >> M5jQ1000_Cut\"+str(i)+\"_\"+str(j)+BinsLimits,CumulCut)\n",
      "        QCD1000Histos.append(ROOT.gDirectory.Get(\"M5jQ1000_Cut\"+str(i)+\"_\"+str(j)))\n",
      "        QCD1000Histos[-1].Sumw2(); QCD1000Histos[-1].Scale(QWeights[1]); QCD1000Histos[-1].SetStats(0) #; QCD1000Histos[-1].Write()\n",
      "        if j==0: QCDWEntries[-1]+=QCD1000Histos[-1].GetEntries()*QWeights[1]\n",
      "        \n",
      "        STHT=[]\n",
      "        for k in xrange(6): #Single Top\n",
      "            if SubBKGArray[k].GetEntries()>0:\n",
      "                SubBKGArray[k].Draw(\"M5J >> M5jST_Cut\"+str(i)+\"_\"+str(j)+\"_\"+str(k)+BinsLimits,CumulCut)\n",
      "                STHT.append(ROOT.gDirectory.Get(\"M5jST_Cut\"+str(i)+\"_\"+str(j)+\"_\"+str(k)))\n",
      "                STHT[-1].Sumw2(); STHT[-1].Scale(SingleTWeights[k])\n",
      "                if j==0: TopWEntries[-1]+=STHT[-1].GetEntries()*SingleTWeights[k]\n",
      "        SingleTHistos.append(STHT)\n",
      "            \n",
      "        DiHT=[]; DiE=0\n",
      "        for k in xrange(3): #Diboson\n",
      "            if SubBKGArray[k+6].GetEntries()>0:\n",
      "                SubBKGArray[k+6].Draw(\"M5J >> M5jDi_Cut\"+str(i)+\"_\"+str(j)+\"_\"+str(k)+BinsLimits,CumulCut)\n",
      "                DiHT.append(ROOT.gDirectory.Get(\"M5jDi_Cut\"+str(i)+\"_\"+str(j)+\"_\"+str(k)))\n",
      "                DiHT[-1].Sumw2(); DiHT[-1].Scale(DibosonWeights[k])\n",
      "                if j==0: DiE+=DiHT[-1].GetEntries()*DibosonWeights[k]\n",
      "        DibosonHistos.append(DiHT)\n",
      "        if j==0: DibosonWEntries.append(DiE)\n",
      "        \n",
      "        DYHT=[]\n",
      "        for k in xrange(2): #DY\n",
      "            if SubBKGArray[k+9].GetEntries()>0:\n",
      "                SubBKGArray[k+9].Draw(\"M5J >> M5jDY_Cut\"+str(i)+\"_\"+str(j)+\"_\"+str(k)+BinsLimits,CumulCut)\n",
      "                DYHT.append(ROOT.gDirectory.Get(\"M5jDY_Cut\"+str(i)+\"_\"+str(j)+\"_\"+str(k)))\n",
      "                DYHT[-1].Sumw2(); DYHT[-1].Scale(DYWeights[k])\n",
      "        DYHistos.append(DYHT)\n",
      "        \n",
      "        if QCDPTFLAG: \n",
      "            QCDPTHT=[]\n",
      "            for k in xrange(6): #QCD PT hat\n",
      "                if SubBKGArray[k+11].GetEntries()>0:\n",
      "                    SubBKGArray[k+11].Draw(\"M5J >> M5jQCDPT_Cut\"+str(i)+\"_\"+str(j)+\"_\"+str(k)+BinsLimits,CumulCut)\n",
      "                    QCDPTHT.append(ROOT.gDirectory.Get(\"M5jQCDPT_Cut\"+str(i)+\"_\"+str(j)+\"_\"+str(k)))\n",
      "                    QCDPTHT[-1].Sumw2(); QCDPTHT[-1].Scale(QCDPTWeights[k]); QCDPTHT[-1].SetStats(0)\n",
      "                    if j==0: QCDWEntries[-1]+=QCDPTHT[-1].GetEntries()*QCDPTWeights[k]\n",
      "            QCDPTHistos.append(QCDPTHT)\n",
      "            \n",
      "        QCDFull=QCD1000Histos[-1].Clone(\"M5jQ_Cut\"+str(i)+\"_\"+str(j))\n",
      "        QCDFull.Sumw2(); QCDFull.Add(QCD500Histos[-1])\n",
      "        if QCDPTFLAG:\n",
      "            for k in QCDPTHistos[-1]:\n",
      "                QCDFull.Add(k)\n",
      "        QCDHistos.append(QCDFull)\n",
      "        \n",
      "        MCFull=TTbarHistos[-1].Clone(\"M5jMC_Cut\"+str(i)+\"_\"+str(j))\n",
      "        MCFull.Sumw2(); MCFull.Add(QCDFull)\n",
      "        for k in SingleTHistos[-1]: MCFull.Add(k)\n",
      "        for k in DibosonHistos[-1]: MCFull.Add(k)\n",
      "        for k in DYHistos[-1]: MCFull.Add(k)\n",
      "        MCHistos.append(MCFull)\n",
      "        \n",
      "        #DataArray[j].Draw(\"M5J >> M5jD_Cut\"+str(i)+\"_\"+str(j)+BinsLimits,CumulCut)\n",
      "        #DataHistos.append(ROOT.gDirectory.Get(\"M5jD_Cut\"+str(i)+\"_\"+str(j)))\n",
      "    \n",
      "    DataA[0].Draw(\"M5J >> M5jD_Cut\"+str(i)+\"_0\"+BinsLimits,CumulCut)\n",
      "    DataHistos.append(ROOT.gDirectory.Get(\"M5jD_Cut\"+str(i)+\"_0\"))\n",
      "    DataEE[0].Draw(\"M5J >> M5jD_Cut\"+str(i)+\"_1\"+BinsLimits,CumulCut)\n",
      "    DataHistos.append(ROOT.gDirectory.Get(\"M5jD_Cut\"+str(i)+\"_1\"))\n",
      "    DataEE1[0].Draw(\"M5J >> M5jD_Cut\"+str(i)+\"_2\"+BinsLimits,CumulCut)\n",
      "    DataHistos.append(ROOT.gDirectory.Get(\"M5jD_Cut\"+str(i)+\"_2\"))\n",
      "    DataE2[0].Draw(\"M5J >> M5jD_Cut\"+str(i)+\"_3\"+BinsLimits,CumulCut)\n",
      "    DataHistos.append(ROOT.gDirectory.Get(\"M5jD_Cut\"+str(i)+\"_3\"))\n",
      "    ROOT.gPad.Clear()\n",
      "    del(SignalArray); del(TTArray); del(QCDHTArray); del(SubBKGArray)\n",
      "    for k in xrange(4):\n",
      "        #if k!=0: continue\n",
      "        if k==0: HistosToplot=DataHistos\n",
      "        elif k==1: HistosToplot=TTbarHistos\n",
      "        elif k==2: HistosToplot=QCDHistos\n",
      "        elif k==3: HistosToplot=MCHistos\n",
      "        \n",
      "        CurrentStyle=ROOT.TStyle(\"CStyle\",\"Style for Plotting\")\n",
      "        #ROOT.SetOwnership( CurrentStyle, False )\n",
      "        #CurrentStyle.SetOptStat(0)\n",
      "        #CurrentStyle.SetOptTitle(0)\n",
      "        #CurrentStyle.SetPadLeftMargin(0.16)\n",
      "        #CurrentStyle.SetPadRightMargin(0.02)\n",
      "        \n",
      "        #CurrentStyle.SetTitleColor(1, \"XYZ\")\n",
      "        #CurrentStyle.SetTitleFont(42, \"XYZ\")\n",
      "        #CurrentStyle.SetTitleSize(0.06, \"XYZ\")\n",
      "        #CurrentStyle.SetTitleXOffset(1.0)\n",
      "        #CurrentStyle.SetTitleOffset(1.5, \"Y\")\n",
      "        #CurrentStyle.SetLabelColor(1, \"XYZ\")\n",
      "        #CurrentStyle.SetLabelFont(42, \"XYZ\")\n",
      "        #CurrentStyle.SetLabelOffset(0.007, \"XYZ\")\n",
      "        #CurrentStyle.SetLabelSize(0.05, \"XYZ\")\n",
      "        #CurrentStyle.SetAxisColor(1, \"XYZ\")\n",
      "        #CurrentStyle.SetStripDecimals(ROOT.kTRUE)\n",
      "        #CurrentStyle.SetTickLength(0.03, \"XYZ\")\n",
      "        #CurrentStyle.SetNdivisions(510, \"XYZ\")\n",
      "                \n",
      "        CurCanv1 = rootnotes.canvas(\"MyPlot\", (600, 800))\n",
      "        CurCanv1.cd(1)\n",
      "        Pad1=ROOT.TPad(\"pad1\",\"pad1\",0,0.3,1,1)\n",
      "        Pad1.SetBottomMargin(0)\n",
      "        Pad1.SetLeftMargin(0.16)\n",
      "        Pad1.Draw()\n",
      "        Pad1.cd()\n",
      "        \n",
      "        HistosToplot[0].SetStats(ROOT.kFALSE)\n",
      "        \n",
      "        HistosToplot[0].SetTitle(\";;A.U./{0:.0f} GeV/c^{{2}}\".format((MaxX-MinX)/Nbins))\n",
      "        SetAxis(HistosToplot[0],'Y',1.5,0.05,0.007,0.05,110) #1.45,0.05,0.007,0.05,510\n",
      "        HistosToplot[0].SetLineStyle(1); HistosToplot[0].SetLineWidth(1); HistosToplot[0].SetLineColor(ROOT.kGray+2)\n",
      "        HistosToplot[0].SetFillStyle(3144); HistosToplot[0].SetFillColor(ROOT.kGray+2)\n",
      "        \n",
      "        HistosToplot[1].SetLineStyle(1); HistosToplot[1].SetLineWidth(2); HistosToplot[1].SetLineColor(ROOT.kGreen+2)\n",
      "        \n",
      "        HistosToplot[2].SetLineStyle(2); HistosToplot[2].SetLineWidth(2); HistosToplot[2].SetLineColor(ROOT.kRed+1)\n",
      "        \n",
      "        HistosToplot[3].SetLineStyle(5); HistosToplot[3].SetLineWidth(2); HistosToplot[3].SetLineColor(ROOT.kBlue+1)\n",
      "        \n",
      "        HistosToplot[1].SetMarkerStyle(20); HistosToplot[2].SetMarkerStyle(21); HistosToplot[3].SetMarkerStyle(22)\n",
      "        HistosToplot[1].SetMarkerColor(ROOT.kGreen+2); HistosToplot[2].SetMarkerColor(ROOT.kRed+1); HistosToplot[3].SetMarkerColor(ROOT.kBlue+1)\n",
      "        HistosToplot[1].SetMarkerSize(0.8); HistosToplot[2].SetMarkerSize(0.8); HistosToplot[3].SetMarkerSize(0.8)\n",
      "        \n",
      "        if HistosToplot[0].Integral()!=0 and HistosToplot[1].Integral()!=0 and HistosToplot[2].Integral()!=0 and HistosToplot[3].Integral()!=0:\n",
      "            HistosToplot[0].Sumw2(); HistosToplot[0].Scale(1./HistosToplot[0].Integral())\n",
      "            HistosToplot[1].Sumw2(); HistosToplot[1].Scale(1./HistosToplot[1].Integral())\n",
      "            HistosToplot[2].Sumw2(); HistosToplot[2].Scale(1./HistosToplot[2].Integral())\n",
      "            HistosToplot[3].Sumw2(); HistosToplot[3].Scale(1./HistosToplot[3].Integral())\n",
      "            Maxima=[HistosToplot[0].GetMaximum(),HistosToplot[1].GetMaximum(),HistosToplot[2].GetMaximum(),HistosToplot[3].GetMaximum()]\n",
      "            Minima=[HistosToplot[0].GetMinimum(),HistosToplot[1].GetMinimum(),HistosToplot[2].GetMinimum(),HistosToplot[3].GetMinimum()]\n",
      "        else:\n",
      "            Maxima=[HistosToplot[0].GetMaximum(),HistosToplot[1].GetMaximum(),HistosToplot[2].GetMaximum(),HistosToplot[3].GetMaximum()]\n",
      "            Minima=[HistosToplot[0].GetMinimum(),HistosToplot[1].GetMinimum(),HistosToplot[2].GetMinimum(),HistosToplot[3].GetMinimum()]\n",
      "                \n",
      "        CloneE=HistosToplot[1].Clone(\"CopyE\"); CloneE1=HistosToplot[2].Clone(\"CopyE1\"); CloneE2=HistosToplot[3].Clone(\"CopyE2\")\n",
      "        CloneA=HistosToplot[0].Clone(\"CopyA\")\n",
      "        \n",
      "        LEG=ROOT.TLegend(0.5,0.5,0.9,0.9)\n",
      "        LEG.AddEntry(HistosToplot[0], ValString[k]+WP[0], \"f\"); LEG.AddEntry(HistosToplot[1], ValString[k]+WP[1], \"ple\")\n",
      "        LEG.AddEntry(HistosToplot[2], ValString[k]+WP[2], \"ple\"); LEG.AddEntry(HistosToplot[3], ValString[k]+WP[3], \"ple\")\n",
      "        LEG.SetFillColor(0);\n",
      "        #HistosToplot[0].GetYaxis().SetTitleOffset(1.5)\n",
      "        HistosToplot[0].GetYaxis().SetRangeUser(0.95*min(Minima),1.05*max(Maxima))\n",
      "        #HistosToplot[0].DrawNormalized(\"E2\"); HistosToplot[1].DrawNormalized(\"E same\")\n",
      "        #HistosToplot[2].DrawNormalized(\"E same\"); HistosToplot[3].DrawNormalized(\"E same\")\n",
      "        HistosToplot[0].Draw(\"E2\"); HistosToplot[1].Draw(\"E same\")\n",
      "        HistosToplot[2].Draw(\"E same\"); HistosToplot[3].Draw(\"E same\")\n",
      "        LEG.Draw()\n",
      "        CurrentStyle.SetPadTickX(1)\n",
      "        CurCanv1.cd()\n",
      "        \n",
      "        Pad2=ROOT.TPad(\"pad2\",\"pad2\",0,0,1,0.3)\n",
      "        Pad2.SetTopMargin(0)\n",
      "        Pad2.SetLeftMargin(0.16)\n",
      "        Pad2.SetBottomMargin(0.25)\n",
      "        Pad2.Draw()\n",
      "        Pad2.cd()\n",
      "        \n",
      "        CloneA.SetMinimum(0.1); CloneA.SetMaximum(1.9)\n",
      "        CloneA.Sumw2()\n",
      "        CloneA.SetStats(0)\n",
      "        CloneA.SetTitle(\";M(5J) GeV/c^{2};ControlSample/SignalSample\")\n",
      "        CloneA.Divide(HistosToplot[0])\n",
      "        CloneA.SetFillStyle(1001)\n",
      "        SetAxis(CloneA,'X',0.9,0.09,0.007,0.09,510)\n",
      "        SetAxis(CloneA,'Y',0.7,0.06,0.007,0.09,404)\n",
      "        CloneA.Draw(\"E2\")\n",
      "        \n",
      "        CloneE.Sumw2()\n",
      "        CloneE.Scale(HistosToplot[0].Integral()/CloneE.Integral()); CloneE.SetStats(0)\n",
      "        CloneE.SetTitle(\";M(5J) GeV/c^{2};ControlSample/SignalSample\")\n",
      "        CloneE.Divide(HistosToplot[0])\n",
      "        CloneE.Draw(\"ep same\")\n",
      "        \n",
      "        CloneE1.Sumw2()\n",
      "        CloneE1.Scale(HistosToplot[0].Integral()/CloneE1.Integral()); CloneE1.SetStats(0)\n",
      "        CloneE1.SetTitle(\";M(5J) GeV/c^{2};ControlSample/SignalSample\")\n",
      "        CloneE1.Divide(HistosToplot[0])\n",
      "        CloneE1.Draw(\"ep same\")\n",
      "        \n",
      "        CloneE2.Sumw2()\n",
      "        CloneE2.Scale(HistosToplot[0].Integral()/CloneE2.Integral()); CloneE2.SetStats(0)\n",
      "        CloneE2.SetTitle(\";M(5J) GeV/c^{2};ControlSample/SignalSample\")\n",
      "        CloneE2.Divide(HistosToplot[0])\n",
      "        CloneE2.Draw(\"ep same\")\n",
      "        \n",
      "        #print i, k\n",
      "        \n",
      "        if i==0 and k==0: CurCanv1.Print(PDFName+\"(\",\"Title:\"+Titles[i]+\"_\"+ValString[k])\n",
      "        elif i==(len(CutsFromOpt)-1) and k==3: CurCanv1.Print(PDFName+\")\",\"Title:\"+Titles[i]+\"_\"+ValString[k])\n",
      "        #elif i==(len(CutsFromOpt)-1) and k==0: CurCanv1.Print(PDFName+\")\",\"Title:\"+Titles[i]+\"_\"+ValString[k])\n",
      "        else: CurCanv1.Print(PDFName,\"Title:\"+Titles[i]+\"_\"+ValString[k])\n",
      "        ######if i>=0 and k>=0: CurCanv1.Print(PDFName,\"Title:\"+Titles[i]+\"_\"+ValString[k])\n",
      "        #elif i!=0 and k<3: CurCanv1.Print(PDFName,\"Title:\"+Titles[i]+\"_\"+ValString[k])\n",
      "        #elif i!=0 and k==3: CurCanv1.Print(PDFName,\"Title:\"+Titles[i]+\"_\"+ValString[k])\n",
      "        ######if i==(len(CutsFromOpt)-1) and k==3: CurCanv1.Print(PDFName+\")\",\"Title:\"+Titles[i]+\"_\"+ValString[k])\n",
      "        \n",
      "        CurCanv1.Clear(); CurrentStyle.SetPadTickX(0)\n",
      "        CurCanv1.cd(1)\n",
      "                    \n",
      "        del(HistosToplot); del(CurCanv1); del(Pad1); del(Pad2)\n",
      "        del(CloneA); del(CloneE); del(CloneE1); del(CloneE2)\n",
      "    del(TTbarHistos); del(QCD500Histos); del(QCD1000Histos); del(DataHistos); del(QCDHistos); del(MCHistos)\n",
      "    del(SingleTHistos); del(QCDPTHistos); del(DibosonHistos); del(DYHistos); del(SignalHistos)\n",
      "    "
     ],
     "language": "python",
     "metadata": {},
     "outputs": [
      {
       "output_type": "stream",
       "stream": "stderr",
       "text": [
        "TH1F::Sumw2:0: RuntimeWarning: Sum of squares of weights structure already created\n",
        "TH1F::Sumw2:0: RuntimeWarning: Sum of squares of weights structure already created\n",
        "TH1F::Sumw2:0: RuntimeWarning: Sum of squares of weights structure already created\n",
        "TH1F::Sumw2:0: RuntimeWarning: Sum of squares of weights structure already created\n",
        "TH1F::Sumw2:0: RuntimeWarning: Sum of squares of weights structure already created\n"
       ]
      },
      {
       "output_type": "stream",
       "stream": "stderr",
       "text": [
        "TH1F::Sumw2:0: RuntimeWarning: Sum of squares of weights structure already created\n",
        "TH1F::Sumw2:0: RuntimeWarning: Sum of squares of weights structure already created\n",
        "TH1F::Sumw2:0: RuntimeWarning: Sum of squares of weights structure already created\n",
        "TH1F::Sumw2:0: RuntimeWarning: Sum of squares of weights structure already created\n"
       ]
      },
      {
       "output_type": "stream",
       "stream": "stderr",
       "text": [
        "TH1F::Sumw2:0: RuntimeWarning: Sum of squares of weights structure already created\n",
        "TH1F::Sumw2:0: RuntimeWarning: Sum of squares of weights structure already created\n",
        "TH1F::Sumw2:0: RuntimeWarning: Sum of squares of weights structure already created\n",
        "TH1F::Sumw2:0: RuntimeWarning: Sum of squares of weights structure already created\n",
        "TH1F::Sumw2:0: RuntimeWarning: Sum of squares of weights structure already created\n",
        "TH1F::Sumw2:0: RuntimeWarning: Sum of squares of weights structure already created\n",
        "TH1F::Sumw2:0: RuntimeWarning: Sum of squares of weights structure already created\n",
        "TH1F::Sumw2:0: RuntimeWarning: Sum of squares of weights structure already created\n",
        "TH1F::Sumw2:0: RuntimeWarning: Sum of squares of weights structure already created\n",
        "TH1F::Sumw2:0: RuntimeWarning: Sum of squares of weights structure already created\n",
        "TH1F::Sumw2:0: RuntimeWarning: Sum of squares of weights structure already created\n",
        "TH1F::Sumw2:0: RuntimeWarning: Sum of squares of weights structure already created\n",
        "TH1F::Sumw2:0: RuntimeWarning: Sum of squares of weights structure already created\n",
        "TH1F::Sumw2:0: RuntimeWarning: Sum of squares of weights structure already created\n",
        "TH1F::Sumw2:0: RuntimeWarning: Sum of squares of weights structure already created\n",
        "TH1F::Sumw2:0: RuntimeWarning: Sum of squares of weights structure already created\n",
        "TH1F::Sumw2:0: RuntimeWarning: Sum of squares of weights structure already created\n",
        "TH1F::Sumw2:0: RuntimeWarning: Sum of squares of weights structure already created\n",
        "TH1F::Sumw2:0: RuntimeWarning: Sum of squares of weights structure already created\n",
        "TH1F::Sumw2:0: RuntimeWarning: Sum of squares of weights structure already created\n",
        "TH1F::Sumw2:0: RuntimeWarning: Sum of squares of weights structure already created\n",
        "TH1F::Sumw2:0: RuntimeWarning: Sum of squares of weights structure already created\n",
        "TH1F::Sumw2:0: RuntimeWarning: Sum of squares of weights structure already created\n",
        "TH1F::Sumw2:0: RuntimeWarning: Sum of squares of weights structure already created\n",
        "TH1F::Sumw2:0: RuntimeWarning: Sum of squares of weights structure already created\n",
        "TH1F::Sumw2:0: RuntimeWarning: Sum of squares of weights structure already created\n",
        "TH1F::Sumw2:0: RuntimeWarning: Sum of squares of weights structure already created\n",
        "TH1F::Sumw2:0: RuntimeWarning: Sum of squares of weights structure already created\n"
       ]
      },
      {
       "output_type": "stream",
       "stream": "stderr",
       "text": [
        "TH1F::Sumw2:0: RuntimeWarning: Sum of squares of weights structure already created\n",
        "TH1F::Sumw2:0: RuntimeWarning: Sum of squares of weights structure already created\n"
       ]
      },
      {
       "output_type": "stream",
       "stream": "stderr",
       "text": [
        "TH1F::Sumw2:0: RuntimeWarning: Sum of squares of weights structure already created\n",
        "TH1F::Sumw2:0: RuntimeWarning: Sum of squares of weights structure already created\n",
        "TH1F::Sumw2:0: RuntimeWarning: Sum of squares of weights structure already created\n",
        "TH1F::Sumw2:0: RuntimeWarning: Sum of squares of weights structure already created\n",
        "TH1F::Sumw2:0: RuntimeWarning: Sum of squares of weights structure already created\n",
        "TH1F::Sumw2:0: RuntimeWarning: Sum of squares of weights structure already created\n"
       ]
      },
      {
       "output_type": "stream",
       "stream": "stderr",
       "text": [
        "TH1F::Sumw2:0: RuntimeWarning: Sum of squares of weights structure already created\n",
        "TH1F::Sumw2:0: RuntimeWarning: Sum of squares of weights structure already created\n",
        "TH1F::Sumw2:0: RuntimeWarning: Sum of squares of weights structure already created\n",
        "TH1F::Sumw2:0: RuntimeWarning: Sum of squares of weights structure already created\n",
        "TH1F::Sumw2:0: RuntimeWarning: Sum of squares of weights structure already created\n",
        "TH1F::Sumw2:0: RuntimeWarning: Sum of squares of weights structure already created\n",
        "TH1F::Sumw2:0: RuntimeWarning: Sum of squares of weights structure already created\n",
        "TH1F::Sumw2:0: RuntimeWarning: Sum of squares of weights structure already created\n",
        "TH1F::Sumw2:0: RuntimeWarning: Sum of squares of weights structure already created\n",
        "TH1F::Sumw2:0: RuntimeWarning: Sum of squares of weights structure already created\n",
        "TH1F::Sumw2:0: RuntimeWarning: Sum of squares of weights structure already created\n",
        "TH1F::Sumw2:0: RuntimeWarning: Sum of squares of weights structure already created\n",
        "TH1F::Sumw2:0: RuntimeWarning: Sum of squares of weights structure already created\n",
        "TH1F::Sumw2:0: RuntimeWarning: Sum of squares of weights structure already created\n",
        "TH1F::Sumw2:0: RuntimeWarning: Sum of squares of weights structure already created\n",
        "TH1F::Sumw2:0: RuntimeWarning: Sum of squares of weights structure already created\n",
        "TH1F::Sumw2:0: RuntimeWarning: Sum of squares of weights structure already created\n",
        "TH1F::Sumw2:0: RuntimeWarning: Sum of squares of weights structure already created\n",
        "TH1F::Sumw2:0: RuntimeWarning: Sum of squares of weights structure already created\n",
        "TH1F::Sumw2:0: RuntimeWarning: Sum of squares of weights structure already created\n",
        "TH1F::Sumw2:0: RuntimeWarning: Sum of squares of weights structure already created\n",
        "TH1F::Sumw2:0: RuntimeWarning: Sum of squares of weights structure already created\n",
        "TH1F::Sumw2:0: RuntimeWarning: Sum of squares of weights structure already created\n",
        "TH1F::Sumw2:0: RuntimeWarning: Sum of squares of weights structure already created\n",
        "TH1F::Sumw2:0: RuntimeWarning: Sum of squares of weights structure already created\n",
        "TH1F::Sumw2:0: RuntimeWarning: Sum of squares of weights structure already created\n",
        "TH1F::Sumw2:0: RuntimeWarning: Sum of squares of weights structure already created\n",
        "TH1F::Sumw2:0: RuntimeWarning: Sum of squares of weights structure already created\n"
       ]
      },
      {
       "output_type": "stream",
       "stream": "stderr",
       "text": [
        "TH1F::Sumw2:0: RuntimeWarning: Sum of squares of weights structure already created\n",
        "TH1F::Sumw2:0: RuntimeWarning: Sum of squares of weights structure already created\n"
       ]
      },
      {
       "output_type": "stream",
       "stream": "stderr",
       "text": [
        "TH1F::Sumw2:0: RuntimeWarning: Sum of squares of weights structure already created\n",
        "TH1F::Sumw2:0: RuntimeWarning: Sum of squares of weights structure already created\n",
        "TH1F::Sumw2:0: RuntimeWarning: Sum of squares of weights structure already created\n",
        "TH1F::Sumw2:0: RuntimeWarning: Sum of squares of weights structure already created\n"
       ]
      },
      {
       "output_type": "stream",
       "stream": "stderr",
       "text": [
        "TH1F::Sumw2:0: RuntimeWarning: Sum of squares of weights structure already created\n",
        "TH1F::Sumw2:0: RuntimeWarning: Sum of squares of weights structure already created\n"
       ]
      },
      {
       "output_type": "stream",
       "stream": "stderr",
       "text": [
        "TH1F::Sumw2:0: RuntimeWarning: Sum of squares of weights structure already created\n",
        "TH1F::Sumw2:0: RuntimeWarning: Sum of squares of weights structure already created\n",
        "TH1F::Sumw2:0: RuntimeWarning: Sum of squares of weights structure already created\n",
        "TH1F::Sumw2:0: RuntimeWarning: Sum of squares of weights structure already created\n",
        "TH1F::Sumw2:0: RuntimeWarning: Sum of squares of weights structure already created\n",
        "TH1F::Sumw2:0: RuntimeWarning: Sum of squares of weights structure already created\n",
        "TH1F::Sumw2:0: RuntimeWarning: Sum of squares of weights structure already created\n",
        "TH1F::Sumw2:0: RuntimeWarning: Sum of squares of weights structure already created\n",
        "TH1F::Sumw2:0: RuntimeWarning: Sum of squares of weights structure already created\n",
        "TH1F::Sumw2:0: RuntimeWarning: Sum of squares of weights structure already created\n",
        "TH1F::Sumw2:0: RuntimeWarning: Sum of squares of weights structure already created\n",
        "TH1F::Sumw2:0: RuntimeWarning: Sum of squares of weights structure already created\n",
        "TH1F::Sumw2:0: RuntimeWarning: Sum of squares of weights structure already created\n",
        "TH1F::Sumw2:0: RuntimeWarning: Sum of squares of weights structure already created\n",
        "TH1F::Sumw2:0: RuntimeWarning: Sum of squares of weights structure already created\n",
        "TH1F::Sumw2:0: RuntimeWarning: Sum of squares of weights structure already created\n",
        "TH1F::Sumw2:0: RuntimeWarning: Sum of squares of weights structure already created\n",
        "TH1F::Sumw2:0: RuntimeWarning: Sum of squares of weights structure already created\n",
        "TH1F::Sumw2:0: RuntimeWarning: Sum of squares of weights structure already created\n",
        "TH1F::Sumw2:0: RuntimeWarning: Sum of squares of weights structure already created\n",
        "TH1F::Sumw2:0: RuntimeWarning: Sum of squares of weights structure already created\n",
        "TH1F::Sumw2:0: RuntimeWarning: Sum of squares of weights structure already created\n",
        "TH1F::Sumw2:0: RuntimeWarning: Sum of squares of weights structure already created\n",
        "TH1F::Sumw2:0: RuntimeWarning: Sum of squares of weights structure already created\n",
        "TH1F::Sumw2:0: RuntimeWarning: Sum of squares of weights structure already created\n",
        "TH1F::Sumw2:0: RuntimeWarning: Sum of squares of weights structure already created\n",
        "TH1F::Sumw2:0: RuntimeWarning: Sum of squares of weights structure already created\n",
        "TH1F::Sumw2:0: RuntimeWarning: Sum of squares of weights structure already created\n"
       ]
      },
      {
       "output_type": "stream",
       "stream": "stderr",
       "text": [
        "TH1F::Sumw2:0: RuntimeWarning: Sum of squares of weights structure already created\n",
        "TH1F::Sumw2:0: RuntimeWarning: Sum of squares of weights structure already created\n"
       ]
      },
      {
       "output_type": "stream",
       "stream": "stderr",
       "text": [
        "TH1F::Sumw2:0: RuntimeWarning: Sum of squares of weights structure already created\n",
        "TH1F::Sumw2:0: RuntimeWarning: Sum of squares of weights structure already created\n",
        "TH1F::Sumw2:0: RuntimeWarning: Sum of squares of weights structure already created\n",
        "TH1F::Sumw2:0: RuntimeWarning: Sum of squares of weights structure already created\n"
       ]
      },
      {
       "output_type": "stream",
       "stream": "stderr",
       "text": [
        "TH1F::Sumw2:0: RuntimeWarning: Sum of squares of weights structure already created\n",
        "TH1F::Sumw2:0: RuntimeWarning: Sum of squares of weights structure already created\n"
       ]
      },
      {
       "output_type": "stream",
       "stream": "stderr",
       "text": [
        "TH1F::Sumw2:0: RuntimeWarning: Sum of squares of weights structure already created\n",
        "TH1F::Sumw2:0: RuntimeWarning: Sum of squares of weights structure already created\n",
        "TH1F::Sumw2:0: RuntimeWarning: Sum of squares of weights structure already created\n",
        "TH1F::Sumw2:0: RuntimeWarning: Sum of squares of weights structure already created\n",
        "TH1F::Sumw2:0: RuntimeWarning: Sum of squares of weights structure already created\n",
        "TH1F::Sumw2:0: RuntimeWarning: Sum of squares of weights structure already created\n",
        "TH1F::Sumw2:0: RuntimeWarning: Sum of squares of weights structure already created\n",
        "TH1F::Sumw2:0: RuntimeWarning: Sum of squares of weights structure already created\n",
        "TH1F::Sumw2:0: RuntimeWarning: Sum of squares of weights structure already created\n",
        "TH1F::Sumw2:0: RuntimeWarning: Sum of squares of weights structure already created\n",
        "TH1F::Sumw2:0: RuntimeWarning: Sum of squares of weights structure already created\n",
        "TH1F::Sumw2:0: RuntimeWarning: Sum of squares of weights structure already created\n",
        "TH1F::Sumw2:0: RuntimeWarning: Sum of squares of weights structure already created\n",
        "TH1F::Sumw2:0: RuntimeWarning: Sum of squares of weights structure already created\n",
        "TH1F::Sumw2:0: RuntimeWarning: Sum of squares of weights structure already created\n",
        "TH1F::Sumw2:0: RuntimeWarning: Sum of squares of weights structure already created\n",
        "TH1F::Sumw2:0: RuntimeWarning: Sum of squares of weights structure already created\n",
        "TH1F::Sumw2:0: RuntimeWarning: Sum of squares of weights structure already created\n",
        "TH1F::Sumw2:0: RuntimeWarning: Sum of squares of weights structure already created\n",
        "TH1F::Sumw2:0: RuntimeWarning: Sum of squares of weights structure already created\n",
        "TH1F::Sumw2:0: RuntimeWarning: Sum of squares of weights structure already created\n",
        "TH1F::Sumw2:0: RuntimeWarning: Sum of squares of weights structure already created\n",
        "TH1F::Sumw2:0: RuntimeWarning: Sum of squares of weights structure already created\n",
        "TH1F::Sumw2:0: RuntimeWarning: Sum of squares of weights structure already created\n",
        "TH1F::Sumw2:0: RuntimeWarning: Sum of squares of weights structure already created\n",
        "TH1F::Sumw2:0: RuntimeWarning: Sum of squares of weights structure already created\n",
        "TH1F::Sumw2:0: RuntimeWarning: Sum of squares of weights structure already created\n",
        "TH1F::Sumw2:0: RuntimeWarning: Sum of squares of weights structure already created\n"
       ]
      },
      {
       "output_type": "stream",
       "stream": "stderr",
       "text": [
        "TH1F::Sumw2:0: RuntimeWarning: Sum of squares of weights structure already created\n",
        "TH1F::Sumw2:0: RuntimeWarning: Sum of squares of weights structure already created\n"
       ]
      },
      {
       "output_type": "stream",
       "stream": "stderr",
       "text": [
        "TH1F::Sumw2:0: RuntimeWarning: Sum of squares of weights structure already created\n",
        "TH1F::Sumw2:0: RuntimeWarning: Sum of squares of weights structure already created\n"
       ]
      },
      {
       "output_type": "stream",
       "stream": "stderr",
       "text": [
        "TH1F::Sumw2:0: RuntimeWarning: Sum of squares of weights structure already created\n",
        "TH1F::Sumw2:0: RuntimeWarning: Sum of squares of weights structure already created\n",
        "TH1F::Sumw2:0: RuntimeWarning: Sum of squares of weights structure already created\n",
        "TH1F::Sumw2:0: RuntimeWarning: Sum of squares of weights structure already created\n"
       ]
      },
      {
       "output_type": "stream",
       "stream": "stderr",
       "text": [
        "TH1F::Sumw2:0: RuntimeWarning: Sum of squares of weights structure already created\n",
        "TH1F::Sumw2:0: RuntimeWarning: Sum of squares of weights structure already created\n",
        "TH1F::Sumw2:0: RuntimeWarning: Sum of squares of weights structure already created\n",
        "TH1F::Sumw2:0: RuntimeWarning: Sum of squares of weights structure already created\n",
        "TH1F::Sumw2:0: RuntimeWarning: Sum of squares of weights structure already created\n",
        "TH1F::Sumw2:0: RuntimeWarning: Sum of squares of weights structure already created\n",
        "TH1F::Sumw2:0: RuntimeWarning: Sum of squares of weights structure already created\n",
        "TH1F::Sumw2:0: RuntimeWarning: Sum of squares of weights structure already created\n",
        "TH1F::Sumw2:0: RuntimeWarning: Sum of squares of weights structure already created\n",
        "TH1F::Sumw2:0: RuntimeWarning: Sum of squares of weights structure already created\n",
        "TH1F::Sumw2:0: RuntimeWarning: Sum of squares of weights structure already created\n",
        "TH1F::Sumw2:0: RuntimeWarning: Sum of squares of weights structure already created\n",
        "TH1F::Sumw2:0: RuntimeWarning: Sum of squares of weights structure already created\n",
        "TH1F::Sumw2:0: RuntimeWarning: Sum of squares of weights structure already created\n",
        "TH1F::Sumw2:0: RuntimeWarning: Sum of squares of weights structure already created\n",
        "TH1F::Sumw2:0: RuntimeWarning: Sum of squares of weights structure already created\n",
        "TH1F::Sumw2:0: RuntimeWarning: Sum of squares of weights structure already created\n",
        "TH1F::Sumw2:0: RuntimeWarning: Sum of squares of weights structure already created\n",
        "TH1F::Sumw2:0: RuntimeWarning: Sum of squares of weights structure already created\n",
        "TH1F::Sumw2:0: RuntimeWarning: Sum of squares of weights structure already created\n",
        "TH1F::Sumw2:0: RuntimeWarning: Sum of squares of weights structure already created\n",
        "TH1F::Sumw2:0: RuntimeWarning: Sum of squares of weights structure already created\n",
        "TH1F::Sumw2:0: RuntimeWarning: Sum of squares of weights structure already created\n",
        "TH1F::Sumw2:0: RuntimeWarning: Sum of squares of weights structure already created\n",
        "TH1F::Sumw2:0: RuntimeWarning: Sum of squares of weights structure already created\n",
        "TH1F::Sumw2:0: RuntimeWarning: Sum of squares of weights structure already created\n",
        "TH1F::Sumw2:0: RuntimeWarning: Sum of squares of weights structure already created\n",
        "TH1F::Sumw2:0: RuntimeWarning: Sum of squares of weights structure already created\n"
       ]
      },
      {
       "output_type": "stream",
       "stream": "stderr",
       "text": [
        "TH1F::Sumw2:0: RuntimeWarning: Sum of squares of weights structure already created\n",
        "TH1F::Sumw2:0: RuntimeWarning: Sum of squares of weights structure already created\n"
       ]
      },
      {
       "output_type": "stream",
       "stream": "stderr",
       "text": [
        "TH1F::Sumw2:0: RuntimeWarning: Sum of squares of weights structure already created\n",
        "TH1F::Sumw2:0: RuntimeWarning: Sum of squares of weights structure already created\n"
       ]
      },
      {
       "output_type": "stream",
       "stream": "stderr",
       "text": [
        "TH1F::Sumw2:0: RuntimeWarning: Sum of squares of weights structure already created\n",
        "TH1F::Sumw2:0: RuntimeWarning: Sum of squares of weights structure already created\n",
        "TH1F::Sumw2:0: RuntimeWarning: Sum of squares of weights structure already created\n",
        "TH1F::Sumw2:0: RuntimeWarning: Sum of squares of weights structure already created\n"
       ]
      },
      {
       "output_type": "stream",
       "stream": "stderr",
       "text": [
        "TH1F::Sumw2:0: RuntimeWarning: Sum of squares of weights structure already created\n",
        "TH1F::Sumw2:0: RuntimeWarning: Sum of squares of weights structure already created\n",
        "TH1F::Sumw2:0: RuntimeWarning: Sum of squares of weights structure already created\n",
        "TH1F::Sumw2:0: RuntimeWarning: Sum of squares of weights structure already created\n",
        "TH1F::Sumw2:0: RuntimeWarning: Sum of squares of weights structure already created\n",
        "TH1F::Sumw2:0: RuntimeWarning: Sum of squares of weights structure already created\n",
        "TH1F::Sumw2:0: RuntimeWarning: Sum of squares of weights structure already created\n",
        "TH1F::Sumw2:0: RuntimeWarning: Sum of squares of weights structure already created\n",
        "TH1F::Sumw2:0: RuntimeWarning: Sum of squares of weights structure already created\n",
        "TH1F::Sumw2:0: RuntimeWarning: Sum of squares of weights structure already created\n",
        "TH1F::Sumw2:0: RuntimeWarning: Sum of squares of weights structure already created\n",
        "TH1F::Sumw2:0: RuntimeWarning: Sum of squares of weights structure already created\n",
        "TH1F::Sumw2:0: RuntimeWarning: Sum of squares of weights structure already created\n",
        "TH1F::Sumw2:0: RuntimeWarning: Sum of squares of weights structure already created\n",
        "TH1F::Sumw2:0: RuntimeWarning: Sum of squares of weights structure already created\n",
        "TH1F::Sumw2:0: RuntimeWarning: Sum of squares of weights structure already created\n",
        "TH1F::Sumw2:0: RuntimeWarning: Sum of squares of weights structure already created\n",
        "TH1F::Sumw2:0: RuntimeWarning: Sum of squares of weights structure already created\n",
        "TH1F::Sumw2:0: RuntimeWarning: Sum of squares of weights structure already created\n",
        "TH1F::Sumw2:0: RuntimeWarning: Sum of squares of weights structure already created\n",
        "TH1F::Sumw2:0: RuntimeWarning: Sum of squares of weights structure already created\n",
        "TH1F::Sumw2:0: RuntimeWarning: Sum of squares of weights structure already created\n",
        "TH1F::Sumw2:0: RuntimeWarning: Sum of squares of weights structure already created\n",
        "TH1F::Sumw2:0: RuntimeWarning: Sum of squares of weights structure already created\n",
        "TH1F::Sumw2:0: RuntimeWarning: Sum of squares of weights structure already created\n",
        "TH1F::Sumw2:0: RuntimeWarning: Sum of squares of weights structure already created\n",
        "TH1F::Sumw2:0: RuntimeWarning: Sum of squares of weights structure already created\n",
        "TH1F::Sumw2:0: RuntimeWarning: Sum of squares of weights structure already created\n"
       ]
      },
      {
       "output_type": "stream",
       "stream": "stderr",
       "text": [
        "TH1F::Sumw2:0: RuntimeWarning: Sum of squares of weights structure already created\n",
        "TH1F::Sumw2:0: RuntimeWarning: Sum of squares of weights structure already created\n"
       ]
      },
      {
       "output_type": "stream",
       "stream": "stderr",
       "text": [
        "TH1F::Sumw2:0: RuntimeWarning: Sum of squares of weights structure already created\n",
        "TH1F::Sumw2:0: RuntimeWarning: Sum of squares of weights structure already created\n"
       ]
      },
      {
       "output_type": "stream",
       "stream": "stderr",
       "text": [
        "TH1F::Sumw2:0: RuntimeWarning: Sum of squares of weights structure already created\n",
        "TH1F::Sumw2:0: RuntimeWarning: Sum of squares of weights structure already created\n",
        "TH1F::Sumw2:0: RuntimeWarning: Sum of squares of weights structure already created\n",
        "TH1F::Sumw2:0: RuntimeWarning: Sum of squares of weights structure already created\n"
       ]
      },
      {
       "output_type": "stream",
       "stream": "stderr",
       "text": [
        "TH1F::Sumw2:0: RuntimeWarning: Sum of squares of weights structure already created\n",
        "TH1F::Sumw2:0: RuntimeWarning: Sum of squares of weights structure already created\n",
        "TH1F::Sumw2:0: RuntimeWarning: Sum of squares of weights structure already created\n",
        "TH1F::Sumw2:0: RuntimeWarning: Sum of squares of weights structure already created\n",
        "TH1F::Sumw2:0: RuntimeWarning: Sum of squares of weights structure already created\n",
        "TH1F::Sumw2:0: RuntimeWarning: Sum of squares of weights structure already created\n",
        "TH1F::Sumw2:0: RuntimeWarning: Sum of squares of weights structure already created\n",
        "TH1F::Sumw2:0: RuntimeWarning: Sum of squares of weights structure already created\n",
        "TH1F::Sumw2:0: RuntimeWarning: Sum of squares of weights structure already created\n",
        "TH1F::Sumw2:0: RuntimeWarning: Sum of squares of weights structure already created\n",
        "TH1F::Sumw2:0: RuntimeWarning: Sum of squares of weights structure already created\n",
        "TH1F::Sumw2:0: RuntimeWarning: Sum of squares of weights structure already created\n",
        "TH1F::Sumw2:0: RuntimeWarning: Sum of squares of weights structure already created\n",
        "TH1F::Sumw2:0: RuntimeWarning: Sum of squares of weights structure already created\n",
        "TH1F::Sumw2:0: RuntimeWarning: Sum of squares of weights structure already created\n",
        "TH1F::Sumw2:0: RuntimeWarning: Sum of squares of weights structure already created\n",
        "TH1F::Sumw2:0: RuntimeWarning: Sum of squares of weights structure already created\n",
        "TH1F::Sumw2:0: RuntimeWarning: Sum of squares of weights structure already created\n",
        "TH1F::Sumw2:0: RuntimeWarning: Sum of squares of weights structure already created\n",
        "TH1F::Sumw2:0: RuntimeWarning: Sum of squares of weights structure already created\n",
        "TH1F::Sumw2:0: RuntimeWarning: Sum of squares of weights structure already created\n",
        "TH1F::Sumw2:0: RuntimeWarning: Sum of squares of weights structure already created\n",
        "TH1F::Sumw2:0: RuntimeWarning: Sum of squares of weights structure already created\n",
        "TH1F::Sumw2:0: RuntimeWarning: Sum of squares of weights structure already created\n"
       ]
      },
      {
       "output_type": "stream",
       "stream": "stderr",
       "text": [
        "TH1F::Sumw2:0: RuntimeWarning: Sum of squares of weights structure already created\n",
        "TH1F::Sumw2:0: RuntimeWarning: Sum of squares of weights structure already created\n",
        "TH1F::Sumw2:0: RuntimeWarning: Sum of squares of weights structure already created\n",
        "TH1F::Sumw2:0: RuntimeWarning: Sum of squares of weights structure already created\n"
       ]
      },
      {
       "output_type": "stream",
       "stream": "stderr",
       "text": [
        "TH1F::Sumw2:0: RuntimeWarning: Sum of squares of weights structure already created\n",
        "TH1F::Sumw2:0: RuntimeWarning: Sum of squares of weights structure already created\n"
       ]
      },
      {
       "output_type": "stream",
       "stream": "stderr",
       "text": [
        "TH1F::Sumw2:0: RuntimeWarning: Sum of squares of weights structure already created\n",
        "TH1F::Sumw2:0: RuntimeWarning: Sum of squares of weights structure already created\n"
       ]
      },
      {
       "output_type": "stream",
       "stream": "stderr",
       "text": [
        "TH1F::Sumw2:0: RuntimeWarning: Sum of squares of weights structure already created\n",
        "TH1F::Sumw2:0: RuntimeWarning: Sum of squares of weights structure already created\n"
       ]
      },
      {
       "output_type": "stream",
       "stream": "stderr",
       "text": [
        "TH1F::Sumw2:0: RuntimeWarning: Sum of squares of weights structure already created\n",
        "TH1F::Sumw2:0: RuntimeWarning: Sum of squares of weights structure already created\n"
       ]
      },
      {
       "output_type": "stream",
       "stream": "stderr",
       "text": [
        "TH1F::Sumw2:0: RuntimeWarning: Sum of squares of weights structure already created\n",
        "TH1F::Sumw2:0: RuntimeWarning: Sum of squares of weights structure already created\n",
        "TH1F::Sumw2:0: RuntimeWarning: Sum of squares of weights structure already created\n",
        "TH1F::Sumw2:0: RuntimeWarning: Sum of squares of weights structure already created\n",
        "TH1F::Sumw2:0: RuntimeWarning: Sum of squares of weights structure already created\n",
        "TH1F::Sumw2:0: RuntimeWarning: Sum of squares of weights structure already created\n",
        "TH1F::Sumw2:0: RuntimeWarning: Sum of squares of weights structure already created\n",
        "TH1F::Sumw2:0: RuntimeWarning: Sum of squares of weights structure already created\n",
        "TH1F::Sumw2:0: RuntimeWarning: Sum of squares of weights structure already created\n",
        "TH1F::Sumw2:0: RuntimeWarning: Sum of squares of weights structure already created\n",
        "TH1F::Sumw2:0: RuntimeWarning: Sum of squares of weights structure already created\n",
        "TH1F::Sumw2:0: RuntimeWarning: Sum of squares of weights structure already created\n",
        "TH1F::Sumw2:0: RuntimeWarning: Sum of squares of weights structure already created\n",
        "TH1F::Sumw2:0: RuntimeWarning: Sum of squares of weights structure already created\n",
        "TH1F::Sumw2:0: RuntimeWarning: Sum of squares of weights structure already created\n",
        "TH1F::Sumw2:0: RuntimeWarning: Sum of squares of weights structure already created\n",
        "TH1F::Sumw2:0: RuntimeWarning: Sum of squares of weights structure already created\n",
        "TH1F::Sumw2:0: RuntimeWarning: Sum of squares of weights structure already created\n",
        "TH1F::Sumw2:0: RuntimeWarning: Sum of squares of weights structure already created\n",
        "TH1F::Sumw2:0: RuntimeWarning: Sum of squares of weights structure already created\n",
        "TH1F::Sumw2:0: RuntimeWarning: Sum of squares of weights structure already created\n",
        "TH1F::Sumw2:0: RuntimeWarning: Sum of squares of weights structure already created\n",
        "TH1F::Sumw2:0: RuntimeWarning: Sum of squares of weights structure already created\n",
        "TH1F::Sumw2:0: RuntimeWarning: Sum of squares of weights structure already created\n"
       ]
      },
      {
       "output_type": "stream",
       "stream": "stderr",
       "text": [
        "TH1F::Sumw2:0: RuntimeWarning: Sum of squares of weights structure already created\n",
        "TH1F::Sumw2:0: RuntimeWarning: Sum of squares of weights structure already created\n"
       ]
      },
      {
       "output_type": "stream",
       "stream": "stderr",
       "text": [
        "TH1F::Sumw2:0: RuntimeWarning: Sum of squares of weights structure already created\n",
        "TH1F::Sumw2:0: RuntimeWarning: Sum of squares of weights structure already created\n"
       ]
      },
      {
       "output_type": "stream",
       "stream": "stderr",
       "text": [
        "TH1F::Sumw2:0: RuntimeWarning: Sum of squares of weights structure already created\n",
        "TH1F::Sumw2:0: RuntimeWarning: Sum of squares of weights structure already created\n"
       ]
      },
      {
       "output_type": "stream",
       "stream": "stderr",
       "text": [
        "TH1F::Sumw2:0: RuntimeWarning: Sum of squares of weights structure already created\n",
        "TH1F::Sumw2:0: RuntimeWarning: Sum of squares of weights structure already created\n"
       ]
      },
      {
       "output_type": "stream",
       "stream": "stderr",
       "text": [
        "TH1F::Sumw2:0: RuntimeWarning: Sum of squares of weights structure already created\n",
        "TH1F::Sumw2:0: RuntimeWarning: Sum of squares of weights structure already created\n",
        "TH1F::Sumw2:0: RuntimeWarning: Sum of squares of weights structure already created\n",
        "TH1F::Sumw2:0: RuntimeWarning: Sum of squares of weights structure already created\n",
        "TH1F::Sumw2:0: RuntimeWarning: Sum of squares of weights structure already created\n",
        "TH1F::Sumw2:0: RuntimeWarning: Sum of squares of weights structure already created\n",
        "TH1F::Sumw2:0: RuntimeWarning: Sum of squares of weights structure already created\n",
        "TH1F::Sumw2:0: RuntimeWarning: Sum of squares of weights structure already created\n",
        "TH1F::Sumw2:0: RuntimeWarning: Sum of squares of weights structure already created\n",
        "TH1F::Sumw2:0: RuntimeWarning: Sum of squares of weights structure already created\n",
        "TH1F::Sumw2:0: RuntimeWarning: Sum of squares of weights structure already created\n",
        "TH1F::Sumw2:0: RuntimeWarning: Sum of squares of weights structure already created\n",
        "TH1F::Sumw2:0: RuntimeWarning: Sum of squares of weights structure already created\n",
        "TH1F::Sumw2:0: RuntimeWarning: Sum of squares of weights structure already created\n",
        "TH1F::Sumw2:0: RuntimeWarning: Sum of squares of weights structure already created\n",
        "TH1F::Sumw2:0: RuntimeWarning: Sum of squares of weights structure already created\n",
        "TH1F::Sumw2:0: RuntimeWarning: Sum of squares of weights structure already created\n",
        "TH1F::Sumw2:0: RuntimeWarning: Sum of squares of weights structure already created\n",
        "TH1F::Sumw2:0: RuntimeWarning: Sum of squares of weights structure already created\n",
        "TH1F::Sumw2:0: RuntimeWarning: Sum of squares of weights structure already created\n",
        "TH1F::Sumw2:0: RuntimeWarning: Sum of squares of weights structure already created\n",
        "TH1F::Sumw2:0: RuntimeWarning: Sum of squares of weights structure already created\n",
        "TH1F::Sumw2:0: RuntimeWarning: Sum of squares of weights structure already created\n"
       ]
      }
     ],
     "prompt_number": 22
    },
    {
     "cell_type": "heading",
     "level": 2,
     "metadata": {},
     "source": [
      "Efficiencies later selection"
     ]
    },
    {
     "cell_type": "code",
     "collapsed": false,
     "input": [
      "CutsNm1=[ROOT.TCut(\"\"),Cut1,CutDRbb,CutDRWH,CutHM,CutM2HP,CutDRTp6thJ,CutRelHT]\n",
      "\n",
      "CumulCut=ROOT.TCut(\"\")*CutHT\n",
      "SF=ROOT.TCut(\"weight\")\n",
      "PU=ROOT.TCut(\"PUR_function(NTI)\")\n",
      "CMC=ROOT.TCut(\"\")\n",
      "#CMC=SF*PU\n",
      "j=0\n",
      "\n",
      "Titles=[\"NCSVM\"]\n",
      "\n",
      "BinsLimits=[\"(60,0,60)\"]\n",
      "\n",
      "IntegralArray=[[556.8,74803879.0,601988.3,11719.0]]\n",
      "\n",
      "for i in xrange(len(CutsNm1)):\n",
      "    CumulCut=CumulCut*CutsNm1[i]\n",
      "    \n",
      "    TTbarNm1Histos=[]; DataNm1Histos=[]; QCDNm1Histos=[]\n",
      "    SingleTNm1Histos=[]; DibosonNm1Histos=[]; DYNm1Histos=[]\n",
      "    SignalNm1Histos=[]\n",
      "    \n",
      "    IntegralCut=[]\n",
      "    \n",
      "    NMassPointsA[2].Draw(Titles[j]+\" >> \"+Titles[j]+\"S_Cut\"+str(i)+str(j)+BinsLimits[j],CumulCut*CMC)\n",
      "    SignalNm1Histos.append(ROOT.gDirectory.Get(Titles[j]+\"S_Cut\"+str(i)+str(j)))\n",
      "    SignalNm1Histos[-1].Sumw2(); SignalNm1Histos[-1].Scale(SWeight)\n",
      "    IntegralCut.append(SignalNm1Histos[-1].Integral())\n",
      "    \n",
      "    TntupleA.Draw(Titles[j]+\" >> \"+Titles[j]+\"T_Cut\"+str(i)+str(j)+BinsLimits[j],CumulCut*CMC)\n",
      "    TTbarNm1Histos.append(ROOT.gDirectory.Get(Titles[j]+\"T_Cut\"+str(i)+str(j)))\n",
      "    TTbarNm1Histos[-1].Sumw2(); TTbarNm1Histos[-1].Scale(TWeight) #; TTbarHistos[-1].Write()\n",
      "                \n",
      "    QCDHT=[]\n",
      "    QntuplesA[0].Draw(Titles[j]+\" >> \"+Titles[j]+\"Q500_Cut\"+str(i)+str(j)+BinsLimits[j],CumulCut*CMC)\n",
      "    QCDHT.append(ROOT.gDirectory.Get(Titles[j]+\"Q500_Cut\"+str(i)+str(j)))\n",
      "    QCDHT[-1].Sumw2(); QCDHT[-1].Scale(QWeights[0]) #; QCD500Histos[-1].Write()\n",
      "        \n",
      "    QntuplesA[1].Draw(Titles[j]+\" >> \"+Titles[j]+\"Q1000_Cut\"+str(i)+str(j)+BinsLimits[j],CumulCut*CMC)\n",
      "    QCDHT.append(ROOT.gDirectory.Get(Titles[j]+\"Q1000_Cut\"+str(i)+str(j)))\n",
      "    QCDHT[-1].Sumw2(); QCDHT[-1].Scale(QWeights[1]) #; QCD1000Histos[-1].Write()\n",
      "    \n",
      "    STHT=[]\n",
      "    for k in xrange(6): #Single Top\n",
      "        if SubBKGArrayA[k].GetEntries()>0:\n",
      "            SubBKGArrayA[k].Draw(Titles[j]+\" >> \"+Titles[j]+\"ST_Cut\"+str(i)+str(j)+\"_\"+str(k)+BinsLimits[j],CumulCut*CMC)\n",
      "            STHT.append(ROOT.gDirectory.Get(Titles[j]+\"ST_Cut\"+str(i)+str(j)+\"_\"+str(k)))\n",
      "            STHT[-1].Sumw2(); STHT[-1].Scale(SingleTWeights[k])\n",
      "    SingleTNm1Histos.append(STHT)\n",
      "            \n",
      "    DiHT=[]\n",
      "    for k in xrange(3): #Diboson\n",
      "        if SubBKGArrayA[k+6].GetEntries()>0:\n",
      "            SubBKGArrayA[k+6].Draw(Titles[j]+\" >> \"+Titles[j]+\"Di_Cut\"+str(i)+str(j)+\"_\"+str(k)+BinsLimits[j],CumulCut*CMC)\n",
      "            DiHT.append(ROOT.gDirectory.Get(Titles[j]+\"Di_Cut\"+str(i)+str(j)+\"_\"+str(k)))\n",
      "            DiHT[-1].Sumw2(); DiHT[-1].Scale(DibosonWeights[k])\n",
      "            #print DiHT[-1].GetEntries(), DiHT[-1].Integral()\n",
      "    DibosonNm1Histos.append(DiHT)\n",
      "        \n",
      "    DYHT=[]\n",
      "    for k in xrange(2): #DY\n",
      "        if SubBKGArrayA[k+9].GetEntries()>0:\n",
      "            SubBKGArrayA[k+9].Draw(Titles[j]+\" >> \"+Titles[j]+\"DY_Cut\"+str(i)+str(j)+\"_\"+str(k)+BinsLimits[j],CumulCut*CMC)\n",
      "            DYHT.append(ROOT.gDirectory.Get(Titles[j]+\"DY_Cut\"+str(i)+str(j)+\"_\"+str(k)))\n",
      "            DYHT[-1].Sumw2(); DYHT[-1].Scale(DYWeights[k])\n",
      "    DYNm1Histos.append(DYHT)\n",
      "        \n",
      "    if QCDPTFLAG: \n",
      "        for k in xrange(6): #QCD PT hat\n",
      "            if SubBKGArrayA[k+11].GetEntries()>0:\n",
      "                SubBKGArrayA[k+11].Draw(Titles[j]+\" >> \"+Titles[j]+\"QCDPT_Cut\"+str(i)+str(j)+\"_\"+str(k)+BinsLimits[j],CumulCut*CMC)\n",
      "                QCDHT.append(ROOT.gDirectory.Get(Titles[j]+\"QCDPT_Cut\"+str(i)+str(j)+\"_\"+str(k)))\n",
      "                QCDHT[-1].Sumw2(); QCDHT[-1].Scale(QCDPTWeights[k])\n",
      "    QCDNm1Histos.append(QCDHT)\n",
      "\n",
      "    QCDFull=QCDNm1Histos[-1][0].Clone(Titles[j]+\"Q_Cut\"+str(i)+str(j))\n",
      "    for k in QCDNm1Histos[-1][1:]:\n",
      "        QCDFull.Add(k)\n",
      "        \n",
      "    SingleTFull=SingleTNm1Histos[-1][0].Clone(Titles[j]+\"ST_Cut\"+str(i)+str(j))\n",
      "    for k in SingleTNm1Histos[-1][1:]:\n",
      "        SingleTFull.Add(k)\n",
      "    \n",
      "    DibosonFull=DibosonNm1Histos[-1][0].Clone(Titles[j]+\"Di_Cut\"+str(i)+str(j))\n",
      "    for k in DibosonNm1Histos[-1][1:]:\n",
      "        DibosonFull.Add(k)\n",
      "        \n",
      "    DYFull=DYNm1Histos[-1][0].Clone(Titles[j]+\"DY_Cut\"+str(i)+str(j))\n",
      "    for k in DYNm1Histos[-1][1:]:\n",
      "        DYFull.Add(k)\n",
      "        \n",
      "    IntegralCut.append(QCDFull.Integral())\n",
      "    IntegralCut.append(TTbarNm1Histos[-1].Integral()+SingleTFull.Integral())\n",
      "    IntegralCut.append(DibosonFull.Integral())\n",
      "    IntegralArray.append(np.array(IntegralCut))\n",
      "    \n",
      "print \"Efficiencies with respect to total entries after Trigger\"\n",
      "for k in xrange(len(IntegralArray)-1):\n",
      "    #print IntegralArray[k+1]\n",
      "    print \"Cut\"+str(k+1)+\": \"\n",
      "    for l in xrange(len(IntegralArray[k+1])):\n",
      "        print \" {0:.3e}+-{1:.2e}\".format(100*IntegralArray[k+1][l]/IntegralArray[0][l],\n",
      "                                         100*EffE(IntegralArray[k+1][l]/IntegralArray[0][l],IntegralArray[0][l]))"
     ],
     "language": "python",
     "metadata": {},
     "outputs": [
      {
       "output_type": "stream",
       "stream": "stdout",
       "text": [
        "Efficiencies with respect to total entries after Trigger\n",
        "Cut1: \n",
        " 1.466e+01+-1.50e+00\n",
        " 5.841e-02+-2.79e-04\n",
        " 1.980e+00+-1.80e-02\n",
        " 1.459e-01+-3.53e-02\n",
        "Cut2: \n",
        " 7.092e+00+-1.09e+00\n",
        " 5.379e-03+-8.48e-05\n",
        " 6.410e-01+-1.03e-02\n",
        " 1.405e-02+-1.09e-02\n",
        "Cut3: \n",
        " 6.465e+00+-1.04e+00\n",
        " 1.796e-03+-4.90e-05\n",
        " 2.578e-01+-6.54e-03\n",
        " 6.639e-03+-7.53e-03\n",
        "Cut4: \n",
        " 6.465e+00+-1.04e+00\n",
        " 1.796e-03+-4.90e-05\n",
        " 2.578e-01+-6.54e-03\n",
        " 6.639e-03+-7.53e-03\n",
        "Cut5: \n",
        " 5.756e+00+-9.87e-01\n",
        " 1.368e-03+-4.28e-05\n",
        " 1.892e-01+-5.60e-03\n",
        " 3.450e-03+-5.43e-03\n",
        "Cut6: \n",
        " 3.626e+00+-7.92e-01\n",
        " 5.347e-04+-2.67e-05\n",
        " 5.969e-02+-3.15e-03\n",
        " 1.594e-03+-3.69e-03\n",
        "Cut7: \n",
        " 2.023e+00+-5.97e-01\n",
        " 2.393e-05+-5.66e-06\n",
        " 5.979e-03+-9.97e-04\n",
        " 0.000e+00+-0.00e+00\n",
        "Cut8: \n",
        " 1.797e+00+-5.63e-01\n",
        " 4.222e-06+-2.38e-06\n",
        " 3.481e-03+-7.60e-04\n",
        " 0.000e+00+-0.00e+00\n"
       ]
      }
     ],
     "prompt_number": 5
    },
    {
     "cell_type": "heading",
     "level": 1,
     "metadata": {},
     "source": [
      "OLD CODE!"
     ]
    },
    {
     "cell_type": "code",
     "collapsed": false,
     "input": [
      "Cut1=ROOT.TCut(\"chi2<820\")\n",
      "CutsFromOpt=[ROOT.TCut(\"\"),Cut1,CutDRbb,CutDRWH,CutM2HP,CutDRTp6thJ,CutHM,CutRelHT,CutMTHAsym]\n",
      "OptVersion=\"_550To1100_bkgestimation_with_optchi2_\"+NominalV+\"_\"+InclusiveV1+\"_\"+InclusiveV2\n",
      "\n",
      "CumulCut=ROOT.TCut(\"\")*CutHT\n",
      "\n",
      "PDFName=\"Nminus1\"+OptVersion+\".pdf\"\n",
      "CurCanv = rootnotes.canvas(\"MyPlot\", (600, 800))\n",
      "Titles=[\"Base\",\"chi2\", \"DRbb\", \"DRWH\", \"M2HP\", \"DRTp6thJ\", \"HiggsMass\", \"RelHT\", \"MTHAsym\"]\n",
      "\n",
      "SignalWEntries=[]; QCDWEntries=[]; TopWEntries=[]; DibosonWEntries=[]\n",
      "\n",
      "BinsLimits=\"(30,550,1100)\"\n",
      "\n",
      "ValString=[\"Data\",\"TTbar\",\"QCD\",\"MC-Sum\"]\n",
      "WP=[\" CSVM\",\" [0.244,0.679)\",\" [0.389,0.679)\",\" [0.534,0.679)\"]\n",
      "\n",
      "for i in xrange(len(CutsFromOpt)):\n",
      "    TTbarHistos=[]; QCD500Histos=[]; QCD1000Histos=[]; DataHistos=[]; QCDHistos=[]; MCHistos=[]\n",
      "    SingleTHistos=[]; QCDPTHistos=[]; DibosonHistos=[]; DYHistos=[]; SignalHistos=[]\n",
      "    CumulCut=CumulCut*CutsFromOpt[i]\n",
      "    for j in xrange(len(MCArray)):\n",
      "        \n",
      "        SHT=[]; SEnT=[]\n",
      "        if (i==(len(CutsFromOpt)-1) and j==0): MassesHistosf = ROOT.TFile(\"Histos_Masses_Afterfullsel.root\", \"recreate\")\n",
      "        #####SIGNAL#####\n",
      "        for k in xrange(len(MCArray[j][0])): #Signal            \n",
      "            if MCArray[j][0][k].GetEntries()>0:\n",
      "                MCArray[j][0][k].Draw(\"M5J >> M5jSi_Cut\"+str(i)+\"_\"+str(j)+\"_\"+str(k)+BinsLimits,CumulCut)\n",
      "                SHT.append(ROOT.gDirectory.Get(\"M5jSi_Cut\"+str(i)+\"_\"+str(j)+\"_\"+str(k)))\n",
      "                SHT[-1].Sumw2(); SHT[-1].Scale(NWeights[k])\n",
      "                if (i==(len(CutsFromOpt)-1) and j==0): SHT[-1].Write()\n",
      "                if j==0: SEnT.append(SHT[-1].GetEntries())\n",
      "        SignalHistos.append(SHT)\n",
      "        if (i==(len(CutsFromOpt)-1) and j==0): MassesHistosf.Close()\n",
      "        if j==0: SignalWEntries.append(SEnT)\n",
      "        \n",
      "        #####TTJets#####\n",
      "        MCArray[j][1].Draw(\"M5J >> M5jT_Cut\"+str(i)+\"_\"+str(j)+BinsLimits,CumulCut)\n",
      "        TTbarHistos.append(ROOT.gDirectory.Get(\"M5jT_Cut\"+str(i)+\"_\"+str(j)))\n",
      "        TTbarHistos[-1].Sumw2(); TTbarHistos[-1].Scale(TWeight) #; TTbarHistos[-1].Write()\n",
      "        if j==0: TopWEntries.append(TTbarHistos[-1].GetEntries()*TWeight)\n",
      "                \n",
      "        #####QCDHT#####\n",
      "        MCArray[j][2][0].Draw(\"M5J >> M5jQ500_Cut\"+str(i)+\"_\"+str(j)+BinsLimits,CumulCut)\n",
      "        QCD500Histos.append(ROOT.gDirectory.Get(\"M5jQ500_Cut\"+str(i)+\"_\"+str(j)))\n",
      "        QCD500Histos[-1].Sumw2(); QCD500Histos[-1].Scale(QWeights[0]) #; QCD500Histos[-1].Write()\n",
      "        if j==0: QCDWEntries.append(QCD500Histos[-1].GetEntries()*QWeights[0])\n",
      "        \n",
      "        MCArray[j][2][1].Draw(\"M5J >> M5jQ1000_Cut\"+str(i)+\"_\"+str(j)+BinsLimits,CumulCut)\n",
      "        QCD1000Histos.append(ROOT.gDirectory.Get(\"M5jQ1000_Cut\"+str(i)+\"_\"+str(j)))\n",
      "        QCD1000Histos[-1].Sumw2(); QCD1000Histos[-1].Scale(QWeights[1]) #; QCD1000Histos[-1].Write()\n",
      "        if j==0: QCDWEntries[-1]+=QCD1000Histos[-1].GetEntries()*QWeights[1]\n",
      "        \n",
      "        STHT=[]\n",
      "        for k in xrange(len(SubBKGArray[j][0])): #Single Top\n",
      "            if SubBKGArray[j][0][k].GetEntries()>0:\n",
      "                SubBKGArray[j][0][k].Draw(\"M5J >> M5jST_Cut\"+str(i)+\"_\"+str(j)+\"_\"+str(k)+BinsLimits,CumulCut)\n",
      "                STHT.append(ROOT.gDirectory.Get(\"M5jST_Cut\"+str(i)+\"_\"+str(j)+\"_\"+str(k)))\n",
      "                STHT[-1].Sumw2(); STHT[-1].Scale(SingleTWeights[k])\n",
      "                if j==0: TopWEntries[-1]+=STHT[-1].GetEntries()*SingleTWeights[k]\n",
      "        SingleTHistos.append(STHT)\n",
      "            \n",
      "        DiHT=[]; DiE=0\n",
      "        for k in xrange(len(SubBKGArray[j][1])): #Diboson\n",
      "            if SubBKGArray[j][1][k].GetEntries()>0:\n",
      "                SubBKGArray[j][1][k].Draw(\"M5J >> M5jDi_Cut\"+str(i)+\"_\"+str(j)+\"_\"+str(k)+BinsLimits,CumulCut)\n",
      "                DiHT.append(ROOT.gDirectory.Get(\"M5jDi_Cut\"+str(i)+\"_\"+str(j)+\"_\"+str(k)))\n",
      "                DiHT[-1].Sumw2(); DiHT[-1].Scale(DibosonWeights[k])\n",
      "                if j==0: DiE+=DiHT[-1].GetEntries()*DibosonWeights[k]\n",
      "        DibosonHistos.append(DiHT)\n",
      "        if j==0: DibosonWEntries.append(DiE)\n",
      "        \n",
      "        DYHT=[]\n",
      "        for k in xrange(len(SubBKGArray[j][2])): #DY\n",
      "            if SubBKGArray[j][2][k].GetEntries()>0:\n",
      "                SubBKGArray[j][2][k].Draw(\"M5J >> M5jDY_Cut\"+str(i)+\"_\"+str(j)+\"_\"+str(k)+BinsLimits,CumulCut)\n",
      "                DYHT.append(ROOT.gDirectory.Get(\"M5jDY_Cut\"+str(i)+\"_\"+str(j)+\"_\"+str(k)))\n",
      "                DYHT[-1].Sumw2(); DYHT[-1].Scale(DYWeights[k])\n",
      "        DYHistos.append(DYHT)\n",
      "        \n",
      "        if QCDPTFLAG: \n",
      "            QCDPTHT=[]\n",
      "            for k in xrange(len(SubBKGArray[j][3])): #QCD PT hat\n",
      "                if SubBKGArray[j][3][k].GetEntries()>0:\n",
      "                    SubBKGArray[j][3][k].Draw(\"M5J >> M5jQCDPT_Cut\"+str(i)+\"_\"+str(j)+\"_\"+str(k)+BinsLimits,CumulCut)\n",
      "                    QCDPTHT.append(ROOT.gDirectory.Get(\"M5jQCDPT_Cut\"+str(i)+\"_\"+str(j)+\"_\"+str(k)))\n",
      "                    QCDPTHT[-1].Sumw2(); QCDPTHT[-1].Scale(QCDPTWeights[k])\n",
      "                    if j==0: QCDWEntries[-1]+=QCDPTHT[-1].GetEntries()*QCDPTWeights[k]\n",
      "            QCDPTHistos.append(QCDPTHT)\n",
      "            \n",
      "        QCDFull=QCD500Histos[-1].Clone(\"M5jQ_Cut\"+str(i)+\"_\"+str(j))\n",
      "        QCDFull.Add(QCD1000Histos[-1])\n",
      "        if QCDPTFLAG:\n",
      "            for k in QCDPTHistos[-1]:\n",
      "                QCDFull.Add(k)\n",
      "        QCDHistos.append(QCDFull)\n",
      "        \n",
      "        MCFull=QCDFull.Clone(\"M5jMC_Cut\"+str(i)+\"_\"+str(j))\n",
      "        MCFull.Add(TTbarHistos[-1])\n",
      "        for k in SingleTHistos[-1]: MCFull.Add(k)\n",
      "        for k in DibosonHistos[-1]: MCFull.Add(k)\n",
      "        for k in DYHistos[-1]: MCFull.Add(k)\n",
      "        MCHistos.append(MCFull)\n",
      "        \n",
      "        #DataArray[j].Draw(\"M5J >> M5jD_Cut\"+str(i)+\"_\"+str(j)+BinsLimits,CumulCut)\n",
      "        #DataHistos.append(ROOT.gDirectory.Get(\"M5jD_Cut\"+str(i)+\"_\"+str(j)))\n",
      "    \n",
      "    DataA[0].Draw(\"M5J >> M5jD_Cut\"+str(i)+\"_0\"+BinsLimits,CumulCut)\n",
      "    DataHistos.append(ROOT.gDirectory.Get(\"M5jD_Cut\"+str(i)+\"_0\"))\n",
      "    DataE[0].Draw(\"M5J >> M5jD_Cut\"+str(i)+\"_1\"+BinsLimits,CumulCut)\n",
      "    DataHistos.append(ROOT.gDirectory.Get(\"M5jD_Cut\"+str(i)+\"_1\"))\n",
      "    DataE1[0].Draw(\"M5J >> M5jD_Cut\"+str(i)+\"_2\"+BinsLimits,CumulCut)\n",
      "    DataHistos.append(ROOT.gDirectory.Get(\"M5jD_Cut\"+str(i)+\"_2\"))\n",
      "    DataE2[0].Draw(\"M5J >> M5jD_Cut\"+str(i)+\"_3\"+BinsLimits,CumulCut)\n",
      "    DataHistos.append(ROOT.gDirectory.Get(\"M5jD_Cut\"+str(i)+\"_3\"))\n",
      "    ROOT.gPad.Clear()\n",
      "    for k in xrange(4):\n",
      "        if k!=0: continue\n",
      "        if k==0: HistosToplot=DataHistos\n",
      "        elif k==1: HistosToplot=TTbarHistos\n",
      "        elif k==2: HistosToplot=MCHistos\n",
      "        elif k==3: HistosToplot=QCDHistos\n",
      "        \n",
      "        CurrentStyle=ROOT.TStyle(\"CStyle\",\"Style for Plotting\")\n",
      "        #ROOT.SetOwnership( CurrentStyle, False )\n",
      "        #CurrentStyle.SetOptStat(0)\n",
      "        #CurrentStyle.SetOptTitle(0)\n",
      "        #CurrentStyle.SetPadLeftMargin(0.16)\n",
      "        #CurrentStyle.SetPadRightMargin(0.02)\n",
      "        \n",
      "        #CurrentStyle.SetTitleColor(1, \"XYZ\")\n",
      "        #CurrentStyle.SetTitleFont(42, \"XYZ\")\n",
      "        #CurrentStyle.SetTitleSize(0.06, \"XYZ\")\n",
      "        #CurrentStyle.SetTitleXOffset(1.0)\n",
      "        #CurrentStyle.SetTitleOffset(1.5, \"Y\")\n",
      "        #CurrentStyle.SetLabelColor(1, \"XYZ\")\n",
      "        #CurrentStyle.SetLabelFont(42, \"XYZ\")\n",
      "        #CurrentStyle.SetLabelOffset(0.007, \"XYZ\")\n",
      "        #CurrentStyle.SetLabelSize(0.05, \"XYZ\")\n",
      "        #CurrentStyle.SetAxisColor(1, \"XYZ\")\n",
      "        #CurrentStyle.SetStripDecimals(ROOT.kTRUE)\n",
      "        #CurrentStyle.SetTickLength(0.03, \"XYZ\")\n",
      "        #CurrentStyle.SetNdivisions(510, \"XYZ\")\n",
      "                \n",
      "        CurCanv1 = rootnotes.canvas(\"MyPlot\", (600, 800))\n",
      "        CurCanv1.cd(1)\n",
      "        Pad1=ROOT.TPad(\"pad1\",\"pad1\",0,0.3,1,1)\n",
      "        Pad1.SetBottomMargin(0)\n",
      "        Pad1.SetLeftMargin(0.16)\n",
      "        Pad1.Draw()\n",
      "        Pad1.cd()\n",
      "        \n",
      "        HistosToplot[0].SetStats(ROOT.kFALSE)\n",
      "        \n",
      "        HistosToplot[0].SetTitle(\";;A.U.\")\n",
      "        SetAxis(HistosToplot[0],'Y',0.5,0.05,0.007,0.0,510)\n",
      "        HistosToplot[0].SetLineStyle(1); HistosToplot[0].SetLineWidth(1); HistosToplot[0].SetLineColor(ROOT.kGray+2)\n",
      "        HistosToplot[0].SetFillStyle(3144); HistosToplot[0].SetFillColor(ROOT.kGray+2)\n",
      "        \n",
      "        HistosToplot[1].SetLineStyle(1); HistosToplot[1].SetLineWidth(2); HistosToplot[1].SetLineColor(ROOT.kGreen+2)\n",
      "        \n",
      "        HistosToplot[2].SetLineStyle(1); HistosToplot[2].SetLineWidth(2); HistosToplot[2].SetLineColor(ROOT.kRed+1)\n",
      "        \n",
      "        HistosToplot[3].SetLineStyle(1); HistosToplot[3].SetLineWidth(2); HistosToplot[3].SetLineColor(ROOT.kBlue+1)\n",
      "        \n",
      "        CloneE=HistosToplot[1].Clone(\"CopyE\"); CloneE1=HistosToplot[2].Clone(\"CopyE1\"); CloneE2=HistosToplot[3].Clone(\"CopyE2\")\n",
      "        CloneA=HistosToplot[0].Clone(\"CopyA\")\n",
      "        \n",
      "        LEG=ROOT.TLegend(0.5,0.5,0.9,0.9)\n",
      "        LEG.AddEntry(HistosToplot[0], ValString[k]+WP[0], \"f\"); LEG.AddEntry(HistosToplot[1], ValString[k]+WP[1], \"le\")\n",
      "        LEG.AddEntry(HistosToplot[2], ValString[k]+WP[2], \"le\"); LEG.AddEntry(HistosToplot[3], ValString[k]+WP[3], \"le\")\n",
      "        LEG.SetFillColor(0);\n",
      "        HistosToplot[0].DrawNormalized(\"E2\"); HistosToplot[1].DrawNormalized(\"E same\")\n",
      "        HistosToplot[2].DrawNormalized(\"E same\"); HistosToplot[3].DrawNormalized(\"E same\")\n",
      "        LEG.Draw()\n",
      "        CurrentStyle.SetPadTickX(1)\n",
      "        CurCanv1.cd()\n",
      "        \n",
      "        Pad2=ROOT.TPad(\"pad2\",\"pad2\",0,0,1,0.3)\n",
      "        Pad2.SetTopMargin(0)\n",
      "        Pad2.SetLeftMargin(0.16)\n",
      "        Pad2.SetBottomMargin(0.25)\n",
      "        Pad2.Draw()\n",
      "        Pad2.cd()\n",
      "        \n",
      "        CloneA.SetMinimum(0.1); CloneA.SetMaximum(1.9)\n",
      "        CloneA.Sumw2()\n",
      "        CloneA.SetStats(0)\n",
      "        CloneA.SetTitle(\";M(5J) GeV/c^{2};ControlSample/SignalSample\")\n",
      "        CloneA.Divide(HistosToplot[0])\n",
      "        CloneA.SetFillStyle(1001)\n",
      "        SetAxis(CloneA,'X',0.9,0.09,0.007,0.09,510)\n",
      "        SetAxis(CloneA,'Y',0.7,0.06,0.007,0.09,404)\n",
      "        CloneA.Draw(\"E2\")\n",
      "        \n",
      "        CloneE.Sumw2()\n",
      "        CloneE.Scale(HistosToplot[0].Integral()/CloneE.Integral()); CloneE.SetStats(0)\n",
      "        CloneE.SetTitle(\";M(5J) GeV/c^{2};ControlSample/SignalSample\")\n",
      "        CloneE.Divide(HistosToplot[0])\n",
      "        CloneE.Draw(\"ep same\")\n",
      "        \n",
      "        CloneE1.Sumw2()\n",
      "        CloneE1.Scale(HistosToplot[0].Integral()/CloneE1.Integral()); CloneE1.SetStats(0)\n",
      "        CloneE1.SetTitle(\";M(5J) GeV/c^{2};ControlSample/SignalSample\")\n",
      "        CloneE1.Divide(HistosToplot[0])\n",
      "        CloneE1.Draw(\"ep same\")\n",
      "        \n",
      "        CloneE2.Sumw2()\n",
      "        CloneE2.Scale(HistosToplot[0].Integral()/CloneE2.Integral()); CloneE2.SetStats(0)\n",
      "        CloneE2.SetTitle(\";M(5J) GeV/c^{2};ControlSample/SignalSample\")\n",
      "        CloneE2.Divide(HistosToplot[0])\n",
      "        CloneE2.Draw(\"ep same\")\n",
      "        \n",
      "        #print i, k\n",
      "        \n",
      "        if i==0 and k==0: CurCanv1.Print(PDFName+\"(\",\"Title:\"+Titles[i]+\"_\"+ValString[k])\n",
      "        elif i==(len(CutsFromOpt)-1) and k==0: CurCanv1.Print(PDFName+\")\",\"Title:\"+Titles[i]+\"_\"+ValString[k])\n",
      "        else: CurCanv1.Print(PDFName,\"Title:\"+Titles[i]+\"_\"+ValString[k])\n",
      "        ######if i>=0 and k>=0: CurCanv1.Print(PDFName,\"Title:\"+Titles[i]+\"_\"+ValString[k])\n",
      "        #elif i!=0 and k<3: CurCanv1.Print(PDFName,\"Title:\"+Titles[i]+\"_\"+ValString[k])\n",
      "        #elif i!=0 and k==3: CurCanv1.Print(PDFName,\"Title:\"+Titles[i]+\"_\"+ValString[k])\n",
      "        ######if i==(len(CutsFromOpt)-1) and k==3: CurCanv1.Print(PDFName+\")\",\"Title:\"+Titles[i]+\"_\"+ValString[k])\n",
      "        \n",
      "        CurCanv1.Clear(); CurrentStyle.SetPadTickX(0)\n",
      "        CurCanv1.cd(1)\n",
      "                    \n",
      "        del(HistosToplot); del(CurCanv1); del(Pad1); del(Pad2)\n",
      "        del(CloneA); del(CloneE); del(CloneE1); del(CloneE2)\n",
      "    del(TTbarHistos); del(QCD500Histos); del(QCD1000Histos); del(DataHistos); del(QCDHistos); del(MCHistos)\n",
      "    del(SingleTHistos); del(QCDPTHistos); del(DibosonHistos); del(DYHistos); del(SignalHistos)\n",
      "    "
     ],
     "language": "python",
     "metadata": {},
     "outputs": [],
     "prompt_number": 8
    },
    {
     "cell_type": "heading",
     "level": 2,
     "metadata": {},
     "source": [
      "Declaring MC files for inclusive validation"
     ]
    },
    {
     "cell_type": "code",
     "collapsed": false,
     "input": [
      "files = [\"TpJetM600_5318_Full_analyzed.root\",\n",
      "         \"TpJetM650_5318_Full_analyzed.root\",\n",
      "         \"TpJetM700_5318_Full_analyzed.root\",\n",
      "         \"TpJetM750_5318_Full_analyzed.root\",\n",
      "         \"TpJetM800_5318_Full_analyzed.root\",\n",
      "         \"TpJetM850_5318_Full_analyzed.root\",\n",
      "         \"TpJetM900_5318_Full_analyzed.root\",\n",
      "         \"TpJetM950_5318_Full_analyzed.root\",\n",
      "         \"TpJetM1000_5318_Full_analyzed.root\",\n",
      "         \"TTJetsF_5318_Full_analyzed.root\",\n",
      "         \"QCD_HT_500_1000_5318_Full_analyzed.root\",\n",
      "         \"QCD_HT_1000_Inf_5318_Full_analyzed.root\"]\n",
      "\n",
      "TreeStructure=\"M5J:DRHJ:DRWH:RelHT:M2HP:DRTp6thJ:HM:chi2:MTHAsym\"\n",
      "\n",
      "#Control Sample CSVL=[0.389,0.679)\n",
      "TntupleE1 = ROOT.TNtuple(\"TntupleE1\",\"TntupleE1\",TreeStructure)\n",
      "Q500ntupleE1 = ROOT.TNtuple(\"Q500ntupleE1\",\"Q500ntupleE1\",TreeStructure)\n",
      "Q1000ntupleE1 = ROOT.TNtuple(\"Q1000ntupleE1\",\"Q1000ntupleE1\",TreeStructure)\n",
      "QntuplesE1=[Q500ntupleE1,Q1000ntupleE1]\n",
      "S600ntupleE1 = ROOT.TNtuple(\"S600ntupleE1\",\"S600ntupleE1\",TreeStructure)\n",
      "S650ntupleE1 = ROOT.TNtuple(\"S650ntupleE1\",\"S650ntupleE1\",TreeStructure)\n",
      "S700ntupleE1 = ROOT.TNtuple(\"S700ntupleE1\",\"S700ntupleE1\",TreeStructure)\n",
      "S750ntupleE1 = ROOT.TNtuple(\"S750ntupleE1\",\"S750ntupleE1\",TreeStructure)\n",
      "S800ntupleE1 = ROOT.TNtuple(\"S800ntupleE1\",\"S800ntupleE1\",TreeStructure)\n",
      "S850ntupleE1 = ROOT.TNtuple(\"S850ntupleE1\",\"S850ntupleE1\",TreeStructure)\n",
      "S900ntupleE1 = ROOT.TNtuple(\"S900ntupleE1\",\"S900ntupleE1\",TreeStructure)\n",
      "S950ntupleE1 = ROOT.TNtuple(\"S950ntupleE1\",\"S950ntupleE1\",TreeStructure)\n",
      "S1000ntupleE1 = ROOT.TNtuple(\"S1000ntupleE1\",\"S1000ntupleE1\",TreeStructure)\n",
      "NMassPointsE1 = [S600ntupleE1,S650ntupleE1,S700ntupleE1,S750ntupleE1,S800ntupleE1,S850ntupleE1,S900ntupleE1,S950ntupleE1,S1000ntupleE1]\n",
      "\n",
      "#Control Sample CSVL=[0.534,0.679)\n",
      "TntupleE2 = ROOT.TNtuple(\"TntupleE2\",\"TntupleE2\",TreeStructure)\n",
      "Q500ntupleE2 = ROOT.TNtuple(\"Q500ntupleE2\",\"Q500ntupleE2\",TreeStructure)\n",
      "Q1000ntupleE2 = ROOT.TNtuple(\"Q1000ntupleE2\",\"Q1000ntupleE2\",TreeStructure)\n",
      "QntuplesE2=[Q500ntupleE2,Q1000ntupleE2]\n",
      "S600ntupleE2 = ROOT.TNtuple(\"S600ntupleE2\",\"S600ntupleE2\",TreeStructure)\n",
      "S650ntupleE2 = ROOT.TNtuple(\"S650ntupleE2\",\"S650ntupleE2\",TreeStructure)\n",
      "S700ntupleE2 = ROOT.TNtuple(\"S700ntupleE2\",\"S700ntupleE2\",TreeStructure)\n",
      "S750ntupleE2 = ROOT.TNtuple(\"S750ntupleE2\",\"S750ntupleE2\",TreeStructure)\n",
      "S800ntupleE2 = ROOT.TNtuple(\"S800ntupleE2\",\"S800ntupleE2\",TreeStructure)\n",
      "S850ntupleE2 = ROOT.TNtuple(\"S850ntupleE2\",\"S850ntupleE2\",TreeStructure)\n",
      "S900ntupleE2 = ROOT.TNtuple(\"S900ntupleE2\",\"S900ntupleE2\",TreeStructure)\n",
      "S950ntupleE2 = ROOT.TNtuple(\"S950ntupleE2\",\"S950ntupleE2\",TreeStructure)\n",
      "S1000ntupleE2 = ROOT.TNtuple(\"S1000ntupleE2\",\"S1000ntupleE2\",TreeStructure)\n",
      "NMassPointsE2=[S600ntupleE2,S650ntupleE2,S700ntupleE2,S750ntupleE2,S800ntupleE2,S850ntupleE2,S900ntupleE2,S950ntupleE2,S1000ntupleE2]"
     ],
     "language": "python",
     "metadata": {},
     "outputs": []
    },
    {
     "cell_type": "code",
     "collapsed": false,
     "input": [
      "Entries=10000\n",
      "NsignalFiles=9\n",
      "for V in InclusiveVersions:\n",
      "    for f in files:\n",
      "        ff=Base+V+f\n",
      "        CutsChain=ROOT.TChain(\"stp3LNC\")\n",
      "        CutsChain.Add(ff)\n",
      "        entries = CutsChain.GetEntries()\n",
      "        if files.index(f)>=0 and files.index(f)<=NsignalFiles-1: print \"Filling signal...\"\n",
      "        elif files.index(f)>0: print \"Filling bkgs...\"\n",
      "        print \"Entries for file \", f, \" are: \", entries\n",
      "        Entries=entries\n",
      "        for i in xrange(Entries):\n",
      "            CutsChain.GetEntry(i)\n",
      "            HiggsV=ROOT.TLorentzVector(CutsChain.Reconstructed_Higgs3L.X(),CutsChain.Reconstructed_Higgs3L.Y(),CutsChain.Reconstructed_Higgs3L.Z(),CutsChain.Reconstructed_Higgs3L.T())\n",
      "            Higgs1stJV=ROOT.TLorentzVector(CutsChain.First_Higgs_Jet3L.X(),CutsChain.First_Higgs_Jet3L.Y(),CutsChain.First_Higgs_Jet3L.Z(),CutsChain.First_Higgs_Jet3L.T())\n",
      "            Higgs2ndJV=ROOT.TLorentzVector(CutsChain.Second_Higgs_Jet3L.X(),CutsChain.Second_Higgs_Jet3L.Y(),CutsChain.Second_Higgs_Jet3L.Z(),CutsChain.Second_Higgs_Jet3L.T())\n",
      "            J6thV=ROOT.TLorentzVector(CutsChain.Jet6th.X(),CutsChain.Jet6th.Y(),CutsChain.Jet6th.Z(),CutsChain.Jet6th.T())\n",
      "            TprimeV=ROOT.TLorentzVector(CutsChain.Reconstructed_Tprime3L.X(),CutsChain.Reconstructed_Tprime3L.Y(),CutsChain.Reconstructed_Tprime3L.Z(),CutsChain.Reconstructed_Tprime3L.T())\n",
      "            W1V=ROOT.TLorentzVector(CutsChain.Reconstructed_W3L.X(),CutsChain.Reconstructed_W3L.Y(),CutsChain.Reconstructed_W3L.Z(),CutsChain.Reconstructed_W3L.T())\n",
      "            Top2=HiggsV+J6thV\n",
      "            W2=Higgs2ndJV+J6thV\n",
      "            TopJV=ROOT.TLorentzVector(CutsChain.Top_Jet3L.X(),CutsChain.Top_Jet3L.Y(),CutsChain.Top_Jet3L.Z(),CutsChain.Top_Jet3L.T())\n",
      "            #M5J:DRHJ:DRWH:RelHT:M2HP:DRTp6thJ:HM:chi2:MTHAsym\n",
      "            ListOfVariables = [CutsChain.Reconstructed_Tprime3L.M(),\n",
      "                        Higgs1stJV.DeltaR(Higgs2ndJV),\n",
      "                        HiggsV.DeltaR(W1V),\n",
      "                        (CutsChain.Reconstructed_Higgs3L.Pt()+CutsChain.Reconstructed_Top3L.Pt())/CutsChain.THT,\n",
      "                        (Top2.M()+W2.M())/CutsChain.Reconstructed_Higgs3L.M(),\n",
      "                        TprimeV.DeltaR(J6thV),\n",
      "                        CutsChain.Reconstructed_Higgs3L.M(),\n",
      "                        (CutsChain.HiggsChi2+CutsChain.TopChi2),\n",
      "                        (CutsChain.Reconstructed_Top3L.M()-CutsChain.Reconstructed_Higgs3L.M())/(CutsChain.Reconstructed_Top3L.M()+CutsChain.Reconstructed_Higgs3L.M())]\n",
      "            if files.index(f)>=0 and files.index(f)<=NsignalFiles-1:\n",
      "                if InclusiveVersions.index(V)==0: NMassPointsE1[files.index(f)].Fill(array('f',ListOfVariables))\n",
      "                elif InclusiveVersions.index(V)==1: NMassPointsE2[files.index(f)].Fill(array('f',ListOfVariables))\n",
      "            elif files.index(f)==len(files)-3:\n",
      "                if InclusiveVersions.index(V)==0: TntupleE1.Fill(array('f',ListOfVariables))\n",
      "                elif InclusiveVersions.index(V)==1: TntupleE2.Fill(array('f',ListOfVariables))\n",
      "            elif files.index(f)>=len(files)-2:\n",
      "                if InclusiveVersions.index(V)==0: QntuplesE1[files.index(f)-len(files)+1].Fill(array('f',ListOfVariables))\n",
      "                elif InclusiveVersions.index(V)==1: QntuplesE2[files.index(f)-len(files)+1].Fill(array('f',ListOfVariables))"
     ],
     "language": "python",
     "metadata": {},
     "outputs": []
    },
    {
     "cell_type": "heading",
     "level": 2,
     "metadata": {},
     "source": [
      "Declaring DATA files for inclusive validation"
     ]
    },
    {
     "cell_type": "code",
     "collapsed": false,
     "input": [
      "datafiles = [\"Full_Data.root\"]\n",
      "\n",
      "#TreeStructure=\"M5J:DRHJ:DRWH:RelHT:M2HP:DRTp6thJ:HM:chi2:MTHAsym\"\n",
      "\n",
      "#Control Sample CSVL=[0.389,0.679)\n",
      "DataE1 = ROOT.TNtuple(\"DatantupleE1\",\"DatantupleE1\",TreeStructure)\n",
      "\n",
      "#Control Sample CSVL=[0.534,0.679)\n",
      "DataE2 = ROOT.TNtuple(\"DatantupleE2\",\"DatantupleE2\",TreeStructure)"
     ],
     "language": "python",
     "metadata": {},
     "outputs": []
    },
    {
     "cell_type": "code",
     "collapsed": false,
     "input": [
      "for V in InclusiveVersions:\n",
      "    CutsChain=ROOT.TChain(\"stp3LNC\")\n",
      "    CutsChain.Add(Base+V+datafiles[0])\n",
      "    entries = CutsChain.GetEntries()\n",
      "    print \"Entries for file \", datafiles[0], \" are: \", entries\n",
      "    Entries=entries\n",
      "    for i in xrange(Entries):\n",
      "        CutsChain.GetEntry(i)\n",
      "        HiggsV=ROOT.TLorentzVector(CutsChain.Reconstructed_Higgs3L.X(),CutsChain.Reconstructed_Higgs3L.Y(),CutsChain.Reconstructed_Higgs3L.Z(),CutsChain.Reconstructed_Higgs3L.T())\n",
      "        Higgs1stJV=ROOT.TLorentzVector(CutsChain.First_Higgs_Jet3L.X(),CutsChain.First_Higgs_Jet3L.Y(),CutsChain.First_Higgs_Jet3L.Z(),CutsChain.First_Higgs_Jet3L.T())\n",
      "        Higgs2ndJV=ROOT.TLorentzVector(CutsChain.Second_Higgs_Jet3L.X(),CutsChain.Second_Higgs_Jet3L.Y(),CutsChain.Second_Higgs_Jet3L.Z(),CutsChain.Second_Higgs_Jet3L.T())\n",
      "        J6thV=ROOT.TLorentzVector(CutsChain.Jet6th.X(),CutsChain.Jet6th.Y(),CutsChain.Jet6th.Z(),CutsChain.Jet6th.T())\n",
      "        TprimeV=ROOT.TLorentzVector(CutsChain.Reconstructed_Tprime3L.X(),CutsChain.Reconstructed_Tprime3L.Y(),CutsChain.Reconstructed_Tprime3L.Z(),CutsChain.Reconstructed_Tprime3L.T())\n",
      "        W1V=ROOT.TLorentzVector(CutsChain.Reconstructed_W3L.X(),CutsChain.Reconstructed_W3L.Y(),CutsChain.Reconstructed_W3L.Z(),CutsChain.Reconstructed_W3L.T())\n",
      "        Top2=HiggsV+J6thV\n",
      "        W2=Higgs2ndJV+J6thV\n",
      "        TopJV=ROOT.TLorentzVector(CutsChain.Top_Jet3L.X(),CutsChain.Top_Jet3L.Y(),CutsChain.Top_Jet3L.Z(),CutsChain.Top_Jet3L.T())\n",
      "        #M5J:DRHJ:DRWH:RelHT:M2HP:DRTp6thJ:HM:chi2:MTHAsym\n",
      "        ListOfVariables = [CutsChain.Reconstructed_Tprime3L.M(),\n",
      "                        Higgs1stJV.DeltaR(Higgs2ndJV),\n",
      "                        HiggsV.DeltaR(W1V),\n",
      "                        (CutsChain.Reconstructed_Higgs3L.Pt()+CutsChain.Reconstructed_Top3L.Pt())/CutsChain.THT,\n",
      "                        (Top2.M()+W2.M())/CutsChain.Reconstructed_Higgs3L.M(),\n",
      "                        TprimeV.DeltaR(J6thV),\n",
      "                        CutsChain.Reconstructed_Higgs3L.M(),\n",
      "                        (CutsChain.HiggsChi2+CutsChain.TopChi2),\n",
      "                        (CutsChain.Reconstructed_Top3L.M()-CutsChain.Reconstructed_Higgs3L.M())/(CutsChain.Reconstructed_Top3L.M()+CutsChain.Reconstructed_Higgs3L.M())]\n",
      "        if InclusiveVersions.index(V)==0: DataE1.Fill(array('f',ListOfVariables))\n",
      "        elif InclusiveVersions.index(V)==1: DataE2.Fill(array('f',ListOfVariables))"
     ],
     "language": "python",
     "metadata": {},
     "outputs": []
    },
    {
     "cell_type": "heading",
     "level": 3,
     "metadata": {},
     "source": [
      "Saving Ntuples in a numpy array"
     ]
    },
    {
     "cell_type": "code",
     "collapsed": false,
     "input": [
      "#FullMCArray=np.array([[NMassPointsA,TntupleA,QntuplesA],\n",
      "#                      [NMassPointsE,TntupleE,QntuplesE],\n",
      "#                      [NMassPointsE1,TntupleE1,QntuplesE1],\n",
      "#                      [NMassPointsE2,TntupleE2,QntuplesE2]])\n",
      "#FullMCSampleFile=\"FullMC_inclusive_bkg_estm_val_\"+VersionProc+\"_\"+InclusiveVersions[0][:-1]+\"_\"+InclusiveVersions[1][:-1]\n",
      "\n",
      "FullDataArray=np.array([DataA,DataE,DataE1,DataE2])\n",
      "DataSampleFile=\"FullData_inclusive_bkg_estm_val_\"+VersionProc+\"_\"+InclusiveVersions[0][:-1]+\"_\"+InclusiveVersions[1][:-1]\n",
      "\n",
      "#np.save(FullMCSampleFile,FullMCArray)\n",
      "np.save(DataSampleFile,FullDataArray)"
     ],
     "language": "python",
     "metadata": {},
     "outputs": []
    },
    {
     "cell_type": "heading",
     "level": 3,
     "metadata": {},
     "source": [
      "Loading Ntuples in a numpy array (OPTIONAL)"
     ]
    },
    {
     "cell_type": "code",
     "collapsed": false,
     "input": [
      "FullMCSampleFile=\"FullMC_inclusive_bkg_estm_val_\"+VersionProc+\"_\"+InclusiveVersions[0][:-1]+\"_\"+InclusiveVersions[1][:-1]\n",
      "DataSampleFile=\"FullData_inclusive_bkg_estm_val_\"+VersionProc+\"_\"+InclusiveVersions[0][:-1]+\"_\"+InclusiveVersions[1][:-1]\n",
      "SubBKGMCSampleFiles=\"SubBKGMC_inclusive_Version121_Version122_Version123.npy\"\n",
      "                                                                                                                                                                                                                                                                                                                                                                                                                                                                                                                                                                                                                                                                                                                                                                                                                                                                                                                                                                                                                                                                                                                                                                                                                                                                                                                                                                                                                                                                    \n",
      "DataArray=np.load(DataSampleFile+\".npy\")\n",
      "MCArray=np.load(FullMCSampleFile+\".npy\")\n",
      "SubBKGArray=np.load(SubBKGMCSampleFiles)\n",
      "\n",
      "DataA=DataArray[0]; DataE=DataArray[1]; DataE1=DataArray[2]; DataE2=DataArray[3] \n",
      "NMassPointsA=MCArray[0][0]; TntupleA=MCArray[0][1]; QntuplesA=MCArray[0][2]\n",
      "NMassPointsE=MCArray[1][0]; TntupleE=MCArray[1][1]; QntuplesE=MCArray[1][2]\n",
      "NMassPointsE1=MCArray[2][0]; TntupleE1=MCArray[2][1]; QntuplesE1=MCArray[2][2]\n",
      "NMassPointsE2=MCArray[3][0]; TntupleE2=MCArray[3][1]; QntuplesE2=MCArray[3][2]\n",
      "print DataA.GetEntries(), DataE.GetEntries(), DataE1.GetEntries(), DataE2.GetEntries()\n",
      "#print len(NMassPointsA), len(NMassPointsE)\n",
      "print NMassPointsA[2].GetEntries(), TntupleA.GetEntries(), QntuplesA[0].GetEntries()\n",
      "print NMassPointsE[2].GetEntries(), TntupleE.GetEntries(), QntuplesE[0].GetEntries()\n",
      "print NMassPointsE1[2].GetEntries(), TntupleE1.GetEntries(), QntuplesE1[0].GetEntries()\n",
      "print NMassPointsE2[2].GetEntries(), TntupleE2.GetEntries(), QntuplesE2[0].GetEntries()"
     ],
     "language": "python",
     "metadata": {},
     "outputs": []
    }
   ],
   "metadata": {}
  }
 ]
}