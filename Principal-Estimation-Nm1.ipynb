{
 "metadata": {
  "name": ""
 },
 "nbformat": 3,
 "nbformat_minor": 0,
 "worksheets": [
  {
   "cells": [
    {
     "cell_type": "code",
     "collapsed": false,
     "input": [
      "from Generic import *"
     ],
     "language": "python",
     "metadata": {},
     "outputs": [],
     "prompt_number": 2
    },
    {
     "cell_type": "heading",
     "level": 3,
     "metadata": {},
     "source": [
      "Loading Ntuples from numpy arrays"
     ]
    },
    {
     "cell_type": "code",
     "collapsed": false,
     "input": [
      "NominalV=\"V8\"\n",
      "InclusiveV1=\"V9\"\n",
      "InclusiveV2=\"V10\""
     ],
     "language": "python",
     "metadata": {},
     "outputs": [],
     "prompt_number": 3
    },
    {
     "cell_type": "heading",
     "level": 2,
     "metadata": {},
     "source": [
      "To read basic signal and control sample separately from inclusive control samples"
     ]
    },
    {
     "cell_type": "code",
     "collapsed": false,
     "input": [
      "#########################################\n",
      "#Basic Signal and Control samples Arrays#\n",
      "#########################################\n",
      "#Reading DATA minitrees for signal sample\n",
      "\n",
      "DataASampleFile=\"Arrays_V8V9V10/Version8/DataA_2ndTopMass_NCSVM_\"+NominalV\n",
      "DataA=np.load(DataASampleFile+\".npy\")\n",
      "######QCD ESTIM######\n",
      "#DataASampleFile=\"DataA_2ndTopMass_NCSVM_V_QCDEstim\"\n",
      "#DataA=np.load(DataASampleFile+\".npy\")\n",
      "#####################\n",
      "\n",
      "#Reading DATA minitrees for control sample\n",
      "\n",
      "#ControlSampleFileD_1=\"Arrays_V8V9V10/Version8/DataE1_\"+NominalV; CSD_1=np.load(ControlSampleFileD_1+\".npy\")\n",
      "#ControlSampleFileD_2=\"Arrays_V8V9V10/Version8/DataE2_\"+NominalV; CSD_2=np.load(ControlSampleFileD_2+\".npy\")\n",
      "#LisD=ROOT.TList()\n",
      "#LisD.Add(CSD_1[0]); LisD.Add(CSD_2[0])\n",
      "#DataE = ROOT.TTree.MergeTrees(LisD)\n",
      "#DataE.SetName(\"D\"); DataE=np.array([DataE]); del(LisD); del(CSD_1); del(CSD_2)\n",
      "\n",
      "#print DataA[0].GetEntries(), DataE[0].GetEntries()\n",
      "\n",
      "################################\n",
      "#Control Sample one combination#\n",
      "################################\n",
      "DataESampleFile=\"Arrays_V8V9V10/V8_VectorControlSample/DataE_V8_VectorControlSample\"\n",
      "DataE=np.load(DataESampleFile+\".npy\")\n",
      "\n",
      "print DataA[0].GetEntries(), DataE[0].GetEntries()\n",
      "\n",
      "#Reading MC minitrees for signal sample\n",
      "\n",
      "######QCD ESTIM######\n",
      "#SignalSampleFile=\"SignalSample_2ndTopMass_NCSVM_V_QCDEstim\"\n",
      "#####################\n",
      "SignalSampleFile=\"Arrays_V8V9V10/Version8/SignalSample_2ndTopMass_NCSVM_\"+NominalV\n",
      "MCSignalSampleArray=np.load(SignalSampleFile+\".npy\")\n",
      "NMassPointsA=MCSignalSampleArray[0:NsignalFiles]\n",
      "TntupleA=MCSignalSampleArray[NsignalFiles]\n",
      "QntuplesA=MCSignalSampleArray[NsignalFiles+1:NsignalFiles+3]\n",
      "SubBKGArrayA=MCSignalSampleArray[NsignalFiles+3:]\n",
      "del(MCSignalSampleArray)\n",
      "\n",
      "#Reading MC minitrees for control sample\n",
      "\n",
      "#ControlSampleFileS=\"Arrays_V8V9V10/Version8/ControlSample_SignalMassPoints_\"+NominalV\n",
      "#NMassPointsE=np.load(ControlSampleFileS+\".npy\")\n",
      "#\n",
      "#ControlSampleFileQCDHT=\"Arrays_V8V9V10/Version8/ControlSample_QCDHT_\"+NominalV\n",
      "#QntuplesE=np.load(ControlSampleFileQCDHT+\".npy\")\n",
      "#            \n",
      "#ControlSampleFileSubB=\"Arrays_V8V9V10/Version8/ControlSample_SubBKGMC_\"+NominalV\n",
      "#SubBKGArrayE=np.load(ControlSampleFileSubB+\".npy\")\n",
      "#\n",
      "#ControlSampleFileTT=\"Arrays_V8V9V10/Version8/ControlSample_TTJets_DRleq1p2_\"+NominalV\n",
      "#TntupleE=np.load(ControlSampleFileTT+\".npy\"); TntupleE=TntupleE[0]\n",
      "\n",
      "#ControlSampleFileTT_1=\"Arrays_V8V9V10/Version8/ControlSample_TTJets1_\"+NominalV; CSTT_1=np.load(ControlSampleFileTT_1+\".npy\")\n",
      "#ControlSampleFileTT_2=\"Arrays_V8V9V10/Version8/ControlSample_TTJets2_\"+NominalV; CSTT_2=np.load(ControlSampleFileTT_2+\".npy\")\n",
      "#LisTT=ROOT.TList()\n",
      "#LisTT.Add(CSTT_1[0]); LisTT.Add(CSTT_2[0])\n",
      "#TntupleE = ROOT.TTree.MergeTrees(LisTT)\n",
      "#TntupleE.SetName(\"TT\")#; TntupleE=np.array([TntupleE]); del(LisTT); del(CSTT_1); del(CSTT_2)\n",
      "\n",
      "################################\n",
      "#Control Sample one combination#\n",
      "################################\n",
      "ControlSampleFileS=\"Arrays_V8V9V10/V8_VectorControlSample/ControlSample_SignalMassPoints_V8_VectorControlSample\"\n",
      "NMassPointsE=np.load(ControlSampleFileS+\".npy\")\n",
      "\n",
      "ControlSampleFileQCDHT=\"Arrays_V8V9V10/V8_VectorControlSample/ControlSample_QCDHT_V8_VectorControlSample\"\n",
      "QntuplesE=np.load(ControlSampleFileQCDHT+\".npy\")\n",
      "            \n",
      "ControlSampleFileSubB=\"Arrays_V8V9V10/V8_VectorControlSample/ControlSample_SubBKGMC_V8_VectorControlSample\"\n",
      "SubBKGArrayE=np.load(ControlSampleFileSubB+\".npy\")\n",
      "\n",
      "ControlSampleFileTT=\"Arrays_V8V9V10/V8_VectorControlSample/ControlSample_TTJets_V8_VectorControlSample\"\n",
      "TntupleE=np.load(ControlSampleFileTT+\".npy\"); TntupleE=TntupleE[0]\n",
      "\n",
      "print NMassPointsA[2].GetEntries(), TntupleA.GetEntries(), QntuplesA[0].GetEntries()\n",
      "print NMassPointsE[2].GetEntries(), TntupleE.GetEntries(), QntuplesE[0].GetEntries()"
     ],
     "language": "python",
     "metadata": {},
     "outputs": [
      {
       "output_type": "stream",
       "stream": "stdout",
       "text": [
        "75567 879135\n",
        "4675"
       ]
      },
      {
       "output_type": "stream",
       "stream": "stdout",
       "text": [
        " 143984 5522\n",
        "3348 516163 64369\n"
       ]
      }
     ],
     "prompt_number": 4
    },
    {
     "cell_type": "code",
     "collapsed": false,
     "input": [
      "##################################\n",
      "#Inclusive Control samples Arrays#\n",
      "##################################\n",
      "#Reading DATA minitrees for control sample\n",
      "\n",
      "ControlSampleFileD1_1=\"Arrays_V8V9V10/Version9/DataE1_\"+InclusiveV1; CSD1_1=np.load(ControlSampleFileD1_1+\".npy\")\n",
      "ControlSampleFileD1_2=\"Arrays_V8V9V10/Version9/DataE2_\"+InclusiveV1; CSD1_2=np.load(ControlSampleFileD1_2+\".npy\")\n",
      "LisD1=ROOT.TList()\n",
      "LisD1.Add(CSD1_1[0]); LisD1.Add(CSD1_2[0])\n",
      "DataE1 = ROOT.TTree.MergeTrees(LisD1)\n",
      "DataE1.SetName(\"D1\"); DataE1=np.array([DataE1]); del(LisD1); del(CSD1_1); del(CSD1_2)\n",
      "ControlSampleFileD2_1=\"Arrays_V8V9V10/Version10/DataE1_\"+InclusiveV2; CSD2_1=np.load(ControlSampleFileD2_1+\".npy\")\n",
      "ControlSampleFileD2_2=\"Arrays_V8V9V10/Version10/DataE2_\"+InclusiveV2; CSD2_2=np.load(ControlSampleFileD2_2+\".npy\")\n",
      "LisD2=ROOT.TList()\n",
      "LisD2.Add(CSD2_1[0]); LisD2.Add(CSD2_2[0])\n",
      "DataE2 = ROOT.TTree.MergeTrees(LisD2)\n",
      "DataE2.SetName(\"D2\"); DataE2=np.array([DataE2]); del(LisD2); del(CSD2_1); del(CSD2_2)\n",
      "\n",
      "print DataE1[0].GetEntries(), DataE2[0].GetEntries()\n",
      "\n",
      "#Reading MC minitrees for control sample\n",
      "\n",
      "ControlSampleFileS1=\"Arrays_V8V9V10/Version9/ControlSample_SignalMassPoints_\"+InclusiveV1\n",
      "ControlSampleFileS2=\"Arrays_V8V9V10/Version10/ControlSample_SignalMassPoints_\"+InclusiveV2\n",
      "\n",
      "NMassPointsE1=np.load(ControlSampleFileS1+\".npy\")\n",
      "NMassPointsE2=np.load(ControlSampleFileS2+\".npy\")\n",
      "\n",
      "ControlSampleFileQCDHT1=\"Arrays_V8V9V10/Version9/ControlSample_QCDHT_\"+InclusiveV1\n",
      "ControlSampleFileQCDHT2=\"Arrays_V8V9V10/Version10/ControlSample_QCDHT_\"+InclusiveV2\n",
      "\n",
      "QntuplesE1=np.load(ControlSampleFileQCDHT1+\".npy\")\n",
      "QntuplesE2=np.load(ControlSampleFileQCDHT2+\".npy\")\n",
      "\n",
      "ControlSampleFileSubB1=\"Arrays_V8V9V10/Version9/ControlSample_SubBKGMC_\"+InclusiveV1\n",
      "ControlSampleFileSubB2=\"Arrays_V8V9V10/Version10/ControlSample_SubBKGMC_\"+InclusiveV2\n",
      "\n",
      "SubBKGArrayE1=np.load(ControlSampleFileSubB1+\".npy\")\n",
      "SubBKGArrayE2=np.load(ControlSampleFileSubB2+\".npy\")\n",
      "\n",
      "ControlSampleFileTT1=\"Arrays_V8V9V10/Version9/ControlSample_TTJets_DRleq1p2_\"+InclusiveV1\n",
      "TntupleE1=np.load(ControlSampleFileTT1+\".npy\"); TntupleE1=TntupleE1[0]\n",
      "\n",
      "ControlSampleFileTT2=\"Arrays_V8V9V10/Version10/ControlSample_TTJets_DRleq1p2_\"+InclusiveV2\n",
      "TntupleE2=np.load(ControlSampleFileTT2+\".npy\"); TntupleE2=TntupleE2[0]\n",
      "\n",
      "#ControlSampleFileTT1_1=\"Arrays_V8V9V10/Version9/ControlSample_TTJets1_\"+InclusiveV1; CSTT1_1=np.load(ControlSampleFileTT1_1+\".npy\")\n",
      "#ControlSampleFileTT1_2=\"Arrays_V8V9V10/Version9/ControlSample_TTJets2_\"+InclusiveV1; CSTT1_2=np.load(ControlSampleFileTT1_2+\".npy\")\n",
      "#LisTT1=ROOT.TList()\n",
      "#LisTT1.Add(CSTT1_1[0]); LisTT1.Add(CSTT1_2[0])\n",
      "#TntupleE1 = ROOT.TTree.MergeTrees(LisTT1)\n",
      "#TntupleE1.SetName(\"TT1\"); TntupleE1=np.array([TntupleE1]); del(LisTT1); del(CSTT1_1); del(CSTT1_2)\n",
      "#ControlSampleFileTT2_1=\"Arrays_V8V9V10/Version10/ControlSample_TTJets1_\"+InclusiveV2; CSTT2_1=np.load(ControlSampleFileTT2_1+\".npy\")\n",
      "#ControlSampleFileTT2_2=\"Arrays_V8V9V10/Version10/ControlSample_TTJets2_\"+InclusiveV2; CSTT2_2=np.load(ControlSampleFileTT2_2+\".npy\")\n",
      "#LisTT2=ROOT.TList()\n",
      "#LisTT2.Add(CSTT2_1[0]); LisTT2.Add(CSTT2_2[0])\n",
      "#TntupleE2 = ROOT.TTree.MergeTrees(LisTT2)\n",
      "#TntupleE2.SetName(\"TT2\"); TntupleE2=np.array([TntupleE2]); del(LisTT2); del(CSTT2_1); del(CSTT2_2)\n",
      "\n",
      "print NMassPointsE1[2].GetEntries(), TntupleE1.GetEntries(), QntuplesE1[0].GetEntries()\n",
      "print NMassPointsE2[2].GetEntries(), TntupleE2.GetEntries(), QntuplesE2[0].GetEntries()"
     ],
     "language": "python",
     "metadata": {},
     "outputs": [
      {
       "output_type": "stream",
       "stream": "stdout",
       "text": [
        "9423576 2197455\n",
        "92601"
       ]
      },
      {
       "output_type": "stream",
       "stream": "stdout",
       "text": [
        " 1737765 525939\n",
        "31248 520416 126690\n"
       ]
      }
     ],
     "prompt_number": 11
    },
    {
     "cell_type": "heading",
     "level": 2,
     "metadata": {},
     "source": [
      "To Read DATA and MC separately"
     ]
    },
    {
     "cell_type": "code",
     "collapsed": false,
     "input": [
      "###########\n",
      "#DATA ONLY#\n",
      "###########\n",
      "#Reading DATA minitrees for signal sample\n",
      "\n",
      "DataASampleFile=\"Arrays_V8V9V10/Version8/DataA_\"+NominalV\n",
      "DataA=np.load(DataASampleFile+\".npy\")\n",
      "\n",
      "#Reading DATA minitrees for control sample\n",
      "\n",
      "ControlSampleFileD_1=\"Arrays_V8V9V10/Version8/DataE1_\"+NominalV; CSD_1=np.load(ControlSampleFileD_1+\".npy\")\n",
      "ControlSampleFileD_2=\"Arrays_V8V9V10/Version8/DataE2_\"+NominalV; CSD_2=np.load(ControlSampleFileD_2+\".npy\")\n",
      "LisD=ROOT.TList()\n",
      "LisD.Add(CSD_1[0]); LisD.Add(CSD_2[0])\n",
      "DataE = ROOT.TTree.MergeTrees(LisD)\n",
      "DataE.SetName(\"D\"); DataE=np.array([DataE]); del(LisD); del(CSD_1); del(CSD_2)\n",
      "ControlSampleFileD1_1=\"Arrays_V8V9V10/Version9/DataE1_\"+InclusiveV1; CSD1_1=np.load(ControlSampleFileD1_1+\".npy\")\n",
      "ControlSampleFileD1_2=\"Arrays_V8V9V10/Version9/DataE2_\"+InclusiveV1; CSD1_2=np.load(ControlSampleFileD1_2+\".npy\")\n",
      "LisD1=ROOT.TList()\n",
      "LisD1.Add(CSD1_1[0]); LisD1.Add(CSD1_2[0])\n",
      "DataE1 = ROOT.TTree.MergeTrees(LisD1)\n",
      "DataE1.SetName(\"D1\"); DataE1=np.array([DataE1]); del(LisD1); del(CSD1_1); del(CSD1_2)\n",
      "ControlSampleFileD2_1=\"Arrays_V8V9V10/Version10/DataE1_\"+InclusiveV2; CSD2_1=np.load(ControlSampleFileD2_1+\".npy\")\n",
      "ControlSampleFileD2_2=\"Arrays_V8V9V10/Version10/DataE2_\"+InclusiveV2; CSD2_2=np.load(ControlSampleFileD2_2+\".npy\")\n",
      "LisD2=ROOT.TList()\n",
      "LisD2.Add(CSD2_1[0]); LisD2.Add(CSD2_2[0])\n",
      "DataE2 = ROOT.TTree.MergeTrees(LisD2)\n",
      "DataE2.SetName(\"D2\"); DataE2=np.array([DataE2]); del(LisD2); del(CSD2_1); del(CSD2_2)\n",
      "\n",
      "print DataA[0].GetEntries(), DataE[0].GetEntries(), DataE1[0].GetEntries(), DataE2[0].GetEntries()"
     ],
     "language": "python",
     "metadata": {},
     "outputs": [
      {
       "output_type": "stream",
       "stream": "stdout",
       "text": [
        "75567 52060686 9423576 2197455\n"
       ]
      }
     ],
     "prompt_number": 3
    },
    {
     "cell_type": "code",
     "collapsed": false,
     "input": [
      "#########\n",
      "#MC ONLY#\n",
      "#########\n",
      "#Reading MC minitrees for signal sample\n",
      "\n",
      "SignalSampleFile=\"Arrays_V8V9V10/Version8/SignalSample_\"+NominalV\n",
      "MCSignalSampleArray=np.load(SignalSampleFile+\".npy\")\n",
      "NMassPointsA=MCSignalSampleArray[0:NsignalFiles]\n",
      "TntupleA=MCSignalSampleArray[NsignalFiles]\n",
      "QntuplesA=MCSignalSampleArray[NsignalFiles+1:NsignalFiles+3]\n",
      "SubBKGArrayA=MCSignalSampleArray[NsignalFiles+3:]\n",
      "del(MCSignalSampleArray)\n",
      "\n",
      "#Reading MC minitrees for control sample\n",
      "\n",
      "ControlSampleFileS=\"Arrays_V8V9V10/Version8/ControlSample_SignalMassPoints_\"+NominalV\n",
      "ControlSampleFileS1=\"Arrays_V8V9V10/Version9/ControlSample_SignalMassPoints_\"+InclusiveV1\n",
      "ControlSampleFileS2=\"Arrays_V8V9V10/Version10/ControlSample_SignalMassPoints_\"+InclusiveV2\n",
      "\n",
      "NMassPointsE=np.load(ControlSampleFileS+\".npy\")\n",
      "NMassPointsE1=np.load(ControlSampleFileS1+\".npy\")\n",
      "NMassPointsE2=np.load(ControlSampleFileS2+\".npy\")\n",
      "\n",
      "ControlSampleFileQCDHT=\"Arrays_V8V9V10/Version8/ControlSample_QCDHT_\"+NominalV\n",
      "ControlSampleFileQCDHT1=\"Arrays_V8V9V10/Version9/ControlSample_QCDHT_\"+InclusiveV1\n",
      "ControlSampleFileQCDHT2=\"Arrays_V8V9V10/Version10/ControlSample_QCDHT_\"+InclusiveV2\n",
      "\n",
      "QntuplesE=np.load(ControlSampleFileQCDHT+\".npy\")\n",
      "QntuplesE1=np.load(ControlSampleFileQCDHT1+\".npy\")\n",
      "QntuplesE2=np.load(ControlSampleFileQCDHT2+\".npy\")\n",
      "\n",
      "ControlSampleFileSubB=\"Arrays_V8V9V10/Version8/ControlSample_SubBKGMC_\"+NominalV\n",
      "ControlSampleFileSubB1=\"Arrays_V8V9V10/Version9/ControlSample_SubBKGMC_\"+InclusiveV1\n",
      "ControlSampleFileSubB2=\"Arrays_V8V9V10/Version10/ControlSample_SubBKGMC_\"+InclusiveV2\n",
      "\n",
      "SubBKGArrayE=np.load(ControlSampleFileSubB+\".npy\")\n",
      "SubBKGArrayE1=np.load(ControlSampleFileSubB1+\".npy\")\n",
      "SubBKGArrayE2=np.load(ControlSampleFileSubB2+\".npy\")\n",
      "\n",
      "ControlSampleFileTT_1=\"Arrays_V8V9V10/Version8/ControlSample_TTJets1_\"+NominalV; CSTT_1=np.load(ControlSampleFileTT_1+\".npy\")\n",
      "ControlSampleFileTT_2=\"Arrays_V8V9V10/Version8/ControlSample_TTJets2_\"+NominalV; CSTT_2=np.load(ControlSampleFileTT_2+\".npy\")\n",
      "LisTT=ROOT.TList()\n",
      "LisTT.Add(CSTT_1[0]); LisTT.Add(CSTT_2[0])\n",
      "TntupleE = ROOT.TTree.MergeTrees(LisTT)\n",
      "TntupleE.SetName(\"TT\"); TntupleE=np.array([TntupleE]); del(LisTT); del(CSTT_1); del(CSTT_2)\n",
      "ControlSampleFileTT1_1=\"Arrays_V8V9V10/Version9/ControlSample_TTJets1_\"+InclusiveV1; CSTT1_1=np.load(ControlSampleFileTT1_1+\".npy\")\n",
      "ControlSampleFileTT1_2=\"Arrays_V8V9V10/Version9/ControlSample_TTJets2_\"+InclusiveV1; CSTT1_2=np.load(ControlSampleFileTT1_2+\".npy\")\n",
      "LisTT1=ROOT.TList()\n",
      "LisTT1.Add(CSTT1_1[0]); LisTT1.Add(CSTT1_2[0])\n",
      "TntupleE1 = ROOT.TTree.MergeTrees(LisTT1)\n",
      "TntupleE1.SetName(\"TT1\"); TntupleE1=np.array([TntupleE1]); del(LisTT1); del(CSTT1_1); del(CSTT1_2)\n",
      "ControlSampleFileTT2_1=\"Arrays_V8V9V10/Version10/ControlSample_TTJets1_\"+InclusiveV2; CSTT2_1=np.load(ControlSampleFileTT2_1+\".npy\")\n",
      "ControlSampleFileTT2_2=\"Arrays_V8V9V10/Version10/ControlSample_TTJets2_\"+InclusiveV2; CSTT2_2=np.load(ControlSampleFileTT2_2+\".npy\")\n",
      "LisTT2=ROOT.TList()\n",
      "LisTT2.Add(CSTT2_1[0]); LisTT2.Add(CSTT2_2[0])\n",
      "TntupleE2 = ROOT.TTree.MergeTrees(LisTT2)\n",
      "TntupleE2.SetName(\"TT2\"); TntupleE2=np.array([TntupleE2]); del(LisTT2); del(CSTT2_1); del(CSTT2_2)\n",
      "\n",
      "print NMassPointsA[2].GetEntries(), TntupleA.GetEntries(), QntuplesA[0].GetEntries()\n",
      "print NMassPointsE[2].GetEntries(), TntupleE.GetEntries(), QntuplesE[0].GetEntries()\n",
      "print NMassPointsE1[2].GetEntries(), TntupleE1.GetEntries(), QntuplesE1[0].GetEntries()\n",
      "print NMassPointsE2[2].GetEntries(), TntupleE2.GetEntries(), QntuplesE2[0].GetEntries()\n"
     ],
     "language": "python",
     "metadata": {},
     "outputs": [],
     "prompt_number": "*"
    },
    {
     "cell_type": "heading",
     "level": 6,
     "metadata": {},
     "source": [
      "##########\n",
      "#Old Code#\n",
      "##########\n",
      "SignalSampleFile=\"SignalSample\"+VersionProc\n",
      "#ControlSampleFile=\"ControlSample\"+VersionProc \n",
      "MCSignalSampleArray=np.load(SignalSampleFile+\".npy\")\n",
      "#MCControlSampleArray=np.load(ControlSampleFile+\".npy\")\n",
      "\n",
      "ControlSampleFile=\"ControlSample_E_\"+InclusiveVersions[0][:-1]\n",
      "MCControlSampleArray=np.load(ControlSampleFile+\".npy\")\n",
      "ControlSampleFileE1=\"ControlSample_E1_\"+InclusiveVersions[1][:-1]\n",
      "MCControlSampleArrayE1=np.load(ControlSampleFileE1+\".npy\")\n",
      "ControlSampleFileE2=\"ControlSample_E2_\"+InclusiveVersions[2][:-1]\n",
      "MCControlSampleArrayE2=np.load(ControlSampleFileE2+\".npy\")\n",
      "\n",
      "DataASampleFile=\"DataA\"+VersionProc\n",
      "DataAArray=np.load(DataASampleFile+\".npy\")\n",
      "\n",
      "DataE_1SampleFile=\"DataE_1\"+InclusiveVersions[0][:-1]\n",
      "DataE_1Array=np.load(DataE_1SampleFile+\".npy\")\n",
      "DataE_2SampleFile=\"DataE_2\"+InclusiveVersions[0][:-1]\n",
      "DataE_2Array=np.load(DataE_2SampleFile+\".npy\")\n",
      "DataE1SampleFile=\"DataE1\"+InclusiveVersions[1][:-1]\n",
      "DataE1Array=np.load(DataE1SampleFile+\".npy\")\n",
      "DataE2SampleFile=\"DataE2\"+InclusiveVersions[2][:-1]\n",
      "DataE2Array=np.load(DataE2SampleFile+\".npy\")\n",
      "\n",
      "DataA=DataAArray[0]\n",
      "DataE_1=DataE_1Array[0]\n",
      "DataE_2=DataE_2Array[0]\n",
      "LisT=ROOT.TList()\n",
      "LisT.Add(DataE_1)\n",
      "LisT.Add(DataE_2)\n",
      "DataE = ROOT.TTree.MergeTrees(LisT);\n",
      "DataE.SetName(\"FullE\");\n",
      "DataE1=DataE1Array[0]\n",
      "DataE2=DataE2Array[0]\n",
      "\n",
      "NMassPointsA=MCSignalSampleArray[0:NsignalFiles]; TntupleA=MCSignalSampleArray[NsignalFiles]; QntuplesA=MCSignalSampleArray[NsignalFiles+1:]\n",
      "NMassPointsE=MCControlSampleArray[0:NsignalFiles]; TntupleE=MCControlSampleArray[NsignalFiles]; QntuplesE=MCControlSampleArray[NsignalFiles+1:]\n",
      "NMassPointsE1=MCControlSampleArrayE1[0:NsignalFiles]; TntupleE1=MCControlSampleArrayE1[NsignalFiles]; QntuplesE1=MCControlSampleArrayE1[NsignalFiles+1:]\n",
      "NMassPointsE2=MCControlSampleArrayE2[0:NsignalFiles]; TntupleE2=MCControlSampleArrayE2[NsignalFiles]; QntuplesE2=MCControlSampleArrayE2[NsignalFiles+1:]\n",
      "print DataA.GetEntries(), DataE_1.GetEntries(), DataE_2.GetEntries(), DataE1.GetEntries(), DataE2.GetEntries(), DataE.GetEntries()\n",
      "del(DataE_1); del(DataE_2); del(DataE_1Array); del(DataE_2Array)\n",
      "#print len(NMassPointsA), len(NMassPointsE)\n",
      "print NMassPointsA[2].GetEntries(), TntupleA.GetEntries(), QntuplesA[0].GetEntries()\n",
      "print NMassPointsE[2].GetEntries(), TntupleE.GetEntries(), QntuplesE[0].GetEntries()\n",
      "print NMassPointsE1[2].GetEntries(), TntupleE1.GetEntries(), QntuplesE1[0].GetEntries()\n",
      "print NMassPointsE2[2].GetEntries(), TntupleE2.GetEntries(), QntuplesE2[0].GetEntries()"
     ]
    },
    {
     "cell_type": "heading",
     "level": 3,
     "metadata": {},
     "source": [
      "Chi2 optimization on data"
     ]
    },
    {
     "cell_type": "code",
     "collapsed": false,
     "input": [
      "CutsFromCLs=[ROOT.TCut(\"\"),CutDRbb,CutDRWH,CutHM,CutM2HP,CutDRTp6thJ,CutRelHT,CutMTHAsym]\n",
      "\n",
      "Chi2Cut=[\"chi2<\",np.linspace(2,30,15)]\n",
      "Chi2ResultsPerCut=[]\n",
      "PvalueResultsPerCut=[]\n",
      "\n",
      "OptVersion=\"_bkg_estimation_OneComb_\"+NominalV\n",
      "\n",
      "CumulCut=ROOT.TCut(\"\")*CutHT\n",
      "\n",
      "SignalEntriesE=[]; TTbarEntriesE=[]; QCDEntriesE=[]\n",
      "\n",
      "PDFName=\"Nminus1\"+OptVersion+\"_Scan2To30Step2.pdf\"\n",
      "CurCanv = rootnotes.canvas(\"MyPlot\", (600, 800))\n",
      "Titles=[\"Base\", \"DRbb\", \"DRWH\", \"HiggsMass\", \"M2HP\", \"DRTp6thJ\", \"RelHT\", \"MTHAsym\"]\n",
      "\n",
      "BinsLimits=\"(30,550,1100)\"\n",
      "\n",
      "for i in xrange(len(CutsFromCLs)):\n",
      "    CumulCut=CumulCut*CutsFromCLs[i]\n",
      "    Chi2Test=[]\n",
      "    PvalueTest=[]\n",
      "    for j in Chi2Cut[1]:\n",
      "        StepChi2Cut=ROOT.TCut(Chi2Cut[0]+str(j))\n",
      "        EstimOptCut=CumulCut*StepChi2Cut\n",
      "        \n",
      "        DataA[0].Draw(\"M5J >> M5JA_Cut\"+str(i)+\"_\"+str(j)+BinsLimits,EstimOptCut)\n",
      "        M5JDA=ROOT.gDirectory.Get(\"M5JA_Cut\"+str(i)+\"_\"+str(j))\n",
      "        \n",
      "        DataE[0].Draw(\"M5J >> M5JE_Cut\"+str(i)+\"_\"+str(j)+BinsLimits,EstimOptCut)\n",
      "        M5JDE=ROOT.gDirectory.Get(\"M5JE_Cut\"+str(i)+\"_\"+str(j))\n",
      "        \n",
      "        print \"Cut:\", Titles[i]+\"_\"+Chi2Cut[0]+str(j)\n",
      "        print \"Entries in Signal Sample=\", M5JDA.GetEntries()\n",
      "        print \"Entries in Control Sample=\", M5JDE.GetEntries()\n",
      "        print \"--------------------------------\"\n",
      "        \n",
      "        res=ROOT.Double(0.0)\n",
      "        Chi2Test.append(M5JDE.Chi2Test(M5JDA,\"UU CHI2/NDF\"))\n",
      "        PvalueTest.append(M5JDE.Chi2Test(M5JDA,\"UU P\"))\n",
      "        \n",
      "        M5JDE.SetStats(ROOT.kFALSE)\n",
      "        M5JDE.SetLineStyle(7); M5JDA.SetLineStyle(1)\n",
      "        M5JDE.SetLineWidth(2); M5JDA.SetLineWidth(1)\n",
      "        M5JDE.SetLineColor(ROOT.kBlue); M5JDA.SetLineColor(ROOT.kBlack)\n",
      "        M5JDE.Sumw2(); M5JDE.Scale(M5JDA.Integral()/M5JDE.Integral())\n",
      "        M5JDE.SetMaximum(max(M5JDA.GetMaximum(),M5JDE.GetMaximum())*1.05)\n",
      "        M5JDE.SetMinimum(min(M5JDA.GetMinimum(),M5JDE.GetMinimum())*0.95)\n",
      "        LEG=ROOT.TLegend(0.65,0.65,0.9,0.9); LEG.SetTextSize(0.015)\n",
      "        LEG.AddEntry(M5JDA, \"Signal Sample\", \"l\"); LEG.AddEntry(M5JDE, \"Control Sample\", \"l\")\n",
      "        LEG.SetFillColor(0)\n",
      "        MinX=float(BinsLimits.split(\",\")[1])\n",
      "        MaxX=float(BinsLimits.split(\",\")[-1][0:-1])\n",
      "        Nbins=int(BinsLimits.split(\",\")[0][1:])\n",
      "        M5JDE.SetTitle(\";M(5j) GeV/c^{2}\"+\";Events/{0:.1f} \".format((MaxX-MinX)/Nbins)+\"GeV/c^{2}\")\n",
      "        M5JDA.SetTitle(\";M(5j) GeV/c^{2}\"+\";Events/{0:.1f} \".format((MaxX-MinX)/Nbins)+\"GeV/c^{2}\")\n",
      "        M5JDE.GetYaxis().SetTitleOffset(1.65)\n",
      "        M5JDA.GetYaxis().SetTitleOffset(1.65)\n",
      "        M5JDE.Draw(\"E hist\"); M5JDA.Draw(\"E hist same\"); LEG.Draw()\n",
      "\n",
      "        if i==0 and j==Chi2Cut[1][0]: CurCanv.Print(PDFName+\"(\",\"Title:\"+Titles[i]+\"_\"+Chi2Cut[0]+str(j))\n",
      "        #elif i==0 and j!=Chi2Cut[1][0]: CurCanv.Print(PDFName,\"Title:\"+Titles[i]+\"_\"+Chi2Cut[0]+str(j))\n",
      "        #elif i!=0 and j!=Chi2Cut[1][-1]: CurCanv.Print(PDFName,\"Title:\"+Titles[i]+\"_\"+Chi2Cut[0]+str(j))\n",
      "        elif i==(len(CutsFromCLs)-1) and j==Chi2Cut[1][-1]: CurCanv.Print(PDFName+\")\",\"Title:\"+Titles[i]+\"_\"+Chi2Cut[0]+str(j))\n",
      "        else: CurCanv.Print(PDFName,\"Title:\"+Titles[i]+\"_\"+Chi2Cut[0]+str(j))\n",
      "        #if j!=Chi2Cut[1][-1]: CurCanv.Print(PDFName,\"Title:\"+Titles[i]+Chi2Cut[0]+str(j))\n",
      "        #elif (i<=len(CutsFromCLs)-2 and i>0) or (j!=Chi2Cut[1][0] and j!=Chi2Cut[1][-1]): CurCanv.Print(PDFName,\"Title:\"+Titles[i]+Chi2Cut[0]+str(j))\n",
      "        #else: CurCanv.Print(PDFName+\")\",\"Title:\"+Titles[i]+Chi2Cut[0]+str(j))\n",
      "    Chi2ResultsPerCut.append(Chi2Test)\n",
      "    PvalueResultsPerCut.append(PvalueTest)"
     ],
     "language": "python",
     "metadata": {},
     "outputs": [
      {
       "output_type": "stream",
       "stream": "stdout",
       "text": [
        "Cut: Base_chi2<2.0\n",
        "Entries in Signal Sample= 2497.0\n",
        "Entries in Control Sample= 57116.0\n",
        "--------------------------------\n",
        "Cut:"
       ]
      },
      {
       "output_type": "stream",
       "stream": "stdout",
       "text": [
        " Base_chi2<4.0\n",
        "Entries in Signal Sample= 5422.0\n",
        "Entries in Control Sample= 116796.0\n",
        "--------------------------------\n",
        "Cut:"
       ]
      },
      {
       "output_type": "stream",
       "stream": "stdout",
       "text": [
        " Base_chi2<6.0\n",
        "Entries in Signal Sample= 8086.0\n",
        "Entries in Control Sample= 168630.0\n",
        "--------------------------------\n",
        "Cut:"
       ]
      },
      {
       "output_type": "stream",
       "stream": "stdout",
       "text": [
        " Base_chi2<8.0\n",
        "Entries in Signal Sample= 10581.0\n",
        "Entries in Control Sample= 212701.0\n",
        "--------------------------------\n",
        "Cut:"
       ]
      },
      {
       "output_type": "stream",
       "stream": "stdout",
       "text": [
        " Base_chi2<10.0\n",
        "Entries in Signal Sample= 12775.0\n",
        "Entries in Control Sample= 251194.0\n",
        "--------------------------------\n",
        "Cut:"
       ]
      },
      {
       "output_type": "stream",
       "stream": "stdout",
       "text": [
        " Base_chi2<12.0\n",
        "Entries in Signal Sample= 14811.0\n",
        "Entries in Control Sample= 284583.0\n",
        "--------------------------------\n",
        "Cut:"
       ]
      },
      {
       "output_type": "stream",
       "stream": "stdout",
       "text": [
        " Base_chi2<14.0\n",
        "Entries in Signal Sample= 16670.0\n",
        "Entries in Control Sample= 313991.0\n",
        "--------------------------------\n",
        "Cut:"
       ]
      },
      {
       "output_type": "stream",
       "stream": "stdout",
       "text": [
        " Base_chi2<16.0\n",
        "Entries in Signal Sample= 18404.0\n",
        "Entries in Control Sample= 340414.0\n",
        "--------------------------------\n",
        "Cut:"
       ]
      },
      {
       "output_type": "stream",
       "stream": "stdout",
       "text": [
        " Base_chi2<18.0\n",
        "Entries in Signal Sample= 20012.0\n",
        "Entries in Control Sample= 363812.0\n",
        "--------------------------------\n",
        "Cut:"
       ]
      },
      {
       "output_type": "stream",
       "stream": "stdout",
       "text": [
        " Base_chi2<20.0\n",
        "Entries in Signal Sample= 21429.0\n",
        "Entries in Control Sample= 384710.0\n",
        "--------------------------------\n",
        "Cut:"
       ]
      },
      {
       "output_type": "stream",
       "stream": "stdout",
       "text": [
        " Base_chi2<22.0\n",
        "Entries in Signal Sample= 22752.0\n",
        "Entries in Control Sample= 403955.0\n",
        "--------------------------------\n",
        "Cut:"
       ]
      },
      {
       "output_type": "stream",
       "stream": "stdout",
       "text": [
        " Base_chi2<24.0\n",
        "Entries in Signal Sample= 24043.0\n",
        "Entries in Control Sample= 421500.0\n",
        "--------------------------------\n",
        "Cut:"
       ]
      },
      {
       "output_type": "stream",
       "stream": "stdout",
       "text": [
        " Base_chi2<26.0\n",
        "Entries in Signal Sample= 25228.0\n",
        "Entries in Control Sample= 437499.0\n",
        "--------------------------------\n",
        "Cut:"
       ]
      },
      {
       "output_type": "stream",
       "stream": "stdout",
       "text": [
        " Base_chi2<28.0\n",
        "Entries in Signal Sample= 26322.0\n",
        "Entries in Control Sample= 452229.0\n",
        "--------------------------------\n",
        "Cut:"
       ]
      },
      {
       "output_type": "stream",
       "stream": "stdout",
       "text": [
        " Base_chi2<30.0\n",
        "Entries in Signal Sample= 27358.0\n",
        "Entries in Control Sample= 465824.0\n",
        "--------------------------------\n",
        "Cut:"
       ]
      },
      {
       "output_type": "stream",
       "stream": "stdout",
       "text": [
        " DRbb_chi2<2.0\n",
        "Entries in Signal Sample= 860.0\n",
        "Entries in Control Sample= 11385.0\n",
        "--------------------------------\n",
        "Cut:"
       ]
      },
      {
       "output_type": "stream",
       "stream": "stdout",
       "text": [
        " DRbb_chi2<4.0\n",
        "Entries in Signal Sample= 1910.0\n",
        "Entries in Control Sample= 24682.0\n",
        "--------------------------------\n",
        "Cut:"
       ]
      },
      {
       "output_type": "stream",
       "stream": "stdout",
       "text": [
        " DRbb_chi2<6.0\n",
        "Entries in Signal Sample= 2911.0\n",
        "Entries in Control Sample= 37285.0\n",
        "--------------------------------\n",
        "Cut:"
       ]
      },
      {
       "output_type": "stream",
       "stream": "stdout",
       "text": [
        " DRbb_chi2<8.0\n",
        "Entries in Signal Sample= 3874.0\n",
        "Entries in Control Sample= 48513.0\n",
        "--------------------------------\n",
        "Cut:"
       ]
      },
      {
       "output_type": "stream",
       "stream": "stdout",
       "text": [
        " DRbb_chi2<10.0\n",
        "Entries in Signal Sample= 4752.0\n",
        "Entries in Control Sample= 59081.0\n",
        "--------------------------------\n",
        "Cut:"
       ]
      },
      {
       "output_type": "stream",
       "stream": "stdout",
       "text": [
        " DRbb_chi2<12.0\n",
        "Entries in Signal Sample= 5601.0\n",
        "Entries in Control Sample= 68671.0\n",
        "--------------------------------\n",
        "Cut:"
       ]
      },
      {
       "output_type": "stream",
       "stream": "stdout",
       "text": [
        " DRbb_chi2<14.0\n",
        "Entries in Signal Sample= 6374.0\n",
        "Entries in Control Sample= 77507.0\n",
        "--------------------------------\n",
        "Cut:"
       ]
      },
      {
       "output_type": "stream",
       "stream": "stdout",
       "text": [
        " DRbb_chi2<16.0\n",
        "Entries in Signal Sample= 7115.0\n",
        "Entries in Control Sample= 85557.0\n",
        "--------------------------------\n",
        "Cut:"
       ]
      },
      {
       "output_type": "stream",
       "stream": "stdout",
       "text": [
        " DRbb_chi2<18.0\n",
        "Entries in Signal Sample= 7828.0\n",
        "Entries in Control Sample= 92985.0\n",
        "--------------------------------\n",
        "Cut:"
       ]
      },
      {
       "output_type": "stream",
       "stream": "stdout",
       "text": [
        " DRbb_chi2<20.0\n",
        "Entries in Signal Sample= 8468.0\n",
        "Entries in Control Sample= 99739.0\n",
        "--------------------------------\n",
        "Cut:"
       ]
      },
      {
       "output_type": "stream",
       "stream": "stdout",
       "text": [
        " DRbb_chi2<22.0\n",
        "Entries in Signal Sample= 9047.0\n",
        "Entries in Control Sample= 106077.0\n",
        "--------------------------------\n",
        "Cut:"
       ]
      },
      {
       "output_type": "stream",
       "stream": "stdout",
       "text": [
        " DRbb_chi2<24.0\n",
        "Entries in Signal Sample= 9607.0\n",
        "Entries in Control Sample= 112005.0\n",
        "--------------------------------\n",
        "Cut:"
       ]
      },
      {
       "output_type": "stream",
       "stream": "stdout",
       "text": [
        " DRbb_chi2<26.0\n",
        "Entries in Signal Sample= 10124.0\n",
        "Entries in Control Sample= 117445.0\n",
        "--------------------------------\n",
        "Cut:"
       ]
      },
      {
       "output_type": "stream",
       "stream": "stdout",
       "text": [
        " DRbb_chi2<28.0\n",
        "Entries in Signal Sample= 10637.0\n",
        "Entries in Control Sample= 122450.0\n",
        "--------------------------------\n",
        "Cut:"
       ]
      },
      {
       "output_type": "stream",
       "stream": "stdout",
       "text": [
        " DRbb_chi2<30.0\n",
        "Entries in Signal Sample= 11068.0\n",
        "Entries in Control Sample= 127087.0\n",
        "--------------------------------\n",
        "Cut:"
       ]
      },
      {
       "output_type": "stream",
       "stream": "stdout",
       "text": [
        " DRWH_chi2<2.0\n",
        "Entries in Signal Sample= 767.0\n",
        "Entries in Control Sample= 9082.0\n",
        "--------------------------------\n",
        "Cut:"
       ]
      },
      {
       "output_type": "stream",
       "stream": "stdout",
       "text": [
        " DRWH_chi2<4.0\n",
        "Entries in Signal Sample= 1677.0\n",
        "Entries in Control Sample= 19682.0\n",
        "--------------------------------\n",
        "Cut:"
       ]
      },
      {
       "output_type": "stream",
       "stream": "stdout",
       "text": [
        " DRWH_chi2<6.0\n",
        "Entries in Signal Sample= 2551.0\n",
        "Entries in Control Sample= 29774.0\n",
        "--------------------------------\n",
        "Cut:"
       ]
      },
      {
       "output_type": "stream",
       "stream": "stdout",
       "text": [
        " DRWH_chi2<8.0\n",
        "Entries in Signal Sample= 3387.0\n",
        "Entries in Control Sample= 38729.0\n",
        "--------------------------------\n",
        "Cut:"
       ]
      },
      {
       "output_type": "stream",
       "stream": "stdout",
       "text": [
        " DRWH_chi2<10.0\n",
        "Entries in Signal Sample= 4154.0\n",
        "Entries in Control Sample= 47122.0\n",
        "--------------------------------\n",
        "Cut:"
       ]
      },
      {
       "output_type": "stream",
       "stream": "stdout",
       "text": [
        " DRWH_chi2<12.0\n",
        "Entries in Signal Sample= 4898.0\n",
        "Entries in Control Sample= 54766.0\n",
        "--------------------------------\n",
        "Cut:"
       ]
      },
      {
       "output_type": "stream",
       "stream": "stdout",
       "text": [
        " DRWH_chi2<14.0\n",
        "Entries in Signal Sample= 5549.0\n",
        "Entries in Control Sample= 61812.0\n",
        "--------------------------------\n",
        "Cut:"
       ]
      },
      {
       "output_type": "stream",
       "stream": "stdout",
       "text": [
        " DRWH_chi2<16.0\n",
        "Entries in Signal Sample= 6179.0\n",
        "Entries in Control Sample= 68209.0\n",
        "--------------------------------\n",
        "Cut:"
       ]
      },
      {
       "output_type": "stream",
       "stream": "stdout",
       "text": [
        " DRWH_chi2<18.0\n",
        "Entries in Signal Sample= 6802.0\n",
        "Entries in Control Sample= 74077.0\n",
        "--------------------------------\n",
        "Cut:"
       ]
      },
      {
       "output_type": "stream",
       "stream": "stdout",
       "text": [
        " DRWH_chi2<20.0\n",
        "Entries in Signal Sample= 7354.0\n",
        "Entries in Control Sample= 79477.0\n",
        "--------------------------------\n",
        "Cut:"
       ]
      },
      {
       "output_type": "stream",
       "stream": "stdout",
       "text": [
        " DRWH_chi2<22.0\n",
        "Entries in Signal Sample= 7856.0\n",
        "Entries in Control Sample= 84574.0\n",
        "--------------------------------\n",
        "Cut:"
       ]
      },
      {
       "output_type": "stream",
       "stream": "stdout",
       "text": [
        " DRWH_chi2<24.0\n",
        "Entries in Signal Sample= 8331.0\n",
        "Entries in Control Sample= 89333.0\n",
        "--------------------------------\n",
        "Cut:"
       ]
      },
      {
       "output_type": "stream",
       "stream": "stdout",
       "text": [
        " DRWH_chi2<26.0\n",
        "Entries in Signal Sample= 8766.0\n",
        "Entries in Control Sample= 93588.0\n",
        "--------------------------------\n",
        "Cut:"
       ]
      },
      {
       "output_type": "stream",
       "stream": "stdout",
       "text": [
        " DRWH_chi2<28.0\n",
        "Entries in Signal Sample= 9207.0\n",
        "Entries in Control Sample= 97571.0\n",
        "--------------------------------\n",
        "Cut:"
       ]
      },
      {
       "output_type": "stream",
       "stream": "stdout",
       "text": [
        " DRWH_chi2<30.0\n",
        "Entries in Signal Sample= 9585.0\n",
        "Entries in Control Sample= 101211.0\n",
        "--------------------------------\n",
        "Cut:"
       ]
      },
      {
       "output_type": "stream",
       "stream": "stdout",
       "text": [
        " HiggsMass_chi2<2.0\n",
        "Entries in Signal Sample= 767.0\n",
        "Entries in Control Sample= 9082.0\n",
        "--------------------------------\n",
        "Cut:"
       ]
      },
      {
       "output_type": "stream",
       "stream": "stdout",
       "text": [
        " HiggsMass_chi2<4.0\n",
        "Entries in Signal Sample= 1563.0\n",
        "Entries in Control Sample= 18408.0\n",
        "--------------------------------\n",
        "Cut:"
       ]
      },
      {
       "output_type": "stream",
       "stream": "stdout",
       "text": [
        " HiggsMass_chi2<6.0\n",
        "Entries in Signal Sample= 2071.0\n",
        "Entries in Control Sample= 24338.0\n",
        "--------------------------------\n",
        "Cut:"
       ]
      },
      {
       "output_type": "stream",
       "stream": "stdout",
       "text": [
        " HiggsMass_chi2<8.0\n",
        "Entries in Signal Sample= 2456.0\n",
        "Entries in Control Sample= 28166.0\n",
        "--------------------------------\n",
        "Cut:"
       ]
      },
      {
       "output_type": "stream",
       "stream": "stdout",
       "text": [
        " HiggsMass_chi2<10.0\n",
        "Entries in Signal Sample= 2761.0\n",
        "Entries in Control Sample= 31002.0\n",
        "--------------------------------\n",
        "Cut:"
       ]
      },
      {
       "output_type": "stream",
       "stream": "stdout",
       "text": [
        " HiggsMass_chi2<12.0\n",
        "Entries in Signal Sample= 3019.0\n",
        "Entries in Control Sample= 33202.0\n",
        "--------------------------------\n",
        "Cut:"
       ]
      },
      {
       "output_type": "stream",
       "stream": "stdout",
       "text": [
        " HiggsMass_chi2<14.0\n",
        "Entries in Signal Sample= 3205.0\n",
        "Entries in Control Sample= 34961.0\n",
        "--------------------------------\n",
        "Cut:"
       ]
      },
      {
       "output_type": "stream",
       "stream": "stdout",
       "text": [
        " HiggsMass_chi2<16.0\n",
        "Entries in Signal Sample= 3377.0\n",
        "Entries in Control Sample= 36296.0\n",
        "--------------------------------\n",
        "Cut:"
       ]
      },
      {
       "output_type": "stream",
       "stream": "stdout",
       "text": [
        " HiggsMass_chi2<18.0\n",
        "Entries in Signal Sample= 3530.0\n",
        "Entries in Control Sample= 37473.0\n",
        "--------------------------------\n",
        "Cut:"
       ]
      },
      {
       "output_type": "stream",
       "stream": "stdout",
       "text": [
        " HiggsMass_chi2<20.0\n",
        "Entries in Signal Sample= 3680.0\n",
        "Entries in Control Sample= 38398.0\n",
        "--------------------------------\n",
        "Cut:"
       ]
      },
      {
       "output_type": "stream",
       "stream": "stdout",
       "text": [
        " HiggsMass_chi2<22.0\n",
        "Entries in Signal Sample= 3808.0\n",
        "Entries in Control Sample= 39299.0\n",
        "--------------------------------\n",
        "Cut:"
       ]
      },
      {
       "output_type": "stream",
       "stream": "stdout",
       "text": [
        " HiggsMass_chi2<24.0\n",
        "Entries in Signal Sample= 3926.0\n",
        "Entries in Control Sample= 40035.0\n",
        "--------------------------------\n",
        "Cut:"
       ]
      },
      {
       "output_type": "stream",
       "stream": "stdout",
       "text": [
        " HiggsMass_chi2<26.0\n",
        "Entries in Signal Sample= 4018.0\n",
        "Entries in Control Sample= 40715.0\n",
        "--------------------------------\n",
        "Cut:"
       ]
      },
      {
       "output_type": "stream",
       "stream": "stdout",
       "text": [
        " HiggsMass_chi2<28.0\n",
        "Entries in Signal Sample= 4114.0\n",
        "Entries in Control Sample= 41350.0\n",
        "--------------------------------\n",
        "Cut:"
       ]
      },
      {
       "output_type": "stream",
       "stream": "stdout",
       "text": [
        " HiggsMass_chi2<30.0\n",
        "Entries in Signal Sample= 4206.0\n",
        "Entries in Control Sample= 41944.0\n",
        "--------------------------------\n",
        "Cut:"
       ]
      },
      {
       "output_type": "stream",
       "stream": "stdout",
       "text": [
        " M2HP_chi2<2.0\n",
        "Entries in Signal Sample= 283.0\n",
        "Entries in Control Sample= 4402.0\n",
        "--------------------------------\n",
        "Cut:"
       ]
      },
      {
       "output_type": "stream",
       "stream": "stdout",
       "text": [
        " M2HP_chi2<4.0\n",
        "Entries in Signal Sample= 618.0\n",
        "Entries in Control Sample= 9239.0\n",
        "--------------------------------\n",
        "Cut:"
       ]
      },
      {
       "output_type": "stream",
       "stream": "stdout",
       "text": [
        " M2HP_chi2<6.0\n",
        "Entries in Signal Sample= 843.0\n",
        "Entries in Control Sample= 12444.0\n",
        "--------------------------------\n",
        "Cut:"
       ]
      },
      {
       "output_type": "stream",
       "stream": "stdout",
       "text": [
        " M2HP_chi2<8.0\n",
        "Entries in Signal Sample= 1006.0\n",
        "Entries in Control Sample= 14499.0\n",
        "--------------------------------\n",
        "Cut:"
       ]
      },
      {
       "output_type": "stream",
       "stream": "stdout",
       "text": [
        " M2HP_chi2<10.0\n",
        "Entries in Signal Sample= 1157.0\n",
        "Entries in Control Sample= 16062.0\n",
        "--------------------------------\n",
        "Cut:"
       ]
      },
      {
       "output_type": "stream",
       "stream": "stdout",
       "text": [
        " M2HP_chi2<12.0\n",
        "Entries in Signal Sample= 1262.0\n",
        "Entries in Control Sample= 17261.0\n",
        "--------------------------------\n",
        "Cut:"
       ]
      },
      {
       "output_type": "stream",
       "stream": "stdout",
       "text": [
        " M2HP_chi2<14.0\n",
        "Entries in Signal Sample= 1355.0\n",
        "Entries in Control Sample= 18199.0\n",
        "--------------------------------\n",
        "Cut:"
       ]
      },
      {
       "output_type": "stream",
       "stream": "stdout",
       "text": [
        " M2HP_chi2<16.0\n",
        "Entries in Signal Sample= 1434.0\n",
        "Entries in Control Sample= 18913.0\n",
        "--------------------------------\n",
        "Cut:"
       ]
      },
      {
       "output_type": "stream",
       "stream": "stdout",
       "text": [
        " M2HP_chi2<18.0\n",
        "Entries in Signal Sample= 1500.0\n",
        "Entries in Control Sample= 19539.0\n",
        "--------------------------------\n",
        "Cut:"
       ]
      },
      {
       "output_type": "stream",
       "stream": "stdout",
       "text": [
        " M2HP_chi2<20.0\n",
        "Entries in Signal Sample= 1564.0\n",
        "Entries in Control Sample= 20053.0\n",
        "--------------------------------\n",
        "Cut:"
       ]
      },
      {
       "output_type": "stream",
       "stream": "stdout",
       "text": [
        " M2HP_chi2<22.0\n",
        "Entries in Signal Sample= 1623.0\n",
        "Entries in Control Sample= 20544.0\n",
        "--------------------------------\n",
        "Cut:"
       ]
      },
      {
       "output_type": "stream",
       "stream": "stdout",
       "text": [
        " M2HP_chi2<24.0\n",
        "Entries in Signal Sample= 1678.0\n",
        "Entries in Control Sample= 20944.0\n",
        "--------------------------------\n",
        "Cut:"
       ]
      },
      {
       "output_type": "stream",
       "stream": "stdout",
       "text": [
        " M2HP_chi2<26.0\n",
        "Entries in Signal Sample= 1725.0\n",
        "Entries in Control Sample= 21291.0\n",
        "--------------------------------\n",
        "Cut:"
       ]
      },
      {
       "output_type": "stream",
       "stream": "stdout",
       "text": [
        " M2HP_chi2<28.0\n",
        "Entries in Signal Sample= 1778.0\n",
        "Entries in Control Sample= 21621.0\n",
        "--------------------------------\n",
        "Cut:"
       ]
      },
      {
       "output_type": "stream",
       "stream": "stdout",
       "text": [
        " M2HP_chi2<30.0\n",
        "Entries in Signal Sample= 1829.0\n",
        "Entries in Control Sample= 21941.0\n",
        "--------------------------------\n",
        "Cut:"
       ]
      },
      {
       "output_type": "stream",
       "stream": "stdout",
       "text": [
        " DRTp6thJ_chi2<2.0\n",
        "Entries in Signal Sample= 30.0\n",
        "Entries in Control Sample= 386.0\n",
        "--------------------------------\n",
        "Cut:"
       ]
      },
      {
       "output_type": "stream",
       "stream": "stdout",
       "text": [
        " DRTp6thJ_chi2<4.0\n",
        "Entries in Signal Sample= 64.0\n",
        "Entries in Control Sample= 833.0\n",
        "--------------------------------\n",
        "Cut:"
       ]
      },
      {
       "output_type": "stream",
       "stream": "stdout",
       "text": [
        " DRTp6thJ_chi2<6.0\n",
        "Entries in Signal Sample= 86.0\n",
        "Entries in Control Sample= 1158.0\n",
        "--------------------------------\n",
        "Cut:"
       ]
      },
      {
       "output_type": "stream",
       "stream": "stdout",
       "text": [
        " DRTp6thJ_chi2<8.0\n",
        "Entries in Signal Sample= 103.0\n",
        "Entries in Control Sample= 1356.0\n",
        "--------------------------------\n",
        "Cut:"
       ]
      },
      {
       "output_type": "stream",
       "stream": "stdout",
       "text": [
        " DRTp6thJ_chi2<10.0\n",
        "Entries in Signal Sample= 123.0\n",
        "Entries in Control Sample= 1527.0\n",
        "--------------------------------\n",
        "Cut:"
       ]
      },
      {
       "output_type": "stream",
       "stream": "stdout",
       "text": [
        " DRTp6thJ_chi2<12.0\n",
        "Entries in Signal Sample= 136.0\n",
        "Entries in Control Sample= 1671.0\n",
        "--------------------------------\n",
        "Cut:"
       ]
      },
      {
       "output_type": "stream",
       "stream": "stdout",
       "text": [
        " DRTp6thJ_chi2<14.0\n",
        "Entries in Signal Sample= 143.0\n",
        "Entries in Control Sample= 1793.0\n",
        "--------------------------------\n",
        "Cut:"
       ]
      },
      {
       "output_type": "stream",
       "stream": "stdout",
       "text": [
        " DRTp6thJ_chi2<16.0\n",
        "Entries in Signal Sample= 155.0\n",
        "Entries in Control Sample= 1878.0\n",
        "--------------------------------\n",
        "Cut:"
       ]
      },
      {
       "output_type": "stream",
       "stream": "stdout",
       "text": [
        " DRTp6thJ_chi2<18.0\n",
        "Entries in Signal Sample= 161.0\n",
        "Entries in Control Sample= 1946.0\n",
        "--------------------------------\n",
        "Cut:"
       ]
      },
      {
       "output_type": "stream",
       "stream": "stdout",
       "text": [
        " DRTp6thJ_chi2<20.0\n",
        "Entries in Signal Sample= 168.0\n",
        "Entries in Control Sample= 2004.0\n",
        "--------------------------------\n",
        "Cut:"
       ]
      },
      {
       "output_type": "stream",
       "stream": "stdout",
       "text": [
        " DRTp6thJ_chi2<22.0\n",
        "Entries in Signal Sample= 175.0\n",
        "Entries in Control Sample= 2063.0\n",
        "--------------------------------\n",
        "Cut:"
       ]
      },
      {
       "output_type": "stream",
       "stream": "stdout",
       "text": [
        " DRTp6thJ_chi2<24.0\n",
        "Entries in Signal Sample= 187.0\n",
        "Entries in Control Sample= 2117.0\n",
        "--------------------------------\n",
        "Cut:"
       ]
      },
      {
       "output_type": "stream",
       "stream": "stdout",
       "text": [
        " DRTp6thJ_chi2<26.0\n",
        "Entries in Signal Sample= 189.0\n",
        "Entries in Control Sample= 2153.0\n",
        "--------------------------------\n",
        "Cut:"
       ]
      },
      {
       "output_type": "stream",
       "stream": "stdout",
       "text": [
        " DRTp6thJ_chi2<28.0\n",
        "Entries in Signal Sample= 200.0\n",
        "Entries in Control Sample= 2203.0\n",
        "--------------------------------\n",
        "Cut:"
       ]
      },
      {
       "output_type": "stream",
       "stream": "stdout",
       "text": [
        " DRTp6thJ_chi2<30.0\n",
        "Entries in Signal Sample= 202.0\n",
        "Entries in Control Sample= 2248.0\n",
        "--------------------------------\n",
        "Cut:"
       ]
      },
      {
       "output_type": "stream",
       "stream": "stdout",
       "text": [
        " RelHT_chi2<2.0\n",
        "Entries in Signal Sample= 15.0\n",
        "Entries in Control Sample= 120.0\n",
        "--------------------------------\n",
        "Cut:"
       ]
      },
      {
       "output_type": "stream",
       "stream": "stdout",
       "text": [
        " RelHT_chi2<4.0\n",
        "Entries in Signal Sample= 34.0\n",
        "Entries in Control Sample= 280.0\n",
        "--------------------------------\n",
        "Cut:"
       ]
      },
      {
       "output_type": "stream",
       "stream": "stdout",
       "text": [
        " RelHT_chi2<6.0\n",
        "Entries in Signal Sample= 47.0\n",
        "Entries in Control Sample= 408.0\n",
        "--------------------------------\n",
        "Cut:"
       ]
      },
      {
       "output_type": "stream",
       "stream": "stdout",
       "text": [
        " RelHT_chi2<8.0\n",
        "Entries in Signal Sample= 55.0\n",
        "Entries in Control Sample= 484.0\n",
        "--------------------------------\n",
        "Cut:"
       ]
      },
      {
       "output_type": "stream",
       "stream": "stdout",
       "text": [
        " RelHT_chi2<10.0\n",
        "Entries in Signal Sample= 64.0\n",
        "Entries in Control Sample= 565.0\n",
        "--------------------------------\n",
        "Cut:"
       ]
      },
      {
       "output_type": "stream",
       "stream": "stdout",
       "text": [
        " RelHT_chi2<12.0\n",
        "Entries in Signal Sample= 73.0\n",
        "Entries in Control Sample= 632.0\n",
        "--------------------------------\n",
        "Cut:"
       ]
      },
      {
       "output_type": "stream",
       "stream": "stdout",
       "text": [
        " RelHT_chi2<14.0\n",
        "Entries in Signal Sample= 75.0\n",
        "Entries in Control Sample= 697.0\n",
        "--------------------------------\n",
        "Cut:"
       ]
      },
      {
       "output_type": "stream",
       "stream": "stdout",
       "text": [
        " RelHT_chi2<16.0\n",
        "Entries in Signal Sample= 79.0\n",
        "Entries in Control Sample= 734.0\n",
        "--------------------------------\n",
        "Cut:"
       ]
      },
      {
       "output_type": "stream",
       "stream": "stdout",
       "text": [
        " RelHT_chi2<18.0\n",
        "Entries in Signal Sample= 80.0\n",
        "Entries in Control Sample= 765.0\n",
        "--------------------------------\n",
        "Cut:"
       ]
      },
      {
       "output_type": "stream",
       "stream": "stdout",
       "text": [
        " RelHT_chi2<20.0\n",
        "Entries in Signal Sample= 84.0\n",
        "Entries in Control Sample= 797.0\n",
        "--------------------------------\n",
        "Cut:"
       ]
      },
      {
       "output_type": "stream",
       "stream": "stdout",
       "text": [
        " RelHT_chi2<22.0\n",
        "Entries in Signal Sample= 88.0\n",
        "Entries in Control Sample= 829.0\n",
        "--------------------------------\n",
        "Cut:"
       ]
      },
      {
       "output_type": "stream",
       "stream": "stdout",
       "text": [
        " RelHT_chi2<24.0\n",
        "Entries in Signal Sample= 95.0\n",
        "Entries in Control Sample= 848.0\n",
        "--------------------------------\n",
        "Cut:"
       ]
      },
      {
       "output_type": "stream",
       "stream": "stdout",
       "text": [
        " RelHT_chi2<26.0\n",
        "Entries in Signal Sample= 96.0\n",
        "Entries in Control Sample= 871.0\n",
        "--------------------------------\n",
        "Cut:"
       ]
      },
      {
       "output_type": "stream",
       "stream": "stdout",
       "text": [
        " RelHT_chi2<28.0\n",
        "Entries in Signal Sample= 105.0\n",
        "Entries in Control Sample= 900.0\n",
        "--------------------------------\n",
        "Cut:"
       ]
      },
      {
       "output_type": "stream",
       "stream": "stdout",
       "text": [
        " RelHT_chi2<30.0\n",
        "Entries in Signal Sample= 105.0\n",
        "Entries in Control Sample= 917.0\n",
        "--------------------------------\n",
        "Cut:"
       ]
      },
      {
       "output_type": "stream",
       "stream": "stdout",
       "text": [
        " MTHAsym_chi2<2.0\n",
        "Entries in Signal Sample= 15.0\n",
        "Entries in Control Sample= 120.0\n",
        "--------------------------------\n",
        "Cut:"
       ]
      },
      {
       "output_type": "stream",
       "stream": "stdout",
       "text": [
        " MTHAsym_chi2<4.0\n",
        "Entries in Signal Sample= 34.0\n",
        "Entries in Control Sample= 280.0\n",
        "--------------------------------\n",
        "Cut:"
       ]
      },
      {
       "output_type": "stream",
       "stream": "stdout",
       "text": [
        " MTHAsym_chi2<6.0\n",
        "Entries in Signal Sample= 47.0\n",
        "Entries in Control Sample= 408.0\n",
        "--------------------------------\n",
        "Cut:"
       ]
      },
      {
       "output_type": "stream",
       "stream": "stdout",
       "text": [
        " MTHAsym_chi2<8.0\n",
        "Entries in Signal Sample= 55.0\n",
        "Entries in Control Sample= 484.0\n",
        "--------------------------------\n",
        "Cut:"
       ]
      },
      {
       "output_type": "stream",
       "stream": "stdout",
       "text": [
        " MTHAsym_chi2<10.0\n",
        "Entries in Signal Sample= 64.0\n",
        "Entries in Control Sample= 565.0\n",
        "--------------------------------\n",
        "Cut:"
       ]
      },
      {
       "output_type": "stream",
       "stream": "stdout",
       "text": [
        " MTHAsym_chi2<12.0\n",
        "Entries in Signal Sample= 73.0\n",
        "Entries in Control Sample= 632.0\n",
        "--------------------------------\n",
        "Cut:"
       ]
      },
      {
       "output_type": "stream",
       "stream": "stdout",
       "text": [
        " MTHAsym_chi2<14.0\n",
        "Entries in Signal Sample= 75.0\n",
        "Entries in Control Sample= 697.0\n",
        "--------------------------------\n",
        "Cut:"
       ]
      },
      {
       "output_type": "stream",
       "stream": "stdout",
       "text": [
        " MTHAsym_chi2<16.0\n",
        "Entries in Signal Sample= 79.0\n",
        "Entries in Control Sample= 734.0\n",
        "--------------------------------\n",
        "Cut:"
       ]
      },
      {
       "output_type": "stream",
       "stream": "stdout",
       "text": [
        " MTHAsym_chi2<18.0\n",
        "Entries in Signal Sample= 80.0\n",
        "Entries in Control Sample= 765.0\n",
        "--------------------------------\n",
        "Cut:"
       ]
      },
      {
       "output_type": "stream",
       "stream": "stdout",
       "text": [
        " MTHAsym_chi2<20.0\n",
        "Entries in Signal Sample= 84.0\n",
        "Entries in Control Sample= 797.0\n",
        "--------------------------------\n",
        "Cut:"
       ]
      },
      {
       "output_type": "stream",
       "stream": "stdout",
       "text": [
        " MTHAsym_chi2<22.0\n",
        "Entries in Signal Sample= 88.0\n",
        "Entries in Control Sample= 829.0\n",
        "--------------------------------\n",
        "Cut:"
       ]
      },
      {
       "output_type": "stream",
       "stream": "stdout",
       "text": [
        " MTHAsym_chi2<24.0\n",
        "Entries in Signal Sample= 95.0\n",
        "Entries in Control Sample= 848.0\n",
        "--------------------------------\n",
        "Cut:"
       ]
      },
      {
       "output_type": "stream",
       "stream": "stdout",
       "text": [
        " MTHAsym_chi2<26.0\n",
        "Entries in Signal Sample= 96.0\n",
        "Entries in Control Sample= 871.0\n",
        "--------------------------------\n",
        "Cut:"
       ]
      },
      {
       "output_type": "stream",
       "stream": "stdout",
       "text": [
        " MTHAsym_chi2<28.0\n",
        "Entries in Signal Sample= 105.0\n",
        "Entries in Control Sample= 900.0\n",
        "--------------------------------\n",
        "Cut:"
       ]
      },
      {
       "output_type": "stream",
       "stream": "stdout",
       "text": [
        " MTHAsym_chi2<30.0\n",
        "Entries in Signal Sample= 105.0\n",
        "Entries in Control Sample= 917.0\n",
        "--------------------------------\n"
       ]
      }
     ],
     "prompt_number": 4
    },
    {
     "cell_type": "code",
     "collapsed": false,
     "input": [
      "for i in xrange(len(Titles)):\n",
      "    fig, ax = plt.subplots()\n",
      "    ax.plot(Chi2Cut[1], Chi2ResultsPerCut[i], 'kv', markersize=10.0)\n",
      "    ax.set_xlabel(\"$\\chi^{2}$\")\n",
      "    ax.set_ylabel(\"$\\chi^{2}/ndf$\")\n",
      "    ax.xaxis.label.set_fontsize(18)\n",
      "    ax.yaxis.label.set_fontsize(18)\n",
      "    ax.set_xlim(left=Chi2Cut[1][0]*0.95,right=Chi2Cut[1][-1]*1.05)\n",
      "    ax.set_ylim(bottom=min(Chi2ResultsPerCut[i])*0.9,top=max(Chi2ResultsPerCut[i])*1.1)\n",
      "    fig.savefig(\"Arrays_V8V9V10/Chi2_opt_at_\"+Titles[i]+\"_OneCombination_Scan2To30Step2.pdf\")\n",
      "    del(fig); del(ax)\n",
      "    #plt.show()\n",
      "for i in xrange(len(Titles)):\n",
      "    fig, ax = plt.subplots()\n",
      "    ax.plot(Chi2Cut[1], PvalueResultsPerCut[i], 'kv', markersize=10.0)\n",
      "    ax.set_xlabel(\"$\\chi^{2}$\")\n",
      "    ax.set_ylabel(\"p-value\")\n",
      "    ax.xaxis.label.set_fontsize(18)\n",
      "    ax.yaxis.label.set_fontsize(18)\n",
      "    ax.set_yscale('log')\n",
      "    ax.set_xlim(left=Chi2Cut[1][0]*0.95,right=Chi2Cut[1][-1]*1.05)\n",
      "    ax.set_ylim(bottom=min(PvalueResultsPerCut[i])*0.9,top=max(PvalueResultsPerCut[i])*1.1)\n",
      "    fig.savefig(\"Arrays_V8V9V10/Pvalue_opt_at_\"+Titles[i]+\"_OneCombination_Scan2To30Step2.pdf\")\n",
      "    del(fig); del(ax)\n",
      "plt.close('all')"
     ],
     "language": "python",
     "metadata": {},
     "outputs": [],
     "prompt_number": 5
    },
    {
     "cell_type": "code",
     "collapsed": false,
     "input": [
      "print Chi2Cut[1]\n",
      "print Chi2ResultsPerCut\n",
      "print PvalueResultsPerCut"
     ],
     "language": "python",
     "metadata": {},
     "outputs": [
      {
       "output_type": "stream",
       "stream": "stdout",
       "text": [
        "[  2.   4.   6.   8.  10.  12.  14.  16.  18.  20.  22.  24.  26.  28.  30.]\n",
        "[[1.172035533483537, 1.6147114116278665, 1.8169593314920425, 2.1191288336867853, 2.4933644764089453, 2.5404930309375797, 2.6267856925254622, 2.9424513240163273, 2.6626347887929227, 2.4282824812148722, 2.55872135945617, 2.681408757412258, 2.523860611259462, 2.3900781669012363, 2.7318350679096057], [1.396430709231066, 1.2494170177310777, 1.431490341258288, 1.6092738319665834, 1.817062299249718, 1.8846083283036397, 1.7439323697737223, 1.8136007939133307, 1.7418110139245295, 1.5505678830958782, 1.770882703119973, 1.8814493317643084, 1.8900251895811782, 1.7103095453524926, 1.763054712591134], [1.3196399731700656, 1.1331617112818833, 1.3149070510295364, 1.4119574113149478, 1.5688361067126257, 1.6766615376963405, 1.4976039994098045, 1.4471926123832848, 1.3295516977438013, 1.2617413472250196, 1.5796767976015116, 1.6893402660948211, 1.7478595067399822, 1.6790154245755917, 1.7030811351596262], [1.3196399731700656, 1.0685416528832374, 1.216696558130849, 1.251938790021733, 1.2001678746649986, 1.2434750723581915, 1.095913354432475, 1.0170876295765032, 0.9858581039753196, 0.9135712566430954, 0.9818649325785633, 1.0159429892172211, 1.09940284911368, 1.212808012326149, 1.3135526304861467], [1.1866391345509772, 1.2652879979479346, 1.4154085938945369, 1.400747537365424, 1.535048053906524, 1.4121516147879074, 1.2768128559734693, 1.2086883595451625, 1.1686280108855116, 1.2807033096881162, 1.4489185813429135, 1.4652875577000604, 1.5253114115124058, 1.5624501905718147, 1.7057560875741888], [0.7901329362309398, 0.6151232748740989, 0.5960553107371069, 0.685919665257373, 0.8590574107056205, 0.8717563620103108, 0.783338636653402, 0.8051752541820171, 0.7613321579468473, 0.7671628577941978, 0.8328461197837326, 0.6596756512710141, 0.6539825871158771, 0.6389181498343364, 0.6921903554989867], [0.6849128219663934, 0.6963439272338534, 0.6802428074109174, 0.9117089768270378, 0.9857338436194139, 1.0150790087170305, 0.9628466805371226, 0.936774783389716, 0.920521350843395, 0.9583017728716432, 0.9950852659323672, 0.7764946376011088, 0.8562033604866042, 0.8793321474251374, 0.8913048383984248], [0.6849128219663934, 0.6963439272338534, 0.6802428074109174, 0.9117089768270378, 0.9857338436194139, 1.0150790087170305, 0.9628466805371226, 0.936774783389716, 0.920521350843395, 0.9583017728716432, 0.9950852659323672, 0.7764946376011088, 0.8562033604866042, 0.8793321474251374, 0.8913048383984248]]\n",
        "[[0.2396619214661224, 0.019386200733221354, 0.004559554276568816, 0.00040577128953037025, 1.4561967664155382e-05, 9.375237012514183e-06, 4.141048008111604e-06, 1.8711815720235756e-07, 2.9373917376706744e-06, 2.6556483131046967e-05, 7.898046325518669e-06, 2.4516795054504875e-06, 1.0956857994417611e-05, 3.763506858946231e-05, 1.5042667069645212e-06], [0.0761407411880182, 0.16687224273862492, 0.062067860161656135, 0.02011070315938496, 0.004556020911505611, 0.00271874722698022, 0.007827199788612299, 0.004676224093213558, 0.007948744174156808, 0.029645466170044033, 0.006426339721728517, 0.002786130921651808, 0.0026067765165802043, 0.009972724650895085, 0.006807034354944938], [0.11645808508385327, 0.2833526936347261, 0.11942223750526222, 0.06960643996861443, 0.026315537221953192, 0.01265385857071867, 0.041522663406278776, 0.056525320081955384, 0.11044184516400418, 0.1569907806284525, 0.024502153896857802, 0.0115739672278774, 0.00760674182460543, 0.012446614119703018, 0.010499994168114814], [0.11645808508385327, 0.3660040341911728, 0.1953588133906271, 0.16481311887135947, 0.21101885385644628, 0.17180040468998234, 0.32954614548186467, 0.43949254732169907, 0.4865684546757094, 0.5990079764488382, 0.49268702068444536, 0.44119002435106136, 0.3250464212273697, 0.19896557579656943, 0.12028149852751814], [0.22447971100024347, 0.15423128826581967, 0.06822048470611106, 0.07427409277672972, 0.032765122605183314, 0.06952782020100187, 0.14552024844451125, 0.20283858194968749, 0.24330177006007347, 0.14266706860020387, 0.055942940385052965, 0.050672592112010424, 0.03486837423782898, 0.02743933478280579, 0.010301939530446839], [0.7755312337631772, 0.947495560601, 0.9575573748660072, 0.8962626314986275, 0.6827715001272407, 0.6635909455815843, 0.7893403317308688, 0.7602836236323881, 0.8169190589185412, 0.8097894179905074, 0.7213751022134527, 0.9178930502757392, 0.9221696125001543, 0.9327794466752042, 0.8906269788684641], [0.8925681627999842, 0.8867951092033673, 0.9012092183783258, 0.6019141075713632, 0.4867585637009919, 0.4424728507205065, 0.5220568525988665, 0.5627240233342519, 0.5881502445228793, 0.529121011808234, 0.47250743320546007, 0.7981097581193379, 0.6870436817041339, 0.6520299673549013, 0.6336107481110272], [0.8925681627999842, 0.8867951092033673, 0.9012092183783258, 0.6019141075713632, 0.4867585637009919, 0.4424728507205065, 0.5220568525988665, 0.5627240233342519, 0.5881502445228793, 0.529121011808234, 0.47250743320546007, 0.7981097581193379, 0.6870436817041339, 0.6520299673549013, 0.6336107481110272]]\n"
       ]
      }
     ],
     "prompt_number": 6
    },
    {
     "cell_type": "heading",
     "level": 3,
     "metadata": {},
     "source": [
      "Calculating yields from MC after chi2 optimization"
     ]
    },
    {
     "cell_type": "code",
     "collapsed": false,
     "input": [
      "Cut1=ROOT.TCut(\"chi2<8\")\n",
      "CutFCLs=CutHT*Cut1*CutDRbb*CutDRWH*CutHM*CutM2HP*CutDRTp6thJ*CutRelHT\n",
      "\n",
      "Masses=[600,650,700,750,800,850,900,950,1000]\n",
      "FitWindows=[100,100,150,150,150,150,150,150,150]\n",
      "MassPointsFit=[]; MassPointsSigmas=[]\n",
      "MassPointsChi2=[]; MassPointsNDF=[]\n",
      "MassPointsIntSignal=[]; MassPointsTTbar=[]; MassPointsQCD=[]; MassPointsE=[]; MassPointsO=[]\n",
      "MassPointsFullIntSignal=[]\n",
      "SignalH=[]\n",
      "\n",
      "BinsLimits=\"(40,400,1600)\"\n",
      "\n",
      "BKGmTTbar = ROOT.TFile(\"Final_Measurement.root\", \"recreate\")\n",
      "\n",
      "counter=0\n",
      "for i in xrange(len(Masses)):\n",
      "    print \"---------------------------------------------\"\n",
      "    NMassPointsA[i].Draw(\"M5J >> M5jS\"+str(Masses[i])+\"_CutF\"+BinsLimits,CutFCLs)\n",
      "    M5JHS=ROOT.gDirectory.Get(\"M5jS\"+str(Masses[i])+\"_CutF\")\n",
      "    M5JHS.Sumw2(); M5JHS.Scale(NWeights[i]); M5JHS.Write()\n",
      "    SignalH.append(M5JHS)\n",
      "    \n",
      "    f1=ROOT.TF1(\"f1\",\"gaus\",Masses[i]-FitWindows[i],Masses[i]+FitWindows[i])\n",
      "    M5JHS.Fit(\"f1\",\"LMR\",\"same\")\n",
      "    MassPoint=f1.GetParameter(1); win=f1.GetParameter(2)\n",
      "    MassPointE=f1.GetParError(1); winE=f1.GetParError(2)\n",
      "    Chi2=f1.GetChisquare(); NDF=f1.GetNDF()\n",
      "    window_error=ROOT.Double(0.)\n",
      "    integral=M5JHS.IntegralAndError(M5JHS.GetXaxis().FindBin(MassPoint-win),M5JHS.GetXaxis().FindBin(MassPoint+win),window_error)\n",
      "    print \"M=\"+str(Masses[i])+\" GeV ------> {0:.2f}+-{1:.2f}\".format(integral,window_error)\n",
      "    print \"Mean value: {0:.2f}+-{1:.2f}, with sigma: {2:.2f}+-{3:.2f}\".format(MassPoint,MassPointE,win,winE)\n",
      "    print \"Chi2={0:.2f}, ndf={1:.2f}, Chi2/ndf={2:.2f}\".format(Chi2, NDF, Chi2/NDF)\n",
      "    MassPointsIntSignal.append(integral); MassPointsFit.append(MassPoint); MassPointsSigmas.append(win); MassPointsChi2.append(Chi2); MassPointsNDF.append(NDF)\n",
      "    MassPointsFullIntSignal.append(M5JHS.Integral())\n",
      "    \n",
      "TntupleA.Draw(\"M5J >> M5jT_CutFCLs\"+str(i)+BinsLimits,CutFCLs)\n",
      "M5JHT=ROOT.gDirectory.Get(\"M5jT_CutFCLs\"+str(i))\n",
      "M5JHT.Sumw2(); M5JHT.Scale(TWeight); M5JHT.Write()\n",
      "\n",
      "TTbarYields=[]\n",
      "for i in xrange(len(MassPointsFit)):\n",
      "    bkg_integral=M5JHT.IntegralAndError(M5JHT.GetXaxis().FindBin(MassPointsFit[i]-MassPointsSigmas[i]),M5JHT.GetXaxis().FindBin(MassPointsFit[i]+MassPointsSigmas[i]),window_error)\n",
      "    TTbarYields.append(bkg_integral)\n",
      "    print \"TTbar at \"+str(Masses[i])+\" ------> {0:.2f}+-{1:.2f}\".format(bkg_integral,window_error)\n",
      "    MassPointsTTbar.append(bkg_integral)\n",
      "\n",
      "QntuplesA[0].Draw(\"M5J >> M5jQ_CutFCLs\"+str(i)+BinsLimits,CutFCLs)\n",
      "M5JHQ=ROOT.gDirectory.Get(\"M5jQ_CutFCLs\"+str(i))\n",
      "M5JHQ.Sumw2(); M5JHQ.Scale(QWeights[0]); M5JHQ.Write()\n",
      "for i in xrange(len(MassPointsFit)):\n",
      "    bkg_integral=M5JHQ.IntegralAndError(M5JHQ.GetXaxis().FindBin(MassPointsFit[i]-MassPointsSigmas[i]),M5JHQ.GetXaxis().FindBin(MassPointsFit[i]+MassPointsSigmas[i]),window_error)\n",
      "    MassPointsQCD.append(bkg_integral)\n",
      "    print \"QCD at \"+str(Masses[i])+\" ------> {0:.2f}+-{1:.2f}\".format(bkg_integral,window_error)\n",
      "    \n",
      "DataE[0].Draw(\"M5J >> M5jE_CutFCLs\"+str(i)+BinsLimits,CutFCLs)\n",
      "M5JE=ROOT.gDirectory.Get(\"M5jE_CutFCLs\"+str(i))\n",
      "DataA[0].Draw(\"M5J >> M5jO_CutFCLs\"+str(i)+BinsLimits,CutFCLs)\n",
      "M5JO=ROOT.gDirectory.Get(\"M5jO_CutFCLs\"+str(i))\n",
      "\n",
      "#Rescaling to integral\n",
      "#M5JE.Sumw2(); M5JE.Scale(M5JO.Integral()/M5JE.Integral()); M5JE.Write(); M5JO.Write()\n",
      "#Rescaling to normalization with side-band method\n",
      "M5JE.Sumw2(); M5JE.Scale(49.98/M5JE.Integral()); M5JE.Write(); M5JO.Write()\n",
      "\n",
      "for i in xrange(len(MassPointsFit)):\n",
      "    bkg_integral=M5JE.IntegralAndError(M5JE.GetXaxis().FindBin(MassPointsFit[i]-MassPointsSigmas[i]),M5JE.GetXaxis().FindBin(MassPointsFit[i]+MassPointsSigmas[i]),window_error)\n",
      "    MassPointsE.append(bkg_integral)\n",
      "    print \"Estimation at \"+str(Masses[i])+\" ------> {0:.2f}+-{1:.2f}; TTbar content: {2:.2f}\".format(bkg_integral,window_error,TTbarYields[i]*100/bkg_integral)\n",
      "for i in xrange(len(MassPointsFit)):\n",
      "    bkg_integral=M5JO.IntegralAndError(M5JO.GetXaxis().FindBin(MassPointsFit[i]-MassPointsSigmas[i]),M5JO.GetXaxis().FindBin(MassPointsFit[i]+MassPointsSigmas[i]),window_error)\n",
      "    MassPointsO.append(bkg_integral)\n",
      "    print \"Observed at \"+str(Masses[i])+\" ------> {0:.2f}+-{1:.2f}\".format(bkg_integral,window_error)\n",
      "\n",
      "TotalObsEvts=M5JO.Integral()\n",
      "print \"From {0:.2f} total observed events\".format(TotalObsEvts)\n",
      "for i in xrange(len(MassPointsIntSignal)):\n",
      "    print \"Contamination from \"+str(Masses[i])+\" ------> {0:.2f}\".format(MassPointsFullIntSignal[i]/TotalObsEvts)\n",
      "\n",
      "Subs1=M5JE.Clone(\"M5jE_CutFCLs_TTbarSubs\")\n",
      "Subs2=M5JO.Clone(\"M5jO_CutFCLs_BKGSubs\")\n",
      "Subs1.Add(M5JHT,-1)\n",
      "Subs2.Add(M5JE,-1)\n",
      "Subs1.Write(); Subs2.Write()\n",
      "\n",
      "PDFNameScan=\"Final_Plot.pdf\"\n",
      "CurCanv = rootnotes.canvas(\"MyPlot\", (600, 800))\n",
      "Subs2.SetLineStyle(1); SignalH[1].SetLineStyle(9); SignalH[5].SetLineStyle(2)\n",
      "Subs2.SetLineWidth(1); SignalH[1].SetLineWidth(2); SignalH[5].SetLineWidth(3)\n",
      "Subs2.SetLineColor(ROOT.kBlack); SignalH[1].SetLineColor(ROOT.kRed); SignalH[5].SetLineColor(ROOT.kGreen+2)\n",
      "Subs2.SetMarkerStyle(20)\n",
      "LEG=ROOT.TLegend(0.6,0.6,0.8,0.8)\n",
      "LEG.AddEntry(Subs2, \"Data-BKG\", \"pe\"); LEG.AddEntry(SignalH[1], \"Signal M=650 GeV/c^{2}\", \"l\"); LEG.AddEntry(SignalH[5], \"Signal M=850 GeV/c^{2}\", \"l\")\n",
      "LEG.SetFillColor(0)\n",
      "Subs2.SetStats(ROOT.kFALSE)\n",
      "MinX=float(BinsLimits.split(\",\")[1])\n",
      "MaxX=float(BinsLimits.split(\",\")[-1][0:-1])\n",
      "Nbins=int(BinsLimits.split(\",\")[0][1:])\n",
      "Subs2.SetTitle(\";M_{{5j}};Events/{0:.1f} GeV/c^{{2}}\".format((MaxX-MinX)/Nbins))\n",
      "Subs2.GetYaxis().SetTitleOffset(1.5)\n",
      "Subs2.Draw(\"E0X0\"); SignalH[1].Draw(\"hist same\"); SignalH[5].Draw(\"hist same\")\n",
      "CurCanv.Print(PDFNameScan+\")\",\"Title: Final Plot\")\n",
      "\n",
      "BKGmTTbar.Close()"
     ],
     "language": "python",
     "metadata": {},
     "outputs": [
      {
       "output_type": "stream",
       "stream": "stdout",
       "text": [
        "---------------------------------------------\n",
        "M=600 GeV ------> 4.84+-0.36\n",
        "Mean value: 604.24+-13.78, with sigma: 33.04+-10.12\n",
        "Chi2=4.93, ndf=4.00, Chi2/ndf=1.23\n",
        "---------------------------------------------\n",
        "M=650 GeV ------> 8.29+-0.42\n",
        "Mean value: 644.79+-12.04, with sigma: 35.61+-9.09\n",
        "Chi2=6.82, ndf=4.00, Chi2/ndf=1.71\n",
        "---------------------------------------------\n",
        "M=700 GeV ------> 8.49+-0.39\n",
        "Mean value: 692.83+-13.38, with sigma: 42.07+-9.59\n",
        "Chi2=8.04, ndf=7.00, Chi2/ndf=1.15\n",
        "---------------------------------------------\n",
        "M=750 GeV ------> 7.88+-0.34\n",
        "Mean value: 735.37+-14.75, with sigma: 44.87+-10.87\n",
        "Chi2=13.72, ndf=7.00, Chi2/ndf=1.96\n",
        "---------------------------------------------\n",
        "M=800 GeV ------> 6.76+-0.29\n",
        "Mean value: 783.70+-16.93, with sigma: 48.72+-12.55\n",
        "Chi2=24.59, ndf=7.00, Chi2/ndf=3.51\n",
        "---------------------------------------------\n",
        "M=850 GeV ------> 6.90+-0.27\n",
        "Mean value: 834.17+-16.96, with sigma: 46.51+-12.48\n",
        "Chi2=19.46, ndf=7.00, Chi2/ndf=2.78\n",
        "---------------------------------------------\n",
        "M=900 GeV ------> 5.16+-0.21\n",
        "Mean value: 880.72+-18.30, with sigma: 45.24+-13.61\n",
        "Chi2=13.25, ndf=7.00, Chi2/ndf=1.89\n",
        "---------------------------------------------\n",
        "M=950 GeV ------> 4.12+-0.18\n",
        "Mean value: 929.20+-24.38, with sigma: 52.46+-18.61\n",
        "Chi2=12.27, ndf=7.00, Chi2/ndf=1.75\n",
        "---------------------------------------------\n",
        "M=1000 GeV ------> 2.46+-0.13\n",
        "Mean value: 971.35+-30.04, with sigma: 52.06+-23.24\n",
        "Chi2=10.78, ndf=7.00, Chi2/ndf=1.54\n",
        "TTbar at 600 ------> 4.73+-0.61"
       ]
      },
      {
       "output_type": "stream",
       "stream": "stdout",
       "text": [
        "\n",
        "TTbar at 650 ------> 6.93+-0.74\n",
        "TTbar at 700 ------> 7.33+-0.76\n",
        "TTbar at 750 ------> 7.80+-0.78\n",
        "TTbar at 800 ------> 6.22+-0.70\n",
        "TTbar at 850 ------> 5.36+-0.65\n",
        "TTbar at 900 ------> 2.99+-0.49\n",
        "TTbar at 950 ------> 1.97+-0.39\n",
        "TTbar at 1000 ------> 1.18+-0.31\n",
        "QCD at 600 ------> 0.00+-0.00\n",
        "QCD at 650 ------> 0.00+-0.00\n",
        "QCD at 700 ------> 0.00+-0.00\n",
        "QCD at 750 ------> 0.00+-0.00\n",
        "QCD at 800 ------> 0.00+-0.00\n",
        "QCD at 850 ------> 0.00+-0.00\n",
        "QCD at 900 ------> 0.00+-0.00\n",
        "QCD at 950 ------> 0.00+-0.00\n",
        "QCD at 1000 ------> 0.00+-0.00\n",
        "Estimation at 600 ------> 11.36+-1.08; TTbar content: 41.61"
       ]
      },
      {
       "output_type": "stream",
       "stream": "stdout",
       "text": [
        "\n",
        "Estimation at 650 ------> 15.59+-1.27; TTbar content: 44.45\n",
        "Estimation at 700 ------> 13.11+-1.16; TTbar content: 55.86\n",
        "Estimation at 750 ------> 12.29+-1.13; TTbar content: 63.46\n",
        "Estimation at 800 ------> 8.57+-0.94; TTbar content: 72.60\n",
        "Estimation at 850 ------> 10.64+-1.05; TTbar content: 50.36\n",
        "Estimation at 900 ------> 7.13+-0.86; TTbar content: 42.01\n",
        "Estimation at 950 ------> 8.05+-0.91; TTbar content: 24.45\n",
        "Estimation at 1000 ------> 4.85+-0.71; TTbar content: 24.34\n",
        "Observed at 600 ------> 15.00+-3.87\n",
        "Observed at 650 ------> 22.00+-4.69\n",
        "Observed at 700 ------> 22.00+-4.69\n",
        "Observed at 750 ------> 17.00+-4.12\n",
        "Observed at 800 ------> 6.00+-2.45\n",
        "Observed at 850 ------> 4.00+-2.00\n",
        "Observed at 900 ------> 7.00+-2.65\n",
        "Observed at 950 ------> 8.00+-2.83\n",
        "Observed at 1000 ------> 6.00+-2.45\n",
        "From 55.00 total observed events\n",
        "Contamination from 600 ------> 0.11\n",
        "Contamination from 650 ------> 0.17\n",
        "Contamination from 700 ------> 0.18\n",
        "Contamination from 750 ------> 0.17\n",
        "Contamination from 800 ------> 0.15\n",
        "Contamination from 850 ------> 0.14\n",
        "Contamination from 900 ------> 0.12\n",
        "Contamination from 950 ------> 0.09\n",
        "Contamination from 1000 ------> 0.06\n"
       ]
      }
     ],
     "prompt_number": 7
    },
    {
     "cell_type": "code",
     "collapsed": false,
     "input": [
      "CutsFromOpt=[ROOT.TCut(\"\"),Cut1,CutDRbb,CutDRWH,CutM2HP,CutDRTp6thJ,CutHM,CutRelHT,CutMTHAsym]\n",
      "#OptVersion=\"_22_opt_with_optchi2\"\n",
      "OptVersion=\"_optchi2_Chi2l8_Cut_6p8_4p8_0p6\"\n",
      "\n",
      "CumulCut=ROOT.TCut(\"\")*CutHT\n",
      "\n",
      "VarToExt=\"M5J\"\n",
      "\n",
      "Nm1 = ROOT.TFile(VarToExt+\"_Nminus1\"+OptVersion+\".root\", \"recreate\")\n",
      "\n",
      "SignalEntriesE=[]; TTbarEntriesE=[]; QCDEntriesE=[]\n",
      "\n",
      "PDFName=VarToExt+\"_Nminus1\"+OptVersion+\".pdf\"\n",
      "CurCanv = rootnotes.canvas(\"MyPlot\", (600, 800))\n",
      "Titles=[\"Base\",\"chi2\", \"DRbb\", \"DRWH\", \"M2HP\", \"DRTp6thJ\", \"HiggsMass\", \"RelHT\", \"MTHAsym\"]\n",
      "\n",
      "BinsLimits=\"(120,400,1600)\" #M5J\n",
      "#BinsLimits=\"(100,0,1000)\" #chi2\n",
      "\n",
      "for i in xrange(len(CutsFromOpt)):\n",
      "    CumulCut=CumulCut*CutsFromOpt[i]\n",
      "    \n",
      "    NMassPointsA[2].Draw(VarToExt+\" >> M5jS_Cut\"+str(i)+BinsLimits,CumulCut)\n",
      "    M5JHS=ROOT.gDirectory.Get(\"M5jS_Cut\"+str(i))\n",
      "    M5JHS.Sumw2(); M5JHS.Scale(NWeights[2]); M5JHS.Write()\n",
      "    \n",
      "    TntupleA.Draw(VarToExt+\" >> M5jT_Cut\"+str(i)+BinsLimits,CumulCut)\n",
      "    M5JHT=ROOT.gDirectory.Get(\"M5jT_Cut\"+str(i))\n",
      "    M5JHT.Sumw2(); M5JHT.Scale(TWeight); M5JHT.Write()\n",
      "    \n",
      "    QntuplesA[0].Draw(VarToExt+\" >> M5jQ_Cut\"+str(i)+BinsLimits,CumulCut)\n",
      "    M5JHQ=ROOT.gDirectory.Get(\"M5jQ_Cut\"+str(i))\n",
      "    M5JHQ.Sumw2(); M5JHQ.Scale(QWeights[0]); M5JHQ.Write()\n",
      "        \n",
      "    M5JHQ.SetStats(ROOT.kFALSE)\n",
      "    M5JHQ.SetLineStyle(7); M5JHT.SetLineStyle(9); M5JHS.SetLineStyle(1)\n",
      "    M5JHQ.SetLineWidth(2); M5JHT.SetLineWidth(1); M5JHS.SetLineWidth(3)\n",
      "    M5JHQ.SetLineColor(ROOT.kViolet+1); M5JHT.SetLineColor(ROOT.kRed); M5JHS.SetLineColor(ROOT.kGreen+1)\n",
      "    LEG=ROOT.TLegend(0.6,0.6,0.8,0.8)\n",
      "    LEG.AddEntry(M5JHQ, \"QCD\", \"l\"); LEG.AddEntry(M5JHT, \"TTbar\", \"l\"); LEG.AddEntry(M5JHS, \"Signal\", \"l\")\n",
      "    LEG.SetFillColor(0)\n",
      "    Maxima=[M5JHQ.GetMaximum(),M5JHT.GetMaximum(),M5JHS.GetMaximum()]\n",
      "    M5JHQ.SetMaximum(max(Maxima))\n",
      "    M5JHQ.Draw(\"hist\"); M5JHT.Draw(\"hist same\"); M5JHS.Draw(\"hist same\"); LEG.Draw()\n",
      "    \n",
      "    if i==0: CurCanv.Print(PDFName+\"(\",\"Title:\"+Titles[i])\n",
      "    elif i<=len(CutsFromOpt)-2 and i>0: CurCanv.Print(PDFName,\"Title:\"+Titles[i])\n",
      "    else: CurCanv.Print(PDFName+\")\",\"Title:\"+Titles[i])\n",
      "    \n",
      "    SignalEntriesE.append(M5JHS.GetEntries()); TTbarEntriesE.append(M5JHT.GetEntries()); QCDEntriesE.append(M5JHQ.GetEntries())\n",
      "\n",
      "Nm1.Close()\n",
      "\n",
      "print \"--------------------------------------------------\"\n",
      "print \"------------------Efficiencies--------------------\"\n",
      "print \"--------Signal------TTbar-------QCD---------------\"\n",
      "    \n",
      "for i in xrange(len(TTbarEntriesE)-1):\n",
      "    print \"Cut\"+str(i+1)+\":    {0:.2f}      {1:.2f}      {2:.2f}\".format(100*EffV(SignalEntriesE[i+1],SignalEntriesE[i]),\n",
      "                                           100*EffV(TTbarEntriesE[i+1],TTbarEntriesE[i]),\n",
      "                                           100*EffV(QCDEntriesE[i+1],QCDEntriesE[i]))"
     ],
     "language": "python",
     "metadata": {},
     "outputs": [
      {
       "output_type": "stream",
       "stream": "stdout",
       "text": [
        "--------------------------------------------------\n",
        "------------------Efficiencies--------------------\n",
        "--------Signal------TTbar-------QCD---------------\n",
        "Cut1:    48.36      33.23      9.53\n",
        "Cut2:    91.15      40.45      37.07\n",
        "Cut3:    98.35      89.48      81.54\n",
        "Cut4:    63.30      28.17      51.57\n",
        "Cut5:    56.04      12.01      8.54\n",
        "Cut6:    89.15      74.06      71.43\n",
        "Cut7:    89.24      59.91      0.00\n",
        "Cut8:    100.00      100.00      0.00\n"
       ]
      }
     ],
     "prompt_number": 8
    },
    {
     "cell_type": "code",
     "collapsed": false,
     "input": [
      "CutsFromOpt=[ROOT.TCut(\"\"),Cut1,CutDRbb,CutDRWH,CutM2HP,CutDRTp6thJ,CutHM,CutRelHT,CutMTHAsym]\n",
      "#OptVersion=\"_22_opt_with_optchi2\"\n",
      "OptVersion=\"_optchi2_chi2g8_Cut_6p8_4p9_0p67\"\n",
      "\n",
      "CumulCut=ROOT.TCut(\"\")*CutHT\n",
      "\n",
      "Nm1 = ROOT.TFile(\"Nminus1\"+OptVersion+\".root\", \"recreate\")\n",
      "\n",
      "VarToExt=\"M5J\"\n",
      "\n",
      "PDFName=VarToExt+\"_Nminus1\"+OptVersion+\".pdf\"\n",
      "CurCanv = rootnotes.canvas(\"MyPlot\", (600, 800))\n",
      "Titles=[\"Base\",\"chi2\", \"DRbb\", \"DRWH\", \"M2HP\", \"DRTp6thJ\", \"HiggsMass\", \"RelHT\", \"MTHAsym\"]\n",
      "\n",
      "BinsLimits=\"(120,400,1600)\" #M5J\n",
      "#BinsLimits=\"(100,0,1000)\" #chi2\n",
      "\n",
      "for i in xrange(len(CutsFromOpt)):\n",
      "    CumulCut=CumulCut*CutsFromOpt[i]\n",
      "    \n",
      "    NMassPointsA[2].Draw(VarToExt+\" >> M5jS_Cut\"+str(i)+BinsLimits,CumulCut)\n",
      "    M5JHS=ROOT.gDirectory.Get(\"M5jS_Cut\"+str(i))\n",
      "    M5JHS.Sumw2(); M5JHS.Scale(NWeights[2]); M5JHS.Write()\n",
      "    \n",
      "    TntupleA.Draw(VarToExt+\" >> M5jT_Cut\"+str(i)+BinsLimits,CumulCut)\n",
      "    M5JHT=ROOT.gDirectory.Get(\"M5jT_Cut\"+str(i))\n",
      "    M5JHT.Sumw2(); M5JHT.Scale(TWeight); M5JHT.Write()\n",
      "    \n",
      "    QntuplesA[0].Draw(VarToExt+\" >> M5jQ_Cut\"+str(i)+BinsLimits,CumulCut)\n",
      "    M5JHQ=ROOT.gDirectory.Get(\"M5jQ_Cut\"+str(i))\n",
      "    M5JHQ.Sumw2(); M5JHQ.Scale(QWeights[0]); M5JHQ.Write()\n",
      "        \n",
      "    M5JHQ.SetStats(ROOT.kFALSE)\n",
      "    M5JHQ.SetLineStyle(7); M5JHT.SetLineStyle(9); M5JHS.SetLineStyle(1)\n",
      "    M5JHQ.SetLineWidth(2); M5JHT.SetLineWidth(1); M5JHS.SetLineWidth(3)\n",
      "    M5JHQ.SetLineColor(ROOT.kViolet+1); M5JHT.SetLineColor(ROOT.kRed); M5JHS.SetLineColor(ROOT.kGreen+1)\n",
      "    LEG=ROOT.TLegend(0.6,0.6,0.8,0.8)\n",
      "    LEG.AddEntry(M5JHQ, \"QCD\", \"l\"); LEG.AddEntry(M5JHT, \"TTbar\", \"l\"); LEG.AddEntry(M5JHS, \"Signal\", \"l\")\n",
      "    LEG.SetFillColor(0)\n",
      "    Maxima=[M5JHQ.GetMaximum(),M5JHT.GetMaximum(),M5JHS.GetMaximum()]\n",
      "    M5JHQ.SetMaximum(max(Maxima))\n",
      "    M5JHQ.Draw(\"hist\"); M5JHT.Draw(\"hist same\"); M5JHS.Draw(\"hist same\"); LEG.Draw()\n",
      "    \n",
      "    if i==0: CurCanv.Print(PDFName+\"(\",\"Title:\"+Titles[i])\n",
      "    elif i<=len(CutsFromOpt)-2 and i>0: CurCanv.Print(PDFName,\"Title:\"+Titles[i])\n",
      "    else: CurCanv.Print(PDFName+\")\",\"Title:\"+Titles[i])\n",
      "    \n",
      "Nm1.Close()"
     ],
     "language": "python",
     "metadata": {},
     "outputs": [],
     "prompt_number": 9
    },
    {
     "cell_type": "heading",
     "level": 3,
     "metadata": {},
     "source": [
      "Normalization Study"
     ]
    },
    {
     "cell_type": "code",
     "collapsed": false,
     "input": [
      "CutsFromCLs=[ROOT.TCut(\"\"),Cut1,CutDRbb,CutDRWH,CutM2HP,CutDRTp6thJ,CutHM,CutRelHT,CutMTHAsym]\n",
      "\n",
      "OptVersion=\"_bkg_estimation_chi2g8_\"+NominalV\n",
      "\n",
      "CumulCut=ROOT.TCut(\"\")*CutHT\n",
      "\n",
      "SignalEntriesE=[]; TTbarEntriesE=[]; QCDEntriesE=[]\n",
      "\n",
      "PDFName=\"Nminus1\"+OptVersion+\"_NormStudy.pdf\"\n",
      "CurCanv = rootnotes.canvas(\"MyPlot\", (600, 800))\n",
      "\n",
      "BinsLimits=\"(30,550,1100)\"\n",
      "\n",
      "EntSS=[]; EntCS=[]\n",
      "EffSS=[]; EffCS=[]\n",
      "\n",
      "for j in xrange(len(CutsFromCLs)):\n",
      "    CumulCut=CumulCut*CutsFromCLs[j]\n",
      "    print \"Cut:\", CumulCut\n",
      "        \n",
      "    DataA[0].Draw(\"M5J >> M5JA_Cut\"+str(j)+BinsLimits,CumulCut)\n",
      "    M5JDA=ROOT.gDirectory.Get(\"M5JA_Cut\"+str(j))\n",
      "    print \"Events in signal sample:\", M5JDA.GetEntries()\n",
      "    EntSS.append(M5JDA.GetEntries())\n",
      "    if j>0: \n",
      "        EffSS.append(EntSS[-1]/EntSS[-2])\n",
      "        print \"Signal sample efficiency: {0:.2f}\".format(EffSS[-1])\n",
      "        \n",
      "    DataE[0].Draw(\"M5J >> M5JE_Cut\"+str(j)+BinsLimits,CumulCut)\n",
      "    M5JDE=ROOT.gDirectory.Get(\"M5JE_Cut\"+str(j))\n",
      "    print \"Events in control sample:\", M5JDE.GetEntries()\n",
      "    EntCS.append(M5JDE.GetEntries())\n",
      "    if j>0: \n",
      "        EffCS.append(EntCS[-1]/EntCS[-2])\n",
      "        print \"Control sample efficiency: {0:.2f}\".format(EffCS[-1])\n",
      "        \n",
      "    M5JDE.SetStats(ROOT.kFALSE)\n",
      "    M5JDE.SetLineStyle(7); M5JDA.SetLineStyle(1)\n",
      "    M5JDE.SetLineWidth(2); M5JDA.SetLineWidth(1)\n",
      "    M5JDE.SetLineColor(ROOT.kBlue); M5JDA.SetLineColor(ROOT.kBlack)\n",
      "    #M5JDE.Sumw2(); M5JDE.Scale(M5JDA.Integral()/M5JDE.Integral())\n",
      "    M5JDE.SetMaximum(max(M5JDA.GetMaximum(),M5JDE.GetMaximum())*1.05)\n",
      "    M5JDE.SetMinimum(min(M5JDA.GetMinimum(),M5JDE.GetMinimum())*0.95)\n",
      "    LEG=ROOT.TLegend(0.65,0.65,0.9,0.9); LEG.SetTextSize(0.015)\n",
      "    LEG.AddEntry(M5JDA, \"Signal Sample\", \"l\"); LEG.AddEntry(M5JDE, \"Control Sample\", \"l\")\n",
      "    LEG.SetFillColor(0)\n",
      "    MinX=float(BinsLimits.split(\",\")[1])\n",
      "    MaxX=float(BinsLimits.split(\",\")[-1][0:-1])\n",
      "    Nbins=int(BinsLimits.split(\",\")[0][1:])\n",
      "    M5JDE.SetTitle(\";M(5j) GeV/c^{2}\"+\";Events/{0:.1f} \".format((MaxX-MinX)/Nbins)+\"GeV/c^{2}\")\n",
      "    M5JDA.SetTitle(\";M(5j) GeV/c^{2}\"+\";Events/{0:.1f} \".format((MaxX-MinX)/Nbins)+\"GeV/c^{2}\")\n",
      "    M5JDE.GetYaxis().SetTitleOffset(1.65)\n",
      "    M5JDA.GetYaxis().SetTitleOffset(1.65)\n",
      "    M5JDE.Draw(\"E hist\"); M5JDA.Draw(\"E hist same\"); LEG.Draw()\n",
      "\n",
      "    if j==0: CurCanv.Print(PDFName+\"(\",\"Title:Cut_\"+str(j))\n",
      "    elif j==(len(CutsFromCLs)-1): CurCanv.Print(PDFName+\")\",\"Title:Cut_\"+str(j))\n",
      "    else: CurCanv.Print(PDFName,\"Title:Cut_\"+str(j))\n",
      "    print \"------------------------------------------\""
     ],
     "language": "python",
     "metadata": {},
     "outputs": [
      {
       "output_type": "stream",
       "stream": "stdout",
       "text": [
        "Cut: THT>550\n",
        "Events in signal sample: 73879.0\n",
        "Events in control sample:"
       ]
      },
      {
       "output_type": "stream",
       "stream": "stdout",
       "text": [
        " 51567450.0\n",
        "------------------------------------------"
       ]
      },
      {
       "output_type": "stream",
       "stream": "stdout",
       "text": [
        "\n",
        "Cut: (THT>550)*(chi2<8)\n",
        "Events in signal sample: 10581.0\n",
        "Signal sample efficiency: 0.14\n",
        "Events in control sample:"
       ]
      },
      {
       "output_type": "stream",
       "stream": "stdout",
       "text": [
        " 753012.0\n",
        "Control sample efficiency: 0.01\n",
        "------------------------------------------\n",
        "Cut: ((THT>550)*(chi2<8))*(DRHJ<=1.2)\n",
        "Events in signal sample: 3874.0\n",
        "Signal sample efficiency: 0.37\n",
        "Events in control sample:"
       ]
      },
      {
       "output_type": "stream",
       "stream": "stdout",
       "text": [
        " 145510.0\n",
        "Control sample efficiency: 0.19\n",
        "------------------------------------------\n",
        "Cut: (((THT>550)*(chi2<8))*(DRHJ<=1.2))*(DRWH>=1.6 && DRWH<=4.0)\n",
        "Events in signal sample: 3387.0\n",
        "Signal sample efficiency: 0.87\n",
        "Events in control sample:"
       ]
      },
      {
       "output_type": "stream",
       "stream": "stdout",
       "text": [
        " 113601.0\n",
        "Control sample efficiency: 0.78\n",
        "------------------------------------------\n",
        "Cut: ((((THT>550)*(chi2<8))*(DRHJ<=1.2))*(DRWH>=1.6 && DRWH<=4.0))*(M2HP>6.8)\n",
        "Events in signal sample: 1444.0\n",
        "Signal sample efficiency: 0.43\n",
        "Events in control sample:"
       ]
      },
      {
       "output_type": "stream",
       "stream": "stdout",
       "text": [
        " 57862.0\n",
        "Control sample efficiency: 0.51\n",
        "------------------------------------------\n",
        "Cut: (((((THT>550)*(chi2<8))*(DRHJ<=1.2))*(DRWH>=1.6 && DRWH<=4.0))*(M2HP>6.8))*(DRTp6thJ>4.8)\n",
        "Events in signal sample: 140.0\n",
        "Signal sample efficiency: 0.10\n",
        "Events in control sample:"
       ]
      },
      {
       "output_type": "stream",
       "stream": "stdout",
       "text": [
        " 4367.0\n",
        "Control sample efficiency: 0.08\n",
        "------------------------------------------\n",
        "Cut: ((((((THT>550)*(chi2<8))*(DRHJ<=1.2))*(DRWH>=1.6 && DRWH<=4.0))*(M2HP>6.8))*(DRTp6thJ>4.8))*(HM>=105 && HM<=145)\n",
        "Events in signal sample: 103.0\n",
        "Signal sample efficiency: 0.74\n",
        "Events in control sample:"
       ]
      },
      {
       "output_type": "stream",
       "stream": "stdout",
       "text": [
        " 3157.0\n",
        "Control sample efficiency: 0.72\n",
        "------------------------------------------\n",
        "Cut: (((((((THT>550)*(chi2<8))*(DRHJ<=1.2))*(DRWH>=1.6 && DRWH<=4.0))*(M2HP>6.8))*(DRTp6thJ>4.8))*(HM>=105 && HM<=145))*(RelHT>=0.67)\n",
        "Events in signal sample:"
       ]
      },
      {
       "output_type": "stream",
       "stream": "stdout",
       "text": [
        " 55.0\n",
        "Signal sample efficiency: 0.53\n",
        "Events in control sample:"
       ]
      },
      {
       "output_type": "stream",
       "stream": "stdout",
       "text": [
        " 822.0\n",
        "Control sample efficiency: 0.26\n",
        "------------------------------------------\n",
        "Cut: ((((((((THT>550)*(chi2<8))*(DRHJ<=1.2))*(DRWH>=1.6 && DRWH<=4.0))*(M2HP>6.8))*(DRTp6thJ>4.8))*(HM>=105 && HM<=145))*(RelHT>=0.67))*(MTHAsym>=(0.17-10.50) && MTHAsym<=(0.17+10.50))\n",
        "Events in signal sample:"
       ]
      },
      {
       "output_type": "stream",
       "stream": "stdout",
       "text": [
        " 55.0\n",
        "Signal sample efficiency: 1.00\n",
        "Events in control sample:"
       ]
      },
      {
       "output_type": "stream",
       "stream": "stdout",
       "text": [
        " 822.0\n",
        "Control sample efficiency: 1.00\n",
        "------------------------------------------\n"
       ]
      }
     ],
     "prompt_number": 10
    },
    {
     "cell_type": "code",
     "collapsed": false,
     "input": [
      "#############################################################\n",
      "#Normalization of CS to SS after DR(bb) and follow selection#\n",
      "#############################################################\n",
      "print \"Normalization of SS at DR(bb)=\", EntSS[2]\n",
      "print \"Applying efficiencies for later cuts on control sample...\"\n",
      "Norm=EntSS[2]\n",
      "for i in EffCS[2:]: Norm=Norm*i\n",
      "print \"Gives as expected bkg events: {0:.2f}\".format(Norm)\n",
      "print \"###########################################\"\n",
      "################################################################\n",
      "#Normaliz to ratio in/out in MTHAsym right before cutting on it#\n",
      "################################################################\n",
      "print \"Estimated normalization is N_e_ss_in=R_cs*N_ss_out\"\n",
      "print \"where R_cs=N_cs_in/N_cs_out\"\n",
      "N_ss_out=EntSS[-2]-EntSS[-1]\n",
      "N_cs_out=EntCS[-2]-EntCS[-1]\n",
      "N_cs_in=EntCS[-1]\n",
      "print \"N_ss_out={0:.0f}+-{1:.2f}\".format(N_ss_out,np.sqrt(N_ss_out))\n",
      "print \"N_cs_out={0:.0f}+-{1:.2f}\".format(N_cs_out,np.sqrt(N_cs_out))\n",
      "print \"N_cs_in={0:.0f}+-{1:.2f}\".format(N_cs_in,np.sqrt(N_cs_in))\n",
      "R_cs=N_cs_in/N_cs_out\n",
      "Error_R_cs=DivE(N_cs_in,N_cs_out,np.sqrt(N_cs_in),np.sqrt(N_cs_out))\n",
      "print \"R_cs={0:.2f}+-{1:.2f}\".format(R_cs,Error_R_cs)\n",
      "N_e_ss_in=R_cs*N_ss_out\n",
      "Error_N_e_ss_in=MulE(R_cs,N_ss_out,Error_R_cs,np.sqrt(N_ss_out))\n",
      "print \"Which gives N_e_ss_in={0:.2f}+-{1:.2f}\".format(N_e_ss_in,Error_N_e_ss_in)"
     ],
     "language": "python",
     "metadata": {},
     "outputs": [
      {
       "output_type": "stream",
       "stream": "stdout",
       "text": [
        "Normalization of SS at DR(bb)= 2911.0\n",
        "Applying efficiencies for later cuts on control sample...\n",
        "Gives as expected bkg events: 11.64\n",
        "###########################################\n",
        "Estimated normalization is N_e_ss_in=R_cs*N_ss_out\n",
        "where R_cs=N_cs_in/N_cs_out\n",
        "N_ss_out=4+-2.00"
       ]
      },
      {
       "output_type": "stream",
       "stream": "stdout",
       "text": [
        "\n",
        "N_cs_out=72+-8.49\n",
        "N_cs_in=380+-19.49\n",
        "R_cs=5.28+-0.89\n",
        "Which gives N_e_ss_in=21.11+-14.13\n"
       ]
      }
     ],
     "prompt_number": 15
    },
    {
     "cell_type": "code",
     "collapsed": false,
     "input": [
      "#Generic In/Out Study\n",
      "#CutsFromCLs=[ROOT.TCut(\"\"),Cut1,CutDRbb,CutDRWH,CutM2HP,CutDRTp6thJ,CutHM,CutRelHT,CutMTHAsym]\n",
      "\n",
      "#RelHT\n",
      "#CutsFromCLs=[ROOT.TCut(\"\"),Cut1,CutDRbb,CutDRWH,CutHM,CutM2HP,CutDRTp6thJ]\n",
      "#DirCut = ROOT.TCut(\"RelHT>=0.67\")\n",
      "#InvCut = ROOT.TCut(\"RelHT<0.67\")\n",
      "#MTHAsym\n",
      "#CutsFromCLs=[ROOT.TCut(\"\"),Cut1,CutDRbb,CutDRWH,CutHM,CutM2HP,CutDRTp6thJ,CutRelHT]\n",
      "#MTHAsymWin1=\"0.1\"; MTHAsymMean1=\"0.17\"\n",
      "#DirCut = ROOT.TCut(\"MTHAsym>=(\"+MTHAsymMean1+\"-\"+MTHAsymWin1+\") && MTHAsym<=(\"+MTHAsymMean1+\"+\"+MTHAsymWin1+\")\")\n",
      "#InvCut = ROOT.TCut(\"MTHAsym<(\"+MTHAsymMean1+\"-\"+MTHAsymWin1+\") || MTHAsym>(\"+MTHAsymMean1+\"+\"+MTHAsymWin1+\")\")\n",
      "#MH\n",
      "CutsFromCLs=[ROOT.TCut(\"\"),Cut1,CutDRbb,CutDRWH,CutM2HP,CutDRTp6thJ,CutRelHT]\n",
      "DirCut = ROOT.TCut(\"HM>=105 && HM<=145\")\n",
      "InvCut = ROOT.TCut(\"HM<105 || HM>145\")\n",
      "\n",
      "CumulCut=ROOT.TCut(\"\")*CutHT\n",
      "\n",
      "BinsLimits=\"(3800,200,4000)\"\n",
      "CutVarBinsLim=\"(26,60,190)\"\n",
      "\n",
      "for j in xrange(len(CutsFromCLs)):\n",
      "    CumulCut=CumulCut*CutsFromCLs[j]\n",
      "    print \"Cut:\", CumulCut\n",
      "        \n",
      "    N_cs_in,N_cs_out,N_ss_in,N_ss_out,R_cs,R_ss,Np_ss_in,Chi2TesResult=NormFunc(CumulCut*DirCut,CumulCut*InvCut,\n",
      "                                                                      \"M5J\",BinsLimits,DataA[0],DataE[0],\n",
      "                                                                      \"HM\",CutVarBinsLim,CumulCut,True)\n",
      "    print \"Chi2 test result: chi2/ndf =\", Chi2TesResult\n",
      "    print \"N_ss_out={0:.0f}+-{1:.2f}\".format(N_ss_out,np.sqrt(N_ss_out))\n",
      "    print \"N_ss_in={0:.0f}+-{1:.2f}\".format(N_ss_in,np.sqrt(N_ss_in))\n",
      "    print \"N_cs_out={0:.0f}+-{1:.2f}\".format(N_cs_out,np.sqrt(N_cs_out))\n",
      "    print \"N_cs_in={0:.0f}+-{1:.2f}\".format(N_cs_in,np.sqrt(N_cs_in))\n",
      "    print \"------\"\n",
      "    Error_R_ss=DivE(N_ss_in,N_ss_out,np.sqrt(N_ss_in),np.sqrt(N_ss_out))\n",
      "    print \"R_ss={0:.2f}+-{1:.2f}\".format(R_ss,Error_R_ss)\n",
      "    Error_R_cs=DivE(N_cs_in,N_cs_out,np.sqrt(N_cs_in),np.sqrt(N_cs_out))\n",
      "    print \"R_cs={0:.2f}+-{1:.2f}\".format(R_cs,Error_R_cs)\n",
      "    print \"------\"\n",
      "    Error_Np_ss_in=MulE(R_cs,N_ss_out,Error_R_cs,np.sqrt(N_ss_out))\n",
      "    print \"Which gives Np_ss_in={0:.2f}+-{1:.2f}\".format(Np_ss_in,Error_Np_ss_in)\n",
      "            \n",
      "    print \"------------------------------------------\""
     ],
     "language": "python",
     "metadata": {},
     "outputs": [
      {
       "output_type": "stream",
       "stream": "stdout",
       "text": [
        "Cut: THT>550\n",
        "Chi2 test result: chi2/ndf ="
       ]
      },
      {
       "output_type": "stream",
       "stream": "stdout",
       "text": [
        " 12.2644327285\n",
        "N_ss_out=52171+-228.41\n",
        "N_ss_in=21708+-147.34\n",
        "N_cs_out=584199+-764.33\n",
        "N_cs_in=294936+-543.08\n",
        "------\n",
        "R_ss=0.42+-0.00\n",
        "R_cs=0.50+-0.00\n",
        "------\n",
        "Which gives Np_ss_in=26338.81+-198.27\n",
        "------------------------------------------\n",
        "Cut: (THT>550)*(chi2<8)\n",
        "Chi2 test result: chi2/ndf ="
       ]
      },
      {
       "output_type": "stream",
       "stream": "stdout",
       "text": [
        " 0.989103718843\n",
        "N_ss_out=2510+-50.10\n",
        "N_ss_in=8071+-89.84\n",
        "N_cs_out=49112+-221.61\n",
        "N_cs_in=163589+-404.46\n",
        "------\n",
        "R_ss=3.22+-0.10\n",
        "R_cs=3.33+-0.02\n",
        "------\n",
        "Which gives Np_ss_in=8360.65+-225.28\n",
        "------------------------------------------\n",
        "Cut: ((THT>550)*(chi2<8))*(DRHJ<=1.2)\n",
        "Chi2 test result: chi2/ndf ="
       ]
      },
      {
       "output_type": "stream",
       "stream": "stdout",
       "text": [
        " 2.20262309864\n",
        "N_ss_out=1054+-32.47\n",
        "N_ss_in=2820+-53.10\n",
        "N_cs_out=13247+-115.10\n",
        "N_cs_in=35266+-187.79\n",
        "------\n",
        "R_ss=2.68+-0.13\n",
        "R_cs=2.66+-0.04\n",
        "------\n",
        "Which gives Np_ss_in=2805.95+-125.75\n",
        "------------------------------------------\n",
        "Cut: (((THT>550)*(chi2<8))*(DRHJ<=1.2))*(DRWH>=1.6 && DRWH<=4.0)\n",
        "Chi2 test result: chi2/ndf ="
       ]
      },
      {
       "output_type": "stream",
       "stream": "stdout",
       "text": [
        " 2.56101677192\n",
        "N_ss_out=931+-30.51\n",
        "N_ss_in=2456+-49.56\n",
        "N_cs_out=10563+-102.78\n",
        "N_cs_in=28166+-167.83\n",
        "------\n",
        "R_ss=2.64+-0.14\n",
        "R_cs=2.67+-0.04\n",
        "------\n",
        "Which gives Np_ss_in=2482.49+-120.31\n",
        "------------------------------------------\n",
        "Cut: ((((THT>550)*(chi2<8))*(DRHJ<=1.2))*(DRWH>=1.6 && DRWH<=4.0))*(M2HP>6.8)\n",
        "Chi2 test result: chi2/ndf ="
       ]
      },
      {
       "output_type": "stream",
       "stream": "stdout",
       "text": [
        " 1.70503657248\n",
        "N_ss_out=438+-20.93\n",
        "N_ss_in=1006+-31.72\n",
        "N_cs_out=6027+-77.63\n",
        "N_cs_in=14499+-120.41\n",
        "------\n",
        "R_ss=2.30+-0.18\n",
        "R_cs=2.41+-0.05\n",
        "------\n",
        "Which gives Np_ss_in=1053.69+-72.67\n",
        "------------------------------------------\n",
        "Cut: (((((THT>550)*(chi2<8))*(DRHJ<=1.2))*(DRWH>=1.6 && DRWH<=4.0))*(M2HP>6.8))*(DRTp6thJ>4.8)\n",
        "Chi2 test result: chi2/ndf ="
       ]
      },
      {
       "output_type": "stream",
       "stream": "stdout",
       "text": [
        " 0.66521278259\n",
        "N_ss_out=37+-6.08\n",
        "N_ss_in=103+-10.15\n",
        "N_cs_out=544+-23.32\n",
        "N_cs_in=1356+-36.82\n",
        "------\n",
        "R_ss=2.78+-0.73\n",
        "R_cs=2.49+-0.17\n",
        "------\n",
        "Which gives Np_ss_in=92.23+-21.62\n",
        "------------------------------------------\n",
        "Cut: ((((((THT>550)*(chi2<8))*(DRHJ<=1.2))*(DRWH>=1.6 && DRWH<=4.0))*(M2HP>6.8))*(DRTp6thJ>4.8))*(RelHT>=0.67)\n",
        "Chi2 test result: chi2/ndf ="
       ]
      },
      {
       "output_type": "stream",
       "stream": "stdout",
       "text": [
        " 0.498362877649\n",
        "N_ss_out=19+-4.36\n",
        "N_ss_in=55+-7.42\n",
        "N_cs_out=184+-13.56\n",
        "N_cs_in=484+-22.00\n",
        "------\n",
        "R_ss=2.89+-1.05\n",
        "R_cs=2.63+-0.31\n",
        "------\n",
        "Which gives Np_ss_in=49.98+-17.42\n",
        "------------------------------------------\n"
       ]
      }
     ],
     "prompt_number": 6
    },
    {
     "cell_type": "heading",
     "level": 1,
     "metadata": {},
     "source": [
      "STARTING INCLUSIVE VALIDATION (NEED NTUPLES FROM BELOW)"
     ]
    },
    {
     "cell_type": "code",
     "collapsed": false,
     "input": [
      "#Sntuple.Print()\n",
      "#\"M5J:DRHJ:DRWH:RelHT:Eta6thJ:M2HP:DRTp6thJ:HM:chi2:MTHAsym\"\n",
      "#Cut1 = ROOT.TCut(\"chi2<620\")\n",
      "#CutDRbb = ROOT.TCut(\"DRHJ<=1.2\")\n",
      "#CutDRWH = ROOT.TCut(\"DRWH>=1.6 && DRWH<=4.0\")\n",
      "#CutHM = ROOT.TCut(\"HM>=105 && HM<=145\")\n",
      "#CutM2HP = ROOT.TCut(\"M2HP>7.5\")\n",
      "#CutRelHT = ROOT.TCut(\"RelHT>=0.7\")\n",
      "#CutDRTp6thJ = ROOT.TCut(\"DRTp6thJ>4.5\")\n",
      "#CutMTHAsym = ROOT.TCut(\"MTHAsym>=-0.02 && MTHAsym<=0.38\")\n",
      "#FinalCut=Cut1*CutDRbb*CutDRWH*CutM2HP*CutDRTp6thJ*CutHM*CutRelHT*CutMTHAsym\n",
      "#\n",
      "#Lumi=19694.471\n",
      "#\n",
      "#SWeight=Lumi*(0.57/0.94)*0.1437/99984.\n",
      "#\n",
      "#TWeight=Lumi*245.8/61941200.\n",
      "\n",
      "########################################################\n",
      "###################Set QCD FLAG#########################\n",
      "########################################################\n",
      "\n",
      "QCDPTFLAG=True #To include QCD PT hat samples\n",
      "\n",
      "NevtsQCDHT=[29019521.,13438527.]\n",
      "XSQCDHT=[8426.0,204.0]\n",
      "Q500Weight=Lumi*XSQCDHT[0]/NevtsQCDHT[0]\n",
      "Q1000Weight=Lumi*XSQCDHT[1]/NevtsQCDHT[1]\n",
      "if QCDPTFLAG: \n",
      "    QWeights=Lumi*np.array(XSQCDHT)*0.5/np.array(NevtsQCDHT)\n",
      "else: \n",
      "    QWeights=Lumi*np.array(XSQCDHT)/np.array(NevtsQCDHT)\n",
      "\n",
      "NevtsQCDPT=[5971068.,5790196.,5926583.,3941534.,3934191.,3927299.]\n",
      "XSQCDPT=[156293.3, 34138.15, 1759.549, 113.8791, 26.9921, 3.550036]\n",
      "if QCDPTFLAG: \n",
      "    QCDPTWeights=Lumi*np.array(XSQCDPT)*0.5/np.array(NevtsQCDPT)\n",
      "else: \n",
      "    QCDPTWeights=Lumi*np.array(XSQCDPT)/np.array(NevtsQCDPT)\n",
      "\n",
      "\n",
      "#########################################################\n",
      "\n",
      "NevtsMassPoints=[95167.,98817.,99464.,99375.,95801.,99257.,99174.,95960.,99078.]\n",
      "XSNevtsMassPoints=[0.2154,0.1778,0.1437,0.1186,0.1,0.0843,0.0726,0.0626,0.0539]\n",
      "NWeights=Lumi*(0.577/0.94)*np.array(XSNevtsMassPoints)/np.array(NevtsMassPoints)\n",
      "\n",
      "NevtsDiboson=[9989803.,9989440.,9789108.]\n",
      "XSDiboson=[7.6, 33.6, 56.0]\n",
      "DibosonWeights=Lumi*np.array(XSDiboson)/np.array(NevtsDiboson)\n",
      "\n",
      "NevtsSingleT=[259575.,3752921.,496681.,139803.,1932775.,492545.]\n",
      "XSSingleT=[3.79, 54.87, 11.1, 1.76, 29.74, 11.1]\n",
      "SingleTWeights=Lumi*np.array(XSSingleT)/np.array(NevtsSingleT)\n",
      "\n",
      "NevtsDY=[2001966.,1997817.]\n",
      "XSDY=[3840.86, 3060.099]\n",
      "DYWeights=Lumi*np.array(XSDY)/np.array(NevtsDY)"
     ],
     "language": "python",
     "metadata": {},
     "outputs": [],
     "prompt_number": 10
    },
    {
     "cell_type": "heading",
     "level": 3,
     "metadata": {},
     "source": [
      "Nminus1 plots, Analysis selection, Signal Sample"
     ]
    },
    {
     "cell_type": "code",
     "collapsed": false,
     "input": [
      "CutsNm1=[ROOT.TCut(\"\"),Cut1,CutDRbb,CutDRWH,CutHM,CutM2HP,CutDRTp6thJ,CutRelHT]\n",
      "OptVersion=NominalV+\"_\"+InclusiveV1+\"_\"+InclusiveV2\n",
      "\n",
      "CumulCut=ROOT.TCut(\"\")*CutHT\n",
      "SF=ROOT.TCut(\"weight\")\n",
      "PU=ROOT.TCut(\"PUR_function(NTI)\")\n",
      "#CMC=ROOT.TCut(\"weight*PUR_function(NTI)\")\n",
      "CMC=SF*PU\n",
      "#CMC=ROOT.TCut(\"\")\n",
      "#CumulCut=CMC\n",
      "\n",
      "#\"M5J:DRHJ:DRWH:RelHT:Eta6thJ:M2HP:DRTp6thJ:HM:chi2:MTHAsym\"\n",
      "\n",
      "PDFName=\"Nminus1_AnaSel_Chi2g8_0to500_WithM2ndTop_\"+OptVersion+\".pdf\"\n",
      "CurCanv = rootnotes.canvas(\"MyPlot\", (600, 800))\n",
      "Titles=[\"chi2\", \"DRHJ\",\"DRWH\", \"HM\", \"M2HP\", \"DRTp6thJ\", \"RelHT\", \"MTHAsym\", \n",
      "        \"THT\", \"NCSVM\",\"M2ndT\"]\n",
      "\n",
      "BinsLimits=[\"(50,0,500)\",\"(22,0.5,5)\",\"(30,0.5,10)\",\"(25,60,190)\",\"(31,0,20)\",\"(30,0.5,10)\",\"(20,0.1,1.0)\",\"(20,-0.5,1)\",\n",
      "            \"(40,400,3000)\",\"(13,0,13)\",\"(50,40,2000)\"]\n",
      "Units=[\"\",\"\",\"\",\"GeV/c^{2}\",\"\",\"\",\"\",\"\",\n",
      "       \"GeV/c\",\"\",\"GeV/c^{2}\"]\n",
      "XaxisT=[\"#chi^{2}\",\"#Delta R(bb)\", \"#Delta R(WH)\", \"M(H)\", \"(M(t^{2nd})+M(W^{2nd}))/M(H)\", \"#Delta R (T' j^{6})\", \n",
      "        \"Relative H_{T}\", \"(M(t)-M(H))/(M(t)+M(H))\",\n",
      "        \"H_{T}\", \"n_{b}^{CSVM}\",\"M(t^{2nd})\"]\n",
      "\n",
      "ValString=[\"Data\",\"TTbar\",\"QCD\",\"MC-Sum\"]\n",
      "\n",
      "for i in xrange(len(CutsNm1)):\n",
      "    CumulCut=CumulCut*CutsNm1[i]\n",
      "    for j in xrange(len(Titles)):\n",
      "        TTbarNm1Histos=[]; DataNm1Histos=[]; QCDNm1Histos=[]\n",
      "        SingleTNm1Histos=[]; DibosonNm1Histos=[]; DYNm1Histos=[]\n",
      "        SignalNm1Histos=[]\n",
      "    \n",
      "        NMassPointsA[2].Draw(Titles[j]+\" >> \"+Titles[j]+\"S_Cut\"+str(i)+str(j)+BinsLimits[j],CumulCut*CMC)\n",
      "        SignalNm1Histos.append(ROOT.gDirectory.Get(Titles[j]+\"S_Cut\"+str(i)+str(j)))\n",
      "        SignalNm1Histos[-1].Sumw2(); SignalNm1Histos[-1].Scale(SWeight)\n",
      "    \n",
      "        TntupleA.Draw(Titles[j]+\" >> \"+Titles[j]+\"T_Cut\"+str(i)+str(j)+BinsLimits[j],CumulCut*CMC)\n",
      "        TTbarNm1Histos.append(ROOT.gDirectory.Get(Titles[j]+\"T_Cut\"+str(i)+str(j)))\n",
      "        TTbarNm1Histos[-1].Sumw2(); TTbarNm1Histos[-1].Scale(TWeight) #; TTbarHistos[-1].Write()\n",
      "                \n",
      "        QCDHT=[]\n",
      "        QntuplesA[0].Draw(Titles[j]+\" >> \"+Titles[j]+\"Q500_Cut\"+str(i)+str(j)+BinsLimits[j],CumulCut*CMC)\n",
      "        QCDHT.append(ROOT.gDirectory.Get(Titles[j]+\"Q500_Cut\"+str(i)+str(j)))\n",
      "        QCDHT[-1].Sumw2(); QCDHT[-1].Scale(QWeights[0]) #; QCD500Histos[-1].Write()\n",
      "        \n",
      "        QntuplesA[1].Draw(Titles[j]+\" >> \"+Titles[j]+\"Q1000_Cut\"+str(i)+str(j)+BinsLimits[j],CumulCut*CMC)\n",
      "        QCDHT.append(ROOT.gDirectory.Get(Titles[j]+\"Q1000_Cut\"+str(i)+str(j)))\n",
      "        QCDHT[-1].Sumw2(); QCDHT[-1].Scale(QWeights[1]) #; QCD1000Histos[-1].Write()\n",
      "    \n",
      "        STHT=[]\n",
      "        for k in xrange(6): #Single Top\n",
      "            if SubBKGArrayA[k].GetEntries()>0:\n",
      "                SubBKGArrayA[k].Draw(Titles[j]+\" >> \"+Titles[j]+\"ST_Cut\"+str(i)+str(j)+\"_\"+str(k)+BinsLimits[j],CumulCut*CMC)\n",
      "                STHT.append(ROOT.gDirectory.Get(Titles[j]+\"ST_Cut\"+str(i)+str(j)+\"_\"+str(k)))\n",
      "                STHT[-1].Sumw2(); STHT[-1].Scale(SingleTWeights[k])\n",
      "        SingleTNm1Histos.append(STHT)\n",
      "            \n",
      "        DiHT=[]\n",
      "        for k in xrange(3): #Diboson\n",
      "            if SubBKGArrayA[k+6].GetEntries()>0:\n",
      "                SubBKGArrayA[k+6].Draw(Titles[j]+\" >> \"+Titles[j]+\"Di_Cut\"+str(i)+str(j)+\"_\"+str(k)+BinsLimits[j],CumulCut*CMC)\n",
      "                DiHT.append(ROOT.gDirectory.Get(Titles[j]+\"Di_Cut\"+str(i)+str(j)+\"_\"+str(k)))\n",
      "                DiHT[-1].Sumw2(); DiHT[-1].Scale(DibosonWeights[k])\n",
      "        DibosonNm1Histos.append(DiHT)\n",
      "        \n",
      "        DYHT=[]\n",
      "        for k in xrange(2): #DY\n",
      "            if SubBKGArrayA[k+9].GetEntries()>0:\n",
      "                SubBKGArrayA[k+9].Draw(Titles[j]+\" >> \"+Titles[j]+\"DY_Cut\"+str(i)+str(j)+\"_\"+str(k)+BinsLimits[j],CumulCut*CMC)\n",
      "                DYHT.append(ROOT.gDirectory.Get(Titles[j]+\"DY_Cut\"+str(i)+str(j)+\"_\"+str(k)))\n",
      "                DYHT[-1].Sumw2(); DYHT[-1].Scale(DYWeights[k])\n",
      "            #else: #Only for QCD Estimation (Roberto's method)\n",
      "            #    DYHT.append(QCDHT[0].Clone(Titles[j]+\"Q_Cut\"+str(i)+str(j)))\n",
      "            #    DYHT[-1].Sumw2(); DYHT[-1].Scale(0.0)\n",
      "        DYNm1Histos.append(DYHT)\n",
      "        \n",
      "        if QCDPTFLAG: \n",
      "            for k in xrange(6): #QCD PT hat\n",
      "                if SubBKGArrayA[k+11].GetEntries()>0:\n",
      "                    SubBKGArrayA[k+11].Draw(Titles[j]+\" >> \"+Titles[j]+\"QCDPT_Cut\"+str(i)+str(j)+\"_\"+str(k)+BinsLimits[j],CumulCut*CMC)\n",
      "                    QCDHT.append(ROOT.gDirectory.Get(Titles[j]+\"QCDPT_Cut\"+str(i)+str(j)+\"_\"+str(k)))\n",
      "                    QCDHT[-1].Sumw2(); QCDHT[-1].Scale(QCDPTWeights[k])\n",
      "        QCDNm1Histos.append(QCDHT)\n",
      "\n",
      "        #If Pythia only set QCDNm1Histos elements to 2 and 3, else 0 and 1\n",
      "        QCDFull=QCDNm1Histos[-1][0].Clone(Titles[j]+\"Q_Cut\"+str(i)+str(j))\n",
      "        for k in QCDNm1Histos[-1][1:]:\n",
      "            QCDFull.Add(k)\n",
      "        \n",
      "        SingleTFull=SingleTNm1Histos[-1][0].Clone(Titles[j]+\"ST_Cut\"+str(i)+str(j))\n",
      "        for k in SingleTNm1Histos[-1][1:]:\n",
      "            SingleTFull.Add(k)\n",
      "    \n",
      "        DibosonFull=DibosonNm1Histos[-1][0].Clone(Titles[j]+\"Di_Cut\"+str(i)+str(j))\n",
      "        for k in DibosonNm1Histos[-1][1:]:\n",
      "            DibosonFull.Add(k)\n",
      "        \n",
      "        DYFull=DYNm1Histos[-1][0].Clone(Titles[j]+\"DY_Cut\"+str(i)+str(j))\n",
      "        for k in DYNm1Histos[-1][1:]:\n",
      "            DYFull.Add(k)\n",
      "    \n",
      "        MCFull=QCDFull.Clone(Titles[j]+\"MC_Cut\"+str(i)+str(j))\n",
      "        MCFull.Add(TTbarNm1Histos[-1])\n",
      "        MCFull.Add(SingleTFull)\n",
      "        MCFull.Add(DibosonFull)\n",
      "        MCFull.Add(DYFull)\n",
      "\n",
      "        DataA[0].Draw(Titles[j]+\" >> \"+Titles[j]+\"D_Cut\"+str(i)+str(j)+BinsLimits[j],CumulCut)\n",
      "        DataNm1Histos.append(ROOT.gDirectory.Get(Titles[j]+\"D_Cut\"+str(i)+str(j)))\n",
      "\n",
      "        ROOT.gPad.Clear()\n",
      "\n",
      "        CurrentStyle=ROOT.TStyle(\"CStyle\",\"Style for Plotting\")\n",
      "    \n",
      "        CurrentStyle.SetTitleSize(0.08, \"Y\")\n",
      "        CurrentStyle.SetTitleYOffset(1.5)\n",
      "                \n",
      "        CurCanv1 = rootnotes.canvas(\"MyPlot\", (600, 800))\n",
      "        CurCanv1.cd(1)\n",
      "        Pad1=ROOT.TPad(\"pad1\",\"pad1\",0,0.3,1,1)\n",
      "        Pad1.SetBottomMargin(0)\n",
      "        Pad1.SetLeftMargin(0.16)\n",
      "        Pad1.Draw()\n",
      "        Pad1.cd()\n",
      "        \n",
      "        MCFull.SetStats(ROOT.kFALSE)\n",
      "        MinX=float(BinsLimits[j].split(\",\")[1])\n",
      "        MaxX=float(BinsLimits[j].split(\",\")[-1][0:-1])\n",
      "        Nbins=int(BinsLimits[j].split(\",\")[0][1:])\n",
      "        if i!=5: MCFull.SetTitle(\";;Events/{0:.1f} \".format((MaxX-MinX)/Nbins)+Units[j])\n",
      "        else: MCFull.SetTitle(\";;Events/{0:.2f} \".format((MaxX-MinX)/Nbins)+Units[j])\n",
      "        SetAxis(MCFull,'Y',1.45,0.05,0.007,0.05,510)\n",
      "        SetAxis(DataNm1Histos[-1],'Y',1.45,0.05,0.007,0.05,510)\n",
      "        SetAxis(SignalNm1Histos[-1],'Y',1.45,0.05,0.007,0.05,510)\n",
      "        SetAxis(TTbarNm1Histos[-1],'Y',1.45,0.05,0.007,0.05,510)\n",
      "        SetAxis(QCDFull,'Y',1.45,0.05,0.007,0.05,510)\n",
      "        SetAxis(SingleTFull,'Y',1.45,0.05,0.007,0.05,510)\n",
      "        SetAxis(DibosonFull,'Y',1.45,0.05,0.007,0.05,510)\n",
      "        SetAxis(DYFull,'Y',1.45,0.05,0.007,0.05,510)\n",
      "    \n",
      "        SetCos(DataNm1Histos[-1],0,0,ROOT.kBlack,2,1,20)\n",
      "        SetCos(SignalNm1Histos[-1],ROOT.kSpring,3444,ROOT.kBlack,2,1,1)\n",
      "        SetCos(TTbarNm1Histos[-1],ROOT.kRed,3345,ROOT.kBlack,1,1,1)\n",
      "        SetCos(QCDFull,ROOT.kViolet,1001,ROOT.kBlack,1,1,1)\n",
      "        SetCos(SingleTFull,ROOT.kBlack,3305,ROOT.kBlack,1,1,1)\n",
      "        SetCos(DibosonFull,ROOT.kWhite,1001,ROOT.kBlack,1,1,1)\n",
      "        SetCos(DYFull,ROOT.kBlue,1001,ROOT.kBlack,1,1,1)\n",
      "        SetCos(MCFull,ROOT.kGray+2,3144,ROOT.kGray+2,1,1,1)\n",
      "            \n",
      "        CloneD=DataNm1Histos[-1].Clone(\"CopyD\"); CloneMC=MCFull.Clone(\"CopyMC\")\n",
      "        if j!=6: AllBKGStack=ROOT.THStack(\"AllBKGStack\", \";;Events/{0:.1f} \".format((MaxX-MinX)/Nbins)+Units[j])\n",
      "        else: AllBKGStack=ROOT.THStack(\"AllBKGStack\", \";;Events/{0:.2f} \".format((MaxX-MinX)/Nbins)+Units[j])\n",
      "        AllBKGStack.Add(DibosonFull); AllBKGStack.Add(SingleTFull)\n",
      "        AllBKGStack.Add(TTbarNm1Histos[-1]); AllBKGStack.Add(DYFull); AllBKGStack.Add(QCDFull)\n",
      "        AllBKGStack.SetMinimum(0.3)\n",
      "    \n",
      "        if j<6 or j>7: LEG=ROOT.TLegend(0.6,0.6,0.9,0.9)\n",
      "        else: LEG=ROOT.TLegend(0.2,0.6,0.5,0.9)\n",
      "        LEG.AddEntry(DataNm1Histos[-1], \"Data\", \"p\")\n",
      "        LEG.AddEntry(QCDFull, \"QCD\", \"f\")\n",
      "        LEG.AddEntry(DYFull, \"Zjets\", \"f\")\n",
      "        LEG.AddEntry(TTbarNm1Histos[-1], \"TTbar\", \"f\")\n",
      "        LEG.AddEntry(SingleTFull, \"Single Top\", \"f\")\n",
      "        LEG.AddEntry(DibosonFull, \"Diboson\", \"f\")\n",
      "        LEG.AddEntry(SignalNm1Histos[-1], \"Signal M(T')=700 GeV/c^{2}\", \"f\")\n",
      "        LEG.SetFillColor(0)\n",
      "        Maxima=[MCFull.GetBinErrorUp(MCFull.GetMaximumBin())+MCFull.GetMaximum(),DataNm1Histos[-1].GetBinErrorUp(DataNm1Histos[-1].GetMaximumBin())+DataNm1Histos[-1].GetMaximum()]\n",
      "        AllBKGStack.SetMaximum(1.05*max(Maxima))\n",
      "        AllBKGStack.Draw(\"hist\")\n",
      "        AllBKGStack.GetHistogram().GetYaxis().SetTitleOffset(1.65)\n",
      "        MCFull.Draw(\"e2 same\")\n",
      "        SignalNm1Histos[-1].Draw(\"hist same\"); DataNm1Histos[-1].Draw(\"E0X0 same\")\n",
      "        if i!=len(CutsNm1): Pad1.SetLogy(); Pad1.RedrawAxis()\n",
      "    \n",
      "        LEG.Draw()\n",
      "        CurrentStyle.SetPadTickX(1)\n",
      "        CurCanv1.cd()\n",
      "        \n",
      "        Pad2=ROOT.TPad(\"pad2\",\"pad2\",0,0,1,0.3)\n",
      "        Pad2.SetTopMargin(0)\n",
      "        Pad2.SetLeftMargin(0.16)\n",
      "        Pad2.SetBottomMargin(0.25)\n",
      "        Pad2.Draw()\n",
      "        Pad2.cd()\n",
      "        \n",
      "        CloneMC.SetMinimum(0.1); CloneMC.SetMaximum(1.9)\n",
      "        CloneMC.Sumw2()\n",
      "        CloneMC.SetStats(0)\n",
      "        CloneMC.SetTitle(\";\"+XaxisT[j]+\" \"+Units[j]+\";Data/MC\")\n",
      "        CloneMC.Divide(MCFull)\n",
      "        CloneMC.SetFillStyle(1001)\n",
      "        SetAxis(CloneMC,'X',0.9,0.09,0.007,0.09,510)\n",
      "        SetAxis(CloneMC,'Y',0.75,0.09,0.007,0.09,404)\n",
      "        CloneMC.Draw(\"E2\")\n",
      "        \n",
      "        CloneD.Sumw2()\n",
      "        #CloneD.Scale(DataNm1Histos[-1].Integral()/CloneD.Integral()); CloneE.SetStats(0)\n",
      "        CloneD.SetTitle(\";\"+XaxisT[j]+\" \"+Units[j]+\";Data/MC\")\n",
      "        CloneD.Divide(MCFull)\n",
      "        CloneD.Draw(\"E0X0 same\")\n",
      "        \n",
      "        if i==0 and j==0: CurCanv1.Print(PDFName+\"(\",\"Title:\"+Titles[j])\n",
      "        elif i==(len(CutsNm1)-1) and j==(len(Titles)-1): CurCanv1.Print(PDFName+\")\",\"Title:\"+Titles[j])\n",
      "        else: CurCanv1.Print(PDFName,\"Title:\"+Titles[j])\n",
      "        \n",
      "        CurCanv1.Clear(); CurrentStyle.SetPadTickX(0)\n",
      "        CurCanv1.cd(1)\n",
      "                    \n",
      "    #del(HistosToplot); del(CurCanv1); del(Pad1); del(Pad2)\n",
      "    #del(CloneA); del(CloneE); del(CloneE1); del(CloneE2)"
     ],
     "language": "python",
     "metadata": {},
     "outputs": [
      {
       "output_type": "stream",
       "stream": "stderr",
       "text": [
        "TH1F::Sumw2:0: RuntimeWarning: Sum of squares of weights structure already created\n",
        "TH1F::Sumw2:0: RuntimeWarning: Sum of squares of weights structure already created\n"
       ]
      },
      {
       "output_type": "stream",
       "stream": "stderr",
       "text": [
        "TH1F::Sumw2:0: RuntimeWarning: Sum of squares of weights structure already created\n",
        "TH1F::Sumw2:0: RuntimeWarning: Sum of squares of weights structure already created\n"
       ]
      },
      {
       "output_type": "stream",
       "stream": "stderr",
       "text": [
        "TH1F::Sumw2:0: RuntimeWarning: Sum of squares of weights structure already created\n",
        "TH1F::Sumw2:0: RuntimeWarning: Sum of squares of weights structure already created\n"
       ]
      },
      {
       "output_type": "stream",
       "stream": "stderr",
       "text": [
        "TH1F::Sumw2:0: RuntimeWarning: Sum of squares of weights structure already created\n",
        "TH1F::Sumw2:0: RuntimeWarning: Sum of squares of weights structure already created\n"
       ]
      },
      {
       "output_type": "stream",
       "stream": "stderr",
       "text": [
        "TH1F::Sumw2:0: RuntimeWarning: Sum of squares of weights structure already created\n",
        "TH1F::Sumw2:0: RuntimeWarning: Sum of squares of weights structure already created\n"
       ]
      },
      {
       "output_type": "stream",
       "stream": "stderr",
       "text": [
        "TH1F::Sumw2:0: RuntimeWarning: Sum of squares of weights structure already created\n",
        "TH1F::Sumw2:0: RuntimeWarning: Sum of squares of weights structure already created\n"
       ]
      },
      {
       "output_type": "stream",
       "stream": "stderr",
       "text": [
        "TH1F::Sumw2:0: RuntimeWarning: Sum of squares of weights structure already created\n",
        "TH1F::Sumw2:0: RuntimeWarning: Sum of squares of weights structure already created\n"
       ]
      },
      {
       "output_type": "stream",
       "stream": "stderr",
       "text": [
        "TH1F::Sumw2:0: RuntimeWarning: Sum of squares of weights structure already created\n",
        "TH1F::Sumw2:0: RuntimeWarning: Sum of squares of weights structure already created\n"
       ]
      },
      {
       "output_type": "stream",
       "stream": "stderr",
       "text": [
        "TH1F::Sumw2:0: RuntimeWarning: Sum of squares of weights structure already created\n",
        "TH1F::Sumw2:0: RuntimeWarning: Sum of squares of weights structure already created\n"
       ]
      },
      {
       "output_type": "stream",
       "stream": "stderr",
       "text": [
        "TH1F::Sumw2:0: RuntimeWarning: Sum of squares of weights structure already created\n",
        "TH1F::Sumw2:0: RuntimeWarning: Sum of squares of weights structure already created\n"
       ]
      },
      {
       "output_type": "stream",
       "stream": "stderr",
       "text": [
        "TH1F::Sumw2:0: RuntimeWarning: Sum of squares of weights structure already created\n",
        "TH1F::Sumw2:0: RuntimeWarning: Sum of squares of weights structure already created\n"
       ]
      },
      {
       "output_type": "stream",
       "stream": "stderr",
       "text": [
        "TH1F::Sumw2:0: RuntimeWarning: Sum of squares of weights structure already created\n",
        "TH1F::Sumw2:0: RuntimeWarning: Sum of squares of weights structure already created\n"
       ]
      },
      {
       "output_type": "stream",
       "stream": "stderr",
       "text": [
        "TH1F::Sumw2:0: RuntimeWarning: Sum of squares of weights structure already created\n",
        "TH1F::Sumw2:0: RuntimeWarning: Sum of squares of weights structure already created\n"
       ]
      },
      {
       "output_type": "stream",
       "stream": "stderr",
       "text": [
        "TH1F::Sumw2:0: RuntimeWarning: Sum of squares of weights structure already created\n",
        "TH1F::Sumw2:0: RuntimeWarning: Sum of squares of weights structure already created\n"
       ]
      },
      {
       "output_type": "stream",
       "stream": "stderr",
       "text": [
        "TH1F::Sumw2:0: RuntimeWarning: Sum of squares of weights structure already created\n",
        "TH1F::Sumw2:0: RuntimeWarning: Sum of squares of weights structure already created\n"
       ]
      },
      {
       "output_type": "stream",
       "stream": "stderr",
       "text": [
        "TH1F::Sumw2:0: RuntimeWarning: Sum of squares of weights structure already created\n",
        "TH1F::Sumw2:0: RuntimeWarning: Sum of squares of weights structure already created\n"
       ]
      },
      {
       "output_type": "stream",
       "stream": "stderr",
       "text": [
        "TH1F::Sumw2:0: RuntimeWarning: Sum of squares of weights structure already created\n",
        "TH1F::Sumw2:0: RuntimeWarning: Sum of squares of weights structure already created\n"
       ]
      },
      {
       "output_type": "stream",
       "stream": "stderr",
       "text": [
        "TH1F::Sumw2:0: RuntimeWarning: Sum of squares of weights structure already created\n",
        "TH1F::Sumw2:0: RuntimeWarning: Sum of squares of weights structure already created\n"
       ]
      },
      {
       "output_type": "stream",
       "stream": "stderr",
       "text": [
        "TH1F::Sumw2:0: RuntimeWarning: Sum of squares of weights structure already created\n",
        "TH1F::Sumw2:0: RuntimeWarning: Sum of squares of weights structure already created\n"
       ]
      },
      {
       "output_type": "stream",
       "stream": "stderr",
       "text": [
        "TH1F::Sumw2:0: RuntimeWarning: Sum of squares of weights structure already created\n",
        "TH1F::Sumw2:0: RuntimeWarning: Sum of squares of weights structure already created\n"
       ]
      },
      {
       "output_type": "stream",
       "stream": "stderr",
       "text": [
        "TH1F::Sumw2:0: RuntimeWarning: Sum of squares of weights structure already created\n",
        "TH1F::Sumw2:0: RuntimeWarning: Sum of squares of weights structure already created\n"
       ]
      },
      {
       "output_type": "stream",
       "stream": "stderr",
       "text": [
        "TH1F::Sumw2:0: RuntimeWarning: Sum of squares of weights structure already created\n",
        "TH1F::Sumw2:0: RuntimeWarning: Sum of squares of weights structure already created\n"
       ]
      },
      {
       "output_type": "stream",
       "stream": "stderr",
       "text": [
        "TH1F::Sumw2:0: RuntimeWarning: Sum of squares of weights structure already created\n",
        "TH1F::Sumw2:0: RuntimeWarning: Sum of squares of weights structure already created\n"
       ]
      },
      {
       "output_type": "stream",
       "stream": "stderr",
       "text": [
        "TH1F::Sumw2:0: RuntimeWarning: Sum of squares of weights structure already created\n",
        "TH1F::Sumw2:0: RuntimeWarning: Sum of squares of weights structure already created\n"
       ]
      },
      {
       "output_type": "stream",
       "stream": "stderr",
       "text": [
        "TH1F::Sumw2:0: RuntimeWarning: Sum of squares of weights structure already created\n",
        "TH1F::Sumw2:0: RuntimeWarning: Sum of squares of weights structure already created\n"
       ]
      },
      {
       "output_type": "stream",
       "stream": "stderr",
       "text": [
        "TH1F::Sumw2:0: RuntimeWarning: Sum of squares of weights structure already created\n",
        "TH1F::Sumw2:0: RuntimeWarning: Sum of squares of weights structure already created\n"
       ]
      },
      {
       "output_type": "stream",
       "stream": "stderr",
       "text": [
        "TH1F::Sumw2:0: RuntimeWarning: Sum of squares of weights structure already created\n",
        "TH1F::Sumw2:0: RuntimeWarning: Sum of squares of weights structure already created\n"
       ]
      },
      {
       "output_type": "stream",
       "stream": "stderr",
       "text": [
        "TH1F::Sumw2:0: RuntimeWarning: Sum of squares of weights structure already created\n",
        "TH1F::Sumw2:0: RuntimeWarning: Sum of squares of weights structure already created\n"
       ]
      },
      {
       "output_type": "stream",
       "stream": "stderr",
       "text": [
        "TH1F::Sumw2:0: RuntimeWarning: Sum of squares of weights structure already created\n",
        "TH1F::Sumw2:0: RuntimeWarning: Sum of squares of weights structure already created\n"
       ]
      },
      {
       "output_type": "stream",
       "stream": "stderr",
       "text": [
        "TH1F::Sumw2:0: RuntimeWarning: Sum of squares of weights structure already created\n",
        "TH1F::Sumw2:0: RuntimeWarning: Sum of squares of weights structure already created\n"
       ]
      },
      {
       "output_type": "stream",
       "stream": "stderr",
       "text": [
        "TH1F::Sumw2:0: RuntimeWarning: Sum of squares of weights structure already created\n",
        "TH1F::Sumw2:0: RuntimeWarning: Sum of squares of weights structure already created\n"
       ]
      },
      {
       "output_type": "stream",
       "stream": "stderr",
       "text": [
        "TH1F::Sumw2:0: RuntimeWarning: Sum of squares of weights structure already created\n",
        "TH1F::Sumw2:0: RuntimeWarning: Sum of squares of weights structure already created\n"
       ]
      },
      {
       "output_type": "stream",
       "stream": "stderr",
       "text": [
        "TH1F::Sumw2:0: RuntimeWarning: Sum of squares of weights structure already created\n",
        "TH1F::Sumw2:0: RuntimeWarning: Sum of squares of weights structure already created\n"
       ]
      },
      {
       "output_type": "stream",
       "stream": "stderr",
       "text": [
        "TH1F::Sumw2:0: RuntimeWarning: Sum of squares of weights structure already created\n",
        "TH1F::Sumw2:0: RuntimeWarning: Sum of squares of weights structure already created\n"
       ]
      },
      {
       "output_type": "stream",
       "stream": "stderr",
       "text": [
        "TH1F::Sumw2:0: RuntimeWarning: Sum of squares of weights structure already created\n",
        "TH1F::Sumw2:0: RuntimeWarning: Sum of squares of weights structure already created\n"
       ]
      },
      {
       "output_type": "stream",
       "stream": "stderr",
       "text": [
        "TH1F::Sumw2:0: RuntimeWarning: Sum of squares of weights structure already created\n",
        "TH1F::Sumw2:0: RuntimeWarning: Sum of squares of weights structure already created\n"
       ]
      },
      {
       "output_type": "stream",
       "stream": "stderr",
       "text": [
        "TH1F::Sumw2:0: RuntimeWarning: Sum of squares of weights structure already created\n",
        "TH1F::Sumw2:0: RuntimeWarning: Sum of squares of weights structure already created\n"
       ]
      },
      {
       "output_type": "stream",
       "stream": "stderr",
       "text": [
        "TH1F::Sumw2:0: RuntimeWarning: Sum of squares of weights structure already created\n",
        "TH1F::Sumw2:0: RuntimeWarning: Sum of squares of weights structure already created\n"
       ]
      },
      {
       "output_type": "stream",
       "stream": "stderr",
       "text": [
        "TH1F::Sumw2:0: RuntimeWarning: Sum of squares of weights structure already created\n",
        "TH1F::Sumw2:0: RuntimeWarning: Sum of squares of weights structure already created\n"
       ]
      },
      {
       "output_type": "stream",
       "stream": "stderr",
       "text": [
        "TH1F::Sumw2:0: RuntimeWarning: Sum of squares of weights structure already created\n",
        "TH1F::Sumw2:0: RuntimeWarning: Sum of squares of weights structure already created\n"
       ]
      },
      {
       "output_type": "stream",
       "stream": "stderr",
       "text": [
        "TH1F::Sumw2:0: RuntimeWarning: Sum of squares of weights structure already created\n",
        "TH1F::Sumw2:0: RuntimeWarning: Sum of squares of weights structure already created\n"
       ]
      },
      {
       "output_type": "stream",
       "stream": "stderr",
       "text": [
        "TH1F::Sumw2:0: RuntimeWarning: Sum of squares of weights structure already created\n",
        "TH1F::Sumw2:0: RuntimeWarning: Sum of squares of weights structure already created\n"
       ]
      },
      {
       "output_type": "stream",
       "stream": "stderr",
       "text": [
        "TH1F::Sumw2:0: RuntimeWarning: Sum of squares of weights structure already created\n",
        "TH1F::Sumw2:0: RuntimeWarning: Sum of squares of weights structure already created\n"
       ]
      },
      {
       "output_type": "stream",
       "stream": "stderr",
       "text": [
        "TH1F::Sumw2:0: RuntimeWarning: Sum of squares of weights structure already created\n",
        "TH1F::Sumw2:0: RuntimeWarning: Sum of squares of weights structure already created\n"
       ]
      }
     ],
     "prompt_number": 20
    },
    {
     "cell_type": "heading",
     "level": 3,
     "metadata": {},
     "source": [
      "Nminus1 plots, Analysis selection, Control Sample"
     ]
    },
    {
     "cell_type": "code",
     "collapsed": false,
     "input": [
      "CutsNm1=[ROOT.TCut(\"\"),Cut1,CutDRbb,CutDRWH,CutHM,CutM2HP,CutDRTp6thJ,CutRelHT]\n",
      "OptVersion=NominalV+\"_\"+InclusiveV1+\"_\"+InclusiveV2\n",
      "\n",
      "CumulCut=ROOT.TCut(\"\")*CutHT\n",
      "SF=ROOT.TCut(\"weight\")\n",
      "PU=ROOT.TCut(\"PUR_function(NTI)\")\n",
      "#CMC=ROOT.TCut(\"weight*PUR_function(NTI)\")\n",
      "#CMC=PU\n",
      "CMC=ROOT.TCut(\"\")\n",
      "#CumulCut=CMC\n",
      "\n",
      "#\"M5J:DRHJ:DRWH:RelHT:Eta6thJ:M2HP:DRTp6thJ:HM:chi2:MTHAsym\"\n",
      "\n",
      "PDFName=\"Nminus1_AnaSel_ControlSampleOneCombination_Chi2g8_0to500_\"+OptVersion+\".pdf\"\n",
      "CurCanv = rootnotes.canvas(\"MyPlot\", (600, 800))\n",
      "Titles=[\"chi2\", \"DRHJ\",\"DRWH\", \"M2HP\", \"DRTp6thJ\", \"HM\", \"RelHT\", \"MTHAsym\", \n",
      "        \"THT\", \"NComb\"]\n",
      "\n",
      "BinsLimits=[\"(50,0,500)\",\"(22,0.5,5)\",\"(40,0.5,10)\",\"(41,0,20)\",\"(30,0.5,10)\",\"(25,60,190)\",\"(20,0.1,1.0)\",\"(30,-0.5,1)\",\n",
      "            \"(50,400,3000)\", \"(19,1,20)\"]\n",
      "Units=[\"\",\"\",\"\",\"\",\"\",\"GeV/c^{2}\",\"\",\"\",\n",
      "       \"GeV/c\",\"\"]\n",
      "XaxisT=[\"#chi^{2}\",\"#Delta R(bb)\", \"#Delta R(WH)\", \"(M(t^{2nd})+M(W^{2nd}))/M(H)\", \"#Delta R (T' j^{6})\", \"M(H)\",\n",
      "        \"Relative H_{T}\", \"(M(t)-M(H))/(M(t)+M(H))\",\n",
      "        \"H_{T}\",\"N combinations\"]\n",
      "\n",
      "ValString=[\"Data\",\"TTbar\",\"QCD\",\"MC-Sum\"]\n",
      "\n",
      "for i in xrange(len(CutsNm1)):\n",
      "    CumulCut=CumulCut*CutsNm1[i]\n",
      "    for j in xrange(len(Titles)):\n",
      "        TTbarNm1Histos=[]; DataNm1Histos=[]; QCDNm1Histos=[]\n",
      "        SingleTNm1Histos=[]; DibosonNm1Histos=[]; DYNm1Histos=[]\n",
      "        SignalNm1Histos=[]\n",
      "    \n",
      "        NMassPointsE[2].Draw(Titles[j]+\" >> \"+Titles[j]+\"S_Cut\"+str(i)+str(j)+BinsLimits[j],CumulCut*CMC)\n",
      "        SignalNm1Histos.append(ROOT.gDirectory.Get(Titles[j]+\"S_Cut\"+str(i)+str(j)))\n",
      "        SignalNm1Histos[-1].Sumw2(); SignalNm1Histos[-1].Scale(SWeight)\n",
      "    \n",
      "        TntupleE.Draw(Titles[j]+\" >> \"+Titles[j]+\"T_Cut\"+str(i)+str(j)+BinsLimits[j],CumulCut*CMC)\n",
      "        TTbarNm1Histos.append(ROOT.gDirectory.Get(Titles[j]+\"T_Cut\"+str(i)+str(j)))\n",
      "        TTbarNm1Histos[-1].Sumw2(); TTbarNm1Histos[-1].Scale(TWeight) #; TTbarHistos[-1].Write()\n",
      "                \n",
      "        QCDHT=[]\n",
      "        QntuplesE[0].Draw(Titles[j]+\" >> \"+Titles[j]+\"Q500_Cut\"+str(i)+str(j)+BinsLimits[j],CumulCut*CMC)\n",
      "        QCDHT.append(ROOT.gDirectory.Get(Titles[j]+\"Q500_Cut\"+str(i)+str(j)))\n",
      "        QCDHT[-1].Sumw2(); QCDHT[-1].Scale(QWeights[0]) #; QCD500Histos[-1].Write()\n",
      "        \n",
      "        QntuplesE[1].Draw(Titles[j]+\" >> \"+Titles[j]+\"Q1000_Cut\"+str(i)+str(j)+BinsLimits[j],CumulCut*CMC)\n",
      "        QCDHT.append(ROOT.gDirectory.Get(Titles[j]+\"Q1000_Cut\"+str(i)+str(j)))\n",
      "        QCDHT[-1].Sumw2(); QCDHT[-1].Scale(QWeights[1]) #; QCD1000Histos[-1].Write()\n",
      "    \n",
      "        STHT=[]\n",
      "        for k in xrange(6): #Single Top\n",
      "            if SubBKGArrayE[k].GetEntries()>0:\n",
      "                SubBKGArrayE[k].Draw(Titles[j]+\" >> \"+Titles[j]+\"ST_Cut\"+str(i)+str(j)+\"_\"+str(k)+BinsLimits[j],CumulCut*CMC)\n",
      "                STHT.append(ROOT.gDirectory.Get(Titles[j]+\"ST_Cut\"+str(i)+str(j)+\"_\"+str(k)))\n",
      "                STHT[-1].Sumw2(); STHT[-1].Scale(SingleTWeights[k])\n",
      "        SingleTNm1Histos.append(STHT)\n",
      "            \n",
      "        DiHT=[]\n",
      "        for k in xrange(3): #Diboson\n",
      "            if SubBKGArrayE[k+6].GetEntries()>0:\n",
      "                SubBKGArrayE[k+6].Draw(Titles[j]+\" >> \"+Titles[j]+\"Di_Cut\"+str(i)+str(j)+\"_\"+str(k)+BinsLimits[j],CumulCut*CMC)\n",
      "                DiHT.append(ROOT.gDirectory.Get(Titles[j]+\"Di_Cut\"+str(i)+str(j)+\"_\"+str(k)))\n",
      "                DiHT[-1].Sumw2(); DiHT[-1].Scale(DibosonWeights[k])\n",
      "        DibosonNm1Histos.append(DiHT)\n",
      "        \n",
      "        DYHT=[]\n",
      "        for k in xrange(2): #DY\n",
      "            if SubBKGArrayE[k+9].GetEntries()>0:\n",
      "                SubBKGArrayE[k+9].Draw(Titles[j]+\" >> \"+Titles[j]+\"DY_Cut\"+str(i)+str(j)+\"_\"+str(k)+BinsLimits[j],CumulCut*CMC)\n",
      "                DYHT.append(ROOT.gDirectory.Get(Titles[j]+\"DY_Cut\"+str(i)+str(j)+\"_\"+str(k)))\n",
      "                DYHT[-1].Sumw2(); DYHT[-1].Scale(DYWeights[k])\n",
      "        DYNm1Histos.append(DYHT)\n",
      "        \n",
      "        if QCDPTFLAG: \n",
      "            for k in xrange(6): #QCD PT hat\n",
      "                if SubBKGArrayE[k+11].GetEntries()>0:\n",
      "                    SubBKGArrayE[k+11].Draw(Titles[j]+\" >> \"+Titles[j]+\"QCDPT_Cut\"+str(i)+str(j)+\"_\"+str(k)+BinsLimits[j],CumulCut*CMC)\n",
      "                    QCDHT.append(ROOT.gDirectory.Get(Titles[j]+\"QCDPT_Cut\"+str(i)+str(j)+\"_\"+str(k)))\n",
      "                    QCDHT[-1].Sumw2(); QCDHT[-1].Scale(QCDPTWeights[k])\n",
      "        QCDNm1Histos.append(QCDHT)\n",
      "\n",
      "        QCDFull=QCDNm1Histos[-1][0].Clone(Titles[j]+\"Q_Cut\"+str(i)+str(j))\n",
      "        for k in QCDNm1Histos[-1][1:]:\n",
      "            QCDFull.Add(k)\n",
      "        \n",
      "        SingleTFull=SingleTNm1Histos[-1][0].Clone(Titles[j]+\"ST_Cut\"+str(i)+str(j))\n",
      "        for k in SingleTNm1Histos[-1][1:]:\n",
      "            SingleTFull.Add(k)\n",
      "    \n",
      "        DibosonFull=DibosonNm1Histos[-1][0].Clone(Titles[j]+\"Di_Cut\"+str(i)+str(j))\n",
      "        for k in DibosonNm1Histos[-1][1:]:\n",
      "            DibosonFull.Add(k)\n",
      "        \n",
      "        DYFull=DYNm1Histos[-1][0].Clone(Titles[j]+\"DY_Cut\"+str(i)+str(j))\n",
      "        for k in DYNm1Histos[-1][1:]:\n",
      "            DYFull.Add(k)\n",
      "    \n",
      "        MCFull=QCDFull.Clone(Titles[j]+\"MC_Cut\"+str(i)+str(j))\n",
      "        MCFull.Add(TTbarNm1Histos[-1])\n",
      "        MCFull.Add(SingleTFull)\n",
      "        MCFull.Add(DibosonFull)\n",
      "        MCFull.Add(DYFull)\n",
      "\n",
      "        DataE[0].Draw(Titles[j]+\" >> \"+Titles[j]+\"D_Cut\"+str(i)+str(j)+BinsLimits[j],CumulCut)\n",
      "        DataNm1Histos.append(ROOT.gDirectory.Get(Titles[j]+\"D_Cut\"+str(i)+str(j)))\n",
      "\n",
      "        ROOT.gPad.Clear()\n",
      "\n",
      "        CurrentStyle=ROOT.TStyle(\"CStyle\",\"Style for Plotting\")\n",
      "    \n",
      "        CurrentStyle.SetTitleSize(0.08, \"Y\")\n",
      "        CurrentStyle.SetTitleYOffset(1.5)\n",
      "                \n",
      "        CurCanv1 = rootnotes.canvas(\"MyPlot\", (600, 800))\n",
      "        CurCanv1.cd(1)\n",
      "        Pad1=ROOT.TPad(\"pad1\",\"pad1\",0,0.3,1,1)\n",
      "        Pad1.SetBottomMargin(0)\n",
      "        Pad1.SetLeftMargin(0.16)\n",
      "        Pad1.Draw()\n",
      "        Pad1.cd()\n",
      "        \n",
      "        MCFull.SetStats(ROOT.kFALSE)\n",
      "        MinX=float(BinsLimits[j].split(\",\")[1])\n",
      "        MaxX=float(BinsLimits[j].split(\",\")[-1][0:-1])\n",
      "        Nbins=int(BinsLimits[j].split(\",\")[0][1:])\n",
      "        if i!=5: MCFull.SetTitle(\";;Events/{0:.1f} \".format((MaxX-MinX)/Nbins)+Units[j])\n",
      "        else: MCFull.SetTitle(\";;Events/{0:.2f} \".format((MaxX-MinX)/Nbins)+Units[j])\n",
      "        SetAxis(MCFull,'Y',1.45,0.05,0.007,0.05,510)\n",
      "        SetAxis(DataNm1Histos[-1],'Y',1.45,0.05,0.007,0.05,510)\n",
      "        SetAxis(SignalNm1Histos[-1],'Y',1.45,0.05,0.007,0.05,510)\n",
      "        SetAxis(TTbarNm1Histos[-1],'Y',1.45,0.05,0.007,0.05,510)\n",
      "        SetAxis(QCDFull,'Y',1.45,0.05,0.007,0.05,510)\n",
      "        SetAxis(SingleTFull,'Y',1.45,0.05,0.007,0.05,510)\n",
      "        SetAxis(DibosonFull,'Y',1.45,0.05,0.007,0.05,510)\n",
      "        SetAxis(DYFull,'Y',1.45,0.05,0.007,0.05,510)\n",
      "    \n",
      "        SetCos(DataNm1Histos[-1],0,0,ROOT.kBlack,2,1,20)\n",
      "        SetCos(SignalNm1Histos[-1],ROOT.kSpring,3444,ROOT.kBlack,2,1,1)\n",
      "        SetCos(TTbarNm1Histos[-1],ROOT.kRed,3345,ROOT.kBlack,1,1,1)\n",
      "        SetCos(QCDFull,ROOT.kViolet,1001,ROOT.kBlack,1,1,1)\n",
      "        SetCos(SingleTFull,ROOT.kBlack,3305,ROOT.kBlack,1,1,1)\n",
      "        SetCos(DibosonFull,ROOT.kWhite,1001,ROOT.kBlack,1,1,1)\n",
      "        SetCos(DYFull,ROOT.kBlue,1001,ROOT.kBlack,1,1,1)\n",
      "        SetCos(MCFull,ROOT.kGray+2,3144,ROOT.kGray+2,1,1,1)\n",
      "            \n",
      "        CloneD=DataNm1Histos[-1].Clone(\"CopyD\"); CloneMC=MCFull.Clone(\"CopyMC\")\n",
      "        if j!=6: AllBKGStack=ROOT.THStack(\"AllBKGStack\", \";;Events/{0:.1f} \".format((MaxX-MinX)/Nbins)+Units[j])\n",
      "        else: AllBKGStack=ROOT.THStack(\"AllBKGStack\", \";;Events/{0:.2f} \".format((MaxX-MinX)/Nbins)+Units[j])\n",
      "        AllBKGStack.Add(DibosonFull); AllBKGStack.Add(SingleTFull)\n",
      "        AllBKGStack.Add(TTbarNm1Histos[-1]); AllBKGStack.Add(DYFull); AllBKGStack.Add(QCDFull)\n",
      "        AllBKGStack.SetMinimum(0.3)\n",
      "    \n",
      "        if j<6 or j>7: LEG=ROOT.TLegend(0.6,0.6,0.9,0.9)\n",
      "        else: LEG=ROOT.TLegend(0.2,0.6,0.5,0.9)\n",
      "        LEG.AddEntry(DataNm1Histos[-1], \"Data\", \"p\")\n",
      "        LEG.AddEntry(QCDFull, \"QCD\", \"f\")\n",
      "        LEG.AddEntry(DYFull, \"Zjets\", \"f\")\n",
      "        LEG.AddEntry(TTbarNm1Histos[-1], \"TTbar\", \"f\")\n",
      "        LEG.AddEntry(SingleTFull, \"Single Top\", \"f\")\n",
      "        LEG.AddEntry(DibosonFull, \"Diboson\", \"f\")\n",
      "        LEG.AddEntry(SignalNm1Histos[-1], \"Signal M(T')=700 GeV/c^{2}\", \"f\")\n",
      "        LEG.SetFillColor(0)\n",
      "        Maxima=[MCFull.GetBinErrorUp(MCFull.GetMaximumBin())+MCFull.GetMaximum(),DataNm1Histos[-1].GetBinErrorUp(DataNm1Histos[-1].GetMaximumBin())+DataNm1Histos[-1].GetMaximum()]\n",
      "        AllBKGStack.SetMaximum(1.05*max(Maxima))\n",
      "        AllBKGStack.Draw(\"hist\")\n",
      "        AllBKGStack.GetHistogram().GetYaxis().SetTitleOffset(1.65)\n",
      "        MCFull.Draw(\"e2 same\")\n",
      "        SignalNm1Histos[-1].Draw(\"hist same\"); DataNm1Histos[-1].Draw(\"E0X0 same\")\n",
      "        if i!=len(CutsNm1): Pad1.SetLogy(); Pad1.RedrawAxis()\n",
      "    \n",
      "        LEG.Draw()\n",
      "        CurrentStyle.SetPadTickX(1)\n",
      "        CurCanv1.cd()\n",
      "        \n",
      "        Pad2=ROOT.TPad(\"pad2\",\"pad2\",0,0,1,0.3)\n",
      "        Pad2.SetTopMargin(0)\n",
      "        Pad2.SetLeftMargin(0.16)\n",
      "        Pad2.SetBottomMargin(0.25)\n",
      "        Pad2.Draw()\n",
      "        Pad2.cd()\n",
      "        \n",
      "        CloneMC.SetMinimum(0.1); CloneMC.SetMaximum(1.9)\n",
      "        CloneMC.Sumw2()\n",
      "        CloneMC.SetStats(0)\n",
      "        CloneMC.SetTitle(\";\"+XaxisT[j]+\" \"+Units[j]+\";Data/MC\")\n",
      "        CloneMC.Divide(MCFull)\n",
      "        CloneMC.SetFillStyle(1001)\n",
      "        SetAxis(CloneMC,'X',0.9,0.09,0.007,0.09,510)\n",
      "        SetAxis(CloneMC,'Y',0.75,0.09,0.007,0.09,404)\n",
      "        CloneMC.Draw(\"E2\")\n",
      "        \n",
      "        CloneD.Sumw2()\n",
      "        #CloneD.Scale(DataNm1Histos[-1].Integral()/CloneD.Integral()); CloneE.SetStats(0)\n",
      "        CloneD.SetTitle(\";\"+XaxisT[j]+\" \"+Units[j]+\";Data/MC\")\n",
      "        CloneD.Divide(MCFull)\n",
      "        CloneD.Draw(\"E0X0 same\")\n",
      "        \n",
      "        if i==0 and j==0: CurCanv1.Print(PDFName+\"(\",\"Title:\"+Titles[j])\n",
      "        elif i==(len(CutsNm1)-1) and j==(len(Titles)-1): CurCanv1.Print(PDFName+\")\",\"Title:\"+Titles[j])\n",
      "        else: CurCanv1.Print(PDFName,\"Title:\"+Titles[j])\n",
      "        \n",
      "        CurCanv1.Clear(); CurrentStyle.SetPadTickX(0)\n",
      "        CurCanv1.cd(1)\n",
      "                    \n",
      "    #del(HistosToplot); del(CurCanv1); del(Pad1); del(Pad2)\n",
      "    #del(CloneA); del(CloneE); del(CloneE1); del(CloneE2)"
     ],
     "language": "python",
     "metadata": {},
     "outputs": [
      {
       "output_type": "stream",
       "stream": "stderr",
       "text": [
        "TH1F::Sumw2:0: RuntimeWarning: Sum of squares of weights structure already created\n",
        "TH1F::Sumw2:0: RuntimeWarning: Sum of squares of weights structure already created\n"
       ]
      },
      {
       "output_type": "stream",
       "stream": "stderr",
       "text": [
        "TH1F::Sumw2:0: RuntimeWarning: Sum of squares of weights structure already created\n",
        "TH1F::Sumw2:0: RuntimeWarning: Sum of squares of weights structure already created\n"
       ]
      },
      {
       "output_type": "stream",
       "stream": "stderr",
       "text": [
        "TH1F::Sumw2:0: RuntimeWarning: Sum of squares of weights structure already created\n",
        "TH1F::Sumw2:0: RuntimeWarning: Sum of squares of weights structure already created\n"
       ]
      },
      {
       "output_type": "stream",
       "stream": "stderr",
       "text": [
        "TH1F::Sumw2:0: RuntimeWarning: Sum of squares of weights structure already created\n",
        "TH1F::Sumw2:0: RuntimeWarning: Sum of squares of weights structure already created\n"
       ]
      },
      {
       "output_type": "stream",
       "stream": "stderr",
       "text": [
        "TH1F::Sumw2:0: RuntimeWarning: Sum of squares of weights structure already created\n",
        "TH1F::Sumw2:0: RuntimeWarning: Sum of squares of weights structure already created\n"
       ]
      },
      {
       "output_type": "stream",
       "stream": "stderr",
       "text": [
        "TH1F::Sumw2:0: RuntimeWarning: Sum of squares of weights structure already created\n",
        "TH1F::Sumw2:0: RuntimeWarning: Sum of squares of weights structure already created\n"
       ]
      },
      {
       "output_type": "stream",
       "stream": "stderr",
       "text": [
        "TH1F::Sumw2:0: RuntimeWarning: Sum of squares of weights structure already created\n",
        "TH1F::Sumw2:0: RuntimeWarning: Sum of squares of weights structure already created\n"
       ]
      },
      {
       "output_type": "stream",
       "stream": "stderr",
       "text": [
        "TH1F::Sumw2:0: RuntimeWarning: Sum of squares of weights structure already created\n",
        "TH1F::Sumw2:0: RuntimeWarning: Sum of squares of weights structure already created\n"
       ]
      },
      {
       "output_type": "stream",
       "stream": "stderr",
       "text": [
        "TH1F::Sumw2:0: RuntimeWarning: Sum of squares of weights structure already created\n",
        "TH1F::Sumw2:0: RuntimeWarning: Sum of squares of weights structure already created\n"
       ]
      },
      {
       "output_type": "stream",
       "stream": "stderr",
       "text": [
        "TH1F::Sumw2:0: RuntimeWarning: Sum of squares of weights structure already created\n",
        "TH1F::Sumw2:0: RuntimeWarning: Sum of squares of weights structure already created\n"
       ]
      },
      {
       "output_type": "stream",
       "stream": "stderr",
       "text": [
        "TH1F::Sumw2:0: RuntimeWarning: Sum of squares of weights structure already created\n",
        "TH1F::Sumw2:0: RuntimeWarning: Sum of squares of weights structure already created\n"
       ]
      },
      {
       "output_type": "stream",
       "stream": "stderr",
       "text": [
        "TH1F::Sumw2:0: RuntimeWarning: Sum of squares of weights structure already created\n",
        "TH1F::Sumw2:0: RuntimeWarning: Sum of squares of weights structure already created\n"
       ]
      },
      {
       "output_type": "stream",
       "stream": "stderr",
       "text": [
        "TH1F::Sumw2:0: RuntimeWarning: Sum of squares of weights structure already created\n",
        "TH1F::Sumw2:0: RuntimeWarning: Sum of squares of weights structure already created\n"
       ]
      },
      {
       "output_type": "stream",
       "stream": "stderr",
       "text": [
        "TH1F::Sumw2:0: RuntimeWarning: Sum of squares of weights structure already created\n",
        "TH1F::Sumw2:0: RuntimeWarning: Sum of squares of weights structure already created\n"
       ]
      },
      {
       "output_type": "stream",
       "stream": "stderr",
       "text": [
        "TH1F::Sumw2:0: RuntimeWarning: Sum of squares of weights structure already created\n",
        "TH1F::Sumw2:0: RuntimeWarning: Sum of squares of weights structure already created\n"
       ]
      },
      {
       "output_type": "stream",
       "stream": "stderr",
       "text": [
        "TH1F::Sumw2:0: RuntimeWarning: Sum of squares of weights structure already created\n",
        "TH1F::Sumw2:0: RuntimeWarning: Sum of squares of weights structure already created\n"
       ]
      },
      {
       "output_type": "stream",
       "stream": "stderr",
       "text": [
        "TH1F::Sumw2:0: RuntimeWarning: Sum of squares of weights structure already created\n",
        "TH1F::Sumw2:0: RuntimeWarning: Sum of squares of weights structure already created\n"
       ]
      },
      {
       "output_type": "stream",
       "stream": "stderr",
       "text": [
        "TH1F::Sumw2:0: RuntimeWarning: Sum of squares of weights structure already created\n",
        "TH1F::Sumw2:0: RuntimeWarning: Sum of squares of weights structure already created\n"
       ]
      },
      {
       "output_type": "stream",
       "stream": "stderr",
       "text": [
        "TH1F::Sumw2:0: RuntimeWarning: Sum of squares of weights structure already created\n",
        "TH1F::Sumw2:0: RuntimeWarning: Sum of squares of weights structure already created\n"
       ]
      },
      {
       "output_type": "stream",
       "stream": "stderr",
       "text": [
        "TH1F::Sumw2:0: RuntimeWarning: Sum of squares of weights structure already created\n",
        "TH1F::Sumw2:0: RuntimeWarning: Sum of squares of weights structure already created\n"
       ]
      },
      {
       "output_type": "stream",
       "stream": "stderr",
       "text": [
        "TH1F::Sumw2:0: RuntimeWarning: Sum of squares of weights structure already created\n",
        "TH1F::Sumw2:0: RuntimeWarning: Sum of squares of weights structure already created\n"
       ]
      },
      {
       "output_type": "stream",
       "stream": "stderr",
       "text": [
        "TH1F::Sumw2:0: RuntimeWarning: Sum of squares of weights structure already created\n",
        "TH1F::Sumw2:0: RuntimeWarning: Sum of squares of weights structure already created\n"
       ]
      },
      {
       "output_type": "stream",
       "stream": "stderr",
       "text": [
        "TH1F::Sumw2:0: RuntimeWarning: Sum of squares of weights structure already created\n",
        "TH1F::Sumw2:0: RuntimeWarning: Sum of squares of weights structure already created\n"
       ]
      },
      {
       "output_type": "stream",
       "stream": "stderr",
       "text": [
        "TH1F::Sumw2:0: RuntimeWarning: Sum of squares of weights structure already created\n",
        "TH1F::Sumw2:0: RuntimeWarning: Sum of squares of weights structure already created\n"
       ]
      },
      {
       "output_type": "stream",
       "stream": "stderr",
       "text": [
        "TH1F::Sumw2:0: RuntimeWarning: Sum of squares of weights structure already created\n",
        "TH1F::Sumw2:0: RuntimeWarning: Sum of squares of weights structure already created\n"
       ]
      },
      {
       "output_type": "stream",
       "stream": "stderr",
       "text": [
        "TH1F::Sumw2:0: RuntimeWarning: Sum of squares of weights structure already created\n",
        "TH1F::Sumw2:0: RuntimeWarning: Sum of squares of weights structure already created\n"
       ]
      },
      {
       "output_type": "stream",
       "stream": "stderr",
       "text": [
        "TH1F::Sumw2:0: RuntimeWarning: Sum of squares of weights structure already created\n",
        "TH1F::Sumw2:0: RuntimeWarning: Sum of squares of weights structure already created\n"
       ]
      },
      {
       "output_type": "stream",
       "stream": "stderr",
       "text": [
        "TH1F::Sumw2:0: RuntimeWarning: Sum of squares of weights structure already created\n",
        "TH1F::Sumw2:0: RuntimeWarning: Sum of squares of weights structure already created\n"
       ]
      },
      {
       "output_type": "stream",
       "stream": "stderr",
       "text": [
        "TH1F::Sumw2:0: RuntimeWarning: Sum of squares of weights structure already created\n",
        "TH1F::Sumw2:0: RuntimeWarning: Sum of squares of weights structure already created\n"
       ]
      },
      {
       "output_type": "stream",
       "stream": "stderr",
       "text": [
        "TH1F::Sumw2:0: RuntimeWarning: Sum of squares of weights structure already created\n",
        "TH1F::Sumw2:0: RuntimeWarning: Sum of squares of weights structure already created\n"
       ]
      },
      {
       "output_type": "stream",
       "stream": "stderr",
       "text": [
        "TH1F::Sumw2:0: RuntimeWarning: Sum of squares of weights structure already created\n",
        "TH1F::Sumw2:0: RuntimeWarning: Sum of squares of weights structure already created\n"
       ]
      },
      {
       "output_type": "stream",
       "stream": "stderr",
       "text": [
        "TH1F::Sumw2:0: RuntimeWarning: Sum of squares of weights structure already created\n",
        "TH1F::Sumw2:0: RuntimeWarning: Sum of squares of weights structure already created\n"
       ]
      },
      {
       "output_type": "stream",
       "stream": "stderr",
       "text": [
        "TH1F::Sumw2:0: RuntimeWarning: Sum of squares of weights structure already created\n",
        "TH1F::Sumw2:0: RuntimeWarning: Sum of squares of weights structure already created\n"
       ]
      },
      {
       "output_type": "stream",
       "stream": "stderr",
       "text": [
        "TH1F::Sumw2:0: RuntimeWarning: Sum of squares of weights structure already created\n",
        "TH1F::Sumw2:0: RuntimeWarning: Sum of squares of weights structure already created\n"
       ]
      },
      {
       "output_type": "stream",
       "stream": "stderr",
       "text": [
        "TH1F::Sumw2:0: RuntimeWarning: Sum of squares of weights structure already created\n",
        "TH1F::Sumw2:0: RuntimeWarning: Sum of squares of weights structure already created\n"
       ]
      },
      {
       "output_type": "stream",
       "stream": "stderr",
       "text": [
        "TH1F::Sumw2:0: RuntimeWarning: Sum of squares of weights structure already created\n",
        "TH1F::Sumw2:0: RuntimeWarning: Sum of squares of weights structure already created\n"
       ]
      },
      {
       "output_type": "stream",
       "stream": "stderr",
       "text": [
        "TH1F::Sumw2:0: RuntimeWarning: Sum of squares of weights structure already created\n",
        "TH1F::Sumw2:0: RuntimeWarning: Sum of squares of weights structure already created\n"
       ]
      },
      {
       "output_type": "stream",
       "stream": "stderr",
       "text": [
        "TH1F::Sumw2:0: RuntimeWarning: Sum of squares of weights structure already created\n",
        "TH1F::Sumw2:0: RuntimeWarning: Sum of squares of weights structure already created\n"
       ]
      },
      {
       "output_type": "stream",
       "stream": "stderr",
       "text": [
        "TH1F::Sumw2:0: RuntimeWarning: Sum of squares of weights structure already created\n",
        "TH1F::Sumw2:0: RuntimeWarning: Sum of squares of weights structure already created\n"
       ]
      },
      {
       "output_type": "stream",
       "stream": "stderr",
       "text": [
        "TH1F::Sumw2:0: RuntimeWarning: Sum of squares of weights structure already created\n",
        "TH1F::Sumw2:0: RuntimeWarning: Sum of squares of weights structure already created\n"
       ]
      }
     ],
     "prompt_number": 11
    },
    {
     "cell_type": "heading",
     "level": 3,
     "metadata": {},
     "source": [
      "Nminus1 plots, Analysis selection, Signal Sample using Control Sample"
     ]
    },
    {
     "cell_type": "code",
     "collapsed": false,
     "input": [
      "CutsNm1=[ROOT.TCut(\"\"),Cut1,CutDRbb,CutDRWH,CutHM,CutM2HP,CutDRTp6thJ,CutRelHT]\n",
      "OptVersion=NominalV+\"_\"+InclusiveV1+\"_\"+InclusiveV2\n",
      "\n",
      "CumulCut=ROOT.TCut(\"\")*CutHT\n",
      "SF=ROOT.TCut(\"weight\")\n",
      "PU=ROOT.TCut(\"PUR_function(NTI)\")\n",
      "#CMC=ROOT.TCut(\"weight*PUR_function(NTI)\")\n",
      "#CMC=PU\n",
      "CMC=ROOT.TCut(\"\")\n",
      "#CumulCut=CMC\n",
      "\n",
      "#\"M5J:DRHJ:DRWH:RelHT:Eta6thJ:M2HP:DRTp6thJ:HM:chi2:MTHAsym\"\n",
      "\n",
      "PDFName=\"Nminus1_AnaSel_BKGFromControlSampleOneCombination_\"+OptVersion+\".pdf\"\n",
      "CurCanv = rootnotes.canvas(\"MyPlot\", (600, 800))\n",
      "Titles=[\"chi2\", \"DRHJ\",\"DRWH\", \"HM\" , \"M2HP\", \"DRTp6thJ\", \"RelHT\", \"MTHAsym\", \n",
      "        \"THT\"]\n",
      "\n",
      "BinsLimits=[\"(50,0,500)\",\"(22,0.5,5)\",\"(30,0.5,10)\",\"(20,60,190)\",\"(31,0,20)\",\"(20,0.5,10)\",\"(15,0.1,1.0)\",\"(30,-0.5,1)\",\n",
      "            \"(35,400,3000)\"]\n",
      "Units=[\"\",\"\",\"\",\"\",\"\",\"GeV/c^{2}\",\"\",\"\",\n",
      "       \"GeV/c\"]\n",
      "XaxisT=[\"#chi^{2}\",\"#Delta R(bb)\", \"#Delta R(WH)\", \"M(H)\", \"(M(t^{2nd})+M(W^{2nd}))/M(H)\", \"#Delta R (T' j^{6})\",\n",
      "        \"Relative H_{T}\", \"(M(t)-M(H))/(M(t)+M(H))\",\n",
      "        \"H_{T}\"]\n",
      "\n",
      "ValString=[\"Data\",\"TTbar\",\"QCD\",\"MC-Sum\"]\n",
      "\n",
      "for i in xrange(len(CutsNm1)):\n",
      "    CumulCut=CumulCut*CutsNm1[i]\n",
      "    for j in xrange(len(Titles)):\n",
      "        BKGNm1Histos=[]; DataNm1Histos=[]\n",
      "    \n",
      "        DataA[0].Draw(Titles[j]+\" >> \"+Titles[j]+\"AD_Cut\"+str(i)+str(j)+BinsLimits[j],CumulCut)\n",
      "        DataNm1Histos.append(ROOT.gDirectory.Get(Titles[j]+\"AD_Cut\"+str(i)+str(j)))\n",
      "\n",
      "        DataE[0].Draw(Titles[j]+\" >> \"+Titles[j]+\"ED_Cut\"+str(i)+str(j)+BinsLimits[j],CumulCut)\n",
      "        BKGNm1Histos.append(ROOT.gDirectory.Get(Titles[j]+\"ED_Cut\"+str(i)+str(j)))\n",
      "        BKGNm1Histos[-1].Sumw2(); BKGNm1Histos[-1].Scale(DataNm1Histos[-1].Integral()/BKGNm1Histos[-1].Integral())\n",
      "        \n",
      "        ROOT.gPad.Clear()\n",
      "\n",
      "        CurrentStyle=ROOT.TStyle(\"CStyle\",\"Style for Plotting\")\n",
      "    \n",
      "        CurrentStyle.SetTitleSize(0.08, \"Y\")\n",
      "        CurrentStyle.SetTitleYOffset(1.5)\n",
      "                \n",
      "        CurCanv1 = rootnotes.canvas(\"MyPlot\", (600, 800))\n",
      "        CurCanv1.cd(1)\n",
      "        Pad1=ROOT.TPad(\"pad1\",\"pad1\",0,0.3,1,1)\n",
      "        Pad1.SetBottomMargin(0)\n",
      "        Pad1.SetLeftMargin(0.16)\n",
      "        Pad1.Draw()\n",
      "        Pad1.cd()\n",
      "        \n",
      "        BKGNm1Histos[-1].SetStats(ROOT.kFALSE)\n",
      "        MinX=float(BinsLimits[j].split(\",\")[1])\n",
      "        MaxX=float(BinsLimits[j].split(\",\")[-1][0:-1])\n",
      "        Nbins=int(BinsLimits[j].split(\",\")[0][1:])\n",
      "        if i!=5: BKGNm1Histos[-1].SetTitle(\";;Events/{0:.1f} \".format((MaxX-MinX)/Nbins)+Units[j])\n",
      "        else: BKGNm1Histos[-1].SetTitle(\";;Events/{0:.2f} \".format((MaxX-MinX)/Nbins)+Units[j])\n",
      "        SetAxis(BKGNm1Histos[-1],'Y',1.45,0.05,0.007,0.05,510)\n",
      "        SetAxis(DataNm1Histos[-1],'Y',1.45,0.05,0.007,0.05,510)\n",
      "    \n",
      "        SetCos(DataNm1Histos[-1],0,0,ROOT.kBlack,2,1,20)\n",
      "        SetCos(BKGNm1Histos[-1],ROOT.kGray+2,3144,ROOT.kGray+2,1,1,1)\n",
      "            \n",
      "        CloneD=DataNm1Histos[-1].Clone(\"CopyD\"); CloneMC=BKGNm1Histos[-1].Clone(\"CopyMC\")\n",
      "        BKGNm1Histos[-1].SetMinimum(0.3)\n",
      "    \n",
      "        if j<6 or j>7: LEG=ROOT.TLegend(0.6,0.6,0.9,0.9)\n",
      "        else: LEG=ROOT.TLegend(0.2,0.6,0.5,0.9)\n",
      "        LEG.AddEntry(DataNm1Histos[-1], \"Data\", \"p\")\n",
      "        LEG.AddEntry(BKGNm1Histos[-1], \"Control Sample\", \"f\")\n",
      "        LEG.SetFillColor(0)\n",
      "        Maxima=[BKGNm1Histos[-1].GetBinErrorUp(BKGNm1Histos[-1].GetMaximumBin())+BKGNm1Histos[-1].GetMaximum(),DataNm1Histos[-1].GetBinErrorUp(DataNm1Histos[-1].GetMaximumBin())+DataNm1Histos[-1].GetMaximum()]\n",
      "        BKGNm1Histos[-1].SetMaximum(1.05*max(Maxima))\n",
      "        BKGNm1Histos[-1].Draw(\"e2\"); DataNm1Histos[-1].Draw(\"E0X0 same\")\n",
      "        if i!=len(CutsNm1): Pad1.SetLogy(); Pad1.RedrawAxis()\n",
      "    \n",
      "        LEG.Draw()\n",
      "        CurrentStyle.SetPadTickX(1)\n",
      "        CurCanv1.cd()\n",
      "        \n",
      "        Pad2=ROOT.TPad(\"pad2\",\"pad2\",0,0,1,0.3)\n",
      "        Pad2.SetTopMargin(0)\n",
      "        Pad2.SetLeftMargin(0.16)\n",
      "        Pad2.SetBottomMargin(0.25)\n",
      "        Pad2.Draw()\n",
      "        Pad2.cd()\n",
      "        \n",
      "        CloneMC.SetMinimum(0.1); CloneMC.SetMaximum(1.9)\n",
      "        CloneMC.Sumw2()\n",
      "        CloneMC.SetStats(0)\n",
      "        CloneMC.SetTitle(\";\"+XaxisT[j]+\" \"+Units[j]+\";Data/MC\")\n",
      "        CloneMC.Divide(BKGNm1Histos[-1])\n",
      "        CloneMC.SetFillStyle(1001)\n",
      "        SetAxis(CloneMC,'X',0.9,0.09,0.007,0.09,510)\n",
      "        SetAxis(CloneMC,'Y',0.75,0.09,0.007,0.09,404)\n",
      "        CloneMC.Draw(\"E2\")\n",
      "        \n",
      "        CloneD.Sumw2()\n",
      "        #CloneD.Scale(DataNm1Histos[-1].Integral()/CloneD.Integral()); CloneE.SetStats(0)\n",
      "        CloneD.SetTitle(\";\"+XaxisT[j]+\" \"+Units[j]+\";Data/MC\")\n",
      "        CloneD.Divide(BKGNm1Histos[-1])\n",
      "        CloneD.Draw(\"E0X0 same\")\n",
      "        \n",
      "        if i==0 and j==0: CurCanv1.Print(PDFName+\"(\",\"Title:\"+Titles[j])\n",
      "        elif i==(len(CutsNm1)-1) and j==(len(Titles)-1): CurCanv1.Print(PDFName+\")\",\"Title:\"+Titles[j])\n",
      "        else: CurCanv1.Print(PDFName,\"Title:\"+Titles[j])\n",
      "        \n",
      "        CurCanv1.Clear(); CurrentStyle.SetPadTickX(0)\n",
      "        CurCanv1.cd(1)\n",
      "                    \n",
      "    #del(HistosToplot); del(CurCanv1); del(Pad1); del(Pad2)\n",
      "    #del(CloneA); del(CloneE); del(CloneE1); del(CloneE2)"
     ],
     "language": "python",
     "metadata": {},
     "outputs": [
      {
       "output_type": "stream",
       "stream": "stderr",
       "text": [
        "TH1F::Sumw2:0: RuntimeWarning: Sum of squares of weights structure already created\n",
        "TH1F::Sumw2:0: RuntimeWarning: Sum of squares of weights structure already created\n"
       ]
      },
      {
       "output_type": "stream",
       "stream": "stderr",
       "text": [
        "TH1F::Sumw2:0: RuntimeWarning: Sum of squares of weights structure already created\n",
        "TH1F::Sumw2:0: RuntimeWarning: Sum of squares of weights structure already created\n"
       ]
      },
      {
       "output_type": "stream",
       "stream": "stderr",
       "text": [
        "TH1F::Sumw2:0: RuntimeWarning: Sum of squares of weights structure already created\n",
        "TH1F::Sumw2:0: RuntimeWarning: Sum of squares of weights structure already created\n"
       ]
      },
      {
       "output_type": "stream",
       "stream": "stderr",
       "text": [
        "TH1F::Sumw2:0: RuntimeWarning: Sum of squares of weights structure already created\n",
        "TH1F::Sumw2:0: RuntimeWarning: Sum of squares of weights structure already created\n"
       ]
      },
      {
       "output_type": "stream",
       "stream": "stderr",
       "text": [
        "TH1F::Sumw2:0: RuntimeWarning: Sum of squares of weights structure already created\n",
        "TH1F::Sumw2:0: RuntimeWarning: Sum of squares of weights structure already created\n"
       ]
      },
      {
       "output_type": "stream",
       "stream": "stderr",
       "text": [
        "TH1F::Sumw2:0: RuntimeWarning: Sum of squares of weights structure already created\n",
        "TH1F::Sumw2:0: RuntimeWarning: Sum of squares of weights structure already created\n"
       ]
      },
      {
       "output_type": "stream",
       "stream": "stderr",
       "text": [
        "TH1F::Sumw2:0: RuntimeWarning: Sum of squares of weights structure already created\n",
        "TH1F::Sumw2:0: RuntimeWarning: Sum of squares of weights structure already created\n"
       ]
      },
      {
       "output_type": "stream",
       "stream": "stderr",
       "text": [
        "TH1F::Sumw2:0: RuntimeWarning: Sum of squares of weights structure already created\n",
        "TH1F::Sumw2:0: RuntimeWarning: Sum of squares of weights structure already created\n"
       ]
      },
      {
       "output_type": "stream",
       "stream": "stderr",
       "text": [
        "TH1F::Sumw2:0: RuntimeWarning: Sum of squares of weights structure already created\n",
        "TH1F::Sumw2:0: RuntimeWarning: Sum of squares of weights structure already created\n"
       ]
      },
      {
       "output_type": "stream",
       "stream": "stderr",
       "text": [
        "TH1F::Sumw2:0: RuntimeWarning: Sum of squares of weights structure already created\n",
        "TH1F::Sumw2:0: RuntimeWarning: Sum of squares of weights structure already created\n"
       ]
      },
      {
       "output_type": "stream",
       "stream": "stderr",
       "text": [
        "TH1F::Sumw2:0: RuntimeWarning: Sum of squares of weights structure already created\n",
        "TH1F::Sumw2:0: RuntimeWarning: Sum of squares of weights structure already created\n"
       ]
      },
      {
       "output_type": "stream",
       "stream": "stderr",
       "text": [
        "TH1F::Sumw2:0: RuntimeWarning: Sum of squares of weights structure already created\n",
        "TH1F::Sumw2:0: RuntimeWarning: Sum of squares of weights structure already created\n"
       ]
      },
      {
       "output_type": "stream",
       "stream": "stderr",
       "text": [
        "TH1F::Sumw2:0: RuntimeWarning: Sum of squares of weights structure already created\n",
        "TH1F::Sumw2:0: RuntimeWarning: Sum of squares of weights structure already created\n"
       ]
      },
      {
       "output_type": "stream",
       "stream": "stderr",
       "text": [
        "TH1F::Sumw2:0: RuntimeWarning: Sum of squares of weights structure already created\n",
        "TH1F::Sumw2:0: RuntimeWarning: Sum of squares of weights structure already created\n"
       ]
      },
      {
       "output_type": "stream",
       "stream": "stderr",
       "text": [
        "TH1F::Sumw2:0: RuntimeWarning: Sum of squares of weights structure already created\n",
        "TH1F::Sumw2:0: RuntimeWarning: Sum of squares of weights structure already created\n"
       ]
      },
      {
       "output_type": "stream",
       "stream": "stderr",
       "text": [
        "TH1F::Sumw2:0: RuntimeWarning: Sum of squares of weights structure already created\n",
        "TH1F::Sumw2:0: RuntimeWarning: Sum of squares of weights structure already created\n"
       ]
      },
      {
       "output_type": "stream",
       "stream": "stderr",
       "text": [
        "TH1F::Sumw2:0: RuntimeWarning: Sum of squares of weights structure already created\n",
        "TH1F::Sumw2:0: RuntimeWarning: Sum of squares of weights structure already created\n"
       ]
      },
      {
       "output_type": "stream",
       "stream": "stderr",
       "text": [
        "TH1F::Sumw2:0: RuntimeWarning: Sum of squares of weights structure already created\n",
        "TH1F::Sumw2:0: RuntimeWarning: Sum of squares of weights structure already created\n"
       ]
      },
      {
       "output_type": "stream",
       "stream": "stderr",
       "text": [
        "TH1F::Sumw2:0: RuntimeWarning: Sum of squares of weights structure already created\n",
        "TH1F::Sumw2:0: RuntimeWarning: Sum of squares of weights structure already created\n"
       ]
      },
      {
       "output_type": "stream",
       "stream": "stderr",
       "text": [
        "TH1F::Sumw2:0: RuntimeWarning: Sum of squares of weights structure already created\n",
        "TH1F::Sumw2:0: RuntimeWarning: Sum of squares of weights structure already created\n"
       ]
      },
      {
       "output_type": "stream",
       "stream": "stderr",
       "text": [
        "TH1F::Sumw2:0: RuntimeWarning: Sum of squares of weights structure already created\n",
        "TH1F::Sumw2:0: RuntimeWarning: Sum of squares of weights structure already created\n"
       ]
      },
      {
       "output_type": "stream",
       "stream": "stderr",
       "text": [
        "TH1F::Sumw2:0: RuntimeWarning: Sum of squares of weights structure already created\n",
        "TH1F::Sumw2:0: RuntimeWarning: Sum of squares of weights structure already created\n"
       ]
      },
      {
       "output_type": "stream",
       "stream": "stderr",
       "text": [
        "TH1F::Sumw2:0: RuntimeWarning: Sum of squares of weights structure already created\n",
        "TH1F::Sumw2:0: RuntimeWarning: Sum of squares of weights structure already created\n"
       ]
      },
      {
       "output_type": "stream",
       "stream": "stderr",
       "text": [
        "TH1F::Sumw2:0: RuntimeWarning: Sum of squares of weights structure already created\n",
        "TH1F::Sumw2:0: RuntimeWarning: Sum of squares of weights structure already created\n"
       ]
      },
      {
       "output_type": "stream",
       "stream": "stderr",
       "text": [
        "TH1F::Sumw2:0: RuntimeWarning: Sum of squares of weights structure already created\n",
        "TH1F::Sumw2:0: RuntimeWarning: Sum of squares of weights structure already created\n"
       ]
      },
      {
       "output_type": "stream",
       "stream": "stderr",
       "text": [
        "TH1F::Sumw2:0: RuntimeWarning: Sum of squares of weights structure already created\n",
        "TH1F::Sumw2:0: RuntimeWarning: Sum of squares of weights structure already created\n"
       ]
      },
      {
       "output_type": "stream",
       "stream": "stderr",
       "text": [
        "TH1F::Sumw2:0: RuntimeWarning: Sum of squares of weights structure already created\n",
        "TH1F::Sumw2:0: RuntimeWarning: Sum of squares of weights structure already created\n"
       ]
      },
      {
       "output_type": "stream",
       "stream": "stderr",
       "text": [
        "TH1F::Sumw2:0: RuntimeWarning: Sum of squares of weights structure already created\n",
        "TH1F::Sumw2:0: RuntimeWarning: Sum of squares of weights structure already created\n"
       ]
      },
      {
       "output_type": "stream",
       "stream": "stderr",
       "text": [
        "TH1F::Sumw2:0: RuntimeWarning: Sum of squares of weights structure already created\n",
        "TH1F::Sumw2:0: RuntimeWarning: Sum of squares of weights structure already created\n"
       ]
      },
      {
       "output_type": "stream",
       "stream": "stderr",
       "text": [
        "TH1F::Sumw2:0: RuntimeWarning: Sum of squares of weights structure already created\n",
        "TH1F::Sumw2:0: RuntimeWarning: Sum of squares of weights structure already created\n"
       ]
      },
      {
       "output_type": "stream",
       "stream": "stderr",
       "text": [
        "TH1F::Sumw2:0: RuntimeWarning: Sum of squares of weights structure already created\n",
        "TH1F::Sumw2:0: RuntimeWarning: Sum of squares of weights structure already created\n"
       ]
      },
      {
       "output_type": "stream",
       "stream": "stderr",
       "text": [
        "TH1F::Sumw2:0: RuntimeWarning: Sum of squares of weights structure already created\n",
        "TH1F::Sumw2:0: RuntimeWarning: Sum of squares of weights structure already created\n"
       ]
      },
      {
       "output_type": "stream",
       "stream": "stderr",
       "text": [
        "TH1F::Sumw2:0: RuntimeWarning: Sum of squares of weights structure already created\n",
        "TH1F::Sumw2:0: RuntimeWarning: Sum of squares of weights structure already created\n"
       ]
      },
      {
       "output_type": "stream",
       "stream": "stderr",
       "text": [
        "TH1F::Sumw2:0: RuntimeWarning: Sum of squares of weights structure already created\n",
        "TH1F::Sumw2:0: RuntimeWarning: Sum of squares of weights structure already created\n"
       ]
      },
      {
       "output_type": "stream",
       "stream": "stderr",
       "text": [
        "TH1F::Sumw2:0: RuntimeWarning: Sum of squares of weights structure already created\n",
        "TH1F::Sumw2:0: RuntimeWarning: Sum of squares of weights structure already created\n"
       ]
      },
      {
       "output_type": "stream",
       "stream": "stderr",
       "text": [
        "TH1F::Sumw2:0: RuntimeWarning: Sum of squares of weights structure already created\n",
        "TH1F::Sumw2:0: RuntimeWarning: Sum of squares of weights structure already created\n"
       ]
      }
     ],
     "prompt_number": 12
    },
    {
     "cell_type": "heading",
     "level": 2,
     "metadata": {},
     "source": [
      "VALIDATION"
     ]
    },
    {
     "cell_type": "code",
     "collapsed": false,
     "input": [
      "Cut1=ROOT.TCut(\"chi2<8\")\n",
      "CutsFromOpt=[ROOT.TCut(\"\"),Cut1,CutDRbb,CutDRWH,CutM2HP,CutDRTp6thJ,CutHM,CutRelHT,CutMTHAsym]\n",
      "OptVersion=\"_550To1100_bkgestimation_with_optchi2_\"+NominalV+\"_\"+InclusiveV1+\"_\"+InclusiveV2\n",
      "\n",
      "CumulCut=ROOT.TCut(\"\")*CutHT\n",
      "\n",
      "PDFName=\"Nminus1\"+OptVersion+\".pdf\"\n",
      "CurCanv = rootnotes.canvas(\"MyPlot\", (600, 800))\n",
      "Titles=[\"Base\",\"chi2\", \"DRbb\", \"DRWH\", \"M2HP\", \"DRTp6thJ\", \"HiggsMass\", \"RelHT\", \"MTHAsym\"]\n",
      "\n",
      "SignalWEntries=[]; QCDWEntries=[]; TopWEntries=[]; DibosonWEntries=[]\n",
      "\n",
      "BinsLimits=\"(30,550,1100)\"\n",
      "\n",
      "ValString=[\"Data\",\"TTbar\",\"QCD\",\"MC-Sum\"]\n",
      "WP=[\" CSVM\",\" [0.244,0.679)\",\" [0.389,0.679)\",\" [0.534,0.679)\"]\n",
      "\n",
      "for i in xrange(len(CutsFromOpt)):\n",
      "    TTbarHistos=[]; QCD500Histos=[]; QCD1000Histos=[]; DataHistos=[]; QCDHistos=[]; MCHistos=[]\n",
      "    SingleTHistos=[]; QCDPTHistos=[]; DibosonHistos=[]; DYHistos=[]; SignalHistos=[]\n",
      "    CumulCut=CumulCut*CutsFromOpt[i]\n",
      "    for j in xrange(4):\n",
      "        \n",
      "        SHT=[]; SEnT=[]\n",
      "        if (i==(len(CutsFromOpt)-1) and j==0): MassesHistosf = ROOT.TFile(\"Histos_Masses_Afterfullsel.root\", \"recreate\")\n",
      "        if j==0:\n",
      "            SignalArray=NMassPointsA\n",
      "            TTArray=TntupleA\n",
      "            QCDHTArray=QntuplesA\n",
      "            SubBKGArray=SubBKGArrayA\n",
      "        elif j==1:\n",
      "            SignalArray=NMassPointsE\n",
      "            TTArray=TntupleE\n",
      "            QCDHTArray=QntuplesE\n",
      "            SubBKGArray=SubBKGArrayE\n",
      "        elif j==2:\n",
      "            SignalArray=NMassPointsE1\n",
      "            TTArray=TntupleE1\n",
      "            QCDHTArray=QntuplesE1\n",
      "            SubBKGArray=SubBKGArrayE1\n",
      "        elif j==3:\n",
      "            SignalArray=NMassPointsE2\n",
      "            TTArray=TntupleE2\n",
      "            QCDHTArray=QntuplesE2\n",
      "            SubBKGArray=SubBKGArrayE2\n",
      "        #####SIGNAL#####\n",
      "        for k in xrange(len(SignalArray)): #Signal            \n",
      "            if SignalArray[k].GetEntries()>0:\n",
      "                SignalArray[k].Draw(\"M5J >> M5jSi_Cut\"+str(i)+\"_\"+str(j)+\"_\"+str(k)+BinsLimits,CumulCut)\n",
      "                SHT.append(ROOT.gDirectory.Get(\"M5jSi_Cut\"+str(i)+\"_\"+str(j)+\"_\"+str(k)))\n",
      "                SHT[-1].Sumw2(); SHT[-1].Scale(NWeights[k])\n",
      "                if (i==(len(CutsFromOpt)-1) and j==0): SHT[-1].Write()\n",
      "                if j==0: SEnT.append(SHT[-1].GetEntries())\n",
      "        SignalHistos.append(SHT)\n",
      "        if (i==(len(CutsFromOpt)-1) and j==0): MassesHistosf.Close()\n",
      "        if j==0: SignalWEntries.append(SEnT)\n",
      "        \n",
      "        #####TTJets#####\n",
      "        TTArray.Draw(\"M5J >> M5jT_Cut\"+str(i)+\"_\"+str(j)+BinsLimits,CumulCut)\n",
      "        TTbarHistos.append(ROOT.gDirectory.Get(\"M5jT_Cut\"+str(i)+\"_\"+str(j)))\n",
      "        TTbarHistos[-1].Sumw2(); TTbarHistos[-1].Scale(TWeight) #; TTbarHistos[-1].Write()\n",
      "        if j==0: TopWEntries.append(TTbarHistos[-1].GetEntries()*TWeight)\n",
      "                \n",
      "        #####QCDHT#####\n",
      "        QCDHTArray[0].Draw(\"M5J >> M5jQ500_Cut\"+str(i)+\"_\"+str(j)+BinsLimits,CumulCut)\n",
      "        QCD500Histos.append(ROOT.gDirectory.Get(\"M5jQ500_Cut\"+str(i)+\"_\"+str(j)))\n",
      "        QCD500Histos[-1].Sumw2(); QCD500Histos[-1].Scale(QWeights[0]) #; QCD500Histos[-1].Write()\n",
      "        if j==0: QCDWEntries.append(QCD500Histos[-1].GetEntries()*QWeights[0])\n",
      "        \n",
      "        QCDHTArray[1].Draw(\"M5J >> M5jQ1000_Cut\"+str(i)+\"_\"+str(j)+BinsLimits,CumulCut)\n",
      "        QCD1000Histos.append(ROOT.gDirectory.Get(\"M5jQ1000_Cut\"+str(i)+\"_\"+str(j)))\n",
      "        QCD1000Histos[-1].Sumw2(); QCD1000Histos[-1].Scale(QWeights[1]) #; QCD1000Histos[-1].Write()\n",
      "        if j==0: QCDWEntries[-1]+=QCD1000Histos[-1].GetEntries()*QWeights[1]\n",
      "        \n",
      "        STHT=[]\n",
      "        for k in xrange(6): #Single Top\n",
      "            if SubBKGArray[k].GetEntries()>0:\n",
      "                SubBKGArray[k].Draw(\"M5J >> M5jST_Cut\"+str(i)+\"_\"+str(j)+\"_\"+str(k)+BinsLimits,CumulCut)\n",
      "                STHT.append(ROOT.gDirectory.Get(\"M5jST_Cut\"+str(i)+\"_\"+str(j)+\"_\"+str(k)))\n",
      "                STHT[-1].Sumw2(); STHT[-1].Scale(SingleTWeights[k])\n",
      "                if j==0: TopWEntries[-1]+=STHT[-1].GetEntries()*SingleTWeights[k]\n",
      "        SingleTHistos.append(STHT)\n",
      "            \n",
      "        DiHT=[]; DiE=0\n",
      "        for k in xrange(3): #Diboson\n",
      "            if SubBKGArray[k+6].GetEntries()>0:\n",
      "                SubBKGArray[k+6].Draw(\"M5J >> M5jDi_Cut\"+str(i)+\"_\"+str(j)+\"_\"+str(k)+BinsLimits,CumulCut)\n",
      "                DiHT.append(ROOT.gDirectory.Get(\"M5jDi_Cut\"+str(i)+\"_\"+str(j)+\"_\"+str(k)))\n",
      "                DiHT[-1].Sumw2(); DiHT[-1].Scale(DibosonWeights[k])\n",
      "                if j==0: DiE+=DiHT[-1].GetEntries()*DibosonWeights[k]\n",
      "        DibosonHistos.append(DiHT)\n",
      "        if j==0: DibosonWEntries.append(DiE)\n",
      "        \n",
      "        DYHT=[]\n",
      "        for k in xrange(2): #DY\n",
      "            if SubBKGArray[k+9].GetEntries()>0:\n",
      "                SubBKGArray[k+9].Draw(\"M5J >> M5jDY_Cut\"+str(i)+\"_\"+str(j)+\"_\"+str(k)+BinsLimits,CumulCut)\n",
      "                DYHT.append(ROOT.gDirectory.Get(\"M5jDY_Cut\"+str(i)+\"_\"+str(j)+\"_\"+str(k)))\n",
      "                DYHT[-1].Sumw2(); DYHT[-1].Scale(DYWeights[k])\n",
      "        DYHistos.append(DYHT)\n",
      "        \n",
      "        if QCDPTFLAG: \n",
      "            QCDPTHT=[]\n",
      "            for k in xrange(6): #QCD PT hat\n",
      "                if SubBKGArray[k+11].GetEntries()>0:\n",
      "                    SubBKGArray[k+11].Draw(\"M5J >> M5jQCDPT_Cut\"+str(i)+\"_\"+str(j)+\"_\"+str(k)+BinsLimits,CumulCut)\n",
      "                    QCDPTHT.append(ROOT.gDirectory.Get(\"M5jQCDPT_Cut\"+str(i)+\"_\"+str(j)+\"_\"+str(k)))\n",
      "                    QCDPTHT[-1].Sumw2(); QCDPTHT[-1].Scale(QCDPTWeights[k])\n",
      "                    if j==0: QCDWEntries[-1]+=QCDPTHT[-1].GetEntries()*QCDPTWeights[k]\n",
      "            QCDPTHistos.append(QCDPTHT)\n",
      "            \n",
      "        QCDFull=QCD500Histos[-1].Clone(\"M5jQ_Cut\"+str(i)+\"_\"+str(j))\n",
      "        QCDFull.Add(QCD1000Histos[-1])\n",
      "        if QCDPTFLAG:\n",
      "            for k in QCDPTHistos[-1]:\n",
      "                QCDFull.Add(k)\n",
      "        QCDHistos.append(QCDFull)\n",
      "        \n",
      "        MCFull=QCDFull.Clone(\"M5jMC_Cut\"+str(i)+\"_\"+str(j))\n",
      "        MCFull.Add(TTbarHistos[-1])\n",
      "        for k in SingleTHistos[-1]: MCFull.Add(k)\n",
      "        for k in DibosonHistos[-1]: MCFull.Add(k)\n",
      "        for k in DYHistos[-1]: MCFull.Add(k)\n",
      "        MCHistos.append(MCFull)\n",
      "        \n",
      "        #DataArray[j].Draw(\"M5J >> M5jD_Cut\"+str(i)+\"_\"+str(j)+BinsLimits,CumulCut)\n",
      "        #DataHistos.append(ROOT.gDirectory.Get(\"M5jD_Cut\"+str(i)+\"_\"+str(j)))\n",
      "    \n",
      "    DataA[0].Draw(\"M5J >> M5jD_Cut\"+str(i)+\"_0\"+BinsLimits,CumulCut)\n",
      "    DataHistos.append(ROOT.gDirectory.Get(\"M5jD_Cut\"+str(i)+\"_0\"))\n",
      "    DataE[0].Draw(\"M5J >> M5jD_Cut\"+str(i)+\"_1\"+BinsLimits,CumulCut)\n",
      "    DataHistos.append(ROOT.gDirectory.Get(\"M5jD_Cut\"+str(i)+\"_1\"))\n",
      "    DataE1[0].Draw(\"M5J >> M5jD_Cut\"+str(i)+\"_2\"+BinsLimits,CumulCut)\n",
      "    DataHistos.append(ROOT.gDirectory.Get(\"M5jD_Cut\"+str(i)+\"_2\"))\n",
      "    DataE2[0].Draw(\"M5J >> M5jD_Cut\"+str(i)+\"_3\"+BinsLimits,CumulCut)\n",
      "    DataHistos.append(ROOT.gDirectory.Get(\"M5jD_Cut\"+str(i)+\"_3\"))\n",
      "    ROOT.gPad.Clear()\n",
      "    del(SignalArray); del(TTArray); del(QCDHTArray); del(SubBKGArray)\n",
      "    for k in xrange(4):\n",
      "        #if k!=0: continue\n",
      "        if k==0: HistosToplot=DataHistos\n",
      "        elif k==1: HistosToplot=TTbarHistos\n",
      "        elif k==2: HistosToplot=MCHistos\n",
      "        elif k==3: HistosToplot=QCDHistos\n",
      "        \n",
      "        CurrentStyle=ROOT.TStyle(\"CStyle\",\"Style for Plotting\")\n",
      "        #ROOT.SetOwnership( CurrentStyle, False )\n",
      "        #CurrentStyle.SetOptStat(0)\n",
      "        #CurrentStyle.SetOptTitle(0)\n",
      "        #CurrentStyle.SetPadLeftMargin(0.16)\n",
      "        #CurrentStyle.SetPadRightMargin(0.02)\n",
      "        \n",
      "        #CurrentStyle.SetTitleColor(1, \"XYZ\")\n",
      "        #CurrentStyle.SetTitleFont(42, \"XYZ\")\n",
      "        #CurrentStyle.SetTitleSize(0.06, \"XYZ\")\n",
      "        #CurrentStyle.SetTitleXOffset(1.0)\n",
      "        #CurrentStyle.SetTitleOffset(1.5, \"Y\")\n",
      "        #CurrentStyle.SetLabelColor(1, \"XYZ\")\n",
      "        #CurrentStyle.SetLabelFont(42, \"XYZ\")\n",
      "        #CurrentStyle.SetLabelOffset(0.007, \"XYZ\")\n",
      "        #CurrentStyle.SetLabelSize(0.05, \"XYZ\")\n",
      "        #CurrentStyle.SetAxisColor(1, \"XYZ\")\n",
      "        #CurrentStyle.SetStripDecimals(ROOT.kTRUE)\n",
      "        #CurrentStyle.SetTickLength(0.03, \"XYZ\")\n",
      "        #CurrentStyle.SetNdivisions(510, \"XYZ\")\n",
      "                \n",
      "        CurCanv1 = rootnotes.canvas(\"MyPlot\", (600, 800))\n",
      "        CurCanv1.cd(1)\n",
      "        Pad1=ROOT.TPad(\"pad1\",\"pad1\",0,0.3,1,1)\n",
      "        Pad1.SetBottomMargin(0)\n",
      "        Pad1.SetLeftMargin(0.16)\n",
      "        Pad1.Draw()\n",
      "        Pad1.cd()\n",
      "        \n",
      "        HistosToplot[0].SetStats(ROOT.kFALSE)\n",
      "        \n",
      "        HistosToplot[0].SetTitle(\";;A.U.\")\n",
      "        SetAxis(HistosToplot[0],'Y',0.5,0.05,0.007,0.0,510)\n",
      "        HistosToplot[0].SetLineStyle(1); HistosToplot[0].SetLineWidth(1); HistosToplot[0].SetLineColor(ROOT.kGray+2)\n",
      "        HistosToplot[0].SetFillStyle(3144); HistosToplot[0].SetFillColor(ROOT.kGray+2)\n",
      "        \n",
      "        HistosToplot[1].SetLineStyle(1); HistosToplot[1].SetLineWidth(2); HistosToplot[1].SetLineColor(ROOT.kGreen+2)\n",
      "        \n",
      "        HistosToplot[2].SetLineStyle(1); HistosToplot[2].SetLineWidth(2); HistosToplot[2].SetLineColor(ROOT.kRed+1)\n",
      "        \n",
      "        HistosToplot[3].SetLineStyle(1); HistosToplot[3].SetLineWidth(2); HistosToplot[3].SetLineColor(ROOT.kBlue+1)\n",
      "        \n",
      "        CloneE=HistosToplot[1].Clone(\"CopyE\"); CloneE1=HistosToplot[2].Clone(\"CopyE1\"); CloneE2=HistosToplot[3].Clone(\"CopyE2\")\n",
      "        CloneA=HistosToplot[0].Clone(\"CopyA\")\n",
      "        \n",
      "        LEG=ROOT.TLegend(0.5,0.5,0.9,0.9)\n",
      "        LEG.AddEntry(HistosToplot[0], ValString[k]+WP[0], \"f\"); LEG.AddEntry(HistosToplot[1], ValString[k]+WP[1], \"le\")\n",
      "        LEG.AddEntry(HistosToplot[2], ValString[k]+WP[2], \"le\"); LEG.AddEntry(HistosToplot[3], ValString[k]+WP[3], \"le\")\n",
      "        LEG.SetFillColor(0);\n",
      "        HistosToplot[0].DrawNormalized(\"E2\"); HistosToplot[1].DrawNormalized(\"E same\")\n",
      "        HistosToplot[2].DrawNormalized(\"E same\"); HistosToplot[3].DrawNormalized(\"E same\")\n",
      "        LEG.Draw()\n",
      "        CurrentStyle.SetPadTickX(1)\n",
      "        CurCanv1.cd()\n",
      "        \n",
      "        Pad2=ROOT.TPad(\"pad2\",\"pad2\",0,0,1,0.3)\n",
      "        Pad2.SetTopMargin(0)\n",
      "        Pad2.SetLeftMargin(0.16)\n",
      "        Pad2.SetBottomMargin(0.25)\n",
      "        Pad2.Draw()\n",
      "        Pad2.cd()\n",
      "        \n",
      "        CloneA.SetMinimum(0.1); CloneA.SetMaximum(1.9)\n",
      "        CloneA.Sumw2()\n",
      "        CloneA.SetStats(0)\n",
      "        CloneA.SetTitle(\";M(5J) GeV/c^{2};ControlSample/SignalSample\")\n",
      "        CloneA.Divide(HistosToplot[0])\n",
      "        CloneA.SetFillStyle(1001)\n",
      "        SetAxis(CloneA,'X',0.9,0.09,0.007,0.09,510)\n",
      "        SetAxis(CloneA,'Y',0.7,0.06,0.007,0.09,404)\n",
      "        CloneA.Draw(\"E2\")\n",
      "        \n",
      "        CloneE.Sumw2()\n",
      "        CloneE.Scale(HistosToplot[0].Integral()/CloneE.Integral()); CloneE.SetStats(0)\n",
      "        CloneE.SetTitle(\";M(5J) GeV/c^{2};ControlSample/SignalSample\")\n",
      "        CloneE.Divide(HistosToplot[0])\n",
      "        CloneE.Draw(\"ep same\")\n",
      "        \n",
      "        CloneE1.Sumw2()\n",
      "        CloneE1.Scale(HistosToplot[0].Integral()/CloneE1.Integral()); CloneE1.SetStats(0)\n",
      "        CloneE1.SetTitle(\";M(5J) GeV/c^{2};ControlSample/SignalSample\")\n",
      "        CloneE1.Divide(HistosToplot[0])\n",
      "        CloneE1.Draw(\"ep same\")\n",
      "        \n",
      "        CloneE2.Sumw2()\n",
      "        CloneE2.Scale(HistosToplot[0].Integral()/CloneE2.Integral()); CloneE2.SetStats(0)\n",
      "        CloneE2.SetTitle(\";M(5J) GeV/c^{2};ControlSample/SignalSample\")\n",
      "        CloneE2.Divide(HistosToplot[0])\n",
      "        CloneE2.Draw(\"ep same\")\n",
      "        \n",
      "        #print i, k\n",
      "        \n",
      "        if i==0 and k==0: CurCanv1.Print(PDFName+\"(\",\"Title:\"+Titles[i]+\"_\"+ValString[k])\n",
      "        elif i==(len(CutsFromOpt)-1) and k==3: CurCanv1.Print(PDFName+\")\",\"Title:\"+Titles[i]+\"_\"+ValString[k])\n",
      "        #elif i==(len(CutsFromOpt)-1) and k==0: CurCanv1.Print(PDFName+\")\",\"Title:\"+Titles[i]+\"_\"+ValString[k])\n",
      "        else: CurCanv1.Print(PDFName,\"Title:\"+Titles[i]+\"_\"+ValString[k])\n",
      "        ######if i>=0 and k>=0: CurCanv1.Print(PDFName,\"Title:\"+Titles[i]+\"_\"+ValString[k])\n",
      "        #elif i!=0 and k<3: CurCanv1.Print(PDFName,\"Title:\"+Titles[i]+\"_\"+ValString[k])\n",
      "        #elif i!=0 and k==3: CurCanv1.Print(PDFName,\"Title:\"+Titles[i]+\"_\"+ValString[k])\n",
      "        ######if i==(len(CutsFromOpt)-1) and k==3: CurCanv1.Print(PDFName+\")\",\"Title:\"+Titles[i]+\"_\"+ValString[k])\n",
      "        \n",
      "        CurCanv1.Clear(); CurrentStyle.SetPadTickX(0)\n",
      "        CurCanv1.cd(1)\n",
      "                    \n",
      "        del(HistosToplot); del(CurCanv1); del(Pad1); del(Pad2)\n",
      "        del(CloneA); del(CloneE); del(CloneE1); del(CloneE2)\n",
      "    del(TTbarHistos); del(QCD500Histos); del(QCD1000Histos); del(DataHistos); del(QCDHistos); del(MCHistos)\n",
      "    del(SingleTHistos); del(QCDPTHistos); del(DibosonHistos); del(DYHistos); del(SignalHistos)\n",
      "    "
     ],
     "language": "python",
     "metadata": {},
     "outputs": [
      {
       "output_type": "stream",
       "stream": "stderr",
       "text": [
        "TH1F::Sumw2:0: RuntimeWarning: Sum of squares of weights structure already created\n",
        "TH1F::Sumw2:0: RuntimeWarning: Sum of squares of weights structure already created\n",
        "TH1F::Sumw2:0: RuntimeWarning: Sum of squares of weights structure already created\n",
        "TH1F::Sumw2:0: RuntimeWarning: Sum of squares of weights structure already created\n",
        "TH1F::Sumw2:0: RuntimeWarning: Sum of squares of weights structure already created\n",
        "TH1F::Sumw2:0: RuntimeWarning: Sum of squares of weights structure already created\n",
        "TH1F::Sumw2:0: RuntimeWarning: Sum of squares of weights structure already created\n",
        "TH1F::Sumw2:0: RuntimeWarning: Sum of squares of weights structure already created\n",
        "TH1F::Sumw2:0: RuntimeWarning: Sum of squares of weights structure already created\n",
        "TH1F::Sumw2:0: RuntimeWarning: Sum of squares of weights structure already created\n",
        "TH1F::Sumw2:0: RuntimeWarning: Sum of squares of weights structure already created\n",
        "TH1F::Sumw2:0: RuntimeWarning: Sum of squares of weights structure already created\n",
        "TH1F::Sumw2:0: RuntimeWarning: Sum of squares of weights structure already created\n"
       ]
      },
      {
       "output_type": "stream",
       "stream": "stderr",
       "text": [
        "TH1F::Sumw2:0: RuntimeWarning: Sum of squares of weights structure already created\n",
        "TH1F::Sumw2:0: RuntimeWarning: Sum of squares of weights structure already created\n",
        "TH1F::Sumw2:0: RuntimeWarning: Sum of squares of weights structure already created\n",
        "TH1F::Sumw2:0: RuntimeWarning: Sum of squares of weights structure already created\n",
        "TH1F::Sumw2:0: RuntimeWarning: Sum of squares of weights structure already created\n",
        "TH1F::Sumw2:0: RuntimeWarning: Sum of squares of weights structure already created\n",
        "TH1F::Sumw2:0: RuntimeWarning: Sum of squares of weights structure already created\n",
        "TH1F::Sumw2:0: RuntimeWarning: Sum of squares of weights structure already created\n",
        "TH1F::Sumw2:0: RuntimeWarning: Sum of squares of weights structure already created\n",
        "TH1F::Sumw2:0: RuntimeWarning: Sum of squares of weights structure already created\n",
        "TH1F::Sumw2:0: RuntimeWarning: Sum of squares of weights structure already created\n",
        "TH1F::Sumw2:0: RuntimeWarning: Sum of squares of weights structure already created\n"
       ]
      },
      {
       "output_type": "stream",
       "stream": "stderr",
       "text": [
        "TH1F::Sumw2:0: RuntimeWarning: Sum of squares of weights structure already created\n",
        "TH1F::Sumw2:0: RuntimeWarning: Sum of squares of weights structure already created\n",
        "TH1F::Sumw2:0: RuntimeWarning: Sum of squares of weights structure already created\n",
        "TH1F::Sumw2:0: RuntimeWarning: Sum of squares of weights structure already created\n",
        "TH1F::Sumw2:0: RuntimeWarning: Sum of squares of weights structure already created\n",
        "TH1F::Sumw2:0: RuntimeWarning: Sum of squares of weights structure already created\n",
        "TH1F::Sumw2:0: RuntimeWarning: Sum of squares of weights structure already created\n",
        "TH1F::Sumw2:0: RuntimeWarning: Sum of squares of weights structure already created\n",
        "TH1F::Sumw2:0: RuntimeWarning: Sum of squares of weights structure already created\n",
        "TH1F::Sumw2:0: RuntimeWarning: Sum of squares of weights structure already created\n",
        "TH1F::Sumw2:0: RuntimeWarning: Sum of squares of weights structure already created\n",
        "TH1F::Sumw2:0: RuntimeWarning: Sum of squares of weights structure already created\n"
       ]
      },
      {
       "output_type": "stream",
       "stream": "stderr",
       "text": [
        "TH1F::Sumw2:0: RuntimeWarning: Sum of squares of weights structure already created\n",
        "TH1F::Sumw2:0: RuntimeWarning: Sum of squares of weights structure already created\n",
        "TH1F::Sumw2:0: RuntimeWarning: Sum of squares of weights structure already created\n",
        "TH1F::Sumw2:0: RuntimeWarning: Sum of squares of weights structure already created\n",
        "TH1F::Sumw2:0: RuntimeWarning: Sum of squares of weights structure already created\n",
        "TH1F::Sumw2:0: RuntimeWarning: Sum of squares of weights structure already created\n",
        "TH1F::Sumw2:0: RuntimeWarning: Sum of squares of weights structure already created\n",
        "TH1F::Sumw2:0: RuntimeWarning: Sum of squares of weights structure already created\n",
        "TH1F::Sumw2:0: RuntimeWarning: Sum of squares of weights structure already created\n",
        "TH1F::Sumw2:0: RuntimeWarning: Sum of squares of weights structure already created\n",
        "TH1F::Sumw2:0: RuntimeWarning: Sum of squares of weights structure already created\n",
        "TH1F::Sumw2:0: RuntimeWarning: Sum of squares of weights structure already created\n"
       ]
      },
      {
       "output_type": "stream",
       "stream": "stderr",
       "text": [
        "TH1F::Sumw2:0: RuntimeWarning: Sum of squares of weights structure already created\n",
        "TH1F::Sumw2:0: RuntimeWarning: Sum of squares of weights structure already created\n",
        "TH1F::Sumw2:0: RuntimeWarning: Sum of squares of weights structure already created\n",
        "TH1F::Sumw2:0: RuntimeWarning: Sum of squares of weights structure already created\n",
        "TH1F::Sumw2:0: RuntimeWarning: Sum of squares of weights structure already created\n",
        "TH1F::Sumw2:0: RuntimeWarning: Sum of squares of weights structure already created\n",
        "TH1F::Sumw2:0: RuntimeWarning: Sum of squares of weights structure already created\n",
        "TH1F::Sumw2:0: RuntimeWarning: Sum of squares of weights structure already created\n",
        "TH1F::Sumw2:0: RuntimeWarning: Sum of squares of weights structure already created\n",
        "TH1F::Sumw2:0: RuntimeWarning: Sum of squares of weights structure already created\n",
        "TH1F::Sumw2:0: RuntimeWarning: Sum of squares of weights structure already created\n",
        "TH1F::Sumw2:0: RuntimeWarning: Sum of squares of weights structure already created\n"
       ]
      },
      {
       "output_type": "stream",
       "stream": "stderr",
       "text": [
        "TH1F::Sumw2:0: RuntimeWarning: Sum of squares of weights structure already created\n",
        "TH1F::Sumw2:0: RuntimeWarning: Sum of squares of weights structure already created\n",
        "TH1F::Sumw2:0: RuntimeWarning: Sum of squares of weights structure already created\n",
        "TH1F::Sumw2:0: RuntimeWarning: Sum of squares of weights structure already created\n",
        "TH1F::Sumw2:0: RuntimeWarning: Sum of squares of weights structure already created\n",
        "TH1F::Sumw2:0: RuntimeWarning: Sum of squares of weights structure already created\n",
        "TH1F::Sumw2:0: RuntimeWarning: Sum of squares of weights structure already created\n",
        "TH1F::Sumw2:0: RuntimeWarning: Sum of squares of weights structure already created\n"
       ]
      },
      {
       "output_type": "stream",
       "stream": "stderr",
       "text": [
        "TH1F::Sumw2:0: RuntimeWarning: Sum of squares of weights structure already created\n",
        "TH1F::Sumw2:0: RuntimeWarning: Sum of squares of weights structure already created\n",
        "TH1F::Sumw2:0: RuntimeWarning: Sum of squares of weights structure already created\n",
        "TH1F::Sumw2:0: RuntimeWarning: Sum of squares of weights structure already created\n"
       ]
      },
      {
       "output_type": "stream",
       "stream": "stderr",
       "text": [
        "TH1F::Sumw2:0: RuntimeWarning: Sum of squares of weights structure already created\n",
        "TH1F::Sumw2:0: RuntimeWarning: Sum of squares of weights structure already created\n",
        "TH1F::Sumw2:0: RuntimeWarning: Sum of squares of weights structure already created\n",
        "TH1F::Sumw2:0: RuntimeWarning: Sum of squares of weights structure already created\n",
        "TH1F::Sumw2:0: RuntimeWarning: Sum of squares of weights structure already created\n",
        "TH1F::Sumw2:0: RuntimeWarning: Sum of squares of weights structure already created\n",
        "TH1F::Sumw2:0: RuntimeWarning: Sum of squares of weights structure already created\n",
        "TH1F::Sumw2:0: RuntimeWarning: Sum of squares of weights structure already created\n"
       ]
      },
      {
       "output_type": "stream",
       "stream": "stderr",
       "text": [
        "TH1F::Sumw2:0: RuntimeWarning: Sum of squares of weights structure already created\n",
        "TH1F::Sumw2:0: RuntimeWarning: Sum of squares of weights structure already created\n",
        "TH1F::Sumw2:0: RuntimeWarning: Sum of squares of weights structure already created\n",
        "TH1F::Sumw2:0: RuntimeWarning: Sum of squares of weights structure already created\n"
       ]
      },
      {
       "output_type": "stream",
       "stream": "stderr",
       "text": [
        "TH1F::Sumw2:0: RuntimeWarning: Sum of squares of weights structure already created\n",
        "TH1F::Sumw2:0: RuntimeWarning: Sum of squares of weights structure already created\n",
        "TH1F::Sumw2:0: RuntimeWarning: Sum of squares of weights structure already created\n",
        "TH1F::Sumw2:0: RuntimeWarning: Sum of squares of weights structure already created\n",
        "TH1F::Sumw2:0: RuntimeWarning: Sum of squares of weights structure already created\n",
        "TH1F::Sumw2:0: RuntimeWarning: Sum of squares of weights structure already created\n",
        "TH1F::Sumw2:0: RuntimeWarning: Sum of squares of weights structure already created\n",
        "TH1F::Sumw2:0: RuntimeWarning: Sum of squares of weights structure already created\n"
       ]
      },
      {
       "output_type": "stream",
       "stream": "stderr",
       "text": [
        "TH1F::Sumw2:0: RuntimeWarning: Sum of squares of weights structure already created\n",
        "TH1F::Sumw2:0: RuntimeWarning: Sum of squares of weights structure already created\n",
        "TH1F::Sumw2:0: RuntimeWarning: Sum of squares of weights structure already created\n",
        "TH1F::Sumw2:0: RuntimeWarning: Sum of squares of weights structure already created\n"
       ]
      },
      {
       "output_type": "stream",
       "stream": "stderr",
       "text": [
        "TH1F::Sumw2:0: RuntimeWarning: Sum of squares of weights structure already created\n",
        "TH1F::Sumw2:0: RuntimeWarning: Sum of squares of weights structure already created\n",
        "TH1F::Sumw2:0: RuntimeWarning: Sum of squares of weights structure already created\n",
        "TH1F::Sumw2:0: RuntimeWarning: Sum of squares of weights structure already created\n",
        "TH1F::Sumw2:0: RuntimeWarning: Sum of squares of weights structure already created\n",
        "TH1F::Sumw2:0: RuntimeWarning: Sum of squares of weights structure already created\n",
        "TH1F::Sumw2:0: RuntimeWarning: Sum of squares of weights structure already created\n",
        "TH1F::Sumw2:0: RuntimeWarning: Sum of squares of weights structure already created\n"
       ]
      },
      {
       "output_type": "stream",
       "stream": "stderr",
       "text": [
        "TH1F::Sumw2:0: RuntimeWarning: Sum of squares of weights structure already created\n",
        "TH1F::Sumw2:0: RuntimeWarning: Sum of squares of weights structure already created\n",
        "TH1F::Sumw2:0: RuntimeWarning: Sum of squares of weights structure already created\n"
       ]
      }
     ],
     "prompt_number": 14
    },
    {
     "cell_type": "code",
     "collapsed": false,
     "input": [
      "print \"--------------------------------------------------\"\n",
      "print \"------------------Efficiencies--------------------\"\n",
      "print \"--------------------------------------------------\"\n",
      "#print \"--------Signal------TTbar-------QCD---------------\"\n",
      "    \n",
      "#SignalWEntries=[]; QCDWEntries=[]; TopWEntries=[]\n",
      "print SignalWEntries, QCDWEntries, TopWEntries, DibosonWEntries\n",
      "\n",
      "for i in xrange(len(TopWEntries)-1):\n",
      "    print \"{0:.2f}   {1:.2f}   {2:.2f}   {3:.2f}   {4:.2f}   {5:.2f}   {6:.2f}   {7:.2f}   {8:.2f}\".format(100*SignalWEntries[i+1][0]/SignalWEntries[i][0],\n",
      "                                                                                                                100*SignalWEntries[i+1][1]/SignalWEntries[i][1],\n",
      "                                                                                                                100*SignalWEntries[i+1][2]/SignalWEntries[i][2],\n",
      "                                                                                                                100*SignalWEntries[i+1][3]/SignalWEntries[i][3],\n",
      "                                                                                                                100*SignalWEntries[i+1][4]/SignalWEntries[i][4],\n",
      "                                                                                                                100*SignalWEntries[i+1][5]/SignalWEntries[i][5],\n",
      "                                                                                                                100*SignalWEntries[i+1][6]/SignalWEntries[i][6],\n",
      "                                                                                                                100*SignalWEntries[i+1][7]/SignalWEntries[i][7],\n",
      "                                                                                                                100*SignalWEntries[i+1][8]/SignalWEntries[i][8])\n",
      "    print \"Cut\"+str(i+1)+\":    {0:.2f}      {1:.2f}    {2:.2f}  \".format(100*TopWEntries[i+1]/TopWEntries[i],\n",
      "                                                                100*QCDWEntries[i+1]/QCDWEntries[i],\n",
      "                                                                100*DibosonWEntries[i+1]/DibosonWEntries[i]) "
     ],
     "language": "python",
     "metadata": {},
     "outputs": []
    },
    {
     "cell_type": "heading",
     "level": 3,
     "metadata": {},
     "source": [
      "Computing systematic for the background estimation"
     ]
    },
    {
     "cell_type": "code",
     "collapsed": false,
     "input": [
      "Cut1=ROOT.TCut(\"chi2<8\")\n",
      "CutsNm1=[ROOT.TCut(\"\"),Cut1,CutDRbb,CutDRWH,CutHM,CutM2HP,CutDRTp6thJ,CutRelHT]\n",
      "OptVersion=\"_20bins_bkgestimation_OneComb_with_optchi2_\"+NominalV+\"_\"+InclusiveV1+\"_\"+InclusiveV2\n",
      "\n",
      "BinAndLimits=\"(30,550,1100)\"\n",
      "Nbins=20\n",
      "\n",
      "CumulCut=ROOT.TCut(\"\")*CutHT\n",
      "\n",
      "PDFName=\"BKG_Estimation_SYS\"+OptVersion+\".pdf\"\n",
      "CurCanv = rootnotes.canvas(\"MyPlot\", (600, 800))\n",
      "Titles=[\"Base\",\"chi2\", \"DRbb\", \"DRWH\", \"M2HP\", \"DRTp6thJ\", \"HiggsMass\", \"RelHT\", \"MTHAsym\"]\n",
      "\n",
      "BKGSYSF = ROOT.TFile(\"BKG_Estimation_SYS\"+OptVersion+\".root\", \"recreate\")\n",
      "\n",
      "for i in xrange(len(CutsNm1)):\n",
      "    CumulCut=CumulCut*CutsNm1[i]\n",
      "    DataA[0].Draw(\"M5J >> DataM5JSigSamHisto_\"+str(i)+BinAndLimits,CumulCut)\n",
      "    DataM5JSigSamHisto=ROOT.gDirectory.Get(\"DataM5JSigSamHisto_\"+str(i))\n",
      "    DataE[0].Draw(\"M5J >> DataM5JConSamHisto_\"+str(i)+BinAndLimits,CumulCut)\n",
      "    DataM5JConSamHisto=ROOT.gDirectory.Get(\"DataM5JConSamHisto_\"+str(i))\n",
      "    ROOT.gPad.Close()\n",
      "\n",
      "    RatioHisto=DataM5JConSamHisto.Clone(\"RatioHisto_\"+str(i)) #DataM5JSigSamHisto\n",
      "    RatioHisto.Sumw2(); RatioHisto.Scale(DataM5JSigSamHisto.Integral()/DataM5JConSamHisto.Integral())\n",
      "    RatioHisto.Divide(DataM5JSigSamHisto)\n",
      "    RatioDistri = ROOT.TH1F(\"Sys_\"+str(i),\"Sys_\"+str(i),Nbins,0,2)\n",
      "    \n",
      "    for j in xrange(1,RatioHisto.GetXaxis().GetNbins()):\n",
      "        RatioDistri.Fill(RatioHisto.GetBinContent(j))\n",
      "        if RatioDistri.GetBinContent(j)!=0: RatioDistri.SetBinError(j,RatioDistri.GetBinCenter(j))\n",
      "    \n",
      "    f4 = ROOT.TF1(\"f4\",\"gaus\",0,2)\n",
      "    RatioDistri.Fit(\"f4\",\"LMRE\",\"same\")\n",
      "    MeanValue=f4.GetParameter(1); sigma=f4.GetParameter(2)\n",
      "    MeanValueE=f4.GetParError(1); sigmaE=f4.GetParError(2);\n",
      "    Chi2=f4.GetChisquare(); NDF=f4.GetNDF()\n",
      "    print \"Mean value: {0:.2f}+-{1:.2f}, with sigma: {2:.2f}+-{3:.2f}\".format(MeanValue,MeanValueE,sigma,sigmaE)\n",
      "    print \"Chi2={0:.2f}, ndf={1:.2f}, Chi2/ndf={2:.2f}\".format(Chi2, NDF, Chi2/NDF)\n",
      "    \n",
      "    MinX=float(BinsLimits.split(\",\")[1])\n",
      "    MaxX=float(BinsLimits.split(\",\")[-1][0:-1])\n",
      "    Nbins=int(BinsLimits.split(\",\")[0][1:])\n",
      "    RatioDistri.SetTitle(\";ControlSample/SignalSample;Events/{0:.1f} \".format((MaxX-MinX)/Nbins)+\"GeV/c^{2}\")\n",
      "    RatioDistri.Draw(\"hist\"); f4.Draw(\"same\")\n",
      "    \n",
      "    if i==0: CurCanv.Print(PDFName+\"(\",\"Title:\"+Titles[i])\n",
      "    elif i==(len(CutsNm1)-1): CurCanv.Print(PDFName+\")\",\"Title:\"+Titles[i])\n",
      "    else: CurCanv.Print(PDFName,\"Title:\"+Titles[i])\n",
      "        \n",
      "    RatioDistri.Write()\n",
      "        \n",
      "    CurCanv.Clear()\n",
      "    \n",
      "del(CurCanv)\n",
      "BKGSYSF.Close()"
     ],
     "language": "python",
     "metadata": {},
     "outputs": [
      {
       "output_type": "stream",
       "stream": "stdout",
       "text": [
        "Mean value: 1.01+-0.01, with sigma: 0.07+-0.01\n",
        "Chi2=5.83, ndf=17.00, Chi2/ndf=0.34\n",
        "Mean value: 1.16+-0.05, with sigma: 0.25+-0.03"
       ]
      },
      {
       "output_type": "stream",
       "stream": "stdout",
       "text": [
        "\n",
        "Chi2=32.57, ndf=27.00, Chi2/ndf=1.21\n",
        "Mean value: 1.10+-0.04, with sigma: 0.20+-0.03"
       ]
      },
      {
       "output_type": "stream",
       "stream": "stdout",
       "text": [
        "\n",
        "Chi2=8.09, ndf=27.00, Chi2/ndf=0.30\n",
        "Mean value: 1.07+-0.03, with sigma: 0.18+-0.02"
       ]
      },
      {
       "output_type": "stream",
       "stream": "stdout",
       "text": [
        "\n",
        "Chi2=7.70, ndf=27.00, Chi2/ndf=0.29\n",
        "Mean value: 1.09+-0.04, with sigma: 0.21+-0.03"
       ]
      },
      {
       "output_type": "stream",
       "stream": "stdout",
       "text": [
        "\n",
        "Chi2=17.21, ndf=27.00, Chi2/ndf=0.64\n",
        "Mean value: 1.09+-0.07, with sigma: 0.34+-0.05"
       ]
      },
      {
       "output_type": "stream",
       "stream": "stdout",
       "text": [
        "\n",
        "Chi2=27.69, ndf=27.00, Chi2/ndf=1.03\n",
        "Mean value: 0.14+-0.78, with sigma: 0.81+-0.43"
       ]
      },
      {
       "output_type": "stream",
       "stream": "stdout",
       "text": [
        "\n",
        "Chi2=25.45, ndf=27.00, Chi2/ndf=0.94\n",
        "Mean value: -12.11+-5.53, with sigma: 2.86+-0.83"
       ]
      },
      {
       "output_type": "stream",
       "stream": "stdout",
       "text": [
        "\n",
        "Chi2=42.05, ndf=27.00, Chi2/ndf=1.56\n"
       ]
      },
      {
       "output_type": "stream",
       "stream": "stderr",
       "text": [
        "Fit:0: RuntimeWarning: Abnormal termination of minimization.\n"
       ]
      }
     ],
     "prompt_number": 8
    },
    {
     "cell_type": "heading",
     "level": 3,
     "metadata": {},
     "source": [
      "Signal contamination in control sample"
     ]
    },
    {
     "cell_type": "code",
     "collapsed": false,
     "input": [
      "#\"M5J:DRHJ:DRWH:RelHT:Eta6thJ:M2HP:DRTp6thJ:HM:chi2:MTHAsym\"\n",
      "\n",
      "Cuts=[CutHT,Cut1,CutDRbb,CutDRWH,CutHM,CutM2HP,CutDRTp6thJ,CutRelHT]\n",
      "\n",
      "CumulCut=ROOT.TCut(\"\")\n",
      "\n",
      "PDFName=\"SignalContam_ConSample_OneComb_\"+OptVersion+\".pdf\"\n",
      "CurCanv = rootnotes.canvas(\"MyPlot\", (600, 800))\n",
      "Titles=[\"M5J\"]\n",
      "\n",
      "BinsLimits=[\"(30,400,1600)\"]\n",
      "Units=[\"GeV/c^{2}\"]\n",
      "XaxisT=[\"M(5J)\"]\n",
      "\n",
      "ValString=[\"Data\",\"MC-Sum\"]\n",
      "\n",
      "for i in xrange(len(Cuts)):\n",
      "    TTbarNm1Histos=[]; DataNm1Histos=[]; QCDNm1Histos=[]\n",
      "    SingleTNm1Histos=[]; DibosonNm1Histos=[]; DYNm1Histos=[]\n",
      "    SignalNm1Histos=[]\n",
      "    \n",
      "    CumulCut=CumulCut*Cuts[i]\n",
      "    NMassPointsE[2].Draw(Titles[0]+\" >> \"+Titles[0]+\"S_Cut\"+str(i)+BinsLimits[0],CumulCut)\n",
      "    SignalNm1Histos.append(ROOT.gDirectory.Get(Titles[0]+\"S_Cut\"+str(i)))\n",
      "    SignalNm1Histos[-1].Sumw2(); SignalNm1Histos[-1].Scale(SWeight)\n",
      "    SignalIntegral=[]; SignalError=[]\n",
      "    for l in xrange(9):\n",
      "        NMassPointsE[l].Draw(Titles[0]+\" >> \"+Titles[0]+\"S_Cut\"+str(i)+str(l)+BinsLimits[0],CumulCut)\n",
      "        A=ROOT.gDirectory.Get(Titles[0]+\"S_Cut\"+str(i)+str(l))\n",
      "        A.Sumw2(); A.Scale(NWeights[l])\n",
      "        SignalIntegral.append(A.Integral())\n",
      "        SignalError.append(np.sqrt(A.GetEntries())*NWeights[l]); del(A)\n",
      "    \n",
      "    TntupleE.Draw(Titles[0]+\" >> \"+Titles[0]+\"T_Cut\"+str(i)+BinsLimits[0],CumulCut)\n",
      "    TTbarNm1Histos.append(ROOT.gDirectory.Get(Titles[0]+\"T_Cut\"+str(i)))\n",
      "    TTbarNm1Histos[-1].Sumw2(); TTbarNm1Histos[-1].Scale(TWeight) #; TTbarHistos[-1].Write()\n",
      "                \n",
      "    QCDHT=[]\n",
      "    QntuplesE[0].Draw(Titles[0]+\" >> \"+Titles[0]+\"Q500_Cut\"+str(i)+BinsLimits[0],CumulCut)\n",
      "    QCDHT.append(ROOT.gDirectory.Get(Titles[0]+\"Q500_Cut\"+str(i)))\n",
      "    QCDHT[-1].Sumw2(); QCDHT[-1].Scale(QWeights[0]) #; QCD500Histos[-1].Write()\n",
      "        \n",
      "    QntuplesE[1].Draw(Titles[0]+\" >> \"+Titles[0]+\"Q1000_Cut\"+str(i)+BinsLimits[0],CumulCut)\n",
      "    QCDHT.append(ROOT.gDirectory.Get(Titles[0]+\"Q1000_Cut\"+str(i)))\n",
      "    QCDHT[-1].Sumw2(); QCDHT[-1].Scale(QWeights[1]) #; QCD1000Histos[-1].Write()\n",
      "    \n",
      "    STHT=[]\n",
      "    for k in xrange(6): #Single Top\n",
      "        if SubBKGArrayE[k].GetEntries()>0:\n",
      "            SubBKGArrayE[k].Draw(Titles[0]+\" >> \"+Titles[0]+\"ST_Cut\"+str(i)+\"_\"+str(k)+BinsLimits[0],CumulCut)\n",
      "            STHT.append(ROOT.gDirectory.Get(Titles[0]+\"ST_Cut\"+str(i)+\"_\"+str(k)))\n",
      "            STHT[-1].Sumw2(); STHT[-1].Scale(SingleTWeights[k])\n",
      "    SingleTNm1Histos.append(STHT)\n",
      "\n",
      "    DiHT=[]\n",
      "    for k in xrange(3): #Diboson\n",
      "        if SubBKGArrayE[k+6].GetEntries()>0:\n",
      "            SubBKGArrayE[k+6].Draw(Titles[0]+\" >> \"+Titles[0]+\"Di_Cut\"+str(i)+\"_\"+str(k)+BinsLimits[0],CumulCut)\n",
      "            DiHT.append(ROOT.gDirectory.Get(Titles[0]+\"Di_Cut\"+str(i)+\"_\"+str(k)))\n",
      "            DiHT[-1].Sumw2(); DiHT[-1].Scale(DibosonWeights[k])\n",
      "    DibosonNm1Histos.append(DiHT)\n",
      "        \n",
      "    DYHT=[]\n",
      "    for k in xrange(2): #DY\n",
      "        if SubBKGArrayE[k+9].GetEntries()>0:\n",
      "            SubBKGArrayE[k+9].Draw(Titles[0]+\" >> \"+Titles[0]+\"DY_Cut\"+str(i)+\"_\"+str(k)+BinsLimits[0],CumulCut)\n",
      "            DYHT.append(ROOT.gDirectory.Get(Titles[0]+\"DY_Cut\"+str(i)+\"_\"+str(k)))\n",
      "            DYHT[-1].Sumw2(); DYHT[-1].Scale(DYWeights[k])\n",
      "    DYNm1Histos.append(DYHT)\n",
      "        \n",
      "    if QCDPTFLAG: \n",
      "        for k in xrange(6): #QCD PT hat\n",
      "            if SubBKGArrayE[k+11].GetEntries()>0:\n",
      "                SubBKGArrayE[k+11].Draw(Titles[0]+\" >> \"+Titles[0]+\"QCDPT_Cut\"+str(i)+\"_\"+str(k)+BinsLimits[0],CumulCut)\n",
      "                QCDHT.append(ROOT.gDirectory.Get(Titles[0]+\"QCDPT_Cut\"+str(i)+\"_\"+str(k)))\n",
      "                QCDHT[-1].Sumw2(); QCDHT[-1].Scale(QCDPTWeights[k])\n",
      "    QCDNm1Histos.append(QCDHT)\n",
      "\n",
      "    QCDFull=QCDNm1Histos[-1][0].Clone(Titles[0]+\"Q_Cut\"+str(i))\n",
      "    for k in QCDNm1Histos[-1][1:]:\n",
      "        QCDFull.Add(k)\n",
      "        \n",
      "    SingleTFull=SingleTNm1Histos[-1][0].Clone(Titles[0]+\"ST_Cut\"+str(i))\n",
      "    for k in SingleTNm1Histos[-1][1:]:\n",
      "        SingleTFull.Add(k)\n",
      "    \n",
      "    DibosonFull=DibosonNm1Histos[-1][0].Clone(Titles[0]+\"Di_Cut\"+str(i))\n",
      "    for k in DibosonNm1Histos[-1][1:]:\n",
      "        DibosonFull.Add(k)\n",
      "        \n",
      "    DYFull=DYNm1Histos[-1][0].Clone(Titles[0]+\"DY_Cut\"+str(i))\n",
      "    for k in DYNm1Histos[-1][1:]:\n",
      "        DYFull.Add(k)\n",
      "    \n",
      "    MCFull=QCDFull.Clone(Titles[0]+\"MC_Cut\"+str(i))\n",
      "    MCFull.Add(TTbarNm1Histos[-1])\n",
      "    MCFull.Add(SingleTFull)\n",
      "    MCFull.Add(DibosonFull)\n",
      "    MCFull.Add(DYFull)\n",
      "\n",
      "    DataE[0].Draw(Titles[0]+\" >> \"+Titles[0]+\"D_Cut\"+str(i)+BinsLimits[0],CumulCut)\n",
      "    DataNm1Histos.append(ROOT.gDirectory.Get(Titles[0]+\"D_Cut\"+str(i)))\n",
      "    DataIntegral=DataNm1Histos[-1].Integral()\n",
      "\n",
      "    print \"------------------\", CumulCut, \"------------------\"\n",
      "    for l in xrange(9):\n",
      "        Masses=[500,550,600,650,700,750,800,850,900,950,1000]\n",
      "        print \"Signal Mass=\", Masses[l]\n",
      "        print \"Signal in control sample={0:.2f}+-{1:.2f}, Data in control sample={2:.2f}+-{3:.2f}\".format(\n",
      "                                                                                                          SignalIntegral[l],\n",
      "                                                                                                          SignalError[l],\n",
      "                                                                                                          DataIntegral,\n",
      "                                                                                                          np.sqrt(DataIntegral))\n",
      "        print \"Signal Contamination: S/Data = {0:.2f}+-{1:.3f}\".format(SignalIntegral[l]/DataIntegral,\n",
      "                                                                        DivE(SignalIntegral[l],DataIntegral,SignalError[l],np.sqrt(DataIntegral)))\n",
      "        print \"Signal Contamination: (Data-S)/Data = {0:.2f}+-{1:.2f}\".format((DataIntegral-SignalIntegral[l])/DataIntegral,\n",
      "                                                                              DivE((DataIntegral-SignalIntegral[l]),DataIntegral,np.sqrt(DataIntegral)+SignalError[l],np.sqrt(DataIntegral)))\n",
      "    print \"------------------------------------\"\n",
      "    \n",
      "    ROOT.gPad.Clear()\n",
      "\n",
      "    CurrentStyle=ROOT.TStyle(\"CStyle\",\"Style for Plotting\")\n",
      "    \n",
      "    CurrentStyle.SetTitleSize(0.08, \"Y\")\n",
      "    CurrentStyle.SetTitleYOffset(1.5)\n",
      "                \n",
      "    CurCanv1 = rootnotes.canvas(\"MyPlot\", (600, 800))\n",
      "    CurCanv1.cd(1)\n",
      "    Pad1=ROOT.TPad(\"pad1\",\"pad1\",0,0,1,1)\n",
      "    Pad1.SetBottomMargin(0)\n",
      "    Pad1.SetLeftMargin(0.16)\n",
      "    Pad1.Draw()\n",
      "    Pad1.cd()\n",
      "        \n",
      "    MCFull.SetStats(ROOT.kFALSE)\n",
      "    MinX=float(BinsLimits[0].split(\",\")[1])\n",
      "    MaxX=float(BinsLimits[0].split(\",\")[-1][0:-1])\n",
      "    Nbins=int(BinsLimits[0].split(\",\")[0][1:])\n",
      "    MCFull.SetTitle(\";M(5J) GeV/c^{{2}};Events/{0:.2f} GeV/^{{2}} \".format((MaxX-MinX)/Nbins)+Units[0])\n",
      "    SetAxis(MCFull,'Y',1.45,0.05,0.007,0.05,510)\n",
      "    SetAxis(DataNm1Histos[-1],'Y',1.45,0.05,0.007,0.05,510)\n",
      "    SetAxis(SignalNm1Histos[-1],'Y',1.45,0.05,0.007,0.05,510)\n",
      "    SetAxis(TTbarNm1Histos[-1],'Y',1.45,0.05,0.007,0.05,510)\n",
      "    SetAxis(QCDFull,'Y',1.45,0.05,0.007,0.05,510)\n",
      "    SetAxis(SingleTFull,'Y',1.45,0.05,0.007,0.05,510)\n",
      "    SetAxis(DibosonFull,'Y',1.45,0.05,0.007,0.05,510)\n",
      "    SetAxis(DYFull,'Y',1.45,0.05,0.007,0.05,510)\n",
      "    \n",
      "    SetCos(DataNm1Histos[-1],0,0,ROOT.kBlack,2,1,20)\n",
      "    SetCos(SignalNm1Histos[-1],ROOT.kSpring,3444,ROOT.kBlack,2,1,1)\n",
      "    SetCos(TTbarNm1Histos[-1],ROOT.kRed,3345,ROOT.kBlack,1,1,1)\n",
      "    SetCos(QCDFull,ROOT.kViolet,1001,ROOT.kBlack,1,1,1)\n",
      "    SetCos(SingleTFull,ROOT.kBlack,3305,ROOT.kBlack,1,1,1)\n",
      "    SetCos(DibosonFull,ROOT.kWhite,1001,ROOT.kBlack,1,1,1)\n",
      "    SetCos(DYFull,ROOT.kBlue,1001,ROOT.kBlack,1,1,1)\n",
      "    SetCos(MCFull,ROOT.kGray+2,3144,ROOT.kGray+2,1,1,1)\n",
      "            \n",
      "    AllBKGStack=ROOT.THStack(\"AllBKGStack\", \";M(5J) GeV/c^{{2}};Events/{0:.1f} GeV/^{{2}}\".format((MaxX-MinX)/Nbins)+Units[0])\n",
      "    AllBKGStack.Add(DibosonFull); AllBKGStack.Add(SingleTFull)\n",
      "    AllBKGStack.Add(TTbarNm1Histos[-1]); AllBKGStack.Add(DYFull); AllBKGStack.Add(QCDFull)\n",
      "    AllBKGStack.SetMinimum(0.3)\n",
      "    \n",
      "    LEG=ROOT.TLegend(0.6,0.6,0.9,0.9)\n",
      "    #LEG.AddEntry(DataNm1Histos[-1], \"Data\", \"p\")\n",
      "    LEG.AddEntry(QCDFull, \"QCD\", \"f\")\n",
      "    LEG.AddEntry(DYFull, \"Zjets\", \"f\")\n",
      "    LEG.AddEntry(TTbarNm1Histos[-1], \"TTbar\", \"f\")\n",
      "    LEG.AddEntry(SingleTFull, \"Single Top\", \"f\")\n",
      "    LEG.AddEntry(DibosonFull, \"Diboson\", \"f\")\n",
      "    LEG.AddEntry(SignalNm1Histos[-1], \"Signal M(T')=700 GeV/c^{2}\", \"f\")\n",
      "    LEG.SetFillColor(0)\n",
      "    AllBKGStack.Draw(\"hist\")\n",
      "    AllBKGStack.GetHistogram().GetYaxis().SetTitleOffset(1.65)\n",
      "    MCFull.Draw(\"e2 same\")\n",
      "    SignalNm1Histos[-1].Draw(\"hist same\"); #DataNm1Histos[-1].Draw(\"E0X0 same\")\n",
      "    if i!=len(CutsNm1): Pad1.SetLogy(); Pad1.RedrawAxis()\n",
      "    \n",
      "    LEG.Draw()\n",
      "    CurrentStyle.SetPadTickX(1)\n",
      "    CurCanv1.cd()\n",
      "        \n",
      "    if i==0: CurCanv1.Print(PDFName+\"(\",\"Title:\"+Titles[0]+str(i))\n",
      "    elif i==(len(Cuts)-1): CurCanv1.Print(PDFName+\")\",\"Title:\"+Titles[0]+str(i))\n",
      "    else: CurCanv1.Print(PDFName,\"Title:\"+Titles[0]+str(i))\n",
      "        \n",
      "    CurCanv1.Clear(); CurrentStyle.SetPadTickX(0)\n",
      "    CurCanv1.cd(1)\n",
      "                    \n",
      "    #del(HistosToplot); del(CurCanv1); del(Pad1); del(Pad2)\n",
      "    #del(CloneA); del(CloneE); del(CloneE1); del(CloneE2)"
     ],
     "language": "python",
     "metadata": {},
     "outputs": [
      {
       "output_type": "stream",
       "stream": "stdout",
       "text": [
        "------------------ THT>550 ------------------\n",
        "Signal Mass= 500\n",
        "Signal in control sample=85.48+-1.58, Data in control sample=745773.00+-863.58\n",
        "Signal Contamination: S/Data = 0.00+-0.000\n",
        "Signal Contamination: (Data-S)/Data = 1.00+-0.00\n",
        "Signal Mass= 550\n",
        "Signal in control sample=67.95+-1.26, Data in control sample=745773.00+-863.58\n",
        "Signal Contamination: S/Data = 0.00+-0.000\n",
        "Signal Contamination: (Data-S)/Data = 1.00+-0.00\n",
        "Signal Mass= 600\n",
        "Signal in control sample=54.56+-1.01, Data in control sample=745773.00+-863.58\n",
        "Signal Contamination: S/Data = 0.00+-0.000\n",
        "Signal Contamination: (Data-S)/Data = 1.00+-0.00\n",
        "Signal Mass= 650\n",
        "Signal in control sample=45.07+-0.83, Data in control sample=745773.00+-863.58\n",
        "Signal Contamination: S/Data = 0.00+-0.000\n",
        "Signal Contamination: (Data-S)/Data = 1.00+-0.00\n",
        "Signal Mass= 700\n",
        "Signal in control sample=39.42+-0.73, Data in control sample=745773.00+-863.58\n",
        "Signal Contamination: S/Data = 0.00+-0.000\n",
        "Signal Contamination: (Data-S)/Data = 1.00+-0.00\n",
        "Signal Mass= 750\n",
        "Signal in control sample=32.08+-0.59, Data in control sample=745773.00+-863.58\n",
        "Signal Contamination: S/Data = 0.00+-0.000\n",
        "Signal Contamination: (Data-S)/Data = 1.00+-0.00\n",
        "Signal Mass= 800\n",
        "Signal in control sample=27.65+-0.51, Data in control sample=745773.00+-863.58\n",
        "Signal Contamination: S/Data = 0.00+-0.000\n",
        "Signal Contamination: (Data-S)/Data = 1.00+-0.00\n",
        "Signal Mass= 850\n",
        "Signal in control sample=24.64+-0.46, Data in control sample=745773.00+-863.58\n",
        "Signal Contamination: S/Data = 0.00+-0.000\n",
        "Signal Contamination: (Data-S)/Data = 1.00+-0.00\n",
        "Signal Mass= 900\n",
        "Signal in control sample=20.55+-0.38, Data in control sample=745773.00+-863.58\n",
        "Signal Contamination: S/Data = 0.00+-0.000\n",
        "Signal Contamination: (Data-S)/Data = 1.00+-0.00\n",
        "------------------------------------\n",
        "------------------"
       ]
      },
      {
       "output_type": "stream",
       "stream": "stdout",
       "text": [
        " (THT>550)*(chi2<8) ------------------\n",
        "Signal Mass= 500\n",
        "Signal in control sample=36.12+-1.04, Data in control sample=143560.00+-378.89\n",
        "Signal Contamination: S/Data = 0.00+-0.000\n",
        "Signal Contamination: (Data-S)/Data = 1.00+-0.01\n",
        "Signal Mass= 550\n",
        "Signal in control sample=28.71+-0.83, Data in control sample=143560.00+-378.89\n",
        "Signal Contamination: S/Data = 0.00+-0.000\n",
        "Signal Contamination: (Data-S)/Data = 1.00+-0.01\n",
        "Signal Mass= 600\n",
        "Signal in control sample=23.05+-0.66, Data in control sample=143560.00+-378.89\n",
        "Signal Contamination: S/Data = 0.00+-0.000\n",
        "Signal Contamination: (Data-S)/Data = 1.00+-0.01\n",
        "Signal Mass= 650\n",
        "Signal in control sample=19.04+-0.55, Data in control sample=143560.00+-378.89\n",
        "Signal Contamination: S/Data = 0.00+-0.000\n",
        "Signal Contamination: (Data-S)/Data = 1.00+-0.01\n",
        "Signal Mass= 700\n",
        "Signal in control sample=16.66+-0.48, Data in control sample=143560.00+-378.89\n",
        "Signal Contamination: S/Data = 0.00+-0.000\n",
        "Signal Contamination: (Data-S)/Data = 1.00+-0.01\n",
        "Signal Mass= 750\n",
        "Signal in control sample=13.55+-0.39, Data in control sample=143560.00+-378.89\n",
        "Signal Contamination: S/Data = 0.00+-0.000\n",
        "Signal Contamination: (Data-S)/Data = 1.00+-0.01\n",
        "Signal Mass= 800\n",
        "Signal in control sample=11.68+-0.34, Data in control sample=143560.00+-378.89\n",
        "Signal Contamination: S/Data = 0.00+-0.000\n",
        "Signal Contamination: (Data-S)/Data = 1.00+-0.01\n",
        "Signal Mass= 850\n",
        "Signal in control sample=10.41+-0.30, Data in control sample=143560.00+-378.89\n",
        "Signal Contamination: S/Data = 0.00+-0.000\n",
        "Signal Contamination: (Data-S)/Data = 1.00+-0.01\n",
        "Signal Mass= 900\n",
        "Signal in control sample=8.68+-0.25, Data in control sample=143560.00+-378.89\n",
        "Signal Contamination: S/Data = 0.00+-0.000\n",
        "Signal Contamination: (Data-S)/Data = 1.00+-0.01\n",
        "------------------------------------\n",
        "------------------"
       ]
      },
      {
       "output_type": "stream",
       "stream": "stdout",
       "text": [
        " ((THT>550)*(chi2<8))*(DRHJ<=1.2) ------------------\n",
        "Signal Mass= 500\n",
        "Signal in control sample=26.21+-0.85, Data in control sample=43481.00+-208.52\n",
        "Signal Contamination: S/Data = 0.00+-0.000\n",
        "Signal Contamination: (Data-S)/Data = 1.00+-0.01\n",
        "Signal Mass= 550\n",
        "Signal in control sample=20.84+-0.68, Data in control sample=43481.00+-208.52\n",
        "Signal Contamination: S/Data = 0.00+-0.000\n",
        "Signal Contamination: (Data-S)/Data = 1.00+-0.01\n",
        "Signal Mass= 600\n",
        "Signal in control sample=16.73+-0.55, Data in control sample=43481.00+-208.52\n",
        "Signal Contamination: S/Data = 0.00+-0.000\n",
        "Signal Contamination: (Data-S)/Data = 1.00+-0.01\n",
        "Signal Mass= 650\n",
        "Signal in control sample=13.82+-0.45, Data in control sample=43481.00+-208.52\n",
        "Signal Contamination: S/Data = 0.00+-0.000\n",
        "Signal Contamination: (Data-S)/Data = 1.00+-0.01\n",
        "Signal Mass= 700\n",
        "Signal in control sample=12.09+-0.39, Data in control sample=43481.00+-208.52\n",
        "Signal Contamination: S/Data = 0.00+-0.000\n",
        "Signal Contamination: (Data-S)/Data = 1.00+-0.01\n",
        "Signal Mass= 750\n",
        "Signal in control sample=9.84+-0.32, Data in control sample=43481.00+-208.52\n",
        "Signal Contamination: S/Data = 0.00+-0.000\n",
        "Signal Contamination: (Data-S)/Data = 1.00+-0.01\n",
        "Signal Mass= 800\n",
        "Signal in control sample=8.48+-0.28, Data in control sample=43481.00+-208.52\n",
        "Signal Contamination: S/Data = 0.00+-0.000\n",
        "Signal Contamination: (Data-S)/Data = 1.00+-0.01\n",
        "Signal Mass= 850\n",
        "Signal in control sample=7.56+-0.25, Data in control sample=43481.00+-208.52\n",
        "Signal Contamination: S/Data = 0.00+-0.000\n",
        "Signal Contamination: (Data-S)/Data = 1.00+-0.01\n",
        "Signal Mass= 900\n",
        "Signal in control sample=6.30+-0.21, Data in control sample=43481.00+-208.52\n",
        "Signal Contamination: S/Data = 0.00+-0.000\n",
        "Signal Contamination: (Data-S)/Data = 1.00+-0.01\n",
        "------------------------------------\n",
        "------------------"
       ]
      },
      {
       "output_type": "stream",
       "stream": "stdout",
       "text": [
        " (((THT>550)*(chi2<8))*(DRHJ<=1.2))*(DRWH>=1.6 && DRWH<=4.0) ------------------\n",
        "Signal Mass= 500\n",
        "Signal in control sample=24.35+-0.82, Data in control sample=36570.00+-191.23\n",
        "Signal Contamination: S/Data = 0.00+-0.000\n",
        "Signal Contamination: (Data-S)/Data = 1.00+-0.01\n",
        "Signal Mass= 550\n",
        "Signal in control sample=19.36+-0.65, Data in control sample=36570.00+-191.23\n",
        "Signal Contamination: S/Data = 0.00+-0.000\n",
        "Signal Contamination: (Data-S)/Data = 1.00+-0.01\n",
        "Signal Mass= 600\n",
        "Signal in control sample=15.54+-0.52, Data in control sample=36570.00+-191.23\n",
        "Signal Contamination: S/Data = 0.00+-0.000\n",
        "Signal Contamination: (Data-S)/Data = 1.00+-0.01\n",
        "Signal Mass= 650\n",
        "Signal in control sample=12.84+-0.43, Data in control sample=36570.00+-191.23\n",
        "Signal Contamination: S/Data = 0.00+-0.000\n",
        "Signal Contamination: (Data-S)/Data = 1.00+-0.01\n",
        "Signal Mass= 700\n",
        "Signal in control sample=11.23+-0.38, Data in control sample=36570.00+-191.23\n",
        "Signal Contamination: S/Data = 0.00+-0.000\n",
        "Signal Contamination: (Data-S)/Data = 1.00+-0.01\n",
        "Signal Mass= 750\n",
        "Signal in control sample=9.14+-0.31, Data in control sample=36570.00+-191.23\n",
        "Signal Contamination: S/Data = 0.00+-0.000\n",
        "Signal Contamination: (Data-S)/Data = 1.00+-0.01\n",
        "Signal Mass= 800\n",
        "Signal in control sample=7.88+-0.26, Data in control sample=36570.00+-191.23\n",
        "Signal Contamination: S/Data = 0.00+-0.000\n",
        "Signal Contamination: (Data-S)/Data = 1.00+-0.01\n",
        "Signal Mass= 850\n",
        "Signal in control sample=7.02+-0.24, Data in control sample=36570.00+-191.23\n",
        "Signal Contamination: S/Data = 0.00+-0.000\n",
        "Signal Contamination: (Data-S)/Data = 1.00+-0.01\n",
        "Signal Mass= 900\n",
        "Signal in control sample=5.85+-0.20, Data in control sample=36570.00+-191.23\n",
        "Signal Contamination: S/Data = 0.00+-0.000\n",
        "Signal Contamination: (Data-S)/Data = 1.00+-0.01\n",
        "------------------------------------\n",
        "------------------"
       ]
      },
      {
       "output_type": "stream",
       "stream": "stdout",
       "text": [
        " ((((THT>550)*(chi2<8))*(DRHJ<=1.2))*(DRWH>=1.6 && DRWH<=4.0))*(HM>=105 && HM<=145) ------------------\n",
        "Signal Mass= 500\n",
        "Signal in control sample=21.26+-0.76, Data in control sample=26705.00+-163.42\n",
        "Signal Contamination: S/Data = 0.00+-0.000\n",
        "Signal Contamination: (Data-S)/Data = 1.00+-0.01\n",
        "Signal Mass= 550\n",
        "Signal in control sample=16.90+-0.61, Data in control sample=26705.00+-163.42\n",
        "Signal Contamination: S/Data = 0.00+-0.000\n",
        "Signal Contamination: (Data-S)/Data = 1.00+-0.01\n",
        "Signal Mass= 600\n",
        "Signal in control sample=13.57+-0.49, Data in control sample=26705.00+-163.42\n",
        "Signal Contamination: S/Data = 0.00+-0.000\n",
        "Signal Contamination: (Data-S)/Data = 1.00+-0.01\n",
        "Signal Mass= 650\n",
        "Signal in control sample=11.21+-0.40, Data in control sample=26705.00+-163.42\n",
        "Signal Contamination: S/Data = 0.00+-0.000\n",
        "Signal Contamination: (Data-S)/Data = 1.00+-0.01\n",
        "Signal Mass= 700\n",
        "Signal in control sample=9.80+-0.35, Data in control sample=26705.00+-163.42\n",
        "Signal Contamination: S/Data = 0.00+-0.000\n",
        "Signal Contamination: (Data-S)/Data = 1.00+-0.01\n",
        "Signal Mass= 750\n",
        "Signal in control sample=7.98+-0.29, Data in control sample=26705.00+-163.42\n",
        "Signal Contamination: S/Data = 0.00+-0.000\n",
        "Signal Contamination: (Data-S)/Data = 1.00+-0.01\n",
        "Signal Mass= 800\n",
        "Signal in control sample=6.88+-0.25, Data in control sample=26705.00+-163.42\n",
        "Signal Contamination: S/Data = 0.00+-0.000\n",
        "Signal Contamination: (Data-S)/Data = 1.00+-0.01\n",
        "Signal Mass= 850\n",
        "Signal in control sample=6.13+-0.22, Data in control sample=26705.00+-163.42\n",
        "Signal Contamination: S/Data = 0.00+-0.000\n",
        "Signal Contamination: (Data-S)/Data = 1.00+-0.01\n",
        "Signal Mass= 900\n",
        "Signal in control sample=5.11+-0.18, Data in control sample=26705.00+-163.42\n",
        "Signal Contamination: S/Data = 0.00+-0.000\n",
        "Signal Contamination: (Data-S)/Data = 1.00+-0.01\n",
        "------------------------------------\n",
        "------------------"
       ]
      },
      {
       "output_type": "stream",
       "stream": "stdout",
       "text": [
        " (((((THT>550)*(chi2<8))*(DRHJ<=1.2))*(DRWH>=1.6 && DRWH<=4.0))*(HM>=105 && HM<=145))*(M2HP>6.8) ------------------\n",
        "Signal Mass= 500\n",
        "Signal in control sample=12.86+-0.60, Data in control sample=13629.00+-116.74\n",
        "Signal Contamination: S/Data = 0.00+-0.000\n",
        "Signal Contamination: (Data-S)/Data = 1.00+-0.02\n",
        "Signal Mass= 550\n",
        "Signal in control sample=10.22+-0.47, Data in control sample=13629.00+-116.74\n",
        "Signal Contamination: S/Data = 0.00+-0.000\n",
        "Signal Contamination: (Data-S)/Data = 1.00+-0.02\n",
        "Signal Mass= 600\n",
        "Signal in control sample=8.21+-0.38, Data in control sample=13629.00+-116.74\n",
        "Signal Contamination: S/Data = 0.00+-0.000\n",
        "Signal Contamination: (Data-S)/Data = 1.00+-0.02\n",
        "Signal Mass= 650\n",
        "Signal in control sample=6.78+-0.31, Data in control sample=13629.00+-116.74\n",
        "Signal Contamination: S/Data = 0.00+-0.000\n",
        "Signal Contamination: (Data-S)/Data = 1.00+-0.02\n",
        "Signal Mass= 700\n",
        "Signal in control sample=5.93+-0.27, Data in control sample=13629.00+-116.74\n",
        "Signal Contamination: S/Data = 0.00+-0.000\n",
        "Signal Contamination: (Data-S)/Data = 1.00+-0.02\n",
        "Signal Mass= 750\n",
        "Signal in control sample=4.83+-0.22, Data in control sample=13629.00+-116.74\n",
        "Signal Contamination: S/Data = 0.00+-0.000\n",
        "Signal Contamination: (Data-S)/Data = 1.00+-0.02\n",
        "Signal Mass= 800\n",
        "Signal in control sample=4.16+-0.19, Data in control sample=13629.00+-116.74\n",
        "Signal Contamination: S/Data = 0.00+-0.000\n",
        "Signal Contamination: (Data-S)/Data = 1.00+-0.02\n",
        "Signal Mass= 850\n",
        "Signal in control sample=3.71+-0.17, Data in control sample=13629.00+-116.74\n",
        "Signal Contamination: S/Data = 0.00+-0.000\n",
        "Signal Contamination: (Data-S)/Data = 1.00+-0.02\n",
        "Signal Mass= 900\n",
        "Signal in control sample=3.09+-0.14, Data in control sample=13629.00+-116.74\n",
        "Signal Contamination: S/Data = 0.00+-0.000\n",
        "Signal Contamination: (Data-S)/Data = 1.00+-0.02\n",
        "------------------------------------\n",
        "------------------"
       ]
      },
      {
       "output_type": "stream",
       "stream": "stdout",
       "text": [
        " ((((((THT>550)*(chi2<8))*(DRHJ<=1.2))*(DRWH>=1.6 && DRWH<=4.0))*(HM>=105 && HM<=145))*(M2HP>6.8))*(DRTp6thJ>4.8) ------------------\n",
        "Signal Mass= 500\n",
        "Signal in control sample=6.46+-0.42, Data in control sample=1332.00+-36.50\n",
        "Signal Contamination: S/Data = 0.00+-0.000\n",
        "Signal Contamination: (Data-S)/Data = 1.00+-0.05\n",
        "Signal Mass= 550\n",
        "Signal in control sample=5.13+-0.33, Data in control sample=1332.00+-36.50\n",
        "Signal Contamination: S/Data = 0.00+-0.000\n",
        "Signal Contamination: (Data-S)/Data = 1.00+-0.05\n",
        "Signal Mass= 600\n",
        "Signal in control sample=4.12+-0.27, Data in control sample=1332.00+-36.50\n",
        "Signal Contamination: S/Data = 0.00+-0.000\n",
        "Signal Contamination: (Data-S)/Data = 1.00+-0.05\n",
        "Signal Mass= 650\n",
        "Signal in control sample=3.40+-0.22, Data in control sample=1332.00+-36.50\n",
        "Signal Contamination: S/Data = 0.00+-0.000\n",
        "Signal Contamination: (Data-S)/Data = 1.00+-0.05\n",
        "Signal Mass= 700\n",
        "Signal in control sample=2.98+-0.19, Data in control sample=1332.00+-36.50\n",
        "Signal Contamination: S/Data = 0.00+-0.000\n",
        "Signal Contamination: (Data-S)/Data = 1.00+-0.05\n",
        "Signal Mass= 750\n",
        "Signal in control sample=2.42+-0.16, Data in control sample=1332.00+-36.50\n",
        "Signal Contamination: S/Data = 0.00+-0.000\n",
        "Signal Contamination: (Data-S)/Data = 1.00+-0.05\n",
        "Signal Mass= 800\n",
        "Signal in control sample=2.09+-0.14, Data in control sample=1332.00+-36.50\n",
        "Signal Contamination: S/Data = 0.00+-0.000\n",
        "Signal Contamination: (Data-S)/Data = 1.00+-0.05\n",
        "Signal Mass= 850\n",
        "Signal in control sample=1.86+-0.12, Data in control sample=1332.00+-36.50\n",
        "Signal Contamination: S/Data = 0.00+-0.000\n",
        "Signal Contamination: (Data-S)/Data = 1.00+-0.05\n",
        "Signal Mass= 900\n",
        "Signal in control sample=1.55+-0.10, Data in control sample=1332.00+-36.50\n",
        "Signal Contamination: S/Data = 0.00+-0.000\n",
        "Signal Contamination: (Data-S)/Data = 1.00+-0.05\n",
        "------------------------------------\n",
        "------------------"
       ]
      },
      {
       "output_type": "stream",
       "stream": "stdout",
       "text": [
        " (((((((THT>550)*(chi2<8))*(DRHJ<=1.2))*(DRWH>=1.6 && DRWH<=4.0))*(HM>=105 && HM<=145))*(M2HP>6.8))*(DRTp6thJ>4.8))*(RelHT>=0.67) ------------------\n",
        "Signal Mass= 500\n",
        "Signal in control sample=4.10+-0.34, Data in control sample=484.00+-22.00\n",
        "Signal Contamination: S/Data = 0.01+-0.001\n",
        "Signal Contamination: (Data-S)/Data = 0.99+-0.09\n",
        "Signal Mass= 550\n",
        "Signal in control sample=3.26+-0.27, Data in control sample=484.00+-22.00\n",
        "Signal Contamination: S/Data = 0.01+-0.001\n",
        "Signal Contamination: (Data-S)/Data = 0.99+-0.09\n",
        "Signal Mass= 600\n",
        "Signal in control sample=2.62+-0.21, Data in control sample=484.00+-22.00\n",
        "Signal Contamination: S/Data = 0.01+-0.001\n",
        "Signal Contamination: (Data-S)/Data = 0.99+-0.09\n",
        "Signal Mass= 650\n",
        "Signal in control sample=2.16+-0.18, Data in control sample=484.00+-22.00\n",
        "Signal Contamination: S/Data = 0.00+-0.001\n",
        "Signal Contamination: (Data-S)/Data = 1.00+-0.09\n",
        "Signal Mass= 700\n",
        "Signal in control sample=1.89+-0.15, Data in control sample=484.00+-22.00\n",
        "Signal Contamination: S/Data = 0.00+-0.000\n",
        "Signal Contamination: (Data-S)/Data = 1.00+-0.09\n",
        "Signal Mass= 750\n",
        "Signal in control sample=1.54+-0.13, Data in control sample=484.00+-22.00\n",
        "Signal Contamination: S/Data = 0.00+-0.000\n",
        "Signal Contamination: (Data-S)/Data = 1.00+-0.09\n",
        "Signal Mass= 800\n",
        "Signal in control sample=1.33+-0.11, Data in control sample=484.00+-22.00\n",
        "Signal Contamination: S/Data = 0.00+-0.000\n",
        "Signal Contamination: (Data-S)/Data = 1.00+-0.09\n",
        "Signal Mass= 850\n",
        "Signal in control sample=1.18+-0.10, Data in control sample=484.00+-22.00\n",
        "Signal Contamination: S/Data = 0.00+-0.000\n",
        "Signal Contamination: (Data-S)/Data = 1.00+-0.09\n",
        "Signal Mass= 900\n",
        "Signal in control sample=0.99+-0.08, Data in control sample=484.00+-22.00\n",
        "Signal Contamination: S/Data = 0.00+-0.000\n",
        "Signal Contamination: (Data-S)/Data = 1.00+-0.09\n",
        "------------------------------------\n"
       ]
      }
     ],
     "prompt_number": 33
    },
    {
     "cell_type": "heading",
     "level": 2,
     "metadata": {},
     "source": [
      "Starting exclusive validation"
     ]
    },
    {
     "cell_type": "code",
     "collapsed": false,
     "input": [
      "##################################\n",
      "#Exclusive Control samples Arrays#\n",
      "##################################\n",
      "#Reading DATA minitrees for control sample\n",
      "ExclusiveV1=\"V11\"\n",
      "ExclusiveV2=\"V12\"\n",
      "\n",
      "ControlSampleFileDE1_1=\"Arrays_V11V12/DataE_\"+ExclusiveV1\n",
      "DataEE = np.load(ControlSampleFileDE1_1+\".npy\")\n",
      "\n",
      "ControlSampleFileDE2_1=\"Arrays_V11V12/DataE_\"+ExclusiveV2\n",
      "DataEE1 = np.load(ControlSampleFileDE2_1+\".npy\")\n",
      "\n",
      "print DataE1[0].GetEntries(), DataE2[0].GetEntries()\n",
      "\n",
      "#Reading MC minitrees for control sample\n",
      "\n",
      "ControlSampleFileS1=\"Arrays_V11V12/ControlSample_SignalMassPoints_\"+ExclusiveV1\n",
      "ControlSampleFileS2=\"Arrays_V11V12/ControlSample_SignalMassPoints_\"+ExclusiveV2\n",
      "\n",
      "NMassPointsE1=np.load(ControlSampleFileS1+\".npy\")\n",
      "NMassPointsE2=np.load(ControlSampleFileS2+\".npy\")\n",
      "\n",
      "ControlSampleFileQCDHT1=\"Arrays_V8V9V10/Version9/ControlSample_QCDHT_\"+InclusiveV1\n",
      "ControlSampleFileQCDHT2=\"Arrays_V8V9V10/Version10/ControlSample_QCDHT_\"+InclusiveV2\n",
      "\n",
      "QntuplesE1=np.load(ControlSampleFileQCDHT1+\".npy\")\n",
      "QntuplesE2=np.load(ControlSampleFileQCDHT2+\".npy\")\n",
      "\n",
      "ControlSampleFileSubB1=\"Arrays_V8V9V10/Version9/ControlSample_SubBKGMC_\"+InclusiveV1\n",
      "ControlSampleFileSubB2=\"Arrays_V8V9V10/Version10/ControlSample_SubBKGMC_\"+InclusiveV2\n",
      "\n",
      "SubBKGArrayE1=np.load(ControlSampleFileSubB1+\".npy\")\n",
      "SubBKGArrayE2=np.load(ControlSampleFileSubB2+\".npy\")\n",
      "\n",
      "ControlSampleFileTT1=\"Arrays_V8V9V10/Version9/ControlSample_TTJets_DRleq1p2_\"+InclusiveV1\n",
      "TntupleE1=np.load(ControlSampleFileTT1+\".npy\"); TntupleE1=TntupleE1[0]\n",
      "\n",
      "ControlSampleFileTT2=\"Arrays_V8V9V10/Version10/ControlSample_TTJets_DRleq1p2_\"+InclusiveV2\n",
      "TntupleE2=np.load(ControlSampleFileTT2+\".npy\"); TntupleE2=TntupleE2[0]\n",
      "\n",
      "\n",
      "\n",
      "print NMassPointsE1[2].GetEntries(), TntupleE1.GetEntries(), QntuplesE1[0].GetEntries()\n",
      "print NMassPointsE2[2].GetEntries(), TntupleE2.GetEntries(), QntuplesE2[0].GetEntries()"
     ],
     "language": "python",
     "metadata": {},
     "outputs": [
      {
       "output_type": "stream",
       "stream": "stdout",
       "text": [
        "9423576 2197455\n",
        "92601"
       ]
      },
      {
       "output_type": "stream",
       "stream": "stdout",
       "text": [
        " 1737765 525939\n",
        "31248 520416 126690\n"
       ]
      }
     ],
     "prompt_number": 4
    },
    {
     "cell_type": "code",
     "collapsed": false,
     "input": [],
     "language": "python",
     "metadata": {},
     "outputs": []
    },
    {
     "cell_type": "heading",
     "level": 1,
     "metadata": {},
     "source": [
      "OLD CODE!"
     ]
    },
    {
     "cell_type": "code",
     "collapsed": false,
     "input": [
      "Cut1=ROOT.TCut(\"chi2<820\")\n",
      "CutsFromOpt=[ROOT.TCut(\"\"),Cut1,CutDRbb,CutDRWH,CutM2HP,CutDRTp6thJ,CutHM,CutRelHT,CutMTHAsym]\n",
      "OptVersion=\"_550To1100_bkgestimation_with_optchi2_\"+NominalV+\"_\"+InclusiveV1+\"_\"+InclusiveV2\n",
      "\n",
      "CumulCut=ROOT.TCut(\"\")*CutHT\n",
      "\n",
      "PDFName=\"Nminus1\"+OptVersion+\".pdf\"\n",
      "CurCanv = rootnotes.canvas(\"MyPlot\", (600, 800))\n",
      "Titles=[\"Base\",\"chi2\", \"DRbb\", \"DRWH\", \"M2HP\", \"DRTp6thJ\", \"HiggsMass\", \"RelHT\", \"MTHAsym\"]\n",
      "\n",
      "SignalWEntries=[]; QCDWEntries=[]; TopWEntries=[]; DibosonWEntries=[]\n",
      "\n",
      "BinsLimits=\"(30,550,1100)\"\n",
      "\n",
      "ValString=[\"Data\",\"TTbar\",\"QCD\",\"MC-Sum\"]\n",
      "WP=[\" CSVM\",\" [0.244,0.679)\",\" [0.389,0.679)\",\" [0.534,0.679)\"]\n",
      "\n",
      "for i in xrange(len(CutsFromOpt)):\n",
      "    TTbarHistos=[]; QCD500Histos=[]; QCD1000Histos=[]; DataHistos=[]; QCDHistos=[]; MCHistos=[]\n",
      "    SingleTHistos=[]; QCDPTHistos=[]; DibosonHistos=[]; DYHistos=[]; SignalHistos=[]\n",
      "    CumulCut=CumulCut*CutsFromOpt[i]\n",
      "    for j in xrange(len(MCArray)):\n",
      "        \n",
      "        SHT=[]; SEnT=[]\n",
      "        if (i==(len(CutsFromOpt)-1) and j==0): MassesHistosf = ROOT.TFile(\"Histos_Masses_Afterfullsel.root\", \"recreate\")\n",
      "        #####SIGNAL#####\n",
      "        for k in xrange(len(MCArray[j][0])): #Signal            \n",
      "            if MCArray[j][0][k].GetEntries()>0:\n",
      "                MCArray[j][0][k].Draw(\"M5J >> M5jSi_Cut\"+str(i)+\"_\"+str(j)+\"_\"+str(k)+BinsLimits,CumulCut)\n",
      "                SHT.append(ROOT.gDirectory.Get(\"M5jSi_Cut\"+str(i)+\"_\"+str(j)+\"_\"+str(k)))\n",
      "                SHT[-1].Sumw2(); SHT[-1].Scale(NWeights[k])\n",
      "                if (i==(len(CutsFromOpt)-1) and j==0): SHT[-1].Write()\n",
      "                if j==0: SEnT.append(SHT[-1].GetEntries())\n",
      "        SignalHistos.append(SHT)\n",
      "        if (i==(len(CutsFromOpt)-1) and j==0): MassesHistosf.Close()\n",
      "        if j==0: SignalWEntries.append(SEnT)\n",
      "        \n",
      "        #####TTJets#####\n",
      "        MCArray[j][1].Draw(\"M5J >> M5jT_Cut\"+str(i)+\"_\"+str(j)+BinsLimits,CumulCut)\n",
      "        TTbarHistos.append(ROOT.gDirectory.Get(\"M5jT_Cut\"+str(i)+\"_\"+str(j)))\n",
      "        TTbarHistos[-1].Sumw2(); TTbarHistos[-1].Scale(TWeight) #; TTbarHistos[-1].Write()\n",
      "        if j==0: TopWEntries.append(TTbarHistos[-1].GetEntries()*TWeight)\n",
      "                \n",
      "        #####QCDHT#####\n",
      "        MCArray[j][2][0].Draw(\"M5J >> M5jQ500_Cut\"+str(i)+\"_\"+str(j)+BinsLimits,CumulCut)\n",
      "        QCD500Histos.append(ROOT.gDirectory.Get(\"M5jQ500_Cut\"+str(i)+\"_\"+str(j)))\n",
      "        QCD500Histos[-1].Sumw2(); QCD500Histos[-1].Scale(QWeights[0]) #; QCD500Histos[-1].Write()\n",
      "        if j==0: QCDWEntries.append(QCD500Histos[-1].GetEntries()*QWeights[0])\n",
      "        \n",
      "        MCArray[j][2][1].Draw(\"M5J >> M5jQ1000_Cut\"+str(i)+\"_\"+str(j)+BinsLimits,CumulCut)\n",
      "        QCD1000Histos.append(ROOT.gDirectory.Get(\"M5jQ1000_Cut\"+str(i)+\"_\"+str(j)))\n",
      "        QCD1000Histos[-1].Sumw2(); QCD1000Histos[-1].Scale(QWeights[1]) #; QCD1000Histos[-1].Write()\n",
      "        if j==0: QCDWEntries[-1]+=QCD1000Histos[-1].GetEntries()*QWeights[1]\n",
      "        \n",
      "        STHT=[]\n",
      "        for k in xrange(len(SubBKGArray[j][0])): #Single Top\n",
      "            if SubBKGArray[j][0][k].GetEntries()>0:\n",
      "                SubBKGArray[j][0][k].Draw(\"M5J >> M5jST_Cut\"+str(i)+\"_\"+str(j)+\"_\"+str(k)+BinsLimits,CumulCut)\n",
      "                STHT.append(ROOT.gDirectory.Get(\"M5jST_Cut\"+str(i)+\"_\"+str(j)+\"_\"+str(k)))\n",
      "                STHT[-1].Sumw2(); STHT[-1].Scale(SingleTWeights[k])\n",
      "                if j==0: TopWEntries[-1]+=STHT[-1].GetEntries()*SingleTWeights[k]\n",
      "        SingleTHistos.append(STHT)\n",
      "            \n",
      "        DiHT=[]; DiE=0\n",
      "        for k in xrange(len(SubBKGArray[j][1])): #Diboson\n",
      "            if SubBKGArray[j][1][k].GetEntries()>0:\n",
      "                SubBKGArray[j][1][k].Draw(\"M5J >> M5jDi_Cut\"+str(i)+\"_\"+str(j)+\"_\"+str(k)+BinsLimits,CumulCut)\n",
      "                DiHT.append(ROOT.gDirectory.Get(\"M5jDi_Cut\"+str(i)+\"_\"+str(j)+\"_\"+str(k)))\n",
      "                DiHT[-1].Sumw2(); DiHT[-1].Scale(DibosonWeights[k])\n",
      "                if j==0: DiE+=DiHT[-1].GetEntries()*DibosonWeights[k]\n",
      "        DibosonHistos.append(DiHT)\n",
      "        if j==0: DibosonWEntries.append(DiE)\n",
      "        \n",
      "        DYHT=[]\n",
      "        for k in xrange(len(SubBKGArray[j][2])): #DY\n",
      "            if SubBKGArray[j][2][k].GetEntries()>0:\n",
      "                SubBKGArray[j][2][k].Draw(\"M5J >> M5jDY_Cut\"+str(i)+\"_\"+str(j)+\"_\"+str(k)+BinsLimits,CumulCut)\n",
      "                DYHT.append(ROOT.gDirectory.Get(\"M5jDY_Cut\"+str(i)+\"_\"+str(j)+\"_\"+str(k)))\n",
      "                DYHT[-1].Sumw2(); DYHT[-1].Scale(DYWeights[k])\n",
      "        DYHistos.append(DYHT)\n",
      "        \n",
      "        if QCDPTFLAG: \n",
      "            QCDPTHT=[]\n",
      "            for k in xrange(len(SubBKGArray[j][3])): #QCD PT hat\n",
      "                if SubBKGArray[j][3][k].GetEntries()>0:\n",
      "                    SubBKGArray[j][3][k].Draw(\"M5J >> M5jQCDPT_Cut\"+str(i)+\"_\"+str(j)+\"_\"+str(k)+BinsLimits,CumulCut)\n",
      "                    QCDPTHT.append(ROOT.gDirectory.Get(\"M5jQCDPT_Cut\"+str(i)+\"_\"+str(j)+\"_\"+str(k)))\n",
      "                    QCDPTHT[-1].Sumw2(); QCDPTHT[-1].Scale(QCDPTWeights[k])\n",
      "                    if j==0: QCDWEntries[-1]+=QCDPTHT[-1].GetEntries()*QCDPTWeights[k]\n",
      "            QCDPTHistos.append(QCDPTHT)\n",
      "            \n",
      "        QCDFull=QCD500Histos[-1].Clone(\"M5jQ_Cut\"+str(i)+\"_\"+str(j))\n",
      "        QCDFull.Add(QCD1000Histos[-1])\n",
      "        if QCDPTFLAG:\n",
      "            for k in QCDPTHistos[-1]:\n",
      "                QCDFull.Add(k)\n",
      "        QCDHistos.append(QCDFull)\n",
      "        \n",
      "        MCFull=QCDFull.Clone(\"M5jMC_Cut\"+str(i)+\"_\"+str(j))\n",
      "        MCFull.Add(TTbarHistos[-1])\n",
      "        for k in SingleTHistos[-1]: MCFull.Add(k)\n",
      "        for k in DibosonHistos[-1]: MCFull.Add(k)\n",
      "        for k in DYHistos[-1]: MCFull.Add(k)\n",
      "        MCHistos.append(MCFull)\n",
      "        \n",
      "        #DataArray[j].Draw(\"M5J >> M5jD_Cut\"+str(i)+\"_\"+str(j)+BinsLimits,CumulCut)\n",
      "        #DataHistos.append(ROOT.gDirectory.Get(\"M5jD_Cut\"+str(i)+\"_\"+str(j)))\n",
      "    \n",
      "    DataA[0].Draw(\"M5J >> M5jD_Cut\"+str(i)+\"_0\"+BinsLimits,CumulCut)\n",
      "    DataHistos.append(ROOT.gDirectory.Get(\"M5jD_Cut\"+str(i)+\"_0\"))\n",
      "    DataE[0].Draw(\"M5J >> M5jD_Cut\"+str(i)+\"_1\"+BinsLimits,CumulCut)\n",
      "    DataHistos.append(ROOT.gDirectory.Get(\"M5jD_Cut\"+str(i)+\"_1\"))\n",
      "    DataE1[0].Draw(\"M5J >> M5jD_Cut\"+str(i)+\"_2\"+BinsLimits,CumulCut)\n",
      "    DataHistos.append(ROOT.gDirectory.Get(\"M5jD_Cut\"+str(i)+\"_2\"))\n",
      "    DataE2[0].Draw(\"M5J >> M5jD_Cut\"+str(i)+\"_3\"+BinsLimits,CumulCut)\n",
      "    DataHistos.append(ROOT.gDirectory.Get(\"M5jD_Cut\"+str(i)+\"_3\"))\n",
      "    ROOT.gPad.Clear()\n",
      "    for k in xrange(4):\n",
      "        if k!=0: continue\n",
      "        if k==0: HistosToplot=DataHistos\n",
      "        elif k==1: HistosToplot=TTbarHistos\n",
      "        elif k==2: HistosToplot=MCHistos\n",
      "        elif k==3: HistosToplot=QCDHistos\n",
      "        \n",
      "        CurrentStyle=ROOT.TStyle(\"CStyle\",\"Style for Plotting\")\n",
      "        #ROOT.SetOwnership( CurrentStyle, False )\n",
      "        #CurrentStyle.SetOptStat(0)\n",
      "        #CurrentStyle.SetOptTitle(0)\n",
      "        #CurrentStyle.SetPadLeftMargin(0.16)\n",
      "        #CurrentStyle.SetPadRightMargin(0.02)\n",
      "        \n",
      "        #CurrentStyle.SetTitleColor(1, \"XYZ\")\n",
      "        #CurrentStyle.SetTitleFont(42, \"XYZ\")\n",
      "        #CurrentStyle.SetTitleSize(0.06, \"XYZ\")\n",
      "        #CurrentStyle.SetTitleXOffset(1.0)\n",
      "        #CurrentStyle.SetTitleOffset(1.5, \"Y\")\n",
      "        #CurrentStyle.SetLabelColor(1, \"XYZ\")\n",
      "        #CurrentStyle.SetLabelFont(42, \"XYZ\")\n",
      "        #CurrentStyle.SetLabelOffset(0.007, \"XYZ\")\n",
      "        #CurrentStyle.SetLabelSize(0.05, \"XYZ\")\n",
      "        #CurrentStyle.SetAxisColor(1, \"XYZ\")\n",
      "        #CurrentStyle.SetStripDecimals(ROOT.kTRUE)\n",
      "        #CurrentStyle.SetTickLength(0.03, \"XYZ\")\n",
      "        #CurrentStyle.SetNdivisions(510, \"XYZ\")\n",
      "                \n",
      "        CurCanv1 = rootnotes.canvas(\"MyPlot\", (600, 800))\n",
      "        CurCanv1.cd(1)\n",
      "        Pad1=ROOT.TPad(\"pad1\",\"pad1\",0,0.3,1,1)\n",
      "        Pad1.SetBottomMargin(0)\n",
      "        Pad1.SetLeftMargin(0.16)\n",
      "        Pad1.Draw()\n",
      "        Pad1.cd()\n",
      "        \n",
      "        HistosToplot[0].SetStats(ROOT.kFALSE)\n",
      "        \n",
      "        HistosToplot[0].SetTitle(\";;A.U.\")\n",
      "        SetAxis(HistosToplot[0],'Y',0.5,0.05,0.007,0.0,510)\n",
      "        HistosToplot[0].SetLineStyle(1); HistosToplot[0].SetLineWidth(1); HistosToplot[0].SetLineColor(ROOT.kGray+2)\n",
      "        HistosToplot[0].SetFillStyle(3144); HistosToplot[0].SetFillColor(ROOT.kGray+2)\n",
      "        \n",
      "        HistosToplot[1].SetLineStyle(1); HistosToplot[1].SetLineWidth(2); HistosToplot[1].SetLineColor(ROOT.kGreen+2)\n",
      "        \n",
      "        HistosToplot[2].SetLineStyle(1); HistosToplot[2].SetLineWidth(2); HistosToplot[2].SetLineColor(ROOT.kRed+1)\n",
      "        \n",
      "        HistosToplot[3].SetLineStyle(1); HistosToplot[3].SetLineWidth(2); HistosToplot[3].SetLineColor(ROOT.kBlue+1)\n",
      "        \n",
      "        CloneE=HistosToplot[1].Clone(\"CopyE\"); CloneE1=HistosToplot[2].Clone(\"CopyE1\"); CloneE2=HistosToplot[3].Clone(\"CopyE2\")\n",
      "        CloneA=HistosToplot[0].Clone(\"CopyA\")\n",
      "        \n",
      "        LEG=ROOT.TLegend(0.5,0.5,0.9,0.9)\n",
      "        LEG.AddEntry(HistosToplot[0], ValString[k]+WP[0], \"f\"); LEG.AddEntry(HistosToplot[1], ValString[k]+WP[1], \"le\")\n",
      "        LEG.AddEntry(HistosToplot[2], ValString[k]+WP[2], \"le\"); LEG.AddEntry(HistosToplot[3], ValString[k]+WP[3], \"le\")\n",
      "        LEG.SetFillColor(0);\n",
      "        HistosToplot[0].DrawNormalized(\"E2\"); HistosToplot[1].DrawNormalized(\"E same\")\n",
      "        HistosToplot[2].DrawNormalized(\"E same\"); HistosToplot[3].DrawNormalized(\"E same\")\n",
      "        LEG.Draw()\n",
      "        CurrentStyle.SetPadTickX(1)\n",
      "        CurCanv1.cd()\n",
      "        \n",
      "        Pad2=ROOT.TPad(\"pad2\",\"pad2\",0,0,1,0.3)\n",
      "        Pad2.SetTopMargin(0)\n",
      "        Pad2.SetLeftMargin(0.16)\n",
      "        Pad2.SetBottomMargin(0.25)\n",
      "        Pad2.Draw()\n",
      "        Pad2.cd()\n",
      "        \n",
      "        CloneA.SetMinimum(0.1); CloneA.SetMaximum(1.9)\n",
      "        CloneA.Sumw2()\n",
      "        CloneA.SetStats(0)\n",
      "        CloneA.SetTitle(\";M(5J) GeV/c^{2};ControlSample/SignalSample\")\n",
      "        CloneA.Divide(HistosToplot[0])\n",
      "        CloneA.SetFillStyle(1001)\n",
      "        SetAxis(CloneA,'X',0.9,0.09,0.007,0.09,510)\n",
      "        SetAxis(CloneA,'Y',0.7,0.06,0.007,0.09,404)\n",
      "        CloneA.Draw(\"E2\")\n",
      "        \n",
      "        CloneE.Sumw2()\n",
      "        CloneE.Scale(HistosToplot[0].Integral()/CloneE.Integral()); CloneE.SetStats(0)\n",
      "        CloneE.SetTitle(\";M(5J) GeV/c^{2};ControlSample/SignalSample\")\n",
      "        CloneE.Divide(HistosToplot[0])\n",
      "        CloneE.Draw(\"ep same\")\n",
      "        \n",
      "        CloneE1.Sumw2()\n",
      "        CloneE1.Scale(HistosToplot[0].Integral()/CloneE1.Integral()); CloneE1.SetStats(0)\n",
      "        CloneE1.SetTitle(\";M(5J) GeV/c^{2};ControlSample/SignalSample\")\n",
      "        CloneE1.Divide(HistosToplot[0])\n",
      "        CloneE1.Draw(\"ep same\")\n",
      "        \n",
      "        CloneE2.Sumw2()\n",
      "        CloneE2.Scale(HistosToplot[0].Integral()/CloneE2.Integral()); CloneE2.SetStats(0)\n",
      "        CloneE2.SetTitle(\";M(5J) GeV/c^{2};ControlSample/SignalSample\")\n",
      "        CloneE2.Divide(HistosToplot[0])\n",
      "        CloneE2.Draw(\"ep same\")\n",
      "        \n",
      "        #print i, k\n",
      "        \n",
      "        if i==0 and k==0: CurCanv1.Print(PDFName+\"(\",\"Title:\"+Titles[i]+\"_\"+ValString[k])\n",
      "        elif i==(len(CutsFromOpt)-1) and k==0: CurCanv1.Print(PDFName+\")\",\"Title:\"+Titles[i]+\"_\"+ValString[k])\n",
      "        else: CurCanv1.Print(PDFName,\"Title:\"+Titles[i]+\"_\"+ValString[k])\n",
      "        ######if i>=0 and k>=0: CurCanv1.Print(PDFName,\"Title:\"+Titles[i]+\"_\"+ValString[k])\n",
      "        #elif i!=0 and k<3: CurCanv1.Print(PDFName,\"Title:\"+Titles[i]+\"_\"+ValString[k])\n",
      "        #elif i!=0 and k==3: CurCanv1.Print(PDFName,\"Title:\"+Titles[i]+\"_\"+ValString[k])\n",
      "        ######if i==(len(CutsFromOpt)-1) and k==3: CurCanv1.Print(PDFName+\")\",\"Title:\"+Titles[i]+\"_\"+ValString[k])\n",
      "        \n",
      "        CurCanv1.Clear(); CurrentStyle.SetPadTickX(0)\n",
      "        CurCanv1.cd(1)\n",
      "                    \n",
      "        del(HistosToplot); del(CurCanv1); del(Pad1); del(Pad2)\n",
      "        del(CloneA); del(CloneE); del(CloneE1); del(CloneE2)\n",
      "    del(TTbarHistos); del(QCD500Histos); del(QCD1000Histos); del(DataHistos); del(QCDHistos); del(MCHistos)\n",
      "    del(SingleTHistos); del(QCDPTHistos); del(DibosonHistos); del(DYHistos); del(SignalHistos)\n",
      "    "
     ],
     "language": "python",
     "metadata": {},
     "outputs": [],
     "prompt_number": 8
    },
    {
     "cell_type": "heading",
     "level": 2,
     "metadata": {},
     "source": [
      "Declaring MC files for inclusive validation"
     ]
    },
    {
     "cell_type": "code",
     "collapsed": false,
     "input": [
      "files = [\"TpJetM600_5318_Full_analyzed.root\",\n",
      "         \"TpJetM650_5318_Full_analyzed.root\",\n",
      "         \"TpJetM700_5318_Full_analyzed.root\",\n",
      "         \"TpJetM750_5318_Full_analyzed.root\",\n",
      "         \"TpJetM800_5318_Full_analyzed.root\",\n",
      "         \"TpJetM850_5318_Full_analyzed.root\",\n",
      "         \"TpJetM900_5318_Full_analyzed.root\",\n",
      "         \"TpJetM950_5318_Full_analyzed.root\",\n",
      "         \"TpJetM1000_5318_Full_analyzed.root\",\n",
      "         \"TTJetsF_5318_Full_analyzed.root\",\n",
      "         \"QCD_HT_500_1000_5318_Full_analyzed.root\",\n",
      "         \"QCD_HT_1000_Inf_5318_Full_analyzed.root\"]\n",
      "\n",
      "TreeStructure=\"M5J:DRHJ:DRWH:RelHT:M2HP:DRTp6thJ:HM:chi2:MTHAsym\"\n",
      "\n",
      "#Control Sample CSVL=[0.389,0.679)\n",
      "TntupleE1 = ROOT.TNtuple(\"TntupleE1\",\"TntupleE1\",TreeStructure)\n",
      "Q500ntupleE1 = ROOT.TNtuple(\"Q500ntupleE1\",\"Q500ntupleE1\",TreeStructure)\n",
      "Q1000ntupleE1 = ROOT.TNtuple(\"Q1000ntupleE1\",\"Q1000ntupleE1\",TreeStructure)\n",
      "QntuplesE1=[Q500ntupleE1,Q1000ntupleE1]\n",
      "S600ntupleE1 = ROOT.TNtuple(\"S600ntupleE1\",\"S600ntupleE1\",TreeStructure)\n",
      "S650ntupleE1 = ROOT.TNtuple(\"S650ntupleE1\",\"S650ntupleE1\",TreeStructure)\n",
      "S700ntupleE1 = ROOT.TNtuple(\"S700ntupleE1\",\"S700ntupleE1\",TreeStructure)\n",
      "S750ntupleE1 = ROOT.TNtuple(\"S750ntupleE1\",\"S750ntupleE1\",TreeStructure)\n",
      "S800ntupleE1 = ROOT.TNtuple(\"S800ntupleE1\",\"S800ntupleE1\",TreeStructure)\n",
      "S850ntupleE1 = ROOT.TNtuple(\"S850ntupleE1\",\"S850ntupleE1\",TreeStructure)\n",
      "S900ntupleE1 = ROOT.TNtuple(\"S900ntupleE1\",\"S900ntupleE1\",TreeStructure)\n",
      "S950ntupleE1 = ROOT.TNtuple(\"S950ntupleE1\",\"S950ntupleE1\",TreeStructure)\n",
      "S1000ntupleE1 = ROOT.TNtuple(\"S1000ntupleE1\",\"S1000ntupleE1\",TreeStructure)\n",
      "NMassPointsE1 = [S600ntupleE1,S650ntupleE1,S700ntupleE1,S750ntupleE1,S800ntupleE1,S850ntupleE1,S900ntupleE1,S950ntupleE1,S1000ntupleE1]\n",
      "\n",
      "#Control Sample CSVL=[0.534,0.679)\n",
      "TntupleE2 = ROOT.TNtuple(\"TntupleE2\",\"TntupleE2\",TreeStructure)\n",
      "Q500ntupleE2 = ROOT.TNtuple(\"Q500ntupleE2\",\"Q500ntupleE2\",TreeStructure)\n",
      "Q1000ntupleE2 = ROOT.TNtuple(\"Q1000ntupleE2\",\"Q1000ntupleE2\",TreeStructure)\n",
      "QntuplesE2=[Q500ntupleE2,Q1000ntupleE2]\n",
      "S600ntupleE2 = ROOT.TNtuple(\"S600ntupleE2\",\"S600ntupleE2\",TreeStructure)\n",
      "S650ntupleE2 = ROOT.TNtuple(\"S650ntupleE2\",\"S650ntupleE2\",TreeStructure)\n",
      "S700ntupleE2 = ROOT.TNtuple(\"S700ntupleE2\",\"S700ntupleE2\",TreeStructure)\n",
      "S750ntupleE2 = ROOT.TNtuple(\"S750ntupleE2\",\"S750ntupleE2\",TreeStructure)\n",
      "S800ntupleE2 = ROOT.TNtuple(\"S800ntupleE2\",\"S800ntupleE2\",TreeStructure)\n",
      "S850ntupleE2 = ROOT.TNtuple(\"S850ntupleE2\",\"S850ntupleE2\",TreeStructure)\n",
      "S900ntupleE2 = ROOT.TNtuple(\"S900ntupleE2\",\"S900ntupleE2\",TreeStructure)\n",
      "S950ntupleE2 = ROOT.TNtuple(\"S950ntupleE2\",\"S950ntupleE2\",TreeStructure)\n",
      "S1000ntupleE2 = ROOT.TNtuple(\"S1000ntupleE2\",\"S1000ntupleE2\",TreeStructure)\n",
      "NMassPointsE2=[S600ntupleE2,S650ntupleE2,S700ntupleE2,S750ntupleE2,S800ntupleE2,S850ntupleE2,S900ntupleE2,S950ntupleE2,S1000ntupleE2]"
     ],
     "language": "python",
     "metadata": {},
     "outputs": []
    },
    {
     "cell_type": "code",
     "collapsed": false,
     "input": [
      "Entries=10000\n",
      "NsignalFiles=9\n",
      "for V in InclusiveVersions:\n",
      "    for f in files:\n",
      "        ff=Base+V+f\n",
      "        CutsChain=ROOT.TChain(\"stp3LNC\")\n",
      "        CutsChain.Add(ff)\n",
      "        entries = CutsChain.GetEntries()\n",
      "        if files.index(f)>=0 and files.index(f)<=NsignalFiles-1: print \"Filling signal...\"\n",
      "        elif files.index(f)>0: print \"Filling bkgs...\"\n",
      "        print \"Entries for file \", f, \" are: \", entries\n",
      "        Entries=entries\n",
      "        for i in xrange(Entries):\n",
      "            CutsChain.GetEntry(i)\n",
      "            HiggsV=ROOT.TLorentzVector(CutsChain.Reconstructed_Higgs3L.X(),CutsChain.Reconstructed_Higgs3L.Y(),CutsChain.Reconstructed_Higgs3L.Z(),CutsChain.Reconstructed_Higgs3L.T())\n",
      "            Higgs1stJV=ROOT.TLorentzVector(CutsChain.First_Higgs_Jet3L.X(),CutsChain.First_Higgs_Jet3L.Y(),CutsChain.First_Higgs_Jet3L.Z(),CutsChain.First_Higgs_Jet3L.T())\n",
      "            Higgs2ndJV=ROOT.TLorentzVector(CutsChain.Second_Higgs_Jet3L.X(),CutsChain.Second_Higgs_Jet3L.Y(),CutsChain.Second_Higgs_Jet3L.Z(),CutsChain.Second_Higgs_Jet3L.T())\n",
      "            J6thV=ROOT.TLorentzVector(CutsChain.Jet6th.X(),CutsChain.Jet6th.Y(),CutsChain.Jet6th.Z(),CutsChain.Jet6th.T())\n",
      "            TprimeV=ROOT.TLorentzVector(CutsChain.Reconstructed_Tprime3L.X(),CutsChain.Reconstructed_Tprime3L.Y(),CutsChain.Reconstructed_Tprime3L.Z(),CutsChain.Reconstructed_Tprime3L.T())\n",
      "            W1V=ROOT.TLorentzVector(CutsChain.Reconstructed_W3L.X(),CutsChain.Reconstructed_W3L.Y(),CutsChain.Reconstructed_W3L.Z(),CutsChain.Reconstructed_W3L.T())\n",
      "            Top2=HiggsV+J6thV\n",
      "            W2=Higgs2ndJV+J6thV\n",
      "            TopJV=ROOT.TLorentzVector(CutsChain.Top_Jet3L.X(),CutsChain.Top_Jet3L.Y(),CutsChain.Top_Jet3L.Z(),CutsChain.Top_Jet3L.T())\n",
      "            #M5J:DRHJ:DRWH:RelHT:M2HP:DRTp6thJ:HM:chi2:MTHAsym\n",
      "            ListOfVariables = [CutsChain.Reconstructed_Tprime3L.M(),\n",
      "                        Higgs1stJV.DeltaR(Higgs2ndJV),\n",
      "                        HiggsV.DeltaR(W1V),\n",
      "                        (CutsChain.Reconstructed_Higgs3L.Pt()+CutsChain.Reconstructed_Top3L.Pt())/CutsChain.THT,\n",
      "                        (Top2.M()+W2.M())/CutsChain.Reconstructed_Higgs3L.M(),\n",
      "                        TprimeV.DeltaR(J6thV),\n",
      "                        CutsChain.Reconstructed_Higgs3L.M(),\n",
      "                        (CutsChain.HiggsChi2+CutsChain.TopChi2),\n",
      "                        (CutsChain.Reconstructed_Top3L.M()-CutsChain.Reconstructed_Higgs3L.M())/(CutsChain.Reconstructed_Top3L.M()+CutsChain.Reconstructed_Higgs3L.M())]\n",
      "            if files.index(f)>=0 and files.index(f)<=NsignalFiles-1:\n",
      "                if InclusiveVersions.index(V)==0: NMassPointsE1[files.index(f)].Fill(array('f',ListOfVariables))\n",
      "                elif InclusiveVersions.index(V)==1: NMassPointsE2[files.index(f)].Fill(array('f',ListOfVariables))\n",
      "            elif files.index(f)==len(files)-3:\n",
      "                if InclusiveVersions.index(V)==0: TntupleE1.Fill(array('f',ListOfVariables))\n",
      "                elif InclusiveVersions.index(V)==1: TntupleE2.Fill(array('f',ListOfVariables))\n",
      "            elif files.index(f)>=len(files)-2:\n",
      "                if InclusiveVersions.index(V)==0: QntuplesE1[files.index(f)-len(files)+1].Fill(array('f',ListOfVariables))\n",
      "                elif InclusiveVersions.index(V)==1: QntuplesE2[files.index(f)-len(files)+1].Fill(array('f',ListOfVariables))"
     ],
     "language": "python",
     "metadata": {},
     "outputs": []
    },
    {
     "cell_type": "heading",
     "level": 2,
     "metadata": {},
     "source": [
      "Declaring DATA files for inclusive validation"
     ]
    },
    {
     "cell_type": "code",
     "collapsed": false,
     "input": [
      "datafiles = [\"Full_Data.root\"]\n",
      "\n",
      "#TreeStructure=\"M5J:DRHJ:DRWH:RelHT:M2HP:DRTp6thJ:HM:chi2:MTHAsym\"\n",
      "\n",
      "#Control Sample CSVL=[0.389,0.679)\n",
      "DataE1 = ROOT.TNtuple(\"DatantupleE1\",\"DatantupleE1\",TreeStructure)\n",
      "\n",
      "#Control Sample CSVL=[0.534,0.679)\n",
      "DataE2 = ROOT.TNtuple(\"DatantupleE2\",\"DatantupleE2\",TreeStructure)"
     ],
     "language": "python",
     "metadata": {},
     "outputs": []
    },
    {
     "cell_type": "code",
     "collapsed": false,
     "input": [
      "for V in InclusiveVersions:\n",
      "    CutsChain=ROOT.TChain(\"stp3LNC\")\n",
      "    CutsChain.Add(Base+V+datafiles[0])\n",
      "    entries = CutsChain.GetEntries()\n",
      "    print \"Entries for file \", datafiles[0], \" are: \", entries\n",
      "    Entries=entries\n",
      "    for i in xrange(Entries):\n",
      "        CutsChain.GetEntry(i)\n",
      "        HiggsV=ROOT.TLorentzVector(CutsChain.Reconstructed_Higgs3L.X(),CutsChain.Reconstructed_Higgs3L.Y(),CutsChain.Reconstructed_Higgs3L.Z(),CutsChain.Reconstructed_Higgs3L.T())\n",
      "        Higgs1stJV=ROOT.TLorentzVector(CutsChain.First_Higgs_Jet3L.X(),CutsChain.First_Higgs_Jet3L.Y(),CutsChain.First_Higgs_Jet3L.Z(),CutsChain.First_Higgs_Jet3L.T())\n",
      "        Higgs2ndJV=ROOT.TLorentzVector(CutsChain.Second_Higgs_Jet3L.X(),CutsChain.Second_Higgs_Jet3L.Y(),CutsChain.Second_Higgs_Jet3L.Z(),CutsChain.Second_Higgs_Jet3L.T())\n",
      "        J6thV=ROOT.TLorentzVector(CutsChain.Jet6th.X(),CutsChain.Jet6th.Y(),CutsChain.Jet6th.Z(),CutsChain.Jet6th.T())\n",
      "        TprimeV=ROOT.TLorentzVector(CutsChain.Reconstructed_Tprime3L.X(),CutsChain.Reconstructed_Tprime3L.Y(),CutsChain.Reconstructed_Tprime3L.Z(),CutsChain.Reconstructed_Tprime3L.T())\n",
      "        W1V=ROOT.TLorentzVector(CutsChain.Reconstructed_W3L.X(),CutsChain.Reconstructed_W3L.Y(),CutsChain.Reconstructed_W3L.Z(),CutsChain.Reconstructed_W3L.T())\n",
      "        Top2=HiggsV+J6thV\n",
      "        W2=Higgs2ndJV+J6thV\n",
      "        TopJV=ROOT.TLorentzVector(CutsChain.Top_Jet3L.X(),CutsChain.Top_Jet3L.Y(),CutsChain.Top_Jet3L.Z(),CutsChain.Top_Jet3L.T())\n",
      "        #M5J:DRHJ:DRWH:RelHT:M2HP:DRTp6thJ:HM:chi2:MTHAsym\n",
      "        ListOfVariables = [CutsChain.Reconstructed_Tprime3L.M(),\n",
      "                        Higgs1stJV.DeltaR(Higgs2ndJV),\n",
      "                        HiggsV.DeltaR(W1V),\n",
      "                        (CutsChain.Reconstructed_Higgs3L.Pt()+CutsChain.Reconstructed_Top3L.Pt())/CutsChain.THT,\n",
      "                        (Top2.M()+W2.M())/CutsChain.Reconstructed_Higgs3L.M(),\n",
      "                        TprimeV.DeltaR(J6thV),\n",
      "                        CutsChain.Reconstructed_Higgs3L.M(),\n",
      "                        (CutsChain.HiggsChi2+CutsChain.TopChi2),\n",
      "                        (CutsChain.Reconstructed_Top3L.M()-CutsChain.Reconstructed_Higgs3L.M())/(CutsChain.Reconstructed_Top3L.M()+CutsChain.Reconstructed_Higgs3L.M())]\n",
      "        if InclusiveVersions.index(V)==0: DataE1.Fill(array('f',ListOfVariables))\n",
      "        elif InclusiveVersions.index(V)==1: DataE2.Fill(array('f',ListOfVariables))"
     ],
     "language": "python",
     "metadata": {},
     "outputs": []
    },
    {
     "cell_type": "heading",
     "level": 3,
     "metadata": {},
     "source": [
      "Saving Ntuples in a numpy array"
     ]
    },
    {
     "cell_type": "code",
     "collapsed": false,
     "input": [
      "#FullMCArray=np.array([[NMassPointsA,TntupleA,QntuplesA],\n",
      "#                      [NMassPointsE,TntupleE,QntuplesE],\n",
      "#                      [NMassPointsE1,TntupleE1,QntuplesE1],\n",
      "#                      [NMassPointsE2,TntupleE2,QntuplesE2]])\n",
      "#FullMCSampleFile=\"FullMC_inclusive_bkg_estm_val_\"+VersionProc+\"_\"+InclusiveVersions[0][:-1]+\"_\"+InclusiveVersions[1][:-1]\n",
      "\n",
      "FullDataArray=np.array([DataA,DataE,DataE1,DataE2])\n",
      "DataSampleFile=\"FullData_inclusive_bkg_estm_val_\"+VersionProc+\"_\"+InclusiveVersions[0][:-1]+\"_\"+InclusiveVersions[1][:-1]\n",
      "\n",
      "#np.save(FullMCSampleFile,FullMCArray)\n",
      "np.save(DataSampleFile,FullDataArray)"
     ],
     "language": "python",
     "metadata": {},
     "outputs": []
    },
    {
     "cell_type": "heading",
     "level": 3,
     "metadata": {},
     "source": [
      "Loading Ntuples in a numpy array (OPTIONAL)"
     ]
    },
    {
     "cell_type": "code",
     "collapsed": false,
     "input": [
      "FullMCSampleFile=\"FullMC_inclusive_bkg_estm_val_\"+VersionProc+\"_\"+InclusiveVersions[0][:-1]+\"_\"+InclusiveVersions[1][:-1]\n",
      "DataSampleFile=\"FullData_inclusive_bkg_estm_val_\"+VersionProc+\"_\"+InclusiveVersions[0][:-1]+\"_\"+InclusiveVersions[1][:-1]\n",
      "SubBKGMCSampleFiles=\"SubBKGMC_inclusive_Version121_Version122_Version123.npy\"\n",
      "                                                                                                                                                                                                                                                                                                                                                                                                                                                                                                                                                                                                                                                                                                                                                                                                                                                                                                                                                                                                                                                                                                                                                                                                                                                                                                                                                                                                                                                                    \n",
      "DataArray=np.load(DataSampleFile+\".npy\")\n",
      "MCArray=np.load(FullMCSampleFile+\".npy\")\n",
      "SubBKGArray=np.load(SubBKGMCSampleFiles)\n",
      "\n",
      "DataA=DataArray[0]; DataE=DataArray[1]; DataE1=DataArray[2]; DataE2=DataArray[3] \n",
      "NMassPointsA=MCArray[0][0]; TntupleA=MCArray[0][1]; QntuplesA=MCArray[0][2]\n",
      "NMassPointsE=MCArray[1][0]; TntupleE=MCArray[1][1]; QntuplesE=MCArray[1][2]\n",
      "NMassPointsE1=MCArray[2][0]; TntupleE1=MCArray[2][1]; QntuplesE1=MCArray[2][2]\n",
      "NMassPointsE2=MCArray[3][0]; TntupleE2=MCArray[3][1]; QntuplesE2=MCArray[3][2]\n",
      "print DataA.GetEntries(), DataE.GetEntries(), DataE1.GetEntries(), DataE2.GetEntries()\n",
      "#print len(NMassPointsA), len(NMassPointsE)\n",
      "print NMassPointsA[2].GetEntries(), TntupleA.GetEntries(), QntuplesA[0].GetEntries()\n",
      "print NMassPointsE[2].GetEntries(), TntupleE.GetEntries(), QntuplesE[0].GetEntries()\n",
      "print NMassPointsE1[2].GetEntries(), TntupleE1.GetEntries(), QntuplesE1[0].GetEntries()\n",
      "print NMassPointsE2[2].GetEntries(), TntupleE2.GetEntries(), QntuplesE2[0].GetEntries()"
     ],
     "language": "python",
     "metadata": {},
     "outputs": []
    }
   ],
   "metadata": {}
  }
 ]
}