{
 "metadata": {
  "name": ""
 },
 "nbformat": 3,
 "nbformat_minor": 0,
 "worksheets": [
  {
   "cells": [
    {
     "cell_type": "code",
     "collapsed": false,
     "input": [
      "import ROOT\n",
      "import numpy as np\n",
      "import matplotlib.pyplot as plt\n",
      "from array import array\n",
      "import rootnotes\n",
      "ROOT.gROOT.LoadMacro('tdrStyle.C')\n",
      "ROOT.gROOT.LoadMacro('PUR.C')\n",
      "def DPHI(x):\n",
      "    if x>=np.pi: return x-2*np.pi\n",
      "    elif x<-np.pi: return x+2*np.pi\n",
      "    else: return x\n",
      "VersionProc=\"V121\"\n",
      "Base=\"/home/jruizalv/\"\n",
      "InclusiveVersions=[\"Version122/\",\"Version123/\"]"
     ],
     "language": "python",
     "metadata": {},
     "outputs": [],
     "prompt_number": 1
    },
    {
     "cell_type": "code",
     "collapsed": false,
     "input": [
      "#Style functions\n",
      "def SetAxis(Histo,Axis,TOffset,TSize,LOffset,LSize,Ndiv):\n",
      "    \"\"\"Sets offset and size of an axis in the histogram. Axis must be 'X' or 'Y', and Histo should be a valid root histogram\"\"\"\n",
      "    if Axis=='X':\n",
      "        Histo.GetXaxis().SetTitleSize(TSize)\n",
      "        Histo.GetXaxis().SetTitleOffset(TOffset)\n",
      "        Histo.GetXaxis().SetLabelSize(LSize)\n",
      "        Histo.GetXaxis().SetLabelOffset(LOffset)\n",
      "        Histo.GetXaxis().SetNdivisions(Ndiv)\n",
      "    elif Axis=='Y':\n",
      "        Histo.GetYaxis().SetTitleSize(TSize)\n",
      "        Histo.GetYaxis().SetTitleOffset(TOffset)\n",
      "        Histo.GetYaxis().SetLabelSize(LSize)\n",
      "        Histo.GetYaxis().SetLabelOffset(LOffset)\n",
      "        Histo.GetYaxis().SetNdivisions(Ndiv)\n",
      "    else: print \"Please correct axis selection: Valid values are 'X' or 'Y'\"\n",
      "def SetCos(Hist,FillColor,FillStyle,LineColor,LineWidth,LineStyle,MarkerStyle):\n",
      "    \"\"\"Hist, FillColor, FillStyle, LineColor, LineWidth, LineStyle, MarkerStyle\"\"\"\n",
      "    Hist.SetLineStyle(LineStyle); Hist.SetLineWidth(LineWidth); Hist.SetLineColor(LineColor)\n",
      "    Hist.SetFillStyle(FillStyle); Hist.SetFillColor(FillColor)\n",
      "    Hist.SetMarkerStyle(MarkerStyle)"
     ],
     "language": "python",
     "metadata": {},
     "outputs": [],
     "prompt_number": 2
    },
    {
     "cell_type": "code",
     "collapsed": false,
     "input": [
      "#Corrections\n",
      "PU_weight=[0.283904, 0.223747, 0.155297, 0.26765, 0.298877, 0.723858, 0.544046, 0.536757, 0.733619, 1.0669, 1.48245, 1.80291, 1.80134, 1.58708, 1.34094, 1.15851, 1.0611, 1.02807, 1.04437, 1.08871, 1.12881, 1.15127, 1.15997, 1.15499, 1.12965, 1.07905, 1.00491, 0.914114, 0.813124, 0.707008, 0.599841, 0.495265, 0.39636, 0.306662, 0.22925, 0.166144, 0.118378, 0.0850749, 0.063948, 0.0523125, 0.0476093, 0.0478425, 0.0516782, 0.0583517, 0.0676538, 0.0795915, 0.0944514, 0.112777, 0.135238, 0.162647, 0.196085, 0.236688, 0.286083, 0.34616, 0.418813, 0.506749, 0.612955, 0.741067, 0.894819, 2.26873]\n",
      "def PUR_function(TI):\n",
      "  if (TI>=60): return 1\n",
      "  else: return PU_weight[TI]"
     ],
     "language": "python",
     "metadata": {},
     "outputs": [],
     "prompt_number": 3
    },
    {
     "cell_type": "heading",
     "level": 1,
     "metadata": {},
     "source": [
      "Declaring MC files and Ntuples"
     ]
    },
    {
     "cell_type": "code",
     "collapsed": false,
     "input": [
      "files = [\"/home/jruizalv/Version121/TpJetM600_5318_Full_analyzed.root\",\n",
      "         \"/home/jruizalv/Version121/TpJetM650_5318_Full_analyzed.root\",\n",
      "         \"/home/jruizalv/Version121/TpJetM700_5318_Full_analyzed.root\",\n",
      "         \"/home/jruizalv/Version121/TpJetM750_5318_Full_analyzed.root\",\n",
      "         \"/home/jruizalv/Version121/TpJetM800_5318_Full_analyzed.root\",\n",
      "         \"/home/jruizalv/Version121/TpJetM850_5318_Full_analyzed.root\",\n",
      "         \"/home/jruizalv/Version121/TpJetM900_5318_Full_analyzed.root\",\n",
      "         \"/home/jruizalv/Version121/TpJetM950_5318_Full_analyzed.root\",\n",
      "         \"/home/jruizalv/Version121/TpJetM1000_5318_Full_analyzed.root\",\n",
      "         \"/home/jruizalv/Version121/TTJetsF_5318_Full_analyzed.root\",\n",
      "         \"/home/jruizalv/Version121/QCD_HT_500_1000_5318_Full_analyzed.root\",\n",
      "         \"/home/jruizalv/Version121/QCD_HT_1000_Inf_5318_Full_analyzed.root\"]\n",
      "\n",
      "TreeStructureA=\"M5J:DRHJ:DRWH:RelHT:M2HP:DRTp6thJ:HM:chi2:MTHAsym:NTI:weight\"\n",
      "TreeStructure=\"M5J:DRHJ:DRWH:RelHT:M2HP:DRTp6thJ:HM:chi2:MTHAsym\"\n",
      "\n",
      "#Signal Sample\n",
      "TntupleA = ROOT.TNtuple(\"TntupleA\",\"TntupleA\",TreeStructureA)\n",
      "Q500ntupleA = ROOT.TNtuple(\"Q500ntupleA\",\"Q500ntupleA\",TreeStructureA)\n",
      "Q1000ntupleA = ROOT.TNtuple(\"Q1000ntupleA\",\"Q1000ntupleA\",TreeStructureA)\n",
      "QntuplesA=[Q500ntupleA,Q1000ntupleA]\n",
      "S600ntupleA = ROOT.TNtuple(\"S600ntupleA\",\"S600ntupleA\",TreeStructureA)\n",
      "S650ntupleA = ROOT.TNtuple(\"S650ntupleA\",\"S650ntupleA\",TreeStructureA)\n",
      "S700ntupleA = ROOT.TNtuple(\"S700ntupleA\",\"S700ntupleA\",TreeStructureA)\n",
      "S750ntupleA = ROOT.TNtuple(\"S750ntupleA\",\"S750ntupleA\",TreeStructureA)\n",
      "S800ntupleA = ROOT.TNtuple(\"S800ntupleA\",\"S800ntupleA\",TreeStructureA)\n",
      "S850ntupleA = ROOT.TNtuple(\"S850ntupleA\",\"S850ntupleA\",TreeStructureA)\n",
      "S900ntupleA = ROOT.TNtuple(\"S900ntupleA\",\"S900ntupleA\",TreeStructureA)\n",
      "S950ntupleA = ROOT.TNtuple(\"S950ntupleA\",\"S950ntupleA\",TreeStructureA)\n",
      "S1000ntupleA = ROOT.TNtuple(\"S1000ntupleA\",\"S1000ntupleA\",TreeStructureA)\n",
      "NMassPointsA=[S600ntupleA,S650ntupleA,S700ntupleA,S750ntupleA,S800ntupleA,S850ntupleA,S900ntupleA,S950ntupleA,S1000ntupleA]\n",
      "\n",
      "#Control Sample\n",
      "TntupleE = ROOT.TNtuple(\"TntupleE\",\"TntupleE\",TreeStructure)\n",
      "Q500ntupleE = ROOT.TNtuple(\"Q500ntupleE\",\"Q500ntupleE\",TreeStructure)\n",
      "Q1000ntupleE = ROOT.TNtuple(\"Q1000ntupleE\",\"Q1000ntupleE\",TreeStructure)\n",
      "QntuplesE=[Q500ntupleE,Q1000ntupleE]\n",
      "S600ntupleE = ROOT.TNtuple(\"S600ntupleE\",\"S600ntupleE\",TreeStructure)\n",
      "S650ntupleE = ROOT.TNtuple(\"S650ntupleE\",\"S650ntupleE\",TreeStructure)\n",
      "S700ntupleE = ROOT.TNtuple(\"S700ntupleE\",\"S700ntupleE\",TreeStructure)\n",
      "S750ntupleE = ROOT.TNtuple(\"S750ntupleE\",\"S750ntupleE\",TreeStructure)\n",
      "S800ntupleE = ROOT.TNtuple(\"S800ntupleE\",\"S800ntupleE\",TreeStructure)\n",
      "S850ntupleE = ROOT.TNtuple(\"S850ntupleE\",\"S850ntupleE\",TreeStructure)\n",
      "S900ntupleE = ROOT.TNtuple(\"S900ntupleE\",\"S900ntupleE\",TreeStructure)\n",
      "S950ntupleE = ROOT.TNtuple(\"S950ntupleE\",\"S950ntupleE\",TreeStructure)\n",
      "S1000ntupleE = ROOT.TNtuple(\"S1000ntupleE\",\"S1000ntupleE\",TreeStructure)\n",
      "NMassPointsE=[S600ntupleE,S650ntupleE,S700ntupleE,S750ntupleE,S800ntupleE,S850ntupleE,S900ntupleE,S950ntupleE,S1000ntupleE]"
     ],
     "language": "python",
     "metadata": {},
     "outputs": [],
     "prompt_number": 4
    },
    {
     "cell_type": "heading",
     "level": 2,
     "metadata": {},
     "source": [
      "Reading files and filling the MC Ntuple"
     ]
    },
    {
     "cell_type": "code",
     "collapsed": false,
     "input": [
      "Entries=10000\n",
      "NsignalFiles=9\n",
      "for f in files:\n",
      "    CutsChain=ROOT.TChain(\"stp\")\n",
      "    CutsChain.Add(f)\n",
      "    entries = CutsChain.GetEntries()\n",
      "    if files.index(f)>=0 and files.index(f)<=NsignalFiles-1: print \"Filling signal...\"\n",
      "    elif files.index(f)>0: print \"Filling bkgs...\"\n",
      "    print \"Entries for file \", f, \" are: \", entries\n",
      "    Entries=entries\n",
      "    for i in xrange(Entries):\n",
      "        CutsChain.GetEntry(i)\n",
      "        HiggsV=ROOT.TLorentzVector(CutsChain.Reconstructed_Higgs.X(),CutsChain.Reconstructed_Higgs.Y(),CutsChain.Reconstructed_Higgs.Z(),CutsChain.Reconstructed_Higgs.T())\n",
      "        Higgs2ndJV=ROOT.TLorentzVector(CutsChain.Second_Higgs_Jet.X(),CutsChain.Second_Higgs_Jet.Y(),CutsChain.Second_Higgs_Jet.Z(),CutsChain.Second_Higgs_Jet.T())\n",
      "        J6thV=ROOT.TLorentzVector(CutsChain.Jet6th.X(),CutsChain.Jet6th.Y(),CutsChain.Jet6th.Z(),CutsChain.Jet6th.T())\n",
      "        TprimeV=ROOT.TLorentzVector(CutsChain.Reconstructed_Tprime.X(),CutsChain.Reconstructed_Tprime.Y(),CutsChain.Reconstructed_Tprime.Z(),CutsChain.Reconstructed_Tprime.T())\n",
      "        Top2=HiggsV+J6thV\n",
      "        W2=Higgs2ndJV+J6thV\n",
      "        TopJV=ROOT.TLorentzVector(CutsChain.Top_Jet.X(),CutsChain.Top_Jet.Y(),CutsChain.Top_Jet.Z(),CutsChain.Top_Jet.T())\n",
      "        #M5J:DRHJ:DRWH:RelHT:M2HP:DRTp6thJ:HM:chi2:MTHAsym\n",
      "        ListOfVariables = [CutsChain.Reconstructed_Tprime.M(),\n",
      "                        CutsChain.DeltaR_of_Higgs_Jets,\n",
      "                        CutsChain.DeltaR_of_W_Higgs,\n",
      "                        CutsChain.Relative_THT,\n",
      "                        (Top2.M()+W2.M())/CutsChain.Reconstructed_Higgs.M(),\n",
      "                        TprimeV.DeltaR(J6thV),\n",
      "                        CutsChain.Reconstructed_Higgs.M(),\n",
      "                        (CutsChain.HiggsChi2+CutsChain.TopChi2),\n",
      "                        (CutsChain.Reconstructed_Top.M()-CutsChain.Reconstructed_Higgs.M())/(CutsChain.Reconstructed_Top.M()+CutsChain.Reconstructed_Higgs.M()),\n",
      "                        CutsChain.Number_True_Interactions,\n",
      "                        CutsChain.weight]\n",
      "        if files.index(f)>=0 and files.index(f)<=NsignalFiles-1:            \n",
      "            NMassPointsA[files.index(f)].Fill(array('f',ListOfVariables)) #Sntuple.Fill(array('f',ListOfVariables))\n",
      "        elif files.index(f)==len(files)-3:            \n",
      "            TntupleA.Fill(array('f',ListOfVariables))\n",
      "        elif files.index(f)>=len(files)-2:\n",
      "            QntuplesA[files.index(f)-len(files)+1].Fill(array('f',ListOfVariables))"
     ],
     "language": "python",
     "metadata": {},
     "outputs": [
      {
       "output_type": "stream",
       "stream": "stdout",
       "text": [
        "Filling signal...\n",
        "Entries for file  /home/jruizalv/Version121/TpJetM600_5318_Full_analyzed.root  are:  2542\n",
        "Filling signal..."
       ]
      },
      {
       "output_type": "stream",
       "stream": "stdout",
       "text": [
        "\n",
        "Entries for file  /home/jruizalv/Version121/TpJetM650_5318_Full_analyzed.root  are:  3452\n",
        "Filling signal..."
       ]
      },
      {
       "output_type": "stream",
       "stream": "stdout",
       "text": [
        "\n",
        "Entries for file  /home/jruizalv/Version121/TpJetM700_5318_Full_analyzed.root  are:  4350\n",
        "Filling signal..."
       ]
      },
      {
       "output_type": "stream",
       "stream": "stdout",
       "text": [
        "\n",
        "Entries for file  /home/jruizalv/Version121/TpJetM750_5318_Full_analyzed.root  are:  4824\n",
        "Filling signal..."
       ]
      },
      {
       "output_type": "stream",
       "stream": "stdout",
       "text": [
        "\n",
        "Entries for file  /home/jruizalv/Version121/TpJetM800_5318_Full_analyzed.root  are:  4799\n",
        "Filling signal..."
       ]
      },
      {
       "output_type": "stream",
       "stream": "stdout",
       "text": [
        "\n",
        "Entries for file  /home/jruizalv/Version121/TpJetM850_5318_Full_analyzed.root  are:  5160\n",
        "Filling signal..."
       ]
      },
      {
       "output_type": "stream",
       "stream": "stdout",
       "text": [
        "\n",
        "Entries for file  /home/jruizalv/Version121/TpJetM900_5318_Full_analyzed.root  are:  5070\n",
        "Filling signal..."
       ]
      },
      {
       "output_type": "stream",
       "stream": "stdout",
       "text": [
        "\n",
        "Entries for file  /home/jruizalv/Version121/TpJetM950_5318_Full_analyzed.root  are:  4617\n",
        "Filling signal..."
       ]
      },
      {
       "output_type": "stream",
       "stream": "stdout",
       "text": [
        "\n",
        "Entries for file  /home/jruizalv/Version121/TpJetM1000_5318_Full_analyzed.root  are:  4366\n",
        "Filling bkgs..."
       ]
      },
      {
       "output_type": "stream",
       "stream": "stdout",
       "text": [
        "\n",
        "Entries for file  /home/jruizalv/Version121/TTJetsF_5318_Full_analyzed.root  are:  117799\n",
        "Filling bkgs..."
       ]
      },
      {
       "output_type": "stream",
       "stream": "stdout",
       "text": [
        "\n",
        "Entries for file  /home/jruizalv/Version121/QCD_HT_500_1000_5318_Full_analyzed.root  are:  4817\n",
        "Filling bkgs..."
       ]
      },
      {
       "output_type": "stream",
       "stream": "stdout",
       "text": [
        "\n",
        "Entries for file  /home/jruizalv/Version121/QCD_HT_1000_Inf_5318_Full_analyzed.root  are:  9087\n"
       ]
      }
     ],
     "prompt_number": 5
    },
    {
     "cell_type": "code",
     "collapsed": false,
     "input": [
      "Entries=10000\n",
      "NsignalFiles=9\n",
      "for f in files:\n",
      "    CutsChain=ROOT.TChain(\"stp3LNC\")\n",
      "    CutsChain.Add(f)\n",
      "    entries = CutsChain.GetEntries()\n",
      "    if files.index(f)>=0 and files.index(f)<=NsignalFiles-1: print \"Filling signal...\"\n",
      "    elif files.index(f)>0: print \"Filling bkgs...\"\n",
      "    print \"Entries for file \", f, \" are: \", entries\n",
      "    Entries=entries\n",
      "    for i in xrange(Entries):\n",
      "        CutsChain.GetEntry(i)\n",
      "        HiggsV=ROOT.TLorentzVector(CutsChain.Reconstructed_Higgs3L.X(),CutsChain.Reconstructed_Higgs3L.Y(),CutsChain.Reconstructed_Higgs3L.Z(),CutsChain.Reconstructed_Higgs3L.T())\n",
      "        Higgs1stJV=ROOT.TLorentzVector(CutsChain.First_Higgs_Jet3L.X(),CutsChain.First_Higgs_Jet3L.Y(),CutsChain.First_Higgs_Jet3L.Z(),CutsChain.First_Higgs_Jet3L.T())\n",
      "        Higgs2ndJV=ROOT.TLorentzVector(CutsChain.Second_Higgs_Jet3L.X(),CutsChain.Second_Higgs_Jet3L.Y(),CutsChain.Second_Higgs_Jet3L.Z(),CutsChain.Second_Higgs_Jet3L.T())\n",
      "        J6thV=ROOT.TLorentzVector(CutsChain.Jet6th.X(),CutsChain.Jet6th.Y(),CutsChain.Jet6th.Z(),CutsChain.Jet6th.T())\n",
      "        TprimeV=ROOT.TLorentzVector(CutsChain.Reconstructed_Tprime3L.X(),CutsChain.Reconstructed_Tprime3L.Y(),CutsChain.Reconstructed_Tprime3L.Z(),CutsChain.Reconstructed_Tprime3L.T())\n",
      "        W1V=ROOT.TLorentzVector(CutsChain.Reconstructed_W3L.X(),CutsChain.Reconstructed_W3L.Y(),CutsChain.Reconstructed_W3L.Z(),CutsChain.Reconstructed_W3L.T())\n",
      "        Top2=HiggsV+J6thV\n",
      "        W2=Higgs2ndJV+J6thV\n",
      "        TopJV=ROOT.TLorentzVector(CutsChain.Top_Jet3L.X(),CutsChain.Top_Jet3L.Y(),CutsChain.Top_Jet3L.Z(),CutsChain.Top_Jet3L.T())\n",
      "        #M5J:DRHJ:DRWH:RelHT:M2HP:DRTp6thJ:HM:chi2:MTHAsym\n",
      "        ListOfVariables = [CutsChain.Reconstructed_Tprime3L.M(),\n",
      "                        Higgs1stJV.DeltaR(Higgs2ndJV),\n",
      "                        HiggsV.DeltaR(W1V),\n",
      "                        (CutsChain.Reconstructed_Higgs3L.Pt()+CutsChain.Reconstructed_Top3L.Pt())/CutsChain.THT,\n",
      "                        (Top2.M()+W2.M())/CutsChain.Reconstructed_Higgs3L.M(),\n",
      "                        TprimeV.DeltaR(J6thV),\n",
      "                        CutsChain.Reconstructed_Higgs3L.M(),\n",
      "                        (CutsChain.HiggsChi2+CutsChain.TopChi2),\n",
      "                        (CutsChain.Reconstructed_Top3L.M()-CutsChain.Reconstructed_Higgs3L.M())/(CutsChain.Reconstructed_Top3L.M()+CutsChain.Reconstructed_Higgs3L.M())]\n",
      "        if files.index(f)>=0 and files.index(f)<=NsignalFiles-1:            \n",
      "            NMassPointsE[files.index(f)].Fill(array('f',ListOfVariables))\n",
      "        elif files.index(f)==len(files)-3:\n",
      "            TntupleE.Fill(array('f',ListOfVariables))\n",
      "        elif files.index(f)>=len(files)-2:\n",
      "            QntuplesE[files.index(f)-len(files)+1].Fill(array('f',ListOfVariables))"
     ],
     "language": "python",
     "metadata": {},
     "outputs": [
      {
       "output_type": "stream",
       "stream": "stdout",
       "text": [
        "Filling signal...\n",
        "Entries for file  /home/jruizalv/Version121/TpJetM600_5318_Full_analyzed.root  are:  106698\n",
        "Filling signal..."
       ]
      },
      {
       "output_type": "stream",
       "stream": "stdout",
       "text": [
        "\n",
        "Entries for file  /home/jruizalv/Version121/TpJetM650_5318_Full_analyzed.root  are:  143295\n",
        "Filling signal..."
       ]
      },
      {
       "output_type": "stream",
       "stream": "stdout",
       "text": [
        "\n",
        "Entries for file  /home/jruizalv/Version121/TpJetM700_5318_Full_analyzed.root  are:  171063\n",
        "Filling signal..."
       ]
      },
      {
       "output_type": "stream",
       "stream": "stdout",
       "text": [
        "\n",
        "Entries for file  /home/jruizalv/Version121/TpJetM750_5318_Full_analyzed.root  are:  187296\n",
        "Filling signal..."
       ]
      },
      {
       "output_type": "stream",
       "stream": "stdout",
       "text": [
        "\n",
        "Entries for file  /home/jruizalv/Version121/TpJetM800_5318_Full_analyzed.root  are:  184872\n",
        "Filling signal..."
       ]
      },
      {
       "output_type": "stream",
       "stream": "stdout",
       "text": [
        "\n",
        "Entries for file  /home/jruizalv/Version121/TpJetM850_5318_Full_analyzed.root  are:  192507\n",
        "Filling signal..."
       ]
      },
      {
       "output_type": "stream",
       "stream": "stdout",
       "text": [
        "\n",
        "Entries for file  /home/jruizalv/Version121/TpJetM900_5318_Full_analyzed.root  are:  212121\n",
        "Filling signal..."
       ]
      },
      {
       "output_type": "stream",
       "stream": "stdout",
       "text": [
        "\n",
        "Entries for file  /home/jruizalv/Version121/TpJetM950_5318_Full_analyzed.root  are:  199407\n",
        "Filling signal..."
       ]
      },
      {
       "output_type": "stream",
       "stream": "stdout",
       "text": [
        "\n",
        "Entries for file  /home/jruizalv/Version121/TpJetM1000_5318_Full_analyzed.root  are:  199917\n",
        "Filling bkgs..."
       ]
      },
      {
       "output_type": "stream",
       "stream": "stdout",
       "text": [
        "\n",
        "Entries for file  /home/jruizalv/Version121/TTJetsF_5318_Full_analyzed.root  are:  23336964\n",
        "Filling bkgs..."
       ]
      },
      {
       "output_type": "stream",
       "stream": "stdout",
       "text": [
        "\n",
        "Entries for file  /home/jruizalv/Version121/QCD_HT_500_1000_5318_Full_analyzed.root  are:  2127432\n",
        "Filling bkgs..."
       ]
      },
      {
       "output_type": "stream",
       "stream": "stdout",
       "text": [
        "\n",
        "Entries for file  /home/jruizalv/Version121/QCD_HT_1000_Inf_5318_Full_analyzed.root  are:  4208493\n"
       ]
      }
     ],
     "prompt_number": 6
    },
    {
     "cell_type": "heading",
     "level": 2,
     "metadata": {},
     "source": [
      "Declaring files and ntuples for data"
     ]
    },
    {
     "cell_type": "code",
     "collapsed": false,
     "input": [
      "datafiles = [\"/home/jruizalv/Version121/Full_Data.root\"]\n",
      "\n",
      "#TreeStructure=\"M5J:DRHJ:DRWH:RelHT:M2HP:DRTp6thJ:HM:chi2:MTHAsym\"\n",
      "\n",
      "#Signal Sample\n",
      "DataA = ROOT.TNtuple(\"DatantupleA\",\"DatantupleA\",TreeStructure)\n",
      "\n",
      "#Control Sample\n",
      "DataE = ROOT.TNtuple(\"DatantupleE\",\"DatantupleE\",TreeStructure)"
     ],
     "language": "python",
     "metadata": {},
     "outputs": [],
     "prompt_number": 7
    },
    {
     "cell_type": "heading",
     "level": 2,
     "metadata": {},
     "source": [
      "Reading files and filling the Data Ntuples"
     ]
    },
    {
     "cell_type": "code",
     "collapsed": false,
     "input": [
      "CutsChain=ROOT.TChain(\"stp\")\n",
      "CutsChain.Add(datafiles[0])\n",
      "entries = CutsChain.GetEntries()\n",
      "print \"Entries for file \", datafiles[0], \" are: \", entries\n",
      "Entries=entries\n",
      "for i in xrange(Entries):\n",
      "    CutsChain.GetEntry(i)\n",
      "    HiggsV=ROOT.TLorentzVector(CutsChain.Reconstructed_Higgs.X(),CutsChain.Reconstructed_Higgs.Y(),CutsChain.Reconstructed_Higgs.Z(),CutsChain.Reconstructed_Higgs.T())\n",
      "    Higgs2ndJV=ROOT.TLorentzVector(CutsChain.Second_Higgs_Jet.X(),CutsChain.Second_Higgs_Jet.Y(),CutsChain.Second_Higgs_Jet.Z(),CutsChain.Second_Higgs_Jet.T())\n",
      "    J6thV=ROOT.TLorentzVector(CutsChain.Jet6th.X(),CutsChain.Jet6th.Y(),CutsChain.Jet6th.Z(),CutsChain.Jet6th.T())\n",
      "    TprimeV=ROOT.TLorentzVector(CutsChain.Reconstructed_Tprime.X(),CutsChain.Reconstructed_Tprime.Y(),CutsChain.Reconstructed_Tprime.Z(),CutsChain.Reconstructed_Tprime.T())\n",
      "    Top2=HiggsV+J6thV\n",
      "    W2=Higgs2ndJV+J6thV\n",
      "    TopJV=ROOT.TLorentzVector(CutsChain.Top_Jet.X(),CutsChain.Top_Jet.Y(),CutsChain.Top_Jet.Z(),CutsChain.Top_Jet.T())\n",
      "    #M5J:DRHJ:DRWH:RelHT:M2HP:DRTp6thJ:HM:chi2:MTHAsym\n",
      "    ListOfVariables = [CutsChain.Reconstructed_Tprime.M(),\n",
      "                        CutsChain.DeltaR_of_Higgs_Jets,\n",
      "                        CutsChain.DeltaR_of_W_Higgs,\n",
      "                        CutsChain.Relative_THT,\n",
      "                        (Top2.M()+W2.M())/CutsChain.Reconstructed_Higgs.M(),\n",
      "                        TprimeV.DeltaR(J6thV),\n",
      "                        CutsChain.Reconstructed_Higgs.M(),\n",
      "                        (CutsChain.HiggsChi2+CutsChain.TopChi2),\n",
      "                        (CutsChain.Reconstructed_Top.M()-CutsChain.Reconstructed_Higgs.M())/(CutsChain.Reconstructed_Top.M()+CutsChain.Reconstructed_Higgs.M())]\n",
      "    DataA.Fill(array('f',ListOfVariables)) "
     ],
     "language": "python",
     "metadata": {},
     "outputs": [
      {
       "output_type": "stream",
       "stream": "stdout",
       "text": [
        "Entries for file  /home/jruizalv/Version121/Full_Data.root  are:  41036\n"
       ]
      }
     ],
     "prompt_number": 8
    },
    {
     "cell_type": "code",
     "collapsed": false,
     "input": [
      "CutsChain=ROOT.TChain(\"stp3LNC\")\n",
      "CutsChain.Add(datafiles[0])\n",
      "entries = CutsChain.GetEntries()\n",
      "print \"Entries for file \", datafiles[0], \" are: \", entries\n",
      "Entries=entries\n",
      "for i in xrange(Entries):\n",
      "    CutsChain.GetEntry(i)\n",
      "    HiggsV=ROOT.TLorentzVector(CutsChain.Reconstructed_Higgs3L.X(),CutsChain.Reconstructed_Higgs3L.Y(),CutsChain.Reconstructed_Higgs3L.Z(),CutsChain.Reconstructed_Higgs3L.T())\n",
      "    Higgs1stJV=ROOT.TLorentzVector(CutsChain.First_Higgs_Jet3L.X(),CutsChain.First_Higgs_Jet3L.Y(),CutsChain.First_Higgs_Jet3L.Z(),CutsChain.First_Higgs_Jet3L.T())\n",
      "    Higgs2ndJV=ROOT.TLorentzVector(CutsChain.Second_Higgs_Jet3L.X(),CutsChain.Second_Higgs_Jet3L.Y(),CutsChain.Second_Higgs_Jet3L.Z(),CutsChain.Second_Higgs_Jet3L.T())\n",
      "    J6thV=ROOT.TLorentzVector(CutsChain.Jet6th.X(),CutsChain.Jet6th.Y(),CutsChain.Jet6th.Z(),CutsChain.Jet6th.T())\n",
      "    TprimeV=ROOT.TLorentzVector(CutsChain.Reconstructed_Tprime3L.X(),CutsChain.Reconstructed_Tprime3L.Y(),CutsChain.Reconstructed_Tprime3L.Z(),CutsChain.Reconstructed_Tprime3L.T())\n",
      "    W1V=ROOT.TLorentzVector(CutsChain.Reconstructed_W3L.X(),CutsChain.Reconstructed_W3L.Y(),CutsChain.Reconstructed_W3L.Z(),CutsChain.Reconstructed_W3L.T())\n",
      "    Top2=HiggsV+J6thV\n",
      "    W2=Higgs2ndJV+J6thV\n",
      "    TopJV=ROOT.TLorentzVector(CutsChain.Top_Jet3L.X(),CutsChain.Top_Jet3L.Y(),CutsChain.Top_Jet3L.Z(),CutsChain.Top_Jet3L.T())\n",
      "    #M5J:DRHJ:DRWH:RelHT:M2HP:DRTp6thJ:HM:chi2:MTHAsym\n",
      "    ListOfVariables = [CutsChain.Reconstructed_Tprime3L.M(),\n",
      "                        Higgs1stJV.DeltaR(Higgs2ndJV),\n",
      "                        HiggsV.DeltaR(W1V),\n",
      "                        (CutsChain.Reconstructed_Higgs3L.Pt()+CutsChain.Reconstructed_Top3L.Pt())/CutsChain.THT,\n",
      "                        (Top2.M()+W2.M())/CutsChain.Reconstructed_Higgs3L.M(),\n",
      "                        TprimeV.DeltaR(J6thV),\n",
      "                        CutsChain.Reconstructed_Higgs3L.M(),\n",
      "                        (CutsChain.HiggsChi2+CutsChain.TopChi2),\n",
      "                        (CutsChain.Reconstructed_Top3L.M()-CutsChain.Reconstructed_Higgs3L.M())/(CutsChain.Reconstructed_Top3L.M()+CutsChain.Reconstructed_Higgs3L.M())]\n",
      "    DataE.Fill(array('f',ListOfVariables))"
     ],
     "language": "python",
     "metadata": {},
     "outputs": [
      {
       "output_type": "stream",
       "stream": "stdout",
       "text": [
        "Entries for file  /home/jruizalv/Version121/Full_Data.root  are:  22959156\n"
       ]
      }
     ],
     "prompt_number": 9
    },
    {
     "cell_type": "heading",
     "level": 3,
     "metadata": {},
     "source": [
      "Saving Ntuples in a numpy array"
     ]
    },
    {
     "cell_type": "code",
     "collapsed": false,
     "input": [
      "SignalSampleArray=np.array([NMassPointsA,TntupleA,QntuplesA]); SignalSampleFile=\"SignalSample\"+VersionProc\n",
      "ControlSampleArray=np.array([NMassPointsE,TntupleE,QntuplesE]); ControlSampleFile=\"ControlSample\"+VersionProc\n",
      "\n",
      "np.save(SignalSampleFile,SignalSampleArray)\n",
      "np.save(ControlSampleFile,ControlSampleArray)"
     ],
     "language": "python",
     "metadata": {},
     "outputs": [
      {
       "ename": "NameError",
       "evalue": "name 'NMassPointsA' is not defined",
       "output_type": "pyerr",
       "traceback": [
        "\u001b[1;31m---------------------------------------------------------------------------\u001b[0m\n\u001b[1;31mNameError\u001b[0m                                 Traceback (most recent call last)",
        "\u001b[1;32m<ipython-input-4-0a87c24fcf47>\u001b[0m in \u001b[0;36m<module>\u001b[1;34m()\u001b[0m\n\u001b[1;32m----> 1\u001b[1;33m \u001b[0mSignalSampleArray\u001b[0m\u001b[1;33m=\u001b[0m\u001b[0mnp\u001b[0m\u001b[1;33m.\u001b[0m\u001b[0marray\u001b[0m\u001b[1;33m(\u001b[0m\u001b[1;33m[\u001b[0m\u001b[0mNMassPointsA\u001b[0m\u001b[1;33m,\u001b[0m\u001b[0mTntupleA\u001b[0m\u001b[1;33m,\u001b[0m\u001b[0mQntuplesA\u001b[0m\u001b[1;33m]\u001b[0m\u001b[1;33m)\u001b[0m\u001b[1;33m;\u001b[0m \u001b[0mSignalSampleFile\u001b[0m\u001b[1;33m=\u001b[0m\u001b[1;34m\"SignalSample\"\u001b[0m\u001b[1;33m+\u001b[0m\u001b[0mVersionProc\u001b[0m\u001b[1;33m\u001b[0m\u001b[0m\n\u001b[0m\u001b[0;32m      2\u001b[0m \u001b[0mControlSampleArray\u001b[0m\u001b[1;33m=\u001b[0m\u001b[0mnp\u001b[0m\u001b[1;33m.\u001b[0m\u001b[0marray\u001b[0m\u001b[1;33m(\u001b[0m\u001b[1;33m[\u001b[0m\u001b[0mNMassPointsE\u001b[0m\u001b[1;33m,\u001b[0m\u001b[0mTntupleE\u001b[0m\u001b[1;33m,\u001b[0m\u001b[0mQntuplesE\u001b[0m\u001b[1;33m]\u001b[0m\u001b[1;33m)\u001b[0m\u001b[1;33m;\u001b[0m \u001b[0mControlSampleFile\u001b[0m\u001b[1;33m=\u001b[0m\u001b[1;34m\"ControlSample\"\u001b[0m\u001b[1;33m+\u001b[0m\u001b[0mVersionProc\u001b[0m\u001b[1;33m\u001b[0m\u001b[0m\n\u001b[0;32m      3\u001b[0m \u001b[1;33m\u001b[0m\u001b[0m\n\u001b[0;32m      4\u001b[0m \u001b[0mnp\u001b[0m\u001b[1;33m.\u001b[0m\u001b[0msave\u001b[0m\u001b[1;33m(\u001b[0m\u001b[0mSignalSampleFile\u001b[0m\u001b[1;33m,\u001b[0m\u001b[0mSignalSampleArray\u001b[0m\u001b[1;33m)\u001b[0m\u001b[1;33m\u001b[0m\u001b[0m\n\u001b[0;32m      5\u001b[0m \u001b[0mnp\u001b[0m\u001b[1;33m.\u001b[0m\u001b[0msave\u001b[0m\u001b[1;33m(\u001b[0m\u001b[0mControlSampleFile\u001b[0m\u001b[1;33m,\u001b[0m\u001b[0mControlSampleArray\u001b[0m\u001b[1;33m)\u001b[0m\u001b[1;33m\u001b[0m\u001b[0m\n",
        "\u001b[1;31mNameError\u001b[0m: name 'NMassPointsA' is not defined"
       ]
      }
     ],
     "prompt_number": 4
    },
    {
     "cell_type": "code",
     "collapsed": false,
     "input": [
      "DataArray=np.array([DataA,DataE]); DataSampleFile=\"Data\"+VersionProc\n",
      "np.save(DataSampleFile,DataArray)"
     ],
     "language": "python",
     "metadata": {},
     "outputs": [],
     "prompt_number": 13
    },
    {
     "cell_type": "heading",
     "level": 3,
     "metadata": {},
     "source": [
      "Loading Ntuples in a numpy array (OPTIONAL)"
     ]
    },
    {
     "cell_type": "code",
     "collapsed": false,
     "input": [
      "SignalSampleFile=\"SignalSample\"+VersionProc; ControlSampleFile=\"ControlSample\"+VersionProc; DataSampleFile=\"Data\"+VersionProc\n",
      "DataArray=np.load(DataSampleFile+\".npy\")\n",
      "MCSignalSampleArray=np.load(SignalSampleFile+\".npy\"); MCControlSampleArray=np.load(ControlSampleFile+\".npy\")\n",
      "DataA=DataArray[0]; DataE=DataArray[1]\n",
      "NMassPointsA=MCSignalSampleArray[0]; TntupleA=MCSignalSampleArray[1]; QntuplesA=MCSignalSampleArray[2]\n",
      "NMassPointsE=MCControlSampleArray[0]; TntupleE=MCControlSampleArray[1]; QntuplesE=MCControlSampleArray[2]\n",
      "print DataA.GetEntries(), DataE.GetEntries()\n",
      "#print len(NMassPointsA), len(NMassPointsE)\n",
      "print NMassPointsA[2].GetEntries(), TntupleA.GetEntries(), QntuplesA[0].GetEntries()\n",
      "print NMassPointsE[2].GetEntries(), TntupleE.GetEntries(), QntuplesE[0].GetEntries()"
     ],
     "language": "python",
     "metadata": {},
     "outputs": [
      {
       "output_type": "stream",
       "stream": "stdout",
       "text": [
        "41036 22959156\n",
        "4350 117799 9087\n",
        "171063 23336964 4208493\n"
       ]
      }
     ],
     "prompt_number": 5
    },
    {
     "cell_type": "heading",
     "level": 3,
     "metadata": {},
     "source": [
      "Declaring Cuts and Weights"
     ]
    },
    {
     "cell_type": "code",
     "collapsed": false,
     "input": [
      "#Sntuple.Print()\n",
      "#\"M5J:DRHJ:DRWH:RelHT:Eta6thJ:M2HP:DRTp6thJ:HM:chi2:MTHAsym\"\n",
      "#Cut1 = ROOT.TCut(\"chi2<140\")\n",
      "CutDRbb = ROOT.TCut(\"DRHJ<=1.2\")\n",
      "CutDRWH = ROOT.TCut(\"DRWH>=1.6 && DRWH<=4.0\")\n",
      "CutHM = ROOT.TCut(\"HM>=105 && HM<=145\")\n",
      "CutM2HP = ROOT.TCut(\"M2HP>7.5\")\n",
      "CutRelHT = ROOT.TCut(\"RelHT>=0.7\")\n",
      "CutDRTp6thJ = ROOT.TCut(\"DRTp6thJ>4.5\")\n",
      "CutMTHAsym = ROOT.TCut(\"MTHAsym>=-0.02 && MTHAsym<=0.38\")\n",
      "\n",
      "Lumi=19694.471\n",
      "\n",
      "SWeight=Lumi*(0.57/0.94)*0.1437/99984\n",
      "TWeight=Lumi*245.8/61941200\n",
      "Q500Weight=Lumi*8426.0/29320000\n",
      "Q1000Weight=Lumi*204.0/13720000\n",
      "QWeights=[Q500Weight,Q1000Weight]\n",
      "NevtsMassPoints=[92190.,99292.,99984.,99984.,96388.,99995.,99984.,96791.,99991.]\n",
      "XSNevtsMassPoints=[0.2154,0.1778,0.1437,0.1186,0.1,0.0843,0.0726,0.0626,0.0539]\n",
      "NWeights=Lumi*(0.57/0.94)*np.array(XSNevtsMassPoints)/np.array(NevtsMassPoints)"
     ],
     "language": "python",
     "metadata": {},
     "outputs": [],
     "prompt_number": 6
    },
    {
     "cell_type": "heading",
     "level": 3,
     "metadata": {},
     "source": [
      "Chi2 optimization on data"
     ]
    },
    {
     "cell_type": "code",
     "collapsed": false,
     "input": [
      "CutsFromCLs=[ROOT.TCut(\"\"),CutDRbb,CutDRWH,CutM2HP,CutDRTp6thJ,CutHM,CutRelHT,CutMTHAsym]\n",
      "\n",
      "Chi2Cut=[\"chi2<\",np.linspace(500,700,21)]\n",
      "Chi2ResultsPerCut=[]\n",
      "PvalueResultsPerCut=[]\n",
      "\n",
      "OptVersion=\"_bkg_estimation_\"+VersionProc\n",
      "\n",
      "CumulCut=ROOT.TCut(\"\")\n",
      "\n",
      "SignalEntriesE=[]; TTbarEntriesE=[]; QCDEntriesE=[]\n",
      "\n",
      "PDFName=\"Nminus1\"+OptVersion+\"_shortestscan.pdf\"\n",
      "CurCanv = rootnotes.canvas(\"MyPlot\", (600, 800))\n",
      "Titles=[\"Base\", \"DRbb\", \"DRWH\", \"M2HP\", \"DRTp6thJ\", \"HiggsMass\", \"RelHT\", \"MTHAsym\"]\n",
      "\n",
      "BinsLimits=\"(30,550,1100)\"\n",
      "\n",
      "for i in xrange(len(CutsFromCLs)):\n",
      "    CumulCut=CumulCut*CutsFromCLs[i]\n",
      "    Chi2Test=[]\n",
      "    PvalueTest=[]\n",
      "    for j in Chi2Cut[1]:\n",
      "        StepChi2Cut=ROOT.TCut(Chi2Cut[0]+str(j))\n",
      "        EstimOptCut=CumulCut*StepChi2Cut\n",
      "        \n",
      "        DataA.Draw(\"M5J >> M5JA_Cut\"+str(i)+\"_\"+str(j)+BinsLimits,EstimOptCut)\n",
      "        M5JDA=ROOT.gDirectory.Get(\"M5JA_Cut\"+str(i)+\"_\"+str(j))\n",
      "        \n",
      "        DataE.Draw(\"M5J >> M5JE_Cut\"+str(i)+\"_\"+str(j)+BinsLimits,EstimOptCut)\n",
      "        M5JDE=ROOT.gDirectory.Get(\"M5JE_Cut\"+str(i)+\"_\"+str(j))\n",
      "        \n",
      "        res=ROOT.Double(0.0)\n",
      "        Chi2Test.append(M5JDE.Chi2Test(M5JDA,\"UU CHI2/NDF\"))\n",
      "        PvalueTest.append(M5JDE.Chi2Test(M5JDA,\"UU P\"))\n",
      "        \n",
      "        M5JDE.SetStats(ROOT.kFALSE)\n",
      "        M5JDE.SetLineStyle(7); M5JDA.SetLineStyle(1)\n",
      "        M5JDE.SetLineWidth(2); M5JDA.SetLineWidth(1)\n",
      "        M5JDE.SetLineColor(ROOT.kBlue); M5JDA.SetLineColor(ROOT.kBlack)\n",
      "        M5JDE.Sumw2(); M5JDE.Scale(M5JDA.Integral()/M5JDE.Integral())\n",
      "        M5JDE.SetMaximum(max(M5JDA.GetMaximum(),M5JDE.GetMaximum())*1.05)\n",
      "        M5JDE.SetMinimum(min(M5JDA.GetMinimum(),M5JDE.GetMinimum())*0.95)\n",
      "        LEG=ROOT.TLegend(0.6,0.6,0.8,0.8)\n",
      "        LEG.AddEntry(M5JDA, \"Signal Sample\", \"l\"); LEG.AddEntry(M5JDE, \"Control Sample\", \"l\")\n",
      "        LEG.SetFillColor(0)\n",
      "        M5JDE.Draw(\"hist\"); M5JDA.Draw(\"hist same\"); LEG.Draw()\n",
      "\n",
      "        if i==0 and j==Chi2Cut[1][0]: CurCanv.Print(PDFName+\"(\",\"Title:\"+Titles[i]+\"_\"+Chi2Cut[0]+str(j))\n",
      "        elif i==0 and j!=Chi2Cut[1][0]: CurCanv.Print(PDFName,\"Title:\"+Titles[i]+\"_\"+Chi2Cut[0]+str(j))\n",
      "        elif i!=0 and j!=Chi2Cut[1][-1]: CurCanv.Print(PDFName,\"Title:\"+Titles[i]+\"_\"+Chi2Cut[0]+str(j))\n",
      "        elif i==(len(CutsFromCLs)-1) and j==Chi2Cut[1][-1]: CurCanv.Print(PDFName+\")\",\"Title:\"+Titles[i]+\"_\"+Chi2Cut[0]+str(j))\n",
      "        #if j!=Chi2Cut[1][-1]: CurCanv.Print(PDFName,\"Title:\"+Titles[i]+Chi2Cut[0]+str(j))\n",
      "        #elif (i<=len(CutsFromCLs)-2 and i>0) or (j!=Chi2Cut[1][0] and j!=Chi2Cut[1][-1]): CurCanv.Print(PDFName,\"Title:\"+Titles[i]+Chi2Cut[0]+str(j))\n",
      "        #else: CurCanv.Print(PDFName+\")\",\"Title:\"+Titles[i]+Chi2Cut[0]+str(j))\n",
      "    Chi2ResultsPerCut.append(Chi2Test)\n",
      "    PvalueResultsPerCut.append(PvalueTest)"
     ],
     "language": "python",
     "metadata": {},
     "outputs": [],
     "prompt_number": 17
    },
    {
     "cell_type": "code",
     "collapsed": false,
     "input": [
      "for i in xrange(len(Titles)):\n",
      "    fig, ax = plt.subplots()\n",
      "    ax.plot(Chi2Cut[1], Chi2ResultsPerCut[i], 'kv', markersize=10.0)\n",
      "    ax.set_xlabel(\"$\\chi^{2}$\")\n",
      "    ax.set_ylabel(\"$\\chi^{2}/ndf$\")\n",
      "    ax.xaxis.label.set_fontsize(18)\n",
      "    ax.yaxis.label.set_fontsize(18)\n",
      "    ax.set_xlim(left=Chi2Cut[1][0]*0.95,right=Chi2Cut[1][-1]*1.05)\n",
      "    ax.set_ylim(bottom=min(Chi2ResultsPerCut[i])*0.9,top=max(Chi2ResultsPerCut[i])*1.1)\n",
      "    fig.savefig(\"Chi2_opt_at_\"+Titles[i]+\"_shortestscan.pdf\")\n",
      "    del(fig); del(ax)\n",
      "    #plt.show()\n",
      "for i in xrange(len(Titles)):\n",
      "    fig, ax = plt.subplots()\n",
      "    ax.plot(Chi2Cut[1], PvalueResultsPerCut[i], 'kv', markersize=10.0)\n",
      "    ax.set_xlabel(\"$\\chi^{2}$\")\n",
      "    ax.set_ylabel(\"p-value\")\n",
      "    ax.xaxis.label.set_fontsize(18)\n",
      "    ax.yaxis.label.set_fontsize(18)\n",
      "    ax.set_yscale('log')\n",
      "    ax.set_xlim(left=Chi2Cut[1][0]*0.95,right=Chi2Cut[1][-1]*1.05)\n",
      "    ax.set_ylim(bottom=min(PvalueResultsPerCut[i])*0.9,top=max(PvalueResultsPerCut[i])*1.1)\n",
      "    fig.savefig(\"Pvalue_opt_at_\"+Titles[i]+\"_shortestscan.pdf\")\n",
      "    del(fig); del(ax)"
     ],
     "language": "python",
     "metadata": {},
     "outputs": [],
     "prompt_number": 18
    },
    {
     "cell_type": "code",
     "collapsed": false,
     "input": [
      "print PvalueResultsPerCut[-1]"
     ],
     "language": "python",
     "metadata": {},
     "outputs": [
      {
       "output_type": "stream",
       "stream": "stdout",
       "text": [
        "[0.4830870095431343, 0.4830870095431343, 0.4830870095431343, 0.4830870095431343, 0.4830870095431343, 0.4830870095431343, 0.4830870095431343, 0.4830870095431343, 0.4830870095431343, 0.4830870095431343, 0.4830870095431343, 0.4830870095431343, 0.4830870095431343, 0.4830870095431343, 0.4830870095431343, 0.4830870095431343, 0.4830870095431343, 0.4830870095431343, 0.4830870095431343, 0.4830870095431343, 0.4830870095431343]\n"
       ]
      }
     ],
     "prompt_number": 19
    },
    {
     "cell_type": "heading",
     "level": 3,
     "metadata": {},
     "source": [
      "Calculating yields from MC afte chi2 optimization"
     ]
    },
    {
     "cell_type": "code",
     "collapsed": false,
     "input": [
      "Cut1=ROOT.TCut(\"chi2<620\")\n",
      "CutFCLs=Cut1*CutDRbb*CutDRWH*CutM2HP*CutDRTp6thJ*CutHM*CutRelHT*CutMTHAsym\n",
      "\n",
      "Masses=[600,650,700,750,800,850,900,950,1000]\n",
      "FitWindows=[100,100,100,100,150,150,150,150,150]\n",
      "MassPointsFit=[]; MassPointsSigmas=[]\n",
      "MassPointsChi2=[]; MassPointsNDF=[]\n",
      "MassPointsIntSignal=[]; MassPointsTTbar=[]; MassPointsQCD=[]; MassPointsE=[]; MassPointsO=[]\n",
      "MassPointsFullIntSignal=[]\n",
      "\n",
      "BinsLimits=\"(120,400,1600)\"\n",
      "\n",
      "BKGmTTbar = ROOT.TFile(\"TTbarSubsBKG.root\", \"recreate\")\n",
      "\n",
      "counter=0\n",
      "for i in xrange(len(Masses)):\n",
      "    print \"---------------------------------------------\"\n",
      "    NMassPointsA[i].Draw(\"M5J >> M5jS\"+str(Masses[i])+\"_CutF\"+BinsLimits,CutFCLs)\n",
      "    M5JHS=ROOT.gDirectory.Get(\"M5jS\"+str(Masses[i])+\"_CutF\")\n",
      "    M5JHS.Sumw2(); M5JHS.Scale(NWeights[i]); M5JHS.Write()\n",
      "    \n",
      "    f1=ROOT.TF1(\"f1\",\"gaus\",Masses[i]-FitWindows[i],Masses[i]+FitWindows[i])\n",
      "    M5JHS.Fit(\"f1\",\"LMR\",\"same\")\n",
      "    MassPoint=f1.GetParameter(1); win=f1.GetParameter(2)\n",
      "    MassPointE=f1.GetParError(1); winE=f1.GetParError(2)\n",
      "    Chi2=f1.GetChisquare(); NDF=f1.GetNDF()\n",
      "    window_error=ROOT.Double(0.)\n",
      "    integral=M5JHS.IntegralAndError(M5JHS.GetXaxis().FindBin(MassPoint-win),M5JHS.GetXaxis().FindBin(MassPoint+win),window_error)\n",
      "    print \"M=\"+str(Masses[i])+\" GeV ------> {0:.2f}+-{1:.2f}\".format(integral,window_error)\n",
      "    print \"Mean value: {0:.2f}+-{1:.2f}, with sigma: {2:.2f}+-{3:.2f}\".format(MassPoint,MassPointE,win,winE)\n",
      "    print \"Chi2={0:.2f}, ndf={1:.2f}, Chi2/ndf={2:.2f}\".format(Chi2, NDF, Chi2/NDF)\n",
      "    MassPointsIntSignal.append(integral); MassPointsFit.append(MassPoint); MassPointsSigmas.append(win); MassPointsChi2.append(Chi2); MassPointsNDF.append(NDF)\n",
      "    MassPointsFullIntSignal.append(M5JHS.Integral())\n",
      "    \n",
      "TntupleA.Draw(\"M5J >> M5jT_CutFCLs\"+str(i)+BinsLimits,CutFCLs)\n",
      "M5JHT=ROOT.gDirectory.Get(\"M5jT_CutFCLs\"+str(i))\n",
      "M5JHT.Sumw2(); M5JHT.Scale(TWeight); M5JHT.Write()\n",
      "\n",
      "TTbarYields=[]\n",
      "for i in xrange(len(MassPointsFit)):\n",
      "    bkg_integral=M5JHT.IntegralAndError(M5JHT.GetXaxis().FindBin(MassPointsFit[i]-MassPointsSigmas[i]),M5JHT.GetXaxis().FindBin(MassPointsFit[i]+MassPointsSigmas[i]),window_error)\n",
      "    TTbarYields.append(bkg_integral)\n",
      "    print \"TTbar at \"+str(Masses[i])+\" ------> {0:.2f}+-{1:.2f}\".format(bkg_integral,window_error)\n",
      "    MassPointsTTbar.append(bkg_integral)\n",
      "\n",
      "QntuplesA[0].Draw(\"M5J >> M5jQ_CutFCLs\"+str(i)+BinsLimits,CutFCLs)\n",
      "M5JHQ=ROOT.gDirectory.Get(\"M5jQ_CutFCLs\"+str(i))\n",
      "M5JHQ.Sumw2(); M5JHQ.Scale(QWeights[0]); M5JHQ.Write()\n",
      "for i in xrange(len(MassPointsFit)):\n",
      "    bkg_integral=M5JHQ.IntegralAndError(M5JHQ.GetXaxis().FindBin(MassPointsFit[i]-MassPointsSigmas[i]),M5JHQ.GetXaxis().FindBin(MassPointsFit[i]+MassPointsSigmas[i]),window_error)\n",
      "    MassPointsQCD.append(bkg_integral)\n",
      "    print \"QCD at \"+str(Masses[i])+\" ------> {0:.2f}+-{1:.2f}\".format(bkg_integral,window_error)\n",
      "    \n",
      "DataE.Draw(\"M5J >> M5jE_CutFCLs\"+str(i)+BinsLimits,CutFCLs)\n",
      "M5JE=ROOT.gDirectory.Get(\"M5jE_CutFCLs\"+str(i))\n",
      "DataA.Draw(\"M5J >> M5jO_CutFCLs\"+str(i)+BinsLimits,CutFCLs)\n",
      "M5JO=ROOT.gDirectory.Get(\"M5jO_CutFCLs\"+str(i))\n",
      "M5JE.Sumw2(); M5JE.Scale(M5JO.Integral()/M5JE.Integral()); M5JE.Write(); M5JO.Write()\n",
      "for i in xrange(len(MassPointsFit)):\n",
      "    bkg_integral=M5JE.IntegralAndError(M5JE.GetXaxis().FindBin(MassPointsFit[i]-MassPointsSigmas[i]),M5JE.GetXaxis().FindBin(MassPointsFit[i]+MassPointsSigmas[i]),window_error)\n",
      "    MassPointsE.append(bkg_integral)\n",
      "    print \"Estimation at \"+str(Masses[i])+\" ------> {0:.2f}+-{1:.2f}; TTbar content: {2:.2f}\".format(bkg_integral,window_error,TTbarYields[i]*100/bkg_integral)\n",
      "for i in xrange(len(MassPointsFit)):\n",
      "    bkg_integral=M5JO.IntegralAndError(M5JO.GetXaxis().FindBin(MassPointsFit[i]-MassPointsSigmas[i]),M5JO.GetXaxis().FindBin(MassPointsFit[i]+MassPointsSigmas[i]),window_error)\n",
      "    MassPointsO.append(bkg_integral)\n",
      "    print \"Observed at \"+str(Masses[i])+\" ------> {0:.2f}+-{1:.2f}\".format(bkg_integral,window_error)\n",
      "\n",
      "TotalObsEvts=M5JO.Integral()\n",
      "print \"From {0:.2f} total observed events\".format(TotalObsEvts)\n",
      "for i in xrange(len(MassPointsIntSignal)):\n",
      "    print \"Contamination from \"+str(Masses[i])+\" ------> {0:.2f}\".format(MassPointsFullIntSignal[i]/TotalObsEvts)\n",
      "\n",
      "Subs1=M5JE.Clone(\"M5jE_CutFCLs_TTbarSubs\")\n",
      "Subs2=M5JO.Clone(\"M5jO_CutFCLs_BKGSubs\")\n",
      "Subs1.Add(M5JHT,-1)\n",
      "Subs2.Add(M5JE,-1)\n",
      "Subs1.Write(); Subs2.Write()\n",
      "BKGmTTbar.Close()"
     ],
     "language": "python",
     "metadata": {},
     "outputs": [
      {
       "output_type": "stream",
       "stream": "stdout",
       "text": [
        "---------------------------------------------\n",
        "M=600 GeV ------> 3.57+-0.32"
       ]
      },
      {
       "output_type": "stream",
       "stream": "stdout",
       "text": [
        "\n",
        "Mean value: 616.68+-14.17, with sigma: 30.73+-10.52\n",
        "Chi2=15.14, ndf=17.00, Chi2/ndf=0.89\n",
        "---------------------------------------------\n",
        "M=650 GeV ------> 6.03+-0.36\n",
        "Mean value: 649.48+-13.55, with sigma: 37.32+-10.67\n",
        "Chi2=37.82, ndf=17.00, Chi2/ndf=2.22\n",
        "---------------------------------------------\n",
        "M=700 GeV ------> 8.00+-0.37\n",
        "Mean value: 697.54+-14.25, with sigma: 42.98+-12.28\n",
        "Chi2=4.39, ndf=17.00, Chi2/ndf=0.26\n",
        "---------------------------------------------\n",
        "M=750 GeV ------> 7.61+-0.33\n",
        "Mean value: 740.23+-15.53, with sigma: 44.62+-13.68\n",
        "Chi2=14.48, ndf=17.00, Chi2/ndf=0.85\n",
        "---------------------------------------------\n",
        "M=800 GeV ------> 7.32+-0.30\n",
        "Mean value: 787.13+-16.20, with sigma: 49.95+-12.18\n",
        "Chi2=58.67, ndf=27.00, Chi2/ndf=2.17\n",
        "---------------------------------------------\n",
        "M=850 GeV ------> 7.00+-0.27\n",
        "Mean value: 835.79+-16.30, with sigma: 48.94+-12.18\n",
        "Chi2=36.35, ndf=27.00, Chi2/ndf=1.35\n",
        "---------------------------------------------\n",
        "M=900 GeV ------> 5.71+-0.22\n",
        "Mean value: 882.30+-18.34, with sigma: 49.91+-13.84\n",
        "Chi2=34.97, ndf=27.00, Chi2/ndf=1.30\n",
        "---------------------------------------------\n",
        "M=950 GeV ------> 4.33+-0.18\n",
        "Mean value: 933.30+-23.30, with sigma: 54.78+-18.24\n",
        "Chi2=16.00, ndf=27.00, Chi2/ndf=0.59\n",
        "---------------------------------------------\n",
        "M=1000 GeV ------> 3.36+-0.15"
       ]
      },
      {
       "output_type": "stream",
       "stream": "stdout",
       "text": [
        "\n",
        "Mean value: 976.01+-29.76, with sigma: 58.27+-24.04\n",
        "Chi2=21.17, ndf=27.00, Chi2/ndf=0.78\n",
        "TTbar at 600 ------> 2.50+-0.44"
       ]
      },
      {
       "output_type": "stream",
       "stream": "stdout",
       "text": [
        "\n",
        "TTbar at 650 ------> 4.30+-0.58\n",
        "TTbar at 700 ------> 7.66+-0.77\n",
        "TTbar at 750 ------> 6.56+-0.72\n",
        "TTbar at 800 ------> 5.55+-0.66\n",
        "TTbar at 850 ------> 3.28+-0.51\n",
        "TTbar at 900 ------> 2.58+-0.45\n",
        "TTbar at 950 ------> 1.80+-0.37\n",
        "TTbar at 1000 ------> 1.33+-0.32\n",
        "QCD at 600 ------> 0.00+-0.00\n",
        "QCD at 650 ------> 0.00+-0.00\n",
        "QCD at 700 ------> 0.00+-0.00\n",
        "QCD at 750 ------> 0.00+-0.00\n",
        "QCD at 800 ------> 0.00+-0.00\n",
        "QCD at 850 ------> 0.00+-0.00\n",
        "QCD at 900 ------> 0.00+-0.00\n",
        "QCD at 950 ------> 0.00+-0.00\n",
        "QCD at 1000 ------> 0.00+-0.00\n",
        "Estimation at 600 ------> 5.14+-0.49; TTbar content: 48.65"
       ]
      },
      {
       "output_type": "stream",
       "stream": "stdout",
       "text": [
        "\n",
        "Estimation at 650 ------> 8.69+-0.64; TTbar content: 49.45\n",
        "Estimation at 700 ------> 12.10+-0.75; TTbar content: 63.27\n",
        "Estimation at 750 ------> 11.22+-0.72; TTbar content: 58.53\n",
        "Estimation at 800 ------> 11.36+-0.73; TTbar content: 48.86\n",
        "Estimation at 850 ------> 9.96+-0.68; TTbar content: 32.97\n",
        "Estimation at 900 ------> 9.58+-0.67; TTbar content: 26.92\n",
        "Estimation at 950 ------> 9.44+-0.66; TTbar content: 19.04\n",
        "Estimation at 1000 ------> 9.44+-0.66; TTbar content: 14.07\n",
        "Observed at 600 ------> 6.00+-2.45\n",
        "Observed at 650 ------> 8.00+-2.83\n",
        "Observed at 700 ------> 20.00+-4.47\n",
        "Observed at 750 ------> 21.00+-4.58\n",
        "Observed at 800 ------> 17.00+-4.12\n",
        "Observed at 850 ------> 8.00+-2.83\n",
        "Observed at 900 ------> 6.00+-2.45\n",
        "Observed at 950 ------> 5.00+-2.24\n",
        "Observed at 1000 ------> 7.00+-2.65\n",
        "From 53.00 total observed events\n",
        "Contamination from 600 ------> 0.09\n",
        "Contamination from 650 ------> 0.15\n",
        "Contamination from 700 ------> 0.20\n",
        "Contamination from 750 ------> 0.20\n",
        "Contamination from 800 ------> 0.19\n",
        "Contamination from 850 ------> 0.18\n",
        "Contamination from 900 ------> 0.15\n",
        "Contamination from 950 ------> 0.12\n",
        "Contamination from 1000 ------> 0.09\n"
       ]
      }
     ],
     "prompt_number": 8
    },
    {
     "cell_type": "code",
     "collapsed": false,
     "input": [
      "CutsFromOpt=[ROOT.TCut(\"\"),Cut1,CutDRbb,CutDRWH,CutM2HP,CutDRTp6thJ,CutHM,CutRelHT,CutMTHAsym]\n",
      "OptVersion=\"_22_opt_with_optchi2\"\n",
      "\n",
      "CumulCut=ROOT.TCut(\"\")\n",
      "\n",
      "Nm1 = ROOT.TFile(\"Nminus1\"+OptVersion+\".root\", \"recreate\")\n",
      "\n",
      "SignalEntriesE=[]; TTbarEntriesE=[]; QCDEntriesE=[]\n",
      "\n",
      "PDFName=\"Nminus1\"+OptVersion+\".pdf\"\n",
      "CurCanv = rootnotes.canvas(\"MyPlot\", (600, 800))\n",
      "Titles=[\"Base\",\"chi2\", \"DRbb\", \"DRWH\", \"M2HP\", \"DRTp6thJ\", \"HiggsMass\", \"RelHT\", \"MTHAsym\"]\n",
      "\n",
      "BinsLimits=\"(120,400,1600)\"\n",
      "\n",
      "for i in xrange(len(CutsFromOpt)):\n",
      "    CumulCut=CumulCut*CutsFromOpt[i]\n",
      "    \n",
      "    NMassPointsA[2].Draw(\"M5J >> M5jS_Cut\"+str(i)+BinsLimits,CumulCut)\n",
      "    M5JHS=ROOT.gDirectory.Get(\"M5jS_Cut\"+str(i))\n",
      "    M5JHS.Sumw2(); M5JHS.Scale(NWeights[2]); M5JHS.Write()\n",
      "               \n",
      "    TntupleA.Draw(\"M5J >> M5jT_Cut\"+str(i)+BinsLimits,CumulCut)\n",
      "    M5JHT=ROOT.gDirectory.Get(\"M5jT_Cut\"+str(i))\n",
      "    M5JHT.Sumw2(); M5JHT.Scale(TWeight); M5JHT.Write()\n",
      "                \n",
      "    QntuplesA[0].Draw(\"M5J >> M5jQ_Cut\"+str(i)+BinsLimits,CumulCut)\n",
      "    M5JHQ=ROOT.gDirectory.Get(\"M5jQ_Cut\"+str(i))\n",
      "    M5JHQ.Sumw2(); M5JHQ.Scale(QWeights[0]); M5JHQ.Write()\n",
      "        \n",
      "    M5JHQ.SetStats(ROOT.kFALSE)\n",
      "    M5JHQ.SetLineStyle(7); M5JHT.SetLineStyle(9); M5JHS.SetLineStyle(1)\n",
      "    M5JHQ.SetLineWidth(2); M5JHT.SetLineWidth(1); M5JHS.SetLineWidth(3)\n",
      "    M5JHQ.SetLineColor(ROOT.kViolet+1); M5JHT.SetLineColor(ROOT.kRed); M5JHS.SetLineColor(ROOT.kGreen+1)\n",
      "    LEG=ROOT.TLegend(0.6,0.6,0.8,0.8)\n",
      "    LEG.AddEntry(M5JHQ, \"QCD\", \"l\"); LEG.AddEntry(M5JHT, \"TTbar\", \"l\"); LEG.AddEntry(M5JHS, \"Signal\", \"l\")\n",
      "    LEG.SetFillColor(0);\n",
      "    M5JHQ.Draw(\"hist\"); M5JHT.Draw(\"hist same\"); M5JHS.Draw(\"hist same\"); LEG.Draw()\n",
      "    \n",
      "    if i==0: CurCanv.Print(PDFName+\"(\",\"Title:\"+Titles[i])\n",
      "    elif i<=len(CutsFromOpt)-2 and i>0: CurCanv.Print(PDFName,\"Title:\"+Titles[i])\n",
      "    else: CurCanv.Print(PDFName+\")\",\"Title:\"+Titles[i])\n",
      "    \n",
      "    SignalEntriesE.append(M5JHS.GetEntries()); TTbarEntriesE.append(M5JHT.GetEntries()); QCDEntriesE.append(M5JHQ.GetEntries())\n",
      "\n",
      "Nm1.Close()\n",
      "\n",
      "print \"--------------------------------------------------\"\n",
      "print \"------------------Efficiencies--------------------\"\n",
      "print \"--------Signal------TTbar-------QCD---------------\"\n",
      "    \n",
      "for i in xrange(len(TTbarEntriesE)-1):\n",
      "    print \"Cut\"+str(i+1)+\":    {0:.2f}      {1:.2f}      {2:.2f}\".format(100*SignalEntriesE[i+1]/SignalEntriesE[i],\n",
      "                                           100*TTbarEntriesE[i+1]/TTbarEntriesE[i],\n",
      "                                           100*QCDEntriesE[i+1]/QCDEntriesE[i])"
     ],
     "language": "python",
     "metadata": {},
     "outputs": [
      {
       "output_type": "stream",
       "stream": "stdout",
       "text": [
        "--------------------------------------------------\n",
        "------------------Efficiencies--------------------\n",
        "--------Signal------TTbar-------QCD---------------\n",
        "Cut1:    97.36      98.81      86.96\n",
        "Cut2:    82.67      39.28      48.86\n",
        "Cut3:    94.37      84.39      77.47\n",
        "Cut4:    55.78      30.03      65.16\n",
        "Cut5:    62.24      14.29      5.08\n",
        "Cut6:    81.87      47.77      32.32\n",
        "Cut7:    70.18      35.15      21.88\n",
        "Cut8:    94.84      87.77      71.43\n"
       ]
      }
     ],
     "prompt_number": 21
    },
    {
     "cell_type": "heading",
     "level": 1,
     "metadata": {},
     "source": [
      "STARTING INCLUSIVE VALIDATION (NEED NTUPLES FROM BELOW)"
     ]
    },
    {
     "cell_type": "heading",
     "level": 2,
     "metadata": {},
     "source": [
      "Declaring MC files for inclusive validation"
     ]
    },
    {
     "cell_type": "code",
     "collapsed": false,
     "input": [
      "files = [\"TpJetM600_5318_Full_analyzed.root\",\n",
      "         \"TpJetM650_5318_Full_analyzed.root\",\n",
      "         \"TpJetM700_5318_Full_analyzed.root\",\n",
      "         \"TpJetM750_5318_Full_analyzed.root\",\n",
      "         \"TpJetM800_5318_Full_analyzed.root\",\n",
      "         \"TpJetM850_5318_Full_analyzed.root\",\n",
      "         \"TpJetM900_5318_Full_analyzed.root\",\n",
      "         \"TpJetM950_5318_Full_analyzed.root\",\n",
      "         \"TpJetM1000_5318_Full_analyzed.root\",\n",
      "         \"TTJetsF_5318_Full_analyzed.root\",\n",
      "         \"QCD_HT_500_1000_5318_Full_analyzed.root\",\n",
      "         \"QCD_HT_1000_Inf_5318_Full_analyzed.root\"]\n",
      "\n",
      "TreeStructure=\"M5J:DRHJ:DRWH:RelHT:M2HP:DRTp6thJ:HM:chi2:MTHAsym\"\n",
      "\n",
      "#Control Sample CSVL=[0.389,0.679)\n",
      "TntupleE1 = ROOT.TNtuple(\"TntupleE1\",\"TntupleE1\",TreeStructure)\n",
      "Q500ntupleE1 = ROOT.TNtuple(\"Q500ntupleE1\",\"Q500ntupleE1\",TreeStructure)\n",
      "Q1000ntupleE1 = ROOT.TNtuple(\"Q1000ntupleE1\",\"Q1000ntupleE1\",TreeStructure)\n",
      "QntuplesE1=[Q500ntupleE1,Q1000ntupleE1]\n",
      "S600ntupleE1 = ROOT.TNtuple(\"S600ntupleE1\",\"S600ntupleE1\",TreeStructure)\n",
      "S650ntupleE1 = ROOT.TNtuple(\"S650ntupleE1\",\"S650ntupleE1\",TreeStructure)\n",
      "S700ntupleE1 = ROOT.TNtuple(\"S700ntupleE1\",\"S700ntupleE1\",TreeStructure)\n",
      "S750ntupleE1 = ROOT.TNtuple(\"S750ntupleE1\",\"S750ntupleE1\",TreeStructure)\n",
      "S800ntupleE1 = ROOT.TNtuple(\"S800ntupleE1\",\"S800ntupleE1\",TreeStructure)\n",
      "S850ntupleE1 = ROOT.TNtuple(\"S850ntupleE1\",\"S850ntupleE1\",TreeStructure)\n",
      "S900ntupleE1 = ROOT.TNtuple(\"S900ntupleE1\",\"S900ntupleE1\",TreeStructure)\n",
      "S950ntupleE1 = ROOT.TNtuple(\"S950ntupleE1\",\"S950ntupleE1\",TreeStructure)\n",
      "S1000ntupleE1 = ROOT.TNtuple(\"S1000ntupleE1\",\"S1000ntupleE1\",TreeStructure)\n",
      "NMassPointsE1 = [S600ntupleE1,S650ntupleE1,S700ntupleE1,S750ntupleE1,S800ntupleE1,S850ntupleE1,S900ntupleE1,S950ntupleE1,S1000ntupleE1]\n",
      "\n",
      "#Control Sample CSVL=[0.534,0.679)\n",
      "TntupleE2 = ROOT.TNtuple(\"TntupleE2\",\"TntupleE2\",TreeStructure)\n",
      "Q500ntupleE2 = ROOT.TNtuple(\"Q500ntupleE2\",\"Q500ntupleE2\",TreeStructure)\n",
      "Q1000ntupleE2 = ROOT.TNtuple(\"Q1000ntupleE2\",\"Q1000ntupleE2\",TreeStructure)\n",
      "QntuplesE2=[Q500ntupleE2,Q1000ntupleE2]\n",
      "S600ntupleE2 = ROOT.TNtuple(\"S600ntupleE2\",\"S600ntupleE2\",TreeStructure)\n",
      "S650ntupleE2 = ROOT.TNtuple(\"S650ntupleE2\",\"S650ntupleE2\",TreeStructure)\n",
      "S700ntupleE2 = ROOT.TNtuple(\"S700ntupleE2\",\"S700ntupleE2\",TreeStructure)\n",
      "S750ntupleE2 = ROOT.TNtuple(\"S750ntupleE2\",\"S750ntupleE2\",TreeStructure)\n",
      "S800ntupleE2 = ROOT.TNtuple(\"S800ntupleE2\",\"S800ntupleE2\",TreeStructure)\n",
      "S850ntupleE2 = ROOT.TNtuple(\"S850ntupleE2\",\"S850ntupleE2\",TreeStructure)\n",
      "S900ntupleE2 = ROOT.TNtuple(\"S900ntupleE2\",\"S900ntupleE2\",TreeStructure)\n",
      "S950ntupleE2 = ROOT.TNtuple(\"S950ntupleE2\",\"S950ntupleE2\",TreeStructure)\n",
      "S1000ntupleE2 = ROOT.TNtuple(\"S1000ntupleE2\",\"S1000ntupleE2\",TreeStructure)\n",
      "NMassPointsE2=[S600ntupleE2,S650ntupleE2,S700ntupleE2,S750ntupleE2,S800ntupleE2,S850ntupleE2,S900ntupleE2,S950ntupleE2,S1000ntupleE2]"
     ],
     "language": "python",
     "metadata": {},
     "outputs": [],
     "prompt_number": 4
    },
    {
     "cell_type": "code",
     "collapsed": false,
     "input": [
      "Entries=10000\n",
      "NsignalFiles=9\n",
      "for V in InclusiveVersions:\n",
      "    for f in files:\n",
      "        ff=Base+V+f\n",
      "        CutsChain=ROOT.TChain(\"stp3LNC\")\n",
      "        CutsChain.Add(ff)\n",
      "        entries = CutsChain.GetEntries()\n",
      "        if files.index(f)>=0 and files.index(f)<=NsignalFiles-1: print \"Filling signal...\"\n",
      "        elif files.index(f)>0: print \"Filling bkgs...\"\n",
      "        print \"Entries for file \", f, \" are: \", entries\n",
      "        Entries=entries\n",
      "        for i in xrange(Entries):\n",
      "            CutsChain.GetEntry(i)\n",
      "            HiggsV=ROOT.TLorentzVector(CutsChain.Reconstructed_Higgs3L.X(),CutsChain.Reconstructed_Higgs3L.Y(),CutsChain.Reconstructed_Higgs3L.Z(),CutsChain.Reconstructed_Higgs3L.T())\n",
      "            Higgs1stJV=ROOT.TLorentzVector(CutsChain.First_Higgs_Jet3L.X(),CutsChain.First_Higgs_Jet3L.Y(),CutsChain.First_Higgs_Jet3L.Z(),CutsChain.First_Higgs_Jet3L.T())\n",
      "            Higgs2ndJV=ROOT.TLorentzVector(CutsChain.Second_Higgs_Jet3L.X(),CutsChain.Second_Higgs_Jet3L.Y(),CutsChain.Second_Higgs_Jet3L.Z(),CutsChain.Second_Higgs_Jet3L.T())\n",
      "            J6thV=ROOT.TLorentzVector(CutsChain.Jet6th.X(),CutsChain.Jet6th.Y(),CutsChain.Jet6th.Z(),CutsChain.Jet6th.T())\n",
      "            TprimeV=ROOT.TLorentzVector(CutsChain.Reconstructed_Tprime3L.X(),CutsChain.Reconstructed_Tprime3L.Y(),CutsChain.Reconstructed_Tprime3L.Z(),CutsChain.Reconstructed_Tprime3L.T())\n",
      "            W1V=ROOT.TLorentzVector(CutsChain.Reconstructed_W3L.X(),CutsChain.Reconstructed_W3L.Y(),CutsChain.Reconstructed_W3L.Z(),CutsChain.Reconstructed_W3L.T())\n",
      "            Top2=HiggsV+J6thV\n",
      "            W2=Higgs2ndJV+J6thV\n",
      "            TopJV=ROOT.TLorentzVector(CutsChain.Top_Jet3L.X(),CutsChain.Top_Jet3L.Y(),CutsChain.Top_Jet3L.Z(),CutsChain.Top_Jet3L.T())\n",
      "            #M5J:DRHJ:DRWH:RelHT:M2HP:DRTp6thJ:HM:chi2:MTHAsym\n",
      "            ListOfVariables = [CutsChain.Reconstructed_Tprime3L.M(),\n",
      "                        Higgs1stJV.DeltaR(Higgs2ndJV),\n",
      "                        HiggsV.DeltaR(W1V),\n",
      "                        (CutsChain.Reconstructed_Higgs3L.Pt()+CutsChain.Reconstructed_Top3L.Pt())/CutsChain.THT,\n",
      "                        (Top2.M()+W2.M())/CutsChain.Reconstructed_Higgs3L.M(),\n",
      "                        TprimeV.DeltaR(J6thV),\n",
      "                        CutsChain.Reconstructed_Higgs3L.M(),\n",
      "                        (CutsChain.HiggsChi2+CutsChain.TopChi2),\n",
      "                        (CutsChain.Reconstructed_Top3L.M()-CutsChain.Reconstructed_Higgs3L.M())/(CutsChain.Reconstructed_Top3L.M()+CutsChain.Reconstructed_Higgs3L.M())]\n",
      "            if files.index(f)>=0 and files.index(f)<=NsignalFiles-1:\n",
      "                if InclusiveVersions.index(V)==0: NMassPointsE1[files.index(f)].Fill(array('f',ListOfVariables))\n",
      "                elif InclusiveVersions.index(V)==1: NMassPointsE2[files.index(f)].Fill(array('f',ListOfVariables))\n",
      "            elif files.index(f)==len(files)-3:\n",
      "                if InclusiveVersions.index(V)==0: TntupleE1.Fill(array('f',ListOfVariables))\n",
      "                elif InclusiveVersions.index(V)==1: TntupleE2.Fill(array('f',ListOfVariables))\n",
      "            elif files.index(f)>=len(files)-2:\n",
      "                if InclusiveVersions.index(V)==0: QntuplesE1[files.index(f)-len(files)+1].Fill(array('f',ListOfVariables))\n",
      "                elif InclusiveVersions.index(V)==1: QntuplesE2[files.index(f)-len(files)+1].Fill(array('f',ListOfVariables))"
     ],
     "language": "python",
     "metadata": {},
     "outputs": [
      {
       "output_type": "stream",
       "stream": "stdout",
       "text": [
        "Filling signal...\n",
        "Entries for file  TpJetM600_5318_Full_analyzed.root  are:  43263\n",
        "Filling signal..."
       ]
      },
      {
       "output_type": "stream",
       "stream": "stdout",
       "text": [
        "\n",
        "Entries for file  TpJetM650_5318_Full_analyzed.root  are:  58305\n",
        "Filling signal..."
       ]
      },
      {
       "output_type": "stream",
       "stream": "stdout",
       "text": [
        "\n",
        "Entries for file  TpJetM700_5318_Full_analyzed.root  are:  72441\n",
        "Filling signal..."
       ]
      },
      {
       "output_type": "stream",
       "stream": "stdout",
       "text": [
        "\n",
        "Entries for file  TpJetM750_5318_Full_analyzed.root  are:  80220\n",
        "Filling signal..."
       ]
      },
      {
       "output_type": "stream",
       "stream": "stdout",
       "text": [
        "\n",
        "Entries for file  TpJetM800_5318_Full_analyzed.root  are:  79509\n",
        "Filling signal..."
       ]
      },
      {
       "output_type": "stream",
       "stream": "stdout",
       "text": [
        "\n",
        "Entries for file  TpJetM850_5318_Full_analyzed.root  are:  83277\n",
        "Filling signal..."
       ]
      },
      {
       "output_type": "stream",
       "stream": "stdout",
       "text": [
        "\n",
        "Entries for file  TpJetM900_5318_Full_analyzed.root  are:  92352\n",
        "Filling signal..."
       ]
      },
      {
       "output_type": "stream",
       "stream": "stdout",
       "text": [
        "\n",
        "Entries for file  TpJetM950_5318_Full_analyzed.root  are:  87654\n",
        "Filling signal..."
       ]
      },
      {
       "output_type": "stream",
       "stream": "stdout",
       "text": [
        "\n",
        "Entries for file  TpJetM1000_5318_Full_analyzed.root  are:  84678\n",
        "Filling bkgs..."
       ]
      },
      {
       "output_type": "stream",
       "stream": "stdout",
       "text": [
        "\n",
        "Entries for file  TTJetsF_5318_Full_analyzed.root  are:  7699959\n",
        "Filling bkgs..."
       ]
      },
      {
       "output_type": "stream",
       "stream": "stdout",
       "text": [
        "\n",
        "Entries for file  QCD_HT_500_1000_5318_Full_analyzed.root  are:  432864\n",
        "Filling bkgs..."
       ]
      },
      {
       "output_type": "stream",
       "stream": "stdout",
       "text": [
        "\n",
        "Entries for file  QCD_HT_1000_Inf_5318_Full_analyzed.root  are:  925716\n",
        "Filling signal..."
       ]
      },
      {
       "output_type": "stream",
       "stream": "stdout",
       "text": [
        "\n",
        "Entries for file  TpJetM600_5318_Full_analyzed.root  are:  16434\n",
        "Filling signal..."
       ]
      },
      {
       "output_type": "stream",
       "stream": "stdout",
       "text": [
        "\n",
        "Entries for file  TpJetM650_5318_Full_analyzed.root  are:  22215\n",
        "Filling signal..."
       ]
      },
      {
       "output_type": "stream",
       "stream": "stdout",
       "text": [
        "\n",
        "Entries for file  TpJetM700_5318_Full_analyzed.root  are:  27804\n",
        "Filling signal..."
       ]
      },
      {
       "output_type": "stream",
       "stream": "stdout",
       "text": [
        "\n",
        "Entries for file  TpJetM750_5318_Full_analyzed.root  are:  31131\n",
        "Filling signal..."
       ]
      },
      {
       "output_type": "stream",
       "stream": "stdout",
       "text": [
        "\n",
        "Entries for file  TpJetM800_5318_Full_analyzed.root  are:  32382\n",
        "Filling signal..."
       ]
      },
      {
       "output_type": "stream",
       "stream": "stdout",
       "text": [
        "\n",
        "Entries for file  TpJetM850_5318_Full_analyzed.root  are:  33843\n",
        "Filling signal..."
       ]
      },
      {
       "output_type": "stream",
       "stream": "stdout",
       "text": [
        "\n",
        "Entries for file  TpJetM900_5318_Full_analyzed.root  are:  36048\n",
        "Filling signal..."
       ]
      },
      {
       "output_type": "stream",
       "stream": "stdout",
       "text": [
        "\n",
        "Entries for file  TpJetM950_5318_Full_analyzed.root  are:  35793\n",
        "Filling signal..."
       ]
      },
      {
       "output_type": "stream",
       "stream": "stdout",
       "text": [
        "\n",
        "Entries for file  TpJetM1000_5318_Full_analyzed.root  are:  33210\n",
        "Filling bkgs..."
       ]
      },
      {
       "output_type": "stream",
       "stream": "stdout",
       "text": [
        "\n",
        "Entries for file  TTJetsF_5318_Full_analyzed.root  are:  2357166\n",
        "Filling bkgs..."
       ]
      },
      {
       "output_type": "stream",
       "stream": "stdout",
       "text": [
        "\n",
        "Entries for file  QCD_HT_500_1000_5318_Full_analyzed.root  are:  111792\n",
        "Filling bkgs..."
       ]
      },
      {
       "output_type": "stream",
       "stream": "stdout",
       "text": [
        "\n",
        "Entries for file  QCD_HT_1000_Inf_5318_Full_analyzed.root  are:  239820\n"
       ]
      }
     ],
     "prompt_number": 5
    },
    {
     "cell_type": "heading",
     "level": 2,
     "metadata": {},
     "source": [
      "Declaring DATA files for inclusive validation"
     ]
    },
    {
     "cell_type": "code",
     "collapsed": false,
     "input": [
      "datafiles = [\"Full_Data.root\"]\n",
      "\n",
      "#TreeStructure=\"M5J:DRHJ:DRWH:RelHT:M2HP:DRTp6thJ:HM:chi2:MTHAsym\"\n",
      "\n",
      "#Control Sample CSVL=[0.389,0.679)\n",
      "DataE1 = ROOT.TNtuple(\"DatantupleE1\",\"DatantupleE1\",TreeStructure)\n",
      "\n",
      "#Control Sample CSVL=[0.534,0.679)\n",
      "DataE2 = ROOT.TNtuple(\"DatantupleE2\",\"DatantupleE2\",TreeStructure)"
     ],
     "language": "python",
     "metadata": {},
     "outputs": [],
     "prompt_number": 12
    },
    {
     "cell_type": "code",
     "collapsed": false,
     "input": [
      "for V in InclusiveVersions:\n",
      "    CutsChain=ROOT.TChain(\"stp3LNC\")\n",
      "    CutsChain.Add(Base+V+datafiles[0])\n",
      "    entries = CutsChain.GetEntries()\n",
      "    print \"Entries for file \", datafiles[0], \" are: \", entries\n",
      "    Entries=entries\n",
      "    for i in xrange(Entries):\n",
      "        CutsChain.GetEntry(i)\n",
      "        HiggsV=ROOT.TLorentzVector(CutsChain.Reconstructed_Higgs3L.X(),CutsChain.Reconstructed_Higgs3L.Y(),CutsChain.Reconstructed_Higgs3L.Z(),CutsChain.Reconstructed_Higgs3L.T())\n",
      "        Higgs1stJV=ROOT.TLorentzVector(CutsChain.First_Higgs_Jet3L.X(),CutsChain.First_Higgs_Jet3L.Y(),CutsChain.First_Higgs_Jet3L.Z(),CutsChain.First_Higgs_Jet3L.T())\n",
      "        Higgs2ndJV=ROOT.TLorentzVector(CutsChain.Second_Higgs_Jet3L.X(),CutsChain.Second_Higgs_Jet3L.Y(),CutsChain.Second_Higgs_Jet3L.Z(),CutsChain.Second_Higgs_Jet3L.T())\n",
      "        J6thV=ROOT.TLorentzVector(CutsChain.Jet6th.X(),CutsChain.Jet6th.Y(),CutsChain.Jet6th.Z(),CutsChain.Jet6th.T())\n",
      "        TprimeV=ROOT.TLorentzVector(CutsChain.Reconstructed_Tprime3L.X(),CutsChain.Reconstructed_Tprime3L.Y(),CutsChain.Reconstructed_Tprime3L.Z(),CutsChain.Reconstructed_Tprime3L.T())\n",
      "        W1V=ROOT.TLorentzVector(CutsChain.Reconstructed_W3L.X(),CutsChain.Reconstructed_W3L.Y(),CutsChain.Reconstructed_W3L.Z(),CutsChain.Reconstructed_W3L.T())\n",
      "        Top2=HiggsV+J6thV\n",
      "        W2=Higgs2ndJV+J6thV\n",
      "        TopJV=ROOT.TLorentzVector(CutsChain.Top_Jet3L.X(),CutsChain.Top_Jet3L.Y(),CutsChain.Top_Jet3L.Z(),CutsChain.Top_Jet3L.T())\n",
      "        #M5J:DRHJ:DRWH:RelHT:M2HP:DRTp6thJ:HM:chi2:MTHAsym\n",
      "        ListOfVariables = [CutsChain.Reconstructed_Tprime3L.M(),\n",
      "                        Higgs1stJV.DeltaR(Higgs2ndJV),\n",
      "                        HiggsV.DeltaR(W1V),\n",
      "                        (CutsChain.Reconstructed_Higgs3L.Pt()+CutsChain.Reconstructed_Top3L.Pt())/CutsChain.THT,\n",
      "                        (Top2.M()+W2.M())/CutsChain.Reconstructed_Higgs3L.M(),\n",
      "                        TprimeV.DeltaR(J6thV),\n",
      "                        CutsChain.Reconstructed_Higgs3L.M(),\n",
      "                        (CutsChain.HiggsChi2+CutsChain.TopChi2),\n",
      "                        (CutsChain.Reconstructed_Top3L.M()-CutsChain.Reconstructed_Higgs3L.M())/(CutsChain.Reconstructed_Top3L.M()+CutsChain.Reconstructed_Higgs3L.M())]\n",
      "        if InclusiveVersions.index(V)==0: DataE1.Fill(array('f',ListOfVariables))\n",
      "        elif InclusiveVersions.index(V)==1: DataE2.Fill(array('f',ListOfVariables))"
     ],
     "language": "python",
     "metadata": {},
     "outputs": [
      {
       "output_type": "stream",
       "stream": "stdout",
       "text": [
        "Entries for file  Full_Data.root  are:  4860615\n",
        "Entries for file "
       ]
      },
      {
       "output_type": "stream",
       "stream": "stdout",
       "text": [
        " Full_Data.root  are:  1227348\n"
       ]
      }
     ],
     "prompt_number": 13
    },
    {
     "cell_type": "heading",
     "level": 3,
     "metadata": {},
     "source": [
      "Saving Ntuples in a numpy array"
     ]
    },
    {
     "cell_type": "code",
     "collapsed": false,
     "input": [
      "#FullMCArray=np.array([[NMassPointsA,TntupleA,QntuplesA],\n",
      "#                      [NMassPointsE,TntupleE,QntuplesE],\n",
      "#                      [NMassPointsE1,TntupleE1,QntuplesE1],\n",
      "#                      [NMassPointsE2,TntupleE2,QntuplesE2]])\n",
      "#FullMCSampleFile=\"FullMC_inclusive_bkg_estm_val_\"+VersionProc+\"_\"+InclusiveVersions[0][:-1]+\"_\"+InclusiveVersions[1][:-1]\n",
      "\n",
      "FullDataArray=np.array([DataA,DataE,DataE1,DataE2])\n",
      "DataSampleFile=\"FullData_inclusive_bkg_estm_val_\"+VersionProc+\"_\"+InclusiveVersions[0][:-1]+\"_\"+InclusiveVersions[1][:-1]\n",
      "\n",
      "#np.save(FullMCSampleFile,FullMCArray)\n",
      "np.save(DataSampleFile,FullDataArray)"
     ],
     "language": "python",
     "metadata": {},
     "outputs": [],
     "prompt_number": 14
    },
    {
     "cell_type": "heading",
     "level": 3,
     "metadata": {},
     "source": [
      "Loading Ntuples in a numpy array (OPTIONAL)"
     ]
    },
    {
     "cell_type": "code",
     "collapsed": false,
     "input": [
      "FullMCSampleFile=\"FullMC_inclusive_bkg_estm_val_\"+VersionProc+\"_\"+InclusiveVersions[0][:-1]+\"_\"+InclusiveVersions[1][:-1]\n",
      "DataSampleFile=\"FullData_inclusive_bkg_estm_val_\"+VersionProc+\"_\"+InclusiveVersions[0][:-1]+\"_\"+InclusiveVersions[1][:-1]\n",
      "SubBKGMCSampleFiles=\"SubBKGMC_inclusive_Version121_Version122_Version123.npy\"\n",
      "                                                                                                                                                                                                                                                                                                                                                                                                                                                                                                                                                                                                                                                                                                                                                                                                                                                                                                                                                                                                                                                                                                                                                                                                                                                                                                                                                                                                                                                                    \n",
      "DataArray=np.load(DataSampleFile+\".npy\")\n",
      "MCArray=np.load(FullMCSampleFile+\".npy\")\n",
      "SubBKGArray=np.load(SubBKGMCSampleFiles)\n",
      "\n",
      "DataA=DataArray[0]; DataE=DataArray[1]; DataE1=DataArray[2]; DataE2=DataArray[3] \n",
      "NMassPointsA=MCArray[0][0]; TntupleA=MCArray[0][1]; QntuplesA=MCArray[0][2]\n",
      "NMassPointsE=MCArray[1][0]; TntupleE=MCArray[1][1]; QntuplesE=MCArray[1][2]\n",
      "NMassPointsE1=MCArray[2][0]; TntupleE1=MCArray[2][1]; QntuplesE1=MCArray[2][2]\n",
      "NMassPointsE2=MCArray[3][0]; TntupleE2=MCArray[3][1]; QntuplesE2=MCArray[3][2]\n",
      "print DataA.GetEntries(), DataE.GetEntries(), DataE1.GetEntries(), DataE2.GetEntries()\n",
      "#print len(NMassPointsA), len(NMassPointsE)\n",
      "print NMassPointsA[2].GetEntries(), TntupleA.GetEntries(), QntuplesA[0].GetEntries()\n",
      "print NMassPointsE[2].GetEntries(), TntupleE.GetEntries(), QntuplesE[0].GetEntries()\n",
      "print NMassPointsE1[2].GetEntries(), TntupleE1.GetEntries(), QntuplesE1[0].GetEntries()\n",
      "print NMassPointsE2[2].GetEntries(), TntupleE2.GetEntries(), QntuplesE2[0].GetEntries()"
     ],
     "language": "python",
     "metadata": {},
     "outputs": [
      {
       "output_type": "stream",
       "stream": "stdout",
       "text": [
        "41036 22959156 4860615 1227348\n",
        "4350 117799 9087\n",
        "171063 23336964 4208493\n",
        "72441 7699959 925716\n",
        "27804 2357166 239820\n"
       ]
      }
     ],
     "prompt_number": 4
    },
    {
     "cell_type": "code",
     "collapsed": false,
     "input": [
      "TryF = ROOT.TFile(\"Try.root\", \"recreate\")\n",
      "NMassPointsA[2].Write()\n",
      "TryF.Close()"
     ],
     "language": "python",
     "metadata": {},
     "outputs": [],
     "prompt_number": 9
    },
    {
     "cell_type": "code",
     "collapsed": false,
     "input": [
      "#Sntuple.Print()\n",
      "#\"M5J:DRHJ:DRWH:RelHT:Eta6thJ:M2HP:DRTp6thJ:HM:chi2:MTHAsym\"\n",
      "Cut1 = ROOT.TCut(\"chi2<620\")\n",
      "CutDRbb = ROOT.TCut(\"DRHJ<=1.2\")\n",
      "CutDRWH = ROOT.TCut(\"DRWH>=1.6 && DRWH<=4.0\")\n",
      "CutHM = ROOT.TCut(\"HM>=105 && HM<=145\")\n",
      "CutM2HP = ROOT.TCut(\"M2HP>7.5\")\n",
      "CutRelHT = ROOT.TCut(\"RelHT>=0.7\")\n",
      "CutDRTp6thJ = ROOT.TCut(\"DRTp6thJ>4.5\")\n",
      "CutMTHAsym = ROOT.TCut(\"MTHAsym>=-0.02 && MTHAsym<=0.38\")\n",
      "FinalCut=Cut1*CutDRbb*CutDRWH*CutM2HP*CutDRTp6thJ*CutHM*CutRelHT*CutMTHAsym\n",
      "\n",
      "Lumi=19694.471\n",
      "\n",
      "SWeight=Lumi*(0.57/0.94)*0.1437/99984.\n",
      "\n",
      "TWeight=Lumi*245.8/61941200.\n",
      "\n",
      "########################################################\n",
      "###################Set QCD FLAG#########################\n",
      "########################################################\n",
      "\n",
      "QCDPTFLAG=True #To include QCD PT hat samples\n",
      "\n",
      "NevtsQCDHT=[29320000.,13720000.]\n",
      "XSQCDHT=[8426.0,204.0]\n",
      "Q500Weight=Lumi*8426.0/29320000.\n",
      "Q1000Weight=Lumi*204.0/13720000.\n",
      "if QCDPTFLAG: \n",
      "    QWeights=Lumi*np.array(XSQCDHT)*0.5/np.array(NevtsQCDHT)\n",
      "else: \n",
      "    QWeights=Lumi*np.array(XSQCDHT)/np.array(NevtsQCDHT)\n",
      "#5985732\n",
      "NevtsQCDPT=[100000.,5814398.,5978500.,3994848.,3996864.,3998563.]\n",
      "XSQCDPT=[156293.3, 34138.15, 1759.549, 113.8791, 26.9921, 3.550036]\n",
      "if QCDPTFLAG: \n",
      "    QCDPTWeights=Lumi*np.array(XSQCDPT)*0.5/np.array(NevtsQCDPT)\n",
      "else: \n",
      "    QCDPTWeights=Lumi*np.array(XSQCDPT)/np.array(NevtsQCDPT)\n",
      "\n",
      "#########################################################\n",
      "\n",
      "NevtsMassPoints=[92190.,99292.,99984.,99984.,96388.,99995.,99984.,96791.,99991.]\n",
      "XSNevtsMassPoints=[0.2154,0.1778,0.1437,0.1186,0.1,0.0843,0.0726,0.0626,0.0539]\n",
      "NWeights=Lumi*(0.57/0.94)*np.array(XSNevtsMassPoints)/np.array(NevtsMassPoints)\n",
      "\n",
      "NevtsDiboson=[9799908.,10000283.,10000431.]\n",
      "XSDiboson=[8.258, 33.72, 54.838]\n",
      "DibosonWeights=Lumi*np.array(XSDiboson)/np.array(NevtsDiboson)\n",
      "\n",
      "NevtsSingleT=[259961.,3758227.,497658.,139974.,1935072.,493460.]\n",
      "XSSingleT=[2.82, 47, 10.7, 1.57, 25., 10.7]\n",
      "SingleTWeights=Lumi*np.array(XSSingleT)/np.array(NevtsSingleT)\n",
      "\n",
      "NevtsDY=[2002752.,1998713.]\n",
      "XSDY=[3840.86, 3060.099]\n",
      "DYWeights=Lumi*np.array(XSDY)/np.array(NevtsDY)"
     ],
     "language": "python",
     "metadata": {},
     "outputs": [],
     "prompt_number": 24
    },
    {
     "cell_type": "heading",
     "level": 3,
     "metadata": {},
     "source": [
      "Nminus1 plots, Analysis selection"
     ]
    },
    {
     "cell_type": "code",
     "collapsed": false,
     "input": [
      "CutsNm1=[Cut1,CutDRbb,CutDRWH,CutM2HP,CutDRTp6thJ,CutHM,CutRelHT]\n",
      "OptVersion=\"_\"+VersionProc+\"_\"+InclusiveVersions[0][:-1]+\"_\"+InclusiveVersions[1][:-1]\n",
      "\n",
      "CumulCut=ROOT.TCut(\"\")\n",
      "SF=ROOT.TCut(\"weight\")\n",
      "PU=ROOT.TCut(\"PUR_function(NTI)\")\n",
      "#CMC=ROOT.TCut(\"weight*PUR_function(NTI)\")\n",
      "CMC=ROOT.TCut(\"\")\n",
      "#CumulCut=CMC\n",
      "\n",
      "#\"M5J:DRHJ:DRWH:RelHT:Eta6thJ:M2HP:DRTp6thJ:HM:chi2:MTHAsym\"\n",
      "\n",
      "PDFName=\"Nminus1_AnaSel_\"+OptVersion+\".pdf\"\n",
      "CurCanv = rootnotes.canvas(\"MyPlot\", (600, 800))\n",
      "Titles=[\"DRHJ\",\"DRWH\", \"M2HP\", \"DRTp6thJ\", \"HM\", \"RelHT\", \"MTHAsym\"]\n",
      "\n",
      "BinsLimits=[\"(30,0.5,7)\",\"(40,0.5,10)\",\"(41,0,20)\",\"(30,0.5,10)\",\"(25,60,190)\",\"(20,0.1,1.0)\",\"(30,-0.5,1)\"]\n",
      "Units=[\"\",\"\",\"\",\"\",\"GeV/c^{2}\",\"\",\"\"]\n",
      "XaxisT=[\"#Delta R(bb)\", \"#Delta R(WH)\", \"(M(t^{2nd})+M(W^{2nd}))/M(H)\", \"#Delta R (T' j^{6})\", \"M(H)\",\n",
      "        \"Relative H_{T}\", \"(M(t)-M(H))/(M(t)+M(H))\"]\n",
      "\n",
      "ValString=[\"Data\",\"TTbar\",\"QCD\",\"MC-Sum\"]\n",
      "\n",
      "for i in xrange(len(CutsNm1)):\n",
      "    TTbarNm1Histos=[]; DataNm1Histos=[]; QCDNm1Histos=[]\n",
      "    SingleTNm1Histos=[]; DibosonNm1Histos=[]; DYNm1Histos=[]\n",
      "    SignalNm1Histos=[]\n",
      "    \n",
      "    CumulCut=CumulCut*CutsNm1[i]\n",
      "    MCArray[0][0][2].Draw(Titles[i]+\" >> \"+Titles[i]+\"S_Cut\"+str(i)+BinsLimits[i],CumulCut*CMC)\n",
      "    SignalNm1Histos.append(ROOT.gDirectory.Get(Titles[i]+\"S_Cut\"+str(i)))\n",
      "    SignalNm1Histos[-1].Sumw2(); SignalNm1Histos[-1].Scale(SWeight)\n",
      "    \n",
      "    MCArray[0][1].Draw(Titles[i]+\" >> \"+Titles[i]+\"T_Cut\"+str(i)+BinsLimits[i],CumulCut*CMC)\n",
      "    TTbarNm1Histos.append(ROOT.gDirectory.Get(Titles[i]+\"T_Cut\"+str(i)))\n",
      "    TTbarNm1Histos[-1].Sumw2(); TTbarNm1Histos[-1].Scale(TWeight) #; TTbarHistos[-1].Write()\n",
      "                \n",
      "    QCDHT=[]\n",
      "    MCArray[0][2][0].Draw(Titles[i]+\" >> \"+Titles[i]+\"Q500_Cut\"+str(i)+BinsLimits[i],CumulCut*CMC)\n",
      "    QCDHT.append(ROOT.gDirectory.Get(Titles[i]+\"Q500_Cut\"+str(i)))\n",
      "    QCDHT[-1].Sumw2(); QCDHT[-1].Scale(QWeights[0]) #; QCD500Histos[-1].Write()\n",
      "        \n",
      "    MCArray[0][2][1].Draw(Titles[i]+\" >> \"+Titles[i]+\"Q1000_Cut\"+str(i)+BinsLimits[i],CumulCut*CMC)\n",
      "    QCDHT.append(ROOT.gDirectory.Get(Titles[i]+\"Q1000_Cut\"+str(i)))\n",
      "    QCDHT[-1].Sumw2(); QCDHT[-1].Scale(QWeights[1]) #; QCD1000Histos[-1].Write()\n",
      "    \n",
      "    STHT=[]\n",
      "    for k in xrange(len(SubBKGArray[0][0])): #Single Top\n",
      "        if SubBKGArray[0][0][k].GetEntries()>0:\n",
      "            SubBKGArray[0][0][k].Draw(Titles[i]+\" >> \"+Titles[i]+\"ST_Cut\"+str(i)+\"_\"+str(k)+BinsLimits[i],CumulCut*CMC)\n",
      "            STHT.append(ROOT.gDirectory.Get(Titles[i]+\"ST_Cut\"+str(i)+\"_\"+str(k)))\n",
      "            STHT[-1].Sumw2(); STHT[-1].Scale(SingleTWeights[k])\n",
      "    SingleTNm1Histos.append(STHT)\n",
      "            \n",
      "    DiHT=[]\n",
      "    for k in xrange(len(SubBKGArray[0][1])): #Diboson\n",
      "        if SubBKGArray[0][1][k].GetEntries()>0:\n",
      "            SubBKGArray[0][1][k].Draw(Titles[i]+\" >> \"+Titles[i]+\"Di_Cut\"+str(i)+\"_\"+str(k)+BinsLimits[i],CumulCut*CMC)\n",
      "            DiHT.append(ROOT.gDirectory.Get(Titles[i]+\"Di_Cut\"+str(i)+\"_\"+str(k)))\n",
      "            DiHT[-1].Sumw2(); DiHT[-1].Scale(DibosonWeights[k])\n",
      "    DibosonNm1Histos.append(DiHT)\n",
      "        \n",
      "    DYHT=[]\n",
      "    for k in xrange(len(SubBKGArray[0][2])): #DY\n",
      "        if SubBKGArray[0][2][k].GetEntries()>0:\n",
      "            SubBKGArray[0][2][k].Draw(Titles[i]+\" >> \"+Titles[i]+\"DY_Cut\"+str(i)+\"_\"+str(k)+BinsLimits[i],CumulCut*CMC)\n",
      "            DYHT.append(ROOT.gDirectory.Get(Titles[i]+\"DY_Cut\"+str(i)+\"_\"+str(k)))\n",
      "            DYHT[-1].Sumw2(); DYHT[-1].Scale(DYWeights[k])\n",
      "    DYNm1Histos.append(DYHT)\n",
      "        \n",
      "    if QCDPTFLAG: \n",
      "        for k in xrange(len(SubBKGArray[0][3])): #QCD PT hat\n",
      "            if SubBKGArray[0][3][k].GetEntries()>0:\n",
      "                SubBKGArray[0][3][k].Draw(Titles[i]+\" >> \"+Titles[i]+\"QCDPT_Cut\"+str(i)+\"_\"+str(k)+BinsLimits[i],CumulCut*CMC)\n",
      "                QCDHT.append(ROOT.gDirectory.Get(Titles[i]+\"QCDPT_Cut\"+str(i)+\"_\"+str(k)))\n",
      "                QCDHT[-1].Sumw2(); QCDHT[-1].Scale(QCDPTWeights[k])\n",
      "    QCDNm1Histos.append(QCDHT)\n",
      "\n",
      "    QCDFull=QCDNm1Histos[-1][0].Clone(Titles[i]+\"Q_Cut\"+str(i))\n",
      "    for k in QCDNm1Histos[-1][1:]:\n",
      "        QCDFull.Add(k)\n",
      "        \n",
      "    SingleTFull=SingleTNm1Histos[-1][0].Clone(Titles[i]+\"ST_Cut\"+str(i))\n",
      "    for k in SingleTNm1Histos[-1][1:]:\n",
      "        SingleTFull.Add(k)\n",
      "    \n",
      "    DibosonFull=DibosonNm1Histos[-1][0].Clone(Titles[i]+\"Di_Cut\"+str(i))\n",
      "    for k in DibosonNm1Histos[-1][1:]:\n",
      "        DibosonFull.Add(k)\n",
      "        \n",
      "    DYFull=DYNm1Histos[-1][0].Clone(Titles[i]+\"DY_Cut\"+str(i))\n",
      "    for k in DYNm1Histos[-1][1:]:\n",
      "        DYFull.Add(k)\n",
      "    \n",
      "    MCFull=QCDFull.Clone(Titles[i]+\"MC_Cut\"+str(i))\n",
      "    MCFull.Add(TTbarNm1Histos[-1])\n",
      "    MCFull.Add(SingleTFull)\n",
      "    MCFull.Add(DibosonFull)\n",
      "    MCFull.Add(DYFull)\n",
      "\n",
      "    DataArray[0].Draw(Titles[i]+\" >> \"+Titles[i]+\"D_Cut\"+str(i)+BinsLimits[i],CumulCut)\n",
      "    DataNm1Histos.append(ROOT.gDirectory.Get(Titles[i]+\"D_Cut\"+str(i)))\n",
      "\n",
      "    ROOT.gPad.Clear()\n",
      "\n",
      "    CurrentStyle=ROOT.TStyle(\"CStyle\",\"Style for Plotting\")\n",
      "    \n",
      "    CurrentStyle.SetTitleSize(0.08, \"Y\")\n",
      "    CurrentStyle.SetTitleYOffset(1.5)\n",
      "                \n",
      "    CurCanv1 = rootnotes.canvas(\"MyPlot\", (600, 800))\n",
      "    CurCanv1.cd(1)\n",
      "    Pad1=ROOT.TPad(\"pad1\",\"pad1\",0,0.3,1,1)\n",
      "    Pad1.SetBottomMargin(0)\n",
      "    Pad1.SetLeftMargin(0.16)\n",
      "    Pad1.Draw()\n",
      "    Pad1.cd()\n",
      "        \n",
      "    MCFull.SetStats(ROOT.kFALSE)\n",
      "    MinX=float(BinsLimits[i].split(\",\")[1])\n",
      "    MaxX=float(BinsLimits[i].split(\",\")[-1][0:-1])\n",
      "    Nbins=int(BinsLimits[i].split(\",\")[0][1:])\n",
      "    if i!=5: MCFull.SetTitle(\";;Events/{0:.1f} \".format((MaxX-MinX)/Nbins)+Units[i])\n",
      "    else: MCFull.SetTitle(\";;Events/{0:.2f} \".format((MaxX-MinX)/Nbins)+Units[i])\n",
      "    SetAxis(MCFull,'Y',1.45,0.05,0.007,0.05,510)\n",
      "    SetAxis(DataNm1Histos[-1],'Y',1.45,0.05,0.007,0.05,510)\n",
      "    SetAxis(SignalNm1Histos[-1],'Y',1.45,0.05,0.007,0.05,510)\n",
      "    SetAxis(TTbarNm1Histos[-1],'Y',1.45,0.05,0.007,0.05,510)\n",
      "    SetAxis(QCDFull,'Y',1.45,0.05,0.007,0.05,510)\n",
      "    SetAxis(SingleTFull,'Y',1.45,0.05,0.007,0.05,510)\n",
      "    SetAxis(DibosonFull,'Y',1.45,0.05,0.007,0.05,510)\n",
      "    SetAxis(DYFull,'Y',1.45,0.05,0.007,0.05,510)\n",
      "    \n",
      "    SetCos(DataNm1Histos[-1],0,0,ROOT.kBlack,2,1,20)\n",
      "    SetCos(SignalNm1Histos[-1],ROOT.kSpring,3444,ROOT.kBlack,2,1,1)\n",
      "    SetCos(TTbarNm1Histos[-1],ROOT.kRed,3345,ROOT.kBlack,1,1,1)\n",
      "    SetCos(QCDFull,ROOT.kViolet,1001,ROOT.kBlack,1,1,1)\n",
      "    SetCos(SingleTFull,ROOT.kBlack,3305,ROOT.kBlack,1,1,1)\n",
      "    SetCos(DibosonFull,ROOT.kWhite,1001,ROOT.kBlack,1,1,1)\n",
      "    SetCos(DYFull,ROOT.kBlue,1001,ROOT.kBlack,1,1,1)\n",
      "    SetCos(MCFull,ROOT.kGray+2,1001,ROOT.kGray+2,1,1,1)\n",
      "            \n",
      "    CloneD=DataNm1Histos[-1].Clone(\"CopyD\"); CloneMC=MCFull.Clone(\"CopyMC\")\n",
      "    if i!=5: AllBKGStack=ROOT.THStack(\"AllBKGStack\", \";;Events/{0:.1f} \".format((MaxX-MinX)/Nbins)+Units[i])\n",
      "    else: AllBKGStack=ROOT.THStack(\"AllBKGStack\", \";;Events/{0:.2f} \".format((MaxX-MinX)/Nbins)+Units[i])\n",
      "    AllBKGStack.Add(DibosonFull); AllBKGStack.Add(SingleTFull)\n",
      "    AllBKGStack.Add(TTbarNm1Histos[-1]); AllBKGStack.Add(DYFull); AllBKGStack.Add(QCDFull)\n",
      "    AllBKGStack.SetMinimum(0.3)\n",
      "    \n",
      "    if i!=5: LEG=ROOT.TLegend(0.6,0.6,0.9,0.9)\n",
      "    else: LEG=ROOT.TLegend(0.2,0.6,0.5,0.9)\n",
      "    #LEG.AddEntry(DataNm1Histos[-1], \"Data\", \"p\")\n",
      "    LEG.AddEntry(QCDFull, \"QCD\", \"f\")\n",
      "    LEG.AddEntry(DYFull, \"Zjets\", \"f\")\n",
      "    LEG.AddEntry(TTbarNm1Histos[-1], \"TTbar\", \"f\")\n",
      "    LEG.AddEntry(SingleTFull, \"Single Top\", \"f\")\n",
      "    LEG.AddEntry(DibosonFull, \"Diboson\", \"f\")\n",
      "    LEG.AddEntry(SignalNm1Histos[-1], \"Signal M(T')=700 GeV/c^{2}\", \"f\")\n",
      "    LEG.SetFillColor(0)\n",
      "    AllBKGStack.Draw(\"hist\"); MCFull.Draw(\"e2 same\")\n",
      "    SignalNm1Histos[-1].Draw(\"hist same\"); #DataNm1Histos[-1].Draw(\"E0X0 same\")\n",
      "    if i!=len(CutsNm1): Pad1.SetLogy(); Pad1.RedrawAxis()\n",
      "    \n",
      "    LEG.Draw()\n",
      "    CurrentStyle.SetPadTickX(1)\n",
      "    CurCanv1.cd()\n",
      "        \n",
      "    Pad2=ROOT.TPad(\"pad2\",\"pad2\",0,0,1,0.3)\n",
      "    Pad2.SetTopMargin(0)\n",
      "    Pad2.SetLeftMargin(0.16)\n",
      "    Pad2.SetBottomMargin(0.25)\n",
      "    Pad2.Draw()\n",
      "    Pad2.cd()\n",
      "        \n",
      "    CloneMC.SetMinimum(0.1); CloneMC.SetMaximum(1.9)\n",
      "    CloneMC.Sumw2()\n",
      "    CloneMC.SetStats(0)\n",
      "    CloneMC.SetTitle(\";\"+XaxisT[i]+\" \"+Units[i]+\";Data/MC\")\n",
      "    CloneMC.Divide(MCFull)\n",
      "    CloneMC.SetFillStyle(1001)\n",
      "    SetAxis(CloneMC,'X',0.9,0.09,0.007,0.09,510)\n",
      "    SetAxis(CloneMC,'Y',0.75,0.09,0.007,0.09,404)\n",
      "    CloneMC.Draw(\"E2\")\n",
      "        \n",
      "    CloneD.Sumw2()\n",
      "    #CloneD.Scale(HistosToplot[0].Integral()/CloneE.Integral()); CloneE.SetStats(0)\n",
      "    CloneD.SetTitle(\";\"+XaxisT[i]+\" \"+Units[i]+\";Data/MC\")\n",
      "    CloneD.Divide(MCFull)\n",
      "    #CloneD.Draw(\"E0X0 same\")\n",
      "        \n",
      "    if i==0: CurCanv1.Print(PDFName+\"(\",\"Title:\"+Titles[i])\n",
      "    elif i==(len(CutsNm1)-1): CurCanv1.Print(PDFName+\")\",\"Title:\"+Titles[i])\n",
      "    else: CurCanv1.Print(PDFName,\"Title:\"+Titles[i])\n",
      "        \n",
      "    CurCanv1.Clear(); CurrentStyle.SetPadTickX(0)\n",
      "    CurCanv1.cd(1)\n",
      "                    \n",
      "    #del(HistosToplot); del(CurCanv1); del(Pad1); del(Pad2)\n",
      "    #del(CloneA); del(CloneE); del(CloneE1); del(CloneE2)"
     ],
     "language": "python",
     "metadata": {},
     "outputs": [
      {
       "output_type": "stream",
       "stream": "stderr",
       "text": [
        "TH1F::Sumw2:0: RuntimeWarning: Sum of squares of weights structure already created\n",
        "TH1F::Sumw2:0: RuntimeWarning: Sum of squares of weights structure already created\n"
       ]
      },
      {
       "output_type": "stream",
       "stream": "stderr",
       "text": [
        "TH1F::Sumw2:0: RuntimeWarning: Sum of squares of weights structure already created\n",
        "TH1F::Sumw2:0: RuntimeWarning: Sum of squares of weights structure already created\n"
       ]
      },
      {
       "output_type": "stream",
       "stream": "stderr",
       "text": [
        "TH1F::Sumw2:0: RuntimeWarning: Sum of squares of weights structure already created\n",
        "TH1F::Sumw2:0: RuntimeWarning: Sum of squares of weights structure already created\n"
       ]
      },
      {
       "output_type": "stream",
       "stream": "stderr",
       "text": [
        "TH1F::Sumw2:0: RuntimeWarning: Sum of squares of weights structure already created\n"
       ]
      }
     ],
     "prompt_number": 50
    },
    {
     "cell_type": "heading",
     "level": 2,
     "metadata": {},
     "source": [
      "VALIDATION"
     ]
    },
    {
     "cell_type": "code",
     "collapsed": false,
     "input": [
      "CutsFromOpt=[ROOT.TCut(\"\"),Cut1,CutDRbb,CutDRWH,CutM2HP,CutDRTp6thJ,CutHM,CutRelHT,CutMTHAsym]\n",
      "OptVersion=\"_bkgestimation_with_optchi2_\"+VersionProc+\"_\"+InclusiveVersions[0][:-1]+\"_\"+InclusiveVersions[1][:-1]\n",
      "\n",
      "CumulCut=ROOT.TCut(\"\")\n",
      "\n",
      "PDFName=\"Nminus1\"+OptVersion+\".pdf\"\n",
      "CurCanv = rootnotes.canvas(\"MyPlot\", (600, 800))\n",
      "Titles=[\"Base\",\"chi2\", \"DRbb\", \"DRWH\", \"M2HP\", \"DRTp6thJ\", \"HiggsMass\", \"RelHT\", \"MTHAsym\"]\n",
      "\n",
      "SignalWEntries=[]; QCDWEntries=[]; TopWEntries=[]; DibosonWEntries=[]\n",
      "\n",
      "BinsLimits=\"(30,400,1600)\"\n",
      "\n",
      "ValString=[\"Data\",\"TTbar\",\"QCD\",\"MC-Sum\"]\n",
      "WP=[\" CSVM\",\" [0.244,0.679)\",\" [0.389,0.679)\",\" [0.534,0.679)\"]\n",
      "\n",
      "for i in xrange(len(CutsFromOpt)):\n",
      "    TTbarHistos=[]; QCD500Histos=[]; QCD1000Histos=[]; DataHistos=[]; QCDHistos=[]; MCHistos=[]\n",
      "    SingleTHistos=[]; QCDPTHistos=[]; DibosonHistos=[]; DYHistos=[]; SignalHistos=[]\n",
      "    for j in xrange(len(MCArray)):\n",
      "        CumulCut=CumulCut*CutsFromOpt[i]\n",
      "        \n",
      "        SHT=[]; SEnT=[]\n",
      "        if (i==(len(CutsFromOpt)-1) and j==0): MassesHistosf = ROOT.TFile(\"Histos_Masses_Afterfullsel.root\", \"recreate\")\n",
      "        for k in xrange(len(MCArray[j][0])): #Signal            \n",
      "            if MCArray[j][0][k].GetEntries()>0:\n",
      "                MCArray[j][0][k].Draw(\"M5J >> M5jSi_Cut\"+str(i)+\"_\"+str(j)+\"_\"+str(k)+BinsLimits,CumulCut)\n",
      "                SHT.append(ROOT.gDirectory.Get(\"M5jSi_Cut\"+str(i)+\"_\"+str(j)+\"_\"+str(k)))\n",
      "                SHT[-1].Sumw2(); SHT[-1].Scale(NWeights[k])\n",
      "                if (i==(len(CutsFromOpt)-1) and j==0): SHT[-1].Write()\n",
      "                if j==0: SEnT.append(SHT[-1].GetEntries())\n",
      "        SignalHistos.append(SHT)\n",
      "        if (i==(len(CutsFromOpt)-1) and j==0): MassesHistosf.Close()\n",
      "        if j==0: SignalWEntries.append(SEnT)\n",
      "        \n",
      "        MCArray[j][1].Draw(\"M5J >> M5jT_Cut\"+str(i)+\"_\"+str(j)+BinsLimits,CumulCut)\n",
      "        TTbarHistos.append(ROOT.gDirectory.Get(\"M5jT_Cut\"+str(i)+\"_\"+str(j)))\n",
      "        TTbarHistos[-1].Sumw2(); TTbarHistos[-1].Scale(TWeight) #; TTbarHistos[-1].Write()\n",
      "        if j==0: TopWEntries.append(TTbarHistos[-1].GetEntries()*TWeight)\n",
      "                \n",
      "        MCArray[j][2][0].Draw(\"M5J >> M5jQ500_Cut\"+str(i)+\"_\"+str(j)+BinsLimits,CumulCut)\n",
      "        QCD500Histos.append(ROOT.gDirectory.Get(\"M5jQ500_Cut\"+str(i)+\"_\"+str(j)))\n",
      "        QCD500Histos[-1].Sumw2(); QCD500Histos[-1].Scale(QWeights[0]) #; QCD500Histos[-1].Write()\n",
      "        if j==0: QCDWEntries.append(QCD500Histos[-1].GetEntries()*QWeights[0])\n",
      "        \n",
      "        MCArray[j][2][1].Draw(\"M5J >> M5jQ1000_Cut\"+str(i)+\"_\"+str(j)+BinsLimits,CumulCut)\n",
      "        QCD1000Histos.append(ROOT.gDirectory.Get(\"M5jQ1000_Cut\"+str(i)+\"_\"+str(j)))\n",
      "        QCD1000Histos[-1].Sumw2(); QCD1000Histos[-1].Scale(QWeights[1]) #; QCD1000Histos[-1].Write()\n",
      "        if j==0: QCDWEntries[-1]+=QCD1000Histos[-1].GetEntries()*QWeights[1]\n",
      "        \n",
      "        STHT=[]\n",
      "        for k in xrange(len(SubBKGArray[j][0])): #Single Top\n",
      "            if SubBKGArray[j][0][k].GetEntries()>0:\n",
      "                SubBKGArray[j][0][k].Draw(\"M5J >> M5jST_Cut\"+str(i)+\"_\"+str(j)+\"_\"+str(k)+BinsLimits,CumulCut)\n",
      "                STHT.append(ROOT.gDirectory.Get(\"M5jST_Cut\"+str(i)+\"_\"+str(j)+\"_\"+str(k)))\n",
      "                STHT[-1].Sumw2(); STHT[-1].Scale(SingleTWeights[k])\n",
      "                if j==0: TopWEntries[-1]+=STHT[-1].GetEntries()*SingleTWeights[k]\n",
      "        SingleTHistos.append(STHT)\n",
      "            \n",
      "        DiHT=[]; DiE=0\n",
      "        for k in xrange(len(SubBKGArray[j][1])): #Diboson\n",
      "            if SubBKGArray[j][1][k].GetEntries()>0:\n",
      "                SubBKGArray[j][1][k].Draw(\"M5J >> M5jDi_Cut\"+str(i)+\"_\"+str(j)+\"_\"+str(k)+BinsLimits,CumulCut)\n",
      "                DiHT.append(ROOT.gDirectory.Get(\"M5jDi_Cut\"+str(i)+\"_\"+str(j)+\"_\"+str(k)))\n",
      "                DiHT[-1].Sumw2(); DiHT[-1].Scale(DibosonWeights[k])\n",
      "                if j==0: DiE+=DiHT[-1].GetEntries()*DibosonWeights[k]\n",
      "        DibosonHistos.append(DiHT)\n",
      "        if j==0: DibosonWEntries.append(DiE)\n",
      "        \n",
      "        DYHT=[]\n",
      "        for k in xrange(len(SubBKGArray[j][2])): #DY\n",
      "            if SubBKGArray[j][2][k].GetEntries()>0:\n",
      "                SubBKGArray[j][2][k].Draw(\"M5J >> M5jDY_Cut\"+str(i)+\"_\"+str(j)+\"_\"+str(k)+BinsLimits,CumulCut)\n",
      "                DYHT.append(ROOT.gDirectory.Get(\"M5jDY_Cut\"+str(i)+\"_\"+str(j)+\"_\"+str(k)))\n",
      "                DYHT[-1].Sumw2(); DYHT[-1].Scale(DYWeights[k])\n",
      "        DYHistos.append(DYHT)\n",
      "        \n",
      "        if QCDPTFLAG: \n",
      "            QCDPTHT=[]\n",
      "            for k in xrange(len(SubBKGArray[j][3])): #QCD PT hat\n",
      "                if SubBKGArray[j][3][k].GetEntries()>0:\n",
      "                    SubBKGArray[j][3][k].Draw(\"M5J >> M5jQCDPT_Cut\"+str(i)+\"_\"+str(j)+\"_\"+str(k)+BinsLimits,CumulCut)\n",
      "                    QCDPTHT.append(ROOT.gDirectory.Get(\"M5jQCDPT_Cut\"+str(i)+\"_\"+str(j)+\"_\"+str(k)))\n",
      "                    QCDPTHT[-1].Sumw2(); QCDPTHT[-1].Scale(QCDPTWeights[k])\n",
      "                    if j==0: QCDWEntries[-1]+=QCDPTHT[-1].GetEntries()*QCDPTWeights[k]\n",
      "            QCDPTHistos.append(QCDPTHT)\n",
      "            \n",
      "        QCDFull=QCD500Histos[-1].Clone(\"M5jQ_Cut\"+str(i)+\"_\"+str(j))\n",
      "        QCDFull.Add(QCD1000Histos[-1])\n",
      "        if QCDPTFLAG:\n",
      "            for k in QCDPTHistos[-1]:\n",
      "                QCDFull.Add(k)\n",
      "        QCDHistos.append(QCDFull)\n",
      "        \n",
      "        MCFull=QCDFull.Clone(\"M5jMC_Cut\"+str(i)+\"_\"+str(j))\n",
      "        MCFull.Add(TTbarHistos[-1])\n",
      "        for k in SingleTHistos[-1]: MCFull.Add(k)\n",
      "        for k in DibosonHistos[-1]: MCFull.Add(k)\n",
      "        for k in DYHistos[-1]: MCFull.Add(k)\n",
      "        MCHistos.append(MCFull)\n",
      "        \n",
      "        DataArray[j].Draw(\"M5J >> M5jD_Cut\"+str(i)+\"_\"+str(j)+BinsLimits,CumulCut)\n",
      "        DataHistos.append(ROOT.gDirectory.Get(\"M5jD_Cut\"+str(i)+\"_\"+str(j)))\n",
      "    \n",
      "    ROOT.gPad.Clear()\n",
      "    for k in xrange(4):\n",
      "        if k==0: HistosToplot=DataHistos\n",
      "        elif k==1: HistosToplot=TTbarHistos\n",
      "        elif k==2: HistosToplot=MCHistos\n",
      "        elif k==3: HistosToplot=QCDHistos\n",
      "        \n",
      "        CurrentStyle=ROOT.TStyle(\"CStyle\",\"Style for Plotting\")\n",
      "        #ROOT.SetOwnership( CurrentStyle, False )\n",
      "        #CurrentStyle.SetOptStat(0)\n",
      "        #CurrentStyle.SetOptTitle(0)\n",
      "        #CurrentStyle.SetPadLeftMargin(0.16)\n",
      "        #CurrentStyle.SetPadRightMargin(0.02)\n",
      "        \n",
      "        #CurrentStyle.SetTitleColor(1, \"XYZ\")\n",
      "        #CurrentStyle.SetTitleFont(42, \"XYZ\")\n",
      "        #CurrentStyle.SetTitleSize(0.06, \"XYZ\")\n",
      "        #CurrentStyle.SetTitleXOffset(1.0)\n",
      "        #CurrentStyle.SetTitleOffset(1.5, \"Y\")\n",
      "        #CurrentStyle.SetLabelColor(1, \"XYZ\")\n",
      "        #CurrentStyle.SetLabelFont(42, \"XYZ\")\n",
      "        #CurrentStyle.SetLabelOffset(0.007, \"XYZ\")\n",
      "        #CurrentStyle.SetLabelSize(0.05, \"XYZ\")\n",
      "        #CurrentStyle.SetAxisColor(1, \"XYZ\")\n",
      "        #CurrentStyle.SetStripDecimals(ROOT.kTRUE)\n",
      "        #CurrentStyle.SetTickLength(0.03, \"XYZ\")\n",
      "        #CurrentStyle.SetNdivisions(510, \"XYZ\")\n",
      "                \n",
      "        CurCanv1 = rootnotes.canvas(\"MyPlot\", (600, 800))\n",
      "        CurCanv1.cd(1)\n",
      "        Pad1=ROOT.TPad(\"pad1\",\"pad1\",0,0.3,1,1)\n",
      "        Pad1.SetBottomMargin(0)\n",
      "        Pad1.SetLeftMargin(0.16)\n",
      "        Pad1.Draw()\n",
      "        Pad1.cd()\n",
      "        \n",
      "        HistosToplot[0].SetStats(ROOT.kFALSE)\n",
      "        \n",
      "        HistosToplot[0].SetTitle(\";;A.U.\")\n",
      "        SetAxis(HistosToplot[0],'Y',0.5,0.05,0.007,0.0,510)\n",
      "        HistosToplot[0].SetLineStyle(1); HistosToplot[0].SetLineWidth(1); HistosToplot[0].SetLineColor(ROOT.kGray+2)\n",
      "        HistosToplot[0].SetFillStyle(3144); HistosToplot[0].SetFillColor(ROOT.kGray+2)\n",
      "        \n",
      "        HistosToplot[1].SetLineStyle(1); HistosToplot[1].SetLineWidth(2); HistosToplot[1].SetLineColor(ROOT.kGreen+2)\n",
      "        \n",
      "        HistosToplot[2].SetLineStyle(1); HistosToplot[2].SetLineWidth(2); HistosToplot[2].SetLineColor(ROOT.kRed+1)\n",
      "        \n",
      "        HistosToplot[3].SetLineStyle(1); HistosToplot[3].SetLineWidth(2); HistosToplot[3].SetLineColor(ROOT.kBlue+1)\n",
      "        \n",
      "        CloneE=HistosToplot[1].Clone(\"CopyE\"); CloneE1=HistosToplot[2].Clone(\"CopyE1\"); CloneE2=HistosToplot[3].Clone(\"CopyE2\")\n",
      "        CloneA=HistosToplot[0].Clone(\"CopyA\")\n",
      "        \n",
      "        LEG=ROOT.TLegend(0.5,0.5,0.9,0.9)\n",
      "        LEG.AddEntry(HistosToplot[0], ValString[k]+WP[0], \"f\"); LEG.AddEntry(HistosToplot[1], ValString[k]+WP[1], \"le\")\n",
      "        LEG.AddEntry(HistosToplot[2], ValString[k]+WP[2], \"le\"); LEG.AddEntry(HistosToplot[3], ValString[k]+WP[3], \"le\")\n",
      "        LEG.SetFillColor(0);\n",
      "        HistosToplot[0].DrawNormalized(\"E2\"); HistosToplot[1].DrawNormalized(\"E same\")\n",
      "        HistosToplot[2].DrawNormalized(\"E same\"); HistosToplot[3].DrawNormalized(\"E same\")\n",
      "        LEG.Draw()\n",
      "        CurrentStyle.SetPadTickX(1)\n",
      "        CurCanv1.cd()\n",
      "        \n",
      "        Pad2=ROOT.TPad(\"pad2\",\"pad2\",0,0,1,0.3)\n",
      "        Pad2.SetTopMargin(0)\n",
      "        Pad2.SetLeftMargin(0.16)\n",
      "        Pad2.SetBottomMargin(0.25)\n",
      "        Pad2.Draw()\n",
      "        Pad2.cd()\n",
      "        \n",
      "        CloneA.SetMinimum(0.1); CloneA.SetMaximum(1.9)\n",
      "        CloneA.Sumw2()\n",
      "        CloneA.SetStats(0)\n",
      "        CloneA.SetTitle(\";M(5J) GeV/c^{2};ControlSample/SignalSample\")\n",
      "        CloneA.Divide(HistosToplot[0])\n",
      "        CloneA.SetFillStyle(1001)\n",
      "        SetAxis(CloneA,'X',0.9,0.09,0.007,0.09,510)\n",
      "        SetAxis(CloneA,'Y',0.7,0.06,0.007,0.09,404)\n",
      "        CloneA.Draw(\"E2\")\n",
      "        \n",
      "        CloneE.Sumw2()\n",
      "        CloneE.Scale(HistosToplot[0].Integral()/CloneE.Integral()); CloneE.SetStats(0)\n",
      "        CloneE.SetTitle(\";M(5J) GeV/c^{2};ControlSample/SignalSample\")\n",
      "        CloneE.Divide(HistosToplot[0])\n",
      "        CloneE.Draw(\"ep same\")\n",
      "        \n",
      "        CloneE1.Sumw2()\n",
      "        CloneE1.Scale(HistosToplot[0].Integral()/CloneE1.Integral()); CloneE1.SetStats(0)\n",
      "        CloneE1.SetTitle(\";M(5J) GeV/c^{2};ControlSample/SignalSample\")\n",
      "        CloneE1.Divide(HistosToplot[0])\n",
      "        CloneE1.Draw(\"ep same\")\n",
      "        \n",
      "        CloneE2.Sumw2()\n",
      "        CloneE2.Scale(HistosToplot[0].Integral()/CloneE2.Integral()); CloneE2.SetStats(0)\n",
      "        CloneE2.SetTitle(\";M(5J) GeV/c^{2};ControlSample/SignalSample\")\n",
      "        CloneE2.Divide(HistosToplot[0])\n",
      "        CloneE2.Draw(\"ep same\")\n",
      "        \n",
      "        #print i, k\n",
      "        \n",
      "        if i==0 and k==0: CurCanv1.Print(PDFName+\"(\",\"Title:\"+Titles[i]+\"_\"+ValString[k])\n",
      "        if i>=0 and k>=0: CurCanv1.Print(PDFName,\"Title:\"+Titles[i]+\"_\"+ValString[k])\n",
      "        #elif i!=0 and k<3: CurCanv1.Print(PDFName,\"Title:\"+Titles[i]+\"_\"+ValString[k])\n",
      "        #elif i!=0 and k==3: CurCanv1.Print(PDFName,\"Title:\"+Titles[i]+\"_\"+ValString[k])\n",
      "        if i==(len(CutsFromOpt)-1) and k==3: CurCanv1.Print(PDFName+\")\",\"Title:\"+Titles[i]+\"_\"+ValString[k])\n",
      "        \n",
      "        CurCanv1.Clear(); CurrentStyle.SetPadTickX(0)\n",
      "        CurCanv1.cd(1)\n",
      "                    \n",
      "        del(HistosToplot); del(CurCanv1); del(Pad1); del(Pad2)\n",
      "        del(CloneA); del(CloneE); del(CloneE1); del(CloneE2)\n",
      "    del(TTbarHistos); del(QCD500Histos); del(QCD1000Histos); del(DataHistos); del(QCDHistos); del(MCHistos)\n",
      "    del(SingleTHistos); del(QCDPTHistos); del(DibosonHistos); del(DYHistos); del(SignalHistos)\n",
      "    "
     ],
     "language": "python",
     "metadata": {},
     "outputs": [
      {
       "output_type": "stream",
       "stream": "stderr",
       "text": [
        "TH1F::Sumw2:0: RuntimeWarning: Sum of squares of weights structure already created\n",
        "TH1F::Sumw2:0: RuntimeWarning: Sum of squares of weights structure already created\n",
        "TH1F::Sumw2:0: RuntimeWarning: Sum of squares of weights structure already created\n",
        "TH1F::Sumw2:0: RuntimeWarning: Sum of squares of weights structure already created\n",
        "TH1F::Sumw2:0: RuntimeWarning: Sum of squares of weights structure already created\n",
        "TH1F::Sumw2:0: RuntimeWarning: Sum of squares of weights structure already created\n",
        "TH1F::Sumw2:0: RuntimeWarning: Sum of squares of weights structure already created\n",
        "TH1F::Sumw2:0: RuntimeWarning: Sum of squares of weights structure already created\n",
        "TH1F::Sumw2:0: RuntimeWarning: Sum of squares of weights structure already created\n",
        "TH1F::Sumw2:0: RuntimeWarning: Sum of squares of weights structure already created\n",
        "TH1F::Sumw2:0: RuntimeWarning: Sum of squares of weights structure already created\n",
        "TH1F::Sumw2:0: RuntimeWarning: Sum of squares of weights structure already created\n",
        "TH1F::Sumw2:0: RuntimeWarning: Sum of squares of weights structure already created\n"
       ]
      },
      {
       "output_type": "stream",
       "stream": "stderr",
       "text": [
        "TH1F::Sumw2:0: RuntimeWarning: Sum of squares of weights structure already created\n",
        "TH1F::Sumw2:0: RuntimeWarning: Sum of squares of weights structure already created\n",
        "TH1F::Sumw2:0: RuntimeWarning: Sum of squares of weights structure already created\n",
        "TH1F::Sumw2:0: RuntimeWarning: Sum of squares of weights structure already created\n",
        "TH1F::Sumw2:0: RuntimeWarning: Sum of squares of weights structure already created\n",
        "TH1F::Sumw2:0: RuntimeWarning: Sum of squares of weights structure already created\n",
        "TH1F::Sumw2:0: RuntimeWarning: Sum of squares of weights structure already created\n",
        "TH1F::Sumw2:0: RuntimeWarning: Sum of squares of weights structure already created\n",
        "TH1F::Sumw2:0: RuntimeWarning: Sum of squares of weights structure already created\n",
        "TH1F::Sumw2:0: RuntimeWarning: Sum of squares of weights structure already created\n",
        "TH1F::Sumw2:0: RuntimeWarning: Sum of squares of weights structure already created\n",
        "TH1F::Sumw2:0: RuntimeWarning: Sum of squares of weights structure already created\n"
       ]
      },
      {
       "output_type": "stream",
       "stream": "stderr",
       "text": [
        "TH1F::Sumw2:0: RuntimeWarning: Sum of squares of weights structure already created\n",
        "TH1F::Sumw2:0: RuntimeWarning: Sum of squares of weights structure already created\n",
        "TH1F::Sumw2:0: RuntimeWarning: Sum of squares of weights structure already created\n",
        "TH1F::Sumw2:0: RuntimeWarning: Sum of squares of weights structure already created\n",
        "TH1F::Sumw2:0: RuntimeWarning: Sum of squares of weights structure already created\n",
        "TH1F::Sumw2:0: RuntimeWarning: Sum of squares of weights structure already created\n",
        "TH1F::Sumw2:0: RuntimeWarning: Sum of squares of weights structure already created\n",
        "TH1F::Sumw2:0: RuntimeWarning: Sum of squares of weights structure already created\n",
        "TH1F::Sumw2:0: RuntimeWarning: Sum of squares of weights structure already created\n",
        "TH1F::Sumw2:0: RuntimeWarning: Sum of squares of weights structure already created\n",
        "TH1F::Sumw2:0: RuntimeWarning: Sum of squares of weights structure already created\n",
        "TH1F::Sumw2:0: RuntimeWarning: Sum of squares of weights structure already created\n"
       ]
      },
      {
       "output_type": "stream",
       "stream": "stderr",
       "text": [
        "TH1F::Sumw2:0: RuntimeWarning: Sum of squares of weights structure already created\n",
        "TH1F::Sumw2:0: RuntimeWarning: Sum of squares of weights structure already created\n",
        "TH1F::Sumw2:0: RuntimeWarning: Sum of squares of weights structure already created\n",
        "TH1F::Sumw2:0: RuntimeWarning: Sum of squares of weights structure already created\n",
        "TH1F::Sumw2:0: RuntimeWarning: Sum of squares of weights structure already created\n",
        "TH1F::Sumw2:0: RuntimeWarning: Sum of squares of weights structure already created\n",
        "TH1F::Sumw2:0: RuntimeWarning: Sum of squares of weights structure already created\n",
        "TH1F::Sumw2:0: RuntimeWarning: Sum of squares of weights structure already created\n",
        "TH1F::Sumw2:0: RuntimeWarning: Sum of squares of weights structure already created\n",
        "TH1F::Sumw2:0: RuntimeWarning: Sum of squares of weights structure already created\n",
        "TH1F::Sumw2:0: RuntimeWarning: Sum of squares of weights structure already created\n",
        "TH1F::Sumw2:0: RuntimeWarning: Sum of squares of weights structure already created\n"
       ]
      },
      {
       "output_type": "stream",
       "stream": "stderr",
       "text": [
        "TH1F::Sumw2:0: RuntimeWarning: Sum of squares of weights structure already created\n",
        "TH1F::Sumw2:0: RuntimeWarning: Sum of squares of weights structure already created\n",
        "TH1F::Sumw2:0: RuntimeWarning: Sum of squares of weights structure already created\n",
        "TH1F::Sumw2:0: RuntimeWarning: Sum of squares of weights structure already created\n",
        "TH1F::Sumw2:0: RuntimeWarning: Sum of squares of weights structure already created\n",
        "TH1F::Sumw2:0: RuntimeWarning: Sum of squares of weights structure already created\n",
        "TH1F::Sumw2:0: RuntimeWarning: Sum of squares of weights structure already created\n",
        "TH1F::Sumw2:0: RuntimeWarning: Sum of squares of weights structure already created\n"
       ]
      },
      {
       "output_type": "stream",
       "stream": "stderr",
       "text": [
        "TH1F::Sumw2:0: RuntimeWarning: Sum of squares of weights structure already created\n",
        "TH1F::Sumw2:0: RuntimeWarning: Sum of squares of weights structure already created\n",
        "TH1F::Sumw2:0: RuntimeWarning: Sum of squares of weights structure already created\n",
        "TH1F::Sumw2:0: RuntimeWarning: Sum of squares of weights structure already created\n"
       ]
      },
      {
       "output_type": "stream",
       "stream": "stderr",
       "text": [
        "TH1F::Sumw2:0: RuntimeWarning: Sum of squares of weights structure already created\n",
        "TH1F::Sumw2:0: RuntimeWarning: Sum of squares of weights structure already created\n",
        "TH1F::Sumw2:0: RuntimeWarning: Sum of squares of weights structure already created\n",
        "TH1F::Sumw2:0: RuntimeWarning: Sum of squares of weights structure already created\n",
        "TH1F::Sumw2:0: RuntimeWarning: Sum of squares of weights structure already created\n",
        "TH1F::Sumw2:0: RuntimeWarning: Sum of squares of weights structure already created\n",
        "TH1F::Sumw2:0: RuntimeWarning: Sum of squares of weights structure already created\n",
        "TH1F::Sumw2:0: RuntimeWarning: Sum of squares of weights structure already created\n",
        "TH1F::Sumw2:0: RuntimeWarning: Sum of squares of weights structure already created\n",
        "TH1F::Sumw2:0: RuntimeWarning: Sum of squares of weights structure already created\n",
        "TH1F::Sumw2:0: RuntimeWarning: Sum of squares of weights structure already created\n",
        "TH1F::Sumw2:0: RuntimeWarning: Sum of squares of weights structure already created\n"
       ]
      },
      {
       "output_type": "stream",
       "stream": "stderr",
       "text": [
        "TH1F::Sumw2:0: RuntimeWarning: Sum of squares of weights structure already created\n",
        "TH1F::Sumw2:0: RuntimeWarning: Sum of squares of weights structure already created\n",
        "TH1F::Sumw2:0: RuntimeWarning: Sum of squares of weights structure already created\n",
        "TH1F::Sumw2:0: RuntimeWarning: Sum of squares of weights structure already created\n",
        "TH1F::Sumw2:0: RuntimeWarning: Sum of squares of weights structure already created\n",
        "TH1F::Sumw2:0: RuntimeWarning: Sum of squares of weights structure already created\n",
        "TH1F::Sumw2:0: RuntimeWarning: Sum of squares of weights structure already created\n",
        "TH1F::Sumw2:0: RuntimeWarning: Sum of squares of weights structure already created\n",
        "TH1F::Sumw2:0: RuntimeWarning: Sum of squares of weights structure already created\n",
        "TH1F::Sumw2:0: RuntimeWarning: Sum of squares of weights structure already created\n",
        "TH1F::Sumw2:0: RuntimeWarning: Sum of squares of weights structure already created\n",
        "TH1F::Sumw2:0: RuntimeWarning: Sum of squares of weights structure already created\n"
       ]
      },
      {
       "output_type": "stream",
       "stream": "stderr",
       "text": [
        "TH1F::Sumw2:0: RuntimeWarning: Sum of squares of weights structure already created\n",
        "TH1F::Sumw2:0: RuntimeWarning: Sum of squares of weights structure already created\n",
        "TH1F::Sumw2:0: RuntimeWarning: Sum of squares of weights structure already created\n",
        "TH1F::Sumw2:0: RuntimeWarning: Sum of squares of weights structure already created\n",
        "TH1F::Sumw2:0: RuntimeWarning: Sum of squares of weights structure already created\n",
        "TH1F::Sumw2:0: RuntimeWarning: Sum of squares of weights structure already created\n",
        "TH1F::Sumw2:0: RuntimeWarning: Sum of squares of weights structure already created\n",
        "TH1F::Sumw2:0: RuntimeWarning: Sum of squares of weights structure already created\n",
        "TH1F::Sumw2:0: RuntimeWarning: Sum of squares of weights structure already created\n",
        "TH1F::Sumw2:0: RuntimeWarning: Sum of squares of weights structure already created\n",
        "TH1F::Sumw2:0: RuntimeWarning: Sum of squares of weights structure already created\n",
        "TH1F::Sumw2:0: RuntimeWarning: Sum of squares of weights structure already created\n"
       ]
      },
      {
       "output_type": "stream",
       "stream": "stderr",
       "text": [
        "TH1F::Sumw2:0: RuntimeWarning: Sum of squares of weights structure already created\n",
        "TH1F::Sumw2:0: RuntimeWarning: Sum of squares of weights structure already created\n",
        "TH1F::Sumw2:0: RuntimeWarning: Sum of squares of weights structure already created\n",
        "TH1F::Sumw2:0: RuntimeWarning: Sum of squares of weights structure already created\n",
        "TH1F::Sumw2:0: RuntimeWarning: Sum of squares of weights structure already created\n",
        "TH1F::Sumw2:0: RuntimeWarning: Sum of squares of weights structure already created\n",
        "TH1F::Sumw2:0: RuntimeWarning: Sum of squares of weights structure already created\n",
        "TH1F::Sumw2:0: RuntimeWarning: Sum of squares of weights structure already created\n",
        "TH1F::Sumw2:0: RuntimeWarning: Sum of squares of weights structure already created\n",
        "TH1F::Sumw2:0: RuntimeWarning: Sum of squares of weights structure already created\n",
        "TH1F::Sumw2:0: RuntimeWarning: Sum of squares of weights structure already created\n"
       ]
      }
     ],
     "prompt_number": 60
    },
    {
     "cell_type": "code",
     "collapsed": false,
     "input": [
      "print \"--------------------------------------------------\"\n",
      "print \"------------------Efficiencies--------------------\"\n",
      "print \"--------------------------------------------------\"\n",
      "#print \"--------Signal------TTbar-------QCD---------------\"\n",
      "    \n",
      "#SignalWEntries=[]; QCDWEntries=[]; TopWEntries=[]\n",
      "print SignalWEntries, QCDWEntries, TopWEntries, DibosonWEntries\n",
      "\n",
      "for i in xrange(len(TopWEntries)-1):\n",
      "    print \"{0:.2f}   {1:.2f}   {2:.2f}   {3:.2f}   {4:.2f}   {5:.2f}   {6:.2f}   {7:.2f}   {8:.2f}\".format(100*SignalWEntries[i+1][0]/SignalWEntries[i][0],\n",
      "                                                                                                                100*SignalWEntries[i+1][1]/SignalWEntries[i][1],\n",
      "                                                                                                                100*SignalWEntries[i+1][2]/SignalWEntries[i][2],\n",
      "                                                                                                                100*SignalWEntries[i+1][3]/SignalWEntries[i][3],\n",
      "                                                                                                                100*SignalWEntries[i+1][4]/SignalWEntries[i][4],\n",
      "                                                                                                                100*SignalWEntries[i+1][5]/SignalWEntries[i][5],\n",
      "                                                                                                                100*SignalWEntries[i+1][6]/SignalWEntries[i][6],\n",
      "                                                                                                                100*SignalWEntries[i+1][7]/SignalWEntries[i][7],\n",
      "                                                                                                                100*SignalWEntries[i+1][8]/SignalWEntries[i][8])\n",
      "    print \"Cut\"+str(i+1)+\":    {0:.2f}      {1:.2f}    {2:.2f}  \".format(100*TopWEntries[i+1]/TopWEntries[i],\n",
      "                                                                100*QCDWEntries[i+1]/QCDWEntries[i],\n",
      "                                                                100*DibosonWEntries[i+1]/DibosonWEntries[i]) "
     ],
     "language": "python",
     "metadata": {},
     "outputs": [
      {
       "output_type": "stream",
       "stream": "stdout",
       "text": [
        "--------------------------------------------------\n",
        "------------------Efficiencies--------------------\n",
        "--------------------------------------------------\n",
        "[[2542.0, 3452.0, 4350.0, 4824.0, 4799.0, 5160.0, 5070.0, 4617.0, 4366.0], [2492.0, 3372.0, 4235.0, 4673.0, 4660.0, 4986.0, 4874.0, 4392.0, 4139.0], [1704.0, 2620.0, 3501.0, 3962.0, 4038.0, 4360.0, 4292.0, 3923.0, 3680.0], [1580.0, 2444.0, 3304.0, 3729.0, 3806.0, 4093.0, 4004.0, 3626.0, 3344.0], [877.0, 1339.0, 1843.0, 2141.0, 2220.0, 2489.0, 2527.0, 2309.0, 2199.0], [477.0, 803.0, 1147.0, 1284.0, 1343.0, 1466.0, 1423.0, 1256.0, 1118.0], [379.0, 637.0, 939.0, 1056.0, 1086.0, 1232.0, 1194.0, 1050.0, 923.0], [188.0, 395.0, 659.0, 802.0, 865.0, 1028.0, 1025.0, 906.0, 810.0], [179.0, 382.0, 625.0, 756.0, 808.0, 941.0, 922.0, 808.0, 729.0]] [46391.074975866402, 41865.000807911158, 18183.373603812877, 14160.434006416481, 8782.8397311329227, 973.33378150979149, 343.66637804201866, 90.748870929106772, 75.156725008892693] [9665.2612488834693, 9537.9447035413141, 3729.2529806857879, 3137.5062890025356, 951.19700599715941, 138.95792185382422, 65.429511810071247, 23.077811179383239, 19.496420302797627] [28.30683870890882, 27.667259880655457, 15.698430553793994, 13.28127782180437, 5.5649644877519036, 0.64797531268282349, 0.10799588544713724, 0.10799588544713724, 0.10799588544713724]\n",
        "98.03   97.68   97.36   96.87   97.10   96.63   96.13   95.13   94.80\n",
        "Cut1:    98.68      90.24    97.74  \n",
        "68.38   77.70   82.67   84.78   86.65   87.44   88.06   89.32   88.91\n",
        "Cut2:    39.10      43.43    56.74  \n",
        "92.72   93.28   94.37   94.12   94.25   93.88   93.29   92.43   90.87\n",
        "Cut3:    84.13      77.88    84.60  \n",
        "55.51   54.79   55.78   57.41   58.33   60.81   63.11   63.68   65.76\n",
        "Cut4:    30.32      62.02    41.90  \n",
        "54.39   59.97   62.24   59.97   60.50   58.90   56.31   54.40   50.84\n",
        "Cut5:    14.61      11.08    11.64  \n",
        "79.45   79.33   81.87   82.24   80.86   84.04   83.91   83.60   82.56\n",
        "Cut6:    47.09      35.31    16.67  \n",
        "49.60   62.01   70.18   75.95   79.65   83.44   85.85   86.29   87.76\n",
        "Cut7:    35.27      26.41    100.00  \n",
        "95.21   96.71   94.84   94.26   93.41   91.54   89.95   89.18   90.00\n",
        "Cut8:    84.48      82.82    100.00  \n"
       ]
      }
     ],
     "prompt_number": 52
    },
    {
     "cell_type": "heading",
     "level": 3,
     "metadata": {},
     "source": [
      "Computing systematic for the background estimation"
     ]
    },
    {
     "cell_type": "code",
     "collapsed": false,
     "input": [
      "BinAndLimits=\"(30,550,1100)\"\n",
      "Nbins=20\n",
      "\n",
      "CumulCut=ROOT.TCut(\"\")\n",
      "\n",
      "PDFName=\"BKG_Estimation_SYS_\"+OptVersion+\".pdf\"\n",
      "CurCanv = rootnotes.canvas(\"MyPlot\", (600, 800))\n",
      "Titles=[\"Base\",\"chi2\", \"DRbb\", \"DRWH\", \"M2HP\", \"DRTp6thJ\", \"HiggsMass\", \"RelHT\", \"MTHAsym\"]\n",
      "\n",
      "BKGSYSF = ROOT.TFile(\"BKG_Estimation_SYS_\"+OptVersion+\".root\", \"recreate\")\n",
      "\n",
      "for i in xrange(len(CutsNm1)):\n",
      "    CumulCut=CumulCut*CutsFromOpt[i]\n",
      "    DataArray[0].Draw(\"M5J >> DataM5JSigSamHisto_\"+str(i)+BinAndLimits,CumulCut)\n",
      "    DataM5JSigSamHisto=ROOT.gDirectory.Get(\"DataM5JSigSamHisto_\"+str(i))\n",
      "    DataArray[1].Draw(\"M5J >> DataM5JConSamHisto_\"+str(i)+BinAndLimits,CumulCut)\n",
      "    DataM5JConSamHisto=ROOT.gDirectory.Get(\"DataM5JConSamHisto_\"+str(i))\n",
      "    ROOT.gPad.Close()\n",
      "\n",
      "    RatioHisto=DataM5JConSamHisto.Clone(\"RatioHisto_\"+str(i)) #DataM5JSigSamHisto\n",
      "    RatioHisto.Sumw2(); RatioHisto.Scale(DataM5JSigSamHisto.Integral()/DataM5JConSamHisto.Integral())\n",
      "    RatioHisto.Divide(DataM5JSigSamHisto)\n",
      "    RatioDistri = ROOT.TH1F(\"Sys_\"+str(i),\"Sys_\"+str(i),Nbins,0,2)\n",
      "    \n",
      "    for j in xrange(RatioHisto.GetXaxis().GetNbins()):\n",
      "        RatioDistri.Fill(RatioHisto.GetBinContent(j))\n",
      "    \n",
      "    for j in xrange(RatioDistri.GetXaxis().GetNbins()):\n",
      "        if RatioDistri.GetBinContent(j)!=0: RatioDistri.SetBinError(j,RatioDistri.GetBinCenter(j))\n",
      "    \n",
      "    f4 = ROOT.TF1(\"f4\",\"gaus\",0,2)\n",
      "    RatioDistri.Fit(\"f4\",\"LMR\",\"same\")\n",
      "    MeanValue=f4.GetParameter(1); sigma=f4.GetParameter(2)\n",
      "    MeanValueE=f4.GetParError(1); sigmaE=f4.GetParError(2);\n",
      "    Chi2=f4.GetChisquare(); NDF=f4.GetNDF()\n",
      "    print \"Mean value: {0:.2f}+-{1:.2f}, with sigma: {2:.2f}+-{3:.2f}\".format(MeanValue,MeanValueE,sigma,sigmaE)\n",
      "    print \"Chi2={0:.2f}, ndf={1:.2f}, Chi2/ndf={2:.2f}\".format(Chi2, NDF, Chi2/NDF)\n",
      "    \n",
      "    RatioDistri.Write()\n",
      "    \n",
      "    MinX=float(BinsLimits.split(\",\")[1])\n",
      "    MaxX=float(BinsLimits.split(\",\")[-1][0:-1])\n",
      "    Nbins=int(BinsLimits.split(\",\")[0][1:])\n",
      "    RatioDistri.SetTitle(\";ControlSample/SignalSample;Events/{0:.1f} \".format((MaxX-MinX)/Nbins)+\"GeV/c^{2}\")\n",
      "    RatioDistri.Draw()\n",
      "    \n",
      "    if i==0: CurCanv.Print(PDFName+\"(\",\"Title:\"+Titles[i])\n",
      "    elif i<=len(CutsFromOpt)-2 and i>0: CurCanv.Print(PDFName,\"Title:\"+Titles[i])\n",
      "    else: CurCanv.Print(PDFName+\")\",\"Title:\"+Titles[i])\n",
      "    \n",
      "BKGSYSF.Close()"
     ],
     "language": "python",
     "metadata": {},
     "outputs": [
      {
       "output_type": "stream",
       "stream": "stdout",
       "text": [
        "Mean value: 1.11+-0.07, with sigma: 0.37+-0.06\n",
        "Chi2=20.43, ndf=17.00, Chi2/ndf=1.20\n",
        "Mean value: 0.95+-0.02, with sigma: 0.12+-0.02"
       ]
      },
      {
       "output_type": "stream",
       "stream": "stdout",
       "text": [
        "\n",
        "Chi2=17.67, ndf=27.00, Chi2/ndf=0.65\n",
        "Mean value: 1.04+-0.02, with sigma: 0.12+-0.02"
       ]
      },
      {
       "output_type": "stream",
       "stream": "stdout",
       "text": [
        "\n",
        "Chi2=20.28, ndf=27.00, Chi2/ndf=0.75\n",
        "Mean value: 1.04+-0.02, with sigma: 0.13+-0.02"
       ]
      },
      {
       "output_type": "stream",
       "stream": "stdout",
       "text": [
        "\n",
        "Chi2=14.48, ndf=27.00, Chi2/ndf=0.54\n",
        "Mean value: 1.05+-0.03, with sigma: 0.16+-0.02"
       ]
      },
      {
       "output_type": "stream",
       "stream": "stdout",
       "text": [
        "\n",
        "Chi2=50.54, ndf=27.00, Chi2/ndf=1.87\n",
        "Mean value: 0.99+-0.06, with sigma: 0.30+-0.04"
       ]
      },
      {
       "output_type": "stream",
       "stream": "stdout",
       "text": [
        "\n",
        "Chi2=895.10, ndf=27.00, Chi2/ndf=33.15\n",
        "Mean value: 1.06+-0.24, with sigma: 0.78+-0.35"
       ]
      },
      {
       "output_type": "stream",
       "stream": "stdout",
       "text": [
        "\n",
        "Chi2=2138.09, ndf=27.00, Chi2/ndf=79.19\n"
       ]
      }
     ],
     "prompt_number": 58
    },
    {
     "cell_type": "heading",
     "level": 3,
     "metadata": {},
     "source": [
      "Signal contamination in control sample"
     ]
    },
    {
     "cell_type": "code",
     "collapsed": false,
     "input": [
      "#\"M5J:DRHJ:DRWH:RelHT:Eta6thJ:M2HP:DRTp6thJ:HM:chi2:MTHAsym\"\n",
      "\n",
      "PDFName=\"SignalContam_ConSample_\"+OptVersion+\".pdf\"\n",
      "CurCanv = rootnotes.canvas(\"MyPlot\", (600, 800))\n",
      "Titles=[\"M5J\"]\n",
      "\n",
      "BinsLimits=[\"(30,400,1600)\"]\n",
      "Units=[\"GeV/c^{2}\"]\n",
      "XaxisT=[\"M(5J)\"]\n",
      "\n",
      "ValString=[\"Data\",\"MC-Sum\"]\n",
      "\n",
      "for i in xrange(1):\n",
      "    TTbarNm1Histos=[]; DataNm1Histos=[]; QCDNm1Histos=[]\n",
      "    SingleTNm1Histos=[]; DibosonNm1Histos=[]; DYNm1Histos=[]\n",
      "    SignalNm1Histos=[]\n",
      "    \n",
      "    CumulCut=CumulCut*CutsNm1[i]\n",
      "    MCArray[1][0][2].Draw(Titles[i]+\" >> \"+Titles[i]+\"S_Cut\"+str(i)+BinsLimits[i],CumulCut*CMC)\n",
      "    SignalNm1Histos.append(ROOT.gDirectory.Get(Titles[i]+\"S_Cut\"+str(i)))\n",
      "    SignalNm1Histos[-1].Sumw2(); SignalNm1Histos[-1].Scale(SWeight)\n",
      "    \n",
      "    MCArray[1][1].Draw(Titles[i]+\" >> \"+Titles[i]+\"T_Cut\"+str(i)+BinsLimits[i],CumulCut*CMC)\n",
      "    TTbarNm1Histos.append(ROOT.gDirectory.Get(Titles[i]+\"T_Cut\"+str(i)))\n",
      "    TTbarNm1Histos[-1].Sumw2(); TTbarNm1Histos[-1].Scale(TWeight) #; TTbarHistos[-1].Write()\n",
      "                \n",
      "    QCDHT=[]\n",
      "    MCArray[1][2][0].Draw(Titles[i]+\" >> \"+Titles[i]+\"Q500_Cut\"+str(i)+BinsLimits[i],CumulCut*CMC)\n",
      "    QCDHT.append(ROOT.gDirectory.Get(Titles[i]+\"Q500_Cut\"+str(i)))\n",
      "    QCDHT[-1].Sumw2(); QCDHT[-1].Scale(QWeights[0]) #; QCD500Histos[-1].Write()\n",
      "        \n",
      "    MCArray[1][2][1].Draw(Titles[i]+\" >> \"+Titles[i]+\"Q1000_Cut\"+str(i)+BinsLimits[i],CumulCut*CMC)\n",
      "    QCDHT.append(ROOT.gDirectory.Get(Titles[i]+\"Q1000_Cut\"+str(i)))\n",
      "    QCDHT[-1].Sumw2(); QCDHT[-1].Scale(QWeights[1]) #; QCD1000Histos[-1].Write()\n",
      "    \n",
      "    STHT=[]\n",
      "    for k in xrange(len(SubBKGArray[0][0])): #Single Top\n",
      "        if SubBKGArray[1][0][k].GetEntries()>0:\n",
      "            SubBKGArray[1][0][k].Draw(Titles[i]+\" >> \"+Titles[i]+\"ST_Cut\"+str(i)+\"_\"+str(k)+BinsLimits[i],CumulCut*CMC)\n",
      "            STHT.append(ROOT.gDirectory.Get(Titles[i]+\"ST_Cut\"+str(i)+\"_\"+str(k)))\n",
      "            STHT[-1].Sumw2(); STHT[-1].Scale(SingleTWeights[k])\n",
      "    SingleTNm1Histos.append(STHT)\n",
      "\n",
      "    DiHT=[]\n",
      "    for k in xrange(len(SubBKGArray[0][1])): #Diboson\n",
      "        if SubBKGArray[1][1][k].GetEntries()>0:\n",
      "            SubBKGArray[1][1][k].Draw(Titles[i]+\" >> \"+Titles[i]+\"Di_Cut\"+str(i)+\"_\"+str(k)+BinsLimits[i],CumulCut*CMC)\n",
      "            DiHT.append(ROOT.gDirectory.Get(Titles[i]+\"Di_Cut\"+str(i)+\"_\"+str(k)))\n",
      "            DiHT[-1].Sumw2(); DiHT[-1].Scale(DibosonWeights[k])\n",
      "    DibosonNm1Histos.append(DiHT)\n",
      "        \n",
      "    DYHT=[]\n",
      "    for k in xrange(len(SubBKGArray[0][2])): #DY\n",
      "        if SubBKGArray[1][2][k].GetEntries()>0:\n",
      "            SubBKGArray[1][2][k].Draw(Titles[i]+\" >> \"+Titles[i]+\"DY_Cut\"+str(i)+\"_\"+str(k)+BinsLimits[i],CumulCut*CMC)\n",
      "            DYHT.append(ROOT.gDirectory.Get(Titles[i]+\"DY_Cut\"+str(i)+\"_\"+str(k)))\n",
      "            DYHT[-1].Sumw2(); DYHT[-1].Scale(DYWeights[k])\n",
      "    DYNm1Histos.append(DYHT)\n",
      "        \n",
      "    if QCDPTFLAG: \n",
      "        for k in xrange(len(SubBKGArray[0][3])): #QCD PT hat\n",
      "            if SubBKGArray[1][3][k].GetEntries()>0:\n",
      "                SubBKGArray[1][3][k].Draw(Titles[i]+\" >> \"+Titles[i]+\"QCDPT_Cut\"+str(i)+\"_\"+str(k)+BinsLimits[i],CumulCut*CMC)\n",
      "                QCDHT.append(ROOT.gDirectory.Get(Titles[i]+\"QCDPT_Cut\"+str(i)+\"_\"+str(k)))\n",
      "                QCDHT[-1].Sumw2(); QCDHT[-1].Scale(QCDPTWeights[k])\n",
      "    QCDNm1Histos.append(QCDHT)\n",
      "\n",
      "    QCDFull=QCDNm1Histos[-1][0].Clone(Titles[i]+\"Q_Cut\"+str(i))\n",
      "    for k in QCDNm1Histos[-1][1:]:\n",
      "        QCDFull.Add(k)\n",
      "        \n",
      "    SingleTFull=SingleTNm1Histos[-1][0].Clone(Titles[i]+\"ST_Cut\"+str(i))\n",
      "    for k in SingleTNm1Histos[-1][1:]:\n",
      "        SingleTFull.Add(k)\n",
      "    \n",
      "    DibosonFull=DibosonNm1Histos[-1][0].Clone(Titles[i]+\"Di_Cut\"+str(i))\n",
      "    for k in DibosonNm1Histos[-1][1:]:\n",
      "        DibosonFull.Add(k)\n",
      "        \n",
      "    DYFull=DYNm1Histos[-1][0].Clone(Titles[i]+\"DY_Cut\"+str(i))\n",
      "    for k in DYNm1Histos[-1][1:]:\n",
      "        DYFull.Add(k)\n",
      "    \n",
      "    MCFull=QCDFull.Clone(Titles[i]+\"MC_Cut\"+str(i))\n",
      "    MCFull.Add(TTbarNm1Histos[-1])\n",
      "    MCFull.Add(SingleTFull)\n",
      "    MCFull.Add(DibosonFull)\n",
      "    MCFull.Add(DYFull)\n",
      "\n",
      "    DataArray[1].Draw(Titles[i]+\" >> \"+Titles[i]+\"D_Cut\"+str(i)+BinsLimits[i],CumulCut)\n",
      "    DataNm1Histos.append(ROOT.gDirectory.Get(Titles[i]+\"D_Cut\"+str(i)))\n",
      "\n",
      "    ROOT.gPad.Clear()\n",
      "\n",
      "    CurrentStyle=ROOT.TStyle(\"CStyle\",\"Style for Plotting\")\n",
      "    \n",
      "    CurrentStyle.SetTitleSize(0.08, \"Y\")\n",
      "    CurrentStyle.SetTitleYOffset(1.5)\n",
      "                \n",
      "    CurCanv1 = rootnotes.canvas(\"MyPlot\", (600, 800))\n",
      "    CurCanv1.cd(1)\n",
      "    Pad1=ROOT.TPad(\"pad1\",\"pad1\",0,0.3,1,1)\n",
      "    Pad1.SetBottomMargin(0)\n",
      "    Pad1.SetLeftMargin(0.16)\n",
      "    Pad1.Draw()\n",
      "    Pad1.cd()\n",
      "        \n",
      "    MCFull.SetStats(ROOT.kFALSE)\n",
      "    MinX=float(BinsLimits[i].split(\",\")[1])\n",
      "    MaxX=float(BinsLimits[i].split(\",\")[-1][0:-1])\n",
      "    Nbins=int(BinsLimits[i].split(\",\")[0][1:])\n",
      "    if i!=5: MCFull.SetTitle(\";;Events/{0:.1f} \".format((MaxX-MinX)/Nbins)+Units[i])\n",
      "    else: MCFull.SetTitle(\";;Events/{0:.2f} \".format((MaxX-MinX)/Nbins)+Units[i])\n",
      "    SetAxis(MCFull,'Y',1.45,0.05,0.007,0.05,510)\n",
      "    SetAxis(DataNm1Histos[-1],'Y',1.45,0.05,0.007,0.05,510)\n",
      "    SetAxis(SignalNm1Histos[-1],'Y',1.45,0.05,0.007,0.05,510)\n",
      "    SetAxis(TTbarNm1Histos[-1],'Y',1.45,0.05,0.007,0.05,510)\n",
      "    SetAxis(QCDFull,'Y',1.45,0.05,0.007,0.05,510)\n",
      "    SetAxis(SingleTFull,'Y',1.45,0.05,0.007,0.05,510)\n",
      "    SetAxis(DibosonFull,'Y',1.45,0.05,0.007,0.05,510)\n",
      "    SetAxis(DYFull,'Y',1.45,0.05,0.007,0.05,510)\n",
      "    \n",
      "    SetCos(DataNm1Histos[-1],0,0,ROOT.kBlack,2,1,20)\n",
      "    SetCos(SignalNm1Histos[-1],ROOT.kSpring,3444,ROOT.kBlack,2,1,1)\n",
      "    SetCos(TTbarNm1Histos[-1],ROOT.kRed,3345,ROOT.kBlack,1,1,1)\n",
      "    SetCos(QCDFull,ROOT.kViolet,1001,ROOT.kBlack,1,1,1)\n",
      "    SetCos(SingleTFull,ROOT.kBlack,3305,ROOT.kBlack,1,1,1)\n",
      "    SetCos(DibosonFull,ROOT.kWhite,1001,ROOT.kBlack,1,1,1)\n",
      "    SetCos(DYFull,ROOT.kBlue,1001,ROOT.kBlack,1,1,1)\n",
      "    SetCos(MCFull,ROOT.kGray+2,1001,ROOT.kGray+2,1,1,1)\n",
      "            \n",
      "    AllBKGStack=ROOT.THStack(\"AllBKGStack\", \";;Events/{0:.1f} \".format((MaxX-MinX)/Nbins)+Units[i])\n",
      "    AllBKGStack.Add(DibosonFull); AllBKGStack.Add(SingleTFull)\n",
      "    AllBKGStack.Add(TTbarNm1Histos[-1]); AllBKGStack.Add(DYFull); AllBKGStack.Add(QCDFull)\n",
      "    AllBKGStack.SetMinimum(0.3)\n",
      "    \n",
      "    LEG=ROOT.TLegend(0.6,0.6,0.9,0.9)\n",
      "    #LEG.AddEntry(DataNm1Histos[-1], \"Data\", \"p\")\n",
      "    LEG.AddEntry(QCDFull, \"QCD\", \"f\")\n",
      "    LEG.AddEntry(DYFull, \"Zjets\", \"f\")\n",
      "    LEG.AddEntry(TTbarNm1Histos[-1], \"TTbar\", \"f\")\n",
      "    LEG.AddEntry(SingleTFull, \"Single Top\", \"f\")\n",
      "    LEG.AddEntry(DibosonFull, \"Diboson\", \"f\")\n",
      "    LEG.AddEntry(SignalNm1Histos[-1], \"Signal M(T')=700 GeV/c^{2}\", \"f\")\n",
      "    LEG.SetFillColor(0)\n",
      "    AllBKGStack.Draw(\"hist\"); MCFull.Draw(\"e2 same\")\n",
      "    SignalNm1Histos[-1].Draw(\"hist same\"); #DataNm1Histos[-1].Draw(\"E0X0 same\")\n",
      "    if i!=len(CutsNm1): Pad1.SetLogy(); Pad1.RedrawAxis()\n",
      "    \n",
      "    LEG.Draw()\n",
      "    CurrentStyle.SetPadTickX(1)\n",
      "    CurCanv1.cd()\n",
      "        \n",
      "    if i==0: CurCanv1.Print(PDFName+\"(\",\"Title:\"+Titles[i])\n",
      "    elif i==(len(CutsNm1)-1): CurCanv1.Print(PDFName+\")\",\"Title:\"+Titles[i])\n",
      "    else: CurCanv1.Print(PDFName,\"Title:\"+Titles[i])\n",
      "        \n",
      "    CurCanv1.Clear(); CurrentStyle.SetPadTickX(0)\n",
      "    CurCanv1.cd(1)\n",
      "                    \n",
      "    #del(HistosToplot); del(CurCanv1); del(Pad1); del(Pad2)\n",
      "    #del(CloneA); del(CloneE); del(CloneE1); del(CloneE2)"
     ],
     "language": "python",
     "metadata": {},
     "outputs": [
      {
       "output_type": "stream",
       "stream": "stderr",
       "text": [
        "TH1F::Sumw2:0: RuntimeWarning: Sum of squares of weights structure already created\n",
        "TH1F::Sumw2:0: RuntimeWarning: Sum of squares of weights structure already created\n"
       ]
      },
      {
       "output_type": "stream",
       "stream": "stderr",
       "text": [
        "TH1F::Sumw2:0: RuntimeWarning: Sum of squares of weights structure already created\n",
        "TH1F::Sumw2:0: RuntimeWarning: Sum of squares of weights structure already created\n"
       ]
      },
      {
       "output_type": "stream",
       "stream": "stderr",
       "text": [
        "TH1F::Sumw2:0: RuntimeWarning: Sum of squares of weights structure already created\n",
        "TH1F::Sumw2:0: RuntimeWarning: Sum of squares of weights structure already created\n"
       ]
      },
      {
       "output_type": "stream",
       "stream": "stderr",
       "text": [
        "TH1F::Sumw2:0: RuntimeWarning: Sum of squares of weights structure already created\n"
       ]
      }
     ],
     "prompt_number": 50
    },
    {
     "cell_type": "code",
     "collapsed": false,
     "input": [
      "a=DataHistos[0].GetXaxis()\n",
      "a."
     ],
     "language": "python",
     "metadata": {},
     "outputs": [],
     "prompt_number": 12
    },
    {
     "cell_type": "code",
     "collapsed": false,
     "input": [
      "l=\"(30,0.5,7)\""
     ],
     "language": "python",
     "metadata": {},
     "outputs": [],
     "prompt_number": 22
    },
    {
     "cell_type": "code",
     "collapsed": false,
     "input": [
      "l.split(\",\")[0][1:]\n",
      "l.split(\",\")[-1][0:-1]\n",
      "float('7')\n"
     ],
     "language": "python",
     "metadata": {},
     "outputs": [
      {
       "metadata": {},
       "output_type": "pyout",
       "prompt_number": 28,
       "text": [
        "7.0"
       ]
      }
     ],
     "prompt_number": 28
    },
    {
     "cell_type": "code",
     "collapsed": false,
     "input": [
      "print \"{0:.2f} \".format(0.93456)+\"poor\""
     ],
     "language": "python",
     "metadata": {},
     "outputs": [
      {
       "output_type": "stream",
       "stream": "stdout",
       "text": [
        "0.93 poor\n"
       ]
      }
     ],
     "prompt_number": 31
    },
    {
     "cell_type": "code",
     "collapsed": false,
     "input": [],
     "language": "python",
     "metadata": {},
     "outputs": []
    }
   ],
   "metadata": {}
  }
 ]
}